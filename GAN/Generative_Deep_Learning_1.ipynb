{
  "nbformat": 4,
  "nbformat_minor": 0,
  "metadata": {
    "colab": {
      "name": "Generative_Deep_Learning_1.ipynb",
      "provenance": [],
      "include_colab_link": true
    },
    "kernelspec": {
      "name": "python3",
      "display_name": "Python 3"
    }
  },
  "cells": [
    {
      "cell_type": "markdown",
      "metadata": {
        "id": "view-in-github",
        "colab_type": "text"
      },
      "source": [
        "<a href=\"https://colab.research.google.com/github/praveentn/hgwxx7/blob/master/GAN/Generative_Deep_Learning_1.ipynb\" target=\"_parent\"><img src=\"https://colab.research.google.com/assets/colab-badge.svg\" alt=\"Open In Colab\"/></a>"
      ]
    },
    {
      "cell_type": "markdown",
      "metadata": {
        "id": "VsEX53Ew-bTw",
        "colab_type": "text"
      },
      "source": [
        "# Generative Deep Learning | Generative Adversarial Networks \n"
      ]
    },
    {
      "cell_type": "code",
      "metadata": {
        "id": "UX61tGSZ-xAg",
        "colab_type": "code",
        "colab": {
          "base_uri": "https://localhost:8080/",
          "height": 170
        },
        "outputId": "9d9d50f6-5a7d-4d27-bec4-fce3a6097a0f"
      },
      "source": [
        "# Clone the entire repo.\n",
        "!git clone -l -s git://github.com/davidADSP/GDL_code.git\n",
        "!ls"
      ],
      "execution_count": 1,
      "outputs": [
        {
          "output_type": "stream",
          "text": [
            "Cloning into 'GDL_code'...\n",
            "warning: --local is ignored\n",
            "remote: Enumerating objects: 73, done.\u001b[K\n",
            "remote: Counting objects:   1% (1/73)\u001b[K\rremote: Counting objects:   2% (2/73)\u001b[K\rremote: Counting objects:   4% (3/73)\u001b[K\rremote: Counting objects:   5% (4/73)\u001b[K\rremote: Counting objects:   6% (5/73)\u001b[K\rremote: Counting objects:   8% (6/73)\u001b[K\rremote: Counting objects:   9% (7/73)\u001b[K\rremote: Counting objects:  10% (8/73)\u001b[K\rremote: Counting objects:  12% (9/73)\u001b[K\rremote: Counting objects:  13% (10/73)\u001b[K\rremote: Counting objects:  15% (11/73)\u001b[K\rremote: Counting objects:  16% (12/73)\u001b[K\rremote: Counting objects:  17% (13/73)\u001b[K\rremote: Counting objects:  19% (14/73)\u001b[K\rremote: Counting objects:  20% (15/73)\u001b[K\rremote: Counting objects:  21% (16/73)\u001b[K\rremote: Counting objects:  23% (17/73)\u001b[K\rremote: Counting objects:  24% (18/73)\u001b[K\rremote: Counting objects:  26% (19/73)\u001b[K\rremote: Counting objects:  27% (20/73)\u001b[K\rremote: Counting objects:  28% (21/73)\u001b[K\rremote: Counting objects:  30% (22/73)\u001b[K\rremote: Counting objects:  31% (23/73)\u001b[K\rremote: Counting objects:  32% (24/73)\u001b[K\rremote: Counting objects:  34% (25/73)\u001b[K\rremote: Counting objects:  35% (26/73)\u001b[K\rremote: Counting objects:  36% (27/73)\u001b[K\rremote: Counting objects:  38% (28/73)\u001b[K\rremote: Counting objects:  39% (29/73)\u001b[K\rremote: Counting objects:  41% (30/73)\u001b[K\rremote: Counting objects:  42% (31/73)\u001b[K\rremote: Counting objects:  43% (32/73)\u001b[K\rremote: Counting objects:  45% (33/73)\u001b[K\rremote: Counting objects:  46% (34/73)\u001b[K\rremote: Counting objects:  47% (35/73)\u001b[K\rremote: Counting objects:  49% (36/73)\u001b[K\rremote: Counting objects:  50% (37/73)\u001b[K\rremote: Counting objects:  52% (38/73)\u001b[K\rremote: Counting objects:  53% (39/73)\u001b[K\rremote: Counting objects:  54% (40/73)\u001b[K\rremote: Counting objects:  56% (41/73)\u001b[K\rremote: Counting objects:  57% (42/73)\u001b[K\rremote: Counting objects:  58% (43/73)\u001b[K\rremote: Counting objects:  60% (44/73)\u001b[K\rremote: Counting objects:  61% (45/73)\u001b[K\rremote: Counting objects:  63% (46/73)\u001b[K\rremote: Counting objects:  64% (47/73)\u001b[K\rremote: Counting objects:  65% (48/73)\u001b[K\rremote: Counting objects:  67% (49/73)\u001b[K\rremote: Counting objects:  68% (50/73)\u001b[K\rremote: Counting objects:  69% (51/73)\u001b[K\rremote: Counting objects:  71% (52/73)\u001b[K\rremote: Counting objects:  72% (53/73)\u001b[K\rremote: Counting objects:  73% (54/73)\u001b[K\rremote: Counting objects:  75% (55/73)\u001b[K\rremote: Counting objects:  76% (56/73)\u001b[K\rremote: Counting objects:  78% (57/73)\u001b[K\rremote: Counting objects:  79% (58/73)\u001b[K\rremote: Counting objects:  80% (59/73)\u001b[K\rremote: Counting objects:  82% (60/73)\u001b[K\rremote: Counting objects:  83% (61/73)\u001b[K\rremote: Counting objects:  84% (62/73)\u001b[K\rremote: Counting objects:  86% (63/73)\u001b[K\rremote: Counting objects:  87% (64/73)\u001b[K\rremote: Counting objects:  89% (65/73)\u001b[K\rremote: Counting objects:  90% (66/73)\u001b[K\rremote: Counting objects:  91% (67/73)\u001b[K\rremote: Counting objects:  93% (68/73)\u001b[K\rremote: Counting objects:  94% (69/73)\u001b[K\rremote: Counting objects:  95% (70/73)\u001b[K\rremote: Counting objects:  97% (71/73)\u001b[K\rremote: Counting objects:  98% (72/73)\u001b[K\rremote: Counting objects: 100% (73/73)\u001b[K\rremote: Counting objects: 100% (73/73), done.\u001b[K\n",
            "remote: Compressing objects: 100% (52/52), done.\u001b[K\n",
            "remote: Total 318 (delta 39), reused 40 (delta 20), pack-reused 245\u001b[K\n",
            "Receiving objects: 100% (318/318), 22.48 MiB | 17.78 MiB/s, done.\n",
            "Resolving deltas: 100% (164/164), done.\n",
            "GDL_code  sample_data\n"
          ],
          "name": "stdout"
        }
      ]
    },
    {
      "cell_type": "code",
      "metadata": {
        "id": "8KeseiA1-9u4",
        "colab_type": "code",
        "colab": {
          "base_uri": "https://localhost:8080/",
          "height": 34
        },
        "outputId": "ee11088a-9e81-4fb5-905d-43083606df81"
      },
      "source": [
        "!pwd"
      ],
      "execution_count": 2,
      "outputs": [
        {
          "output_type": "stream",
          "text": [
            "/content\n"
          ],
          "name": "stdout"
        }
      ]
    },
    {
      "cell_type": "code",
      "metadata": {
        "id": "Uxro2FQm_D6N",
        "colab_type": "code",
        "colab": {
          "base_uri": "https://localhost:8080/",
          "height": 34
        },
        "outputId": "76e102cf-c206-409b-f520-cbf3764fec98"
      },
      "source": [
        "%cd GDL_code"
      ],
      "execution_count": 6,
      "outputs": [
        {
          "output_type": "stream",
          "text": [
            "/content/GDL_code\n"
          ],
          "name": "stdout"
        }
      ]
    },
    {
      "cell_type": "code",
      "metadata": {
        "id": "StlU6VVM_JVj",
        "colab_type": "code",
        "colab": {
          "base_uri": "https://localhost:8080/",
          "height": 306
        },
        "outputId": "3e548707-b7b8-49a3-abeb-1e3ad8bc0111"
      },
      "source": [
        "!ls"
      ],
      "execution_count": 7,
      "outputs": [
        {
          "output_type": "stream",
          "text": [
            "02_01_deep_learning_deep_neural_network.ipynb  07_02_lstm_compose_train.ipynb\n",
            "02_02_deep_learning_convolutions.ipynb\t       07_03_lstm_compose_predict.ipynb\n",
            "02_03_deep_learning_conv_neural_network.ipynb  07_04_musegan_train.ipynb\n",
            "03_01_autoencoder_train.ipynb\t\t       07_05_musegan_analysis.ipynb\n",
            "03_02_autoencoder_analysis.ipynb\t       09_01_positional_encoding.ipynb\n",
            "03_03_vae_digits_train.ipynb\t\t       data\n",
            "03_04_vae_digits_analysis.ipynb\t\t       Dockerfile.cpu\n",
            "03_05_vae_faces_train.ipynb\t\t       Dockerfile.gpu\n",
            "03_06_vae_faces_analysis.ipynb\t\t       launch-docker-cpu.sh\n",
            "04_01_gan_camel_train.ipynb\t\t       launch-docker-gpu.sh\n",
            "04_02_wgan_cifar_train.ipynb\t\t       LICENSE\n",
            "04_03_wgangp_faces_train.ipynb\t\t       models\n",
            "05_01_cyclegan_train.ipynb\t\t       README.md\n",
            "06_01_lstm_text_train.ipynb\t\t       requirements.txt\n",
            "06_02_qa_train.ipynb\t\t\t       run\n",
            "06_03_qa_analysis.ipynb\t\t\t       scripts\n",
            "07_01_notation_compose.ipynb\t\t       utils\n"
          ],
          "name": "stdout"
        }
      ]
    },
    {
      "cell_type": "code",
      "metadata": {
        "id": "6hZm4EVX_LlG",
        "colab_type": "code",
        "colab": {
          "base_uri": "https://localhost:8080/",
          "height": 34
        },
        "outputId": "49628178-7abf-4c9e-9357-8b7fa4fe2ea2"
      },
      "source": [
        "%cd /content"
      ],
      "execution_count": 8,
      "outputs": [
        {
          "output_type": "stream",
          "text": [
            "/content\n"
          ],
          "name": "stdout"
        }
      ]
    },
    {
      "cell_type": "code",
      "metadata": {
        "id": "U5S_ouBv_Qik",
        "colab_type": "code",
        "colab": {}
      },
      "source": [
        ""
      ],
      "execution_count": 0,
      "outputs": []
    }
  ]
}