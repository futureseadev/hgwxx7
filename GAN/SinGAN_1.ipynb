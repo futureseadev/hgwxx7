{
  "nbformat": 4,
  "nbformat_minor": 0,
  "metadata": {
    "colab": {
      "name": "SinGAN_1.ipynb",
      "provenance": [],
      "include_colab_link": true
    },
    "kernelspec": {
      "name": "python3",
      "display_name": "Python 3"
    },
    "accelerator": "GPU"
  },
  "cells": [
    {
      "cell_type": "markdown",
      "metadata": {
        "id": "view-in-github",
        "colab_type": "text"
      },
      "source": [
        "<a href=\"https://colab.research.google.com/github/praveentn/hgwxx7/blob/master/GAN/SinGAN_1.ipynb\" target=\"_parent\"><img src=\"https://colab.research.google.com/assets/colab-badge.svg\" alt=\"Open In Colab\"/></a>"
      ]
    },
    {
      "cell_type": "code",
      "metadata": {
        "id": "5RuoUH_RLbW1",
        "colab_type": "code",
        "colab": {}
      },
      "source": [
        "#SinGAN"
      ],
      "execution_count": 0,
      "outputs": []
    },
    {
      "cell_type": "code",
      "metadata": {
        "id": "4Cb_sjAWLfcZ",
        "colab_type": "code",
        "colab": {
          "base_uri": "https://localhost:8080/",
          "height": 187
        },
        "outputId": "f8eefe04-830c-4f8b-ec70-57f3b5eac3d6"
      },
      "source": [
        "# Clone the entire repo.\n",
        "#!git clone -l -s git://github.com/jakevdp/PythonDataScienceHandbook.git cloned-repo\n",
        "!git clone -l -s git://github.com/tamarott/SinGAN.git\n",
        "%cd SinGAN\n",
        "!ls"
      ],
      "execution_count": 1,
      "outputs": [
        {
          "output_type": "stream",
          "text": [
            "Cloning into 'SinGAN'...\n",
            "warning: --local is ignored\n",
            "remote: Enumerating objects: 620, done.\u001b[K\n",
            "remote: Total 620 (delta 0), reused 0 (delta 0), pack-reused 620\n",
            "Receiving objects: 100% (620/620), 74.19 MiB | 12.90 MiB/s, done.\n",
            "Resolving deltas: 100% (200/200), done.\n",
            "/content/SinGAN\n",
            "animation.py  editing.py\tInput\t\trandom_samples.py  SR.py\n",
            "config.py     harmonization.py\tmain_train.py\tREADME.md\n",
            "Downloads     imgs\t\tpaint2image.py\tSinGAN\n"
          ],
          "name": "stdout"
        }
      ]
    },
    {
      "cell_type": "code",
      "metadata": {
        "id": "7-UCv7rYL069",
        "colab_type": "code",
        "colab": {}
      },
      "source": [
        ""
      ],
      "execution_count": 0,
      "outputs": []
    }
  ]
}