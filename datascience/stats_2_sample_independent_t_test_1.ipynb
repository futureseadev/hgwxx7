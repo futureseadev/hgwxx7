{
 "cells": [
  {
   "cell_type": "markdown",
   "metadata": {},
   "source": [
    "PROBLEM\n",
    "\n",
    "We've an input file (Student_marks.csv) with the marks of students for Maths. <br/>\n",
    "Formulate a hypothesis and test it to see if there's significant difference <br/>\n",
    "between the marks of boys and girls."
   ]
  },
  {
   "cell_type": "markdown",
   "metadata": {},
   "source": [
    "# Hypothesis Testing"
   ]
  },
  {
   "cell_type": "markdown",
   "metadata": {},
   "source": [
    "Null Hypothesis (µo) <br/>\n",
    "µboys = µgirls <br/>\n",
    "i.e. there's no significant difference between the marks of boys and girls"
   ]
  },
  {
   "cell_type": "markdown",
   "metadata": {},
   "source": [
    "Alternate Hypothesis (µa) <br/>\n",
    "µboys != µgirls <br/>\n",
    "i.e. there's significant difference between the marks of boys and girls"
   ]
  },
  {
   "cell_type": "code",
   "execution_count": 1,
   "metadata": {},
   "outputs": [],
   "source": [
    "import os\n",
    "import pandas as pd\n",
    "import scipy.stats as st\n",
    "import matplotlib.pyplot as plt"
   ]
  },
  {
   "cell_type": "code",
   "execution_count": 2,
   "metadata": {},
   "outputs": [],
   "source": [
    "%matplotlib inline"
   ]
  },
  {
   "cell_type": "code",
   "execution_count": 3,
   "metadata": {},
   "outputs": [
    {
     "data": {
      "text/plain": [
       "'C:\\\\Users\\\\praveen\\\\DS_Notebooks\\\\hgwxx7'"
      ]
     },
     "execution_count": 3,
     "metadata": {},
     "output_type": "execute_result"
    }
   ],
   "source": [
    "# Check the current working directory and set it appropriately.\n",
    "# cwd should point to the location where the input csv file resides.\n",
    "\n",
    "os.getcwd()"
   ]
  },
  {
   "cell_type": "code",
   "execution_count": 4,
   "metadata": {},
   "outputs": [],
   "source": [
    "# alternate way to list files in a directory"
   ]
  },
  {
   "cell_type": "code",
   "execution_count": 5,
   "metadata": {},
   "outputs": [],
   "source": [
    "import glob"
   ]
  },
  {
   "cell_type": "code",
   "execution_count": 6,
   "metadata": {},
   "outputs": [
    {
     "data": {
      "text/plain": [
       "['.\\\\NY_house.csv', '.\\\\NY_house_.csv', '.\\\\Student_marks.csv']"
      ]
     },
     "execution_count": 6,
     "metadata": {},
     "output_type": "execute_result"
    }
   ],
   "source": [
    "glob.glob('./*.csv')"
   ]
  },
  {
   "cell_type": "code",
   "execution_count": 7,
   "metadata": {},
   "outputs": [],
   "source": [
    "# Alternately you can specify the full path to the file.\n",
    "# Here, I'm giving only the filename.\n",
    "data = pd.read_csv(\"Student_marks.csv\")"
   ]
  },
  {
   "cell_type": "code",
   "execution_count": 8,
   "metadata": {},
   "outputs": [
    {
     "data": {
      "text/plain": [
       "Index(['ID', 'Gender', 'Race', 'SEB', 'School', 'Prog', 'Read', 'Write',\n",
       "       'Math1', 'Math2', 'SST'],\n",
       "      dtype='object')"
      ]
     },
     "execution_count": 8,
     "metadata": {},
     "output_type": "execute_result"
    }
   ],
   "source": [
    "data.columns"
   ]
  },
  {
   "cell_type": "code",
   "execution_count": 9,
   "metadata": {},
   "outputs": [
    {
     "data": {
      "text/html": [
       "<div>\n",
       "<style scoped>\n",
       "    .dataframe tbody tr th:only-of-type {\n",
       "        vertical-align: middle;\n",
       "    }\n",
       "\n",
       "    .dataframe tbody tr th {\n",
       "        vertical-align: top;\n",
       "    }\n",
       "\n",
       "    .dataframe thead th {\n",
       "        text-align: right;\n",
       "    }\n",
       "</style>\n",
       "<table border=\"1\" class=\"dataframe\">\n",
       "  <thead>\n",
       "    <tr style=\"text-align: right;\">\n",
       "      <th></th>\n",
       "      <th>ID</th>\n",
       "      <th>Gender</th>\n",
       "      <th>Race</th>\n",
       "      <th>SEB</th>\n",
       "      <th>School</th>\n",
       "      <th>Prog</th>\n",
       "      <th>Read</th>\n",
       "      <th>Write</th>\n",
       "      <th>Math1</th>\n",
       "      <th>Math2</th>\n",
       "      <th>SST</th>\n",
       "    </tr>\n",
       "  </thead>\n",
       "  <tbody>\n",
       "    <tr>\n",
       "      <th>count</th>\n",
       "      <td>200.000000</td>\n",
       "      <td>200.00000</td>\n",
       "      <td>200.000000</td>\n",
       "      <td>200.000000</td>\n",
       "      <td>200.000000</td>\n",
       "      <td>200.000000</td>\n",
       "      <td>200.000000</td>\n",
       "      <td>200.000000</td>\n",
       "      <td>200.000000</td>\n",
       "      <td>200.000000</td>\n",
       "      <td>200.000000</td>\n",
       "    </tr>\n",
       "    <tr>\n",
       "      <th>mean</th>\n",
       "      <td>100.500000</td>\n",
       "      <td>0.54500</td>\n",
       "      <td>3.430000</td>\n",
       "      <td>2.055000</td>\n",
       "      <td>1.160000</td>\n",
       "      <td>2.025000</td>\n",
       "      <td>52.230000</td>\n",
       "      <td>52.775000</td>\n",
       "      <td>52.645000</td>\n",
       "      <td>51.850000</td>\n",
       "      <td>52.405000</td>\n",
       "    </tr>\n",
       "    <tr>\n",
       "      <th>std</th>\n",
       "      <td>57.879185</td>\n",
       "      <td>0.49922</td>\n",
       "      <td>1.039472</td>\n",
       "      <td>0.724291</td>\n",
       "      <td>0.367526</td>\n",
       "      <td>0.690477</td>\n",
       "      <td>10.252937</td>\n",
       "      <td>9.478586</td>\n",
       "      <td>9.368448</td>\n",
       "      <td>9.900891</td>\n",
       "      <td>10.735793</td>\n",
       "    </tr>\n",
       "    <tr>\n",
       "      <th>min</th>\n",
       "      <td>1.000000</td>\n",
       "      <td>0.00000</td>\n",
       "      <td>1.000000</td>\n",
       "      <td>1.000000</td>\n",
       "      <td>1.000000</td>\n",
       "      <td>1.000000</td>\n",
       "      <td>28.000000</td>\n",
       "      <td>31.000000</td>\n",
       "      <td>33.000000</td>\n",
       "      <td>26.000000</td>\n",
       "      <td>26.000000</td>\n",
       "    </tr>\n",
       "    <tr>\n",
       "      <th>25%</th>\n",
       "      <td>50.750000</td>\n",
       "      <td>0.00000</td>\n",
       "      <td>3.000000</td>\n",
       "      <td>2.000000</td>\n",
       "      <td>1.000000</td>\n",
       "      <td>2.000000</td>\n",
       "      <td>44.000000</td>\n",
       "      <td>45.750000</td>\n",
       "      <td>45.000000</td>\n",
       "      <td>44.000000</td>\n",
       "      <td>46.000000</td>\n",
       "    </tr>\n",
       "    <tr>\n",
       "      <th>50%</th>\n",
       "      <td>100.500000</td>\n",
       "      <td>1.00000</td>\n",
       "      <td>4.000000</td>\n",
       "      <td>2.000000</td>\n",
       "      <td>1.000000</td>\n",
       "      <td>2.000000</td>\n",
       "      <td>50.000000</td>\n",
       "      <td>54.000000</td>\n",
       "      <td>52.000000</td>\n",
       "      <td>53.000000</td>\n",
       "      <td>52.000000</td>\n",
       "    </tr>\n",
       "    <tr>\n",
       "      <th>75%</th>\n",
       "      <td>150.250000</td>\n",
       "      <td>1.00000</td>\n",
       "      <td>4.000000</td>\n",
       "      <td>3.000000</td>\n",
       "      <td>1.000000</td>\n",
       "      <td>2.250000</td>\n",
       "      <td>60.000000</td>\n",
       "      <td>60.000000</td>\n",
       "      <td>59.000000</td>\n",
       "      <td>58.000000</td>\n",
       "      <td>61.000000</td>\n",
       "    </tr>\n",
       "    <tr>\n",
       "      <th>max</th>\n",
       "      <td>200.000000</td>\n",
       "      <td>1.00000</td>\n",
       "      <td>4.000000</td>\n",
       "      <td>3.000000</td>\n",
       "      <td>2.000000</td>\n",
       "      <td>3.000000</td>\n",
       "      <td>76.000000</td>\n",
       "      <td>67.000000</td>\n",
       "      <td>75.000000</td>\n",
       "      <td>74.000000</td>\n",
       "      <td>71.000000</td>\n",
       "    </tr>\n",
       "  </tbody>\n",
       "</table>\n",
       "</div>"
      ],
      "text/plain": [
       "               ID     Gender        Race         SEB      School        Prog  \\\n",
       "count  200.000000  200.00000  200.000000  200.000000  200.000000  200.000000   \n",
       "mean   100.500000    0.54500    3.430000    2.055000    1.160000    2.025000   \n",
       "std     57.879185    0.49922    1.039472    0.724291    0.367526    0.690477   \n",
       "min      1.000000    0.00000    1.000000    1.000000    1.000000    1.000000   \n",
       "25%     50.750000    0.00000    3.000000    2.000000    1.000000    2.000000   \n",
       "50%    100.500000    1.00000    4.000000    2.000000    1.000000    2.000000   \n",
       "75%    150.250000    1.00000    4.000000    3.000000    1.000000    2.250000   \n",
       "max    200.000000    1.00000    4.000000    3.000000    2.000000    3.000000   \n",
       "\n",
       "             Read       Write       Math1       Math2         SST  \n",
       "count  200.000000  200.000000  200.000000  200.000000  200.000000  \n",
       "mean    52.230000   52.775000   52.645000   51.850000   52.405000  \n",
       "std     10.252937    9.478586    9.368448    9.900891   10.735793  \n",
       "min     28.000000   31.000000   33.000000   26.000000   26.000000  \n",
       "25%     44.000000   45.750000   45.000000   44.000000   46.000000  \n",
       "50%     50.000000   54.000000   52.000000   53.000000   52.000000  \n",
       "75%     60.000000   60.000000   59.000000   58.000000   61.000000  \n",
       "max     76.000000   67.000000   75.000000   74.000000   71.000000  "
      ]
     },
     "execution_count": 9,
     "metadata": {},
     "output_type": "execute_result"
    }
   ],
   "source": [
    "data.describe()"
   ]
  },
  {
   "cell_type": "code",
   "execution_count": 10,
   "metadata": {},
   "outputs": [
    {
     "name": "stdout",
     "output_type": "stream",
     "text": [
      "<class 'pandas.core.frame.DataFrame'>\n",
      "RangeIndex: 200 entries, 0 to 199\n",
      "Data columns (total 11 columns):\n",
      "ID        200 non-null int64\n",
      "Gender    200 non-null int64\n",
      "Race      200 non-null int64\n",
      "SEB       200 non-null int64\n",
      "School    200 non-null int64\n",
      "Prog      200 non-null int64\n",
      "Read      200 non-null int64\n",
      "Write     200 non-null int64\n",
      "Math1     200 non-null int64\n",
      "Math2     200 non-null int64\n",
      "SST       200 non-null int64\n",
      "dtypes: int64(11)\n",
      "memory usage: 17.3 KB\n"
     ]
    }
   ],
   "source": [
    "data.info()"
   ]
  },
  {
   "cell_type": "code",
   "execution_count": 11,
   "metadata": {},
   "outputs": [],
   "source": [
    "# Using the pandas groupby() for grouping the data by gender\n",
    "grouped = data.groupby('Gender')"
   ]
  },
  {
   "cell_type": "code",
   "execution_count": 12,
   "metadata": {},
   "outputs": [
    {
     "data": {
      "text/plain": [
       "<pandas.core.groupby.DataFrameGroupBy object at 0x00000276826B8470>"
      ]
     },
     "execution_count": 12,
     "metadata": {},
     "output_type": "execute_result"
    }
   ],
   "source": [
    "grouped"
   ]
  },
  {
   "cell_type": "code",
   "execution_count": 13,
   "metadata": {},
   "outputs": [],
   "source": [
    "# Segregating boys and girls based on Gender\n",
    "# Value of Gender is 1 for girls and 0 for boys\n",
    "\n",
    "Girls = grouped.get_group(1)\n",
    "Boys = grouped.get_group(0)"
   ]
  },
  {
   "cell_type": "code",
   "execution_count": 14,
   "metadata": {},
   "outputs": [
    {
     "name": "stdout",
     "output_type": "stream",
     "text": [
      "<class 'pandas.core.frame.DataFrame'>\n",
      "Int64Index: 109 entries, 1 to 199\n",
      "Data columns (total 11 columns):\n",
      "ID        109 non-null int64\n",
      "Gender    109 non-null int64\n",
      "Race      109 non-null int64\n",
      "SEB       109 non-null int64\n",
      "School    109 non-null int64\n",
      "Prog      109 non-null int64\n",
      "Read      109 non-null int64\n",
      "Write     109 non-null int64\n",
      "Math1     109 non-null int64\n",
      "Math2     109 non-null int64\n",
      "SST       109 non-null int64\n",
      "dtypes: int64(11)\n",
      "memory usage: 10.2 KB\n"
     ]
    },
    {
     "data": {
      "text/plain": [
       "Index(['ID', 'Gender', 'Race', 'SEB', 'School', 'Prog', 'Read', 'Write',\n",
       "       'Math1', 'Math2', 'SST'],\n",
       "      dtype='object')"
      ]
     },
     "execution_count": 14,
     "metadata": {},
     "output_type": "execute_result"
    }
   ],
   "source": [
    "Girls.info()\n",
    "Girls.columns"
   ]
  },
  {
   "cell_type": "code",
   "execution_count": 15,
   "metadata": {},
   "outputs": [
    {
     "name": "stdout",
     "output_type": "stream",
     "text": [
      "<class 'pandas.core.frame.DataFrame'>\n",
      "Int64Index: 91 entries, 0 to 91\n",
      "Data columns (total 11 columns):\n",
      "ID        91 non-null int64\n",
      "Gender    91 non-null int64\n",
      "Race      91 non-null int64\n",
      "SEB       91 non-null int64\n",
      "School    91 non-null int64\n",
      "Prog      91 non-null int64\n",
      "Read      91 non-null int64\n",
      "Write     91 non-null int64\n",
      "Math1     91 non-null int64\n",
      "Math2     91 non-null int64\n",
      "SST       91 non-null int64\n",
      "dtypes: int64(11)\n",
      "memory usage: 8.5 KB\n"
     ]
    },
    {
     "data": {
      "text/plain": [
       "Index(['ID', 'Gender', 'Race', 'SEB', 'School', 'Prog', 'Read', 'Write',\n",
       "       'Math1', 'Math2', 'SST'],\n",
       "      dtype='object')"
      ]
     },
     "execution_count": 15,
     "metadata": {},
     "output_type": "execute_result"
    }
   ],
   "source": [
    "Boys.info()\n",
    "Boys.columns"
   ]
  },
  {
   "cell_type": "markdown",
   "metadata": {},
   "source": [
    "Here, we've two independent samples <br/>\n",
    "Two Sample Independent T-Test <br/> <br/>\n",
    "Note: we don't go for T-test for more than two samples"
   ]
  },
  {
   "cell_type": "code",
   "execution_count": 16,
   "metadata": {},
   "outputs": [
    {
     "data": {
      "text/plain": [
       "Ttest_indResult(statistic=-0.41299864929688507, pvalue=0.6800544974232143)"
      ]
     },
     "execution_count": 16,
     "metadata": {},
     "output_type": "execute_result"
    }
   ],
   "source": [
    "st.ttest_ind(Girls.Math1, Boys.Math1)"
   ]
  },
  {
   "cell_type": "markdown",
   "metadata": {},
   "source": [
    "P-value gives an idea about the risk associated with the decision of going with null hypothesis <br/>\n",
    "\n",
    "i.e. if p-value is less than alpha (5%) then we reject the null hypothesis <br/>\n",
    "\n",
    "Here, we have p-value of 68%. We can reject the alternate hypothesis."
   ]
  },
  {
   "cell_type": "markdown",
   "metadata": {},
   "source": [
    "# CONCLUSION\n",
    "\n",
    "\n",
    "There's no significant difference between the marks of boys and girls."
   ]
  },
  {
   "cell_type": "code",
   "execution_count": null,
   "metadata": {},
   "outputs": [],
   "source": []
  }
 ],
 "metadata": {
  "kernelspec": {
   "display_name": "Python 3",
   "language": "python",
   "name": "python3"
  },
  "language_info": {
   "codemirror_mode": {
    "name": "ipython",
    "version": 3
   },
   "file_extension": ".py",
   "mimetype": "text/x-python",
   "name": "python",
   "nbconvert_exporter": "python",
   "pygments_lexer": "ipython3",
   "version": "3.6.4"
  }
 },
 "nbformat": 4,
 "nbformat_minor": 2
}
