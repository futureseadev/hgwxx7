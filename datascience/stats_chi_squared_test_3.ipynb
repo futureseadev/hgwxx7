{
 "cells": [
  {
   "cell_type": "code",
   "execution_count": 1,
   "metadata": {},
   "outputs": [
    {
     "name": "stderr",
     "output_type": "stream",
     "text": [
      "E:\\Python\\Anaconda\\lib\\site-packages\\statsmodels\\compat\\pandas.py:56: FutureWarning: The pandas.core.datetools module is deprecated and will be removed in a future version. Please use the pandas.tseries module instead.\n",
      "  from pandas.core import datetools\n"
     ]
    }
   ],
   "source": [
    "import numpy as np\n",
    "import pandas as pd\n",
    "import statsmodels.api as sm\n",
    "from scipy.stats import chi2_contingency\n",
    "from scipy.stats import chi2"
   ]
  },
  {
   "cell_type": "code",
   "execution_count": 2,
   "metadata": {},
   "outputs": [],
   "source": [
    "df = sm.datasets.get_rdataset('epil', package='MASS').data"
   ]
  },
  {
   "cell_type": "code",
   "execution_count": 3,
   "metadata": {},
   "outputs": [
    {
     "data": {
      "text/plain": [
       "pandas.core.frame.DataFrame"
      ]
     },
     "execution_count": 3,
     "metadata": {},
     "output_type": "execute_result"
    }
   ],
   "source": [
    "type(df)"
   ]
  },
  {
   "cell_type": "code",
   "execution_count": 4,
   "metadata": {},
   "outputs": [
    {
     "data": {
      "text/html": [
       "<div>\n",
       "<style scoped>\n",
       "    .dataframe tbody tr th:only-of-type {\n",
       "        vertical-align: middle;\n",
       "    }\n",
       "\n",
       "    .dataframe tbody tr th {\n",
       "        vertical-align: top;\n",
       "    }\n",
       "\n",
       "    .dataframe thead th {\n",
       "        text-align: right;\n",
       "    }\n",
       "</style>\n",
       "<table border=\"1\" class=\"dataframe\">\n",
       "  <thead>\n",
       "    <tr style=\"text-align: right;\">\n",
       "      <th></th>\n",
       "      <th>y</th>\n",
       "      <th>trt</th>\n",
       "      <th>base</th>\n",
       "      <th>age</th>\n",
       "      <th>V4</th>\n",
       "      <th>subject</th>\n",
       "      <th>period</th>\n",
       "      <th>lbase</th>\n",
       "      <th>lage</th>\n",
       "    </tr>\n",
       "  </thead>\n",
       "  <tbody>\n",
       "    <tr>\n",
       "      <th>0</th>\n",
       "      <td>5</td>\n",
       "      <td>placebo</td>\n",
       "      <td>11</td>\n",
       "      <td>31</td>\n",
       "      <td>0</td>\n",
       "      <td>1</td>\n",
       "      <td>1</td>\n",
       "      <td>-0.756354</td>\n",
       "      <td>0.114204</td>\n",
       "    </tr>\n",
       "    <tr>\n",
       "      <th>1</th>\n",
       "      <td>3</td>\n",
       "      <td>placebo</td>\n",
       "      <td>11</td>\n",
       "      <td>31</td>\n",
       "      <td>0</td>\n",
       "      <td>1</td>\n",
       "      <td>2</td>\n",
       "      <td>-0.756354</td>\n",
       "      <td>0.114204</td>\n",
       "    </tr>\n",
       "    <tr>\n",
       "      <th>2</th>\n",
       "      <td>3</td>\n",
       "      <td>placebo</td>\n",
       "      <td>11</td>\n",
       "      <td>31</td>\n",
       "      <td>0</td>\n",
       "      <td>1</td>\n",
       "      <td>3</td>\n",
       "      <td>-0.756354</td>\n",
       "      <td>0.114204</td>\n",
       "    </tr>\n",
       "    <tr>\n",
       "      <th>3</th>\n",
       "      <td>3</td>\n",
       "      <td>placebo</td>\n",
       "      <td>11</td>\n",
       "      <td>31</td>\n",
       "      <td>1</td>\n",
       "      <td>1</td>\n",
       "      <td>4</td>\n",
       "      <td>-0.756354</td>\n",
       "      <td>0.114204</td>\n",
       "    </tr>\n",
       "    <tr>\n",
       "      <th>4</th>\n",
       "      <td>3</td>\n",
       "      <td>placebo</td>\n",
       "      <td>11</td>\n",
       "      <td>30</td>\n",
       "      <td>0</td>\n",
       "      <td>2</td>\n",
       "      <td>1</td>\n",
       "      <td>-0.756354</td>\n",
       "      <td>0.081414</td>\n",
       "    </tr>\n",
       "  </tbody>\n",
       "</table>\n",
       "</div>"
      ],
      "text/plain": [
       "   y      trt  base  age  V4  subject  period     lbase      lage\n",
       "0  5  placebo    11   31   0        1       1 -0.756354  0.114204\n",
       "1  3  placebo    11   31   0        1       2 -0.756354  0.114204\n",
       "2  3  placebo    11   31   0        1       3 -0.756354  0.114204\n",
       "3  3  placebo    11   31   1        1       4 -0.756354  0.114204\n",
       "4  3  placebo    11   30   0        2       1 -0.756354  0.081414"
      ]
     },
     "execution_count": 4,
     "metadata": {},
     "output_type": "execute_result"
    }
   ],
   "source": [
    "df.head()"
   ]
  },
  {
   "cell_type": "code",
   "execution_count": 5,
   "metadata": {},
   "outputs": [
    {
     "data": {
      "text/plain": [
       "Index(['y', 'trt', 'base', 'age', 'V4', 'subject', 'period', 'lbase', 'lage'], dtype='object')"
      ]
     },
     "execution_count": 5,
     "metadata": {},
     "output_type": "execute_result"
    }
   ],
   "source": [
    "df.columns"
   ]
  },
  {
   "cell_type": "code",
   "execution_count": 6,
   "metadata": {},
   "outputs": [
    {
     "data": {
      "text/html": [
       "<div>\n",
       "<style scoped>\n",
       "    .dataframe tbody tr th:only-of-type {\n",
       "        vertical-align: middle;\n",
       "    }\n",
       "\n",
       "    .dataframe tbody tr th {\n",
       "        vertical-align: top;\n",
       "    }\n",
       "\n",
       "    .dataframe thead th {\n",
       "        text-align: right;\n",
       "    }\n",
       "</style>\n",
       "<table border=\"1\" class=\"dataframe\">\n",
       "  <thead>\n",
       "    <tr style=\"text-align: right;\">\n",
       "      <th></th>\n",
       "      <th>y</th>\n",
       "      <th>base</th>\n",
       "      <th>age</th>\n",
       "      <th>V4</th>\n",
       "      <th>subject</th>\n",
       "      <th>period</th>\n",
       "      <th>lbase</th>\n",
       "      <th>lage</th>\n",
       "    </tr>\n",
       "  </thead>\n",
       "  <tbody>\n",
       "    <tr>\n",
       "      <th>count</th>\n",
       "      <td>236.000000</td>\n",
       "      <td>236.000000</td>\n",
       "      <td>236.000000</td>\n",
       "      <td>236.000000</td>\n",
       "      <td>236.000000</td>\n",
       "      <td>236.00000</td>\n",
       "      <td>2.360000e+02</td>\n",
       "      <td>2.360000e+02</td>\n",
       "    </tr>\n",
       "    <tr>\n",
       "      <th>mean</th>\n",
       "      <td>8.254237</td>\n",
       "      <td>31.220339</td>\n",
       "      <td>28.338983</td>\n",
       "      <td>0.250000</td>\n",
       "      <td>30.000000</td>\n",
       "      <td>2.50000</td>\n",
       "      <td>4.704335e-18</td>\n",
       "      <td>1.039658e-16</td>\n",
       "    </tr>\n",
       "    <tr>\n",
       "      <th>std</th>\n",
       "      <td>12.346891</td>\n",
       "      <td>26.705051</td>\n",
       "      <td>6.261290</td>\n",
       "      <td>0.433933</td>\n",
       "      <td>17.065581</td>\n",
       "      <td>1.12041</td>\n",
       "      <td>7.461263e-01</td>\n",
       "      <td>2.224570e-01</td>\n",
       "    </tr>\n",
       "    <tr>\n",
       "      <th>min</th>\n",
       "      <td>0.000000</td>\n",
       "      <td>6.000000</td>\n",
       "      <td>18.000000</td>\n",
       "      <td>0.000000</td>\n",
       "      <td>1.000000</td>\n",
       "      <td>1.00000</td>\n",
       "      <td>-1.362490e+00</td>\n",
       "      <td>-4.294118e-01</td>\n",
       "    </tr>\n",
       "    <tr>\n",
       "      <th>25%</th>\n",
       "      <td>2.750000</td>\n",
       "      <td>12.000000</td>\n",
       "      <td>23.000000</td>\n",
       "      <td>0.000000</td>\n",
       "      <td>15.000000</td>\n",
       "      <td>1.75000</td>\n",
       "      <td>-6.693424e-01</td>\n",
       "      <td>-1.842893e-01</td>\n",
       "    </tr>\n",
       "    <tr>\n",
       "      <th>50%</th>\n",
       "      <td>4.000000</td>\n",
       "      <td>22.000000</td>\n",
       "      <td>28.000000</td>\n",
       "      <td>0.000000</td>\n",
       "      <td>30.000000</td>\n",
       "      <td>2.50000</td>\n",
       "      <td>-6.320661e-02</td>\n",
       "      <td>1.242100e-02</td>\n",
       "    </tr>\n",
       "    <tr>\n",
       "      <th>75%</th>\n",
       "      <td>9.000000</td>\n",
       "      <td>41.000000</td>\n",
       "      <td>32.000000</td>\n",
       "      <td>0.250000</td>\n",
       "      <td>45.000000</td>\n",
       "      <td>3.25000</td>\n",
       "      <td>5.593230e-01</td>\n",
       "      <td>1.459524e-01</td>\n",
       "    </tr>\n",
       "    <tr>\n",
       "      <th>max</th>\n",
       "      <td>102.000000</td>\n",
       "      <td>151.000000</td>\n",
       "      <td>42.000000</td>\n",
       "      <td>1.000000</td>\n",
       "      <td>59.000000</td>\n",
       "      <td>4.00000</td>\n",
       "      <td>1.863031e+00</td>\n",
       "      <td>4.178861e-01</td>\n",
       "    </tr>\n",
       "  </tbody>\n",
       "</table>\n",
       "</div>"
      ],
      "text/plain": [
       "                y        base         age          V4     subject     period  \\\n",
       "count  236.000000  236.000000  236.000000  236.000000  236.000000  236.00000   \n",
       "mean     8.254237   31.220339   28.338983    0.250000   30.000000    2.50000   \n",
       "std     12.346891   26.705051    6.261290    0.433933   17.065581    1.12041   \n",
       "min      0.000000    6.000000   18.000000    0.000000    1.000000    1.00000   \n",
       "25%      2.750000   12.000000   23.000000    0.000000   15.000000    1.75000   \n",
       "50%      4.000000   22.000000   28.000000    0.000000   30.000000    2.50000   \n",
       "75%      9.000000   41.000000   32.000000    0.250000   45.000000    3.25000   \n",
       "max    102.000000  151.000000   42.000000    1.000000   59.000000    4.00000   \n",
       "\n",
       "              lbase          lage  \n",
       "count  2.360000e+02  2.360000e+02  \n",
       "mean   4.704335e-18  1.039658e-16  \n",
       "std    7.461263e-01  2.224570e-01  \n",
       "min   -1.362490e+00 -4.294118e-01  \n",
       "25%   -6.693424e-01 -1.842893e-01  \n",
       "50%   -6.320661e-02  1.242100e-02  \n",
       "75%    5.593230e-01  1.459524e-01  \n",
       "max    1.863031e+00  4.178861e-01  "
      ]
     },
     "execution_count": 6,
     "metadata": {},
     "output_type": "execute_result"
    }
   ],
   "source": [
    "df.describe()"
   ]
  },
  {
   "cell_type": "code",
   "execution_count": 7,
   "metadata": {},
   "outputs": [],
   "source": [
    "# DROPPING COLUMNS BY INDEX!\n",
    "# cols = [0,3,4,5,6,7,8,9,10,11,12,13,14,15,16,17,18,19,20,21,22]\n",
    "# df.drop(df.columns[cols],axis=1,inplace=True)"
   ]
  },
  {
   "cell_type": "code",
   "execution_count": 8,
   "metadata": {},
   "outputs": [],
   "source": [
    "tab1 = pd.crosstab(df['trt'], df['V4'])"
   ]
  },
  {
   "cell_type": "code",
   "execution_count": 9,
   "metadata": {},
   "outputs": [
    {
     "data": {
      "text/html": [
       "<div>\n",
       "<style scoped>\n",
       "    .dataframe tbody tr th:only-of-type {\n",
       "        vertical-align: middle;\n",
       "    }\n",
       "\n",
       "    .dataframe tbody tr th {\n",
       "        vertical-align: top;\n",
       "    }\n",
       "\n",
       "    .dataframe thead th {\n",
       "        text-align: right;\n",
       "    }\n",
       "</style>\n",
       "<table border=\"1\" class=\"dataframe\">\n",
       "  <thead>\n",
       "    <tr style=\"text-align: right;\">\n",
       "      <th>V4</th>\n",
       "      <th>0</th>\n",
       "      <th>1</th>\n",
       "    </tr>\n",
       "    <tr>\n",
       "      <th>trt</th>\n",
       "      <th></th>\n",
       "      <th></th>\n",
       "    </tr>\n",
       "  </thead>\n",
       "  <tbody>\n",
       "    <tr>\n",
       "      <th>placebo</th>\n",
       "      <td>84</td>\n",
       "      <td>28</td>\n",
       "    </tr>\n",
       "    <tr>\n",
       "      <th>progabide</th>\n",
       "      <td>93</td>\n",
       "      <td>31</td>\n",
       "    </tr>\n",
       "  </tbody>\n",
       "</table>\n",
       "</div>"
      ],
      "text/plain": [
       "V4          0   1\n",
       "trt              \n",
       "placebo    84  28\n",
       "progabide  93  31"
      ]
     },
     "execution_count": 9,
     "metadata": {},
     "output_type": "execute_result"
    }
   ],
   "source": [
    "tab1"
   ]
  },
  {
   "cell_type": "code",
   "execution_count": 10,
   "metadata": {},
   "outputs": [],
   "source": [
    "tab2 = pd.crosstab(df['trt'], df['period'])"
   ]
  },
  {
   "cell_type": "code",
   "execution_count": 11,
   "metadata": {},
   "outputs": [
    {
     "data": {
      "text/html": [
       "<div>\n",
       "<style scoped>\n",
       "    .dataframe tbody tr th:only-of-type {\n",
       "        vertical-align: middle;\n",
       "    }\n",
       "\n",
       "    .dataframe tbody tr th {\n",
       "        vertical-align: top;\n",
       "    }\n",
       "\n",
       "    .dataframe thead th {\n",
       "        text-align: right;\n",
       "    }\n",
       "</style>\n",
       "<table border=\"1\" class=\"dataframe\">\n",
       "  <thead>\n",
       "    <tr style=\"text-align: right;\">\n",
       "      <th>period</th>\n",
       "      <th>1</th>\n",
       "      <th>2</th>\n",
       "      <th>3</th>\n",
       "      <th>4</th>\n",
       "    </tr>\n",
       "    <tr>\n",
       "      <th>trt</th>\n",
       "      <th></th>\n",
       "      <th></th>\n",
       "      <th></th>\n",
       "      <th></th>\n",
       "    </tr>\n",
       "  </thead>\n",
       "  <tbody>\n",
       "    <tr>\n",
       "      <th>placebo</th>\n",
       "      <td>28</td>\n",
       "      <td>28</td>\n",
       "      <td>28</td>\n",
       "      <td>28</td>\n",
       "    </tr>\n",
       "    <tr>\n",
       "      <th>progabide</th>\n",
       "      <td>31</td>\n",
       "      <td>31</td>\n",
       "      <td>31</td>\n",
       "      <td>31</td>\n",
       "    </tr>\n",
       "  </tbody>\n",
       "</table>\n",
       "</div>"
      ],
      "text/plain": [
       "period      1   2   3   4\n",
       "trt                      \n",
       "placebo    28  28  28  28\n",
       "progabide  31  31  31  31"
      ]
     },
     "execution_count": 11,
     "metadata": {},
     "output_type": "execute_result"
    }
   ],
   "source": [
    "tab2"
   ]
  },
  {
   "cell_type": "code",
   "execution_count": 12,
   "metadata": {},
   "outputs": [
    {
     "data": {
      "text/plain": [
       "pandas.core.frame.DataFrame"
      ]
     },
     "execution_count": 12,
     "metadata": {},
     "output_type": "execute_result"
    }
   ],
   "source": [
    "type(tab2)"
   ]
  },
  {
   "cell_type": "code",
   "execution_count": 13,
   "metadata": {},
   "outputs": [
    {
     "name": "stdout",
     "output_type": "stream",
     "text": [
      "dof=3\n",
      "1.0 [[28. 28. 28. 28.]\n",
      " [31. 31. 31. 31.]]\n"
     ]
    }
   ],
   "source": [
    "stat, p, dof, expected = chi2_contingency(tab2)\n",
    "print('dof=%d' % dof)\n",
    "print(p, expected)"
   ]
  },
  {
   "cell_type": "code",
   "execution_count": 14,
   "metadata": {},
   "outputs": [
    {
     "name": "stdout",
     "output_type": "stream",
     "text": [
      "probability=0.950, critical=7.815, stat=0.000\n"
     ]
    }
   ],
   "source": [
    "# interpret test-statistic\n",
    "prob = 0.95\n",
    "critical = chi2.ppf(prob, dof)\n",
    "print('probability=%.3f, critical=%.3f, stat=%.3f' % (prob, critical, stat))"
   ]
  },
  {
   "cell_type": "code",
   "execution_count": 15,
   "metadata": {},
   "outputs": [
    {
     "name": "stdout",
     "output_type": "stream",
     "text": [
      "Independent (fail to reject Ho)\n"
     ]
    }
   ],
   "source": [
    "if abs(stat) >= critical:\n",
    "    print('Dependent (reject Ho)')\n",
    "else:\n",
    "    print('Independent (fail to reject Ho)')"
   ]
  },
  {
   "cell_type": "code",
   "execution_count": 16,
   "metadata": {},
   "outputs": [
    {
     "name": "stdout",
     "output_type": "stream",
     "text": [
      "significance=0.050, p=1.000\n",
      "Independent (fail to reject Ho)\n"
     ]
    }
   ],
   "source": [
    "# interpret p-value\n",
    "alpha = 1.0 - prob\n",
    "print('significance=%.3f, p=%.3f' % (alpha, p))\n",
    "if p <= alpha:\n",
    "    print('Dependent (reject Ho)')\n",
    "else:\n",
    "    print('Independent (fail to reject Ho)')"
   ]
  },
  {
   "cell_type": "markdown",
   "metadata": {},
   "source": [
    "##### Cannot Reject Null Hypothesis"
   ]
  },
  {
   "cell_type": "code",
   "execution_count": 17,
   "metadata": {},
   "outputs": [
    {
     "name": "stdout",
     "output_type": "stream",
     "text": [
      "dof=1\n",
      "1.0 [[84. 28.]\n",
      " [93. 31.]]\n"
     ]
    }
   ],
   "source": [
    "stat, p, dof, expected = chi2_contingency(tab1)\n",
    "print('dof=%d' % dof)\n",
    "print(p, expected)"
   ]
  },
  {
   "cell_type": "code",
   "execution_count": 18,
   "metadata": {},
   "outputs": [
    {
     "name": "stdout",
     "output_type": "stream",
     "text": [
      "probability=0.950, critical=3.841, stat=0.000\n"
     ]
    }
   ],
   "source": [
    "# interpret test-statistic\n",
    "prob = 0.95\n",
    "critical = chi2.ppf(prob, dof)\n",
    "print('probability=%.3f, critical=%.3f, stat=%.3f' % (prob, critical, stat))"
   ]
  },
  {
   "cell_type": "code",
   "execution_count": 19,
   "metadata": {},
   "outputs": [
    {
     "name": "stdout",
     "output_type": "stream",
     "text": [
      "Independent (fail to reject Ho)\n"
     ]
    }
   ],
   "source": [
    "if abs(stat) >= critical:\n",
    "    print('Dependent (reject Ho)')\n",
    "else:\n",
    "    print('Independent (fail to reject Ho)')"
   ]
  },
  {
   "cell_type": "code",
   "execution_count": 20,
   "metadata": {},
   "outputs": [
    {
     "name": "stdout",
     "output_type": "stream",
     "text": [
      "significance=0.050, p=1.000\n",
      "Independent (fail to reject Ho)\n"
     ]
    }
   ],
   "source": [
    "# interpret p-value\n",
    "alpha = 1.0 - prob\n",
    "print('significance=%.3f, p=%.3f' % (alpha, p))\n",
    "if p <= alpha:\n",
    "    print('Dependent (reject Ho)')\n",
    "else:\n",
    "    print('Independent (fail to reject Ho)')"
   ]
  },
  {
   "cell_type": "markdown",
   "metadata": {},
   "source": [
    "##### Cannot Reject Null Hypothesis"
   ]
  },
  {
   "cell_type": "code",
   "execution_count": 21,
   "metadata": {},
   "outputs": [],
   "source": [
    "tab3 = pd.crosstab(df['trt'], df['lbase'])"
   ]
  },
  {
   "cell_type": "code",
   "execution_count": 22,
   "metadata": {},
   "outputs": [
    {
     "data": {
      "text/html": [
       "<div>\n",
       "<style scoped>\n",
       "    .dataframe tbody tr th:only-of-type {\n",
       "        vertical-align: middle;\n",
       "    }\n",
       "\n",
       "    .dataframe tbody tr th {\n",
       "        vertical-align: top;\n",
       "    }\n",
       "\n",
       "    .dataframe thead th {\n",
       "        text-align: right;\n",
       "    }\n",
       "</style>\n",
       "<table border=\"1\" class=\"dataframe\">\n",
       "  <thead>\n",
       "    <tr style=\"text-align: right;\">\n",
       "      <th>lbase</th>\n",
       "      <th>-1.3624895922878701</th>\n",
       "      <th>-1.20833891246061</th>\n",
       "      <th>-1.07480751983609</th>\n",
       "      <th>-0.957024484179707</th>\n",
       "      <th>-0.851663968521881</th>\n",
       "      <th>-0.7563537887175559</th>\n",
       "      <th>-0.6693424117279261</th>\n",
       "      <th>-0.58929970405439</th>\n",
       "      <th>-0.515191731900668</th>\n",
       "      <th>-0.381660339276146</th>\n",
       "      <th>...</th>\n",
       "      <th>0.75777394391222</th>\n",
       "      <th>0.7969946570655009</th>\n",
       "      <th>0.8530841237165441</th>\n",
       "      <th>0.8711026292192221</th>\n",
       "      <th>1.0354056805105</th>\n",
       "      <th>1.05044355787504</th>\n",
       "      <th>1.1764842787703997</th>\n",
       "      <th>1.31165905713866</th>\n",
       "      <th>1.55528113979641</th>\n",
       "      <th>1.863030775299</th>\n",
       "    </tr>\n",
       "    <tr>\n",
       "      <th>trt</th>\n",
       "      <th></th>\n",
       "      <th></th>\n",
       "      <th></th>\n",
       "      <th></th>\n",
       "      <th></th>\n",
       "      <th></th>\n",
       "      <th></th>\n",
       "      <th></th>\n",
       "      <th></th>\n",
       "      <th></th>\n",
       "      <th></th>\n",
       "      <th></th>\n",
       "      <th></th>\n",
       "      <th></th>\n",
       "      <th></th>\n",
       "      <th></th>\n",
       "      <th></th>\n",
       "      <th></th>\n",
       "      <th></th>\n",
       "      <th></th>\n",
       "      <th></th>\n",
       "    </tr>\n",
       "  </thead>\n",
       "  <tbody>\n",
       "    <tr>\n",
       "      <th>placebo</th>\n",
       "      <td>4</td>\n",
       "      <td>0</td>\n",
       "      <td>4</td>\n",
       "      <td>8</td>\n",
       "      <td>8</td>\n",
       "      <td>8</td>\n",
       "      <td>8</td>\n",
       "      <td>0</td>\n",
       "      <td>0</td>\n",
       "      <td>0</td>\n",
       "      <td>...</td>\n",
       "      <td>4</td>\n",
       "      <td>8</td>\n",
       "      <td>4</td>\n",
       "      <td>0</td>\n",
       "      <td>4</td>\n",
       "      <td>0</td>\n",
       "      <td>0</td>\n",
       "      <td>4</td>\n",
       "      <td>4</td>\n",
       "      <td>0</td>\n",
       "    </tr>\n",
       "    <tr>\n",
       "      <th>progabide</th>\n",
       "      <td>0</td>\n",
       "      <td>8</td>\n",
       "      <td>0</td>\n",
       "      <td>0</td>\n",
       "      <td>4</td>\n",
       "      <td>8</td>\n",
       "      <td>4</td>\n",
       "      <td>8</td>\n",
       "      <td>4</td>\n",
       "      <td>4</td>\n",
       "      <td>...</td>\n",
       "      <td>0</td>\n",
       "      <td>0</td>\n",
       "      <td>0</td>\n",
       "      <td>4</td>\n",
       "      <td>0</td>\n",
       "      <td>4</td>\n",
       "      <td>4</td>\n",
       "      <td>0</td>\n",
       "      <td>0</td>\n",
       "      <td>4</td>\n",
       "    </tr>\n",
       "  </tbody>\n",
       "</table>\n",
       "<p>2 rows × 39 columns</p>\n",
       "</div>"
      ],
      "text/plain": [
       "lbase      -1.362490  -1.208339  -1.074808  -0.957024  -0.851664  -0.756354  \\\n",
       "trt                                                                           \n",
       "placebo            4          0          4          8          8          8   \n",
       "progabide          0          8          0          0          4          8   \n",
       "\n",
       "lbase      -0.669342  -0.589300  -0.515192  -0.381660    ...       0.757774  \\\n",
       "trt                                                      ...                  \n",
       "placebo            8          0          0          0    ...              4   \n",
       "progabide          4          8          4          4    ...              0   \n",
       "\n",
       "lbase       0.796995   0.853084   0.871103   1.035406   1.050444   1.176484  \\\n",
       "trt                                                                           \n",
       "placebo            8          4          0          4          0          0   \n",
       "progabide          0          0          4          0          4          4   \n",
       "\n",
       "lbase       1.311659   1.555281   1.863031  \n",
       "trt                                         \n",
       "placebo            4          4          0  \n",
       "progabide          0          0          4  \n",
       "\n",
       "[2 rows x 39 columns]"
      ]
     },
     "execution_count": 22,
     "metadata": {},
     "output_type": "execute_result"
    }
   ],
   "source": [
    "tab3"
   ]
  },
  {
   "cell_type": "code",
   "execution_count": 23,
   "metadata": {},
   "outputs": [
    {
     "name": "stdout",
     "output_type": "stream",
     "text": [
      "dof=38\n",
      "1.2716907714832295e-23 [[1.89830508 3.79661017 1.89830508 3.79661017 5.69491525 7.59322034\n",
      "  5.69491525 3.79661017 1.89830508 1.89830508 1.89830508 5.69491525\n",
      "  3.79661017 1.89830508 5.69491525 1.89830508 3.79661017 1.89830508\n",
      "  1.89830508 1.89830508 1.89830508 1.89830508 1.89830508 3.79661017\n",
      "  3.79661017 3.79661017 1.89830508 1.89830508 1.89830508 1.89830508\n",
      "  3.79661017 1.89830508 1.89830508 1.89830508 1.89830508 1.89830508\n",
      "  1.89830508 1.89830508 1.89830508]\n",
      " [2.10169492 4.20338983 2.10169492 4.20338983 6.30508475 8.40677966\n",
      "  6.30508475 4.20338983 2.10169492 2.10169492 2.10169492 6.30508475\n",
      "  4.20338983 2.10169492 6.30508475 2.10169492 4.20338983 2.10169492\n",
      "  2.10169492 2.10169492 2.10169492 2.10169492 2.10169492 4.20338983\n",
      "  4.20338983 4.20338983 2.10169492 2.10169492 2.10169492 2.10169492\n",
      "  4.20338983 2.10169492 2.10169492 2.10169492 2.10169492 2.10169492\n",
      "  2.10169492 2.10169492 2.10169492]]\n"
     ]
    }
   ],
   "source": [
    "stat, p, dof, expected = chi2_contingency(tab3)\n",
    "print('dof=%d' % dof)\n",
    "print(p, expected)"
   ]
  },
  {
   "cell_type": "code",
   "execution_count": 24,
   "metadata": {},
   "outputs": [
    {
     "name": "stdout",
     "output_type": "stream",
     "text": [
      "probability=0.950, critical=53.384, stat=198.570\n"
     ]
    }
   ],
   "source": [
    "# interpret test-statistic\n",
    "prob = 0.95\n",
    "critical = chi2.ppf(prob, dof)\n",
    "print('probability=%.3f, critical=%.3f, stat=%.3f' % (prob, critical, stat))"
   ]
  },
  {
   "cell_type": "code",
   "execution_count": 25,
   "metadata": {},
   "outputs": [
    {
     "name": "stdout",
     "output_type": "stream",
     "text": [
      "Dependent (reject Ho)\n"
     ]
    }
   ],
   "source": [
    "if abs(stat) >= critical:\n",
    "    print('Dependent (reject Ho)')\n",
    "else:\n",
    "    print('Independent (fail to reject Ho)')"
   ]
  },
  {
   "cell_type": "code",
   "execution_count": 26,
   "metadata": {},
   "outputs": [
    {
     "name": "stdout",
     "output_type": "stream",
     "text": [
      "significance=0.050, p=0.000\n",
      "Dependent (reject Ho)\n"
     ]
    }
   ],
   "source": [
    "# interpret p-value\n",
    "alpha = 1.0 - prob\n",
    "print('significance=%.3f, p=%.3f' % (alpha, p))\n",
    "if p <= alpha:\n",
    "    print('Dependent (reject Ho)')\n",
    "else:\n",
    "    print('Independent (fail to reject Ho)')"
   ]
  },
  {
   "cell_type": "markdown",
   "metadata": {},
   "source": [
    "##### Reject Null Hypothesis"
   ]
  }
 ],
 "metadata": {
  "kernelspec": {
   "display_name": "Python 3",
   "language": "python",
   "name": "python3"
  },
  "language_info": {
   "codemirror_mode": {
    "name": "ipython",
    "version": 3
   },
   "file_extension": ".py",
   "mimetype": "text/x-python",
   "name": "python",
   "nbconvert_exporter": "python",
   "pygments_lexer": "ipython3",
   "version": "3.6.4"
  }
 },
 "nbformat": 4,
 "nbformat_minor": 2
}
