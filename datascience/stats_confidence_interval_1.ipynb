{
 "cells": [
  {
   "cell_type": "markdown",
   "metadata": {},
   "source": [
    "PROBLEM\n",
    "\n",
    "A stock market analyst wants to estimate the average return on a certain stock. <br/>\n",
    "A random sample of 15 days yields an average (annualized) return of Xbar=10.37% <br/>\n",
    "and a standard deviation of s=3.5%. Assuming a normal population of returns, <br/>\n",
    "give a 95% confidence interval for the average return on this stock."
   ]
  },
  {
   "cell_type": "code",
   "execution_count": 1,
   "metadata": {},
   "outputs": [],
   "source": [
    "# Sample Mean, xbar = 10.37\n",
    "# Sample Standard Deviation, sam_std = 3.5\n",
    "# Sample Size, n = 15"
   ]
  },
  {
   "cell_type": "markdown",
   "metadata": {},
   "source": [
    "We don't know the Mean (µ) & Standard Deviation (σ) of the Population <br/>\n",
    "As the Sample Size (n) is 15 which is less than 30, <br/>\n",
    "we cannot use Normal Distribution"
   ]
  },
  {
   "cell_type": "code",
   "execution_count": 2,
   "metadata": {},
   "outputs": [],
   "source": [
    "# Here, we can use t-distribution which is more robust\n",
    "# Population Mean, µ = xbar +/- zt*(sam_std/√n)\n",
    "# zt is the z-score for t-distribution\n",
    "# zt = sp.t.ppf(confidence_interval, degrees_of_freedom)\n",
    "# confidence_interval = 0.025 # for 95% \n",
    "# degrees of freedom = (n - 1) = 14"
   ]
  },
  {
   "cell_type": "code",
   "execution_count": 3,
   "metadata": {},
   "outputs": [],
   "source": [
    "import scipy.stats as sp\n",
    "import math as m"
   ]
  },
  {
   "cell_type": "code",
   "execution_count": 4,
   "metadata": {},
   "outputs": [],
   "source": [
    "n = 15\n",
    "xbar = 10.37\n",
    "sam_std = 3.5"
   ]
  },
  {
   "cell_type": "code",
   "execution_count": 5,
   "metadata": {},
   "outputs": [],
   "source": [
    "pop_mean_mu1 = xbar + sp.t.ppf(0.025,df=n-1)*(sam_std/m.sqrt(n))\n",
    "\n",
    "pop_mean_mu2 = xbar - sp.t.ppf(0.025,df=n-1)*(sam_std/m.sqrt(n))"
   ]
  },
  {
   "cell_type": "code",
   "execution_count": 6,
   "metadata": {},
   "outputs": [
    {
     "data": {
      "text/plain": [
       "(8.431764604523753, 12.308235395476245)"
      ]
     },
     "execution_count": 6,
     "metadata": {},
     "output_type": "execute_result"
    }
   ],
   "source": [
    "pop_mean_mu1, pop_mean_mu2"
   ]
  },
  {
   "cell_type": "code",
   "execution_count": 7,
   "metadata": {},
   "outputs": [],
   "source": [
    "# ALTERNATE SOLUTION"
   ]
  },
  {
   "cell_type": "code",
   "execution_count": 8,
   "metadata": {},
   "outputs": [
    {
     "data": {
      "text/plain": [
       "(8.431764604523753, 12.308235395476245)"
      ]
     },
     "execution_count": 8,
     "metadata": {},
     "output_type": "execute_result"
    }
   ],
   "source": [
    "sp.t.interval(alpha=0.95, df = n-1,loc=xbar, scale=sam_std/m.sqrt(n))"
   ]
  },
  {
   "cell_type": "markdown",
   "metadata": {},
   "source": [
    "CONCLUSION\n",
    "\n",
    "Average return of the stock will be between 8.4 and 12.3 with a confidence of 95%"
   ]
  },
  {
   "cell_type": "markdown",
   "metadata": {},
   "source": [
    "DEFINITIONS\n",
    "\n",
    "In probability and statistics, Student's t-distribution (or simply the t-distribution) <br/>\n",
    "is any member of a family of continuous probability distributions that arises when <br/>\n",
    "estimating the mean of a normally distributed population in situations where the sample size <br/>\n",
    "is small and population standard deviation is unknown."
   ]
  },
  {
   "cell_type": "markdown",
   "metadata": {},
   "source": [
    "A T distribution is a type of probability distribution that is appropriate for <br/>\n",
    "estimating population parameters for small sample sizes and unknown population variances.<br/>\n",
    "A T distribution resembles a normal distribution, but it differs from the normal distribution <br/>\n",
    "by its degrees of freedom."
   ]
  },
  {
   "cell_type": "code",
   "execution_count": null,
   "metadata": {},
   "outputs": [],
   "source": []
  }
 ],
 "metadata": {
  "kernelspec": {
   "display_name": "Python 3",
   "language": "python",
   "name": "python3"
  },
  "language_info": {
   "codemirror_mode": {
    "name": "ipython",
    "version": 3
   },
   "file_extension": ".py",
   "mimetype": "text/x-python",
   "name": "python",
   "nbconvert_exporter": "python",
   "pygments_lexer": "ipython3",
   "version": "3.6.4"
  }
 },
 "nbformat": 4,
 "nbformat_minor": 2
}
