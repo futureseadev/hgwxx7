{
 "cells": [
  {
   "cell_type": "markdown",
   "metadata": {},
   "source": [
    "PROBLEM\n",
    "\n",
    "Comcast, the computer services company, is planning to invest heavily in <br/>\n",
    "online television services. As part of the decision, the company wants to  <br/>\n",
    "estimate the average number of online shows a family of four would watch  <br/>\n",
    "per day. A random sample of n=100 families is obtained, and in this sample  <br/>\n",
    "the average no of shows viewed per day is 6.5 and the population standard  <br/>\n",
    "deviation is known to be 3.2. Construct a 95% confidence interval for the  <br/>\n",
    "average number of online television shows watched by the entire population  <br/>\n",
    "of families of four. \n"
   ]
  },
  {
   "cell_type": "markdown",
   "metadata": {},
   "source": [
    "SOLUTION\n",
    "\n",
    "Population Standard Deviation, σ = 3.2 <br/>\n",
    "Sample Mean, xbar = 6.5 <br/>\n",
    "Sample Size, n = 100 <br/>\n",
    "Confidence Interval is 95% <br/>\n",
    "z is 2.5% on either side of the normal distribution curve <br/>\n",
    "i.e. z = scipy.stats.norm.ppf(0.025) <br/>\n",
    "ppf is the inverse of the cdf. i.e, ppf gives the value of the variate <br/>\n",
    "for which the cumulative probability has the given value <br/>"
   ]
  },
  {
   "cell_type": "markdown",
   "metadata": {},
   "source": [
    "Since sample size is adequate (n > 30)  <br/>\n",
    "applying Central Limit Theorem <br/>\n",
    "mean of the distribution of sample means = population mean (µ) <br/>\n",
    "\n",
    "µ = xbar +/– z(σ /√n) <br/>\n",
    "\n",
    "We'll get two values for population mean (pop_mean_mu1, pop_mean_mu2)"
   ]
  },
  {
   "cell_type": "code",
   "execution_count": 1,
   "metadata": {},
   "outputs": [],
   "source": [
    "import scipy.stats as sp\n",
    "import math as m"
   ]
  },
  {
   "cell_type": "code",
   "execution_count": 2,
   "metadata": {},
   "outputs": [],
   "source": [
    "xbar = 6.5\n",
    "pop_std_sigma = 3.2\n",
    "n = 100                           # sample_size\n",
    "z = sp.norm.ppf(0.025)            # z-score "
   ]
  },
  {
   "cell_type": "code",
   "execution_count": 3,
   "metadata": {},
   "outputs": [],
   "source": [
    "pop_mean_mu1 = xbar + z*(pop_std_sigma / m.sqrt(n))\n",
    "\n",
    "pop_mean_mu2 = xbar - z*(pop_std_sigma / m.sqrt(n))"
   ]
  },
  {
   "cell_type": "code",
   "execution_count": 4,
   "metadata": {},
   "outputs": [
    {
     "data": {
      "text/plain": [
       "(5.872811524947182, 7.127188475052818)"
      ]
     },
     "execution_count": 4,
     "metadata": {},
     "output_type": "execute_result"
    }
   ],
   "source": [
    "pop_mean_mu1, pop_mean_mu2"
   ]
  },
  {
   "cell_type": "markdown",
   "metadata": {},
   "source": [
    "CONCLUSION\n",
    "\n",
    "Number of online television shows watched by the entire population <br/>\n",
    "of families of four is between 6 and 7 with 95% confidence"
   ]
  },
  {
   "cell_type": "code",
   "execution_count": null,
   "metadata": {},
   "outputs": [],
   "source": []
  }
 ],
 "metadata": {
  "kernelspec": {
   "display_name": "Python 3",
   "language": "python",
   "name": "python3"
  },
  "language_info": {
   "codemirror_mode": {
    "name": "ipython",
    "version": 3
   },
   "file_extension": ".py",
   "mimetype": "text/x-python",
   "name": "python",
   "nbconvert_exporter": "python",
   "pygments_lexer": "ipython3",
   "version": "3.6.4"
  }
 },
 "nbformat": 4,
 "nbformat_minor": 2
}
