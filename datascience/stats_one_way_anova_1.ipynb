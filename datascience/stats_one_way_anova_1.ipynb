{
 "cells": [
  {
   "cell_type": "markdown",
   "metadata": {},
   "source": [
    "PROBLEM\n",
    "\n",
    "Given the file \"stats_one_way_anova_1.csv\", formulate and test <br/>\n",
    "the hypothesis defining the relation between Math1 marks and Race. <br/>\n",
    "\n",
    "Math1 and Race are columns in the input file.<br/>"
   ]
  },
  {
   "cell_type": "markdown",
   "metadata": {},
   "source": [
    "SOLUTION\n",
    "\n",
    "There are four different values for the field 'Race'. <br/>\n",
    "We cannot use t-test for more than 2 samples <br/>\n",
    "\n",
    "Null Hypothesis (ho) <br/>\n",
    "There's no significant difference between the marks of different races <br/>\n",
    "\n",
    "Alternate Hypothesis (ha) <br/>\n",
    "There's significant difference between the marks of different races\n"
   ]
  },
  {
   "cell_type": "code",
   "execution_count": 1,
   "metadata": {},
   "outputs": [],
   "source": [
    "import os\n",
    "import scipy.stats as st\n",
    "import pandas as pd"
   ]
  },
  {
   "cell_type": "code",
   "execution_count": 2,
   "metadata": {},
   "outputs": [],
   "source": [
    "# reading the csv into the variable 'hyp'\n",
    "hyp = pd.read_csv(\"stats_one_way_anova_1.csv\")"
   ]
  },
  {
   "cell_type": "code",
   "execution_count": 3,
   "metadata": {},
   "outputs": [
    {
     "data": {
      "text/html": [
       "<div>\n",
       "<style scoped>\n",
       "    .dataframe tbody tr th:only-of-type {\n",
       "        vertical-align: middle;\n",
       "    }\n",
       "\n",
       "    .dataframe tbody tr th {\n",
       "        vertical-align: top;\n",
       "    }\n",
       "\n",
       "    .dataframe thead th {\n",
       "        text-align: right;\n",
       "    }\n",
       "</style>\n",
       "<table border=\"1\" class=\"dataframe\">\n",
       "  <thead>\n",
       "    <tr style=\"text-align: right;\">\n",
       "      <th></th>\n",
       "      <th>ID</th>\n",
       "      <th>Gender</th>\n",
       "      <th>Race</th>\n",
       "      <th>SEB</th>\n",
       "      <th>School</th>\n",
       "      <th>Prog</th>\n",
       "      <th>Read</th>\n",
       "      <th>Write</th>\n",
       "      <th>Math1</th>\n",
       "      <th>Math2</th>\n",
       "      <th>SST</th>\n",
       "    </tr>\n",
       "  </thead>\n",
       "  <tbody>\n",
       "    <tr>\n",
       "      <th>0</th>\n",
       "      <td>70</td>\n",
       "      <td>0</td>\n",
       "      <td>4</td>\n",
       "      <td>1</td>\n",
       "      <td>1</td>\n",
       "      <td>1</td>\n",
       "      <td>57</td>\n",
       "      <td>52</td>\n",
       "      <td>41</td>\n",
       "      <td>47</td>\n",
       "      <td>57</td>\n",
       "    </tr>\n",
       "    <tr>\n",
       "      <th>1</th>\n",
       "      <td>121</td>\n",
       "      <td>1</td>\n",
       "      <td>4</td>\n",
       "      <td>2</td>\n",
       "      <td>1</td>\n",
       "      <td>3</td>\n",
       "      <td>68</td>\n",
       "      <td>59</td>\n",
       "      <td>53</td>\n",
       "      <td>63</td>\n",
       "      <td>61</td>\n",
       "    </tr>\n",
       "    <tr>\n",
       "      <th>2</th>\n",
       "      <td>86</td>\n",
       "      <td>0</td>\n",
       "      <td>4</td>\n",
       "      <td>3</td>\n",
       "      <td>1</td>\n",
       "      <td>1</td>\n",
       "      <td>44</td>\n",
       "      <td>33</td>\n",
       "      <td>54</td>\n",
       "      <td>58</td>\n",
       "      <td>31</td>\n",
       "    </tr>\n",
       "    <tr>\n",
       "      <th>3</th>\n",
       "      <td>141</td>\n",
       "      <td>0</td>\n",
       "      <td>4</td>\n",
       "      <td>3</td>\n",
       "      <td>1</td>\n",
       "      <td>3</td>\n",
       "      <td>63</td>\n",
       "      <td>44</td>\n",
       "      <td>47</td>\n",
       "      <td>53</td>\n",
       "      <td>56</td>\n",
       "    </tr>\n",
       "    <tr>\n",
       "      <th>4</th>\n",
       "      <td>172</td>\n",
       "      <td>0</td>\n",
       "      <td>4</td>\n",
       "      <td>2</td>\n",
       "      <td>1</td>\n",
       "      <td>2</td>\n",
       "      <td>47</td>\n",
       "      <td>52</td>\n",
       "      <td>57</td>\n",
       "      <td>53</td>\n",
       "      <td>61</td>\n",
       "    </tr>\n",
       "  </tbody>\n",
       "</table>\n",
       "</div>"
      ],
      "text/plain": [
       "    ID  Gender  Race  SEB  School  Prog  Read  Write  Math1  Math2  SST\n",
       "0   70       0     4    1       1     1    57     52     41     47   57\n",
       "1  121       1     4    2       1     3    68     59     53     63   61\n",
       "2   86       0     4    3       1     1    44     33     54     58   31\n",
       "3  141       0     4    3       1     3    63     44     47     53   56\n",
       "4  172       0     4    2       1     2    47     52     57     53   61"
      ]
     },
     "execution_count": 3,
     "metadata": {},
     "output_type": "execute_result"
    }
   ],
   "source": [
    "hyp.head()"
   ]
  },
  {
   "cell_type": "code",
   "execution_count": 4,
   "metadata": {},
   "outputs": [],
   "source": [
    "# obtain the unique values for 'Race'\n",
    "races = pd.unique(hyp['Race'])"
   ]
  },
  {
   "cell_type": "code",
   "execution_count": 5,
   "metadata": {},
   "outputs": [
    {
     "data": {
      "text/plain": [
       "array([4, 3, 1, 2], dtype=int64)"
      ]
     },
     "execution_count": 5,
     "metadata": {},
     "output_type": "execute_result"
    }
   ],
   "source": [
    "races"
   ]
  },
  {
   "cell_type": "code",
   "execution_count": 6,
   "metadata": {},
   "outputs": [],
   "source": [
    "# Grouping the marks for Math1 based on the value of race in races\n",
    "d_data = { race:hyp['Math1'][hyp['Race'] == race] for race in races }"
   ]
  },
  {
   "cell_type": "code",
   "execution_count": 7,
   "metadata": {},
   "outputs": [
    {
     "data": {
      "text/plain": [
       "{1: 7      45\n",
       " 23     57\n",
       " 24     45\n",
       " 38     44\n",
       " 49     59\n",
       " 52     61\n",
       " 55     44\n",
       " 57     39\n",
       " 59     52\n",
       " 69     49\n",
       " 75     43\n",
       " 79     54\n",
       " 83     48\n",
       " 93     52\n",
       " 98     40\n",
       " 111    41\n",
       " 114    57\n",
       " 120    50\n",
       " 138    33\n",
       " 140    43\n",
       " 143    48\n",
       " 148    46\n",
       " 153    49\n",
       " 171    39\n",
       " Name: Math1, dtype: int64, 2: 29     49\n",
       " 50     61\n",
       " 90     66\n",
       " 127    54\n",
       " 131    72\n",
       " 173    62\n",
       " 184    66\n",
       " 185    64\n",
       " 187    42\n",
       " 193    42\n",
       " 195    52\n",
       " Name: Math1, dtype: int64, 3: 6      42\n",
       " 9      52\n",
       " 14     50\n",
       " 22     45\n",
       " 25     46\n",
       " 43     43\n",
       " 46     39\n",
       " 102    49\n",
       " 108    46\n",
       " 119    40\n",
       " 124    45\n",
       " 129    41\n",
       " 137    55\n",
       " 139    49\n",
       " 149    44\n",
       " 150    43\n",
       " 159    67\n",
       " 172    42\n",
       " 174    44\n",
       " 189    53\n",
       " Name: Math1, dtype: int64, 4: 0      41\n",
       " 1      53\n",
       " 2      54\n",
       " 3      47\n",
       " 4      57\n",
       " 5      51\n",
       " 8      54\n",
       " 10     51\n",
       " 11     51\n",
       " 12     71\n",
       " 13     57\n",
       " 15     43\n",
       " 16     51\n",
       " 17     60\n",
       " 18     62\n",
       " 19     57\n",
       " 20     35\n",
       " 21     75\n",
       " 26     66\n",
       " 27     57\n",
       " 28     49\n",
       " 30     57\n",
       " 31     64\n",
       " 32     63\n",
       " 33     57\n",
       " 34     50\n",
       " 35     58\n",
       " 36     75\n",
       " 37     68\n",
       " 39     40\n",
       "        ..\n",
       " 160    53\n",
       " 161    50\n",
       " 162    51\n",
       " 163    72\n",
       " 164    48\n",
       " 165    40\n",
       " 166    53\n",
       " 167    39\n",
       " 168    63\n",
       " 169    51\n",
       " 170    45\n",
       " 175    65\n",
       " 176    63\n",
       " 177    54\n",
       " 178    45\n",
       " 179    60\n",
       " 180    49\n",
       " 181    48\n",
       " 182    57\n",
       " 183    55\n",
       " 186    55\n",
       " 188    56\n",
       " 190    41\n",
       " 191    42\n",
       " 192    53\n",
       " 194    60\n",
       " 196    38\n",
       " 197    57\n",
       " 198    58\n",
       " 199    65\n",
       " Name: Math1, Length: 145, dtype: int64}"
      ]
     },
     "execution_count": 7,
     "metadata": {},
     "output_type": "execute_result"
    }
   ],
   "source": [
    "d_data"
   ]
  },
  {
   "cell_type": "code",
   "execution_count": 8,
   "metadata": {},
   "outputs": [
    {
     "data": {
      "text/plain": [
       "6      42\n",
       "9      52\n",
       "14     50\n",
       "22     45\n",
       "25     46\n",
       "43     43\n",
       "46     39\n",
       "102    49\n",
       "108    46\n",
       "119    40\n",
       "124    45\n",
       "129    41\n",
       "137    55\n",
       "139    49\n",
       "149    44\n",
       "150    43\n",
       "159    67\n",
       "172    42\n",
       "174    44\n",
       "189    53\n",
       "Name: Math1, dtype: int64"
      ]
     },
     "execution_count": 8,
     "metadata": {},
     "output_type": "execute_result"
    }
   ],
   "source": [
    "# To view the value of Math1 marks for the race 1 or race 4 - \n",
    "# d_data[1]\n",
    "d_data[3]"
   ]
  },
  {
   "cell_type": "code",
   "execution_count": 9,
   "metadata": {},
   "outputs": [
    {
     "data": {
      "text/plain": [
       "F_onewayResult(statistic=7.703265387359707, pvalue=6.840198626500769e-05)"
      ]
     },
     "execution_count": 9,
     "metadata": {},
     "output_type": "execute_result"
    }
   ],
   "source": [
    "# Applying f-test - one way anova\n",
    "st.f_oneway(d_data[1],d_data[2],d_data[3],d_data[4])\n",
    "\n",
    "# output: F_onewayResult(statistic=7.703265387359707, pvalue=6.840198626500769e-05)\n"
   ]
  },
  {
   "cell_type": "markdown",
   "metadata": {},
   "source": [
    "CONCLUSION\n",
    "\n",
    "p-value is less than alpha; reject null hypothesis <br/>\n",
    "Math marks are significantly different between races"
   ]
  },
  {
   "cell_type": "code",
   "execution_count": null,
   "metadata": {},
   "outputs": [],
   "source": []
  }
 ],
 "metadata": {
  "kernelspec": {
   "display_name": "Python 3",
   "language": "python",
   "name": "python3"
  },
  "language_info": {
   "codemirror_mode": {
    "name": "ipython",
    "version": 3
   },
   "file_extension": ".py",
   "mimetype": "text/x-python",
   "name": "python",
   "nbconvert_exporter": "python",
   "pygments_lexer": "ipython3",
   "version": "3.6.4"
  }
 },
 "nbformat": 4,
 "nbformat_minor": 2
}
