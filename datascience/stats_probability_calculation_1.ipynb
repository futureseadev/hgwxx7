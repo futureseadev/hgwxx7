{
 "cells": [
  {
   "cell_type": "markdown",
   "metadata": {},
   "source": [
    "PROBABILITY PREDICTION"
   ]
  },
  {
   "cell_type": "markdown",
   "metadata": {},
   "source": [
    "PROBLEMS\n",
    "\n",
    "A) For a given Mean 494 and standard deviation = 100 <br/>\n",
    "1. What is the probability that a randomly selected score is between 600 and its mean. <br/>\n",
    "2. What is the probability of obtaining a score more than 700. <br/>\n",
    "3. Score that is less than 550. <br/>\n",
    "4. Score between 300 and 600. <br/>\n",
    "\n",
    "B) Suppose during any hour in large departmental store, the average number of shoppers is 448, <br/>\n",
    "with the standard deviation of 21 shoppers. What is the probability that a random sample of 49 <br/>\n",
    "different shopping hours will yield a sample mean between 441 and 446 shoppers. <br/>\n",
    "\n",
    "\n",
    "OUTPUT\n",
    "\n",
    "The variable `required_probability` is the output for each of the above problems. <br/> \n"
   ]
  },
  {
   "cell_type": "code",
   "execution_count": 1,
   "metadata": {},
   "outputs": [],
   "source": [
    "# A) For a given Mean 494 and standard deviation = 100\n",
    "\n",
    "import scipy.stats as sp"
   ]
  },
  {
   "cell_type": "code",
   "execution_count": 2,
   "metadata": {},
   "outputs": [],
   "source": [
    "# 1. What is the probability that a randomly selected score is between 600 and its mean."
   ]
  },
  {
   "cell_type": "code",
   "execution_count": 3,
   "metadata": {},
   "outputs": [],
   "source": [
    "# Mean is given as 494"
   ]
  },
  {
   "cell_type": "code",
   "execution_count": 4,
   "metadata": {},
   "outputs": [],
   "source": [
    "# x1 is the probability of getting a score equal to mean; 0.5 (by default)\n",
    "x1 = sp.norm(494, 100).cdf(494)"
   ]
  },
  {
   "cell_type": "code",
   "execution_count": 5,
   "metadata": {},
   "outputs": [
    {
     "data": {
      "text/plain": [
       "0.5"
      ]
     },
     "execution_count": 5,
     "metadata": {},
     "output_type": "execute_result"
    }
   ],
   "source": [
    "x1"
   ]
  },
  {
   "cell_type": "code",
   "execution_count": 6,
   "metadata": {},
   "outputs": [],
   "source": [
    "# x2 is the probability of getting a score equal to 600\n",
    "x2 = sp.norm(494, 100).cdf(600)"
   ]
  },
  {
   "cell_type": "code",
   "execution_count": 7,
   "metadata": {},
   "outputs": [
    {
     "data": {
      "text/plain": [
       "0.8554277003360904"
      ]
     },
     "execution_count": 7,
     "metadata": {},
     "output_type": "execute_result"
    }
   ],
   "source": [
    "x2"
   ]
  },
  {
   "cell_type": "code",
   "execution_count": 8,
   "metadata": {},
   "outputs": [],
   "source": [
    "# To find the probability of a score between the two values - mean and 600, \n",
    "# we need to get the individual values and calculate the difference\n",
    "\n",
    "required_probability = x2 - x1"
   ]
  },
  {
   "cell_type": "code",
   "execution_count": 9,
   "metadata": {},
   "outputs": [
    {
     "data": {
      "text/plain": [
       "0.3554277003360904"
      ]
     },
     "execution_count": 9,
     "metadata": {},
     "output_type": "execute_result"
    }
   ],
   "source": [
    "required_probability"
   ]
  },
  {
   "cell_type": "markdown",
   "metadata": {},
   "source": [
    "NEXT"
   ]
  },
  {
   "cell_type": "markdown",
   "metadata": {},
   "source": [
    "2. What is the probability of obtaining a score more than 700."
   ]
  },
  {
   "cell_type": "code",
   "execution_count": 10,
   "metadata": {},
   "outputs": [],
   "source": [
    "# x is the probability of getting a value equal to 700\n",
    "x = sp.norm(494, 100).cdf(700)"
   ]
  },
  {
   "cell_type": "code",
   "execution_count": 11,
   "metadata": {},
   "outputs": [],
   "source": [
    "# Probability of a score greater than 700 will be the difference between \n",
    "# total area and the probability of getting a value equal to 700"
   ]
  },
  {
   "cell_type": "code",
   "execution_count": 12,
   "metadata": {},
   "outputs": [
    {
     "data": {
      "text/plain": [
       "0.9803007295906231"
      ]
     },
     "execution_count": 12,
     "metadata": {},
     "output_type": "execute_result"
    }
   ],
   "source": [
    "x"
   ]
  },
  {
   "cell_type": "code",
   "execution_count": 13,
   "metadata": {},
   "outputs": [],
   "source": [
    "required_probability = 1 - x"
   ]
  },
  {
   "cell_type": "code",
   "execution_count": 14,
   "metadata": {},
   "outputs": [
    {
     "data": {
      "text/plain": [
       "0.019699270409376912"
      ]
     },
     "execution_count": 14,
     "metadata": {},
     "output_type": "execute_result"
    }
   ],
   "source": [
    "required_probability"
   ]
  },
  {
   "cell_type": "markdown",
   "metadata": {},
   "source": [
    "NEXT"
   ]
  },
  {
   "cell_type": "markdown",
   "metadata": {},
   "source": [
    "3. Score that is less than 550."
   ]
  },
  {
   "cell_type": "code",
   "execution_count": 15,
   "metadata": {},
   "outputs": [],
   "source": [
    "x = sp.norm(494, 100).cdf(550)"
   ]
  },
  {
   "cell_type": "code",
   "execution_count": 16,
   "metadata": {},
   "outputs": [],
   "source": [
    "required_probability = x"
   ]
  },
  {
   "cell_type": "code",
   "execution_count": 17,
   "metadata": {},
   "outputs": [
    {
     "data": {
      "text/plain": [
       "0.712260281150973"
      ]
     },
     "execution_count": 17,
     "metadata": {},
     "output_type": "execute_result"
    }
   ],
   "source": [
    "required_probability"
   ]
  },
  {
   "cell_type": "markdown",
   "metadata": {},
   "source": [
    "NEXT"
   ]
  },
  {
   "cell_type": "markdown",
   "metadata": {},
   "source": [
    "4. Score between 300 and 600."
   ]
  },
  {
   "cell_type": "code",
   "execution_count": 18,
   "metadata": {},
   "outputs": [],
   "source": [
    "x1 = sp.norm(494, 100).cdf(300)\n",
    "x2 = sp.norm(494, 100).cdf(600)"
   ]
  },
  {
   "cell_type": "code",
   "execution_count": 19,
   "metadata": {},
   "outputs": [
    {
     "data": {
      "text/plain": [
       "(0.026189844940452685, 0.8554277003360904)"
      ]
     },
     "execution_count": 19,
     "metadata": {},
     "output_type": "execute_result"
    }
   ],
   "source": [
    "x1, x2"
   ]
  },
  {
   "cell_type": "code",
   "execution_count": 20,
   "metadata": {},
   "outputs": [],
   "source": [
    "# To find the probability of a score between the two values - 300 and 600, \n",
    "# we need to get the individual values and calculate the difference\n",
    "\n",
    "required_probability = x2 - x1"
   ]
  },
  {
   "cell_type": "code",
   "execution_count": 21,
   "metadata": {},
   "outputs": [
    {
     "data": {
      "text/plain": [
       "0.8292378553956377"
      ]
     },
     "execution_count": 21,
     "metadata": {},
     "output_type": "execute_result"
    }
   ],
   "source": [
    "required_probability"
   ]
  },
  {
   "cell_type": "markdown",
   "metadata": {},
   "source": [
    "NEXT"
   ]
  },
  {
   "cell_type": "markdown",
   "metadata": {},
   "source": [
    "B) Suppose during any hour in a store, the average number of shoppers is 448, <br/>\n",
    "with the standard deviation of 21 shoppers. What is the probability that  <br/>\n",
    "a random sample of 49 different shopping hours will yield a sample mean between  <br/>\n",
    "441 and 446 shoppers. <br/>\n",
    "\n",
    "Solution\n",
    "\n",
    "We know the Mean (µ) & Standard Deviation (σ) of the Population, 448 and 21 <br/>\n",
    "Sample size, n = 49 which is greater than 30 <br/>\n",
    "find probability of sample mean between 441 and 446 <br/>\n"
   ]
  },
  {
   "cell_type": "code",
   "execution_count": 22,
   "metadata": {},
   "outputs": [],
   "source": [
    "pop_mean_mu = 448\n",
    "pop_std_sigma = 21"
   ]
  },
  {
   "cell_type": "code",
   "execution_count": 23,
   "metadata": {},
   "outputs": [],
   "source": [
    "x1 = sp.norm(pop_mean_mu, pop_std_sigma).cdf(441)\n",
    "x2 = sp.norm(pop_mean_mu, pop_std_sigma).cdf(446)"
   ]
  },
  {
   "cell_type": "code",
   "execution_count": 24,
   "metadata": {},
   "outputs": [
    {
     "data": {
      "text/plain": [
       "(0.36944134018176367, 0.46206285593374585)"
      ]
     },
     "execution_count": 24,
     "metadata": {},
     "output_type": "execute_result"
    }
   ],
   "source": [
    "x1, x2"
   ]
  },
  {
   "cell_type": "code",
   "execution_count": 25,
   "metadata": {},
   "outputs": [],
   "source": [
    "required_probability = x2 - x1"
   ]
  },
  {
   "cell_type": "code",
   "execution_count": 26,
   "metadata": {},
   "outputs": [
    {
     "data": {
      "text/plain": [
       "0.09262151575198219"
      ]
     },
     "execution_count": 26,
     "metadata": {},
     "output_type": "execute_result"
    }
   ],
   "source": [
    "required_probability"
   ]
  },
  {
   "cell_type": "markdown",
   "metadata": {},
   "source": [
    "DEFINITIONS\n",
    "\n",
    "In probability theory and statistics, the cumulative distribution function <br/>\n",
    "(CDF, also cumulative density function) of a real-valued random variable X, <br/>\n",
    "or just distribution function of X, evaluated at x, <br/>\n",
    "is the probability that X will take a value less than or equal to x.\n",
    "\n",
    "\n",
    "for a distribution function we calculate the probability <br/>\n",
    "that the variable is less than or equal to x for a given x. <br/>\n",
    "For the percent point function, we start with the probability  <br/>\n",
    "and compute the corresponding x for the cumulative distribution."
   ]
  },
  {
   "cell_type": "code",
   "execution_count": null,
   "metadata": {},
   "outputs": [],
   "source": []
  }
 ],
 "metadata": {
  "kernelspec": {
   "display_name": "Python 3",
   "language": "python",
   "name": "python3"
  },
  "language_info": {
   "codemirror_mode": {
    "name": "ipython",
    "version": 3
   },
   "file_extension": ".py",
   "mimetype": "text/x-python",
   "name": "python",
   "nbconvert_exporter": "python",
   "pygments_lexer": "ipython3",
   "version": "3.6.4"
  }
 },
 "nbformat": 4,
 "nbformat_minor": 2
}
