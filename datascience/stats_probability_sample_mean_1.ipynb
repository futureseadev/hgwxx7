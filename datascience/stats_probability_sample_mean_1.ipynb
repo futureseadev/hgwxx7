{
 "cells": [
  {
   "cell_type": "markdown",
   "metadata": {},
   "source": [
    "PROBLEM\n",
    "\n",
    "Mercury makes a 2.4 lt V-6 engine, The Laser XRi, used in speedboats. <br/>\n",
    "The company's engineer believe that the engine delivers an average power of 220 horsepower <br/>\n",
    "and that the standard deviation of power delivered is 15 horsepower. <br/> \n",
    "A potential buyer intends to sample 100 engines(each engine to be run a single time).  <br/>\n",
    "What is the probability that the sample mean will be less than 217 horsepower? <br/>"
   ]
  },
  {
   "cell_type": "markdown",
   "metadata": {},
   "source": [
    "SOLUTION\n",
    "\n",
    "Applying the Central Limit Theorem for the sample with size of 100, <br/>\n",
    "if sample size is adequate (n > 30) the distribution of sample means is normal"
   ]
  },
  {
   "cell_type": "code",
   "execution_count": 1,
   "metadata": {},
   "outputs": [],
   "source": [
    "# VARIABLES\n",
    "# Population Mean, µ = 220\n",
    "# Population Standard Deviation, σ = 15\n",
    "# Sample size, n = 100"
   ]
  },
  {
   "cell_type": "code",
   "execution_count": 2,
   "metadata": {},
   "outputs": [],
   "source": [
    "# FORMULA\n",
    "# Sample Standard Deviation, sample_std = σ/√n"
   ]
  },
  {
   "cell_type": "code",
   "execution_count": 3,
   "metadata": {},
   "outputs": [],
   "source": [
    "import scipy.stats as sp\n",
    "import math as m"
   ]
  },
  {
   "cell_type": "code",
   "execution_count": 4,
   "metadata": {},
   "outputs": [],
   "source": [
    "pop_mean_mu = 220\n",
    "pop_std_sigma = 15\n",
    "n = 100              # sample_size\n",
    "x = 217              # sample_mean_whose_probability_to_be_found"
   ]
  },
  {
   "cell_type": "code",
   "execution_count": 5,
   "metadata": {},
   "outputs": [],
   "source": [
    "sample_std = pop_std_sigma / m.sqrt(n)"
   ]
  },
  {
   "cell_type": "code",
   "execution_count": 6,
   "metadata": {},
   "outputs": [],
   "source": [
    "# sample_std = 15/√100 = 1.5\n",
    "\n",
    "# cdf - cumulative density function\n",
    "# gives the probability that the variate has a value less than or equal to the given value.\n",
    "# prob_sample_std = sp.norm(loc=x-bar, scale=sample_std).cdf(x)\n",
    "# prob_sample_std = sp.norm(220, 1.5).cdf(217)"
   ]
  },
  {
   "cell_type": "code",
   "execution_count": 7,
   "metadata": {},
   "outputs": [],
   "source": [
    "prob_sample_std = sp.norm(pop_mean_mu, sample_std).cdf(x)"
   ]
  },
  {
   "cell_type": "code",
   "execution_count": 8,
   "metadata": {},
   "outputs": [
    {
     "data": {
      "text/plain": [
       "0.022750131948179195"
      ]
     },
     "execution_count": 8,
     "metadata": {},
     "output_type": "execute_result"
    }
   ],
   "source": [
    "prob_sample_std"
   ]
  },
  {
   "cell_type": "code",
   "execution_count": 9,
   "metadata": {},
   "outputs": [],
   "source": [
    "# probability that the sample mean will be less than 217 horsepower = 0.022750131948179195"
   ]
  },
  {
   "cell_type": "markdown",
   "metadata": {},
   "source": [
    "DEFINITIONS\n",
    "\n",
    "The central limit theorem tells us exactly what the shape of <br/>\n",
    "the distribution of means will be when we draw repeated samples <br/>\n",
    "from a given population. Specifically, as the sample sizes get larger, <br/>\n",
    "the distribution of means calculated from repeated sampling will approach normality."
   ]
  },
  {
   "cell_type": "code",
   "execution_count": null,
   "metadata": {},
   "outputs": [],
   "source": []
  }
 ],
 "metadata": {
  "kernelspec": {
   "display_name": "Python 3",
   "language": "python",
   "name": "python3"
  },
  "language_info": {
   "codemirror_mode": {
    "name": "ipython",
    "version": 3
   },
   "file_extension": ".py",
   "mimetype": "text/x-python",
   "name": "python",
   "nbconvert_exporter": "python",
   "pygments_lexer": "ipython3",
   "version": "3.6.4"
  }
 },
 "nbformat": 4,
 "nbformat_minor": 2
}
