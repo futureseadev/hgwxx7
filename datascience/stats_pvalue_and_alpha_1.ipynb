{
 "cells": [
  {
   "cell_type": "markdown",
   "metadata": {},
   "source": [
    "PROBLEM\n",
    "\n",
    "An automatic bottling machine fills cola into 2 lt (2000 cm3) bottles. <br/>\n",
    "A consumer advocate wants to test the null hypothesis that the average <br/>\n",
    "amount filed by the machine into the bottle is at least 2,000 cm3. <br/>\n",
    "A random sample of 40 bottles coming out of the machine was selected and <br/>\n",
    "the exact content of the selected bottles are recorded. The sample mean <br/>\n",
    "was 1,999.6 cm3. The population standard deviation is known from <br/>\n",
    "the past experience to be 1.30 cm3. \n",
    " \n",
    "1. Test the null hypothesis at an alpha of 5%"
   ]
  },
  {
   "cell_type": "markdown",
   "metadata": {},
   "source": [
    "SOLUTION\n",
    "\n",
    "Applying the Central Limit Theorem for the sample with size of 40,<br/>\n",
    "if sample size is adequate (n > 30) the distribution of sample means is normal <br/>\n",
    "\n",
    "VARIABLES\n",
    "\n",
    "Population Mean (µ), pop_mean_mu = '' <br/>\n",
    "Sample Mean, xbar = 1999.6 <br/>\n",
    "Population Standard Deviation, σ = 1.30 <br/>\n",
    "Sample size, n = 40 <br/>\n",
    "\n",
    "FORMULA\n",
    "\n",
    "Sample Standard Deviation, sample_std = σ/√n"
   ]
  },
  {
   "cell_type": "code",
   "execution_count": 1,
   "metadata": {},
   "outputs": [],
   "source": [
    "import scipy.stats as st\n",
    "import math as m"
   ]
  },
  {
   "cell_type": "code",
   "execution_count": 2,
   "metadata": {},
   "outputs": [],
   "source": [
    "xbar = 1999.6\n",
    "pop_std_sigma = 1.30\n",
    "n = 40                # sample_size\n",
    "x = 2000"
   ]
  },
  {
   "cell_type": "code",
   "execution_count": 3,
   "metadata": {},
   "outputs": [],
   "source": [
    "sample_std = pop_std_sigma / m.sqrt(n)"
   ]
  },
  {
   "cell_type": "code",
   "execution_count": 4,
   "metadata": {},
   "outputs": [
    {
     "data": {
      "text/plain": [
       "0.20554804791094466"
      ]
     },
     "execution_count": 4,
     "metadata": {},
     "output_type": "execute_result"
    }
   ],
   "source": [
    "sample_std"
   ]
  },
  {
   "cell_type": "code",
   "execution_count": 5,
   "metadata": {},
   "outputs": [],
   "source": [
    "# cdf - cumulative density function\n",
    "# gives the probability that the variate has a value less than or equal to the given value."
   ]
  },
  {
   "cell_type": "code",
   "execution_count": 6,
   "metadata": {},
   "outputs": [],
   "source": [
    "# p_value = sp.norm.cdf(1999.6, loc=2000, scale=1.30/m.sqrt(40))\n",
    "# Had a doubt on this part; whether loc equals to x or xbar in the function\n",
    "# p_value = sp.norm(loc = xbar, scale=1.30/m.sqrt(40)).cdf(2000)\n",
    "# >>> p_value\n",
    "# 0.9741736525121241  # wrong!!!"
   ]
  },
  {
   "cell_type": "code",
   "execution_count": 7,
   "metadata": {},
   "outputs": [],
   "source": [
    "# Here we're finding the probability of getting a sample mean of 1999.6\n",
    "# in a normally distributed population, with mean of 2000 and pop std of 1.3\n",
    "# p_value = sp.norm(loc = 2000, scale=1.30/m.sqrt(40)).cdf(1999.6)\n",
    "# So, the normal distribution has a mean of 'x' and 'scale' as shown below.\n",
    "# And we need to calculated the 'cdf' of 'xbar' in this case\n",
    "# The location (loc) keyword specifies the mean.\n",
    "# The scale (scale) keyword specifies the standard deviation.\n",
    "# scipy.stats.norm(loc=mean, scale=standard deviation)"
   ]
  },
  {
   "cell_type": "code",
   "execution_count": 8,
   "metadata": {},
   "outputs": [],
   "source": [
    "# p_value = st.norm(loc = x, scale=pop_std_sigma/m.sqrt(n)).cdf(xbar)"
   ]
  },
  {
   "cell_type": "code",
   "execution_count": 9,
   "metadata": {},
   "outputs": [],
   "source": [
    "p_value = st.norm(loc = x, scale=1.30/m.sqrt(40)).cdf(xbar)"
   ]
  },
  {
   "cell_type": "code",
   "execution_count": 10,
   "metadata": {},
   "outputs": [
    {
     "data": {
      "text/plain": [
       "0.025826347487875892"
      ]
     },
     "execution_count": 10,
     "metadata": {},
     "output_type": "execute_result"
    }
   ],
   "source": [
    "p_value"
   ]
  },
  {
   "cell_type": "markdown",
   "metadata": {},
   "source": [
    "CONCLUSION\n",
    "\n",
    "P-value is 0.0258 (2.58%) which is less than the significance level (α = 5%) <br/>\n",
    "Hence we can reject the Null Hypothesis\n",
    "\n",
    "SIGNIFICANCE\n",
    "\n",
    "Company is not filling upto 2lts in its bottles"
   ]
  },
  {
   "cell_type": "markdown",
   "metadata": {},
   "source": [
    "DEFINITIONS\n",
    "\n",
    "The p-value is a number between 0 and 1 and interpreted in the following way: <br/>\n",
    "A small p-value (typically ≤ 0.05) indicates strong evidence against <br/>\n",
    "the null hypothesis, so you reject the null hypothesis."
   ]
  },
  {
   "cell_type": "markdown",
   "metadata": {},
   "source": [
    "Alpha is usually expressed as a proportion. Thus, if the confidence level is 95%,<br/>\n",
    "then alpha would equal 1 - 0.95 or 0.05. With respect to hypothesis tests,<br/> \n",
    "alpha refers to significance level, the probability of making a Type I error."
   ]
  },
  {
   "cell_type": "code",
   "execution_count": null,
   "metadata": {},
   "outputs": [],
   "source": []
  }
 ],
 "metadata": {
  "kernelspec": {
   "display_name": "Python 3",
   "language": "python",
   "name": "python3"
  },
  "language_info": {
   "codemirror_mode": {
    "name": "ipython",
    "version": 3
   },
   "file_extension": ".py",
   "mimetype": "text/x-python",
   "name": "python",
   "nbconvert_exporter": "python",
   "pygments_lexer": "ipython3",
   "version": "3.6.4"
  }
 },
 "nbformat": 4,
 "nbformat_minor": 2
}
