{
 "cells": [
  {
   "cell_type": "markdown",
   "metadata": {},
   "source": [
    "# Sequence 2 Sequence Model"
   ]
  },
  {
   "cell_type": "code",
   "execution_count": 1,
   "metadata": {},
   "outputs": [],
   "source": [
    "### https://towardsdatascience.com/solving-nlp-task-using-sequence2sequence-model-from-zero-to-hero-c193c1bd03d1\n",
    "### https://github.com/shudima/notebooks/blob/master/NER.ipynb"
   ]
  },
  {
   "cell_type": "code",
   "execution_count": 2,
   "metadata": {},
   "outputs": [],
   "source": [
    "import os\n",
    "import math\n",
    "import itertools\n",
    "import numpy as np\n",
    "import pandas as pd\n",
    "\n",
    "from tqdm import tqdm\n",
    "\n",
    "import matplotlib.pyplot as plt\n",
    "%matplotlib inline\n"
   ]
  },
  {
   "cell_type": "code",
   "execution_count": 3,
   "metadata": {},
   "outputs": [],
   "source": [
    "try:\n",
    "    basestring\n",
    "except NameError:\n",
    "    basestring = str"
   ]
  },
  {
   "cell_type": "code",
   "execution_count": 90,
   "metadata": {},
   "outputs": [],
   "source": [
    "ner_df = pd.read_csv('ner_dataset.csv', encoding=\"ISO-8859-1\")\n",
    "#ner_df['Word'] = ner_df['Word'].str.lower()"
   ]
  },
  {
   "cell_type": "code",
   "execution_count": 91,
   "metadata": {},
   "outputs": [
    {
     "data": {
      "text/html": [
       "<div>\n",
       "<style scoped>\n",
       "    .dataframe tbody tr th:only-of-type {\n",
       "        vertical-align: middle;\n",
       "    }\n",
       "\n",
       "    .dataframe tbody tr th {\n",
       "        vertical-align: top;\n",
       "    }\n",
       "\n",
       "    .dataframe thead th {\n",
       "        text-align: right;\n",
       "    }\n",
       "</style>\n",
       "<table border=\"1\" class=\"dataframe\">\n",
       "  <thead>\n",
       "    <tr style=\"text-align: right;\">\n",
       "      <th></th>\n",
       "      <th>Sentence #</th>\n",
       "      <th>Word</th>\n",
       "      <th>POS</th>\n",
       "      <th>Tag</th>\n",
       "    </tr>\n",
       "  </thead>\n",
       "  <tbody>\n",
       "    <tr>\n",
       "      <th>0</th>\n",
       "      <td>Sentence: 1</td>\n",
       "      <td>Thousands</td>\n",
       "      <td>NNS</td>\n",
       "      <td>O</td>\n",
       "    </tr>\n",
       "    <tr>\n",
       "      <th>1</th>\n",
       "      <td>NaN</td>\n",
       "      <td>of</td>\n",
       "      <td>IN</td>\n",
       "      <td>O</td>\n",
       "    </tr>\n",
       "    <tr>\n",
       "      <th>2</th>\n",
       "      <td>NaN</td>\n",
       "      <td>demonstrators</td>\n",
       "      <td>NNS</td>\n",
       "      <td>O</td>\n",
       "    </tr>\n",
       "    <tr>\n",
       "      <th>3</th>\n",
       "      <td>NaN</td>\n",
       "      <td>have</td>\n",
       "      <td>VBP</td>\n",
       "      <td>O</td>\n",
       "    </tr>\n",
       "    <tr>\n",
       "      <th>4</th>\n",
       "      <td>NaN</td>\n",
       "      <td>marched</td>\n",
       "      <td>VBN</td>\n",
       "      <td>O</td>\n",
       "    </tr>\n",
       "    <tr>\n",
       "      <th>5</th>\n",
       "      <td>NaN</td>\n",
       "      <td>through</td>\n",
       "      <td>IN</td>\n",
       "      <td>O</td>\n",
       "    </tr>\n",
       "    <tr>\n",
       "      <th>6</th>\n",
       "      <td>NaN</td>\n",
       "      <td>London</td>\n",
       "      <td>NNP</td>\n",
       "      <td>B-geo</td>\n",
       "    </tr>\n",
       "    <tr>\n",
       "      <th>7</th>\n",
       "      <td>NaN</td>\n",
       "      <td>to</td>\n",
       "      <td>TO</td>\n",
       "      <td>O</td>\n",
       "    </tr>\n",
       "    <tr>\n",
       "      <th>8</th>\n",
       "      <td>NaN</td>\n",
       "      <td>protest</td>\n",
       "      <td>VB</td>\n",
       "      <td>O</td>\n",
       "    </tr>\n",
       "    <tr>\n",
       "      <th>9</th>\n",
       "      <td>NaN</td>\n",
       "      <td>the</td>\n",
       "      <td>DT</td>\n",
       "      <td>O</td>\n",
       "    </tr>\n",
       "    <tr>\n",
       "      <th>10</th>\n",
       "      <td>NaN</td>\n",
       "      <td>war</td>\n",
       "      <td>NN</td>\n",
       "      <td>O</td>\n",
       "    </tr>\n",
       "    <tr>\n",
       "      <th>11</th>\n",
       "      <td>NaN</td>\n",
       "      <td>in</td>\n",
       "      <td>IN</td>\n",
       "      <td>O</td>\n",
       "    </tr>\n",
       "    <tr>\n",
       "      <th>12</th>\n",
       "      <td>NaN</td>\n",
       "      <td>Iraq</td>\n",
       "      <td>NNP</td>\n",
       "      <td>B-geo</td>\n",
       "    </tr>\n",
       "    <tr>\n",
       "      <th>13</th>\n",
       "      <td>NaN</td>\n",
       "      <td>and</td>\n",
       "      <td>CC</td>\n",
       "      <td>O</td>\n",
       "    </tr>\n",
       "    <tr>\n",
       "      <th>14</th>\n",
       "      <td>NaN</td>\n",
       "      <td>demand</td>\n",
       "      <td>VB</td>\n",
       "      <td>O</td>\n",
       "    </tr>\n",
       "    <tr>\n",
       "      <th>15</th>\n",
       "      <td>NaN</td>\n",
       "      <td>the</td>\n",
       "      <td>DT</td>\n",
       "      <td>O</td>\n",
       "    </tr>\n",
       "    <tr>\n",
       "      <th>16</th>\n",
       "      <td>NaN</td>\n",
       "      <td>withdrawal</td>\n",
       "      <td>NN</td>\n",
       "      <td>O</td>\n",
       "    </tr>\n",
       "    <tr>\n",
       "      <th>17</th>\n",
       "      <td>NaN</td>\n",
       "      <td>of</td>\n",
       "      <td>IN</td>\n",
       "      <td>O</td>\n",
       "    </tr>\n",
       "    <tr>\n",
       "      <th>18</th>\n",
       "      <td>NaN</td>\n",
       "      <td>British</td>\n",
       "      <td>JJ</td>\n",
       "      <td>B-gpe</td>\n",
       "    </tr>\n",
       "    <tr>\n",
       "      <th>19</th>\n",
       "      <td>NaN</td>\n",
       "      <td>troops</td>\n",
       "      <td>NNS</td>\n",
       "      <td>O</td>\n",
       "    </tr>\n",
       "    <tr>\n",
       "      <th>20</th>\n",
       "      <td>NaN</td>\n",
       "      <td>from</td>\n",
       "      <td>IN</td>\n",
       "      <td>O</td>\n",
       "    </tr>\n",
       "    <tr>\n",
       "      <th>21</th>\n",
       "      <td>NaN</td>\n",
       "      <td>that</td>\n",
       "      <td>DT</td>\n",
       "      <td>O</td>\n",
       "    </tr>\n",
       "    <tr>\n",
       "      <th>22</th>\n",
       "      <td>NaN</td>\n",
       "      <td>country</td>\n",
       "      <td>NN</td>\n",
       "      <td>O</td>\n",
       "    </tr>\n",
       "    <tr>\n",
       "      <th>23</th>\n",
       "      <td>NaN</td>\n",
       "      <td>.</td>\n",
       "      <td>.</td>\n",
       "      <td>O</td>\n",
       "    </tr>\n",
       "    <tr>\n",
       "      <th>24</th>\n",
       "      <td>Sentence: 2</td>\n",
       "      <td>Families</td>\n",
       "      <td>NNS</td>\n",
       "      <td>O</td>\n",
       "    </tr>\n",
       "    <tr>\n",
       "      <th>25</th>\n",
       "      <td>NaN</td>\n",
       "      <td>of</td>\n",
       "      <td>IN</td>\n",
       "      <td>O</td>\n",
       "    </tr>\n",
       "    <tr>\n",
       "      <th>26</th>\n",
       "      <td>NaN</td>\n",
       "      <td>soldiers</td>\n",
       "      <td>NNS</td>\n",
       "      <td>O</td>\n",
       "    </tr>\n",
       "    <tr>\n",
       "      <th>27</th>\n",
       "      <td>NaN</td>\n",
       "      <td>killed</td>\n",
       "      <td>VBN</td>\n",
       "      <td>O</td>\n",
       "    </tr>\n",
       "    <tr>\n",
       "      <th>28</th>\n",
       "      <td>NaN</td>\n",
       "      <td>in</td>\n",
       "      <td>IN</td>\n",
       "      <td>O</td>\n",
       "    </tr>\n",
       "    <tr>\n",
       "      <th>29</th>\n",
       "      <td>NaN</td>\n",
       "      <td>the</td>\n",
       "      <td>DT</td>\n",
       "      <td>O</td>\n",
       "    </tr>\n",
       "  </tbody>\n",
       "</table>\n",
       "</div>"
      ],
      "text/plain": [
       "     Sentence #           Word  POS    Tag\n",
       "0   Sentence: 1      Thousands  NNS      O\n",
       "1           NaN             of   IN      O\n",
       "2           NaN  demonstrators  NNS      O\n",
       "3           NaN           have  VBP      O\n",
       "4           NaN        marched  VBN      O\n",
       "5           NaN        through   IN      O\n",
       "6           NaN         London  NNP  B-geo\n",
       "7           NaN             to   TO      O\n",
       "8           NaN        protest   VB      O\n",
       "9           NaN            the   DT      O\n",
       "10          NaN            war   NN      O\n",
       "11          NaN             in   IN      O\n",
       "12          NaN           Iraq  NNP  B-geo\n",
       "13          NaN            and   CC      O\n",
       "14          NaN         demand   VB      O\n",
       "15          NaN            the   DT      O\n",
       "16          NaN     withdrawal   NN      O\n",
       "17          NaN             of   IN      O\n",
       "18          NaN        British   JJ  B-gpe\n",
       "19          NaN         troops  NNS      O\n",
       "20          NaN           from   IN      O\n",
       "21          NaN           that   DT      O\n",
       "22          NaN        country   NN      O\n",
       "23          NaN              .    .      O\n",
       "24  Sentence: 2       Families  NNS      O\n",
       "25          NaN             of   IN      O\n",
       "26          NaN       soldiers  NNS      O\n",
       "27          NaN         killed  VBN      O\n",
       "28          NaN             in   IN      O\n",
       "29          NaN            the   DT      O"
      ]
     },
     "execution_count": 91,
     "metadata": {},
     "output_type": "execute_result"
    }
   ],
   "source": [
    "ner_df.head(30)"
   ]
  },
  {
   "cell_type": "code",
   "execution_count": 92,
   "metadata": {},
   "outputs": [
    {
     "data": {
      "text/plain": [
       "(47960, 47960)"
      ]
     },
     "execution_count": 92,
     "metadata": {},
     "output_type": "execute_result"
    }
   ],
   "source": [
    "sentences_words = []\n",
    "sentences_tags = []\n",
    "curr_sent_num = -1\n",
    "current_sentence_words = []\n",
    "current_sentence_tags = []\n",
    "for sent_num, word, tag in ner_df[['Sentence #', 'Word', 'Tag']].values:   \n",
    "    if isinstance(sent_num, basestring) and 'Sentence: ' in sent_num:\n",
    "        curr_sent_num = int(sent_num.split(':')[1].strip())\n",
    "        \n",
    "        if current_sentence_words and current_sentence_tags:\n",
    "            sentences_words.append(current_sentence_words)\n",
    "            sentences_tags.append(current_sentence_tags)\n",
    "            \n",
    "        current_sentence_words = []\n",
    "        current_sentence_tags = []\n",
    "    \n",
    "    current_sentence_words.append(word.encode(encoding='ISO-8859-1', ).decode(errors='replace'))\n",
    "    current_sentence_tags.append(tag)\n",
    "\n",
    "len(sentences_words), len(sentences_tags)"
   ]
  },
  {
   "cell_type": "code",
   "execution_count": 93,
   "metadata": {},
   "outputs": [
    {
     "name": "stdout",
     "output_type": "stream",
     "text": [
      "Not O\n",
      "counting O\n",
      "the O\n",
      "latest O\n",
      "death O\n",
      ", O\n",
      "the O\n",
      "World B-org\n",
      "Health I-org\n",
      "Organization I-org\n",
      "says O\n",
      "227 O\n",
      "people O\n",
      "around O\n",
      "the O\n",
      "world O\n",
      "have O\n",
      "died O\n",
      "from O\n",
      "bird O\n",
      "flu O\n",
      "since O\n",
      "2003 B-tim\n",
      ". O\n"
     ]
    }
   ],
   "source": [
    "for w, k in zip(sentences_words[123], sentences_tags[123]):\n",
    "    print(w, k)\n"
   ]
  },
  {
   "cell_type": "code",
   "execution_count": 94,
   "metadata": {},
   "outputs": [
    {
     "name": "stdout",
     "output_type": "stream",
     "text": [
      "Train: 38368 38368\n",
      "Test: 9592 9592\n"
     ]
    }
   ],
   "source": [
    "train_size = int(len(sentences_words) * 0.8)\n",
    "\n",
    "train_sentences_words = sentences_words[:train_size]\n",
    "train_sentences_tags = sentences_tags[:train_size]\n",
    "test_sentences_words = sentences_words[train_size:]\n",
    "test_sentences_tags = sentences_tags[train_size:]\n",
    "\n",
    "print('Train:', len(train_sentences_words), len(train_sentences_tags))\n",
    "print('Test:', len(test_sentences_words), len(test_sentences_tags))"
   ]
  },
  {
   "cell_type": "markdown",
   "metadata": {},
   "source": [
    "# BoW + Cls Benchmark"
   ]
  },
  {
   "cell_type": "code",
   "execution_count": 95,
   "metadata": {},
   "outputs": [],
   "source": [
    "import scipy\n",
    "from sklearn.feature_extraction.text import CountVectorizer\n"
   ]
  },
  {
   "cell_type": "code",
   "execution_count": 96,
   "metadata": {},
   "outputs": [],
   "source": [
    "def sentence_to_instances(words, tags, bow, count_vectorizer):\n",
    "    X = []\n",
    "    y = []\n",
    "    for w, t in zip(words, tags):\n",
    "        v = count_vectorizer.transform([w])[0]\n",
    "        v = scipy.sparse.hstack([v, bow])\n",
    "        X.append(v)\n",
    "        y.append(t)\n",
    "        \n",
    "    return scipy.sparse.vstack(X), y\n",
    "\n",
    "def sentences_to_instances(sentences_words, sentences_tags, count_vectorizer):\n",
    "    bows = count_vectorizer.transform(map(lambda s: ' '.join(s), sentences_words))\n",
    "    X = []\n",
    "    y = []\n",
    "    for words, tags, bow in zip(sentences_words, sentences_tags, bows):\n",
    "        sent_X, sent_y = sentence_to_instances(words, tags, bow, count_vectorizer)\n",
    "        X.append(sent_X)\n",
    "        y += sent_y\n",
    "        \n",
    "    return scipy.sparse.vstack(X), np.array(y)"
   ]
  },
  {
   "cell_type": "code",
   "execution_count": 97,
   "metadata": {},
   "outputs": [
    {
     "data": {
      "text/plain": [
       "CountVectorizer(analyzer='word', binary=False, decode_error='strict',\n",
       "        dtype='int32', encoding='utf-8', input='content', lowercase=True,\n",
       "        max_df=1.0, max_features=None, min_df=1, ngram_range=(1, 1),\n",
       "        preprocessor=None, stop_words=None, strip_accents=None,\n",
       "        token_pattern='(?u)\\\\b\\\\w\\\\w+\\\\b', tokenizer=None, vocabulary=None)"
      ]
     },
     "execution_count": 97,
     "metadata": {},
     "output_type": "execute_result"
    }
   ],
   "source": [
    "count_vectorizer = CountVectorizer(dtype='int32').fit(map(lambda s: ' '.join(s), train_sentences_words))\n",
    "count_vectorizer"
   ]
  },
  {
   "cell_type": "code",
   "execution_count": 98,
   "metadata": {},
   "outputs": [
    {
     "name": "stdout",
     "output_type": "stream",
     "text": [
      "Wall time: 7min 19s\n"
     ]
    }
   ],
   "source": [
    "%time train_X, train_y = sentences_to_instances(train_sentences_words, train_sentences_tags, count_vectorizer)\n"
   ]
  },
  {
   "cell_type": "code",
   "execution_count": 99,
   "metadata": {},
   "outputs": [
    {
     "data": {
      "text/plain": [
       "((839270, 50892), (839270,))"
      ]
     },
     "execution_count": 99,
     "metadata": {},
     "output_type": "execute_result"
    }
   ],
   "source": [
    "train_X.shape, train_y.shape"
   ]
  },
  {
   "cell_type": "code",
   "execution_count": 100,
   "metadata": {},
   "outputs": [
    {
     "name": "stdout",
     "output_type": "stream",
     "text": [
      "Wall time: 1min 46s\n"
     ]
    }
   ],
   "source": [
    "%time test_X, test_y = sentences_to_instances(test_sentences_words, test_sentences_tags, count_vectorizer)\n"
   ]
  },
  {
   "cell_type": "code",
   "execution_count": 101,
   "metadata": {},
   "outputs": [
    {
     "data": {
      "text/plain": [
       "((209313, 50892), (209313,))"
      ]
     },
     "execution_count": 101,
     "metadata": {},
     "output_type": "execute_result"
    }
   ],
   "source": [
    "test_X.shape, test_y.shape"
   ]
  },
  {
   "cell_type": "code",
   "execution_count": 102,
   "metadata": {},
   "outputs": [],
   "source": [
    "from sklearn.ensemble import GradientBoostingClassifier\n",
    "from sklearn.metrics import classification_report"
   ]
  },
  {
   "cell_type": "code",
   "execution_count": 103,
   "metadata": {},
   "outputs": [
    {
     "data": {
      "text/plain": [
       "GradientBoostingClassifier(criterion='friedman_mse', init=None,\n",
       "              learning_rate=0.1, loss='deviance', max_depth=3,\n",
       "              max_features=None, max_leaf_nodes=None,\n",
       "              min_impurity_decrease=0.0, min_impurity_split=None,\n",
       "              min_samples_leaf=1, min_samples_split=2,\n",
       "              min_weight_fraction_leaf=0.0, n_estimators=100,\n",
       "              n_iter_no_change=None, presort='auto', random_state=None,\n",
       "              subsample=1.0, tol=0.0001, validation_fraction=0.1,\n",
       "              verbose=0, warm_start=False)"
      ]
     },
     "execution_count": 103,
     "metadata": {},
     "output_type": "execute_result"
    }
   ],
   "source": [
    "clf = GradientBoostingClassifier()\n",
    "clf"
   ]
  },
  {
   "cell_type": "code",
   "execution_count": 104,
   "metadata": {},
   "outputs": [],
   "source": [
    "#break;"
   ]
  },
  {
   "cell_type": "code",
   "execution_count": 107,
   "metadata": {},
   "outputs": [],
   "source": [
    "%time clf.fit(train_X, train_y)"
   ]
  },
  {
   "cell_type": "code",
   "execution_count": 108,
   "metadata": {},
   "outputs": [],
   "source": [
    "predicted = clf.predict(test_X)"
   ]
  },
  {
   "cell_type": "code",
   "execution_count": null,
   "metadata": {},
   "outputs": [],
   "source": [
    "print(classification_report(test_y, predicted))"
   ]
  },
  {
   "cell_type": "markdown",
   "metadata": {},
   "source": [
    "# Prepare for Seq2Seq"
   ]
  },
  {
   "cell_type": "code",
   "execution_count": 109,
   "metadata": {},
   "outputs": [
    {
     "data": {
      "text/plain": [
       "{'CONVENTION',\n",
       " 'Seasonal',\n",
       " 'match-fixing',\n",
       " 'Arabiya',\n",
       " 'Bayrou',\n",
       " 'tentatively',\n",
       " 'haggling',\n",
       " 'Jacob',\n",
       " 'tunnel',\n",
       " 'Serbs',\n",
       " '2035',\n",
       " 'timeline',\n",
       " 'faulting',\n",
       " 'From',\n",
       " 'Pressure',\n",
       " 'Admiral',\n",
       " 'flood',\n",
       " 'Orbiter',\n",
       " 'high-technology',\n",
       " '9.5',\n",
       " 'perceptions',\n",
       " 'defying',\n",
       " 'sir',\n",
       " 'blanked',\n",
       " 'involvement',\n",
       " 'cell-phone',\n",
       " 'firecrackers',\n",
       " 'lucrative',\n",
       " 'Islamists',\n",
       " 'Persistent',\n",
       " 'payroll',\n",
       " 'shook',\n",
       " 'credit',\n",
       " 'unrealistic',\n",
       " '178',\n",
       " 'overboard',\n",
       " '84th',\n",
       " 'Strategy',\n",
       " 'Fort',\n",
       " 'Karachi',\n",
       " 'converted',\n",
       " 'Nidal',\n",
       " 'indissoluble',\n",
       " 'Sita',\n",
       " 'Broncos',\n",
       " 'includes',\n",
       " 'Eyadema',\n",
       " 'Housing',\n",
       " 'conspiring',\n",
       " '3.4',\n",
       " 'risks',\n",
       " 'Associates',\n",
       " 'commodities',\n",
       " 'Champions',\n",
       " 'Doug',\n",
       " 'trash',\n",
       " 'plateau',\n",
       " 'Sunni-dominant',\n",
       " 'Miami',\n",
       " 'Landale',\n",
       " 'surrounded',\n",
       " 'daunting',\n",
       " 'Tajouri',\n",
       " 'reassessed',\n",
       " 'detailing',\n",
       " 'simultaneous',\n",
       " 'Porto',\n",
       " 'Bagosora',\n",
       " 'Torgelow',\n",
       " '22,000',\n",
       " 'Oaxaca',\n",
       " 'Frankenstadion',\n",
       " 'mobilized',\n",
       " 'Janica',\n",
       " 'Scooter',\n",
       " 'Gazeta',\n",
       " 'Aftab',\n",
       " 'Approximately',\n",
       " 'Rezko',\n",
       " 'dispenser',\n",
       " 'party-goers',\n",
       " '275-seat',\n",
       " 'Utrecht',\n",
       " 'Naise',\n",
       " 'Banned',\n",
       " 'B.',\n",
       " '542',\n",
       " 'crewmates',\n",
       " 'Maastricht',\n",
       " 'witnesses',\n",
       " 'drivers',\n",
       " 'antihistamine',\n",
       " 'convention',\n",
       " 'dollar',\n",
       " 'Velach',\n",
       " 'Anwarul',\n",
       " 'roadblock',\n",
       " 'testified',\n",
       " 'partnership',\n",
       " 'gunfights',\n",
       " 'Geofizyka',\n",
       " 'receiver',\n",
       " 'Arroyo',\n",
       " 'presidency',\n",
       " 'al-Nuimei',\n",
       " 'Soyuzcapsule',\n",
       " 'Brownfield',\n",
       " 'Huaren',\n",
       " 'EPRDF',\n",
       " 'neighborhoods',\n",
       " 'commemoration',\n",
       " 'Indonesia',\n",
       " 'passports',\n",
       " 'cutthroat',\n",
       " 'disagrees',\n",
       " 'Osbek',\n",
       " 'ZALKIN',\n",
       " 'Jr.',\n",
       " 'Multan',\n",
       " 'communist-ruled',\n",
       " 'Washington-area',\n",
       " '1958',\n",
       " 'Ira',\n",
       " '633',\n",
       " 'Rakhine',\n",
       " 'lowering',\n",
       " 'motor-home',\n",
       " 'businessman',\n",
       " 'Blige',\n",
       " 'Filling',\n",
       " 'Jansa',\n",
       " 'perverse',\n",
       " 'Scam',\n",
       " 'explosives',\n",
       " 'stimulus',\n",
       " 'conventional',\n",
       " 'Mort',\n",
       " 'Parties',\n",
       " 'seven-hour',\n",
       " 'undergraduate',\n",
       " 'evening',\n",
       " 'frozen',\n",
       " 'Danielle',\n",
       " 'targeted',\n",
       " 'Rajah',\n",
       " 'military-related',\n",
       " 'refugees',\n",
       " 'fires',\n",
       " 'Hen',\n",
       " 'Jun',\n",
       " 'Grants',\n",
       " 'Gamboa',\n",
       " 'receive',\n",
       " '5,588',\n",
       " 'Tokelau',\n",
       " 'Fishing',\n",
       " 'guarding',\n",
       " 'unclear',\n",
       " 'meteorologists',\n",
       " 'canals',\n",
       " 'Sutanto',\n",
       " 'assassinations',\n",
       " 'doubles',\n",
       " 'Datanalisis',\n",
       " 'questions',\n",
       " 'Manigat',\n",
       " 'imprisonment',\n",
       " 'disarms',\n",
       " 'judiciary',\n",
       " 'Southern',\n",
       " 'US-India',\n",
       " 'centrally-planned',\n",
       " 'Bomb',\n",
       " 'Dagestan',\n",
       " 'Marchand',\n",
       " 'Challengerspace',\n",
       " 'seats',\n",
       " 'Antezana',\n",
       " 'mostly-Sunni',\n",
       " 'week',\n",
       " 'mid-to-late',\n",
       " 'database',\n",
       " 'Regulatory',\n",
       " 'McCartney',\n",
       " 'retake',\n",
       " 'manifesto',\n",
       " '44,000',\n",
       " 'adapt',\n",
       " 'uncooperative',\n",
       " 'sudden',\n",
       " 'Danny',\n",
       " 'once-a-day',\n",
       " 'landlocked',\n",
       " 'escalating',\n",
       " 'Mr.Yushchenko',\n",
       " 'authorize',\n",
       " 'Jean-Baptiste',\n",
       " 'then-president',\n",
       " '1-0',\n",
       " 'Matara',\n",
       " 'malaria-fighting',\n",
       " 'Cambodian',\n",
       " 'laundering',\n",
       " 're-opening',\n",
       " 'Escravos',\n",
       " '407',\n",
       " 'Hispanics',\n",
       " 'democratized',\n",
       " '0.17',\n",
       " 'shadowed',\n",
       " 'singing',\n",
       " 'private-sector',\n",
       " 'auction',\n",
       " 'Officers',\n",
       " 'strategy',\n",
       " 'Vladivostok',\n",
       " '337',\n",
       " 'Ignacio',\n",
       " 'Helgesen',\n",
       " 'Sher',\n",
       " 'defied',\n",
       " 'DVDs',\n",
       " 'uncovering',\n",
       " 'detachment',\n",
       " 'Our',\n",
       " 'Boat',\n",
       " 'banned',\n",
       " 'tourist',\n",
       " 'alternatives',\n",
       " 'courtiers',\n",
       " 'intestine',\n",
       " '1980s',\n",
       " 'repaid',\n",
       " 'suggests',\n",
       " '1928',\n",
       " 'queen',\n",
       " 'veterans',\n",
       " 'Chemistry',\n",
       " 'geography',\n",
       " 'brokerage',\n",
       " 'fades',\n",
       " 'Vintsuk',\n",
       " 'Badme',\n",
       " 'Tajbakhsh',\n",
       " 'sixth-seed',\n",
       " 'nonalcoholic',\n",
       " 'firmn',\n",
       " 'breach',\n",
       " 'investigation',\n",
       " 'Martina',\n",
       " 'Mest',\n",
       " 'fabricated',\n",
       " 'Over',\n",
       " 'Enterprise',\n",
       " '92',\n",
       " 'facilitates',\n",
       " 'palm',\n",
       " 'alliance',\n",
       " 'Asef',\n",
       " 'Vukov',\n",
       " 'footlocker',\n",
       " 'directed',\n",
       " 'claims',\n",
       " 'routed',\n",
       " 'Ramin',\n",
       " 'salvage',\n",
       " 'followup',\n",
       " 'jump',\n",
       " 'Haditha',\n",
       " 'villager',\n",
       " 'largely-Muslim',\n",
       " 'nation-states',\n",
       " 'Supari',\n",
       " 'continuation',\n",
       " 'Shabelle',\n",
       " 'Genetic',\n",
       " 'Berezovsky',\n",
       " 'card',\n",
       " 'spreads',\n",
       " 'comparative',\n",
       " 'Andy',\n",
       " 'Protestants',\n",
       " 'cautious',\n",
       " 'Inarritu',\n",
       " 'Soomro',\n",
       " 'Daunting',\n",
       " 'Piotr',\n",
       " 'deputies',\n",
       " 'Amhed',\n",
       " 'pessimistic',\n",
       " 'ram',\n",
       " 'Tokyo',\n",
       " 'congestion',\n",
       " 'Secret',\n",
       " 'Gambari',\n",
       " 'appreciate',\n",
       " 'deeper',\n",
       " 'Corporation',\n",
       " 'Condominium',\n",
       " 'Guangzhou',\n",
       " 'sensitivities',\n",
       " 'usually',\n",
       " 'misusing',\n",
       " 'If',\n",
       " 'scolded',\n",
       " 'minority',\n",
       " 'arson-related',\n",
       " 'worse',\n",
       " 'LLC',\n",
       " 'ZANU-PF',\n",
       " 'Schorr',\n",
       " 'scampered',\n",
       " 'uses',\n",
       " 'Walayo',\n",
       " 'Hit',\n",
       " 'ElBaradei',\n",
       " 'expands',\n",
       " 'CPPCC',\n",
       " '14-thousand',\n",
       " 'Iyad',\n",
       " 'provocations',\n",
       " 'motorcade',\n",
       " 'Picture',\n",
       " 'already',\n",
       " 'Hwang',\n",
       " 'tainted',\n",
       " 'trophy',\n",
       " 'unveiled',\n",
       " 'Kidwai',\n",
       " 'hydroelectric',\n",
       " 'Syria-based',\n",
       " 'Ingrid',\n",
       " 'bless',\n",
       " 'weathering',\n",
       " 'Ghraib',\n",
       " 'selfish',\n",
       " 'DPRK',\n",
       " 'occupies',\n",
       " 'dipped',\n",
       " 'suffer',\n",
       " 'Chopan',\n",
       " 'tuba',\n",
       " 'peninsula',\n",
       " 'Cabezas',\n",
       " 'Displaced',\n",
       " 'Ossetia',\n",
       " 'Israeli-Palestinian',\n",
       " '2900',\n",
       " 'Kosumi',\n",
       " 'territories',\n",
       " 'painted',\n",
       " 'complaining',\n",
       " 'browsing',\n",
       " 'Indian',\n",
       " 'blackmailed',\n",
       " 'conferences',\n",
       " 'Shagh',\n",
       " 'unreliable',\n",
       " 'Kanow',\n",
       " 'anti-Castro',\n",
       " 'brutalized',\n",
       " '37-degree',\n",
       " 'Sol',\n",
       " 'Latgalians',\n",
       " 'Rabdhure',\n",
       " 'da',\n",
       " 'bears',\n",
       " 'Val',\n",
       " 'emigrated',\n",
       " 'Adamantios',\n",
       " 'Xijing',\n",
       " 'Malaria',\n",
       " 'simplified',\n",
       " 'Union-sponsored',\n",
       " 'riverside',\n",
       " 'Obama',\n",
       " 'Mwesige',\n",
       " 'Lodin',\n",
       " 'Boldak',\n",
       " 'Moravia',\n",
       " 'Boisvert',\n",
       " 'Record',\n",
       " 'Donuts',\n",
       " 'inevitable',\n",
       " 'Tai',\n",
       " 'Bartholomew',\n",
       " 'retained',\n",
       " 'invasive',\n",
       " 'Jailed',\n",
       " 'snowman',\n",
       " 'James',\n",
       " 'Open',\n",
       " 'Radovan',\n",
       " 'gaining',\n",
       " 'divorce',\n",
       " 'consolidated',\n",
       " 'slated',\n",
       " 'equally',\n",
       " 'Gump',\n",
       " 'decorating',\n",
       " 'calling',\n",
       " 'dead',\n",
       " 'heated',\n",
       " 'inquiries',\n",
       " 'Israelis',\n",
       " 'Fatah-allied',\n",
       " 'aides',\n",
       " 'Mira',\n",
       " 'hunts',\n",
       " 'Bushehr',\n",
       " 'utilized',\n",
       " 'staunchest',\n",
       " 'dependent',\n",
       " 'potent',\n",
       " 'sister',\n",
       " '60-thousand',\n",
       " 'Rogers',\n",
       " 'Bono',\n",
       " 'assume',\n",
       " 'imitation',\n",
       " 'incident',\n",
       " 'Barring',\n",
       " 'Brigadier-General',\n",
       " 'Sixth-seeded',\n",
       " 'mosques',\n",
       " 'mideast',\n",
       " 'sporting',\n",
       " 'OPEC',\n",
       " 'al-Qaeda',\n",
       " 'Presidential',\n",
       " 'payback',\n",
       " 'brutality',\n",
       " 'Scandinavian',\n",
       " 'UNHCR',\n",
       " 'unlicensed',\n",
       " 'marriages',\n",
       " 'Felipe',\n",
       " 'flushed',\n",
       " 'Zahedan',\n",
       " '35-nation',\n",
       " 'Sweden',\n",
       " 'Diwali',\n",
       " 'fiscal',\n",
       " 'financial',\n",
       " 'Barghouti',\n",
       " 'first-hand',\n",
       " 'Phan',\n",
       " 'Kazem',\n",
       " 'breadfruit',\n",
       " 'Lancaster',\n",
       " 'ranked',\n",
       " 'prep',\n",
       " 'counseled',\n",
       " 'Search',\n",
       " 'roving',\n",
       " 'Bobby',\n",
       " 'entertainer',\n",
       " 'defamation',\n",
       " 'Vargas',\n",
       " 'Surrounded',\n",
       " 'Under-20',\n",
       " 'Tadic',\n",
       " 'coupon',\n",
       " 'operation',\n",
       " 'swimmer',\n",
       " 'travelers',\n",
       " 'ILNA',\n",
       " 'al-Hadhar',\n",
       " 'gang-related',\n",
       " 'alienating',\n",
       " 'Payenda',\n",
       " 'constituencies',\n",
       " 'agriculture-led',\n",
       " 'Gambia',\n",
       " 'Fried',\n",
       " 'MOHAMMED',\n",
       " 'musician',\n",
       " 'Rashad',\n",
       " 'pilots',\n",
       " 'dimming',\n",
       " 'Ball',\n",
       " 'discount',\n",
       " 'temper',\n",
       " 'Birmingham',\n",
       " 'Francis',\n",
       " 'half-measures',\n",
       " 'Yuvraj',\n",
       " '1,850',\n",
       " 'comedian',\n",
       " 'Anabel',\n",
       " 'anti-Semitic',\n",
       " 'Seventy-three',\n",
       " 'outpost',\n",
       " 'Dnes',\n",
       " 'Biloxi',\n",
       " 'stock',\n",
       " 'PEASANT',\n",
       " 'Persons',\n",
       " 'insupportable',\n",
       " 'apologize',\n",
       " 'ICG',\n",
       " '35.2',\n",
       " 'demoralized',\n",
       " 'dramatically',\n",
       " 'missile',\n",
       " 'pad',\n",
       " 'Cajun',\n",
       " 'In',\n",
       " 'BEASTS',\n",
       " 'remittances',\n",
       " 'outside',\n",
       " 'semifinals',\n",
       " 'characterization',\n",
       " 'debts',\n",
       " 'declared',\n",
       " 'Product',\n",
       " 'Vechchio',\n",
       " 'Rebecca',\n",
       " 'solely',\n",
       " 'Highly-Indebted',\n",
       " 'inconsistent',\n",
       " 'Ojdanic',\n",
       " 'satisfying',\n",
       " '69th',\n",
       " 'generally',\n",
       " 'defect',\n",
       " 'Doctor',\n",
       " 'This',\n",
       " 'Yuganskneftegas',\n",
       " 'Bombings',\n",
       " 'emphasizes',\n",
       " 'Khori',\n",
       " 'assassinating',\n",
       " 'taint',\n",
       " 'Rana',\n",
       " 'Polish-born',\n",
       " 'gathered',\n",
       " 'Canada',\n",
       " 'repay',\n",
       " 'polio',\n",
       " 'Rabat',\n",
       " 'Soldiers',\n",
       " 'eighties',\n",
       " 'autoimmune',\n",
       " \"Ba'ath\",\n",
       " 'commando',\n",
       " '85,000',\n",
       " 'Manta',\n",
       " 'Croatians',\n",
       " 'anti-trust',\n",
       " '37.5',\n",
       " 'hero',\n",
       " 'parking',\n",
       " 'House-to-house',\n",
       " 'Barmer',\n",
       " 'generous',\n",
       " 'Nagin',\n",
       " 'crystal',\n",
       " 'Limon',\n",
       " 'See',\n",
       " '1.8',\n",
       " 'Schroeder',\n",
       " 'Pixar',\n",
       " 'Kartik',\n",
       " '03-Jun',\n",
       " 'Mnangawa',\n",
       " 'colored',\n",
       " 'Giuliani',\n",
       " 'Latest',\n",
       " 'MacKay',\n",
       " 'spread',\n",
       " 'stocking',\n",
       " 'fisheries',\n",
       " 'blistering',\n",
       " 'occurred',\n",
       " 'ride',\n",
       " 'Jaatanni',\n",
       " 'starring',\n",
       " 'Avi',\n",
       " 'Moses',\n",
       " 'Francesca',\n",
       " 'mural',\n",
       " 'Allied',\n",
       " 'Rajouri',\n",
       " 'snowstorm',\n",
       " 'helpful',\n",
       " 'expects',\n",
       " '6-0',\n",
       " 'hypocrisy',\n",
       " 'deifies',\n",
       " 'abolishes',\n",
       " 'propagandists',\n",
       " 'Civilian',\n",
       " 'finances',\n",
       " 'processing',\n",
       " 'Texas-based',\n",
       " 'toys',\n",
       " 'honoured',\n",
       " 'unfortunately',\n",
       " 'laborers',\n",
       " 'Eisenman',\n",
       " 'chant',\n",
       " 'one-man',\n",
       " 'robin',\n",
       " 'reminder',\n",
       " '71-26',\n",
       " 'Dheere',\n",
       " 'consular',\n",
       " 'Arrangement',\n",
       " 'petroleum',\n",
       " 'Gisagara',\n",
       " 'Scandinavia',\n",
       " 'Hawass',\n",
       " 'Taye',\n",
       " 'silly',\n",
       " 'scrutiny',\n",
       " 'Wizard',\n",
       " '777',\n",
       " '680',\n",
       " 'records',\n",
       " 'Rostock',\n",
       " 'Ojea',\n",
       " 'Kerry',\n",
       " 'Tampa',\n",
       " 'Initial',\n",
       " 'Walikale',\n",
       " 'strike',\n",
       " 'Dangabari',\n",
       " 'Stamford',\n",
       " 'Marina',\n",
       " 'Censorship',\n",
       " 'luge',\n",
       " 'surprising',\n",
       " 'tsunami-devastated',\n",
       " 'renegotiate',\n",
       " 'Leipzig',\n",
       " 'Neiva',\n",
       " 'URIBE',\n",
       " '40-day',\n",
       " 'rite',\n",
       " 'Earth-orbiting',\n",
       " 'origin',\n",
       " 'maltreated',\n",
       " 'Virgin',\n",
       " 'automatically',\n",
       " 'Rangoon',\n",
       " 'taunting',\n",
       " 'Nineva',\n",
       " 'prized',\n",
       " 'premier',\n",
       " 'NPT',\n",
       " 'Ski',\n",
       " 'ODA',\n",
       " 'diplomacy',\n",
       " 'finalizing',\n",
       " 'Momammad',\n",
       " 'commission',\n",
       " 'trio',\n",
       " 'paves',\n",
       " 'Ukrainians',\n",
       " 'skate',\n",
       " 'third-largest',\n",
       " 'trade-in',\n",
       " 'Buffeted',\n",
       " 'Nebraska',\n",
       " 'Pearl',\n",
       " 'opening-day',\n",
       " 'present-day',\n",
       " 'emperor',\n",
       " 'masterminds',\n",
       " 'El~Arish',\n",
       " 'pride',\n",
       " 'Harcharik',\n",
       " '770',\n",
       " 'pit',\n",
       " 'Opinion',\n",
       " 'monsoon',\n",
       " 'DUI-related',\n",
       " 'cough',\n",
       " 'garden',\n",
       " 'chief-of-staff',\n",
       " 'creatively',\n",
       " 'Figaro',\n",
       " 'Samsun',\n",
       " 'squalid',\n",
       " 'industrialize',\n",
       " 'Algerian-based',\n",
       " 'Center',\n",
       " 'Magellanic',\n",
       " 'robots',\n",
       " 'absentia',\n",
       " 'Nomura',\n",
       " 'argue',\n",
       " '1920s',\n",
       " 'Prabhakaran',\n",
       " 'Indian-born',\n",
       " 'exemption',\n",
       " 'Motor',\n",
       " 'Abduction',\n",
       " 'Mezerhane',\n",
       " 'Croats',\n",
       " '19-day',\n",
       " 'human',\n",
       " 'payouts',\n",
       " 'appears',\n",
       " 'Pradel',\n",
       " '131',\n",
       " 'ad',\n",
       " '28,000',\n",
       " 'counter-proposal',\n",
       " 'non-functional',\n",
       " 'Osnabrueck',\n",
       " 'Austrians',\n",
       " 'single-dose',\n",
       " 'deceive',\n",
       " 'minivan',\n",
       " 'Emirates',\n",
       " 'daughters',\n",
       " 'Maref',\n",
       " 'inspector',\n",
       " 'generations',\n",
       " 'noses',\n",
       " 'Jensen',\n",
       " 'centralize',\n",
       " 'undervalued',\n",
       " 'relationships',\n",
       " 'Faculty',\n",
       " 'Fequiere',\n",
       " 'serve',\n",
       " 'contempt',\n",
       " 'Those',\n",
       " 'folded',\n",
       " 'tsunamis',\n",
       " 'recruit',\n",
       " 'mailed',\n",
       " 'UAE',\n",
       " 'Rumbek',\n",
       " 'years-long',\n",
       " 'stylist',\n",
       " 'Brigade',\n",
       " 'Pakistani-controlled',\n",
       " 'judges',\n",
       " 'Important',\n",
       " 'reciprocate',\n",
       " 'chanted',\n",
       " 'D-Ohio',\n",
       " 'lesser-known',\n",
       " 'Typhoon',\n",
       " 'Ethnic',\n",
       " 'load-shedding',\n",
       " 'driving',\n",
       " 'Pinera',\n",
       " 'bribed',\n",
       " 'misconduct',\n",
       " '357',\n",
       " 'co-leader',\n",
       " 'Longyan',\n",
       " 'Gazprom',\n",
       " 'sends',\n",
       " 'pipelines',\n",
       " 'wiretapped',\n",
       " 'elected',\n",
       " 'misdeeds',\n",
       " 'defaulting',\n",
       " 'bars',\n",
       " 'fourth-largest',\n",
       " 'obstacle',\n",
       " 'neither',\n",
       " 'Vienna-based',\n",
       " 'Ryan',\n",
       " 'commuted',\n",
       " 'Muhsin',\n",
       " 'Isfahan',\n",
       " 'paper',\n",
       " 'demonstrations',\n",
       " 'contain',\n",
       " 'Made',\n",
       " 'threatening',\n",
       " 'Vovk',\n",
       " '1915',\n",
       " 'Sarfraz',\n",
       " 'article',\n",
       " 'capitalize',\n",
       " 'harmonious',\n",
       " 'Ericsson',\n",
       " 'eight-legged',\n",
       " 'Royals',\n",
       " 'civilization',\n",
       " 'Omra',\n",
       " 'groundwork',\n",
       " 'stockpiled',\n",
       " 'Railways',\n",
       " 'Rowsch',\n",
       " '54th',\n",
       " 'condition',\n",
       " 'tearfully',\n",
       " 'revolver',\n",
       " 'Beersheba',\n",
       " 'lifts',\n",
       " 'redirected',\n",
       " 'hamper',\n",
       " 'bruised',\n",
       " 'foothold',\n",
       " 'offline',\n",
       " 'afflicting',\n",
       " 'beaming',\n",
       " 'Energy',\n",
       " 'frisked',\n",
       " 'err',\n",
       " 'Adumim',\n",
       " 'refinery',\n",
       " 'eventual',\n",
       " 'Waruru',\n",
       " 'upheld',\n",
       " 'photographers',\n",
       " 'lays',\n",
       " 'garlicky',\n",
       " 'stayed',\n",
       " 'PAD',\n",
       " 'guess',\n",
       " 'Vegas',\n",
       " 'than',\n",
       " 'Atwah',\n",
       " 'Jung',\n",
       " 'eased',\n",
       " 'Timex',\n",
       " 'three-tenths',\n",
       " 'few',\n",
       " 'conclusions',\n",
       " 'Fossilized',\n",
       " '9-percent',\n",
       " 'Baath',\n",
       " 'Chasseurs-Volontaires',\n",
       " 'Shirts',\n",
       " 'forcible',\n",
       " 'traded',\n",
       " 'Bashar',\n",
       " 'Affairs',\n",
       " 'Donovan',\n",
       " 'disciplined',\n",
       " 'Papillovirus',\n",
       " 'casualities',\n",
       " 'Morrell',\n",
       " 'Memphis',\n",
       " 'across-the-board',\n",
       " 'finest',\n",
       " 'Carl',\n",
       " 'Namibian',\n",
       " 'Ludin',\n",
       " 'Fathallah',\n",
       " 'Aboutorabi-Fard',\n",
       " 'careers',\n",
       " 'Zamoanga',\n",
       " 'vanquished',\n",
       " 'Belgrade',\n",
       " 'piped',\n",
       " 'Bank-arranged',\n",
       " 'harming',\n",
       " 'videotape',\n",
       " 'halted',\n",
       " 'rationale',\n",
       " 'relying',\n",
       " 'Apr-29',\n",
       " 'rightists',\n",
       " 'Barthelemy',\n",
       " 'Bo',\n",
       " 'Rui',\n",
       " 'five',\n",
       " 'Euro-Atlantic',\n",
       " 'Solidarity',\n",
       " 'protracted',\n",
       " 'Pardo',\n",
       " 'mother',\n",
       " 'reaches',\n",
       " 'violated',\n",
       " 'Foundation',\n",
       " 'themes',\n",
       " 'illegal',\n",
       " 'covers',\n",
       " '336',\n",
       " 'Andr�',\n",
       " 'siphoning',\n",
       " 'ELN',\n",
       " 'gratification',\n",
       " 'graves',\n",
       " 'containers',\n",
       " 'answers',\n",
       " 'high-risk',\n",
       " 'tomb',\n",
       " 'stars',\n",
       " '97',\n",
       " 'Ursula',\n",
       " 'anticipating',\n",
       " 'Musician',\n",
       " 'adult',\n",
       " 'rotation',\n",
       " 'dozen',\n",
       " 'squeezed',\n",
       " 'Midwest',\n",
       " 'Adolf',\n",
       " 'Released',\n",
       " 'Urbi',\n",
       " 'Maria',\n",
       " 'lagged',\n",
       " 'testing',\n",
       " 'burned-out',\n",
       " 'Beiring',\n",
       " 'Barbara',\n",
       " 'narrates',\n",
       " 'Hernych',\n",
       " 'BULLS',\n",
       " 'certainly',\n",
       " 'Rain',\n",
       " 'Jokonya',\n",
       " 'Sukumaran',\n",
       " 'Hanan',\n",
       " 'riskier',\n",
       " 'hills',\n",
       " 'Kristin',\n",
       " 'Spector',\n",
       " 'unimaginable',\n",
       " 'distorted',\n",
       " 'insecurity',\n",
       " 'Gonzalo',\n",
       " 'occasionally',\n",
       " 'reform-minded',\n",
       " 'institutional',\n",
       " 'long-running',\n",
       " 'richly',\n",
       " 'Huda',\n",
       " 'conquest',\n",
       " 'neck',\n",
       " '95,000',\n",
       " '49',\n",
       " 'bet',\n",
       " 'condolence',\n",
       " 'EFPs',\n",
       " 'cheek',\n",
       " 'Jendayi',\n",
       " 'collective',\n",
       " 'Nine',\n",
       " 'teammate',\n",
       " 'Measles',\n",
       " 'BANDA',\n",
       " 'Pontchartrain',\n",
       " 'Mali',\n",
       " 'beatings',\n",
       " 'Achouri',\n",
       " 'Hema',\n",
       " 'ETA',\n",
       " 'disrepair',\n",
       " '12-point',\n",
       " 'cosmopolitan',\n",
       " 'Der',\n",
       " 'Crowley',\n",
       " 'aneurysm',\n",
       " 'Pronk',\n",
       " 'faction-ridden',\n",
       " 'Focus',\n",
       " 'Kariye',\n",
       " 'negotiators',\n",
       " 'momentum',\n",
       " 'platform',\n",
       " 'liquid',\n",
       " 'CIA',\n",
       " 'million',\n",
       " 'Industry',\n",
       " 'Renen',\n",
       " 'Tchiroma',\n",
       " 'Information',\n",
       " 'full-range',\n",
       " 'Investigators',\n",
       " 'spurs',\n",
       " '740',\n",
       " 'despondent',\n",
       " 'Republican-controlled',\n",
       " 'Solo',\n",
       " 'enabling',\n",
       " 'Zapatistas',\n",
       " 'open-ended',\n",
       " 'hypothetical',\n",
       " 'reasonably',\n",
       " 'Charter97',\n",
       " 'universe',\n",
       " 'task',\n",
       " 'GNASSINGBE',\n",
       " 'Panzhihua',\n",
       " 'purports',\n",
       " 'remorse',\n",
       " 'Higher',\n",
       " 'deport',\n",
       " 'elaborating',\n",
       " '8.5',\n",
       " 'Wolfowitz',\n",
       " 'Coach',\n",
       " 'Valdes',\n",
       " 'Ki-Moon',\n",
       " 'Rahlves',\n",
       " 'restricted',\n",
       " 'nominating',\n",
       " ...}"
      ]
     },
     "execution_count": 109,
     "metadata": {},
     "output_type": "execute_result"
    }
   ],
   "source": [
    "vocab = set(itertools.chain(*[[w for w in s] for s in train_sentences_words])) \n",
    "vocab"
   ]
  },
  {
   "cell_type": "code",
   "execution_count": 110,
   "metadata": {},
   "outputs": [
    {
     "data": {
      "text/plain": [
       "{'B-art',\n",
       " 'B-eve',\n",
       " 'B-geo',\n",
       " 'B-gpe',\n",
       " 'B-nat',\n",
       " 'B-org',\n",
       " 'B-per',\n",
       " 'B-tim',\n",
       " 'I-art',\n",
       " 'I-eve',\n",
       " 'I-geo',\n",
       " 'I-gpe',\n",
       " 'I-nat',\n",
       " 'I-org',\n",
       " 'I-per',\n",
       " 'I-tim',\n",
       " 'O'}"
      ]
     },
     "execution_count": 110,
     "metadata": {},
     "output_type": "execute_result"
    }
   ],
   "source": [
    "tags = set(itertools.chain(*[[w for w in s] for s in train_sentences_tags]))\n",
    "tags"
   ]
  },
  {
   "cell_type": "code",
   "execution_count": 111,
   "metadata": {},
   "outputs": [
    {
     "data": {
      "text/plain": [
       "38368"
      ]
     },
     "execution_count": 111,
     "metadata": {},
     "output_type": "execute_result"
    }
   ],
   "source": [
    "sentences_lens = map(len, train_sentences_words)\n",
    "sentences_lens = list(sentences_lens)\n",
    "len(sentences_lens)"
   ]
  },
  {
   "cell_type": "code",
   "execution_count": 112,
   "metadata": {},
   "outputs": [
    {
     "data": {
      "text/plain": [
       "(31809, 17)"
      ]
     },
     "execution_count": 112,
     "metadata": {},
     "output_type": "execute_result"
    }
   ],
   "source": [
    "len(vocab), len(tags), "
   ]
  },
  {
   "cell_type": "code",
   "execution_count": 113,
   "metadata": {},
   "outputs": [
    {
     "data": {
      "text/plain": [
       "104"
      ]
     },
     "execution_count": 113,
     "metadata": {},
     "output_type": "execute_result"
    }
   ],
   "source": [
    "max(sentences_lens)"
   ]
  },
  {
   "cell_type": "code",
   "execution_count": 114,
   "metadata": {},
   "outputs": [
    {
     "data": {
      "text/plain": [
       "(array([3.5510e+03, 1.5670e+04, 1.4855e+04, 3.8900e+03, 3.3800e+02,\n",
       "        5.2000e+01, 1.0000e+01, 1.0000e+00, 0.0000e+00, 1.0000e+00]),\n",
       " array([  1. ,  11.3,  21.6,  31.9,  42.2,  52.5,  62.8,  73.1,  83.4,\n",
       "         93.7, 104. ]),\n",
       " <a list of 10 Patch objects>)"
      ]
     },
     "execution_count": 114,
     "metadata": {},
     "output_type": "execute_result"
    },
    {
     "data": {
      "image/png": "[encoded data removed]",
      "text/plain": [
       "<Figure size 432x288 with 1 Axes>"
      ]
     },
     "metadata": {
      "needs_background": "light"
     },
     "output_type": "display_data"
    }
   ],
   "source": [
    "plt.hist(sentences_lens)"
   ]
  },
  {
   "cell_type": "code",
   "execution_count": 115,
   "metadata": {},
   "outputs": [],
   "source": [
    "# MAX_LEN = 75 \n",
    "MAX_LEN = max(sentences_lens)\n",
    "VOCAB_SIZE = len(vocab)"
   ]
  },
  {
   "cell_type": "code",
   "execution_count": 117,
   "metadata": {},
   "outputs": [],
   "source": [
    "from keras.preprocessing.text import Tokenizer\n",
    "from keras.preprocessing.sequence import pad_sequences"
   ]
  },
  {
   "cell_type": "code",
   "execution_count": 118,
   "metadata": {},
   "outputs": [
    {
     "data": {
      "text/plain": [
       "<keras_preprocessing.text.Tokenizer at 0x2ad00210e48>"
      ]
     },
     "execution_count": 118,
     "metadata": {},
     "output_type": "execute_result"
    }
   ],
   "source": [
    "words_tokenizer = Tokenizer(num_words=VOCAB_SIZE, filters=[], oov_token='__UNKNOWN__')\n",
    "words_tokenizer"
   ]
  },
  {
   "cell_type": "code",
   "execution_count": 119,
   "metadata": {},
   "outputs": [],
   "source": [
    "words_tokenizer.fit_on_texts(map(lambda s: ' '.join(s), train_sentences_words))\n"
   ]
  },
  {
   "cell_type": "code",
   "execution_count": 120,
   "metadata": {},
   "outputs": [
    {
     "data": {
      "text/plain": [
       "13508"
      ]
     },
     "execution_count": 120,
     "metadata": {},
     "output_type": "execute_result"
    }
   ],
   "source": [
    "word_index = words_tokenizer.word_index\n",
    "word_index['__PADDING__'] = 0\n",
    "word_index['circle']"
   ]
  },
  {
   "cell_type": "code",
   "execution_count": 121,
   "metadata": {},
   "outputs": [],
   "source": [
    "# [(k,v) for k,v in word_index.items()]"
   ]
  },
  {
   "cell_type": "code",
   "execution_count": 122,
   "metadata": {},
   "outputs": [
    {
     "name": "stdout",
     "output_type": "stream",
     "text": [
      "Unique tokens: 28824\n"
     ]
    }
   ],
   "source": [
    "index_word = {i:w for w, i in word_index.items()}\n",
    "print('Unique tokens:', len(word_index))"
   ]
  },
  {
   "cell_type": "code",
   "execution_count": 157,
   "metadata": {},
   "outputs": [
    {
     "name": "stdout",
     "output_type": "stream",
     "text": [
      "38368 9592\n"
     ]
    }
   ],
   "source": [
    "train_sequences = words_tokenizer.texts_to_sequences(map(lambda s: ' '.join(s), train_sentences_words))\n",
    "test_sequences = words_tokenizer.texts_to_sequences(map(lambda s: ' '.join(s), test_sentences_words))\n",
    "print(len(train_sequences), len(test_sequences))"
   ]
  },
  {
   "cell_type": "code",
   "execution_count": 158,
   "metadata": {},
   "outputs": [
    {
     "name": "stdout",
     "output_type": "stream",
     "text": [
      "(38368, 104) (9592, 104)\n"
     ]
    }
   ],
   "source": [
    "train_sequences_padded = pad_sequences(train_sequences, maxlen=MAX_LEN)\n",
    "test_sequences_padded = pad_sequences(test_sequences, maxlen=MAX_LEN)\n",
    "print(train_sequences_padded.shape, test_sequences_padded.shape)"
   ]
  },
  {
   "cell_type": "code",
   "execution_count": null,
   "metadata": {},
   "outputs": [],
   "source": []
  },
  {
   "cell_type": "code",
   "execution_count": 159,
   "metadata": {},
   "outputs": [
    {
     "data": {
      "text/plain": [
       "<keras_preprocessing.text.Tokenizer at 0x2ad04a61ba8>"
      ]
     },
     "execution_count": 159,
     "metadata": {},
     "output_type": "execute_result"
    }
   ],
   "source": [
    "tags_tokenizer = Tokenizer(num_words=len(tags), filters='', oov_token='__UNKNOWN__', lower=False)\n",
    "tags_tokenizer"
   ]
  },
  {
   "cell_type": "code",
   "execution_count": 160,
   "metadata": {},
   "outputs": [],
   "source": [
    "tags_tokenizer.fit_on_texts(map(lambda s: ' '.join(s), train_sentences_tags))\n"
   ]
  },
  {
   "cell_type": "code",
   "execution_count": 161,
   "metadata": {},
   "outputs": [
    {
     "data": {
      "text/plain": [
       "{'__UNKNOWN__': 1,\n",
       " 'O': 2,\n",
       " 'B-geo': 3,\n",
       " 'B-tim': 4,\n",
       " 'B-org': 5,\n",
       " 'I-per': 6,\n",
       " 'B-per': 7,\n",
       " 'I-org': 8,\n",
       " 'B-gpe': 9,\n",
       " 'I-geo': 10,\n",
       " 'I-tim': 11,\n",
       " 'B-art': 12,\n",
       " 'B-eve': 13,\n",
       " 'I-art': 14,\n",
       " 'I-eve': 15,\n",
       " 'I-gpe': 16,\n",
       " 'B-nat': 17,\n",
       " 'I-nat': 18,\n",
       " '__PADDING__': 0}"
      ]
     },
     "execution_count": 161,
     "metadata": {},
     "output_type": "execute_result"
    }
   ],
   "source": [
    "tag_index = tags_tokenizer.word_index\n",
    "tag_index['__PADDING__'] = 0\n",
    "tag_index"
   ]
  },
  {
   "cell_type": "code",
   "execution_count": 162,
   "metadata": {},
   "outputs": [
    {
     "name": "stdout",
     "output_type": "stream",
     "text": [
      "Unique tags: 19\n"
     ]
    }
   ],
   "source": [
    "index_tag = {i:w for w, i in tag_index.items()}\n",
    "\n",
    "index_tag_wo_padding = dict(index_tag)\n",
    "index_tag_wo_padding[tag_index['__PADDING__']] = '0'\n",
    "print('Unique tags:', len(tag_index))"
   ]
  },
  {
   "cell_type": "code",
   "execution_count": 163,
   "metadata": {},
   "outputs": [
    {
     "data": {
      "text/plain": [
       "(38368, 9592)"
      ]
     },
     "execution_count": 163,
     "metadata": {},
     "output_type": "execute_result"
    }
   ],
   "source": [
    "train_tags = tags_tokenizer.texts_to_sequences(map(lambda s: ' '.join(s), train_sentences_tags))\n",
    "test_tags = tags_tokenizer.texts_to_sequences(map(lambda s: ' '.join(s), test_sentences_tags))\n",
    "len(train_tags), len(test_tags)"
   ]
  },
  {
   "cell_type": "code",
   "execution_count": 164,
   "metadata": {},
   "outputs": [
    {
     "name": "stdout",
     "output_type": "stream",
     "text": [
      "(38368, 104, 1) (9592, 104, 1)\n"
     ]
    }
   ],
   "source": [
    "train_tags_padded = pad_sequences(train_tags, maxlen=MAX_LEN)\n",
    "test_tags_padded = pad_sequences(test_tags, maxlen=MAX_LEN)\n",
    "\n",
    "train_tags_padded = np.expand_dims(train_tags_padded, -1)\n",
    "test_tags_padded = np.expand_dims(test_tags_padded, -1)\n",
    "print(train_tags_padded.shape, test_tags_padded.shape)"
   ]
  },
  {
   "cell_type": "code",
   "execution_count": 165,
   "metadata": {},
   "outputs": [
    {
     "data": {
      "text/plain": [
       "numpy.ndarray"
      ]
     },
     "execution_count": 165,
     "metadata": {},
     "output_type": "execute_result"
    }
   ],
   "source": [
    "type(test_tags_padded)"
   ]
  },
  {
   "cell_type": "code",
   "execution_count": 166,
   "metadata": {},
   "outputs": [
    {
     "name": "stdout",
     "output_type": "stream",
     "text": [
      "__PADDING__ __PADDING__\n",
      "__PADDING__ __PADDING__\n",
      "__PADDING__ __PADDING__\n",
      "__PADDING__ __PADDING__\n",
      "__PADDING__ __PADDING__\n",
      "__PADDING__ __PADDING__\n",
      "__PADDING__ __PADDING__\n",
      "__PADDING__ __PADDING__\n",
      "__PADDING__ __PADDING__\n",
      "__PADDING__ __PADDING__\n",
      "__PADDING__ __PADDING__\n",
      "__PADDING__ __PADDING__\n",
      "__PADDING__ __PADDING__\n",
      "__PADDING__ __PADDING__\n",
      "__PADDING__ __PADDING__\n",
      "__PADDING__ __PADDING__\n",
      "__PADDING__ __PADDING__\n",
      "__PADDING__ __PADDING__\n",
      "__PADDING__ __PADDING__\n",
      "__PADDING__ __PADDING__\n",
      "__PADDING__ __PADDING__\n",
      "__PADDING__ __PADDING__\n",
      "__PADDING__ __PADDING__\n",
      "__PADDING__ __PADDING__\n",
      "__PADDING__ __PADDING__\n",
      "__PADDING__ __PADDING__\n",
      "__PADDING__ __PADDING__\n",
      "__PADDING__ __PADDING__\n",
      "__PADDING__ __PADDING__\n",
      "__PADDING__ __PADDING__\n",
      "__PADDING__ __PADDING__\n",
      "__PADDING__ __PADDING__\n",
      "__PADDING__ __PADDING__\n",
      "__PADDING__ __PADDING__\n",
      "__PADDING__ __PADDING__\n",
      "__PADDING__ __PADDING__\n",
      "__PADDING__ __PADDING__\n",
      "__PADDING__ __PADDING__\n",
      "__PADDING__ __PADDING__\n",
      "__PADDING__ __PADDING__\n",
      "__PADDING__ __PADDING__\n",
      "__PADDING__ __PADDING__\n",
      "__PADDING__ __PADDING__\n",
      "__PADDING__ __PADDING__\n",
      "__PADDING__ __PADDING__\n",
      "__PADDING__ __PADDING__\n",
      "__PADDING__ __PADDING__\n",
      "__PADDING__ __PADDING__\n",
      "__PADDING__ __PADDING__\n",
      "__PADDING__ __PADDING__\n",
      "__PADDING__ __PADDING__\n",
      "__PADDING__ __PADDING__\n",
      "__PADDING__ __PADDING__\n",
      "__PADDING__ __PADDING__\n",
      "__PADDING__ __PADDING__\n",
      "__PADDING__ __PADDING__\n",
      "__PADDING__ __PADDING__\n",
      "__PADDING__ __PADDING__\n",
      "__PADDING__ __PADDING__\n",
      "__PADDING__ __PADDING__\n",
      "__PADDING__ __PADDING__\n",
      "__PADDING__ __PADDING__\n",
      "__PADDING__ __PADDING__\n",
      "__PADDING__ __PADDING__\n",
      "__PADDING__ __PADDING__\n",
      "__PADDING__ __PADDING__\n",
      "__PADDING__ __PADDING__\n",
      "__PADDING__ __PADDING__\n",
      "__PADDING__ __PADDING__\n",
      "__PADDING__ __PADDING__\n",
      "__PADDING__ __PADDING__\n",
      "__PADDING__ __PADDING__\n",
      "__PADDING__ __PADDING__\n",
      "__PADDING__ __PADDING__\n",
      "__PADDING__ __PADDING__\n",
      "__PADDING__ __PADDING__\n",
      "__PADDING__ __PADDING__\n",
      "__PADDING__ __PADDING__\n",
      "__PADDING__ __PADDING__\n",
      "__PADDING__ __PADDING__\n",
      "not O\n",
      "counting O\n",
      "the O\n",
      "latest O\n",
      "death O\n",
      ", O\n",
      "the O\n",
      "world B-org\n",
      "health I-org\n",
      "organization I-org\n",
      "says O\n",
      "227 O\n",
      "people O\n",
      "around O\n",
      "the O\n",
      "world O\n",
      "have O\n",
      "died O\n",
      "from O\n",
      "bird O\n",
      "flu O\n",
      "since O\n",
      "2003 B-tim\n",
      ". O\n"
     ]
    }
   ],
   "source": [
    "for w, t in zip(train_sequences_padded[123], train_tags_padded[123]):\n",
    "    print(index_word[w], index_tag[t[0]])"
   ]
  },
  {
   "cell_type": "markdown",
   "metadata": {},
   "source": [
    "# Bi-LSTM "
   ]
  },
  {
   "cell_type": "code",
   "execution_count": 133,
   "metadata": {},
   "outputs": [],
   "source": [
    "from keras.layers import Dense, Input, LSTM, Embedding, Bidirectional, Dropout\n",
    "from keras.models import Model\n",
    "from keras.initializers import Constant"
   ]
  },
  {
   "cell_type": "code",
   "execution_count": 134,
   "metadata": {},
   "outputs": [
    {
     "data": {
      "text/plain": [
       "31809"
      ]
     },
     "execution_count": 134,
     "metadata": {},
     "output_type": "execute_result"
    }
   ],
   "source": [
    "# VOCAB_SIZE = len(vocab)\n",
    "VOCAB_SIZE"
   ]
  },
  {
   "cell_type": "code",
   "execution_count": 135,
   "metadata": {},
   "outputs": [
    {
     "data": {
      "text/plain": [
       "104"
      ]
     },
     "execution_count": 135,
     "metadata": {},
     "output_type": "execute_result"
    }
   ],
   "source": [
    "MAX_LEN"
   ]
  },
  {
   "cell_type": "code",
   "execution_count": 136,
   "metadata": {},
   "outputs": [
    {
     "data": {
      "text/plain": [
       "19"
      ]
     },
     "execution_count": 136,
     "metadata": {},
     "output_type": "execute_result"
    }
   ],
   "source": [
    "len(tag_index)"
   ]
  },
  {
   "cell_type": "code",
   "execution_count": 179,
   "metadata": {},
   "outputs": [
    {
     "name": "stdout",
     "output_type": "stream",
     "text": [
      "_________________________________________________________________\n",
      "Layer (type)                 Output Shape              Param #   \n",
      "=================================================================\n",
      "input_4 (InputLayer)         (None, 104)               0         \n",
      "_________________________________________________________________\n",
      "embedding_4 (Embedding)      (None, 104, 300)          9542700   \n",
      "_________________________________________________________________\n",
      "bidirectional_4 (Bidirection (None, 104, 128)          186880    \n",
      "_________________________________________________________________\n",
      "dropout_4 (Dropout)          (None, 104, 128)          0         \n",
      "_________________________________________________________________\n",
      "dense_7 (Dense)              (None, 104, 32)           4128      \n",
      "_________________________________________________________________\n",
      "dense_8 (Dense)              (None, 104, 19)           627       \n",
      "=================================================================\n",
      "Total params: 9,734,335\n",
      "Trainable params: 9,734,335\n",
      "Non-trainable params: 0\n",
      "_________________________________________________________________\n"
     ]
    }
   ],
   "source": [
    "random_embedding_layer = Embedding(VOCAB_SIZE,\n",
    "                                300,\n",
    "                                input_length=MAX_LEN)\n",
    "\n",
    "sequence_input = Input(shape=(MAX_LEN,), dtype='int32')\n",
    "embedded_sequences = random_embedding_layer(sequence_input)\n",
    "x = Bidirectional(LSTM(64, return_sequences=True))(embedded_sequences)\n",
    "x = Dropout(0.3)(x)\n",
    "x = Dense(32, activation='relu')(x)\n",
    "preds = Dense(len(tag_index), activation='softmax')(x)\n",
    "\n",
    "model = Model(sequence_input, preds)\n",
    "model.compile(loss='sparse_categorical_crossentropy',\n",
    "              optimizer='adam',\n",
    "              #metrics=['sparse_categorical_accuracy'])\n",
    "              metrics=['categorical_accuracy'])\n",
    "\n",
    "model.summary()"
   ]
  },
  {
   "cell_type": "code",
   "execution_count": 175,
   "metadata": {},
   "outputs": [
    {
     "data": {
      "text/plain": [
       "((38368, 104), (9592, 104))"
      ]
     },
     "execution_count": 175,
     "metadata": {},
     "output_type": "execute_result"
    }
   ],
   "source": [
    "train_sequences_padded.shape, test_sequences_padded.shape"
   ]
  },
  {
   "cell_type": "code",
   "execution_count": 176,
   "metadata": {},
   "outputs": [
    {
     "data": {
      "text/plain": [
       "((38368, 104, 1), (9592, 104, 1))"
      ]
     },
     "execution_count": 176,
     "metadata": {},
     "output_type": "execute_result"
    }
   ],
   "source": [
    "train_tags_padded.shape, test_tags_padded.shape"
   ]
  },
  {
   "cell_type": "code",
   "execution_count": 177,
   "metadata": {},
   "outputs": [],
   "source": [
    "for x, y in zip(train_sequences_padded, train_tags_padded):\n",
    "    if len(x) != len(y):\n",
    "        print(len(x), len(y))"
   ]
  },
  {
   "cell_type": "code",
   "execution_count": 178,
   "metadata": {},
   "outputs": [],
   "source": [
    "for x, y in zip(test_sequences_padded, test_tags_padded):\n",
    "    if len(x) != len(y):\n",
    "        print(len(x), len(y))"
   ]
  },
  {
   "cell_type": "code",
   "execution_count": null,
   "metadata": {
    "scrolled": true
   },
   "outputs": [
    {
     "name": "stdout",
     "output_type": "stream",
     "text": [
      "Train on 38368 samples, validate on 9592 samples\n",
      "Epoch 1/10\n"
     ]
    },
    {
     "name": "stdout",
     "output_type": "stream",
     "text": [
      " 4608/38368 [==>...........................] - ETA: 56:11 - loss: 2.9644 - categorical_accuracy: 9.0144e-0 - ETA: 31:35 - loss: 2.9392 - categorical_accuracy: 0.0496    - ETA: 23:50 - loss: 2.9174 - categorical_accuracy: 0.204 - ETA: 19:38 - loss: 2.8948 - categorical_accuracy: 0.339 - ETA: 17:01 - loss: 2.8692 - categorical_accuracy: 0.445 - ETA: 15:19 - loss: 2.8417 - categorical_accuracy: 0.522 - ETA: 14:05 - loss: 2.8099 - categorical_accuracy: 0.581 - ETA: 13:09 - loss: 2.7770 - categorical_accuracy: 0.624 - ETA: 12:27 - loss: 2.7360 - categorical_accuracy: 0.661 - ETA: 11:53 - loss: 2.6889 - categorical_accuracy: 0.692 - ETA: 11:24 - loss: 2.6396 - categorical_accuracy: 0.715 - ETA: 11:02 - loss: 2.5830 - categorical_accuracy: 0.737 - ETA: 10:44 - loss: 2.5209 - categorical_accuracy: 0.754 - ETA: 10:32 - loss: 2.4509 - categorical_accuracy: 0.770 - ETA: 10:24 - loss: 2.3779 - categorical_accuracy: 0.785 - ETA: 10:13 - loss: 2.3037 - categorical_accuracy: 0.798 - ETA: 10:16 - loss: 2.2349 - categorical_accuracy: 0.809 - ETA: 10:07 - loss: 2.1678 - categorical_accuracy: 0.820 - ETA: 9:58 - loss: 2.1024 - categorical_accuracy: 0.829 - ETA: 9:52 - loss: 2.0455 - categorical_accuracy: 0.83 - ETA: 9:45 - loss: 1.9888 - categorical_accuracy: 0.84 - ETA: 9:41 - loss: 1.9352 - categorical_accuracy: 0.85 - ETA: 9:33 - loss: 1.8840 - categorical_accuracy: 0.85 - ETA: 9:25 - loss: 1.8320 - categorical_accuracy: 0.86 - ETA: 9:18 - loss: 1.7856 - categorical_accuracy: 0.86 - ETA: 9:11 - loss: 1.7409 - categorical_accuracy: 0.86 - ETA: 9:06 - loss: 1.6961 - categorical_accuracy: 0.86 - ETA: 9:00 - loss: 1.6552 - categorical_accuracy: 0.86 - ETA: 8:55 - loss: 1.6189 - categorical_accuracy: 0.86 - ETA: 8:51 - loss: 1.5806 - categorical_accuracy: 0.86 - ETA: 8:47 - loss: 1.5451 - categorical_accuracy: 0.86 - ETA: 8:43 - loss: 1.5115 - categorical_accuracy: 0.85 - ETA: 8:40 - loss: 1.4780 - categorical_accuracy: 0.85 - ETA: 8:36 - loss: 1.4458 - categorical_accuracy: 0.85 - ETA: 8:36 - loss: 1.4138 - categorical_accuracy: 0.85 - ETA: 8:35 - loss: 1.3841 - categorical_accuracy: 0.85 - ETA: 8:32 - loss: 1.3560 - categorical_accuracy: 0.85 - ETA: 8:29 - loss: 1.3272 - categorical_accuracy: 0.85 - ETA: 8:26 - loss: 1.3003 - categorical_accuracy: 0.84 - ETA: 8:22 - loss: 1.2737 - categorical_accuracy: 0.84 - ETA: 8:20 - loss: 1.2483 - categorical_accuracy: 0.84 - ETA: 8:17 - loss: 1.2233 - categorical_accuracy: 0.84 - ETA: 8:15 - loss: 1.2009 - categorical_accuracy: 0.84 - ETA: 8:12 - loss: 1.1780 - categorical_accuracy: 0.84 - ETA: 8:09 - loss: 1.1566 - categorical_accuracy: 0.84 - ETA: 8:07 - loss: 1.1360 - categorical_accuracy: 0.84 - ETA: 8:05 - loss: 1.1168 - categorical_accuracy: 0.83 - ETA: 8:03 - loss: 1.0983 - categorical_accuracy: 0.83 - ETA: 8:02 - loss: 1.0794 - categorical_accuracy: 0.83 - ETA: 8:01 - loss: 1.0618 - categorical_accuracy: 0.83 - ETA: 7:59 - loss: 1.0450 - categorical_accuracy: 0.83 - ETA: 7:57 - loss: 1.0280 - categorical_accuracy: 0.83 - ETA: 7:55 - loss: 1.0126 - categorical_accuracy: 0.83 - ETA: 7:53 - loss: 0.9974 - categorical_accuracy: 0.83 - ETA: 7:52 - loss: 0.9828 - categorical_accuracy: 0.83 - ETA: 7:51 - loss: 0.9682 - categorical_accuracy: 0.83 - ETA: 7:51 - loss: 0.9551 - categorical_accuracy: 0.83 - ETA: 7:50 - loss: 0.9419 - categorical_accuracy: 0.82 - ETA: 7:49 - loss: 0.9294 - categorical_accuracy: 0.82 - ETA: 7:47 - loss: 0.9172 - categorical_accuracy: 0.82 - ETA: 7:45 - loss: 0.9057 - categorical_accuracy: 0.82 - ETA: 7:43 - loss: 0.8947 - categorical_accuracy: 0.82 - ETA: 7:41 - loss: 0.8829 - categorical_accuracy: 0.82 - ETA: 7:40 - loss: 0.8724 - categorical_accuracy: 0.82 - ETA: 7:38 - loss: 0.8621 - categorical_accuracy: 0.82 - ETA: 7:36 - loss: 0.8514 - categorical_accuracy: 0.82 - ETA: 7:35 - loss: 0.8413 - categorical_accuracy: 0.82 - ETA: 7:34 - loss: 0.8317 - categorical_accuracy: 0.82 - ETA: 7:32 - loss: 0.8223 - categorical_accuracy: 0.82 - ETA: 7:31 - loss: 0.8135 - categorical_accuracy: 0.82 - ETA: 7:30 - loss: 0.8047 - categorical_accuracy: 0.82 - ETA: 7:28 - loss: 0.7957 - categorical_accuracy: 0.82 - ETA: 7:27 - loss: 0.7867 - categorical_accuracy: 0.82 - ETA: 7:26 - loss: 0.7782 - categorical_accuracy: 0.82 - ETA: 7:25 - loss: 0.7700 - categorical_accuracy: 0.82 - ETA: 7:24 - loss: 0.7618 - categorical_accuracy: 0.81 - ETA: 7:23 - loss: 0.7544 - categorical_accuracy: 0.81 - ETA: 7:22 - loss: 0.7467 - categorical_accuracy: 0.81 - ETA: 7:22 - loss: 0.7396 - categorical_accuracy: 0.81 - ETA: 7:20 - loss: 0.7327 - categorical_accuracy: 0.81 - ETA: 7:19 - loss: 0.7262 - categorical_accuracy: 0.81 - ETA: 7:18 - loss: 0.7194 - categorical_accuracy: 0.81 - ETA: 7:17 - loss: 0.7127 - categorical_accuracy: 0.81 - ETA: 7:16 - loss: 0.7060 - categorical_accuracy: 0.81 - ETA: 7:15 - loss: 0.6998 - categorical_accuracy: 0.81 - ETA: 7:14 - loss: 0.6936 - categorical_accuracy: 0.81 - ETA: 7:13 - loss: 0.6872 - categorical_accuracy: 0.81 - ETA: 7:12 - loss: 0.6811 - categorical_accuracy: 0.81 - ETA: 7:12 - loss: 0.6752 - categorical_accuracy: 0.81 - ETA: 7:11 - loss: 0.6696 - categorical_accuracy: 0.81 - ETA: 7:10 - loss: 0.6642 - categorical_accuracy: 0.81 - ETA: 7:10 - loss: 0.6586 - categorical_accuracy: 0.81 - ETA: 7:09 - loss: 0.6535 - categorical_accuracy: 0.81 - ETA: 7:08 - loss: 0.6485 - categorical_accuracy: 0.81 - ETA: 7:07 - loss: 0.6433 - categorical_accuracy: 0.81 - ETA: 7:06 - loss: 0.6381 - categorical_accuracy: 0.81 - ETA: 7:05 - loss: 0.6336 - categorical_accuracy: 0.81 - ETA: 7:04 - loss: 0.6290 - categorical_accuracy: 0.81 - ETA: 7:04 - loss: 0.6244 - categorical_accuracy: 0.81 - ETA: 7:03 - loss: 0.6197 - categorical_accuracy: 0.81 - ETA: 7:03 - loss: 0.6152 - categorical_accuracy: 0.81 - ETA: 7:03 - loss: 0.6106 - categorical_accuracy: 0.81 - ETA: 7:02 - loss: 0.6062 - categorical_accuracy: 0.81 - ETA: 7:01 - loss: 0.6021 - categorical_accuracy: 0.81 - ETA: 7:00 - loss: 0.5976 - categorical_accuracy: 0.81 - ETA: 7:00 - loss: 0.5932 - categorical_accuracy: 0.81 - ETA: 7:00 - loss: 0.5891 - categorical_accuracy: 0.81 - ETA: 7:00 - loss: 0.5851 - categorical_accuracy: 0.81 - ETA: 6:59 - loss: 0.5812 - categorical_accuracy: 0.81 - ETA: 6:59 - loss: 0.5768 - categorical_accuracy: 0.81 - ETA: 6:59 - loss: 0.5727 - categorical_accuracy: 0.81 - ETA: 6:59 - loss: 0.5687 - categorical_accuracy: 0.81 - ETA: 6:59 - loss: 0.5649 - categorical_accuracy: 0.81 - ETA: 6:59 - loss: 0.5614 - categorical_accuracy: 0.81 - ETA: 6:58 - loss: 0.5576 - categorical_accuracy: 0.81 - ETA: 6:58 - loss: 0.5540 - categorical_accuracy: 0.81 - ETA: 6:59 - loss: 0.5507 - categorical_accuracy: 0.81 - ETA: 6:58 - loss: 0.5474 - categorical_accuracy: 0.81 - ETA: 6:57 - loss: 0.5439 - categorical_accuracy: 0.81 - ETA: 6:56 - loss: 0.5406 - categorical_accuracy: 0.80 - ETA: 6:56 - loss: 0.5372 - categorical_accuracy: 0.80 - ETA: 6:55 - loss: 0.5338 - categorical_accuracy: 0.80 - ETA: 6:55 - loss: 0.5305 - categorical_accuracy: 0.80 - ETA: 6:55 - loss: 0.5277 - categorical_accuracy: 0.80 - ETA: 6:55 - loss: 0.5244 - categorical_accuracy: 0.80 - ETA: 6:55 - loss: 0.5216 - categorical_accuracy: 0.80 - ETA: 6:55 - loss: 0.5185 - categorical_accuracy: 0.80 - ETA: 6:55 - loss: 0.5154 - categorical_accuracy: 0.80 - ETA: 6:55 - loss: 0.5127 - categorical_accuracy: 0.80 - ETA: 6:55 - loss: 0.5096 - categorical_accuracy: 0.80 - ETA: 6:55 - loss: 0.5071 - categorical_accuracy: 0.80 - ETA: 6:54 - loss: 0.5044 - categorical_accuracy: 0.80 - ETA: 6:54 - loss: 0.5017 - categorical_accuracy: 0.80 - ETA: 6:53 - loss: 0.4988 - categorical_accuracy: 0.80 - ETA: 6:53 - loss: 0.4962 - categorical_accuracy: 0.80 - ETA: 6:53 - loss: 0.4937 - categorical_accuracy: 0.80 - ETA: 6:52 - loss: 0.4909 - categorical_accuracy: 0.80 - ETA: 6:52 - loss: 0.4880 - categorical_accuracy: 0.80 - ETA: 6:51 - loss: 0.4854 - categorical_accuracy: 0.80 - ETA: 6:50 - loss: 0.4829 - categorical_accuracy: 0.80 - ETA: 6:50 - loss: 0.4806 - categorical_accuracy: 0.80 - ETA: 6:49 - loss: 0.4781 - categorical_accuracy: 0.80 - ETA: 6:49 - loss: 0.4755 - categorical_accuracy: 0.80 - ETA: 6:49 - loss: 0.4732 - categorical_accuracy: 0.8067\b\b\b\b\b\b\b\b\b\b\b\b\b\b\b\b\b\b\b\b\b\b\b\b\b\b\b\b\b\b\b\b\b\b\b\b\b\b\b\b\b\b\b\b\b\b\b\b\b\b\b\b\b\b\b\b\b\b\b\b\b\b\b\b\b\b\b\b\b\b\b\b\b\b\b\b\b\b\b\b\b\b\b\b\b\b\b\b\b\b\b\b\b\b\b\b\b\b\b\b\b\b"
     ]
    },
    {
     "name": "stdout",
     "output_type": "stream",
     "text": [
      " 9280/38368 [======>.......................] - ETA: 6:49 - loss: 0.4709 - categorical_accuracy: 0.80 - ETA: 6:49 - loss: 0.4685 - categorical_accuracy: 0.80 - ETA: 6:49 - loss: 0.4662 - categorical_accuracy: 0.80 - ETA: 6:49 - loss: 0.4639 - categorical_accuracy: 0.80 - ETA: 6:49 - loss: 0.4616 - categorical_accuracy: 0.80 - ETA: 6:49 - loss: 0.4595 - categorical_accuracy: 0.80 - ETA: 6:49 - loss: 0.4573 - categorical_accuracy: 0.80 - ETA: 6:49 - loss: 0.4551 - categorical_accuracy: 0.80 - ETA: 6:49 - loss: 0.4529 - categorical_accuracy: 0.80 - ETA: 6:48 - loss: 0.4510 - categorical_accuracy: 0.80 - ETA: 6:48 - loss: 0.4488 - categorical_accuracy: 0.80 - ETA: 6:47 - loss: 0.4466 - categorical_accuracy: 0.80 - ETA: 6:46 - loss: 0.4443 - categorical_accuracy: 0.80 - ETA: 6:46 - loss: 0.4421 - categorical_accuracy: 0.80 - ETA: 6:45 - loss: 0.4402 - categorical_accuracy: 0.80 - ETA: 6:44 - loss: 0.4382 - categorical_accuracy: 0.80 - ETA: 6:44 - loss: 0.4362 - categorical_accuracy: 0.80 - ETA: 6:43 - loss: 0.4342 - categorical_accuracy: 0.80 - ETA: 6:43 - loss: 0.4324 - categorical_accuracy: 0.80 - ETA: 6:42 - loss: 0.4305 - categorical_accuracy: 0.80 - ETA: 6:41 - loss: 0.4285 - categorical_accuracy: 0.80 - ETA: 6:41 - loss: 0.4265 - categorical_accuracy: 0.80 - ETA: 6:40 - loss: 0.4248 - categorical_accuracy: 0.80 - ETA: 6:39 - loss: 0.4231 - categorical_accuracy: 0.80 - ETA: 6:39 - loss: 0.4211 - categorical_accuracy: 0.80 - ETA: 6:38 - loss: 0.4193 - categorical_accuracy: 0.80 - ETA: 6:37 - loss: 0.4175 - categorical_accuracy: 0.80 - ETA: 6:37 - loss: 0.4157 - categorical_accuracy: 0.80 - ETA: 6:36 - loss: 0.4140 - categorical_accuracy: 0.80 - ETA: 6:35 - loss: 0.4123 - categorical_accuracy: 0.80 - ETA: 6:35 - loss: 0.4107 - categorical_accuracy: 0.80 - ETA: 6:34 - loss: 0.4090 - categorical_accuracy: 0.80 - ETA: 6:34 - loss: 0.4074 - categorical_accuracy: 0.80 - ETA: 6:33 - loss: 0.4058 - categorical_accuracy: 0.80 - ETA: 6:33 - loss: 0.4042 - categorical_accuracy: 0.80 - ETA: 6:32 - loss: 0.4026 - categorical_accuracy: 0.80 - ETA: 6:32 - loss: 0.4009 - categorical_accuracy: 0.80 - ETA: 6:31 - loss: 0.3993 - categorical_accuracy: 0.80 - ETA: 6:30 - loss: 0.3979 - categorical_accuracy: 0.80 - ETA: 6:30 - loss: 0.3964 - categorical_accuracy: 0.80 - ETA: 6:29 - loss: 0.3949 - categorical_accuracy: 0.80 - ETA: 6:29 - loss: 0.3934 - categorical_accuracy: 0.80 - ETA: 6:29 - loss: 0.3919 - categorical_accuracy: 0.80 - ETA: 6:28 - loss: 0.3904 - categorical_accuracy: 0.80 - ETA: 6:28 - loss: 0.3890 - categorical_accuracy: 0.80 - ETA: 6:27 - loss: 0.3875 - categorical_accuracy: 0.80 - ETA: 6:27 - loss: 0.3861 - categorical_accuracy: 0.80 - ETA: 6:26 - loss: 0.3847 - categorical_accuracy: 0.80 - ETA: 6:26 - loss: 0.3833 - categorical_accuracy: 0.80 - ETA: 6:25 - loss: 0.3819 - categorical_accuracy: 0.80 - ETA: 6:24 - loss: 0.3805 - categorical_accuracy: 0.80 - ETA: 6:24 - loss: 0.3790 - categorical_accuracy: 0.80 - ETA: 6:23 - loss: 0.3775 - categorical_accuracy: 0.80 - ETA: 6:23 - loss: 0.3764 - categorical_accuracy: 0.80 - ETA: 6:22 - loss: 0.3750 - categorical_accuracy: 0.80 - ETA: 6:21 - loss: 0.3736 - categorical_accuracy: 0.80 - ETA: 6:21 - loss: 0.3723 - categorical_accuracy: 0.80 - ETA: 6:20 - loss: 0.3709 - categorical_accuracy: 0.80 - ETA: 6:20 - loss: 0.3695 - categorical_accuracy: 0.80 - ETA: 6:19 - loss: 0.3682 - categorical_accuracy: 0.80 - ETA: 6:19 - loss: 0.3668 - categorical_accuracy: 0.80 - ETA: 6:18 - loss: 0.3655 - categorical_accuracy: 0.80 - ETA: 6:18 - loss: 0.3643 - categorical_accuracy: 0.80 - ETA: 6:17 - loss: 0.3630 - categorical_accuracy: 0.80 - ETA: 6:17 - loss: 0.3617 - categorical_accuracy: 0.80 - ETA: 6:16 - loss: 0.3605 - categorical_accuracy: 0.80 - ETA: 6:15 - loss: 0.3592 - categorical_accuracy: 0.80 - ETA: 6:15 - loss: 0.3581 - categorical_accuracy: 0.80 - ETA: 6:14 - loss: 0.3568 - categorical_accuracy: 0.80 - ETA: 6:14 - loss: 0.3555 - categorical_accuracy: 0.80 - ETA: 6:14 - loss: 0.3544 - categorical_accuracy: 0.80 - ETA: 6:13 - loss: 0.3532 - categorical_accuracy: 0.80 - ETA: 6:13 - loss: 0.3521 - categorical_accuracy: 0.80 - ETA: 6:13 - loss: 0.3510 - categorical_accuracy: 0.80 - ETA: 6:13 - loss: 0.3498 - categorical_accuracy: 0.80 - ETA: 6:12 - loss: 0.3487 - categorical_accuracy: 0.80 - ETA: 6:12 - loss: 0.3477 - categorical_accuracy: 0.80 - ETA: 6:12 - loss: 0.3466 - categorical_accuracy: 0.80 - ETA: 6:11 - loss: 0.3455 - categorical_accuracy: 0.80 - ETA: 6:11 - loss: 0.3444 - categorical_accuracy: 0.80 - ETA: 6:11 - loss: 0.3434 - categorical_accuracy: 0.80 - ETA: 6:10 - loss: 0.3425 - categorical_accuracy: 0.80 - ETA: 6:10 - loss: 0.3415 - categorical_accuracy: 0.80 - ETA: 6:09 - loss: 0.3404 - categorical_accuracy: 0.80 - ETA: 6:09 - loss: 0.3393 - categorical_accuracy: 0.80 - ETA: 6:08 - loss: 0.3382 - categorical_accuracy: 0.80 - ETA: 6:08 - loss: 0.3371 - categorical_accuracy: 0.80 - ETA: 6:07 - loss: 0.3360 - categorical_accuracy: 0.80 - ETA: 6:07 - loss: 0.3350 - categorical_accuracy: 0.80 - ETA: 6:07 - loss: 0.3340 - categorical_accuracy: 0.80 - ETA: 6:06 - loss: 0.3330 - categorical_accuracy: 0.80 - ETA: 6:06 - loss: 0.3321 - categorical_accuracy: 0.80 - ETA: 6:05 - loss: 0.3311 - categorical_accuracy: 0.80 - ETA: 6:05 - loss: 0.3301 - categorical_accuracy: 0.80 - ETA: 6:04 - loss: 0.3291 - categorical_accuracy: 0.80 - ETA: 6:04 - loss: 0.3283 - categorical_accuracy: 0.80 - ETA: 6:03 - loss: 0.3273 - categorical_accuracy: 0.80 - ETA: 6:03 - loss: 0.3263 - categorical_accuracy: 0.80 - ETA: 6:02 - loss: 0.3254 - categorical_accuracy: 0.80 - ETA: 6:02 - loss: 0.3244 - categorical_accuracy: 0.80 - ETA: 6:01 - loss: 0.3234 - categorical_accuracy: 0.80 - ETA: 6:01 - loss: 0.3225 - categorical_accuracy: 0.80 - ETA: 6:00 - loss: 0.3217 - categorical_accuracy: 0.80 - ETA: 6:00 - loss: 0.3208 - categorical_accuracy: 0.80 - ETA: 5:59 - loss: 0.3198 - categorical_accuracy: 0.80 - ETA: 5:59 - loss: 0.3189 - categorical_accuracy: 0.80 - ETA: 5:58 - loss: 0.3181 - categorical_accuracy: 0.80 - ETA: 5:58 - loss: 0.3171 - categorical_accuracy: 0.80 - ETA: 5:58 - loss: 0.3162 - categorical_accuracy: 0.80 - ETA: 5:57 - loss: 0.3152 - categorical_accuracy: 0.80 - ETA: 5:57 - loss: 0.3143 - categorical_accuracy: 0.80 - ETA: 5:57 - loss: 0.3135 - categorical_accuracy: 0.80 - ETA: 5:56 - loss: 0.3126 - categorical_accuracy: 0.80 - ETA: 5:56 - loss: 0.3118 - categorical_accuracy: 0.80 - ETA: 5:55 - loss: 0.3109 - categorical_accuracy: 0.80 - ETA: 5:55 - loss: 0.3101 - categorical_accuracy: 0.80 - ETA: 5:55 - loss: 0.3093 - categorical_accuracy: 0.80 - ETA: 5:54 - loss: 0.3086 - categorical_accuracy: 0.80 - ETA: 5:54 - loss: 0.3078 - categorical_accuracy: 0.80 - ETA: 5:53 - loss: 0.3069 - categorical_accuracy: 0.80 - ETA: 5:53 - loss: 0.3061 - categorical_accuracy: 0.80 - ETA: 5:52 - loss: 0.3054 - categorical_accuracy: 0.80 - ETA: 5:52 - loss: 0.3045 - categorical_accuracy: 0.80 - ETA: 5:51 - loss: 0.3038 - categorical_accuracy: 0.80 - ETA: 5:51 - loss: 0.3029 - categorical_accuracy: 0.80 - ETA: 5:51 - loss: 0.3022 - categorical_accuracy: 0.80 - ETA: 5:50 - loss: 0.3014 - categorical_accuracy: 0.80 - ETA: 5:50 - loss: 0.3006 - categorical_accuracy: 0.80 - ETA: 5:49 - loss: 0.2998 - categorical_accuracy: 0.80 - ETA: 5:49 - loss: 0.2989 - categorical_accuracy: 0.80 - ETA: 5:49 - loss: 0.2982 - categorical_accuracy: 0.80 - ETA: 5:48 - loss: 0.2974 - categorical_accuracy: 0.80 - ETA: 5:48 - loss: 0.2966 - categorical_accuracy: 0.80 - ETA: 5:47 - loss: 0.2959 - categorical_accuracy: 0.80 - ETA: 5:47 - loss: 0.2952 - categorical_accuracy: 0.80 - ETA: 5:46 - loss: 0.2945 - categorical_accuracy: 0.80 - ETA: 5:46 - loss: 0.2938 - categorical_accuracy: 0.80 - ETA: 5:46 - loss: 0.2931 - categorical_accuracy: 0.80 - ETA: 5:45 - loss: 0.2924 - categorical_accuracy: 0.80 - ETA: 5:45 - loss: 0.2917 - categorical_accuracy: 0.80 - ETA: 5:44 - loss: 0.2909 - categorical_accuracy: 0.80 - ETA: 5:44 - loss: 0.2902 - categorical_accuracy: 0.79 - ETA: 5:44 - loss: 0.2894 - categorical_accuracy: 0.79 - ETA: 5:43 - loss: 0.2886 - categorical_accuracy: 0.79 - ETA: 5:43 - loss: 0.2880 - categorical_accuracy: 0.79 - ETA: 5:43 - loss: 0.2874 - categorical_accuracy: 0.7998"
     ]
    },
    {
     "name": "stdout",
     "output_type": "stream",
     "text": [
      "13952/38368 [=========>....................] - ETA: 5:42 - loss: 0.2867 - categorical_accuracy: 0.79 - ETA: 5:42 - loss: 0.2861 - categorical_accuracy: 0.79 - ETA: 5:42 - loss: 0.2854 - categorical_accuracy: 0.79 - ETA: 5:41 - loss: 0.2847 - categorical_accuracy: 0.79 - ETA: 5:41 - loss: 0.2840 - categorical_accuracy: 0.79 - ETA: 5:41 - loss: 0.2833 - categorical_accuracy: 0.79 - ETA: 5:40 - loss: 0.2826 - categorical_accuracy: 0.79 - ETA: 5:40 - loss: 0.2820 - categorical_accuracy: 0.79 - ETA: 5:40 - loss: 0.2813 - categorical_accuracy: 0.79 - ETA: 5:39 - loss: 0.2807 - categorical_accuracy: 0.79 - ETA: 5:39 - loss: 0.2800 - categorical_accuracy: 0.79 - ETA: 5:39 - loss: 0.2794 - categorical_accuracy: 0.79 - ETA: 5:39 - loss: 0.2787 - categorical_accuracy: 0.79 - ETA: 5:38 - loss: 0.2780 - categorical_accuracy: 0.79 - ETA: 5:38 - loss: 0.2774 - categorical_accuracy: 0.79 - ETA: 5:38 - loss: 0.2767 - categorical_accuracy: 0.79 - ETA: 5:37 - loss: 0.2761 - categorical_accuracy: 0.79 - ETA: 5:37 - loss: 0.2755 - categorical_accuracy: 0.79 - ETA: 5:37 - loss: 0.2749 - categorical_accuracy: 0.79 - ETA: 5:36 - loss: 0.2743 - categorical_accuracy: 0.79 - ETA: 5:36 - loss: 0.2736 - categorical_accuracy: 0.79 - ETA: 5:36 - loss: 0.2730 - categorical_accuracy: 0.79 - ETA: 5:35 - loss: 0.2724 - categorical_accuracy: 0.79 - ETA: 5:35 - loss: 0.2717 - categorical_accuracy: 0.79 - ETA: 5:35 - loss: 0.2711 - categorical_accuracy: 0.79 - ETA: 5:34 - loss: 0.2704 - categorical_accuracy: 0.79 - ETA: 5:34 - loss: 0.2699 - categorical_accuracy: 0.79 - ETA: 5:34 - loss: 0.2694 - categorical_accuracy: 0.79 - ETA: 5:33 - loss: 0.2688 - categorical_accuracy: 0.79 - ETA: 5:33 - loss: 0.2681 - categorical_accuracy: 0.79 - ETA: 5:32 - loss: 0.2676 - categorical_accuracy: 0.79 - ETA: 5:32 - loss: 0.2670 - categorical_accuracy: 0.79 - ETA: 5:32 - loss: 0.2663 - categorical_accuracy: 0.79 - ETA: 5:32 - loss: 0.2658 - categorical_accuracy: 0.79 - ETA: 5:31 - loss: 0.2653 - categorical_accuracy: 0.79 - ETA: 5:31 - loss: 0.2646 - categorical_accuracy: 0.79 - ETA: 5:31 - loss: 0.2641 - categorical_accuracy: 0.79 - ETA: 5:30 - loss: 0.2636 - categorical_accuracy: 0.79 - ETA: 5:30 - loss: 0.2631 - categorical_accuracy: 0.79 - ETA: 5:29 - loss: 0.2625 - categorical_accuracy: 0.79 - ETA: 5:29 - loss: 0.2620 - categorical_accuracy: 0.79 - ETA: 5:29 - loss: 0.2614 - categorical_accuracy: 0.79 - ETA: 5:28 - loss: 0.2608 - categorical_accuracy: 0.79 - ETA: 5:28 - loss: 0.2603 - categorical_accuracy: 0.79 - ETA: 5:27 - loss: 0.2597 - categorical_accuracy: 0.79 - ETA: 5:27 - loss: 0.2592 - categorical_accuracy: 0.79 - ETA: 5:26 - loss: 0.2585 - categorical_accuracy: 0.79 - ETA: 5:26 - loss: 0.2580 - categorical_accuracy: 0.79 - ETA: 5:26 - loss: 0.2575 - categorical_accuracy: 0.79 - ETA: 5:25 - loss: 0.2569 - categorical_accuracy: 0.79 - ETA: 5:25 - loss: 0.2563 - categorical_accuracy: 0.79 - ETA: 5:25 - loss: 0.2558 - categorical_accuracy: 0.79 - ETA: 5:24 - loss: 0.2552 - categorical_accuracy: 0.79 - ETA: 5:24 - loss: 0.2547 - categorical_accuracy: 0.79 - ETA: 5:23 - loss: 0.2541 - categorical_accuracy: 0.79 - ETA: 5:23 - loss: 0.2536 - categorical_accuracy: 0.79 - ETA: 5:23 - loss: 0.2531 - categorical_accuracy: 0.79 - ETA: 5:22 - loss: 0.2526 - categorical_accuracy: 0.79 - ETA: 5:22 - loss: 0.2521 - categorical_accuracy: 0.79 - ETA: 5:21 - loss: 0.2516 - categorical_accuracy: 0.79 - ETA: 5:21 - loss: 0.2510 - categorical_accuracy: 0.79 - ETA: 5:21 - loss: 0.2505 - categorical_accuracy: 0.79 - ETA: 5:20 - loss: 0.2500 - categorical_accuracy: 0.79 - ETA: 5:20 - loss: 0.2494 - categorical_accuracy: 0.79 - ETA: 5:19 - loss: 0.2489 - categorical_accuracy: 0.79 - ETA: 5:19 - loss: 0.2484 - categorical_accuracy: 0.79 - ETA: 5:19 - loss: 0.2480 - categorical_accuracy: 0.79 - ETA: 5:18 - loss: 0.2475 - categorical_accuracy: 0.79 - ETA: 5:18 - loss: 0.2470 - categorical_accuracy: 0.79 - ETA: 5:18 - loss: 0.2466 - categorical_accuracy: 0.79 - ETA: 5:17 - loss: 0.2460 - categorical_accuracy: 0.79 - ETA: 5:17 - loss: 0.2455 - categorical_accuracy: 0.79 - ETA: 5:17 - loss: 0.2451 - categorical_accuracy: 0.79 - ETA: 5:16 - loss: 0.2446 - categorical_accuracy: 0.79 - ETA: 5:16 - loss: 0.2441 - categorical_accuracy: 0.79 - ETA: 5:16 - loss: 0.2436 - categorical_accuracy: 0.79 - ETA: 5:15 - loss: 0.2432 - categorical_accuracy: 0.79 - ETA: 5:15 - loss: 0.2427 - categorical_accuracy: 0.79 - ETA: 5:15 - loss: 0.2422 - categorical_accuracy: 0.79 - ETA: 5:14 - loss: 0.2417 - categorical_accuracy: 0.79 - ETA: 5:14 - loss: 0.2413 - categorical_accuracy: 0.79 - ETA: 5:14 - loss: 0.2408 - categorical_accuracy: 0.79 - ETA: 5:13 - loss: 0.2404 - categorical_accuracy: 0.79 - ETA: 5:13 - loss: 0.2400 - categorical_accuracy: 0.79 - ETA: 5:12 - loss: 0.2395 - categorical_accuracy: 0.79 - ETA: 5:12 - loss: 0.2390 - categorical_accuracy: 0.79 - ETA: 5:12 - loss: 0.2386 - categorical_accuracy: 0.79 - ETA: 5:11 - loss: 0.2381 - categorical_accuracy: 0.79 - ETA: 5:11 - loss: 0.2377 - categorical_accuracy: 0.79 - ETA: 5:11 - loss: 0.2372 - categorical_accuracy: 0.79 - ETA: 5:10 - loss: 0.2368 - categorical_accuracy: 0.79 - ETA: 5:10 - loss: 0.2363 - categorical_accuracy: 0.79 - ETA: 5:10 - loss: 0.2359 - categorical_accuracy: 0.79 - ETA: 5:09 - loss: 0.2355 - categorical_accuracy: 0.79 - ETA: 5:09 - loss: 0.2350 - categorical_accuracy: 0.79 - ETA: 5:09 - loss: 0.2346 - categorical_accuracy: 0.79 - ETA: 5:08 - loss: 0.2341 - categorical_accuracy: 0.79 - ETA: 5:08 - loss: 0.2337 - categorical_accuracy: 0.79 - ETA: 5:08 - loss: 0.2333 - categorical_accuracy: 0.79 - ETA: 5:07 - loss: 0.2329 - categorical_accuracy: 0.79 - ETA: 5:07 - loss: 0.2325 - categorical_accuracy: 0.79 - ETA: 5:07 - loss: 0.2321 - categorical_accuracy: 0.79 - ETA: 5:06 - loss: 0.2316 - categorical_accuracy: 0.79 - ETA: 5:06 - loss: 0.2312 - categorical_accuracy: 0.79 - ETA: 5:05 - loss: 0.2309 - categorical_accuracy: 0.79 - ETA: 5:05 - loss: 0.2305 - categorical_accuracy: 0.79 - ETA: 5:05 - loss: 0.2300 - categorical_accuracy: 0.79 - ETA: 5:04 - loss: 0.2297 - categorical_accuracy: 0.79 - ETA: 5:04 - loss: 0.2292 - categorical_accuracy: 0.79 - ETA: 5:04 - loss: 0.2288 - categorical_accuracy: 0.79 - ETA: 5:03 - loss: 0.2284 - categorical_accuracy: 0.79 - ETA: 5:03 - loss: 0.2280 - categorical_accuracy: 0.79 - ETA: 5:03 - loss: 0.2276 - categorical_accuracy: 0.79 - ETA: 5:02 - loss: 0.2272 - categorical_accuracy: 0.79 - ETA: 5:02 - loss: 0.2268 - categorical_accuracy: 0.79 - ETA: 5:01 - loss: 0.2265 - categorical_accuracy: 0.79 - ETA: 5:01 - loss: 0.2261 - categorical_accuracy: 0.79 - ETA: 5:01 - loss: 0.2257 - categorical_accuracy: 0.79 - ETA: 5:00 - loss: 0.2254 - categorical_accuracy: 0.79 - ETA: 5:00 - loss: 0.2250 - categorical_accuracy: 0.79 - ETA: 5:00 - loss: 0.2246 - categorical_accuracy: 0.79 - ETA: 4:59 - loss: 0.2242 - categorical_accuracy: 0.79 - ETA: 4:59 - loss: 0.2237 - categorical_accuracy: 0.79 - ETA: 4:59 - loss: 0.2234 - categorical_accuracy: 0.79 - ETA: 4:58 - loss: 0.2230 - categorical_accuracy: 0.79 - ETA: 4:58 - loss: 0.2226 - categorical_accuracy: 0.79 - ETA: 4:57 - loss: 0.2222 - categorical_accuracy: 0.79 - ETA: 4:57 - loss: 0.2218 - categorical_accuracy: 0.79 - ETA: 4:57 - loss: 0.2214 - categorical_accuracy: 0.79 - ETA: 4:56 - loss: 0.2211 - categorical_accuracy: 0.79 - ETA: 4:56 - loss: 0.2207 - categorical_accuracy: 0.79 - ETA: 4:55 - loss: 0.2203 - categorical_accuracy: 0.79 - ETA: 4:55 - loss: 0.2200 - categorical_accuracy: 0.79 - ETA: 4:54 - loss: 0.2196 - categorical_accuracy: 0.79 - ETA: 4:54 - loss: 0.2193 - categorical_accuracy: 0.79 - ETA: 4:54 - loss: 0.2189 - categorical_accuracy: 0.79 - ETA: 4:53 - loss: 0.2186 - categorical_accuracy: 0.79 - ETA: 4:53 - loss: 0.2182 - categorical_accuracy: 0.79 - ETA: 4:53 - loss: 0.2179 - categorical_accuracy: 0.79 - ETA: 4:52 - loss: 0.2175 - categorical_accuracy: 0.79 - ETA: 4:52 - loss: 0.2171 - categorical_accuracy: 0.79 - ETA: 4:51 - loss: 0.2167 - categorical_accuracy: 0.79 - ETA: 4:51 - loss: 0.2164 - categorical_accuracy: 0.79 - ETA: 4:51 - loss: 0.2160 - categorical_accuracy: 0.79 - ETA: 4:50 - loss: 0.2157 - categorical_accuracy: 0.79 - ETA: 4:50 - loss: 0.2153 - categorical_accuracy: 0.7964"
     ]
    },
    {
     "name": "stdout",
     "output_type": "stream",
     "text": [
      "18624/38368 [=============>................] - ETA: 4:50 - loss: 0.2150 - categorical_accuracy: 0.79 - ETA: 4:49 - loss: 0.2146 - categorical_accuracy: 0.79 - ETA: 4:49 - loss: 0.2143 - categorical_accuracy: 0.79 - ETA: 4:48 - loss: 0.2139 - categorical_accuracy: 0.79 - ETA: 4:48 - loss: 0.2136 - categorical_accuracy: 0.79 - ETA: 4:48 - loss: 0.2132 - categorical_accuracy: 0.79 - ETA: 4:47 - loss: 0.2129 - categorical_accuracy: 0.79 - ETA: 4:47 - loss: 0.2126 - categorical_accuracy: 0.79 - ETA: 4:46 - loss: 0.2123 - categorical_accuracy: 0.79 - ETA: 4:46 - loss: 0.2119 - categorical_accuracy: 0.79 - ETA: 4:46 - loss: 0.2115 - categorical_accuracy: 0.79 - ETA: 4:45 - loss: 0.2112 - categorical_accuracy: 0.79 - ETA: 4:45 - loss: 0.2108 - categorical_accuracy: 0.79 - ETA: 4:45 - loss: 0.2105 - categorical_accuracy: 0.79 - ETA: 4:44 - loss: 0.2101 - categorical_accuracy: 0.79 - ETA: 4:44 - loss: 0.2098 - categorical_accuracy: 0.79 - ETA: 4:44 - loss: 0.2094 - categorical_accuracy: 0.79 - ETA: 4:43 - loss: 0.2091 - categorical_accuracy: 0.79 - ETA: 4:43 - loss: 0.2087 - categorical_accuracy: 0.79 - ETA: 4:43 - loss: 0.2084 - categorical_accuracy: 0.79 - ETA: 4:42 - loss: 0.2081 - categorical_accuracy: 0.79 - ETA: 4:42 - loss: 0.2077 - categorical_accuracy: 0.79 - ETA: 4:41 - loss: 0.2074 - categorical_accuracy: 0.79 - ETA: 4:41 - loss: 0.2071 - categorical_accuracy: 0.79 - ETA: 4:41 - loss: 0.2068 - categorical_accuracy: 0.79 - ETA: 4:40 - loss: 0.2065 - categorical_accuracy: 0.79 - ETA: 4:40 - loss: 0.2062 - categorical_accuracy: 0.79 - ETA: 4:40 - loss: 0.2059 - categorical_accuracy: 0.79 - ETA: 4:39 - loss: 0.2055 - categorical_accuracy: 0.79 - ETA: 4:39 - loss: 0.2052 - categorical_accuracy: 0.79 - ETA: 4:39 - loss: 0.2048 - categorical_accuracy: 0.79 - ETA: 4:38 - loss: 0.2045 - categorical_accuracy: 0.79 - ETA: 4:38 - loss: 0.2042 - categorical_accuracy: 0.79 - ETA: 4:38 - loss: 0.2039 - categorical_accuracy: 0.79 - ETA: 4:37 - loss: 0.2036 - categorical_accuracy: 0.79 - ETA: 4:37 - loss: 0.2033 - categorical_accuracy: 0.79 - ETA: 4:37 - loss: 0.2030 - categorical_accuracy: 0.79 - ETA: 4:36 - loss: 0.2026 - categorical_accuracy: 0.79 - ETA: 4:36 - loss: 0.2023 - categorical_accuracy: 0.79 - ETA: 4:36 - loss: 0.2020 - categorical_accuracy: 0.79 - ETA: 4:35 - loss: 0.2017 - categorical_accuracy: 0.79 - ETA: 4:35 - loss: 0.2015 - categorical_accuracy: 0.79 - ETA: 4:35 - loss: 0.2012 - categorical_accuracy: 0.79 - ETA: 4:35 - loss: 0.2009 - categorical_accuracy: 0.79 - ETA: 4:35 - loss: 0.2006 - categorical_accuracy: 0.79 - ETA: 4:35 - loss: 0.2003 - categorical_accuracy: 0.79 - ETA: 4:34 - loss: 0.2000 - categorical_accuracy: 0.79 - ETA: 4:34 - loss: 0.1997 - categorical_accuracy: 0.79 - ETA: 4:34 - loss: 0.1995 - categorical_accuracy: 0.79 - ETA: 4:34 - loss: 0.1992 - categorical_accuracy: 0.79 - ETA: 4:34 - loss: 0.1989 - categorical_accuracy: 0.79 - ETA: 4:33 - loss: 0.1986 - categorical_accuracy: 0.79 - ETA: 4:33 - loss: 0.1983 - categorical_accuracy: 0.79 - ETA: 4:33 - loss: 0.1979 - categorical_accuracy: 0.79 - ETA: 4:32 - loss: 0.1977 - categorical_accuracy: 0.79 - ETA: 4:32 - loss: 0.1974 - categorical_accuracy: 0.79 - ETA: 4:32 - loss: 0.1971 - categorical_accuracy: 0.79 - ETA: 4:31 - loss: 0.1968 - categorical_accuracy: 0.79 - ETA: 4:31 - loss: 0.1965 - categorical_accuracy: 0.79 - ETA: 4:31 - loss: 0.1963 - categorical_accuracy: 0.79 - ETA: 4:31 - loss: 0.1959 - categorical_accuracy: 0.79 - ETA: 4:30 - loss: 0.1956 - categorical_accuracy: 0.79 - ETA: 4:30 - loss: 0.1954 - categorical_accuracy: 0.79 - ETA: 4:29 - loss: 0.1951 - categorical_accuracy: 0.79 - ETA: 4:29 - loss: 0.1949 - categorical_accuracy: 0.79 - ETA: 4:29 - loss: 0.1946 - categorical_accuracy: 0.79 - ETA: 4:28 - loss: 0.1943 - categorical_accuracy: 0.79 - ETA: 4:28 - loss: 0.1940 - categorical_accuracy: 0.79 - ETA: 4:28 - loss: 0.1938 - categorical_accuracy: 0.79 - ETA: 4:27 - loss: 0.1935 - categorical_accuracy: 0.79 - ETA: 4:27 - loss: 0.1932 - categorical_accuracy: 0.79 - ETA: 4:26 - loss: 0.1930 - categorical_accuracy: 0.79 - ETA: 4:26 - loss: 0.1927 - categorical_accuracy: 0.79 - ETA: 4:26 - loss: 0.1924 - categorical_accuracy: 0.79 - ETA: 4:25 - loss: 0.1921 - categorical_accuracy: 0.79 - ETA: 4:25 - loss: 0.1919 - categorical_accuracy: 0.79 - ETA: 4:25 - loss: 0.1916 - categorical_accuracy: 0.79 - ETA: 4:24 - loss: 0.1913 - categorical_accuracy: 0.79 - ETA: 4:24 - loss: 0.1910 - categorical_accuracy: 0.79 - ETA: 4:23 - loss: 0.1907 - categorical_accuracy: 0.79 - ETA: 4:23 - loss: 0.1904 - categorical_accuracy: 0.79 - ETA: 4:23 - loss: 0.1901 - categorical_accuracy: 0.79 - ETA: 4:23 - loss: 0.1898 - categorical_accuracy: 0.79 - ETA: 4:22 - loss: 0.1896 - categorical_accuracy: 0.79 - ETA: 4:22 - loss: 0.1893 - categorical_accuracy: 0.79 - ETA: 4:21 - loss: 0.1890 - categorical_accuracy: 0.79 - ETA: 4:21 - loss: 0.1888 - categorical_accuracy: 0.79 - ETA: 4:21 - loss: 0.1885 - categorical_accuracy: 0.79 - ETA: 4:20 - loss: 0.1883 - categorical_accuracy: 0.79 - ETA: 4:20 - loss: 0.1880 - categorical_accuracy: 0.79 - ETA: 4:20 - loss: 0.1878 - categorical_accuracy: 0.79 - ETA: 4:19 - loss: 0.1875 - categorical_accuracy: 0.79 - ETA: 4:19 - loss: 0.1873 - categorical_accuracy: 0.79 - ETA: 4:18 - loss: 0.1870 - categorical_accuracy: 0.79 - ETA: 4:18 - loss: 0.1867 - categorical_accuracy: 0.79 - ETA: 4:18 - loss: 0.1864 - categorical_accuracy: 0.79 - ETA: 4:17 - loss: 0.1862 - categorical_accuracy: 0.79 - ETA: 4:17 - loss: 0.1859 - categorical_accuracy: 0.79 - ETA: 4:16 - loss: 0.1857 - categorical_accuracy: 0.79 - ETA: 4:16 - loss: 0.1854 - categorical_accuracy: 0.79 - ETA: 4:16 - loss: 0.1852 - categorical_accuracy: 0.79 - ETA: 4:15 - loss: 0.1849 - categorical_accuracy: 0.79 - ETA: 4:15 - loss: 0.1847 - categorical_accuracy: 0.79 - ETA: 4:15 - loss: 0.1844 - categorical_accuracy: 0.79 - ETA: 4:14 - loss: 0.1842 - categorical_accuracy: 0.79 - ETA: 4:14 - loss: 0.1839 - categorical_accuracy: 0.79 - ETA: 4:13 - loss: 0.1837 - categorical_accuracy: 0.79 - ETA: 4:13 - loss: 0.1834 - categorical_accuracy: 0.79 - ETA: 4:13 - loss: 0.1832 - categorical_accuracy: 0.79 - ETA: 4:12 - loss: 0.1830 - categorical_accuracy: 0.79 - ETA: 4:12 - loss: 0.1827 - categorical_accuracy: 0.79 - ETA: 4:12 - loss: 0.1825 - categorical_accuracy: 0.79 - ETA: 4:11 - loss: 0.1822 - categorical_accuracy: 0.79 - ETA: 4:11 - loss: 0.1820 - categorical_accuracy: 0.79 - ETA: 4:11 - loss: 0.1818 - categorical_accuracy: 0.79 - ETA: 4:10 - loss: 0.1815 - categorical_accuracy: 0.79 - ETA: 4:10 - loss: 0.1813 - categorical_accuracy: 0.79 - ETA: 4:10 - loss: 0.1811 - categorical_accuracy: 0.79 - ETA: 4:09 - loss: 0.1809 - categorical_accuracy: 0.79 - ETA: 4:09 - loss: 0.1806 - categorical_accuracy: 0.79 - ETA: 4:09 - loss: 0.1804 - categorical_accuracy: 0.79 - ETA: 4:08 - loss: 0.1802 - categorical_accuracy: 0.79 - ETA: 4:08 - loss: 0.1800 - categorical_accuracy: 0.79 - ETA: 4:08 - loss: 0.1798 - categorical_accuracy: 0.79 - ETA: 4:07 - loss: 0.1796 - categorical_accuracy: 0.79 - ETA: 4:07 - loss: 0.1793 - categorical_accuracy: 0.79 - ETA: 4:07 - loss: 0.1791 - categorical_accuracy: 0.79 - ETA: 4:06 - loss: 0.1789 - categorical_accuracy: 0.79 - ETA: 4:06 - loss: 0.1787 - categorical_accuracy: 0.79 - ETA: 4:06 - loss: 0.1785 - categorical_accuracy: 0.79 - ETA: 4:05 - loss: 0.1783 - categorical_accuracy: 0.79 - ETA: 4:05 - loss: 0.1781 - categorical_accuracy: 0.79 - ETA: 4:04 - loss: 0.1778 - categorical_accuracy: 0.79 - ETA: 4:04 - loss: 0.1776 - categorical_accuracy: 0.79 - ETA: 4:04 - loss: 0.1774 - categorical_accuracy: 0.79 - ETA: 4:03 - loss: 0.1772 - categorical_accuracy: 0.79 - ETA: 4:03 - loss: 0.1770 - categorical_accuracy: 0.79 - ETA: 4:02 - loss: 0.1768 - categorical_accuracy: 0.79 - ETA: 4:02 - loss: 0.1765 - categorical_accuracy: 0.79 - ETA: 4:02 - loss: 0.1763 - categorical_accuracy: 0.79 - ETA: 4:01 - loss: 0.1761 - categorical_accuracy: 0.79 - ETA: 4:01 - loss: 0.1759 - categorical_accuracy: 0.79 - ETA: 4:01 - loss: 0.1757 - categorical_accuracy: 0.79 - ETA: 4:00 - loss: 0.1754 - categorical_accuracy: 0.79 - ETA: 4:00 - loss: 0.1752 - categorical_accuracy: 0.79 - ETA: 4:00 - loss: 0.1750 - categorical_accuracy: 0.7945"
     ]
    },
    {
     "name": "stdout",
     "output_type": "stream",
     "text": [
      "23296/38368 [=================>............] - ETA: 3:59 - loss: 0.1748 - categorical_accuracy: 0.79 - ETA: 3:59 - loss: 0.1745 - categorical_accuracy: 0.79 - ETA: 3:59 - loss: 0.1744 - categorical_accuracy: 0.79 - ETA: 3:58 - loss: 0.1742 - categorical_accuracy: 0.79 - ETA: 3:58 - loss: 0.1740 - categorical_accuracy: 0.79 - ETA: 3:58 - loss: 0.1738 - categorical_accuracy: 0.79 - ETA: 3:57 - loss: 0.1735 - categorical_accuracy: 0.79 - ETA: 3:57 - loss: 0.1733 - categorical_accuracy: 0.79 - ETA: 3:57 - loss: 0.1732 - categorical_accuracy: 0.79 - ETA: 3:56 - loss: 0.1729 - categorical_accuracy: 0.79 - ETA: 3:56 - loss: 0.1727 - categorical_accuracy: 0.79 - ETA: 3:56 - loss: 0.1725 - categorical_accuracy: 0.79 - ETA: 3:55 - loss: 0.1723 - categorical_accuracy: 0.79 - ETA: 3:55 - loss: 0.1721 - categorical_accuracy: 0.79 - ETA: 3:55 - loss: 0.1719 - categorical_accuracy: 0.79 - ETA: 3:54 - loss: 0.1717 - categorical_accuracy: 0.79 - ETA: 3:54 - loss: 0.1715 - categorical_accuracy: 0.79 - ETA: 3:54 - loss: 0.1713 - categorical_accuracy: 0.79 - ETA: 3:53 - loss: 0.1711 - categorical_accuracy: 0.79 - ETA: 3:53 - loss: 0.1709 - categorical_accuracy: 0.79 - ETA: 3:52 - loss: 0.1706 - categorical_accuracy: 0.79 - ETA: 3:52 - loss: 0.1704 - categorical_accuracy: 0.79 - ETA: 3:52 - loss: 0.1703 - categorical_accuracy: 0.79 - ETA: 3:51 - loss: 0.1700 - categorical_accuracy: 0.79 - ETA: 3:51 - loss: 0.1698 - categorical_accuracy: 0.79 - ETA: 3:51 - loss: 0.1696 - categorical_accuracy: 0.79 - ETA: 3:50 - loss: 0.1694 - categorical_accuracy: 0.79 - ETA: 3:50 - loss: 0.1692 - categorical_accuracy: 0.79 - ETA: 3:50 - loss: 0.1691 - categorical_accuracy: 0.79 - ETA: 3:49 - loss: 0.1689 - categorical_accuracy: 0.79 - ETA: 3:49 - loss: 0.1687 - categorical_accuracy: 0.79 - ETA: 3:48 - loss: 0.1684 - categorical_accuracy: 0.79 - ETA: 3:48 - loss: 0.1682 - categorical_accuracy: 0.79 - ETA: 3:48 - loss: 0.1680 - categorical_accuracy: 0.79 - ETA: 3:47 - loss: 0.1678 - categorical_accuracy: 0.79 - ETA: 3:47 - loss: 0.1676 - categorical_accuracy: 0.79 - ETA: 3:46 - loss: 0.1674 - categorical_accuracy: 0.79 - ETA: 3:46 - loss: 0.1672 - categorical_accuracy: 0.79 - ETA: 3:46 - loss: 0.1670 - categorical_accuracy: 0.79 - ETA: 3:45 - loss: 0.1668 - categorical_accuracy: 0.79 - ETA: 3:45 - loss: 0.1667 - categorical_accuracy: 0.79 - ETA: 3:44 - loss: 0.1665 - categorical_accuracy: 0.79 - ETA: 3:44 - loss: 0.1663 - categorical_accuracy: 0.79 - ETA: 3:44 - loss: 0.1662 - categorical_accuracy: 0.79 - ETA: 3:43 - loss: 0.1660 - categorical_accuracy: 0.79 - ETA: 3:43 - loss: 0.1658 - categorical_accuracy: 0.79 - ETA: 3:42 - loss: 0.1656 - categorical_accuracy: 0.79 - ETA: 3:42 - loss: 0.1654 - categorical_accuracy: 0.79 - ETA: 3:42 - loss: 0.1652 - categorical_accuracy: 0.79 - ETA: 3:41 - loss: 0.1650 - categorical_accuracy: 0.79 - ETA: 3:41 - loss: 0.1649 - categorical_accuracy: 0.79 - ETA: 3:41 - loss: 0.1647 - categorical_accuracy: 0.79 - ETA: 3:40 - loss: 0.1645 - categorical_accuracy: 0.79 - ETA: 3:40 - loss: 0.1643 - categorical_accuracy: 0.79 - ETA: 3:40 - loss: 0.1642 - categorical_accuracy: 0.79 - ETA: 3:39 - loss: 0.1640 - categorical_accuracy: 0.79 - ETA: 3:39 - loss: 0.1638 - categorical_accuracy: 0.79 - ETA: 3:39 - loss: 0.1636 - categorical_accuracy: 0.79 - ETA: 3:39 - loss: 0.1634 - categorical_accuracy: 0.79 - ETA: 3:38 - loss: 0.1632 - categorical_accuracy: 0.79 - ETA: 3:38 - loss: 0.1631 - categorical_accuracy: 0.79 - ETA: 3:38 - loss: 0.1629 - categorical_accuracy: 0.79 - ETA: 3:37 - loss: 0.1627 - categorical_accuracy: 0.79 - ETA: 3:37 - loss: 0.1625 - categorical_accuracy: 0.79 - ETA: 3:36 - loss: 0.1624 - categorical_accuracy: 0.79 - ETA: 3:36 - loss: 0.1622 - categorical_accuracy: 0.79 - ETA: 3:36 - loss: 0.1620 - categorical_accuracy: 0.79 - ETA: 3:35 - loss: 0.1618 - categorical_accuracy: 0.79 - ETA: 3:35 - loss: 0.1616 - categorical_accuracy: 0.79 - ETA: 3:35 - loss: 0.1614 - categorical_accuracy: 0.79 - ETA: 3:34 - loss: 0.1613 - categorical_accuracy: 0.79 - ETA: 3:34 - loss: 0.1611 - categorical_accuracy: 0.79 - ETA: 3:34 - loss: 0.1609 - categorical_accuracy: 0.79 - ETA: 3:33 - loss: 0.1607 - categorical_accuracy: 0.79 - ETA: 3:33 - loss: 0.1606 - categorical_accuracy: 0.79 - ETA: 3:33 - loss: 0.1604 - categorical_accuracy: 0.79 - ETA: 3:32 - loss: 0.1602 - categorical_accuracy: 0.79 - ETA: 3:32 - loss: 0.1601 - categorical_accuracy: 0.79 - ETA: 3:31 - loss: 0.1599 - categorical_accuracy: 0.79 - ETA: 3:31 - loss: 0.1597 - categorical_accuracy: 0.79 - ETA: 3:31 - loss: 0.1595 - categorical_accuracy: 0.79 - ETA: 3:30 - loss: 0.1594 - categorical_accuracy: 0.79 - ETA: 3:30 - loss: 0.1592 - categorical_accuracy: 0.79 - ETA: 3:30 - loss: 0.1590 - categorical_accuracy: 0.79 - ETA: 3:29 - loss: 0.1588 - categorical_accuracy: 0.79 - ETA: 3:29 - loss: 0.1587 - categorical_accuracy: 0.79 - ETA: 3:28 - loss: 0.1585 - categorical_accuracy: 0.79 - ETA: 3:28 - loss: 0.1583 - categorical_accuracy: 0.79 - ETA: 3:28 - loss: 0.1581 - categorical_accuracy: 0.79 - ETA: 3:27 - loss: 0.1579 - categorical_accuracy: 0.79 - ETA: 3:27 - loss: 0.1578 - categorical_accuracy: 0.79 - ETA: 3:27 - loss: 0.1576 - categorical_accuracy: 0.79 - ETA: 3:26 - loss: 0.1574 - categorical_accuracy: 0.79 - ETA: 3:26 - loss: 0.1573 - categorical_accuracy: 0.79 - ETA: 3:25 - loss: 0.1571 - categorical_accuracy: 0.79 - ETA: 3:25 - loss: 0.1570 - categorical_accuracy: 0.79 - ETA: 3:25 - loss: 0.1568 - categorical_accuracy: 0.79 - ETA: 3:24 - loss: 0.1566 - categorical_accuracy: 0.79 - ETA: 3:24 - loss: 0.1565 - categorical_accuracy: 0.79 - ETA: 3:23 - loss: 0.1563 - categorical_accuracy: 0.79 - ETA: 3:23 - loss: 0.1562 - categorical_accuracy: 0.79 - ETA: 3:23 - loss: 0.1560 - categorical_accuracy: 0.79 - ETA: 3:22 - loss: 0.1559 - categorical_accuracy: 0.79 - ETA: 3:22 - loss: 0.1557 - categorical_accuracy: 0.79 - ETA: 3:21 - loss: 0.1555 - categorical_accuracy: 0.79 - ETA: 3:21 - loss: 0.1554 - categorical_accuracy: 0.79 - ETA: 3:21 - loss: 0.1552 - categorical_accuracy: 0.79 - ETA: 3:20 - loss: 0.1551 - categorical_accuracy: 0.79 - ETA: 3:20 - loss: 0.1549 - categorical_accuracy: 0.79 - ETA: 3:19 - loss: 0.1548 - categorical_accuracy: 0.79 - ETA: 3:19 - loss: 0.1546 - categorical_accuracy: 0.79 - ETA: 3:19 - loss: 0.1544 - categorical_accuracy: 0.79 - ETA: 3:18 - loss: 0.1543 - categorical_accuracy: 0.79 - ETA: 3:18 - loss: 0.1541 - categorical_accuracy: 0.79 - ETA: 3:17 - loss: 0.1539 - categorical_accuracy: 0.79 - ETA: 3:17 - loss: 0.1538 - categorical_accuracy: 0.79 - ETA: 3:16 - loss: 0.1536 - categorical_accuracy: 0.79 - ETA: 3:16 - loss: 0.1534 - categorical_accuracy: 0.79 - ETA: 3:16 - loss: 0.1533 - categorical_accuracy: 0.79 - ETA: 3:15 - loss: 0.1532 - categorical_accuracy: 0.79 - ETA: 3:15 - loss: 0.1530 - categorical_accuracy: 0.79 - ETA: 3:14 - loss: 0.1528 - categorical_accuracy: 0.79 - ETA: 3:14 - loss: 0.1527 - categorical_accuracy: 0.79 - ETA: 3:14 - loss: 0.1525 - categorical_accuracy: 0.79 - ETA: 3:13 - loss: 0.1524 - categorical_accuracy: 0.79 - ETA: 3:13 - loss: 0.1522 - categorical_accuracy: 0.79 - ETA: 3:12 - loss: 0.1521 - categorical_accuracy: 0.79 - ETA: 3:12 - loss: 0.1519 - categorical_accuracy: 0.79 - ETA: 3:12 - loss: 0.1517 - categorical_accuracy: 0.79 - ETA: 3:11 - loss: 0.1516 - categorical_accuracy: 0.79 - ETA: 3:11 - loss: 0.1514 - categorical_accuracy: 0.79 - ETA: 3:10 - loss: 0.1513 - categorical_accuracy: 0.79 - ETA: 3:10 - loss: 0.1511 - categorical_accuracy: 0.79 - ETA: 3:10 - loss: 0.1510 - categorical_accuracy: 0.79 - ETA: 3:09 - loss: 0.1508 - categorical_accuracy: 0.79 - ETA: 3:09 - loss: 0.1507 - categorical_accuracy: 0.79 - ETA: 3:08 - loss: 0.1505 - categorical_accuracy: 0.79 - ETA: 3:08 - loss: 0.1504 - categorical_accuracy: 0.79 - ETA: 3:07 - loss: 0.1502 - categorical_accuracy: 0.79 - ETA: 3:07 - loss: 0.1501 - categorical_accuracy: 0.79 - ETA: 3:07 - loss: 0.1499 - categorical_accuracy: 0.79 - ETA: 3:06 - loss: 0.1498 - categorical_accuracy: 0.79 - ETA: 3:06 - loss: 0.1496 - categorical_accuracy: 0.79 - ETA: 3:05 - loss: 0.1495 - categorical_accuracy: 0.79 - ETA: 3:05 - loss: 0.1494 - categorical_accuracy: 0.79 - ETA: 3:05 - loss: 0.1492 - categorical_accuracy: 0.7937"
     ]
    },
    {
     "name": "stdout",
     "output_type": "stream",
     "text": [
      "27968/38368 [====================>.........] - ETA: 3:04 - loss: 0.1491 - categorical_accuracy: 0.79 - ETA: 3:04 - loss: 0.1489 - categorical_accuracy: 0.79 - ETA: 3:03 - loss: 0.1488 - categorical_accuracy: 0.79 - ETA: 3:03 - loss: 0.1486 - categorical_accuracy: 0.79 - ETA: 3:03 - loss: 0.1485 - categorical_accuracy: 0.79 - ETA: 3:02 - loss: 0.1483 - categorical_accuracy: 0.79 - ETA: 3:02 - loss: 0.1482 - categorical_accuracy: 0.79 - ETA: 3:01 - loss: 0.1480 - categorical_accuracy: 0.79 - ETA: 3:01 - loss: 0.1479 - categorical_accuracy: 0.79 - ETA: 3:01 - loss: 0.1477 - categorical_accuracy: 0.79 - ETA: 3:00 - loss: 0.1476 - categorical_accuracy: 0.79 - ETA: 3:00 - loss: 0.1474 - categorical_accuracy: 0.79 - ETA: 2:59 - loss: 0.1473 - categorical_accuracy: 0.79 - ETA: 2:59 - loss: 0.1471 - categorical_accuracy: 0.79 - ETA: 2:59 - loss: 0.1470 - categorical_accuracy: 0.79 - ETA: 2:58 - loss: 0.1468 - categorical_accuracy: 0.79 - ETA: 2:58 - loss: 0.1467 - categorical_accuracy: 0.79 - ETA: 2:57 - loss: 0.1466 - categorical_accuracy: 0.79 - ETA: 2:57 - loss: 0.1465 - categorical_accuracy: 0.79 - ETA: 2:57 - loss: 0.1463 - categorical_accuracy: 0.79 - ETA: 2:56 - loss: 0.1462 - categorical_accuracy: 0.79 - ETA: 2:56 - loss: 0.1460 - categorical_accuracy: 0.79 - ETA: 2:55 - loss: 0.1459 - categorical_accuracy: 0.79 - ETA: 2:55 - loss: 0.1458 - categorical_accuracy: 0.79 - ETA: 2:55 - loss: 0.1457 - categorical_accuracy: 0.79 - ETA: 2:54 - loss: 0.1455 - categorical_accuracy: 0.79 - ETA: 2:54 - loss: 0.1454 - categorical_accuracy: 0.79 - ETA: 2:54 - loss: 0.1453 - categorical_accuracy: 0.79 - ETA: 2:53 - loss: 0.1451 - categorical_accuracy: 0.79 - ETA: 2:53 - loss: 0.1450 - categorical_accuracy: 0.79 - ETA: 2:52 - loss: 0.1448 - categorical_accuracy: 0.79 - ETA: 2:52 - loss: 0.1447 - categorical_accuracy: 0.79 - ETA: 2:52 - loss: 0.1446 - categorical_accuracy: 0.79 - ETA: 2:51 - loss: 0.1444 - categorical_accuracy: 0.79 - ETA: 2:51 - loss: 0.1443 - categorical_accuracy: 0.79 - ETA: 2:50 - loss: 0.1441 - categorical_accuracy: 0.79 - ETA: 2:50 - loss: 0.1440 - categorical_accuracy: 0.79 - ETA: 2:50 - loss: 0.1438 - categorical_accuracy: 0.79 - ETA: 2:49 - loss: 0.1437 - categorical_accuracy: 0.79 - ETA: 2:49 - loss: 0.1436 - categorical_accuracy: 0.79 - ETA: 2:48 - loss: 0.1434 - categorical_accuracy: 0.79 - ETA: 2:48 - loss: 0.1433 - categorical_accuracy: 0.79 - ETA: 2:48 - loss: 0.1432 - categorical_accuracy: 0.79 - ETA: 2:47 - loss: 0.1431 - categorical_accuracy: 0.79 - ETA: 2:47 - loss: 0.1429 - categorical_accuracy: 0.79 - ETA: 2:47 - loss: 0.1428 - categorical_accuracy: 0.79 - ETA: 2:46 - loss: 0.1427 - categorical_accuracy: 0.79 - ETA: 2:46 - loss: 0.1425 - categorical_accuracy: 0.79 - ETA: 2:45 - loss: 0.1424 - categorical_accuracy: 0.79 - ETA: 2:45 - loss: 0.1423 - categorical_accuracy: 0.79 - ETA: 2:44 - loss: 0.1421 - categorical_accuracy: 0.79 - ETA: 2:44 - loss: 0.1420 - categorical_accuracy: 0.79 - ETA: 2:44 - loss: 0.1419 - categorical_accuracy: 0.79 - ETA: 2:43 - loss: 0.1417 - categorical_accuracy: 0.79 - ETA: 2:43 - loss: 0.1416 - categorical_accuracy: 0.79 - ETA: 2:42 - loss: 0.1414 - categorical_accuracy: 0.79 - ETA: 2:42 - loss: 0.1413 - categorical_accuracy: 0.79 - ETA: 2:42 - loss: 0.1412 - categorical_accuracy: 0.79 - ETA: 2:41 - loss: 0.1411 - categorical_accuracy: 0.79 - ETA: 2:41 - loss: 0.1410 - categorical_accuracy: 0.79 - ETA: 2:40 - loss: 0.1408 - categorical_accuracy: 0.79 - ETA: 2:40 - loss: 0.1407 - categorical_accuracy: 0.79 - ETA: 2:40 - loss: 0.1406 - categorical_accuracy: 0.79 - ETA: 2:39 - loss: 0.1405 - categorical_accuracy: 0.79 - ETA: 2:39 - loss: 0.1403 - categorical_accuracy: 0.79 - ETA: 2:38 - loss: 0.1402 - categorical_accuracy: 0.79 - ETA: 2:38 - loss: 0.1401 - categorical_accuracy: 0.79 - ETA: 2:37 - loss: 0.1399 - categorical_accuracy: 0.79 - ETA: 2:37 - loss: 0.1398 - categorical_accuracy: 0.79 - ETA: 2:37 - loss: 0.1397 - categorical_accuracy: 0.79 - ETA: 2:36 - loss: 0.1395 - categorical_accuracy: 0.79 - ETA: 2:36 - loss: 0.1394 - categorical_accuracy: 0.79 - ETA: 2:36 - loss: 0.1393 - categorical_accuracy: 0.79 - ETA: 2:35 - loss: 0.1392 - categorical_accuracy: 0.79 - ETA: 2:35 - loss: 0.1390 - categorical_accuracy: 0.79 - ETA: 2:34 - loss: 0.1389 - categorical_accuracy: 0.79 - ETA: 2:34 - loss: 0.1388 - categorical_accuracy: 0.79 - ETA: 2:34 - loss: 0.1387 - categorical_accuracy: 0.79 - ETA: 2:33 - loss: 0.1386 - categorical_accuracy: 0.79 - ETA: 2:33 - loss: 0.1384 - categorical_accuracy: 0.79 - ETA: 2:32 - loss: 0.1383 - categorical_accuracy: 0.79 - ETA: 2:32 - loss: 0.1382 - categorical_accuracy: 0.79 - ETA: 2:32 - loss: 0.1381 - categorical_accuracy: 0.79 - ETA: 2:31 - loss: 0.1380 - categorical_accuracy: 0.79 - ETA: 2:31 - loss: 0.1378 - categorical_accuracy: 0.79 - ETA: 2:31 - loss: 0.1377 - categorical_accuracy: 0.79 - ETA: 2:30 - loss: 0.1376 - categorical_accuracy: 0.79 - ETA: 2:30 - loss: 0.1375 - categorical_accuracy: 0.79 - ETA: 2:29 - loss: 0.1374 - categorical_accuracy: 0.79 - ETA: 2:29 - loss: 0.1373 - categorical_accuracy: 0.79 - ETA: 2:29 - loss: 0.1371 - categorical_accuracy: 0.79 - ETA: 2:28 - loss: 0.1370 - categorical_accuracy: 0.79 - ETA: 2:28 - loss: 0.1369 - categorical_accuracy: 0.79 - ETA: 2:27 - loss: 0.1368 - categorical_accuracy: 0.79 - ETA: 2:27 - loss: 0.1367 - categorical_accuracy: 0.79 - ETA: 2:27 - loss: 0.1365 - categorical_accuracy: 0.79 - ETA: 2:26 - loss: 0.1364 - categorical_accuracy: 0.79 - ETA: 2:26 - loss: 0.1363 - categorical_accuracy: 0.79 - ETA: 2:26 - loss: 0.1362 - categorical_accuracy: 0.79 - ETA: 2:25 - loss: 0.1361 - categorical_accuracy: 0.79 - ETA: 2:25 - loss: 0.1360 - categorical_accuracy: 0.79 - ETA: 2:24 - loss: 0.1359 - categorical_accuracy: 0.79 - ETA: 2:24 - loss: 0.1358 - categorical_accuracy: 0.79 - ETA: 2:24 - loss: 0.1357 - categorical_accuracy: 0.79 - ETA: 2:23 - loss: 0.1355 - categorical_accuracy: 0.79 - ETA: 2:23 - loss: 0.1354 - categorical_accuracy: 0.79 - ETA: 2:23 - loss: 0.1353 - categorical_accuracy: 0.79 - ETA: 2:22 - loss: 0.1352 - categorical_accuracy: 0.79 - ETA: 2:22 - loss: 0.1351 - categorical_accuracy: 0.79 - ETA: 2:21 - loss: 0.1350 - categorical_accuracy: 0.79 - ETA: 2:21 - loss: 0.1349 - categorical_accuracy: 0.79 - ETA: 2:21 - loss: 0.1348 - categorical_accuracy: 0.79 - ETA: 2:20 - loss: 0.1346 - categorical_accuracy: 0.79 - ETA: 2:20 - loss: 0.1345 - categorical_accuracy: 0.79 - ETA: 2:19 - loss: 0.1344 - categorical_accuracy: 0.79 - ETA: 2:19 - loss: 0.1343 - categorical_accuracy: 0.79 - ETA: 2:19 - loss: 0.1342 - categorical_accuracy: 0.79 - ETA: 2:18 - loss: 0.1341 - categorical_accuracy: 0.79 - ETA: 2:18 - loss: 0.1339 - categorical_accuracy: 0.79 - ETA: 2:17 - loss: 0.1338 - categorical_accuracy: 0.79 - ETA: 2:17 - loss: 0.1337 - categorical_accuracy: 0.79 - ETA: 2:17 - loss: 0.1336 - categorical_accuracy: 0.79 - ETA: 2:16 - loss: 0.1335 - categorical_accuracy: 0.79 - ETA: 2:16 - loss: 0.1334 - categorical_accuracy: 0.79 - ETA: 2:15 - loss: 0.1333 - categorical_accuracy: 0.79 - ETA: 2:15 - loss: 0.1332 - categorical_accuracy: 0.79 - ETA: 2:15 - loss: 0.1331 - categorical_accuracy: 0.79 - ETA: 2:14 - loss: 0.1330 - categorical_accuracy: 0.79 - ETA: 2:14 - loss: 0.1329 - categorical_accuracy: 0.79 - ETA: 2:13 - loss: 0.1328 - categorical_accuracy: 0.79 - ETA: 2:13 - loss: 0.1327 - categorical_accuracy: 0.79 - ETA: 2:13 - loss: 0.1325 - categorical_accuracy: 0.79 - ETA: 2:12 - loss: 0.1325 - categorical_accuracy: 0.79 - ETA: 2:12 - loss: 0.1323 - categorical_accuracy: 0.79 - ETA: 2:12 - loss: 0.1322 - categorical_accuracy: 0.79 - ETA: 2:11 - loss: 0.1322 - categorical_accuracy: 0.79 - ETA: 2:11 - loss: 0.1320 - categorical_accuracy: 0.79 - ETA: 2:10 - loss: 0.1319 - categorical_accuracy: 0.79 - ETA: 2:10 - loss: 0.1318 - categorical_accuracy: 0.79 - ETA: 2:10 - loss: 0.1317 - categorical_accuracy: 0.79 - ETA: 2:09 - loss: 0.1316 - categorical_accuracy: 0.79 - ETA: 2:09 - loss: 0.1315 - categorical_accuracy: 0.79 - ETA: 2:08 - loss: 0.1314 - categorical_accuracy: 0.79 - ETA: 2:08 - loss: 0.1313 - categorical_accuracy: 0.79 - ETA: 2:08 - loss: 0.1312 - categorical_accuracy: 0.79 - ETA: 2:07 - loss: 0.1311 - categorical_accuracy: 0.7927"
     ]
    },
    {
     "name": "stdout",
     "output_type": "stream",
     "text": [
      "32640/38368 [========================>.....] - ETA: 2:07 - loss: 0.1310 - categorical_accuracy: 0.79 - ETA: 2:06 - loss: 0.1309 - categorical_accuracy: 0.79 - ETA: 2:06 - loss: 0.1308 - categorical_accuracy: 0.79 - ETA: 2:06 - loss: 0.1307 - categorical_accuracy: 0.79 - ETA: 2:05 - loss: 0.1306 - categorical_accuracy: 0.79 - ETA: 2:05 - loss: 0.1305 - categorical_accuracy: 0.79 - ETA: 2:04 - loss: 0.1304 - categorical_accuracy: 0.79 - ETA: 2:04 - loss: 0.1303 - categorical_accuracy: 0.79 - ETA: 2:04 - loss: 0.1302 - categorical_accuracy: 0.79 - ETA: 2:03 - loss: 0.1301 - categorical_accuracy: 0.79 - ETA: 2:03 - loss: 0.1300 - categorical_accuracy: 0.79 - ETA: 2:03 - loss: 0.1299 - categorical_accuracy: 0.79 - ETA: 2:02 - loss: 0.1298 - categorical_accuracy: 0.79 - ETA: 2:02 - loss: 0.1297 - categorical_accuracy: 0.79 - ETA: 2:01 - loss: 0.1296 - categorical_accuracy: 0.79 - ETA: 2:01 - loss: 0.1295 - categorical_accuracy: 0.79 - ETA: 2:01 - loss: 0.1294 - categorical_accuracy: 0.79 - ETA: 2:00 - loss: 0.1293 - categorical_accuracy: 0.79 - ETA: 2:00 - loss: 0.1292 - categorical_accuracy: 0.79 - ETA: 2:00 - loss: 0.1290 - categorical_accuracy: 0.79 - ETA: 1:59 - loss: 0.1289 - categorical_accuracy: 0.79 - ETA: 1:59 - loss: 0.1288 - categorical_accuracy: 0.79 - ETA: 1:58 - loss: 0.1287 - categorical_accuracy: 0.79 - ETA: 1:58 - loss: 0.1287 - categorical_accuracy: 0.79 - ETA: 1:58 - loss: 0.1286 - categorical_accuracy: 0.79 - ETA: 1:57 - loss: 0.1285 - categorical_accuracy: 0.79 - ETA: 1:57 - loss: 0.1284 - categorical_accuracy: 0.79 - ETA: 1:57 - loss: 0.1283 - categorical_accuracy: 0.79 - ETA: 1:56 - loss: 0.1282 - categorical_accuracy: 0.79 - ETA: 1:56 - loss: 0.1281 - categorical_accuracy: 0.79 - ETA: 1:55 - loss: 0.1280 - categorical_accuracy: 0.79 - ETA: 1:55 - loss: 0.1279 - categorical_accuracy: 0.79 - ETA: 1:55 - loss: 0.1278 - categorical_accuracy: 0.79 - ETA: 1:54 - loss: 0.1277 - categorical_accuracy: 0.79 - ETA: 1:54 - loss: 0.1276 - categorical_accuracy: 0.79 - ETA: 1:54 - loss: 0.1275 - categorical_accuracy: 0.79 - ETA: 1:53 - loss: 0.1274 - categorical_accuracy: 0.79 - ETA: 1:53 - loss: 0.1273 - categorical_accuracy: 0.79 - ETA: 1:53 - loss: 0.1272 - categorical_accuracy: 0.79 - ETA: 1:52 - loss: 0.1271 - categorical_accuracy: 0.79 - ETA: 1:52 - loss: 0.1270 - categorical_accuracy: 0.79 - ETA: 1:51 - loss: 0.1269 - categorical_accuracy: 0.79 - ETA: 1:51 - loss: 0.1268 - categorical_accuracy: 0.79 - ETA: 1:51 - loss: 0.1267 - categorical_accuracy: 0.79 - ETA: 1:50 - loss: 0.1266 - categorical_accuracy: 0.79 - ETA: 1:50 - loss: 0.1266 - categorical_accuracy: 0.79 - ETA: 1:49 - loss: 0.1265 - categorical_accuracy: 0.79 - ETA: 1:49 - loss: 0.1264 - categorical_accuracy: 0.79 - ETA: 1:49 - loss: 0.1263 - categorical_accuracy: 0.79 - ETA: 1:48 - loss: 0.1262 - categorical_accuracy: 0.79 - ETA: 1:48 - loss: 0.1261 - categorical_accuracy: 0.79 - ETA: 1:47 - loss: 0.1260 - categorical_accuracy: 0.79 - ETA: 1:47 - loss: 0.1259 - categorical_accuracy: 0.79 - ETA: 1:47 - loss: 0.1258 - categorical_accuracy: 0.79 - ETA: 1:46 - loss: 0.1257 - categorical_accuracy: 0.79 - ETA: 1:46 - loss: 0.1256 - categorical_accuracy: 0.79 - ETA: 1:45 - loss: 0.1255 - categorical_accuracy: 0.79 - ETA: 1:45 - loss: 0.1254 - categorical_accuracy: 0.79 - ETA: 1:45 - loss: 0.1254 - categorical_accuracy: 0.79 - ETA: 1:44 - loss: 0.1253 - categorical_accuracy: 0.79 - ETA: 1:44 - loss: 0.1252 - categorical_accuracy: 0.79 - ETA: 1:44 - loss: 0.1251 - categorical_accuracy: 0.79 - ETA: 1:43 - loss: 0.1250 - categorical_accuracy: 0.79 - ETA: 1:43 - loss: 0.1249 - categorical_accuracy: 0.79 - ETA: 1:42 - loss: 0.1248 - categorical_accuracy: 0.79 - ETA: 1:42 - loss: 0.1247 - categorical_accuracy: 0.79 - ETA: 1:42 - loss: 0.1246 - categorical_accuracy: 0.79 - ETA: 1:41 - loss: 0.1245 - categorical_accuracy: 0.79 - ETA: 1:41 - loss: 0.1244 - categorical_accuracy: 0.79 - ETA: 1:40 - loss: 0.1243 - categorical_accuracy: 0.79 - ETA: 1:40 - loss: 0.1243 - categorical_accuracy: 0.79 - ETA: 1:40 - loss: 0.1242 - categorical_accuracy: 0.79 - ETA: 1:39 - loss: 0.1241 - categorical_accuracy: 0.79 - ETA: 1:39 - loss: 0.1240 - categorical_accuracy: 0.79 - ETA: 1:38 - loss: 0.1239 - categorical_accuracy: 0.79 - ETA: 1:38 - loss: 0.1238 - categorical_accuracy: 0.79 - ETA: 1:38 - loss: 0.1237 - categorical_accuracy: 0.79 - ETA: 1:37 - loss: 0.1236 - categorical_accuracy: 0.79 - ETA: 1:37 - loss: 0.1235 - categorical_accuracy: 0.79 - ETA: 1:36 - loss: 0.1234 - categorical_accuracy: 0.79 - ETA: 1:36 - loss: 0.1233 - categorical_accuracy: 0.79 - ETA: 1:36 - loss: 0.1232 - categorical_accuracy: 0.79 - ETA: 1:35 - loss: 0.1231 - categorical_accuracy: 0.79 - ETA: 1:35 - loss: 0.1231 - categorical_accuracy: 0.79 - ETA: 1:34 - loss: 0.1230 - categorical_accuracy: 0.79 - ETA: 1:34 - loss: 0.1229 - categorical_accuracy: 0.79 - ETA: 1:34 - loss: 0.1228 - categorical_accuracy: 0.79 - ETA: 1:33 - loss: 0.1227 - categorical_accuracy: 0.79 - ETA: 1:33 - loss: 0.1226 - categorical_accuracy: 0.79 - ETA: 1:32 - loss: 0.1225 - categorical_accuracy: 0.79 - ETA: 1:32 - loss: 0.1224 - categorical_accuracy: 0.79 - ETA: 1:32 - loss: 0.1223 - categorical_accuracy: 0.79 - ETA: 1:31 - loss: 0.1223 - categorical_accuracy: 0.79 - ETA: 1:31 - loss: 0.1222 - categorical_accuracy: 0.79 - ETA: 1:30 - loss: 0.1221 - categorical_accuracy: 0.79 - ETA: 1:30 - loss: 0.1220 - categorical_accuracy: 0.79 - ETA: 1:30 - loss: 0.1219 - categorical_accuracy: 0.79 - ETA: 1:29 - loss: 0.1219 - categorical_accuracy: 0.79 - ETA: 1:29 - loss: 0.1218 - categorical_accuracy: 0.79 - ETA: 1:28 - loss: 0.1217 - categorical_accuracy: 0.79 - ETA: 1:28 - loss: 0.1216 - categorical_accuracy: 0.79 - ETA: 1:28 - loss: 0.1215 - categorical_accuracy: 0.79 - ETA: 1:27 - loss: 0.1214 - categorical_accuracy: 0.79 - ETA: 1:27 - loss: 0.1213 - categorical_accuracy: 0.79 - ETA: 1:27 - loss: 0.1212 - categorical_accuracy: 0.79 - ETA: 1:26 - loss: 0.1212 - categorical_accuracy: 0.79 - ETA: 1:26 - loss: 0.1211 - categorical_accuracy: 0.79 - ETA: 1:25 - loss: 0.1210 - categorical_accuracy: 0.79 - ETA: 1:25 - loss: 0.1209 - categorical_accuracy: 0.79 - ETA: 1:25 - loss: 0.1208 - categorical_accuracy: 0.79 - ETA: 1:24 - loss: 0.1207 - categorical_accuracy: 0.79 - ETA: 1:24 - loss: 0.1207 - categorical_accuracy: 0.79 - ETA: 1:23 - loss: 0.1206 - categorical_accuracy: 0.79 - ETA: 1:23 - loss: 0.1205 - categorical_accuracy: 0.79 - ETA: 1:23 - loss: 0.1204 - categorical_accuracy: 0.79 - ETA: 1:22 - loss: 0.1204 - categorical_accuracy: 0.79 - ETA: 1:22 - loss: 0.1203 - categorical_accuracy: 0.79 - ETA: 1:21 - loss: 0.1202 - categorical_accuracy: 0.79 - ETA: 1:21 - loss: 0.1201 - categorical_accuracy: 0.79 - ETA: 1:21 - loss: 0.1200 - categorical_accuracy: 0.79 - ETA: 1:20 - loss: 0.1199 - categorical_accuracy: 0.79 - ETA: 1:20 - loss: 0.1199 - categorical_accuracy: 0.79 - ETA: 1:19 - loss: 0.1198 - categorical_accuracy: 0.79 - ETA: 1:19 - loss: 0.1197 - categorical_accuracy: 0.79 - ETA: 1:19 - loss: 0.1196 - categorical_accuracy: 0.79 - ETA: 1:18 - loss: 0.1195 - categorical_accuracy: 0.79 - ETA: 1:18 - loss: 0.1195 - categorical_accuracy: 0.79 - ETA: 1:17 - loss: 0.1194 - categorical_accuracy: 0.79 - ETA: 1:17 - loss: 0.1193 - categorical_accuracy: 0.79 - ETA: 1:17 - loss: 0.1192 - categorical_accuracy: 0.79 - ETA: 1:16 - loss: 0.1191 - categorical_accuracy: 0.79 - ETA: 1:16 - loss: 0.1190 - categorical_accuracy: 0.79 - ETA: 1:15 - loss: 0.1190 - categorical_accuracy: 0.79 - ETA: 1:15 - loss: 0.1189 - categorical_accuracy: 0.79 - ETA: 1:15 - loss: 0.1188 - categorical_accuracy: 0.79 - ETA: 1:14 - loss: 0.1187 - categorical_accuracy: 0.79 - ETA: 1:14 - loss: 0.1186 - categorical_accuracy: 0.79 - ETA: 1:13 - loss: 0.1186 - categorical_accuracy: 0.79 - ETA: 1:13 - loss: 0.1185 - categorical_accuracy: 0.79 - ETA: 1:13 - loss: 0.1184 - categorical_accuracy: 0.79 - ETA: 1:12 - loss: 0.1183 - categorical_accuracy: 0.79 - ETA: 1:12 - loss: 0.1182 - categorical_accuracy: 0.79 - ETA: 1:11 - loss: 0.1182 - categorical_accuracy: 0.79 - ETA: 1:11 - loss: 0.1181 - categorical_accuracy: 0.79 - ETA: 1:11 - loss: 0.1180 - categorical_accuracy: 0.79 - ETA: 1:10 - loss: 0.1179 - categorical_accuracy: 0.7926"
     ]
    },
    {
     "name": "stdout",
     "output_type": "stream",
     "text": [
      "37312/38368 [============================>.] - ETA: 1:10 - loss: 0.1179 - categorical_accuracy: 0.79 - ETA: 1:09 - loss: 0.1178 - categorical_accuracy: 0.79 - ETA: 1:09 - loss: 0.1177 - categorical_accuracy: 0.79 - ETA: 1:09 - loss: 0.1176 - categorical_accuracy: 0.79 - ETA: 1:08 - loss: 0.1175 - categorical_accuracy: 0.79 - ETA: 1:08 - loss: 0.1175 - categorical_accuracy: 0.79 - ETA: 1:07 - loss: 0.1174 - categorical_accuracy: 0.79 - ETA: 1:07 - loss: 0.1173 - categorical_accuracy: 0.79 - ETA: 1:07 - loss: 0.1172 - categorical_accuracy: 0.79 - ETA: 1:06 - loss: 0.1171 - categorical_accuracy: 0.79 - ETA: 1:06 - loss: 0.1171 - categorical_accuracy: 0.79 - ETA: 1:06 - loss: 0.1170 - categorical_accuracy: 0.79 - ETA: 1:05 - loss: 0.1169 - categorical_accuracy: 0.79 - ETA: 1:05 - loss: 0.1168 - categorical_accuracy: 0.79 - ETA: 1:04 - loss: 0.1167 - categorical_accuracy: 0.79 - ETA: 1:04 - loss: 0.1167 - categorical_accuracy: 0.79 - ETA: 1:04 - loss: 0.1166 - categorical_accuracy: 0.79 - ETA: 1:03 - loss: 0.1165 - categorical_accuracy: 0.79 - ETA: 1:03 - loss: 0.1164 - categorical_accuracy: 0.79 - ETA: 1:02 - loss: 0.1164 - categorical_accuracy: 0.79 - ETA: 1:02 - loss: 0.1163 - categorical_accuracy: 0.79 - ETA: 1:02 - loss: 0.1162 - categorical_accuracy: 0.79 - ETA: 1:01 - loss: 0.1161 - categorical_accuracy: 0.79 - ETA: 1:01 - loss: 0.1161 - categorical_accuracy: 0.79 - ETA: 1:00 - loss: 0.1160 - categorical_accuracy: 0.79 - ETA: 1:00 - loss: 0.1159 - categorical_accuracy: 0.79 - ETA: 1:00 - loss: 0.1158 - categorical_accuracy: 0.79 - ETA: 59s - loss: 0.1158 - categorical_accuracy: 0.7925 - ETA: 59s - loss: 0.1157 - categorical_accuracy: 0.792 - ETA: 58s - loss: 0.1156 - categorical_accuracy: 0.792 - ETA: 58s - loss: 0.1155 - categorical_accuracy: 0.792 - ETA: 58s - loss: 0.1154 - categorical_accuracy: 0.792 - ETA: 57s - loss: 0.1154 - categorical_accuracy: 0.792 - ETA: 57s - loss: 0.1153 - categorical_accuracy: 0.792 - ETA: 56s - loss: 0.1152 - categorical_accuracy: 0.792 - ETA: 56s - loss: 0.1151 - categorical_accuracy: 0.792 - ETA: 56s - loss: 0.1151 - categorical_accuracy: 0.792 - ETA: 55s - loss: 0.1150 - categorical_accuracy: 0.792 - ETA: 55s - loss: 0.1149 - categorical_accuracy: 0.792 - ETA: 55s - loss: 0.1148 - categorical_accuracy: 0.792 - ETA: 54s - loss: 0.1147 - categorical_accuracy: 0.792 - ETA: 54s - loss: 0.1147 - categorical_accuracy: 0.792 - ETA: 53s - loss: 0.1146 - categorical_accuracy: 0.792 - ETA: 53s - loss: 0.1145 - categorical_accuracy: 0.792 - ETA: 53s - loss: 0.1144 - categorical_accuracy: 0.792 - ETA: 52s - loss: 0.1144 - categorical_accuracy: 0.792 - ETA: 52s - loss: 0.1143 - categorical_accuracy: 0.792 - ETA: 51s - loss: 0.1142 - categorical_accuracy: 0.792 - ETA: 51s - loss: 0.1141 - categorical_accuracy: 0.792 - ETA: 51s - loss: 0.1141 - categorical_accuracy: 0.792 - ETA: 50s - loss: 0.1140 - categorical_accuracy: 0.792 - ETA: 50s - loss: 0.1139 - categorical_accuracy: 0.792 - ETA: 49s - loss: 0.1138 - categorical_accuracy: 0.792 - ETA: 49s - loss: 0.1137 - categorical_accuracy: 0.792 - ETA: 49s - loss: 0.1137 - categorical_accuracy: 0.792 - ETA: 48s - loss: 0.1136 - categorical_accuracy: 0.792 - ETA: 48s - loss: 0.1135 - categorical_accuracy: 0.792 - ETA: 47s - loss: 0.1134 - categorical_accuracy: 0.792 - ETA: 47s - loss: 0.1134 - categorical_accuracy: 0.792 - ETA: 47s - loss: 0.1133 - categorical_accuracy: 0.792 - ETA: 46s - loss: 0.1132 - categorical_accuracy: 0.792 - ETA: 46s - loss: 0.1132 - categorical_accuracy: 0.792 - ETA: 45s - loss: 0.1131 - categorical_accuracy: 0.792 - ETA: 45s - loss: 0.1130 - categorical_accuracy: 0.792 - ETA: 45s - loss: 0.1129 - categorical_accuracy: 0.792 - ETA: 44s - loss: 0.1129 - categorical_accuracy: 0.792 - ETA: 44s - loss: 0.1128 - categorical_accuracy: 0.792 - ETA: 44s - loss: 0.1127 - categorical_accuracy: 0.792 - ETA: 43s - loss: 0.1126 - categorical_accuracy: 0.792 - ETA: 43s - loss: 0.1126 - categorical_accuracy: 0.792 - ETA: 42s - loss: 0.1125 - categorical_accuracy: 0.792 - ETA: 42s - loss: 0.1124 - categorical_accuracy: 0.792 - ETA: 42s - loss: 0.1123 - categorical_accuracy: 0.792 - ETA: 41s - loss: 0.1123 - categorical_accuracy: 0.792 - ETA: 41s - loss: 0.1122 - categorical_accuracy: 0.792 - ETA: 40s - loss: 0.1121 - categorical_accuracy: 0.792 - ETA: 40s - loss: 0.1121 - categorical_accuracy: 0.792 - ETA: 40s - loss: 0.1120 - categorical_accuracy: 0.792 - ETA: 39s - loss: 0.1119 - categorical_accuracy: 0.792 - ETA: 39s - loss: 0.1119 - categorical_accuracy: 0.792 - ETA: 38s - loss: 0.1118 - categorical_accuracy: 0.792 - ETA: 38s - loss: 0.1117 - categorical_accuracy: 0.792 - ETA: 38s - loss: 0.1117 - categorical_accuracy: 0.792 - ETA: 37s - loss: 0.1116 - categorical_accuracy: 0.792 - ETA: 37s - loss: 0.1115 - categorical_accuracy: 0.792 - ETA: 36s - loss: 0.1114 - categorical_accuracy: 0.792 - ETA: 36s - loss: 0.1114 - categorical_accuracy: 0.792 - ETA: 36s - loss: 0.1113 - categorical_accuracy: 0.792 - ETA: 35s - loss: 0.1112 - categorical_accuracy: 0.792 - ETA: 35s - loss: 0.1112 - categorical_accuracy: 0.792 - ETA: 34s - loss: 0.1111 - categorical_accuracy: 0.792 - ETA: 34s - loss: 0.1111 - categorical_accuracy: 0.792 - ETA: 34s - loss: 0.1110 - categorical_accuracy: 0.792 - ETA: 33s - loss: 0.1109 - categorical_accuracy: 0.792 - ETA: 33s - loss: 0.1108 - categorical_accuracy: 0.792 - ETA: 33s - loss: 0.1108 - categorical_accuracy: 0.792 - ETA: 32s - loss: 0.1107 - categorical_accuracy: 0.792 - ETA: 32s - loss: 0.1106 - categorical_accuracy: 0.792 - ETA: 31s - loss: 0.1106 - categorical_accuracy: 0.792 - ETA: 31s - loss: 0.1105 - categorical_accuracy: 0.792 - ETA: 31s - loss: 0.1104 - categorical_accuracy: 0.792 - ETA: 30s - loss: 0.1104 - categorical_accuracy: 0.792 - ETA: 30s - loss: 0.1103 - categorical_accuracy: 0.792 - ETA: 29s - loss: 0.1102 - categorical_accuracy: 0.792 - ETA: 29s - loss: 0.1102 - categorical_accuracy: 0.792 - ETA: 29s - loss: 0.1101 - categorical_accuracy: 0.792 - ETA: 28s - loss: 0.1101 - categorical_accuracy: 0.792 - ETA: 28s - loss: 0.1100 - categorical_accuracy: 0.792 - ETA: 27s - loss: 0.1099 - categorical_accuracy: 0.792 - ETA: 27s - loss: 0.1099 - categorical_accuracy: 0.792 - ETA: 27s - loss: 0.1098 - categorical_accuracy: 0.792 - ETA: 26s - loss: 0.1097 - categorical_accuracy: 0.792 - ETA: 26s - loss: 0.1097 - categorical_accuracy: 0.792 - ETA: 25s - loss: 0.1096 - categorical_accuracy: 0.792 - ETA: 25s - loss: 0.1095 - categorical_accuracy: 0.792 - ETA: 25s - loss: 0.1095 - categorical_accuracy: 0.792 - ETA: 24s - loss: 0.1094 - categorical_accuracy: 0.792 - ETA: 24s - loss: 0.1093 - categorical_accuracy: 0.792 - ETA: 23s - loss: 0.1093 - categorical_accuracy: 0.792 - ETA: 23s - loss: 0.1092 - categorical_accuracy: 0.792 - ETA: 23s - loss: 0.1091 - categorical_accuracy: 0.792 - ETA: 22s - loss: 0.1091 - categorical_accuracy: 0.792 - ETA: 22s - loss: 0.1090 - categorical_accuracy: 0.792 - ETA: 21s - loss: 0.1089 - categorical_accuracy: 0.792 - ETA: 21s - loss: 0.1089 - categorical_accuracy: 0.792 - ETA: 21s - loss: 0.1088 - categorical_accuracy: 0.792 - ETA: 20s - loss: 0.1088 - categorical_accuracy: 0.792 - ETA: 20s - loss: 0.1087 - categorical_accuracy: 0.792 - ETA: 19s - loss: 0.1086 - categorical_accuracy: 0.792 - ETA: 19s - loss: 0.1085 - categorical_accuracy: 0.792 - ETA: 19s - loss: 0.1085 - categorical_accuracy: 0.792 - ETA: 18s - loss: 0.1084 - categorical_accuracy: 0.792 - ETA: 18s - loss: 0.1083 - categorical_accuracy: 0.792 - ETA: 17s - loss: 0.1083 - categorical_accuracy: 0.792 - ETA: 17s - loss: 0.1082 - categorical_accuracy: 0.792 - ETA: 17s - loss: 0.1081 - categorical_accuracy: 0.792 - ETA: 16s - loss: 0.1081 - categorical_accuracy: 0.792 - ETA: 16s - loss: 0.1080 - categorical_accuracy: 0.792 - ETA: 15s - loss: 0.1079 - categorical_accuracy: 0.792 - ETA: 15s - loss: 0.1079 - categorical_accuracy: 0.792 - ETA: 15s - loss: 0.1078 - categorical_accuracy: 0.792 - ETA: 14s - loss: 0.1078 - categorical_accuracy: 0.792 - ETA: 14s - loss: 0.1077 - categorical_accuracy: 0.792 - ETA: 13s - loss: 0.1076 - categorical_accuracy: 0.792 - ETA: 13s - loss: 0.1076 - categorical_accuracy: 0.792 - ETA: 13s - loss: 0.1075 - categorical_accuracy: 0.7922"
     ]
    },
    {
     "name": "stdout",
     "output_type": "stream",
     "text": [
      "38368/38368 [==============================] - ETA: 12s - loss: 0.1075 - categorical_accuracy: 0.792 - ETA: 12s - loss: 0.1074 - categorical_accuracy: 0.792 - ETA: 11s - loss: 0.1073 - categorical_accuracy: 0.792 - ETA: 11s - loss: 0.1073 - categorical_accuracy: 0.792 - ETA: 11s - loss: 0.1072 - categorical_accuracy: 0.792 - ETA: 10s - loss: 0.1071 - categorical_accuracy: 0.792 - ETA: 10s - loss: 0.1071 - categorical_accuracy: 0.792 - ETA: 9s - loss: 0.1070 - categorical_accuracy: 0.792 - ETA: 9s - loss: 0.1069 - categorical_accuracy: 0.79 - ETA: 9s - loss: 0.1069 - categorical_accuracy: 0.79 - ETA: 8s - loss: 0.1068 - categorical_accuracy: 0.79 - ETA: 8s - loss: 0.1067 - categorical_accuracy: 0.79 - ETA: 7s - loss: 0.1067 - categorical_accuracy: 0.79 - ETA: 7s - loss: 0.1066 - categorical_accuracy: 0.79 - ETA: 7s - loss: 0.1066 - categorical_accuracy: 0.79 - ETA: 6s - loss: 0.1065 - categorical_accuracy: 0.79 - ETA: 6s - loss: 0.1064 - categorical_accuracy: 0.79 - ETA: 5s - loss: 0.1064 - categorical_accuracy: 0.79 - ETA: 5s - loss: 0.1063 - categorical_accuracy: 0.79 - ETA: 5s - loss: 0.1062 - categorical_accuracy: 0.79 - ETA: 4s - loss: 0.1062 - categorical_accuracy: 0.79 - ETA: 4s - loss: 0.1061 - categorical_accuracy: 0.79 - ETA: 3s - loss: 0.1061 - categorical_accuracy: 0.79 - ETA: 3s - loss: 0.1060 - categorical_accuracy: 0.79 - ETA: 3s - loss: 0.1059 - categorical_accuracy: 0.79 - ETA: 2s - loss: 0.1059 - categorical_accuracy: 0.79 - ETA: 2s - loss: 0.1058 - categorical_accuracy: 0.79 - ETA: 1s - loss: 0.1058 - categorical_accuracy: 0.79 - ETA: 1s - loss: 0.1057 - categorical_accuracy: 0.79 - ETA: 1s - loss: 0.1056 - categorical_accuracy: 0.79 - ETA: 0s - loss: 0.1056 - categorical_accuracy: 0.79 - ETA: 0s - loss: 0.1055 - categorical_accuracy: 0.79 - 497s 13ms/step - loss: 0.1055 - categorical_accuracy: 0.7922 - val_loss: 0.0319 - val_categorical_accuracy: 0.7902\n",
      "Epoch 2/10\n"
     ]
    },
    {
     "name": "stdout",
     "output_type": "stream",
     "text": [
      " 4672/38368 [==>...........................] - ETA: 8:03 - loss: 0.0264 - categorical_accuracy: 0.79 - ETA: 7:53 - loss: 0.0215 - categorical_accuracy: 0.78 - ETA: 7:48 - loss: 0.0300 - categorical_accuracy: 0.78 - ETA: 8:08 - loss: 0.0304 - categorical_accuracy: 0.78 - ETA: 7:57 - loss: 0.0277 - categorical_accuracy: 0.78 - ETA: 7:51 - loss: 0.0292 - categorical_accuracy: 0.78 - ETA: 7:50 - loss: 0.0320 - categorical_accuracy: 0.78 - ETA: 7:47 - loss: 0.0314 - categorical_accuracy: 0.78 - ETA: 7:47 - loss: 0.0338 - categorical_accuracy: 0.78 - ETA: 7:46 - loss: 0.0323 - categorical_accuracy: 0.78 - ETA: 7:47 - loss: 0.0320 - categorical_accuracy: 0.78 - ETA: 7:52 - loss: 0.0313 - categorical_accuracy: 0.78 - ETA: 7:54 - loss: 0.0305 - categorical_accuracy: 0.78 - ETA: 7:55 - loss: 0.0298 - categorical_accuracy: 0.78 - ETA: 8:00 - loss: 0.0293 - categorical_accuracy: 0.78 - ETA: 8:03 - loss: 0.0293 - categorical_accuracy: 0.78 - ETA: 8:04 - loss: 0.0293 - categorical_accuracy: 0.78 - ETA: 8:05 - loss: 0.0289 - categorical_accuracy: 0.78 - ETA: 8:10 - loss: 0.0292 - categorical_accuracy: 0.78 - ETA: 8:06 - loss: 0.0287 - categorical_accuracy: 0.78 - ETA: 8:04 - loss: 0.0286 - categorical_accuracy: 0.78 - ETA: 8:01 - loss: 0.0289 - categorical_accuracy: 0.78 - ETA: 8:00 - loss: 0.0284 - categorical_accuracy: 0.78 - ETA: 7:58 - loss: 0.0286 - categorical_accuracy: 0.78 - ETA: 7:57 - loss: 0.0285 - categorical_accuracy: 0.78 - ETA: 7:55 - loss: 0.0286 - categorical_accuracy: 0.78 - ETA: 7:54 - loss: 0.0283 - categorical_accuracy: 0.78 - ETA: 7:53 - loss: 0.0287 - categorical_accuracy: 0.78 - ETA: 7:54 - loss: 0.0284 - categorical_accuracy: 0.78 - ETA: 7:53 - loss: 0.0280 - categorical_accuracy: 0.79 - ETA: 7:52 - loss: 0.0276 - categorical_accuracy: 0.79 - ETA: 7:52 - loss: 0.0275 - categorical_accuracy: 0.79 - ETA: 7:52 - loss: 0.0271 - categorical_accuracy: 0.79 - ETA: 7:50 - loss: 0.0270 - categorical_accuracy: 0.79 - ETA: 7:49 - loss: 0.0270 - categorical_accuracy: 0.79 - ETA: 7:49 - loss: 0.0268 - categorical_accuracy: 0.78 - ETA: 7:47 - loss: 0.0271 - categorical_accuracy: 0.78 - ETA: 7:47 - loss: 0.0272 - categorical_accuracy: 0.78 - ETA: 7:48 - loss: 0.0273 - categorical_accuracy: 0.78 - ETA: 7:50 - loss: 0.0273 - categorical_accuracy: 0.78 - ETA: 7:53 - loss: 0.0273 - categorical_accuracy: 0.78 - ETA: 7:52 - loss: 0.0276 - categorical_accuracy: 0.78 - ETA: 7:51 - loss: 0.0276 - categorical_accuracy: 0.78 - ETA: 7:50 - loss: 0.0280 - categorical_accuracy: 0.78 - ETA: 7:51 - loss: 0.0281 - categorical_accuracy: 0.78 - ETA: 7:52 - loss: 0.0281 - categorical_accuracy: 0.78 - ETA: 7:54 - loss: 0.0282 - categorical_accuracy: 0.78 - ETA: 7:54 - loss: 0.0279 - categorical_accuracy: 0.79 - ETA: 7:58 - loss: 0.0277 - categorical_accuracy: 0.79 - ETA: 8:00 - loss: 0.0275 - categorical_accuracy: 0.79 - ETA: 8:01 - loss: 0.0274 - categorical_accuracy: 0.79 - ETA: 8:04 - loss: 0.0275 - categorical_accuracy: 0.79 - ETA: 8:03 - loss: 0.0275 - categorical_accuracy: 0.79 - ETA: 8:05 - loss: 0.0275 - categorical_accuracy: 0.79 - ETA: 8:06 - loss: 0.0274 - categorical_accuracy: 0.79 - ETA: 8:06 - loss: 0.0275 - categorical_accuracy: 0.79 - ETA: 8:07 - loss: 0.0274 - categorical_accuracy: 0.79 - ETA: 8:06 - loss: 0.0275 - categorical_accuracy: 0.79 - ETA: 8:05 - loss: 0.0276 - categorical_accuracy: 0.79 - ETA: 8:05 - loss: 0.0275 - categorical_accuracy: 0.79 - ETA: 8:05 - loss: 0.0276 - categorical_accuracy: 0.79 - ETA: 8:04 - loss: 0.0275 - categorical_accuracy: 0.79 - ETA: 8:04 - loss: 0.0276 - categorical_accuracy: 0.79 - ETA: 8:04 - loss: 0.0274 - categorical_accuracy: 0.79 - ETA: 8:04 - loss: 0.0273 - categorical_accuracy: 0.79 - ETA: 8:04 - loss: 0.0273 - categorical_accuracy: 0.79 - ETA: 8:04 - loss: 0.0273 - categorical_accuracy: 0.79 - ETA: 8:04 - loss: 0.0274 - categorical_accuracy: 0.79 - ETA: 8:04 - loss: 0.0275 - categorical_accuracy: 0.79 - ETA: 8:04 - loss: 0.0273 - categorical_accuracy: 0.79 - ETA: 8:03 - loss: 0.0271 - categorical_accuracy: 0.79 - ETA: 8:03 - loss: 0.0270 - categorical_accuracy: 0.79 - ETA: 8:02 - loss: 0.0269 - categorical_accuracy: 0.79 - ETA: 8:02 - loss: 0.0270 - categorical_accuracy: 0.79 - ETA: 8:01 - loss: 0.0270 - categorical_accuracy: 0.79 - ETA: 8:01 - loss: 0.0269 - categorical_accuracy: 0.79 - ETA: 8:01 - loss: 0.0269 - categorical_accuracy: 0.79 - ETA: 8:00 - loss: 0.0271 - categorical_accuracy: 0.79 - ETA: 8:00 - loss: 0.0272 - categorical_accuracy: 0.79 - ETA: 7:59 - loss: 0.0271 - categorical_accuracy: 0.79 - ETA: 7:59 - loss: 0.0271 - categorical_accuracy: 0.79 - ETA: 8:00 - loss: 0.0272 - categorical_accuracy: 0.79 - ETA: 8:00 - loss: 0.0271 - categorical_accuracy: 0.79 - ETA: 7:59 - loss: 0.0272 - categorical_accuracy: 0.79 - ETA: 8:00 - loss: 0.0272 - categorical_accuracy: 0.79 - ETA: 8:00 - loss: 0.0270 - categorical_accuracy: 0.79 - ETA: 8:00 - loss: 0.0271 - categorical_accuracy: 0.79 - ETA: 8:00 - loss: 0.0270 - categorical_accuracy: 0.79 - ETA: 8:00 - loss: 0.0270 - categorical_accuracy: 0.79 - ETA: 7:59 - loss: 0.0269 - categorical_accuracy: 0.79 - ETA: 7:59 - loss: 0.0269 - categorical_accuracy: 0.79 - ETA: 7:59 - loss: 0.0269 - categorical_accuracy: 0.79 - ETA: 7:58 - loss: 0.0270 - categorical_accuracy: 0.79 - ETA: 7:58 - loss: 0.0271 - categorical_accuracy: 0.79 - ETA: 7:57 - loss: 0.0271 - categorical_accuracy: 0.79 - ETA: 7:57 - loss: 0.0272 - categorical_accuracy: 0.79 - ETA: 7:57 - loss: 0.0273 - categorical_accuracy: 0.79 - ETA: 7:56 - loss: 0.0271 - categorical_accuracy: 0.79 - ETA: 7:56 - loss: 0.0272 - categorical_accuracy: 0.79 - ETA: 7:55 - loss: 0.0273 - categorical_accuracy: 0.79 - ETA: 7:55 - loss: 0.0275 - categorical_accuracy: 0.79 - ETA: 7:54 - loss: 0.0274 - categorical_accuracy: 0.79 - ETA: 7:54 - loss: 0.0273 - categorical_accuracy: 0.79 - ETA: 7:53 - loss: 0.0274 - categorical_accuracy: 0.79 - ETA: 7:53 - loss: 0.0274 - categorical_accuracy: 0.79 - ETA: 7:53 - loss: 0.0276 - categorical_accuracy: 0.79 - ETA: 7:52 - loss: 0.0277 - categorical_accuracy: 0.79 - ETA: 7:51 - loss: 0.0277 - categorical_accuracy: 0.79 - ETA: 7:50 - loss: 0.0275 - categorical_accuracy: 0.79 - ETA: 7:49 - loss: 0.0276 - categorical_accuracy: 0.79 - ETA: 7:49 - loss: 0.0276 - categorical_accuracy: 0.79 - ETA: 7:48 - loss: 0.0276 - categorical_accuracy: 0.79 - ETA: 7:48 - loss: 0.0276 - categorical_accuracy: 0.79 - ETA: 7:47 - loss: 0.0277 - categorical_accuracy: 0.79 - ETA: 7:46 - loss: 0.0277 - categorical_accuracy: 0.78 - ETA: 7:46 - loss: 0.0277 - categorical_accuracy: 0.78 - ETA: 7:45 - loss: 0.0277 - categorical_accuracy: 0.78 - ETA: 7:44 - loss: 0.0278 - categorical_accuracy: 0.79 - ETA: 7:44 - loss: 0.0279 - categorical_accuracy: 0.78 - ETA: 7:43 - loss: 0.0279 - categorical_accuracy: 0.78 - ETA: 7:43 - loss: 0.0280 - categorical_accuracy: 0.78 - ETA: 7:42 - loss: 0.0279 - categorical_accuracy: 0.78 - ETA: 7:41 - loss: 0.0279 - categorical_accuracy: 0.78 - ETA: 7:40 - loss: 0.0281 - categorical_accuracy: 0.78 - ETA: 7:40 - loss: 0.0281 - categorical_accuracy: 0.79 - ETA: 7:39 - loss: 0.0281 - categorical_accuracy: 0.79 - ETA: 7:39 - loss: 0.0280 - categorical_accuracy: 0.79 - ETA: 7:38 - loss: 0.0280 - categorical_accuracy: 0.79 - ETA: 7:38 - loss: 0.0280 - categorical_accuracy: 0.79 - ETA: 7:37 - loss: 0.0280 - categorical_accuracy: 0.79 - ETA: 7:37 - loss: 0.0281 - categorical_accuracy: 0.79 - ETA: 7:37 - loss: 0.0281 - categorical_accuracy: 0.79 - ETA: 7:37 - loss: 0.0280 - categorical_accuracy: 0.79 - ETA: 7:37 - loss: 0.0280 - categorical_accuracy: 0.79 - ETA: 7:37 - loss: 0.0279 - categorical_accuracy: 0.79 - ETA: 7:36 - loss: 0.0279 - categorical_accuracy: 0.79 - ETA: 7:36 - loss: 0.0279 - categorical_accuracy: 0.79 - ETA: 7:35 - loss: 0.0279 - categorical_accuracy: 0.79 - ETA: 7:35 - loss: 0.0279 - categorical_accuracy: 0.79 - ETA: 7:34 - loss: 0.0280 - categorical_accuracy: 0.79 - ETA: 7:34 - loss: 0.0279 - categorical_accuracy: 0.79 - ETA: 7:33 - loss: 0.0278 - categorical_accuracy: 0.79 - ETA: 7:33 - loss: 0.0278 - categorical_accuracy: 0.79 - ETA: 7:32 - loss: 0.0278 - categorical_accuracy: 0.79 - ETA: 7:32 - loss: 0.0278 - categorical_accuracy: 0.79 - ETA: 7:31 - loss: 0.0278 - categorical_accuracy: 0.7901"
     ]
    },
    {
     "name": "stdout",
     "output_type": "stream",
     "text": [
      " 9344/38368 [======>.......................] - ETA: 7:31 - loss: 0.0278 - categorical_accuracy: 0.79 - ETA: 7:30 - loss: 0.0277 - categorical_accuracy: 0.79 - ETA: 7:30 - loss: 0.0278 - categorical_accuracy: 0.78 - ETA: 7:29 - loss: 0.0277 - categorical_accuracy: 0.79 - ETA: 7:29 - loss: 0.0277 - categorical_accuracy: 0.79 - ETA: 7:28 - loss: 0.0276 - categorical_accuracy: 0.79 - ETA: 7:28 - loss: 0.0275 - categorical_accuracy: 0.79 - ETA: 7:27 - loss: 0.0275 - categorical_accuracy: 0.79 - ETA: 7:27 - loss: 0.0275 - categorical_accuracy: 0.79 - ETA: 7:27 - loss: 0.0275 - categorical_accuracy: 0.79 - ETA: 7:26 - loss: 0.0274 - categorical_accuracy: 0.79 - ETA: 7:26 - loss: 0.0275 - categorical_accuracy: 0.79 - ETA: 7:26 - loss: 0.0275 - categorical_accuracy: 0.78 - ETA: 7:25 - loss: 0.0275 - categorical_accuracy: 0.78 - ETA: 7:25 - loss: 0.0275 - categorical_accuracy: 0.78 - ETA: 7:25 - loss: 0.0275 - categorical_accuracy: 0.78 - ETA: 7:25 - loss: 0.0275 - categorical_accuracy: 0.79 - ETA: 7:25 - loss: 0.0275 - categorical_accuracy: 0.78 - ETA: 7:25 - loss: 0.0276 - categorical_accuracy: 0.78 - ETA: 7:25 - loss: 0.0276 - categorical_accuracy: 0.79 - ETA: 7:25 - loss: 0.0276 - categorical_accuracy: 0.79 - ETA: 7:24 - loss: 0.0276 - categorical_accuracy: 0.79 - ETA: 7:24 - loss: 0.0276 - categorical_accuracy: 0.78 - ETA: 7:24 - loss: 0.0275 - categorical_accuracy: 0.78 - ETA: 7:24 - loss: 0.0275 - categorical_accuracy: 0.79 - ETA: 7:24 - loss: 0.0275 - categorical_accuracy: 0.79 - ETA: 7:24 - loss: 0.0275 - categorical_accuracy: 0.79 - ETA: 7:24 - loss: 0.0276 - categorical_accuracy: 0.78 - ETA: 7:23 - loss: 0.0276 - categorical_accuracy: 0.78 - ETA: 7:23 - loss: 0.0276 - categorical_accuracy: 0.78 - ETA: 7:24 - loss: 0.0276 - categorical_accuracy: 0.78 - ETA: 7:24 - loss: 0.0276 - categorical_accuracy: 0.78 - ETA: 7:23 - loss: 0.0276 - categorical_accuracy: 0.78 - ETA: 7:23 - loss: 0.0275 - categorical_accuracy: 0.79 - ETA: 7:23 - loss: 0.0275 - categorical_accuracy: 0.79 - ETA: 7:23 - loss: 0.0275 - categorical_accuracy: 0.79 - ETA: 7:23 - loss: 0.0275 - categorical_accuracy: 0.79 - ETA: 7:22 - loss: 0.0275 - categorical_accuracy: 0.79 - ETA: 7:22 - loss: 0.0275 - categorical_accuracy: 0.79 - ETA: 7:21 - loss: 0.0275 - categorical_accuracy: 0.79 - ETA: 7:21 - loss: 0.0276 - categorical_accuracy: 0.79 - ETA: 7:21 - loss: 0.0277 - categorical_accuracy: 0.79 - ETA: 7:20 - loss: 0.0277 - categorical_accuracy: 0.79 - ETA: 7:20 - loss: 0.0278 - categorical_accuracy: 0.79 - ETA: 7:20 - loss: 0.0278 - categorical_accuracy: 0.79 - ETA: 7:19 - loss: 0.0278 - categorical_accuracy: 0.79 - ETA: 7:19 - loss: 0.0279 - categorical_accuracy: 0.79 - ETA: 7:18 - loss: 0.0279 - categorical_accuracy: 0.79 - ETA: 7:18 - loss: 0.0279 - categorical_accuracy: 0.79 - ETA: 7:17 - loss: 0.0278 - categorical_accuracy: 0.79 - ETA: 7:16 - loss: 0.0279 - categorical_accuracy: 0.79 - ETA: 7:16 - loss: 0.0278 - categorical_accuracy: 0.79 - ETA: 7:16 - loss: 0.0278 - categorical_accuracy: 0.79 - ETA: 7:15 - loss: 0.0278 - categorical_accuracy: 0.79 - ETA: 7:15 - loss: 0.0278 - categorical_accuracy: 0.79 - ETA: 7:14 - loss: 0.0278 - categorical_accuracy: 0.79 - ETA: 7:13 - loss: 0.0278 - categorical_accuracy: 0.79 - ETA: 7:13 - loss: 0.0278 - categorical_accuracy: 0.79 - ETA: 7:12 - loss: 0.0278 - categorical_accuracy: 0.79 - ETA: 7:12 - loss: 0.0278 - categorical_accuracy: 0.79 - ETA: 7:11 - loss: 0.0278 - categorical_accuracy: 0.79 - ETA: 7:11 - loss: 0.0278 - categorical_accuracy: 0.79 - ETA: 7:10 - loss: 0.0278 - categorical_accuracy: 0.79 - ETA: 7:09 - loss: 0.0278 - categorical_accuracy: 0.79 - ETA: 7:09 - loss: 0.0278 - categorical_accuracy: 0.79 - ETA: 7:08 - loss: 0.0279 - categorical_accuracy: 0.79 - ETA: 7:08 - loss: 0.0278 - categorical_accuracy: 0.79 - ETA: 7:07 - loss: 0.0278 - categorical_accuracy: 0.79 - ETA: 7:06 - loss: 0.0278 - categorical_accuracy: 0.79 - ETA: 7:06 - loss: 0.0277 - categorical_accuracy: 0.79 - ETA: 7:05 - loss: 0.0277 - categorical_accuracy: 0.79 - ETA: 7:05 - loss: 0.0277 - categorical_accuracy: 0.79 - ETA: 7:04 - loss: 0.0277 - categorical_accuracy: 0.79 - ETA: 7:04 - loss: 0.0277 - categorical_accuracy: 0.79 - ETA: 7:03 - loss: 0.0278 - categorical_accuracy: 0.79 - ETA: 7:02 - loss: 0.0278 - categorical_accuracy: 0.79 - ETA: 7:02 - loss: 0.0278 - categorical_accuracy: 0.79 - ETA: 7:01 - loss: 0.0278 - categorical_accuracy: 0.79 - ETA: 7:01 - loss: 0.0278 - categorical_accuracy: 0.79 - ETA: 7:01 - loss: 0.0278 - categorical_accuracy: 0.79 - ETA: 7:00 - loss: 0.0278 - categorical_accuracy: 0.79 - ETA: 7:00 - loss: 0.0279 - categorical_accuracy: 0.79 - ETA: 7:00 - loss: 0.0278 - categorical_accuracy: 0.79 - ETA: 6:59 - loss: 0.0279 - categorical_accuracy: 0.79 - ETA: 6:59 - loss: 0.0279 - categorical_accuracy: 0.79 - ETA: 6:59 - loss: 0.0279 - categorical_accuracy: 0.79 - ETA: 6:59 - loss: 0.0278 - categorical_accuracy: 0.79 - ETA: 6:58 - loss: 0.0278 - categorical_accuracy: 0.79 - ETA: 6:58 - loss: 0.0278 - categorical_accuracy: 0.79 - ETA: 6:58 - loss: 0.0278 - categorical_accuracy: 0.79 - ETA: 6:57 - loss: 0.0278 - categorical_accuracy: 0.79 - ETA: 6:56 - loss: 0.0278 - categorical_accuracy: 0.79 - ETA: 6:56 - loss: 0.0278 - categorical_accuracy: 0.79 - ETA: 6:55 - loss: 0.0278 - categorical_accuracy: 0.79 - ETA: 6:55 - loss: 0.0278 - categorical_accuracy: 0.79 - ETA: 6:54 - loss: 0.0278 - categorical_accuracy: 0.79 - ETA: 6:54 - loss: 0.0278 - categorical_accuracy: 0.79 - ETA: 6:53 - loss: 0.0277 - categorical_accuracy: 0.79 - ETA: 6:53 - loss: 0.0277 - categorical_accuracy: 0.79 - ETA: 6:53 - loss: 0.0277 - categorical_accuracy: 0.79 - ETA: 6:52 - loss: 0.0277 - categorical_accuracy: 0.79 - ETA: 6:52 - loss: 0.0277 - categorical_accuracy: 0.79 - ETA: 6:51 - loss: 0.0277 - categorical_accuracy: 0.79 - ETA: 6:51 - loss: 0.0277 - categorical_accuracy: 0.79 - ETA: 6:51 - loss: 0.0277 - categorical_accuracy: 0.79 - ETA: 6:51 - loss: 0.0277 - categorical_accuracy: 0.79 - ETA: 6:50 - loss: 0.0277 - categorical_accuracy: 0.79 - ETA: 6:50 - loss: 0.0277 - categorical_accuracy: 0.79 - ETA: 6:49 - loss: 0.0277 - categorical_accuracy: 0.79 - ETA: 6:48 - loss: 0.0277 - categorical_accuracy: 0.79 - ETA: 6:48 - loss: 0.0277 - categorical_accuracy: 0.79 - ETA: 6:47 - loss: 0.0277 - categorical_accuracy: 0.79 - ETA: 6:47 - loss: 0.0276 - categorical_accuracy: 0.79 - ETA: 6:46 - loss: 0.0276 - categorical_accuracy: 0.79 - ETA: 6:45 - loss: 0.0277 - categorical_accuracy: 0.79 - ETA: 6:45 - loss: 0.0277 - categorical_accuracy: 0.79 - ETA: 6:44 - loss: 0.0276 - categorical_accuracy: 0.79 - ETA: 6:43 - loss: 0.0276 - categorical_accuracy: 0.79 - ETA: 6:43 - loss: 0.0276 - categorical_accuracy: 0.79 - ETA: 6:42 - loss: 0.0276 - categorical_accuracy: 0.79 - ETA: 6:41 - loss: 0.0276 - categorical_accuracy: 0.79 - ETA: 6:41 - loss: 0.0275 - categorical_accuracy: 0.79 - ETA: 6:40 - loss: 0.0275 - categorical_accuracy: 0.79 - ETA: 6:40 - loss: 0.0275 - categorical_accuracy: 0.79 - ETA: 6:39 - loss: 0.0275 - categorical_accuracy: 0.79 - ETA: 6:39 - loss: 0.0274 - categorical_accuracy: 0.79 - ETA: 6:38 - loss: 0.0275 - categorical_accuracy: 0.79 - ETA: 6:38 - loss: 0.0274 - categorical_accuracy: 0.79 - ETA: 6:37 - loss: 0.0274 - categorical_accuracy: 0.79 - ETA: 6:37 - loss: 0.0275 - categorical_accuracy: 0.79 - ETA: 6:37 - loss: 0.0275 - categorical_accuracy: 0.79 - ETA: 6:36 - loss: 0.0275 - categorical_accuracy: 0.79 - ETA: 6:35 - loss: 0.0275 - categorical_accuracy: 0.79 - ETA: 6:35 - loss: 0.0276 - categorical_accuracy: 0.79 - ETA: 6:35 - loss: 0.0275 - categorical_accuracy: 0.79 - ETA: 6:35 - loss: 0.0275 - categorical_accuracy: 0.79 - ETA: 6:34 - loss: 0.0275 - categorical_accuracy: 0.79 - ETA: 6:34 - loss: 0.0275 - categorical_accuracy: 0.79 - ETA: 6:34 - loss: 0.0275 - categorical_accuracy: 0.79 - ETA: 6:33 - loss: 0.0275 - categorical_accuracy: 0.79 - ETA: 6:33 - loss: 0.0276 - categorical_accuracy: 0.79 - ETA: 6:32 - loss: 0.0275 - categorical_accuracy: 0.79 - ETA: 6:32 - loss: 0.0275 - categorical_accuracy: 0.79 - ETA: 6:31 - loss: 0.0275 - categorical_accuracy: 0.79 - ETA: 6:31 - loss: 0.0276 - categorical_accuracy: 0.79 - ETA: 6:31 - loss: 0.0275 - categorical_accuracy: 0.7903"
     ]
    },
    {
     "name": "stdout",
     "output_type": "stream",
     "text": [
      "14016/38368 [=========>....................] - ETA: 6:30 - loss: 0.0275 - categorical_accuracy: 0.79 - ETA: 6:30 - loss: 0.0275 - categorical_accuracy: 0.79 - ETA: 6:29 - loss: 0.0275 - categorical_accuracy: 0.79 - ETA: 6:29 - loss: 0.0275 - categorical_accuracy: 0.79 - ETA: 6:28 - loss: 0.0275 - categorical_accuracy: 0.79 - ETA: 6:28 - loss: 0.0275 - categorical_accuracy: 0.79 - ETA: 6:27 - loss: 0.0275 - categorical_accuracy: 0.79 - ETA: 6:26 - loss: 0.0275 - categorical_accuracy: 0.79 - ETA: 6:26 - loss: 0.0274 - categorical_accuracy: 0.79 - ETA: 6:25 - loss: 0.0274 - categorical_accuracy: 0.79 - ETA: 6:25 - loss: 0.0274 - categorical_accuracy: 0.79 - ETA: 6:24 - loss: 0.0274 - categorical_accuracy: 0.79 - ETA: 6:24 - loss: 0.0274 - categorical_accuracy: 0.79 - ETA: 6:23 - loss: 0.0274 - categorical_accuracy: 0.79 - ETA: 6:23 - loss: 0.0274 - categorical_accuracy: 0.79 - ETA: 6:23 - loss: 0.0273 - categorical_accuracy: 0.79 - ETA: 6:22 - loss: 0.0274 - categorical_accuracy: 0.79 - ETA: 6:22 - loss: 0.0273 - categorical_accuracy: 0.79 - ETA: 6:22 - loss: 0.0273 - categorical_accuracy: 0.79 - ETA: 6:21 - loss: 0.0273 - categorical_accuracy: 0.79 - ETA: 6:21 - loss: 0.0273 - categorical_accuracy: 0.79 - ETA: 6:20 - loss: 0.0273 - categorical_accuracy: 0.79 - ETA: 6:20 - loss: 0.0273 - categorical_accuracy: 0.79 - ETA: 6:19 - loss: 0.0273 - categorical_accuracy: 0.79 - ETA: 6:19 - loss: 0.0273 - categorical_accuracy: 0.79 - ETA: 6:18 - loss: 0.0273 - categorical_accuracy: 0.79 - ETA: 6:18 - loss: 0.0273 - categorical_accuracy: 0.79 - ETA: 6:17 - loss: 0.0273 - categorical_accuracy: 0.79 - ETA: 6:16 - loss: 0.0273 - categorical_accuracy: 0.79 - ETA: 6:16 - loss: 0.0273 - categorical_accuracy: 0.79 - ETA: 6:15 - loss: 0.0273 - categorical_accuracy: 0.79 - ETA: 6:15 - loss: 0.0272 - categorical_accuracy: 0.79 - ETA: 6:14 - loss: 0.0272 - categorical_accuracy: 0.79 - ETA: 6:14 - loss: 0.0272 - categorical_accuracy: 0.79 - ETA: 6:14 - loss: 0.0272 - categorical_accuracy: 0.79 - ETA: 6:13 - loss: 0.0272 - categorical_accuracy: 0.79 - ETA: 6:13 - loss: 0.0272 - categorical_accuracy: 0.79 - ETA: 6:12 - loss: 0.0272 - categorical_accuracy: 0.79 - ETA: 6:12 - loss: 0.0272 - categorical_accuracy: 0.79 - ETA: 6:11 - loss: 0.0272 - categorical_accuracy: 0.79 - ETA: 6:11 - loss: 0.0272 - categorical_accuracy: 0.79 - ETA: 6:10 - loss: 0.0272 - categorical_accuracy: 0.79 - ETA: 6:09 - loss: 0.0272 - categorical_accuracy: 0.79 - ETA: 6:09 - loss: 0.0272 - categorical_accuracy: 0.79 - ETA: 6:08 - loss: 0.0272 - categorical_accuracy: 0.79 - ETA: 6:08 - loss: 0.0272 - categorical_accuracy: 0.79 - ETA: 6:07 - loss: 0.0272 - categorical_accuracy: 0.79 - ETA: 6:06 - loss: 0.0272 - categorical_accuracy: 0.79 - ETA: 6:06 - loss: 0.0271 - categorical_accuracy: 0.79 - ETA: 6:05 - loss: 0.0271 - categorical_accuracy: 0.79 - ETA: 6:05 - loss: 0.0271 - categorical_accuracy: 0.79 - ETA: 6:04 - loss: 0.0271 - categorical_accuracy: 0.79 - ETA: 6:04 - loss: 0.0271 - categorical_accuracy: 0.79 - ETA: 6:03 - loss: 0.0271 - categorical_accuracy: 0.79 - ETA: 6:03 - loss: 0.0271 - categorical_accuracy: 0.79 - ETA: 6:02 - loss: 0.0271 - categorical_accuracy: 0.79 - ETA: 6:01 - loss: 0.0271 - categorical_accuracy: 0.79 - ETA: 6:01 - loss: 0.0271 - categorical_accuracy: 0.79 - ETA: 6:00 - loss: 0.0272 - categorical_accuracy: 0.79 - ETA: 6:00 - loss: 0.0272 - categorical_accuracy: 0.79 - ETA: 6:00 - loss: 0.0272 - categorical_accuracy: 0.79 - ETA: 5:59 - loss: 0.0272 - categorical_accuracy: 0.79 - ETA: 5:59 - loss: 0.0271 - categorical_accuracy: 0.79 - ETA: 5:58 - loss: 0.0271 - categorical_accuracy: 0.79 - ETA: 5:58 - loss: 0.0272 - categorical_accuracy: 0.79 - ETA: 5:58 - loss: 0.0272 - categorical_accuracy: 0.79 - ETA: 5:58 - loss: 0.0272 - categorical_accuracy: 0.79 - ETA: 5:57 - loss: 0.0272 - categorical_accuracy: 0.79 - ETA: 5:57 - loss: 0.0272 - categorical_accuracy: 0.79 - ETA: 5:56 - loss: 0.0272 - categorical_accuracy: 0.79 - ETA: 5:56 - loss: 0.0273 - categorical_accuracy: 0.79 - ETA: 5:56 - loss: 0.0273 - categorical_accuracy: 0.79 - ETA: 5:55 - loss: 0.0272 - categorical_accuracy: 0.79 - ETA: 5:54 - loss: 0.0272 - categorical_accuracy: 0.79 - ETA: 5:54 - loss: 0.0272 - categorical_accuracy: 0.79 - ETA: 5:53 - loss: 0.0272 - categorical_accuracy: 0.79 - ETA: 5:53 - loss: 0.0272 - categorical_accuracy: 0.79 - ETA: 5:53 - loss: 0.0272 - categorical_accuracy: 0.79 - ETA: 5:52 - loss: 0.0272 - categorical_accuracy: 0.79 - ETA: 5:52 - loss: 0.0272 - categorical_accuracy: 0.79 - ETA: 5:52 - loss: 0.0272 - categorical_accuracy: 0.79 - ETA: 5:51 - loss: 0.0272 - categorical_accuracy: 0.79 - ETA: 5:51 - loss: 0.0272 - categorical_accuracy: 0.79 - ETA: 5:50 - loss: 0.0272 - categorical_accuracy: 0.79 - ETA: 5:50 - loss: 0.0272 - categorical_accuracy: 0.79 - ETA: 5:49 - loss: 0.0272 - categorical_accuracy: 0.79 - ETA: 5:49 - loss: 0.0272 - categorical_accuracy: 0.79 - ETA: 5:49 - loss: 0.0272 - categorical_accuracy: 0.79 - ETA: 5:48 - loss: 0.0272 - categorical_accuracy: 0.79 - ETA: 5:47 - loss: 0.0272 - categorical_accuracy: 0.79 - ETA: 5:47 - loss: 0.0272 - categorical_accuracy: 0.79 - ETA: 5:47 - loss: 0.0272 - categorical_accuracy: 0.79 - ETA: 5:46 - loss: 0.0272 - categorical_accuracy: 0.79 - ETA: 5:46 - loss: 0.0272 - categorical_accuracy: 0.79 - ETA: 5:45 - loss: 0.0272 - categorical_accuracy: 0.79 - ETA: 5:45 - loss: 0.0272 - categorical_accuracy: 0.79 - ETA: 5:44 - loss: 0.0272 - categorical_accuracy: 0.79 - ETA: 5:44 - loss: 0.0272 - categorical_accuracy: 0.79 - ETA: 5:44 - loss: 0.0272 - categorical_accuracy: 0.79 - ETA: 5:43 - loss: 0.0272 - categorical_accuracy: 0.79 - ETA: 5:43 - loss: 0.0272 - categorical_accuracy: 0.79 - ETA: 5:43 - loss: 0.0272 - categorical_accuracy: 0.79 - ETA: 5:42 - loss: 0.0273 - categorical_accuracy: 0.79 - ETA: 5:42 - loss: 0.0272 - categorical_accuracy: 0.79 - ETA: 5:41 - loss: 0.0272 - categorical_accuracy: 0.79 - ETA: 5:41 - loss: 0.0273 - categorical_accuracy: 0.79 - ETA: 5:40 - loss: 0.0272 - categorical_accuracy: 0.79 - ETA: 5:40 - loss: 0.0272 - categorical_accuracy: 0.79 - ETA: 5:39 - loss: 0.0272 - categorical_accuracy: 0.79 - ETA: 5:39 - loss: 0.0273 - categorical_accuracy: 0.79 - ETA: 5:38 - loss: 0.0273 - categorical_accuracy: 0.79 - ETA: 5:38 - loss: 0.0273 - categorical_accuracy: 0.79 - ETA: 5:37 - loss: 0.0273 - categorical_accuracy: 0.79 - ETA: 5:37 - loss: 0.0273 - categorical_accuracy: 0.79 - ETA: 5:36 - loss: 0.0273 - categorical_accuracy: 0.79 - ETA: 5:36 - loss: 0.0274 - categorical_accuracy: 0.79 - ETA: 5:35 - loss: 0.0273 - categorical_accuracy: 0.79 - ETA: 5:35 - loss: 0.0273 - categorical_accuracy: 0.79 - ETA: 5:34 - loss: 0.0273 - categorical_accuracy: 0.79 - ETA: 5:34 - loss: 0.0273 - categorical_accuracy: 0.79 - ETA: 5:33 - loss: 0.0273 - categorical_accuracy: 0.79 - ETA: 5:33 - loss: 0.0273 - categorical_accuracy: 0.79 - ETA: 5:32 - loss: 0.0273 - categorical_accuracy: 0.79 - ETA: 5:32 - loss: 0.0273 - categorical_accuracy: 0.79 - ETA: 5:31 - loss: 0.0273 - categorical_accuracy: 0.79 - ETA: 5:31 - loss: 0.0272 - categorical_accuracy: 0.79 - ETA: 5:30 - loss: 0.0272 - categorical_accuracy: 0.79 - ETA: 5:30 - loss: 0.0272 - categorical_accuracy: 0.79 - ETA: 5:29 - loss: 0.0272 - categorical_accuracy: 0.79 - ETA: 5:29 - loss: 0.0272 - categorical_accuracy: 0.79 - ETA: 5:28 - loss: 0.0272 - categorical_accuracy: 0.79 - ETA: 5:28 - loss: 0.0272 - categorical_accuracy: 0.79 - ETA: 5:27 - loss: 0.0272 - categorical_accuracy: 0.79 - ETA: 5:27 - loss: 0.0272 - categorical_accuracy: 0.79 - ETA: 5:27 - loss: 0.0273 - categorical_accuracy: 0.79 - ETA: 5:26 - loss: 0.0273 - categorical_accuracy: 0.79 - ETA: 5:26 - loss: 0.0273 - categorical_accuracy: 0.79 - ETA: 5:25 - loss: 0.0273 - categorical_accuracy: 0.79 - ETA: 5:25 - loss: 0.0273 - categorical_accuracy: 0.79 - ETA: 5:25 - loss: 0.0274 - categorical_accuracy: 0.79 - ETA: 5:24 - loss: 0.0274 - categorical_accuracy: 0.79 - ETA: 5:24 - loss: 0.0273 - categorical_accuracy: 0.79 - ETA: 5:23 - loss: 0.0273 - categorical_accuracy: 0.79 - ETA: 5:23 - loss: 0.0274 - categorical_accuracy: 0.79 - ETA: 5:22 - loss: 0.0273 - categorical_accuracy: 0.79 - ETA: 5:22 - loss: 0.0274 - categorical_accuracy: 0.7900"
     ]
    },
    {
     "name": "stdout",
     "output_type": "stream",
     "text": [
      "18688/38368 [=============>................] - ETA: 5:21 - loss: 0.0274 - categorical_accuracy: 0.79 - ETA: 5:21 - loss: 0.0274 - categorical_accuracy: 0.79 - ETA: 5:20 - loss: 0.0274 - categorical_accuracy: 0.79 - ETA: 5:20 - loss: 0.0274 - categorical_accuracy: 0.79 - ETA: 5:19 - loss: 0.0273 - categorical_accuracy: 0.79 - ETA: 5:19 - loss: 0.0273 - categorical_accuracy: 0.79 - ETA: 5:18 - loss: 0.0274 - categorical_accuracy: 0.79 - ETA: 5:18 - loss: 0.0274 - categorical_accuracy: 0.79 - ETA: 5:17 - loss: 0.0274 - categorical_accuracy: 0.79 - ETA: 5:17 - loss: 0.0274 - categorical_accuracy: 0.79 - ETA: 5:17 - loss: 0.0274 - categorical_accuracy: 0.79 - ETA: 5:16 - loss: 0.0274 - categorical_accuracy: 0.79 - ETA: 5:16 - loss: 0.0274 - categorical_accuracy: 0.79 - ETA: 5:15 - loss: 0.0274 - categorical_accuracy: 0.79 - ETA: 5:15 - loss: 0.0274 - categorical_accuracy: 0.79 - ETA: 5:14 - loss: 0.0274 - categorical_accuracy: 0.79 - ETA: 5:14 - loss: 0.0274 - categorical_accuracy: 0.79 - ETA: 5:13 - loss: 0.0274 - categorical_accuracy: 0.79 - ETA: 5:13 - loss: 0.0274 - categorical_accuracy: 0.79 - ETA: 5:12 - loss: 0.0274 - categorical_accuracy: 0.79 - ETA: 5:12 - loss: 0.0274 - categorical_accuracy: 0.78 - ETA: 5:11 - loss: 0.0274 - categorical_accuracy: 0.78 - ETA: 5:11 - loss: 0.0274 - categorical_accuracy: 0.78 - ETA: 5:11 - loss: 0.0275 - categorical_accuracy: 0.78 - ETA: 5:10 - loss: 0.0275 - categorical_accuracy: 0.78 - ETA: 5:10 - loss: 0.0275 - categorical_accuracy: 0.78 - ETA: 5:09 - loss: 0.0275 - categorical_accuracy: 0.78 - ETA: 5:09 - loss: 0.0275 - categorical_accuracy: 0.78 - ETA: 5:09 - loss: 0.0275 - categorical_accuracy: 0.78 - ETA: 5:08 - loss: 0.0275 - categorical_accuracy: 0.78 - ETA: 5:08 - loss: 0.0275 - categorical_accuracy: 0.78 - ETA: 5:08 - loss: 0.0275 - categorical_accuracy: 0.78 - ETA: 5:07 - loss: 0.0275 - categorical_accuracy: 0.78 - ETA: 5:07 - loss: 0.0275 - categorical_accuracy: 0.78 - ETA: 5:06 - loss: 0.0275 - categorical_accuracy: 0.78 - ETA: 5:06 - loss: 0.0275 - categorical_accuracy: 0.78 - ETA: 5:05 - loss: 0.0275 - categorical_accuracy: 0.78 - ETA: 5:05 - loss: 0.0275 - categorical_accuracy: 0.78 - ETA: 5:04 - loss: 0.0275 - categorical_accuracy: 0.78 - ETA: 5:04 - loss: 0.0275 - categorical_accuracy: 0.78 - ETA: 5:04 - loss: 0.0275 - categorical_accuracy: 0.78 - ETA: 5:03 - loss: 0.0275 - categorical_accuracy: 0.78 - ETA: 5:03 - loss: 0.0275 - categorical_accuracy: 0.78 - ETA: 5:02 - loss: 0.0275 - categorical_accuracy: 0.78 - ETA: 5:02 - loss: 0.0275 - categorical_accuracy: 0.78 - ETA: 5:01 - loss: 0.0275 - categorical_accuracy: 0.78 - ETA: 5:01 - loss: 0.0275 - categorical_accuracy: 0.78 - ETA: 5:00 - loss: 0.0275 - categorical_accuracy: 0.78 - ETA: 5:00 - loss: 0.0275 - categorical_accuracy: 0.78 - ETA: 4:59 - loss: 0.0275 - categorical_accuracy: 0.78 - ETA: 4:59 - loss: 0.0275 - categorical_accuracy: 0.78 - ETA: 4:59 - loss: 0.0275 - categorical_accuracy: 0.78 - ETA: 4:58 - loss: 0.0275 - categorical_accuracy: 0.78 - ETA: 4:58 - loss: 0.0275 - categorical_accuracy: 0.78 - ETA: 4:57 - loss: 0.0275 - categorical_accuracy: 0.78 - ETA: 4:57 - loss: 0.0275 - categorical_accuracy: 0.78 - ETA: 4:56 - loss: 0.0275 - categorical_accuracy: 0.78 - ETA: 4:56 - loss: 0.0275 - categorical_accuracy: 0.78 - ETA: 4:56 - loss: 0.0275 - categorical_accuracy: 0.78 - ETA: 4:55 - loss: 0.0275 - categorical_accuracy: 0.78 - ETA: 4:55 - loss: 0.0275 - categorical_accuracy: 0.78 - ETA: 4:54 - loss: 0.0275 - categorical_accuracy: 0.78 - ETA: 4:54 - loss: 0.0275 - categorical_accuracy: 0.78 - ETA: 4:53 - loss: 0.0275 - categorical_accuracy: 0.78 - ETA: 4:53 - loss: 0.0275 - categorical_accuracy: 0.78 - ETA: 4:52 - loss: 0.0275 - categorical_accuracy: 0.78 - ETA: 4:52 - loss: 0.0275 - categorical_accuracy: 0.78 - ETA: 4:52 - loss: 0.0275 - categorical_accuracy: 0.78 - ETA: 4:51 - loss: 0.0274 - categorical_accuracy: 0.78 - ETA: 4:51 - loss: 0.0274 - categorical_accuracy: 0.78 - ETA: 4:50 - loss: 0.0274 - categorical_accuracy: 0.78 - ETA: 4:50 - loss: 0.0274 - categorical_accuracy: 0.78 - ETA: 4:50 - loss: 0.0274 - categorical_accuracy: 0.78 - ETA: 4:49 - loss: 0.0274 - categorical_accuracy: 0.78 - ETA: 4:49 - loss: 0.0274 - categorical_accuracy: 0.78 - ETA: 4:48 - loss: 0.0274 - categorical_accuracy: 0.78 - ETA: 4:48 - loss: 0.0274 - categorical_accuracy: 0.78 - ETA: 4:48 - loss: 0.0274 - categorical_accuracy: 0.78 - ETA: 4:47 - loss: 0.0274 - categorical_accuracy: 0.78 - ETA: 4:47 - loss: 0.0274 - categorical_accuracy: 0.78 - ETA: 4:47 - loss: 0.0274 - categorical_accuracy: 0.78 - ETA: 4:46 - loss: 0.0274 - categorical_accuracy: 0.78 - ETA: 4:46 - loss: 0.0274 - categorical_accuracy: 0.78 - ETA: 4:45 - loss: 0.0275 - categorical_accuracy: 0.78 - ETA: 4:45 - loss: 0.0275 - categorical_accuracy: 0.78 - ETA: 4:44 - loss: 0.0275 - categorical_accuracy: 0.78 - ETA: 4:44 - loss: 0.0275 - categorical_accuracy: 0.78 - ETA: 4:44 - loss: 0.0274 - categorical_accuracy: 0.78 - ETA: 4:43 - loss: 0.0274 - categorical_accuracy: 0.78 - ETA: 4:43 - loss: 0.0274 - categorical_accuracy: 0.78 - ETA: 4:42 - loss: 0.0274 - categorical_accuracy: 0.78 - ETA: 4:42 - loss: 0.0274 - categorical_accuracy: 0.78 - ETA: 4:41 - loss: 0.0274 - categorical_accuracy: 0.78 - ETA: 4:41 - loss: 0.0275 - categorical_accuracy: 0.78 - ETA: 4:40 - loss: 0.0274 - categorical_accuracy: 0.78 - ETA: 4:40 - loss: 0.0274 - categorical_accuracy: 0.78 - ETA: 4:40 - loss: 0.0274 - categorical_accuracy: 0.78 - ETA: 4:39 - loss: 0.0274 - categorical_accuracy: 0.78 - ETA: 4:39 - loss: 0.0274 - categorical_accuracy: 0.78 - ETA: 4:38 - loss: 0.0274 - categorical_accuracy: 0.78 - ETA: 4:38 - loss: 0.0274 - categorical_accuracy: 0.78 - ETA: 4:37 - loss: 0.0274 - categorical_accuracy: 0.78 - ETA: 4:37 - loss: 0.0274 - categorical_accuracy: 0.78 - ETA: 4:36 - loss: 0.0274 - categorical_accuracy: 0.78 - ETA: 4:36 - loss: 0.0274 - categorical_accuracy: 0.78 - ETA: 4:35 - loss: 0.0274 - categorical_accuracy: 0.78 - ETA: 4:35 - loss: 0.0274 - categorical_accuracy: 0.78 - ETA: 4:35 - loss: 0.0274 - categorical_accuracy: 0.78 - ETA: 4:34 - loss: 0.0274 - categorical_accuracy: 0.78 - ETA: 4:34 - loss: 0.0274 - categorical_accuracy: 0.78 - ETA: 4:33 - loss: 0.0274 - categorical_accuracy: 0.78 - ETA: 4:33 - loss: 0.0274 - categorical_accuracy: 0.78 - ETA: 4:32 - loss: 0.0274 - categorical_accuracy: 0.78 - ETA: 4:32 - loss: 0.0273 - categorical_accuracy: 0.78 - ETA: 4:32 - loss: 0.0273 - categorical_accuracy: 0.78 - ETA: 4:31 - loss: 0.0273 - categorical_accuracy: 0.78 - ETA: 4:31 - loss: 0.0273 - categorical_accuracy: 0.78 - ETA: 4:30 - loss: 0.0273 - categorical_accuracy: 0.78 - ETA: 4:30 - loss: 0.0273 - categorical_accuracy: 0.78 - ETA: 4:29 - loss: 0.0273 - categorical_accuracy: 0.78 - ETA: 4:29 - loss: 0.0273 - categorical_accuracy: 0.78 - ETA: 4:28 - loss: 0.0273 - categorical_accuracy: 0.78 - ETA: 4:28 - loss: 0.0273 - categorical_accuracy: 0.78 - ETA: 4:28 - loss: 0.0273 - categorical_accuracy: 0.78 - ETA: 4:27 - loss: 0.0273 - categorical_accuracy: 0.78 - ETA: 4:27 - loss: 0.0273 - categorical_accuracy: 0.78 - ETA: 4:26 - loss: 0.0273 - categorical_accuracy: 0.78 - ETA: 4:26 - loss: 0.0273 - categorical_accuracy: 0.78 - ETA: 4:25 - loss: 0.0273 - categorical_accuracy: 0.78 - ETA: 4:25 - loss: 0.0272 - categorical_accuracy: 0.78 - ETA: 4:24 - loss: 0.0272 - categorical_accuracy: 0.78 - ETA: 4:24 - loss: 0.0272 - categorical_accuracy: 0.78 - ETA: 4:23 - loss: 0.0272 - categorical_accuracy: 0.78 - ETA: 4:23 - loss: 0.0272 - categorical_accuracy: 0.78 - ETA: 4:23 - loss: 0.0272 - categorical_accuracy: 0.78 - ETA: 4:22 - loss: 0.0272 - categorical_accuracy: 0.78 - ETA: 4:22 - loss: 0.0272 - categorical_accuracy: 0.78 - ETA: 4:21 - loss: 0.0272 - categorical_accuracy: 0.78 - ETA: 4:21 - loss: 0.0272 - categorical_accuracy: 0.78 - ETA: 4:20 - loss: 0.0272 - categorical_accuracy: 0.78 - ETA: 4:20 - loss: 0.0272 - categorical_accuracy: 0.78 - ETA: 4:19 - loss: 0.0271 - categorical_accuracy: 0.78 - ETA: 4:19 - loss: 0.0271 - categorical_accuracy: 0.78 - ETA: 4:19 - loss: 0.0271 - categorical_accuracy: 0.78 - ETA: 4:18 - loss: 0.0272 - categorical_accuracy: 0.78 - ETA: 4:18 - loss: 0.0272 - categorical_accuracy: 0.7893"
     ]
    },
    {
     "name": "stdout",
     "output_type": "stream",
     "text": [
      "23360/38368 [=================>............] - ETA: 4:17 - loss: 0.0272 - categorical_accuracy: 0.78 - ETA: 4:17 - loss: 0.0272 - categorical_accuracy: 0.78 - ETA: 4:16 - loss: 0.0272 - categorical_accuracy: 0.78 - ETA: 4:16 - loss: 0.0272 - categorical_accuracy: 0.78 - ETA: 4:16 - loss: 0.0272 - categorical_accuracy: 0.78 - ETA: 4:15 - loss: 0.0272 - categorical_accuracy: 0.78 - ETA: 4:15 - loss: 0.0272 - categorical_accuracy: 0.78 - ETA: 4:14 - loss: 0.0272 - categorical_accuracy: 0.78 - ETA: 4:14 - loss: 0.0272 - categorical_accuracy: 0.78 - ETA: 4:13 - loss: 0.0272 - categorical_accuracy: 0.78 - ETA: 4:13 - loss: 0.0272 - categorical_accuracy: 0.78 - ETA: 4:12 - loss: 0.0272 - categorical_accuracy: 0.78 - ETA: 4:12 - loss: 0.0271 - categorical_accuracy: 0.78 - ETA: 4:11 - loss: 0.0272 - categorical_accuracy: 0.78 - ETA: 4:11 - loss: 0.0272 - categorical_accuracy: 0.78 - ETA: 4:11 - loss: 0.0272 - categorical_accuracy: 0.78 - ETA: 4:10 - loss: 0.0271 - categorical_accuracy: 0.78 - ETA: 4:10 - loss: 0.0271 - categorical_accuracy: 0.78 - ETA: 4:09 - loss: 0.0272 - categorical_accuracy: 0.78 - ETA: 4:09 - loss: 0.0271 - categorical_accuracy: 0.78 - ETA: 4:08 - loss: 0.0272 - categorical_accuracy: 0.78 - ETA: 4:08 - loss: 0.0272 - categorical_accuracy: 0.78 - ETA: 4:07 - loss: 0.0271 - categorical_accuracy: 0.78 - ETA: 4:07 - loss: 0.0271 - categorical_accuracy: 0.78 - ETA: 4:07 - loss: 0.0271 - categorical_accuracy: 0.78 - ETA: 4:06 - loss: 0.0272 - categorical_accuracy: 0.78 - ETA: 4:06 - loss: 0.0271 - categorical_accuracy: 0.78 - ETA: 4:05 - loss: 0.0271 - categorical_accuracy: 0.78 - ETA: 4:05 - loss: 0.0271 - categorical_accuracy: 0.78 - ETA: 4:04 - loss: 0.0271 - categorical_accuracy: 0.78 - ETA: 4:04 - loss: 0.0271 - categorical_accuracy: 0.78 - ETA: 4:04 - loss: 0.0271 - categorical_accuracy: 0.78 - ETA: 4:03 - loss: 0.0271 - categorical_accuracy: 0.78 - ETA: 4:03 - loss: 0.0271 - categorical_accuracy: 0.78 - ETA: 4:02 - loss: 0.0271 - categorical_accuracy: 0.78 - ETA: 4:02 - loss: 0.0271 - categorical_accuracy: 0.78 - ETA: 4:02 - loss: 0.0271 - categorical_accuracy: 0.78 - ETA: 4:01 - loss: 0.0271 - categorical_accuracy: 0.78 - ETA: 4:01 - loss: 0.0271 - categorical_accuracy: 0.78 - ETA: 4:00 - loss: 0.0271 - categorical_accuracy: 0.78 - ETA: 4:00 - loss: 0.0271 - categorical_accuracy: 0.78 - ETA: 4:00 - loss: 0.0271 - categorical_accuracy: 0.78 - ETA: 3:59 - loss: 0.0271 - categorical_accuracy: 0.78 - ETA: 3:59 - loss: 0.0271 - categorical_accuracy: 0.78 - ETA: 3:58 - loss: 0.0271 - categorical_accuracy: 0.78 - ETA: 3:58 - loss: 0.0271 - categorical_accuracy: 0.78 - ETA: 3:57 - loss: 0.0271 - categorical_accuracy: 0.78 - ETA: 3:57 - loss: 0.0271 - categorical_accuracy: 0.78 - ETA: 3:56 - loss: 0.0271 - categorical_accuracy: 0.78 - ETA: 3:56 - loss: 0.0271 - categorical_accuracy: 0.78 - ETA: 3:56 - loss: 0.0271 - categorical_accuracy: 0.78 - ETA: 3:55 - loss: 0.0271 - categorical_accuracy: 0.78 - ETA: 3:55 - loss: 0.0271 - categorical_accuracy: 0.78 - ETA: 3:54 - loss: 0.0271 - categorical_accuracy: 0.78 - ETA: 3:54 - loss: 0.0271 - categorical_accuracy: 0.78 - ETA: 3:53 - loss: 0.0271 - categorical_accuracy: 0.78 - ETA: 3:53 - loss: 0.0271 - categorical_accuracy: 0.78 - ETA: 3:53 - loss: 0.0271 - categorical_accuracy: 0.78 - ETA: 3:52 - loss: 0.0271 - categorical_accuracy: 0.78 - ETA: 3:52 - loss: 0.0271 - categorical_accuracy: 0.78 - ETA: 3:51 - loss: 0.0271 - categorical_accuracy: 0.78 - ETA: 3:51 - loss: 0.0271 - categorical_accuracy: 0.78 - ETA: 3:50 - loss: 0.0271 - categorical_accuracy: 0.78 - ETA: 3:50 - loss: 0.0271 - categorical_accuracy: 0.78 - ETA: 3:50 - loss: 0.0270 - categorical_accuracy: 0.78 - ETA: 3:49 - loss: 0.0270 - categorical_accuracy: 0.78 - ETA: 3:49 - loss: 0.0270 - categorical_accuracy: 0.78 - ETA: 3:48 - loss: 0.0271 - categorical_accuracy: 0.78 - ETA: 3:48 - loss: 0.0271 - categorical_accuracy: 0.78 - ETA: 3:47 - loss: 0.0271 - categorical_accuracy: 0.78 - ETA: 3:47 - loss: 0.0271 - categorical_accuracy: 0.78 - ETA: 3:47 - loss: 0.0271 - categorical_accuracy: 0.78 - ETA: 3:46 - loss: 0.0271 - categorical_accuracy: 0.78 - ETA: 3:46 - loss: 0.0271 - categorical_accuracy: 0.78 - ETA: 3:45 - loss: 0.0271 - categorical_accuracy: 0.78 - ETA: 3:45 - loss: 0.0271 - categorical_accuracy: 0.78 - ETA: 3:44 - loss: 0.0271 - categorical_accuracy: 0.78 - ETA: 3:44 - loss: 0.0271 - categorical_accuracy: 0.78 - ETA: 3:44 - loss: 0.0271 - categorical_accuracy: 0.78 - ETA: 3:43 - loss: 0.0271 - categorical_accuracy: 0.78 - ETA: 3:43 - loss: 0.0271 - categorical_accuracy: 0.78 - ETA: 3:42 - loss: 0.0271 - categorical_accuracy: 0.78 - ETA: 3:42 - loss: 0.0270 - categorical_accuracy: 0.78 - ETA: 3:42 - loss: 0.0270 - categorical_accuracy: 0.78 - ETA: 3:41 - loss: 0.0270 - categorical_accuracy: 0.78 - ETA: 3:41 - loss: 0.0270 - categorical_accuracy: 0.78 - ETA: 3:40 - loss: 0.0270 - categorical_accuracy: 0.78 - ETA: 3:40 - loss: 0.0270 - categorical_accuracy: 0.78 - ETA: 3:39 - loss: 0.0270 - categorical_accuracy: 0.78 - ETA: 3:39 - loss: 0.0270 - categorical_accuracy: 0.78 - ETA: 3:39 - loss: 0.0270 - categorical_accuracy: 0.78 - ETA: 3:38 - loss: 0.0270 - categorical_accuracy: 0.78 - ETA: 3:38 - loss: 0.0270 - categorical_accuracy: 0.78 - ETA: 3:37 - loss: 0.0270 - categorical_accuracy: 0.78 - ETA: 3:37 - loss: 0.0270 - categorical_accuracy: 0.78 - ETA: 3:36 - loss: 0.0270 - categorical_accuracy: 0.78 - ETA: 3:36 - loss: 0.0270 - categorical_accuracy: 0.78 - ETA: 3:36 - loss: 0.0270 - categorical_accuracy: 0.78 - ETA: 3:35 - loss: 0.0270 - categorical_accuracy: 0.78 - ETA: 3:35 - loss: 0.0270 - categorical_accuracy: 0.78 - ETA: 3:34 - loss: 0.0270 - categorical_accuracy: 0.78 - ETA: 3:34 - loss: 0.0270 - categorical_accuracy: 0.78 - ETA: 3:34 - loss: 0.0270 - categorical_accuracy: 0.78 - ETA: 3:33 - loss: 0.0270 - categorical_accuracy: 0.78 - ETA: 3:33 - loss: 0.0270 - categorical_accuracy: 0.78 - ETA: 3:32 - loss: 0.0270 - categorical_accuracy: 0.78 - ETA: 3:32 - loss: 0.0270 - categorical_accuracy: 0.78 - ETA: 3:32 - loss: 0.0270 - categorical_accuracy: 0.78 - ETA: 3:31 - loss: 0.0270 - categorical_accuracy: 0.78 - ETA: 3:31 - loss: 0.0270 - categorical_accuracy: 0.78 - ETA: 3:30 - loss: 0.0270 - categorical_accuracy: 0.78 - ETA: 3:30 - loss: 0.0270 - categorical_accuracy: 0.78 - ETA: 3:30 - loss: 0.0270 - categorical_accuracy: 0.78 - ETA: 3:29 - loss: 0.0270 - categorical_accuracy: 0.78 - ETA: 3:29 - loss: 0.0270 - categorical_accuracy: 0.78 - ETA: 3:28 - loss: 0.0270 - categorical_accuracy: 0.78 - ETA: 3:28 - loss: 0.0270 - categorical_accuracy: 0.78 - ETA: 3:28 - loss: 0.0270 - categorical_accuracy: 0.78 - ETA: 3:27 - loss: 0.0270 - categorical_accuracy: 0.78 - ETA: 3:27 - loss: 0.0270 - categorical_accuracy: 0.78 - ETA: 3:26 - loss: 0.0270 - categorical_accuracy: 0.78 - ETA: 3:26 - loss: 0.0270 - categorical_accuracy: 0.78 - ETA: 3:25 - loss: 0.0270 - categorical_accuracy: 0.78 - ETA: 3:25 - loss: 0.0270 - categorical_accuracy: 0.78 - ETA: 3:24 - loss: 0.0271 - categorical_accuracy: 0.78 - ETA: 3:24 - loss: 0.0270 - categorical_accuracy: 0.78 - ETA: 3:24 - loss: 0.0271 - categorical_accuracy: 0.78 - ETA: 3:23 - loss: 0.0271 - categorical_accuracy: 0.78 - ETA: 3:23 - loss: 0.0271 - categorical_accuracy: 0.78 - ETA: 3:22 - loss: 0.0271 - categorical_accuracy: 0.78 - ETA: 3:22 - loss: 0.0271 - categorical_accuracy: 0.78 - ETA: 3:21 - loss: 0.0270 - categorical_accuracy: 0.78 - ETA: 3:21 - loss: 0.0270 - categorical_accuracy: 0.78 - ETA: 3:20 - loss: 0.0270 - categorical_accuracy: 0.78 - ETA: 3:20 - loss: 0.0270 - categorical_accuracy: 0.78 - ETA: 3:19 - loss: 0.0270 - categorical_accuracy: 0.78 - ETA: 3:19 - loss: 0.0270 - categorical_accuracy: 0.78 - ETA: 3:19 - loss: 0.0270 - categorical_accuracy: 0.78 - ETA: 3:18 - loss: 0.0270 - categorical_accuracy: 0.78 - ETA: 3:18 - loss: 0.0270 - categorical_accuracy: 0.78 - ETA: 3:17 - loss: 0.0270 - categorical_accuracy: 0.78 - ETA: 3:17 - loss: 0.0270 - categorical_accuracy: 0.78 - ETA: 3:16 - loss: 0.0270 - categorical_accuracy: 0.78 - ETA: 3:16 - loss: 0.0270 - categorical_accuracy: 0.78 - ETA: 3:15 - loss: 0.0270 - categorical_accuracy: 0.78 - ETA: 3:15 - loss: 0.0270 - categorical_accuracy: 0.7893"
     ]
    },
    {
     "name": "stdout",
     "output_type": "stream",
     "text": [
      "28032/38368 [====================>.........] - ETA: 3:15 - loss: 0.0270 - categorical_accuracy: 0.78 - ETA: 3:14 - loss: 0.0270 - categorical_accuracy: 0.78 - ETA: 3:14 - loss: 0.0270 - categorical_accuracy: 0.78 - ETA: 3:13 - loss: 0.0270 - categorical_accuracy: 0.78 - ETA: 3:13 - loss: 0.0270 - categorical_accuracy: 0.78 - ETA: 3:12 - loss: 0.0270 - categorical_accuracy: 0.78 - ETA: 3:12 - loss: 0.0270 - categorical_accuracy: 0.78 - ETA: 3:11 - loss: 0.0270 - categorical_accuracy: 0.78 - ETA: 3:11 - loss: 0.0270 - categorical_accuracy: 0.78 - ETA: 3:11 - loss: 0.0270 - categorical_accuracy: 0.78 - ETA: 3:10 - loss: 0.0270 - categorical_accuracy: 0.78 - ETA: 3:10 - loss: 0.0270 - categorical_accuracy: 0.78 - ETA: 3:09 - loss: 0.0270 - categorical_accuracy: 0.78 - ETA: 3:09 - loss: 0.0270 - categorical_accuracy: 0.78 - ETA: 3:08 - loss: 0.0270 - categorical_accuracy: 0.78 - ETA: 3:08 - loss: 0.0270 - categorical_accuracy: 0.78 - ETA: 3:07 - loss: 0.0270 - categorical_accuracy: 0.78 - ETA: 3:07 - loss: 0.0270 - categorical_accuracy: 0.78 - ETA: 3:06 - loss: 0.0270 - categorical_accuracy: 0.78 - ETA: 3:06 - loss: 0.0270 - categorical_accuracy: 0.78 - ETA: 3:06 - loss: 0.0270 - categorical_accuracy: 0.78 - ETA: 3:05 - loss: 0.0270 - categorical_accuracy: 0.78 - ETA: 3:05 - loss: 0.0270 - categorical_accuracy: 0.78 - ETA: 3:04 - loss: 0.0270 - categorical_accuracy: 0.78 - ETA: 3:04 - loss: 0.0270 - categorical_accuracy: 0.78 - ETA: 3:03 - loss: 0.0270 - categorical_accuracy: 0.78 - ETA: 3:03 - loss: 0.0270 - categorical_accuracy: 0.78 - ETA: 3:02 - loss: 0.0270 - categorical_accuracy: 0.78 - ETA: 3:02 - loss: 0.0270 - categorical_accuracy: 0.78 - ETA: 3:02 - loss: 0.0270 - categorical_accuracy: 0.78 - ETA: 3:01 - loss: 0.0270 - categorical_accuracy: 0.78 - ETA: 3:01 - loss: 0.0270 - categorical_accuracy: 0.78 - ETA: 3:00 - loss: 0.0270 - categorical_accuracy: 0.78 - ETA: 3:00 - loss: 0.0270 - categorical_accuracy: 0.78 - ETA: 2:59 - loss: 0.0270 - categorical_accuracy: 0.78 - ETA: 2:59 - loss: 0.0271 - categorical_accuracy: 0.78 - ETA: 2:58 - loss: 0.0271 - categorical_accuracy: 0.78 - ETA: 2:58 - loss: 0.0270 - categorical_accuracy: 0.78 - ETA: 2:58 - loss: 0.0270 - categorical_accuracy: 0.78 - ETA: 2:57 - loss: 0.0270 - categorical_accuracy: 0.78 - ETA: 2:57 - loss: 0.0271 - categorical_accuracy: 0.78 - ETA: 2:56 - loss: 0.0271 - categorical_accuracy: 0.78 - ETA: 2:56 - loss: 0.0271 - categorical_accuracy: 0.78 - ETA: 2:55 - loss: 0.0271 - categorical_accuracy: 0.78 - ETA: 2:55 - loss: 0.0271 - categorical_accuracy: 0.78 - ETA: 2:54 - loss: 0.0271 - categorical_accuracy: 0.78 - ETA: 2:54 - loss: 0.0271 - categorical_accuracy: 0.78 - ETA: 2:54 - loss: 0.0271 - categorical_accuracy: 0.78 - ETA: 2:53 - loss: 0.0271 - categorical_accuracy: 0.78 - ETA: 2:53 - loss: 0.0271 - categorical_accuracy: 0.78 - ETA: 2:52 - loss: 0.0271 - categorical_accuracy: 0.78 - ETA: 2:52 - loss: 0.0271 - categorical_accuracy: 0.78 - ETA: 2:51 - loss: 0.0271 - categorical_accuracy: 0.78 - ETA: 2:51 - loss: 0.0271 - categorical_accuracy: 0.78 - ETA: 2:51 - loss: 0.0271 - categorical_accuracy: 0.78 - ETA: 2:50 - loss: 0.0271 - categorical_accuracy: 0.78 - ETA: 2:50 - loss: 0.0271 - categorical_accuracy: 0.78 - ETA: 2:49 - loss: 0.0271 - categorical_accuracy: 0.78 - ETA: 2:49 - loss: 0.0271 - categorical_accuracy: 0.78 - ETA: 2:48 - loss: 0.0271 - categorical_accuracy: 0.78 - ETA: 2:48 - loss: 0.0271 - categorical_accuracy: 0.78 - ETA: 2:48 - loss: 0.0271 - categorical_accuracy: 0.78 - ETA: 2:47 - loss: 0.0271 - categorical_accuracy: 0.78 - ETA: 2:47 - loss: 0.0271 - categorical_accuracy: 0.78 - ETA: 2:46 - loss: 0.0271 - categorical_accuracy: 0.78 - ETA: 2:46 - loss: 0.0271 - categorical_accuracy: 0.78 - ETA: 2:45 - loss: 0.0271 - categorical_accuracy: 0.78 - ETA: 2:45 - loss: 0.0271 - categorical_accuracy: 0.78 - ETA: 2:44 - loss: 0.0271 - categorical_accuracy: 0.78 - ETA: 2:44 - loss: 0.0271 - categorical_accuracy: 0.78 - ETA: 2:44 - loss: 0.0271 - categorical_accuracy: 0.78 - ETA: 2:43 - loss: 0.0271 - categorical_accuracy: 0.78 - ETA: 2:43 - loss: 0.0271 - categorical_accuracy: 0.78 - ETA: 2:42 - loss: 0.0271 - categorical_accuracy: 0.78 - ETA: 2:42 - loss: 0.0271 - categorical_accuracy: 0.78 - ETA: 2:41 - loss: 0.0271 - categorical_accuracy: 0.78 - ETA: 2:41 - loss: 0.0271 - categorical_accuracy: 0.78 - ETA: 2:41 - loss: 0.0271 - categorical_accuracy: 0.78 - ETA: 2:40 - loss: 0.0271 - categorical_accuracy: 0.78 - ETA: 2:40 - loss: 0.0271 - categorical_accuracy: 0.78 - ETA: 2:39 - loss: 0.0271 - categorical_accuracy: 0.78 - ETA: 2:39 - loss: 0.0271 - categorical_accuracy: 0.78 - ETA: 2:38 - loss: 0.0271 - categorical_accuracy: 0.78 - ETA: 2:38 - loss: 0.0271 - categorical_accuracy: 0.78 - ETA: 2:38 - loss: 0.0271 - categorical_accuracy: 0.78 - ETA: 2:37 - loss: 0.0271 - categorical_accuracy: 0.78 - ETA: 2:37 - loss: 0.0271 - categorical_accuracy: 0.78 - ETA: 2:36 - loss: 0.0271 - categorical_accuracy: 0.78 - ETA: 2:36 - loss: 0.0271 - categorical_accuracy: 0.78 - ETA: 2:35 - loss: 0.0271 - categorical_accuracy: 0.78 - ETA: 2:35 - loss: 0.0271 - categorical_accuracy: 0.78 - ETA: 2:35 - loss: 0.0271 - categorical_accuracy: 0.78 - ETA: 2:34 - loss: 0.0271 - categorical_accuracy: 0.78 - ETA: 2:34 - loss: 0.0271 - categorical_accuracy: 0.78 - ETA: 2:33 - loss: 0.0271 - categorical_accuracy: 0.78 - ETA: 2:33 - loss: 0.0270 - categorical_accuracy: 0.78 - ETA: 2:32 - loss: 0.0270 - categorical_accuracy: 0.78 - ETA: 2:32 - loss: 0.0271 - categorical_accuracy: 0.78 - ETA: 2:32 - loss: 0.0270 - categorical_accuracy: 0.78 - ETA: 2:31 - loss: 0.0271 - categorical_accuracy: 0.78 - ETA: 2:31 - loss: 0.0271 - categorical_accuracy: 0.78 - ETA: 2:30 - loss: 0.0271 - categorical_accuracy: 0.78 - ETA: 2:30 - loss: 0.0271 - categorical_accuracy: 0.78 - ETA: 2:29 - loss: 0.0271 - categorical_accuracy: 0.78 - ETA: 2:29 - loss: 0.0271 - categorical_accuracy: 0.78 - ETA: 2:29 - loss: 0.0271 - categorical_accuracy: 0.78 - ETA: 2:28 - loss: 0.0271 - categorical_accuracy: 0.78 - ETA: 2:28 - loss: 0.0271 - categorical_accuracy: 0.78 - ETA: 2:27 - loss: 0.0271 - categorical_accuracy: 0.78 - ETA: 2:27 - loss: 0.0271 - categorical_accuracy: 0.78 - ETA: 2:26 - loss: 0.0271 - categorical_accuracy: 0.78 - ETA: 2:26 - loss: 0.0271 - categorical_accuracy: 0.78 - ETA: 2:26 - loss: 0.0271 - categorical_accuracy: 0.78 - ETA: 2:25 - loss: 0.0271 - categorical_accuracy: 0.78 - ETA: 2:25 - loss: 0.0271 - categorical_accuracy: 0.78 - ETA: 2:24 - loss: 0.0271 - categorical_accuracy: 0.78 - ETA: 2:24 - loss: 0.0271 - categorical_accuracy: 0.78 - ETA: 2:24 - loss: 0.0271 - categorical_accuracy: 0.78 - ETA: 2:23 - loss: 0.0271 - categorical_accuracy: 0.78 - ETA: 2:23 - loss: 0.0271 - categorical_accuracy: 0.78 - ETA: 2:22 - loss: 0.0271 - categorical_accuracy: 0.78 - ETA: 2:22 - loss: 0.0271 - categorical_accuracy: 0.78 - ETA: 2:22 - loss: 0.0271 - categorical_accuracy: 0.78 - ETA: 2:21 - loss: 0.0271 - categorical_accuracy: 0.78 - ETA: 2:21 - loss: 0.0271 - categorical_accuracy: 0.78 - ETA: 2:21 - loss: 0.0271 - categorical_accuracy: 0.78 - ETA: 2:20 - loss: 0.0271 - categorical_accuracy: 0.78 - ETA: 2:20 - loss: 0.0271 - categorical_accuracy: 0.78 - ETA: 2:19 - loss: 0.0271 - categorical_accuracy: 0.78 - ETA: 2:19 - loss: 0.0271 - categorical_accuracy: 0.78 - ETA: 2:19 - loss: 0.0271 - categorical_accuracy: 0.78 - ETA: 2:18 - loss: 0.0271 - categorical_accuracy: 0.78 - ETA: 2:18 - loss: 0.0271 - categorical_accuracy: 0.78 - ETA: 2:17 - loss: 0.0271 - categorical_accuracy: 0.78 - ETA: 2:17 - loss: 0.0271 - categorical_accuracy: 0.78 - ETA: 2:17 - loss: 0.0271 - categorical_accuracy: 0.78 - ETA: 2:16 - loss: 0.0271 - categorical_accuracy: 0.78 - ETA: 2:16 - loss: 0.0271 - categorical_accuracy: 0.78 - ETA: 2:15 - loss: 0.0271 - categorical_accuracy: 0.78 - ETA: 2:15 - loss: 0.0271 - categorical_accuracy: 0.78 - ETA: 2:15 - loss: 0.0271 - categorical_accuracy: 0.78 - ETA: 2:14 - loss: 0.0271 - categorical_accuracy: 0.78 - ETA: 2:14 - loss: 0.0271 - categorical_accuracy: 0.78 - ETA: 2:13 - loss: 0.0271 - categorical_accuracy: 0.78 - ETA: 2:13 - loss: 0.0271 - categorical_accuracy: 0.78 - ETA: 2:13 - loss: 0.0271 - categorical_accuracy: 0.7891"
     ]
    },
    {
     "name": "stdout",
     "output_type": "stream",
     "text": [
      "32704/38368 [========================>.....] - ETA: 2:12 - loss: 0.0271 - categorical_accuracy: 0.78 - ETA: 2:12 - loss: 0.0271 - categorical_accuracy: 0.78 - ETA: 2:11 - loss: 0.0271 - categorical_accuracy: 0.78 - ETA: 2:11 - loss: 0.0271 - categorical_accuracy: 0.78 - ETA: 2:10 - loss: 0.0271 - categorical_accuracy: 0.78 - ETA: 2:10 - loss: 0.0271 - categorical_accuracy: 0.78 - ETA: 2:10 - loss: 0.0271 - categorical_accuracy: 0.78 - ETA: 2:09 - loss: 0.0271 - categorical_accuracy: 0.78 - ETA: 2:09 - loss: 0.0271 - categorical_accuracy: 0.78 - ETA: 2:08 - loss: 0.0271 - categorical_accuracy: 0.78 - ETA: 2:08 - loss: 0.0271 - categorical_accuracy: 0.78 - ETA: 2:08 - loss: 0.0271 - categorical_accuracy: 0.78 - ETA: 2:07 - loss: 0.0271 - categorical_accuracy: 0.78 - ETA: 2:07 - loss: 0.0271 - categorical_accuracy: 0.78 - ETA: 2:06 - loss: 0.0271 - categorical_accuracy: 0.78 - ETA: 2:06 - loss: 0.0271 - categorical_accuracy: 0.78 - ETA: 2:06 - loss: 0.0271 - categorical_accuracy: 0.78 - ETA: 2:05 - loss: 0.0271 - categorical_accuracy: 0.78 - ETA: 2:05 - loss: 0.0271 - categorical_accuracy: 0.78 - ETA: 2:04 - loss: 0.0271 - categorical_accuracy: 0.78 - ETA: 2:04 - loss: 0.0271 - categorical_accuracy: 0.78 - ETA: 2:03 - loss: 0.0271 - categorical_accuracy: 0.78 - ETA: 2:03 - loss: 0.0271 - categorical_accuracy: 0.78 - ETA: 2:03 - loss: 0.0271 - categorical_accuracy: 0.78 - ETA: 2:02 - loss: 0.0271 - categorical_accuracy: 0.78 - ETA: 2:02 - loss: 0.0271 - categorical_accuracy: 0.78 - ETA: 2:01 - loss: 0.0271 - categorical_accuracy: 0.78 - ETA: 2:01 - loss: 0.0271 - categorical_accuracy: 0.78 - ETA: 2:01 - loss: 0.0271 - categorical_accuracy: 0.78 - ETA: 2:00 - loss: 0.0271 - categorical_accuracy: 0.78 - ETA: 2:00 - loss: 0.0271 - categorical_accuracy: 0.78 - ETA: 1:59 - loss: 0.0271 - categorical_accuracy: 0.78 - ETA: 1:59 - loss: 0.0271 - categorical_accuracy: 0.78 - ETA: 1:59 - loss: 0.0271 - categorical_accuracy: 0.78 - ETA: 1:58 - loss: 0.0271 - categorical_accuracy: 0.78 - ETA: 1:58 - loss: 0.0271 - categorical_accuracy: 0.78 - ETA: 1:57 - loss: 0.0270 - categorical_accuracy: 0.78 - ETA: 1:57 - loss: 0.0271 - categorical_accuracy: 0.78 - ETA: 1:56 - loss: 0.0271 - categorical_accuracy: 0.78 - ETA: 1:56 - loss: 0.0271 - categorical_accuracy: 0.78 - ETA: 1:56 - loss: 0.0271 - categorical_accuracy: 0.78 - ETA: 1:55 - loss: 0.0271 - categorical_accuracy: 0.78 - ETA: 1:55 - loss: 0.0271 - categorical_accuracy: 0.78 - ETA: 1:54 - loss: 0.0271 - categorical_accuracy: 0.78 - ETA: 1:54 - loss: 0.0271 - categorical_accuracy: 0.78 - ETA: 1:54 - loss: 0.0271 - categorical_accuracy: 0.78 - ETA: 1:53 - loss: 0.0271 - categorical_accuracy: 0.78 - ETA: 1:53 - loss: 0.0271 - categorical_accuracy: 0.78 - ETA: 1:52 - loss: 0.0271 - categorical_accuracy: 0.78 - ETA: 1:52 - loss: 0.0271 - categorical_accuracy: 0.78 - ETA: 1:51 - loss: 0.0271 - categorical_accuracy: 0.78 - ETA: 1:51 - loss: 0.0270 - categorical_accuracy: 0.78 - ETA: 1:51 - loss: 0.0270 - categorical_accuracy: 0.78 - ETA: 1:50 - loss: 0.0270 - categorical_accuracy: 0.78 - ETA: 1:50 - loss: 0.0270 - categorical_accuracy: 0.78 - ETA: 1:49 - loss: 0.0270 - categorical_accuracy: 0.78 - ETA: 1:49 - loss: 0.0270 - categorical_accuracy: 0.78 - ETA: 1:49 - loss: 0.0270 - categorical_accuracy: 0.78 - ETA: 1:48 - loss: 0.0270 - categorical_accuracy: 0.78 - ETA: 1:48 - loss: 0.0270 - categorical_accuracy: 0.78 - ETA: 1:47 - loss: 0.0270 - categorical_accuracy: 0.78 - ETA: 1:47 - loss: 0.0270 - categorical_accuracy: 0.78 - ETA: 1:46 - loss: 0.0270 - categorical_accuracy: 0.78 - ETA: 1:46 - loss: 0.0270 - categorical_accuracy: 0.78 - ETA: 1:46 - loss: 0.0270 - categorical_accuracy: 0.78 - ETA: 1:45 - loss: 0.0270 - categorical_accuracy: 0.78 - ETA: 1:45 - loss: 0.0270 - categorical_accuracy: 0.78 - ETA: 1:44 - loss: 0.0270 - categorical_accuracy: 0.78 - ETA: 1:44 - loss: 0.0269 - categorical_accuracy: 0.78 - ETA: 1:44 - loss: 0.0269 - categorical_accuracy: 0.78 - ETA: 1:43 - loss: 0.0269 - categorical_accuracy: 0.78 - ETA: 1:43 - loss: 0.0269 - categorical_accuracy: 0.78 - ETA: 1:42 - loss: 0.0270 - categorical_accuracy: 0.78 - ETA: 1:42 - loss: 0.0270 - categorical_accuracy: 0.78 - ETA: 1:41 - loss: 0.0270 - categorical_accuracy: 0.78 - ETA: 1:41 - loss: 0.0270 - categorical_accuracy: 0.78 - ETA: 1:41 - loss: 0.0270 - categorical_accuracy: 0.78 - ETA: 1:40 - loss: 0.0270 - categorical_accuracy: 0.78 - ETA: 1:40 - loss: 0.0270 - categorical_accuracy: 0.78 - ETA: 1:39 - loss: 0.0270 - categorical_accuracy: 0.78 - ETA: 1:39 - loss: 0.0270 - categorical_accuracy: 0.78 - ETA: 1:39 - loss: 0.0270 - categorical_accuracy: 0.78 - ETA: 1:38 - loss: 0.0270 - categorical_accuracy: 0.78 - ETA: 1:38 - loss: 0.0270 - categorical_accuracy: 0.78 - ETA: 1:37 - loss: 0.0270 - categorical_accuracy: 0.78 - ETA: 1:37 - loss: 0.0270 - categorical_accuracy: 0.78 - ETA: 1:36 - loss: 0.0270 - categorical_accuracy: 0.78 - ETA: 1:36 - loss: 0.0270 - categorical_accuracy: 0.78 - ETA: 1:36 - loss: 0.0270 - categorical_accuracy: 0.78 - ETA: 1:35 - loss: 0.0270 - categorical_accuracy: 0.78 - ETA: 1:35 - loss: 0.0270 - categorical_accuracy: 0.78 - ETA: 1:34 - loss: 0.0270 - categorical_accuracy: 0.78 - ETA: 1:34 - loss: 0.0270 - categorical_accuracy: 0.78 - ETA: 1:34 - loss: 0.0270 - categorical_accuracy: 0.78 - ETA: 1:33 - loss: 0.0270 - categorical_accuracy: 0.78 - ETA: 1:33 - loss: 0.0270 - categorical_accuracy: 0.78 - ETA: 1:32 - loss: 0.0270 - categorical_accuracy: 0.78 - ETA: 1:32 - loss: 0.0269 - categorical_accuracy: 0.78 - ETA: 1:32 - loss: 0.0269 - categorical_accuracy: 0.78 - ETA: 1:31 - loss: 0.0270 - categorical_accuracy: 0.78 - ETA: 1:31 - loss: 0.0270 - categorical_accuracy: 0.78 - ETA: 1:30 - loss: 0.0269 - categorical_accuracy: 0.78 - ETA: 1:30 - loss: 0.0270 - categorical_accuracy: 0.78 - ETA: 1:30 - loss: 0.0270 - categorical_accuracy: 0.78 - ETA: 1:29 - loss: 0.0270 - categorical_accuracy: 0.78 - ETA: 1:29 - loss: 0.0270 - categorical_accuracy: 0.78 - ETA: 1:28 - loss: 0.0270 - categorical_accuracy: 0.78 - ETA: 1:28 - loss: 0.0270 - categorical_accuracy: 0.78 - ETA: 1:28 - loss: 0.0269 - categorical_accuracy: 0.78 - ETA: 1:27 - loss: 0.0269 - categorical_accuracy: 0.78 - ETA: 1:27 - loss: 0.0269 - categorical_accuracy: 0.78 - ETA: 1:26 - loss: 0.0269 - categorical_accuracy: 0.78 - ETA: 1:26 - loss: 0.0269 - categorical_accuracy: 0.78 - ETA: 1:26 - loss: 0.0269 - categorical_accuracy: 0.78 - ETA: 1:25 - loss: 0.0269 - categorical_accuracy: 0.78 - ETA: 1:25 - loss: 0.0269 - categorical_accuracy: 0.78 - ETA: 1:24 - loss: 0.0269 - categorical_accuracy: 0.78 - ETA: 1:24 - loss: 0.0269 - categorical_accuracy: 0.78 - ETA: 1:24 - loss: 0.0269 - categorical_accuracy: 0.78 - ETA: 1:23 - loss: 0.0269 - categorical_accuracy: 0.78 - ETA: 1:23 - loss: 0.0269 - categorical_accuracy: 0.78 - ETA: 1:22 - loss: 0.0269 - categorical_accuracy: 0.78 - ETA: 1:22 - loss: 0.0269 - categorical_accuracy: 0.78 - ETA: 1:22 - loss: 0.0269 - categorical_accuracy: 0.78 - ETA: 1:21 - loss: 0.0269 - categorical_accuracy: 0.78 - ETA: 1:21 - loss: 0.0269 - categorical_accuracy: 0.78 - ETA: 1:20 - loss: 0.0269 - categorical_accuracy: 0.78 - ETA: 1:20 - loss: 0.0269 - categorical_accuracy: 0.78 - ETA: 1:20 - loss: 0.0269 - categorical_accuracy: 0.78 - ETA: 1:19 - loss: 0.0269 - categorical_accuracy: 0.78 - ETA: 1:19 - loss: 0.0269 - categorical_accuracy: 0.78 - ETA: 1:18 - loss: 0.0269 - categorical_accuracy: 0.78 - ETA: 1:18 - loss: 0.0269 - categorical_accuracy: 0.78 - ETA: 1:18 - loss: 0.0269 - categorical_accuracy: 0.78 - ETA: 1:17 - loss: 0.0269 - categorical_accuracy: 0.78 - ETA: 1:17 - loss: 0.0269 - categorical_accuracy: 0.78 - ETA: 1:16 - loss: 0.0269 - categorical_accuracy: 0.78 - ETA: 1:16 - loss: 0.0269 - categorical_accuracy: 0.78 - ETA: 1:16 - loss: 0.0269 - categorical_accuracy: 0.78 - ETA: 1:15 - loss: 0.0269 - categorical_accuracy: 0.78 - ETA: 1:15 - loss: 0.0269 - categorical_accuracy: 0.78 - ETA: 1:14 - loss: 0.0269 - categorical_accuracy: 0.78 - ETA: 1:14 - loss: 0.0269 - categorical_accuracy: 0.78 - ETA: 1:13 - loss: 0.0269 - categorical_accuracy: 0.78 - ETA: 1:13 - loss: 0.0269 - categorical_accuracy: 0.78 - ETA: 1:13 - loss: 0.0269 - categorical_accuracy: 0.7895"
     ]
    },
    {
     "name": "stdout",
     "output_type": "stream",
     "text": [
      "37376/38368 [============================>.] - ETA: 1:12 - loss: 0.0269 - categorical_accuracy: 0.78 - ETA: 1:12 - loss: 0.0269 - categorical_accuracy: 0.78 - ETA: 1:11 - loss: 0.0269 - categorical_accuracy: 0.78 - ETA: 1:11 - loss: 0.0269 - categorical_accuracy: 0.78 - ETA: 1:11 - loss: 0.0269 - categorical_accuracy: 0.78 - ETA: 1:10 - loss: 0.0269 - categorical_accuracy: 0.78 - ETA: 1:10 - loss: 0.0269 - categorical_accuracy: 0.78 - ETA: 1:09 - loss: 0.0269 - categorical_accuracy: 0.78 - ETA: 1:09 - loss: 0.0269 - categorical_accuracy: 0.78 - ETA: 1:09 - loss: 0.0269 - categorical_accuracy: 0.78 - ETA: 1:08 - loss: 0.0269 - categorical_accuracy: 0.78 - ETA: 1:08 - loss: 0.0269 - categorical_accuracy: 0.78 - ETA: 1:07 - loss: 0.0269 - categorical_accuracy: 0.78 - ETA: 1:07 - loss: 0.0269 - categorical_accuracy: 0.78 - ETA: 1:06 - loss: 0.0269 - categorical_accuracy: 0.78 - ETA: 1:06 - loss: 0.0269 - categorical_accuracy: 0.78 - ETA: 1:06 - loss: 0.0269 - categorical_accuracy: 0.78 - ETA: 1:05 - loss: 0.0269 - categorical_accuracy: 0.78 - ETA: 1:05 - loss: 0.0269 - categorical_accuracy: 0.78 - ETA: 1:04 - loss: 0.0269 - categorical_accuracy: 0.78 - ETA: 1:04 - loss: 0.0269 - categorical_accuracy: 0.78 - ETA: 1:04 - loss: 0.0269 - categorical_accuracy: 0.78 - ETA: 1:03 - loss: 0.0268 - categorical_accuracy: 0.78 - ETA: 1:03 - loss: 0.0268 - categorical_accuracy: 0.78 - ETA: 1:02 - loss: 0.0268 - categorical_accuracy: 0.78 - ETA: 1:02 - loss: 0.0268 - categorical_accuracy: 0.78 - ETA: 1:01 - loss: 0.0268 - categorical_accuracy: 0.78 - ETA: 1:01 - loss: 0.0269 - categorical_accuracy: 0.78 - ETA: 1:01 - loss: 0.0269 - categorical_accuracy: 0.78 - ETA: 1:00 - loss: 0.0269 - categorical_accuracy: 0.78 - ETA: 1:00 - loss: 0.0269 - categorical_accuracy: 0.78 - ETA: 59s - loss: 0.0269 - categorical_accuracy: 0.7896 - ETA: 59s - loss: 0.0269 - categorical_accuracy: 0.789 - ETA: 59s - loss: 0.0269 - categorical_accuracy: 0.789 - ETA: 58s - loss: 0.0269 - categorical_accuracy: 0.789 - ETA: 58s - loss: 0.0269 - categorical_accuracy: 0.789 - ETA: 57s - loss: 0.0269 - categorical_accuracy: 0.789 - ETA: 57s - loss: 0.0269 - categorical_accuracy: 0.789 - ETA: 56s - loss: 0.0269 - categorical_accuracy: 0.789 - ETA: 56s - loss: 0.0269 - categorical_accuracy: 0.789 - ETA: 56s - loss: 0.0269 - categorical_accuracy: 0.789 - ETA: 55s - loss: 0.0269 - categorical_accuracy: 0.789 - ETA: 55s - loss: 0.0269 - categorical_accuracy: 0.789 - ETA: 54s - loss: 0.0269 - categorical_accuracy: 0.789 - ETA: 54s - loss: 0.0269 - categorical_accuracy: 0.789 - ETA: 54s - loss: 0.0269 - categorical_accuracy: 0.789 - ETA: 53s - loss: 0.0269 - categorical_accuracy: 0.789 - ETA: 53s - loss: 0.0269 - categorical_accuracy: 0.789 - ETA: 52s - loss: 0.0269 - categorical_accuracy: 0.789 - ETA: 52s - loss: 0.0269 - categorical_accuracy: 0.789 - ETA: 51s - loss: 0.0269 - categorical_accuracy: 0.789 - ETA: 51s - loss: 0.0269 - categorical_accuracy: 0.789 - ETA: 51s - loss: 0.0269 - categorical_accuracy: 0.789 - ETA: 50s - loss: 0.0269 - categorical_accuracy: 0.789 - ETA: 50s - loss: 0.0269 - categorical_accuracy: 0.789 - ETA: 49s - loss: 0.0269 - categorical_accuracy: 0.789 - ETA: 49s - loss: 0.0269 - categorical_accuracy: 0.789 - ETA: 49s - loss: 0.0269 - categorical_accuracy: 0.789 - ETA: 48s - loss: 0.0269 - categorical_accuracy: 0.789 - ETA: 48s - loss: 0.0269 - categorical_accuracy: 0.789 - ETA: 47s - loss: 0.0269 - categorical_accuracy: 0.789 - ETA: 47s - loss: 0.0269 - categorical_accuracy: 0.789 - ETA: 46s - loss: 0.0269 - categorical_accuracy: 0.789 - ETA: 46s - loss: 0.0269 - categorical_accuracy: 0.789 - ETA: 46s - loss: 0.0269 - categorical_accuracy: 0.789 - ETA: 45s - loss: 0.0269 - categorical_accuracy: 0.789 - ETA: 45s - loss: 0.0269 - categorical_accuracy: 0.789 - ETA: 44s - loss: 0.0269 - categorical_accuracy: 0.789 - ETA: 44s - loss: 0.0269 - categorical_accuracy: 0.789 - ETA: 44s - loss: 0.0269 - categorical_accuracy: 0.789 - ETA: 43s - loss: 0.0269 - categorical_accuracy: 0.789 - ETA: 43s - loss: 0.0269 - categorical_accuracy: 0.789 - ETA: 42s - loss: 0.0269 - categorical_accuracy: 0.789 - ETA: 42s - loss: 0.0269 - categorical_accuracy: 0.789 - ETA: 42s - loss: 0.0268 - categorical_accuracy: 0.789 - ETA: 41s - loss: 0.0268 - categorical_accuracy: 0.789 - ETA: 41s - loss: 0.0268 - categorical_accuracy: 0.789 - ETA: 40s - loss: 0.0268 - categorical_accuracy: 0.789 - ETA: 40s - loss: 0.0268 - categorical_accuracy: 0.789 - ETA: 39s - loss: 0.0268 - categorical_accuracy: 0.789 - ETA: 39s - loss: 0.0268 - categorical_accuracy: 0.789 - ETA: 39s - loss: 0.0268 - categorical_accuracy: 0.789 - ETA: 38s - loss: 0.0268 - categorical_accuracy: 0.789 - ETA: 38s - loss: 0.0268 - categorical_accuracy: 0.789 - ETA: 37s - loss: 0.0268 - categorical_accuracy: 0.789 - ETA: 37s - loss: 0.0268 - categorical_accuracy: 0.789 - ETA: 37s - loss: 0.0268 - categorical_accuracy: 0.789 - ETA: 36s - loss: 0.0268 - categorical_accuracy: 0.789 - ETA: 36s - loss: 0.0268 - categorical_accuracy: 0.789 - ETA: 35s - loss: 0.0268 - categorical_accuracy: 0.789 - ETA: 35s - loss: 0.0268 - categorical_accuracy: 0.789 - ETA: 34s - loss: 0.0268 - categorical_accuracy: 0.789 - ETA: 34s - loss: 0.0268 - categorical_accuracy: 0.789 - ETA: 34s - loss: 0.0268 - categorical_accuracy: 0.789 - ETA: 33s - loss: 0.0268 - categorical_accuracy: 0.789 - ETA: 33s - loss: 0.0268 - categorical_accuracy: 0.789 - ETA: 32s - loss: 0.0268 - categorical_accuracy: 0.789 - ETA: 32s - loss: 0.0268 - categorical_accuracy: 0.789 - ETA: 32s - loss: 0.0268 - categorical_accuracy: 0.789 - ETA: 31s - loss: 0.0268 - categorical_accuracy: 0.789 - ETA: 31s - loss: 0.0268 - categorical_accuracy: 0.789 - ETA: 30s - loss: 0.0268 - categorical_accuracy: 0.789 - ETA: 30s - loss: 0.0268 - categorical_accuracy: 0.789 - ETA: 30s - loss: 0.0268 - categorical_accuracy: 0.789 - ETA: 29s - loss: 0.0268 - categorical_accuracy: 0.789 - ETA: 29s - loss: 0.0268 - categorical_accuracy: 0.789 - ETA: 28s - loss: 0.0268 - categorical_accuracy: 0.789 - ETA: 28s - loss: 0.0269 - categorical_accuracy: 0.789 - ETA: 27s - loss: 0.0269 - categorical_accuracy: 0.789 - ETA: 27s - loss: 0.0269 - categorical_accuracy: 0.789 - ETA: 27s - loss: 0.0269 - categorical_accuracy: 0.789 - ETA: 26s - loss: 0.0269 - categorical_accuracy: 0.789 - ETA: 26s - loss: 0.0269 - categorical_accuracy: 0.789 - ETA: 25s - loss: 0.0269 - categorical_accuracy: 0.789 - ETA: 25s - loss: 0.0269 - categorical_accuracy: 0.789 - ETA: 25s - loss: 0.0269 - categorical_accuracy: 0.789 - ETA: 24s - loss: 0.0269 - categorical_accuracy: 0.789 - ETA: 24s - loss: 0.0269 - categorical_accuracy: 0.789 - ETA: 23s - loss: 0.0268 - categorical_accuracy: 0.789 - ETA: 23s - loss: 0.0268 - categorical_accuracy: 0.789 - ETA: 23s - loss: 0.0268 - categorical_accuracy: 0.789 - ETA: 22s - loss: 0.0268 - categorical_accuracy: 0.789 - ETA: 22s - loss: 0.0268 - categorical_accuracy: 0.789 - ETA: 21s - loss: 0.0268 - categorical_accuracy: 0.789 - ETA: 21s - loss: 0.0268 - categorical_accuracy: 0.789 - ETA: 20s - loss: 0.0268 - categorical_accuracy: 0.789 - ETA: 20s - loss: 0.0268 - categorical_accuracy: 0.789 - ETA: 20s - loss: 0.0268 - categorical_accuracy: 0.789 - ETA: 19s - loss: 0.0268 - categorical_accuracy: 0.789 - ETA: 19s - loss: 0.0268 - categorical_accuracy: 0.789 - ETA: 18s - loss: 0.0268 - categorical_accuracy: 0.789 - ETA: 18s - loss: 0.0268 - categorical_accuracy: 0.789 - ETA: 18s - loss: 0.0268 - categorical_accuracy: 0.789 - ETA: 17s - loss: 0.0268 - categorical_accuracy: 0.789 - ETA: 17s - loss: 0.0268 - categorical_accuracy: 0.789 - ETA: 16s - loss: 0.0268 - categorical_accuracy: 0.789 - ETA: 16s - loss: 0.0268 - categorical_accuracy: 0.789 - ETA: 16s - loss: 0.0268 - categorical_accuracy: 0.789 - ETA: 15s - loss: 0.0268 - categorical_accuracy: 0.789 - ETA: 15s - loss: 0.0268 - categorical_accuracy: 0.789 - ETA: 14s - loss: 0.0268 - categorical_accuracy: 0.789 - ETA: 14s - loss: 0.0268 - categorical_accuracy: 0.789 - ETA: 13s - loss: 0.0268 - categorical_accuracy: 0.789 - ETA: 13s - loss: 0.0268 - categorical_accuracy: 0.789 - ETA: 13s - loss: 0.0268 - categorical_accuracy: 0.789 - ETA: 12s - loss: 0.0268 - categorical_accuracy: 0.7896"
     ]
    },
    {
     "name": "stdout",
     "output_type": "stream",
     "text": [
      "38368/38368 [==============================] - ETA: 12s - loss: 0.0268 - categorical_accuracy: 0.789 - ETA: 11s - loss: 0.0268 - categorical_accuracy: 0.789 - ETA: 11s - loss: 0.0268 - categorical_accuracy: 0.789 - ETA: 11s - loss: 0.0268 - categorical_accuracy: 0.789 - ETA: 10s - loss: 0.0268 - categorical_accuracy: 0.789 - ETA: 10s - loss: 0.0268 - categorical_accuracy: 0.789 - ETA: 9s - loss: 0.0267 - categorical_accuracy: 0.789 - ETA: 9s - loss: 0.0267 - categorical_accuracy: 0.78 - ETA: 9s - loss: 0.0267 - categorical_accuracy: 0.78 - ETA: 8s - loss: 0.0268 - categorical_accuracy: 0.78 - ETA: 8s - loss: 0.0268 - categorical_accuracy: 0.78 - ETA: 7s - loss: 0.0267 - categorical_accuracy: 0.78 - ETA: 7s - loss: 0.0267 - categorical_accuracy: 0.78 - ETA: 6s - loss: 0.0267 - categorical_accuracy: 0.78 - ETA: 6s - loss: 0.0267 - categorical_accuracy: 0.78 - ETA: 6s - loss: 0.0268 - categorical_accuracy: 0.78 - ETA: 5s - loss: 0.0268 - categorical_accuracy: 0.78 - ETA: 5s - loss: 0.0267 - categorical_accuracy: 0.78 - ETA: 4s - loss: 0.0267 - categorical_accuracy: 0.78 - ETA: 4s - loss: 0.0267 - categorical_accuracy: 0.78 - ETA: 4s - loss: 0.0267 - categorical_accuracy: 0.78 - ETA: 3s - loss: 0.0267 - categorical_accuracy: 0.78 - ETA: 3s - loss: 0.0267 - categorical_accuracy: 0.78 - ETA: 2s - loss: 0.0267 - categorical_accuracy: 0.78 - ETA: 2s - loss: 0.0267 - categorical_accuracy: 0.78 - ETA: 2s - loss: 0.0267 - categorical_accuracy: 0.78 - ETA: 1s - loss: 0.0267 - categorical_accuracy: 0.78 - ETA: 1s - loss: 0.0267 - categorical_accuracy: 0.78 - ETA: 0s - loss: 0.0267 - categorical_accuracy: 0.78 - ETA: 0s - loss: 0.0267 - categorical_accuracy: 0.78 - 507s 13ms/step - loss: 0.0267 - categorical_accuracy: 0.7897 - val_loss: 0.0281 - val_categorical_accuracy: 0.7902\n",
      "Epoch 3/10\n"
     ]
    },
    {
     "name": "stdout",
     "output_type": "stream",
     "text": [
      " 4672/38368 [==>...........................] - ETA: 8:27 - loss: 0.0174 - categorical_accuracy: 0.81 - ETA: 8:02 - loss: 0.0194 - categorical_accuracy: 0.79 - ETA: 7:51 - loss: 0.0165 - categorical_accuracy: 0.79 - ETA: 7:45 - loss: 0.0198 - categorical_accuracy: 0.79 - ETA: 7:45 - loss: 0.0203 - categorical_accuracy: 0.79 - ETA: 7:46 - loss: 0.0203 - categorical_accuracy: 0.79 - ETA: 7:56 - loss: 0.0200 - categorical_accuracy: 0.79 - ETA: 7:59 - loss: 0.0208 - categorical_accuracy: 0.79 - ETA: 8:02 - loss: 0.0210 - categorical_accuracy: 0.79 - ETA: 8:03 - loss: 0.0213 - categorical_accuracy: 0.79 - ETA: 8:08 - loss: 0.0207 - categorical_accuracy: 0.79 - ETA: 8:10 - loss: 0.0213 - categorical_accuracy: 0.79 - ETA: 8:09 - loss: 0.0214 - categorical_accuracy: 0.79 - ETA: 8:07 - loss: 0.0222 - categorical_accuracy: 0.78 - ETA: 8:06 - loss: 0.0219 - categorical_accuracy: 0.78 - ETA: 8:04 - loss: 0.0218 - categorical_accuracy: 0.78 - ETA: 8:05 - loss: 0.0212 - categorical_accuracy: 0.78 - ETA: 8:03 - loss: 0.0210 - categorical_accuracy: 0.78 - ETA: 8:03 - loss: 0.0213 - categorical_accuracy: 0.78 - ETA: 8:02 - loss: 0.0213 - categorical_accuracy: 0.78 - ETA: 8:00 - loss: 0.0215 - categorical_accuracy: 0.78 - ETA: 7:59 - loss: 0.0214 - categorical_accuracy: 0.78 - ETA: 7:57 - loss: 0.0214 - categorical_accuracy: 0.78 - ETA: 7:55 - loss: 0.0214 - categorical_accuracy: 0.78 - ETA: 7:54 - loss: 0.0209 - categorical_accuracy: 0.79 - ETA: 7:53 - loss: 0.0208 - categorical_accuracy: 0.79 - ETA: 7:52 - loss: 0.0205 - categorical_accuracy: 0.79 - ETA: 7:51 - loss: 0.0204 - categorical_accuracy: 0.79 - ETA: 7:50 - loss: 0.0201 - categorical_accuracy: 0.79 - ETA: 7:49 - loss: 0.0201 - categorical_accuracy: 0.79 - ETA: 7:48 - loss: 0.0201 - categorical_accuracy: 0.79 - ETA: 7:47 - loss: 0.0204 - categorical_accuracy: 0.79 - ETA: 7:46 - loss: 0.0203 - categorical_accuracy: 0.79 - ETA: 7:47 - loss: 0.0204 - categorical_accuracy: 0.79 - ETA: 7:46 - loss: 0.0203 - categorical_accuracy: 0.79 - ETA: 7:44 - loss: 0.0202 - categorical_accuracy: 0.79 - ETA: 7:44 - loss: 0.0202 - categorical_accuracy: 0.79 - ETA: 7:42 - loss: 0.0203 - categorical_accuracy: 0.79 - ETA: 7:41 - loss: 0.0200 - categorical_accuracy: 0.79 - ETA: 7:40 - loss: 0.0202 - categorical_accuracy: 0.79 - ETA: 7:39 - loss: 0.0201 - categorical_accuracy: 0.79 - ETA: 7:39 - loss: 0.0202 - categorical_accuracy: 0.79 - ETA: 7:38 - loss: 0.0202 - categorical_accuracy: 0.79 - ETA: 7:38 - loss: 0.0201 - categorical_accuracy: 0.79 - ETA: 7:37 - loss: 0.0202 - categorical_accuracy: 0.79 - ETA: 7:36 - loss: 0.0201 - categorical_accuracy: 0.79 - ETA: 7:36 - loss: 0.0202 - categorical_accuracy: 0.79 - ETA: 7:35 - loss: 0.0203 - categorical_accuracy: 0.79 - ETA: 7:35 - loss: 0.0203 - categorical_accuracy: 0.79 - ETA: 7:35 - loss: 0.0203 - categorical_accuracy: 0.79 - ETA: 7:34 - loss: 0.0203 - categorical_accuracy: 0.79 - ETA: 7:34 - loss: 0.0203 - categorical_accuracy: 0.79 - ETA: 7:33 - loss: 0.0205 - categorical_accuracy: 0.79 - ETA: 7:32 - loss: 0.0205 - categorical_accuracy: 0.79 - ETA: 7:30 - loss: 0.0205 - categorical_accuracy: 0.79 - ETA: 7:30 - loss: 0.0206 - categorical_accuracy: 0.79 - ETA: 7:29 - loss: 0.0205 - categorical_accuracy: 0.79 - ETA: 7:28 - loss: 0.0205 - categorical_accuracy: 0.79 - ETA: 7:28 - loss: 0.0203 - categorical_accuracy: 0.79 - ETA: 7:28 - loss: 0.0204 - categorical_accuracy: 0.79 - ETA: 7:27 - loss: 0.0205 - categorical_accuracy: 0.79 - ETA: 7:27 - loss: 0.0205 - categorical_accuracy: 0.79 - ETA: 7:26 - loss: 0.0205 - categorical_accuracy: 0.79 - ETA: 7:26 - loss: 0.0205 - categorical_accuracy: 0.79 - ETA: 7:25 - loss: 0.0205 - categorical_accuracy: 0.79 - ETA: 7:25 - loss: 0.0206 - categorical_accuracy: 0.79 - ETA: 7:24 - loss: 0.0205 - categorical_accuracy: 0.79 - ETA: 7:24 - loss: 0.0205 - categorical_accuracy: 0.79 - ETA: 7:23 - loss: 0.0204 - categorical_accuracy: 0.79 - ETA: 7:22 - loss: 0.0204 - categorical_accuracy: 0.79 - ETA: 7:22 - loss: 0.0204 - categorical_accuracy: 0.79 - ETA: 7:21 - loss: 0.0204 - categorical_accuracy: 0.79 - ETA: 7:20 - loss: 0.0204 - categorical_accuracy: 0.79 - ETA: 7:20 - loss: 0.0203 - categorical_accuracy: 0.79 - ETA: 7:20 - loss: 0.0203 - categorical_accuracy: 0.79 - ETA: 7:19 - loss: 0.0202 - categorical_accuracy: 0.79 - ETA: 7:19 - loss: 0.0202 - categorical_accuracy: 0.79 - ETA: 7:19 - loss: 0.0201 - categorical_accuracy: 0.79 - ETA: 7:18 - loss: 0.0201 - categorical_accuracy: 0.79 - ETA: 7:17 - loss: 0.0201 - categorical_accuracy: 0.79 - ETA: 7:17 - loss: 0.0200 - categorical_accuracy: 0.79 - ETA: 7:17 - loss: 0.0200 - categorical_accuracy: 0.79 - ETA: 7:17 - loss: 0.0200 - categorical_accuracy: 0.79 - ETA: 7:16 - loss: 0.0201 - categorical_accuracy: 0.79 - ETA: 7:15 - loss: 0.0202 - categorical_accuracy: 0.79 - ETA: 7:15 - loss: 0.0202 - categorical_accuracy: 0.79 - ETA: 7:14 - loss: 0.0202 - categorical_accuracy: 0.79 - ETA: 7:14 - loss: 0.0205 - categorical_accuracy: 0.79 - ETA: 7:13 - loss: 0.0205 - categorical_accuracy: 0.79 - ETA: 7:13 - loss: 0.0204 - categorical_accuracy: 0.79 - ETA: 7:13 - loss: 0.0204 - categorical_accuracy: 0.79 - ETA: 7:12 - loss: 0.0205 - categorical_accuracy: 0.79 - ETA: 7:13 - loss: 0.0204 - categorical_accuracy: 0.78 - ETA: 7:12 - loss: 0.0204 - categorical_accuracy: 0.79 - ETA: 7:13 - loss: 0.0204 - categorical_accuracy: 0.79 - ETA: 7:13 - loss: 0.0204 - categorical_accuracy: 0.79 - ETA: 7:12 - loss: 0.0205 - categorical_accuracy: 0.79 - ETA: 7:12 - loss: 0.0206 - categorical_accuracy: 0.79 - ETA: 7:12 - loss: 0.0206 - categorical_accuracy: 0.79 - ETA: 7:12 - loss: 0.0205 - categorical_accuracy: 0.79 - ETA: 7:12 - loss: 0.0205 - categorical_accuracy: 0.79 - ETA: 7:13 - loss: 0.0205 - categorical_accuracy: 0.79 - ETA: 7:13 - loss: 0.0204 - categorical_accuracy: 0.79 - ETA: 7:13 - loss: 0.0204 - categorical_accuracy: 0.79 - ETA: 7:12 - loss: 0.0207 - categorical_accuracy: 0.79 - ETA: 7:12 - loss: 0.0206 - categorical_accuracy: 0.78 - ETA: 7:11 - loss: 0.0206 - categorical_accuracy: 0.78 - ETA: 7:11 - loss: 0.0207 - categorical_accuracy: 0.79 - ETA: 7:11 - loss: 0.0207 - categorical_accuracy: 0.79 - ETA: 7:11 - loss: 0.0206 - categorical_accuracy: 0.79 - ETA: 7:10 - loss: 0.0206 - categorical_accuracy: 0.78 - ETA: 7:10 - loss: 0.0206 - categorical_accuracy: 0.78 - ETA: 7:10 - loss: 0.0205 - categorical_accuracy: 0.78 - ETA: 7:10 - loss: 0.0206 - categorical_accuracy: 0.78 - ETA: 7:10 - loss: 0.0207 - categorical_accuracy: 0.78 - ETA: 7:09 - loss: 0.0206 - categorical_accuracy: 0.78 - ETA: 7:09 - loss: 0.0206 - categorical_accuracy: 0.78 - ETA: 7:08 - loss: 0.0206 - categorical_accuracy: 0.78 - ETA: 7:08 - loss: 0.0207 - categorical_accuracy: 0.78 - ETA: 7:07 - loss: 0.0206 - categorical_accuracy: 0.78 - ETA: 7:07 - loss: 0.0206 - categorical_accuracy: 0.78 - ETA: 7:06 - loss: 0.0206 - categorical_accuracy: 0.78 - ETA: 7:06 - loss: 0.0207 - categorical_accuracy: 0.78 - ETA: 7:06 - loss: 0.0207 - categorical_accuracy: 0.78 - ETA: 7:05 - loss: 0.0206 - categorical_accuracy: 0.78 - ETA: 7:05 - loss: 0.0206 - categorical_accuracy: 0.78 - ETA: 7:05 - loss: 0.0206 - categorical_accuracy: 0.78 - ETA: 7:04 - loss: 0.0206 - categorical_accuracy: 0.78 - ETA: 7:04 - loss: 0.0206 - categorical_accuracy: 0.78 - ETA: 7:04 - loss: 0.0207 - categorical_accuracy: 0.78 - ETA: 7:03 - loss: 0.0206 - categorical_accuracy: 0.78 - ETA: 7:03 - loss: 0.0207 - categorical_accuracy: 0.78 - ETA: 7:03 - loss: 0.0206 - categorical_accuracy: 0.78 - ETA: 7:02 - loss: 0.0206 - categorical_accuracy: 0.78 - ETA: 7:01 - loss: 0.0205 - categorical_accuracy: 0.78 - ETA: 7:01 - loss: 0.0205 - categorical_accuracy: 0.78 - ETA: 7:00 - loss: 0.0205 - categorical_accuracy: 0.78 - ETA: 7:00 - loss: 0.0206 - categorical_accuracy: 0.78 - ETA: 6:59 - loss: 0.0205 - categorical_accuracy: 0.78 - ETA: 6:59 - loss: 0.0204 - categorical_accuracy: 0.78 - ETA: 6:59 - loss: 0.0204 - categorical_accuracy: 0.78 - ETA: 6:58 - loss: 0.0204 - categorical_accuracy: 0.78 - ETA: 6:58 - loss: 0.0204 - categorical_accuracy: 0.78 - ETA: 6:57 - loss: 0.0204 - categorical_accuracy: 0.78 - ETA: 6:57 - loss: 0.0205 - categorical_accuracy: 0.78 - ETA: 6:57 - loss: 0.0205 - categorical_accuracy: 0.7892"
     ]
    },
    {
     "name": "stdout",
     "output_type": "stream",
     "text": [
      " 9344/38368 [======>.......................] - ETA: 6:57 - loss: 0.0205 - categorical_accuracy: 0.78 - ETA: 6:57 - loss: 0.0206 - categorical_accuracy: 0.78 - ETA: 6:56 - loss: 0.0206 - categorical_accuracy: 0.78 - ETA: 6:56 - loss: 0.0206 - categorical_accuracy: 0.78 - ETA: 6:55 - loss: 0.0206 - categorical_accuracy: 0.78 - ETA: 6:55 - loss: 0.0206 - categorical_accuracy: 0.78 - ETA: 6:54 - loss: 0.0206 - categorical_accuracy: 0.78 - ETA: 6:54 - loss: 0.0206 - categorical_accuracy: 0.78 - ETA: 6:54 - loss: 0.0205 - categorical_accuracy: 0.78 - ETA: 6:53 - loss: 0.0205 - categorical_accuracy: 0.78 - ETA: 6:53 - loss: 0.0204 - categorical_accuracy: 0.78 - ETA: 6:52 - loss: 0.0204 - categorical_accuracy: 0.78 - ETA: 6:52 - loss: 0.0204 - categorical_accuracy: 0.78 - ETA: 6:51 - loss: 0.0204 - categorical_accuracy: 0.78 - ETA: 6:51 - loss: 0.0204 - categorical_accuracy: 0.78 - ETA: 6:50 - loss: 0.0204 - categorical_accuracy: 0.78 - ETA: 6:50 - loss: 0.0205 - categorical_accuracy: 0.78 - ETA: 6:50 - loss: 0.0204 - categorical_accuracy: 0.78 - ETA: 6:49 - loss: 0.0204 - categorical_accuracy: 0.78 - ETA: 6:49 - loss: 0.0204 - categorical_accuracy: 0.78 - ETA: 6:49 - loss: 0.0204 - categorical_accuracy: 0.78 - ETA: 6:49 - loss: 0.0204 - categorical_accuracy: 0.78 - ETA: 6:49 - loss: 0.0204 - categorical_accuracy: 0.78 - ETA: 6:48 - loss: 0.0204 - categorical_accuracy: 0.78 - ETA: 6:48 - loss: 0.0205 - categorical_accuracy: 0.78 - ETA: 6:48 - loss: 0.0204 - categorical_accuracy: 0.78 - ETA: 6:48 - loss: 0.0205 - categorical_accuracy: 0.78 - ETA: 6:47 - loss: 0.0205 - categorical_accuracy: 0.78 - ETA: 6:47 - loss: 0.0205 - categorical_accuracy: 0.78 - ETA: 6:47 - loss: 0.0205 - categorical_accuracy: 0.78 - ETA: 6:47 - loss: 0.0205 - categorical_accuracy: 0.78 - ETA: 6:47 - loss: 0.0204 - categorical_accuracy: 0.78 - ETA: 6:47 - loss: 0.0205 - categorical_accuracy: 0.78 - ETA: 6:46 - loss: 0.0205 - categorical_accuracy: 0.78 - ETA: 6:46 - loss: 0.0205 - categorical_accuracy: 0.78 - ETA: 6:46 - loss: 0.0204 - categorical_accuracy: 0.78 - ETA: 6:46 - loss: 0.0204 - categorical_accuracy: 0.78 - ETA: 6:45 - loss: 0.0204 - categorical_accuracy: 0.78 - ETA: 6:46 - loss: 0.0205 - categorical_accuracy: 0.78 - ETA: 6:45 - loss: 0.0205 - categorical_accuracy: 0.78 - ETA: 6:45 - loss: 0.0205 - categorical_accuracy: 0.78 - ETA: 6:45 - loss: 0.0205 - categorical_accuracy: 0.78 - ETA: 6:44 - loss: 0.0205 - categorical_accuracy: 0.78 - ETA: 6:44 - loss: 0.0206 - categorical_accuracy: 0.78 - ETA: 6:43 - loss: 0.0206 - categorical_accuracy: 0.78 - ETA: 6:43 - loss: 0.0206 - categorical_accuracy: 0.78 - ETA: 6:42 - loss: 0.0206 - categorical_accuracy: 0.78 - ETA: 6:42 - loss: 0.0206 - categorical_accuracy: 0.78 - ETA: 6:42 - loss: 0.0206 - categorical_accuracy: 0.78 - ETA: 6:41 - loss: 0.0206 - categorical_accuracy: 0.78 - ETA: 6:41 - loss: 0.0206 - categorical_accuracy: 0.78 - ETA: 6:41 - loss: 0.0206 - categorical_accuracy: 0.78 - ETA: 6:41 - loss: 0.0206 - categorical_accuracy: 0.78 - ETA: 6:41 - loss: 0.0206 - categorical_accuracy: 0.78 - ETA: 6:40 - loss: 0.0206 - categorical_accuracy: 0.78 - ETA: 6:40 - loss: 0.0207 - categorical_accuracy: 0.78 - ETA: 6:40 - loss: 0.0206 - categorical_accuracy: 0.78 - ETA: 6:40 - loss: 0.0207 - categorical_accuracy: 0.78 - ETA: 6:40 - loss: 0.0207 - categorical_accuracy: 0.78 - ETA: 6:40 - loss: 0.0207 - categorical_accuracy: 0.78 - ETA: 6:40 - loss: 0.0207 - categorical_accuracy: 0.78 - ETA: 6:40 - loss: 0.0207 - categorical_accuracy: 0.78 - ETA: 6:40 - loss: 0.0207 - categorical_accuracy: 0.78 - ETA: 6:41 - loss: 0.0207 - categorical_accuracy: 0.78 - ETA: 6:41 - loss: 0.0207 - categorical_accuracy: 0.78 - ETA: 6:41 - loss: 0.0208 - categorical_accuracy: 0.78 - ETA: 6:41 - loss: 0.0208 - categorical_accuracy: 0.78 - ETA: 6:41 - loss: 0.0207 - categorical_accuracy: 0.78 - ETA: 6:40 - loss: 0.0207 - categorical_accuracy: 0.78 - ETA: 6:40 - loss: 0.0207 - categorical_accuracy: 0.78 - ETA: 6:39 - loss: 0.0208 - categorical_accuracy: 0.78 - ETA: 6:39 - loss: 0.0207 - categorical_accuracy: 0.78 - ETA: 6:38 - loss: 0.0207 - categorical_accuracy: 0.78 - ETA: 6:38 - loss: 0.0207 - categorical_accuracy: 0.78 - ETA: 6:39 - loss: 0.0207 - categorical_accuracy: 0.78 - ETA: 6:39 - loss: 0.0207 - categorical_accuracy: 0.78 - ETA: 6:39 - loss: 0.0207 - categorical_accuracy: 0.78 - ETA: 6:39 - loss: 0.0207 - categorical_accuracy: 0.78 - ETA: 6:39 - loss: 0.0207 - categorical_accuracy: 0.78 - ETA: 6:39 - loss: 0.0207 - categorical_accuracy: 0.78 - ETA: 6:39 - loss: 0.0207 - categorical_accuracy: 0.78 - ETA: 6:39 - loss: 0.0207 - categorical_accuracy: 0.78 - ETA: 6:38 - loss: 0.0207 - categorical_accuracy: 0.78 - ETA: 6:38 - loss: 0.0207 - categorical_accuracy: 0.78 - ETA: 6:38 - loss: 0.0207 - categorical_accuracy: 0.78 - ETA: 6:37 - loss: 0.0207 - categorical_accuracy: 0.78 - ETA: 6:37 - loss: 0.0207 - categorical_accuracy: 0.78 - ETA: 6:36 - loss: 0.0206 - categorical_accuracy: 0.78 - ETA: 6:36 - loss: 0.0206 - categorical_accuracy: 0.78 - ETA: 6:35 - loss: 0.0206 - categorical_accuracy: 0.78 - ETA: 6:35 - loss: 0.0206 - categorical_accuracy: 0.78 - ETA: 6:35 - loss: 0.0206 - categorical_accuracy: 0.78 - ETA: 6:34 - loss: 0.0206 - categorical_accuracy: 0.78 - ETA: 6:33 - loss: 0.0206 - categorical_accuracy: 0.78 - ETA: 6:33 - loss: 0.0206 - categorical_accuracy: 0.78 - ETA: 6:32 - loss: 0.0207 - categorical_accuracy: 0.78 - ETA: 6:32 - loss: 0.0207 - categorical_accuracy: 0.78 - ETA: 6:31 - loss: 0.0207 - categorical_accuracy: 0.78 - ETA: 6:31 - loss: 0.0207 - categorical_accuracy: 0.78 - ETA: 6:31 - loss: 0.0207 - categorical_accuracy: 0.78 - ETA: 6:31 - loss: 0.0206 - categorical_accuracy: 0.78 - ETA: 6:31 - loss: 0.0206 - categorical_accuracy: 0.78 - ETA: 6:31 - loss: 0.0207 - categorical_accuracy: 0.78 - ETA: 6:30 - loss: 0.0207 - categorical_accuracy: 0.78 - ETA: 6:30 - loss: 0.0207 - categorical_accuracy: 0.78 - ETA: 6:30 - loss: 0.0207 - categorical_accuracy: 0.78 - ETA: 6:29 - loss: 0.0207 - categorical_accuracy: 0.78 - ETA: 6:29 - loss: 0.0207 - categorical_accuracy: 0.78 - ETA: 6:28 - loss: 0.0207 - categorical_accuracy: 0.78 - ETA: 6:28 - loss: 0.0207 - categorical_accuracy: 0.78 - ETA: 6:28 - loss: 0.0206 - categorical_accuracy: 0.78 - ETA: 6:28 - loss: 0.0206 - categorical_accuracy: 0.78 - ETA: 6:27 - loss: 0.0206 - categorical_accuracy: 0.78 - ETA: 6:27 - loss: 0.0206 - categorical_accuracy: 0.78 - ETA: 6:27 - loss: 0.0206 - categorical_accuracy: 0.78 - ETA: 6:27 - loss: 0.0206 - categorical_accuracy: 0.78 - ETA: 6:27 - loss: 0.0206 - categorical_accuracy: 0.78 - ETA: 6:26 - loss: 0.0206 - categorical_accuracy: 0.78 - ETA: 6:26 - loss: 0.0206 - categorical_accuracy: 0.78 - ETA: 6:26 - loss: 0.0206 - categorical_accuracy: 0.78 - ETA: 6:26 - loss: 0.0206 - categorical_accuracy: 0.78 - ETA: 6:25 - loss: 0.0206 - categorical_accuracy: 0.78 - ETA: 6:25 - loss: 0.0206 - categorical_accuracy: 0.78 - ETA: 6:25 - loss: 0.0206 - categorical_accuracy: 0.78 - ETA: 6:25 - loss: 0.0206 - categorical_accuracy: 0.78 - ETA: 6:24 - loss: 0.0206 - categorical_accuracy: 0.78 - ETA: 6:24 - loss: 0.0206 - categorical_accuracy: 0.78 - ETA: 6:24 - loss: 0.0206 - categorical_accuracy: 0.78 - ETA: 6:23 - loss: 0.0206 - categorical_accuracy: 0.78 - ETA: 6:23 - loss: 0.0206 - categorical_accuracy: 0.78 - ETA: 6:23 - loss: 0.0206 - categorical_accuracy: 0.78 - ETA: 6:23 - loss: 0.0205 - categorical_accuracy: 0.78 - ETA: 6:22 - loss: 0.0205 - categorical_accuracy: 0.78 - ETA: 6:22 - loss: 0.0205 - categorical_accuracy: 0.78 - ETA: 6:22 - loss: 0.0205 - categorical_accuracy: 0.78 - ETA: 6:21 - loss: 0.0205 - categorical_accuracy: 0.78 - ETA: 6:21 - loss: 0.0205 - categorical_accuracy: 0.78 - ETA: 6:21 - loss: 0.0205 - categorical_accuracy: 0.78 - ETA: 6:21 - loss: 0.0205 - categorical_accuracy: 0.78 - ETA: 6:21 - loss: 0.0205 - categorical_accuracy: 0.78 - ETA: 6:21 - loss: 0.0205 - categorical_accuracy: 0.78 - ETA: 6:21 - loss: 0.0204 - categorical_accuracy: 0.78 - ETA: 6:21 - loss: 0.0204 - categorical_accuracy: 0.78 - ETA: 6:21 - loss: 0.0204 - categorical_accuracy: 0.78 - ETA: 6:20 - loss: 0.0204 - categorical_accuracy: 0.78 - ETA: 6:20 - loss: 0.0204 - categorical_accuracy: 0.7887"
     ]
    },
    {
     "name": "stdout",
     "output_type": "stream",
     "text": [
      "14016/38368 [=========>....................] - ETA: 6:20 - loss: 0.0204 - categorical_accuracy: 0.78 - ETA: 6:19 - loss: 0.0204 - categorical_accuracy: 0.78 - ETA: 6:19 - loss: 0.0204 - categorical_accuracy: 0.78 - ETA: 6:19 - loss: 0.0203 - categorical_accuracy: 0.78 - ETA: 6:19 - loss: 0.0203 - categorical_accuracy: 0.78 - ETA: 6:18 - loss: 0.0203 - categorical_accuracy: 0.78 - ETA: 6:18 - loss: 0.0203 - categorical_accuracy: 0.78 - ETA: 6:18 - loss: 0.0203 - categorical_accuracy: 0.78 - ETA: 6:18 - loss: 0.0203 - categorical_accuracy: 0.78 - ETA: 6:18 - loss: 0.0204 - categorical_accuracy: 0.78 - ETA: 6:18 - loss: 0.0204 - categorical_accuracy: 0.78 - ETA: 6:17 - loss: 0.0204 - categorical_accuracy: 0.78 - ETA: 6:17 - loss: 0.0204 - categorical_accuracy: 0.78 - ETA: 6:16 - loss: 0.0204 - categorical_accuracy: 0.78 - ETA: 6:16 - loss: 0.0204 - categorical_accuracy: 0.78 - ETA: 6:16 - loss: 0.0204 - categorical_accuracy: 0.78 - ETA: 6:15 - loss: 0.0204 - categorical_accuracy: 0.78 - ETA: 6:15 - loss: 0.0204 - categorical_accuracy: 0.78 - ETA: 6:14 - loss: 0.0204 - categorical_accuracy: 0.78 - ETA: 6:14 - loss: 0.0204 - categorical_accuracy: 0.78 - ETA: 6:13 - loss: 0.0204 - categorical_accuracy: 0.78 - ETA: 6:13 - loss: 0.0204 - categorical_accuracy: 0.78 - ETA: 6:13 - loss: 0.0204 - categorical_accuracy: 0.78 - ETA: 6:12 - loss: 0.0203 - categorical_accuracy: 0.78 - ETA: 6:11 - loss: 0.0204 - categorical_accuracy: 0.78 - ETA: 6:11 - loss: 0.0204 - categorical_accuracy: 0.78 - ETA: 6:10 - loss: 0.0204 - categorical_accuracy: 0.78 - ETA: 6:10 - loss: 0.0204 - categorical_accuracy: 0.78 - ETA: 6:09 - loss: 0.0204 - categorical_accuracy: 0.78 - ETA: 6:09 - loss: 0.0204 - categorical_accuracy: 0.78 - ETA: 6:08 - loss: 0.0204 - categorical_accuracy: 0.78 - ETA: 6:08 - loss: 0.0204 - categorical_accuracy: 0.78 - ETA: 6:07 - loss: 0.0204 - categorical_accuracy: 0.78 - ETA: 6:06 - loss: 0.0204 - categorical_accuracy: 0.78 - ETA: 6:06 - loss: 0.0204 - categorical_accuracy: 0.78 - ETA: 6:05 - loss: 0.0204 - categorical_accuracy: 0.78 - ETA: 6:05 - loss: 0.0204 - categorical_accuracy: 0.78 - ETA: 6:05 - loss: 0.0204 - categorical_accuracy: 0.78 - ETA: 6:04 - loss: 0.0204 - categorical_accuracy: 0.78 - ETA: 6:04 - loss: 0.0204 - categorical_accuracy: 0.78 - ETA: 6:03 - loss: 0.0204 - categorical_accuracy: 0.78 - ETA: 6:03 - loss: 0.0204 - categorical_accuracy: 0.78 - ETA: 6:02 - loss: 0.0204 - categorical_accuracy: 0.78 - ETA: 6:01 - loss: 0.0204 - categorical_accuracy: 0.78 - ETA: 6:01 - loss: 0.0204 - categorical_accuracy: 0.78 - ETA: 6:00 - loss: 0.0204 - categorical_accuracy: 0.78 - ETA: 6:00 - loss: 0.0203 - categorical_accuracy: 0.78 - ETA: 6:00 - loss: 0.0203 - categorical_accuracy: 0.78 - ETA: 5:59 - loss: 0.0203 - categorical_accuracy: 0.78 - ETA: 5:59 - loss: 0.0203 - categorical_accuracy: 0.78 - ETA: 5:58 - loss: 0.0203 - categorical_accuracy: 0.78 - ETA: 5:58 - loss: 0.0203 - categorical_accuracy: 0.78 - ETA: 5:57 - loss: 0.0204 - categorical_accuracy: 0.78 - ETA: 5:57 - loss: 0.0203 - categorical_accuracy: 0.78 - ETA: 5:56 - loss: 0.0203 - categorical_accuracy: 0.78 - ETA: 5:56 - loss: 0.0203 - categorical_accuracy: 0.78 - ETA: 5:55 - loss: 0.0204 - categorical_accuracy: 0.78 - ETA: 5:55 - loss: 0.0204 - categorical_accuracy: 0.78 - ETA: 5:54 - loss: 0.0204 - categorical_accuracy: 0.78 - ETA: 5:54 - loss: 0.0204 - categorical_accuracy: 0.78 - ETA: 5:54 - loss: 0.0204 - categorical_accuracy: 0.78 - ETA: 5:53 - loss: 0.0204 - categorical_accuracy: 0.78 - ETA: 5:53 - loss: 0.0204 - categorical_accuracy: 0.78 - ETA: 5:52 - loss: 0.0204 - categorical_accuracy: 0.78 - ETA: 5:52 - loss: 0.0203 - categorical_accuracy: 0.78 - ETA: 5:51 - loss: 0.0203 - categorical_accuracy: 0.78 - ETA: 5:51 - loss: 0.0203 - categorical_accuracy: 0.78 - ETA: 5:50 - loss: 0.0203 - categorical_accuracy: 0.78 - ETA: 5:50 - loss: 0.0203 - categorical_accuracy: 0.78 - ETA: 5:49 - loss: 0.0203 - categorical_accuracy: 0.78 - ETA: 5:49 - loss: 0.0203 - categorical_accuracy: 0.78 - ETA: 5:48 - loss: 0.0203 - categorical_accuracy: 0.78 - ETA: 5:48 - loss: 0.0203 - categorical_accuracy: 0.78 - ETA: 5:47 - loss: 0.0203 - categorical_accuracy: 0.78 - ETA: 5:47 - loss: 0.0203 - categorical_accuracy: 0.78 - ETA: 5:46 - loss: 0.0203 - categorical_accuracy: 0.78 - ETA: 5:46 - loss: 0.0203 - categorical_accuracy: 0.78 - ETA: 5:45 - loss: 0.0203 - categorical_accuracy: 0.78 - ETA: 5:45 - loss: 0.0203 - categorical_accuracy: 0.78 - ETA: 5:44 - loss: 0.0203 - categorical_accuracy: 0.78 - ETA: 5:44 - loss: 0.0203 - categorical_accuracy: 0.78 - ETA: 5:43 - loss: 0.0204 - categorical_accuracy: 0.78 - ETA: 5:43 - loss: 0.0203 - categorical_accuracy: 0.78 - ETA: 5:42 - loss: 0.0203 - categorical_accuracy: 0.78 - ETA: 5:42 - loss: 0.0203 - categorical_accuracy: 0.78 - ETA: 5:41 - loss: 0.0203 - categorical_accuracy: 0.78 - ETA: 5:41 - loss: 0.0203 - categorical_accuracy: 0.78 - ETA: 5:40 - loss: 0.0203 - categorical_accuracy: 0.78 - ETA: 5:40 - loss: 0.0202 - categorical_accuracy: 0.78 - ETA: 5:39 - loss: 0.0203 - categorical_accuracy: 0.78 - ETA: 5:39 - loss: 0.0203 - categorical_accuracy: 0.78 - ETA: 5:38 - loss: 0.0203 - categorical_accuracy: 0.78 - ETA: 5:37 - loss: 0.0203 - categorical_accuracy: 0.78 - ETA: 5:37 - loss: 0.0203 - categorical_accuracy: 0.78 - ETA: 5:36 - loss: 0.0203 - categorical_accuracy: 0.78 - ETA: 5:36 - loss: 0.0203 - categorical_accuracy: 0.78 - ETA: 5:36 - loss: 0.0203 - categorical_accuracy: 0.78 - ETA: 5:35 - loss: 0.0203 - categorical_accuracy: 0.78 - ETA: 5:35 - loss: 0.0203 - categorical_accuracy: 0.78 - ETA: 5:34 - loss: 0.0203 - categorical_accuracy: 0.78 - ETA: 5:34 - loss: 0.0203 - categorical_accuracy: 0.78 - ETA: 5:33 - loss: 0.0203 - categorical_accuracy: 0.78 - ETA: 5:33 - loss: 0.0203 - categorical_accuracy: 0.78 - ETA: 5:32 - loss: 0.0204 - categorical_accuracy: 0.78 - ETA: 5:32 - loss: 0.0204 - categorical_accuracy: 0.78 - ETA: 5:31 - loss: 0.0204 - categorical_accuracy: 0.78 - ETA: 5:30 - loss: 0.0204 - categorical_accuracy: 0.78 - ETA: 5:30 - loss: 0.0204 - categorical_accuracy: 0.78 - ETA: 5:29 - loss: 0.0204 - categorical_accuracy: 0.78 - ETA: 5:29 - loss: 0.0204 - categorical_accuracy: 0.78 - ETA: 5:28 - loss: 0.0204 - categorical_accuracy: 0.78 - ETA: 5:28 - loss: 0.0204 - categorical_accuracy: 0.78 - ETA: 5:27 - loss: 0.0204 - categorical_accuracy: 0.78 - ETA: 5:27 - loss: 0.0204 - categorical_accuracy: 0.78 - ETA: 5:27 - loss: 0.0204 - categorical_accuracy: 0.78 - ETA: 5:26 - loss: 0.0204 - categorical_accuracy: 0.78 - ETA: 5:26 - loss: 0.0204 - categorical_accuracy: 0.78 - ETA: 5:25 - loss: 0.0204 - categorical_accuracy: 0.78 - ETA: 5:25 - loss: 0.0204 - categorical_accuracy: 0.78 - ETA: 5:24 - loss: 0.0204 - categorical_accuracy: 0.78 - ETA: 5:24 - loss: 0.0204 - categorical_accuracy: 0.78 - ETA: 5:24 - loss: 0.0204 - categorical_accuracy: 0.78 - ETA: 5:23 - loss: 0.0204 - categorical_accuracy: 0.78 - ETA: 5:23 - loss: 0.0204 - categorical_accuracy: 0.78 - ETA: 5:22 - loss: 0.0204 - categorical_accuracy: 0.78 - ETA: 5:22 - loss: 0.0204 - categorical_accuracy: 0.78 - ETA: 5:21 - loss: 0.0204 - categorical_accuracy: 0.78 - ETA: 5:21 - loss: 0.0204 - categorical_accuracy: 0.78 - ETA: 5:20 - loss: 0.0204 - categorical_accuracy: 0.78 - ETA: 5:20 - loss: 0.0204 - categorical_accuracy: 0.78 - ETA: 5:19 - loss: 0.0204 - categorical_accuracy: 0.78 - ETA: 5:19 - loss: 0.0204 - categorical_accuracy: 0.78 - ETA: 5:18 - loss: 0.0204 - categorical_accuracy: 0.78 - ETA: 5:18 - loss: 0.0204 - categorical_accuracy: 0.78 - ETA: 5:17 - loss: 0.0204 - categorical_accuracy: 0.78 - ETA: 5:17 - loss: 0.0204 - categorical_accuracy: 0.78 - ETA: 5:16 - loss: 0.0204 - categorical_accuracy: 0.78 - ETA: 5:16 - loss: 0.0204 - categorical_accuracy: 0.78 - ETA: 5:15 - loss: 0.0204 - categorical_accuracy: 0.78 - ETA: 5:15 - loss: 0.0204 - categorical_accuracy: 0.78 - ETA: 5:14 - loss: 0.0204 - categorical_accuracy: 0.78 - ETA: 5:14 - loss: 0.0204 - categorical_accuracy: 0.78 - ETA: 5:14 - loss: 0.0203 - categorical_accuracy: 0.78 - ETA: 5:13 - loss: 0.0203 - categorical_accuracy: 0.78 - ETA: 5:13 - loss: 0.0204 - categorical_accuracy: 0.78 - ETA: 5:12 - loss: 0.0204 - categorical_accuracy: 0.7896"
     ]
    },
    {
     "name": "stdout",
     "output_type": "stream",
     "text": [
      "18688/38368 [=============>................] - ETA: 5:12 - loss: 0.0204 - categorical_accuracy: 0.78 - ETA: 5:11 - loss: 0.0204 - categorical_accuracy: 0.78 - ETA: 5:11 - loss: 0.0204 - categorical_accuracy: 0.78 - ETA: 5:11 - loss: 0.0204 - categorical_accuracy: 0.78 - ETA: 5:10 - loss: 0.0204 - categorical_accuracy: 0.78 - ETA: 5:10 - loss: 0.0204 - categorical_accuracy: 0.78 - ETA: 5:10 - loss: 0.0204 - categorical_accuracy: 0.78 - ETA: 5:09 - loss: 0.0204 - categorical_accuracy: 0.78 - ETA: 5:09 - loss: 0.0204 - categorical_accuracy: 0.78 - ETA: 5:08 - loss: 0.0204 - categorical_accuracy: 0.78 - ETA: 5:08 - loss: 0.0204 - categorical_accuracy: 0.78 - ETA: 5:07 - loss: 0.0204 - categorical_accuracy: 0.78 - ETA: 5:07 - loss: 0.0204 - categorical_accuracy: 0.78 - ETA: 5:06 - loss: 0.0204 - categorical_accuracy: 0.78 - ETA: 5:06 - loss: 0.0204 - categorical_accuracy: 0.78 - ETA: 5:05 - loss: 0.0205 - categorical_accuracy: 0.78 - ETA: 5:05 - loss: 0.0205 - categorical_accuracy: 0.78 - ETA: 5:05 - loss: 0.0205 - categorical_accuracy: 0.78 - ETA: 5:04 - loss: 0.0205 - categorical_accuracy: 0.78 - ETA: 5:04 - loss: 0.0205 - categorical_accuracy: 0.78 - ETA: 5:03 - loss: 0.0205 - categorical_accuracy: 0.78 - ETA: 5:03 - loss: 0.0204 - categorical_accuracy: 0.78 - ETA: 5:02 - loss: 0.0204 - categorical_accuracy: 0.78 - ETA: 5:02 - loss: 0.0204 - categorical_accuracy: 0.78 - ETA: 5:02 - loss: 0.0204 - categorical_accuracy: 0.78 - ETA: 5:01 - loss: 0.0204 - categorical_accuracy: 0.78 - ETA: 5:01 - loss: 0.0204 - categorical_accuracy: 0.78 - ETA: 5:01 - loss: 0.0204 - categorical_accuracy: 0.78 - ETA: 5:00 - loss: 0.0204 - categorical_accuracy: 0.78 - ETA: 5:00 - loss: 0.0204 - categorical_accuracy: 0.78 - ETA: 5:00 - loss: 0.0204 - categorical_accuracy: 0.78 - ETA: 5:00 - loss: 0.0204 - categorical_accuracy: 0.78 - ETA: 4:59 - loss: 0.0204 - categorical_accuracy: 0.78 - ETA: 4:59 - loss: 0.0204 - categorical_accuracy: 0.78 - ETA: 4:59 - loss: 0.0204 - categorical_accuracy: 0.78 - ETA: 4:59 - loss: 0.0204 - categorical_accuracy: 0.78 - ETA: 4:58 - loss: 0.0204 - categorical_accuracy: 0.78 - ETA: 4:58 - loss: 0.0204 - categorical_accuracy: 0.78 - ETA: 4:57 - loss: 0.0204 - categorical_accuracy: 0.78 - ETA: 4:57 - loss: 0.0204 - categorical_accuracy: 0.78 - ETA: 4:56 - loss: 0.0204 - categorical_accuracy: 0.78 - ETA: 4:56 - loss: 0.0204 - categorical_accuracy: 0.78 - ETA: 4:55 - loss: 0.0204 - categorical_accuracy: 0.78 - ETA: 4:55 - loss: 0.0204 - categorical_accuracy: 0.78 - ETA: 4:54 - loss: 0.0204 - categorical_accuracy: 0.78 - ETA: 4:54 - loss: 0.0204 - categorical_accuracy: 0.78 - ETA: 4:53 - loss: 0.0204 - categorical_accuracy: 0.78 - ETA: 4:53 - loss: 0.0204 - categorical_accuracy: 0.78 - ETA: 4:52 - loss: 0.0204 - categorical_accuracy: 0.78 - ETA: 4:52 - loss: 0.0204 - categorical_accuracy: 0.78 - ETA: 4:51 - loss: 0.0204 - categorical_accuracy: 0.78 - ETA: 4:51 - loss: 0.0204 - categorical_accuracy: 0.78 - ETA: 4:50 - loss: 0.0204 - categorical_accuracy: 0.78 - ETA: 4:50 - loss: 0.0204 - categorical_accuracy: 0.78 - ETA: 4:50 - loss: 0.0204 - categorical_accuracy: 0.78 - ETA: 4:49 - loss: 0.0203 - categorical_accuracy: 0.78 - ETA: 4:49 - loss: 0.0203 - categorical_accuracy: 0.78 - ETA: 4:48 - loss: 0.0203 - categorical_accuracy: 0.78 - ETA: 4:48 - loss: 0.0203 - categorical_accuracy: 0.78 - ETA: 4:47 - loss: 0.0203 - categorical_accuracy: 0.78 - ETA: 4:47 - loss: 0.0203 - categorical_accuracy: 0.78 - ETA: 4:46 - loss: 0.0203 - categorical_accuracy: 0.78 - ETA: 4:46 - loss: 0.0203 - categorical_accuracy: 0.78 - ETA: 4:45 - loss: 0.0203 - categorical_accuracy: 0.78 - ETA: 4:45 - loss: 0.0203 - categorical_accuracy: 0.78 - ETA: 4:44 - loss: 0.0203 - categorical_accuracy: 0.78 - ETA: 4:44 - loss: 0.0203 - categorical_accuracy: 0.78 - ETA: 4:44 - loss: 0.0203 - categorical_accuracy: 0.78 - ETA: 4:43 - loss: 0.0203 - categorical_accuracy: 0.78 - ETA: 4:43 - loss: 0.0203 - categorical_accuracy: 0.78 - ETA: 4:43 - loss: 0.0203 - categorical_accuracy: 0.78 - ETA: 4:42 - loss: 0.0203 - categorical_accuracy: 0.78 - ETA: 4:42 - loss: 0.0203 - categorical_accuracy: 0.78 - ETA: 4:41 - loss: 0.0203 - categorical_accuracy: 0.78 - ETA: 4:41 - loss: 0.0203 - categorical_accuracy: 0.78 - ETA: 4:40 - loss: 0.0203 - categorical_accuracy: 0.78 - ETA: 4:40 - loss: 0.0203 - categorical_accuracy: 0.78 - ETA: 4:39 - loss: 0.0203 - categorical_accuracy: 0.78 - ETA: 4:39 - loss: 0.0202 - categorical_accuracy: 0.78 - ETA: 4:38 - loss: 0.0202 - categorical_accuracy: 0.78 - ETA: 4:38 - loss: 0.0202 - categorical_accuracy: 0.78 - ETA: 4:38 - loss: 0.0202 - categorical_accuracy: 0.78 - ETA: 4:37 - loss: 0.0202 - categorical_accuracy: 0.78 - ETA: 4:37 - loss: 0.0202 - categorical_accuracy: 0.78 - ETA: 4:36 - loss: 0.0202 - categorical_accuracy: 0.78 - ETA: 4:36 - loss: 0.0202 - categorical_accuracy: 0.78 - ETA: 4:35 - loss: 0.0202 - categorical_accuracy: 0.78 - ETA: 4:35 - loss: 0.0202 - categorical_accuracy: 0.78 - ETA: 4:34 - loss: 0.0202 - categorical_accuracy: 0.78 - ETA: 4:34 - loss: 0.0202 - categorical_accuracy: 0.78 - ETA: 4:34 - loss: 0.0202 - categorical_accuracy: 0.78 - ETA: 4:33 - loss: 0.0202 - categorical_accuracy: 0.78 - ETA: 4:33 - loss: 0.0202 - categorical_accuracy: 0.78 - ETA: 4:32 - loss: 0.0202 - categorical_accuracy: 0.78 - ETA: 4:32 - loss: 0.0202 - categorical_accuracy: 0.78 - ETA: 4:31 - loss: 0.0202 - categorical_accuracy: 0.78 - ETA: 4:31 - loss: 0.0202 - categorical_accuracy: 0.78 - ETA: 4:31 - loss: 0.0202 - categorical_accuracy: 0.78 - ETA: 4:30 - loss: 0.0202 - categorical_accuracy: 0.78 - ETA: 4:30 - loss: 0.0203 - categorical_accuracy: 0.78 - ETA: 4:29 - loss: 0.0202 - categorical_accuracy: 0.78 - ETA: 4:29 - loss: 0.0203 - categorical_accuracy: 0.78 - ETA: 4:28 - loss: 0.0203 - categorical_accuracy: 0.78 - ETA: 4:28 - loss: 0.0203 - categorical_accuracy: 0.78 - ETA: 4:28 - loss: 0.0203 - categorical_accuracy: 0.78 - ETA: 4:27 - loss: 0.0203 - categorical_accuracy: 0.78 - ETA: 4:27 - loss: 0.0203 - categorical_accuracy: 0.78 - ETA: 4:26 - loss: 0.0203 - categorical_accuracy: 0.78 - ETA: 4:26 - loss: 0.0203 - categorical_accuracy: 0.78 - ETA: 4:26 - loss: 0.0203 - categorical_accuracy: 0.78 - ETA: 4:25 - loss: 0.0203 - categorical_accuracy: 0.78 - ETA: 4:25 - loss: 0.0203 - categorical_accuracy: 0.78 - ETA: 4:24 - loss: 0.0203 - categorical_accuracy: 0.78 - ETA: 4:24 - loss: 0.0203 - categorical_accuracy: 0.78 - ETA: 4:23 - loss: 0.0203 - categorical_accuracy: 0.78 - ETA: 4:23 - loss: 0.0203 - categorical_accuracy: 0.78 - ETA: 4:22 - loss: 0.0203 - categorical_accuracy: 0.78 - ETA: 4:22 - loss: 0.0203 - categorical_accuracy: 0.78 - ETA: 4:21 - loss: 0.0203 - categorical_accuracy: 0.78 - ETA: 4:21 - loss: 0.0203 - categorical_accuracy: 0.78 - ETA: 4:21 - loss: 0.0203 - categorical_accuracy: 0.78 - ETA: 4:20 - loss: 0.0203 - categorical_accuracy: 0.78 - ETA: 4:20 - loss: 0.0203 - categorical_accuracy: 0.78 - ETA: 4:19 - loss: 0.0203 - categorical_accuracy: 0.78 - ETA: 4:19 - loss: 0.0203 - categorical_accuracy: 0.78 - ETA: 4:18 - loss: 0.0203 - categorical_accuracy: 0.78 - ETA: 4:18 - loss: 0.0203 - categorical_accuracy: 0.78 - ETA: 4:18 - loss: 0.0203 - categorical_accuracy: 0.78 - ETA: 4:17 - loss: 0.0203 - categorical_accuracy: 0.78 - ETA: 4:17 - loss: 0.0203 - categorical_accuracy: 0.78 - ETA: 4:16 - loss: 0.0203 - categorical_accuracy: 0.78 - ETA: 4:16 - loss: 0.0203 - categorical_accuracy: 0.78 - ETA: 4:15 - loss: 0.0203 - categorical_accuracy: 0.78 - ETA: 4:15 - loss: 0.0203 - categorical_accuracy: 0.78 - ETA: 4:15 - loss: 0.0203 - categorical_accuracy: 0.78 - ETA: 4:14 - loss: 0.0203 - categorical_accuracy: 0.78 - ETA: 4:14 - loss: 0.0203 - categorical_accuracy: 0.78 - ETA: 4:13 - loss: 0.0203 - categorical_accuracy: 0.78 - ETA: 4:13 - loss: 0.0203 - categorical_accuracy: 0.78 - ETA: 4:12 - loss: 0.0203 - categorical_accuracy: 0.78 - ETA: 4:12 - loss: 0.0203 - categorical_accuracy: 0.78 - ETA: 4:12 - loss: 0.0203 - categorical_accuracy: 0.78 - ETA: 4:11 - loss: 0.0203 - categorical_accuracy: 0.78 - ETA: 4:11 - loss: 0.0203 - categorical_accuracy: 0.78 - ETA: 4:11 - loss: 0.0203 - categorical_accuracy: 0.78 - ETA: 4:10 - loss: 0.0203 - categorical_accuracy: 0.7897"
     ]
    },
    {
     "name": "stdout",
     "output_type": "stream",
     "text": [
      "23360/38368 [=================>............] - ETA: 4:10 - loss: 0.0203 - categorical_accuracy: 0.78 - ETA: 4:10 - loss: 0.0203 - categorical_accuracy: 0.78 - ETA: 4:09 - loss: 0.0203 - categorical_accuracy: 0.78 - ETA: 4:09 - loss: 0.0203 - categorical_accuracy: 0.78 - ETA: 4:09 - loss: 0.0203 - categorical_accuracy: 0.78 - ETA: 4:08 - loss: 0.0203 - categorical_accuracy: 0.78 - ETA: 4:08 - loss: 0.0203 - categorical_accuracy: 0.78 - ETA: 4:07 - loss: 0.0203 - categorical_accuracy: 0.78 - ETA: 4:07 - loss: 0.0203 - categorical_accuracy: 0.78 - ETA: 4:07 - loss: 0.0203 - categorical_accuracy: 0.78 - ETA: 4:06 - loss: 0.0203 - categorical_accuracy: 0.78 - ETA: 4:06 - loss: 0.0203 - categorical_accuracy: 0.78 - ETA: 4:05 - loss: 0.0203 - categorical_accuracy: 0.78 - ETA: 4:05 - loss: 0.0203 - categorical_accuracy: 0.78 - ETA: 4:05 - loss: 0.0203 - categorical_accuracy: 0.78 - ETA: 4:04 - loss: 0.0203 - categorical_accuracy: 0.78 - ETA: 4:04 - loss: 0.0203 - categorical_accuracy: 0.78 - ETA: 4:03 - loss: 0.0203 - categorical_accuracy: 0.78 - ETA: 4:03 - loss: 0.0203 - categorical_accuracy: 0.78 - ETA: 4:02 - loss: 0.0203 - categorical_accuracy: 0.78 - ETA: 4:02 - loss: 0.0203 - categorical_accuracy: 0.78 - ETA: 4:02 - loss: 0.0203 - categorical_accuracy: 0.78 - ETA: 4:01 - loss: 0.0203 - categorical_accuracy: 0.78 - ETA: 4:01 - loss: 0.0203 - categorical_accuracy: 0.78 - ETA: 4:00 - loss: 0.0203 - categorical_accuracy: 0.78 - ETA: 4:00 - loss: 0.0203 - categorical_accuracy: 0.78 - ETA: 4:00 - loss: 0.0203 - categorical_accuracy: 0.78 - ETA: 3:59 - loss: 0.0203 - categorical_accuracy: 0.78 - ETA: 3:59 - loss: 0.0203 - categorical_accuracy: 0.78 - ETA: 3:58 - loss: 0.0203 - categorical_accuracy: 0.78 - ETA: 3:58 - loss: 0.0203 - categorical_accuracy: 0.78 - ETA: 3:57 - loss: 0.0203 - categorical_accuracy: 0.78 - ETA: 3:57 - loss: 0.0203 - categorical_accuracy: 0.78 - ETA: 3:57 - loss: 0.0203 - categorical_accuracy: 0.78 - ETA: 3:56 - loss: 0.0203 - categorical_accuracy: 0.78 - ETA: 3:56 - loss: 0.0203 - categorical_accuracy: 0.78 - ETA: 3:55 - loss: 0.0203 - categorical_accuracy: 0.78 - ETA: 3:55 - loss: 0.0203 - categorical_accuracy: 0.78 - ETA: 3:55 - loss: 0.0203 - categorical_accuracy: 0.78 - ETA: 3:54 - loss: 0.0203 - categorical_accuracy: 0.78 - ETA: 3:54 - loss: 0.0203 - categorical_accuracy: 0.78 - ETA: 3:53 - loss: 0.0203 - categorical_accuracy: 0.78 - ETA: 3:53 - loss: 0.0203 - categorical_accuracy: 0.78 - ETA: 3:53 - loss: 0.0203 - categorical_accuracy: 0.78 - ETA: 3:52 - loss: 0.0203 - categorical_accuracy: 0.78 - ETA: 3:52 - loss: 0.0203 - categorical_accuracy: 0.78 - ETA: 3:52 - loss: 0.0203 - categorical_accuracy: 0.78 - ETA: 3:51 - loss: 0.0203 - categorical_accuracy: 0.78 - ETA: 3:51 - loss: 0.0203 - categorical_accuracy: 0.78 - ETA: 3:50 - loss: 0.0202 - categorical_accuracy: 0.78 - ETA: 3:50 - loss: 0.0202 - categorical_accuracy: 0.78 - ETA: 3:50 - loss: 0.0202 - categorical_accuracy: 0.78 - ETA: 3:49 - loss: 0.0202 - categorical_accuracy: 0.78 - ETA: 3:49 - loss: 0.0202 - categorical_accuracy: 0.78 - ETA: 3:48 - loss: 0.0202 - categorical_accuracy: 0.78 - ETA: 3:48 - loss: 0.0202 - categorical_accuracy: 0.78 - ETA: 3:48 - loss: 0.0202 - categorical_accuracy: 0.78 - ETA: 3:47 - loss: 0.0202 - categorical_accuracy: 0.78 - ETA: 3:47 - loss: 0.0202 - categorical_accuracy: 0.78 - ETA: 3:46 - loss: 0.0202 - categorical_accuracy: 0.78 - ETA: 3:46 - loss: 0.0202 - categorical_accuracy: 0.78 - ETA: 3:46 - loss: 0.0202 - categorical_accuracy: 0.78 - ETA: 3:45 - loss: 0.0202 - categorical_accuracy: 0.78 - ETA: 3:45 - loss: 0.0202 - categorical_accuracy: 0.78 - ETA: 3:44 - loss: 0.0202 - categorical_accuracy: 0.78 - ETA: 3:44 - loss: 0.0202 - categorical_accuracy: 0.78 - ETA: 3:44 - loss: 0.0202 - categorical_accuracy: 0.78 - ETA: 3:43 - loss: 0.0202 - categorical_accuracy: 0.78 - ETA: 3:43 - loss: 0.0202 - categorical_accuracy: 0.78 - ETA: 3:42 - loss: 0.0202 - categorical_accuracy: 0.78 - ETA: 3:42 - loss: 0.0202 - categorical_accuracy: 0.78 - ETA: 3:41 - loss: 0.0202 - categorical_accuracy: 0.78 - ETA: 3:41 - loss: 0.0202 - categorical_accuracy: 0.78 - ETA: 3:41 - loss: 0.0202 - categorical_accuracy: 0.78 - ETA: 3:40 - loss: 0.0202 - categorical_accuracy: 0.78 - ETA: 3:40 - loss: 0.0202 - categorical_accuracy: 0.78 - ETA: 3:39 - loss: 0.0202 - categorical_accuracy: 0.78 - ETA: 3:39 - loss: 0.0202 - categorical_accuracy: 0.78 - ETA: 3:39 - loss: 0.0202 - categorical_accuracy: 0.78 - ETA: 3:38 - loss: 0.0202 - categorical_accuracy: 0.78 - ETA: 3:38 - loss: 0.0202 - categorical_accuracy: 0.78 - ETA: 3:37 - loss: 0.0202 - categorical_accuracy: 0.78 - ETA: 3:37 - loss: 0.0203 - categorical_accuracy: 0.78 - ETA: 3:36 - loss: 0.0203 - categorical_accuracy: 0.78 - ETA: 3:36 - loss: 0.0202 - categorical_accuracy: 0.78 - ETA: 3:36 - loss: 0.0202 - categorical_accuracy: 0.78 - ETA: 3:35 - loss: 0.0202 - categorical_accuracy: 0.78 - ETA: 3:35 - loss: 0.0202 - categorical_accuracy: 0.78 - ETA: 3:34 - loss: 0.0202 - categorical_accuracy: 0.78 - ETA: 3:34 - loss: 0.0202 - categorical_accuracy: 0.78 - ETA: 3:33 - loss: 0.0203 - categorical_accuracy: 0.78 - ETA: 3:33 - loss: 0.0203 - categorical_accuracy: 0.78 - ETA: 3:33 - loss: 0.0203 - categorical_accuracy: 0.78 - ETA: 3:32 - loss: 0.0202 - categorical_accuracy: 0.78 - ETA: 3:32 - loss: 0.0203 - categorical_accuracy: 0.78 - ETA: 3:31 - loss: 0.0203 - categorical_accuracy: 0.78 - ETA: 3:31 - loss: 0.0203 - categorical_accuracy: 0.78 - ETA: 3:31 - loss: 0.0203 - categorical_accuracy: 0.78 - ETA: 3:30 - loss: 0.0203 - categorical_accuracy: 0.78 - ETA: 3:30 - loss: 0.0203 - categorical_accuracy: 0.78 - ETA: 3:29 - loss: 0.0203 - categorical_accuracy: 0.78 - ETA: 3:29 - loss: 0.0203 - categorical_accuracy: 0.78 - ETA: 3:29 - loss: 0.0203 - categorical_accuracy: 0.78 - ETA: 3:28 - loss: 0.0203 - categorical_accuracy: 0.78 - ETA: 3:28 - loss: 0.0203 - categorical_accuracy: 0.78 - ETA: 3:27 - loss: 0.0203 - categorical_accuracy: 0.78 - ETA: 3:27 - loss: 0.0202 - categorical_accuracy: 0.78 - ETA: 3:26 - loss: 0.0202 - categorical_accuracy: 0.78 - ETA: 3:26 - loss: 0.0202 - categorical_accuracy: 0.78 - ETA: 3:26 - loss: 0.0203 - categorical_accuracy: 0.78 - ETA: 3:25 - loss: 0.0203 - categorical_accuracy: 0.78 - ETA: 3:25 - loss: 0.0203 - categorical_accuracy: 0.78 - ETA: 3:24 - loss: 0.0203 - categorical_accuracy: 0.78 - ETA: 3:24 - loss: 0.0203 - categorical_accuracy: 0.78 - ETA: 3:24 - loss: 0.0203 - categorical_accuracy: 0.78 - ETA: 3:23 - loss: 0.0203 - categorical_accuracy: 0.78 - ETA: 3:23 - loss: 0.0203 - categorical_accuracy: 0.78 - ETA: 3:22 - loss: 0.0203 - categorical_accuracy: 0.78 - ETA: 3:22 - loss: 0.0203 - categorical_accuracy: 0.78 - ETA: 3:21 - loss: 0.0203 - categorical_accuracy: 0.78 - ETA: 3:21 - loss: 0.0203 - categorical_accuracy: 0.78 - ETA: 3:21 - loss: 0.0203 - categorical_accuracy: 0.78 - ETA: 3:20 - loss: 0.0203 - categorical_accuracy: 0.78 - ETA: 3:20 - loss: 0.0203 - categorical_accuracy: 0.78 - ETA: 3:20 - loss: 0.0203 - categorical_accuracy: 0.78 - ETA: 3:19 - loss: 0.0203 - categorical_accuracy: 0.78 - ETA: 3:19 - loss: 0.0203 - categorical_accuracy: 0.78 - ETA: 3:19 - loss: 0.0203 - categorical_accuracy: 0.78 - ETA: 3:18 - loss: 0.0203 - categorical_accuracy: 0.78 - ETA: 3:18 - loss: 0.0203 - categorical_accuracy: 0.78 - ETA: 3:17 - loss: 0.0203 - categorical_accuracy: 0.78 - ETA: 3:17 - loss: 0.0203 - categorical_accuracy: 0.78 - ETA: 3:17 - loss: 0.0203 - categorical_accuracy: 0.78 - ETA: 3:16 - loss: 0.0203 - categorical_accuracy: 0.78 - ETA: 3:16 - loss: 0.0203 - categorical_accuracy: 0.78 - ETA: 3:15 - loss: 0.0203 - categorical_accuracy: 0.78 - ETA: 3:15 - loss: 0.0203 - categorical_accuracy: 0.78 - ETA: 3:14 - loss: 0.0203 - categorical_accuracy: 0.78 - ETA: 3:14 - loss: 0.0203 - categorical_accuracy: 0.78 - ETA: 3:14 - loss: 0.0203 - categorical_accuracy: 0.78 - ETA: 3:13 - loss: 0.0203 - categorical_accuracy: 0.78 - ETA: 3:13 - loss: 0.0203 - categorical_accuracy: 0.78 - ETA: 3:12 - loss: 0.0203 - categorical_accuracy: 0.78 - ETA: 3:12 - loss: 0.0203 - categorical_accuracy: 0.78 - ETA: 3:12 - loss: 0.0203 - categorical_accuracy: 0.78 - ETA: 3:11 - loss: 0.0203 - categorical_accuracy: 0.7897"
     ]
    },
    {
     "name": "stdout",
     "output_type": "stream",
     "text": [
      "28032/38368 [====================>.........] - ETA: 3:11 - loss: 0.0203 - categorical_accuracy: 0.78 - ETA: 3:10 - loss: 0.0203 - categorical_accuracy: 0.78 - ETA: 3:10 - loss: 0.0203 - categorical_accuracy: 0.78 - ETA: 3:09 - loss: 0.0203 - categorical_accuracy: 0.78 - ETA: 3:09 - loss: 0.0203 - categorical_accuracy: 0.78 - ETA: 3:09 - loss: 0.0203 - categorical_accuracy: 0.78 - ETA: 3:08 - loss: 0.0203 - categorical_accuracy: 0.78 - ETA: 3:08 - loss: 0.0203 - categorical_accuracy: 0.78 - ETA: 3:07 - loss: 0.0203 - categorical_accuracy: 0.78 - ETA: 3:07 - loss: 0.0203 - categorical_accuracy: 0.78 - ETA: 3:07 - loss: 0.0203 - categorical_accuracy: 0.78 - ETA: 3:06 - loss: 0.0203 - categorical_accuracy: 0.78 - ETA: 3:06 - loss: 0.0203 - categorical_accuracy: 0.78 - ETA: 3:05 - loss: 0.0203 - categorical_accuracy: 0.78 - ETA: 3:05 - loss: 0.0203 - categorical_accuracy: 0.78 - ETA: 3:05 - loss: 0.0203 - categorical_accuracy: 0.78 - ETA: 3:04 - loss: 0.0203 - categorical_accuracy: 0.78 - ETA: 3:04 - loss: 0.0203 - categorical_accuracy: 0.78 - ETA: 3:04 - loss: 0.0203 - categorical_accuracy: 0.78 - ETA: 3:03 - loss: 0.0203 - categorical_accuracy: 0.78 - ETA: 3:03 - loss: 0.0203 - categorical_accuracy: 0.78 - ETA: 3:03 - loss: 0.0203 - categorical_accuracy: 0.78 - ETA: 3:02 - loss: 0.0203 - categorical_accuracy: 0.78 - ETA: 3:02 - loss: 0.0203 - categorical_accuracy: 0.78 - ETA: 3:01 - loss: 0.0203 - categorical_accuracy: 0.78 - ETA: 3:01 - loss: 0.0203 - categorical_accuracy: 0.78 - ETA: 3:01 - loss: 0.0203 - categorical_accuracy: 0.78 - ETA: 3:00 - loss: 0.0203 - categorical_accuracy: 0.78 - ETA: 3:00 - loss: 0.0203 - categorical_accuracy: 0.78 - ETA: 2:59 - loss: 0.0203 - categorical_accuracy: 0.78 - ETA: 2:59 - loss: 0.0203 - categorical_accuracy: 0.78 - ETA: 2:59 - loss: 0.0203 - categorical_accuracy: 0.78 - ETA: 2:58 - loss: 0.0203 - categorical_accuracy: 0.78 - ETA: 2:58 - loss: 0.0203 - categorical_accuracy: 0.78 - ETA: 2:57 - loss: 0.0203 - categorical_accuracy: 0.78 - ETA: 2:57 - loss: 0.0203 - categorical_accuracy: 0.78 - ETA: 2:57 - loss: 0.0203 - categorical_accuracy: 0.78 - ETA: 2:56 - loss: 0.0203 - categorical_accuracy: 0.78 - ETA: 2:56 - loss: 0.0203 - categorical_accuracy: 0.78 - ETA: 2:55 - loss: 0.0203 - categorical_accuracy: 0.78 - ETA: 2:55 - loss: 0.0203 - categorical_accuracy: 0.78 - ETA: 2:55 - loss: 0.0203 - categorical_accuracy: 0.78 - ETA: 2:54 - loss: 0.0203 - categorical_accuracy: 0.78 - ETA: 2:54 - loss: 0.0203 - categorical_accuracy: 0.78 - ETA: 2:53 - loss: 0.0203 - categorical_accuracy: 0.78 - ETA: 2:53 - loss: 0.0203 - categorical_accuracy: 0.78 - ETA: 2:53 - loss: 0.0203 - categorical_accuracy: 0.78 - ETA: 2:52 - loss: 0.0203 - categorical_accuracy: 0.78 - ETA: 2:52 - loss: 0.0203 - categorical_accuracy: 0.78 - ETA: 2:51 - loss: 0.0203 - categorical_accuracy: 0.78 - ETA: 2:51 - loss: 0.0203 - categorical_accuracy: 0.78 - ETA: 2:51 - loss: 0.0203 - categorical_accuracy: 0.78 - ETA: 2:50 - loss: 0.0203 - categorical_accuracy: 0.78 - ETA: 2:50 - loss: 0.0203 - categorical_accuracy: 0.78 - ETA: 2:50 - loss: 0.0203 - categorical_accuracy: 0.78 - ETA: 2:49 - loss: 0.0203 - categorical_accuracy: 0.78 - ETA: 2:49 - loss: 0.0203 - categorical_accuracy: 0.78 - ETA: 2:48 - loss: 0.0203 - categorical_accuracy: 0.78 - ETA: 2:48 - loss: 0.0203 - categorical_accuracy: 0.78 - ETA: 2:48 - loss: 0.0203 - categorical_accuracy: 0.78 - ETA: 2:47 - loss: 0.0203 - categorical_accuracy: 0.78 - ETA: 2:47 - loss: 0.0203 - categorical_accuracy: 0.78 - ETA: 2:47 - loss: 0.0203 - categorical_accuracy: 0.78 - ETA: 2:46 - loss: 0.0203 - categorical_accuracy: 0.78 - ETA: 2:46 - loss: 0.0203 - categorical_accuracy: 0.78 - ETA: 2:45 - loss: 0.0203 - categorical_accuracy: 0.78 - ETA: 2:45 - loss: 0.0203 - categorical_accuracy: 0.78 - ETA: 2:45 - loss: 0.0203 - categorical_accuracy: 0.78 - ETA: 2:44 - loss: 0.0203 - categorical_accuracy: 0.78 - ETA: 2:44 - loss: 0.0202 - categorical_accuracy: 0.78 - ETA: 2:43 - loss: 0.0202 - categorical_accuracy: 0.78 - ETA: 2:43 - loss: 0.0202 - categorical_accuracy: 0.78 - ETA: 2:43 - loss: 0.0203 - categorical_accuracy: 0.78 - ETA: 2:42 - loss: 0.0203 - categorical_accuracy: 0.78 - ETA: 2:42 - loss: 0.0203 - categorical_accuracy: 0.78 - ETA: 2:41 - loss: 0.0203 - categorical_accuracy: 0.78 - ETA: 2:41 - loss: 0.0203 - categorical_accuracy: 0.78 - ETA: 2:41 - loss: 0.0203 - categorical_accuracy: 0.78 - ETA: 2:40 - loss: 0.0203 - categorical_accuracy: 0.78 - ETA: 2:40 - loss: 0.0203 - categorical_accuracy: 0.78 - ETA: 2:39 - loss: 0.0203 - categorical_accuracy: 0.78 - ETA: 2:39 - loss: 0.0203 - categorical_accuracy: 0.78 - ETA: 2:39 - loss: 0.0203 - categorical_accuracy: 0.78 - ETA: 2:38 - loss: 0.0203 - categorical_accuracy: 0.78 - ETA: 2:38 - loss: 0.0203 - categorical_accuracy: 0.78 - ETA: 2:37 - loss: 0.0203 - categorical_accuracy: 0.78 - ETA: 2:37 - loss: 0.0203 - categorical_accuracy: 0.78 - ETA: 2:37 - loss: 0.0203 - categorical_accuracy: 0.78 - ETA: 2:36 - loss: 0.0203 - categorical_accuracy: 0.78 - ETA: 2:36 - loss: 0.0203 - categorical_accuracy: 0.78 - ETA: 2:35 - loss: 0.0203 - categorical_accuracy: 0.78 - ETA: 2:35 - loss: 0.0203 - categorical_accuracy: 0.78 - ETA: 2:35 - loss: 0.0203 - categorical_accuracy: 0.78 - ETA: 2:34 - loss: 0.0203 - categorical_accuracy: 0.78 - ETA: 2:34 - loss: 0.0203 - categorical_accuracy: 0.78 - ETA: 2:34 - loss: 0.0203 - categorical_accuracy: 0.78 - ETA: 2:33 - loss: 0.0203 - categorical_accuracy: 0.78 - ETA: 2:33 - loss: 0.0203 - categorical_accuracy: 0.78 - ETA: 2:32 - loss: 0.0203 - categorical_accuracy: 0.78 - ETA: 2:32 - loss: 0.0203 - categorical_accuracy: 0.78 - ETA: 2:32 - loss: 0.0203 - categorical_accuracy: 0.78 - ETA: 2:31 - loss: 0.0203 - categorical_accuracy: 0.78 - ETA: 2:31 - loss: 0.0203 - categorical_accuracy: 0.78 - ETA: 2:30 - loss: 0.0203 - categorical_accuracy: 0.78 - ETA: 2:30 - loss: 0.0203 - categorical_accuracy: 0.78 - ETA: 2:29 - loss: 0.0203 - categorical_accuracy: 0.78 - ETA: 2:29 - loss: 0.0203 - categorical_accuracy: 0.78 - ETA: 2:29 - loss: 0.0203 - categorical_accuracy: 0.78 - ETA: 2:28 - loss: 0.0203 - categorical_accuracy: 0.78 - ETA: 2:28 - loss: 0.0203 - categorical_accuracy: 0.78 - ETA: 2:27 - loss: 0.0203 - categorical_accuracy: 0.78 - ETA: 2:27 - loss: 0.0203 - categorical_accuracy: 0.78 - ETA: 2:27 - loss: 0.0203 - categorical_accuracy: 0.78 - ETA: 2:26 - loss: 0.0203 - categorical_accuracy: 0.78 - ETA: 2:26 - loss: 0.0203 - categorical_accuracy: 0.78 - ETA: 2:25 - loss: 0.0203 - categorical_accuracy: 0.78 - ETA: 2:25 - loss: 0.0203 - categorical_accuracy: 0.78 - ETA: 2:25 - loss: 0.0203 - categorical_accuracy: 0.78 - ETA: 2:24 - loss: 0.0203 - categorical_accuracy: 0.78 - ETA: 2:24 - loss: 0.0203 - categorical_accuracy: 0.78 - ETA: 2:23 - loss: 0.0203 - categorical_accuracy: 0.78 - ETA: 2:23 - loss: 0.0203 - categorical_accuracy: 0.78 - ETA: 2:23 - loss: 0.0203 - categorical_accuracy: 0.78 - ETA: 2:22 - loss: 0.0203 - categorical_accuracy: 0.78 - ETA: 2:22 - loss: 0.0203 - categorical_accuracy: 0.78 - ETA: 2:21 - loss: 0.0203 - categorical_accuracy: 0.78 - ETA: 2:21 - loss: 0.0203 - categorical_accuracy: 0.78 - ETA: 2:21 - loss: 0.0203 - categorical_accuracy: 0.78 - ETA: 2:20 - loss: 0.0203 - categorical_accuracy: 0.78 - ETA: 2:20 - loss: 0.0203 - categorical_accuracy: 0.78 - ETA: 2:19 - loss: 0.0203 - categorical_accuracy: 0.78 - ETA: 2:19 - loss: 0.0203 - categorical_accuracy: 0.78 - ETA: 2:19 - loss: 0.0203 - categorical_accuracy: 0.78 - ETA: 2:18 - loss: 0.0203 - categorical_accuracy: 0.78 - ETA: 2:18 - loss: 0.0203 - categorical_accuracy: 0.78 - ETA: 2:17 - loss: 0.0203 - categorical_accuracy: 0.78 - ETA: 2:17 - loss: 0.0203 - categorical_accuracy: 0.78 - ETA: 2:16 - loss: 0.0203 - categorical_accuracy: 0.78 - ETA: 2:16 - loss: 0.0203 - categorical_accuracy: 0.78 - ETA: 2:16 - loss: 0.0203 - categorical_accuracy: 0.78 - ETA: 2:15 - loss: 0.0203 - categorical_accuracy: 0.78 - ETA: 2:15 - loss: 0.0203 - categorical_accuracy: 0.78 - ETA: 2:14 - loss: 0.0203 - categorical_accuracy: 0.78 - ETA: 2:14 - loss: 0.0203 - categorical_accuracy: 0.78 - ETA: 2:14 - loss: 0.0203 - categorical_accuracy: 0.78 - ETA: 2:13 - loss: 0.0203 - categorical_accuracy: 0.7897"
     ]
    },
    {
     "name": "stdout",
     "output_type": "stream",
     "text": [
      "32704/38368 [========================>.....] - ETA: 2:13 - loss: 0.0203 - categorical_accuracy: 0.78 - ETA: 2:12 - loss: 0.0203 - categorical_accuracy: 0.78 - ETA: 2:12 - loss: 0.0203 - categorical_accuracy: 0.78 - ETA: 2:11 - loss: 0.0203 - categorical_accuracy: 0.78 - ETA: 2:11 - loss: 0.0203 - categorical_accuracy: 0.78 - ETA: 2:11 - loss: 0.0203 - categorical_accuracy: 0.78 - ETA: 2:10 - loss: 0.0204 - categorical_accuracy: 0.78 - ETA: 2:10 - loss: 0.0204 - categorical_accuracy: 0.78 - ETA: 2:09 - loss: 0.0204 - categorical_accuracy: 0.78 - ETA: 2:09 - loss: 0.0204 - categorical_accuracy: 0.78 - ETA: 2:09 - loss: 0.0204 - categorical_accuracy: 0.78 - ETA: 2:08 - loss: 0.0204 - categorical_accuracy: 0.78 - ETA: 2:08 - loss: 0.0204 - categorical_accuracy: 0.78 - ETA: 2:07 - loss: 0.0204 - categorical_accuracy: 0.78 - ETA: 2:07 - loss: 0.0204 - categorical_accuracy: 0.78 - ETA: 2:06 - loss: 0.0204 - categorical_accuracy: 0.78 - ETA: 2:06 - loss: 0.0204 - categorical_accuracy: 0.78 - ETA: 2:06 - loss: 0.0204 - categorical_accuracy: 0.78 - ETA: 2:05 - loss: 0.0204 - categorical_accuracy: 0.78 - ETA: 2:05 - loss: 0.0204 - categorical_accuracy: 0.78 - ETA: 2:04 - loss: 0.0204 - categorical_accuracy: 0.78 - ETA: 2:04 - loss: 0.0204 - categorical_accuracy: 0.78 - ETA: 2:04 - loss: 0.0204 - categorical_accuracy: 0.78 - ETA: 2:03 - loss: 0.0204 - categorical_accuracy: 0.78 - ETA: 2:03 - loss: 0.0204 - categorical_accuracy: 0.78 - ETA: 2:02 - loss: 0.0204 - categorical_accuracy: 0.78 - ETA: 2:02 - loss: 0.0204 - categorical_accuracy: 0.78 - ETA: 2:01 - loss: 0.0205 - categorical_accuracy: 0.78 - ETA: 2:01 - loss: 0.0205 - categorical_accuracy: 0.78 - ETA: 2:01 - loss: 0.0205 - categorical_accuracy: 0.78 - ETA: 2:00 - loss: 0.0205 - categorical_accuracy: 0.78 - ETA: 2:00 - loss: 0.0205 - categorical_accuracy: 0.78 - ETA: 1:59 - loss: 0.0204 - categorical_accuracy: 0.78 - ETA: 1:59 - loss: 0.0205 - categorical_accuracy: 0.78 - ETA: 1:59 - loss: 0.0205 - categorical_accuracy: 0.78 - ETA: 1:58 - loss: 0.0205 - categorical_accuracy: 0.78 - ETA: 1:58 - loss: 0.0205 - categorical_accuracy: 0.78 - ETA: 1:57 - loss: 0.0205 - categorical_accuracy: 0.78 - ETA: 1:57 - loss: 0.0204 - categorical_accuracy: 0.78 - ETA: 1:56 - loss: 0.0204 - categorical_accuracy: 0.78 - ETA: 1:56 - loss: 0.0204 - categorical_accuracy: 0.78 - ETA: 1:56 - loss: 0.0205 - categorical_accuracy: 0.78 - ETA: 1:55 - loss: 0.0205 - categorical_accuracy: 0.78 - ETA: 1:55 - loss: 0.0205 - categorical_accuracy: 0.78 - ETA: 1:54 - loss: 0.0205 - categorical_accuracy: 0.78 - ETA: 1:54 - loss: 0.0205 - categorical_accuracy: 0.78 - ETA: 1:53 - loss: 0.0205 - categorical_accuracy: 0.78 - ETA: 1:53 - loss: 0.0205 - categorical_accuracy: 0.78 - ETA: 1:53 - loss: 0.0205 - categorical_accuracy: 0.78 - ETA: 1:52 - loss: 0.0205 - categorical_accuracy: 0.78 - ETA: 1:52 - loss: 0.0205 - categorical_accuracy: 0.78 - ETA: 1:51 - loss: 0.0205 - categorical_accuracy: 0.78 - ETA: 1:51 - loss: 0.0205 - categorical_accuracy: 0.78 - ETA: 1:51 - loss: 0.0205 - categorical_accuracy: 0.78 - ETA: 1:50 - loss: 0.0205 - categorical_accuracy: 0.78 - ETA: 1:50 - loss: 0.0205 - categorical_accuracy: 0.78 - ETA: 1:49 - loss: 0.0205 - categorical_accuracy: 0.78 - ETA: 1:49 - loss: 0.0205 - categorical_accuracy: 0.78 - ETA: 1:49 - loss: 0.0205 - categorical_accuracy: 0.78 - ETA: 1:48 - loss: 0.0205 - categorical_accuracy: 0.78 - ETA: 1:48 - loss: 0.0205 - categorical_accuracy: 0.78 - ETA: 1:47 - loss: 0.0205 - categorical_accuracy: 0.78 - ETA: 1:47 - loss: 0.0205 - categorical_accuracy: 0.78 - ETA: 1:46 - loss: 0.0205 - categorical_accuracy: 0.78 - ETA: 1:46 - loss: 0.0205 - categorical_accuracy: 0.78 - ETA: 1:46 - loss: 0.0205 - categorical_accuracy: 0.78 - ETA: 1:45 - loss: 0.0205 - categorical_accuracy: 0.78 - ETA: 1:45 - loss: 0.0205 - categorical_accuracy: 0.78 - ETA: 1:44 - loss: 0.0205 - categorical_accuracy: 0.78 - ETA: 1:44 - loss: 0.0205 - categorical_accuracy: 0.78 - ETA: 1:44 - loss: 0.0205 - categorical_accuracy: 0.78 - ETA: 1:43 - loss: 0.0205 - categorical_accuracy: 0.78 - ETA: 1:43 - loss: 0.0205 - categorical_accuracy: 0.78 - ETA: 1:42 - loss: 0.0205 - categorical_accuracy: 0.78 - ETA: 1:42 - loss: 0.0205 - categorical_accuracy: 0.78 - ETA: 1:42 - loss: 0.0205 - categorical_accuracy: 0.78 - ETA: 1:41 - loss: 0.0205 - categorical_accuracy: 0.78 - ETA: 1:41 - loss: 0.0205 - categorical_accuracy: 0.78 - ETA: 1:40 - loss: 0.0205 - categorical_accuracy: 0.78 - ETA: 1:40 - loss: 0.0205 - categorical_accuracy: 0.78 - ETA: 1:39 - loss: 0.0205 - categorical_accuracy: 0.78 - ETA: 1:39 - loss: 0.0205 - categorical_accuracy: 0.78 - ETA: 1:39 - loss: 0.0205 - categorical_accuracy: 0.78 - ETA: 1:38 - loss: 0.0205 - categorical_accuracy: 0.78 - ETA: 1:38 - loss: 0.0205 - categorical_accuracy: 0.78 - ETA: 1:37 - loss: 0.0205 - categorical_accuracy: 0.78 - ETA: 1:37 - loss: 0.0205 - categorical_accuracy: 0.78 - ETA: 1:37 - loss: 0.0205 - categorical_accuracy: 0.78 - ETA: 1:36 - loss: 0.0205 - categorical_accuracy: 0.78 - ETA: 1:36 - loss: 0.0205 - categorical_accuracy: 0.78 - ETA: 1:35 - loss: 0.0205 - categorical_accuracy: 0.78 - ETA: 1:35 - loss: 0.0205 - categorical_accuracy: 0.78 - ETA: 1:34 - loss: 0.0205 - categorical_accuracy: 0.78 - ETA: 1:34 - loss: 0.0205 - categorical_accuracy: 0.78 - ETA: 1:34 - loss: 0.0205 - categorical_accuracy: 0.78 - ETA: 1:33 - loss: 0.0205 - categorical_accuracy: 0.78 - ETA: 1:33 - loss: 0.0205 - categorical_accuracy: 0.78 - ETA: 1:32 - loss: 0.0205 - categorical_accuracy: 0.78 - ETA: 1:32 - loss: 0.0205 - categorical_accuracy: 0.78 - ETA: 1:31 - loss: 0.0205 - categorical_accuracy: 0.78 - ETA: 1:31 - loss: 0.0205 - categorical_accuracy: 0.78 - ETA: 1:31 - loss: 0.0205 - categorical_accuracy: 0.78 - ETA: 1:30 - loss: 0.0205 - categorical_accuracy: 0.78 - ETA: 1:30 - loss: 0.0205 - categorical_accuracy: 0.78 - ETA: 1:29 - loss: 0.0205 - categorical_accuracy: 0.78 - ETA: 1:29 - loss: 0.0205 - categorical_accuracy: 0.78 - ETA: 1:29 - loss: 0.0205 - categorical_accuracy: 0.78 - ETA: 1:28 - loss: 0.0205 - categorical_accuracy: 0.78 - ETA: 1:28 - loss: 0.0205 - categorical_accuracy: 0.78 - ETA: 1:27 - loss: 0.0206 - categorical_accuracy: 0.78 - ETA: 1:27 - loss: 0.0206 - categorical_accuracy: 0.78 - ETA: 1:26 - loss: 0.0206 - categorical_accuracy: 0.78 - ETA: 1:26 - loss: 0.0206 - categorical_accuracy: 0.78 - ETA: 1:26 - loss: 0.0206 - categorical_accuracy: 0.78 - ETA: 1:25 - loss: 0.0205 - categorical_accuracy: 0.78 - ETA: 1:25 - loss: 0.0206 - categorical_accuracy: 0.78 - ETA: 1:24 - loss: 0.0206 - categorical_accuracy: 0.78 - ETA: 1:24 - loss: 0.0206 - categorical_accuracy: 0.78 - ETA: 1:24 - loss: 0.0206 - categorical_accuracy: 0.78 - ETA: 1:23 - loss: 0.0205 - categorical_accuracy: 0.78 - ETA: 1:23 - loss: 0.0206 - categorical_accuracy: 0.78 - ETA: 1:22 - loss: 0.0206 - categorical_accuracy: 0.78 - ETA: 1:22 - loss: 0.0206 - categorical_accuracy: 0.78 - ETA: 1:21 - loss: 0.0206 - categorical_accuracy: 0.78 - ETA: 1:21 - loss: 0.0206 - categorical_accuracy: 0.78 - ETA: 1:21 - loss: 0.0206 - categorical_accuracy: 0.78 - ETA: 1:20 - loss: 0.0206 - categorical_accuracy: 0.78 - ETA: 1:20 - loss: 0.0206 - categorical_accuracy: 0.78 - ETA: 1:19 - loss: 0.0206 - categorical_accuracy: 0.78 - ETA: 1:19 - loss: 0.0206 - categorical_accuracy: 0.78 - ETA: 1:19 - loss: 0.0206 - categorical_accuracy: 0.78 - ETA: 1:18 - loss: 0.0206 - categorical_accuracy: 0.78 - ETA: 1:18 - loss: 0.0206 - categorical_accuracy: 0.78 - ETA: 1:17 - loss: 0.0206 - categorical_accuracy: 0.78 - ETA: 1:17 - loss: 0.0206 - categorical_accuracy: 0.78 - ETA: 1:17 - loss: 0.0206 - categorical_accuracy: 0.78 - ETA: 1:16 - loss: 0.0206 - categorical_accuracy: 0.78 - ETA: 1:16 - loss: 0.0206 - categorical_accuracy: 0.78 - ETA: 1:15 - loss: 0.0205 - categorical_accuracy: 0.78 - ETA: 1:15 - loss: 0.0205 - categorical_accuracy: 0.78 - ETA: 1:14 - loss: 0.0205 - categorical_accuracy: 0.78 - ETA: 1:14 - loss: 0.0205 - categorical_accuracy: 0.78 - ETA: 1:14 - loss: 0.0205 - categorical_accuracy: 0.78 - ETA: 1:13 - loss: 0.0205 - categorical_accuracy: 0.78 - ETA: 1:13 - loss: 0.0205 - categorical_accuracy: 0.78 - ETA: 1:12 - loss: 0.0205 - categorical_accuracy: 0.7896"
     ]
    },
    {
     "name": "stdout",
     "output_type": "stream",
     "text": [
      "37376/38368 [============================>.] - ETA: 1:12 - loss: 0.0205 - categorical_accuracy: 0.78 - ETA: 1:12 - loss: 0.0205 - categorical_accuracy: 0.78 - ETA: 1:11 - loss: 0.0205 - categorical_accuracy: 0.78 - ETA: 1:11 - loss: 0.0205 - categorical_accuracy: 0.78 - ETA: 1:10 - loss: 0.0205 - categorical_accuracy: 0.78 - ETA: 1:10 - loss: 0.0206 - categorical_accuracy: 0.78 - ETA: 1:09 - loss: 0.0206 - categorical_accuracy: 0.78 - ETA: 1:09 - loss: 0.0206 - categorical_accuracy: 0.78 - ETA: 1:09 - loss: 0.0206 - categorical_accuracy: 0.78 - ETA: 1:08 - loss: 0.0206 - categorical_accuracy: 0.78 - ETA: 1:08 - loss: 0.0206 - categorical_accuracy: 0.78 - ETA: 1:07 - loss: 0.0206 - categorical_accuracy: 0.78 - ETA: 1:07 - loss: 0.0206 - categorical_accuracy: 0.78 - ETA: 1:07 - loss: 0.0206 - categorical_accuracy: 0.78 - ETA: 1:06 - loss: 0.0206 - categorical_accuracy: 0.78 - ETA: 1:06 - loss: 0.0206 - categorical_accuracy: 0.78 - ETA: 1:05 - loss: 0.0206 - categorical_accuracy: 0.78 - ETA: 1:05 - loss: 0.0206 - categorical_accuracy: 0.78 - ETA: 1:05 - loss: 0.0206 - categorical_accuracy: 0.78 - ETA: 1:04 - loss: 0.0206 - categorical_accuracy: 0.78 - ETA: 1:04 - loss: 0.0206 - categorical_accuracy: 0.78 - ETA: 1:03 - loss: 0.0206 - categorical_accuracy: 0.78 - ETA: 1:03 - loss: 0.0206 - categorical_accuracy: 0.78 - ETA: 1:03 - loss: 0.0206 - categorical_accuracy: 0.78 - ETA: 1:02 - loss: 0.0206 - categorical_accuracy: 0.78 - ETA: 1:02 - loss: 0.0206 - categorical_accuracy: 0.78 - ETA: 1:01 - loss: 0.0206 - categorical_accuracy: 0.78 - ETA: 1:01 - loss: 0.0206 - categorical_accuracy: 0.78 - ETA: 1:01 - loss: 0.0206 - categorical_accuracy: 0.78 - ETA: 1:00 - loss: 0.0206 - categorical_accuracy: 0.78 - ETA: 1:00 - loss: 0.0206 - categorical_accuracy: 0.78 - ETA: 59s - loss: 0.0206 - categorical_accuracy: 0.7896 - ETA: 59s - loss: 0.0206 - categorical_accuracy: 0.789 - ETA: 58s - loss: 0.0206 - categorical_accuracy: 0.789 - ETA: 58s - loss: 0.0206 - categorical_accuracy: 0.789 - ETA: 58s - loss: 0.0206 - categorical_accuracy: 0.789 - ETA: 57s - loss: 0.0206 - categorical_accuracy: 0.789 - ETA: 57s - loss: 0.0206 - categorical_accuracy: 0.789 - ETA: 56s - loss: 0.0206 - categorical_accuracy: 0.789 - ETA: 56s - loss: 0.0206 - categorical_accuracy: 0.789 - ETA: 56s - loss: 0.0206 - categorical_accuracy: 0.789 - ETA: 55s - loss: 0.0206 - categorical_accuracy: 0.789 - ETA: 55s - loss: 0.0206 - categorical_accuracy: 0.789 - ETA: 54s - loss: 0.0206 - categorical_accuracy: 0.789 - ETA: 54s - loss: 0.0206 - categorical_accuracy: 0.789 - ETA: 54s - loss: 0.0206 - categorical_accuracy: 0.789 - ETA: 53s - loss: 0.0206 - categorical_accuracy: 0.789 - ETA: 53s - loss: 0.0206 - categorical_accuracy: 0.789 - ETA: 52s - loss: 0.0206 - categorical_accuracy: 0.789 - ETA: 52s - loss: 0.0206 - categorical_accuracy: 0.789 - ETA: 52s - loss: 0.0206 - categorical_accuracy: 0.789 - ETA: 51s - loss: 0.0206 - categorical_accuracy: 0.789 - ETA: 51s - loss: 0.0206 - categorical_accuracy: 0.789 - ETA: 50s - loss: 0.0206 - categorical_accuracy: 0.789 - ETA: 50s - loss: 0.0206 - categorical_accuracy: 0.789 - ETA: 49s - loss: 0.0206 - categorical_accuracy: 0.789 - ETA: 49s - loss: 0.0206 - categorical_accuracy: 0.789 - ETA: 49s - loss: 0.0206 - categorical_accuracy: 0.789 - ETA: 48s - loss: 0.0206 - categorical_accuracy: 0.789 - ETA: 48s - loss: 0.0206 - categorical_accuracy: 0.789 - ETA: 47s - loss: 0.0206 - categorical_accuracy: 0.789 - ETA: 47s - loss: 0.0206 - categorical_accuracy: 0.789 - ETA: 47s - loss: 0.0206 - categorical_accuracy: 0.789 - ETA: 46s - loss: 0.0206 - categorical_accuracy: 0.789 - ETA: 46s - loss: 0.0206 - categorical_accuracy: 0.789 - ETA: 45s - loss: 0.0206 - categorical_accuracy: 0.789 - ETA: 45s - loss: 0.0206 - categorical_accuracy: 0.789 - ETA: 45s - loss: 0.0206 - categorical_accuracy: 0.789 - ETA: 44s - loss: 0.0206 - categorical_accuracy: 0.789 - ETA: 44s - loss: 0.0206 - categorical_accuracy: 0.789 - ETA: 43s - loss: 0.0206 - categorical_accuracy: 0.789 - ETA: 43s - loss: 0.0206 - categorical_accuracy: 0.789 - ETA: 43s - loss: 0.0206 - categorical_accuracy: 0.789 - ETA: 42s - loss: 0.0206 - categorical_accuracy: 0.789 - ETA: 42s - loss: 0.0206 - categorical_accuracy: 0.789 - ETA: 41s - loss: 0.0206 - categorical_accuracy: 0.789 - ETA: 41s - loss: 0.0206 - categorical_accuracy: 0.789 - ETA: 40s - loss: 0.0206 - categorical_accuracy: 0.789 - ETA: 40s - loss: 0.0206 - categorical_accuracy: 0.789 - ETA: 40s - loss: 0.0206 - categorical_accuracy: 0.789 - ETA: 39s - loss: 0.0207 - categorical_accuracy: 0.789 - ETA: 39s - loss: 0.0206 - categorical_accuracy: 0.789 - ETA: 38s - loss: 0.0207 - categorical_accuracy: 0.789 - ETA: 38s - loss: 0.0207 - categorical_accuracy: 0.789 - ETA: 38s - loss: 0.0207 - categorical_accuracy: 0.789 - ETA: 37s - loss: 0.0207 - categorical_accuracy: 0.789 - ETA: 37s - loss: 0.0207 - categorical_accuracy: 0.789 - ETA: 36s - loss: 0.0207 - categorical_accuracy: 0.789 - ETA: 36s - loss: 0.0207 - categorical_accuracy: 0.789 - ETA: 35s - loss: 0.0206 - categorical_accuracy: 0.789 - ETA: 35s - loss: 0.0207 - categorical_accuracy: 0.789 - ETA: 35s - loss: 0.0206 - categorical_accuracy: 0.789 - ETA: 34s - loss: 0.0206 - categorical_accuracy: 0.789 - ETA: 34s - loss: 0.0207 - categorical_accuracy: 0.789 - ETA: 33s - loss: 0.0207 - categorical_accuracy: 0.789 - ETA: 33s - loss: 0.0206 - categorical_accuracy: 0.789 - ETA: 33s - loss: 0.0207 - categorical_accuracy: 0.789 - ETA: 32s - loss: 0.0206 - categorical_accuracy: 0.789 - ETA: 32s - loss: 0.0207 - categorical_accuracy: 0.789 - ETA: 31s - loss: 0.0207 - categorical_accuracy: 0.789 - ETA: 31s - loss: 0.0207 - categorical_accuracy: 0.789 - ETA: 30s - loss: 0.0207 - categorical_accuracy: 0.789 - ETA: 30s - loss: 0.0207 - categorical_accuracy: 0.789 - ETA: 30s - loss: 0.0207 - categorical_accuracy: 0.789 - ETA: 29s - loss: 0.0207 - categorical_accuracy: 0.789 - ETA: 29s - loss: 0.0207 - categorical_accuracy: 0.789 - ETA: 28s - loss: 0.0207 - categorical_accuracy: 0.789 - ETA: 28s - loss: 0.0207 - categorical_accuracy: 0.789 - ETA: 28s - loss: 0.0207 - categorical_accuracy: 0.789 - ETA: 27s - loss: 0.0207 - categorical_accuracy: 0.789 - ETA: 27s - loss: 0.0207 - categorical_accuracy: 0.789 - ETA: 26s - loss: 0.0207 - categorical_accuracy: 0.789 - ETA: 26s - loss: 0.0207 - categorical_accuracy: 0.789 - ETA: 26s - loss: 0.0207 - categorical_accuracy: 0.789 - ETA: 25s - loss: 0.0207 - categorical_accuracy: 0.789 - ETA: 25s - loss: 0.0207 - categorical_accuracy: 0.789 - ETA: 24s - loss: 0.0206 - categorical_accuracy: 0.789 - ETA: 24s - loss: 0.0207 - categorical_accuracy: 0.789 - ETA: 23s - loss: 0.0207 - categorical_accuracy: 0.789 - ETA: 23s - loss: 0.0207 - categorical_accuracy: 0.789 - ETA: 23s - loss: 0.0206 - categorical_accuracy: 0.789 - ETA: 22s - loss: 0.0206 - categorical_accuracy: 0.789 - ETA: 22s - loss: 0.0206 - categorical_accuracy: 0.789 - ETA: 21s - loss: 0.0206 - categorical_accuracy: 0.789 - ETA: 21s - loss: 0.0206 - categorical_accuracy: 0.789 - ETA: 21s - loss: 0.0206 - categorical_accuracy: 0.789 - ETA: 20s - loss: 0.0206 - categorical_accuracy: 0.789 - ETA: 20s - loss: 0.0206 - categorical_accuracy: 0.789 - ETA: 19s - loss: 0.0206 - categorical_accuracy: 0.789 - ETA: 19s - loss: 0.0206 - categorical_accuracy: 0.789 - ETA: 19s - loss: 0.0206 - categorical_accuracy: 0.789 - ETA: 18s - loss: 0.0207 - categorical_accuracy: 0.789 - ETA: 18s - loss: 0.0206 - categorical_accuracy: 0.789 - ETA: 17s - loss: 0.0206 - categorical_accuracy: 0.789 - ETA: 17s - loss: 0.0206 - categorical_accuracy: 0.789 - ETA: 16s - loss: 0.0206 - categorical_accuracy: 0.789 - ETA: 16s - loss: 0.0206 - categorical_accuracy: 0.789 - ETA: 16s - loss: 0.0206 - categorical_accuracy: 0.789 - ETA: 15s - loss: 0.0206 - categorical_accuracy: 0.789 - ETA: 15s - loss: 0.0206 - categorical_accuracy: 0.789 - ETA: 14s - loss: 0.0206 - categorical_accuracy: 0.789 - ETA: 14s - loss: 0.0206 - categorical_accuracy: 0.789 - ETA: 14s - loss: 0.0206 - categorical_accuracy: 0.789 - ETA: 13s - loss: 0.0206 - categorical_accuracy: 0.789 - ETA: 13s - loss: 0.0206 - categorical_accuracy: 0.789 - ETA: 12s - loss: 0.0206 - categorical_accuracy: 0.7896"
     ]
    },
    {
     "name": "stdout",
     "output_type": "stream",
     "text": [
      "38368/38368 [==============================] - ETA: 12s - loss: 0.0206 - categorical_accuracy: 0.789 - ETA: 11s - loss: 0.0206 - categorical_accuracy: 0.789 - ETA: 11s - loss: 0.0206 - categorical_accuracy: 0.789 - ETA: 11s - loss: 0.0206 - categorical_accuracy: 0.789 - ETA: 10s - loss: 0.0206 - categorical_accuracy: 0.789 - ETA: 10s - loss: 0.0206 - categorical_accuracy: 0.789 - ETA: 9s - loss: 0.0206 - categorical_accuracy: 0.789 - ETA: 9s - loss: 0.0206 - categorical_accuracy: 0.78 - ETA: 9s - loss: 0.0206 - categorical_accuracy: 0.78 - ETA: 8s - loss: 0.0206 - categorical_accuracy: 0.78 - ETA: 8s - loss: 0.0206 - categorical_accuracy: 0.78 - ETA: 7s - loss: 0.0206 - categorical_accuracy: 0.78 - ETA: 7s - loss: 0.0206 - categorical_accuracy: 0.78 - ETA: 7s - loss: 0.0206 - categorical_accuracy: 0.78 - ETA: 6s - loss: 0.0206 - categorical_accuracy: 0.78 - ETA: 6s - loss: 0.0206 - categorical_accuracy: 0.78 - ETA: 5s - loss: 0.0206 - categorical_accuracy: 0.78 - ETA: 5s - loss: 0.0206 - categorical_accuracy: 0.78 - ETA: 4s - loss: 0.0206 - categorical_accuracy: 0.78 - ETA: 4s - loss: 0.0206 - categorical_accuracy: 0.78 - ETA: 4s - loss: 0.0206 - categorical_accuracy: 0.78 - ETA: 3s - loss: 0.0206 - categorical_accuracy: 0.78 - ETA: 3s - loss: 0.0206 - categorical_accuracy: 0.78 - ETA: 2s - loss: 0.0206 - categorical_accuracy: 0.78 - ETA: 2s - loss: 0.0206 - categorical_accuracy: 0.78 - ETA: 2s - loss: 0.0206 - categorical_accuracy: 0.78 - ETA: 1s - loss: 0.0206 - categorical_accuracy: 0.78 - ETA: 1s - loss: 0.0206 - categorical_accuracy: 0.78 - ETA: 0s - loss: 0.0206 - categorical_accuracy: 0.78 - ETA: 0s - loss: 0.0206 - categorical_accuracy: 0.78 - 511s 13ms/step - loss: 0.0206 - categorical_accuracy: 0.7897 - val_loss: 0.0280 - val_categorical_accuracy: 0.7902\n",
      "Epoch 4/10\n"
     ]
    },
    {
     "name": "stdout",
     "output_type": "stream",
     "text": [
      " 4672/38368 [==>...........................] - ETA: 8:28 - loss: 0.0131 - categorical_accuracy: 0.77 - ETA: 8:27 - loss: 0.0131 - categorical_accuracy: 0.78 - ETA: 8:23 - loss: 0.0127 - categorical_accuracy: 0.79 - ETA: 8:13 - loss: 0.0136 - categorical_accuracy: 0.79 - ETA: 7:58 - loss: 0.0127 - categorical_accuracy: 0.79 - ETA: 7:54 - loss: 0.0148 - categorical_accuracy: 0.79 - ETA: 7:50 - loss: 0.0148 - categorical_accuracy: 0.79 - ETA: 7:56 - loss: 0.0147 - categorical_accuracy: 0.79 - ETA: 7:49 - loss: 0.0145 - categorical_accuracy: 0.79 - ETA: 7:48 - loss: 0.0145 - categorical_accuracy: 0.79 - ETA: 7:47 - loss: 0.0151 - categorical_accuracy: 0.79 - ETA: 7:43 - loss: 0.0155 - categorical_accuracy: 0.79 - ETA: 7:41 - loss: 0.0155 - categorical_accuracy: 0.79 - ETA: 7:39 - loss: 0.0166 - categorical_accuracy: 0.79 - ETA: 7:38 - loss: 0.0164 - categorical_accuracy: 0.79 - ETA: 7:37 - loss: 0.0159 - categorical_accuracy: 0.79 - ETA: 7:37 - loss: 0.0159 - categorical_accuracy: 0.79 - ETA: 7:38 - loss: 0.0158 - categorical_accuracy: 0.79 - ETA: 7:38 - loss: 0.0158 - categorical_accuracy: 0.79 - ETA: 7:35 - loss: 0.0161 - categorical_accuracy: 0.79 - ETA: 7:35 - loss: 0.0160 - categorical_accuracy: 0.79 - ETA: 7:34 - loss: 0.0161 - categorical_accuracy: 0.79 - ETA: 7:32 - loss: 0.0162 - categorical_accuracy: 0.79 - ETA: 7:31 - loss: 0.0160 - categorical_accuracy: 0.79 - ETA: 7:30 - loss: 0.0160 - categorical_accuracy: 0.79 - ETA: 7:29 - loss: 0.0161 - categorical_accuracy: 0.79 - ETA: 7:28 - loss: 0.0158 - categorical_accuracy: 0.79 - ETA: 7:29 - loss: 0.0160 - categorical_accuracy: 0.79 - ETA: 7:30 - loss: 0.0159 - categorical_accuracy: 0.79 - ETA: 7:32 - loss: 0.0157 - categorical_accuracy: 0.79 - ETA: 7:33 - loss: 0.0158 - categorical_accuracy: 0.79 - ETA: 7:33 - loss: 0.0162 - categorical_accuracy: 0.79 - ETA: 7:35 - loss: 0.0161 - categorical_accuracy: 0.79 - ETA: 7:34 - loss: 0.0163 - categorical_accuracy: 0.79 - ETA: 7:34 - loss: 0.0165 - categorical_accuracy: 0.79 - ETA: 7:35 - loss: 0.0168 - categorical_accuracy: 0.78 - ETA: 7:36 - loss: 0.0165 - categorical_accuracy: 0.78 - ETA: 7:37 - loss: 0.0165 - categorical_accuracy: 0.78 - ETA: 7:38 - loss: 0.0164 - categorical_accuracy: 0.79 - ETA: 7:38 - loss: 0.0164 - categorical_accuracy: 0.79 - ETA: 7:39 - loss: 0.0163 - categorical_accuracy: 0.79 - ETA: 7:39 - loss: 0.0164 - categorical_accuracy: 0.79 - ETA: 7:39 - loss: 0.0163 - categorical_accuracy: 0.79 - ETA: 7:38 - loss: 0.0162 - categorical_accuracy: 0.79 - ETA: 7:37 - loss: 0.0163 - categorical_accuracy: 0.79 - ETA: 7:36 - loss: 0.0162 - categorical_accuracy: 0.79 - ETA: 7:36 - loss: 0.0161 - categorical_accuracy: 0.79 - ETA: 7:35 - loss: 0.0159 - categorical_accuracy: 0.79 - ETA: 7:35 - loss: 0.0160 - categorical_accuracy: 0.79 - ETA: 7:35 - loss: 0.0159 - categorical_accuracy: 0.79 - ETA: 7:34 - loss: 0.0158 - categorical_accuracy: 0.79 - ETA: 7:36 - loss: 0.0158 - categorical_accuracy: 0.79 - ETA: 7:35 - loss: 0.0159 - categorical_accuracy: 0.79 - ETA: 7:35 - loss: 0.0158 - categorical_accuracy: 0.79 - ETA: 7:35 - loss: 0.0157 - categorical_accuracy: 0.79 - ETA: 7:34 - loss: 0.0158 - categorical_accuracy: 0.79 - ETA: 7:35 - loss: 0.0159 - categorical_accuracy: 0.79 - ETA: 7:35 - loss: 0.0159 - categorical_accuracy: 0.79 - ETA: 7:34 - loss: 0.0159 - categorical_accuracy: 0.79 - ETA: 7:33 - loss: 0.0160 - categorical_accuracy: 0.79 - ETA: 7:33 - loss: 0.0160 - categorical_accuracy: 0.79 - ETA: 7:32 - loss: 0.0160 - categorical_accuracy: 0.79 - ETA: 7:32 - loss: 0.0159 - categorical_accuracy: 0.79 - ETA: 7:31 - loss: 0.0160 - categorical_accuracy: 0.79 - ETA: 7:32 - loss: 0.0159 - categorical_accuracy: 0.79 - ETA: 7:31 - loss: 0.0160 - categorical_accuracy: 0.79 - ETA: 7:30 - loss: 0.0161 - categorical_accuracy: 0.78 - ETA: 7:30 - loss: 0.0161 - categorical_accuracy: 0.78 - ETA: 7:29 - loss: 0.0160 - categorical_accuracy: 0.78 - ETA: 7:28 - loss: 0.0159 - categorical_accuracy: 0.78 - ETA: 7:27 - loss: 0.0160 - categorical_accuracy: 0.78 - ETA: 7:26 - loss: 0.0159 - categorical_accuracy: 0.78 - ETA: 7:25 - loss: 0.0158 - categorical_accuracy: 0.78 - ETA: 7:25 - loss: 0.0158 - categorical_accuracy: 0.78 - ETA: 7:25 - loss: 0.0158 - categorical_accuracy: 0.78 - ETA: 7:24 - loss: 0.0158 - categorical_accuracy: 0.78 - ETA: 7:23 - loss: 0.0158 - categorical_accuracy: 0.78 - ETA: 7:23 - loss: 0.0157 - categorical_accuracy: 0.78 - ETA: 7:23 - loss: 0.0156 - categorical_accuracy: 0.78 - ETA: 7:23 - loss: 0.0156 - categorical_accuracy: 0.78 - ETA: 7:23 - loss: 0.0156 - categorical_accuracy: 0.78 - ETA: 7:23 - loss: 0.0156 - categorical_accuracy: 0.78 - ETA: 7:22 - loss: 0.0156 - categorical_accuracy: 0.78 - ETA: 7:22 - loss: 0.0156 - categorical_accuracy: 0.78 - ETA: 7:22 - loss: 0.0156 - categorical_accuracy: 0.78 - ETA: 7:22 - loss: 0.0156 - categorical_accuracy: 0.78 - ETA: 7:22 - loss: 0.0156 - categorical_accuracy: 0.78 - ETA: 7:21 - loss: 0.0156 - categorical_accuracy: 0.78 - ETA: 7:21 - loss: 0.0156 - categorical_accuracy: 0.78 - ETA: 7:20 - loss: 0.0156 - categorical_accuracy: 0.79 - ETA: 7:19 - loss: 0.0155 - categorical_accuracy: 0.79 - ETA: 7:18 - loss: 0.0156 - categorical_accuracy: 0.79 - ETA: 7:17 - loss: 0.0156 - categorical_accuracy: 0.79 - ETA: 7:16 - loss: 0.0155 - categorical_accuracy: 0.79 - ETA: 7:16 - loss: 0.0155 - categorical_accuracy: 0.79 - ETA: 7:16 - loss: 0.0155 - categorical_accuracy: 0.79 - ETA: 7:15 - loss: 0.0155 - categorical_accuracy: 0.79 - ETA: 7:16 - loss: 0.0155 - categorical_accuracy: 0.79 - ETA: 7:16 - loss: 0.0154 - categorical_accuracy: 0.79 - ETA: 7:17 - loss: 0.0154 - categorical_accuracy: 0.79 - ETA: 7:18 - loss: 0.0153 - categorical_accuracy: 0.79 - ETA: 7:18 - loss: 0.0154 - categorical_accuracy: 0.79 - ETA: 7:18 - loss: 0.0154 - categorical_accuracy: 0.79 - ETA: 7:17 - loss: 0.0153 - categorical_accuracy: 0.79 - ETA: 7:17 - loss: 0.0153 - categorical_accuracy: 0.79 - ETA: 7:16 - loss: 0.0154 - categorical_accuracy: 0.79 - ETA: 7:16 - loss: 0.0154 - categorical_accuracy: 0.79 - ETA: 7:16 - loss: 0.0155 - categorical_accuracy: 0.79 - ETA: 7:15 - loss: 0.0155 - categorical_accuracy: 0.79 - ETA: 7:16 - loss: 0.0155 - categorical_accuracy: 0.79 - ETA: 7:16 - loss: 0.0154 - categorical_accuracy: 0.79 - ETA: 7:16 - loss: 0.0154 - categorical_accuracy: 0.79 - ETA: 7:16 - loss: 0.0154 - categorical_accuracy: 0.79 - ETA: 7:16 - loss: 0.0154 - categorical_accuracy: 0.79 - ETA: 7:16 - loss: 0.0154 - categorical_accuracy: 0.79 - ETA: 7:15 - loss: 0.0154 - categorical_accuracy: 0.79 - ETA: 7:16 - loss: 0.0154 - categorical_accuracy: 0.79 - ETA: 7:15 - loss: 0.0154 - categorical_accuracy: 0.79 - ETA: 7:14 - loss: 0.0153 - categorical_accuracy: 0.79 - ETA: 7:14 - loss: 0.0154 - categorical_accuracy: 0.79 - ETA: 7:13 - loss: 0.0154 - categorical_accuracy: 0.79 - ETA: 7:13 - loss: 0.0154 - categorical_accuracy: 0.79 - ETA: 7:13 - loss: 0.0154 - categorical_accuracy: 0.79 - ETA: 7:13 - loss: 0.0154 - categorical_accuracy: 0.79 - ETA: 7:14 - loss: 0.0154 - categorical_accuracy: 0.79 - ETA: 7:15 - loss: 0.0154 - categorical_accuracy: 0.79 - ETA: 7:14 - loss: 0.0154 - categorical_accuracy: 0.79 - ETA: 7:14 - loss: 0.0153 - categorical_accuracy: 0.79 - ETA: 7:14 - loss: 0.0154 - categorical_accuracy: 0.79 - ETA: 7:14 - loss: 0.0154 - categorical_accuracy: 0.79 - ETA: 7:13 - loss: 0.0153 - categorical_accuracy: 0.79 - ETA: 7:13 - loss: 0.0153 - categorical_accuracy: 0.79 - ETA: 7:12 - loss: 0.0154 - categorical_accuracy: 0.79 - ETA: 7:12 - loss: 0.0154 - categorical_accuracy: 0.79 - ETA: 7:12 - loss: 0.0154 - categorical_accuracy: 0.79 - ETA: 7:11 - loss: 0.0154 - categorical_accuracy: 0.79 - ETA: 7:11 - loss: 0.0154 - categorical_accuracy: 0.79 - ETA: 7:10 - loss: 0.0154 - categorical_accuracy: 0.79 - ETA: 7:10 - loss: 0.0154 - categorical_accuracy: 0.79 - ETA: 7:09 - loss: 0.0155 - categorical_accuracy: 0.79 - ETA: 7:09 - loss: 0.0155 - categorical_accuracy: 0.79 - ETA: 7:09 - loss: 0.0155 - categorical_accuracy: 0.79 - ETA: 7:09 - loss: 0.0155 - categorical_accuracy: 0.79 - ETA: 7:09 - loss: 0.0155 - categorical_accuracy: 0.79 - ETA: 7:08 - loss: 0.0156 - categorical_accuracy: 0.79 - ETA: 7:08 - loss: 0.0155 - categorical_accuracy: 0.7903"
     ]
    },
    {
     "name": "stdout",
     "output_type": "stream",
     "text": [
      " 9344/38368 [======>.......................] - ETA: 7:08 - loss: 0.0155 - categorical_accuracy: 0.79 - ETA: 7:07 - loss: 0.0155 - categorical_accuracy: 0.79 - ETA: 7:07 - loss: 0.0155 - categorical_accuracy: 0.79 - ETA: 7:07 - loss: 0.0155 - categorical_accuracy: 0.79 - ETA: 7:06 - loss: 0.0155 - categorical_accuracy: 0.79 - ETA: 7:06 - loss: 0.0155 - categorical_accuracy: 0.79 - ETA: 7:07 - loss: 0.0155 - categorical_accuracy: 0.79 - ETA: 7:07 - loss: 0.0155 - categorical_accuracy: 0.79 - ETA: 7:07 - loss: 0.0156 - categorical_accuracy: 0.79 - ETA: 7:06 - loss: 0.0155 - categorical_accuracy: 0.79 - ETA: 7:06 - loss: 0.0155 - categorical_accuracy: 0.79 - ETA: 7:06 - loss: 0.0155 - categorical_accuracy: 0.79 - ETA: 7:06 - loss: 0.0155 - categorical_accuracy: 0.79 - ETA: 7:05 - loss: 0.0155 - categorical_accuracy: 0.78 - ETA: 7:05 - loss: 0.0155 - categorical_accuracy: 0.78 - ETA: 7:04 - loss: 0.0154 - categorical_accuracy: 0.78 - ETA: 7:04 - loss: 0.0154 - categorical_accuracy: 0.78 - ETA: 7:03 - loss: 0.0154 - categorical_accuracy: 0.79 - ETA: 7:03 - loss: 0.0154 - categorical_accuracy: 0.79 - ETA: 7:03 - loss: 0.0154 - categorical_accuracy: 0.79 - ETA: 7:03 - loss: 0.0153 - categorical_accuracy: 0.79 - ETA: 7:03 - loss: 0.0154 - categorical_accuracy: 0.78 - ETA: 7:03 - loss: 0.0155 - categorical_accuracy: 0.78 - ETA: 7:03 - loss: 0.0155 - categorical_accuracy: 0.78 - ETA: 7:03 - loss: 0.0156 - categorical_accuracy: 0.78 - ETA: 7:02 - loss: 0.0155 - categorical_accuracy: 0.78 - ETA: 7:01 - loss: 0.0155 - categorical_accuracy: 0.78 - ETA: 7:01 - loss: 0.0155 - categorical_accuracy: 0.78 - ETA: 7:00 - loss: 0.0156 - categorical_accuracy: 0.78 - ETA: 7:00 - loss: 0.0156 - categorical_accuracy: 0.78 - ETA: 6:59 - loss: 0.0156 - categorical_accuracy: 0.78 - ETA: 6:59 - loss: 0.0157 - categorical_accuracy: 0.78 - ETA: 6:58 - loss: 0.0157 - categorical_accuracy: 0.78 - ETA: 6:58 - loss: 0.0157 - categorical_accuracy: 0.78 - ETA: 6:57 - loss: 0.0157 - categorical_accuracy: 0.78 - ETA: 6:57 - loss: 0.0156 - categorical_accuracy: 0.78 - ETA: 6:56 - loss: 0.0157 - categorical_accuracy: 0.78 - ETA: 6:56 - loss: 0.0157 - categorical_accuracy: 0.78 - ETA: 6:55 - loss: 0.0157 - categorical_accuracy: 0.78 - ETA: 6:55 - loss: 0.0156 - categorical_accuracy: 0.78 - ETA: 6:55 - loss: 0.0157 - categorical_accuracy: 0.78 - ETA: 6:54 - loss: 0.0157 - categorical_accuracy: 0.78 - ETA: 6:54 - loss: 0.0157 - categorical_accuracy: 0.78 - ETA: 6:53 - loss: 0.0157 - categorical_accuracy: 0.78 - ETA: 6:52 - loss: 0.0156 - categorical_accuracy: 0.78 - ETA: 6:52 - loss: 0.0157 - categorical_accuracy: 0.78 - ETA: 6:52 - loss: 0.0158 - categorical_accuracy: 0.78 - ETA: 6:51 - loss: 0.0157 - categorical_accuracy: 0.78 - ETA: 6:51 - loss: 0.0157 - categorical_accuracy: 0.78 - ETA: 6:50 - loss: 0.0157 - categorical_accuracy: 0.78 - ETA: 6:50 - loss: 0.0157 - categorical_accuracy: 0.78 - ETA: 6:49 - loss: 0.0158 - categorical_accuracy: 0.78 - ETA: 6:49 - loss: 0.0158 - categorical_accuracy: 0.78 - ETA: 6:48 - loss: 0.0157 - categorical_accuracy: 0.78 - ETA: 6:48 - loss: 0.0157 - categorical_accuracy: 0.78 - ETA: 6:48 - loss: 0.0157 - categorical_accuracy: 0.78 - ETA: 6:47 - loss: 0.0157 - categorical_accuracy: 0.78 - ETA: 6:47 - loss: 0.0157 - categorical_accuracy: 0.78 - ETA: 6:46 - loss: 0.0157 - categorical_accuracy: 0.78 - ETA: 6:46 - loss: 0.0157 - categorical_accuracy: 0.78 - ETA: 6:46 - loss: 0.0157 - categorical_accuracy: 0.78 - ETA: 6:46 - loss: 0.0157 - categorical_accuracy: 0.78 - ETA: 6:45 - loss: 0.0157 - categorical_accuracy: 0.78 - ETA: 6:45 - loss: 0.0157 - categorical_accuracy: 0.78 - ETA: 6:44 - loss: 0.0157 - categorical_accuracy: 0.78 - ETA: 6:44 - loss: 0.0157 - categorical_accuracy: 0.78 - ETA: 6:44 - loss: 0.0158 - categorical_accuracy: 0.78 - ETA: 6:43 - loss: 0.0158 - categorical_accuracy: 0.78 - ETA: 6:43 - loss: 0.0157 - categorical_accuracy: 0.78 - ETA: 6:42 - loss: 0.0157 - categorical_accuracy: 0.78 - ETA: 6:42 - loss: 0.0157 - categorical_accuracy: 0.78 - ETA: 6:41 - loss: 0.0157 - categorical_accuracy: 0.78 - ETA: 6:41 - loss: 0.0157 - categorical_accuracy: 0.78 - ETA: 6:40 - loss: 0.0157 - categorical_accuracy: 0.78 - ETA: 6:40 - loss: 0.0158 - categorical_accuracy: 0.78 - ETA: 6:39 - loss: 0.0157 - categorical_accuracy: 0.78 - ETA: 6:38 - loss: 0.0157 - categorical_accuracy: 0.78 - ETA: 6:38 - loss: 0.0157 - categorical_accuracy: 0.78 - ETA: 6:37 - loss: 0.0157 - categorical_accuracy: 0.78 - ETA: 6:37 - loss: 0.0157 - categorical_accuracy: 0.78 - ETA: 6:36 - loss: 0.0157 - categorical_accuracy: 0.78 - ETA: 6:35 - loss: 0.0157 - categorical_accuracy: 0.78 - ETA: 6:35 - loss: 0.0157 - categorical_accuracy: 0.78 - ETA: 6:34 - loss: 0.0157 - categorical_accuracy: 0.78 - ETA: 6:34 - loss: 0.0157 - categorical_accuracy: 0.78 - ETA: 6:33 - loss: 0.0157 - categorical_accuracy: 0.78 - ETA: 6:33 - loss: 0.0157 - categorical_accuracy: 0.79 - ETA: 6:32 - loss: 0.0157 - categorical_accuracy: 0.78 - ETA: 6:31 - loss: 0.0157 - categorical_accuracy: 0.78 - ETA: 6:31 - loss: 0.0157 - categorical_accuracy: 0.79 - ETA: 6:30 - loss: 0.0157 - categorical_accuracy: 0.79 - ETA: 6:30 - loss: 0.0157 - categorical_accuracy: 0.79 - ETA: 6:29 - loss: 0.0157 - categorical_accuracy: 0.79 - ETA: 6:29 - loss: 0.0157 - categorical_accuracy: 0.79 - ETA: 6:28 - loss: 0.0157 - categorical_accuracy: 0.79 - ETA: 6:27 - loss: 0.0157 - categorical_accuracy: 0.79 - ETA: 6:27 - loss: 0.0157 - categorical_accuracy: 0.79 - ETA: 6:26 - loss: 0.0157 - categorical_accuracy: 0.79 - ETA: 6:26 - loss: 0.0157 - categorical_accuracy: 0.79 - ETA: 6:26 - loss: 0.0157 - categorical_accuracy: 0.79 - ETA: 6:25 - loss: 0.0157 - categorical_accuracy: 0.79 - ETA: 6:25 - loss: 0.0157 - categorical_accuracy: 0.79 - ETA: 6:25 - loss: 0.0157 - categorical_accuracy: 0.79 - ETA: 6:25 - loss: 0.0156 - categorical_accuracy: 0.79 - ETA: 6:24 - loss: 0.0156 - categorical_accuracy: 0.79 - ETA: 6:24 - loss: 0.0157 - categorical_accuracy: 0.79 - ETA: 6:23 - loss: 0.0157 - categorical_accuracy: 0.79 - ETA: 6:23 - loss: 0.0157 - categorical_accuracy: 0.79 - ETA: 6:22 - loss: 0.0157 - categorical_accuracy: 0.79 - ETA: 6:22 - loss: 0.0157 - categorical_accuracy: 0.79 - ETA: 6:21 - loss: 0.0157 - categorical_accuracy: 0.79 - ETA: 6:21 - loss: 0.0156 - categorical_accuracy: 0.79 - ETA: 6:21 - loss: 0.0157 - categorical_accuracy: 0.78 - ETA: 6:20 - loss: 0.0156 - categorical_accuracy: 0.78 - ETA: 6:20 - loss: 0.0156 - categorical_accuracy: 0.78 - ETA: 6:19 - loss: 0.0156 - categorical_accuracy: 0.78 - ETA: 6:19 - loss: 0.0157 - categorical_accuracy: 0.78 - ETA: 6:18 - loss: 0.0157 - categorical_accuracy: 0.78 - ETA: 6:18 - loss: 0.0157 - categorical_accuracy: 0.78 - ETA: 6:17 - loss: 0.0157 - categorical_accuracy: 0.78 - ETA: 6:17 - loss: 0.0157 - categorical_accuracy: 0.78 - ETA: 6:16 - loss: 0.0157 - categorical_accuracy: 0.78 - ETA: 6:16 - loss: 0.0157 - categorical_accuracy: 0.78 - ETA: 6:15 - loss: 0.0157 - categorical_accuracy: 0.78 - ETA: 6:15 - loss: 0.0157 - categorical_accuracy: 0.78 - ETA: 6:14 - loss: 0.0157 - categorical_accuracy: 0.78 - ETA: 6:14 - loss: 0.0157 - categorical_accuracy: 0.78 - ETA: 6:13 - loss: 0.0157 - categorical_accuracy: 0.79 - ETA: 6:13 - loss: 0.0157 - categorical_accuracy: 0.78 - ETA: 6:13 - loss: 0.0157 - categorical_accuracy: 0.78 - ETA: 6:12 - loss: 0.0157 - categorical_accuracy: 0.78 - ETA: 6:12 - loss: 0.0157 - categorical_accuracy: 0.78 - ETA: 6:11 - loss: 0.0157 - categorical_accuracy: 0.78 - ETA: 6:11 - loss: 0.0157 - categorical_accuracy: 0.78 - ETA: 6:11 - loss: 0.0157 - categorical_accuracy: 0.78 - ETA: 6:10 - loss: 0.0157 - categorical_accuracy: 0.78 - ETA: 6:10 - loss: 0.0157 - categorical_accuracy: 0.78 - ETA: 6:10 - loss: 0.0158 - categorical_accuracy: 0.78 - ETA: 6:09 - loss: 0.0158 - categorical_accuracy: 0.78 - ETA: 6:09 - loss: 0.0157 - categorical_accuracy: 0.78 - ETA: 6:08 - loss: 0.0158 - categorical_accuracy: 0.78 - ETA: 6:08 - loss: 0.0158 - categorical_accuracy: 0.78 - ETA: 6:07 - loss: 0.0158 - categorical_accuracy: 0.78 - ETA: 6:07 - loss: 0.0158 - categorical_accuracy: 0.78 - ETA: 6:07 - loss: 0.0158 - categorical_accuracy: 0.78 - ETA: 6:06 - loss: 0.0158 - categorical_accuracy: 0.7896"
     ]
    },
    {
     "name": "stdout",
     "output_type": "stream",
     "text": [
      "14016/38368 [=========>....................] - ETA: 6:06 - loss: 0.0159 - categorical_accuracy: 0.78 - ETA: 6:05 - loss: 0.0159 - categorical_accuracy: 0.78 - ETA: 6:05 - loss: 0.0159 - categorical_accuracy: 0.78 - ETA: 6:04 - loss: 0.0159 - categorical_accuracy: 0.78 - ETA: 6:04 - loss: 0.0158 - categorical_accuracy: 0.78 - ETA: 6:04 - loss: 0.0158 - categorical_accuracy: 0.78 - ETA: 6:03 - loss: 0.0158 - categorical_accuracy: 0.78 - ETA: 6:03 - loss: 0.0158 - categorical_accuracy: 0.78 - ETA: 6:02 - loss: 0.0159 - categorical_accuracy: 0.78 - ETA: 6:02 - loss: 0.0158 - categorical_accuracy: 0.78 - ETA: 6:01 - loss: 0.0158 - categorical_accuracy: 0.78 - ETA: 6:01 - loss: 0.0158 - categorical_accuracy: 0.78 - ETA: 6:00 - loss: 0.0158 - categorical_accuracy: 0.78 - ETA: 6:00 - loss: 0.0158 - categorical_accuracy: 0.78 - ETA: 5:59 - loss: 0.0158 - categorical_accuracy: 0.78 - ETA: 5:59 - loss: 0.0158 - categorical_accuracy: 0.78 - ETA: 5:58 - loss: 0.0158 - categorical_accuracy: 0.78 - ETA: 5:58 - loss: 0.0158 - categorical_accuracy: 0.78 - ETA: 5:58 - loss: 0.0159 - categorical_accuracy: 0.78 - ETA: 5:58 - loss: 0.0159 - categorical_accuracy: 0.78 - ETA: 5:58 - loss: 0.0159 - categorical_accuracy: 0.78 - ETA: 5:58 - loss: 0.0158 - categorical_accuracy: 0.78 - ETA: 5:57 - loss: 0.0159 - categorical_accuracy: 0.78 - ETA: 5:57 - loss: 0.0159 - categorical_accuracy: 0.78 - ETA: 5:57 - loss: 0.0159 - categorical_accuracy: 0.78 - ETA: 5:56 - loss: 0.0158 - categorical_accuracy: 0.78 - ETA: 5:56 - loss: 0.0159 - categorical_accuracy: 0.78 - ETA: 5:56 - loss: 0.0159 - categorical_accuracy: 0.78 - ETA: 5:56 - loss: 0.0158 - categorical_accuracy: 0.78 - ETA: 5:56 - loss: 0.0158 - categorical_accuracy: 0.78 - ETA: 5:56 - loss: 0.0158 - categorical_accuracy: 0.78 - ETA: 5:56 - loss: 0.0158 - categorical_accuracy: 0.78 - ETA: 5:56 - loss: 0.0159 - categorical_accuracy: 0.78 - ETA: 5:55 - loss: 0.0158 - categorical_accuracy: 0.78 - ETA: 5:55 - loss: 0.0159 - categorical_accuracy: 0.78 - ETA: 5:55 - loss: 0.0159 - categorical_accuracy: 0.78 - ETA: 5:54 - loss: 0.0159 - categorical_accuracy: 0.78 - ETA: 5:54 - loss: 0.0159 - categorical_accuracy: 0.78 - ETA: 5:54 - loss: 0.0159 - categorical_accuracy: 0.78 - ETA: 5:53 - loss: 0.0159 - categorical_accuracy: 0.78 - ETA: 5:53 - loss: 0.0160 - categorical_accuracy: 0.78 - ETA: 5:52 - loss: 0.0160 - categorical_accuracy: 0.78 - ETA: 5:52 - loss: 0.0160 - categorical_accuracy: 0.78 - ETA: 5:52 - loss: 0.0160 - categorical_accuracy: 0.78 - ETA: 5:52 - loss: 0.0160 - categorical_accuracy: 0.78 - ETA: 5:51 - loss: 0.0160 - categorical_accuracy: 0.78 - ETA: 5:51 - loss: 0.0160 - categorical_accuracy: 0.78 - ETA: 5:51 - loss: 0.0160 - categorical_accuracy: 0.78 - ETA: 5:51 - loss: 0.0160 - categorical_accuracy: 0.78 - ETA: 5:51 - loss: 0.0160 - categorical_accuracy: 0.78 - ETA: 5:50 - loss: 0.0160 - categorical_accuracy: 0.78 - ETA: 5:50 - loss: 0.0160 - categorical_accuracy: 0.78 - ETA: 5:50 - loss: 0.0160 - categorical_accuracy: 0.78 - ETA: 5:49 - loss: 0.0160 - categorical_accuracy: 0.78 - ETA: 5:49 - loss: 0.0160 - categorical_accuracy: 0.78 - ETA: 5:49 - loss: 0.0160 - categorical_accuracy: 0.78 - ETA: 5:48 - loss: 0.0161 - categorical_accuracy: 0.78 - ETA: 5:48 - loss: 0.0160 - categorical_accuracy: 0.78 - ETA: 5:47 - loss: 0.0161 - categorical_accuracy: 0.78 - ETA: 5:47 - loss: 0.0161 - categorical_accuracy: 0.78 - ETA: 5:47 - loss: 0.0161 - categorical_accuracy: 0.78 - ETA: 5:46 - loss: 0.0161 - categorical_accuracy: 0.78 - ETA: 5:46 - loss: 0.0161 - categorical_accuracy: 0.78 - ETA: 5:45 - loss: 0.0161 - categorical_accuracy: 0.78 - ETA: 5:45 - loss: 0.0161 - categorical_accuracy: 0.78 - ETA: 5:44 - loss: 0.0161 - categorical_accuracy: 0.78 - ETA: 5:44 - loss: 0.0161 - categorical_accuracy: 0.78 - ETA: 5:44 - loss: 0.0161 - categorical_accuracy: 0.78 - ETA: 5:43 - loss: 0.0161 - categorical_accuracy: 0.78 - ETA: 5:43 - loss: 0.0161 - categorical_accuracy: 0.78 - ETA: 5:43 - loss: 0.0161 - categorical_accuracy: 0.78 - ETA: 5:42 - loss: 0.0161 - categorical_accuracy: 0.78 - ETA: 5:42 - loss: 0.0161 - categorical_accuracy: 0.78 - ETA: 5:41 - loss: 0.0161 - categorical_accuracy: 0.78 - ETA: 5:41 - loss: 0.0162 - categorical_accuracy: 0.78 - ETA: 5:40 - loss: 0.0162 - categorical_accuracy: 0.78 - ETA: 5:40 - loss: 0.0162 - categorical_accuracy: 0.78 - ETA: 5:39 - loss: 0.0161 - categorical_accuracy: 0.78 - ETA: 5:39 - loss: 0.0162 - categorical_accuracy: 0.78 - ETA: 5:38 - loss: 0.0161 - categorical_accuracy: 0.78 - ETA: 5:38 - loss: 0.0162 - categorical_accuracy: 0.78 - ETA: 5:37 - loss: 0.0162 - categorical_accuracy: 0.78 - ETA: 5:37 - loss: 0.0162 - categorical_accuracy: 0.78 - ETA: 5:36 - loss: 0.0162 - categorical_accuracy: 0.78 - ETA: 5:36 - loss: 0.0162 - categorical_accuracy: 0.78 - ETA: 5:36 - loss: 0.0162 - categorical_accuracy: 0.78 - ETA: 5:35 - loss: 0.0162 - categorical_accuracy: 0.78 - ETA: 5:35 - loss: 0.0162 - categorical_accuracy: 0.78 - ETA: 5:34 - loss: 0.0162 - categorical_accuracy: 0.78 - ETA: 5:34 - loss: 0.0162 - categorical_accuracy: 0.78 - ETA: 5:33 - loss: 0.0161 - categorical_accuracy: 0.78 - ETA: 5:33 - loss: 0.0161 - categorical_accuracy: 0.78 - ETA: 5:32 - loss: 0.0161 - categorical_accuracy: 0.78 - ETA: 5:32 - loss: 0.0161 - categorical_accuracy: 0.78 - ETA: 5:32 - loss: 0.0161 - categorical_accuracy: 0.78 - ETA: 5:31 - loss: 0.0161 - categorical_accuracy: 0.78 - ETA: 5:31 - loss: 0.0161 - categorical_accuracy: 0.78 - ETA: 5:31 - loss: 0.0161 - categorical_accuracy: 0.78 - ETA: 5:30 - loss: 0.0161 - categorical_accuracy: 0.78 - ETA: 5:30 - loss: 0.0161 - categorical_accuracy: 0.78 - ETA: 5:29 - loss: 0.0161 - categorical_accuracy: 0.78 - ETA: 5:29 - loss: 0.0161 - categorical_accuracy: 0.78 - ETA: 5:29 - loss: 0.0161 - categorical_accuracy: 0.78 - ETA: 5:28 - loss: 0.0161 - categorical_accuracy: 0.78 - ETA: 5:28 - loss: 0.0161 - categorical_accuracy: 0.78 - ETA: 5:28 - loss: 0.0161 - categorical_accuracy: 0.78 - ETA: 5:28 - loss: 0.0161 - categorical_accuracy: 0.78 - ETA: 5:27 - loss: 0.0161 - categorical_accuracy: 0.78 - ETA: 5:27 - loss: 0.0161 - categorical_accuracy: 0.78 - ETA: 5:27 - loss: 0.0161 - categorical_accuracy: 0.78 - ETA: 5:27 - loss: 0.0161 - categorical_accuracy: 0.78 - ETA: 5:26 - loss: 0.0161 - categorical_accuracy: 0.78 - ETA: 5:26 - loss: 0.0161 - categorical_accuracy: 0.78 - ETA: 5:26 - loss: 0.0162 - categorical_accuracy: 0.78 - ETA: 5:25 - loss: 0.0162 - categorical_accuracy: 0.78 - ETA: 5:25 - loss: 0.0161 - categorical_accuracy: 0.78 - ETA: 5:25 - loss: 0.0161 - categorical_accuracy: 0.78 - ETA: 5:24 - loss: 0.0162 - categorical_accuracy: 0.78 - ETA: 5:24 - loss: 0.0161 - categorical_accuracy: 0.78 - ETA: 5:24 - loss: 0.0161 - categorical_accuracy: 0.78 - ETA: 5:23 - loss: 0.0162 - categorical_accuracy: 0.78 - ETA: 5:23 - loss: 0.0162 - categorical_accuracy: 0.78 - ETA: 5:23 - loss: 0.0162 - categorical_accuracy: 0.78 - ETA: 5:22 - loss: 0.0161 - categorical_accuracy: 0.78 - ETA: 5:22 - loss: 0.0161 - categorical_accuracy: 0.78 - ETA: 5:22 - loss: 0.0161 - categorical_accuracy: 0.78 - ETA: 5:22 - loss: 0.0161 - categorical_accuracy: 0.78 - ETA: 5:21 - loss: 0.0161 - categorical_accuracy: 0.78 - ETA: 5:21 - loss: 0.0161 - categorical_accuracy: 0.78 - ETA: 5:21 - loss: 0.0161 - categorical_accuracy: 0.78 - ETA: 5:20 - loss: 0.0161 - categorical_accuracy: 0.78 - ETA: 5:20 - loss: 0.0161 - categorical_accuracy: 0.78 - ETA: 5:20 - loss: 0.0161 - categorical_accuracy: 0.78 - ETA: 5:19 - loss: 0.0161 - categorical_accuracy: 0.78 - ETA: 5:19 - loss: 0.0161 - categorical_accuracy: 0.78 - ETA: 5:19 - loss: 0.0161 - categorical_accuracy: 0.78 - ETA: 5:18 - loss: 0.0161 - categorical_accuracy: 0.78 - ETA: 5:18 - loss: 0.0161 - categorical_accuracy: 0.78 - ETA: 5:18 - loss: 0.0161 - categorical_accuracy: 0.78 - ETA: 5:17 - loss: 0.0161 - categorical_accuracy: 0.78 - ETA: 5:17 - loss: 0.0161 - categorical_accuracy: 0.78 - ETA: 5:17 - loss: 0.0161 - categorical_accuracy: 0.78 - ETA: 5:16 - loss: 0.0161 - categorical_accuracy: 0.78 - ETA: 5:16 - loss: 0.0161 - categorical_accuracy: 0.78 - ETA: 5:15 - loss: 0.0161 - categorical_accuracy: 0.78 - ETA: 5:15 - loss: 0.0161 - categorical_accuracy: 0.7895"
     ]
    },
    {
     "name": "stdout",
     "output_type": "stream",
     "text": [
      "18688/38368 [=============>................] - ETA: 5:15 - loss: 0.0161 - categorical_accuracy: 0.78 - ETA: 5:14 - loss: 0.0161 - categorical_accuracy: 0.78 - ETA: 5:14 - loss: 0.0161 - categorical_accuracy: 0.78 - ETA: 5:14 - loss: 0.0161 - categorical_accuracy: 0.78 - ETA: 5:13 - loss: 0.0161 - categorical_accuracy: 0.78 - ETA: 5:13 - loss: 0.0161 - categorical_accuracy: 0.78 - ETA: 5:13 - loss: 0.0161 - categorical_accuracy: 0.78 - ETA: 5:13 - loss: 0.0161 - categorical_accuracy: 0.78 - ETA: 5:13 - loss: 0.0161 - categorical_accuracy: 0.78 - ETA: 5:12 - loss: 0.0161 - categorical_accuracy: 0.78 - ETA: 5:12 - loss: 0.0161 - categorical_accuracy: 0.78 - ETA: 5:12 - loss: 0.0161 - categorical_accuracy: 0.78 - ETA: 5:12 - loss: 0.0161 - categorical_accuracy: 0.78 - ETA: 5:12 - loss: 0.0162 - categorical_accuracy: 0.78 - ETA: 5:11 - loss: 0.0162 - categorical_accuracy: 0.78 - ETA: 5:11 - loss: 0.0162 - categorical_accuracy: 0.78 - ETA: 5:11 - loss: 0.0162 - categorical_accuracy: 0.78 - ETA: 5:11 - loss: 0.0162 - categorical_accuracy: 0.78 - ETA: 5:11 - loss: 0.0162 - categorical_accuracy: 0.78 - ETA: 5:10 - loss: 0.0162 - categorical_accuracy: 0.78 - ETA: 5:10 - loss: 0.0162 - categorical_accuracy: 0.78 - ETA: 5:10 - loss: 0.0162 - categorical_accuracy: 0.78 - ETA: 5:09 - loss: 0.0162 - categorical_accuracy: 0.78 - ETA: 5:09 - loss: 0.0162 - categorical_accuracy: 0.78 - ETA: 5:09 - loss: 0.0162 - categorical_accuracy: 0.78 - ETA: 5:08 - loss: 0.0162 - categorical_accuracy: 0.78 - ETA: 5:08 - loss: 0.0162 - categorical_accuracy: 0.78 - ETA: 5:08 - loss: 0.0162 - categorical_accuracy: 0.78 - ETA: 5:07 - loss: 0.0162 - categorical_accuracy: 0.78 - ETA: 5:07 - loss: 0.0162 - categorical_accuracy: 0.78 - ETA: 5:07 - loss: 0.0162 - categorical_accuracy: 0.78 - ETA: 5:06 - loss: 0.0162 - categorical_accuracy: 0.78 - ETA: 5:06 - loss: 0.0162 - categorical_accuracy: 0.78 - ETA: 5:06 - loss: 0.0162 - categorical_accuracy: 0.78 - ETA: 5:05 - loss: 0.0162 - categorical_accuracy: 0.78 - ETA: 5:05 - loss: 0.0162 - categorical_accuracy: 0.78 - ETA: 5:05 - loss: 0.0162 - categorical_accuracy: 0.78 - ETA: 5:05 - loss: 0.0162 - categorical_accuracy: 0.78 - ETA: 5:04 - loss: 0.0162 - categorical_accuracy: 0.78 - ETA: 5:04 - loss: 0.0162 - categorical_accuracy: 0.78 - ETA: 5:03 - loss: 0.0162 - categorical_accuracy: 0.78 - ETA: 5:03 - loss: 0.0162 - categorical_accuracy: 0.78 - ETA: 5:03 - loss: 0.0162 - categorical_accuracy: 0.78 - ETA: 5:03 - loss: 0.0162 - categorical_accuracy: 0.78 - ETA: 5:02 - loss: 0.0162 - categorical_accuracy: 0.78 - ETA: 5:02 - loss: 0.0162 - categorical_accuracy: 0.78 - ETA: 5:01 - loss: 0.0162 - categorical_accuracy: 0.78 - ETA: 5:01 - loss: 0.0162 - categorical_accuracy: 0.78 - ETA: 5:01 - loss: 0.0162 - categorical_accuracy: 0.78 - ETA: 5:00 - loss: 0.0162 - categorical_accuracy: 0.78 - ETA: 5:00 - loss: 0.0162 - categorical_accuracy: 0.78 - ETA: 5:00 - loss: 0.0162 - categorical_accuracy: 0.78 - ETA: 4:59 - loss: 0.0162 - categorical_accuracy: 0.78 - ETA: 4:59 - loss: 0.0162 - categorical_accuracy: 0.78 - ETA: 4:59 - loss: 0.0162 - categorical_accuracy: 0.78 - ETA: 4:58 - loss: 0.0162 - categorical_accuracy: 0.78 - ETA: 4:58 - loss: 0.0162 - categorical_accuracy: 0.78 - ETA: 4:57 - loss: 0.0162 - categorical_accuracy: 0.78 - ETA: 4:57 - loss: 0.0162 - categorical_accuracy: 0.78 - ETA: 4:56 - loss: 0.0162 - categorical_accuracy: 0.78 - ETA: 4:55 - loss: 0.0162 - categorical_accuracy: 0.78 - ETA: 4:55 - loss: 0.0162 - categorical_accuracy: 0.78 - ETA: 4:54 - loss: 0.0162 - categorical_accuracy: 0.78 - ETA: 4:54 - loss: 0.0162 - categorical_accuracy: 0.78 - ETA: 4:53 - loss: 0.0162 - categorical_accuracy: 0.78 - ETA: 4:53 - loss: 0.0162 - categorical_accuracy: 0.78 - ETA: 4:53 - loss: 0.0162 - categorical_accuracy: 0.78 - ETA: 4:52 - loss: 0.0162 - categorical_accuracy: 0.78 - ETA: 4:52 - loss: 0.0162 - categorical_accuracy: 0.78 - ETA: 4:51 - loss: 0.0162 - categorical_accuracy: 0.78 - ETA: 4:51 - loss: 0.0162 - categorical_accuracy: 0.78 - ETA: 4:50 - loss: 0.0162 - categorical_accuracy: 0.78 - ETA: 4:50 - loss: 0.0162 - categorical_accuracy: 0.78 - ETA: 4:49 - loss: 0.0162 - categorical_accuracy: 0.78 - ETA: 4:49 - loss: 0.0162 - categorical_accuracy: 0.78 - ETA: 4:49 - loss: 0.0162 - categorical_accuracy: 0.78 - ETA: 4:48 - loss: 0.0163 - categorical_accuracy: 0.78 - ETA: 4:48 - loss: 0.0163 - categorical_accuracy: 0.78 - ETA: 4:47 - loss: 0.0162 - categorical_accuracy: 0.78 - ETA: 4:47 - loss: 0.0162 - categorical_accuracy: 0.78 - ETA: 4:46 - loss: 0.0162 - categorical_accuracy: 0.78 - ETA: 4:46 - loss: 0.0162 - categorical_accuracy: 0.78 - ETA: 4:45 - loss: 0.0162 - categorical_accuracy: 0.78 - ETA: 4:45 - loss: 0.0162 - categorical_accuracy: 0.78 - ETA: 4:45 - loss: 0.0162 - categorical_accuracy: 0.78 - ETA: 4:44 - loss: 0.0162 - categorical_accuracy: 0.78 - ETA: 4:44 - loss: 0.0162 - categorical_accuracy: 0.78 - ETA: 4:43 - loss: 0.0162 - categorical_accuracy: 0.78 - ETA: 4:43 - loss: 0.0162 - categorical_accuracy: 0.78 - ETA: 4:42 - loss: 0.0162 - categorical_accuracy: 0.78 - ETA: 4:42 - loss: 0.0162 - categorical_accuracy: 0.78 - ETA: 4:41 - loss: 0.0162 - categorical_accuracy: 0.78 - ETA: 4:41 - loss: 0.0162 - categorical_accuracy: 0.78 - ETA: 4:40 - loss: 0.0162 - categorical_accuracy: 0.78 - ETA: 4:40 - loss: 0.0162 - categorical_accuracy: 0.78 - ETA: 4:39 - loss: 0.0162 - categorical_accuracy: 0.78 - ETA: 4:39 - loss: 0.0162 - categorical_accuracy: 0.78 - ETA: 4:38 - loss: 0.0162 - categorical_accuracy: 0.78 - ETA: 4:38 - loss: 0.0162 - categorical_accuracy: 0.78 - ETA: 4:37 - loss: 0.0162 - categorical_accuracy: 0.78 - ETA: 4:37 - loss: 0.0162 - categorical_accuracy: 0.78 - ETA: 4:37 - loss: 0.0162 - categorical_accuracy: 0.78 - ETA: 4:36 - loss: 0.0162 - categorical_accuracy: 0.78 - ETA: 4:36 - loss: 0.0162 - categorical_accuracy: 0.78 - ETA: 4:35 - loss: 0.0162 - categorical_accuracy: 0.78 - ETA: 4:35 - loss: 0.0162 - categorical_accuracy: 0.78 - ETA: 4:34 - loss: 0.0163 - categorical_accuracy: 0.78 - ETA: 4:34 - loss: 0.0163 - categorical_accuracy: 0.78 - ETA: 4:33 - loss: 0.0163 - categorical_accuracy: 0.78 - ETA: 4:33 - loss: 0.0163 - categorical_accuracy: 0.78 - ETA: 4:32 - loss: 0.0163 - categorical_accuracy: 0.78 - ETA: 4:32 - loss: 0.0163 - categorical_accuracy: 0.78 - ETA: 4:31 - loss: 0.0163 - categorical_accuracy: 0.78 - ETA: 4:31 - loss: 0.0163 - categorical_accuracy: 0.78 - ETA: 4:30 - loss: 0.0163 - categorical_accuracy: 0.78 - ETA: 4:30 - loss: 0.0163 - categorical_accuracy: 0.78 - ETA: 4:30 - loss: 0.0163 - categorical_accuracy: 0.78 - ETA: 4:29 - loss: 0.0163 - categorical_accuracy: 0.78 - ETA: 4:29 - loss: 0.0163 - categorical_accuracy: 0.78 - ETA: 4:28 - loss: 0.0163 - categorical_accuracy: 0.78 - ETA: 4:28 - loss: 0.0163 - categorical_accuracy: 0.78 - ETA: 4:27 - loss: 0.0163 - categorical_accuracy: 0.78 - ETA: 4:27 - loss: 0.0163 - categorical_accuracy: 0.78 - ETA: 4:26 - loss: 0.0163 - categorical_accuracy: 0.78 - ETA: 4:26 - loss: 0.0163 - categorical_accuracy: 0.78 - ETA: 4:25 - loss: 0.0163 - categorical_accuracy: 0.78 - ETA: 4:25 - loss: 0.0163 - categorical_accuracy: 0.78 - ETA: 4:24 - loss: 0.0163 - categorical_accuracy: 0.78 - ETA: 4:24 - loss: 0.0163 - categorical_accuracy: 0.78 - ETA: 4:23 - loss: 0.0163 - categorical_accuracy: 0.78 - ETA: 4:23 - loss: 0.0163 - categorical_accuracy: 0.78 - ETA: 4:23 - loss: 0.0163 - categorical_accuracy: 0.78 - ETA: 4:22 - loss: 0.0163 - categorical_accuracy: 0.78 - ETA: 4:22 - loss: 0.0163 - categorical_accuracy: 0.78 - ETA: 4:21 - loss: 0.0163 - categorical_accuracy: 0.78 - ETA: 4:21 - loss: 0.0163 - categorical_accuracy: 0.78 - ETA: 4:20 - loss: 0.0163 - categorical_accuracy: 0.78 - ETA: 4:20 - loss: 0.0164 - categorical_accuracy: 0.78 - ETA: 4:19 - loss: 0.0164 - categorical_accuracy: 0.78 - ETA: 4:19 - loss: 0.0164 - categorical_accuracy: 0.78 - ETA: 4:18 - loss: 0.0163 - categorical_accuracy: 0.78 - ETA: 4:18 - loss: 0.0163 - categorical_accuracy: 0.78 - ETA: 4:18 - loss: 0.0163 - categorical_accuracy: 0.78 - ETA: 4:17 - loss: 0.0163 - categorical_accuracy: 0.78 - ETA: 4:17 - loss: 0.0163 - categorical_accuracy: 0.78 - ETA: 4:16 - loss: 0.0163 - categorical_accuracy: 0.7893"
     ]
    },
    {
     "name": "stdout",
     "output_type": "stream",
     "text": [
      "23360/38368 [=================>............] - ETA: 4:16 - loss: 0.0163 - categorical_accuracy: 0.78 - ETA: 4:15 - loss: 0.0163 - categorical_accuracy: 0.78 - ETA: 4:15 - loss: 0.0164 - categorical_accuracy: 0.78 - ETA: 4:14 - loss: 0.0164 - categorical_accuracy: 0.78 - ETA: 4:14 - loss: 0.0164 - categorical_accuracy: 0.78 - ETA: 4:13 - loss: 0.0164 - categorical_accuracy: 0.78 - ETA: 4:13 - loss: 0.0164 - categorical_accuracy: 0.78 - ETA: 4:13 - loss: 0.0164 - categorical_accuracy: 0.78 - ETA: 4:12 - loss: 0.0164 - categorical_accuracy: 0.78 - ETA: 4:12 - loss: 0.0164 - categorical_accuracy: 0.78 - ETA: 4:11 - loss: 0.0164 - categorical_accuracy: 0.78 - ETA: 4:11 - loss: 0.0164 - categorical_accuracy: 0.78 - ETA: 4:10 - loss: 0.0164 - categorical_accuracy: 0.78 - ETA: 4:10 - loss: 0.0164 - categorical_accuracy: 0.78 - ETA: 4:10 - loss: 0.0164 - categorical_accuracy: 0.78 - ETA: 4:09 - loss: 0.0164 - categorical_accuracy: 0.78 - ETA: 4:09 - loss: 0.0164 - categorical_accuracy: 0.78 - ETA: 4:08 - loss: 0.0164 - categorical_accuracy: 0.78 - ETA: 4:08 - loss: 0.0164 - categorical_accuracy: 0.78 - ETA: 4:08 - loss: 0.0164 - categorical_accuracy: 0.78 - ETA: 4:07 - loss: 0.0164 - categorical_accuracy: 0.78 - ETA: 4:07 - loss: 0.0164 - categorical_accuracy: 0.78 - ETA: 4:06 - loss: 0.0164 - categorical_accuracy: 0.78 - ETA: 4:06 - loss: 0.0164 - categorical_accuracy: 0.78 - ETA: 4:06 - loss: 0.0164 - categorical_accuracy: 0.78 - ETA: 4:05 - loss: 0.0164 - categorical_accuracy: 0.78 - ETA: 4:05 - loss: 0.0164 - categorical_accuracy: 0.78 - ETA: 4:05 - loss: 0.0164 - categorical_accuracy: 0.78 - ETA: 4:04 - loss: 0.0164 - categorical_accuracy: 0.78 - ETA: 4:04 - loss: 0.0164 - categorical_accuracy: 0.78 - ETA: 4:03 - loss: 0.0164 - categorical_accuracy: 0.78 - ETA: 4:03 - loss: 0.0164 - categorical_accuracy: 0.78 - ETA: 4:03 - loss: 0.0164 - categorical_accuracy: 0.78 - ETA: 4:02 - loss: 0.0164 - categorical_accuracy: 0.78 - ETA: 4:02 - loss: 0.0164 - categorical_accuracy: 0.78 - ETA: 4:01 - loss: 0.0164 - categorical_accuracy: 0.78 - ETA: 4:01 - loss: 0.0164 - categorical_accuracy: 0.78 - ETA: 4:00 - loss: 0.0164 - categorical_accuracy: 0.78 - ETA: 4:00 - loss: 0.0164 - categorical_accuracy: 0.78 - ETA: 4:00 - loss: 0.0164 - categorical_accuracy: 0.78 - ETA: 3:59 - loss: 0.0164 - categorical_accuracy: 0.78 - ETA: 3:59 - loss: 0.0164 - categorical_accuracy: 0.78 - ETA: 3:58 - loss: 0.0164 - categorical_accuracy: 0.78 - ETA: 3:58 - loss: 0.0164 - categorical_accuracy: 0.78 - ETA: 3:58 - loss: 0.0164 - categorical_accuracy: 0.78 - ETA: 3:57 - loss: 0.0164 - categorical_accuracy: 0.78 - ETA: 3:57 - loss: 0.0164 - categorical_accuracy: 0.78 - ETA: 3:56 - loss: 0.0164 - categorical_accuracy: 0.78 - ETA: 3:56 - loss: 0.0164 - categorical_accuracy: 0.78 - ETA: 3:55 - loss: 0.0164 - categorical_accuracy: 0.78 - ETA: 3:55 - loss: 0.0164 - categorical_accuracy: 0.78 - ETA: 3:55 - loss: 0.0164 - categorical_accuracy: 0.78 - ETA: 3:54 - loss: 0.0164 - categorical_accuracy: 0.78 - ETA: 3:54 - loss: 0.0164 - categorical_accuracy: 0.78 - ETA: 3:53 - loss: 0.0164 - categorical_accuracy: 0.78 - ETA: 3:53 - loss: 0.0164 - categorical_accuracy: 0.78 - ETA: 3:52 - loss: 0.0164 - categorical_accuracy: 0.78 - ETA: 3:52 - loss: 0.0164 - categorical_accuracy: 0.78 - ETA: 3:52 - loss: 0.0164 - categorical_accuracy: 0.78 - ETA: 3:51 - loss: 0.0164 - categorical_accuracy: 0.78 - ETA: 3:51 - loss: 0.0164 - categorical_accuracy: 0.78 - ETA: 3:50 - loss: 0.0164 - categorical_accuracy: 0.78 - ETA: 3:50 - loss: 0.0164 - categorical_accuracy: 0.78 - ETA: 3:50 - loss: 0.0164 - categorical_accuracy: 0.78 - ETA: 3:49 - loss: 0.0165 - categorical_accuracy: 0.78 - ETA: 3:49 - loss: 0.0165 - categorical_accuracy: 0.78 - ETA: 3:48 - loss: 0.0165 - categorical_accuracy: 0.78 - ETA: 3:48 - loss: 0.0165 - categorical_accuracy: 0.78 - ETA: 3:47 - loss: 0.0165 - categorical_accuracy: 0.78 - ETA: 3:47 - loss: 0.0165 - categorical_accuracy: 0.78 - ETA: 3:47 - loss: 0.0165 - categorical_accuracy: 0.78 - ETA: 3:46 - loss: 0.0165 - categorical_accuracy: 0.78 - ETA: 3:46 - loss: 0.0165 - categorical_accuracy: 0.78 - ETA: 3:45 - loss: 0.0165 - categorical_accuracy: 0.78 - ETA: 3:45 - loss: 0.0165 - categorical_accuracy: 0.78 - ETA: 3:44 - loss: 0.0165 - categorical_accuracy: 0.78 - ETA: 3:44 - loss: 0.0165 - categorical_accuracy: 0.78 - ETA: 3:43 - loss: 0.0165 - categorical_accuracy: 0.78 - ETA: 3:43 - loss: 0.0165 - categorical_accuracy: 0.78 - ETA: 3:43 - loss: 0.0165 - categorical_accuracy: 0.78 - ETA: 3:42 - loss: 0.0165 - categorical_accuracy: 0.78 - ETA: 3:42 - loss: 0.0165 - categorical_accuracy: 0.78 - ETA: 3:41 - loss: 0.0165 - categorical_accuracy: 0.78 - ETA: 3:41 - loss: 0.0165 - categorical_accuracy: 0.78 - ETA: 3:40 - loss: 0.0165 - categorical_accuracy: 0.78 - ETA: 3:40 - loss: 0.0165 - categorical_accuracy: 0.78 - ETA: 3:40 - loss: 0.0165 - categorical_accuracy: 0.78 - ETA: 3:39 - loss: 0.0165 - categorical_accuracy: 0.78 - ETA: 3:39 - loss: 0.0165 - categorical_accuracy: 0.78 - ETA: 3:38 - loss: 0.0165 - categorical_accuracy: 0.78 - ETA: 3:38 - loss: 0.0165 - categorical_accuracy: 0.78 - ETA: 3:38 - loss: 0.0165 - categorical_accuracy: 0.78 - ETA: 3:37 - loss: 0.0165 - categorical_accuracy: 0.78 - ETA: 3:37 - loss: 0.0165 - categorical_accuracy: 0.78 - ETA: 3:36 - loss: 0.0165 - categorical_accuracy: 0.78 - ETA: 3:36 - loss: 0.0165 - categorical_accuracy: 0.78 - ETA: 3:35 - loss: 0.0165 - categorical_accuracy: 0.78 - ETA: 3:35 - loss: 0.0165 - categorical_accuracy: 0.78 - ETA: 3:35 - loss: 0.0165 - categorical_accuracy: 0.78 - ETA: 3:34 - loss: 0.0165 - categorical_accuracy: 0.78 - ETA: 3:34 - loss: 0.0165 - categorical_accuracy: 0.78 - ETA: 3:33 - loss: 0.0165 - categorical_accuracy: 0.78 - ETA: 3:33 - loss: 0.0165 - categorical_accuracy: 0.78 - ETA: 3:32 - loss: 0.0165 - categorical_accuracy: 0.78 - ETA: 3:32 - loss: 0.0165 - categorical_accuracy: 0.78 - ETA: 3:32 - loss: 0.0165 - categorical_accuracy: 0.78 - ETA: 3:31 - loss: 0.0165 - categorical_accuracy: 0.78 - ETA: 3:31 - loss: 0.0165 - categorical_accuracy: 0.78 - ETA: 3:30 - loss: 0.0165 - categorical_accuracy: 0.78 - ETA: 3:30 - loss: 0.0165 - categorical_accuracy: 0.78 - ETA: 3:29 - loss: 0.0165 - categorical_accuracy: 0.78 - ETA: 3:29 - loss: 0.0165 - categorical_accuracy: 0.78 - ETA: 3:28 - loss: 0.0165 - categorical_accuracy: 0.78 - ETA: 3:28 - loss: 0.0165 - categorical_accuracy: 0.78 - ETA: 3:28 - loss: 0.0165 - categorical_accuracy: 0.78 - ETA: 3:27 - loss: 0.0165 - categorical_accuracy: 0.78 - ETA: 3:27 - loss: 0.0165 - categorical_accuracy: 0.78 - ETA: 3:26 - loss: 0.0165 - categorical_accuracy: 0.78 - ETA: 3:26 - loss: 0.0165 - categorical_accuracy: 0.78 - ETA: 3:25 - loss: 0.0165 - categorical_accuracy: 0.78 - ETA: 3:25 - loss: 0.0165 - categorical_accuracy: 0.78 - ETA: 3:24 - loss: 0.0165 - categorical_accuracy: 0.78 - ETA: 3:24 - loss: 0.0165 - categorical_accuracy: 0.78 - ETA: 3:24 - loss: 0.0165 - categorical_accuracy: 0.78 - ETA: 3:23 - loss: 0.0165 - categorical_accuracy: 0.78 - ETA: 3:23 - loss: 0.0165 - categorical_accuracy: 0.78 - ETA: 3:22 - loss: 0.0165 - categorical_accuracy: 0.78 - ETA: 3:22 - loss: 0.0164 - categorical_accuracy: 0.78 - ETA: 3:21 - loss: 0.0164 - categorical_accuracy: 0.78 - ETA: 3:21 - loss: 0.0165 - categorical_accuracy: 0.78 - ETA: 3:21 - loss: 0.0165 - categorical_accuracy: 0.78 - ETA: 3:20 - loss: 0.0165 - categorical_accuracy: 0.78 - ETA: 3:20 - loss: 0.0165 - categorical_accuracy: 0.78 - ETA: 3:19 - loss: 0.0164 - categorical_accuracy: 0.78 - ETA: 3:19 - loss: 0.0164 - categorical_accuracy: 0.78 - ETA: 3:18 - loss: 0.0164 - categorical_accuracy: 0.78 - ETA: 3:18 - loss: 0.0164 - categorical_accuracy: 0.78 - ETA: 3:17 - loss: 0.0164 - categorical_accuracy: 0.78 - ETA: 3:17 - loss: 0.0164 - categorical_accuracy: 0.78 - ETA: 3:17 - loss: 0.0164 - categorical_accuracy: 0.78 - ETA: 3:16 - loss: 0.0164 - categorical_accuracy: 0.78 - ETA: 3:16 - loss: 0.0165 - categorical_accuracy: 0.78 - ETA: 3:15 - loss: 0.0165 - categorical_accuracy: 0.78 - ETA: 3:15 - loss: 0.0165 - categorical_accuracy: 0.78 - ETA: 3:14 - loss: 0.0165 - categorical_accuracy: 0.78 - ETA: 3:14 - loss: 0.0165 - categorical_accuracy: 0.7897"
     ]
    },
    {
     "name": "stdout",
     "output_type": "stream",
     "text": [
      "28032/38368 [====================>.........] - ETA: 3:13 - loss: 0.0165 - categorical_accuracy: 0.78 - ETA: 3:13 - loss: 0.0165 - categorical_accuracy: 0.78 - ETA: 3:13 - loss: 0.0165 - categorical_accuracy: 0.78 - ETA: 3:12 - loss: 0.0165 - categorical_accuracy: 0.78 - ETA: 3:12 - loss: 0.0165 - categorical_accuracy: 0.78 - ETA: 3:11 - loss: 0.0165 - categorical_accuracy: 0.78 - ETA: 3:11 - loss: 0.0165 - categorical_accuracy: 0.78 - ETA: 3:10 - loss: 0.0165 - categorical_accuracy: 0.78 - ETA: 3:10 - loss: 0.0165 - categorical_accuracy: 0.78 - ETA: 3:09 - loss: 0.0165 - categorical_accuracy: 0.78 - ETA: 3:09 - loss: 0.0165 - categorical_accuracy: 0.78 - ETA: 3:09 - loss: 0.0165 - categorical_accuracy: 0.78 - ETA: 3:08 - loss: 0.0165 - categorical_accuracy: 0.78 - ETA: 3:08 - loss: 0.0165 - categorical_accuracy: 0.78 - ETA: 3:07 - loss: 0.0165 - categorical_accuracy: 0.78 - ETA: 3:07 - loss: 0.0165 - categorical_accuracy: 0.78 - ETA: 3:06 - loss: 0.0165 - categorical_accuracy: 0.78 - ETA: 3:06 - loss: 0.0165 - categorical_accuracy: 0.78 - ETA: 3:05 - loss: 0.0165 - categorical_accuracy: 0.78 - ETA: 3:05 - loss: 0.0165 - categorical_accuracy: 0.78 - ETA: 3:05 - loss: 0.0165 - categorical_accuracy: 0.78 - ETA: 3:04 - loss: 0.0165 - categorical_accuracy: 0.78 - ETA: 3:04 - loss: 0.0165 - categorical_accuracy: 0.78 - ETA: 3:03 - loss: 0.0165 - categorical_accuracy: 0.78 - ETA: 3:03 - loss: 0.0165 - categorical_accuracy: 0.78 - ETA: 3:02 - loss: 0.0165 - categorical_accuracy: 0.78 - ETA: 3:02 - loss: 0.0165 - categorical_accuracy: 0.78 - ETA: 3:01 - loss: 0.0165 - categorical_accuracy: 0.78 - ETA: 3:01 - loss: 0.0165 - categorical_accuracy: 0.78 - ETA: 3:01 - loss: 0.0165 - categorical_accuracy: 0.78 - ETA: 3:00 - loss: 0.0165 - categorical_accuracy: 0.78 - ETA: 3:00 - loss: 0.0165 - categorical_accuracy: 0.78 - ETA: 2:59 - loss: 0.0165 - categorical_accuracy: 0.78 - ETA: 2:59 - loss: 0.0165 - categorical_accuracy: 0.78 - ETA: 2:58 - loss: 0.0165 - categorical_accuracy: 0.78 - ETA: 2:58 - loss: 0.0165 - categorical_accuracy: 0.78 - ETA: 2:58 - loss: 0.0165 - categorical_accuracy: 0.78 - ETA: 2:57 - loss: 0.0165 - categorical_accuracy: 0.78 - ETA: 2:57 - loss: 0.0165 - categorical_accuracy: 0.78 - ETA: 2:56 - loss: 0.0165 - categorical_accuracy: 0.78 - ETA: 2:56 - loss: 0.0165 - categorical_accuracy: 0.78 - ETA: 2:55 - loss: 0.0166 - categorical_accuracy: 0.78 - ETA: 2:55 - loss: 0.0166 - categorical_accuracy: 0.78 - ETA: 2:55 - loss: 0.0166 - categorical_accuracy: 0.78 - ETA: 2:54 - loss: 0.0166 - categorical_accuracy: 0.78 - ETA: 2:54 - loss: 0.0166 - categorical_accuracy: 0.78 - ETA: 2:53 - loss: 0.0166 - categorical_accuracy: 0.78 - ETA: 2:53 - loss: 0.0166 - categorical_accuracy: 0.78 - ETA: 2:52 - loss: 0.0166 - categorical_accuracy: 0.78 - ETA: 2:52 - loss: 0.0166 - categorical_accuracy: 0.78 - ETA: 2:52 - loss: 0.0166 - categorical_accuracy: 0.78 - ETA: 2:51 - loss: 0.0166 - categorical_accuracy: 0.78 - ETA: 2:51 - loss: 0.0166 - categorical_accuracy: 0.78 - ETA: 2:50 - loss: 0.0166 - categorical_accuracy: 0.78 - ETA: 2:50 - loss: 0.0166 - categorical_accuracy: 0.78 - ETA: 2:49 - loss: 0.0166 - categorical_accuracy: 0.78 - ETA: 2:49 - loss: 0.0166 - categorical_accuracy: 0.78 - ETA: 2:49 - loss: 0.0166 - categorical_accuracy: 0.78 - ETA: 2:48 - loss: 0.0166 - categorical_accuracy: 0.78 - ETA: 2:48 - loss: 0.0166 - categorical_accuracy: 0.78 - ETA: 2:47 - loss: 0.0166 - categorical_accuracy: 0.78 - ETA: 2:47 - loss: 0.0165 - categorical_accuracy: 0.78 - ETA: 2:46 - loss: 0.0165 - categorical_accuracy: 0.78 - ETA: 2:46 - loss: 0.0165 - categorical_accuracy: 0.78 - ETA: 2:46 - loss: 0.0166 - categorical_accuracy: 0.78 - ETA: 2:45 - loss: 0.0165 - categorical_accuracy: 0.78 - ETA: 2:45 - loss: 0.0165 - categorical_accuracy: 0.78 - ETA: 2:44 - loss: 0.0165 - categorical_accuracy: 0.78 - ETA: 2:44 - loss: 0.0165 - categorical_accuracy: 0.78 - ETA: 2:43 - loss: 0.0165 - categorical_accuracy: 0.78 - ETA: 2:43 - loss: 0.0165 - categorical_accuracy: 0.78 - ETA: 2:43 - loss: 0.0165 - categorical_accuracy: 0.78 - ETA: 2:42 - loss: 0.0165 - categorical_accuracy: 0.78 - ETA: 2:42 - loss: 0.0165 - categorical_accuracy: 0.78 - ETA: 2:41 - loss: 0.0165 - categorical_accuracy: 0.78 - ETA: 2:41 - loss: 0.0165 - categorical_accuracy: 0.78 - ETA: 2:40 - loss: 0.0165 - categorical_accuracy: 0.78 - ETA: 2:40 - loss: 0.0165 - categorical_accuracy: 0.78 - ETA: 2:40 - loss: 0.0165 - categorical_accuracy: 0.78 - ETA: 2:39 - loss: 0.0165 - categorical_accuracy: 0.78 - ETA: 2:39 - loss: 0.0165 - categorical_accuracy: 0.78 - ETA: 2:38 - loss: 0.0165 - categorical_accuracy: 0.78 - ETA: 2:38 - loss: 0.0165 - categorical_accuracy: 0.78 - ETA: 2:37 - loss: 0.0165 - categorical_accuracy: 0.78 - ETA: 2:37 - loss: 0.0165 - categorical_accuracy: 0.78 - ETA: 2:37 - loss: 0.0165 - categorical_accuracy: 0.78 - ETA: 2:36 - loss: 0.0165 - categorical_accuracy: 0.78 - ETA: 2:36 - loss: 0.0165 - categorical_accuracy: 0.78 - ETA: 2:35 - loss: 0.0165 - categorical_accuracy: 0.79 - ETA: 2:35 - loss: 0.0165 - categorical_accuracy: 0.79 - ETA: 2:34 - loss: 0.0165 - categorical_accuracy: 0.79 - ETA: 2:34 - loss: 0.0165 - categorical_accuracy: 0.79 - ETA: 2:34 - loss: 0.0165 - categorical_accuracy: 0.79 - ETA: 2:33 - loss: 0.0165 - categorical_accuracy: 0.78 - ETA: 2:33 - loss: 0.0165 - categorical_accuracy: 0.78 - ETA: 2:32 - loss: 0.0165 - categorical_accuracy: 0.78 - ETA: 2:32 - loss: 0.0165 - categorical_accuracy: 0.78 - ETA: 2:32 - loss: 0.0165 - categorical_accuracy: 0.78 - ETA: 2:31 - loss: 0.0165 - categorical_accuracy: 0.78 - ETA: 2:31 - loss: 0.0165 - categorical_accuracy: 0.78 - ETA: 2:30 - loss: 0.0165 - categorical_accuracy: 0.78 - ETA: 2:30 - loss: 0.0165 - categorical_accuracy: 0.79 - ETA: 2:29 - loss: 0.0165 - categorical_accuracy: 0.79 - ETA: 2:29 - loss: 0.0165 - categorical_accuracy: 0.79 - ETA: 2:28 - loss: 0.0165 - categorical_accuracy: 0.79 - ETA: 2:28 - loss: 0.0165 - categorical_accuracy: 0.79 - ETA: 2:28 - loss: 0.0165 - categorical_accuracy: 0.79 - ETA: 2:27 - loss: 0.0165 - categorical_accuracy: 0.78 - ETA: 2:27 - loss: 0.0165 - categorical_accuracy: 0.78 - ETA: 2:26 - loss: 0.0165 - categorical_accuracy: 0.78 - ETA: 2:26 - loss: 0.0165 - categorical_accuracy: 0.78 - ETA: 2:26 - loss: 0.0165 - categorical_accuracy: 0.78 - ETA: 2:25 - loss: 0.0166 - categorical_accuracy: 0.78 - ETA: 2:25 - loss: 0.0166 - categorical_accuracy: 0.78 - ETA: 2:24 - loss: 0.0166 - categorical_accuracy: 0.78 - ETA: 2:24 - loss: 0.0165 - categorical_accuracy: 0.78 - ETA: 2:23 - loss: 0.0165 - categorical_accuracy: 0.78 - ETA: 2:23 - loss: 0.0165 - categorical_accuracy: 0.78 - ETA: 2:23 - loss: 0.0166 - categorical_accuracy: 0.78 - ETA: 2:22 - loss: 0.0166 - categorical_accuracy: 0.78 - ETA: 2:22 - loss: 0.0166 - categorical_accuracy: 0.78 - ETA: 2:21 - loss: 0.0166 - categorical_accuracy: 0.78 - ETA: 2:21 - loss: 0.0166 - categorical_accuracy: 0.78 - ETA: 2:20 - loss: 0.0166 - categorical_accuracy: 0.78 - ETA: 2:20 - loss: 0.0166 - categorical_accuracy: 0.78 - ETA: 2:20 - loss: 0.0166 - categorical_accuracy: 0.78 - ETA: 2:19 - loss: 0.0166 - categorical_accuracy: 0.78 - ETA: 2:19 - loss: 0.0166 - categorical_accuracy: 0.78 - ETA: 2:18 - loss: 0.0166 - categorical_accuracy: 0.78 - ETA: 2:18 - loss: 0.0166 - categorical_accuracy: 0.78 - ETA: 2:18 - loss: 0.0166 - categorical_accuracy: 0.78 - ETA: 2:17 - loss: 0.0166 - categorical_accuracy: 0.78 - ETA: 2:17 - loss: 0.0166 - categorical_accuracy: 0.78 - ETA: 2:16 - loss: 0.0166 - categorical_accuracy: 0.78 - ETA: 2:16 - loss: 0.0166 - categorical_accuracy: 0.78 - ETA: 2:15 - loss: 0.0166 - categorical_accuracy: 0.78 - ETA: 2:15 - loss: 0.0166 - categorical_accuracy: 0.78 - ETA: 2:15 - loss: 0.0166 - categorical_accuracy: 0.78 - ETA: 2:14 - loss: 0.0166 - categorical_accuracy: 0.78 - ETA: 2:14 - loss: 0.0166 - categorical_accuracy: 0.78 - ETA: 2:13 - loss: 0.0166 - categorical_accuracy: 0.78 - ETA: 2:13 - loss: 0.0166 - categorical_accuracy: 0.78 - ETA: 2:13 - loss: 0.0166 - categorical_accuracy: 0.78 - ETA: 2:12 - loss: 0.0166 - categorical_accuracy: 0.78 - ETA: 2:12 - loss: 0.0166 - categorical_accuracy: 0.78 - ETA: 2:11 - loss: 0.0166 - categorical_accuracy: 0.7899"
     ]
    },
    {
     "name": "stdout",
     "output_type": "stream",
     "text": [
      "32704/38368 [========================>.....] - ETA: 2:11 - loss: 0.0166 - categorical_accuracy: 0.78 - ETA: 2:11 - loss: 0.0166 - categorical_accuracy: 0.78 - ETA: 2:10 - loss: 0.0166 - categorical_accuracy: 0.78 - ETA: 2:10 - loss: 0.0166 - categorical_accuracy: 0.78 - ETA: 2:09 - loss: 0.0166 - categorical_accuracy: 0.78 - ETA: 2:09 - loss: 0.0166 - categorical_accuracy: 0.78 - ETA: 2:09 - loss: 0.0166 - categorical_accuracy: 0.78 - ETA: 2:08 - loss: 0.0166 - categorical_accuracy: 0.79 - ETA: 2:08 - loss: 0.0166 - categorical_accuracy: 0.78 - ETA: 2:07 - loss: 0.0166 - categorical_accuracy: 0.78 - ETA: 2:07 - loss: 0.0166 - categorical_accuracy: 0.78 - ETA: 2:07 - loss: 0.0166 - categorical_accuracy: 0.78 - ETA: 2:06 - loss: 0.0166 - categorical_accuracy: 0.78 - ETA: 2:06 - loss: 0.0166 - categorical_accuracy: 0.78 - ETA: 2:05 - loss: 0.0166 - categorical_accuracy: 0.78 - ETA: 2:05 - loss: 0.0166 - categorical_accuracy: 0.78 - ETA: 2:05 - loss: 0.0166 - categorical_accuracy: 0.78 - ETA: 2:04 - loss: 0.0167 - categorical_accuracy: 0.78 - ETA: 2:04 - loss: 0.0167 - categorical_accuracy: 0.78 - ETA: 2:03 - loss: 0.0167 - categorical_accuracy: 0.78 - ETA: 2:03 - loss: 0.0167 - categorical_accuracy: 0.78 - ETA: 2:02 - loss: 0.0167 - categorical_accuracy: 0.78 - ETA: 2:02 - loss: 0.0166 - categorical_accuracy: 0.78 - ETA: 2:02 - loss: 0.0167 - categorical_accuracy: 0.78 - ETA: 2:01 - loss: 0.0167 - categorical_accuracy: 0.78 - ETA: 2:01 - loss: 0.0167 - categorical_accuracy: 0.78 - ETA: 2:00 - loss: 0.0167 - categorical_accuracy: 0.78 - ETA: 2:00 - loss: 0.0167 - categorical_accuracy: 0.78 - ETA: 2:00 - loss: 0.0167 - categorical_accuracy: 0.78 - ETA: 1:59 - loss: 0.0167 - categorical_accuracy: 0.78 - ETA: 1:59 - loss: 0.0167 - categorical_accuracy: 0.78 - ETA: 1:58 - loss: 0.0167 - categorical_accuracy: 0.78 - ETA: 1:58 - loss: 0.0167 - categorical_accuracy: 0.78 - ETA: 1:57 - loss: 0.0167 - categorical_accuracy: 0.78 - ETA: 1:57 - loss: 0.0167 - categorical_accuracy: 0.78 - ETA: 1:57 - loss: 0.0167 - categorical_accuracy: 0.78 - ETA: 1:56 - loss: 0.0167 - categorical_accuracy: 0.78 - ETA: 1:56 - loss: 0.0167 - categorical_accuracy: 0.78 - ETA: 1:55 - loss: 0.0167 - categorical_accuracy: 0.78 - ETA: 1:55 - loss: 0.0167 - categorical_accuracy: 0.78 - ETA: 1:55 - loss: 0.0167 - categorical_accuracy: 0.78 - ETA: 1:54 - loss: 0.0167 - categorical_accuracy: 0.78 - ETA: 1:54 - loss: 0.0167 - categorical_accuracy: 0.78 - ETA: 1:53 - loss: 0.0167 - categorical_accuracy: 0.78 - ETA: 1:53 - loss: 0.0167 - categorical_accuracy: 0.78 - ETA: 1:52 - loss: 0.0167 - categorical_accuracy: 0.78 - ETA: 1:52 - loss: 0.0167 - categorical_accuracy: 0.78 - ETA: 1:52 - loss: 0.0167 - categorical_accuracy: 0.78 - ETA: 1:51 - loss: 0.0167 - categorical_accuracy: 0.78 - ETA: 1:51 - loss: 0.0167 - categorical_accuracy: 0.78 - ETA: 1:50 - loss: 0.0167 - categorical_accuracy: 0.78 - ETA: 1:50 - loss: 0.0168 - categorical_accuracy: 0.78 - ETA: 1:50 - loss: 0.0167 - categorical_accuracy: 0.78 - ETA: 1:49 - loss: 0.0168 - categorical_accuracy: 0.78 - ETA: 1:49 - loss: 0.0168 - categorical_accuracy: 0.78 - ETA: 1:48 - loss: 0.0168 - categorical_accuracy: 0.78 - ETA: 1:48 - loss: 0.0168 - categorical_accuracy: 0.78 - ETA: 1:48 - loss: 0.0168 - categorical_accuracy: 0.78 - ETA: 1:47 - loss: 0.0168 - categorical_accuracy: 0.78 - ETA: 1:47 - loss: 0.0168 - categorical_accuracy: 0.78 - ETA: 1:47 - loss: 0.0168 - categorical_accuracy: 0.78 - ETA: 1:46 - loss: 0.0167 - categorical_accuracy: 0.78 - ETA: 1:46 - loss: 0.0167 - categorical_accuracy: 0.78 - ETA: 1:45 - loss: 0.0167 - categorical_accuracy: 0.78 - ETA: 1:45 - loss: 0.0167 - categorical_accuracy: 0.78 - ETA: 1:45 - loss: 0.0168 - categorical_accuracy: 0.78 - ETA: 1:44 - loss: 0.0168 - categorical_accuracy: 0.78 - ETA: 1:44 - loss: 0.0168 - categorical_accuracy: 0.78 - ETA: 1:43 - loss: 0.0168 - categorical_accuracy: 0.78 - ETA: 1:43 - loss: 0.0168 - categorical_accuracy: 0.78 - ETA: 1:42 - loss: 0.0168 - categorical_accuracy: 0.78 - ETA: 1:42 - loss: 0.0168 - categorical_accuracy: 0.78 - ETA: 1:42 - loss: 0.0168 - categorical_accuracy: 0.78 - ETA: 1:41 - loss: 0.0168 - categorical_accuracy: 0.78 - ETA: 1:41 - loss: 0.0168 - categorical_accuracy: 0.78 - ETA: 1:40 - loss: 0.0168 - categorical_accuracy: 0.78 - ETA: 1:40 - loss: 0.0168 - categorical_accuracy: 0.78 - ETA: 1:40 - loss: 0.0168 - categorical_accuracy: 0.78 - ETA: 1:39 - loss: 0.0168 - categorical_accuracy: 0.78 - ETA: 1:39 - loss: 0.0168 - categorical_accuracy: 0.78 - ETA: 1:38 - loss: 0.0168 - categorical_accuracy: 0.78 - ETA: 1:38 - loss: 0.0168 - categorical_accuracy: 0.78 - ETA: 1:38 - loss: 0.0168 - categorical_accuracy: 0.78 - ETA: 1:37 - loss: 0.0168 - categorical_accuracy: 0.78 - ETA: 1:37 - loss: 0.0168 - categorical_accuracy: 0.78 - ETA: 1:36 - loss: 0.0168 - categorical_accuracy: 0.78 - ETA: 1:36 - loss: 0.0168 - categorical_accuracy: 0.78 - ETA: 1:36 - loss: 0.0168 - categorical_accuracy: 0.78 - ETA: 1:35 - loss: 0.0168 - categorical_accuracy: 0.78 - ETA: 1:35 - loss: 0.0168 - categorical_accuracy: 0.78 - ETA: 1:34 - loss: 0.0168 - categorical_accuracy: 0.78 - ETA: 1:34 - loss: 0.0168 - categorical_accuracy: 0.78 - ETA: 1:34 - loss: 0.0168 - categorical_accuracy: 0.78 - ETA: 1:33 - loss: 0.0168 - categorical_accuracy: 0.78 - ETA: 1:33 - loss: 0.0168 - categorical_accuracy: 0.78 - ETA: 1:32 - loss: 0.0168 - categorical_accuracy: 0.78 - ETA: 1:32 - loss: 0.0168 - categorical_accuracy: 0.78 - ETA: 1:32 - loss: 0.0168 - categorical_accuracy: 0.78 - ETA: 1:31 - loss: 0.0168 - categorical_accuracy: 0.78 - ETA: 1:31 - loss: 0.0168 - categorical_accuracy: 0.78 - ETA: 1:31 - loss: 0.0168 - categorical_accuracy: 0.78 - ETA: 1:30 - loss: 0.0168 - categorical_accuracy: 0.78 - ETA: 1:30 - loss: 0.0168 - categorical_accuracy: 0.78 - ETA: 1:29 - loss: 0.0168 - categorical_accuracy: 0.78 - ETA: 1:29 - loss: 0.0168 - categorical_accuracy: 0.78 - ETA: 1:29 - loss: 0.0168 - categorical_accuracy: 0.78 - ETA: 1:28 - loss: 0.0168 - categorical_accuracy: 0.78 - ETA: 1:28 - loss: 0.0168 - categorical_accuracy: 0.78 - ETA: 1:27 - loss: 0.0168 - categorical_accuracy: 0.78 - ETA: 1:27 - loss: 0.0168 - categorical_accuracy: 0.78 - ETA: 1:27 - loss: 0.0168 - categorical_accuracy: 0.78 - ETA: 1:26 - loss: 0.0168 - categorical_accuracy: 0.78 - ETA: 1:26 - loss: 0.0168 - categorical_accuracy: 0.78 - ETA: 1:25 - loss: 0.0168 - categorical_accuracy: 0.78 - ETA: 1:25 - loss: 0.0168 - categorical_accuracy: 0.78 - ETA: 1:25 - loss: 0.0168 - categorical_accuracy: 0.78 - ETA: 1:24 - loss: 0.0168 - categorical_accuracy: 0.78 - ETA: 1:24 - loss: 0.0168 - categorical_accuracy: 0.78 - ETA: 1:23 - loss: 0.0168 - categorical_accuracy: 0.78 - ETA: 1:23 - loss: 0.0168 - categorical_accuracy: 0.78 - ETA: 1:23 - loss: 0.0168 - categorical_accuracy: 0.78 - ETA: 1:22 - loss: 0.0168 - categorical_accuracy: 0.78 - ETA: 1:22 - loss: 0.0168 - categorical_accuracy: 0.78 - ETA: 1:21 - loss: 0.0168 - categorical_accuracy: 0.78 - ETA: 1:21 - loss: 0.0168 - categorical_accuracy: 0.78 - ETA: 1:21 - loss: 0.0168 - categorical_accuracy: 0.78 - ETA: 1:20 - loss: 0.0168 - categorical_accuracy: 0.78 - ETA: 1:20 - loss: 0.0168 - categorical_accuracy: 0.78 - ETA: 1:19 - loss: 0.0168 - categorical_accuracy: 0.78 - ETA: 1:19 - loss: 0.0168 - categorical_accuracy: 0.78 - ETA: 1:19 - loss: 0.0168 - categorical_accuracy: 0.78 - ETA: 1:18 - loss: 0.0168 - categorical_accuracy: 0.78 - ETA: 1:18 - loss: 0.0168 - categorical_accuracy: 0.78 - ETA: 1:17 - loss: 0.0168 - categorical_accuracy: 0.78 - ETA: 1:17 - loss: 0.0168 - categorical_accuracy: 0.78 - ETA: 1:17 - loss: 0.0168 - categorical_accuracy: 0.78 - ETA: 1:16 - loss: 0.0168 - categorical_accuracy: 0.78 - ETA: 1:16 - loss: 0.0168 - categorical_accuracy: 0.78 - ETA: 1:15 - loss: 0.0168 - categorical_accuracy: 0.78 - ETA: 1:15 - loss: 0.0168 - categorical_accuracy: 0.78 - ETA: 1:15 - loss: 0.0168 - categorical_accuracy: 0.78 - ETA: 1:14 - loss: 0.0168 - categorical_accuracy: 0.78 - ETA: 1:14 - loss: 0.0168 - categorical_accuracy: 0.78 - ETA: 1:13 - loss: 0.0168 - categorical_accuracy: 0.78 - ETA: 1:13 - loss: 0.0168 - categorical_accuracy: 0.78 - ETA: 1:13 - loss: 0.0168 - categorical_accuracy: 0.7898"
     ]
    },
    {
     "name": "stdout",
     "output_type": "stream",
     "text": [
      "37376/38368 [============================>.] - ETA: 1:12 - loss: 0.0168 - categorical_accuracy: 0.78 - ETA: 1:12 - loss: 0.0168 - categorical_accuracy: 0.78 - ETA: 1:11 - loss: 0.0168 - categorical_accuracy: 0.78 - ETA: 1:11 - loss: 0.0168 - categorical_accuracy: 0.78 - ETA: 1:11 - loss: 0.0168 - categorical_accuracy: 0.78 - ETA: 1:10 - loss: 0.0168 - categorical_accuracy: 0.78 - ETA: 1:10 - loss: 0.0168 - categorical_accuracy: 0.78 - ETA: 1:09 - loss: 0.0168 - categorical_accuracy: 0.78 - ETA: 1:09 - loss: 0.0168 - categorical_accuracy: 0.78 - ETA: 1:08 - loss: 0.0168 - categorical_accuracy: 0.78 - ETA: 1:08 - loss: 0.0168 - categorical_accuracy: 0.78 - ETA: 1:08 - loss: 0.0168 - categorical_accuracy: 0.78 - ETA: 1:07 - loss: 0.0168 - categorical_accuracy: 0.78 - ETA: 1:07 - loss: 0.0168 - categorical_accuracy: 0.78 - ETA: 1:06 - loss: 0.0168 - categorical_accuracy: 0.78 - ETA: 1:06 - loss: 0.0168 - categorical_accuracy: 0.78 - ETA: 1:06 - loss: 0.0168 - categorical_accuracy: 0.78 - ETA: 1:05 - loss: 0.0168 - categorical_accuracy: 0.78 - ETA: 1:05 - loss: 0.0168 - categorical_accuracy: 0.78 - ETA: 1:04 - loss: 0.0168 - categorical_accuracy: 0.78 - ETA: 1:04 - loss: 0.0168 - categorical_accuracy: 0.78 - ETA: 1:04 - loss: 0.0168 - categorical_accuracy: 0.78 - ETA: 1:03 - loss: 0.0168 - categorical_accuracy: 0.78 - ETA: 1:03 - loss: 0.0168 - categorical_accuracy: 0.78 - ETA: 1:02 - loss: 0.0168 - categorical_accuracy: 0.78 - ETA: 1:02 - loss: 0.0168 - categorical_accuracy: 0.78 - ETA: 1:02 - loss: 0.0168 - categorical_accuracy: 0.78 - ETA: 1:01 - loss: 0.0168 - categorical_accuracy: 0.78 - ETA: 1:01 - loss: 0.0168 - categorical_accuracy: 0.78 - ETA: 1:00 - loss: 0.0168 - categorical_accuracy: 0.78 - ETA: 1:00 - loss: 0.0168 - categorical_accuracy: 0.78 - ETA: 1:00 - loss: 0.0168 - categorical_accuracy: 0.78 - ETA: 59s - loss: 0.0168 - categorical_accuracy: 0.7897 - ETA: 59s - loss: 0.0168 - categorical_accuracy: 0.789 - ETA: 58s - loss: 0.0168 - categorical_accuracy: 0.789 - ETA: 58s - loss: 0.0168 - categorical_accuracy: 0.789 - ETA: 57s - loss: 0.0168 - categorical_accuracy: 0.789 - ETA: 57s - loss: 0.0168 - categorical_accuracy: 0.789 - ETA: 57s - loss: 0.0168 - categorical_accuracy: 0.789 - ETA: 56s - loss: 0.0168 - categorical_accuracy: 0.789 - ETA: 56s - loss: 0.0168 - categorical_accuracy: 0.789 - ETA: 55s - loss: 0.0168 - categorical_accuracy: 0.789 - ETA: 55s - loss: 0.0168 - categorical_accuracy: 0.789 - ETA: 55s - loss: 0.0168 - categorical_accuracy: 0.789 - ETA: 54s - loss: 0.0168 - categorical_accuracy: 0.789 - ETA: 54s - loss: 0.0168 - categorical_accuracy: 0.789 - ETA: 53s - loss: 0.0168 - categorical_accuracy: 0.789 - ETA: 53s - loss: 0.0168 - categorical_accuracy: 0.789 - ETA: 52s - loss: 0.0168 - categorical_accuracy: 0.789 - ETA: 52s - loss: 0.0168 - categorical_accuracy: 0.789 - ETA: 52s - loss: 0.0168 - categorical_accuracy: 0.789 - ETA: 51s - loss: 0.0168 - categorical_accuracy: 0.789 - ETA: 51s - loss: 0.0168 - categorical_accuracy: 0.789 - ETA: 50s - loss: 0.0168 - categorical_accuracy: 0.789 - ETA: 50s - loss: 0.0168 - categorical_accuracy: 0.789 - ETA: 50s - loss: 0.0168 - categorical_accuracy: 0.789 - ETA: 49s - loss: 0.0168 - categorical_accuracy: 0.789 - ETA: 49s - loss: 0.0168 - categorical_accuracy: 0.789 - ETA: 48s - loss: 0.0168 - categorical_accuracy: 0.789 - ETA: 48s - loss: 0.0168 - categorical_accuracy: 0.789 - ETA: 48s - loss: 0.0168 - categorical_accuracy: 0.789 - ETA: 47s - loss: 0.0168 - categorical_accuracy: 0.789 - ETA: 47s - loss: 0.0168 - categorical_accuracy: 0.789 - ETA: 46s - loss: 0.0168 - categorical_accuracy: 0.789 - ETA: 46s - loss: 0.0168 - categorical_accuracy: 0.789 - ETA: 45s - loss: 0.0168 - categorical_accuracy: 0.789 - ETA: 45s - loss: 0.0168 - categorical_accuracy: 0.789 - ETA: 45s - loss: 0.0168 - categorical_accuracy: 0.789 - ETA: 44s - loss: 0.0168 - categorical_accuracy: 0.789 - ETA: 44s - loss: 0.0168 - categorical_accuracy: 0.789 - ETA: 43s - loss: 0.0168 - categorical_accuracy: 0.789 - ETA: 43s - loss: 0.0168 - categorical_accuracy: 0.789 - ETA: 42s - loss: 0.0168 - categorical_accuracy: 0.789 - ETA: 42s - loss: 0.0168 - categorical_accuracy: 0.789 - ETA: 42s - loss: 0.0168 - categorical_accuracy: 0.789 - ETA: 41s - loss: 0.0168 - categorical_accuracy: 0.789 - ETA: 41s - loss: 0.0168 - categorical_accuracy: 0.789 - ETA: 40s - loss: 0.0168 - categorical_accuracy: 0.789 - ETA: 40s - loss: 0.0168 - categorical_accuracy: 0.789 - ETA: 40s - loss: 0.0168 - categorical_accuracy: 0.789 - ETA: 39s - loss: 0.0168 - categorical_accuracy: 0.789 - ETA: 39s - loss: 0.0168 - categorical_accuracy: 0.789 - ETA: 38s - loss: 0.0168 - categorical_accuracy: 0.789 - ETA: 38s - loss: 0.0168 - categorical_accuracy: 0.789 - ETA: 37s - loss: 0.0168 - categorical_accuracy: 0.789 - ETA: 37s - loss: 0.0168 - categorical_accuracy: 0.789 - ETA: 37s - loss: 0.0168 - categorical_accuracy: 0.789 - ETA: 36s - loss: 0.0168 - categorical_accuracy: 0.789 - ETA: 36s - loss: 0.0168 - categorical_accuracy: 0.789 - ETA: 35s - loss: 0.0168 - categorical_accuracy: 0.789 - ETA: 35s - loss: 0.0168 - categorical_accuracy: 0.789 - ETA: 35s - loss: 0.0168 - categorical_accuracy: 0.789 - ETA: 34s - loss: 0.0168 - categorical_accuracy: 0.789 - ETA: 34s - loss: 0.0168 - categorical_accuracy: 0.789 - ETA: 33s - loss: 0.0168 - categorical_accuracy: 0.789 - ETA: 33s - loss: 0.0168 - categorical_accuracy: 0.789 - ETA: 33s - loss: 0.0168 - categorical_accuracy: 0.789 - ETA: 32s - loss: 0.0168 - categorical_accuracy: 0.789 - ETA: 32s - loss: 0.0168 - categorical_accuracy: 0.789 - ETA: 31s - loss: 0.0168 - categorical_accuracy: 0.789 - ETA: 31s - loss: 0.0168 - categorical_accuracy: 0.789 - ETA: 30s - loss: 0.0168 - categorical_accuracy: 0.789 - ETA: 30s - loss: 0.0168 - categorical_accuracy: 0.789 - ETA: 30s - loss: 0.0169 - categorical_accuracy: 0.789 - ETA: 29s - loss: 0.0168 - categorical_accuracy: 0.789 - ETA: 29s - loss: 0.0169 - categorical_accuracy: 0.789 - ETA: 28s - loss: 0.0169 - categorical_accuracy: 0.789 - ETA: 28s - loss: 0.0168 - categorical_accuracy: 0.789 - ETA: 28s - loss: 0.0168 - categorical_accuracy: 0.789 - ETA: 27s - loss: 0.0168 - categorical_accuracy: 0.789 - ETA: 27s - loss: 0.0168 - categorical_accuracy: 0.789 - ETA: 26s - loss: 0.0168 - categorical_accuracy: 0.789 - ETA: 26s - loss: 0.0169 - categorical_accuracy: 0.789 - ETA: 25s - loss: 0.0168 - categorical_accuracy: 0.789 - ETA: 25s - loss: 0.0168 - categorical_accuracy: 0.789 - ETA: 25s - loss: 0.0168 - categorical_accuracy: 0.789 - ETA: 24s - loss: 0.0168 - categorical_accuracy: 0.789 - ETA: 24s - loss: 0.0168 - categorical_accuracy: 0.789 - ETA: 23s - loss: 0.0168 - categorical_accuracy: 0.789 - ETA: 23s - loss: 0.0168 - categorical_accuracy: 0.789 - ETA: 23s - loss: 0.0168 - categorical_accuracy: 0.789 - ETA: 22s - loss: 0.0168 - categorical_accuracy: 0.789 - ETA: 22s - loss: 0.0168 - categorical_accuracy: 0.789 - ETA: 21s - loss: 0.0168 - categorical_accuracy: 0.789 - ETA: 21s - loss: 0.0168 - categorical_accuracy: 0.789 - ETA: 21s - loss: 0.0168 - categorical_accuracy: 0.789 - ETA: 20s - loss: 0.0168 - categorical_accuracy: 0.789 - ETA: 20s - loss: 0.0168 - categorical_accuracy: 0.789 - ETA: 19s - loss: 0.0168 - categorical_accuracy: 0.789 - ETA: 19s - loss: 0.0169 - categorical_accuracy: 0.789 - ETA: 18s - loss: 0.0168 - categorical_accuracy: 0.789 - ETA: 18s - loss: 0.0168 - categorical_accuracy: 0.789 - ETA: 18s - loss: 0.0168 - categorical_accuracy: 0.789 - ETA: 17s - loss: 0.0169 - categorical_accuracy: 0.789 - ETA: 17s - loss: 0.0169 - categorical_accuracy: 0.789 - ETA: 16s - loss: 0.0169 - categorical_accuracy: 0.789 - ETA: 16s - loss: 0.0169 - categorical_accuracy: 0.789 - ETA: 16s - loss: 0.0169 - categorical_accuracy: 0.789 - ETA: 15s - loss: 0.0169 - categorical_accuracy: 0.789 - ETA: 15s - loss: 0.0169 - categorical_accuracy: 0.789 - ETA: 14s - loss: 0.0169 - categorical_accuracy: 0.789 - ETA: 14s - loss: 0.0169 - categorical_accuracy: 0.789 - ETA: 13s - loss: 0.0169 - categorical_accuracy: 0.789 - ETA: 13s - loss: 0.0169 - categorical_accuracy: 0.789 - ETA: 13s - loss: 0.0169 - categorical_accuracy: 0.789 - ETA: 12s - loss: 0.0169 - categorical_accuracy: 0.7898"
     ]
    },
    {
     "name": "stdout",
     "output_type": "stream",
     "text": [
      "38368/38368 [==============================] - ETA: 12s - loss: 0.0169 - categorical_accuracy: 0.789 - ETA: 11s - loss: 0.0169 - categorical_accuracy: 0.789 - ETA: 11s - loss: 0.0169 - categorical_accuracy: 0.789 - ETA: 11s - loss: 0.0169 - categorical_accuracy: 0.789 - ETA: 10s - loss: 0.0169 - categorical_accuracy: 0.789 - ETA: 10s - loss: 0.0169 - categorical_accuracy: 0.789 - ETA: 9s - loss: 0.0169 - categorical_accuracy: 0.789 - ETA: 9s - loss: 0.0169 - categorical_accuracy: 0.78 - ETA: 9s - loss: 0.0169 - categorical_accuracy: 0.78 - ETA: 8s - loss: 0.0169 - categorical_accuracy: 0.78 - ETA: 8s - loss: 0.0169 - categorical_accuracy: 0.78 - ETA: 7s - loss: 0.0169 - categorical_accuracy: 0.78 - ETA: 7s - loss: 0.0169 - categorical_accuracy: 0.78 - ETA: 6s - loss: 0.0169 - categorical_accuracy: 0.78 - ETA: 6s - loss: 0.0169 - categorical_accuracy: 0.78 - ETA: 6s - loss: 0.0169 - categorical_accuracy: 0.78 - ETA: 5s - loss: 0.0169 - categorical_accuracy: 0.78 - ETA: 5s - loss: 0.0169 - categorical_accuracy: 0.78 - ETA: 4s - loss: 0.0169 - categorical_accuracy: 0.78 - ETA: 4s - loss: 0.0169 - categorical_accuracy: 0.78 - ETA: 4s - loss: 0.0169 - categorical_accuracy: 0.78 - ETA: 3s - loss: 0.0169 - categorical_accuracy: 0.78 - ETA: 3s - loss: 0.0169 - categorical_accuracy: 0.78 - ETA: 2s - loss: 0.0169 - categorical_accuracy: 0.78 - ETA: 2s - loss: 0.0169 - categorical_accuracy: 0.78 - ETA: 2s - loss: 0.0169 - categorical_accuracy: 0.78 - ETA: 1s - loss: 0.0169 - categorical_accuracy: 0.78 - ETA: 1s - loss: 0.0169 - categorical_accuracy: 0.78 - ETA: 0s - loss: 0.0169 - categorical_accuracy: 0.78 - ETA: 0s - loss: 0.0169 - categorical_accuracy: 0.78 - 511s 13ms/step - loss: 0.0169 - categorical_accuracy: 0.7897 - val_loss: 0.0284 - val_categorical_accuracy: 0.7902\n",
      "Epoch 5/10\n"
     ]
    },
    {
     "name": "stdout",
     "output_type": "stream",
     "text": [
      " 4672/38368 [==>...........................] - ETA: 8:00 - loss: 0.0118 - categorical_accuracy: 0.80 - ETA: 8:36 - loss: 0.0140 - categorical_accuracy: 0.79 - ETA: 8:12 - loss: 0.0147 - categorical_accuracy: 0.78 - ETA: 8:01 - loss: 0.0141 - categorical_accuracy: 0.78 - ETA: 7:52 - loss: 0.0136 - categorical_accuracy: 0.78 - ETA: 7:42 - loss: 0.0152 - categorical_accuracy: 0.78 - ETA: 7:38 - loss: 0.0143 - categorical_accuracy: 0.78 - ETA: 7:36 - loss: 0.0139 - categorical_accuracy: 0.79 - ETA: 7:34 - loss: 0.0138 - categorical_accuracy: 0.78 - ETA: 7:37 - loss: 0.0140 - categorical_accuracy: 0.79 - ETA: 7:38 - loss: 0.0135 - categorical_accuracy: 0.79 - ETA: 7:35 - loss: 0.0132 - categorical_accuracy: 0.79 - ETA: 7:34 - loss: 0.0130 - categorical_accuracy: 0.79 - ETA: 7:33 - loss: 0.0132 - categorical_accuracy: 0.78 - ETA: 7:40 - loss: 0.0132 - categorical_accuracy: 0.79 - ETA: 7:42 - loss: 0.0130 - categorical_accuracy: 0.79 - ETA: 7:44 - loss: 0.0130 - categorical_accuracy: 0.79 - ETA: 7:44 - loss: 0.0129 - categorical_accuracy: 0.78 - ETA: 7:45 - loss: 0.0130 - categorical_accuracy: 0.78 - ETA: 7:44 - loss: 0.0131 - categorical_accuracy: 0.78 - ETA: 7:42 - loss: 0.0130 - categorical_accuracy: 0.78 - ETA: 7:41 - loss: 0.0139 - categorical_accuracy: 0.78 - ETA: 7:40 - loss: 0.0138 - categorical_accuracy: 0.78 - ETA: 7:39 - loss: 0.0143 - categorical_accuracy: 0.78 - ETA: 7:38 - loss: 0.0140 - categorical_accuracy: 0.79 - ETA: 7:38 - loss: 0.0138 - categorical_accuracy: 0.78 - ETA: 7:37 - loss: 0.0141 - categorical_accuracy: 0.78 - ETA: 7:37 - loss: 0.0140 - categorical_accuracy: 0.78 - ETA: 7:36 - loss: 0.0140 - categorical_accuracy: 0.78 - ETA: 7:35 - loss: 0.0139 - categorical_accuracy: 0.78 - ETA: 7:34 - loss: 0.0142 - categorical_accuracy: 0.78 - ETA: 7:34 - loss: 0.0141 - categorical_accuracy: 0.78 - ETA: 7:33 - loss: 0.0139 - categorical_accuracy: 0.78 - ETA: 7:33 - loss: 0.0138 - categorical_accuracy: 0.78 - ETA: 7:37 - loss: 0.0136 - categorical_accuracy: 0.79 - ETA: 7:36 - loss: 0.0136 - categorical_accuracy: 0.78 - ETA: 7:35 - loss: 0.0137 - categorical_accuracy: 0.79 - ETA: 7:34 - loss: 0.0138 - categorical_accuracy: 0.78 - ETA: 7:34 - loss: 0.0137 - categorical_accuracy: 0.78 - ETA: 7:32 - loss: 0.0137 - categorical_accuracy: 0.78 - ETA: 7:31 - loss: 0.0142 - categorical_accuracy: 0.78 - ETA: 7:30 - loss: 0.0140 - categorical_accuracy: 0.78 - ETA: 7:29 - loss: 0.0141 - categorical_accuracy: 0.78 - ETA: 7:28 - loss: 0.0141 - categorical_accuracy: 0.78 - ETA: 7:27 - loss: 0.0140 - categorical_accuracy: 0.78 - ETA: 7:26 - loss: 0.0139 - categorical_accuracy: 0.78 - ETA: 7:25 - loss: 0.0138 - categorical_accuracy: 0.78 - ETA: 7:24 - loss: 0.0138 - categorical_accuracy: 0.78 - ETA: 7:23 - loss: 0.0139 - categorical_accuracy: 0.78 - ETA: 7:23 - loss: 0.0139 - categorical_accuracy: 0.78 - ETA: 7:23 - loss: 0.0138 - categorical_accuracy: 0.78 - ETA: 7:22 - loss: 0.0137 - categorical_accuracy: 0.78 - ETA: 7:20 - loss: 0.0136 - categorical_accuracy: 0.78 - ETA: 7:20 - loss: 0.0136 - categorical_accuracy: 0.78 - ETA: 7:18 - loss: 0.0136 - categorical_accuracy: 0.78 - ETA: 7:17 - loss: 0.0136 - categorical_accuracy: 0.78 - ETA: 7:19 - loss: 0.0137 - categorical_accuracy: 0.78 - ETA: 7:19 - loss: 0.0135 - categorical_accuracy: 0.78 - ETA: 7:18 - loss: 0.0134 - categorical_accuracy: 0.78 - ETA: 7:19 - loss: 0.0134 - categorical_accuracy: 0.78 - ETA: 7:19 - loss: 0.0135 - categorical_accuracy: 0.78 - ETA: 7:18 - loss: 0.0134 - categorical_accuracy: 0.78 - ETA: 7:18 - loss: 0.0134 - categorical_accuracy: 0.78 - ETA: 7:17 - loss: 0.0135 - categorical_accuracy: 0.78 - ETA: 7:16 - loss: 0.0134 - categorical_accuracy: 0.78 - ETA: 7:16 - loss: 0.0134 - categorical_accuracy: 0.78 - ETA: 7:17 - loss: 0.0133 - categorical_accuracy: 0.78 - ETA: 7:18 - loss: 0.0134 - categorical_accuracy: 0.78 - ETA: 7:18 - loss: 0.0133 - categorical_accuracy: 0.78 - ETA: 7:18 - loss: 0.0134 - categorical_accuracy: 0.78 - ETA: 7:17 - loss: 0.0134 - categorical_accuracy: 0.78 - ETA: 7:16 - loss: 0.0134 - categorical_accuracy: 0.78 - ETA: 7:16 - loss: 0.0133 - categorical_accuracy: 0.78 - ETA: 7:16 - loss: 0.0132 - categorical_accuracy: 0.78 - ETA: 7:16 - loss: 0.0133 - categorical_accuracy: 0.78 - ETA: 7:15 - loss: 0.0133 - categorical_accuracy: 0.78 - ETA: 7:15 - loss: 0.0133 - categorical_accuracy: 0.78 - ETA: 7:15 - loss: 0.0133 - categorical_accuracy: 0.78 - ETA: 7:15 - loss: 0.0132 - categorical_accuracy: 0.78 - ETA: 7:15 - loss: 0.0132 - categorical_accuracy: 0.78 - ETA: 7:14 - loss: 0.0132 - categorical_accuracy: 0.78 - ETA: 7:15 - loss: 0.0132 - categorical_accuracy: 0.78 - ETA: 7:15 - loss: 0.0132 - categorical_accuracy: 0.78 - ETA: 7:14 - loss: 0.0131 - categorical_accuracy: 0.78 - ETA: 7:14 - loss: 0.0132 - categorical_accuracy: 0.78 - ETA: 7:13 - loss: 0.0131 - categorical_accuracy: 0.78 - ETA: 7:12 - loss: 0.0131 - categorical_accuracy: 0.78 - ETA: 7:12 - loss: 0.0132 - categorical_accuracy: 0.78 - ETA: 7:11 - loss: 0.0133 - categorical_accuracy: 0.78 - ETA: 7:11 - loss: 0.0132 - categorical_accuracy: 0.78 - ETA: 7:11 - loss: 0.0132 - categorical_accuracy: 0.78 - ETA: 7:11 - loss: 0.0133 - categorical_accuracy: 0.78 - ETA: 7:10 - loss: 0.0133 - categorical_accuracy: 0.78 - ETA: 7:10 - loss: 0.0132 - categorical_accuracy: 0.78 - ETA: 7:10 - loss: 0.0132 - categorical_accuracy: 0.78 - ETA: 7:09 - loss: 0.0132 - categorical_accuracy: 0.78 - ETA: 7:09 - loss: 0.0132 - categorical_accuracy: 0.78 - ETA: 7:09 - loss: 0.0134 - categorical_accuracy: 0.78 - ETA: 7:09 - loss: 0.0134 - categorical_accuracy: 0.78 - ETA: 7:10 - loss: 0.0134 - categorical_accuracy: 0.78 - ETA: 7:10 - loss: 0.0134 - categorical_accuracy: 0.78 - ETA: 7:10 - loss: 0.0134 - categorical_accuracy: 0.78 - ETA: 7:10 - loss: 0.0134 - categorical_accuracy: 0.78 - ETA: 7:09 - loss: 0.0133 - categorical_accuracy: 0.78 - ETA: 7:09 - loss: 0.0133 - categorical_accuracy: 0.78 - ETA: 7:09 - loss: 0.0132 - categorical_accuracy: 0.78 - ETA: 7:09 - loss: 0.0133 - categorical_accuracy: 0.78 - ETA: 7:09 - loss: 0.0132 - categorical_accuracy: 0.78 - ETA: 7:08 - loss: 0.0133 - categorical_accuracy: 0.78 - ETA: 7:08 - loss: 0.0133 - categorical_accuracy: 0.78 - ETA: 7:07 - loss: 0.0133 - categorical_accuracy: 0.78 - ETA: 7:07 - loss: 0.0133 - categorical_accuracy: 0.78 - ETA: 7:07 - loss: 0.0133 - categorical_accuracy: 0.78 - ETA: 7:06 - loss: 0.0132 - categorical_accuracy: 0.78 - ETA: 7:06 - loss: 0.0132 - categorical_accuracy: 0.78 - ETA: 7:05 - loss: 0.0132 - categorical_accuracy: 0.78 - ETA: 7:05 - loss: 0.0132 - categorical_accuracy: 0.78 - ETA: 7:04 - loss: 0.0132 - categorical_accuracy: 0.78 - ETA: 7:04 - loss: 0.0132 - categorical_accuracy: 0.78 - ETA: 7:04 - loss: 0.0132 - categorical_accuracy: 0.78 - ETA: 7:03 - loss: 0.0132 - categorical_accuracy: 0.78 - ETA: 7:03 - loss: 0.0132 - categorical_accuracy: 0.78 - ETA: 7:03 - loss: 0.0131 - categorical_accuracy: 0.78 - ETA: 7:03 - loss: 0.0131 - categorical_accuracy: 0.78 - ETA: 7:03 - loss: 0.0131 - categorical_accuracy: 0.78 - ETA: 7:03 - loss: 0.0131 - categorical_accuracy: 0.78 - ETA: 7:03 - loss: 0.0131 - categorical_accuracy: 0.78 - ETA: 7:03 - loss: 0.0131 - categorical_accuracy: 0.78 - ETA: 7:03 - loss: 0.0131 - categorical_accuracy: 0.78 - ETA: 7:03 - loss: 0.0130 - categorical_accuracy: 0.78 - ETA: 7:02 - loss: 0.0130 - categorical_accuracy: 0.78 - ETA: 7:01 - loss: 0.0130 - categorical_accuracy: 0.78 - ETA: 7:01 - loss: 0.0130 - categorical_accuracy: 0.78 - ETA: 7:01 - loss: 0.0130 - categorical_accuracy: 0.78 - ETA: 7:00 - loss: 0.0130 - categorical_accuracy: 0.78 - ETA: 7:00 - loss: 0.0129 - categorical_accuracy: 0.78 - ETA: 7:00 - loss: 0.0130 - categorical_accuracy: 0.78 - ETA: 7:00 - loss: 0.0130 - categorical_accuracy: 0.78 - ETA: 6:59 - loss: 0.0130 - categorical_accuracy: 0.78 - ETA: 7:00 - loss: 0.0129 - categorical_accuracy: 0.78 - ETA: 6:59 - loss: 0.0129 - categorical_accuracy: 0.78 - ETA: 6:59 - loss: 0.0129 - categorical_accuracy: 0.78 - ETA: 6:59 - loss: 0.0129 - categorical_accuracy: 0.78 - ETA: 6:59 - loss: 0.0129 - categorical_accuracy: 0.78 - ETA: 6:58 - loss: 0.0129 - categorical_accuracy: 0.78 - ETA: 6:58 - loss: 0.0129 - categorical_accuracy: 0.7894"
     ]
    },
    {
     "name": "stdout",
     "output_type": "stream",
     "text": [
      " 9344/38368 [======>.......................] - ETA: 6:57 - loss: 0.0129 - categorical_accuracy: 0.78 - ETA: 6:58 - loss: 0.0129 - categorical_accuracy: 0.78 - ETA: 6:57 - loss: 0.0129 - categorical_accuracy: 0.78 - ETA: 6:57 - loss: 0.0129 - categorical_accuracy: 0.78 - ETA: 6:58 - loss: 0.0129 - categorical_accuracy: 0.78 - ETA: 6:58 - loss: 0.0129 - categorical_accuracy: 0.78 - ETA: 6:58 - loss: 0.0129 - categorical_accuracy: 0.78 - ETA: 6:58 - loss: 0.0129 - categorical_accuracy: 0.78 - ETA: 6:58 - loss: 0.0129 - categorical_accuracy: 0.78 - ETA: 6:58 - loss: 0.0129 - categorical_accuracy: 0.78 - ETA: 6:58 - loss: 0.0129 - categorical_accuracy: 0.78 - ETA: 6:57 - loss: 0.0129 - categorical_accuracy: 0.78 - ETA: 6:57 - loss: 0.0129 - categorical_accuracy: 0.78 - ETA: 6:56 - loss: 0.0129 - categorical_accuracy: 0.78 - ETA: 6:56 - loss: 0.0129 - categorical_accuracy: 0.78 - ETA: 6:55 - loss: 0.0129 - categorical_accuracy: 0.78 - ETA: 6:55 - loss: 0.0129 - categorical_accuracy: 0.78 - ETA: 6:55 - loss: 0.0129 - categorical_accuracy: 0.78 - ETA: 6:55 - loss: 0.0129 - categorical_accuracy: 0.78 - ETA: 6:54 - loss: 0.0129 - categorical_accuracy: 0.78 - ETA: 6:54 - loss: 0.0128 - categorical_accuracy: 0.78 - ETA: 6:54 - loss: 0.0128 - categorical_accuracy: 0.78 - ETA: 6:53 - loss: 0.0129 - categorical_accuracy: 0.78 - ETA: 6:53 - loss: 0.0129 - categorical_accuracy: 0.78 - ETA: 6:53 - loss: 0.0129 - categorical_accuracy: 0.78 - ETA: 6:53 - loss: 0.0129 - categorical_accuracy: 0.78 - ETA: 6:52 - loss: 0.0129 - categorical_accuracy: 0.78 - ETA: 6:52 - loss: 0.0129 - categorical_accuracy: 0.78 - ETA: 6:52 - loss: 0.0129 - categorical_accuracy: 0.78 - ETA: 6:51 - loss: 0.0129 - categorical_accuracy: 0.78 - ETA: 6:51 - loss: 0.0129 - categorical_accuracy: 0.78 - ETA: 6:51 - loss: 0.0129 - categorical_accuracy: 0.78 - ETA: 6:50 - loss: 0.0129 - categorical_accuracy: 0.78 - ETA: 6:50 - loss: 0.0129 - categorical_accuracy: 0.78 - ETA: 6:49 - loss: 0.0129 - categorical_accuracy: 0.78 - ETA: 6:49 - loss: 0.0129 - categorical_accuracy: 0.78 - ETA: 6:48 - loss: 0.0129 - categorical_accuracy: 0.78 - ETA: 6:48 - loss: 0.0129 - categorical_accuracy: 0.78 - ETA: 6:47 - loss: 0.0129 - categorical_accuracy: 0.78 - ETA: 6:47 - loss: 0.0129 - categorical_accuracy: 0.78 - ETA: 6:46 - loss: 0.0129 - categorical_accuracy: 0.78 - ETA: 6:46 - loss: 0.0129 - categorical_accuracy: 0.78 - ETA: 6:45 - loss: 0.0129 - categorical_accuracy: 0.78 - ETA: 6:45 - loss: 0.0129 - categorical_accuracy: 0.78 - ETA: 6:45 - loss: 0.0129 - categorical_accuracy: 0.78 - ETA: 6:44 - loss: 0.0129 - categorical_accuracy: 0.78 - ETA: 6:44 - loss: 0.0129 - categorical_accuracy: 0.78 - ETA: 6:44 - loss: 0.0130 - categorical_accuracy: 0.78 - ETA: 6:44 - loss: 0.0130 - categorical_accuracy: 0.78 - ETA: 6:43 - loss: 0.0130 - categorical_accuracy: 0.78 - ETA: 6:43 - loss: 0.0130 - categorical_accuracy: 0.78 - ETA: 6:43 - loss: 0.0129 - categorical_accuracy: 0.78 - ETA: 6:42 - loss: 0.0129 - categorical_accuracy: 0.78 - ETA: 6:42 - loss: 0.0129 - categorical_accuracy: 0.78 - ETA: 6:41 - loss: 0.0130 - categorical_accuracy: 0.78 - ETA: 6:41 - loss: 0.0130 - categorical_accuracy: 0.78 - ETA: 6:40 - loss: 0.0130 - categorical_accuracy: 0.78 - ETA: 6:40 - loss: 0.0130 - categorical_accuracy: 0.78 - ETA: 6:39 - loss: 0.0130 - categorical_accuracy: 0.78 - ETA: 6:38 - loss: 0.0130 - categorical_accuracy: 0.78 - ETA: 6:38 - loss: 0.0130 - categorical_accuracy: 0.78 - ETA: 6:38 - loss: 0.0130 - categorical_accuracy: 0.78 - ETA: 6:37 - loss: 0.0130 - categorical_accuracy: 0.78 - ETA: 6:37 - loss: 0.0130 - categorical_accuracy: 0.78 - ETA: 6:36 - loss: 0.0130 - categorical_accuracy: 0.78 - ETA: 6:36 - loss: 0.0130 - categorical_accuracy: 0.78 - ETA: 6:36 - loss: 0.0130 - categorical_accuracy: 0.78 - ETA: 6:35 - loss: 0.0130 - categorical_accuracy: 0.78 - ETA: 6:35 - loss: 0.0130 - categorical_accuracy: 0.78 - ETA: 6:34 - loss: 0.0130 - categorical_accuracy: 0.78 - ETA: 6:34 - loss: 0.0130 - categorical_accuracy: 0.78 - ETA: 6:33 - loss: 0.0130 - categorical_accuracy: 0.78 - ETA: 6:33 - loss: 0.0130 - categorical_accuracy: 0.78 - ETA: 6:32 - loss: 0.0130 - categorical_accuracy: 0.78 - ETA: 6:32 - loss: 0.0130 - categorical_accuracy: 0.78 - ETA: 6:32 - loss: 0.0130 - categorical_accuracy: 0.78 - ETA: 6:31 - loss: 0.0130 - categorical_accuracy: 0.78 - ETA: 6:31 - loss: 0.0130 - categorical_accuracy: 0.78 - ETA: 6:30 - loss: 0.0130 - categorical_accuracy: 0.78 - ETA: 6:30 - loss: 0.0130 - categorical_accuracy: 0.78 - ETA: 6:29 - loss: 0.0130 - categorical_accuracy: 0.78 - ETA: 6:29 - loss: 0.0130 - categorical_accuracy: 0.78 - ETA: 6:29 - loss: 0.0130 - categorical_accuracy: 0.78 - ETA: 6:28 - loss: 0.0130 - categorical_accuracy: 0.78 - ETA: 6:28 - loss: 0.0130 - categorical_accuracy: 0.78 - ETA: 6:27 - loss: 0.0130 - categorical_accuracy: 0.78 - ETA: 6:27 - loss: 0.0130 - categorical_accuracy: 0.78 - ETA: 6:26 - loss: 0.0130 - categorical_accuracy: 0.78 - ETA: 6:26 - loss: 0.0130 - categorical_accuracy: 0.78 - ETA: 6:26 - loss: 0.0130 - categorical_accuracy: 0.78 - ETA: 6:25 - loss: 0.0130 - categorical_accuracy: 0.78 - ETA: 6:25 - loss: 0.0130 - categorical_accuracy: 0.78 - ETA: 6:24 - loss: 0.0130 - categorical_accuracy: 0.78 - ETA: 6:24 - loss: 0.0131 - categorical_accuracy: 0.78 - ETA: 6:23 - loss: 0.0131 - categorical_accuracy: 0.78 - ETA: 6:23 - loss: 0.0130 - categorical_accuracy: 0.78 - ETA: 6:22 - loss: 0.0130 - categorical_accuracy: 0.79 - ETA: 6:22 - loss: 0.0131 - categorical_accuracy: 0.79 - ETA: 6:22 - loss: 0.0131 - categorical_accuracy: 0.79 - ETA: 6:21 - loss: 0.0131 - categorical_accuracy: 0.79 - ETA: 6:21 - loss: 0.0131 - categorical_accuracy: 0.79 - ETA: 6:21 - loss: 0.0130 - categorical_accuracy: 0.79 - ETA: 6:20 - loss: 0.0130 - categorical_accuracy: 0.79 - ETA: 6:20 - loss: 0.0130 - categorical_accuracy: 0.79 - ETA: 6:20 - loss: 0.0130 - categorical_accuracy: 0.79 - ETA: 6:20 - loss: 0.0130 - categorical_accuracy: 0.79 - ETA: 6:19 - loss: 0.0130 - categorical_accuracy: 0.79 - ETA: 6:19 - loss: 0.0131 - categorical_accuracy: 0.79 - ETA: 6:18 - loss: 0.0130 - categorical_accuracy: 0.79 - ETA: 6:18 - loss: 0.0130 - categorical_accuracy: 0.79 - ETA: 6:18 - loss: 0.0130 - categorical_accuracy: 0.79 - ETA: 6:17 - loss: 0.0130 - categorical_accuracy: 0.79 - ETA: 6:17 - loss: 0.0130 - categorical_accuracy: 0.79 - ETA: 6:17 - loss: 0.0130 - categorical_accuracy: 0.79 - ETA: 6:16 - loss: 0.0130 - categorical_accuracy: 0.79 - ETA: 6:16 - loss: 0.0130 - categorical_accuracy: 0.79 - ETA: 6:15 - loss: 0.0130 - categorical_accuracy: 0.79 - ETA: 6:15 - loss: 0.0130 - categorical_accuracy: 0.79 - ETA: 6:14 - loss: 0.0130 - categorical_accuracy: 0.79 - ETA: 6:14 - loss: 0.0130 - categorical_accuracy: 0.79 - ETA: 6:14 - loss: 0.0130 - categorical_accuracy: 0.79 - ETA: 6:13 - loss: 0.0130 - categorical_accuracy: 0.79 - ETA: 6:13 - loss: 0.0130 - categorical_accuracy: 0.78 - ETA: 6:12 - loss: 0.0131 - categorical_accuracy: 0.78 - ETA: 6:12 - loss: 0.0131 - categorical_accuracy: 0.78 - ETA: 6:11 - loss: 0.0131 - categorical_accuracy: 0.78 - ETA: 6:11 - loss: 0.0131 - categorical_accuracy: 0.78 - ETA: 6:10 - loss: 0.0131 - categorical_accuracy: 0.78 - ETA: 6:10 - loss: 0.0132 - categorical_accuracy: 0.78 - ETA: 6:10 - loss: 0.0132 - categorical_accuracy: 0.78 - ETA: 6:09 - loss: 0.0132 - categorical_accuracy: 0.78 - ETA: 6:09 - loss: 0.0132 - categorical_accuracy: 0.78 - ETA: 6:08 - loss: 0.0132 - categorical_accuracy: 0.78 - ETA: 6:08 - loss: 0.0133 - categorical_accuracy: 0.78 - ETA: 6:08 - loss: 0.0133 - categorical_accuracy: 0.78 - ETA: 6:07 - loss: 0.0133 - categorical_accuracy: 0.78 - ETA: 6:07 - loss: 0.0133 - categorical_accuracy: 0.78 - ETA: 6:07 - loss: 0.0133 - categorical_accuracy: 0.78 - ETA: 6:06 - loss: 0.0133 - categorical_accuracy: 0.78 - ETA: 6:06 - loss: 0.0133 - categorical_accuracy: 0.78 - ETA: 6:05 - loss: 0.0133 - categorical_accuracy: 0.78 - ETA: 6:05 - loss: 0.0133 - categorical_accuracy: 0.78 - ETA: 6:04 - loss: 0.0133 - categorical_accuracy: 0.78 - ETA: 6:04 - loss: 0.0133 - categorical_accuracy: 0.78 - ETA: 6:04 - loss: 0.0133 - categorical_accuracy: 0.78 - ETA: 6:03 - loss: 0.0133 - categorical_accuracy: 0.7898"
     ]
    },
    {
     "name": "stdout",
     "output_type": "stream",
     "text": [
      "14016/38368 [=========>....................] - ETA: 6:03 - loss: 0.0133 - categorical_accuracy: 0.78 - ETA: 6:02 - loss: 0.0133 - categorical_accuracy: 0.78 - ETA: 6:02 - loss: 0.0133 - categorical_accuracy: 0.78 - ETA: 6:02 - loss: 0.0133 - categorical_accuracy: 0.79 - ETA: 6:01 - loss: 0.0133 - categorical_accuracy: 0.78 - ETA: 6:01 - loss: 0.0133 - categorical_accuracy: 0.78 - ETA: 6:01 - loss: 0.0133 - categorical_accuracy: 0.78 - ETA: 6:00 - loss: 0.0133 - categorical_accuracy: 0.78 - ETA: 6:00 - loss: 0.0133 - categorical_accuracy: 0.78 - ETA: 6:00 - loss: 0.0133 - categorical_accuracy: 0.78 - ETA: 5:59 - loss: 0.0133 - categorical_accuracy: 0.78 - ETA: 5:59 - loss: 0.0133 - categorical_accuracy: 0.78 - ETA: 5:59 - loss: 0.0133 - categorical_accuracy: 0.78 - ETA: 5:58 - loss: 0.0133 - categorical_accuracy: 0.78 - ETA: 5:58 - loss: 0.0133 - categorical_accuracy: 0.78 - ETA: 5:57 - loss: 0.0133 - categorical_accuracy: 0.78 - ETA: 5:57 - loss: 0.0133 - categorical_accuracy: 0.78 - ETA: 5:57 - loss: 0.0133 - categorical_accuracy: 0.78 - ETA: 5:57 - loss: 0.0133 - categorical_accuracy: 0.78 - ETA: 5:56 - loss: 0.0133 - categorical_accuracy: 0.78 - ETA: 5:56 - loss: 0.0133 - categorical_accuracy: 0.78 - ETA: 5:56 - loss: 0.0134 - categorical_accuracy: 0.78 - ETA: 5:56 - loss: 0.0133 - categorical_accuracy: 0.78 - ETA: 5:55 - loss: 0.0133 - categorical_accuracy: 0.78 - ETA: 5:55 - loss: 0.0134 - categorical_accuracy: 0.78 - ETA: 5:55 - loss: 0.0134 - categorical_accuracy: 0.78 - ETA: 5:54 - loss: 0.0134 - categorical_accuracy: 0.78 - ETA: 5:54 - loss: 0.0134 - categorical_accuracy: 0.78 - ETA: 5:53 - loss: 0.0134 - categorical_accuracy: 0.78 - ETA: 5:53 - loss: 0.0134 - categorical_accuracy: 0.78 - ETA: 5:53 - loss: 0.0134 - categorical_accuracy: 0.78 - ETA: 5:52 - loss: 0.0134 - categorical_accuracy: 0.78 - ETA: 5:52 - loss: 0.0134 - categorical_accuracy: 0.78 - ETA: 5:51 - loss: 0.0134 - categorical_accuracy: 0.78 - ETA: 5:51 - loss: 0.0134 - categorical_accuracy: 0.78 - ETA: 5:50 - loss: 0.0134 - categorical_accuracy: 0.78 - ETA: 5:50 - loss: 0.0134 - categorical_accuracy: 0.78 - ETA: 5:50 - loss: 0.0134 - categorical_accuracy: 0.78 - ETA: 5:49 - loss: 0.0135 - categorical_accuracy: 0.78 - ETA: 5:49 - loss: 0.0135 - categorical_accuracy: 0.78 - ETA: 5:48 - loss: 0.0135 - categorical_accuracy: 0.78 - ETA: 5:48 - loss: 0.0135 - categorical_accuracy: 0.78 - ETA: 5:47 - loss: 0.0135 - categorical_accuracy: 0.78 - ETA: 5:47 - loss: 0.0135 - categorical_accuracy: 0.78 - ETA: 5:47 - loss: 0.0135 - categorical_accuracy: 0.78 - ETA: 5:46 - loss: 0.0135 - categorical_accuracy: 0.78 - ETA: 5:46 - loss: 0.0135 - categorical_accuracy: 0.78 - ETA: 5:45 - loss: 0.0135 - categorical_accuracy: 0.78 - ETA: 5:45 - loss: 0.0135 - categorical_accuracy: 0.78 - ETA: 5:44 - loss: 0.0135 - categorical_accuracy: 0.78 - ETA: 5:44 - loss: 0.0135 - categorical_accuracy: 0.78 - ETA: 5:43 - loss: 0.0135 - categorical_accuracy: 0.78 - ETA: 5:43 - loss: 0.0135 - categorical_accuracy: 0.78 - ETA: 5:42 - loss: 0.0135 - categorical_accuracy: 0.78 - ETA: 5:42 - loss: 0.0135 - categorical_accuracy: 0.78 - ETA: 5:41 - loss: 0.0135 - categorical_accuracy: 0.78 - ETA: 5:41 - loss: 0.0135 - categorical_accuracy: 0.78 - ETA: 5:41 - loss: 0.0135 - categorical_accuracy: 0.78 - ETA: 5:40 - loss: 0.0135 - categorical_accuracy: 0.78 - ETA: 5:40 - loss: 0.0135 - categorical_accuracy: 0.78 - ETA: 5:39 - loss: 0.0135 - categorical_accuracy: 0.78 - ETA: 5:39 - loss: 0.0135 - categorical_accuracy: 0.78 - ETA: 5:38 - loss: 0.0136 - categorical_accuracy: 0.78 - ETA: 5:38 - loss: 0.0136 - categorical_accuracy: 0.78 - ETA: 5:37 - loss: 0.0136 - categorical_accuracy: 0.78 - ETA: 5:37 - loss: 0.0136 - categorical_accuracy: 0.78 - ETA: 5:36 - loss: 0.0136 - categorical_accuracy: 0.78 - ETA: 5:36 - loss: 0.0135 - categorical_accuracy: 0.78 - ETA: 5:36 - loss: 0.0135 - categorical_accuracy: 0.78 - ETA: 5:35 - loss: 0.0135 - categorical_accuracy: 0.78 - ETA: 5:35 - loss: 0.0135 - categorical_accuracy: 0.78 - ETA: 5:34 - loss: 0.0135 - categorical_accuracy: 0.78 - ETA: 5:34 - loss: 0.0135 - categorical_accuracy: 0.78 - ETA: 5:34 - loss: 0.0135 - categorical_accuracy: 0.78 - ETA: 5:33 - loss: 0.0135 - categorical_accuracy: 0.78 - ETA: 5:33 - loss: 0.0135 - categorical_accuracy: 0.78 - ETA: 5:33 - loss: 0.0135 - categorical_accuracy: 0.78 - ETA: 5:32 - loss: 0.0135 - categorical_accuracy: 0.78 - ETA: 5:32 - loss: 0.0135 - categorical_accuracy: 0.78 - ETA: 5:32 - loss: 0.0135 - categorical_accuracy: 0.78 - ETA: 5:31 - loss: 0.0135 - categorical_accuracy: 0.78 - ETA: 5:31 - loss: 0.0135 - categorical_accuracy: 0.78 - ETA: 5:31 - loss: 0.0135 - categorical_accuracy: 0.78 - ETA: 5:30 - loss: 0.0135 - categorical_accuracy: 0.78 - ETA: 5:30 - loss: 0.0135 - categorical_accuracy: 0.78 - ETA: 5:29 - loss: 0.0135 - categorical_accuracy: 0.78 - ETA: 5:29 - loss: 0.0135 - categorical_accuracy: 0.78 - ETA: 5:29 - loss: 0.0135 - categorical_accuracy: 0.78 - ETA: 5:28 - loss: 0.0135 - categorical_accuracy: 0.78 - ETA: 5:28 - loss: 0.0135 - categorical_accuracy: 0.78 - ETA: 5:27 - loss: 0.0135 - categorical_accuracy: 0.78 - ETA: 5:27 - loss: 0.0135 - categorical_accuracy: 0.78 - ETA: 5:27 - loss: 0.0135 - categorical_accuracy: 0.78 - ETA: 5:26 - loss: 0.0135 - categorical_accuracy: 0.78 - ETA: 5:26 - loss: 0.0135 - categorical_accuracy: 0.78 - ETA: 5:26 - loss: 0.0135 - categorical_accuracy: 0.78 - ETA: 5:25 - loss: 0.0135 - categorical_accuracy: 0.78 - ETA: 5:25 - loss: 0.0134 - categorical_accuracy: 0.78 - ETA: 5:24 - loss: 0.0134 - categorical_accuracy: 0.78 - ETA: 5:24 - loss: 0.0134 - categorical_accuracy: 0.78 - ETA: 5:23 - loss: 0.0134 - categorical_accuracy: 0.78 - ETA: 5:23 - loss: 0.0134 - categorical_accuracy: 0.78 - ETA: 5:23 - loss: 0.0134 - categorical_accuracy: 0.78 - ETA: 5:22 - loss: 0.0134 - categorical_accuracy: 0.78 - ETA: 5:22 - loss: 0.0134 - categorical_accuracy: 0.78 - ETA: 5:22 - loss: 0.0134 - categorical_accuracy: 0.78 - ETA: 5:21 - loss: 0.0134 - categorical_accuracy: 0.78 - ETA: 5:21 - loss: 0.0134 - categorical_accuracy: 0.78 - ETA: 5:21 - loss: 0.0134 - categorical_accuracy: 0.78 - ETA: 5:20 - loss: 0.0134 - categorical_accuracy: 0.78 - ETA: 5:20 - loss: 0.0134 - categorical_accuracy: 0.78 - ETA: 5:19 - loss: 0.0134 - categorical_accuracy: 0.78 - ETA: 5:19 - loss: 0.0134 - categorical_accuracy: 0.78 - ETA: 5:18 - loss: 0.0134 - categorical_accuracy: 0.78 - ETA: 5:18 - loss: 0.0134 - categorical_accuracy: 0.78 - ETA: 5:18 - loss: 0.0134 - categorical_accuracy: 0.78 - ETA: 5:17 - loss: 0.0134 - categorical_accuracy: 0.78 - ETA: 5:17 - loss: 0.0134 - categorical_accuracy: 0.78 - ETA: 5:16 - loss: 0.0134 - categorical_accuracy: 0.78 - ETA: 5:16 - loss: 0.0134 - categorical_accuracy: 0.78 - ETA: 5:16 - loss: 0.0134 - categorical_accuracy: 0.78 - ETA: 5:15 - loss: 0.0134 - categorical_accuracy: 0.78 - ETA: 5:15 - loss: 0.0134 - categorical_accuracy: 0.78 - ETA: 5:14 - loss: 0.0133 - categorical_accuracy: 0.78 - ETA: 5:14 - loss: 0.0133 - categorical_accuracy: 0.78 - ETA: 5:14 - loss: 0.0133 - categorical_accuracy: 0.78 - ETA: 5:13 - loss: 0.0133 - categorical_accuracy: 0.78 - ETA: 5:13 - loss: 0.0133 - categorical_accuracy: 0.78 - ETA: 5:13 - loss: 0.0134 - categorical_accuracy: 0.78 - ETA: 5:12 - loss: 0.0134 - categorical_accuracy: 0.78 - ETA: 5:12 - loss: 0.0134 - categorical_accuracy: 0.78 - ETA: 5:11 - loss: 0.0134 - categorical_accuracy: 0.78 - ETA: 5:11 - loss: 0.0134 - categorical_accuracy: 0.78 - ETA: 5:10 - loss: 0.0134 - categorical_accuracy: 0.78 - ETA: 5:10 - loss: 0.0134 - categorical_accuracy: 0.78 - ETA: 5:09 - loss: 0.0134 - categorical_accuracy: 0.78 - ETA: 5:09 - loss: 0.0134 - categorical_accuracy: 0.78 - ETA: 5:09 - loss: 0.0134 - categorical_accuracy: 0.78 - ETA: 5:08 - loss: 0.0134 - categorical_accuracy: 0.78 - ETA: 5:08 - loss: 0.0134 - categorical_accuracy: 0.78 - ETA: 5:07 - loss: 0.0134 - categorical_accuracy: 0.78 - ETA: 5:07 - loss: 0.0134 - categorical_accuracy: 0.78 - ETA: 5:07 - loss: 0.0134 - categorical_accuracy: 0.78 - ETA: 5:06 - loss: 0.0134 - categorical_accuracy: 0.78 - ETA: 5:06 - loss: 0.0134 - categorical_accuracy: 0.78 - ETA: 5:05 - loss: 0.0134 - categorical_accuracy: 0.7896"
     ]
    },
    {
     "name": "stdout",
     "output_type": "stream",
     "text": [
      "18688/38368 [=============>................] - ETA: 5:05 - loss: 0.0134 - categorical_accuracy: 0.78 - ETA: 5:04 - loss: 0.0134 - categorical_accuracy: 0.78 - ETA: 5:04 - loss: 0.0134 - categorical_accuracy: 0.78 - ETA: 5:04 - loss: 0.0134 - categorical_accuracy: 0.78 - ETA: 5:03 - loss: 0.0134 - categorical_accuracy: 0.78 - ETA: 5:03 - loss: 0.0134 - categorical_accuracy: 0.78 - ETA: 5:02 - loss: 0.0134 - categorical_accuracy: 0.78 - ETA: 5:02 - loss: 0.0134 - categorical_accuracy: 0.78 - ETA: 5:02 - loss: 0.0134 - categorical_accuracy: 0.78 - ETA: 5:01 - loss: 0.0134 - categorical_accuracy: 0.78 - ETA: 5:01 - loss: 0.0134 - categorical_accuracy: 0.78 - ETA: 5:01 - loss: 0.0134 - categorical_accuracy: 0.78 - ETA: 5:00 - loss: 0.0134 - categorical_accuracy: 0.78 - ETA: 5:00 - loss: 0.0134 - categorical_accuracy: 0.78 - ETA: 5:00 - loss: 0.0134 - categorical_accuracy: 0.78 - ETA: 4:59 - loss: 0.0134 - categorical_accuracy: 0.78 - ETA: 4:59 - loss: 0.0134 - categorical_accuracy: 0.78 - ETA: 4:58 - loss: 0.0134 - categorical_accuracy: 0.78 - ETA: 4:58 - loss: 0.0134 - categorical_accuracy: 0.78 - ETA: 4:58 - loss: 0.0134 - categorical_accuracy: 0.78 - ETA: 4:57 - loss: 0.0134 - categorical_accuracy: 0.78 - ETA: 4:57 - loss: 0.0134 - categorical_accuracy: 0.78 - ETA: 4:57 - loss: 0.0134 - categorical_accuracy: 0.78 - ETA: 4:56 - loss: 0.0134 - categorical_accuracy: 0.78 - ETA: 4:56 - loss: 0.0134 - categorical_accuracy: 0.78 - ETA: 4:55 - loss: 0.0134 - categorical_accuracy: 0.78 - ETA: 4:55 - loss: 0.0134 - categorical_accuracy: 0.78 - ETA: 4:55 - loss: 0.0134 - categorical_accuracy: 0.78 - ETA: 4:54 - loss: 0.0134 - categorical_accuracy: 0.78 - ETA: 4:54 - loss: 0.0134 - categorical_accuracy: 0.78 - ETA: 4:54 - loss: 0.0134 - categorical_accuracy: 0.78 - ETA: 4:53 - loss: 0.0134 - categorical_accuracy: 0.78 - ETA: 4:53 - loss: 0.0134 - categorical_accuracy: 0.78 - ETA: 4:53 - loss: 0.0133 - categorical_accuracy: 0.78 - ETA: 4:52 - loss: 0.0133 - categorical_accuracy: 0.78 - ETA: 4:52 - loss: 0.0133 - categorical_accuracy: 0.78 - ETA: 4:51 - loss: 0.0133 - categorical_accuracy: 0.78 - ETA: 4:51 - loss: 0.0133 - categorical_accuracy: 0.78 - ETA: 4:51 - loss: 0.0134 - categorical_accuracy: 0.78 - ETA: 4:50 - loss: 0.0134 - categorical_accuracy: 0.78 - ETA: 4:50 - loss: 0.0134 - categorical_accuracy: 0.78 - ETA: 4:49 - loss: 0.0134 - categorical_accuracy: 0.78 - ETA: 4:49 - loss: 0.0134 - categorical_accuracy: 0.78 - ETA: 4:48 - loss: 0.0134 - categorical_accuracy: 0.78 - ETA: 4:48 - loss: 0.0134 - categorical_accuracy: 0.78 - ETA: 4:48 - loss: 0.0134 - categorical_accuracy: 0.78 - ETA: 4:47 - loss: 0.0134 - categorical_accuracy: 0.78 - ETA: 4:47 - loss: 0.0134 - categorical_accuracy: 0.78 - ETA: 4:46 - loss: 0.0134 - categorical_accuracy: 0.78 - ETA: 4:46 - loss: 0.0134 - categorical_accuracy: 0.78 - ETA: 4:46 - loss: 0.0134 - categorical_accuracy: 0.78 - ETA: 4:45 - loss: 0.0134 - categorical_accuracy: 0.78 - ETA: 4:45 - loss: 0.0134 - categorical_accuracy: 0.78 - ETA: 4:44 - loss: 0.0134 - categorical_accuracy: 0.78 - ETA: 4:44 - loss: 0.0134 - categorical_accuracy: 0.78 - ETA: 4:43 - loss: 0.0134 - categorical_accuracy: 0.78 - ETA: 4:43 - loss: 0.0134 - categorical_accuracy: 0.78 - ETA: 4:43 - loss: 0.0134 - categorical_accuracy: 0.78 - ETA: 4:42 - loss: 0.0134 - categorical_accuracy: 0.78 - ETA: 4:42 - loss: 0.0134 - categorical_accuracy: 0.78 - ETA: 4:41 - loss: 0.0134 - categorical_accuracy: 0.78 - ETA: 4:41 - loss: 0.0134 - categorical_accuracy: 0.78 - ETA: 4:40 - loss: 0.0134 - categorical_accuracy: 0.78 - ETA: 4:40 - loss: 0.0134 - categorical_accuracy: 0.78 - ETA: 4:40 - loss: 0.0134 - categorical_accuracy: 0.78 - ETA: 4:39 - loss: 0.0134 - categorical_accuracy: 0.78 - ETA: 4:39 - loss: 0.0134 - categorical_accuracy: 0.78 - ETA: 4:38 - loss: 0.0134 - categorical_accuracy: 0.78 - ETA: 4:38 - loss: 0.0134 - categorical_accuracy: 0.78 - ETA: 4:38 - loss: 0.0134 - categorical_accuracy: 0.78 - ETA: 4:37 - loss: 0.0134 - categorical_accuracy: 0.78 - ETA: 4:37 - loss: 0.0134 - categorical_accuracy: 0.78 - ETA: 4:36 - loss: 0.0134 - categorical_accuracy: 0.78 - ETA: 4:36 - loss: 0.0134 - categorical_accuracy: 0.78 - ETA: 4:35 - loss: 0.0134 - categorical_accuracy: 0.78 - ETA: 4:35 - loss: 0.0135 - categorical_accuracy: 0.78 - ETA: 4:35 - loss: 0.0135 - categorical_accuracy: 0.78 - ETA: 4:34 - loss: 0.0135 - categorical_accuracy: 0.78 - ETA: 4:34 - loss: 0.0135 - categorical_accuracy: 0.78 - ETA: 4:33 - loss: 0.0135 - categorical_accuracy: 0.78 - ETA: 4:33 - loss: 0.0135 - categorical_accuracy: 0.78 - ETA: 4:33 - loss: 0.0135 - categorical_accuracy: 0.78 - ETA: 4:32 - loss: 0.0135 - categorical_accuracy: 0.78 - ETA: 4:32 - loss: 0.0135 - categorical_accuracy: 0.78 - ETA: 4:31 - loss: 0.0135 - categorical_accuracy: 0.78 - ETA: 4:31 - loss: 0.0135 - categorical_accuracy: 0.78 - ETA: 4:31 - loss: 0.0135 - categorical_accuracy: 0.78 - ETA: 4:30 - loss: 0.0135 - categorical_accuracy: 0.78 - ETA: 4:30 - loss: 0.0135 - categorical_accuracy: 0.78 - ETA: 4:29 - loss: 0.0135 - categorical_accuracy: 0.78 - ETA: 4:29 - loss: 0.0135 - categorical_accuracy: 0.78 - ETA: 4:28 - loss: 0.0135 - categorical_accuracy: 0.78 - ETA: 4:28 - loss: 0.0135 - categorical_accuracy: 0.78 - ETA: 4:28 - loss: 0.0135 - categorical_accuracy: 0.78 - ETA: 4:27 - loss: 0.0135 - categorical_accuracy: 0.78 - ETA: 4:27 - loss: 0.0135 - categorical_accuracy: 0.78 - ETA: 4:26 - loss: 0.0135 - categorical_accuracy: 0.78 - ETA: 4:26 - loss: 0.0135 - categorical_accuracy: 0.78 - ETA: 4:26 - loss: 0.0135 - categorical_accuracy: 0.78 - ETA: 4:25 - loss: 0.0135 - categorical_accuracy: 0.78 - ETA: 4:25 - loss: 0.0135 - categorical_accuracy: 0.78 - ETA: 4:24 - loss: 0.0135 - categorical_accuracy: 0.78 - ETA: 4:24 - loss: 0.0135 - categorical_accuracy: 0.78 - ETA: 4:23 - loss: 0.0135 - categorical_accuracy: 0.78 - ETA: 4:23 - loss: 0.0135 - categorical_accuracy: 0.78 - ETA: 4:23 - loss: 0.0135 - categorical_accuracy: 0.78 - ETA: 4:22 - loss: 0.0135 - categorical_accuracy: 0.78 - ETA: 4:22 - loss: 0.0135 - categorical_accuracy: 0.78 - ETA: 4:21 - loss: 0.0135 - categorical_accuracy: 0.78 - ETA: 4:21 - loss: 0.0135 - categorical_accuracy: 0.78 - ETA: 4:21 - loss: 0.0135 - categorical_accuracy: 0.78 - ETA: 4:20 - loss: 0.0135 - categorical_accuracy: 0.78 - ETA: 4:20 - loss: 0.0136 - categorical_accuracy: 0.78 - ETA: 4:19 - loss: 0.0136 - categorical_accuracy: 0.78 - ETA: 4:19 - loss: 0.0136 - categorical_accuracy: 0.78 - ETA: 4:19 - loss: 0.0136 - categorical_accuracy: 0.78 - ETA: 4:18 - loss: 0.0136 - categorical_accuracy: 0.78 - ETA: 4:18 - loss: 0.0136 - categorical_accuracy: 0.78 - ETA: 4:17 - loss: 0.0136 - categorical_accuracy: 0.78 - ETA: 4:17 - loss: 0.0136 - categorical_accuracy: 0.78 - ETA: 4:16 - loss: 0.0136 - categorical_accuracy: 0.78 - ETA: 4:16 - loss: 0.0136 - categorical_accuracy: 0.78 - ETA: 4:16 - loss: 0.0136 - categorical_accuracy: 0.78 - ETA: 4:15 - loss: 0.0136 - categorical_accuracy: 0.78 - ETA: 4:15 - loss: 0.0135 - categorical_accuracy: 0.78 - ETA: 4:15 - loss: 0.0135 - categorical_accuracy: 0.78 - ETA: 4:14 - loss: 0.0136 - categorical_accuracy: 0.78 - ETA: 4:14 - loss: 0.0135 - categorical_accuracy: 0.78 - ETA: 4:13 - loss: 0.0135 - categorical_accuracy: 0.78 - ETA: 4:13 - loss: 0.0135 - categorical_accuracy: 0.78 - ETA: 4:13 - loss: 0.0135 - categorical_accuracy: 0.78 - ETA: 4:12 - loss: 0.0135 - categorical_accuracy: 0.78 - ETA: 4:12 - loss: 0.0136 - categorical_accuracy: 0.78 - ETA: 4:12 - loss: 0.0136 - categorical_accuracy: 0.78 - ETA: 4:11 - loss: 0.0136 - categorical_accuracy: 0.78 - ETA: 4:11 - loss: 0.0136 - categorical_accuracy: 0.78 - ETA: 4:10 - loss: 0.0136 - categorical_accuracy: 0.78 - ETA: 4:10 - loss: 0.0136 - categorical_accuracy: 0.78 - ETA: 4:10 - loss: 0.0136 - categorical_accuracy: 0.78 - ETA: 4:09 - loss: 0.0136 - categorical_accuracy: 0.78 - ETA: 4:09 - loss: 0.0136 - categorical_accuracy: 0.78 - ETA: 4:09 - loss: 0.0136 - categorical_accuracy: 0.78 - ETA: 4:08 - loss: 0.0136 - categorical_accuracy: 0.78 - ETA: 4:08 - loss: 0.0136 - categorical_accuracy: 0.78 - ETA: 4:07 - loss: 0.0136 - categorical_accuracy: 0.78 - ETA: 4:07 - loss: 0.0136 - categorical_accuracy: 0.7897"
     ]
    },
    {
     "name": "stdout",
     "output_type": "stream",
     "text": [
      "23360/38368 [=================>............] - ETA: 4:07 - loss: 0.0135 - categorical_accuracy: 0.78 - ETA: 4:06 - loss: 0.0135 - categorical_accuracy: 0.78 - ETA: 4:06 - loss: 0.0135 - categorical_accuracy: 0.78 - ETA: 4:05 - loss: 0.0135 - categorical_accuracy: 0.78 - ETA: 4:05 - loss: 0.0135 - categorical_accuracy: 0.78 - ETA: 4:05 - loss: 0.0135 - categorical_accuracy: 0.78 - ETA: 4:04 - loss: 0.0135 - categorical_accuracy: 0.78 - ETA: 4:04 - loss: 0.0136 - categorical_accuracy: 0.78 - ETA: 4:04 - loss: 0.0136 - categorical_accuracy: 0.78 - ETA: 4:03 - loss: 0.0136 - categorical_accuracy: 0.78 - ETA: 4:03 - loss: 0.0136 - categorical_accuracy: 0.78 - ETA: 4:02 - loss: 0.0136 - categorical_accuracy: 0.78 - ETA: 4:02 - loss: 0.0136 - categorical_accuracy: 0.78 - ETA: 4:01 - loss: 0.0136 - categorical_accuracy: 0.78 - ETA: 4:01 - loss: 0.0135 - categorical_accuracy: 0.78 - ETA: 4:01 - loss: 0.0135 - categorical_accuracy: 0.78 - ETA: 4:00 - loss: 0.0136 - categorical_accuracy: 0.78 - ETA: 4:00 - loss: 0.0136 - categorical_accuracy: 0.78 - ETA: 3:59 - loss: 0.0136 - categorical_accuracy: 0.78 - ETA: 3:59 - loss: 0.0136 - categorical_accuracy: 0.78 - ETA: 3:59 - loss: 0.0136 - categorical_accuracy: 0.78 - ETA: 3:58 - loss: 0.0136 - categorical_accuracy: 0.78 - ETA: 3:58 - loss: 0.0136 - categorical_accuracy: 0.78 - ETA: 3:57 - loss: 0.0136 - categorical_accuracy: 0.78 - ETA: 3:57 - loss: 0.0136 - categorical_accuracy: 0.78 - ETA: 3:56 - loss: 0.0136 - categorical_accuracy: 0.78 - ETA: 3:56 - loss: 0.0136 - categorical_accuracy: 0.78 - ETA: 3:56 - loss: 0.0136 - categorical_accuracy: 0.78 - ETA: 3:55 - loss: 0.0136 - categorical_accuracy: 0.78 - ETA: 3:55 - loss: 0.0136 - categorical_accuracy: 0.78 - ETA: 3:54 - loss: 0.0136 - categorical_accuracy: 0.78 - ETA: 3:54 - loss: 0.0136 - categorical_accuracy: 0.78 - ETA: 3:54 - loss: 0.0136 - categorical_accuracy: 0.78 - ETA: 3:53 - loss: 0.0136 - categorical_accuracy: 0.78 - ETA: 3:53 - loss: 0.0136 - categorical_accuracy: 0.78 - ETA: 3:53 - loss: 0.0136 - categorical_accuracy: 0.78 - ETA: 3:52 - loss: 0.0136 - categorical_accuracy: 0.78 - ETA: 3:52 - loss: 0.0136 - categorical_accuracy: 0.78 - ETA: 3:52 - loss: 0.0136 - categorical_accuracy: 0.78 - ETA: 3:51 - loss: 0.0136 - categorical_accuracy: 0.78 - ETA: 3:51 - loss: 0.0136 - categorical_accuracy: 0.78 - ETA: 3:51 - loss: 0.0136 - categorical_accuracy: 0.78 - ETA: 3:50 - loss: 0.0136 - categorical_accuracy: 0.78 - ETA: 3:50 - loss: 0.0136 - categorical_accuracy: 0.78 - ETA: 3:50 - loss: 0.0136 - categorical_accuracy: 0.78 - ETA: 3:49 - loss: 0.0136 - categorical_accuracy: 0.78 - ETA: 3:49 - loss: 0.0136 - categorical_accuracy: 0.78 - ETA: 3:49 - loss: 0.0135 - categorical_accuracy: 0.78 - ETA: 3:48 - loss: 0.0135 - categorical_accuracy: 0.78 - ETA: 3:48 - loss: 0.0135 - categorical_accuracy: 0.78 - ETA: 3:47 - loss: 0.0136 - categorical_accuracy: 0.78 - ETA: 3:47 - loss: 0.0135 - categorical_accuracy: 0.78 - ETA: 3:47 - loss: 0.0135 - categorical_accuracy: 0.78 - ETA: 3:46 - loss: 0.0135 - categorical_accuracy: 0.78 - ETA: 3:46 - loss: 0.0135 - categorical_accuracy: 0.78 - ETA: 3:46 - loss: 0.0136 - categorical_accuracy: 0.78 - ETA: 3:45 - loss: 0.0135 - categorical_accuracy: 0.78 - ETA: 3:45 - loss: 0.0136 - categorical_accuracy: 0.78 - ETA: 3:44 - loss: 0.0136 - categorical_accuracy: 0.78 - ETA: 3:44 - loss: 0.0136 - categorical_accuracy: 0.78 - ETA: 3:44 - loss: 0.0136 - categorical_accuracy: 0.78 - ETA: 3:43 - loss: 0.0136 - categorical_accuracy: 0.78 - ETA: 3:43 - loss: 0.0136 - categorical_accuracy: 0.78 - ETA: 3:42 - loss: 0.0136 - categorical_accuracy: 0.78 - ETA: 3:42 - loss: 0.0136 - categorical_accuracy: 0.78 - ETA: 3:42 - loss: 0.0136 - categorical_accuracy: 0.78 - ETA: 3:41 - loss: 0.0136 - categorical_accuracy: 0.78 - ETA: 3:41 - loss: 0.0136 - categorical_accuracy: 0.78 - ETA: 3:40 - loss: 0.0136 - categorical_accuracy: 0.78 - ETA: 3:40 - loss: 0.0136 - categorical_accuracy: 0.78 - ETA: 3:40 - loss: 0.0136 - categorical_accuracy: 0.78 - ETA: 3:39 - loss: 0.0136 - categorical_accuracy: 0.78 - ETA: 3:39 - loss: 0.0136 - categorical_accuracy: 0.78 - ETA: 3:38 - loss: 0.0136 - categorical_accuracy: 0.78 - ETA: 3:38 - loss: 0.0136 - categorical_accuracy: 0.78 - ETA: 3:38 - loss: 0.0136 - categorical_accuracy: 0.78 - ETA: 3:37 - loss: 0.0136 - categorical_accuracy: 0.78 - ETA: 3:37 - loss: 0.0136 - categorical_accuracy: 0.78 - ETA: 3:36 - loss: 0.0136 - categorical_accuracy: 0.78 - ETA: 3:36 - loss: 0.0136 - categorical_accuracy: 0.78 - ETA: 3:36 - loss: 0.0136 - categorical_accuracy: 0.78 - ETA: 3:35 - loss: 0.0136 - categorical_accuracy: 0.78 - ETA: 3:35 - loss: 0.0136 - categorical_accuracy: 0.78 - ETA: 3:35 - loss: 0.0136 - categorical_accuracy: 0.78 - ETA: 3:34 - loss: 0.0136 - categorical_accuracy: 0.78 - ETA: 3:34 - loss: 0.0136 - categorical_accuracy: 0.78 - ETA: 3:33 - loss: 0.0136 - categorical_accuracy: 0.78 - ETA: 3:33 - loss: 0.0136 - categorical_accuracy: 0.78 - ETA: 3:32 - loss: 0.0136 - categorical_accuracy: 0.78 - ETA: 3:32 - loss: 0.0136 - categorical_accuracy: 0.78 - ETA: 3:32 - loss: 0.0136 - categorical_accuracy: 0.78 - ETA: 3:31 - loss: 0.0136 - categorical_accuracy: 0.78 - ETA: 3:31 - loss: 0.0136 - categorical_accuracy: 0.78 - ETA: 3:30 - loss: 0.0136 - categorical_accuracy: 0.78 - ETA: 3:30 - loss: 0.0136 - categorical_accuracy: 0.78 - ETA: 3:30 - loss: 0.0136 - categorical_accuracy: 0.78 - ETA: 3:29 - loss: 0.0136 - categorical_accuracy: 0.78 - ETA: 3:29 - loss: 0.0136 - categorical_accuracy: 0.78 - ETA: 3:28 - loss: 0.0136 - categorical_accuracy: 0.78 - ETA: 3:28 - loss: 0.0136 - categorical_accuracy: 0.78 - ETA: 3:28 - loss: 0.0136 - categorical_accuracy: 0.78 - ETA: 3:27 - loss: 0.0136 - categorical_accuracy: 0.78 - ETA: 3:27 - loss: 0.0136 - categorical_accuracy: 0.78 - ETA: 3:26 - loss: 0.0136 - categorical_accuracy: 0.78 - ETA: 3:26 - loss: 0.0136 - categorical_accuracy: 0.78 - ETA: 3:25 - loss: 0.0136 - categorical_accuracy: 0.78 - ETA: 3:25 - loss: 0.0136 - categorical_accuracy: 0.78 - ETA: 3:25 - loss: 0.0136 - categorical_accuracy: 0.78 - ETA: 3:24 - loss: 0.0136 - categorical_accuracy: 0.78 - ETA: 3:24 - loss: 0.0136 - categorical_accuracy: 0.78 - ETA: 3:23 - loss: 0.0136 - categorical_accuracy: 0.78 - ETA: 3:23 - loss: 0.0137 - categorical_accuracy: 0.78 - ETA: 3:22 - loss: 0.0137 - categorical_accuracy: 0.78 - ETA: 3:22 - loss: 0.0137 - categorical_accuracy: 0.78 - ETA: 3:22 - loss: 0.0137 - categorical_accuracy: 0.78 - ETA: 3:21 - loss: 0.0137 - categorical_accuracy: 0.78 - ETA: 3:21 - loss: 0.0137 - categorical_accuracy: 0.78 - ETA: 3:20 - loss: 0.0137 - categorical_accuracy: 0.78 - ETA: 3:20 - loss: 0.0137 - categorical_accuracy: 0.78 - ETA: 3:20 - loss: 0.0137 - categorical_accuracy: 0.78 - ETA: 3:19 - loss: 0.0137 - categorical_accuracy: 0.78 - ETA: 3:19 - loss: 0.0137 - categorical_accuracy: 0.78 - ETA: 3:18 - loss: 0.0137 - categorical_accuracy: 0.78 - ETA: 3:18 - loss: 0.0137 - categorical_accuracy: 0.78 - ETA: 3:18 - loss: 0.0137 - categorical_accuracy: 0.78 - ETA: 3:17 - loss: 0.0137 - categorical_accuracy: 0.78 - ETA: 3:17 - loss: 0.0137 - categorical_accuracy: 0.78 - ETA: 3:16 - loss: 0.0137 - categorical_accuracy: 0.78 - ETA: 3:16 - loss: 0.0137 - categorical_accuracy: 0.78 - ETA: 3:16 - loss: 0.0137 - categorical_accuracy: 0.78 - ETA: 3:15 - loss: 0.0137 - categorical_accuracy: 0.78 - ETA: 3:15 - loss: 0.0137 - categorical_accuracy: 0.78 - ETA: 3:14 - loss: 0.0137 - categorical_accuracy: 0.78 - ETA: 3:14 - loss: 0.0137 - categorical_accuracy: 0.78 - ETA: 3:14 - loss: 0.0137 - categorical_accuracy: 0.78 - ETA: 3:13 - loss: 0.0137 - categorical_accuracy: 0.78 - ETA: 3:13 - loss: 0.0137 - categorical_accuracy: 0.78 - ETA: 3:12 - loss: 0.0137 - categorical_accuracy: 0.78 - ETA: 3:12 - loss: 0.0137 - categorical_accuracy: 0.78 - ETA: 3:12 - loss: 0.0137 - categorical_accuracy: 0.78 - ETA: 3:11 - loss: 0.0137 - categorical_accuracy: 0.78 - ETA: 3:11 - loss: 0.0137 - categorical_accuracy: 0.78 - ETA: 3:10 - loss: 0.0137 - categorical_accuracy: 0.78 - ETA: 3:10 - loss: 0.0137 - categorical_accuracy: 0.78 - ETA: 3:09 - loss: 0.0137 - categorical_accuracy: 0.78 - ETA: 3:09 - loss: 0.0137 - categorical_accuracy: 0.7896"
     ]
    },
    {
     "name": "stdout",
     "output_type": "stream",
     "text": [
      "24064/38368 [=================>............] - ETA: 3:09 - loss: 0.0137 - categorical_accuracy: 0.78 - ETA: 3:08 - loss: 0.0137 - categorical_accuracy: 0.78 - ETA: 3:08 - loss: 0.0137 - categorical_accuracy: 0.78 - ETA: 3:07 - loss: 0.0137 - categorical_accuracy: 0.78 - ETA: 3:07 - loss: 0.0137 - categorical_accuracy: 0.78 - ETA: 3:07 - loss: 0.0137 - categorical_accuracy: 0.78 - ETA: 3:06 - loss: 0.0137 - categorical_accuracy: 0.78 - ETA: 3:06 - loss: 0.0137 - categorical_accuracy: 0.78 - ETA: 3:05 - loss: 0.0137 - categorical_accuracy: 0.78 - ETA: 3:05 - loss: 0.0137 - categorical_accuracy: 0.78 - ETA: 3:05 - loss: 0.0137 - categorical_accuracy: 0.78 - ETA: 3:04 - loss: 0.0137 - categorical_accuracy: 0.78 - ETA: 3:04 - loss: 0.0137 - categorical_accuracy: 0.78 - ETA: 3:03 - loss: 0.0137 - categorical_accuracy: 0.78 - ETA: 3:03 - loss: 0.0138 - categorical_accuracy: 0.78 - ETA: 3:03 - loss: 0.0137 - categorical_accuracy: 0.78 - ETA: 3:02 - loss: 0.0137 - categorical_accuracy: 0.78 - ETA: 3:02 - loss: 0.0138 - categorical_accuracy: 0.78 - ETA: 3:01 - loss: 0.0138 - categorical_accuracy: 0.78 - ETA: 3:01 - loss: 0.0138 - categorical_accuracy: 0.78 - ETA: 3:01 - loss: 0.0138 - categorical_accuracy: 0.78 - ETA: 3:00 - loss: 0.0138 - categorical_accuracy: 0.7896"
     ]
    }
   ],
   "source": [
    "%time model.fit(train_sequences_padded, train_tags_padded,\n",
    "          batch_size=32, epochs=10,\n",
    "          validation_data=(test_sequences_padded, test_tags_padded))"
   ]
  },
  {
   "cell_type": "markdown",
   "metadata": {},
   "source": [
    "# Evaluation"
   ]
  },
  {
   "cell_type": "code",
   "execution_count": null,
   "metadata": {},
   "outputs": [],
   "source": [
    "from seqeval.metrics import classification_report, f1_score"
   ]
  },
  {
   "cell_type": "code",
   "execution_count": null,
   "metadata": {},
   "outputs": [],
   "source": [
    "lstm_predicted = model.predict(test_sequences_padded)"
   ]
  },
  {
   "cell_type": "code",
   "execution_count": null,
   "metadata": {},
   "outputs": [],
   "source": [
    "lstm_predicted_tags = []\n",
    "bow_predicted_tags = []\n",
    "for s, s_pred in zip(test_sentences_words, lstm_predicted):\n",
    "    tags = np.argmax(s_pred, axis=1)\n",
    "    tags = map(index_tag_wo_padding.get,tags)[-len(s):]\n",
    "    lstm_predicted_tags.append(tags)\n",
    "    \n",
    "    bow_vector, _ = sentences_to_instances([s], [['x']*len(s)], count_vectorizer)\n",
    "    bow_predicted = clf.predict(bow_vector)[0]\n",
    "    bow_predicted_tags.append(bow_predicted)\n",
    "    "
   ]
  },
  {
   "cell_type": "code",
   "execution_count": null,
   "metadata": {},
   "outputs": [],
   "source": [
    "print('LSTM')\n",
    "print('='*15)\n",
    "print(classification_report(test_sentences_tags, lstm_predicted_tags))\n",
    "print()\n",
    "print('BOW')\n",
    "print('='*15)\n",
    "print(classification_report(test_sentences_tags, bow_predicted_tags))"
   ]
  },
  {
   "cell_type": "code",
   "execution_count": null,
   "metadata": {},
   "outputs": [],
   "source": [
    "print('LSTM:', f1_score(test_sentences_tags, lstm_predicted_tags))\n",
    "print('BOW:', f1_score(test_sentences_tags, bow_predicted_tags))"
   ]
  },
  {
   "cell_type": "markdown",
   "metadata": {},
   "source": [
    "# Pre Trained Embedding"
   ]
  },
  {
   "cell_type": "code",
   "execution_count": null,
   "metadata": {},
   "outputs": [],
   "source": [
    "GLOVE_DIR = '/Users/dima/Downloads/glove.6B/'"
   ]
  },
  {
   "cell_type": "code",
   "execution_count": null,
   "metadata": {},
   "outputs": [],
   "source": [
    "embeddings = {}\n",
    "with open(os.path.join(GLOVE_DIR, 'glove.6B.300d.txt')) as f:\n",
    "    for line in f:\n",
    "        values = line.split()\n",
    "        word = values[0]\n",
    "        coefs = np.asarray(values[1:], dtype='float32')\n",
    "        embeddings[word] = coefs\n",
    "\n",
    "print('# vectors:',  len(embeddings))"
   ]
  },
  {
   "cell_type": "code",
   "execution_count": null,
   "metadata": {},
   "outputs": [],
   "source": [
    "# prepare embedding matrix\n",
    "num_words = min(VOCAB_SIZE, len(word_index) + 1)\n",
    "embedding_matrix = np.zeros((num_words, 300))\n",
    "for word, i in word_index.items():\n",
    "    if i >= VOCAB_SIZE:\n",
    "        continue\n",
    "    embedding_vector = embeddings.get(word)\n",
    "    if embedding_vector is not None:\n",
    "        embedding_matrix[i] = embedding_vector"
   ]
  },
  {
   "cell_type": "code",
   "execution_count": null,
   "metadata": {},
   "outputs": [],
   "source": [
    "pretrained_embedding_layer = Embedding(VOCAB_SIZE,\n",
    "                                300,\n",
    "                                embeddings_initializer=Constant(embedding_matrix),\n",
    "                                input_length=MAX_LEN,\n",
    "                                trainable=False)\n",
    "\n",
    "sequence_input = Input(shape=(MAX_LEN,), dtype='int32')\n",
    "embedded_sequences = pretrained_embedding_layer(sequence_input)\n",
    "x = Bidirectional(LSTM(64, return_sequences=True))(embedded_sequences)\n",
    "x = Dropout(0.3)(x)\n",
    "x = Dense(32, activation='relu')(x)\n",
    "preds = Dense(len(tag_index), activation='softmax')(x)\n",
    "\n",
    "model = Model(sequence_input, preds)\n",
    "model.compile(loss='sparse_categorical_crossentropy',\n",
    "              optimizer='adam',\n",
    "              metrics=['sparse_categorical_accuracy'])\n",
    "\n",
    "model.summary()"
   ]
  },
  {
   "cell_type": "code",
   "execution_count": null,
   "metadata": {},
   "outputs": [],
   "source": [
    "model.fit(train_sequences_padded, train_tags_padded,\n",
    "          batch_size=32,\n",
    "          epochs=10,\n",
    "          validation_data=(test_sequences_padded, test_tags_padded))"
   ]
  },
  {
   "cell_type": "code",
   "execution_count": null,
   "metadata": {},
   "outputs": [],
   "source": [
    "lstm_predicted = model.predict(test_sequences_padded)"
   ]
  },
  {
   "cell_type": "code",
   "execution_count": null,
   "metadata": {},
   "outputs": [],
   "source": [
    "lstm_predicted_tags = []\n",
    "for s, s_pred in zip(test_sentences_words, lstm_predicted):\n",
    "    tags = np.argmax(s_pred, axis=1)\n",
    "    tags = map(index_tag_wo_padding.get,tags)[-len(s):]\n",
    "    lstm_predicted_tags.append(tags)"
   ]
  },
  {
   "cell_type": "code",
   "execution_count": null,
   "metadata": {},
   "outputs": [],
   "source": [
    "print('LSTM + Pretrained Embbeddings')\n",
    "print('='*15)\n",
    "print(classification_report(test_sentences_tags, lstm_predicted_tags))"
   ]
  },
  {
   "cell_type": "code",
   "execution_count": null,
   "metadata": {},
   "outputs": [],
   "source": [
    "print('LSTM+Glove:', f1_score(test_sentences_tags, lstm_predicted_tags))"
   ]
  },
  {
   "cell_type": "markdown",
   "metadata": {},
   "source": [
    "# ELMo"
   ]
  },
  {
   "cell_type": "code",
   "execution_count": null,
   "metadata": {},
   "outputs": [],
   "source": [
    "import tensorflow as tf\n",
    "import tensorflow_hub as hub\n",
    "from keras import backend as K\n",
    "from keras.layers import Lambda"
   ]
  },
  {
   "cell_type": "code",
   "execution_count": null,
   "metadata": {},
   "outputs": [],
   "source": [
    "sess = tf.Session()\n",
    "K.set_session(sess)"
   ]
  },
  {
   "cell_type": "code",
   "execution_count": null,
   "metadata": {},
   "outputs": [],
   "source": [
    "elmo_model = hub.Module(\"https://tfhub.dev/google/elmo/2\", trainable=False)\n",
    "sess.run(tf.global_variables_initializer())\n",
    "sess.run(tf.tables_initializer())"
   ]
  },
  {
   "cell_type": "code",
   "execution_count": null,
   "metadata": {},
   "outputs": [],
   "source": [
    "def ElmoEmbedding(x):\n",
    "    return elmo_model(inputs={\n",
    "                            \"tokens\": tf.squeeze(tf.cast(x, tf.string)),\n",
    "                            \"sequence_len\": tf.constant(32*[MAX_LEN])\n",
    "                      },\n",
    "                      signature=\"tokens\",\n",
    "                      as_dict=True)[\"elmo\"]"
   ]
  },
  {
   "cell_type": "code",
   "execution_count": null,
   "metadata": {},
   "outputs": [],
   "source": [
    "elmo_embedding_layer = Lambda(ElmoEmbedding, output_shape=(MAX_LEN, 1024))\n",
    "\n",
    "sequence_input = Input(shape=(MAX_LEN,), dtype=tf.string)\n",
    "embedded_sequences = elmo_embedding_layer(sequence_input)\n",
    "x = Bidirectional(LSTM(64, return_sequences=True))(embedded_sequences)\n",
    "x = Dropout(0.3)(x)\n",
    "x = Dense(32, activation='relu')(x)\n",
    "preds = Dense(len(tag_index), activation='softmax')(x)\n",
    "\n",
    "model = Model(sequence_input, preds)\n",
    "model.compile(loss='sparse_categorical_crossentropy',\n",
    "              optimizer='adam',\n",
    "              metrics=['sparse_categorical_accuracy'])\n",
    "\n",
    "model.summary()"
   ]
  },
  {
   "cell_type": "code",
   "execution_count": null,
   "metadata": {},
   "outputs": [],
   "source": [
    "new_train_words_padded = [[index_word[w] for w in s] for s in train_sequences_padded]\n",
    "new_test_words_padded = [[index_word[w] for w in s] for s in test_sequences_padded]"
   ]
  },
  {
   "cell_type": "code",
   "execution_count": null,
   "metadata": {},
   "outputs": [],
   "source": [
    "new_train_words_padded = np.array(new_train_words_padded[:1198*32])\n",
    "new_train_tags_padded = train_tags_padded[:1198*32]\n",
    "\n",
    "new_test_words_padded = np.array(new_test_words_padded[:299*32])\n",
    "new_test_tags_padded = test_tags_padded[:299*32]\n",
    "\n",
    "\n",
    "new_train_words_padded.shape, new_train_tags_padded.shape, new_test_words_padded.shape, new_test_tags_padded.shape"
   ]
  },
  {
   "cell_type": "code",
   "execution_count": null,
   "metadata": {},
   "outputs": [],
   "source": [
    "model.fit(new_train_words_padded, new_train_tags_padded,\n",
    "          batch_size=32,\n",
    "          epochs=4,\n",
    "          validation_data=(new_test_words_padded, new_test_tags_padded))"
   ]
  },
  {
   "cell_type": "code",
   "execution_count": null,
   "metadata": {},
   "outputs": [],
   "source": [
    "lstm_predicted = model.predict(new_test_words_padded)"
   ]
  },
  {
   "cell_type": "code",
   "execution_count": null,
   "metadata": {},
   "outputs": [],
   "source": [
    "lstm_predicted_tags = []\n",
    "for s, s_pred in zip(test_sentences_words[:299*32], lstm_predicted):\n",
    "    tags = np.argmax(s_pred, axis=1)\n",
    "    tags = map(index_tag_wo_padding.get,tags)[-len(s):]\n",
    "    lstm_predicted_tags.append(tags)"
   ]
  },
  {
   "cell_type": "code",
   "execution_count": null,
   "metadata": {},
   "outputs": [],
   "source": [
    "print('ELMo')\n",
    "print('='*15)\n",
    "print(classification_report(test_sentences_tags, lstm_predicted_tags))"
   ]
  },
  {
   "cell_type": "code",
   "execution_count": null,
   "metadata": {},
   "outputs": [],
   "source": [
    "print('ELMo:', f1_score(test_sentences_tags[:299*32], lstm_predicted_tags))"
   ]
  },
  {
   "cell_type": "code",
   "execution_count": null,
   "metadata": {},
   "outputs": [],
   "source": []
  }
 ],
 "metadata": {
  "kernelspec": {
   "display_name": "Python 3",
   "language": "python",
   "name": "python3"
  },
  "language_info": {
   "codemirror_mode": {
    "name": "ipython",
    "version": 3
   },
   "file_extension": ".py",
   "mimetype": "text/x-python",
   "name": "python",
   "nbconvert_exporter": "python",
   "pygments_lexer": "ipython3",
   "version": "3.6.0"
  }
 },
 "nbformat": 4,
 "nbformat_minor": 2
}
