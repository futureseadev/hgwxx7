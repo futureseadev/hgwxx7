{
 "cells": [
  {
   "cell_type": "markdown",
   "metadata": {},
   "source": [
    "# Stochastic Gradient Descent"
   ]
  },
  {
   "cell_type": "code",
   "execution_count": 1,
   "metadata": {},
   "outputs": [],
   "source": [
    "# load libraries\n",
    "\n",
    "import numpy as np\n",
    "import pandas as pd\n",
    "\n",
    "from sklearn import datasets\n",
    "from sklearn.linear_model import LogisticRegression\n",
    "from sklearn.linear_model import SGDClassifier\n",
    "from sklearn.model_selection import KFold\n",
    "from sklearn.metrics import accuracy_score\n"
   ]
  },
  {
   "cell_type": "code",
   "execution_count": 2,
   "metadata": {},
   "outputs": [],
   "source": [
    "# Note that the iris dataset is available in sklearn by default.\n",
    "# This data is also conveniently preprocessed.\n",
    "iris = datasets.load_iris()\n",
    "X = iris[\"data\"]\n",
    "Y = iris[\"target\"]\n",
    "\n",
    "# set variables\n",
    "numFolds = 10\n",
    "kf = KFold(numFolds, shuffle=True, random_state=43)\n",
    "\n",
    "# These are \"Class objects\". For each Class, find the AUC through\n",
    "# Kfold cross validation.\n",
    "Models = [LogisticRegression, SGDClassifier]\n",
    "\n",
    "# Added n_iter here\n",
    "params = [{}, {\"loss\": \"log\", \"penalty\": \"l2\", 'max_iter':1000}]\n"
   ]
  },
  {
   "cell_type": "code",
   "execution_count": 3,
   "metadata": {},
   "outputs": [
    {
     "name": "stdout",
     "output_type": "stream",
     "text": [
      "Accuracy score of LogisticRegression: 0.9400000000000001\n",
      "Accuracy score of SGDClassifier: 0.9533333333333335\n"
     ]
    }
   ],
   "source": [
    "# tuning\n",
    "for param, Model in zip(params, Models):\n",
    "    total = 0\n",
    "    for train_indices, test_indices in kf.split(X):\n",
    "        train_X = X[train_indices, :]\n",
    "        train_Y = Y[train_indices]\n",
    "        test_X = X[test_indices, :]\n",
    "        test_Y = Y[test_indices]\n",
    "        reg = Model(**param)\n",
    "        reg.fit(train_X, train_Y)\n",
    "        predictions = reg.predict(test_X)\n",
    "        total += accuracy_score(test_Y, predictions)\n",
    "\n",
    "    accuracy = total / numFolds\n",
    "    print(\"Accuracy score of {0}: {1}\".format(Model.__name__, accuracy))"
   ]
  },
  {
   "cell_type": "code",
   "execution_count": 4,
   "metadata": {},
   "outputs": [
    {
     "data": {
      "text/plain": [
       "'0.19.1'"
      ]
     },
     "execution_count": 4,
     "metadata": {},
     "output_type": "execute_result"
    }
   ],
   "source": [
    "import sklearn\n",
    "sklearn.__version__"
   ]
  }
 ],
 "metadata": {
  "kernelspec": {
   "display_name": "Python 3",
   "language": "python",
   "name": "python3"
  },
  "language_info": {
   "codemirror_mode": {
    "name": "ipython",
    "version": 3
   },
   "file_extension": ".py",
   "mimetype": "text/x-python",
   "name": "python",
   "nbconvert_exporter": "python",
   "pygments_lexer": "ipython3",
   "version": "3.6.3"
  }
 },
 "nbformat": 4,
 "nbformat_minor": 2
}
