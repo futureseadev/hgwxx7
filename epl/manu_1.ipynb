{
 "cells": [
  {
   "cell_type": "code",
   "execution_count": 1,
   "metadata": {},
   "outputs": [],
   "source": [
    "import datapackage\n",
    "import pandas as pd"
   ]
  },
  {
   "cell_type": "code",
   "execution_count": 2,
   "metadata": {},
   "outputs": [
    {
     "data": {
      "text/plain": [
       "datapackage.package.Package"
      ]
     },
     "execution_count": 2,
     "metadata": {},
     "output_type": "execute_result"
    }
   ],
   "source": [
    "data_url = 'https://datahub.io/sports-data/english-premier-league/datapackage.json'\n",
    "\n",
    "# to load Data Package into storage\n",
    "package = datapackage.Package(data_url)\n",
    "type(package)"
   ]
  },
  {
   "cell_type": "code",
   "execution_count": 3,
   "metadata": {},
   "outputs": [
    {
     "data": {
      "text/html": [
       "<div>\n",
       "<style scoped>\n",
       "    .dataframe tbody tr th:only-of-type {\n",
       "        vertical-align: middle;\n",
       "    }\n",
       "\n",
       "    .dataframe tbody tr th {\n",
       "        vertical-align: top;\n",
       "    }\n",
       "\n",
       "    .dataframe thead th {\n",
       "        text-align: right;\n",
       "    }\n",
       "</style>\n",
       "<table border=\"1\" class=\"dataframe\">\n",
       "  <thead>\n",
       "    <tr style=\"text-align: right;\">\n",
       "      <th></th>\n",
       "      <th>Div</th>\n",
       "      <th>Date</th>\n",
       "      <th>HomeTeam</th>\n",
       "      <th>AwayTeam</th>\n",
       "      <th>FTHG</th>\n",
       "      <th>FTAG</th>\n",
       "      <th>FTR</th>\n",
       "      <th>HTHG</th>\n",
       "      <th>HTAG</th>\n",
       "      <th>HTR</th>\n",
       "      <th>...</th>\n",
       "      <th>BbMx&gt;2.5</th>\n",
       "      <th>BbAv&gt;2.5</th>\n",
       "      <th>BbMx&lt;2.5</th>\n",
       "      <th>BbAv&lt;2.5</th>\n",
       "      <th>BbAH</th>\n",
       "      <th>BbAHh</th>\n",
       "      <th>BbMxAHH</th>\n",
       "      <th>BbAvAHH</th>\n",
       "      <th>BbMxAHA</th>\n",
       "      <th>BbAvAHA</th>\n",
       "    </tr>\n",
       "  </thead>\n",
       "  <tbody>\n",
       "    <tr>\n",
       "      <th>0</th>\n",
       "      <td>E0</td>\n",
       "      <td>2009-08-15</td>\n",
       "      <td>Aston Villa</td>\n",
       "      <td>Wigan</td>\n",
       "      <td>0</td>\n",
       "      <td>2</td>\n",
       "      <td>A</td>\n",
       "      <td>0</td>\n",
       "      <td>1</td>\n",
       "      <td>A</td>\n",
       "      <td>...</td>\n",
       "      <td>2.04</td>\n",
       "      <td>1.92</td>\n",
       "      <td>1.91</td>\n",
       "      <td>1.81</td>\n",
       "      <td>21</td>\n",
       "      <td>0.0</td>\n",
       "      <td>1.28</td>\n",
       "      <td>1.22</td>\n",
       "      <td>4.40</td>\n",
       "      <td>3.99</td>\n",
       "    </tr>\n",
       "    <tr>\n",
       "      <th>1</th>\n",
       "      <td>E0</td>\n",
       "      <td>2009-08-15</td>\n",
       "      <td>Blackburn</td>\n",
       "      <td>Man City</td>\n",
       "      <td>0</td>\n",
       "      <td>2</td>\n",
       "      <td>A</td>\n",
       "      <td>0</td>\n",
       "      <td>1</td>\n",
       "      <td>A</td>\n",
       "      <td>...</td>\n",
       "      <td>2.15</td>\n",
       "      <td>2.04</td>\n",
       "      <td>1.78</td>\n",
       "      <td>1.71</td>\n",
       "      <td>24</td>\n",
       "      <td>0.0</td>\n",
       "      <td>2.58</td>\n",
       "      <td>2.38</td>\n",
       "      <td>1.60</td>\n",
       "      <td>1.54</td>\n",
       "    </tr>\n",
       "    <tr>\n",
       "      <th>2</th>\n",
       "      <td>E0</td>\n",
       "      <td>2009-08-15</td>\n",
       "      <td>Bolton</td>\n",
       "      <td>Sunderland</td>\n",
       "      <td>0</td>\n",
       "      <td>1</td>\n",
       "      <td>A</td>\n",
       "      <td>0</td>\n",
       "      <td>1</td>\n",
       "      <td>A</td>\n",
       "      <td>...</td>\n",
       "      <td>2.25</td>\n",
       "      <td>2.12</td>\n",
       "      <td>1.70</td>\n",
       "      <td>1.66</td>\n",
       "      <td>23</td>\n",
       "      <td>0.0</td>\n",
       "      <td>1.68</td>\n",
       "      <td>1.61</td>\n",
       "      <td>2.33</td>\n",
       "      <td>2.23</td>\n",
       "    </tr>\n",
       "    <tr>\n",
       "      <th>3</th>\n",
       "      <td>E0</td>\n",
       "      <td>2009-08-15</td>\n",
       "      <td>Chelsea</td>\n",
       "      <td>Hull</td>\n",
       "      <td>2</td>\n",
       "      <td>1</td>\n",
       "      <td>H</td>\n",
       "      <td>1</td>\n",
       "      <td>1</td>\n",
       "      <td>D</td>\n",
       "      <td>...</td>\n",
       "      <td>1.67</td>\n",
       "      <td>1.58</td>\n",
       "      <td>2.44</td>\n",
       "      <td>2.26</td>\n",
       "      <td>22</td>\n",
       "      <td>0.0</td>\n",
       "      <td>1.03</td>\n",
       "      <td>1.02</td>\n",
       "      <td>17.05</td>\n",
       "      <td>12.96</td>\n",
       "    </tr>\n",
       "    <tr>\n",
       "      <th>4</th>\n",
       "      <td>E0</td>\n",
       "      <td>2009-08-15</td>\n",
       "      <td>Everton</td>\n",
       "      <td>Arsenal</td>\n",
       "      <td>1</td>\n",
       "      <td>6</td>\n",
       "      <td>A</td>\n",
       "      <td>0</td>\n",
       "      <td>3</td>\n",
       "      <td>A</td>\n",
       "      <td>...</td>\n",
       "      <td>2.20</td>\n",
       "      <td>2.06</td>\n",
       "      <td>1.77</td>\n",
       "      <td>1.70</td>\n",
       "      <td>24</td>\n",
       "      <td>0.0</td>\n",
       "      <td>2.27</td>\n",
       "      <td>2.20</td>\n",
       "      <td>1.73</td>\n",
       "      <td>1.63</td>\n",
       "    </tr>\n",
       "  </tbody>\n",
       "</table>\n",
       "<p>5 rows × 71 columns</p>\n",
       "</div>"
      ],
      "text/plain": [
       "  Div        Date     HomeTeam    AwayTeam  FTHG  FTAG FTR  HTHG  HTAG HTR  \\\n",
       "0  E0  2009-08-15  Aston Villa       Wigan     0     2   A     0     1   A   \n",
       "1  E0  2009-08-15    Blackburn    Man City     0     2   A     0     1   A   \n",
       "2  E0  2009-08-15       Bolton  Sunderland     0     1   A     0     1   A   \n",
       "3  E0  2009-08-15      Chelsea        Hull     2     1   H     1     1   D   \n",
       "4  E0  2009-08-15      Everton     Arsenal     1     6   A     0     3   A   \n",
       "\n",
       "   ... BbMx>2.5  BbAv>2.5  BbMx<2.5  BbAv<2.5  BbAH  BbAHh  BbMxAHH  BbAvAHH  \\\n",
       "0  ...     2.04      1.92      1.91      1.81    21    0.0     1.28     1.22   \n",
       "1  ...     2.15      2.04      1.78      1.71    24    0.0     2.58     2.38   \n",
       "2  ...     2.25      2.12      1.70      1.66    23    0.0     1.68     1.61   \n",
       "3  ...     1.67      1.58      2.44      2.26    22    0.0     1.03     1.02   \n",
       "4  ...     2.20      2.06      1.77      1.70    24    0.0     2.27     2.20   \n",
       "\n",
       "   BbMxAHA  BbAvAHA  \n",
       "0     4.40     3.99  \n",
       "1     1.60     1.54  \n",
       "2     2.33     2.23  \n",
       "3    17.05    12.96  \n",
       "4     1.73     1.63  \n",
       "\n",
       "[5 rows x 71 columns]"
      ]
     },
     "execution_count": 3,
     "metadata": {},
     "output_type": "execute_result"
    }
   ],
   "source": [
    "# to load only tabular data\n",
    "resources = package.resources\n",
    "for resource in resources:\n",
    "    if resource.tabular:\n",
    "        data = pd.read_csv(resource.descriptor['path'])\n",
    "        #print (data)\n",
    "\n",
    "data.head()"
   ]
  },
  {
   "cell_type": "code",
   "execution_count": 4,
   "metadata": {},
   "outputs": [
    {
     "data": {
      "text/plain": [
       "380"
      ]
     },
     "execution_count": 4,
     "metadata": {},
     "output_type": "execute_result"
    }
   ],
   "source": [
    "len(data)"
   ]
  },
  {
   "cell_type": "code",
   "execution_count": 5,
   "metadata": {},
   "outputs": [
    {
     "data": {
      "text/plain": [
       "array(['2009-08-15', '2009-08-16', '2009-08-18', '2009-08-19',\n",
       "       '2009-08-22', '2009-08-23', '2009-08-24', '2009-08-29',\n",
       "       '2009-08-30', '2009-09-12', '2009-09-13', '2009-09-19',\n",
       "       '2009-09-20', '2009-09-26', '2009-09-27', '2009-09-28',\n",
       "       '2009-10-03', '2009-10-04', '2009-10-05', '2009-10-17',\n",
       "       '2009-10-18', '2009-10-19', '2009-10-24', '2009-10-25',\n",
       "       '2009-10-31', '2009-11-01', '2009-11-04', '2009-11-07',\n",
       "       '2009-11-08', '2009-11-09', '2009-11-21', '2009-11-22',\n",
       "       '2009-11-25', '2009-11-28', '2009-11-29', '2009-12-05',\n",
       "       '2009-12-06', '2009-12-12', '2009-12-13', '2009-12-15',\n",
       "       '2009-12-16', '2009-12-19', '2009-12-20', '2009-12-26',\n",
       "       '2009-12-27', '2009-12-28', '2009-12-29', '2009-12-30',\n",
       "       '2010-01-05', '2010-01-09', '2010-01-11', '2010-01-16',\n",
       "       '2010-01-17', '2010-01-20', '2010-01-23', '2010-01-26',\n",
       "       '2010-01-27', '2010-01-30', '2010-01-31', '2010-02-01',\n",
       "       '2010-02-02', '2010-02-03', '2010-02-06', '2010-02-07',\n",
       "       '2010-02-09', '2010-02-10', '2010-02-16', '2010-02-17',\n",
       "       '2010-02-20', '2010-02-21', '2010-02-23', '2010-02-27',\n",
       "       '2010-02-28', '2010-03-06', '2010-03-07', '2010-03-08',\n",
       "       '2010-03-09', '2010-03-10', '2010-03-13', '2010-03-14',\n",
       "       '2010-03-15', '2010-03-16', '2010-03-20', '2010-03-21',\n",
       "       '2010-03-23', '2010-03-24', '2010-03-27', '2010-03-28',\n",
       "       '2010-03-29', '2010-04-03', '2010-04-04', '2010-04-10',\n",
       "       '2010-04-11', '2010-04-13', '2010-04-14', '2010-04-17',\n",
       "       '2010-04-18', '2010-04-19', '2010-04-21', '2010-04-24',\n",
       "       '2010-04-25', '2010-05-01', '2010-05-02', '2010-05-03',\n",
       "       '2010-05-05', '2010-05-09'], dtype=object)"
      ]
     },
     "execution_count": 5,
     "metadata": {},
     "output_type": "execute_result"
    }
   ],
   "source": [
    "data['Date'].unique()"
   ]
  },
  {
   "cell_type": "code",
   "execution_count": null,
   "metadata": {},
   "outputs": [],
   "source": []
  }
 ],
 "metadata": {
  "kernelspec": {
   "display_name": "Python 3",
   "language": "python",
   "name": "python3"
  },
  "language_info": {
   "codemirror_mode": {
    "name": "ipython",
    "version": 3
   },
   "file_extension": ".py",
   "mimetype": "text/x-python",
   "name": "python",
   "nbconvert_exporter": "python",
   "pygments_lexer": "ipython3",
   "version": "3.8.3"
  }
 },
 "nbformat": 4,
 "nbformat_minor": 4
}
