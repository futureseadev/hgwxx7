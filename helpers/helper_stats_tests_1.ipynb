{
 "cells": [
  {
   "cell_type": "markdown",
   "metadata": {},
   "source": [
    "# T test\n",
    "\n",
    "---"
   ]
  },
  {
   "cell_type": "markdown",
   "metadata": {},
   "source": [
    "If calculated t-value is larger than the tabled value at the desired significance level (alpha = .01), we can reject the null hypothesis and accept the alternative hypothesis, namely, that the difference is likely the result of the experimental treatment and not the result of chance variation. <br/>\n"
   ]
  },
  {
   "cell_type": "markdown",
   "metadata": {},
   "source": [
    "---"
   ]
  },
  {
   "cell_type": "code",
   "execution_count": 1,
   "metadata": {},
   "outputs": [],
   "source": [
    "from scipy import stats as st\n",
    "from scipy.stats import t\n",
    "\n",
    "import math as m\n",
    "import numpy as np\n",
    "import pandas as pd\n",
    "import matplotlib.pyplot as plt\n",
    "\n",
    "%matplotlib inline"
   ]
  },
  {
   "cell_type": "code",
   "execution_count": 2,
   "metadata": {},
   "outputs": [
    {
     "name": "stdout",
     "output_type": "stream",
     "text": [
      "1.8124611228107335\n",
      "0.949999999999923\n"
     ]
    }
   ],
   "source": [
    "# define probability\n",
    "p = 0.95\n",
    "df = 10\n",
    "\n",
    "# retrieve value <= probability\n",
    "value = t.ppf(p, df)\n",
    "print(value)\n",
    "\n",
    "# confirm with cdf\n",
    "p = t.cdf(value, df)\n",
    "print(p)"
   ]
  },
  {
   "cell_type": "markdown",
   "metadata": {},
   "source": [
    "### Two sample t test\n",
    "\n",
    "---"
   ]
  },
  {
   "cell_type": "markdown",
   "metadata": {},
   "source": [
    "#### Related samples\n",
    "\n",
    "#### Data with significant deviation\n",
    "\n",
    "Score1 - before training or experiment\n",
    "Score2 - after training or experiment"
   ]
  },
  {
   "cell_type": "code",
   "execution_count": 3,
   "metadata": {},
   "outputs": [],
   "source": [
    "df = pd.DataFrame([[0.840532,0.187758],\n",
    "[0.840536,0.187758],\n",
    "[0.840536,0.187758],\n",
    "[0.844854,0.187758],\n",
    "[0.850156,0.188937],\n",
    "[0.852761,0.170922],\n",
    "[0.854834,0.170922],\n",
    "[0.854995,0.170922],\n",
    "[0.858958,0.172603],\n",
    "[0.882185,0.170568]])"
   ]
  },
  {
   "cell_type": "code",
   "execution_count": 4,
   "metadata": {},
   "outputs": [],
   "source": [
    "df.columns = ['score1', 'score2']"
   ]
  },
  {
   "cell_type": "code",
   "execution_count": 5,
   "metadata": {},
   "outputs": [
    {
     "data": {
      "text/html": [
       "<div>\n",
       "<style scoped>\n",
       "    .dataframe tbody tr th:only-of-type {\n",
       "        vertical-align: middle;\n",
       "    }\n",
       "\n",
       "    .dataframe tbody tr th {\n",
       "        vertical-align: top;\n",
       "    }\n",
       "\n",
       "    .dataframe thead th {\n",
       "        text-align: right;\n",
       "    }\n",
       "</style>\n",
       "<table border=\"1\" class=\"dataframe\">\n",
       "  <thead>\n",
       "    <tr style=\"text-align: right;\">\n",
       "      <th></th>\n",
       "      <th>score1</th>\n",
       "      <th>score2</th>\n",
       "    </tr>\n",
       "  </thead>\n",
       "  <tbody>\n",
       "    <tr>\n",
       "      <th>0</th>\n",
       "      <td>0.840532</td>\n",
       "      <td>0.187758</td>\n",
       "    </tr>\n",
       "    <tr>\n",
       "      <th>1</th>\n",
       "      <td>0.840536</td>\n",
       "      <td>0.187758</td>\n",
       "    </tr>\n",
       "    <tr>\n",
       "      <th>2</th>\n",
       "      <td>0.840536</td>\n",
       "      <td>0.187758</td>\n",
       "    </tr>\n",
       "    <tr>\n",
       "      <th>3</th>\n",
       "      <td>0.844854</td>\n",
       "      <td>0.187758</td>\n",
       "    </tr>\n",
       "    <tr>\n",
       "      <th>4</th>\n",
       "      <td>0.850156</td>\n",
       "      <td>0.188937</td>\n",
       "    </tr>\n",
       "    <tr>\n",
       "      <th>5</th>\n",
       "      <td>0.852761</td>\n",
       "      <td>0.170922</td>\n",
       "    </tr>\n",
       "    <tr>\n",
       "      <th>6</th>\n",
       "      <td>0.854834</td>\n",
       "      <td>0.170922</td>\n",
       "    </tr>\n",
       "    <tr>\n",
       "      <th>7</th>\n",
       "      <td>0.854995</td>\n",
       "      <td>0.170922</td>\n",
       "    </tr>\n",
       "    <tr>\n",
       "      <th>8</th>\n",
       "      <td>0.858958</td>\n",
       "      <td>0.172603</td>\n",
       "    </tr>\n",
       "    <tr>\n",
       "      <th>9</th>\n",
       "      <td>0.882185</td>\n",
       "      <td>0.170568</td>\n",
       "    </tr>\n",
       "  </tbody>\n",
       "</table>\n",
       "</div>"
      ],
      "text/plain": [
       "     score1    score2\n",
       "0  0.840532  0.187758\n",
       "1  0.840536  0.187758\n",
       "2  0.840536  0.187758\n",
       "3  0.844854  0.187758\n",
       "4  0.850156  0.188937\n",
       "5  0.852761  0.170922\n",
       "6  0.854834  0.170922\n",
       "7  0.854995  0.170922\n",
       "8  0.858958  0.172603\n",
       "9  0.882185  0.170568"
      ]
     },
     "execution_count": 5,
     "metadata": {},
     "output_type": "execute_result"
    }
   ],
   "source": [
    "df"
   ]
  },
  {
   "cell_type": "code",
   "execution_count": 6,
   "metadata": {},
   "outputs": [
    {
     "data": {
      "text/plain": [
       "(0.8520347000000001, 0.17959060000000002)"
      ]
     },
     "execution_count": 6,
     "metadata": {},
     "output_type": "execute_result"
    }
   ],
   "source": [
    "df['score1'].mean(), df['score2'].mean()"
   ]
  },
  {
   "cell_type": "code",
   "execution_count": 7,
   "metadata": {},
   "outputs": [],
   "source": [
    "df['diff'] = df['score1'] - df['score2']"
   ]
  },
  {
   "cell_type": "code",
   "execution_count": 8,
   "metadata": {},
   "outputs": [],
   "source": [
    "# df.drop([<column>], axis=1, inplace=True)"
   ]
  },
  {
   "cell_type": "code",
   "execution_count": 9,
   "metadata": {},
   "outputs": [
    {
     "data": {
      "text/html": [
       "<div>\n",
       "<style scoped>\n",
       "    .dataframe tbody tr th:only-of-type {\n",
       "        vertical-align: middle;\n",
       "    }\n",
       "\n",
       "    .dataframe tbody tr th {\n",
       "        vertical-align: top;\n",
       "    }\n",
       "\n",
       "    .dataframe thead th {\n",
       "        text-align: right;\n",
       "    }\n",
       "</style>\n",
       "<table border=\"1\" class=\"dataframe\">\n",
       "  <thead>\n",
       "    <tr style=\"text-align: right;\">\n",
       "      <th></th>\n",
       "      <th>score1</th>\n",
       "      <th>score2</th>\n",
       "      <th>diff</th>\n",
       "    </tr>\n",
       "  </thead>\n",
       "  <tbody>\n",
       "    <tr>\n",
       "      <th>0</th>\n",
       "      <td>0.840532</td>\n",
       "      <td>0.187758</td>\n",
       "      <td>0.652774</td>\n",
       "    </tr>\n",
       "    <tr>\n",
       "      <th>1</th>\n",
       "      <td>0.840536</td>\n",
       "      <td>0.187758</td>\n",
       "      <td>0.652778</td>\n",
       "    </tr>\n",
       "    <tr>\n",
       "      <th>2</th>\n",
       "      <td>0.840536</td>\n",
       "      <td>0.187758</td>\n",
       "      <td>0.652778</td>\n",
       "    </tr>\n",
       "    <tr>\n",
       "      <th>3</th>\n",
       "      <td>0.844854</td>\n",
       "      <td>0.187758</td>\n",
       "      <td>0.657096</td>\n",
       "    </tr>\n",
       "    <tr>\n",
       "      <th>4</th>\n",
       "      <td>0.850156</td>\n",
       "      <td>0.188937</td>\n",
       "      <td>0.661219</td>\n",
       "    </tr>\n",
       "    <tr>\n",
       "      <th>5</th>\n",
       "      <td>0.852761</td>\n",
       "      <td>0.170922</td>\n",
       "      <td>0.681839</td>\n",
       "    </tr>\n",
       "    <tr>\n",
       "      <th>6</th>\n",
       "      <td>0.854834</td>\n",
       "      <td>0.170922</td>\n",
       "      <td>0.683912</td>\n",
       "    </tr>\n",
       "    <tr>\n",
       "      <th>7</th>\n",
       "      <td>0.854995</td>\n",
       "      <td>0.170922</td>\n",
       "      <td>0.684073</td>\n",
       "    </tr>\n",
       "    <tr>\n",
       "      <th>8</th>\n",
       "      <td>0.858958</td>\n",
       "      <td>0.172603</td>\n",
       "      <td>0.686355</td>\n",
       "    </tr>\n",
       "    <tr>\n",
       "      <th>9</th>\n",
       "      <td>0.882185</td>\n",
       "      <td>0.170568</td>\n",
       "      <td>0.711617</td>\n",
       "    </tr>\n",
       "  </tbody>\n",
       "</table>\n",
       "</div>"
      ],
      "text/plain": [
       "     score1    score2      diff\n",
       "0  0.840532  0.187758  0.652774\n",
       "1  0.840536  0.187758  0.652778\n",
       "2  0.840536  0.187758  0.652778\n",
       "3  0.844854  0.187758  0.657096\n",
       "4  0.850156  0.188937  0.661219\n",
       "5  0.852761  0.170922  0.681839\n",
       "6  0.854834  0.170922  0.683912\n",
       "7  0.854995  0.170922  0.684073\n",
       "8  0.858958  0.172603  0.686355\n",
       "9  0.882185  0.170568  0.711617"
      ]
     },
     "execution_count": 9,
     "metadata": {},
     "output_type": "execute_result"
    }
   ],
   "source": [
    "df"
   ]
  },
  {
   "cell_type": "code",
   "execution_count": 10,
   "metadata": {},
   "outputs": [],
   "source": [
    "df['sq.diff'] = df['diff']**2"
   ]
  },
  {
   "cell_type": "code",
   "execution_count": 11,
   "metadata": {},
   "outputs": [
    {
     "data": {
      "text/html": [
       "<div>\n",
       "<style scoped>\n",
       "    .dataframe tbody tr th:only-of-type {\n",
       "        vertical-align: middle;\n",
       "    }\n",
       "\n",
       "    .dataframe tbody tr th {\n",
       "        vertical-align: top;\n",
       "    }\n",
       "\n",
       "    .dataframe thead th {\n",
       "        text-align: right;\n",
       "    }\n",
       "</style>\n",
       "<table border=\"1\" class=\"dataframe\">\n",
       "  <thead>\n",
       "    <tr style=\"text-align: right;\">\n",
       "      <th></th>\n",
       "      <th>score1</th>\n",
       "      <th>score2</th>\n",
       "      <th>diff</th>\n",
       "      <th>sq.diff</th>\n",
       "    </tr>\n",
       "  </thead>\n",
       "  <tbody>\n",
       "    <tr>\n",
       "      <th>0</th>\n",
       "      <td>0.840532</td>\n",
       "      <td>0.187758</td>\n",
       "      <td>0.652774</td>\n",
       "      <td>0.426114</td>\n",
       "    </tr>\n",
       "    <tr>\n",
       "      <th>1</th>\n",
       "      <td>0.840536</td>\n",
       "      <td>0.187758</td>\n",
       "      <td>0.652778</td>\n",
       "      <td>0.426119</td>\n",
       "    </tr>\n",
       "    <tr>\n",
       "      <th>2</th>\n",
       "      <td>0.840536</td>\n",
       "      <td>0.187758</td>\n",
       "      <td>0.652778</td>\n",
       "      <td>0.426119</td>\n",
       "    </tr>\n",
       "    <tr>\n",
       "      <th>3</th>\n",
       "      <td>0.844854</td>\n",
       "      <td>0.187758</td>\n",
       "      <td>0.657096</td>\n",
       "      <td>0.431775</td>\n",
       "    </tr>\n",
       "    <tr>\n",
       "      <th>4</th>\n",
       "      <td>0.850156</td>\n",
       "      <td>0.188937</td>\n",
       "      <td>0.661219</td>\n",
       "      <td>0.437211</td>\n",
       "    </tr>\n",
       "    <tr>\n",
       "      <th>5</th>\n",
       "      <td>0.852761</td>\n",
       "      <td>0.170922</td>\n",
       "      <td>0.681839</td>\n",
       "      <td>0.464904</td>\n",
       "    </tr>\n",
       "    <tr>\n",
       "      <th>6</th>\n",
       "      <td>0.854834</td>\n",
       "      <td>0.170922</td>\n",
       "      <td>0.683912</td>\n",
       "      <td>0.467736</td>\n",
       "    </tr>\n",
       "    <tr>\n",
       "      <th>7</th>\n",
       "      <td>0.854995</td>\n",
       "      <td>0.170922</td>\n",
       "      <td>0.684073</td>\n",
       "      <td>0.467956</td>\n",
       "    </tr>\n",
       "    <tr>\n",
       "      <th>8</th>\n",
       "      <td>0.858958</td>\n",
       "      <td>0.172603</td>\n",
       "      <td>0.686355</td>\n",
       "      <td>0.471083</td>\n",
       "    </tr>\n",
       "    <tr>\n",
       "      <th>9</th>\n",
       "      <td>0.882185</td>\n",
       "      <td>0.170568</td>\n",
       "      <td>0.711617</td>\n",
       "      <td>0.506399</td>\n",
       "    </tr>\n",
       "  </tbody>\n",
       "</table>\n",
       "</div>"
      ],
      "text/plain": [
       "     score1    score2      diff   sq.diff\n",
       "0  0.840532  0.187758  0.652774  0.426114\n",
       "1  0.840536  0.187758  0.652778  0.426119\n",
       "2  0.840536  0.187758  0.652778  0.426119\n",
       "3  0.844854  0.187758  0.657096  0.431775\n",
       "4  0.850156  0.188937  0.661219  0.437211\n",
       "5  0.852761  0.170922  0.681839  0.464904\n",
       "6  0.854834  0.170922  0.683912  0.467736\n",
       "7  0.854995  0.170922  0.684073  0.467956\n",
       "8  0.858958  0.172603  0.686355  0.471083\n",
       "9  0.882185  0.170568  0.711617  0.506399"
      ]
     },
     "execution_count": 11,
     "metadata": {},
     "output_type": "execute_result"
    }
   ],
   "source": [
    "df"
   ]
  },
  {
   "cell_type": "code",
   "execution_count": 12,
   "metadata": {},
   "outputs": [
    {
     "data": {
      "text/plain": [
       "4.525415704529"
      ]
     },
     "execution_count": 12,
     "metadata": {},
     "output_type": "execute_result"
    }
   ],
   "source": [
    "sum_of_sq_diff = df['sq.diff'].sum()\n",
    "sum_of_sq_diff"
   ]
  },
  {
   "cell_type": "code",
   "execution_count": 13,
   "metadata": {},
   "outputs": [
    {
     "data": {
      "text/plain": [
       "6.724441000000001"
      ]
     },
     "execution_count": 13,
     "metadata": {},
     "output_type": "execute_result"
    }
   ],
   "source": [
    "sum_of_diff = df['diff'].sum()\n",
    "sum_of_diff"
   ]
  },
  {
   "cell_type": "code",
   "execution_count": 14,
   "metadata": {},
   "outputs": [
    {
     "data": {
      "text/plain": [
       "45.21810676248101"
      ]
     },
     "execution_count": 14,
     "metadata": {},
     "output_type": "execute_result"
    }
   ],
   "source": [
    "sum_of_diff_sq = sum_of_diff**2\n",
    "sum_of_diff_sq"
   ]
  },
  {
   "cell_type": "code",
   "execution_count": 15,
   "metadata": {},
   "outputs": [
    {
     "data": {
      "text/plain": [
       "10"
      ]
     },
     "execution_count": 15,
     "metadata": {},
     "output_type": "execute_result"
    }
   ],
   "source": [
    "n = len(df)\n",
    "n"
   ]
  },
  {
   "cell_type": "code",
   "execution_count": 16,
   "metadata": {},
   "outputs": [
    {
     "data": {
      "text/plain": [
       "106.24857258398843"
      ]
     },
     "execution_count": 16,
     "metadata": {},
     "output_type": "execute_result"
    }
   ],
   "source": [
    "t = (sum_of_diff / n) / m.sqrt((sum_of_sq_diff - (sum_of_diff_sq/n))/((n-1)*n))\n",
    "t"
   ]
  },
  {
   "cell_type": "code",
   "execution_count": 17,
   "metadata": {},
   "outputs": [
    {
     "data": {
      "text/plain": [
       "Ttest_relResult(statistic=106.24857258398407, pvalue=2.9413520144357917e-15)"
      ]
     },
     "execution_count": 17,
     "metadata": {},
     "output_type": "execute_result"
    }
   ],
   "source": [
    "st.ttest_rel(df['score1'], df['score2'])"
   ]
  },
  {
   "cell_type": "markdown",
   "metadata": {},
   "source": [
    "#### The t-statistic is the same as the one computed manually\n",
    "\n",
    "Manual - 106.25 <br/>\n",
    "Scipy - 106.25"
   ]
  },
  {
   "cell_type": "markdown",
   "metadata": {},
   "source": [
    "Tabled value or critical value of t is 1.81.\n",
    "\n",
    "### <b>Calculated value is greater than t-critical</b>. Hence we can reject the null hypothesis!"
   ]
  },
  {
   "cell_type": "markdown",
   "metadata": {},
   "source": [
    "### One sample t test using Scipy"
   ]
  },
  {
   "cell_type": "code",
   "execution_count": 18,
   "metadata": {},
   "outputs": [
    {
     "data": {
      "text/plain": [
       "Ttest_1sampResult(statistic=0.008717651568261334, pvalue=0.9932345889498624)"
      ]
     },
     "execution_count": 18,
     "metadata": {},
     "output_type": "execute_result"
    }
   ],
   "source": [
    "st.ttest_1samp(df['score1'], 0.852)"
   ]
  },
  {
   "cell_type": "code",
   "execution_count": 19,
   "metadata": {},
   "outputs": [
    {
     "data": {
      "text/plain": [
       "Ttest_1sampResult(statistic=-7.025698599444874, pvalue=6.148065660425938e-05)"
      ]
     },
     "execution_count": 19,
     "metadata": {},
     "output_type": "execute_result"
    }
   ],
   "source": [
    "st.ttest_1samp(df['score1'], 0.88)"
   ]
  },
  {
   "cell_type": "code",
   "execution_count": 20,
   "metadata": {},
   "outputs": [
    {
     "data": {
      "text/plain": [
       "array([0.83 , 0.831, 0.832, 0.833, 0.834, 0.835, 0.836, 0.837, 0.838,\n",
       "       0.839, 0.84 , 0.841, 0.842, 0.843, 0.844, 0.845, 0.846, 0.847,\n",
       "       0.848, 0.849, 0.85 , 0.851, 0.852, 0.853, 0.854, 0.855, 0.856,\n",
       "       0.857, 0.858, 0.859, 0.86 , 0.861, 0.862, 0.863, 0.864, 0.865,\n",
       "       0.866, 0.867, 0.868, 0.869, 0.87 , 0.871, 0.872, 0.873, 0.874,\n",
       "       0.875, 0.876, 0.877, 0.878, 0.879])"
      ]
     },
     "execution_count": 20,
     "metadata": {},
     "output_type": "execute_result"
    }
   ],
   "source": [
    "t_critical = np.arange(830,880)/1000\n",
    "t_critical"
   ]
  },
  {
   "cell_type": "code",
   "execution_count": 21,
   "metadata": {},
   "outputs": [
    {
     "name": "stdout",
     "output_type": "stream",
     "text": [
      "last result:  Ttest_1sampResult(statistic=-6.774469447622977, pvalue=8.136478973698161e-05)\n"
     ]
    }
   ],
   "source": [
    "pvals = []\n",
    "t_stats = []\n",
    "for t in t_critical:\n",
    "    pvals.append(st.ttest_1samp(df['score1'], t)[0])\n",
    "    t_stats.append(st.ttest_1samp(df['score1'], t)[1])\n",
    "\n",
    "print('last result: ', st.ttest_1samp(df['score1'], t))\n",
    "# pvals, t_stats"
   ]
  },
  {
   "cell_type": "code",
   "execution_count": 22,
   "metadata": {},
   "outputs": [
    {
     "data": {
      "text/plain": [
       "<matplotlib.legend.Legend at 0x16d9b8a60f0>"
      ]
     },
     "execution_count": 22,
     "metadata": {},
     "output_type": "execute_result"
    },
    {
     "data": {
      "image/png": "[encoded data removed]",
      "text/plain": [
       "<Figure size 936x504 with 1 Axes>"
      ]
     },
     "metadata": {},
     "output_type": "display_data"
    }
   ],
   "source": [
    "plt.figure(figsize=(13,7))\n",
    "\n",
    "plt.scatter(t_critical, pvals)\n",
    "plt.scatter(t_critical, t_stats)\n",
    "\n",
    "plt.xlabel('t critical')\n",
    "plt.ylabel('p & t stats')\n",
    "\n",
    "plt.legend(['pvals', 't_critical'], loc='upper right', title='Legend')"
   ]
  },
  {
   "cell_type": "code",
   "execution_count": 23,
   "metadata": {},
   "outputs": [
    {
     "data": {
      "text/plain": [
       "[<matplotlib.lines.Line2D at 0x16d9b8338d0>]"
      ]
     },
     "execution_count": 23,
     "metadata": {},
     "output_type": "execute_result"
    },
    {
     "data": {
      "image/png": "[encoded data removed]",
      "text/plain": [
       "<Figure size 432x288 with 1 Axes>"
      ]
     },
     "metadata": {},
     "output_type": "display_data"
    }
   ],
   "source": [
    "markers_on = [1,1]\n",
    "\n",
    "plt.plot(t_critical, pvals, marker=markers_on)\n",
    "plt.plot(t_critical, t_stats, marker=markers_on)"
   ]
  },
  {
   "cell_type": "markdown",
   "metadata": {},
   "source": [
    "### Two sample t test (samples with similar means)"
   ]
  },
  {
   "cell_type": "code",
   "execution_count": 24,
   "metadata": {},
   "outputs": [],
   "source": [
    "df_ = pd.DataFrame([[0.840532,0.887758],\n",
    "[0.840536,0.887758],\n",
    "[0.840536,0.887758],\n",
    "[0.844854,0.887758],\n",
    "[0.850156,0.888937],\n",
    "[0.852761,0.870922],\n",
    "[0.854834,0.870922],\n",
    "[0.854995,0.870922],\n",
    "[0.858958,0.872603],\n",
    "[0.882185,0.870568],])"
   ]
  },
  {
   "cell_type": "code",
   "execution_count": 25,
   "metadata": {},
   "outputs": [],
   "source": [
    "df_.columns = ['score1','score2']"
   ]
  },
  {
   "cell_type": "code",
   "execution_count": 26,
   "metadata": {},
   "outputs": [
    {
     "data": {
      "text/html": [
       "<div>\n",
       "<style scoped>\n",
       "    .dataframe tbody tr th:only-of-type {\n",
       "        vertical-align: middle;\n",
       "    }\n",
       "\n",
       "    .dataframe tbody tr th {\n",
       "        vertical-align: top;\n",
       "    }\n",
       "\n",
       "    .dataframe thead th {\n",
       "        text-align: right;\n",
       "    }\n",
       "</style>\n",
       "<table border=\"1\" class=\"dataframe\">\n",
       "  <thead>\n",
       "    <tr style=\"text-align: right;\">\n",
       "      <th></th>\n",
       "      <th>score1</th>\n",
       "      <th>score2</th>\n",
       "    </tr>\n",
       "  </thead>\n",
       "  <tbody>\n",
       "    <tr>\n",
       "      <th>0</th>\n",
       "      <td>0.840532</td>\n",
       "      <td>0.887758</td>\n",
       "    </tr>\n",
       "    <tr>\n",
       "      <th>1</th>\n",
       "      <td>0.840536</td>\n",
       "      <td>0.887758</td>\n",
       "    </tr>\n",
       "    <tr>\n",
       "      <th>2</th>\n",
       "      <td>0.840536</td>\n",
       "      <td>0.887758</td>\n",
       "    </tr>\n",
       "    <tr>\n",
       "      <th>3</th>\n",
       "      <td>0.844854</td>\n",
       "      <td>0.887758</td>\n",
       "    </tr>\n",
       "    <tr>\n",
       "      <th>4</th>\n",
       "      <td>0.850156</td>\n",
       "      <td>0.888937</td>\n",
       "    </tr>\n",
       "    <tr>\n",
       "      <th>5</th>\n",
       "      <td>0.852761</td>\n",
       "      <td>0.870922</td>\n",
       "    </tr>\n",
       "    <tr>\n",
       "      <th>6</th>\n",
       "      <td>0.854834</td>\n",
       "      <td>0.870922</td>\n",
       "    </tr>\n",
       "    <tr>\n",
       "      <th>7</th>\n",
       "      <td>0.854995</td>\n",
       "      <td>0.870922</td>\n",
       "    </tr>\n",
       "    <tr>\n",
       "      <th>8</th>\n",
       "      <td>0.858958</td>\n",
       "      <td>0.872603</td>\n",
       "    </tr>\n",
       "    <tr>\n",
       "      <th>9</th>\n",
       "      <td>0.882185</td>\n",
       "      <td>0.870568</td>\n",
       "    </tr>\n",
       "  </tbody>\n",
       "</table>\n",
       "</div>"
      ],
      "text/plain": [
       "     score1    score2\n",
       "0  0.840532  0.887758\n",
       "1  0.840536  0.887758\n",
       "2  0.840536  0.887758\n",
       "3  0.844854  0.887758\n",
       "4  0.850156  0.888937\n",
       "5  0.852761  0.870922\n",
       "6  0.854834  0.870922\n",
       "7  0.854995  0.870922\n",
       "8  0.858958  0.872603\n",
       "9  0.882185  0.870568"
      ]
     },
     "execution_count": 26,
     "metadata": {},
     "output_type": "execute_result"
    }
   ],
   "source": [
    "df_"
   ]
  },
  {
   "cell_type": "code",
   "execution_count": 27,
   "metadata": {},
   "outputs": [
    {
     "data": {
      "text/plain": [
       "(0.8520347000000001, 0.8795906)"
      ]
     },
     "execution_count": 27,
     "metadata": {},
     "output_type": "execute_result"
    }
   ],
   "source": [
    "df_['score1'].mean(), df_['score2'].mean()"
   ]
  },
  {
   "cell_type": "code",
   "execution_count": 28,
   "metadata": {},
   "outputs": [
    {
     "data": {
      "text/plain": [
       "Ttest_indResult(statistic=-5.656611103408039, pvalue=2.2940533800702873e-05)"
      ]
     },
     "execution_count": 28,
     "metadata": {},
     "output_type": "execute_result"
    }
   ],
   "source": [
    "st.ttest_ind(df_['score1'], df_['score2'])"
   ]
  },
  {
   "cell_type": "markdown",
   "metadata": {},
   "source": [
    "Tabled value or critical value of t is 1.81.\n",
    "\n",
    "### <b>Calculated value is less than t-critical</b>. Hence we cannot reject the null hypothesis!"
   ]
  }
 ],
 "metadata": {
  "kernelspec": {
   "display_name": "Python 3",
   "language": "python",
   "name": "python3"
  },
  "language_info": {
   "codemirror_mode": {
    "name": "ipython",
    "version": 3
   },
   "file_extension": ".py",
   "mimetype": "text/x-python",
   "name": "python",
   "nbconvert_exporter": "python",
   "pygments_lexer": "ipython3",
   "version": "3.6.4"
  }
 },
 "nbformat": 4,
 "nbformat_minor": 2
}
