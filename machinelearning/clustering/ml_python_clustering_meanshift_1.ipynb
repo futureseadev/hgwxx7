{
 "cells": [
  {
   "cell_type": "markdown",
   "metadata": {},
   "source": [
    "## MeanShift Clustering"
   ]
  },
  {
   "cell_type": "code",
   "execution_count": 1,
   "metadata": {},
   "outputs": [],
   "source": [
    "# load libraries\n",
    "\n",
    "import matplotlib.pyplot as plt\n",
    "from sklearn.cluster import MeanShift\n",
    "from sklearn.datasets.samples_generator import make_blobs\n",
    "\n",
    "%matplotlib inline"
   ]
  },
  {
   "cell_type": "code",
   "execution_count": 2,
   "metadata": {},
   "outputs": [],
   "source": [
    "# define the centers\n",
    "centers = [[1,1],[4,4]]"
   ]
  },
  {
   "cell_type": "code",
   "execution_count": 3,
   "metadata": {},
   "outputs": [],
   "source": [
    "# generate random data\n",
    "# n_samples - sample size\n",
    "# data should lie around centers\n",
    "# with a standard devaition of 1\n",
    "\n",
    "# y is not required here, hence _\n",
    "\n",
    "X, _ = make_blobs(n_samples=400, centers=centers, cluster_std=1)"
   ]
  },
  {
   "cell_type": "code",
   "execution_count": 4,
   "metadata": {},
   "outputs": [
    {
     "data": {
      "text/plain": [
       "(400, 2)"
      ]
     },
     "execution_count": 4,
     "metadata": {},
     "output_type": "execute_result"
    }
   ],
   "source": [
    "X.shape"
   ]
  },
  {
   "cell_type": "code",
   "execution_count": 5,
   "metadata": {},
   "outputs": [
    {
     "data": {
      "text/plain": [
       "((400,), (400,))"
      ]
     },
     "execution_count": 5,
     "metadata": {},
     "output_type": "execute_result"
    }
   ],
   "source": [
    "x0, x1 = X[:,0], X[:,1]\n",
    "x0.shape, x1.shape"
   ]
  },
  {
   "cell_type": "code",
   "execution_count": 6,
   "metadata": {},
   "outputs": [
    {
     "data": {
      "text/plain": [
       "<matplotlib.collections.PathCollection at 0x1fe82c92438>"
      ]
     },
     "execution_count": 6,
     "metadata": {},
     "output_type": "execute_result"
    },
    {
     "data": {
      "image/png": "[encoded data removed]",
      "text/plain": [
       "<Figure size 432x288 with 1 Axes>"
      ]
     },
     "metadata": {},
     "output_type": "display_data"
    }
   ],
   "source": [
    "plt.scatter(x0, x1, )"
   ]
  },
  {
   "cell_type": "markdown",
   "metadata": {},
   "source": [
    "### Clustering using MeanShift"
   ]
  },
  {
   "cell_type": "code",
   "execution_count": 7,
   "metadata": {},
   "outputs": [],
   "source": [
    "# MeanShift()\n",
    "ms = MeanShift()"
   ]
  },
  {
   "cell_type": "code",
   "execution_count": 8,
   "metadata": {},
   "outputs": [
    {
     "data": {
      "text/plain": [
       "MeanShift(bandwidth=None, bin_seeding=False, cluster_all=True, min_bin_freq=1,\n",
       "     n_jobs=1, seeds=None)"
      ]
     },
     "execution_count": 8,
     "metadata": {},
     "output_type": "execute_result"
    }
   ],
   "source": [
    "# fit - applying the formula on the variable\n",
    "ms.fit(X)"
   ]
  },
  {
   "cell_type": "code",
   "execution_count": 9,
   "metadata": {},
   "outputs": [
    {
     "data": {
      "text/plain": [
       "array([0, 0, 0, 0, 1, 1, 0, 1, 0, 1, 0, 0, 1, 0, 1, 0, 1, 1, 0, 1, 0, 1,\n",
       "       0, 1, 1, 1, 1, 0, 1, 1, 1, 1, 1, 0, 1, 1, 1, 1, 1, 1, 0, 0, 1, 1,\n",
       "       0, 0, 0, 0, 0, 1, 1, 0, 1, 1, 0, 1, 1, 1, 0, 1, 1, 1, 1, 0, 1, 0,\n",
       "       0, 0, 1, 1, 0, 1, 0, 0, 0, 0, 0, 1, 1, 1, 0, 0, 0, 0, 1, 1, 1, 0,\n",
       "       0, 1, 0, 1, 0, 1, 1, 0, 0, 0, 0, 1, 0, 1, 1, 0, 1, 0, 1, 1, 0, 1,\n",
       "       0, 0, 0, 1, 1, 0, 1, 1, 0, 1, 0, 0, 1, 0, 0, 1, 1, 0, 0, 0, 1, 0,\n",
       "       1, 0, 1, 0, 1, 0, 1, 0, 1, 1, 1, 1, 0, 0, 0, 0, 0, 0, 0, 0, 1, 0,\n",
       "       1, 1, 1, 0, 1, 0, 0, 1, 0, 1, 1, 1, 0, 1, 0, 1, 1, 0, 1, 0, 1, 1,\n",
       "       1, 1, 1, 1, 0, 1, 0, 1, 0, 1, 0, 1, 1, 0, 0, 0, 1, 1, 1, 1, 0, 0,\n",
       "       0, 0, 0, 1, 1, 1, 1, 1, 0, 1, 0, 0, 1, 1, 1, 0, 1, 1, 1, 0, 0, 1,\n",
       "       0, 0, 0, 1, 0, 1, 0, 1, 0, 0, 1, 0, 1, 1, 1, 1, 0, 1, 0, 1, 0, 0,\n",
       "       1, 0, 0, 0, 1, 0, 0, 0, 0, 1, 1, 1, 1, 1, 0, 0, 1, 1, 0, 0, 0, 0,\n",
       "       1, 0, 0, 0, 1, 1, 1, 0, 0, 0, 1, 0, 0, 1, 0, 0, 1, 1, 1, 1, 0, 0,\n",
       "       1, 0, 1, 0, 0, 0, 1, 1, 1, 0, 1, 1, 0, 1, 0, 0, 0, 1, 1, 0, 0, 0,\n",
       "       1, 1, 1, 1, 0, 1, 0, 1, 1, 0, 0, 1, 1, 0, 1, 0, 1, 1, 0, 0, 1, 1,\n",
       "       1, 1, 0, 0, 0, 1, 1, 0, 0, 1, 1, 0, 1, 0, 0, 0, 0, 0, 0, 1, 0, 1,\n",
       "       0, 0, 0, 1, 1, 1, 0, 1, 1, 0, 1, 1, 0, 0, 0, 0, 1, 1, 1, 0, 0, 0,\n",
       "       0, 0, 0, 1, 0, 1, 0, 1, 0, 0, 0, 0, 1, 0, 1, 0, 0, 1, 0, 0, 0, 0,\n",
       "       0, 1, 1, 0], dtype=int64)"
      ]
     },
     "execution_count": 9,
     "metadata": {},
     "output_type": "execute_result"
    }
   ],
   "source": [
    "labels = ms.labels_\n",
    "labels"
   ]
  },
  {
   "cell_type": "code",
   "execution_count": 10,
   "metadata": {},
   "outputs": [
    {
     "data": {
      "text/plain": [
       "array([[3.98223915, 4.05994292],\n",
       "       [0.81400539, 0.74220147]])"
      ]
     },
     "execution_count": 10,
     "metadata": {},
     "output_type": "execute_result"
    }
   ],
   "source": [
    "cluster_centers = ms.cluster_centers_\n",
    "cluster_centers"
   ]
  },
  {
   "cell_type": "code",
   "execution_count": 11,
   "metadata": {},
   "outputs": [
    {
     "data": {
      "text/plain": [
       "2"
      ]
     },
     "execution_count": 11,
     "metadata": {},
     "output_type": "execute_result"
    }
   ],
   "source": [
    "# number of clusters\n",
    "n_clusters_ = len(set(labels))\n",
    "n_clusters_"
   ]
  },
  {
   "cell_type": "code",
   "execution_count": 12,
   "metadata": {},
   "outputs": [
    {
     "data": {
      "text/plain": [
       "['g', 'r', 'y', 'c']"
      ]
     },
     "execution_count": 12,
     "metadata": {},
     "output_type": "execute_result"
    }
   ],
   "source": [
    "# define the colors\n",
    "colors = ['g','r','y','c']\n",
    "colors"
   ]
  },
  {
   "cell_type": "code",
   "execution_count": 13,
   "metadata": {},
   "outputs": [
    {
     "data": {
      "image/png": "[encoded data removed]",
      "text/plain": [
       "<Figure size 432x288 with 1 Axes>"
      ]
     },
     "metadata": {},
     "output_type": "display_data"
    }
   ],
   "source": [
    "# plotting between x0 and x1\n",
    "\n",
    "for i in range(len(X)):\n",
    "    plt.plot(x0[i], x1[i], colors[labels[i]], marker='+', markersize=10)"
   ]
  },
  {
   "cell_type": "code",
   "execution_count": 14,
   "metadata": {},
   "outputs": [
    {
     "data": {
      "text/plain": [
       "<matplotlib.collections.PathCollection at 0x1fe8457e160>"
      ]
     },
     "execution_count": 14,
     "metadata": {},
     "output_type": "execute_result"
    },
    {
     "data": {
      "image/png": "[encoded data removed]",
      "text/plain": [
       "<Figure size 432x288 with 1 Axes>"
      ]
     },
     "metadata": {},
     "output_type": "display_data"
    }
   ],
   "source": [
    "# plotting between x0 and x1\n",
    "\n",
    "for i in range(len(X)):\n",
    "    plt.plot(x0[i], x1[i], colors[labels[i]], marker='+', markersize=10)\n",
    "\n",
    "plt.scatter(cluster_centers[:,0], cluster_centers[:,1], marker='o',\n",
    "           linewidths=5, zorder=10)"
   ]
  },
  {
   "cell_type": "code",
   "execution_count": 15,
   "metadata": {},
   "outputs": [
    {
     "data": {
      "text/plain": [
       "<matplotlib.collections.PathCollection at 0x1fe84686438>"
      ]
     },
     "execution_count": 15,
     "metadata": {},
     "output_type": "execute_result"
    },
    {
     "data": {
      "image/png": "[encoded data removed]",
      "text/plain": [
       "<Figure size 432x288 with 1 Axes>"
      ]
     },
     "metadata": {},
     "output_type": "display_data"
    }
   ],
   "source": [
    "# we will create one more cluster \n",
    "# increase the number of samples\n",
    "# and increase the std dev to 3\n",
    "centers = [[1,1],[5,5],[9,9]]\n",
    "\n",
    "X, _ = make_blobs(n_samples=500, centers=centers, cluster_std=1)\n",
    "\n",
    "x0, x1 = X[:,0], X[:,1]\n",
    "\n",
    "plt.scatter(x0, x1, )"
   ]
  },
  {
   "cell_type": "code",
   "execution_count": 16,
   "metadata": {},
   "outputs": [
    {
     "name": "stdout",
     "output_type": "stream",
     "text": [
      "3\n"
     ]
    }
   ],
   "source": [
    "ms = MeanShift()\n",
    "ms.fit(X)\n",
    "labels = ms.labels_\n",
    "\n",
    "cluster_centers = ms.cluster_centers_\n",
    "\n",
    "n_clusters_ = len(set(labels))\n",
    "print(n_clusters_)\n",
    "\n",
    "# the algorithm has identified 3 clusters"
   ]
  },
  {
   "cell_type": "code",
   "execution_count": 17,
   "metadata": {},
   "outputs": [
    {
     "data": {
      "text/plain": [
       "(array([[5.01394808, 4.95726132],\n",
       "        [0.92290289, 0.92569846],\n",
       "        [9.07869917, 8.96731503]]),\n",
       " array([1, 2, 0, 0, 0, 0, 2, 1, 0, 1, 1, 0, 1, 0, 1, 2, 1, 1, 2, 1, 1, 1,\n",
       "        0, 0, 0, 0, 2, 0, 0, 1, 1, 1, 1, 2, 2, 1, 0, 2, 1, 1, 2, 2, 0, 0,\n",
       "        2, 0, 2, 0, 0, 2, 0, 2, 1, 0, 0, 0, 0, 0, 1, 1, 2, 2, 2, 1, 0, 0,\n",
       "        2, 0, 0, 1, 1, 2, 2, 0, 0, 2, 0, 2, 0, 0, 2, 0, 1, 0, 1, 2, 1, 1,\n",
       "        1, 1, 2, 2, 0, 1, 0, 2, 2, 2, 0, 2, 2, 1, 1, 1, 2, 1, 1, 2, 1, 0,\n",
       "        0, 1, 2, 0, 2, 0, 0, 1, 0, 0, 2, 2, 2, 0, 2, 1, 1, 0, 1, 1, 2, 2,\n",
       "        1, 2, 2, 2, 2, 1, 0, 2, 1, 2, 2, 1, 0, 2, 0, 0, 0, 1, 0, 1, 0, 1,\n",
       "        1, 0, 2, 1, 1, 1, 0, 1, 0, 2, 2, 1, 2, 1, 2, 2, 0, 1, 2, 2, 1, 0,\n",
       "        1, 2, 0, 0, 1, 2, 0, 2, 2, 0, 2, 2, 0, 0, 0, 2, 1, 1, 2, 1, 2, 1,\n",
       "        1, 0, 0, 0, 0, 2, 2, 1, 0, 0, 0, 2, 1, 1, 1, 1, 1, 1, 1, 0, 0, 0,\n",
       "        1, 1, 2, 2, 1, 2, 2, 2, 2, 0, 2, 1, 0, 1, 2, 2, 1, 2, 1, 0, 2, 2,\n",
       "        1, 0, 1, 1, 0, 1, 2, 1, 2, 2, 0, 2, 0, 0, 2, 1, 0, 2, 1, 2, 2, 2,\n",
       "        0, 0, 0, 1, 1, 2, 2, 2, 0, 2, 2, 2, 0, 0, 0, 2, 2, 2, 1, 1, 1, 0,\n",
       "        0, 1, 2, 1, 1, 2, 1, 1, 1, 0, 0, 2, 1, 0, 1, 1, 1, 0, 2, 0, 2, 0,\n",
       "        1, 2, 0, 0, 2, 1, 0, 2, 1, 2, 2, 1, 1, 0, 1, 1, 2, 2, 0, 2, 0, 0,\n",
       "        0, 1, 2, 0, 1, 1, 2, 2, 2, 2, 1, 1, 0, 2, 0, 1, 2, 1, 1, 2, 2, 1,\n",
       "        2, 0, 1, 2, 1, 1, 0, 0, 1, 1, 1, 2, 2, 0, 0, 2, 0, 2, 0, 0, 1, 0,\n",
       "        0, 2, 0, 2, 2, 2, 0, 1, 1, 1, 1, 2, 1, 0, 0, 0, 1, 0, 2, 2, 2, 1,\n",
       "        2, 0, 1, 0, 0, 2, 0, 1, 2, 0, 2, 0, 1, 2, 2, 0, 1, 2, 0, 1, 0, 2,\n",
       "        2, 2, 0, 1, 0, 2, 1, 0, 0, 1, 0, 0, 0, 1, 1, 0, 2, 0, 0, 0, 1, 2,\n",
       "        1, 0, 0, 0, 2, 0, 2, 1, 1, 1, 1, 0, 2, 1, 1, 1, 1, 1, 0, 0, 0, 2,\n",
       "        1, 0, 0, 1, 0, 2, 0, 2, 1, 2, 0, 2, 2, 1, 1, 2, 0, 1, 2, 2, 0, 0,\n",
       "        2, 0, 2, 2, 0, 1, 1, 1, 1, 1, 0, 2, 2, 0, 0, 1], dtype=int64))"
      ]
     },
     "execution_count": 17,
     "metadata": {},
     "output_type": "execute_result"
    }
   ],
   "source": [
    "cluster_centers, labels"
   ]
  },
  {
   "cell_type": "code",
   "execution_count": 18,
   "metadata": {},
   "outputs": [
    {
     "data": {
      "text/plain": [
       "<matplotlib.collections.PathCollection at 0x1fe846c8f60>"
      ]
     },
     "execution_count": 18,
     "metadata": {},
     "output_type": "execute_result"
    },
    {
     "data": {
      "image/png": "[encoded data removed]",
      "text/plain": [
       "<Figure size 432x288 with 1 Axes>"
      ]
     },
     "metadata": {},
     "output_type": "display_data"
    }
   ],
   "source": [
    "# plotting between x0 and x1\n",
    "\n",
    "for i in range(len(X)):\n",
    "    plt.plot(x0[i], x1[i], colors[labels[i]], marker='+', markersize=10)\n",
    "\n",
    "plt.scatter(cluster_centers[:,0], cluster_centers[:,1], marker='o',\n",
    "           linewidths=5, zorder=10)"
   ]
  },
  {
   "cell_type": "code",
   "execution_count": null,
   "metadata": {},
   "outputs": [],
   "source": []
  }
 ],
 "metadata": {
  "kernelspec": {
   "display_name": "Python 3",
   "language": "python",
   "name": "python3"
  },
  "language_info": {
   "codemirror_mode": {
    "name": "ipython",
    "version": 3
   },
   "file_extension": ".py",
   "mimetype": "text/x-python",
   "name": "python",
   "nbconvert_exporter": "python",
   "pygments_lexer": "ipython3",
   "version": "3.6.4"
  }
 },
 "nbformat": 4,
 "nbformat_minor": 2
}
