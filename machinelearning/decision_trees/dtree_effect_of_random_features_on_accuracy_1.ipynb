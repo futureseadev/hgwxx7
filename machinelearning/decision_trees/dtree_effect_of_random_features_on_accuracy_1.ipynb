{
 "cells": [
  {
   "cell_type": "markdown",
   "metadata": {},
   "source": [
    "### Accuracy & Noise | Decision Tree Classifier"
   ]
  },
  {
   "cell_type": "code",
   "execution_count": 1,
   "metadata": {},
   "outputs": [],
   "source": [
    "from sklearn.datasets import load_iris\n",
    "import pandas as pd\n",
    "from sklearn.model_selection import train_test_split\n",
    "from sklearn.tree import DecisionTreeClassifier\n",
    "import numpy as np\n",
    "import warnings\n",
    "import seaborn as sns\n",
    "import random as random\n",
    "\n",
    "warnings.filterwarnings(\"ignore\")\n",
    "\n"
   ]
  },
  {
   "cell_type": "code",
   "execution_count": 2,
   "metadata": {},
   "outputs": [],
   "source": [
    "iris = load_iris()\n",
    "\n",
    "df = pd.DataFrame(data= np.c_[iris['data'], iris['target']], columns= iris['feature_names'] + ['target'])\n",
    "\n",
    "df['rand1'] = np.random.randint(0, 2, df.shape[0])\n",
    "df['rand2'] = np.random.randint(0, 2, df.shape[0])\n",
    "df['rand3'] = np.random.randint(0, 2, df.shape[0])\n",
    "df['rand4'] = np.random.randint(0, 2, df.shape[0])\n",
    "\n",
    "all_inputs = df[iris['feature_names']].values\n",
    "all_inputs_with_random = df[iris['feature_names']+['rand1', 'rand2', 'rand3','rand4']].values\n",
    "all_classes = df['target'].values\n",
    "\n"
   ]
  },
  {
   "cell_type": "code",
   "execution_count": 3,
   "metadata": {},
   "outputs": [
    {
     "data": {
      "text/plain": [
       "<matplotlib.axes._subplots.AxesSubplot at 0x1983244c2e8>"
      ]
     },
     "execution_count": 3,
     "metadata": {},
     "output_type": "execute_result"
    },
    {
     "data": {
      "image/png": "[encoded data removed]",
      "text/plain": [
       "<matplotlib.figure.Figure at 0x1983242cc18>"
      ]
     },
     "metadata": {
      "needs_background": "light"
     },
     "output_type": "display_data"
    }
   ],
   "source": [
    "dif = []\n",
    "\n",
    "for i in range(100):\n",
    "    a = random.randint(0,1000)\n",
    "\n",
    "    (train_inputs, test_inputs, train_classes, test_classes) = train_test_split(all_inputs, all_classes, train_size=0.7, random_state = a)\n",
    "\n",
    "    dtc1 = DecisionTreeClassifier()\n",
    "    dtc1.fit(train_inputs, train_classes)\n",
    "\n",
    "    a1 = dtc1.score(test_inputs, test_classes)\n",
    "\n",
    "    (train_inputs, test_inputs, train_classes, test_classes) = train_test_split(all_inputs_with_random, all_classes, train_size=0.7, random_state = a)\n",
    "\n",
    "    dtc2 = DecisionTreeClassifier()\n",
    "    dtc2.fit(train_inputs, train_classes)\n",
    "\n",
    "    a2 = dtc2.score(test_inputs, test_classes)\n",
    "\n",
    "    dif.append(a1-a2)\n",
    "\n",
    "\n",
    "sns.distplot(dif)"
   ]
  },
  {
   "cell_type": "code",
   "execution_count": null,
   "metadata": {},
   "outputs": [],
   "source": []
  }
 ],
 "metadata": {
  "kernelspec": {
   "display_name": "Python 3",
   "language": "python",
   "name": "python3"
  },
  "language_info": {
   "codemirror_mode": {
    "name": "ipython",
    "version": 3
   },
   "file_extension": ".py",
   "mimetype": "text/x-python",
   "name": "python",
   "nbconvert_exporter": "python",
   "pygments_lexer": "ipython3",
   "version": "3.6.6"
  }
 },
 "nbformat": 4,
 "nbformat_minor": 2
}
