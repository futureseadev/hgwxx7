{
 "cells": [
  {
   "cell_type": "markdown",
   "metadata": {},
   "source": [
    "# Clustering with K-means"
   ]
  },
  {
   "cell_type": "markdown",
   "metadata": {},
   "source": [
    "The goal of unsupervised learning in Machine Learning is to discover hidden structure or patterns in unlabeled training data. We use Clustering as one of the means to discover structure in unlabeled data. Clustering, or cluster analysis, involves grouping observations such that members of the same group, or cluster, are more similar to each other by a given metric than they are to the members of the other clusters."
   ]
  },
  {
   "cell_type": "code",
   "execution_count": 1,
   "metadata": {},
   "outputs": [],
   "source": [
    "import numpy as np\n",
    "from sklearn.cluster import KMeans\n",
    "from scipy.spatial.distance import cdist\n",
    "import matplotlib.pyplot as plt"
   ]
  },
  {
   "cell_type": "code",
   "execution_count": 2,
   "metadata": {},
   "outputs": [],
   "source": [
    "cluster1 = np.random.uniform(0.5, 1.5, (2, 10))\n",
    "cluster2 = np.random.uniform(3.5, 4.5, (2, 10))"
   ]
  },
  {
   "cell_type": "code",
   "execution_count": 3,
   "metadata": {},
   "outputs": [
    {
     "data": {
      "text/plain": [
       "array([[0.51675665, 0.62334085, 0.93214431, 1.20581687, 1.09204987,\n",
       "        0.63432106, 0.87538133, 0.63824014, 1.22708543, 1.38443447],\n",
       "       [1.261354  , 0.55407035, 0.59916013, 1.22974659, 0.72445974,\n",
       "        0.81495956, 1.05592359, 0.56504281, 0.86222798, 1.43486114]])"
      ]
     },
     "execution_count": 3,
     "metadata": {},
     "output_type": "execute_result"
    }
   ],
   "source": [
    "cluster1"
   ]
  },
  {
   "cell_type": "code",
   "execution_count": 4,
   "metadata": {},
   "outputs": [
    {
     "data": {
      "text/plain": [
       "array([[3.63584587, 3.63422093, 4.27107821, 3.8860225 , 3.95091086,\n",
       "        4.28948347, 4.35510685, 4.45401998, 3.86414129, 4.42355205],\n",
       "       [3.75532293, 4.08547048, 3.71376879, 3.57868606, 3.73389348,\n",
       "        3.58175525, 3.80219845, 4.45761805, 4.17246658, 3.67188138]])"
      ]
     },
     "execution_count": 4,
     "metadata": {},
     "output_type": "execute_result"
    }
   ],
   "source": [
    "cluster2"
   ]
  },
  {
   "cell_type": "code",
   "execution_count": 5,
   "metadata": {},
   "outputs": [
    {
     "data": {
      "text/plain": [
       "array([[0.51675665, 1.261354  ],\n",
       "       [0.62334085, 0.55407035],\n",
       "       [0.93214431, 0.59916013],\n",
       "       [1.20581687, 1.22974659],\n",
       "       [1.09204987, 0.72445974],\n",
       "       [0.63432106, 0.81495956],\n",
       "       [0.87538133, 1.05592359],\n",
       "       [0.63824014, 0.56504281],\n",
       "       [1.22708543, 0.86222798],\n",
       "       [1.38443447, 1.43486114],\n",
       "       [3.63584587, 3.75532293],\n",
       "       [3.63422093, 4.08547048],\n",
       "       [4.27107821, 3.71376879],\n",
       "       [3.8860225 , 3.57868606],\n",
       "       [3.95091086, 3.73389348],\n",
       "       [4.28948347, 3.58175525],\n",
       "       [4.35510685, 3.80219845],\n",
       "       [4.45401998, 4.45761805],\n",
       "       [3.86414129, 4.17246658],\n",
       "       [4.42355205, 3.67188138]])"
      ]
     },
     "execution_count": 5,
     "metadata": {},
     "output_type": "execute_result"
    }
   ],
   "source": [
    "X = np.hstack((cluster1, cluster2)).T\n",
    "X"
   ]
  },
  {
   "cell_type": "code",
   "execution_count": 6,
   "metadata": {},
   "outputs": [],
   "source": [
    "# iterate values of K from 1 to 10\n",
    "K = range(1, 10)"
   ]
  },
  {
   "cell_type": "markdown",
   "metadata": {},
   "source": [
    "K-Means is an iterative process of moving the centers of the clusters, or the centroids, to the mean position of their constituent points, and re-assigning instances to their closest clusters. K indicates the number of clusters to be created."
   ]
  },
  {
   "cell_type": "markdown",
   "metadata": {},
   "source": [
    "### Elbow method\n",
    "\n",
    "We can use the elbow method to estimate the optimal number of clusters.\n",
    "\n",
    "The value of K at which the improvement to the distortion declines the most is called the elbow."
   ]
  },
  {
   "cell_type": "code",
   "execution_count": 7,
   "metadata": {},
   "outputs": [],
   "source": [
    "meandistortions = []\n",
    "for k in K:\n",
    "    kmeans = KMeans(n_clusters=k)\n",
    "    kmeans.fit(X)\n",
    "    meandistortions.append(sum(np.min(cdist(X, kmeans.cluster_centers_, 'euclidean'), axis=1)) / X.shape[0])"
   ]
  },
  {
   "cell_type": "code",
   "execution_count": 8,
   "metadata": {},
   "outputs": [
    {
     "data": {
      "text/plain": [
       "[2.176363896769847,\n",
       " 0.3858878399406694,\n",
       " 0.3289249094659581,\n",
       " 0.2662960439776184,\n",
       " 0.2288214524524963,\n",
       " 0.19304455404200016,\n",
       " 0.1553007229088456,\n",
       " 0.12635197469787707,\n",
       " 0.1056871908700803]"
      ]
     },
     "execution_count": 8,
     "metadata": {},
     "output_type": "execute_result"
    }
   ],
   "source": [
    "meandistortions"
   ]
  },
  {
   "cell_type": "code",
   "execution_count": 9,
   "metadata": {},
   "outputs": [
    {
     "data": {
      "image/png": "[encoded data removed]",
      "text/plain": [
       "<matplotlib.figure.Figure at 0x14fa593cd68>"
      ]
     },
     "metadata": {},
     "output_type": "display_data"
    }
   ],
   "source": [
    "plt.plot(K, meandistortions, 'bx-')\n",
    "plt.xlabel('k')\n",
    "plt.ylabel('Average distortion')\n",
    "plt.title('Selecting k with the Elbow Method')\n",
    "plt.show()"
   ]
  },
  {
   "cell_type": "markdown",
   "metadata": {},
   "source": [
    "The above figure shows the elbow plot for the dataset. The average distortion improves rapidly as we increase K from 1 to 2. There is little improvement for values of K greater than 2"
   ]
  },
  {
   "cell_type": "markdown",
   "metadata": {},
   "source": [
    "### Adding a 3rd cluster"
   ]
  },
  {
   "cell_type": "code",
   "execution_count": 10,
   "metadata": {},
   "outputs": [],
   "source": [
    "cluster1 = np.random.uniform(0.5, 1.5, (2, 10))\n",
    "cluster2 = np.random.uniform(3.5, 4.5, (2, 10))\n",
    "cluster3 = np.random.uniform(6.5, 8.5, (2, 10))"
   ]
  },
  {
   "cell_type": "code",
   "execution_count": 11,
   "metadata": {},
   "outputs": [
    {
     "data": {
      "text/plain": [
       "array([[1.06995207, 0.61256495],\n",
       "       [1.3652816 , 1.10784958],\n",
       "       [1.0799521 , 1.04634981],\n",
       "       [0.96507781, 0.86027109],\n",
       "       [1.20604012, 1.24798581],\n",
       "       [0.91089055, 1.19217028],\n",
       "       [0.68422223, 1.13535934],\n",
       "       [1.45748443, 1.2396425 ],\n",
       "       [0.71882408, 1.00295626],\n",
       "       [1.11444782, 0.84698118],\n",
       "       [3.78172435, 3.60029259],\n",
       "       [3.72541495, 3.9011235 ],\n",
       "       [4.14148502, 3.54591622],\n",
       "       [4.4409946 , 3.57663232],\n",
       "       [3.86653145, 3.77387755],\n",
       "       [4.0147595 , 3.71123565],\n",
       "       [4.27529246, 3.70696352],\n",
       "       [4.01642189, 3.63391303],\n",
       "       [4.01250165, 4.00219142],\n",
       "       [4.20540094, 3.80406875],\n",
       "       [8.38247782, 6.8597803 ],\n",
       "       [7.45496018, 6.82763895],\n",
       "       [6.51071416, 8.05784513],\n",
       "       [6.78030359, 8.06802544],\n",
       "       [6.73340358, 7.12595727],\n",
       "       [6.72385148, 7.52025483],\n",
       "       [8.34282746, 6.64184348],\n",
       "       [8.26372454, 8.25044995],\n",
       "       [8.25689854, 7.7502478 ],\n",
       "       [7.40676548, 7.9985793 ]])"
      ]
     },
     "execution_count": 11,
     "metadata": {},
     "output_type": "execute_result"
    }
   ],
   "source": [
    "X = np.hstack((cluster1, cluster2, cluster3)).T\n",
    "X"
   ]
  },
  {
   "cell_type": "code",
   "execution_count": 12,
   "metadata": {},
   "outputs": [],
   "source": [
    "meandistortions = []\n",
    "for k in K:\n",
    "    kmeans = KMeans(n_clusters=k)\n",
    "    kmeans.fit(X)\n",
    "    meandistortions.append(sum(np.min(cdist(X, kmeans.cluster_centers_, 'euclidean'), axis=1)) / X.shape[0])"
   ]
  },
  {
   "cell_type": "code",
   "execution_count": 13,
   "metadata": {},
   "outputs": [
    {
     "data": {
      "text/plain": [
       "[3.2143048309845472,\n",
       " 1.648940817479115,\n",
       " 0.47032161412495366,\n",
       " 0.360289544854908,\n",
       " 0.30717400448485005,\n",
       " 0.2706558884024795,\n",
       " 0.24292684375536985,\n",
       " 0.21341011372468235,\n",
       " 0.18839988033774152]"
      ]
     },
     "execution_count": 13,
     "metadata": {},
     "output_type": "execute_result"
    }
   ],
   "source": [
    "meandistortions"
   ]
  },
  {
   "cell_type": "code",
   "execution_count": 14,
   "metadata": {},
   "outputs": [
    {
     "data": {
      "image/png": "[encoded data removed]",
      "text/plain": [
       "<matplotlib.figure.Figure at 0x14fa593cdd8>"
      ]
     },
     "metadata": {},
     "output_type": "display_data"
    }
   ],
   "source": [
    "plt.plot(K, meandistortions, 'bx-')\n",
    "plt.xlabel('k')\n",
    "plt.ylabel('Average distortion')\n",
    "plt.title('Selecting k with the Elbow Method')\n",
    "plt.show()"
   ]
  },
  {
   "cell_type": "markdown",
   "metadata": {},
   "source": [
    "From this, we can see that the rate of improvement to the average distortion declines the most when adding a fourth cluster, that is, the elbow method confirms that K should be set to three for this dataset."
   ]
  },
  {
   "cell_type": "markdown",
   "metadata": {},
   "source": [
    "### References\n",
    "\n",
    "1. Mastering Machine Learning with scikit-learn by Gavin Hackeling\n"
   ]
  },
  {
   "cell_type": "code",
   "execution_count": null,
   "metadata": {},
   "outputs": [],
   "source": []
  }
 ],
 "metadata": {
  "kernelspec": {
   "display_name": "Python 3",
   "language": "python",
   "name": "python3"
  },
  "language_info": {
   "codemirror_mode": {
    "name": "ipython",
    "version": 3
   },
   "file_extension": ".py",
   "mimetype": "text/x-python",
   "name": "python",
   "nbconvert_exporter": "python",
   "pygments_lexer": "ipython3",
   "version": "3.6.4"
  }
 },
 "nbformat": 4,
 "nbformat_minor": 2
}
