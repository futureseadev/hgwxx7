{
 "cells": [
  {
   "cell_type": "markdown",
   "metadata": {},
   "source": [
    "# Lasso Regression"
   ]
  },
  {
   "cell_type": "code",
   "execution_count": 1,
   "metadata": {},
   "outputs": [],
   "source": [
    "import pandas as pd\n",
    "import numpy as np\n",
    "import matplotlib.pylab as plt\n",
    "from sklearn.model_selection import train_test_split\n",
    "from sklearn.linear_model import LassoLarsCV"
   ]
  },
  {
   "cell_type": "code",
   "execution_count": 2,
   "metadata": {},
   "outputs": [],
   "source": [
    "#Load the dataset\n",
    "data = pd.read_csv(\"ml_python_lasso_regression_1.csv\")"
   ]
  },
  {
   "cell_type": "code",
   "execution_count": 3,
   "metadata": {},
   "outputs": [
    {
     "data": {
      "text/html": [
       "<div>\n",
       "<style scoped>\n",
       "    .dataframe tbody tr th:only-of-type {\n",
       "        vertical-align: middle;\n",
       "    }\n",
       "\n",
       "    .dataframe tbody tr th {\n",
       "        vertical-align: top;\n",
       "    }\n",
       "\n",
       "    .dataframe thead th {\n",
       "        text-align: right;\n",
       "    }\n",
       "</style>\n",
       "<table border=\"1\" class=\"dataframe\">\n",
       "  <thead>\n",
       "    <tr style=\"text-align: right;\">\n",
       "      <th></th>\n",
       "      <th>BIO_SEX</th>\n",
       "      <th>HISPANIC</th>\n",
       "      <th>WHITE</th>\n",
       "      <th>BLACK</th>\n",
       "      <th>NAMERICAN</th>\n",
       "      <th>ASIAN</th>\n",
       "      <th>age</th>\n",
       "      <th>TREG1</th>\n",
       "      <th>ALCEVR1</th>\n",
       "      <th>ALCPROBS1</th>\n",
       "      <th>...</th>\n",
       "      <th>ESTEEM1</th>\n",
       "      <th>VIOL1</th>\n",
       "      <th>PASSIST</th>\n",
       "      <th>DEVIANT1</th>\n",
       "      <th>SCHCONN1</th>\n",
       "      <th>GPA1</th>\n",
       "      <th>EXPEL1</th>\n",
       "      <th>FAMCONCT</th>\n",
       "      <th>PARACTV</th>\n",
       "      <th>PARPRES</th>\n",
       "    </tr>\n",
       "  </thead>\n",
       "  <tbody>\n",
       "    <tr>\n",
       "      <th>0</th>\n",
       "      <td>2.0</td>\n",
       "      <td>0.0</td>\n",
       "      <td>0.0</td>\n",
       "      <td>1.0</td>\n",
       "      <td>0.0</td>\n",
       "      <td>0.0</td>\n",
       "      <td>NaN</td>\n",
       "      <td>0.0</td>\n",
       "      <td>1.0</td>\n",
       "      <td>2</td>\n",
       "      <td>...</td>\n",
       "      <td>47.0</td>\n",
       "      <td>4.0</td>\n",
       "      <td>0</td>\n",
       "      <td>5.0</td>\n",
       "      <td>NaN</td>\n",
       "      <td>NaN</td>\n",
       "      <td>0.0</td>\n",
       "      <td>24.3</td>\n",
       "      <td>8.0</td>\n",
       "      <td>15.0</td>\n",
       "    </tr>\n",
       "    <tr>\n",
       "      <th>1</th>\n",
       "      <td>2.0</td>\n",
       "      <td>0.0</td>\n",
       "      <td>0.0</td>\n",
       "      <td>1.0</td>\n",
       "      <td>0.0</td>\n",
       "      <td>0.0</td>\n",
       "      <td>19.427397</td>\n",
       "      <td>1.0</td>\n",
       "      <td>1.0</td>\n",
       "      <td>1</td>\n",
       "      <td>...</td>\n",
       "      <td>35.0</td>\n",
       "      <td>1.0</td>\n",
       "      <td>0</td>\n",
       "      <td>5.0</td>\n",
       "      <td>22.0</td>\n",
       "      <td>2.333333</td>\n",
       "      <td>0.0</td>\n",
       "      <td>23.3</td>\n",
       "      <td>9.0</td>\n",
       "      <td>15.0</td>\n",
       "    </tr>\n",
       "    <tr>\n",
       "      <th>2</th>\n",
       "      <td>1.0</td>\n",
       "      <td>0.0</td>\n",
       "      <td>1.0</td>\n",
       "      <td>0.0</td>\n",
       "      <td>0.0</td>\n",
       "      <td>0.0</td>\n",
       "      <td>NaN</td>\n",
       "      <td>0.0</td>\n",
       "      <td>0.0</td>\n",
       "      <td>0</td>\n",
       "      <td>...</td>\n",
       "      <td>45.0</td>\n",
       "      <td>0.0</td>\n",
       "      <td>0</td>\n",
       "      <td>1.0</td>\n",
       "      <td>30.0</td>\n",
       "      <td>2.250000</td>\n",
       "      <td>0.0</td>\n",
       "      <td>24.3</td>\n",
       "      <td>3.0</td>\n",
       "      <td>15.0</td>\n",
       "    </tr>\n",
       "    <tr>\n",
       "      <th>3</th>\n",
       "      <td>1.0</td>\n",
       "      <td>0.0</td>\n",
       "      <td>0.0</td>\n",
       "      <td>1.0</td>\n",
       "      <td>0.0</td>\n",
       "      <td>0.0</td>\n",
       "      <td>20.430137</td>\n",
       "      <td>1.0</td>\n",
       "      <td>0.0</td>\n",
       "      <td>0</td>\n",
       "      <td>...</td>\n",
       "      <td>47.0</td>\n",
       "      <td>4.0</td>\n",
       "      <td>1</td>\n",
       "      <td>4.0</td>\n",
       "      <td>19.0</td>\n",
       "      <td>2.000000</td>\n",
       "      <td>0.0</td>\n",
       "      <td>18.7</td>\n",
       "      <td>6.0</td>\n",
       "      <td>14.0</td>\n",
       "    </tr>\n",
       "    <tr>\n",
       "      <th>4</th>\n",
       "      <td>2.0</td>\n",
       "      <td>0.0</td>\n",
       "      <td>0.0</td>\n",
       "      <td>1.0</td>\n",
       "      <td>0.0</td>\n",
       "      <td>0.0</td>\n",
       "      <td>NaN</td>\n",
       "      <td>0.0</td>\n",
       "      <td>1.0</td>\n",
       "      <td>0</td>\n",
       "      <td>...</td>\n",
       "      <td>39.0</td>\n",
       "      <td>0.0</td>\n",
       "      <td>0</td>\n",
       "      <td>5.0</td>\n",
       "      <td>32.0</td>\n",
       "      <td>3.000000</td>\n",
       "      <td>0.0</td>\n",
       "      <td>20.0</td>\n",
       "      <td>9.0</td>\n",
       "      <td>6.0</td>\n",
       "    </tr>\n",
       "  </tbody>\n",
       "</table>\n",
       "<p>5 rows × 25 columns</p>\n",
       "</div>"
      ],
      "text/plain": [
       "   BIO_SEX  HISPANIC  WHITE  BLACK  NAMERICAN  ASIAN        age  TREG1  \\\n",
       "0      2.0       0.0    0.0    1.0        0.0    0.0        NaN    0.0   \n",
       "1      2.0       0.0    0.0    1.0        0.0    0.0  19.427397    1.0   \n",
       "2      1.0       0.0    1.0    0.0        0.0    0.0        NaN    0.0   \n",
       "3      1.0       0.0    0.0    1.0        0.0    0.0  20.430137    1.0   \n",
       "4      2.0       0.0    0.0    1.0        0.0    0.0        NaN    0.0   \n",
       "\n",
       "   ALCEVR1  ALCPROBS1   ...     ESTEEM1  VIOL1  PASSIST  DEVIANT1  SCHCONN1  \\\n",
       "0      1.0          2   ...        47.0    4.0        0       5.0       NaN   \n",
       "1      1.0          1   ...        35.0    1.0        0       5.0      22.0   \n",
       "2      0.0          0   ...        45.0    0.0        0       1.0      30.0   \n",
       "3      0.0          0   ...        47.0    4.0        1       4.0      19.0   \n",
       "4      1.0          0   ...        39.0    0.0        0       5.0      32.0   \n",
       "\n",
       "       GPA1  EXPEL1  FAMCONCT  PARACTV  PARPRES  \n",
       "0       NaN     0.0      24.3      8.0     15.0  \n",
       "1  2.333333     0.0      23.3      9.0     15.0  \n",
       "2  2.250000     0.0      24.3      3.0     15.0  \n",
       "3  2.000000     0.0      18.7      6.0     14.0  \n",
       "4  3.000000     0.0      20.0      9.0      6.0  \n",
       "\n",
       "[5 rows x 25 columns]"
      ]
     },
     "execution_count": 3,
     "metadata": {},
     "output_type": "execute_result"
    }
   ],
   "source": [
    "data.head()"
   ]
  },
  {
   "cell_type": "code",
   "execution_count": 4,
   "metadata": {},
   "outputs": [],
   "source": [
    "#upper-case all DataFrame column names\n",
    "data.columns = map(str.upper, data.columns)"
   ]
  },
  {
   "cell_type": "code",
   "execution_count": 5,
   "metadata": {},
   "outputs": [
    {
     "name": "stderr",
     "output_type": "stream",
     "text": [
      "E:\\Python\\Anaconda\\lib\\site-packages\\ipykernel_launcher.py:4: SettingWithCopyWarning: \n",
      "A value is trying to be set on a copy of a slice from a DataFrame.\n",
      "Try using .loc[row_indexer,col_indexer] = value instead\n",
      "\n",
      "See the caveats in the documentation: http://pandas.pydata.org/pandas-docs/stable/indexing.html#indexing-view-versus-copy\n",
      "  after removing the cwd from sys.path.\n"
     ]
    }
   ],
   "source": [
    "# Data Management\n",
    "data_clean = data.dropna()\n",
    "recode1 = {1:1, 2:0}\n",
    "data_clean['MALE']= data_clean['BIO_SEX'].map(recode1)"
   ]
  },
  {
   "cell_type": "code",
   "execution_count": 6,
   "metadata": {},
   "outputs": [],
   "source": [
    "#select predictor variables and target variable as separate data sets  \n",
    "predvar= data_clean[['MALE','HISPANIC','WHITE','BLACK','NAMERICAN','ASIAN',\n",
    "'AGE','ALCEVR1','ALCPROBS1','MAREVER1','COCEVER1','INHEVER1','CIGAVAIL','DEP1',\n",
    "'ESTEEM1','VIOL1','PASSIST','DEVIANT1','GPA1','EXPEL1','FAMCONCT','PARACTV',\n",
    "'PARPRES']]"
   ]
  },
  {
   "cell_type": "code",
   "execution_count": 7,
   "metadata": {},
   "outputs": [
    {
     "data": {
      "text/html": [
       "<div>\n",
       "<style scoped>\n",
       "    .dataframe tbody tr th:only-of-type {\n",
       "        vertical-align: middle;\n",
       "    }\n",
       "\n",
       "    .dataframe tbody tr th {\n",
       "        vertical-align: top;\n",
       "    }\n",
       "\n",
       "    .dataframe thead th {\n",
       "        text-align: right;\n",
       "    }\n",
       "</style>\n",
       "<table border=\"1\" class=\"dataframe\">\n",
       "  <thead>\n",
       "    <tr style=\"text-align: right;\">\n",
       "      <th></th>\n",
       "      <th>MALE</th>\n",
       "      <th>HISPANIC</th>\n",
       "      <th>WHITE</th>\n",
       "      <th>BLACK</th>\n",
       "      <th>NAMERICAN</th>\n",
       "      <th>ASIAN</th>\n",
       "      <th>AGE</th>\n",
       "      <th>ALCEVR1</th>\n",
       "      <th>ALCPROBS1</th>\n",
       "      <th>MAREVER1</th>\n",
       "      <th>...</th>\n",
       "      <th>DEP1</th>\n",
       "      <th>ESTEEM1</th>\n",
       "      <th>VIOL1</th>\n",
       "      <th>PASSIST</th>\n",
       "      <th>DEVIANT1</th>\n",
       "      <th>GPA1</th>\n",
       "      <th>EXPEL1</th>\n",
       "      <th>FAMCONCT</th>\n",
       "      <th>PARACTV</th>\n",
       "      <th>PARPRES</th>\n",
       "    </tr>\n",
       "  </thead>\n",
       "  <tbody>\n",
       "    <tr>\n",
       "      <th>1</th>\n",
       "      <td>0</td>\n",
       "      <td>0.0</td>\n",
       "      <td>0.0</td>\n",
       "      <td>1.0</td>\n",
       "      <td>0.0</td>\n",
       "      <td>0.0</td>\n",
       "      <td>19.427397</td>\n",
       "      <td>1.0</td>\n",
       "      <td>1</td>\n",
       "      <td>0</td>\n",
       "      <td>...</td>\n",
       "      <td>17.0</td>\n",
       "      <td>35.0</td>\n",
       "      <td>1.0</td>\n",
       "      <td>0</td>\n",
       "      <td>5.0</td>\n",
       "      <td>2.333333</td>\n",
       "      <td>0.0</td>\n",
       "      <td>23.3</td>\n",
       "      <td>9.0</td>\n",
       "      <td>15.0</td>\n",
       "    </tr>\n",
       "    <tr>\n",
       "      <th>3</th>\n",
       "      <td>1</td>\n",
       "      <td>0.0</td>\n",
       "      <td>0.0</td>\n",
       "      <td>1.0</td>\n",
       "      <td>0.0</td>\n",
       "      <td>0.0</td>\n",
       "      <td>20.430137</td>\n",
       "      <td>0.0</td>\n",
       "      <td>0</td>\n",
       "      <td>1</td>\n",
       "      <td>...</td>\n",
       "      <td>19.0</td>\n",
       "      <td>47.0</td>\n",
       "      <td>4.0</td>\n",
       "      <td>1</td>\n",
       "      <td>4.0</td>\n",
       "      <td>2.000000</td>\n",
       "      <td>0.0</td>\n",
       "      <td>18.7</td>\n",
       "      <td>6.0</td>\n",
       "      <td>14.0</td>\n",
       "    </tr>\n",
       "    <tr>\n",
       "      <th>5</th>\n",
       "      <td>1</td>\n",
       "      <td>0.0</td>\n",
       "      <td>0.0</td>\n",
       "      <td>1.0</td>\n",
       "      <td>0.0</td>\n",
       "      <td>0.0</td>\n",
       "      <td>14.509589</td>\n",
       "      <td>0.0</td>\n",
       "      <td>0</td>\n",
       "      <td>0</td>\n",
       "      <td>...</td>\n",
       "      <td>8.0</td>\n",
       "      <td>41.0</td>\n",
       "      <td>3.0</td>\n",
       "      <td>0</td>\n",
       "      <td>0.0</td>\n",
       "      <td>2.666667</td>\n",
       "      <td>0.0</td>\n",
       "      <td>23.7</td>\n",
       "      <td>3.0</td>\n",
       "      <td>13.0</td>\n",
       "    </tr>\n",
       "    <tr>\n",
       "      <th>6</th>\n",
       "      <td>1</td>\n",
       "      <td>0.0</td>\n",
       "      <td>0.0</td>\n",
       "      <td>1.0</td>\n",
       "      <td>0.0</td>\n",
       "      <td>0.0</td>\n",
       "      <td>13.676712</td>\n",
       "      <td>0.0</td>\n",
       "      <td>0</td>\n",
       "      <td>0</td>\n",
       "      <td>...</td>\n",
       "      <td>4.0</td>\n",
       "      <td>42.0</td>\n",
       "      <td>5.0</td>\n",
       "      <td>0</td>\n",
       "      <td>7.0</td>\n",
       "      <td>2.500000</td>\n",
       "      <td>0.0</td>\n",
       "      <td>24.7</td>\n",
       "      <td>6.0</td>\n",
       "      <td>13.0</td>\n",
       "    </tr>\n",
       "    <tr>\n",
       "      <th>7</th>\n",
       "      <td>1</td>\n",
       "      <td>0.0</td>\n",
       "      <td>1.0</td>\n",
       "      <td>0.0</td>\n",
       "      <td>0.0</td>\n",
       "      <td>0.0</td>\n",
       "      <td>15.178082</td>\n",
       "      <td>1.0</td>\n",
       "      <td>0</td>\n",
       "      <td>1</td>\n",
       "      <td>...</td>\n",
       "      <td>4.0</td>\n",
       "      <td>40.0</td>\n",
       "      <td>8.0</td>\n",
       "      <td>1</td>\n",
       "      <td>6.0</td>\n",
       "      <td>1.500000</td>\n",
       "      <td>0.0</td>\n",
       "      <td>22.3</td>\n",
       "      <td>10.0</td>\n",
       "      <td>14.0</td>\n",
       "    </tr>\n",
       "  </tbody>\n",
       "</table>\n",
       "<p>5 rows × 23 columns</p>\n",
       "</div>"
      ],
      "text/plain": [
       "   MALE  HISPANIC  WHITE  BLACK  NAMERICAN  ASIAN        AGE  ALCEVR1  \\\n",
       "1     0       0.0    0.0    1.0        0.0    0.0  19.427397      1.0   \n",
       "3     1       0.0    0.0    1.0        0.0    0.0  20.430137      0.0   \n",
       "5     1       0.0    0.0    1.0        0.0    0.0  14.509589      0.0   \n",
       "6     1       0.0    0.0    1.0        0.0    0.0  13.676712      0.0   \n",
       "7     1       0.0    1.0    0.0        0.0    0.0  15.178082      1.0   \n",
       "\n",
       "   ALCPROBS1  MAREVER1   ...     DEP1  ESTEEM1  VIOL1  PASSIST  DEVIANT1  \\\n",
       "1          1         0   ...     17.0     35.0    1.0        0       5.0   \n",
       "3          0         1   ...     19.0     47.0    4.0        1       4.0   \n",
       "5          0         0   ...      8.0     41.0    3.0        0       0.0   \n",
       "6          0         0   ...      4.0     42.0    5.0        0       7.0   \n",
       "7          0         1   ...      4.0     40.0    8.0        1       6.0   \n",
       "\n",
       "       GPA1  EXPEL1  FAMCONCT  PARACTV  PARPRES  \n",
       "1  2.333333     0.0      23.3      9.0     15.0  \n",
       "3  2.000000     0.0      18.7      6.0     14.0  \n",
       "5  2.666667     0.0      23.7      3.0     13.0  \n",
       "6  2.500000     0.0      24.7      6.0     13.0  \n",
       "7  1.500000     0.0      22.3     10.0     14.0  \n",
       "\n",
       "[5 rows x 23 columns]"
      ]
     },
     "execution_count": 7,
     "metadata": {},
     "output_type": "execute_result"
    }
   ],
   "source": [
    "predvar.head()"
   ]
  },
  {
   "cell_type": "code",
   "execution_count": 8,
   "metadata": {},
   "outputs": [],
   "source": [
    "target = data_clean.SCHCONN1"
   ]
  },
  {
   "cell_type": "code",
   "execution_count": 9,
   "metadata": {},
   "outputs": [
    {
     "data": {
      "text/plain": [
       "1    22.0\n",
       "3    19.0\n",
       "5    27.0\n",
       "6    18.0\n",
       "7    20.0\n",
       "Name: SCHCONN1, dtype: float64"
      ]
     },
     "execution_count": 9,
     "metadata": {},
     "output_type": "execute_result"
    }
   ],
   "source": [
    "target.head()"
   ]
  },
  {
   "cell_type": "code",
   "execution_count": 10,
   "metadata": {},
   "outputs": [],
   "source": [
    "# standardize predictors to have mean=0 and sd=1\n",
    "predictors=predvar.copy()"
   ]
  },
  {
   "cell_type": "code",
   "execution_count": 11,
   "metadata": {},
   "outputs": [],
   "source": [
    "from sklearn import preprocessing"
   ]
  },
  {
   "cell_type": "code",
   "execution_count": 12,
   "metadata": {},
   "outputs": [],
   "source": [
    "predictors['MALE']=preprocessing.scale(predictors['MALE'].astype('float64'))\n",
    "predictors['HISPANIC']=preprocessing.scale(predictors['HISPANIC'].astype('float64'))\n",
    "predictors['WHITE']=preprocessing.scale(predictors['WHITE'].astype('float64'))\n",
    "predictors['NAMERICAN']=preprocessing.scale(predictors['NAMERICAN'].astype('float64'))\n",
    "predictors['ASIAN']=preprocessing.scale(predictors['ASIAN'].astype('float64'))\n",
    "predictors['AGE']=preprocessing.scale(predictors['AGE'].astype('float64'))\n",
    "predictors['ALCEVR1']=preprocessing.scale(predictors['ALCEVR1'].astype('float64'))\n",
    "predictors['ALCPROBS1']=preprocessing.scale(predictors['ALCPROBS1'].astype('float64'))\n",
    "predictors['MAREVER1']=preprocessing.scale(predictors['MAREVER1'].astype('float64'))\n",
    "predictors['COCEVER1']=preprocessing.scale(predictors['COCEVER1'].astype('float64'))\n",
    "predictors['INHEVER1']=preprocessing.scale(predictors['INHEVER1'].astype('float64'))\n",
    "predictors['CIGAVAIL']=preprocessing.scale(predictors['CIGAVAIL'].astype('float64'))\n",
    "predictors['DEP1']=preprocessing.scale(predictors['DEP1'].astype('float64'))\n",
    "predictors['ESTEEM1']=preprocessing.scale(predictors['ESTEEM1'].astype('float64'))\n",
    "predictors['VIOL1']=preprocessing.scale(predictors['VIOL1'].astype('float64'))\n",
    "predictors['PASSIST']=preprocessing.scale(predictors['PASSIST'].astype('float64'))\n",
    "predictors['DEVIANT1']=preprocessing.scale(predictors['DEVIANT1'].astype('float64'))\n",
    "predictors['GPA1']=preprocessing.scale(predictors['GPA1'].astype('float64'))\n",
    "predictors['EXPEL1']=preprocessing.scale(predictors['EXPEL1'].astype('float64'))\n",
    "predictors['FAMCONCT']=preprocessing.scale(predictors['FAMCONCT'].astype('float64'))\n",
    "predictors['PARACTV']=preprocessing.scale(predictors['PARACTV'].astype('float64'))\n",
    "predictors['PARPRES']=preprocessing.scale(predictors['PARPRES'].astype('float64'))"
   ]
  },
  {
   "cell_type": "code",
   "execution_count": 13,
   "metadata": {},
   "outputs": [],
   "source": [
    "# split data into train and test sets\n",
    "pred_train, pred_test, tar_train, tar_test = train_test_split(predictors, target, \n",
    "                                                              test_size=.3, random_state=123)"
   ]
  },
  {
   "cell_type": "code",
   "execution_count": 14,
   "metadata": {},
   "outputs": [],
   "source": [
    "# specify the lasso regression model\n",
    "model = LassoLarsCV(cv=10, precompute=False).fit(pred_train,tar_train)"
   ]
  },
  {
   "cell_type": "code",
   "execution_count": 15,
   "metadata": {},
   "outputs": [
    {
     "data": {
      "text/plain": [
       "LassoLarsCV(copy_X=True, cv=10, eps=2.220446049250313e-16, fit_intercept=True,\n",
       "      max_iter=500, max_n_alphas=1000, n_jobs=1, normalize=True,\n",
       "      positive=False, precompute=False, verbose=False)"
      ]
     },
     "execution_count": 15,
     "metadata": {},
     "output_type": "execute_result"
    }
   ],
   "source": [
    "model"
   ]
  },
  {
   "cell_type": "code",
   "execution_count": 16,
   "metadata": {},
   "outputs": [
    {
     "data": {
      "text/plain": [
       "{'AGE': 0.21734102065275673,\n",
       " 'ALCEVR1': -0.3249964960966348,\n",
       " 'ALCPROBS1': 0.0,\n",
       " 'ASIAN': 0.18869030694622183,\n",
       " 'BLACK': -0.6936478686386675,\n",
       " 'CIGAVAIL': -0.10983879188950622,\n",
       " 'COCEVER1': -0.2000092170310434,\n",
       " 'DEP1': -0.8541784447568626,\n",
       " 'DEVIANT1': -0.41808246027792767,\n",
       " 'ESTEEM1': 1.0974098143740432,\n",
       " 'EXPEL1': -0.07382899854861781,\n",
       " 'FAMCONCT': 0.5152729478743243,\n",
       " 'GPA1': 0.6655764176697643,\n",
       " 'HISPANIC': 0.20300474500010485,\n",
       " 'INHEVER1': 0.0,\n",
       " 'MALE': -0.21508693783564672,\n",
       " 'MAREVER1': -0.15980377488873015,\n",
       " 'NAMERICAN': -0.1078457361642608,\n",
       " 'PARACTV': 0.2999119298291292,\n",
       " 'PARPRES': 0.0,\n",
       " 'PASSIST': 0.0,\n",
       " 'VIOL1': -0.6392671702279851,\n",
       " 'WHITE': 0.0}"
      ]
     },
     "execution_count": 16,
     "metadata": {},
     "output_type": "execute_result"
    }
   ],
   "source": [
    "# print variable names and regression coefficients\n",
    "dict(zip(predictors.columns, model.coef_))"
   ]
  },
  {
   "cell_type": "code",
   "execution_count": 17,
   "metadata": {},
   "outputs": [],
   "source": [
    "%matplotlib inline"
   ]
  },
  {
   "cell_type": "code",
   "execution_count": 18,
   "metadata": {},
   "outputs": [
    {
     "data": {
      "text/plain": [
       "Text(0.5,1,'Regression Coefficients Progression for Lasso Paths')"
      ]
     },
     "execution_count": 18,
     "metadata": {},
     "output_type": "execute_result"
    },
    {
     "data": {
      "image/png": "[encoded data removed]",
      "text/plain": [
       "<Figure size 432x288 with 1 Axes>"
      ]
     },
     "metadata": {},
     "output_type": "display_data"
    }
   ],
   "source": [
    "# plot coefficient progression\n",
    "m_log_alphas = -np.log10(model.alphas_)\n",
    "ax = plt.gca()\n",
    "plt.plot(m_log_alphas, model.coef_path_.T)\n",
    "plt.axvline(-np.log10(model.alpha_), linestyle='--', color='k',\n",
    "            label='alpha CV')\n",
    "plt.ylabel('Regression Coefficients')\n",
    "plt.xlabel('-log(alpha)')\n",
    "plt.title('Regression Coefficients Progression for Lasso Paths')"
   ]
  },
  {
   "cell_type": "code",
   "execution_count": 19,
   "metadata": {},
   "outputs": [
    {
     "name": "stderr",
     "output_type": "stream",
     "text": [
      "E:\\Python\\Anaconda\\lib\\site-packages\\ipykernel_launcher.py:2: RuntimeWarning: divide by zero encountered in log10\n",
      "  \n"
     ]
    },
    {
     "data": {
      "text/plain": [
       "Text(0.5,1,'Mean squared error on each fold')"
      ]
     },
     "execution_count": 19,
     "metadata": {},
     "output_type": "execute_result"
    },
    {
     "data": {
      "image/png": "[encoded data removed]",
      "text/plain": [
       "<Figure size 432x288 with 1 Axes>"
      ]
     },
     "metadata": {},
     "output_type": "display_data"
    }
   ],
   "source": [
    "# plot mean square error for each fold\n",
    "m_log_alphascv = -np.log10(model.cv_alphas_)\n",
    "plt.figure()\n",
    "plt.plot(m_log_alphascv, model.mse_path_, ':')\n",
    "plt.plot(m_log_alphascv, model.mse_path_.mean(axis=-1), 'k',\n",
    "         label='Average across the folds', linewidth=2)\n",
    "plt.axvline(-np.log10(model.alpha_), linestyle='--', color='k',\n",
    "            label='alpha CV')\n",
    "plt.legend()\n",
    "plt.xlabel('-log(alpha)')\n",
    "plt.ylabel('Mean squared error')\n",
    "plt.title('Mean squared error on each fold')"
   ]
  },
  {
   "cell_type": "code",
   "execution_count": 20,
   "metadata": {},
   "outputs": [],
   "source": [
    "# MSE from training and test data\n",
    "from sklearn.metrics import mean_squared_error"
   ]
  },
  {
   "cell_type": "code",
   "execution_count": 21,
   "metadata": {},
   "outputs": [
    {
     "name": "stdout",
     "output_type": "stream",
     "text": [
      "training data MSE\n",
      "18.14857266408148\n",
      "test data MSE\n",
      "17.292517427169475\n"
     ]
    }
   ],
   "source": [
    "train_error = mean_squared_error(tar_train, model.predict(pred_train))\n",
    "test_error = mean_squared_error(tar_test, model.predict(pred_test))\n",
    "print ('training data MSE')\n",
    "print(train_error)\n",
    "print ('test data MSE')\n",
    "print(test_error)"
   ]
  },
  {
   "cell_type": "code",
   "execution_count": 22,
   "metadata": {},
   "outputs": [
    {
     "name": "stdout",
     "output_type": "stream",
     "text": [
      "training data R-square\n",
      "0.3336111369269187\n",
      "test data R-square\n",
      "0.31001113416000803\n"
     ]
    }
   ],
   "source": [
    "# R-square from training and test data\n",
    "rsquared_train=model.score(pred_train,tar_train)\n",
    "rsquared_test=model.score(pred_test,tar_test)\n",
    "print ('training data R-square')\n",
    "print(rsquared_train)\n",
    "print ('test data R-square')\n",
    "print(rsquared_test)"
   ]
  },
  {
   "cell_type": "code",
   "execution_count": null,
   "metadata": {},
   "outputs": [],
   "source": []
  }
 ],
 "metadata": {
  "kernelspec": {
   "display_name": "Python 3",
   "language": "python",
   "name": "python3"
  },
  "language_info": {
   "codemirror_mode": {
    "name": "ipython",
    "version": 3
   },
   "file_extension": ".py",
   "mimetype": "text/x-python",
   "name": "python",
   "nbconvert_exporter": "python",
   "pygments_lexer": "ipython3",
   "version": "3.6.4"
  }
 },
 "nbformat": 4,
 "nbformat_minor": 2
}
