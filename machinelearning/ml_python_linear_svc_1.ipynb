{
 "cells": [
  {
   "cell_type": "markdown",
   "metadata": {},
   "source": [
    "# Linear Support Vector Classification\n",
    "\n",
    "Similar to SVC with parameter kernel=’linear’, but implemented in terms of liblinear rather than libsvm, so it has more flexibility in the choice of penalties and loss functions and should scale better to large numbers of samples.\n",
    "\n",
    "This class supports both dense and sparse input and the multiclass support is handled according to a one-vs-the-rest scheme."
   ]
  },
  {
   "cell_type": "markdown",
   "metadata": {},
   "source": [
    "Applying the one-vs-rest method to a simple three-class classification dataset."
   ]
  },
  {
   "cell_type": "code",
   "execution_count": 1,
   "metadata": {
    "scrolled": true
   },
   "outputs": [
    {
     "name": "stdout",
     "output_type": "stream",
     "text": [
      "Requirement already satisfied: mglearn in e:\\python\\anaconda\\lib\\site-packages (0.1.6)\n",
      "Requirement already satisfied: pillow in e:\\python\\anaconda\\lib\\site-packages (from mglearn) (5.1.0)\n",
      "Requirement already satisfied: matplotlib in e:\\python\\anaconda\\lib\\site-packages (from mglearn) (2.2.2)\n",
      "Requirement already satisfied: pandas in e:\\python\\anaconda\\lib\\site-packages (from mglearn) (0.23.1)\n",
      "Requirement already satisfied: scikit-learn in e:\\python\\anaconda\\lib\\site-packages (from mglearn) (0.19.1)\n",
      "Requirement already satisfied: cycler in e:\\python\\anaconda\\lib\\site-packages (from mglearn) (0.10.0)\n",
      "Requirement already satisfied: numpy in e:\\python\\anaconda\\lib\\site-packages (from mglearn) (1.14.5)\n",
      "Requirement already satisfied: pyparsing!=2.0.4,!=2.1.2,!=2.1.6,>=2.0.1 in e:\\python\\anaconda\\lib\\site-packages (from matplotlib->mglearn) (2.2.0)\n",
      "Requirement already satisfied: python-dateutil>=2.1 in e:\\python\\anaconda\\lib\\site-packages (from matplotlib->mglearn) (2.6.1)\n",
      "Requirement already satisfied: pytz in e:\\python\\anaconda\\lib\\site-packages (from matplotlib->mglearn) (2017.3)\n",
      "Requirement already satisfied: six>=1.10 in e:\\python\\anaconda\\lib\\site-packages (from matplotlib->mglearn) (1.11.0)\n",
      "Requirement already satisfied: kiwisolver>=1.0.1 in e:\\python\\anaconda\\lib\\site-packages (from matplotlib->mglearn) (1.0.1)\n",
      "Requirement already satisfied: setuptools in e:\\python\\anaconda\\lib\\site-packages (from kiwisolver>=1.0.1->matplotlib->mglearn) (38.4.0)\n"
     ]
    },
    {
     "name": "stderr",
     "output_type": "stream",
     "text": [
      "notebook 5.4.0 requires ipykernel, which is not installed.\n",
      "jupyter 1.0.0 requires ipykernel, which is not installed.\n",
      "jupyter-console 5.2.0 requires ipykernel, which is not installed.\n",
      "ipywidgets 7.1.1 requires ipykernel>=4.5.1, which is not installed.\n"
     ]
    }
   ],
   "source": [
    "# install mglearn if not present already\n",
    "!pip install mglearn"
   ]
  },
  {
   "cell_type": "code",
   "execution_count": 2,
   "metadata": {},
   "outputs": [
    {
     "name": "stdout",
     "output_type": "stream",
     "text": [
      "Python version: 3.6.4 |Anaconda, Inc.| (default, Jan 16 2018, 10:22:32) [MSC v.1900 64 bit (AMD64)]\n",
      "pandas version: 0.23.1\n",
      "matplotlib version: 2.2.2\n",
      "NumPy version: 1.14.5\n",
      "SciPy version: 1.1.0\n",
      "IPython version: 6.2.1\n",
      "scikit-learn version: 0.19.1\n",
      "matplotlib version: 2.2.2\n"
     ]
    }
   ],
   "source": [
    "from sklearn.datasets import make_blobs\n",
    "from sklearn.svm import LinearSVC\n",
    "\n",
    "import sys\n",
    "print(\"Python version: {}\".format(sys.version))\n",
    "import pandas as pd\n",
    "print(\"pandas version: {}\".format(pd.__version__))\n",
    "import matplotlib\n",
    "print(\"matplotlib version: {}\".format(matplotlib.__version__))\n",
    "import numpy as np\n",
    "print(\"NumPy version: {}\".format(np.__version__))\n",
    "import scipy as sp\n",
    "print(\"SciPy version: {}\".format(sp.__version__))\n",
    "import IPython\n",
    "print(\"IPython version: {}\".format(IPython.__version__))\n",
    "import sklearn\n",
    "print(\"scikit-learn version: {}\".format(sklearn.__version__))\n",
    "import matplotlib.pyplot as plt\n",
    "print(\"matplotlib version: {}\".format(matplotlib.__version__))"
   ]
  },
  {
   "cell_type": "code",
   "execution_count": 3,
   "metadata": {},
   "outputs": [],
   "source": [
    "import mglearn as mg"
   ]
  },
  {
   "cell_type": "code",
   "execution_count": 4,
   "metadata": {},
   "outputs": [
    {
     "name": "stdout",
     "output_type": "stream",
     "text": [
      "mglearn version: 0.1.6\n"
     ]
    }
   ],
   "source": [
    "print(\"mglearn version: {}\".format(mg.__version__))"
   ]
  },
  {
   "cell_type": "code",
   "execution_count": 5,
   "metadata": {},
   "outputs": [
    {
     "data": {
      "text/plain": [
       "(array([[ -7.22236015,  -5.47851849],\n",
       "        [ -8.32829271,  -7.11016945],\n",
       "        [  5.71549664,  -5.23317302],\n",
       "        [  5.69207676,  -4.05588273],\n",
       "        [  5.30183835,  -5.65446316],\n",
       "        [  5.40506018,  -4.09346178],\n",
       "        [  5.68967882,  -7.71400844],\n",
       "        [  5.75410418,  -5.19397631],\n",
       "        [  4.03248318,  -9.28272013],\n",
       "        [  8.27913075,  -4.48881432],\n",
       "        [  6.66634541,  -3.25571422],\n",
       "        [  3.91300084,  -9.80894844],\n",
       "        [  4.66637747, -10.28235826],\n",
       "        [  6.59507345,  -5.88630326],\n",
       "        [  4.17353471,  -9.06788203],\n",
       "        [ -7.52897513,  -5.31272837],\n",
       "        [  6.26750337,  -9.14902857],\n",
       "        [ -8.32740079,  -7.86998376],\n",
       "        [ -8.44393104,  -5.30120317],\n",
       "        [ -7.19687664,  -4.17810953],\n",
       "        [  5.41635574,  -4.21884715],\n",
       "        [ -8.16370021,  -3.31808545],\n",
       "        [  5.44986484,  -8.22276412],\n",
       "        [ -6.63224973,  -6.09655804],\n",
       "        [  6.62316212,  -5.97481427],\n",
       "        [  4.7835511 ,  -9.24128522],\n",
       "        [ -6.41622252,  -3.89867482],\n",
       "        [  5.79039318,  -6.8572858 ],\n",
       "        [  4.30296676,  -8.52193164],\n",
       "        [ -7.24175684,  -5.10634425],\n",
       "        [  5.14069347,  -8.90161713],\n",
       "        [  5.00898623,  -5.22724831],\n",
       "        [ -8.12315361,  -5.95798379],\n",
       "        [ -7.29163793,  -3.64811936],\n",
       "        [-10.67123768,  -4.02834003],\n",
       "        [ -9.2068815 ,  -5.48056053],\n",
       "        [  4.47314957,  -9.42517112],\n",
       "        [  7.03247897,  -3.94249308],\n",
       "        [  5.75273386,  -7.97048644],\n",
       "        [ -8.28188164,  -4.24781881],\n",
       "        [  4.45481865,  -8.4041378 ],\n",
       "        [ -7.17537532,  -5.00982917],\n",
       "        [  7.6300787 ,  -4.34557034],\n",
       "        [  6.03029127,  -4.68885872],\n",
       "        [  6.56059737,  -4.26209286],\n",
       "        [ -8.89610858,  -4.91563498],\n",
       "        [ -6.9406972 ,  -3.95759552],\n",
       "        [  6.65010005,  -4.19409128],\n",
       "        [  4.97349988,  -7.30475579],\n",
       "        [  3.9705234 ,  -7.9373837 ],\n",
       "        [ -7.58923054,  -3.92855725],\n",
       "        [  7.15350135,  -4.65419308],\n",
       "        [  4.01731775,  -7.12258249],\n",
       "        [  4.19144304,  -8.52569296],\n",
       "        [  5.23617233,  -6.5521653 ],\n",
       "        [  6.45998925,  -5.92749644],\n",
       "        [  4.68557667,  -9.60676408],\n",
       "        [ -6.63116669,  -4.23625006],\n",
       "        [  5.47284164,  -9.27998361],\n",
       "        [ -9.28164526,  -5.04462326],\n",
       "        [ -6.72327742,  -5.2778925 ],\n",
       "        [ -8.49677005,  -3.7826903 ],\n",
       "        [  3.41165256,  -6.69226175],\n",
       "        [  3.50393202,  -8.97928962],\n",
       "        [ -7.25512069,  -1.31747822],\n",
       "        [  4.69798859,  -6.55409034],\n",
       "        [ -8.83689683,  -3.94144047],\n",
       "        [ -7.60292063,  -5.42049365],\n",
       "        [  6.95819715,  -5.17636687],\n",
       "        [  7.31730862,  -3.6321524 ],\n",
       "        [  6.73170025,  -4.12850713],\n",
       "        [  4.72576744,  -8.44994587],\n",
       "        [  3.51522021,  -7.50525089],\n",
       "        [  6.76261341,  -3.79850272],\n",
       "        [  4.43055124,  -7.73358979],\n",
       "        [ -9.12657498,  -5.25664649],\n",
       "        [  7.19864653,  -4.78757569],\n",
       "        [  6.77873864,  -5.10593814],\n",
       "        [  4.30471188,  -9.8291557 ],\n",
       "        [  3.06404353,  -8.71660081],\n",
       "        [ -8.20849196,  -4.94759235],\n",
       "        [ -9.29734488,  -6.48502814],\n",
       "        [  4.45728799,  -8.24821847],\n",
       "        [  5.8522641 ,  -9.13340996],\n",
       "        [  5.73378272,  -5.02027119],\n",
       "        [  6.91093534,  -3.33318308],\n",
       "        [  7.11405273,  -4.97571264],\n",
       "        [ -9.84354897,  -3.92667661],\n",
       "        [  2.84982513,  -9.8773099 ],\n",
       "        [ -8.46031178,  -5.74440151],\n",
       "        [  4.6427834 ,  -7.40976213],\n",
       "        [ -9.94012978,  -3.60905434],\n",
       "        [  7.31631492,  -3.54338588],\n",
       "        [  7.22592113,  -3.87416463],\n",
       "        [  5.42554026,  -3.11274236],\n",
       "        [  5.69824072,  -4.58367129],\n",
       "        [ -9.26221288,  -4.35839135],\n",
       "        [  4.2559998 ,  -8.40852588],\n",
       "        [  7.47946361,  -3.75643602],\n",
       "        [ -8.47507924,  -5.48816649]]),\n",
       " array([0, 0, 1, 1, 1, 1, 2, 1, 2, 1, 1, 2, 2, 1, 2, 0, 2, 0, 0, 0, 1, 0,\n",
       "        2, 0, 1, 2, 0, 1, 2, 0, 2, 1, 0, 0, 0, 0, 2, 1, 2, 0, 2, 0, 1, 1,\n",
       "        1, 0, 0, 1, 2, 2, 0, 1, 2, 2, 2, 1, 2, 0, 2, 0, 0, 0, 2, 2, 0, 2,\n",
       "        0, 0, 1, 1, 1, 2, 2, 1, 2, 0, 1, 1, 2, 2, 0, 0, 2, 2, 1, 1, 1, 0,\n",
       "        2, 0, 2, 0, 1, 1, 1, 1, 0, 2, 1, 0]))"
      ]
     },
     "execution_count": 5,
     "metadata": {},
     "output_type": "execute_result"
    }
   ],
   "source": [
    "make_blobs()"
   ]
  },
  {
   "cell_type": "code",
   "execution_count": 6,
   "metadata": {},
   "outputs": [
    {
     "data": {
      "text/plain": [
       "(array([[-1.49211009e+00,  8.00048345e+00],\n",
       "        [-2.15904392e-02,  7.80179239e+00],\n",
       "        [ 5.37460126e+00, -3.12765245e+00],\n",
       "        [-4.38451150e+00,  3.32409481e+00],\n",
       "        [-3.88850604e+00,  4.54507091e+00],\n",
       "        [ 3.59379934e-01,  9.87519697e+00],\n",
       "        [-5.58283415e+00,  3.99641097e+00],\n",
       "        [ 4.53959614e+00, -4.15996344e+00],\n",
       "        [-5.81801602e+00,  3.18704223e+00],\n",
       "        [ 4.48625651e+00, -5.95019223e+00],\n",
       "        [ 5.53570693e+00, -4.11818513e+00],\n",
       "        [-2.16027264e+00,  9.08621257e+00],\n",
       "        [ 5.13015959e+00, -3.34102429e+00],\n",
       "        [-6.12073151e+00,  4.51823547e+00],\n",
       "        [-6.91264687e+00,  4.22049944e+00],\n",
       "        [-1.36601802e-01,  1.01838626e+01],\n",
       "        [ 4.51383197e+00, -5.36361832e+00],\n",
       "        [-5.00614298e+00,  3.07150408e+00],\n",
       "        [ 1.84611290e-01,  1.01316564e+01],\n",
       "        [ 5.44061149e+00, -2.74884901e+00],\n",
       "        [ 8.84119643e-01,  9.75137075e+00],\n",
       "        [ 3.58594213e+00, -3.89082392e+00],\n",
       "        [-5.38923704e+00,  3.49237594e+00],\n",
       "        [ 4.69701457e+00, -5.08892523e+00],\n",
       "        [ 8.58095072e-01,  9.07079054e+00],\n",
       "        [ 5.48001290e+00, -5.06133702e+00],\n",
       "        [ 1.38684365e+00,  8.84521734e+00],\n",
       "        [-5.60564903e+00,  4.34766098e+00],\n",
       "        [-5.42307986e+00,  3.41984412e+00],\n",
       "        [ 2.09690921e-01,  1.02065003e+01],\n",
       "        [-5.46326186e+00,  4.38953692e+00],\n",
       "        [ 5.87063978e-01,  7.98674255e+00],\n",
       "        [-2.01830331e-01,  8.25983380e+00],\n",
       "        [ 1.02281779e+00,  1.21267548e+01],\n",
       "        [ 4.96683025e+00, -4.97556950e+00],\n",
       "        [ 5.96694229e-01,  8.12563583e+00],\n",
       "        [ 7.87694049e-01,  1.00681289e+01],\n",
       "        [-6.69893492e+00,  4.16179925e+00],\n",
       "        [ 2.91932941e+00, -4.68535711e+00],\n",
       "        [-4.71535266e+00,  4.07410823e+00],\n",
       "        [ 4.22382841e+00, -2.52870489e+00],\n",
       "        [ 1.76127766e+00,  9.39696306e+00],\n",
       "        [-6.82759634e+00,  3.37124909e+00],\n",
       "        [ 5.74708767e+00, -4.25235984e+00],\n",
       "        [-7.34607078e-01,  8.94948138e+00],\n",
       "        [ 2.74633752e-01,  8.89381450e+00],\n",
       "        [ 5.19591322e-01,  7.71599730e+00],\n",
       "        [ 3.97633169e+00, -2.71469190e+00],\n",
       "        [ 5.65271195e+00, -6.37994394e+00],\n",
       "        [ 5.96281118e+00, -5.09789592e+00],\n",
       "        [ 6.66968001e+00, -5.92192566e+00],\n",
       "        [ 9.65071750e-01,  7.94667830e+00],\n",
       "        [-4.84312650e+00,  3.38950942e+00],\n",
       "        [ 1.43405527e-02,  7.30686580e+00],\n",
       "        [ 5.63274083e+00, -5.45527659e+00],\n",
       "        [-4.92709790e+00,  4.29330192e+00],\n",
       "        [ 7.18239328e+00, -4.85353910e+00],\n",
       "        [-5.46952322e+00,  2.96345135e+00],\n",
       "        [ 5.17617060e+00, -4.36944006e+00],\n",
       "        [-5.76914585e+00,  3.80573205e+00],\n",
       "        [ 6.61597843e+00, -3.80277304e+00],\n",
       "        [-6.97492325e-01,  7.92931020e+00],\n",
       "        [ 1.04958131e+00,  8.67110994e+00],\n",
       "        [ 5.85798326e+00, -4.96721810e+00],\n",
       "        [-4.51366994e+00,  3.11887810e+00],\n",
       "        [-9.76189846e-01,  1.07115104e+01],\n",
       "        [-4.34017361e+00,  3.89735877e+00],\n",
       "        [-4.69270844e+00,  3.48406193e+00],\n",
       "        [-5.56589892e+00,  3.23923165e+00],\n",
       "        [ 5.98559834e+00, -6.60796973e+00],\n",
       "        [-5.76945097e+00,  4.24982574e+00],\n",
       "        [ 5.75034670e+00, -5.16952245e+00],\n",
       "        [ 5.75979115e+00, -2.73463109e+00],\n",
       "        [ 2.24860129e-01,  9.12939344e+00],\n",
       "        [ 7.66580337e-01,  9.35087172e+00],\n",
       "        [-6.77445248e+00,  5.40648718e+00],\n",
       "        [-1.50131409e-03,  9.60939224e+00],\n",
       "        [ 9.52153167e-01,  8.91671319e+00],\n",
       "        [-4.70603400e+00,  2.09347984e+00],\n",
       "        [-7.48260784e+00,  3.48081887e+00],\n",
       "        [-6.34785872e+00,  3.91359266e+00],\n",
       "        [-5.48564248e+00,  5.51744476e+00],\n",
       "        [ 3.54488155e+00, -3.78557920e+00],\n",
       "        [ 5.39928913e+00, -4.44602770e+00],\n",
       "        [ 1.07483352e+00,  1.09076868e+01],\n",
       "        [ 6.23019102e+00, -2.41899329e+00],\n",
       "        [ 1.44117155e-01,  9.98462335e+00],\n",
       "        [-7.48862763e-02,  8.38726351e+00],\n",
       "        [ 7.83787357e-01,  1.02670397e+01],\n",
       "        [-4.05670227e+00,  5.03325940e+00],\n",
       "        [ 6.68229197e-01,  8.99959501e+00],\n",
       "        [ 9.48126461e-02,  1.05323627e+01],\n",
       "        [-7.34794809e+00,  2.28061037e+00],\n",
       "        [-5.99613894e+00,  1.62719534e+00],\n",
       "        [ 3.29438704e+00, -2.48118915e+00],\n",
       "        [-4.40729663e+00,  3.09586092e+00],\n",
       "        [-5.45535131e+00,  2.84680150e+00],\n",
       "        [ 7.45997513e+00, -3.92694304e+00],\n",
       "        [ 5.20810227e+00, -4.91612275e+00],\n",
       "        [ 4.36197274e+00, -5.61365933e+00]]),\n",
       " array([0, 0, 1, 2, 2, 0, 2, 1, 2, 1, 1, 0, 1, 2, 2, 0, 1, 2, 0, 1, 0, 1,\n",
       "        2, 1, 0, 1, 0, 2, 2, 0, 2, 0, 0, 0, 1, 0, 0, 2, 1, 2, 1, 0, 2, 1,\n",
       "        0, 0, 0, 1, 1, 1, 1, 0, 2, 0, 1, 2, 1, 2, 1, 2, 1, 0, 0, 1, 2, 0,\n",
       "        2, 2, 2, 1, 2, 1, 1, 0, 0, 2, 0, 0, 2, 2, 2, 2, 1, 1, 0, 1, 0, 0,\n",
       "        0, 2, 0, 0, 2, 2, 1, 2, 2, 1, 1, 1]))"
      ]
     },
     "execution_count": 6,
     "metadata": {},
     "output_type": "execute_result"
    }
   ],
   "source": [
    "X, y = make_blobs(random_state=23)\n",
    "X, y"
   ]
  },
  {
   "cell_type": "code",
   "execution_count": 7,
   "metadata": {},
   "outputs": [
    {
     "data": {
      "text/plain": [
       "<matplotlib.collections.PathCollection at 0x2336c1c7b00>"
      ]
     },
     "execution_count": 7,
     "metadata": {},
     "output_type": "execute_result"
    },
    {
     "data": {
      "image/png": "[encoded data removed]",
      "text/plain": [
       "<Figure size 432x288 with 1 Axes>"
      ]
     },
     "metadata": {},
     "output_type": "display_data"
    }
   ],
   "source": [
    "plt.scatter(X[:, 0], X[:, 1], c=y, s=60, cmap=mg.cm3)"
   ]
  },
  {
   "cell_type": "markdown",
   "metadata": {},
   "source": [
    "Fit the model according to the given training data.\n",
    "\n",
    "    X : {array-like, sparse matrix}, shape = [n_samples, n_features]\n",
    "\n",
    "        Training vector, where n_samples in the number of samples and n_features is the number of features.\n",
    "\n",
    "    y : array-like, shape = [n_samples]\n",
    "\n",
    "        Target vector relative to X\n",
    "\n",
    "    sample_weight : array-like, shape = [n_samples], optional\n",
    "\n",
    "        Array of weights that are assigned to individual samples. If not provided, then each sample is given unit weight."
   ]
  },
  {
   "cell_type": "code",
   "execution_count": 8,
   "metadata": {},
   "outputs": [
    {
     "data": {
      "text/plain": [
       "LinearSVC(C=1.0, class_weight=None, dual=True, fit_intercept=True,\n",
       "     intercept_scaling=1, loss='squared_hinge', max_iter=1000,\n",
       "     multi_class='ovr', penalty='l2', random_state=None, tol=0.0001,\n",
       "     verbose=0)"
      ]
     },
     "execution_count": 8,
     "metadata": {},
     "output_type": "execute_result"
    }
   ],
   "source": [
    "# train a LinearSVC classifier on the dataset\n",
    "\n",
    "linear_svm = LinearSVC().fit(X, y)\n",
    "linear_svm"
   ]
  },
  {
   "cell_type": "code",
   "execution_count": 9,
   "metadata": {},
   "outputs": [
    {
     "data": {
      "text/plain": [
       "((3, 2), (3,))"
      ]
     },
     "execution_count": 9,
     "metadata": {},
     "output_type": "execute_result"
    }
   ],
   "source": [
    "linear_svm.coef_.shape, linear_svm.intercept_.shape"
   ]
  },
  {
   "cell_type": "markdown",
   "metadata": {},
   "source": [
    "The shape of the coef_ is (3, 2), meaning that each row of coef_ contains the coefficient vector for one of the three classes. Each row has two entries, corresponding to the two features in the dataset.\n",
    "\n",
    "The intercept_ is now a one-dimensional array, storing the intercepts for each class."
   ]
  },
  {
   "cell_type": "code",
   "execution_count": 10,
   "metadata": {},
   "outputs": [
    {
     "data": {
      "text/plain": [
       "(array([[ 0.22352455,  0.31499286],\n",
       "        [ 0.16658977, -0.15196926],\n",
       "        [-0.55617144, -0.20559462]]),\n",
       " array([-1.37614552,  0.04840742, -0.24950155]))"
      ]
     },
     "execution_count": 10,
     "metadata": {},
     "output_type": "execute_result"
    }
   ],
   "source": [
    "linear_svm.coef_, linear_svm.intercept_"
   ]
  },
  {
   "cell_type": "markdown",
   "metadata": {},
   "source": [
    "Visualizing the lines given by the three binary classifiers"
   ]
  },
  {
   "cell_type": "code",
   "execution_count": 11,
   "metadata": {},
   "outputs": [
    {
     "data": {
      "text/plain": [
       "(-10, 8)"
      ]
     },
     "execution_count": 11,
     "metadata": {},
     "output_type": "execute_result"
    },
    {
     "data": {
      "image/png": "[encoded data removed]",
      "text/plain": [
       "<Figure size 432x288 with 1 Axes>"
      ]
     },
     "metadata": {},
     "output_type": "display_data"
    }
   ],
   "source": [
    "plt.scatter(X[:, 0], X[:, 1], c=y, s=60, cmap=mg.cm3)\n",
    "line = np.linspace(-15, 15)\n",
    "for coef, intercept in zip(linear_svm.coef_, linear_svm.intercept_):\n",
    "    plt.plot(line, -(line * coef[0] + intercept) / coef[1])\n",
    "plt.ylim(-10, 15)\n",
    "plt.xlim(-10, 8)"
   ]
  },
  {
   "cell_type": "markdown",
   "metadata": {},
   "source": [
    "The orange line shows the decision boundary for the binary classifier for the red class.\n",
    "\n",
    "The green line shows the decision boundary for the binary classifier for the green class.\n",
    "\n",
    "The blue line shows the decision boundary for the binary classifier for the blue class.\n",
    "\n",
    "You can see that all the red points in the training data are below the orange line, which means they are on the “red” side of this binary classifier. The red points are left of the green line, which means they are classified as “rest” by the binary classifier for the green class. The red points are below the blue line, which means the binary classifier for the blue class also classifies them as “rest”. Therefore, any point in this area will be classified as red by the final classifier (Formula of the red classifier is greater than zero, while it is smaller than zero for the other two classes).\n",
    "\n",
    "Formula: classification confidence <br/>\n",
    "w[0] x[0] + w[1] x[1] + \\dotsc + w[p] * x[p] + b\n"
   ]
  },
  {
   "cell_type": "markdown",
   "metadata": {},
   "source": [
    "And the triangle in the middle of the plot - All three binary classifiers classify points there as “rest”. Which class would a point there be assigned to?\n",
    "\n",
    "The answer is the one with the highest value in Formula, i.e., the class of the closest line."
   ]
  },
  {
   "cell_type": "code",
   "execution_count": 12,
   "metadata": {},
   "outputs": [
    {
     "data": {
      "image/png": "[encoded data removed]",
      "text/plain": [
       "<Figure size 432x288 with 1 Axes>"
      ]
     },
     "metadata": {},
     "output_type": "display_data"
    }
   ],
   "source": [
    "mg.plots.plot_2d_classification(linear_svm, X, fill=True, alpha=.7)\n",
    "plt.scatter(X[:, 0], X[:, 1], c=y, s=60)\n",
    "line = np.linspace(-15, 15)\n",
    "for coef, intercept in zip(linear_svm.coef_, linear_svm.intercept_):\n",
    "    plt.plot(line, -(line * coef[0] + intercept) / coef[1])"
   ]
  },
  {
   "cell_type": "markdown",
   "metadata": {},
   "source": [
    "### References\n",
    "\n",
    "1. Introduction to Machine Learning with Python by Andreas C. Mueller and Sarah Guido"
   ]
  }
 ],
 "metadata": {
  "kernelspec": {
   "display_name": "Python 3",
   "language": "python",
   "name": "python3"
  },
  "language_info": {
   "codemirror_mode": {
    "name": "ipython",
    "version": 3
   },
   "file_extension": ".py",
   "mimetype": "text/x-python",
   "name": "python",
   "nbconvert_exporter": "python",
   "pygments_lexer": "ipython3",
   "version": "3.6.4"
  }
 },
 "nbformat": 4,
 "nbformat_minor": 2
}
