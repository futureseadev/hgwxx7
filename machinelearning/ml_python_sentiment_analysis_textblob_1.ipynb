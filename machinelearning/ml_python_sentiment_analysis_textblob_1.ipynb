{
 "cells": [
  {
   "cell_type": "markdown",
   "metadata": {},
   "source": [
    "# Sentiment Analysis"
   ]
  },
  {
   "cell_type": "markdown",
   "metadata": {},
   "source": [
    "### textblob | nltk"
   ]
  },
  {
   "cell_type": "code",
   "execution_count": 1,
   "metadata": {},
   "outputs": [],
   "source": [
    "# load libraries\n",
    "from textblob import TextBlob"
   ]
  },
  {
   "cell_type": "code",
   "execution_count": 2,
   "metadata": {},
   "outputs": [],
   "source": [
    "message = '''Your problem is ill defined. What constitutes an anomaly can have a lot of different meanings. Is it deviation of the mean? Is it certain patterns of behaviour?'''"
   ]
  },
  {
   "cell_type": "code",
   "execution_count": 3,
   "metadata": {},
   "outputs": [
    {
     "data": {
      "text/plain": [
       "'Your problem is ill defined. What constitutes an anomaly can have a lot of different meanings. Is it deviation of the mean? Is it certain patterns of behaviour?'"
      ]
     },
     "execution_count": 3,
     "metadata": {},
     "output_type": "execute_result"
    }
   ],
   "source": [
    "message"
   ]
  },
  {
   "cell_type": "code",
   "execution_count": 4,
   "metadata": {},
   "outputs": [
    {
     "data": {
      "text/plain": [
       "TextBlob(\"Your problem is ill defined. What constitutes an anomaly can have a lot of different meanings. Is it deviation of the mean? Is it certain patterns of behaviour?\")"
      ]
     },
     "execution_count": 4,
     "metadata": {},
     "output_type": "execute_result"
    }
   ],
   "source": [
    "blob = TextBlob(message)\n",
    "blob"
   ]
  },
  {
   "cell_type": "code",
   "execution_count": 5,
   "metadata": {},
   "outputs": [
    {
     "data": {
      "text/plain": [
       "defaultdict(int, {'your': 1, 'different meanings': 1, 'certain patterns': 1})"
      ]
     },
     "execution_count": 5,
     "metadata": {},
     "output_type": "execute_result"
    }
   ],
   "source": [
    "blob.np_counts"
   ]
  },
  {
   "cell_type": "code",
   "execution_count": 6,
   "metadata": {},
   "outputs": [
    {
     "data": {
      "text/plain": [
       "WordList(['Your', 'problem', 'is', 'ill', 'defined', '.', 'What', 'constitutes', 'an', 'anomaly', 'can', 'have', 'a', 'lot', 'of', 'different', 'meanings', '.', 'Is', 'it', 'deviation', 'of', 'the', 'mean', '?', 'Is', 'it', 'certain', 'patterns', 'of', 'behaviour', '?'])"
      ]
     },
     "execution_count": 6,
     "metadata": {},
     "output_type": "execute_result"
    }
   ],
   "source": [
    "blob.tokens"
   ]
  },
  {
   "cell_type": "code",
   "execution_count": 7,
   "metadata": {},
   "outputs": [
    {
     "data": {
      "text/plain": [
       "[WordList(['Your', 'problem', 'is', 'ill']),\n",
       " WordList(['problem', 'is', 'ill', 'defined']),\n",
       " WordList(['is', 'ill', 'defined', 'What']),\n",
       " WordList(['ill', 'defined', 'What', 'constitutes']),\n",
       " WordList(['defined', 'What', 'constitutes', 'an']),\n",
       " WordList(['What', 'constitutes', 'an', 'anomaly']),\n",
       " WordList(['constitutes', 'an', 'anomaly', 'can']),\n",
       " WordList(['an', 'anomaly', 'can', 'have']),\n",
       " WordList(['anomaly', 'can', 'have', 'a']),\n",
       " WordList(['can', 'have', 'a', 'lot']),\n",
       " WordList(['have', 'a', 'lot', 'of']),\n",
       " WordList(['a', 'lot', 'of', 'different']),\n",
       " WordList(['lot', 'of', 'different', 'meanings']),\n",
       " WordList(['of', 'different', 'meanings', 'Is']),\n",
       " WordList(['different', 'meanings', 'Is', 'it']),\n",
       " WordList(['meanings', 'Is', 'it', 'deviation']),\n",
       " WordList(['Is', 'it', 'deviation', 'of']),\n",
       " WordList(['it', 'deviation', 'of', 'the']),\n",
       " WordList(['deviation', 'of', 'the', 'mean']),\n",
       " WordList(['of', 'the', 'mean', 'Is']),\n",
       " WordList(['the', 'mean', 'Is', 'it']),\n",
       " WordList(['mean', 'Is', 'it', 'certain']),\n",
       " WordList(['Is', 'it', 'certain', 'patterns']),\n",
       " WordList(['it', 'certain', 'patterns', 'of']),\n",
       " WordList(['certain', 'patterns', 'of', 'behaviour'])]"
      ]
     },
     "execution_count": 7,
     "metadata": {},
     "output_type": "execute_result"
    }
   ],
   "source": [
    "blob.ngrams(n=4)"
   ]
  },
  {
   "cell_type": "code",
   "execution_count": 8,
   "metadata": {},
   "outputs": [
    {
     "data": {
      "text/plain": [
       "WordList(['Your', 'problem', 'is', 'ill', 'defined', 'What', 'constitutes', 'an', 'anomaly', 'can', 'have', 'a', 'lot', 'of', 'different', 'meanings', 'Is', 'it', 'deviation', 'of', 'the', 'mean', 'Is', 'it', 'certain', 'patterns', 'of', 'behaviour'])"
      ]
     },
     "execution_count": 8,
     "metadata": {},
     "output_type": "execute_result"
    }
   ],
   "source": [
    "blob.words"
   ]
  },
  {
   "cell_type": "code",
   "execution_count": 9,
   "metadata": {},
   "outputs": [
    {
     "data": {
      "text/plain": [
       "defaultdict(int,\n",
       "            {'your': 1,\n",
       "             'problem': 1,\n",
       "             'is': 3,\n",
       "             'ill': 1,\n",
       "             'defined': 1,\n",
       "             'what': 1,\n",
       "             'constitutes': 1,\n",
       "             'an': 1,\n",
       "             'anomaly': 1,\n",
       "             'can': 1,\n",
       "             'have': 1,\n",
       "             'a': 1,\n",
       "             'lot': 1,\n",
       "             'of': 3,\n",
       "             'different': 1,\n",
       "             'meanings': 1,\n",
       "             'it': 2,\n",
       "             'deviation': 1,\n",
       "             'the': 1,\n",
       "             'mean': 1,\n",
       "             'certain': 1,\n",
       "             'patterns': 1,\n",
       "             'behaviour': 1})"
      ]
     },
     "execution_count": 9,
     "metadata": {},
     "output_type": "execute_result"
    }
   ],
   "source": [
    "blob.word_counts"
   ]
  },
  {
   "cell_type": "code",
   "execution_count": 10,
   "metadata": {},
   "outputs": [
    {
     "data": {
      "text/plain": [
       "[('Your', 'PRP$'),\n",
       " ('problem', 'NN'),\n",
       " ('is', 'VBZ'),\n",
       " ('ill', 'JJ'),\n",
       " ('defined', 'VBN'),\n",
       " ('What', 'WP'),\n",
       " ('constitutes', 'VBZ'),\n",
       " ('an', 'DT'),\n",
       " ('anomaly', 'NN'),\n",
       " ('can', 'MD'),\n",
       " ('have', 'VB'),\n",
       " ('a', 'DT'),\n",
       " ('lot', 'NN'),\n",
       " ('of', 'IN'),\n",
       " ('different', 'JJ'),\n",
       " ('meanings', 'NNS'),\n",
       " ('Is', 'VBZ'),\n",
       " ('it', 'PRP'),\n",
       " ('deviation', 'NN'),\n",
       " ('of', 'IN'),\n",
       " ('the', 'DT'),\n",
       " ('mean', 'NN'),\n",
       " ('Is', 'VBZ'),\n",
       " ('it', 'PRP'),\n",
       " ('certain', 'JJ'),\n",
       " ('patterns', 'NNS'),\n",
       " ('of', 'IN'),\n",
       " ('behaviour', 'NN')]"
      ]
     },
     "execution_count": 10,
     "metadata": {},
     "output_type": "execute_result"
    }
   ],
   "source": [
    "blob.tags"
   ]
  },
  {
   "cell_type": "code",
   "execution_count": 11,
   "metadata": {},
   "outputs": [
    {
     "data": {
      "text/plain": [
       "WordList(['your', 'different meanings', 'certain patterns'])"
      ]
     },
     "execution_count": 11,
     "metadata": {},
     "output_type": "execute_result"
    }
   ],
   "source": [
    "blob.noun_phrases"
   ]
  },
  {
   "cell_type": "code",
   "execution_count": 12,
   "metadata": {},
   "outputs": [
    {
     "name": "stdout",
     "output_type": "stream",
     "text": [
      "Your problem is ill defined. -0.5\n",
      "What constitutes an anomaly can have a lot of different meanings. 0.0\n",
      "Is it deviation of the mean? -0.3125\n",
      "Is it certain patterns of behaviour? 0.21428571428571427\n"
     ]
    }
   ],
   "source": [
    "for sentence in blob.sentences:\n",
    "    print(sentence, sentence.sentiment.polarity)"
   ]
  },
  {
   "cell_type": "code",
   "execution_count": 13,
   "metadata": {},
   "outputs": [
    {
     "data": {
      "text/plain": [
       "TextBlob(\"Tu problema está mal definido. Lo que constituye una anomalía puede tener muchos significados diferentes. ¿Es desviación de la media? ¿Son ciertos patrones de comportamiento?\")"
      ]
     },
     "execution_count": 13,
     "metadata": {},
     "output_type": "execute_result"
    }
   ],
   "source": [
    "blob.translate(to=\"es\")"
   ]
  },
  {
   "cell_type": "code",
   "execution_count": 14,
   "metadata": {},
   "outputs": [
    {
     "data": {
      "text/plain": [
       "\"You are wonderful to be with! I'd rather die than live with you. You should have a seat reserved in heaven!\""
      ]
     },
     "execution_count": 14,
     "metadata": {},
     "output_type": "execute_result"
    }
   ],
   "source": [
    "message = '''You are wonderful to be with! I'd rather die than live with you. You should have a seat reserved in heaven!'''\n",
    "message"
   ]
  },
  {
   "cell_type": "code",
   "execution_count": 15,
   "metadata": {},
   "outputs": [
    {
     "data": {
      "text/plain": [
       "TextBlob(\"You are wonderful to be with! I'd rather die than live with you. You should have a seat reserved in heaven!\")"
      ]
     },
     "execution_count": 15,
     "metadata": {},
     "output_type": "execute_result"
    }
   ],
   "source": [
    "blob = TextBlob(message)\n",
    "blob"
   ]
  },
  {
   "cell_type": "code",
   "execution_count": 16,
   "metadata": {},
   "outputs": [
    {
     "name": "stdout",
     "output_type": "stream",
     "text": [
      "You are wonderful to be with! 1.0\n",
      "I'd rather die than live with you. 0.13636363636363635\n",
      "You should have a seat reserved in heaven! 0.0\n"
     ]
    }
   ],
   "source": [
    "for sentence in blob.sentences:\n",
    "    print(sentence, sentence.sentiment.polarity)"
   ]
  },
  {
   "cell_type": "code",
   "execution_count": null,
   "metadata": {},
   "outputs": [],
   "source": []
  }
 ],
 "metadata": {
  "kernelspec": {
   "display_name": "Python 3",
   "language": "python",
   "name": "python3"
  },
  "language_info": {
   "codemirror_mode": {
    "name": "ipython",
    "version": 3
   },
   "file_extension": ".py",
   "mimetype": "text/x-python",
   "name": "python",
   "nbconvert_exporter": "python",
   "pygments_lexer": "ipython3",
   "version": "3.6.3"
  }
 },
 "nbformat": 4,
 "nbformat_minor": 2
}
