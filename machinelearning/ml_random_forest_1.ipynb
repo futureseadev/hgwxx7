{
 "cells": [
  {
   "cell_type": "markdown",
   "metadata": {},
   "source": [
    "# Random Forests"
   ]
  },
  {
   "cell_type": "markdown",
   "metadata": {},
   "source": [
    "Decision trees are predictive models that allow for a data driven exploration of nonlinear relationships and interactions among many explanatory variables in predicting a response or target variable. When the response variable is categorical (two levels), the model is a called a classification tree. Explanatory variables can be either quantitative, categorical or both. Decision trees create segmentations or subgroups in the data, by applying a series of simple rules or criteria over and over again which choose variable constellations that best predict the response (i.e. target) variable. <br/><br/>\n",
    "\n",
    "The decision tree method that we worked with during the previous session represents a powerful approach for moving beyond the consideration of linear relationships among variables into a context of prediction based on exploring how many variables can predict a particular target or response.  <br/><br/>\n",
    "\n",
    "As we have seen, an advantage of decision trees is that they're easy to interpret and visualize and can potentially uncover patterns in our data that can not be easily identified through traditional regression methods.  <br/><br/>\n",
    "\n",
    "However, we've also shown that small changes in the data can lead to different results. And we've explained, that while easy to interpret, decision trees are not very reproducible on future data. Often making them less useful, as reliable prediction models, and more suitable for exploratory data analysis and interpretation. In this session, we'll review a related machine learning method, known as Random Forests. This data mining algorithm is based on decision trees, but proceeds by growing many trees, that is a decision tree forest. In ways, directly address the problem of model reproducability.  <br/><br/>\n",
    "\n",
    "Like decision trees, Random Forests allow us to make binary splits in our data that creates segmentations or sub groups. By applying a series of simple rules or criteria over and over again, which choose variables that best predict our target variable. While decision trees proceed by searching for a split on every variable in every node, Random Forests searches for a split on only one variable in a node. The variable that has the largest association with the Target among candidate explanatory variables but only among those explanatory variables that have been randomly selected to be tested for that node. That is, First, a small subset of explanatory variables is selected at random. Next the node is split with the BEST variable among the small number of randomly selected variables. Not the best variable of all the variables, as is true when we are interested in creating only single decision tree. Once the best variable from the eligible random subset of variables is used to split the node in question. A new list of eligible explanatory variables is selected on random to split on the next node. This continues until the tree is fully grown, and Ideally there is one observation in each terminal mode. Uniquely explained by all of the decisions that came before it. With a large number of explanatory variables, the Eligible variables set will be quite different from node to node. However, Important variables will eventually make it into the tree. And Their relative success in predicting the target variable will begin to get them larger and larger numbers of \"votes\" in their favor. The growing of each tree in a random forest is not only based on subsets of explanatory variables at each node. But also based on A random subset of the sample for each tree in the forest. This process of selecting a random sample of observations is known as Bagging.  <br/><br/>\n",
    "\n",
    "Importantly, each tree is growing on a different randomly selected sample of Bagged data with the remaining Out of Bag data available to test the accuracy of each tree. For each tree, the Bagging Process selects about 60% of the original sample, while the resulting tree is tested against the remaining 40% of the sample. Thus, the randomly selected bag data and out of bag data, will be a different 60% and 40% of observations for each tree. Finally, before we start to grow our first random forest, I want to mention the most important thing to know when interrupting the results of random forests is that the trees generated are not themselves interpreted. Instead, They are used to collectively rank the importance of variables in predicting our target of interest."
   ]
  },
  {
   "cell_type": "code",
   "execution_count": 1,
   "metadata": {},
   "outputs": [
    {
     "name": "stderr",
     "output_type": "stream",
     "text": [
      "E:\\Python\\Anaconda\\lib\\site-packages\\sklearn\\cross_validation.py:41: DeprecationWarning: This module was deprecated in version 0.18 in favor of the model_selection module into which all the refactored classes and functions are moved. Also note that the interface of the new CV iterators are different from that of this module. This module will be removed in 0.20.\n",
      "  \"This module will be removed in 0.20.\", DeprecationWarning)\n"
     ]
    }
   ],
   "source": [
    "from pandas import Series, DataFrame\n",
    "import pandas as pd\n",
    "import numpy as np\n",
    "import os\n",
    "import matplotlib.pylab as plt\n",
    "from sklearn.cross_validation import train_test_split\n",
    "from sklearn.ensemble import RandomForestClassifier\n",
    "from sklearn.ensemble import ExtraTreesClassifier\n",
    "from sklearn.metrics import classification_report\n",
    "import sklearn.metrics\n",
    "from sklearn import datasets"
   ]
  },
  {
   "cell_type": "code",
   "execution_count": 2,
   "metadata": {},
   "outputs": [
    {
     "data": {
      "text/plain": [
       "'C:\\\\Users\\\\praveen\\\\DS_Notebooks\\\\coursera\\\\machine-learning-data-analysis'"
      ]
     },
     "execution_count": 2,
     "metadata": {},
     "output_type": "execute_result"
    }
   ],
   "source": [
    "os.getcwd()"
   ]
  },
  {
   "cell_type": "markdown",
   "metadata": {},
   "source": [
    "# Data Engineering and Analysis"
   ]
  },
  {
   "cell_type": "code",
   "execution_count": 3,
   "metadata": {},
   "outputs": [],
   "source": [
    "data = pd.read_csv(\"tree_addhealth.csv\")"
   ]
  },
  {
   "cell_type": "code",
   "execution_count": 4,
   "metadata": {},
   "outputs": [
    {
     "name": "stdout",
     "output_type": "stream",
     "text": [
      "<class 'pandas.core.frame.DataFrame'>\n",
      "RangeIndex: 6504 entries, 0 to 6503\n",
      "Data columns (total 25 columns):\n",
      "BIO_SEX      6503 non-null float64\n",
      "HISPANIC     6481 non-null float64\n",
      "WHITE        6485 non-null float64\n",
      "BLACK        6485 non-null float64\n",
      "NAMERICAN    6485 non-null float64\n",
      "ASIAN        6485 non-null float64\n",
      "age          4837 non-null float64\n",
      "TREG1        6500 non-null float64\n",
      "ALCEVR1      6444 non-null float64\n",
      "ALCPROBS1    6504 non-null int64\n",
      "marever1     6504 non-null int64\n",
      "cocever1     6504 non-null int64\n",
      "inhever1     6504 non-null int64\n",
      "cigavail     6444 non-null float64\n",
      "DEP1         6486 non-null float64\n",
      "ESTEEM1      6483 non-null float64\n",
      "VIOL1        6454 non-null float64\n",
      "PASSIST      6504 non-null int64\n",
      "DEVIANT1     6448 non-null float64\n",
      "SCHCONN1     6368 non-null float64\n",
      "GPA1         6274 non-null float64\n",
      "EXPEL1       6486 non-null float64\n",
      "FAMCONCT     6504 non-null float64\n",
      "PARACTV      6477 non-null float64\n",
      "PARPRES      6369 non-null float64\n",
      "dtypes: float64(20), int64(5)\n",
      "memory usage: 1.2 MB\n"
     ]
    }
   ],
   "source": [
    "data.info()"
   ]
  },
  {
   "cell_type": "code",
   "execution_count": 5,
   "metadata": {},
   "outputs": [],
   "source": [
    "data_clean = data.dropna()"
   ]
  },
  {
   "cell_type": "code",
   "execution_count": 6,
   "metadata": {},
   "outputs": [
    {
     "name": "stdout",
     "output_type": "stream",
     "text": [
      "<class 'pandas.core.frame.DataFrame'>\n",
      "Int64Index: 4575 entries, 1 to 6502\n",
      "Data columns (total 25 columns):\n",
      "BIO_SEX      4575 non-null float64\n",
      "HISPANIC     4575 non-null float64\n",
      "WHITE        4575 non-null float64\n",
      "BLACK        4575 non-null float64\n",
      "NAMERICAN    4575 non-null float64\n",
      "ASIAN        4575 non-null float64\n",
      "age          4575 non-null float64\n",
      "TREG1        4575 non-null float64\n",
      "ALCEVR1      4575 non-null float64\n",
      "ALCPROBS1    4575 non-null int64\n",
      "marever1     4575 non-null int64\n",
      "cocever1     4575 non-null int64\n",
      "inhever1     4575 non-null int64\n",
      "cigavail     4575 non-null float64\n",
      "DEP1         4575 non-null float64\n",
      "ESTEEM1      4575 non-null float64\n",
      "VIOL1        4575 non-null float64\n",
      "PASSIST      4575 non-null int64\n",
      "DEVIANT1     4575 non-null float64\n",
      "SCHCONN1     4575 non-null float64\n",
      "GPA1         4575 non-null float64\n",
      "EXPEL1       4575 non-null float64\n",
      "FAMCONCT     4575 non-null float64\n",
      "PARACTV      4575 non-null float64\n",
      "PARPRES      4575 non-null float64\n",
      "dtypes: float64(20), int64(5)\n",
      "memory usage: 929.3 KB\n"
     ]
    }
   ],
   "source": [
    "data_clean.info()"
   ]
  },
  {
   "cell_type": "code",
   "execution_count": 7,
   "metadata": {},
   "outputs": [
    {
     "data": {
      "text/plain": [
       "BIO_SEX      float64\n",
       "HISPANIC     float64\n",
       "WHITE        float64\n",
       "BLACK        float64\n",
       "NAMERICAN    float64\n",
       "ASIAN        float64\n",
       "age          float64\n",
       "TREG1        float64\n",
       "ALCEVR1      float64\n",
       "ALCPROBS1      int64\n",
       "marever1       int64\n",
       "cocever1       int64\n",
       "inhever1       int64\n",
       "cigavail     float64\n",
       "DEP1         float64\n",
       "ESTEEM1      float64\n",
       "VIOL1        float64\n",
       "PASSIST        int64\n",
       "DEVIANT1     float64\n",
       "SCHCONN1     float64\n",
       "GPA1         float64\n",
       "EXPEL1       float64\n",
       "FAMCONCT     float64\n",
       "PARACTV      float64\n",
       "PARPRES      float64\n",
       "dtype: object"
      ]
     },
     "execution_count": 7,
     "metadata": {},
     "output_type": "execute_result"
    }
   ],
   "source": [
    "data_clean.dtypes"
   ]
  },
  {
   "cell_type": "code",
   "execution_count": 8,
   "metadata": {},
   "outputs": [
    {
     "data": {
      "text/html": [
       "<div>\n",
       "<style scoped>\n",
       "    .dataframe tbody tr th:only-of-type {\n",
       "        vertical-align: middle;\n",
       "    }\n",
       "\n",
       "    .dataframe tbody tr th {\n",
       "        vertical-align: top;\n",
       "    }\n",
       "\n",
       "    .dataframe thead th {\n",
       "        text-align: right;\n",
       "    }\n",
       "</style>\n",
       "<table border=\"1\" class=\"dataframe\">\n",
       "  <thead>\n",
       "    <tr style=\"text-align: right;\">\n",
       "      <th></th>\n",
       "      <th>BIO_SEX</th>\n",
       "      <th>HISPANIC</th>\n",
       "      <th>WHITE</th>\n",
       "      <th>BLACK</th>\n",
       "      <th>NAMERICAN</th>\n",
       "      <th>ASIAN</th>\n",
       "      <th>age</th>\n",
       "      <th>TREG1</th>\n",
       "      <th>ALCEVR1</th>\n",
       "      <th>ALCPROBS1</th>\n",
       "      <th>...</th>\n",
       "      <th>ESTEEM1</th>\n",
       "      <th>VIOL1</th>\n",
       "      <th>PASSIST</th>\n",
       "      <th>DEVIANT1</th>\n",
       "      <th>SCHCONN1</th>\n",
       "      <th>GPA1</th>\n",
       "      <th>EXPEL1</th>\n",
       "      <th>FAMCONCT</th>\n",
       "      <th>PARACTV</th>\n",
       "      <th>PARPRES</th>\n",
       "    </tr>\n",
       "  </thead>\n",
       "  <tbody>\n",
       "    <tr>\n",
       "      <th>count</th>\n",
       "      <td>4575.000000</td>\n",
       "      <td>4575.000000</td>\n",
       "      <td>4575.000000</td>\n",
       "      <td>4575.000000</td>\n",
       "      <td>4575.000000</td>\n",
       "      <td>4575.000000</td>\n",
       "      <td>4575.000000</td>\n",
       "      <td>4575.000000</td>\n",
       "      <td>4575.000000</td>\n",
       "      <td>4575.000000</td>\n",
       "      <td>...</td>\n",
       "      <td>4575.000000</td>\n",
       "      <td>4575.000000</td>\n",
       "      <td>4575.000000</td>\n",
       "      <td>4575.000000</td>\n",
       "      <td>4575.000000</td>\n",
       "      <td>4575.000000</td>\n",
       "      <td>4575.000000</td>\n",
       "      <td>4575.000000</td>\n",
       "      <td>4575.000000</td>\n",
       "      <td>4575.000000</td>\n",
       "    </tr>\n",
       "    <tr>\n",
       "      <th>mean</th>\n",
       "      <td>1.521093</td>\n",
       "      <td>0.111038</td>\n",
       "      <td>0.683279</td>\n",
       "      <td>0.236066</td>\n",
       "      <td>0.036284</td>\n",
       "      <td>0.040437</td>\n",
       "      <td>16.493052</td>\n",
       "      <td>0.176393</td>\n",
       "      <td>0.527432</td>\n",
       "      <td>0.369180</td>\n",
       "      <td>...</td>\n",
       "      <td>40.952131</td>\n",
       "      <td>1.618579</td>\n",
       "      <td>0.102514</td>\n",
       "      <td>2.645027</td>\n",
       "      <td>28.360656</td>\n",
       "      <td>2.815647</td>\n",
       "      <td>0.040219</td>\n",
       "      <td>22.570557</td>\n",
       "      <td>6.290710</td>\n",
       "      <td>13.398033</td>\n",
       "    </tr>\n",
       "    <tr>\n",
       "      <th>std</th>\n",
       "      <td>0.499609</td>\n",
       "      <td>0.314214</td>\n",
       "      <td>0.465249</td>\n",
       "      <td>0.424709</td>\n",
       "      <td>0.187017</td>\n",
       "      <td>0.197004</td>\n",
       "      <td>1.552174</td>\n",
       "      <td>0.381196</td>\n",
       "      <td>0.499302</td>\n",
       "      <td>0.894947</td>\n",
       "      <td>...</td>\n",
       "      <td>5.381439</td>\n",
       "      <td>2.593230</td>\n",
       "      <td>0.303356</td>\n",
       "      <td>3.520554</td>\n",
       "      <td>5.156385</td>\n",
       "      <td>0.770167</td>\n",
       "      <td>0.196493</td>\n",
       "      <td>2.614754</td>\n",
       "      <td>3.360219</td>\n",
       "      <td>2.085837</td>\n",
       "    </tr>\n",
       "    <tr>\n",
       "      <th>min</th>\n",
       "      <td>1.000000</td>\n",
       "      <td>0.000000</td>\n",
       "      <td>0.000000</td>\n",
       "      <td>0.000000</td>\n",
       "      <td>0.000000</td>\n",
       "      <td>0.000000</td>\n",
       "      <td>12.676712</td>\n",
       "      <td>0.000000</td>\n",
       "      <td>0.000000</td>\n",
       "      <td>0.000000</td>\n",
       "      <td>...</td>\n",
       "      <td>18.000000</td>\n",
       "      <td>0.000000</td>\n",
       "      <td>0.000000</td>\n",
       "      <td>0.000000</td>\n",
       "      <td>6.000000</td>\n",
       "      <td>1.000000</td>\n",
       "      <td>0.000000</td>\n",
       "      <td>6.300000</td>\n",
       "      <td>0.000000</td>\n",
       "      <td>3.000000</td>\n",
       "    </tr>\n",
       "    <tr>\n",
       "      <th>25%</th>\n",
       "      <td>1.000000</td>\n",
       "      <td>0.000000</td>\n",
       "      <td>0.000000</td>\n",
       "      <td>0.000000</td>\n",
       "      <td>0.000000</td>\n",
       "      <td>0.000000</td>\n",
       "      <td>15.254795</td>\n",
       "      <td>0.000000</td>\n",
       "      <td>0.000000</td>\n",
       "      <td>0.000000</td>\n",
       "      <td>...</td>\n",
       "      <td>38.000000</td>\n",
       "      <td>0.000000</td>\n",
       "      <td>0.000000</td>\n",
       "      <td>0.000000</td>\n",
       "      <td>25.000000</td>\n",
       "      <td>2.250000</td>\n",
       "      <td>0.000000</td>\n",
       "      <td>21.700000</td>\n",
       "      <td>4.000000</td>\n",
       "      <td>12.000000</td>\n",
       "    </tr>\n",
       "    <tr>\n",
       "      <th>50%</th>\n",
       "      <td>2.000000</td>\n",
       "      <td>0.000000</td>\n",
       "      <td>1.000000</td>\n",
       "      <td>0.000000</td>\n",
       "      <td>0.000000</td>\n",
       "      <td>0.000000</td>\n",
       "      <td>16.509589</td>\n",
       "      <td>0.000000</td>\n",
       "      <td>1.000000</td>\n",
       "      <td>0.000000</td>\n",
       "      <td>...</td>\n",
       "      <td>40.000000</td>\n",
       "      <td>0.000000</td>\n",
       "      <td>0.000000</td>\n",
       "      <td>1.000000</td>\n",
       "      <td>29.000000</td>\n",
       "      <td>2.750000</td>\n",
       "      <td>0.000000</td>\n",
       "      <td>23.700000</td>\n",
       "      <td>6.000000</td>\n",
       "      <td>14.000000</td>\n",
       "    </tr>\n",
       "    <tr>\n",
       "      <th>75%</th>\n",
       "      <td>2.000000</td>\n",
       "      <td>0.000000</td>\n",
       "      <td>1.000000</td>\n",
       "      <td>0.000000</td>\n",
       "      <td>0.000000</td>\n",
       "      <td>0.000000</td>\n",
       "      <td>17.679452</td>\n",
       "      <td>0.000000</td>\n",
       "      <td>1.000000</td>\n",
       "      <td>0.000000</td>\n",
       "      <td>...</td>\n",
       "      <td>45.000000</td>\n",
       "      <td>2.000000</td>\n",
       "      <td>0.000000</td>\n",
       "      <td>4.000000</td>\n",
       "      <td>32.000000</td>\n",
       "      <td>3.500000</td>\n",
       "      <td>0.000000</td>\n",
       "      <td>24.300000</td>\n",
       "      <td>9.000000</td>\n",
       "      <td>15.000000</td>\n",
       "    </tr>\n",
       "    <tr>\n",
       "      <th>max</th>\n",
       "      <td>2.000000</td>\n",
       "      <td>1.000000</td>\n",
       "      <td>1.000000</td>\n",
       "      <td>1.000000</td>\n",
       "      <td>1.000000</td>\n",
       "      <td>1.000000</td>\n",
       "      <td>21.512329</td>\n",
       "      <td>1.000000</td>\n",
       "      <td>1.000000</td>\n",
       "      <td>6.000000</td>\n",
       "      <td>...</td>\n",
       "      <td>50.000000</td>\n",
       "      <td>19.000000</td>\n",
       "      <td>1.000000</td>\n",
       "      <td>27.000000</td>\n",
       "      <td>38.000000</td>\n",
       "      <td>4.000000</td>\n",
       "      <td>1.000000</td>\n",
       "      <td>25.000000</td>\n",
       "      <td>18.000000</td>\n",
       "      <td>15.000000</td>\n",
       "    </tr>\n",
       "  </tbody>\n",
       "</table>\n",
       "<p>8 rows × 25 columns</p>\n",
       "</div>"
      ],
      "text/plain": [
       "           BIO_SEX     HISPANIC        WHITE        BLACK    NAMERICAN  \\\n",
       "count  4575.000000  4575.000000  4575.000000  4575.000000  4575.000000   \n",
       "mean      1.521093     0.111038     0.683279     0.236066     0.036284   \n",
       "std       0.499609     0.314214     0.465249     0.424709     0.187017   \n",
       "min       1.000000     0.000000     0.000000     0.000000     0.000000   \n",
       "25%       1.000000     0.000000     0.000000     0.000000     0.000000   \n",
       "50%       2.000000     0.000000     1.000000     0.000000     0.000000   \n",
       "75%       2.000000     0.000000     1.000000     0.000000     0.000000   \n",
       "max       2.000000     1.000000     1.000000     1.000000     1.000000   \n",
       "\n",
       "             ASIAN          age        TREG1      ALCEVR1    ALCPROBS1  \\\n",
       "count  4575.000000  4575.000000  4575.000000  4575.000000  4575.000000   \n",
       "mean      0.040437    16.493052     0.176393     0.527432     0.369180   \n",
       "std       0.197004     1.552174     0.381196     0.499302     0.894947   \n",
       "min       0.000000    12.676712     0.000000     0.000000     0.000000   \n",
       "25%       0.000000    15.254795     0.000000     0.000000     0.000000   \n",
       "50%       0.000000    16.509589     0.000000     1.000000     0.000000   \n",
       "75%       0.000000    17.679452     0.000000     1.000000     0.000000   \n",
       "max       1.000000    21.512329     1.000000     1.000000     6.000000   \n",
       "\n",
       "          ...           ESTEEM1        VIOL1      PASSIST     DEVIANT1  \\\n",
       "count     ...       4575.000000  4575.000000  4575.000000  4575.000000   \n",
       "mean      ...         40.952131     1.618579     0.102514     2.645027   \n",
       "std       ...          5.381439     2.593230     0.303356     3.520554   \n",
       "min       ...         18.000000     0.000000     0.000000     0.000000   \n",
       "25%       ...         38.000000     0.000000     0.000000     0.000000   \n",
       "50%       ...         40.000000     0.000000     0.000000     1.000000   \n",
       "75%       ...         45.000000     2.000000     0.000000     4.000000   \n",
       "max       ...         50.000000    19.000000     1.000000    27.000000   \n",
       "\n",
       "          SCHCONN1         GPA1       EXPEL1     FAMCONCT      PARACTV  \\\n",
       "count  4575.000000  4575.000000  4575.000000  4575.000000  4575.000000   \n",
       "mean     28.360656     2.815647     0.040219    22.570557     6.290710   \n",
       "std       5.156385     0.770167     0.196493     2.614754     3.360219   \n",
       "min       6.000000     1.000000     0.000000     6.300000     0.000000   \n",
       "25%      25.000000     2.250000     0.000000    21.700000     4.000000   \n",
       "50%      29.000000     2.750000     0.000000    23.700000     6.000000   \n",
       "75%      32.000000     3.500000     0.000000    24.300000     9.000000   \n",
       "max      38.000000     4.000000     1.000000    25.000000    18.000000   \n",
       "\n",
       "           PARPRES  \n",
       "count  4575.000000  \n",
       "mean     13.398033  \n",
       "std       2.085837  \n",
       "min       3.000000  \n",
       "25%      12.000000  \n",
       "50%      14.000000  \n",
       "75%      15.000000  \n",
       "max      15.000000  \n",
       "\n",
       "[8 rows x 25 columns]"
      ]
     },
     "execution_count": 8,
     "metadata": {},
     "output_type": "execute_result"
    }
   ],
   "source": [
    "data_clean.describe()"
   ]
  },
  {
   "cell_type": "markdown",
   "metadata": {},
   "source": [
    "# Modeling and Prediction"
   ]
  },
  {
   "cell_type": "code",
   "execution_count": 9,
   "metadata": {},
   "outputs": [],
   "source": [
    "predictors = data_clean[['BIO_SEX','HISPANIC','WHITE','BLACK','NAMERICAN','ASIAN',\n",
    "'age','ALCEVR1','ALCPROBS1','marever1','cocever1','inhever1','cigavail','DEP1',\n",
    "'ESTEEM1','VIOL1','PASSIST','DEVIANT1','SCHCONN1','GPA1','EXPEL1','FAMCONCT','PARACTV',\n",
    "'PARPRES']]"
   ]
  },
  {
   "cell_type": "code",
   "execution_count": 10,
   "metadata": {},
   "outputs": [
    {
     "data": {
      "text/html": [
       "<div>\n",
       "<style scoped>\n",
       "    .dataframe tbody tr th:only-of-type {\n",
       "        vertical-align: middle;\n",
       "    }\n",
       "\n",
       "    .dataframe tbody tr th {\n",
       "        vertical-align: top;\n",
       "    }\n",
       "\n",
       "    .dataframe thead th {\n",
       "        text-align: right;\n",
       "    }\n",
       "</style>\n",
       "<table border=\"1\" class=\"dataframe\">\n",
       "  <thead>\n",
       "    <tr style=\"text-align: right;\">\n",
       "      <th></th>\n",
       "      <th>BIO_SEX</th>\n",
       "      <th>HISPANIC</th>\n",
       "      <th>WHITE</th>\n",
       "      <th>BLACK</th>\n",
       "      <th>NAMERICAN</th>\n",
       "      <th>ASIAN</th>\n",
       "      <th>age</th>\n",
       "      <th>ALCEVR1</th>\n",
       "      <th>ALCPROBS1</th>\n",
       "      <th>marever1</th>\n",
       "      <th>...</th>\n",
       "      <th>ESTEEM1</th>\n",
       "      <th>VIOL1</th>\n",
       "      <th>PASSIST</th>\n",
       "      <th>DEVIANT1</th>\n",
       "      <th>SCHCONN1</th>\n",
       "      <th>GPA1</th>\n",
       "      <th>EXPEL1</th>\n",
       "      <th>FAMCONCT</th>\n",
       "      <th>PARACTV</th>\n",
       "      <th>PARPRES</th>\n",
       "    </tr>\n",
       "  </thead>\n",
       "  <tbody>\n",
       "    <tr>\n",
       "      <th>1</th>\n",
       "      <td>2.0</td>\n",
       "      <td>0.0</td>\n",
       "      <td>0.0</td>\n",
       "      <td>1.0</td>\n",
       "      <td>0.0</td>\n",
       "      <td>0.0</td>\n",
       "      <td>19.427397</td>\n",
       "      <td>1.0</td>\n",
       "      <td>1</td>\n",
       "      <td>0</td>\n",
       "      <td>...</td>\n",
       "      <td>35.0</td>\n",
       "      <td>1.0</td>\n",
       "      <td>0</td>\n",
       "      <td>5.0</td>\n",
       "      <td>22.0</td>\n",
       "      <td>2.333333</td>\n",
       "      <td>0.0</td>\n",
       "      <td>23.3</td>\n",
       "      <td>9.0</td>\n",
       "      <td>15.0</td>\n",
       "    </tr>\n",
       "    <tr>\n",
       "      <th>3</th>\n",
       "      <td>1.0</td>\n",
       "      <td>0.0</td>\n",
       "      <td>0.0</td>\n",
       "      <td>1.0</td>\n",
       "      <td>0.0</td>\n",
       "      <td>0.0</td>\n",
       "      <td>20.430137</td>\n",
       "      <td>0.0</td>\n",
       "      <td>0</td>\n",
       "      <td>1</td>\n",
       "      <td>...</td>\n",
       "      <td>47.0</td>\n",
       "      <td>4.0</td>\n",
       "      <td>1</td>\n",
       "      <td>4.0</td>\n",
       "      <td>19.0</td>\n",
       "      <td>2.000000</td>\n",
       "      <td>0.0</td>\n",
       "      <td>18.7</td>\n",
       "      <td>6.0</td>\n",
       "      <td>14.0</td>\n",
       "    </tr>\n",
       "    <tr>\n",
       "      <th>5</th>\n",
       "      <td>1.0</td>\n",
       "      <td>0.0</td>\n",
       "      <td>0.0</td>\n",
       "      <td>1.0</td>\n",
       "      <td>0.0</td>\n",
       "      <td>0.0</td>\n",
       "      <td>14.509589</td>\n",
       "      <td>0.0</td>\n",
       "      <td>0</td>\n",
       "      <td>0</td>\n",
       "      <td>...</td>\n",
       "      <td>41.0</td>\n",
       "      <td>3.0</td>\n",
       "      <td>0</td>\n",
       "      <td>0.0</td>\n",
       "      <td>27.0</td>\n",
       "      <td>2.666667</td>\n",
       "      <td>0.0</td>\n",
       "      <td>23.7</td>\n",
       "      <td>3.0</td>\n",
       "      <td>13.0</td>\n",
       "    </tr>\n",
       "    <tr>\n",
       "      <th>6</th>\n",
       "      <td>1.0</td>\n",
       "      <td>0.0</td>\n",
       "      <td>0.0</td>\n",
       "      <td>1.0</td>\n",
       "      <td>0.0</td>\n",
       "      <td>0.0</td>\n",
       "      <td>13.676712</td>\n",
       "      <td>0.0</td>\n",
       "      <td>0</td>\n",
       "      <td>0</td>\n",
       "      <td>...</td>\n",
       "      <td>42.0</td>\n",
       "      <td>5.0</td>\n",
       "      <td>0</td>\n",
       "      <td>7.0</td>\n",
       "      <td>18.0</td>\n",
       "      <td>2.500000</td>\n",
       "      <td>0.0</td>\n",
       "      <td>24.7</td>\n",
       "      <td>6.0</td>\n",
       "      <td>13.0</td>\n",
       "    </tr>\n",
       "    <tr>\n",
       "      <th>7</th>\n",
       "      <td>1.0</td>\n",
       "      <td>0.0</td>\n",
       "      <td>1.0</td>\n",
       "      <td>0.0</td>\n",
       "      <td>0.0</td>\n",
       "      <td>0.0</td>\n",
       "      <td>15.178082</td>\n",
       "      <td>1.0</td>\n",
       "      <td>0</td>\n",
       "      <td>1</td>\n",
       "      <td>...</td>\n",
       "      <td>40.0</td>\n",
       "      <td>8.0</td>\n",
       "      <td>1</td>\n",
       "      <td>6.0</td>\n",
       "      <td>20.0</td>\n",
       "      <td>1.500000</td>\n",
       "      <td>0.0</td>\n",
       "      <td>22.3</td>\n",
       "      <td>10.0</td>\n",
       "      <td>14.0</td>\n",
       "    </tr>\n",
       "  </tbody>\n",
       "</table>\n",
       "<p>5 rows × 24 columns</p>\n",
       "</div>"
      ],
      "text/plain": [
       "   BIO_SEX  HISPANIC  WHITE  BLACK  NAMERICAN  ASIAN        age  ALCEVR1  \\\n",
       "1      2.0       0.0    0.0    1.0        0.0    0.0  19.427397      1.0   \n",
       "3      1.0       0.0    0.0    1.0        0.0    0.0  20.430137      0.0   \n",
       "5      1.0       0.0    0.0    1.0        0.0    0.0  14.509589      0.0   \n",
       "6      1.0       0.0    0.0    1.0        0.0    0.0  13.676712      0.0   \n",
       "7      1.0       0.0    1.0    0.0        0.0    0.0  15.178082      1.0   \n",
       "\n",
       "   ALCPROBS1  marever1   ...     ESTEEM1  VIOL1  PASSIST  DEVIANT1  SCHCONN1  \\\n",
       "1          1         0   ...        35.0    1.0        0       5.0      22.0   \n",
       "3          0         1   ...        47.0    4.0        1       4.0      19.0   \n",
       "5          0         0   ...        41.0    3.0        0       0.0      27.0   \n",
       "6          0         0   ...        42.0    5.0        0       7.0      18.0   \n",
       "7          0         1   ...        40.0    8.0        1       6.0      20.0   \n",
       "\n",
       "       GPA1  EXPEL1  FAMCONCT  PARACTV  PARPRES  \n",
       "1  2.333333     0.0      23.3      9.0     15.0  \n",
       "3  2.000000     0.0      18.7      6.0     14.0  \n",
       "5  2.666667     0.0      23.7      3.0     13.0  \n",
       "6  2.500000     0.0      24.7      6.0     13.0  \n",
       "7  1.500000     0.0      22.3     10.0     14.0  \n",
       "\n",
       "[5 rows x 24 columns]"
      ]
     },
     "execution_count": 10,
     "metadata": {},
     "output_type": "execute_result"
    }
   ],
   "source": [
    "predictors.head()"
   ]
  },
  {
   "cell_type": "code",
   "execution_count": 11,
   "metadata": {},
   "outputs": [],
   "source": [
    "targets = data_clean.TREG1"
   ]
  },
  {
   "cell_type": "code",
   "execution_count": 12,
   "metadata": {},
   "outputs": [
    {
     "data": {
      "text/plain": [
       "1    1.0\n",
       "3    1.0\n",
       "5    0.0\n",
       "6    0.0\n",
       "7    1.0\n",
       "Name: TREG1, dtype: float64"
      ]
     },
     "execution_count": 12,
     "metadata": {},
     "output_type": "execute_result"
    }
   ],
   "source": [
    "targets.head()"
   ]
  },
  {
   "cell_type": "code",
   "execution_count": 13,
   "metadata": {},
   "outputs": [],
   "source": [
    "# 60:40 split train:test\n",
    "pred_train, pred_test, tar_train, tar_test = train_test_split(predictors, targets, test_size=.4)"
   ]
  },
  {
   "cell_type": "code",
   "execution_count": 14,
   "metadata": {},
   "outputs": [
    {
     "data": {
      "text/plain": [
       "((2745, 24), (1830, 24))"
      ]
     },
     "execution_count": 14,
     "metadata": {},
     "output_type": "execute_result"
    }
   ],
   "source": [
    "pred_train.shape, pred_test.shape"
   ]
  },
  {
   "cell_type": "code",
   "execution_count": 15,
   "metadata": {},
   "outputs": [
    {
     "data": {
      "text/plain": [
       "((2745,), (1830,))"
      ]
     },
     "execution_count": 15,
     "metadata": {},
     "output_type": "execute_result"
    }
   ],
   "source": [
    "tar_train.shape, tar_test.shape"
   ]
  },
  {
   "cell_type": "markdown",
   "metadata": {},
   "source": [
    "# Random Forest"
   ]
  },
  {
   "cell_type": "code",
   "execution_count": 16,
   "metadata": {},
   "outputs": [],
   "source": [
    "#Build model on training data\n",
    "classifier = RandomForestClassifier(n_estimators=25)\n",
    "classifier = classifier.fit(pred_train,tar_train)"
   ]
  },
  {
   "cell_type": "code",
   "execution_count": 17,
   "metadata": {},
   "outputs": [
    {
     "data": {
      "text/plain": [
       "RandomForestClassifier(bootstrap=True, class_weight=None, criterion='gini',\n",
       "            max_depth=None, max_features='auto', max_leaf_nodes=None,\n",
       "            min_impurity_decrease=0.0, min_impurity_split=None,\n",
       "            min_samples_leaf=1, min_samples_split=2,\n",
       "            min_weight_fraction_leaf=0.0, n_estimators=25, n_jobs=1,\n",
       "            oob_score=False, random_state=None, verbose=0,\n",
       "            warm_start=False)"
      ]
     },
     "execution_count": 17,
     "metadata": {},
     "output_type": "execute_result"
    }
   ],
   "source": [
    "classifier"
   ]
  },
  {
   "cell_type": "code",
   "execution_count": 18,
   "metadata": {},
   "outputs": [],
   "source": [
    "predictions = classifier.predict(pred_test)"
   ]
  },
  {
   "cell_type": "code",
   "execution_count": 19,
   "metadata": {},
   "outputs": [
    {
     "data": {
      "text/plain": [
       "array([0., 0., 0., ..., 0., 0., 0.])"
      ]
     },
     "execution_count": 19,
     "metadata": {},
     "output_type": "execute_result"
    }
   ],
   "source": [
    "predictions"
   ]
  },
  {
   "cell_type": "code",
   "execution_count": 20,
   "metadata": {},
   "outputs": [
    {
     "data": {
      "text/plain": [
       "array([[1426,   71],\n",
       "       [ 217,  116]], dtype=int64)"
      ]
     },
     "execution_count": 20,
     "metadata": {},
     "output_type": "execute_result"
    }
   ],
   "source": [
    "sklearn.metrics.confusion_matrix(tar_test,predictions)"
   ]
  },
  {
   "cell_type": "markdown",
   "metadata": {},
   "source": [
    "For the confusion matrix, we see the true negatives and true positives on the diagonal. And the 203 and the 87 represent the false negatives and false positives, respectively."
   ]
  },
  {
   "cell_type": "code",
   "execution_count": 21,
   "metadata": {},
   "outputs": [
    {
     "data": {
      "text/plain": [
       "0.8426229508196721"
      ]
     },
     "execution_count": 21,
     "metadata": {},
     "output_type": "execute_result"
    }
   ],
   "source": [
    "sklearn.metrics.accuracy_score(tar_test, predictions)"
   ]
  },
  {
   "cell_type": "markdown",
   "metadata": {},
   "source": [
    "Notice that the overall accuracy for the forest is 0.84. So 84% of the individuals were classified correctly, as regular smokers, or not regular smokers."
   ]
  },
  {
   "cell_type": "code",
   "execution_count": 22,
   "metadata": {},
   "outputs": [
    {
     "data": {
      "text/plain": [
       "ExtraTreesClassifier(bootstrap=False, class_weight=None, criterion='gini',\n",
       "           max_depth=None, max_features='auto', max_leaf_nodes=None,\n",
       "           min_impurity_decrease=0.0, min_impurity_split=None,\n",
       "           min_samples_leaf=1, min_samples_split=2,\n",
       "           min_weight_fraction_leaf=0.0, n_estimators=10, n_jobs=1,\n",
       "           oob_score=False, random_state=None, verbose=0, warm_start=False)"
      ]
     },
     "execution_count": 22,
     "metadata": {},
     "output_type": "execute_result"
    }
   ],
   "source": [
    "# fit an Extra Trees model to the data\n",
    "model = ExtraTreesClassifier()\n",
    "model.fit(pred_train,tar_train)"
   ]
  },
  {
   "cell_type": "markdown",
   "metadata": {},
   "source": [
    "Given that we don't interpret individual trees in a random forest, the most helpful information to be gotten from a forest is arguably the measured importance for each explanatory variable. Also called the features. Based on how many votes or splits each has produced in the 25 tree ensemble. To generate importance scores, we initialize the extra tree classifier, and then fit a model. Finally, we ask Python to print the feature importance scores calculated from the forest of trees that we've grown."
   ]
  },
  {
   "cell_type": "code",
   "execution_count": 23,
   "metadata": {},
   "outputs": [
    {
     "name": "stdout",
     "output_type": "stream",
     "text": [
      "[0.03039088 0.01632801 0.02414836 0.01907534 0.01072417 0.00616354\n",
      " 0.06055683 0.04455143 0.04533399 0.09638234 0.01609588 0.01656267\n",
      " 0.02968987 0.06105916 0.05077503 0.05049175 0.01659474 0.08531605\n",
      " 0.06970171 0.06622569 0.01011674 0.06253634 0.06235289 0.0488266 ]\n"
     ]
    }
   ],
   "source": [
    "# display the relative importance of each attribute\n",
    "print(model.feature_importances_)"
   ]
  },
  {
   "cell_type": "markdown",
   "metadata": {},
   "source": [
    "The variables are listed in the order they've been named earlier in the code. Starting with gender, called BIO_SEX, and ending with parental presence. As we can see the variables with the highest important score at 0.13 is marijuana use. And the variable with the lowest important score is Asian ethnicity at .004. As you will recall, the correct classification rate for the random forest was 84%. So were 25 trees actually needed to get this correct rate of classification? To determine what growing larger number of trees has brought us in terms of correct classification."
   ]
  },
  {
   "cell_type": "code",
   "execution_count": 24,
   "metadata": {},
   "outputs": [
    {
     "data": {
      "text/plain": [
       "'\\nRunning a different number of trees and see the effect\\n of that on the accuracy of the prediction\\n'"
      ]
     },
     "execution_count": 24,
     "metadata": {},
     "output_type": "execute_result"
    }
   ],
   "source": [
    "'''\n",
    "Running a different number of trees and see the effect\n",
    " of that on the accuracy of the prediction\n",
    "'''"
   ]
  },
  {
   "cell_type": "code",
   "execution_count": 25,
   "metadata": {},
   "outputs": [],
   "source": [
    "trees = range(25)\n",
    "accuracy = np.zeros(25)"
   ]
  },
  {
   "cell_type": "code",
   "execution_count": 26,
   "metadata": {},
   "outputs": [
    {
     "data": {
      "text/plain": [
       "(range(0, 25),\n",
       " array([0., 0., 0., 0., 0., 0., 0., 0., 0., 0., 0., 0., 0., 0., 0., 0., 0.,\n",
       "        0., 0., 0., 0., 0., 0., 0., 0.]))"
      ]
     },
     "execution_count": 26,
     "metadata": {},
     "output_type": "execute_result"
    }
   ],
   "source": [
    "trees, accuracy"
   ]
  },
  {
   "cell_type": "markdown",
   "metadata": {},
   "source": [
    "We're going to use code that builds for us different numbers of trees, from one to 25, and provides the correct classification rate for each. This code will build for us random forest classifier from one to 25, and then finding the accuracy score for each of those trees from one to 25, and storing it in an array. This will give me 25 different accuracy values. And we'll plot them as the number of trees increase. As you can see, with only one tree the accuracy is about 83%, and it climbs to only about 84% with successive trees that are grown giving us some confidence that it may be perfectly appropriate to interpret a single decision tree for this data. Given that it's accuracy is quite near that of successive trees in the forest. "
   ]
  },
  {
   "cell_type": "code",
   "execution_count": 27,
   "metadata": {},
   "outputs": [],
   "source": [
    "for idx in range(len(trees)):\n",
    "   classifier    = RandomForestClassifier(n_estimators = idx + 1)\n",
    "   classifier    = classifier.fit(pred_train, tar_train)\n",
    "   predictions   = classifier.predict(pred_test)\n",
    "   accuracy[idx] = sklearn.metrics.accuracy_score(tar_test, predictions)"
   ]
  },
  {
   "cell_type": "code",
   "execution_count": 28,
   "metadata": {},
   "outputs": [
    {
     "data": {
      "text/plain": [
       "[<matplotlib.lines.Line2D at 0x218c6910e80>]"
      ]
     },
     "execution_count": 28,
     "metadata": {},
     "output_type": "execute_result"
    },
    {
     "data": {
      "image/png": "[encoded data removed]",
      "text/plain": [
       "<matplotlib.figure.Figure at 0x218c686c2b0>"
      ]
     },
     "metadata": {},
     "output_type": "display_data"
    }
   ],
   "source": [
    "plt.cla()\n",
    "plt.plot(trees, accuracy)"
   ]
  },
  {
   "cell_type": "markdown",
   "metadata": {},
   "source": [
    "# Conclusion\n",
    "\n",
    "To summarize, like decision trees, random forests are a type of data mining algorithm that can select from among a large number of variables. Those that are most important in determining the target or response variable to be explained. <br/>\n",
    "\n",
    "Also light decision trees. The target variable in a random forest can be categorical or quantitative. And the group of explanatory variables or features can be categorical and quantitative in any combination. Unlike decision trees however, the results of random forests often generalize well to new data. Since the strongest signals are able to emerge through the growing of many trees. Further, small changes in the data do not impact the results of a random forest. In my opinion, the main weakness of random forests is simply that the results are less satisfying, since no trees are actually interpreted. Instead, the forest of trees is used to rank the importance of variables in predicting the target. Thus we get a sense of the most important predictive variables but not necessarily their relationships to one another. "
   ]
  },
  {
   "cell_type": "markdown",
   "metadata": {},
   "source": [
    "Random forest analysis was performed to evaluate the importance of a series of explanatory variables in predicting a binary, categorical response variable. The following explanatory variables were included as possible contributors to a random forest evaluating regular smoking (my response variable), age, gender, (race/ethnicity) Hispanic, White, Black, Native American and Asian. Alcohol use, marijuana use, cocaine use, inhalant use, availability of cigarettes in the home, whether or not either parent was on public assistance, any experience with being expelled from school, alcohol problems, deviance, violence, depression, self-esteem, parental presence, parental activities, family connectedness, school connectedness and grade point average.\n",
    "\n",
    "The explanatory variables with the highest relative importance scores were marijuana use, White ethnicity, deviance and grade point average. The accuracy of the random forest was 84%, with the subsequent growing of multiple trees rather than a single tree, adding little to the overall accuracy of the model, and suggesting that interpretation of a single decision tree may be appropriate."
   ]
  },
  {
   "cell_type": "code",
   "execution_count": null,
   "metadata": {},
   "outputs": [],
   "source": []
  }
 ],
 "metadata": {
  "kernelspec": {
   "display_name": "Python 3",
   "language": "python",
   "name": "python3"
  },
  "language_info": {
   "codemirror_mode": {
    "name": "ipython",
    "version": 3
   },
   "file_extension": ".py",
   "mimetype": "text/x-python",
   "name": "python",
   "nbconvert_exporter": "python",
   "pygments_lexer": "ipython3",
   "version": "3.6.4"
  }
 },
 "nbformat": 4,
 "nbformat_minor": 2
}
