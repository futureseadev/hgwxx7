{
 "cells": [
  {
   "cell_type": "code",
   "execution_count": 1,
   "metadata": {},
   "outputs": [],
   "source": [
    "# Packages for analysis\n",
    "import pandas as pd\n",
    "import numpy as np\n",
    "from sklearn import svm\n",
    "\n",
    "# Packages for visuals\n",
    "import matplotlib.pyplot as plt\n",
    "import seaborn as sns; sns.set(font_scale=1.2)\n",
    "\n",
    "# Pickle package\n",
    "import pickle"
   ]
  },
  {
   "cell_type": "code",
   "execution_count": 2,
   "metadata": {},
   "outputs": [],
   "source": [
    "# Allows charts to appear in the notebook\n",
    "%matplotlib inline"
   ]
  },
  {
   "cell_type": "code",
   "execution_count": 3,
   "metadata": {},
   "outputs": [
    {
     "data": {
      "text/html": [
       "<div>\n",
       "<style scoped>\n",
       "    .dataframe tbody tr th:only-of-type {\n",
       "        vertical-align: middle;\n",
       "    }\n",
       "\n",
       "    .dataframe tbody tr th {\n",
       "        vertical-align: top;\n",
       "    }\n",
       "\n",
       "    .dataframe thead th {\n",
       "        text-align: right;\n",
       "    }\n",
       "</style>\n",
       "<table border=\"1\" class=\"dataframe\">\n",
       "  <thead>\n",
       "    <tr style=\"text-align: right;\">\n",
       "      <th></th>\n",
       "      <th>Colour</th>\n",
       "      <th>BHP</th>\n",
       "      <th>Mileage</th>\n",
       "      <th>Charge</th>\n",
       "      <th>Stroke</th>\n",
       "      <th>Cylinder</th>\n",
       "      <th>Engine</th>\n",
       "      <th>Nitro</th>\n",
       "      <th>Wing</th>\n",
       "    </tr>\n",
       "  </thead>\n",
       "  <tbody>\n",
       "    <tr>\n",
       "      <th>0</th>\n",
       "      <td>Black</td>\n",
       "      <td>159</td>\n",
       "      <td>28</td>\n",
       "      <td>23</td>\n",
       "      <td>7</td>\n",
       "      <td>5</td>\n",
       "      <td>2</td>\n",
       "      <td>0</td>\n",
       "      <td>0</td>\n",
       "    </tr>\n",
       "    <tr>\n",
       "      <th>1</th>\n",
       "      <td>Black</td>\n",
       "      <td>144</td>\n",
       "      <td>27</td>\n",
       "      <td>212</td>\n",
       "      <td>6</td>\n",
       "      <td>9</td>\n",
       "      <td>1</td>\n",
       "      <td>0</td>\n",
       "      <td>0</td>\n",
       "    </tr>\n",
       "    <tr>\n",
       "      <th>2</th>\n",
       "      <td>Black</td>\n",
       "      <td>147</td>\n",
       "      <td>29</td>\n",
       "      <td>218</td>\n",
       "      <td>6</td>\n",
       "      <td>4</td>\n",
       "      <td>1</td>\n",
       "      <td>0</td>\n",
       "      <td>0</td>\n",
       "    </tr>\n",
       "    <tr>\n",
       "      <th>3</th>\n",
       "      <td>Black</td>\n",
       "      <td>145</td>\n",
       "      <td>26</td>\n",
       "      <td>217</td>\n",
       "      <td>17</td>\n",
       "      <td>8</td>\n",
       "      <td>1</td>\n",
       "      <td>0</td>\n",
       "      <td>0</td>\n",
       "    </tr>\n",
       "    <tr>\n",
       "      <th>4</th>\n",
       "      <td>Black</td>\n",
       "      <td>150</td>\n",
       "      <td>25</td>\n",
       "      <td>212</td>\n",
       "      <td>6</td>\n",
       "      <td>5</td>\n",
       "      <td>2</td>\n",
       "      <td>1</td>\n",
       "      <td>0</td>\n",
       "    </tr>\n",
       "    <tr>\n",
       "      <th>5</th>\n",
       "      <td>Black</td>\n",
       "      <td>165</td>\n",
       "      <td>27</td>\n",
       "      <td>23</td>\n",
       "      <td>7</td>\n",
       "      <td>5</td>\n",
       "      <td>2</td>\n",
       "      <td>1</td>\n",
       "      <td>0</td>\n",
       "    </tr>\n",
       "    <tr>\n",
       "      <th>6</th>\n",
       "      <td>Black</td>\n",
       "      <td>154</td>\n",
       "      <td>27</td>\n",
       "      <td>27</td>\n",
       "      <td>5</td>\n",
       "      <td>5</td>\n",
       "      <td>2</td>\n",
       "      <td>0</td>\n",
       "      <td>0</td>\n",
       "    </tr>\n",
       "    <tr>\n",
       "      <th>7</th>\n",
       "      <td>Black</td>\n",
       "      <td>146</td>\n",
       "      <td>26</td>\n",
       "      <td>210</td>\n",
       "      <td>10</td>\n",
       "      <td>4</td>\n",
       "      <td>1</td>\n",
       "      <td>0</td>\n",
       "      <td>0</td>\n",
       "    </tr>\n",
       "    <tr>\n",
       "      <th>8</th>\n",
       "      <td>Black</td>\n",
       "      <td>152</td>\n",
       "      <td>27</td>\n",
       "      <td>217</td>\n",
       "      <td>8</td>\n",
       "      <td>6</td>\n",
       "      <td>1</td>\n",
       "      <td>0</td>\n",
       "      <td>0</td>\n",
       "    </tr>\n",
       "    <tr>\n",
       "      <th>9</th>\n",
       "      <td>Black</td>\n",
       "      <td>151</td>\n",
       "      <td>27</td>\n",
       "      <td>217</td>\n",
       "      <td>11</td>\n",
       "      <td>4</td>\n",
       "      <td>1</td>\n",
       "      <td>0</td>\n",
       "      <td>0</td>\n",
       "    </tr>\n",
       "    <tr>\n",
       "      <th>10</th>\n",
       "      <td>White</td>\n",
       "      <td>149</td>\n",
       "      <td>22</td>\n",
       "      <td>226</td>\n",
       "      <td>19</td>\n",
       "      <td>14</td>\n",
       "      <td>1</td>\n",
       "      <td>1</td>\n",
       "      <td>0</td>\n",
       "    </tr>\n",
       "    <tr>\n",
       "      <th>11</th>\n",
       "      <td>White</td>\n",
       "      <td>150</td>\n",
       "      <td>21</td>\n",
       "      <td>216</td>\n",
       "      <td>10</td>\n",
       "      <td>8</td>\n",
       "      <td>3</td>\n",
       "      <td>0</td>\n",
       "      <td>0</td>\n",
       "    </tr>\n",
       "    <tr>\n",
       "      <th>12</th>\n",
       "      <td>White</td>\n",
       "      <td>134</td>\n",
       "      <td>21</td>\n",
       "      <td>220</td>\n",
       "      <td>20</td>\n",
       "      <td>5</td>\n",
       "      <td>2</td>\n",
       "      <td>1</td>\n",
       "      <td>0</td>\n",
       "    </tr>\n",
       "    <tr>\n",
       "      <th>13</th>\n",
       "      <td>White</td>\n",
       "      <td>139</td>\n",
       "      <td>23</td>\n",
       "      <td>217</td>\n",
       "      <td>19</td>\n",
       "      <td>10</td>\n",
       "      <td>1</td>\n",
       "      <td>1</td>\n",
       "      <td>0</td>\n",
       "    </tr>\n",
       "    <tr>\n",
       "      <th>14</th>\n",
       "      <td>White</td>\n",
       "      <td>138</td>\n",
       "      <td>24</td>\n",
       "      <td>223</td>\n",
       "      <td>15</td>\n",
       "      <td>8</td>\n",
       "      <td>0</td>\n",
       "      <td>1</td>\n",
       "      <td>0</td>\n",
       "    </tr>\n",
       "    <tr>\n",
       "      <th>15</th>\n",
       "      <td>White</td>\n",
       "      <td>142</td>\n",
       "      <td>24</td>\n",
       "      <td>225</td>\n",
       "      <td>9</td>\n",
       "      <td>5</td>\n",
       "      <td>1</td>\n",
       "      <td>0</td>\n",
       "      <td>0</td>\n",
       "    </tr>\n",
       "    <tr>\n",
       "      <th>16</th>\n",
       "      <td>White</td>\n",
       "      <td>136</td>\n",
       "      <td>24</td>\n",
       "      <td>221</td>\n",
       "      <td>14</td>\n",
       "      <td>11</td>\n",
       "      <td>2</td>\n",
       "      <td>1</td>\n",
       "      <td>0</td>\n",
       "    </tr>\n",
       "    <tr>\n",
       "      <th>17</th>\n",
       "      <td>White</td>\n",
       "      <td>148</td>\n",
       "      <td>23</td>\n",
       "      <td>231</td>\n",
       "      <td>8</td>\n",
       "      <td>6</td>\n",
       "      <td>1</td>\n",
       "      <td>1</td>\n",
       "      <td>0</td>\n",
       "    </tr>\n",
       "    <tr>\n",
       "      <th>18</th>\n",
       "      <td>White</td>\n",
       "      <td>136</td>\n",
       "      <td>24</td>\n",
       "      <td>224</td>\n",
       "      <td>12</td>\n",
       "      <td>9</td>\n",
       "      <td>1</td>\n",
       "      <td>1</td>\n",
       "      <td>0</td>\n",
       "    </tr>\n",
       "    <tr>\n",
       "      <th>19</th>\n",
       "      <td>White</td>\n",
       "      <td>134</td>\n",
       "      <td>23</td>\n",
       "      <td>223</td>\n",
       "      <td>11</td>\n",
       "      <td>13</td>\n",
       "      <td>0</td>\n",
       "      <td>1</td>\n",
       "      <td>0</td>\n",
       "    </tr>\n",
       "  </tbody>\n",
       "</table>\n",
       "</div>"
      ],
      "text/plain": [
       "   Colour  BHP  Mileage  Charge  Stroke  Cylinder  Engine  Nitro  Wing\n",
       "0   Black  159       28      23       7         5       2      0     0\n",
       "1   Black  144       27     212       6         9       1      0     0\n",
       "2   Black  147       29     218       6         4       1      0     0\n",
       "3   Black  145       26     217      17         8       1      0     0\n",
       "4   Black  150       25     212       6         5       2      1     0\n",
       "5   Black  165       27      23       7         5       2      1     0\n",
       "6   Black  154       27      27       5         5       2      0     0\n",
       "7   Black  146       26     210      10         4       1      0     0\n",
       "8   Black  152       27     217       8         6       1      0     0\n",
       "9   Black  151       27     217      11         4       1      0     0\n",
       "10  White  149       22     226      19        14       1      1     0\n",
       "11  White  150       21     216      10         8       3      0     0\n",
       "12  White  134       21     220      20         5       2      1     0\n",
       "13  White  139       23     217      19        10       1      1     0\n",
       "14  White  138       24     223      15         8       0      1     0\n",
       "15  White  142       24     225       9         5       1      0     0\n",
       "16  White  136       24     221      14        11       2      1     0\n",
       "17  White  148       23     231       8         6       1      1     0\n",
       "18  White  136       24     224      12         9       1      1     0\n",
       "19  White  134       23     223      11        13       0      1     0"
      ]
     },
     "execution_count": 3,
     "metadata": {},
     "output_type": "execute_result"
    }
   ],
   "source": [
    "# Pandas - Reading Texla features\n",
    "texla = pd.read_csv('ml_texla_python_svm_1.csv')\n",
    "texla"
   ]
  },
  {
   "cell_type": "code",
   "execution_count": 4,
   "metadata": {},
   "outputs": [
    {
     "data": {
      "text/html": [
       "<div>\n",
       "<style scoped>\n",
       "    .dataframe tbody tr th:only-of-type {\n",
       "        vertical-align: middle;\n",
       "    }\n",
       "\n",
       "    .dataframe tbody tr th {\n",
       "        vertical-align: top;\n",
       "    }\n",
       "\n",
       "    .dataframe thead th {\n",
       "        text-align: right;\n",
       "    }\n",
       "</style>\n",
       "<table border=\"1\" class=\"dataframe\">\n",
       "  <thead>\n",
       "    <tr style=\"text-align: right;\">\n",
       "      <th></th>\n",
       "      <th>BHP</th>\n",
       "      <th>Mileage</th>\n",
       "      <th>Charge</th>\n",
       "      <th>Stroke</th>\n",
       "      <th>Cylinder</th>\n",
       "      <th>Engine</th>\n",
       "      <th>Nitro</th>\n",
       "      <th>Wing</th>\n",
       "    </tr>\n",
       "  </thead>\n",
       "  <tbody>\n",
       "    <tr>\n",
       "      <th>count</th>\n",
       "      <td>20.000000</td>\n",
       "      <td>20.00000</td>\n",
       "      <td>20.000000</td>\n",
       "      <td>20.000000</td>\n",
       "      <td>20.000000</td>\n",
       "      <td>20.000000</td>\n",
       "      <td>20.000000</td>\n",
       "      <td>20.0</td>\n",
       "    </tr>\n",
       "    <tr>\n",
       "      <th>mean</th>\n",
       "      <td>145.950000</td>\n",
       "      <td>24.90000</td>\n",
       "      <td>190.100000</td>\n",
       "      <td>11.000000</td>\n",
       "      <td>7.200000</td>\n",
       "      <td>1.300000</td>\n",
       "      <td>0.500000</td>\n",
       "      <td>0.0</td>\n",
       "    </tr>\n",
       "    <tr>\n",
       "      <th>std</th>\n",
       "      <td>8.344396</td>\n",
       "      <td>2.33734</td>\n",
       "      <td>71.630558</td>\n",
       "      <td>4.801316</td>\n",
       "      <td>3.019237</td>\n",
       "      <td>0.732695</td>\n",
       "      <td>0.512989</td>\n",
       "      <td>0.0</td>\n",
       "    </tr>\n",
       "    <tr>\n",
       "      <th>min</th>\n",
       "      <td>134.000000</td>\n",
       "      <td>21.00000</td>\n",
       "      <td>23.000000</td>\n",
       "      <td>5.000000</td>\n",
       "      <td>4.000000</td>\n",
       "      <td>0.000000</td>\n",
       "      <td>0.000000</td>\n",
       "      <td>0.0</td>\n",
       "    </tr>\n",
       "    <tr>\n",
       "      <th>25%</th>\n",
       "      <td>138.750000</td>\n",
       "      <td>23.00000</td>\n",
       "      <td>212.000000</td>\n",
       "      <td>7.000000</td>\n",
       "      <td>5.000000</td>\n",
       "      <td>1.000000</td>\n",
       "      <td>0.000000</td>\n",
       "      <td>0.0</td>\n",
       "    </tr>\n",
       "    <tr>\n",
       "      <th>50%</th>\n",
       "      <td>146.500000</td>\n",
       "      <td>24.50000</td>\n",
       "      <td>217.000000</td>\n",
       "      <td>10.000000</td>\n",
       "      <td>6.000000</td>\n",
       "      <td>1.000000</td>\n",
       "      <td>0.500000</td>\n",
       "      <td>0.0</td>\n",
       "    </tr>\n",
       "    <tr>\n",
       "      <th>75%</th>\n",
       "      <td>150.250000</td>\n",
       "      <td>27.00000</td>\n",
       "      <td>223.000000</td>\n",
       "      <td>14.250000</td>\n",
       "      <td>9.000000</td>\n",
       "      <td>2.000000</td>\n",
       "      <td>1.000000</td>\n",
       "      <td>0.0</td>\n",
       "    </tr>\n",
       "    <tr>\n",
       "      <th>max</th>\n",
       "      <td>165.000000</td>\n",
       "      <td>29.00000</td>\n",
       "      <td>231.000000</td>\n",
       "      <td>20.000000</td>\n",
       "      <td>14.000000</td>\n",
       "      <td>3.000000</td>\n",
       "      <td>1.000000</td>\n",
       "      <td>0.0</td>\n",
       "    </tr>\n",
       "  </tbody>\n",
       "</table>\n",
       "</div>"
      ],
      "text/plain": [
       "              BHP   Mileage      Charge     Stroke   Cylinder     Engine  \\\n",
       "count   20.000000  20.00000   20.000000  20.000000  20.000000  20.000000   \n",
       "mean   145.950000  24.90000  190.100000  11.000000   7.200000   1.300000   \n",
       "std      8.344396   2.33734   71.630558   4.801316   3.019237   0.732695   \n",
       "min    134.000000  21.00000   23.000000   5.000000   4.000000   0.000000   \n",
       "25%    138.750000  23.00000  212.000000   7.000000   5.000000   1.000000   \n",
       "50%    146.500000  24.50000  217.000000  10.000000   6.000000   1.000000   \n",
       "75%    150.250000  27.00000  223.000000  14.250000   9.000000   2.000000   \n",
       "max    165.000000  29.00000  231.000000  20.000000  14.000000   3.000000   \n",
       "\n",
       "           Nitro  Wing  \n",
       "count  20.000000  20.0  \n",
       "mean    0.500000   0.0  \n",
       "std     0.512989   0.0  \n",
       "min     0.000000   0.0  \n",
       "25%     0.000000   0.0  \n",
       "50%     0.500000   0.0  \n",
       "75%     1.000000   0.0  \n",
       "max     1.000000   0.0  "
      ]
     },
     "execution_count": 4,
     "metadata": {},
     "output_type": "execute_result"
    }
   ],
   "source": [
    "texla.describe()"
   ]
  },
  {
   "cell_type": "code",
   "execution_count": 5,
   "metadata": {},
   "outputs": [
    {
     "data": {
      "image/png": "[encoded data removed]",
      "text/plain": [
       "<Figure size 433.95x360 with 1 Axes>"
      ]
     },
     "metadata": {},
     "output_type": "display_data"
    }
   ],
   "source": [
    "# Classified based on the two colours\n",
    "sns.lmplot('BHP', 'Mileage', texla, hue='Colour',\n",
    "           palette='Set2', fit_reg=False, scatter_kws={\"s\": 70});"
   ]
  },
  {
   "cell_type": "code",
   "execution_count": 6,
   "metadata": {},
   "outputs": [
    {
     "data": {
      "image/png": "[encoded data removed]",
      "text/plain": [
       "<Figure size 433.95x360 with 1 Axes>"
      ]
     },
     "metadata": {},
     "output_type": "display_data"
    }
   ],
   "source": [
    "# Classified based on the two colours\n",
    "sns.lmplot('BHP', 'Mileage', texla, hue='Colour',\n",
    "           palette='Set2', fit_reg=True, scatter_kws={\"s\": 77});"
   ]
  },
  {
   "cell_type": "code",
   "execution_count": 7,
   "metadata": {},
   "outputs": [
    {
     "data": {
      "text/plain": [
       "(array([[159,  28],\n",
       "        [144,  27],\n",
       "        [147,  29],\n",
       "        [145,  26],\n",
       "        [150,  25],\n",
       "        [165,  27],\n",
       "        [154,  27],\n",
       "        [146,  26],\n",
       "        [152,  27],\n",
       "        [151,  27],\n",
       "        [149,  22],\n",
       "        [150,  21],\n",
       "        [134,  21],\n",
       "        [139,  23],\n",
       "        [138,  24],\n",
       "        [142,  24],\n",
       "        [136,  24],\n",
       "        [148,  23],\n",
       "        [136,  24],\n",
       "        [134,  23]], dtype=int64),\n",
       " array([0, 0, 0, 0, 0, 0, 0, 0, 0, 0, 1, 1, 1, 1, 1, 1, 1, 1, 1, 1]))"
      ]
     },
     "execution_count": 7,
     "metadata": {},
     "output_type": "execute_result"
    }
   ],
   "source": [
    "# Specify inputs for the model\n",
    "params = texla[['BHP','Mileage']].values\n",
    "type_label = np.where(texla['Colour']=='Black', 0, 1)\n",
    "\n",
    "params, type_label"
   ]
  },
  {
   "cell_type": "code",
   "execution_count": 8,
   "metadata": {},
   "outputs": [
    {
     "data": {
      "text/plain": [
       "['BHP', 'Mileage', 'Charge', 'Stroke', 'Cylinder', 'Engine', 'Nitro', 'Wing']"
      ]
     },
     "execution_count": 8,
     "metadata": {},
     "output_type": "execute_result"
    }
   ],
   "source": [
    "# Feature names\n",
    "texla_features = texla.columns.values[1:].tolist()\n",
    "texla_features"
   ]
  },
  {
   "cell_type": "code",
   "execution_count": 9,
   "metadata": {},
   "outputs": [
    {
     "data": {
      "text/plain": [
       "SVC(C=1.0, cache_size=200, class_weight=None, coef0=0.0,\n",
       "  decision_function_shape='ovr', degree=3, gamma='auto', kernel='linear',\n",
       "  max_iter=-1, probability=False, random_state=None, shrinking=True,\n",
       "  tol=0.001, verbose=False)"
      ]
     },
     "execution_count": 9,
     "metadata": {},
     "output_type": "execute_result"
    }
   ],
   "source": [
    "# Fit the SVM model\n",
    "model = svm.SVC(kernel='linear')\n",
    "model.fit(params, type_label)"
   ]
  },
  {
   "cell_type": "code",
   "execution_count": 10,
   "metadata": {},
   "outputs": [
    {
     "data": {
      "text/plain": [
       "(array([200.        , 198.36734694, 196.73469388, 195.10204082,\n",
       "        193.46938776, 191.83673469, 190.20408163, 188.57142857,\n",
       "        186.93877551, 185.30612245, 183.67346939, 182.04081633,\n",
       "        180.40816327, 178.7755102 , 177.14285714, 175.51020408,\n",
       "        173.87755102, 172.24489796, 170.6122449 , 168.97959184,\n",
       "        167.34693878, 165.71428571, 164.08163265, 162.44897959,\n",
       "        160.81632653, 159.18367347, 157.55102041, 155.91836735,\n",
       "        154.28571429, 152.65306122, 151.02040816, 149.3877551 ,\n",
       "        147.75510204, 146.12244898, 144.48979592, 142.85714286,\n",
       "        141.2244898 , 139.59183673, 137.95918367, 136.32653061,\n",
       "        134.69387755, 133.06122449, 131.42857143, 129.79591837,\n",
       "        128.16326531, 126.53061224, 124.89795918, 123.26530612,\n",
       "        121.63265306, 120.        ]),\n",
       " array([13.8       , 14.12653061, 14.45306122, 14.77959184, 15.10612245,\n",
       "        15.43265306, 15.75918367, 16.08571429, 16.4122449 , 16.73877551,\n",
       "        17.06530612, 17.39183673, 17.71836735, 18.04489796, 18.37142857,\n",
       "        18.69795918, 19.0244898 , 19.35102041, 19.67755102, 20.00408163,\n",
       "        20.33061224, 20.65714286, 20.98367347, 21.31020408, 21.63673469,\n",
       "        21.96326531, 22.28979592, 22.61632653, 22.94285714, 23.26938776,\n",
       "        23.59591837, 23.92244898, 24.24897959, 24.5755102 , 24.90204082,\n",
       "        25.22857143, 25.55510204, 25.88163265, 26.20816327, 26.53469388,\n",
       "        26.86122449, 27.1877551 , 27.51428571, 27.84081633, 28.16734694,\n",
       "        28.49387755, 28.82040816, 29.14693878, 29.47346939, 29.8       ]))"
      ]
     },
     "execution_count": 10,
     "metadata": {},
     "output_type": "execute_result"
    }
   ],
   "source": [
    "# Get the separating hyperplane\n",
    "w = model.coef_[0]\n",
    "a = -w[0] / w[1]\n",
    "xx = np.linspace(200, 120)\n",
    "yy = a * xx - (model.intercept_[0]) / w[1]\n",
    "\n",
    "xx, yy"
   ]
  },
  {
   "cell_type": "code",
   "execution_count": 11,
   "metadata": {},
   "outputs": [],
   "source": [
    "# Plot the parallels to the separating hyperplane that pass through the support vectors\n",
    "b = model.support_vectors_[0]\n",
    "yy_down = a * xx + (b[1] - a * b[0])\n",
    "b = model.support_vectors_[-1]\n",
    "yy_up = a * xx + (b[1] - a * b[0])"
   ]
  },
  {
   "cell_type": "code",
   "execution_count": 12,
   "metadata": {},
   "outputs": [
    {
     "data": {
      "image/png": "[encoded data removed]",
      "text/plain": [
       "<Figure size 433.95x360 with 1 Axes>"
      ]
     },
     "metadata": {},
     "output_type": "display_data"
    }
   ],
   "source": [
    "# Plot the hyperplane\n",
    "sns.lmplot('BHP', 'Mileage', data=texla, hue='Colour', palette='Set3', fit_reg=False, scatter_kws={\"s\": 60})\n",
    "plt.plot(xx, yy, linewidth=2, color='green');"
   ]
  },
  {
   "cell_type": "code",
   "execution_count": 13,
   "metadata": {},
   "outputs": [
    {
     "data": {
      "image/png": "[encoded data removed]",
      "text/plain": [
       "<Figure size 433.95x360 with 1 Axes>"
      ]
     },
     "metadata": {},
     "output_type": "display_data"
    }
   ],
   "source": [
    "# Look at the margins and support vectors\n",
    "sns.lmplot('BHP', 'Mileage', data=texla, hue='Colour', palette='Set3', fit_reg=False, scatter_kws={\"s\": 77})\n",
    "plt.plot(xx, yy, linewidth=2, color='black')\n",
    "plt.plot(xx, yy_down, 'k--')\n",
    "plt.plot(xx, yy_up, 'k--')\n",
    "plt.scatter(model.support_vectors_[:, 0], model.support_vectors_[:, 1],\n",
    "            s=80, facecolors='none');"
   ]
  },
  {
   "cell_type": "markdown",
   "metadata": {},
   "source": [
    "## Prediction"
   ]
  },
  {
   "cell_type": "code",
   "execution_count": 14,
   "metadata": {},
   "outputs": [],
   "source": [
    "# Create a function to predict\n",
    "def black_or_white(bhp, mileage):\n",
    "    if(model.predict([[bhp, mileage]]))==0:\n",
    "        print('Black Tesla!!')\n",
    "    else:\n",
    "        print('White Tesla!!')"
   ]
  },
  {
   "cell_type": "code",
   "execution_count": 15,
   "metadata": {},
   "outputs": [
    {
     "name": "stdout",
     "output_type": "stream",
     "text": [
      "Black Tesla!!\n"
     ]
    }
   ],
   "source": [
    "black_or_white(165, 30)"
   ]
  },
  {
   "cell_type": "code",
   "execution_count": 16,
   "metadata": {},
   "outputs": [
    {
     "data": {
      "image/png": "[encoded data removed]",
      "text/plain": [
       "<Figure size 433.95x360 with 1 Axes>"
      ]
     },
     "metadata": {},
     "output_type": "display_data"
    }
   ],
   "source": [
    "# Plot the point to visually see where the point lies\n",
    "sns.lmplot('BHP', 'Mileage', data=texla, hue='Colour', palette='Set1', fit_reg=False, scatter_kws={\"s\": 70})\n",
    "plt.plot(xx, yy, linewidth=2, color='red')\n",
    "plt.plot(165, 30, 'yo', markersize='9');"
   ]
  },
  {
   "cell_type": "markdown",
   "metadata": {},
   "source": [
    "### Regularisation or Misclassification "
   ]
  },
  {
   "cell_type": "markdown",
   "metadata": {},
   "source": [
    "Added below line to the csv <BR/> \n",
    "Alternately create a new csv file\n",
    "`Black,140,24.5,223,11,13,0,1,0`"
   ]
  },
  {
   "cell_type": "code",
   "execution_count": 17,
   "metadata": {},
   "outputs": [
    {
     "data": {
      "text/html": [
       "<div>\n",
       "<style scoped>\n",
       "    .dataframe tbody tr th:only-of-type {\n",
       "        vertical-align: middle;\n",
       "    }\n",
       "\n",
       "    .dataframe tbody tr th {\n",
       "        vertical-align: top;\n",
       "    }\n",
       "\n",
       "    .dataframe thead th {\n",
       "        text-align: right;\n",
       "    }\n",
       "</style>\n",
       "<table border=\"1\" class=\"dataframe\">\n",
       "  <thead>\n",
       "    <tr style=\"text-align: right;\">\n",
       "      <th></th>\n",
       "      <th>Colour</th>\n",
       "      <th>BHP</th>\n",
       "      <th>Mileage</th>\n",
       "      <th>Charge</th>\n",
       "      <th>Stroke</th>\n",
       "      <th>Cylinder</th>\n",
       "      <th>Engine</th>\n",
       "      <th>Nitro</th>\n",
       "      <th>Wing</th>\n",
       "    </tr>\n",
       "  </thead>\n",
       "  <tbody>\n",
       "    <tr>\n",
       "      <th>0</th>\n",
       "      <td>Black</td>\n",
       "      <td>159</td>\n",
       "      <td>28.0</td>\n",
       "      <td>23</td>\n",
       "      <td>7</td>\n",
       "      <td>5</td>\n",
       "      <td>2</td>\n",
       "      <td>0</td>\n",
       "      <td>0</td>\n",
       "    </tr>\n",
       "    <tr>\n",
       "      <th>1</th>\n",
       "      <td>Black</td>\n",
       "      <td>144</td>\n",
       "      <td>27.0</td>\n",
       "      <td>212</td>\n",
       "      <td>6</td>\n",
       "      <td>9</td>\n",
       "      <td>1</td>\n",
       "      <td>0</td>\n",
       "      <td>0</td>\n",
       "    </tr>\n",
       "    <tr>\n",
       "      <th>2</th>\n",
       "      <td>Black</td>\n",
       "      <td>147</td>\n",
       "      <td>29.0</td>\n",
       "      <td>218</td>\n",
       "      <td>6</td>\n",
       "      <td>4</td>\n",
       "      <td>1</td>\n",
       "      <td>0</td>\n",
       "      <td>0</td>\n",
       "    </tr>\n",
       "    <tr>\n",
       "      <th>3</th>\n",
       "      <td>Black</td>\n",
       "      <td>145</td>\n",
       "      <td>26.0</td>\n",
       "      <td>217</td>\n",
       "      <td>17</td>\n",
       "      <td>8</td>\n",
       "      <td>1</td>\n",
       "      <td>0</td>\n",
       "      <td>0</td>\n",
       "    </tr>\n",
       "    <tr>\n",
       "      <th>4</th>\n",
       "      <td>Black</td>\n",
       "      <td>150</td>\n",
       "      <td>25.0</td>\n",
       "      <td>212</td>\n",
       "      <td>6</td>\n",
       "      <td>5</td>\n",
       "      <td>2</td>\n",
       "      <td>1</td>\n",
       "      <td>0</td>\n",
       "    </tr>\n",
       "    <tr>\n",
       "      <th>5</th>\n",
       "      <td>Black</td>\n",
       "      <td>165</td>\n",
       "      <td>27.0</td>\n",
       "      <td>23</td>\n",
       "      <td>7</td>\n",
       "      <td>5</td>\n",
       "      <td>2</td>\n",
       "      <td>1</td>\n",
       "      <td>0</td>\n",
       "    </tr>\n",
       "    <tr>\n",
       "      <th>6</th>\n",
       "      <td>Black</td>\n",
       "      <td>154</td>\n",
       "      <td>27.0</td>\n",
       "      <td>27</td>\n",
       "      <td>5</td>\n",
       "      <td>5</td>\n",
       "      <td>2</td>\n",
       "      <td>0</td>\n",
       "      <td>0</td>\n",
       "    </tr>\n",
       "    <tr>\n",
       "      <th>7</th>\n",
       "      <td>Black</td>\n",
       "      <td>146</td>\n",
       "      <td>26.0</td>\n",
       "      <td>210</td>\n",
       "      <td>10</td>\n",
       "      <td>4</td>\n",
       "      <td>1</td>\n",
       "      <td>0</td>\n",
       "      <td>0</td>\n",
       "    </tr>\n",
       "    <tr>\n",
       "      <th>8</th>\n",
       "      <td>Black</td>\n",
       "      <td>152</td>\n",
       "      <td>27.0</td>\n",
       "      <td>217</td>\n",
       "      <td>8</td>\n",
       "      <td>6</td>\n",
       "      <td>1</td>\n",
       "      <td>0</td>\n",
       "      <td>0</td>\n",
       "    </tr>\n",
       "    <tr>\n",
       "      <th>9</th>\n",
       "      <td>Black</td>\n",
       "      <td>151</td>\n",
       "      <td>27.0</td>\n",
       "      <td>217</td>\n",
       "      <td>11</td>\n",
       "      <td>4</td>\n",
       "      <td>1</td>\n",
       "      <td>0</td>\n",
       "      <td>0</td>\n",
       "    </tr>\n",
       "    <tr>\n",
       "      <th>10</th>\n",
       "      <td>White</td>\n",
       "      <td>149</td>\n",
       "      <td>22.0</td>\n",
       "      <td>226</td>\n",
       "      <td>19</td>\n",
       "      <td>14</td>\n",
       "      <td>1</td>\n",
       "      <td>1</td>\n",
       "      <td>0</td>\n",
       "    </tr>\n",
       "    <tr>\n",
       "      <th>11</th>\n",
       "      <td>White</td>\n",
       "      <td>150</td>\n",
       "      <td>21.0</td>\n",
       "      <td>216</td>\n",
       "      <td>10</td>\n",
       "      <td>8</td>\n",
       "      <td>3</td>\n",
       "      <td>0</td>\n",
       "      <td>0</td>\n",
       "    </tr>\n",
       "    <tr>\n",
       "      <th>12</th>\n",
       "      <td>White</td>\n",
       "      <td>134</td>\n",
       "      <td>21.0</td>\n",
       "      <td>220</td>\n",
       "      <td>20</td>\n",
       "      <td>5</td>\n",
       "      <td>2</td>\n",
       "      <td>1</td>\n",
       "      <td>0</td>\n",
       "    </tr>\n",
       "    <tr>\n",
       "      <th>13</th>\n",
       "      <td>White</td>\n",
       "      <td>139</td>\n",
       "      <td>23.0</td>\n",
       "      <td>217</td>\n",
       "      <td>19</td>\n",
       "      <td>10</td>\n",
       "      <td>1</td>\n",
       "      <td>1</td>\n",
       "      <td>0</td>\n",
       "    </tr>\n",
       "    <tr>\n",
       "      <th>14</th>\n",
       "      <td>White</td>\n",
       "      <td>138</td>\n",
       "      <td>24.0</td>\n",
       "      <td>223</td>\n",
       "      <td>15</td>\n",
       "      <td>8</td>\n",
       "      <td>0</td>\n",
       "      <td>1</td>\n",
       "      <td>0</td>\n",
       "    </tr>\n",
       "    <tr>\n",
       "      <th>15</th>\n",
       "      <td>White</td>\n",
       "      <td>142</td>\n",
       "      <td>24.0</td>\n",
       "      <td>225</td>\n",
       "      <td>9</td>\n",
       "      <td>5</td>\n",
       "      <td>1</td>\n",
       "      <td>0</td>\n",
       "      <td>0</td>\n",
       "    </tr>\n",
       "    <tr>\n",
       "      <th>16</th>\n",
       "      <td>White</td>\n",
       "      <td>136</td>\n",
       "      <td>24.0</td>\n",
       "      <td>221</td>\n",
       "      <td>14</td>\n",
       "      <td>11</td>\n",
       "      <td>2</td>\n",
       "      <td>1</td>\n",
       "      <td>0</td>\n",
       "    </tr>\n",
       "    <tr>\n",
       "      <th>17</th>\n",
       "      <td>White</td>\n",
       "      <td>148</td>\n",
       "      <td>23.0</td>\n",
       "      <td>231</td>\n",
       "      <td>8</td>\n",
       "      <td>6</td>\n",
       "      <td>1</td>\n",
       "      <td>1</td>\n",
       "      <td>0</td>\n",
       "    </tr>\n",
       "    <tr>\n",
       "      <th>18</th>\n",
       "      <td>White</td>\n",
       "      <td>136</td>\n",
       "      <td>24.0</td>\n",
       "      <td>224</td>\n",
       "      <td>12</td>\n",
       "      <td>9</td>\n",
       "      <td>1</td>\n",
       "      <td>1</td>\n",
       "      <td>0</td>\n",
       "    </tr>\n",
       "    <tr>\n",
       "      <th>19</th>\n",
       "      <td>White</td>\n",
       "      <td>134</td>\n",
       "      <td>23.0</td>\n",
       "      <td>223</td>\n",
       "      <td>11</td>\n",
       "      <td>13</td>\n",
       "      <td>0</td>\n",
       "      <td>1</td>\n",
       "      <td>0</td>\n",
       "    </tr>\n",
       "    <tr>\n",
       "      <th>20</th>\n",
       "      <td>Black</td>\n",
       "      <td>140</td>\n",
       "      <td>24.5</td>\n",
       "      <td>223</td>\n",
       "      <td>11</td>\n",
       "      <td>13</td>\n",
       "      <td>0</td>\n",
       "      <td>1</td>\n",
       "      <td>0</td>\n",
       "    </tr>\n",
       "  </tbody>\n",
       "</table>\n",
       "</div>"
      ],
      "text/plain": [
       "   Colour  BHP  Mileage  Charge  Stroke  Cylinder  Engine  Nitro  Wing\n",
       "0   Black  159     28.0      23       7         5       2      0     0\n",
       "1   Black  144     27.0     212       6         9       1      0     0\n",
       "2   Black  147     29.0     218       6         4       1      0     0\n",
       "3   Black  145     26.0     217      17         8       1      0     0\n",
       "4   Black  150     25.0     212       6         5       2      1     0\n",
       "5   Black  165     27.0      23       7         5       2      1     0\n",
       "6   Black  154     27.0      27       5         5       2      0     0\n",
       "7   Black  146     26.0     210      10         4       1      0     0\n",
       "8   Black  152     27.0     217       8         6       1      0     0\n",
       "9   Black  151     27.0     217      11         4       1      0     0\n",
       "10  White  149     22.0     226      19        14       1      1     0\n",
       "11  White  150     21.0     216      10         8       3      0     0\n",
       "12  White  134     21.0     220      20         5       2      1     0\n",
       "13  White  139     23.0     217      19        10       1      1     0\n",
       "14  White  138     24.0     223      15         8       0      1     0\n",
       "15  White  142     24.0     225       9         5       1      0     0\n",
       "16  White  136     24.0     221      14        11       2      1     0\n",
       "17  White  148     23.0     231       8         6       1      1     0\n",
       "18  White  136     24.0     224      12         9       1      1     0\n",
       "19  White  134     23.0     223      11        13       0      1     0\n",
       "20  Black  140     24.5     223      11        13       0      1     0"
      ]
     },
     "execution_count": 17,
     "metadata": {},
     "output_type": "execute_result"
    }
   ],
   "source": [
    "texla2 = pd.read_csv('ml_texla_python_svm_2.csv')\n",
    "texla2"
   ]
  },
  {
   "cell_type": "code",
   "execution_count": 18,
   "metadata": {},
   "outputs": [
    {
     "data": {
      "image/png": "[encoded data removed]",
      "text/plain": [
       "<Figure size 433.95x360 with 1 Axes>"
      ]
     },
     "metadata": {},
     "output_type": "display_data"
    }
   ],
   "source": [
    "# Classified based on the two colours\n",
    "sns.lmplot('BHP', 'Mileage', texla2, hue='Colour',\n",
    "           palette='Set2', fit_reg=False, scatter_kws={\"s\": 70});"
   ]
  },
  {
   "cell_type": "code",
   "execution_count": 19,
   "metadata": {},
   "outputs": [
    {
     "data": {
      "image/png": "[encoded data removed]",
      "text/plain": [
       "<Figure size 433.95x360 with 1 Axes>"
      ]
     },
     "metadata": {},
     "output_type": "display_data"
    }
   ],
   "source": [
    "# Classified based on the two colours\n",
    "sns.lmplot('BHP', 'Mileage', texla2, hue='Colour',\n",
    "           palette='Set2', fit_reg=True, scatter_kws={\"s\": 77});"
   ]
  },
  {
   "cell_type": "code",
   "execution_count": 20,
   "metadata": {},
   "outputs": [
    {
     "data": {
      "text/plain": [
       "(array([[159. ,  28. ],\n",
       "        [144. ,  27. ],\n",
       "        [147. ,  29. ],\n",
       "        [145. ,  26. ],\n",
       "        [150. ,  25. ],\n",
       "        [165. ,  27. ],\n",
       "        [154. ,  27. ],\n",
       "        [146. ,  26. ],\n",
       "        [152. ,  27. ],\n",
       "        [151. ,  27. ],\n",
       "        [149. ,  22. ],\n",
       "        [150. ,  21. ],\n",
       "        [134. ,  21. ],\n",
       "        [139. ,  23. ],\n",
       "        [138. ,  24. ],\n",
       "        [142. ,  24. ],\n",
       "        [136. ,  24. ],\n",
       "        [148. ,  23. ],\n",
       "        [136. ,  24. ],\n",
       "        [134. ,  23. ],\n",
       "        [140. ,  24.5]]),\n",
       " array([0, 0, 0, 0, 0, 0, 0, 0, 0, 0, 1, 1, 1, 1, 1, 1, 1, 1, 1, 1, 0]))"
      ]
     },
     "execution_count": 20,
     "metadata": {},
     "output_type": "execute_result"
    }
   ],
   "source": [
    "# Specify inputs for the model\n",
    "params2 = texla2[['BHP','Mileage']].values\n",
    "type_label2 = np.where(texla2['Colour']=='Black', 0, 1)\n",
    "\n",
    "params2, type_label2"
   ]
  },
  {
   "cell_type": "code",
   "execution_count": 21,
   "metadata": {},
   "outputs": [
    {
     "data": {
      "text/plain": [
       "['BHP', 'Mileage', 'Charge', 'Stroke', 'Cylinder', 'Engine', 'Nitro', 'Wing']"
      ]
     },
     "execution_count": 21,
     "metadata": {},
     "output_type": "execute_result"
    }
   ],
   "source": [
    "# Feature names (Texla 2)\n",
    "texla2_features = texla2.columns.values[1:].tolist()\n",
    "texla2_features"
   ]
  },
  {
   "cell_type": "code",
   "execution_count": 22,
   "metadata": {},
   "outputs": [
    {
     "data": {
      "text/plain": [
       "SVC(C=1.0, cache_size=200, class_weight=None, coef0=0.0,\n",
       "  decision_function_shape='ovr', degree=3, gamma='auto', kernel='linear',\n",
       "  max_iter=-1, probability=False, random_state=None, shrinking=True,\n",
       "  tol=0.001, verbose=False)"
      ]
     },
     "execution_count": 22,
     "metadata": {},
     "output_type": "execute_result"
    }
   ],
   "source": [
    "# Fit the SVM model\n",
    "model2 = svm.SVC(kernel='linear')\n",
    "model2.fit(params2, type_label2)"
   ]
  },
  {
   "cell_type": "code",
   "execution_count": 23,
   "metadata": {},
   "outputs": [
    {
     "data": {
      "text/plain": [
       "(array([200.        , 198.36734694, 196.73469388, 195.10204082,\n",
       "        193.46938776, 191.83673469, 190.20408163, 188.57142857,\n",
       "        186.93877551, 185.30612245, 183.67346939, 182.04081633,\n",
       "        180.40816327, 178.7755102 , 177.14285714, 175.51020408,\n",
       "        173.87755102, 172.24489796, 170.6122449 , 168.97959184,\n",
       "        167.34693878, 165.71428571, 164.08163265, 162.44897959,\n",
       "        160.81632653, 159.18367347, 157.55102041, 155.91836735,\n",
       "        154.28571429, 152.65306122, 151.02040816, 149.3877551 ,\n",
       "        147.75510204, 146.12244898, 144.48979592, 142.85714286,\n",
       "        141.2244898 , 139.59183673, 137.95918367, 136.32653061,\n",
       "        134.69387755, 133.06122449, 131.42857143, 129.79591837,\n",
       "        128.16326531, 126.53061224, 124.89795918, 123.26530612,\n",
       "        121.63265306, 120.        ]),\n",
       " array([18.89988326, 19.06314857, 19.22641388, 19.38967918, 19.55294449,\n",
       "        19.7162098 , 19.8794751 , 20.04274041, 20.20600571, 20.36927102,\n",
       "        20.53253633, 20.69580163, 20.85906694, 21.02233224, 21.18559755,\n",
       "        21.34886286, 21.51212816, 21.67539347, 21.83865877, 22.00192408,\n",
       "        22.16518939, 22.32845469, 22.49172   , 22.65498531, 22.81825061,\n",
       "        22.98151592, 23.14478122, 23.30804653, 23.47131184, 23.63457714,\n",
       "        23.79784245, 23.96110775, 24.12437306, 24.28763837, 24.45090367,\n",
       "        24.61416898, 24.77743428, 24.94069959, 25.1039649 , 25.2672302 ,\n",
       "        25.43049551, 25.59376082, 25.75702612, 25.92029143, 26.08355673,\n",
       "        26.24682204, 26.41008735, 26.57335265, 26.73661796, 26.89988326]))"
      ]
     },
     "execution_count": 23,
     "metadata": {},
     "output_type": "execute_result"
    }
   ],
   "source": [
    "# Get the separating hyperplane\n",
    "w = model2.coef_[0]\n",
    "a = -w[0] / w[1]\n",
    "xx = np.linspace(200, 120)\n",
    "yy = a * xx - (model2.intercept_[0]) / w[1]\n",
    "\n",
    "xx, yy"
   ]
  },
  {
   "cell_type": "code",
   "execution_count": 24,
   "metadata": {},
   "outputs": [],
   "source": [
    "# Plot the parallels to the separating hyperplane that pass through the support vectors\n",
    "b = model2.support_vectors_[0]\n",
    "yy_down = a * xx + (b[1] - a * b[0])\n",
    "b = model2.support_vectors_[-1]\n",
    "yy_up = a * xx + (b[1] - a * b[0])"
   ]
  },
  {
   "cell_type": "code",
   "execution_count": 25,
   "metadata": {},
   "outputs": [
    {
     "data": {
      "image/png": "[encoded data removed]",
      "text/plain": [
       "<Figure size 433.95x360 with 1 Axes>"
      ]
     },
     "metadata": {},
     "output_type": "display_data"
    }
   ],
   "source": [
    "# Plot the hyperplane\n",
    "sns.lmplot('BHP', 'Mileage', data=texla2, hue='Colour', palette='Set2', fit_reg=False, scatter_kws={\"s\": 60})\n",
    "plt.plot(xx, yy, linewidth=2, color='green');"
   ]
  },
  {
   "cell_type": "code",
   "execution_count": 26,
   "metadata": {},
   "outputs": [
    {
     "data": {
      "image/png": "[encoded data removed]",
      "text/plain": [
       "<Figure size 433.95x360 with 1 Axes>"
      ]
     },
     "metadata": {},
     "output_type": "display_data"
    }
   ],
   "source": [
    "# Look at the margins and support vectors\n",
    "sns.lmplot('BHP', 'Mileage', data=texla2, hue='Colour', palette='Set3', fit_reg=False, scatter_kws={\"s\": 77})\n",
    "plt.plot(xx, yy, linewidth=2, color='black')\n",
    "plt.plot(xx, yy_down, 'k--')\n",
    "plt.plot(xx, yy_up, 'k--')\n",
    "plt.scatter(model2.support_vectors_[:, 0], model2.support_vectors_[:, 1], \n",
    "            s=80, facecolors='none');"
   ]
  },
  {
   "cell_type": "code",
   "execution_count": 27,
   "metadata": {},
   "outputs": [
    {
     "data": {
      "text/plain": [
       "SVC(C=0.1, cache_size=200, class_weight=None, coef0=0.0,\n",
       "  decision_function_shape='ovr', degree=3, gamma='auto', kernel='linear',\n",
       "  max_iter=-1, probability=False, random_state=None, shrinking=True,\n",
       "  tol=0.001, verbose=False)"
      ]
     },
     "execution_count": 27,
     "metadata": {},
     "output_type": "execute_result"
    }
   ],
   "source": [
    "# Fit the SVM model\n",
    "model3 = svm.SVC(kernel='linear', C=0.1)\n",
    "model3.fit(params2, type_label2)"
   ]
  },
  {
   "cell_type": "code",
   "execution_count": 28,
   "metadata": {},
   "outputs": [
    {
     "data": {
      "text/plain": [
       "(array([200.        , 198.36734694, 196.73469388, 195.10204082,\n",
       "        193.46938776, 191.83673469, 190.20408163, 188.57142857,\n",
       "        186.93877551, 185.30612245, 183.67346939, 182.04081633,\n",
       "        180.40816327, 178.7755102 , 177.14285714, 175.51020408,\n",
       "        173.87755102, 172.24489796, 170.6122449 , 168.97959184,\n",
       "        167.34693878, 165.71428571, 164.08163265, 162.44897959,\n",
       "        160.81632653, 159.18367347, 157.55102041, 155.91836735,\n",
       "        154.28571429, 152.65306122, 151.02040816, 149.3877551 ,\n",
       "        147.75510204, 146.12244898, 144.48979592, 142.85714286,\n",
       "        141.2244898 , 139.59183673, 137.95918367, 136.32653061,\n",
       "        134.69387755, 133.06122449, 131.42857143, 129.79591837,\n",
       "        128.16326531, 126.53061224, 124.89795918, 123.26530612,\n",
       "        121.63265306, 120.        ]),\n",
       " array([14.45471801, 14.75156402, 15.04841003, 15.34525604, 15.64210205,\n",
       "        15.93894807, 16.23579408, 16.53264009, 16.8294861 , 17.12633211,\n",
       "        17.42317812, 17.72002413, 18.01687014, 18.31371615, 18.61056217,\n",
       "        18.90740818, 19.20425419, 19.5011002 , 19.79794621, 20.09479222,\n",
       "        20.39163823, 20.68848424, 20.98533026, 21.28217627, 21.57902228,\n",
       "        21.87586829, 22.1727143 , 22.46956031, 22.76640632, 23.06325233,\n",
       "        23.36009834, 23.65694436, 23.95379037, 24.25063638, 24.54748239,\n",
       "        24.8443284 , 25.14117441, 25.43802042, 25.73486643, 26.03171244,\n",
       "        26.32855846, 26.62540447, 26.92225048, 27.21909649, 27.5159425 ,\n",
       "        27.81278851, 28.10963452, 28.40648053, 28.70332654, 29.00017256]))"
      ]
     },
     "execution_count": 28,
     "metadata": {},
     "output_type": "execute_result"
    }
   ],
   "source": [
    "# Get the separating hyperplane\n",
    "w = model3.coef_[0]\n",
    "a = -w[0] / w[1]\n",
    "xx = np.linspace(200, 120)\n",
    "yy = a * xx - (model3.intercept_[0]) / w[1]\n",
    "\n",
    "xx, yy"
   ]
  },
  {
   "cell_type": "code",
   "execution_count": 29,
   "metadata": {},
   "outputs": [],
   "source": [
    "# Plot the parallels to the separating hyperplane that pass through the support vectors\n",
    "b = model3.support_vectors_[0]\n",
    "yy_down = a * xx + (b[1] - a * b[0])\n",
    "b = model3.support_vectors_[-1]\n",
    "yy_up = a * xx + (b[1] - a * b[0])"
   ]
  },
  {
   "cell_type": "code",
   "execution_count": 30,
   "metadata": {},
   "outputs": [
    {
     "data": {
      "image/png": "[encoded data removed]",
      "text/plain": [
       "<Figure size 433.95x360 with 1 Axes>"
      ]
     },
     "metadata": {},
     "output_type": "display_data"
    }
   ],
   "source": [
    "# Look at the margins and support vectors\n",
    "sns.lmplot('BHP', 'Mileage', data=texla2, hue='Colour', palette='Set3', fit_reg=False, scatter_kws={\"s\": 77})\n",
    "plt.plot(xx, yy, linewidth=2, color='black')\n",
    "plt.plot(xx, yy_down, 'k--')\n",
    "plt.plot(xx, yy_up, 'k--')\n",
    "plt.scatter(model3.support_vectors_[:, 0], model3.support_vectors_[:, 1], \n",
    "            s=80, facecolors='none');"
   ]
  },
  {
   "cell_type": "markdown",
   "metadata": {},
   "source": [
    "### Cost of misclassification"
   ]
  },
  {
   "cell_type": "markdown",
   "metadata": {},
   "source": [
    "C is the cost of misclassification. <br/>\n",
    "\n",
    "A large C gives you low bias and high variance; low bias because you penalize the cost of misclassification a lot. A small C gives you higher bias and lower variance."
   ]
  },
  {
   "cell_type": "code",
   "execution_count": 31,
   "metadata": {},
   "outputs": [],
   "source": [
    "# Create a function to predict\n",
    "def black_or_white2(bhp, mileage):\n",
    "    if(model2.predict([[bhp, mileage]]))==0:\n",
    "        print('Black Tesla!!')\n",
    "    else:\n",
    "        print('White Tesla!!')"
   ]
  },
  {
   "cell_type": "code",
   "execution_count": 32,
   "metadata": {},
   "outputs": [
    {
     "name": "stdout",
     "output_type": "stream",
     "text": [
      "Black Tesla!!\n"
     ]
    }
   ],
   "source": [
    "black_or_white2(165,30)"
   ]
  },
  {
   "cell_type": "markdown",
   "metadata": {},
   "source": [
    "### The model (with one mis-classification) is able to predict accurately for the same input"
   ]
  },
  {
   "cell_type": "code",
   "execution_count": 33,
   "metadata": {},
   "outputs": [
    {
     "data": {
      "image/png": "[encoded data removed]",
      "text/plain": [
       "<Figure size 433.95x360 with 1 Axes>"
      ]
     },
     "metadata": {},
     "output_type": "display_data"
    }
   ],
   "source": [
    "# Plot the point to visually see where the point lies\n",
    "sns.lmplot('BHP', 'Mileage', data=texla2, hue='Colour', palette='Set1', fit_reg=False, scatter_kws={\"s\": 70})\n",
    "plt.plot(xx, yy, linewidth=2, color='red')\n",
    "plt.plot(165, 30, 'yo', markersize='9');"
   ]
  },
  {
   "cell_type": "markdown",
   "metadata": {},
   "source": [
    "## What will happen when we give a value closer/same as the misclassified?"
   ]
  },
  {
   "cell_type": "code",
   "execution_count": 34,
   "metadata": {},
   "outputs": [
    {
     "name": "stdout",
     "output_type": "stream",
     "text": [
      "Black Tesla!!\n"
     ]
    }
   ],
   "source": [
    "black_or_white2(140, 25)"
   ]
  },
  {
   "cell_type": "code",
   "execution_count": 35,
   "metadata": {},
   "outputs": [
    {
     "name": "stdout",
     "output_type": "stream",
     "text": [
      "White Tesla!!\n"
     ]
    }
   ],
   "source": [
    "black_or_white2(140, 24)"
   ]
  },
  {
   "cell_type": "code",
   "execution_count": 36,
   "metadata": {},
   "outputs": [
    {
     "data": {
      "image/png": "[encoded data removed]",
      "text/plain": [
       "<Figure size 433.95x360 with 1 Axes>"
      ]
     },
     "metadata": {},
     "output_type": "display_data"
    }
   ],
   "source": [
    "# Plot the point to visually see where the point lies\n",
    "sns.lmplot('BHP', 'Mileage', data=texla2, hue='Colour', palette='Set1', fit_reg=False, scatter_kws={\"s\": 70})\n",
    "plt.plot(xx, yy, linewidth=2, color='red')\n",
    "plt.plot(140, 25, 'yd', markersize='9'); #black\n",
    "plt.plot(140, 24, 'rs', markersize='9'); #white"
   ]
  },
  {
   "cell_type": "markdown",
   "metadata": {},
   "source": [
    "# Pickle"
   ]
  },
  {
   "cell_type": "code",
   "execution_count": 37,
   "metadata": {},
   "outputs": [],
   "source": [
    "b_or_w_texla_dict = {'texla_model': model, 'texla_features': ['BHP','Mileage'], 'full_features': texla_features}"
   ]
  },
  {
   "cell_type": "code",
   "execution_count": 38,
   "metadata": {},
   "outputs": [
    {
     "data": {
      "text/plain": [
       "{'full_features': ['BHP',\n",
       "  'Mileage',\n",
       "  'Charge',\n",
       "  'Stroke',\n",
       "  'Cylinder',\n",
       "  'Engine',\n",
       "  'Nitro',\n",
       "  'Wing'],\n",
       " 'texla_features': ['BHP', 'Mileage'],\n",
       " 'texla_model': SVC(C=1.0, cache_size=200, class_weight=None, coef0=0.0,\n",
       "   decision_function_shape='ovr', degree=3, gamma='auto', kernel='linear',\n",
       "   max_iter=-1, probability=False, random_state=None, shrinking=True,\n",
       "   tol=0.001, verbose=False)}"
      ]
     },
     "execution_count": 38,
     "metadata": {},
     "output_type": "execute_result"
    }
   ],
   "source": [
    "b_or_w_texla_dict"
   ]
  },
  {
   "cell_type": "code",
   "execution_count": 39,
   "metadata": {},
   "outputs": [],
   "source": [
    "# Pickle\n",
    "pickle.dump(b_or_w_texla_dict, open(\"b_or_w_texla_dict.pkl\", \"wb\"))"
   ]
  },
  {
   "cell_type": "code",
   "execution_count": 40,
   "metadata": {},
   "outputs": [
    {
     "data": {
      "text/plain": [
       "b'\\x80\\x03}q\\x00(X\\x0b\\x00\\x00\\x00texla_modelq\\x01csklearn.svm.classes\\nSVC\\nq\\x02)\\x81q\\x03}q\\x04(X\\x17\\x00\\x00\\x00decision_function_shapeq\\x05X\\x03\\x00\\x00\\x00ovrq\\x06X\\x05\\x00\\x00\\x00_implq\\x07X\\x05\\x00\\x00\\x00c_svcq\\x08X\\x06\\x00\\x00\\x00kernelq\\tX\\x06\\x00\\x00\\x00linearq\\nX\\x06\\x00\\x00\\x00degreeq\\x0bK\\x03X\\x05\\x00\\x00\\x00gammaq\\x0cX\\x04\\x00\\x00\\x00autoq\\rX\\x05\\x00\\x00\\x00coef0q\\x0eG\\x00\\x00\\x00\\x00\\x00\\x00\\x00\\x00X\\x03\\x00\\x00\\x00tolq\\x0fG?PbM\\xd2\\xf1\\xa9\\xfcX\\x01\\x00\\x00\\x00Cq\\x10G?\\xf0\\x00\\x00\\x00\\x00\\x00\\x00X\\x02\\x00\\x00\\x00nuq\\x11G\\x00\\x00\\x00\\x00\\x00\\x00\\x00\\x00X\\x07\\x00\\x00\\x00epsilonq\\x12G\\x00\\x00\\x00\\x00\\x00\\x00\\x00\\x00X\\t\\x00\\x00\\x00shrinkingq\\x13\\x88X\\x0b\\x00\\x00\\x00probabilityq\\x14\\x89X\\n\\x00\\x00\\x00cache_sizeq\\x15K\\xc8X\\x0c\\x00\\x00\\x00class_weightq\\x16NX\\x07\\x00\\x00\\x00verboseq\\x17\\x89X\\x08\\x00\\x00\\x00max_iterq\\x18J\\xff\\xff\\xff\\xffX\\x0c\\x00\\x00\\x00random_stateq\\x19NX\\x07\\x00\\x00\\x00_sparseq\\x1a\\x89X\\r\\x00\\x00\\x00class_weight_q\\x1bcnumpy.core.multiarray\\n_reconstruct\\nq\\x1ccnumpy\\nndarray\\nq\\x1dK\\x00\\x85q\\x1eC\\x01bq\\x1f\\x87q Rq!(K\\x01K\\x02\\x85q\"cnumpy\\ndtype\\nq#X\\x02\\x00\\x00\\x00f8q$K\\x00K\\x01\\x87q%Rq&(K\\x03X\\x01\\x00\\x00\\x00<q\\'NNNJ\\xff\\xff\\xff\\xffJ\\xff\\xff\\xff\\xffK\\x00tq(b\\x89C\\x10\\x00\\x00\\x00\\x00\\x00\\x00\\xf0?\\x00\\x00\\x00\\x00\\x00\\x00\\xf0?q)tq*bX\\x08\\x00\\x00\\x00classes_q+h\\x1ch\\x1dK\\x00\\x85q,h\\x1f\\x87q-Rq.(K\\x01K\\x02\\x85q/h#X\\x02\\x00\\x00\\x00i4q0K\\x00K\\x01\\x87q1Rq2(K\\x03h\\'NNNJ\\xff\\xff\\xff\\xffJ\\xff\\xff\\xff\\xffK\\x00tq3b\\x89C\\x08\\x00\\x00\\x00\\x00\\x01\\x00\\x00\\x00q4tq5bX\\x06\\x00\\x00\\x00_gammaq6G?\\xe0\\x00\\x00\\x00\\x00\\x00\\x00X\\x08\\x00\\x00\\x00support_q7h\\x1ch\\x1dK\\x00\\x85q8h\\x1f\\x87q9Rq:(K\\x01K\\x03\\x85q;h2\\x89C\\x0c\\x03\\x00\\x00\\x00\\x04\\x00\\x00\\x00\\x11\\x00\\x00\\x00q<tq=bX\\x10\\x00\\x00\\x00support_vectors_q>h\\x1ch\\x1dK\\x00\\x85q?h\\x1f\\x87q@RqA(K\\x01K\\x03K\\x02\\x86qBh&\\x89C0\\x00\\x00\\x00\\x00\\x00 b@\\x00\\x00\\x00\\x00\\x00\\x00:@\\x00\\x00\\x00\\x00\\x00\\xc0b@\\x00\\x00\\x00\\x00\\x00\\x009@\\x00\\x00\\x00\\x00\\x00\\x80b@\\x00\\x00\\x00\\x00\\x00\\x007@qCtqDbX\\n\\x00\\x00\\x00n_support_qEh\\x1ch\\x1dK\\x00\\x85qFh\\x1f\\x87qGRqH(K\\x01K\\x02\\x85qIh2\\x89C\\x08\\x02\\x00\\x00\\x00\\x01\\x00\\x00\\x00qJtqKbX\\n\\x00\\x00\\x00dual_coef_qLh\\x1ch\\x1dK\\x00\\x85qMh\\x1f\\x87qNRqO(K\\x01K\\x01K\\x03\\x86qPh&\\x89C\\x18\\xaa\\xcaq\\x1c\\xc7q\\xbc\\xbf\\x9f\\x00\\x00\\x00\\x00\\x00\\xd0\\xbfIs\\x1c\\xc7q\\x1c\\xd7?qQtqRbX\\n\\x00\\x00\\x00intercept_qSh\\x1ch\\x1dK\\x00\\x85qTh\\x1f\\x87qURqV(K\\x01K\\x01\\x85qWh&\\x89C\\x08\\xe5\\xa9\\xaa\\xaa\\xaajF@qXtqYbX\\x06\\x00\\x00\\x00probA_qZh\\x1ch\\x1dK\\x00\\x85q[h\\x1f\\x87q\\\\Rq](K\\x01K\\x00\\x85q^h&\\x89C\\x00q_tq`bX\\x06\\x00\\x00\\x00probB_qah\\x1ch\\x1dK\\x00\\x85qbh\\x1f\\x87qcRqd(K\\x01K\\x00\\x85qeh&\\x89h_tqfbX\\x0b\\x00\\x00\\x00fit_status_qgK\\x00X\\n\\x00\\x00\\x00shape_fit_qhK\\x14K\\x02\\x86qiX\\x0b\\x00\\x00\\x00_intercept_qjh\\x1ch\\x1dK\\x00\\x85qkh\\x1f\\x87qlRqm(K\\x01K\\x01\\x85qnh&\\x89C\\x08\\xe5\\xa9\\xaa\\xaa\\xaajF\\xc0qotqpbX\\x0b\\x00\\x00\\x00_dual_coef_qqh\\x1ch\\x1dK\\x00\\x85qrh\\x1f\\x87qsRqt(K\\x01K\\x01K\\x03\\x86quh&\\x89C\\x18\\xaa\\xcaq\\x1c\\xc7q\\xbc?\\x9f\\x00\\x00\\x00\\x00\\x00\\xd0?Is\\x1c\\xc7q\\x1c\\xd7\\xbfqvtqwbX\\x10\\x00\\x00\\x00_sklearn_versionqxX\\x06\\x00\\x00\\x000.19.1qyubX\\x0e\\x00\\x00\\x00texla_featuresqz]q{(X\\x03\\x00\\x00\\x00BHPq|X\\x07\\x00\\x00\\x00Mileageq}eX\\r\\x00\\x00\\x00full_featuresq~]q\\x7f(X\\x03\\x00\\x00\\x00BHPq\\x80X\\x07\\x00\\x00\\x00Mileageq\\x81X\\x06\\x00\\x00\\x00Chargeq\\x82X\\x06\\x00\\x00\\x00Strokeq\\x83X\\x08\\x00\\x00\\x00Cylinderq\\x84X\\x06\\x00\\x00\\x00Engineq\\x85X\\x05\\x00\\x00\\x00Nitroq\\x86X\\x04\\x00\\x00\\x00Wingq\\x87eu.'"
      ]
     },
     "execution_count": 40,
     "metadata": {},
     "output_type": "execute_result"
    }
   ],
   "source": [
    "pickle.dumps(b_or_w_texla_dict)"
   ]
  },
  {
   "cell_type": "markdown",
   "metadata": {},
   "source": [
    "#### Summary"
   ]
  },
  {
   "cell_type": "markdown",
   "metadata": {},
   "source": [
    "C controls the cost of misclassification on the training data. (Regularisation parameter)\n",
    "\n",
    "The goal of SVM is to find a hyper plane that would leave the widest possible \"cushion\" between input points from two classes. There is a trade-off between \"narrow cushion, little / no mistakes\" and \"wide cushion, quite a few mistakes\".\n",
    "\n",
    "Learning algorithms are about generalizing from input data, not explaining it. This is not to mention that, \"thanks to\" the curse of dimensionality, in large number of dimensions training data can often be explained quite well by over fitting the model.\n",
    "\n",
    "Therefore, often times it is desirable to specifically allow some training points to be misclassified in order to have an \"overall better\" position of the separating hyper plane.\n",
    "\n",
    "•\tMathematically, \"better\" translates to \"optimizing cost function valuing mistakes with certain coefficient\".\n",
    "•\tIntuitively, \"better\" implies \"wider cushion, a few mistakes allowed\".\n",
    "•\tPractically \"better\" is to be understood as \"performs well on real data\".\n",
    "\n",
    "Small C makes the cost of misclassification low (\"soft margin\"), thus allowing more of them for the sake of wider \"cushion\".\n",
    "\n",
    "Large C makes the cost of misclassification high ('hard margin\"), thus forcing the algorithm to explain the input data stricter and potentially overfit.\n",
    "\n",
    "The goal is to find the balance between \"not too strict\" and \"not too loose\". Cross-validation and resampling, along with grid search, are good ways to finding the best C.\n"
   ]
  },
  {
   "cell_type": "code",
   "execution_count": null,
   "metadata": {},
   "outputs": [],
   "source": []
  }
 ],
 "metadata": {
  "kernelspec": {
   "display_name": "Python 3",
   "language": "python",
   "name": "python3"
  },
  "language_info": {
   "codemirror_mode": {
    "name": "ipython",
    "version": 3
   },
   "file_extension": ".py",
   "mimetype": "text/x-python",
   "name": "python",
   "nbconvert_exporter": "python",
   "pygments_lexer": "ipython3",
   "version": "3.6.4"
  }
 },
 "nbformat": 4,
 "nbformat_minor": 2
}
