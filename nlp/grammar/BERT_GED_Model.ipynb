{
  "nbformat": 4,
  "nbformat_minor": 0,
  "metadata": {
    "colab": {
      "name": "BERT_GED_Model.ipynb",
      "version": "0.3.2",
      "provenance": [],
      "collapsed_sections": []
    },
    "kernelspec": {
      "name": "python3",
      "display_name": "Python 3"
    },
    "accelerator": "GPU"
  },
  "cells": [
    {
      "cell_type": "markdown",
      "metadata": {
        "id": "3zIhIuKkqrIa",
        "colab_type": "text"
      },
      "source": [
        "# **Grammar Error Detection using BERT**\n",
        "\n",
        "\n",
        "***FIne tune BERT model with CoLA dataset for single sentence classification task***\n",
        "\n",
        "Sunil Chomal | sunilchomal@gmail.com"
      ]
    },
    {
      "cell_type": "code",
      "metadata": {
        "id": "h_oI8_2Oq78F",
        "colab_type": "code",
        "colab": {
          "resources": {
            "http://localhost:8080/nbextensions/google.colab/GED.png": {
              "data": "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",
              "ok": true,
              "headers": [
                [
                  "content-type",
                  "image/png"
                ]
              ],
              "status": 200,
              "status_text": ""
            }
          },
          "base_uri": "https://localhost:8080/",
          "height": 306
        },
        "outputId": "9a902a50-00a0-47fb-d09b-07100f318d07"
      },
      "source": [
        "%%html\n",
        "<img src='/nbextensions/google.colab/GED.png' />"
      ],
      "execution_count": 2,
      "outputs": [
        {
          "output_type": "display_data",
          "data": {
            "text/html": [
              "<img src='/nbextensions/google.colab/GED.png' />"
            ],
            "text/plain": [
              "<IPython.core.display.HTML object>"
            ]
          },
          "metadata": {
            "tags": []
          }
        }
      ]
    },
    {
      "cell_type": "markdown",
      "metadata": {
        "id": "lOyxKb5frPzC",
        "colab_type": "text"
      },
      "source": [
        "•\tWe use the bert-base-uncased as the pre trained model. It consists of 12-layer, 768-hidden, 12-heads, 110M parameters and is trained on lower-cased English text. \n",
        "\n",
        "•\tFor fine-tuning we have used CoLA dataset for single sentence classification. \n",
        "\n",
        "•\tBertForSequenceClassification is a BERT model transformer with a sequence classification/regression head on top (a linear layer on top of the pooled output). \n",
        "\n",
        "•\tWe trained the network for 4 epochs, and on Google Colab with a Tesla K80 GPU, it takes about 25 minutes. After training we get a training loss of 0.1 and a validation accuracy of 0.81.\n",
        "\n",
        "•\tUsing the out of domain validation data to calculate the Matthews correlation coefficient, we achieve a value of 0.44\n"
      ]
    },
    {
      "cell_type": "code",
      "metadata": {
        "id": "Bs-CfpZrH2VC",
        "colab_type": "code",
        "outputId": "5cf1bb5b-2dd5-4e4f-fabb-419862fcdcae",
        "colab": {
          "base_uri": "https://localhost:8080/",
          "height": 34
        }
      },
      "source": [
        "import tensorflow as tf\n",
        "\n",
        "# Check to confirm that GPU is available\n",
        "device_name = tf.test.gpu_device_name()\n",
        "if device_name != '/device:GPU:0':\n",
        "  raise SystemError ('GPU device not found')\n",
        "\n",
        "print('Found GPU at: {}'.format(device_name))\n"
      ],
      "execution_count": 1,
      "outputs": [
        {
          "output_type": "stream",
          "text": [
            "Found GPU at: /device:GPU:0\n"
          ],
          "name": "stdout"
        }
      ]
    },
    {
      "cell_type": "code",
      "metadata": {
        "id": "r_fey_VSIdEX",
        "colab_type": "code",
        "outputId": "9d6d3329-a36c-49cb-f54a-c1a3913fe457",
        "colab": {
          "base_uri": "https://localhost:8080/",
          "height": 493
        }
      },
      "source": [
        "# install pytorch_pretrained_bert the previous version of Pytorch-Transformers\n",
        "!pip install pytorch-pretrained-bert"
      ],
      "execution_count": 2,
      "outputs": [
        {
          "output_type": "stream",
          "text": [
            "Collecting pytorch-pretrained-bert\n",
            "\u001b[?25l  Downloading https://files.pythonhosted.org/packages/d7/e0/c08d5553b89973d9a240605b9c12404bcf8227590de62bae27acbcfe076b/pytorch_pretrained_bert-0.6.2-py3-none-any.whl (123kB)\n",
            "\r\u001b[K     |██▋                             | 10kB 12.8MB/s eta 0:00:01\r\u001b[K     |█████▎                          | 20kB 4.6MB/s eta 0:00:01\r\u001b[K     |████████                        | 30kB 6.5MB/s eta 0:00:01\r\u001b[K     |██████████▋                     | 40kB 4.1MB/s eta 0:00:01\r\u001b[K     |█████████████▎                  | 51kB 5.0MB/s eta 0:00:01\r\u001b[K     |███████████████▉                | 61kB 5.8MB/s eta 0:00:01\r\u001b[K     |██████████████████▌             | 71kB 6.6MB/s eta 0:00:01\r\u001b[K     |█████████████████████▏          | 81kB 7.4MB/s eta 0:00:01\r\u001b[K     |███████████████████████▉        | 92kB 8.2MB/s eta 0:00:01\r\u001b[K     |██████████████████████████▌     | 102kB 6.5MB/s eta 0:00:01\r\u001b[K     |█████████████████████████████▏  | 112kB 6.5MB/s eta 0:00:01\r\u001b[K     |███████████████████████████████▊| 122kB 6.5MB/s eta 0:00:01\r\u001b[K     |████████████████████████████████| 133kB 6.5MB/s \n",
            "\u001b[?25hRequirement already satisfied: torch>=0.4.1 in /usr/local/lib/python3.6/dist-packages (from pytorch-pretrained-bert) (1.1.0)\n",
            "Requirement already satisfied: numpy in /usr/local/lib/python3.6/dist-packages (from pytorch-pretrained-bert) (1.16.4)\n",
            "Collecting regex (from pytorch-pretrained-bert)\n",
            "\u001b[?25l  Downloading https://files.pythonhosted.org/packages/6f/4e/1b178c38c9a1a184288f72065a65ca01f3154df43c6ad898624149b8b4e0/regex-2019.06.08.tar.gz (651kB)\n",
            "\u001b[K     |████████████████████████████████| 655kB 36.8MB/s \n",
            "\u001b[?25hRequirement already satisfied: requests in /usr/local/lib/python3.6/dist-packages (from pytorch-pretrained-bert) (2.21.0)\n",
            "Requirement already satisfied: tqdm in /usr/local/lib/python3.6/dist-packages (from pytorch-pretrained-bert) (4.28.1)\n",
            "Requirement already satisfied: boto3 in /usr/local/lib/python3.6/dist-packages (from pytorch-pretrained-bert) (1.9.189)\n",
            "Requirement already satisfied: urllib3<1.25,>=1.21.1 in /usr/local/lib/python3.6/dist-packages (from requests->pytorch-pretrained-bert) (1.24.3)\n",
            "Requirement already satisfied: certifi>=2017.4.17 in /usr/local/lib/python3.6/dist-packages (from requests->pytorch-pretrained-bert) (2019.6.16)\n",
            "Requirement already satisfied: chardet<3.1.0,>=3.0.2 in /usr/local/lib/python3.6/dist-packages (from requests->pytorch-pretrained-bert) (3.0.4)\n",
            "Requirement already satisfied: idna<2.9,>=2.5 in /usr/local/lib/python3.6/dist-packages (from requests->pytorch-pretrained-bert) (2.8)\n",
            "Requirement already satisfied: s3transfer<0.3.0,>=0.2.0 in /usr/local/lib/python3.6/dist-packages (from boto3->pytorch-pretrained-bert) (0.2.1)\n",
            "Requirement already satisfied: botocore<1.13.0,>=1.12.189 in /usr/local/lib/python3.6/dist-packages (from boto3->pytorch-pretrained-bert) (1.12.189)\n",
            "Requirement already satisfied: jmespath<1.0.0,>=0.7.1 in /usr/local/lib/python3.6/dist-packages (from boto3->pytorch-pretrained-bert) (0.9.4)\n",
            "Requirement already satisfied: docutils>=0.10 in /usr/local/lib/python3.6/dist-packages (from botocore<1.13.0,>=1.12.189->boto3->pytorch-pretrained-bert) (0.14)\n",
            "Requirement already satisfied: python-dateutil<3.0.0,>=2.1; python_version >= \"2.7\" in /usr/local/lib/python3.6/dist-packages (from botocore<1.13.0,>=1.12.189->boto3->pytorch-pretrained-bert) (2.5.3)\n",
            "Requirement already satisfied: six>=1.5 in /usr/local/lib/python3.6/dist-packages (from python-dateutil<3.0.0,>=2.1; python_version >= \"2.7\"->botocore<1.13.0,>=1.12.189->boto3->pytorch-pretrained-bert) (1.12.0)\n",
            "Building wheels for collected packages: regex\n",
            "  Building wheel for regex (setup.py) ... \u001b[?25l\u001b[?25hdone\n",
            "  Created wheel for regex: filename=regex-2019.6.8-cp36-cp36m-linux_x86_64.whl size=604157 sha256=565209ce681f2ffabb117266d3f0d1919824936c5c82b0c0a4b10684fde7cebc\n",
            "  Stored in directory: /root/.cache/pip/wheels/35/e4/80/abf3b33ba89cf65cd262af8a22a5a999cc28fbfabea6b38473\n",
            "Successfully built regex\n",
            "Installing collected packages: regex, pytorch-pretrained-bert\n",
            "Successfully installed pytorch-pretrained-bert-0.6.2 regex-2019.6.8\n"
          ],
          "name": "stdout"
        }
      ]
    },
    {
      "cell_type": "code",
      "metadata": {
        "id": "v5J3Sg8BI5d1",
        "colab_type": "code",
        "outputId": "12790aa5-546f-479f-8c2a-d49677533614",
        "colab": {
          "base_uri": "https://localhost:8080/",
          "height": 34
        }
      },
      "source": [
        "import torch\n",
        "from torch.utils.data import TensorDataset, DataLoader, RandomSampler, SequentialSampler\n",
        "from keras.preprocessing.sequence import pad_sequences\n",
        "from sklearn.model_selection import train_test_split\n",
        "from pytorch_pretrained_bert import BertTokenizer, BertConfig\n",
        "from pytorch_pretrained_bert import BertAdam, BertForSequenceClassification\n",
        "from tqdm import tqdm , trange\n",
        "import pandas as pd\n",
        "import io\n",
        "import numpy as np\n",
        "import matplotlib.pyplot as plt"
      ],
      "execution_count": 3,
      "outputs": [
        {
          "output_type": "stream",
          "text": [
            "Using TensorFlow backend.\n"
          ],
          "name": "stderr"
        }
      ]
    },
    {
      "cell_type": "code",
      "metadata": {
        "id": "XRi3RT4HJJF3",
        "colab_type": "code",
        "outputId": "5c3c1f44-54dd-4828-ce27-d19d66027012",
        "colab": {
          "base_uri": "https://localhost:8080/",
          "height": 34
        }
      },
      "source": [
        "# Check to confirm the specific GPU model\n",
        "device = torch.device(\"cuda\" if torch.cuda.is_available() else \"cpu\")\n",
        "n_gpu = torch.cuda.device_count()\n",
        "torch.cuda.get_device_name(0)"
      ],
      "execution_count": 4,
      "outputs": [
        {
          "output_type": "execute_result",
          "data": {
            "text/plain": [
              "'Tesla K80'"
            ]
          },
          "metadata": {
            "tags": []
          },
          "execution_count": 4
        }
      ]
    },
    {
      "cell_type": "code",
      "metadata": {
        "id": "ekPBgVofJcWW",
        "colab_type": "code",
        "colab": {}
      },
      "source": [
        "# Download Data\n",
        "# source: https://nyu-mll.github.io/CoLA\n",
        "# from google.colab import files\n",
        "# uploaded = files.upload()"
      ],
      "execution_count": 0,
      "outputs": []
    },
    {
      "cell_type": "code",
      "metadata": {
        "id": "8wChGOUbFlaz",
        "colab_type": "code",
        "colab": {
          "base_uri": "https://localhost:8080/",
          "height": 391
        },
        "outputId": "2f7a6996-efc3-4f99-88f5-209a1204a2ed"
      },
      "source": [
        "# Get CoLA dataset from its official source\n",
        "\n",
        "!wget https://nyu-mll.github.io/CoLA/cola_public_1.1.zip\n",
        "!unzip cola_public_1.1.zip \n",
        "!cp ./cola_public/raw/in_domain_train.tsv .\n",
        "!cp ./cola_public/raw/out_of_domain_dev.tsv ."
      ],
      "execution_count": 6,
      "outputs": [
        {
          "output_type": "stream",
          "text": [
            "--2019-08-02 09:18:46--  https://nyu-mll.github.io/CoLA/cola_public_1.1.zip\n",
            "Resolving nyu-mll.github.io (nyu-mll.github.io)... 185.199.108.153, 185.199.110.153, 185.199.109.153, ...\n",
            "Connecting to nyu-mll.github.io (nyu-mll.github.io)|185.199.108.153|:443... connected.\n",
            "HTTP request sent, awaiting response... 200 OK\n",
            "Length: 255330 (249K) [application/zip]\n",
            "Saving to: ‘cola_public_1.1.zip’\n",
            "\n",
            "\rcola_public_1.1.zip   0%[                    ]       0  --.-KB/s               \rcola_public_1.1.zip 100%[===================>] 249.35K  --.-KB/s    in 0.02s   \n",
            "\n",
            "2019-08-02 09:18:47 (11.6 MB/s) - ‘cola_public_1.1.zip’ saved [255330/255330]\n",
            "\n",
            "Archive:  cola_public_1.1.zip\n",
            "   creating: cola_public/\n",
            "  inflating: cola_public/README      \n",
            "   creating: cola_public/tokenized/\n",
            "  inflating: cola_public/tokenized/in_domain_dev.tsv  \n",
            "  inflating: cola_public/tokenized/in_domain_train.tsv  \n",
            "  inflating: cola_public/tokenized/out_of_domain_dev.tsv  \n",
            "   creating: cola_public/raw/\n",
            "  inflating: cola_public/raw/in_domain_dev.tsv  \n",
            "  inflating: cola_public/raw/in_domain_train.tsv  \n",
            "  inflating: cola_public/raw/out_of_domain_dev.tsv  \n"
          ],
          "name": "stdout"
        }
      ]
    },
    {
      "cell_type": "code",
      "metadata": {
        "id": "jHQ4NHBjKUaz",
        "colab_type": "code",
        "outputId": "d3118d43-fb22-4e27-aded-605694dfff7e",
        "colab": {
          "base_uri": "https://localhost:8080/",
          "height": 34
        }
      },
      "source": [
        "#Move Data to a Panda DataFrame\n",
        "df = pd.read_csv ('in_domain_train.tsv', delimiter='\\t', header=None, \n",
        "                  names=['sentence_source', 'label', 'label_notes', 'sentence'])\n",
        "\n",
        "df.shape"
      ],
      "execution_count": 7,
      "outputs": [
        {
          "output_type": "execute_result",
          "data": {
            "text/plain": [
              "(8551, 4)"
            ]
          },
          "metadata": {
            "tags": []
          },
          "execution_count": 7
        }
      ]
    },
    {
      "cell_type": "code",
      "metadata": {
        "id": "ny4TaHaGK7Ja",
        "colab_type": "code",
        "colab": {}
      },
      "source": [
        "# Sentence and Label Lists\n",
        "sentences = df.sentence.values\n",
        "sentences = [\"[CLS]\" + sentence + \" [SEP]\" for sentence in sentences]\n",
        "labels = df.label.values"
      ],
      "execution_count": 0,
      "outputs": []
    },
    {
      "cell_type": "code",
      "metadata": {
        "id": "pporYqXxLTxR",
        "colab_type": "code",
        "colab": {}
      },
      "source": [
        "# Tokenize Inputs\n",
        "\n",
        "tokenizer = BertTokenizer.from_pretrained('bert-base-uncased', \n",
        "                                          do_lower_case = True)\n",
        "tokenized_texts = [tokenizer.tokenize(sent) for sent in sentences]\n",
        "print(\"Tokenize version of the the first sentence:\")\n",
        "print(tokenized_texts[0])"
      ],
      "execution_count": 0,
      "outputs": []
    },
    {
      "cell_type": "code",
      "metadata": {
        "id": "E0Dmi8OLNFS0",
        "colab_type": "code",
        "colab": {}
      },
      "source": [
        "# Padding Sentences\n",
        "# Set the maximum sequence length. The longest sequence in our training set\n",
        "# is 47, but we'll leave room on the end anyway.\n",
        "# In the original paper, the authors used a length of 512.\n",
        "MAX_LEN = 128\n",
        "\n",
        "# Pad our input tokens\n",
        "input_ids = pad_sequences(\n",
        "    [tokenizer.convert_tokens_to_ids(txt) for txt in tokenized_texts], \n",
        "    maxlen=MAX_LEN, dtype=\"long\", truncating=\"post\", padding=\"post\"\n",
        "    )\n",
        "\n",
        "# Index Numbers and Padding\n",
        "input_ids = [tokenizer.convert_tokens_to_ids(x) for x in tokenized_texts]\n",
        "\n",
        "# pad sentences\n",
        "input_ids = pad_sequences(input_ids, maxlen=MAX_LEN, \n",
        "                          dtype =\"long\", truncating=\"post\",padding =\"post\")\n"
      ],
      "execution_count": 0,
      "outputs": []
    },
    {
      "cell_type": "code",
      "metadata": {
        "id": "99Ekys7eOvlE",
        "colab_type": "code",
        "colab": {}
      },
      "source": [
        "# Attention masks\n",
        "\n",
        "# Create attention masks\n",
        "attention_masks = []\n",
        "\n",
        "# Create a mask of 1s for each token followed by 0s for padding\n",
        "for seq in input_ids:\n",
        "  seq_mask = [float(i > 0) for i in seq]\n",
        "  attention_masks.append(seq_mask)\n"
      ],
      "execution_count": 0,
      "outputs": []
    },
    {
      "cell_type": "code",
      "metadata": {
        "id": "Nhqrt4noPeBO",
        "colab_type": "code",
        "colab": {}
      },
      "source": [
        "# Train and Validation Set\n",
        "\n",
        "train_inputs, validation_inputs, train_labels, validation_labels = \\\n",
        "  train_test_split(input_ids, labels, random_state=2018, test_size=0.1)\n",
        "\n",
        "train_masks, validation_masks , _, _ = \\\n",
        "  train_test_split(attention_masks, input_ids, random_state=2018, test_size=0.1)\n",
        "  \n",
        "# transform all data into torch tensors\n",
        "\n",
        "train_inputs = torch.tensor(train_inputs)\n",
        "validation_inputs = torch.tensor(validation_inputs)\n",
        "train_labels = torch.tensor(train_labels)\n",
        "validation_labels = torch.tensor(validation_labels)\n",
        "train_masks = torch.tensor(train_masks)\n",
        "validation_masks = torch.tensor(validation_masks)"
      ],
      "execution_count": 0,
      "outputs": []
    },
    {
      "cell_type": "code",
      "metadata": {
        "id": "W9o4wsP6QjG0",
        "colab_type": "code",
        "colab": {}
      },
      "source": [
        "# Preparation for Training\n",
        "\n",
        "# Select a batch size for training. For fine tuning BERT on a\n",
        "# specific task , BERT authors recommend a batch size of 16 or 32\n",
        "batch_size = 32\n",
        "\n",
        "# Create an iterator of our data with torch DataLoader\n",
        "# This helps save on memory during training because, unlike a for loop, \n",
        "# with iterator the entire dataset does not need to be loaded into memory\n",
        "\n",
        "train_data = TensorDataset(train_inputs, train_masks, train_labels)\n",
        "train_sampler = RandomSampler(train_data)\n",
        "train_dataloader = \\\n",
        "  DataLoader(train_data, sampler=train_sampler, batch_size=batch_size)\n",
        "\n",
        "validation_data = \\\n",
        "  TensorDataset(validation_inputs, validation_masks, validation_labels)\n",
        "validation_sampler = SequentialSampler(validation_data)\n",
        "validation_dataloader = \\\n",
        "  DataLoader(validation_data, sampler=validation_sampler, batch_size=batch_size)\n"
      ],
      "execution_count": 0,
      "outputs": []
    },
    {
      "cell_type": "code",
      "metadata": {
        "id": "BTbpNSYZR6Sl",
        "colab_type": "code",
        "outputId": "a281d9de-a647-435c-fe74-2abb2ccea824",
        "colab": {
          "base_uri": "https://localhost:8080/",
          "height": 1000
        }
      },
      "source": [
        "# Load BertForSequenceClassification, the pretrained BERT model\n",
        "# with a single linear classification layer on top\n",
        "\n",
        "model = BertForSequenceClassification.from_pretrained(\"bert-base-uncased\", \n",
        "                                                      num_labels=2)\n",
        "\n",
        "model.cuda()"
      ],
      "execution_count": 14,
      "outputs": [
        {
          "output_type": "stream",
          "text": [
            "100%|██████████| 407873900/407873900 [00:15<00:00, 26554098.06B/s]\n"
          ],
          "name": "stderr"
        },
        {
          "output_type": "execute_result",
          "data": {
            "text/plain": [
              "BertForSequenceClassification(\n",
              "  (bert): BertModel(\n",
              "    (embeddings): BertEmbeddings(\n",
              "      (word_embeddings): Embedding(30522, 768, padding_idx=0)\n",
              "      (position_embeddings): Embedding(512, 768)\n",
              "      (token_type_embeddings): Embedding(2, 768)\n",
              "      (LayerNorm): BertLayerNorm()\n",
              "      (dropout): Dropout(p=0.1)\n",
              "    )\n",
              "    (encoder): BertEncoder(\n",
              "      (layer): ModuleList(\n",
              "        (0): BertLayer(\n",
              "          (attention): BertAttention(\n",
              "            (self): BertSelfAttention(\n",
              "              (query): Linear(in_features=768, out_features=768, bias=True)\n",
              "              (key): Linear(in_features=768, out_features=768, bias=True)\n",
              "              (value): Linear(in_features=768, out_features=768, bias=True)\n",
              "              (dropout): Dropout(p=0.1)\n",
              "            )\n",
              "            (output): BertSelfOutput(\n",
              "              (dense): Linear(in_features=768, out_features=768, bias=True)\n",
              "              (LayerNorm): BertLayerNorm()\n",
              "              (dropout): Dropout(p=0.1)\n",
              "            )\n",
              "          )\n",
              "          (intermediate): BertIntermediate(\n",
              "            (dense): Linear(in_features=768, out_features=3072, bias=True)\n",
              "          )\n",
              "          (output): BertOutput(\n",
              "            (dense): Linear(in_features=3072, out_features=768, bias=True)\n",
              "            (LayerNorm): BertLayerNorm()\n",
              "            (dropout): Dropout(p=0.1)\n",
              "          )\n",
              "        )\n",
              "        (1): BertLayer(\n",
              "          (attention): BertAttention(\n",
              "            (self): BertSelfAttention(\n",
              "              (query): Linear(in_features=768, out_features=768, bias=True)\n",
              "              (key): Linear(in_features=768, out_features=768, bias=True)\n",
              "              (value): Linear(in_features=768, out_features=768, bias=True)\n",
              "              (dropout): Dropout(p=0.1)\n",
              "            )\n",
              "            (output): BertSelfOutput(\n",
              "              (dense): Linear(in_features=768, out_features=768, bias=True)\n",
              "              (LayerNorm): BertLayerNorm()\n",
              "              (dropout): Dropout(p=0.1)\n",
              "            )\n",
              "          )\n",
              "          (intermediate): BertIntermediate(\n",
              "            (dense): Linear(in_features=768, out_features=3072, bias=True)\n",
              "          )\n",
              "          (output): BertOutput(\n",
              "            (dense): Linear(in_features=3072, out_features=768, bias=True)\n",
              "            (LayerNorm): BertLayerNorm()\n",
              "            (dropout): Dropout(p=0.1)\n",
              "          )\n",
              "        )\n",
              "        (2): BertLayer(\n",
              "          (attention): BertAttention(\n",
              "            (self): BertSelfAttention(\n",
              "              (query): Linear(in_features=768, out_features=768, bias=True)\n",
              "              (key): Linear(in_features=768, out_features=768, bias=True)\n",
              "              (value): Linear(in_features=768, out_features=768, bias=True)\n",
              "              (dropout): Dropout(p=0.1)\n",
              "            )\n",
              "            (output): BertSelfOutput(\n",
              "              (dense): Linear(in_features=768, out_features=768, bias=True)\n",
              "              (LayerNorm): BertLayerNorm()\n",
              "              (dropout): Dropout(p=0.1)\n",
              "            )\n",
              "          )\n",
              "          (intermediate): BertIntermediate(\n",
              "            (dense): Linear(in_features=768, out_features=3072, bias=True)\n",
              "          )\n",
              "          (output): BertOutput(\n",
              "            (dense): Linear(in_features=3072, out_features=768, bias=True)\n",
              "            (LayerNorm): BertLayerNorm()\n",
              "            (dropout): Dropout(p=0.1)\n",
              "          )\n",
              "        )\n",
              "        (3): BertLayer(\n",
              "          (attention): BertAttention(\n",
              "            (self): BertSelfAttention(\n",
              "              (query): Linear(in_features=768, out_features=768, bias=True)\n",
              "              (key): Linear(in_features=768, out_features=768, bias=True)\n",
              "              (value): Linear(in_features=768, out_features=768, bias=True)\n",
              "              (dropout): Dropout(p=0.1)\n",
              "            )\n",
              "            (output): BertSelfOutput(\n",
              "              (dense): Linear(in_features=768, out_features=768, bias=True)\n",
              "              (LayerNorm): BertLayerNorm()\n",
              "              (dropout): Dropout(p=0.1)\n",
              "            )\n",
              "          )\n",
              "          (intermediate): BertIntermediate(\n",
              "            (dense): Linear(in_features=768, out_features=3072, bias=True)\n",
              "          )\n",
              "          (output): BertOutput(\n",
              "            (dense): Linear(in_features=3072, out_features=768, bias=True)\n",
              "            (LayerNorm): BertLayerNorm()\n",
              "            (dropout): Dropout(p=0.1)\n",
              "          )\n",
              "        )\n",
              "        (4): BertLayer(\n",
              "          (attention): BertAttention(\n",
              "            (self): BertSelfAttention(\n",
              "              (query): Linear(in_features=768, out_features=768, bias=True)\n",
              "              (key): Linear(in_features=768, out_features=768, bias=True)\n",
              "              (value): Linear(in_features=768, out_features=768, bias=True)\n",
              "              (dropout): Dropout(p=0.1)\n",
              "            )\n",
              "            (output): BertSelfOutput(\n",
              "              (dense): Linear(in_features=768, out_features=768, bias=True)\n",
              "              (LayerNorm): BertLayerNorm()\n",
              "              (dropout): Dropout(p=0.1)\n",
              "            )\n",
              "          )\n",
              "          (intermediate): BertIntermediate(\n",
              "            (dense): Linear(in_features=768, out_features=3072, bias=True)\n",
              "          )\n",
              "          (output): BertOutput(\n",
              "            (dense): Linear(in_features=3072, out_features=768, bias=True)\n",
              "            (LayerNorm): BertLayerNorm()\n",
              "            (dropout): Dropout(p=0.1)\n",
              "          )\n",
              "        )\n",
              "        (5): BertLayer(\n",
              "          (attention): BertAttention(\n",
              "            (self): BertSelfAttention(\n",
              "              (query): Linear(in_features=768, out_features=768, bias=True)\n",
              "              (key): Linear(in_features=768, out_features=768, bias=True)\n",
              "              (value): Linear(in_features=768, out_features=768, bias=True)\n",
              "              (dropout): Dropout(p=0.1)\n",
              "            )\n",
              "            (output): BertSelfOutput(\n",
              "              (dense): Linear(in_features=768, out_features=768, bias=True)\n",
              "              (LayerNorm): BertLayerNorm()\n",
              "              (dropout): Dropout(p=0.1)\n",
              "            )\n",
              "          )\n",
              "          (intermediate): BertIntermediate(\n",
              "            (dense): Linear(in_features=768, out_features=3072, bias=True)\n",
              "          )\n",
              "          (output): BertOutput(\n",
              "            (dense): Linear(in_features=3072, out_features=768, bias=True)\n",
              "            (LayerNorm): BertLayerNorm()\n",
              "            (dropout): Dropout(p=0.1)\n",
              "          )\n",
              "        )\n",
              "        (6): BertLayer(\n",
              "          (attention): BertAttention(\n",
              "            (self): BertSelfAttention(\n",
              "              (query): Linear(in_features=768, out_features=768, bias=True)\n",
              "              (key): Linear(in_features=768, out_features=768, bias=True)\n",
              "              (value): Linear(in_features=768, out_features=768, bias=True)\n",
              "              (dropout): Dropout(p=0.1)\n",
              "            )\n",
              "            (output): BertSelfOutput(\n",
              "              (dense): Linear(in_features=768, out_features=768, bias=True)\n",
              "              (LayerNorm): BertLayerNorm()\n",
              "              (dropout): Dropout(p=0.1)\n",
              "            )\n",
              "          )\n",
              "          (intermediate): BertIntermediate(\n",
              "            (dense): Linear(in_features=768, out_features=3072, bias=True)\n",
              "          )\n",
              "          (output): BertOutput(\n",
              "            (dense): Linear(in_features=3072, out_features=768, bias=True)\n",
              "            (LayerNorm): BertLayerNorm()\n",
              "            (dropout): Dropout(p=0.1)\n",
              "          )\n",
              "        )\n",
              "        (7): BertLayer(\n",
              "          (attention): BertAttention(\n",
              "            (self): BertSelfAttention(\n",
              "              (query): Linear(in_features=768, out_features=768, bias=True)\n",
              "              (key): Linear(in_features=768, out_features=768, bias=True)\n",
              "              (value): Linear(in_features=768, out_features=768, bias=True)\n",
              "              (dropout): Dropout(p=0.1)\n",
              "            )\n",
              "            (output): BertSelfOutput(\n",
              "              (dense): Linear(in_features=768, out_features=768, bias=True)\n",
              "              (LayerNorm): BertLayerNorm()\n",
              "              (dropout): Dropout(p=0.1)\n",
              "            )\n",
              "          )\n",
              "          (intermediate): BertIntermediate(\n",
              "            (dense): Linear(in_features=768, out_features=3072, bias=True)\n",
              "          )\n",
              "          (output): BertOutput(\n",
              "            (dense): Linear(in_features=3072, out_features=768, bias=True)\n",
              "            (LayerNorm): BertLayerNorm()\n",
              "            (dropout): Dropout(p=0.1)\n",
              "          )\n",
              "        )\n",
              "        (8): BertLayer(\n",
              "          (attention): BertAttention(\n",
              "            (self): BertSelfAttention(\n",
              "              (query): Linear(in_features=768, out_features=768, bias=True)\n",
              "              (key): Linear(in_features=768, out_features=768, bias=True)\n",
              "              (value): Linear(in_features=768, out_features=768, bias=True)\n",
              "              (dropout): Dropout(p=0.1)\n",
              "            )\n",
              "            (output): BertSelfOutput(\n",
              "              (dense): Linear(in_features=768, out_features=768, bias=True)\n",
              "              (LayerNorm): BertLayerNorm()\n",
              "              (dropout): Dropout(p=0.1)\n",
              "            )\n",
              "          )\n",
              "          (intermediate): BertIntermediate(\n",
              "            (dense): Linear(in_features=768, out_features=3072, bias=True)\n",
              "          )\n",
              "          (output): BertOutput(\n",
              "            (dense): Linear(in_features=3072, out_features=768, bias=True)\n",
              "            (LayerNorm): BertLayerNorm()\n",
              "            (dropout): Dropout(p=0.1)\n",
              "          )\n",
              "        )\n",
              "        (9): BertLayer(\n",
              "          (attention): BertAttention(\n",
              "            (self): BertSelfAttention(\n",
              "              (query): Linear(in_features=768, out_features=768, bias=True)\n",
              "              (key): Linear(in_features=768, out_features=768, bias=True)\n",
              "              (value): Linear(in_features=768, out_features=768, bias=True)\n",
              "              (dropout): Dropout(p=0.1)\n",
              "            )\n",
              "            (output): BertSelfOutput(\n",
              "              (dense): Linear(in_features=768, out_features=768, bias=True)\n",
              "              (LayerNorm): BertLayerNorm()\n",
              "              (dropout): Dropout(p=0.1)\n",
              "            )\n",
              "          )\n",
              "          (intermediate): BertIntermediate(\n",
              "            (dense): Linear(in_features=768, out_features=3072, bias=True)\n",
              "          )\n",
              "          (output): BertOutput(\n",
              "            (dense): Linear(in_features=3072, out_features=768, bias=True)\n",
              "            (LayerNorm): BertLayerNorm()\n",
              "            (dropout): Dropout(p=0.1)\n",
              "          )\n",
              "        )\n",
              "        (10): BertLayer(\n",
              "          (attention): BertAttention(\n",
              "            (self): BertSelfAttention(\n",
              "              (query): Linear(in_features=768, out_features=768, bias=True)\n",
              "              (key): Linear(in_features=768, out_features=768, bias=True)\n",
              "              (value): Linear(in_features=768, out_features=768, bias=True)\n",
              "              (dropout): Dropout(p=0.1)\n",
              "            )\n",
              "            (output): BertSelfOutput(\n",
              "              (dense): Linear(in_features=768, out_features=768, bias=True)\n",
              "              (LayerNorm): BertLayerNorm()\n",
              "              (dropout): Dropout(p=0.1)\n",
              "            )\n",
              "          )\n",
              "          (intermediate): BertIntermediate(\n",
              "            (dense): Linear(in_features=768, out_features=3072, bias=True)\n",
              "          )\n",
              "          (output): BertOutput(\n",
              "            (dense): Linear(in_features=3072, out_features=768, bias=True)\n",
              "            (LayerNorm): BertLayerNorm()\n",
              "            (dropout): Dropout(p=0.1)\n",
              "          )\n",
              "        )\n",
              "        (11): BertLayer(\n",
              "          (attention): BertAttention(\n",
              "            (self): BertSelfAttention(\n",
              "              (query): Linear(in_features=768, out_features=768, bias=True)\n",
              "              (key): Linear(in_features=768, out_features=768, bias=True)\n",
              "              (value): Linear(in_features=768, out_features=768, bias=True)\n",
              "              (dropout): Dropout(p=0.1)\n",
              "            )\n",
              "            (output): BertSelfOutput(\n",
              "              (dense): Linear(in_features=768, out_features=768, bias=True)\n",
              "              (LayerNorm): BertLayerNorm()\n",
              "              (dropout): Dropout(p=0.1)\n",
              "            )\n",
              "          )\n",
              "          (intermediate): BertIntermediate(\n",
              "            (dense): Linear(in_features=768, out_features=3072, bias=True)\n",
              "          )\n",
              "          (output): BertOutput(\n",
              "            (dense): Linear(in_features=3072, out_features=768, bias=True)\n",
              "            (LayerNorm): BertLayerNorm()\n",
              "            (dropout): Dropout(p=0.1)\n",
              "          )\n",
              "        )\n",
              "      )\n",
              "    )\n",
              "    (pooler): BertPooler(\n",
              "      (dense): Linear(in_features=768, out_features=768, bias=True)\n",
              "      (activation): Tanh()\n",
              "    )\n",
              "  )\n",
              "  (dropout): Dropout(p=0.1)\n",
              "  (classifier): Linear(in_features=768, out_features=2, bias=True)\n",
              ")"
            ]
          },
          "metadata": {
            "tags": []
          },
          "execution_count": 14
        }
      ]
    },
    {
      "cell_type": "code",
      "metadata": {
        "id": "2AxWDu9jSaOY",
        "colab_type": "code",
        "outputId": "b1c15ffa-324a-42b8-8e5c-1498b4746207",
        "colab": {
          "base_uri": "https://localhost:8080/",
          "height": 51
        }
      },
      "source": [
        "# Hyperparameters\n",
        "\n",
        "param_optimizer = list(model.named_parameters())\n",
        "no_decay = ['bias', 'gamma', 'beta']\n",
        "\n",
        "optimizer_grouped_parameters = [\n",
        "    {\n",
        "        'params': [p for n, p in param_optimizer if not any(nd in n for nd in no_decay)],\n",
        "        'weight_decay_rate': 0.01\n",
        "    },\n",
        "    {\n",
        "        'params': [p for n, p in param_optimizer if any(nd in n for nd in no_decay)], \n",
        "        'weight_decay_rate': 0.00\n",
        "    }\n",
        "  ]\n",
        "\n",
        "optimizer = BertAdam(optimizer_grouped_parameters, lr=2e-5, warmup=0.1)"
      ],
      "execution_count": 15,
      "outputs": [
        {
          "output_type": "stream",
          "text": [
            "WARNING: Logging before flag parsing goes to stderr.\n",
            "W0802 09:20:47.038820 140150943164288 optimization.py:46] t_total value of -1 results in schedule not being applied\n"
          ],
          "name": "stderr"
        }
      ]
    },
    {
      "cell_type": "code",
      "metadata": {
        "id": "TbXTM3ivUpTl",
        "colab_type": "code",
        "colab": {}
      },
      "source": [
        "# calculates the accuracy of our predictions vs labels\n",
        "\n",
        "def flat_accuracy(preds, labels):\n",
        "  pred_flat  = np.argmax(preds , axis=1).flatten()\n",
        "  labels_flat = labels.flatten()\n",
        "  return np.sum(pred_flat == labels_flat)/len(labels_flat)\n"
      ],
      "execution_count": 0,
      "outputs": []
    },
    {
      "cell_type": "code",
      "metadata": {
        "id": "hkelxkU0VXye",
        "colab_type": "code",
        "outputId": "1de68e63-b3a4-4ebf-c814-396910a37e1a",
        "colab": {
          "base_uri": "https://localhost:8080/",
          "height": 119
        }
      },
      "source": [
        "# Training Loop\n",
        "\n",
        "# Store our loss and accuracy for plotting\n",
        "train_loss_set = []\n",
        "\n",
        "# Number of training epochs (authors recommend between 2 and 4)\n",
        "epochs = 4\n",
        "# trange is a tqdm wrapper around the normal python range\n",
        "for _ in trange(epochs, desc=\"Epoch\"):\n",
        "  # Training\n",
        "  # Set our model to training mode (as opposed to evaluation mode)\n",
        "  model.train()\n",
        "  # Tracking variables\n",
        "  tr_loss = 0\n",
        "  nb_tr_examples, nb_tr_steps = 0, 0\n",
        "  \n",
        "  # Train the data for one epoch\n",
        "  for step, batch in enumerate(train_dataloader):\n",
        "    # Add batch to GPU\n",
        "    batch = tuple(t.to(device) for t in batch)\n",
        "    # Unpack the inputs from our dataloader\n",
        "    b_input_ids, b_input_mask , b_labels = batch\n",
        "    # Clear out the gradients (by default they accumulate)\n",
        "    optimizer.zero_grad()\n",
        "    # Forward pass\n",
        "    loss = model(b_input_ids, token_type_ids=None, \n",
        "                 attention_mask=b_input_mask, labels=b_labels)\n",
        "    \n",
        "    train_loss_set.append(loss.item())\n",
        "    # Backward pass\n",
        "    loss.backward()\n",
        "    # Update parameters and take a step using the computed gradient\n",
        "    optimizer.step()\n",
        "    # Update tracking variables\n",
        "    tr_loss += loss.item()\n",
        "    nb_tr_examples += b_input_ids.size(0)\n",
        "    nb_tr_steps += 1\n",
        "  print(\"Train loss: {}\".format(tr_loss/nb_tr_steps))\n",
        "    \n",
        "# Validation\n",
        "# Put model in evaluation mode to evaluate loss on the validation set\n",
        "model.eval()\n",
        "\n",
        "# Tracking variables\n",
        "eval_loss, eval_accuracy = 0, 0\n",
        "nb_eval_steps, nb_eval_examples = 0, 0\n",
        "\n",
        "# Evaluate data for one epoch\n",
        "for batch in validation_dataloader:\n",
        "  # Add batch to GPU\n",
        "  batch = tuple(t.to(device) for t in batch)\n",
        "  # Unpack the inputs from our dataloader\n",
        "  b_input_ids, b_input_mask, b_labels = batch\n",
        "  \n",
        "  # Telling the model not to compute or store gradients,\n",
        "  # ve memory and speede up validation\n",
        "  with torch.no_grad():\n",
        "    # Forward pass, calculate logit predictions\n",
        "    logits = model(b_input_ids, token_type_ids =None, attention_mask=b_input_mask)\n",
        "    \n",
        "  # Move logits and labels to CPU\n",
        "  logits = logits.detach().cpu().numpy()\n",
        "  label_ids = b_labels.to('cpu').numpy()\n",
        "  \n",
        "  tmp_eval_accuracy = flat_accuracy(logits, label_ids)\n",
        "  eval_accuracy += tmp_eval_accuracy\n",
        "  nb_eval_steps += 1\n",
        "\n",
        "print(\"Validation Accuracy: {}\".format(eval_accuracy/nb_eval_steps))\n"
      ],
      "execution_count": 17,
      "outputs": [
        {
          "output_type": "stream",
          "text": [
            "Epoch:  25%|██▌       | 1/4 [05:58<17:54, 358.00s/it]"
          ],
          "name": "stderr"
        },
        {
          "output_type": "stream",
          "text": [
            "Train loss: 0.5851943142928523\n"
          ],
          "name": "stdout"
        },
        {
          "output_type": "stream",
          "text": [
            "\rEpoch:  50%|█████     | 2/4 [11:54<11:55, 357.55s/it]"
          ],
          "name": "stderr"
        },
        {
          "output_type": "stream",
          "text": [
            "Train loss: 0.39222197661261343\n"
          ],
          "name": "stdout"
        },
        {
          "output_type": "stream",
          "text": [
            "\rEpoch:  75%|███████▌  | 3/4 [17:51<05:57, 357.28s/it]"
          ],
          "name": "stderr"
        },
        {
          "output_type": "stream",
          "text": [
            "Train loss: 0.20171994589176415\n"
          ],
          "name": "stdout"
        },
        {
          "output_type": "stream",
          "text": [
            "\rEpoch: 100%|██████████| 4/4 [23:47<00:00, 357.05s/it]"
          ],
          "name": "stderr"
        },
        {
          "output_type": "stream",
          "text": [
            "Train loss: 0.10469703468266117\n"
          ],
          "name": "stdout"
        },
        {
          "output_type": "stream",
          "text": [
            "\n"
          ],
          "name": "stderr"
        },
        {
          "output_type": "stream",
          "text": [
            "Validation Accuracy: 0.8175154320987654\n"
          ],
          "name": "stdout"
        }
      ]
    },
    {
      "cell_type": "code",
      "metadata": {
        "id": "3O0xTNdJX1Ht",
        "colab_type": "code",
        "outputId": "c0ca3ebd-d7fe-4453-c2fc-a75f87fc36b9",
        "colab": {
          "base_uri": "https://localhost:8080/",
          "height": 513
        }
      },
      "source": [
        "plt.figure(figsize=(15,8))\n",
        "plt.title(\"Training loss\")\n",
        "plt.xlabel(\"Batch\")\n",
        "plt.ylabel(\"Loss\")\n",
        "plt.plot(train_loss_set)\n",
        "plt.show()"
      ],
      "execution_count": 18,
      "outputs": [
        {
          "output_type": "display_data",
          "data": {
            "image/png": "[encoded data removed]",
            "text/plain": [
              "<Figure size 1080x576 with 1 Axes>"
            ]
          },
          "metadata": {
            "tags": []
          }
        }
      ]
    },
    {
      "cell_type": "code",
      "metadata": {
        "id": "JmqgO2GZYVHv",
        "colab_type": "code",
        "colab": {}
      },
      "source": [
        "# Predict and Evaluate on Holdout Set\n",
        "\n",
        "# Upload the test file from your local drive\n",
        "# from google.colab import files \n",
        "# uploaded = files.upload()"
      ],
      "execution_count": 0,
      "outputs": []
    },
    {
      "cell_type": "code",
      "metadata": {
        "id": "XLQhyF0TYeg0",
        "colab_type": "code",
        "colab": {}
      },
      "source": [
        "df = pd.read_csv(\"out_of_domain_dev.tsv\", delimiter='\\t', header=None,\n",
        "  names=['sentence_source', 'label', 'label_notes', 'sentence'])\n",
        "\n",
        "# Create sentence) and label lists\n",
        "sentences = df.sentence.values\n",
        "# We need to add special tokens at the beginning and end of each sentence\n",
        "# for BERT to work properly\n",
        "sentences = [\"[CLS] \" + sentence + \" [SEP]\" for sentence in sentences]\n",
        "labels = df.label.values\n",
        "\n",
        "tokenized_texts = [tokenizer.tokenize(sent) for sent in sentences]\n",
        "\n",
        "# Padding Sentences\n",
        "# Set the maximum sequence length. The longest sequence in our training set\n",
        "# is 47, but we'll leave room on the end anyway.\n",
        "# In the original paper, the authors used a length of 512.\n",
        "MAX_LEN = 128\n",
        "\n",
        "# Pad our input tokens\n",
        "input_ids = pad_sequences(\n",
        "    [tokenizer.convert_tokens_to_ids(txt) for txt in tokenized_texts], \n",
        "    maxlen=MAX_LEN, dtype=\"long\", truncating=\"post\", padding=\"post\"\n",
        "    )\n",
        "\n",
        "# Index Numbers and Padding\n",
        "input_ids = [tokenizer.convert_tokens_to_ids(x) for x in tokenized_texts]\n",
        "\n",
        "# pad sentences\n",
        "input_ids = pad_sequences(input_ids, maxlen=MAX_LEN, \n",
        "                          dtype =\"long\", truncating=\"post\",padding =\"post\")\n",
        "\n",
        "# Attention masks\n",
        "\n",
        "# Create attention masks\n",
        "attention_masks = []\n",
        "\n",
        "# Create a mask of 1s for each token followed by 0s for padding\n",
        "for seq in input_ids:\n",
        "  seq_mask = [float(i > 0) for i in seq]\n",
        "  attention_masks.append(seq_mask)\n",
        "\n",
        "prediction_inputs = torch.tensor(input_ids)\n",
        "prediction_masks = torch.tensor(attention_masks)\n",
        "prediction_labels = torch.tensor(labels)\n",
        "\n",
        "batch_size = 32\n",
        "\n",
        "prediction_data = \\\n",
        "  TensorDataset(prediction_inputs, prediction_masks, prediction_labels)\n",
        "prediction_sampler = SequentialSampler(prediction_data)\n",
        "prediction_dataloader = \\\n",
        "  DataLoader(prediction_data, sampler=prediction_sampler, batch_size=batch_size)\n"
      ],
      "execution_count": 0,
      "outputs": []
    },
    {
      "cell_type": "code",
      "metadata": {
        "id": "lCKWTa39Z3xl",
        "colab_type": "code",
        "colab": {}
      },
      "source": [
        "# Prediction on the test set\n",
        "\n",
        "# Put model in evaluation mode\n",
        "model.eval()\n",
        "\n",
        "# Tracking variables\n",
        "predictions, true_labels = [], []\n",
        "\n",
        "# Predict\n",
        "for batch in prediction_dataloader:\n",
        "  # Add batch to GPU\n",
        "  batch = tuple(t.to(device) for t in batch)\n",
        "  # Unpack the inputs from our dataloader\n",
        "  b_input_ids, b_input_mask , b_labels = batch\n",
        "  # Telling the model not to compute or store gradients,\n",
        "  # saving memory and speeding up prediction\n",
        "\n",
        "  with torch.no_grad():\n",
        "    # Forward pass, calculate logit predictions\n",
        "    logits = model(b_input_ids, token_type_ids=None, attention_mask=b_input_mask)\n",
        "  \n",
        "  # Move logits and labels to CPU\n",
        "  logits = logits.detach().cpu().numpy()\n",
        "  label_ids = b_labels.to(\"cpu\").numpy()\n",
        "  \n",
        "  # Store predictions and true labels\n",
        "  predictions.append(logits)\n",
        "  true_labels.append(label_ids)"
      ],
      "execution_count": 0,
      "outputs": []
    },
    {
      "cell_type": "code",
      "metadata": {
        "id": "zbVl6aNfa2MJ",
        "colab_type": "code",
        "outputId": "bcffbfa2-4d07-4aef-924c-445a66313ca9",
        "colab": {
          "base_uri": "https://localhost:8080/",
          "height": 340
        }
      },
      "source": [
        "# Evaluate Each Test Batch using Matthew's correlation coefficient\n",
        "\n",
        "from sklearn.metrics import matthews_corrcoef \n",
        "\n",
        "matthews_set = []\n",
        "\n",
        "for i in range(len(true_labels)):\n",
        "  matthews = matthews_corrcoef(true_labels[i], \n",
        "                               np.argmax(predictions[i], axis=1).flatten())\n",
        "\n",
        "  matthews_set.append(matthews)\n",
        "\n",
        "matthews_set"
      ],
      "execution_count": 21,
      "outputs": [
        {
          "output_type": "stream",
          "text": [
            "/usr/local/lib/python3.6/dist-packages/sklearn/metrics/classification.py:872: RuntimeWarning: invalid value encountered in double_scalars\n",
            "  mcc = cov_ytyp / np.sqrt(cov_ytyt * cov_ypyp)\n"
          ],
          "name": "stderr"
        },
        {
          "output_type": "execute_result",
          "data": {
            "text/plain": [
              "[-0.2135744251723958,\n",
              " -0.2548235957188128,\n",
              " 0.20513587275572404,\n",
              " 0.38164251207729466,\n",
              " 0.41281272698065485,\n",
              " 0.8050112948805689,\n",
              " 0.37777777777777777,\n",
              " 0.29277002188455997,\n",
              " 0.7419408268023742,\n",
              " 0.4700159919404217,\n",
              " 0.6777749493656265,\n",
              " 0.6457765999379483,\n",
              " 0.6979824404521128,\n",
              " 0.7948717948717948,\n",
              " 0.38461538461538464,\n",
              " 0.42276002160669474,\n",
              " 0.0]"
            ]
          },
          "metadata": {
            "tags": []
          },
          "execution_count": 21
        }
      ]
    },
    {
      "cell_type": "code",
      "metadata": {
        "id": "PnqWcze3f18q",
        "colab_type": "code",
        "outputId": "aecd8f83-d8ef-4cc5-bdd6-0c02e87f3af3",
        "colab": {
          "base_uri": "https://localhost:8080/",
          "height": 34
        }
      },
      "source": [
        "flat_predictions = [item for sublist in predictions for item in sublist]\n",
        "flat_predictions = np.argmax(flat_predictions, axis=1).flatten()\n",
        "flat_true_labels = [item for sublist in true_labels for item in sublist]\n",
        "\n",
        "matthews_corrcoef(flat_true_labels , flat_predictions)"
      ],
      "execution_count": 22,
      "outputs": [
        {
          "output_type": "execute_result",
          "data": {
            "text/plain": [
              "0.4425287491325227"
            ]
          },
          "metadata": {
            "tags": []
          },
          "execution_count": 22
        }
      ]
    },
    {
      "cell_type": "code",
      "metadata": {
        "id": "toZpJTGevWpO",
        "colab_type": "code",
        "colab": {}
      },
      "source": [
        "# https://pytorch.org/tutorials/beginner/saving_loading_models.html\n",
        "\n",
        "torch.save(model.state_dict(), 'bert-based-uncased-GED.pth')"
      ],
      "execution_count": 0,
      "outputs": []
    },
    {
      "cell_type": "code",
      "metadata": {
        "id": "Y6YXtvnPwBcf",
        "colab_type": "code",
        "colab": {
          "base_uri": "https://localhost:8080/",
          "height": 122
        },
        "outputId": "12b74d64-7e57-4473-8080-ed9096957c62"
      },
      "source": [
        "from google.colab import drive\n",
        "drive.mount('/content/drive')"
      ],
      "execution_count": 24,
      "outputs": [
        {
          "output_type": "stream",
          "text": [
            "Go to this URL in a browser: https://accounts.google.com/o/oauth2/auth?client_id=947318989803-6bn6qk8qdgf4n4g3pfee6491hc0brc4i.apps.googleusercontent.com&redirect_uri=urn%3Aietf%3Awg%3Aoauth%3A2.0%3Aoob&scope=email%20https%3A%2F%2Fwww.googleapis.com%2Fauth%2Fdocs.test%20https%3A%2F%2Fwww.googleapis.com%2Fauth%2Fdrive%20https%3A%2F%2Fwww.googleapis.com%2Fauth%2Fdrive.photos.readonly%20https%3A%2F%2Fwww.googleapis.com%2Fauth%2Fpeopleapi.readonly&response_type=code\n",
            "\n",
            "Enter your authorization code:\n",
            "··········\n",
            "Mounted at /content/drive\n"
          ],
          "name": "stdout"
        }
      ]
    },
    {
      "cell_type": "code",
      "metadata": {
        "id": "a-JQTqGwwY1s",
        "colab_type": "code",
        "colab": {}
      },
      "source": [
        "!cp bert-based-uncased-GED.pth './drive/My Drive/Colab Notebooks/S89A'"
      ],
      "execution_count": 0,
      "outputs": []
    },
    {
      "cell_type": "code",
      "metadata": {
        "id": "s4ZBpq42tVOV",
        "colab_type": "code",
        "colab": {}
      },
      "source": [
        "# run on a sample text\n",
        "\n",
        "model.eval()\n",
        "\n",
        "# Create sentence) and label lists\n",
        "sentences = [\"They drank the pub.\"]\n",
        "# We need to add special tokens at the beginning and end of each sentence\n",
        "# for BERT to work properly\n",
        "sentences = [\"[CLS] \" + sentence + \" [SEP]\" for sentence in sentences]\n",
        "labels =[0]\n",
        "\n",
        "tokenized_texts = [tokenizer.tokenize(sent) for sent in sentences]\n",
        "\n",
        "# Padding Sentences\n",
        "# Set the maximum sequence length. The longest sequence in our training set\n",
        "# is 47, but we'll leave room on the end anyway.\n",
        "# In the original paper, the authors used a length of 512.\n",
        "MAX_LEN = 128\n",
        "\n",
        "predictions = []\n",
        "true_labels = []\n",
        "\n",
        "# Pad our input tokens\n",
        "input_ids = pad_sequences(\n",
        "    [tokenizer.convert_tokens_to_ids(txt) for txt in tokenized_texts], \n",
        "    maxlen=MAX_LEN, dtype=\"long\", truncating=\"post\", padding=\"post\"\n",
        "    )\n",
        "\n",
        "# Index Numbers and Padding\n",
        "input_ids = [tokenizer.convert_tokens_to_ids(x) for x in tokenized_texts]\n",
        "\n",
        "# pad sentences\n",
        "input_ids = pad_sequences(input_ids, maxlen=MAX_LEN, \n",
        "                          dtype =\"long\", truncating=\"post\",padding =\"post\")\n",
        "\n",
        "# Attention masks\n",
        "\n",
        "# Create attention masks\n",
        "attention_masks = []\n",
        "\n",
        "# Create a mask of 1s for each token followed by 0s for padding\n",
        "for seq in input_ids:\n",
        "  seq_mask = [float(i > 0) for i in seq]\n",
        "  attention_masks.append(seq_mask)\n",
        "\n",
        "prediction_inputs = torch.tensor(input_ids)\n",
        "prediction_masks = torch.tensor(attention_masks)\n",
        "prediction_labels = torch.tensor(labels)\n",
        "\n",
        "# Put model in evaluation mode\n",
        "model.eval()\n",
        "\n",
        "with torch.no_grad():\n",
        "  # Forward pass, calculate logit predictions\n",
        "  logits = model(prediction_inputs.to(device), token_type_ids=None, attention_mask=prediction_masks.to(device))\n",
        "\n",
        "# Move logits and labels to CPU\n",
        "logits = logits.detach().cpu().numpy()\n",
        "label_ids = b_labels.to(\"cpu\").numpy()\n",
        "\n",
        "# Store predictions and true labels\n",
        "predictions.append(logits)\n",
        "true_labels.append(label_ids)\n",
        "\n",
        "flat_predictions = [item for sublist in predictions for item in sublist]\n",
        "flat_predictions = np.argmax(flat_predictions, axis=1).flatten()\n",
        "flat_true_labels = [item for sublist in true_labels for item in sublist]\n"
      ],
      "execution_count": 0,
      "outputs": []
    },
    {
      "cell_type": "code",
      "metadata": {
        "id": "G7J_Witad9u5",
        "colab_type": "code",
        "outputId": "760038bd-b28a-403e-c7a8-26b0afaa545b",
        "colab": {
          "base_uri": "https://localhost:8080/",
          "height": 34
        }
      },
      "source": [
        "flat_predictions[0]"
      ],
      "execution_count": 34,
      "outputs": [
        {
          "output_type": "execute_result",
          "data": {
            "text/plain": [
              "0"
            ]
          },
          "metadata": {
            "tags": []
          },
          "execution_count": 34
        }
      ]
    }
  ]
}