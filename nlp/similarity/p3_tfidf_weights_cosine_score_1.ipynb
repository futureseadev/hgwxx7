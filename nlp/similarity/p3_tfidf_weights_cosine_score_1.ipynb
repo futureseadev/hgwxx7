{
 "cells": [
  {
   "cell_type": "markdown",
   "metadata": {},
   "source": [
    "# TF-IDF + Cosine Score"
   ]
  },
  {
   "cell_type": "code",
   "execution_count": 1,
   "metadata": {},
   "outputs": [
    {
     "data": {
      "text/plain": [
       "'\\nCreated on Mon Jan 21, 2019\\n@about: compute cosine similarity of docs/keywords etc.\\n@author: praveentn\\n'"
      ]
     },
     "execution_count": 1,
     "metadata": {},
     "output_type": "execute_result"
    }
   ],
   "source": [
    "# -*- coding: utf-8 -*-\n",
    "\"\"\"\n",
    "Created on Mon Jan 21, 2019\n",
    "@about: compute cosine similarity of docs/keywords etc.\n",
    "@author: praveentn\n",
    "\"\"\""
   ]
  },
  {
   "cell_type": "code",
   "execution_count": 2,
   "metadata": {},
   "outputs": [
    {
     "name": "stdout",
     "output_type": "stream",
     "text": [
      "[0.8837386308214606, 0.26962664743151177, 0.6020599913279624, 0.0]\n"
     ]
    }
   ],
   "source": [
    "import math\n",
    "from nltk.stem.porter import *\n",
    "\n",
    "def irange(sequence):\n",
    "    return zip(range(len(sequence)), sequence)\n",
    "\n",
    "class CosineScore(object):\n",
    "    def __init__(self,all_docs):\n",
    "        self.documents = all_docs #list all docs [doc1,doc2..]\n",
    "        self.ndocs = len(all_docs)\n",
    "        self.posting_list = {} #term frequency list, don't care about term position\n",
    "        #term => {docId => freq}\n",
    "        self.pstemmer = PorterStemmer()\n",
    "\n",
    "        self._term_indexer()\n",
    "\n",
    "    def _term_indexer(self):\n",
    "        #Create term frequency dict\n",
    "        #Run each word through stemmer\n",
    "        for doc_id,document in irange(self.documents):\n",
    "            for word in document.split(' '):\n",
    "                s_word = self.pstemmer.stem(word)\n",
    "                if s_word in self.posting_list:\n",
    "                    doc_id_mapping = self.posting_list[s_word]\n",
    "                    if doc_id in doc_id_mapping:\n",
    "                        doc_id_mapping[doc_id] += 1\n",
    "                    else:\n",
    "                        doc_id_mapping[doc_id] = 1\n",
    "                else:\n",
    "                    self.posting_list[s_word] = {doc_id: 1}\n",
    "\n",
    "    def _term_frequency(self,term):\n",
    "        if term in self.posting_list:\n",
    "            return self.posting_list[term]\n",
    "        else:\n",
    "            return -1\n",
    "\n",
    "    def _listToString(self,arg):\n",
    "        if isinstance(arg,str):\n",
    "            return arg.split(' ')\n",
    "\n",
    "    def __qTermFrequency(self,term,bWords):\n",
    "        count =0\n",
    "        for i,bWordsObj in irange(bWords):\n",
    "            if bWordsObj == term:\n",
    "                count = count +1\n",
    "        return count\n",
    "\n",
    "    def _docListWeights(self) :\n",
    "\n",
    "        all_terms = self.posting_list.keys()\n",
    "        doclist_weights = [0.0] * self.ndocs\n",
    "\n",
    "        #for all terms in the corpus\n",
    "        for i,term in irange(all_terms):\n",
    "            #for all docs in corpus that contain this term\n",
    "            docs = self.posting_list[term].keys()\n",
    "            for j,doc_id in irange(docs):\n",
    "                tf = self.posting_list[term][doc_id]\n",
    "                tfSquared = (tf * tf)\n",
    "                doclist_weights[doc_id] += tfSquared\n",
    "\n",
    "            for k in range(self.ndocs):\n",
    "                doclist_weights[k] = math.sqrt(doclist_weights[k])\n",
    "        return doclist_weights\n",
    "\n",
    "    def compute(self,query,mIDF=0):\n",
    "        '''\n",
    "        dft - document term frequency\n",
    "        idf - inverse document frequency\n",
    "        wTQ - weights for each query term\n",
    "        mIDF - max tf normalization\n",
    "        '''\n",
    "\n",
    "        scores = [0.0] * self.ndocs\n",
    "        bWords = self._listToString(query)\n",
    "        normalizationFactor = self._docListWeights()\n",
    "\n",
    "        for qterm in bWords:\n",
    "            term = self.pstemmer.stem(qterm)\n",
    "            #calculate WT\n",
    "            #dft = \t__qTermFrequency(queryTerm,bWords)\n",
    "            #wTQ = math.log10(int(N)/dft)\n",
    "\n",
    "            term_posting_doclist = []\n",
    "            if self._term_frequency(term) != -1:\n",
    "                #Find all documents with this query term\n",
    "\n",
    "                term_posting_doclist = self.posting_list[term].keys()\n",
    "                #total_term_frequency_in_corpus = sum(self.posting_list[term].values())\n",
    "\n",
    "                if(mIDF!=0):\n",
    "                    dft = mIDF\n",
    "                else:\n",
    "                    dft = len(term_posting_doclist)\n",
    "\n",
    "                _wTQ = float(self.ndocs)/float(dft)\n",
    "                wTQ = math.log10(float(_wTQ)) #idf\n",
    "\n",
    "            #cosinescore algorithm\n",
    "            for doc_id in term_posting_doclist:\n",
    "                if normalizationFactor[doc_id] != 0:\n",
    "                    #wFTD = termDocFrequencyList/ normalizationFactor(doc_id)\n",
    "                    wFTD = self.posting_list[term][doc_id] / float(normalizationFactor[doc_id])\n",
    "                else:\n",
    "                    wFTD = 0.0\n",
    "\n",
    "                scores[doc_id] +=  (wTQ * wFTD)\n",
    "        return scores\n",
    "\n",
    "if __name__ == \"__main__\":\n",
    "    docs = [\"cloud storage\", \"flash usb storage\", \"backup\", \"retail\" ]\n",
    "    q = \"cloud based online storage for providing automated backups\"\n",
    "    cs = CosineScore(docs)\n",
    "    print (cs.compute(q))"
   ]
  },
  {
   "cell_type": "code",
   "execution_count": null,
   "metadata": {},
   "outputs": [],
   "source": []
  }
 ],
 "metadata": {
  "kernelspec": {
   "display_name": "Python 3",
   "language": "python",
   "name": "python3"
  },
  "language_info": {
   "codemirror_mode": {
    "name": "ipython",
    "version": 3
   },
   "file_extension": ".py",
   "mimetype": "text/x-python",
   "name": "python",
   "nbconvert_exporter": "python",
   "pygments_lexer": "ipython3",
   "version": "3.7.0"
  }
 },
 "nbformat": 4,
 "nbformat_minor": 2
}
