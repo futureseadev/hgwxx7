{
  "nbformat": 4,
  "nbformat_minor": 0,
  "metadata": {
    "kernelspec": {
      "display_name": "Python 3",
      "language": "python",
      "name": "python3"
    },
    "language_info": {
      "codemirror_mode": {
        "name": "ipython",
        "version": 3
      },
      "file_extension": ".py",
      "mimetype": "text/x-python",
      "name": "python",
      "nbconvert_exporter": "python",
      "pygments_lexer": "ipython3",
      "version": "3.6.10"
    },
    "colab": {
      "name": "Genetic_Algorithm_TSP.ipynb",
      "provenance": [],
      "collapsed_sections": [],
      "include_colab_link": true
    }
  },
  "cells": [
    {
      "cell_type": "markdown",
      "metadata": {
        "id": "view-in-github",
        "colab_type": "text"
      },
      "source": [
        "<a href=\"https://colab.research.google.com/github/praveentn/hgwxx7/blob/master/optimization/Genetic_Algorithm_TSP.ipynb\" target=\"_parent\"><img src=\"https://colab.research.google.com/assets/colab-badge.svg\" alt=\"Open In Colab\"/></a>"
      ]
    },
    {
      "cell_type": "markdown",
      "metadata": {
        "id": "bhDcKADy_1ro",
        "colab_type": "text"
      },
      "source": [
        "# Simple Genetic Algorithm"
      ]
    },
    {
      "cell_type": "code",
      "metadata": {
        "id": "ekdQbH5Y_1rp",
        "colab_type": "code",
        "colab": {}
      },
      "source": [
        "import numpy as np\n",
        "from scipy.spatial.distance import euclidean\n",
        "import matplotlib.pyplot as plt\n",
        "import random as rnd"
      ],
      "execution_count": 0,
      "outputs": []
    },
    {
      "cell_type": "markdown",
      "metadata": {
        "id": "Cykbii99_1rv",
        "colab_type": "text"
      },
      "source": [
        "## Data (Travelling Salesman Problem)"
      ]
    },
    {
      "cell_type": "code",
      "metadata": {
        "id": "ZCXXANqB_1rw",
        "colab_type": "code",
        "outputId": "303a56f1-d956-4fb7-f0dd-550ef7f2fb62",
        "colab": {
          "base_uri": "https://localhost:8080/",
          "height": 185
        }
      },
      "source": [
        "# Define the location of each city\n",
        "X = [5, 10, 23, 34, 45, 60, 50, 45, 30, 20]\n",
        "Y = [10, 30, 55, 50, 58, 53, 40, 25, 20, 10]\n",
        "city_map = dict(enumerate(zip(X,Y))) # A dict mapping of city index to location\n",
        "city_map"
      ],
      "execution_count": 0,
      "outputs": [
        {
          "output_type": "execute_result",
          "data": {
            "text/plain": [
              "{0: (5, 10),\n",
              " 1: (10, 30),\n",
              " 2: (23, 55),\n",
              " 3: (34, 50),\n",
              " 4: (45, 58),\n",
              " 5: (60, 53),\n",
              " 6: (50, 40),\n",
              " 7: (45, 25),\n",
              " 8: (30, 20),\n",
              " 9: (20, 10)}"
            ]
          },
          "metadata": {
            "tags": []
          },
          "execution_count": 1
        }
      ]
    },
    {
      "cell_type": "code",
      "metadata": {
        "id": "vfrK5UNv_1r0",
        "colab_type": "code",
        "outputId": "ad4b8454-cfbd-4c9f-9ecd-e962162594e8",
        "colab": {
          "base_uri": "https://localhost:8080/",
          "height": 34
        }
      },
      "source": [
        "cities = list(city_map.keys()) # all indices of cities\n",
        "cities"
      ],
      "execution_count": 0,
      "outputs": [
        {
          "output_type": "execute_result",
          "data": {
            "text/plain": [
              "[0, 1, 2, 3, 4, 5, 6, 7, 8, 9]"
            ]
          },
          "metadata": {
            "tags": []
          },
          "execution_count": 3
        }
      ]
    },
    {
      "cell_type": "code",
      "metadata": {
        "id": "nM4IpgS0_1r3",
        "colab_type": "code",
        "outputId": "effaee45-c832-4a8e-efa0-8396e5e08b79",
        "colab": {
          "base_uri": "https://localhost:8080/",
          "height": 285
        }
      },
      "source": [
        "# Plot the cities\n",
        "plt.scatter(X + [X[0]], Y + [Y[0]])\n",
        "for i, (x, y) in enumerate(zip(X,Y)):\n",
        "    plt.annotate(i, (x, y), (x+0.5, y+0.5))\n",
        "plt.plot(X + [X[0]], Y + [Y[0]])\n",
        "# This is also the ideal solution that we expect the model to learn"
      ],
      "execution_count": 0,
      "outputs": [
        {
          "output_type": "execute_result",
          "data": {
            "text/plain": [
              "[<matplotlib.lines.Line2D at 0x7f7aad060b38>]"
            ]
          },
          "metadata": {
            "tags": []
          },
          "execution_count": 4
        },
        {
          "output_type": "display_data",
          "data": {
            "image/png": "[encoded data removed]",
            "text/plain": [
              "<Figure size 432x288 with 1 Axes>"
            ]
          },
          "metadata": {
            "tags": [],
            "needs_background": "light"
          }
        }
      ]
    },
    {
      "cell_type": "markdown",
      "metadata": {
        "id": "NN3IU--f_1r7",
        "colab_type": "text"
      },
      "source": [
        "## Initialization of population"
      ]
    },
    {
      "cell_type": "code",
      "metadata": {
        "id": "t8tO5jbj_1r7",
        "colab_type": "code",
        "colab": {}
      },
      "source": [
        "def initialize_pop(pop_size=10):\n",
        "    population = []\n",
        "    for i in range(pop_size):\n",
        "        individual = cities.copy()\n",
        "        rnd.shuffle(individual) # shuffle the cities\n",
        "        population.append(individual)\n",
        "    return population"
      ],
      "execution_count": 0,
      "outputs": []
    },
    {
      "cell_type": "code",
      "metadata": {
        "id": "iJJWmYaA_1r_",
        "colab_type": "code",
        "outputId": "3f71057a-b844-46cd-cf3c-eda54256a567",
        "colab": {
          "base_uri": "https://localhost:8080/",
          "height": 101
        }
      },
      "source": [
        "sample_pop = initialize_pop(pop_size=5)\n",
        "sample_pop"
      ],
      "execution_count": 0,
      "outputs": [
        {
          "output_type": "execute_result",
          "data": {
            "text/plain": [
              "[[4, 5, 7, 0, 2, 6, 3, 9, 8, 1],\n",
              " [4, 3, 2, 7, 8, 9, 0, 5, 1, 6],\n",
              " [9, 3, 0, 4, 1, 2, 7, 6, 8, 5],\n",
              " [2, 6, 5, 7, 0, 8, 9, 3, 1, 4],\n",
              " [4, 8, 5, 2, 6, 0, 7, 9, 3, 1]]"
            ]
          },
          "metadata": {
            "tags": []
          },
          "execution_count": 7
        }
      ]
    },
    {
      "cell_type": "markdown",
      "metadata": {
        "id": "GBejuZUM_1sC",
        "colab_type": "text"
      },
      "source": [
        "## Fitness Function"
      ]
    },
    {
      "cell_type": "code",
      "metadata": {
        "id": "9ke4pSQV_1sD",
        "colab_type": "code",
        "colab": {}
      },
      "source": [
        "def fitness(solution):\n",
        "    '''Returns the total travel distance for a given solution'''\n",
        "    total_distance = 0\n",
        "    \n",
        "    # Calculate the acyclic distance from first city to last city\n",
        "    for i in range(len(solution)-1):\n",
        "        p1 = city_map[solution[i]]\n",
        "        p2 = city_map[solution[i+1]]\n",
        "        total_distance += euclidean(p1, p2)\n",
        "    \n",
        "    # Complete the loop by adding the distance between last city and first city\n",
        "    p1 = city_map[solution[-1]]\n",
        "    p2 = city_map[solution[0]]\n",
        "    total_distance += euclidean(p1, p2)\n",
        "       \n",
        "    return total_distance"
      ],
      "execution_count": 0,
      "outputs": []
    },
    {
      "cell_type": "code",
      "metadata": {
        "id": "e-LLEf1B_1sG",
        "colab_type": "code",
        "outputId": "510b6d74-fdcb-44fa-ef42-df7e7f430109",
        "colab": {
          "base_uri": "https://localhost:8080/",
          "height": 34
        }
      },
      "source": [
        "# fitness of an individual from sample population\n",
        "fitness(sample_pop[0])"
      ],
      "execution_count": 0,
      "outputs": [
        {
          "output_type": "execute_result",
          "data": {
            "text/plain": [
              "312.22142858884445"
            ]
          },
          "metadata": {
            "tags": []
          },
          "execution_count": 9
        }
      ]
    },
    {
      "cell_type": "markdown",
      "metadata": {
        "id": "f7ES_KX-_1sJ",
        "colab_type": "text"
      },
      "source": [
        "## Selection"
      ]
    },
    {
      "cell_type": "code",
      "metadata": {
        "id": "RKRAtvPq_1sK",
        "colab_type": "code",
        "colab": {}
      },
      "source": [
        "def selection(population):\n",
        "    '''Selects an individual randomly based on its fitness value as weights'''\n",
        "    # Calculate the fitness values of every individual in the population\n",
        "    fitness_values = list(map(fitness, population))\n",
        "    # Calculate the relative inverse fitness as our goal is to minimize the total distance\n",
        "    inverse_fitness = [max(fitness_values) - x for x in fitness_values]\n",
        "    # Assign weights to each individual based on the inverse fitness\n",
        "    weights = [x / sum(inverse_fitness) for x in inverse_fitness]\n",
        "    # Select a individual as a parent with weighted randomness\n",
        "    selected_individual = rnd.choices(population, weights)[0]\n",
        "    \n",
        "    return selected_individual"
      ],
      "execution_count": 0,
      "outputs": []
    },
    {
      "cell_type": "code",
      "metadata": {
        "id": "y9EXbHw9_1sM",
        "colab_type": "code",
        "outputId": "65c68673-6eda-415f-de7e-7e258cf695b8",
        "colab": {
          "base_uri": "https://localhost:8080/",
          "height": 34
        }
      },
      "source": [
        "selection(sample_pop)"
      ],
      "execution_count": 0,
      "outputs": [
        {
          "output_type": "execute_result",
          "data": {
            "text/plain": [
              "[4, 3, 2, 7, 8, 9, 0, 5, 1, 6]"
            ]
          },
          "metadata": {
            "tags": []
          },
          "execution_count": 11
        }
      ]
    },
    {
      "cell_type": "markdown",
      "metadata": {
        "id": "4XoOFlud_1sP",
        "colab_type": "text"
      },
      "source": [
        "## Crossover"
      ]
    },
    {
      "cell_type": "code",
      "metadata": {
        "id": "xHK1dyP2_1sQ",
        "colab_type": "code",
        "colab": {}
      },
      "source": [
        "def crossover(parent1, parent2, prnt=False):\n",
        "    '''Returns the child after crossover between the parents'''\n",
        "    # Select cut points\n",
        "    c1 = rnd.randint(0, len(parent1)-2)\n",
        "    c2 = rnd.randint(c1+1, len(parent2)-1)\n",
        "    \n",
        "    # Create an Empty Child DNA\n",
        "    child = [\"X\"] * len(parent1)\n",
        "    \n",
        "    # Set the values between the cut points from parent1 in the child DNA\n",
        "    child[c1:c2+1] = parent1[c1:c2+1]\n",
        "    if prnt: print('Child DNA from Parent 1', child)\n",
        "    \n",
        "    # Fill the remaining values from parent2\n",
        "    for i in range(len(child)):\n",
        "        for j in range(len(parent2)):\n",
        "            # If the parent value is not already in the child then\n",
        "            if parent2[j] not in child:\n",
        "                # Replace with parent value only at places marked X\n",
        "                child[i] = parent2[j] if child[i] == \"X\" else child[i]\n",
        "                # break out of the inner loop and move over to the next position in the DNA\n",
        "                break\n",
        "    \n",
        "    if prnt: print('Child DNA after adding Parent 2', child)\n",
        "    \n",
        "    return child"
      ],
      "execution_count": 0,
      "outputs": []
    },
    {
      "cell_type": "code",
      "metadata": {
        "id": "hIGTLtWC_1sS",
        "colab_type": "code",
        "colab": {}
      },
      "source": [
        "parent1 = [5, 1, 4, 2, 7, 6, 3, 8, 0, 9]\n",
        "parent2 = [5, 2, 9, 0, 7, 8, 1, 4, 6, 3]"
      ],
      "execution_count": 0,
      "outputs": []
    },
    {
      "cell_type": "code",
      "metadata": {
        "id": "1lkhyVvJ_1sV",
        "colab_type": "code",
        "outputId": "2751fc22-abd9-4d78-8c21-f0dbc0b7f390",
        "colab": {
          "base_uri": "https://localhost:8080/",
          "height": 50
        }
      },
      "source": [
        "child = crossover(parent1, parent2, prnt=True)"
      ],
      "execution_count": 0,
      "outputs": [
        {
          "output_type": "stream",
          "text": [
            "Child DNA from Parent 1 [5, 1, 4, 2, 7, 6, 3, 8, 0, 9]\n",
            "Child DNA after adding Parent 2 [5, 1, 4, 2, 7, 6, 3, 8, 0, 9]\n"
          ],
          "name": "stdout"
        }
      ]
    },
    {
      "cell_type": "markdown",
      "metadata": {
        "id": "CAhBg8jO_1sY",
        "colab_type": "text"
      },
      "source": [
        "## Mutation"
      ]
    },
    {
      "cell_type": "code",
      "metadata": {
        "id": "6tyyTY5C_1sZ",
        "colab_type": "code",
        "colab": {}
      },
      "source": [
        "def mutation(individual):\n",
        "    '''Mutates the DNA of a child/individual by swapping the values at two positions'''\n",
        "    # Selecting the index values to swap\n",
        "    pos_1 = rnd.randint(0, len(individual)-1)\n",
        "    pos_2 = rnd.randint(0, len(individual)-1)\n",
        "    # Init the mutant\n",
        "    mutant = individual.copy()\n",
        "    # Swap\n",
        "    mutant[pos_1] = individual[pos_2]\n",
        "    mutant[pos_2] = individual[pos_1]\n",
        "    \n",
        "    return mutant"
      ],
      "execution_count": 0,
      "outputs": []
    },
    {
      "cell_type": "code",
      "metadata": {
        "id": "ayTEiVZu_1sc",
        "colab_type": "code",
        "outputId": "88a728f1-3f31-4008-b679-80e6c792aabe",
        "colab": {
          "base_uri": "https://localhost:8080/",
          "height": 50
        }
      },
      "source": [
        "mutated_child = mutation(child)\n",
        "print('Before Mutation', child)\n",
        "print('After Mutation', mutated_child)"
      ],
      "execution_count": 0,
      "outputs": [
        {
          "output_type": "stream",
          "text": [
            "Before Mutation [5, 1, 4, 2, 7, 6, 3, 8, 0, 9]\n",
            "After Mutation [5, 1, 4, 2, 3, 6, 7, 8, 0, 9]\n"
          ],
          "name": "stdout"
        }
      ]
    },
    {
      "cell_type": "markdown",
      "metadata": {
        "id": "Hm-HWFwC_1sf",
        "colab_type": "text"
      },
      "source": [
        "## Putting Everything Together"
      ]
    },
    {
      "cell_type": "code",
      "metadata": {
        "id": "XxHRl_ba_1sf",
        "colab_type": "code",
        "colab": {}
      },
      "source": [
        "def optimize_GA(pop_size, max_generations, crossover_prob, mutate_prob):\n",
        "    '''Returns the final solution by optimizing using genetic algorithm'''\n",
        "\n",
        "    # Initialize the Population\n",
        "    population = initialize_pop(pop_size)\n",
        "    global_best = {}\n",
        "\n",
        "    # Start Evolution\n",
        "    for g in range(max_generations):\n",
        "\n",
        "        # Calculate Fitness of the population\n",
        "        population_fitness = list(map(fitness, population))\n",
        "\n",
        "        # Get the individual with the best fitness value (min distance value)\n",
        "        best_fitness = min(population_fitness)\n",
        "        best_fit_index = population_fitness.index(best_fitness)\n",
        "        best_fit_individual = population[best_fit_index]\n",
        "\n",
        "        # Check with global best\n",
        "        if g == 0:\n",
        "            global_best['fitness'] = best_fitness\n",
        "            global_best['dna'] = best_fit_individual\n",
        "        else:\n",
        "            if best_fitness <= global_best['fitness']:\n",
        "                global_best['fitness'] = best_fitness\n",
        "                global_best['dna'] = best_fit_individual\n",
        "#             print('Best Solution at Generation', g)\n",
        "\n",
        "        new_population = []\n",
        "        for i in range(pop_size):\n",
        "            # Select the parents\n",
        "            parent1 = selection(population)\n",
        "            parent2 = selection(population)\n",
        "\n",
        "            # Crossover between the parents with a certain probability\n",
        "            if rnd.random() <= crossover_prob:\n",
        "                child = crossover(parent1, parent2)\n",
        "            else: # or directly clone one of the parents\n",
        "                child = rnd.choice([parent1, parent2])\n",
        "\n",
        "            # Mutation\n",
        "            if rnd.random() <= mutate_prob:\n",
        "                child = mutation(child)\n",
        "\n",
        "            # Add child to new population\n",
        "            new_population.append(child)\n",
        "\n",
        "        population = new_population\n",
        "    return global_best"
      ],
      "execution_count": 0,
      "outputs": []
    },
    {
      "cell_type": "code",
      "metadata": {
        "id": "FnRnkDWB_1si",
        "colab_type": "code",
        "colab": {}
      },
      "source": [
        "# Hyperparameters\n",
        "pop_size = 10\n",
        "max_generations = 200\n",
        "crossover_prob = 1\n",
        "mutate_prob = 0.7"
      ],
      "execution_count": 0,
      "outputs": []
    },
    {
      "cell_type": "code",
      "metadata": {
        "scrolled": true,
        "id": "mFvQtpvj_1sr",
        "colab_type": "code",
        "outputId": "86c9c2d8-d7a6-461e-ef19-00405f3e946f",
        "colab": {
          "base_uri": "https://localhost:8080/",
          "height": 50
        }
      },
      "source": [
        "%%time\n",
        "# Start Optimization with Genetic Algorithm\n",
        "solution = optimize_GA(pop_size, max_generations, crossover_prob, mutate_prob)\n",
        "solution"
      ],
      "execution_count": 0,
      "outputs": [
        {
          "output_type": "stream",
          "text": [
            "CPU times: user 6.6 s, sys: 20 ms, total: 6.62 s\n",
            "Wall time: 6.62 s\n"
          ],
          "name": "stdout"
        }
      ]
    },
    {
      "cell_type": "markdown",
      "metadata": {
        "id": "5WvVNzF-_1st",
        "colab_type": "text"
      },
      "source": [
        "## Visualizing the results"
      ]
    },
    {
      "cell_type": "code",
      "metadata": {
        "id": "-5XQBZgd_1su",
        "colab_type": "code",
        "outputId": "52c95ae8-c85e-4b76-e190-fd8c5c0cdf75",
        "colab": {
          "base_uri": "https://localhost:8080/",
          "height": 202
        }
      },
      "source": [
        "# Get the x,y coordinates of the cities for plotting\n",
        "solution_points = np.array([city_map[x] for x in solution['dna']] + [city_map[solution['dna'][0]]])\n",
        "solution_points"
      ],
      "execution_count": 0,
      "outputs": [
        {
          "output_type": "execute_result",
          "data": {
            "text/plain": [
              "array([[45, 25],\n",
              "       [50, 40],\n",
              "       [60, 53],\n",
              "       [45, 58],\n",
              "       [34, 50],\n",
              "       [23, 55],\n",
              "       [10, 30],\n",
              "       [ 5, 10],\n",
              "       [20, 10],\n",
              "       [30, 20],\n",
              "       [45, 25]])"
            ]
          },
          "metadata": {
            "tags": []
          },
          "execution_count": 40
        }
      ]
    },
    {
      "cell_type": "code",
      "metadata": {
        "id": "1E8tgz3v_1sw",
        "colab_type": "code",
        "outputId": "6304ee4e-4c69-4cd9-d7b9-4d8e1d8e1c33",
        "colab": {
          "base_uri": "https://localhost:8080/",
          "height": 285
        }
      },
      "source": [
        "# Plot the Solution\n",
        "X_sol = solution_points[:, 0]\n",
        "Y_sol = solution_points[:, 1]\n",
        "\n",
        "plt.scatter(X_sol, Y_sol)\n",
        "plt.plot(X_sol, Y_sol)"
      ],
      "execution_count": 0,
      "outputs": [
        {
          "output_type": "execute_result",
          "data": {
            "text/plain": [
              "[<matplotlib.lines.Line2D at 0x7fbc5f4302e8>]"
            ]
          },
          "metadata": {
            "tags": []
          },
          "execution_count": 41
        },
        {
          "output_type": "display_data",
          "data": {
            "image/png": "[encoded data removed]",
            "text/plain": [
              "<Figure size 432x288 with 1 Axes>"
            ]
          },
          "metadata": {
            "tags": [],
            "needs_background": "light"
          }
        }
      ]
    },
    {
      "cell_type": "code",
      "metadata": {
        "id": "_RVZ-pT-_1sy",
        "colab_type": "code",
        "colab": {}
      },
      "source": [
        ""
      ],
      "execution_count": 0,
      "outputs": []
    }
  ]
}