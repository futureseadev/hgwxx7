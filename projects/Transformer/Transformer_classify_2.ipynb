{
  "nbformat": 4,
  "nbformat_minor": 0,
  "metadata": {
    "kernelspec": {
      "name": "python3",
      "display_name": "Python 3"
    },
    "language_info": {
      "codemirror_mode": {
        "name": "ipython",
        "version": 3
      },
      "file_extension": ".py",
      "mimetype": "text/x-python",
      "name": "python",
      "nbconvert_exporter": "python",
      "pygments_lexer": "ipython3",
      "version": "3.6.7"
    },
    "colab": {
      "name": "Transformer_classify_2.ipynb",
      "version": "0.3.2",
      "provenance": [],
      "collapsed_sections": [],
      "include_colab_link": true
    },
    "accelerator": "GPU"
  },
  "cells": [
    {
      "cell_type": "markdown",
      "metadata": {
        "id": "view-in-github",
        "colab_type": "text"
      },
      "source": [
        "<a href=\"https://colab.research.google.com/github/praveentn/hgwxx7/blob/master/projects/Transformer/Transformer_classify_2.ipynb\" target=\"_parent\"><img src=\"https://colab.research.google.com/assets/colab-badge.svg\" alt=\"Open In Colab\"/></a>"
      ]
    },
    {
      "cell_type": "code",
      "metadata": {
        "id": "AHtOPbRqPDL3",
        "colab_type": "code",
        "colab": {
          "base_uri": "https://localhost:8080/",
          "height": 165
        },
        "outputId": "ce6f7c1e-8aa9-44c7-e05f-023b519f3013"
      },
      "source": [
        "# mount google drive & set working directory\n",
        "# requires auth (click on url & copy token into text box when prompted)\n",
        "from google.colab import drive\n",
        "drive.mount(\"/content/gdrive\")\n",
        "\n",
        "import os\n",
        "print(os.getcwd())\n",
        "\n",
        "os.chdir('/content/gdrive/My Drive/Colab Notebooks/Transformer')\n",
        "!pwd"
      ],
      "execution_count": 1,
      "outputs": [
        {
          "output_type": "stream",
          "text": [
            "Go to this URL in a browser: https://accounts.google.com/o/oauth2/auth?client_id=947318989803-6bn6qk8qdgf4n4g3pfee6491hc0brc4i.apps.googleusercontent.com&redirect_uri=urn%3Aietf%3Awg%3Aoauth%3A2.0%3Aoob&scope=email%20https%3A%2F%2Fwww.googleapis.com%2Fauth%2Fdocs.test%20https%3A%2F%2Fwww.googleapis.com%2Fauth%2Fdrive%20https%3A%2F%2Fwww.googleapis.com%2Fauth%2Fdrive.photos.readonly%20https%3A%2F%2Fwww.googleapis.com%2Fauth%2Fpeopleapi.readonly&response_type=code\n",
            "\n",
            "Enter your authorization code:\n",
            "··········\n",
            "Mounted at /content/gdrive\n",
            "/content\n",
            "/content/gdrive/My Drive/Colab Notebooks/Transformer\n"
          ],
          "name": "stdout"
        }
      ]
    },
    {
      "cell_type": "code",
      "metadata": {
        "id": "7CFxYGSjP4T8",
        "colab_type": "code",
        "colab": {
          "base_uri": "https://localhost:8080/",
          "height": 1000
        },
        "outputId": "39d3b723-637a-41b2-cc62-2d2c6f1cb192"
      },
      "source": [
        "%run -i \"/content/gdrive/My Drive/Colab Notebooks/Transformer/experiments/classify.py\""
      ],
      "execution_count": 2,
      "outputs": [
        {
          "output_type": "stream",
          "text": [
            "OPTIONS  Namespace(batch_size=4, depth=6, embedding_size=128, final=False, gradient_clipping=1.0, lr=0.0001, lr_warmup=10000, max_length=512, max_pool=False, num_epochs=20, num_heads=8, seed=1, tb_dir='./runs', vocab_size=50000)\n",
            "- nr. of training examples 2500\n",
            "- nr. of validation examples 625\n"
          ],
          "name": "stdout"
        },
        {
          "output_type": "stream",
          "text": [
            "\r  0%|          | 0/2500 [00:00<?, ?it/s]"
          ],
          "name": "stderr"
        },
        {
          "output_type": "stream",
          "text": [
            "\n",
            " epoch 0\n"
          ],
          "name": "stdout"
        },
        {
          "output_type": "stream",
          "text": [
            "100%|██████████| 2500/2500 [04:55<00:00,  7.24it/s]\n",
            "  0%|          | 1/2500 [00:00<07:18,  5.70it/s]"
          ],
          "name": "stderr"
        },
        {
          "output_type": "stream",
          "text": [
            "-- validation accuracy 1.0\n",
            "\n",
            " epoch 1\n"
          ],
          "name": "stdout"
        },
        {
          "output_type": "stream",
          "text": [
            "100%|██████████| 2500/2500 [04:52<00:00, 10.20it/s]\n",
            "  0%|          | 1/2500 [00:00<07:20,  5.67it/s]"
          ],
          "name": "stderr"
        },
        {
          "output_type": "stream",
          "text": [
            "-- validation accuracy 1.0\n",
            "\n",
            " epoch 2\n"
          ],
          "name": "stdout"
        },
        {
          "output_type": "stream",
          "text": [
            "100%|██████████| 2500/2500 [04:55<00:00,  7.69it/s]\n",
            "  0%|          | 0/2500 [00:00<?, ?it/s]"
          ],
          "name": "stderr"
        },
        {
          "output_type": "stream",
          "text": [
            "-- validation accuracy 1.0\n",
            "\n",
            " epoch 3\n"
          ],
          "name": "stdout"
        },
        {
          "output_type": "stream",
          "text": [
            "100%|██████████| 2500/2500 [04:52<00:00,  8.47it/s]\n",
            "  0%|          | 1/2500 [00:00<04:39,  8.93it/s]"
          ],
          "name": "stderr"
        },
        {
          "output_type": "stream",
          "text": [
            "-- validation accuracy 1.0\n",
            "\n",
            " epoch 4\n"
          ],
          "name": "stdout"
        },
        {
          "output_type": "stream",
          "text": [
            "100%|██████████| 2500/2500 [04:52<00:00,  8.90it/s]\n",
            "  0%|          | 1/2500 [00:00<06:54,  6.02it/s]"
          ],
          "name": "stderr"
        },
        {
          "output_type": "stream",
          "text": [
            "-- validation accuracy 1.0\n",
            "\n",
            " epoch 5\n"
          ],
          "name": "stdout"
        },
        {
          "output_type": "stream",
          "text": [
            "100%|██████████| 2500/2500 [04:51<00:00,  7.28it/s]\n",
            "  0%|          | 1/2500 [00:00<04:51,  8.57it/s]"
          ],
          "name": "stderr"
        },
        {
          "output_type": "stream",
          "text": [
            "-- validation accuracy 1.0\n",
            "\n",
            " epoch 6\n"
          ],
          "name": "stdout"
        },
        {
          "output_type": "stream",
          "text": [
            "100%|██████████| 2500/2500 [04:53<00:00,  8.52it/s]\n",
            "  0%|          | 1/2500 [00:00<04:57,  8.39it/s]"
          ],
          "name": "stderr"
        },
        {
          "output_type": "stream",
          "text": [
            "-- validation accuracy 1.0\n",
            "\n",
            " epoch 7\n"
          ],
          "name": "stdout"
        },
        {
          "output_type": "stream",
          "text": [
            "100%|██████████| 2500/2500 [04:53<00:00,  8.54it/s]\n",
            "  0%|          | 1/2500 [00:00<04:55,  8.45it/s]"
          ],
          "name": "stderr"
        },
        {
          "output_type": "stream",
          "text": [
            "-- validation accuracy 1.0\n",
            "\n",
            " epoch 8\n"
          ],
          "name": "stdout"
        },
        {
          "output_type": "stream",
          "text": [
            "100%|██████████| 2500/2500 [04:53<00:00,  7.08it/s]\n",
            "  0%|          | 1/2500 [00:00<07:16,  5.72it/s]"
          ],
          "name": "stderr"
        },
        {
          "output_type": "stream",
          "text": [
            "-- validation accuracy 1.0\n",
            "\n",
            " epoch 9\n"
          ],
          "name": "stdout"
        },
        {
          "output_type": "stream",
          "text": [
            "100%|██████████| 2500/2500 [04:53<00:00,  6.58it/s]\n",
            "  0%|          | 1/2500 [00:00<07:23,  5.63it/s]"
          ],
          "name": "stderr"
        },
        {
          "output_type": "stream",
          "text": [
            "-- validation accuracy 1.0\n",
            "\n",
            " epoch 10\n"
          ],
          "name": "stdout"
        },
        {
          "output_type": "stream",
          "text": [
            "100%|██████████| 2500/2500 [04:52<00:00,  8.03it/s]\n",
            "  0%|          | 2/2500 [00:00<03:20, 12.46it/s]"
          ],
          "name": "stderr"
        },
        {
          "output_type": "stream",
          "text": [
            "-- validation accuracy 1.0\n",
            "\n",
            " epoch 11\n"
          ],
          "name": "stdout"
        },
        {
          "output_type": "stream",
          "text": [
            "100%|██████████| 2500/2500 [04:52<00:00,  7.36it/s]\n",
            "  0%|          | 1/2500 [00:00<07:22,  5.65it/s]"
          ],
          "name": "stderr"
        },
        {
          "output_type": "stream",
          "text": [
            "-- validation accuracy 1.0\n",
            "\n",
            " epoch 12\n"
          ],
          "name": "stdout"
        },
        {
          "output_type": "stream",
          "text": [
            "100%|██████████| 2500/2500 [04:52<00:00,  7.25it/s]\n",
            "  0%|          | 0/2500 [00:00<?, ?it/s]"
          ],
          "name": "stderr"
        },
        {
          "output_type": "stream",
          "text": [
            "-- validation accuracy 1.0\n",
            "\n",
            " epoch 13\n"
          ],
          "name": "stdout"
        },
        {
          "output_type": "stream",
          "text": [
            "100%|██████████| 2500/2500 [04:54<00:00,  9.05it/s]\n",
            "  0%|          | 1/2500 [00:00<06:08,  6.78it/s]"
          ],
          "name": "stderr"
        },
        {
          "output_type": "stream",
          "text": [
            "-- validation accuracy 1.0\n",
            "\n",
            " epoch 14\n"
          ],
          "name": "stdout"
        },
        {
          "output_type": "stream",
          "text": [
            "100%|██████████| 2500/2500 [04:53<00:00,  7.62it/s]\n",
            "  0%|          | 1/2500 [00:00<04:34,  9.10it/s]"
          ],
          "name": "stderr"
        },
        {
          "output_type": "stream",
          "text": [
            "-- validation accuracy 1.0\n",
            "\n",
            " epoch 15\n"
          ],
          "name": "stdout"
        },
        {
          "output_type": "stream",
          "text": [
            "100%|██████████| 2500/2500 [04:53<00:00,  8.80it/s]\n",
            "  0%|          | 1/2500 [00:00<04:34,  9.09it/s]"
          ],
          "name": "stderr"
        },
        {
          "output_type": "stream",
          "text": [
            "-- validation accuracy 1.0\n",
            "\n",
            " epoch 16\n"
          ],
          "name": "stdout"
        },
        {
          "output_type": "stream",
          "text": [
            "100%|██████████| 2500/2500 [04:54<00:00,  8.36it/s]\n",
            "  0%|          | 1/2500 [00:00<05:13,  7.97it/s]"
          ],
          "name": "stderr"
        },
        {
          "output_type": "stream",
          "text": [
            "-- validation accuracy 1.0\n",
            "\n",
            " epoch 17\n"
          ],
          "name": "stdout"
        },
        {
          "output_type": "stream",
          "text": [
            "100%|██████████| 2500/2500 [04:54<00:00,  8.50it/s]\n",
            "  0%|          | 1/2500 [00:00<05:39,  7.36it/s]"
          ],
          "name": "stderr"
        },
        {
          "output_type": "stream",
          "text": [
            "-- validation accuracy 1.0\n",
            "\n",
            " epoch 18\n"
          ],
          "name": "stdout"
        },
        {
          "output_type": "stream",
          "text": [
            "100%|██████████| 2500/2500 [04:54<00:00,  8.99it/s]\n",
            "  0%|          | 0/2500 [00:00<?, ?it/s]"
          ],
          "name": "stderr"
        },
        {
          "output_type": "stream",
          "text": [
            "-- validation accuracy 1.0\n",
            "\n",
            " epoch 19\n"
          ],
          "name": "stdout"
        },
        {
          "output_type": "stream",
          "text": [
            "100%|██████████| 2500/2500 [04:52<00:00,  8.87it/s]\n"
          ],
          "name": "stderr"
        },
        {
          "output_type": "stream",
          "text": [
            "-- validation accuracy 1.0\n"
          ],
          "name": "stdout"
        }
      ]
    },
    {
      "cell_type": "code",
      "metadata": {
        "id": "B6uTQjz-QULA",
        "colab_type": "code",
        "colab": {}
      },
      "source": [
        ""
      ],
      "execution_count": 0,
      "outputs": []
    },
    {
      "cell_type": "code",
      "metadata": {
        "id": "plw5BbFnO4YF",
        "colab_type": "code",
        "colab": {}
      },
      "source": [
        "#%run -i C:\\\\Continuum\\\\anaconda3\\\\envs\\\\pytorch\\\\notebooks\\\\Transformer\\\\experiments\\\\classify.py"
      ],
      "execution_count": 0,
      "outputs": []
    },
    {
      "cell_type": "code",
      "metadata": {
        "id": "THi-SRNbO4YI",
        "colab_type": "code",
        "colab": {}
      },
      "source": [
        "#!python C:\\\\Continuum\\\\anaconda3\\\\envs\\\\pytorch\\\\notebooks\\\\Transformer\\\\experiments\\\\classify.py\n"
      ],
      "execution_count": 0,
      "outputs": []
    },
    {
      "cell_type": "code",
      "metadata": {
        "id": "OVRJOFQIO4YM",
        "colab_type": "code",
        "colab": {}
      },
      "source": [
        ""
      ],
      "execution_count": 0,
      "outputs": []
    }
  ]
}