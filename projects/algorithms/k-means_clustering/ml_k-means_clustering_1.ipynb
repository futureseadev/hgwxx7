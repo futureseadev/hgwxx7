{
 "cells": [
  {
   "cell_type": "markdown",
   "metadata": {},
   "source": [
    "\n",
    "# K Means Clustering Project \n",
    "\n",
    "Using KMeans Clustering to cluster Universities into to two groups: Private and Public.\n",
    "\n",
    "## The Data\n",
    "\n",
    "Data frame has 777 observations on the following 18 variables.\n",
    "* Private A factor with levels No and Yes indicating private or public university\n",
    "* Apps Number of applications received\n",
    "* Accept Number of applications accepted\n",
    "* Enroll Number of new students enrolled\n",
    "* Top10perc Pct. new students from top 10% of H.S. class\n",
    "* Top25perc Pct. new students from top 25% of H.S. class\n",
    "* F.Undergrad Number of fulltime undergraduates\n",
    "* P.Undergrad Number of parttime undergraduates\n",
    "* Outstate Out-of-state tuition\n",
    "* Room.Board Room and board costs\n",
    "* Books Estimated book costs\n",
    "* Personal Estimated personal spending\n",
    "* PhD Pct. of faculty with Ph.D.’s\n",
    "* Terminal Pct. of faculty with terminal degree\n",
    "* S.F.Ratio Student/faculty ratio\n",
    "* perc.alumni Pct. alumni who donate\n",
    "* Expend Instructional expenditure per student\n",
    "* Grad.Rate Graduation rate"
   ]
  },
  {
   "cell_type": "code",
   "execution_count": 1,
   "metadata": {},
   "outputs": [],
   "source": [
    "# load libraries\n",
    "import numpy as np\n",
    "import pandas as pd\n",
    "import seaborn as sns\n",
    "import matplotlib.pyplot as plt\n",
    "\n",
    "%matplotlib inline"
   ]
  },
  {
   "cell_type": "markdown",
   "metadata": {},
   "source": [
    "## Loading the Data"
   ]
  },
  {
   "cell_type": "code",
   "execution_count": 2,
   "metadata": {},
   "outputs": [],
   "source": [
    "# load file as dataframe\n",
    "df = pd.read_csv('College_Data', index_col=0)"
   ]
  },
  {
   "cell_type": "code",
   "execution_count": 3,
   "metadata": {},
   "outputs": [
    {
     "data": {
      "text/html": [
       "<div>\n",
       "<style scoped>\n",
       "    .dataframe tbody tr th:only-of-type {\n",
       "        vertical-align: middle;\n",
       "    }\n",
       "\n",
       "    .dataframe tbody tr th {\n",
       "        vertical-align: top;\n",
       "    }\n",
       "\n",
       "    .dataframe thead th {\n",
       "        text-align: right;\n",
       "    }\n",
       "</style>\n",
       "<table border=\"1\" class=\"dataframe\">\n",
       "  <thead>\n",
       "    <tr style=\"text-align: right;\">\n",
       "      <th></th>\n",
       "      <th>Private</th>\n",
       "      <th>Apps</th>\n",
       "      <th>Accept</th>\n",
       "      <th>Enroll</th>\n",
       "      <th>Top10perc</th>\n",
       "      <th>Top25perc</th>\n",
       "      <th>F.Undergrad</th>\n",
       "      <th>P.Undergrad</th>\n",
       "      <th>Outstate</th>\n",
       "      <th>Room.Board</th>\n",
       "      <th>Books</th>\n",
       "      <th>Personal</th>\n",
       "      <th>PhD</th>\n",
       "      <th>Terminal</th>\n",
       "      <th>S.F.Ratio</th>\n",
       "      <th>perc.alumni</th>\n",
       "      <th>Expend</th>\n",
       "      <th>Grad.Rate</th>\n",
       "    </tr>\n",
       "  </thead>\n",
       "  <tbody>\n",
       "    <tr>\n",
       "      <th>Murray State University</th>\n",
       "      <td>No</td>\n",
       "      <td>2225</td>\n",
       "      <td>1910</td>\n",
       "      <td>1190</td>\n",
       "      <td>29</td>\n",
       "      <td>55</td>\n",
       "      <td>5968</td>\n",
       "      <td>955</td>\n",
       "      <td>4738</td>\n",
       "      <td>3110</td>\n",
       "      <td>700</td>\n",
       "      <td>940</td>\n",
       "      <td>72</td>\n",
       "      <td>76</td>\n",
       "      <td>20.2</td>\n",
       "      <td>27</td>\n",
       "      <td>5972</td>\n",
       "      <td>52</td>\n",
       "    </tr>\n",
       "    <tr>\n",
       "      <th>Oklahoma State University</th>\n",
       "      <td>No</td>\n",
       "      <td>4522</td>\n",
       "      <td>3913</td>\n",
       "      <td>2181</td>\n",
       "      <td>29</td>\n",
       "      <td>57</td>\n",
       "      <td>12830</td>\n",
       "      <td>1658</td>\n",
       "      <td>5336</td>\n",
       "      <td>3344</td>\n",
       "      <td>800</td>\n",
       "      <td>3100</td>\n",
       "      <td>84</td>\n",
       "      <td>92</td>\n",
       "      <td>15.3</td>\n",
       "      <td>14</td>\n",
       "      <td>6433</td>\n",
       "      <td>48</td>\n",
       "    </tr>\n",
       "    <tr>\n",
       "      <th>Washington College</th>\n",
       "      <td>Yes</td>\n",
       "      <td>1209</td>\n",
       "      <td>942</td>\n",
       "      <td>214</td>\n",
       "      <td>31</td>\n",
       "      <td>60</td>\n",
       "      <td>822</td>\n",
       "      <td>46</td>\n",
       "      <td>15276</td>\n",
       "      <td>5318</td>\n",
       "      <td>500</td>\n",
       "      <td>300</td>\n",
       "      <td>79</td>\n",
       "      <td>86</td>\n",
       "      <td>11.2</td>\n",
       "      <td>37</td>\n",
       "      <td>10830</td>\n",
       "      <td>65</td>\n",
       "    </tr>\n",
       "    <tr>\n",
       "      <th>Whittier College</th>\n",
       "      <td>Yes</td>\n",
       "      <td>1681</td>\n",
       "      <td>1069</td>\n",
       "      <td>344</td>\n",
       "      <td>35</td>\n",
       "      <td>63</td>\n",
       "      <td>1235</td>\n",
       "      <td>30</td>\n",
       "      <td>16249</td>\n",
       "      <td>5699</td>\n",
       "      <td>500</td>\n",
       "      <td>1998</td>\n",
       "      <td>84</td>\n",
       "      <td>92</td>\n",
       "      <td>13.6</td>\n",
       "      <td>29</td>\n",
       "      <td>11778</td>\n",
       "      <td>52</td>\n",
       "    </tr>\n",
       "    <tr>\n",
       "      <th>Valparaiso University</th>\n",
       "      <td>Yes</td>\n",
       "      <td>2075</td>\n",
       "      <td>1727</td>\n",
       "      <td>520</td>\n",
       "      <td>49</td>\n",
       "      <td>81</td>\n",
       "      <td>2501</td>\n",
       "      <td>198</td>\n",
       "      <td>11800</td>\n",
       "      <td>3260</td>\n",
       "      <td>500</td>\n",
       "      <td>800</td>\n",
       "      <td>87</td>\n",
       "      <td>89</td>\n",
       "      <td>14.2</td>\n",
       "      <td>23</td>\n",
       "      <td>9681</td>\n",
       "      <td>95</td>\n",
       "    </tr>\n",
       "    <tr>\n",
       "      <th>University of Alabama at Birmingham</th>\n",
       "      <td>No</td>\n",
       "      <td>1797</td>\n",
       "      <td>1260</td>\n",
       "      <td>938</td>\n",
       "      <td>24</td>\n",
       "      <td>35</td>\n",
       "      <td>6960</td>\n",
       "      <td>4698</td>\n",
       "      <td>4440</td>\n",
       "      <td>5175</td>\n",
       "      <td>750</td>\n",
       "      <td>2200</td>\n",
       "      <td>96</td>\n",
       "      <td>96</td>\n",
       "      <td>6.7</td>\n",
       "      <td>16</td>\n",
       "      <td>16352</td>\n",
       "      <td>33</td>\n",
       "    </tr>\n",
       "    <tr>\n",
       "      <th>University of Dayton</th>\n",
       "      <td>Yes</td>\n",
       "      <td>6361</td>\n",
       "      <td>5293</td>\n",
       "      <td>1507</td>\n",
       "      <td>26</td>\n",
       "      <td>51</td>\n",
       "      <td>5889</td>\n",
       "      <td>665</td>\n",
       "      <td>11380</td>\n",
       "      <td>4220</td>\n",
       "      <td>500</td>\n",
       "      <td>900</td>\n",
       "      <td>81</td>\n",
       "      <td>85</td>\n",
       "      <td>14.8</td>\n",
       "      <td>25</td>\n",
       "      <td>8894</td>\n",
       "      <td>93</td>\n",
       "    </tr>\n",
       "  </tbody>\n",
       "</table>\n",
       "</div>"
      ],
      "text/plain": [
       "                                    Private  Apps  Accept  Enroll  Top10perc  \\\n",
       "Murray State University                  No  2225    1910    1190         29   \n",
       "Oklahoma State University                No  4522    3913    2181         29   \n",
       "Washington College                      Yes  1209     942     214         31   \n",
       "Whittier College                        Yes  1681    1069     344         35   \n",
       "Valparaiso University                   Yes  2075    1727     520         49   \n",
       "University of Alabama at Birmingham      No  1797    1260     938         24   \n",
       "University of Dayton                    Yes  6361    5293    1507         26   \n",
       "\n",
       "                                     Top25perc  F.Undergrad  P.Undergrad  \\\n",
       "Murray State University                     55         5968          955   \n",
       "Oklahoma State University                   57        12830         1658   \n",
       "Washington College                          60          822           46   \n",
       "Whittier College                            63         1235           30   \n",
       "Valparaiso University                       81         2501          198   \n",
       "University of Alabama at Birmingham         35         6960         4698   \n",
       "University of Dayton                        51         5889          665   \n",
       "\n",
       "                                     Outstate  Room.Board  Books  Personal  \\\n",
       "Murray State University                  4738        3110    700       940   \n",
       "Oklahoma State University                5336        3344    800      3100   \n",
       "Washington College                      15276        5318    500       300   \n",
       "Whittier College                        16249        5699    500      1998   \n",
       "Valparaiso University                   11800        3260    500       800   \n",
       "University of Alabama at Birmingham      4440        5175    750      2200   \n",
       "University of Dayton                    11380        4220    500       900   \n",
       "\n",
       "                                     PhD  Terminal  S.F.Ratio  perc.alumni  \\\n",
       "Murray State University               72        76       20.2           27   \n",
       "Oklahoma State University             84        92       15.3           14   \n",
       "Washington College                    79        86       11.2           37   \n",
       "Whittier College                      84        92       13.6           29   \n",
       "Valparaiso University                 87        89       14.2           23   \n",
       "University of Alabama at Birmingham   96        96        6.7           16   \n",
       "University of Dayton                  81        85       14.8           25   \n",
       "\n",
       "                                     Expend  Grad.Rate  \n",
       "Murray State University                5972         52  \n",
       "Oklahoma State University              6433         48  \n",
       "Washington College                    10830         65  \n",
       "Whittier College                      11778         52  \n",
       "Valparaiso University                  9681         95  \n",
       "University of Alabama at Birmingham   16352         33  \n",
       "University of Dayton                   8894         93  "
      ]
     },
     "execution_count": 3,
     "metadata": {},
     "output_type": "execute_result"
    }
   ],
   "source": [
    "df.sample(7)"
   ]
  },
  {
   "cell_type": "code",
   "execution_count": 4,
   "metadata": {},
   "outputs": [
    {
     "name": "stdout",
     "output_type": "stream",
     "text": [
      "<class 'pandas.core.frame.DataFrame'>\n",
      "Index: 777 entries, Abilene Christian University to York College of Pennsylvania\n",
      "Data columns (total 18 columns):\n",
      "Private        777 non-null object\n",
      "Apps           777 non-null int64\n",
      "Accept         777 non-null int64\n",
      "Enroll         777 non-null int64\n",
      "Top10perc      777 non-null int64\n",
      "Top25perc      777 non-null int64\n",
      "F.Undergrad    777 non-null int64\n",
      "P.Undergrad    777 non-null int64\n",
      "Outstate       777 non-null int64\n",
      "Room.Board     777 non-null int64\n",
      "Books          777 non-null int64\n",
      "Personal       777 non-null int64\n",
      "PhD            777 non-null int64\n",
      "Terminal       777 non-null int64\n",
      "S.F.Ratio      777 non-null float64\n",
      "perc.alumni    777 non-null int64\n",
      "Expend         777 non-null int64\n",
      "Grad.Rate      777 non-null int64\n",
      "dtypes: float64(1), int64(16), object(1)\n",
      "memory usage: 115.3+ KB\n"
     ]
    }
   ],
   "source": [
    "df.info()"
   ]
  },
  {
   "cell_type": "code",
   "execution_count": 5,
   "metadata": {},
   "outputs": [
    {
     "data": {
      "text/html": [
       "<div>\n",
       "<style scoped>\n",
       "    .dataframe tbody tr th:only-of-type {\n",
       "        vertical-align: middle;\n",
       "    }\n",
       "\n",
       "    .dataframe tbody tr th {\n",
       "        vertical-align: top;\n",
       "    }\n",
       "\n",
       "    .dataframe thead th {\n",
       "        text-align: right;\n",
       "    }\n",
       "</style>\n",
       "<table border=\"1\" class=\"dataframe\">\n",
       "  <thead>\n",
       "    <tr style=\"text-align: right;\">\n",
       "      <th></th>\n",
       "      <th>Private</th>\n",
       "      <th>Apps</th>\n",
       "      <th>Accept</th>\n",
       "      <th>Enroll</th>\n",
       "      <th>Top10perc</th>\n",
       "      <th>Top25perc</th>\n",
       "      <th>F.Undergrad</th>\n",
       "      <th>P.Undergrad</th>\n",
       "      <th>Outstate</th>\n",
       "      <th>Room.Board</th>\n",
       "      <th>Books</th>\n",
       "      <th>Personal</th>\n",
       "      <th>PhD</th>\n",
       "      <th>Terminal</th>\n",
       "      <th>S.F.Ratio</th>\n",
       "      <th>perc.alumni</th>\n",
       "      <th>Expend</th>\n",
       "      <th>Grad.Rate</th>\n",
       "    </tr>\n",
       "  </thead>\n",
       "  <tbody>\n",
       "    <tr>\n",
       "      <th>count</th>\n",
       "      <td>777</td>\n",
       "      <td>777.000000</td>\n",
       "      <td>777.000000</td>\n",
       "      <td>777.000000</td>\n",
       "      <td>777.000000</td>\n",
       "      <td>777.000000</td>\n",
       "      <td>777.000000</td>\n",
       "      <td>777.000000</td>\n",
       "      <td>777.000000</td>\n",
       "      <td>777.000000</td>\n",
       "      <td>777.000000</td>\n",
       "      <td>777.000000</td>\n",
       "      <td>777.000000</td>\n",
       "      <td>777.000000</td>\n",
       "      <td>777.000000</td>\n",
       "      <td>777.000000</td>\n",
       "      <td>777.000000</td>\n",
       "      <td>777.00000</td>\n",
       "    </tr>\n",
       "    <tr>\n",
       "      <th>unique</th>\n",
       "      <td>2</td>\n",
       "      <td>NaN</td>\n",
       "      <td>NaN</td>\n",
       "      <td>NaN</td>\n",
       "      <td>NaN</td>\n",
       "      <td>NaN</td>\n",
       "      <td>NaN</td>\n",
       "      <td>NaN</td>\n",
       "      <td>NaN</td>\n",
       "      <td>NaN</td>\n",
       "      <td>NaN</td>\n",
       "      <td>NaN</td>\n",
       "      <td>NaN</td>\n",
       "      <td>NaN</td>\n",
       "      <td>NaN</td>\n",
       "      <td>NaN</td>\n",
       "      <td>NaN</td>\n",
       "      <td>NaN</td>\n",
       "    </tr>\n",
       "    <tr>\n",
       "      <th>top</th>\n",
       "      <td>Yes</td>\n",
       "      <td>NaN</td>\n",
       "      <td>NaN</td>\n",
       "      <td>NaN</td>\n",
       "      <td>NaN</td>\n",
       "      <td>NaN</td>\n",
       "      <td>NaN</td>\n",
       "      <td>NaN</td>\n",
       "      <td>NaN</td>\n",
       "      <td>NaN</td>\n",
       "      <td>NaN</td>\n",
       "      <td>NaN</td>\n",
       "      <td>NaN</td>\n",
       "      <td>NaN</td>\n",
       "      <td>NaN</td>\n",
       "      <td>NaN</td>\n",
       "      <td>NaN</td>\n",
       "      <td>NaN</td>\n",
       "    </tr>\n",
       "    <tr>\n",
       "      <th>freq</th>\n",
       "      <td>565</td>\n",
       "      <td>NaN</td>\n",
       "      <td>NaN</td>\n",
       "      <td>NaN</td>\n",
       "      <td>NaN</td>\n",
       "      <td>NaN</td>\n",
       "      <td>NaN</td>\n",
       "      <td>NaN</td>\n",
       "      <td>NaN</td>\n",
       "      <td>NaN</td>\n",
       "      <td>NaN</td>\n",
       "      <td>NaN</td>\n",
       "      <td>NaN</td>\n",
       "      <td>NaN</td>\n",
       "      <td>NaN</td>\n",
       "      <td>NaN</td>\n",
       "      <td>NaN</td>\n",
       "      <td>NaN</td>\n",
       "    </tr>\n",
       "    <tr>\n",
       "      <th>mean</th>\n",
       "      <td>NaN</td>\n",
       "      <td>3001.638353</td>\n",
       "      <td>2018.804376</td>\n",
       "      <td>779.972973</td>\n",
       "      <td>27.558559</td>\n",
       "      <td>55.796654</td>\n",
       "      <td>3699.907336</td>\n",
       "      <td>855.298584</td>\n",
       "      <td>10440.669241</td>\n",
       "      <td>4357.526384</td>\n",
       "      <td>549.380952</td>\n",
       "      <td>1340.642214</td>\n",
       "      <td>72.660232</td>\n",
       "      <td>79.702703</td>\n",
       "      <td>14.089704</td>\n",
       "      <td>22.743887</td>\n",
       "      <td>9660.171171</td>\n",
       "      <td>65.46332</td>\n",
       "    </tr>\n",
       "    <tr>\n",
       "      <th>std</th>\n",
       "      <td>NaN</td>\n",
       "      <td>3870.201484</td>\n",
       "      <td>2451.113971</td>\n",
       "      <td>929.176190</td>\n",
       "      <td>17.640364</td>\n",
       "      <td>19.804778</td>\n",
       "      <td>4850.420531</td>\n",
       "      <td>1522.431887</td>\n",
       "      <td>4023.016484</td>\n",
       "      <td>1096.696416</td>\n",
       "      <td>165.105360</td>\n",
       "      <td>677.071454</td>\n",
       "      <td>16.328155</td>\n",
       "      <td>14.722359</td>\n",
       "      <td>3.958349</td>\n",
       "      <td>12.391801</td>\n",
       "      <td>5221.768440</td>\n",
       "      <td>17.17771</td>\n",
       "    </tr>\n",
       "    <tr>\n",
       "      <th>min</th>\n",
       "      <td>NaN</td>\n",
       "      <td>81.000000</td>\n",
       "      <td>72.000000</td>\n",
       "      <td>35.000000</td>\n",
       "      <td>1.000000</td>\n",
       "      <td>9.000000</td>\n",
       "      <td>139.000000</td>\n",
       "      <td>1.000000</td>\n",
       "      <td>2340.000000</td>\n",
       "      <td>1780.000000</td>\n",
       "      <td>96.000000</td>\n",
       "      <td>250.000000</td>\n",
       "      <td>8.000000</td>\n",
       "      <td>24.000000</td>\n",
       "      <td>2.500000</td>\n",
       "      <td>0.000000</td>\n",
       "      <td>3186.000000</td>\n",
       "      <td>10.00000</td>\n",
       "    </tr>\n",
       "    <tr>\n",
       "      <th>25%</th>\n",
       "      <td>NaN</td>\n",
       "      <td>776.000000</td>\n",
       "      <td>604.000000</td>\n",
       "      <td>242.000000</td>\n",
       "      <td>15.000000</td>\n",
       "      <td>41.000000</td>\n",
       "      <td>992.000000</td>\n",
       "      <td>95.000000</td>\n",
       "      <td>7320.000000</td>\n",
       "      <td>3597.000000</td>\n",
       "      <td>470.000000</td>\n",
       "      <td>850.000000</td>\n",
       "      <td>62.000000</td>\n",
       "      <td>71.000000</td>\n",
       "      <td>11.500000</td>\n",
       "      <td>13.000000</td>\n",
       "      <td>6751.000000</td>\n",
       "      <td>53.00000</td>\n",
       "    </tr>\n",
       "    <tr>\n",
       "      <th>50%</th>\n",
       "      <td>NaN</td>\n",
       "      <td>1558.000000</td>\n",
       "      <td>1110.000000</td>\n",
       "      <td>434.000000</td>\n",
       "      <td>23.000000</td>\n",
       "      <td>54.000000</td>\n",
       "      <td>1707.000000</td>\n",
       "      <td>353.000000</td>\n",
       "      <td>9990.000000</td>\n",
       "      <td>4200.000000</td>\n",
       "      <td>500.000000</td>\n",
       "      <td>1200.000000</td>\n",
       "      <td>75.000000</td>\n",
       "      <td>82.000000</td>\n",
       "      <td>13.600000</td>\n",
       "      <td>21.000000</td>\n",
       "      <td>8377.000000</td>\n",
       "      <td>65.00000</td>\n",
       "    </tr>\n",
       "    <tr>\n",
       "      <th>75%</th>\n",
       "      <td>NaN</td>\n",
       "      <td>3624.000000</td>\n",
       "      <td>2424.000000</td>\n",
       "      <td>902.000000</td>\n",
       "      <td>35.000000</td>\n",
       "      <td>69.000000</td>\n",
       "      <td>4005.000000</td>\n",
       "      <td>967.000000</td>\n",
       "      <td>12925.000000</td>\n",
       "      <td>5050.000000</td>\n",
       "      <td>600.000000</td>\n",
       "      <td>1700.000000</td>\n",
       "      <td>85.000000</td>\n",
       "      <td>92.000000</td>\n",
       "      <td>16.500000</td>\n",
       "      <td>31.000000</td>\n",
       "      <td>10830.000000</td>\n",
       "      <td>78.00000</td>\n",
       "    </tr>\n",
       "    <tr>\n",
       "      <th>max</th>\n",
       "      <td>NaN</td>\n",
       "      <td>48094.000000</td>\n",
       "      <td>26330.000000</td>\n",
       "      <td>6392.000000</td>\n",
       "      <td>96.000000</td>\n",
       "      <td>100.000000</td>\n",
       "      <td>31643.000000</td>\n",
       "      <td>21836.000000</td>\n",
       "      <td>21700.000000</td>\n",
       "      <td>8124.000000</td>\n",
       "      <td>2340.000000</td>\n",
       "      <td>6800.000000</td>\n",
       "      <td>103.000000</td>\n",
       "      <td>100.000000</td>\n",
       "      <td>39.800000</td>\n",
       "      <td>64.000000</td>\n",
       "      <td>56233.000000</td>\n",
       "      <td>118.00000</td>\n",
       "    </tr>\n",
       "  </tbody>\n",
       "</table>\n",
       "</div>"
      ],
      "text/plain": [
       "       Private          Apps        Accept       Enroll   Top10perc  \\\n",
       "count      777    777.000000    777.000000   777.000000  777.000000   \n",
       "unique       2           NaN           NaN          NaN         NaN   \n",
       "top        Yes           NaN           NaN          NaN         NaN   \n",
       "freq       565           NaN           NaN          NaN         NaN   \n",
       "mean       NaN   3001.638353   2018.804376   779.972973   27.558559   \n",
       "std        NaN   3870.201484   2451.113971   929.176190   17.640364   \n",
       "min        NaN     81.000000     72.000000    35.000000    1.000000   \n",
       "25%        NaN    776.000000    604.000000   242.000000   15.000000   \n",
       "50%        NaN   1558.000000   1110.000000   434.000000   23.000000   \n",
       "75%        NaN   3624.000000   2424.000000   902.000000   35.000000   \n",
       "max        NaN  48094.000000  26330.000000  6392.000000   96.000000   \n",
       "\n",
       "         Top25perc   F.Undergrad   P.Undergrad      Outstate   Room.Board  \\\n",
       "count   777.000000    777.000000    777.000000    777.000000   777.000000   \n",
       "unique         NaN           NaN           NaN           NaN          NaN   \n",
       "top            NaN           NaN           NaN           NaN          NaN   \n",
       "freq           NaN           NaN           NaN           NaN          NaN   \n",
       "mean     55.796654   3699.907336    855.298584  10440.669241  4357.526384   \n",
       "std      19.804778   4850.420531   1522.431887   4023.016484  1096.696416   \n",
       "min       9.000000    139.000000      1.000000   2340.000000  1780.000000   \n",
       "25%      41.000000    992.000000     95.000000   7320.000000  3597.000000   \n",
       "50%      54.000000   1707.000000    353.000000   9990.000000  4200.000000   \n",
       "75%      69.000000   4005.000000    967.000000  12925.000000  5050.000000   \n",
       "max     100.000000  31643.000000  21836.000000  21700.000000  8124.000000   \n",
       "\n",
       "              Books     Personal         PhD    Terminal   S.F.Ratio  \\\n",
       "count    777.000000   777.000000  777.000000  777.000000  777.000000   \n",
       "unique          NaN          NaN         NaN         NaN         NaN   \n",
       "top             NaN          NaN         NaN         NaN         NaN   \n",
       "freq            NaN          NaN         NaN         NaN         NaN   \n",
       "mean     549.380952  1340.642214   72.660232   79.702703   14.089704   \n",
       "std      165.105360   677.071454   16.328155   14.722359    3.958349   \n",
       "min       96.000000   250.000000    8.000000   24.000000    2.500000   \n",
       "25%      470.000000   850.000000   62.000000   71.000000   11.500000   \n",
       "50%      500.000000  1200.000000   75.000000   82.000000   13.600000   \n",
       "75%      600.000000  1700.000000   85.000000   92.000000   16.500000   \n",
       "max     2340.000000  6800.000000  103.000000  100.000000   39.800000   \n",
       "\n",
       "        perc.alumni        Expend  Grad.Rate  \n",
       "count    777.000000    777.000000  777.00000  \n",
       "unique          NaN           NaN        NaN  \n",
       "top             NaN           NaN        NaN  \n",
       "freq            NaN           NaN        NaN  \n",
       "mean      22.743887   9660.171171   65.46332  \n",
       "std       12.391801   5221.768440   17.17771  \n",
       "min        0.000000   3186.000000   10.00000  \n",
       "25%       13.000000   6751.000000   53.00000  \n",
       "50%       21.000000   8377.000000   65.00000  \n",
       "75%       31.000000  10830.000000   78.00000  \n",
       "max       64.000000  56233.000000  118.00000  "
      ]
     },
     "execution_count": 5,
     "metadata": {},
     "output_type": "execute_result"
    }
   ],
   "source": [
    "df.describe(include='all')"
   ]
  },
  {
   "cell_type": "markdown",
   "metadata": {},
   "source": [
    "## EDA\n",
    "\n",
    "** Creating a scatterplot of Grad.Rate versus Room.Board where the points are colored by the Private column. **"
   ]
  },
  {
   "cell_type": "code",
   "execution_count": 6,
   "metadata": {},
   "outputs": [
    {
     "data": {
      "text/plain": [
       "<seaborn.axisgrid.FacetGrid at 0x22fed15b048>"
      ]
     },
     "execution_count": 6,
     "metadata": {},
     "output_type": "execute_result"
    },
    {
     "data": {
      "image/png": "[encoded data removed]",
      "text/plain": [
       "<Figure size 413.359x360 with 1 Axes>"
      ]
     },
     "metadata": {
      "needs_background": "light"
     },
     "output_type": "display_data"
    }
   ],
   "source": [
    "sns.lmplot(x='Room.Board', y='Grad.Rate', data=df, hue='Private', fit_reg=False)"
   ]
  },
  {
   "cell_type": "code",
   "execution_count": 7,
   "metadata": {},
   "outputs": [
    {
     "data": {
      "text/plain": [
       "<seaborn.axisgrid.FacetGrid at 0x22fed16aa58>"
      ]
     },
     "execution_count": 7,
     "metadata": {},
     "output_type": "execute_result"
    },
    {
     "data": {
      "image/png": "[encoded data removed]",
      "text/plain": [
       "<Figure size 413.359x360 with 1 Axes>"
      ]
     },
     "metadata": {
      "needs_background": "light"
     },
     "output_type": "display_data"
    }
   ],
   "source": [
    "sns.lmplot(x='Room.Board', y='Grad.Rate', data=df, hue='Private', fit_reg=True)"
   ]
  },
  {
   "cell_type": "markdown",
   "metadata": {},
   "source": [
    "**Creating a scatterplot of F.Undergrad versus Outstate where the points are colored by the Private column.**"
   ]
  },
  {
   "cell_type": "code",
   "execution_count": 8,
   "metadata": {},
   "outputs": [
    {
     "data": {
      "text/plain": [
       "<seaborn.axisgrid.FacetGrid at 0x22fef21c5c0>"
      ]
     },
     "execution_count": 8,
     "metadata": {},
     "output_type": "execute_result"
    },
    {
     "data": {
      "image/png": "[encoded data removed]",
      "text/plain": [
       "<Figure size 413.359x360 with 1 Axes>"
      ]
     },
     "metadata": {
      "needs_background": "light"
     },
     "output_type": "display_data"
    }
   ],
   "source": [
    "sns.lmplot(x='Outstate', y='F.Undergrad', data=df, hue='Private', fit_reg=False)"
   ]
  },
  {
   "cell_type": "code",
   "execution_count": 9,
   "metadata": {},
   "outputs": [
    {
     "data": {
      "image/png": "[encoded data removed]",
      "text/plain": [
       "<Figure size 1008x504 with 1 Axes>"
      ]
     },
     "metadata": {
      "needs_background": "light"
     },
     "output_type": "display_data"
    }
   ],
   "source": [
    "g = sns.FacetGrid(df, hue='Private', height=7, aspect=2)\n",
    "g = g.map(plt.hist, 'Outstate', bins=20, alpha=0.7)"
   ]
  },
  {
   "cell_type": "markdown",
   "metadata": {},
   "source": [
    "**Creating a similar histogram for the Grad.Rate column.**"
   ]
  },
  {
   "cell_type": "code",
   "execution_count": 10,
   "metadata": {},
   "outputs": [
    {
     "data": {
      "image/png": "[encoded data removed]",
      "text/plain": [
       "<Figure size 1008x504 with 1 Axes>"
      ]
     },
     "metadata": {
      "needs_background": "light"
     },
     "output_type": "display_data"
    }
   ],
   "source": [
    "g = sns.FacetGrid(df, hue='Private', height=7, aspect=2)\n",
    "g = g.map(plt.hist, 'Grad.Rate', bins=20, alpha=0.7)"
   ]
  },
  {
   "cell_type": "code",
   "execution_count": 11,
   "metadata": {},
   "outputs": [
    {
     "data": {
      "text/html": [
       "<div>\n",
       "<style scoped>\n",
       "    .dataframe tbody tr th:only-of-type {\n",
       "        vertical-align: middle;\n",
       "    }\n",
       "\n",
       "    .dataframe tbody tr th {\n",
       "        vertical-align: top;\n",
       "    }\n",
       "\n",
       "    .dataframe thead th {\n",
       "        text-align: right;\n",
       "    }\n",
       "</style>\n",
       "<table border=\"1\" class=\"dataframe\">\n",
       "  <thead>\n",
       "    <tr style=\"text-align: right;\">\n",
       "      <th></th>\n",
       "      <th>Private</th>\n",
       "      <th>Apps</th>\n",
       "      <th>Accept</th>\n",
       "      <th>Enroll</th>\n",
       "      <th>Top10perc</th>\n",
       "      <th>Top25perc</th>\n",
       "      <th>F.Undergrad</th>\n",
       "      <th>P.Undergrad</th>\n",
       "      <th>Outstate</th>\n",
       "      <th>Room.Board</th>\n",
       "      <th>Books</th>\n",
       "      <th>Personal</th>\n",
       "      <th>PhD</th>\n",
       "      <th>Terminal</th>\n",
       "      <th>S.F.Ratio</th>\n",
       "      <th>perc.alumni</th>\n",
       "      <th>Expend</th>\n",
       "      <th>Grad.Rate</th>\n",
       "    </tr>\n",
       "  </thead>\n",
       "  <tbody>\n",
       "    <tr>\n",
       "      <th>Cazenovia College</th>\n",
       "      <td>Yes</td>\n",
       "      <td>3847</td>\n",
       "      <td>3433</td>\n",
       "      <td>527</td>\n",
       "      <td>9</td>\n",
       "      <td>35</td>\n",
       "      <td>1010</td>\n",
       "      <td>12</td>\n",
       "      <td>9384</td>\n",
       "      <td>4840</td>\n",
       "      <td>600</td>\n",
       "      <td>500</td>\n",
       "      <td>22</td>\n",
       "      <td>47</td>\n",
       "      <td>14.3</td>\n",
       "      <td>20</td>\n",
       "      <td>7697</td>\n",
       "      <td>118</td>\n",
       "    </tr>\n",
       "  </tbody>\n",
       "</table>\n",
       "</div>"
      ],
      "text/plain": [
       "                  Private  Apps  Accept  Enroll  Top10perc  Top25perc  \\\n",
       "Cazenovia College     Yes  3847    3433     527          9         35   \n",
       "\n",
       "                   F.Undergrad  P.Undergrad  Outstate  Room.Board  Books  \\\n",
       "Cazenovia College         1010           12      9384        4840    600   \n",
       "\n",
       "                   Personal  PhD  Terminal  S.F.Ratio  perc.alumni  Expend  \\\n",
       "Cazenovia College       500   22        47       14.3           20    7697   \n",
       "\n",
       "                   Grad.Rate  \n",
       "Cazenovia College        118  "
      ]
     },
     "execution_count": 11,
     "metadata": {},
     "output_type": "execute_result"
    }
   ],
   "source": [
    "df[df['Grad.Rate'] > 100]"
   ]
  },
  {
   "cell_type": "code",
   "execution_count": 12,
   "metadata": {},
   "outputs": [
    {
     "name": "stderr",
     "output_type": "stream",
     "text": [
      "e:\\python\\lib\\site-packages\\ipykernel_launcher.py:1: SettingWithCopyWarning: \n",
      "A value is trying to be set on a copy of a slice from a DataFrame\n",
      "\n",
      "See the caveats in the documentation: http://pandas.pydata.org/pandas-docs/stable/indexing.html#indexing-view-versus-copy\n",
      "  \"\"\"Entry point for launching an IPython kernel.\n"
     ]
    }
   ],
   "source": [
    "df['Grad.Rate']['Cazenovia College'] = 100"
   ]
  },
  {
   "cell_type": "code",
   "execution_count": 13,
   "metadata": {},
   "outputs": [
    {
     "data": {
      "image/png": "[encoded data removed]",
      "text/plain": [
       "<Figure size 1008x504 with 1 Axes>"
      ]
     },
     "metadata": {
      "needs_background": "light"
     },
     "output_type": "display_data"
    }
   ],
   "source": [
    "g = sns.FacetGrid(df, hue=\"Private\", height=7, aspect=2)\n",
    "g = g.map(plt.hist, 'Grad.Rate',bins=20, alpha=0.7)"
   ]
  },
  {
   "cell_type": "markdown",
   "metadata": {},
   "source": [
    "## K Means Cluster Creation"
   ]
  },
  {
   "cell_type": "code",
   "execution_count": 14,
   "metadata": {},
   "outputs": [],
   "source": [
    "from sklearn.cluster import KMeans"
   ]
  },
  {
   "cell_type": "markdown",
   "metadata": {},
   "source": [
    "** Creating an instance of a K Means model with 2 clusters.**"
   ]
  },
  {
   "cell_type": "code",
   "execution_count": 15,
   "metadata": {},
   "outputs": [],
   "source": [
    "kmeans = KMeans(n_clusters=2)"
   ]
  },
  {
   "cell_type": "markdown",
   "metadata": {},
   "source": [
    "**Fitting the model to all the data except for the Private label.**"
   ]
  },
  {
   "cell_type": "code",
   "execution_count": 16,
   "metadata": {},
   "outputs": [
    {
     "data": {
      "text/plain": [
       "KMeans(algorithm='auto', copy_x=True, init='k-means++', max_iter=300,\n",
       "    n_clusters=2, n_init=10, n_jobs=1, precompute_distances='auto',\n",
       "    random_state=None, tol=0.0001, verbose=0)"
      ]
     },
     "execution_count": 16,
     "metadata": {},
     "output_type": "execute_result"
    }
   ],
   "source": [
    "kmeans.fit(df.drop('Private', axis=1))"
   ]
  },
  {
   "cell_type": "code",
   "execution_count": 17,
   "metadata": {},
   "outputs": [
    {
     "data": {
      "text/plain": [
       "array([[1.81323468e+03, 1.28716592e+03, 4.91044843e+02, 2.53094170e+01,\n",
       "        5.34708520e+01, 2.18854858e+03, 5.95458894e+02, 1.03957085e+04,\n",
       "        4.31136472e+03, 5.41982063e+02, 1.28033632e+03, 7.04424514e+01,\n",
       "        7.78251121e+01, 1.40997010e+01, 2.31748879e+01, 8.93204634e+03,\n",
       "        6.50926756e+01],\n",
       "       [1.03631389e+04, 6.55089815e+03, 2.56972222e+03, 4.14907407e+01,\n",
       "        7.02037037e+01, 1.30619352e+04, 2.46486111e+03, 1.07191759e+04,\n",
       "        4.64347222e+03, 5.95212963e+02, 1.71420370e+03, 8.63981481e+01,\n",
       "        9.13333333e+01, 1.40277778e+01, 2.00740741e+01, 1.41705000e+04,\n",
       "        6.75925926e+01]])"
      ]
     },
     "execution_count": 17,
     "metadata": {},
     "output_type": "execute_result"
    }
   ],
   "source": [
    "kmeans.cluster_centers_"
   ]
  },
  {
   "cell_type": "markdown",
   "metadata": {},
   "source": [
    "## Evaluation\n",
    "\n",
    "** Creating a new column for df called 'Cluster', which is a 1 for a Private school, and a 0 for a public school.**"
   ]
  },
  {
   "cell_type": "code",
   "execution_count": 18,
   "metadata": {},
   "outputs": [],
   "source": [
    "# converter -> cluster\n",
    "def converter(cluster):\n",
    "    if cluster == 'Yes':\n",
    "        return 1\n",
    "    else:\n",
    "        return 0"
   ]
  },
  {
   "cell_type": "code",
   "execution_count": 19,
   "metadata": {},
   "outputs": [],
   "source": [
    "df['Cluster'] = df['Private'].apply(converter)"
   ]
  },
  {
   "cell_type": "code",
   "execution_count": 20,
   "metadata": {
    "scrolled": true
   },
   "outputs": [
    {
     "data": {
      "text/html": [
       "<div>\n",
       "<style scoped>\n",
       "    .dataframe tbody tr th:only-of-type {\n",
       "        vertical-align: middle;\n",
       "    }\n",
       "\n",
       "    .dataframe tbody tr th {\n",
       "        vertical-align: top;\n",
       "    }\n",
       "\n",
       "    .dataframe thead th {\n",
       "        text-align: right;\n",
       "    }\n",
       "</style>\n",
       "<table border=\"1\" class=\"dataframe\">\n",
       "  <thead>\n",
       "    <tr style=\"text-align: right;\">\n",
       "      <th></th>\n",
       "      <th>Private</th>\n",
       "      <th>Apps</th>\n",
       "      <th>Accept</th>\n",
       "      <th>Enroll</th>\n",
       "      <th>Top10perc</th>\n",
       "      <th>Top25perc</th>\n",
       "      <th>F.Undergrad</th>\n",
       "      <th>P.Undergrad</th>\n",
       "      <th>Outstate</th>\n",
       "      <th>Room.Board</th>\n",
       "      <th>Books</th>\n",
       "      <th>Personal</th>\n",
       "      <th>PhD</th>\n",
       "      <th>Terminal</th>\n",
       "      <th>S.F.Ratio</th>\n",
       "      <th>perc.alumni</th>\n",
       "      <th>Expend</th>\n",
       "      <th>Grad.Rate</th>\n",
       "      <th>Cluster</th>\n",
       "    </tr>\n",
       "  </thead>\n",
       "  <tbody>\n",
       "    <tr>\n",
       "      <th>Marquette University</th>\n",
       "      <td>Yes</td>\n",
       "      <td>5152</td>\n",
       "      <td>4600</td>\n",
       "      <td>1685</td>\n",
       "      <td>36</td>\n",
       "      <td>71</td>\n",
       "      <td>7016</td>\n",
       "      <td>804</td>\n",
       "      <td>11610</td>\n",
       "      <td>4760</td>\n",
       "      <td>600</td>\n",
       "      <td>1950</td>\n",
       "      <td>86</td>\n",
       "      <td>94</td>\n",
       "      <td>13.5</td>\n",
       "      <td>25</td>\n",
       "      <td>9982</td>\n",
       "      <td>77</td>\n",
       "      <td>1</td>\n",
       "    </tr>\n",
       "    <tr>\n",
       "      <th>Marymount Manhattan College</th>\n",
       "      <td>Yes</td>\n",
       "      <td>695</td>\n",
       "      <td>535</td>\n",
       "      <td>239</td>\n",
       "      <td>21</td>\n",
       "      <td>30</td>\n",
       "      <td>988</td>\n",
       "      <td>785</td>\n",
       "      <td>10200</td>\n",
       "      <td>7000</td>\n",
       "      <td>350</td>\n",
       "      <td>1100</td>\n",
       "      <td>63</td>\n",
       "      <td>76</td>\n",
       "      <td>11.7</td>\n",
       "      <td>20</td>\n",
       "      <td>10622</td>\n",
       "      <td>68</td>\n",
       "      <td>1</td>\n",
       "    </tr>\n",
       "    <tr>\n",
       "      <th>Seattle Pacific University</th>\n",
       "      <td>Yes</td>\n",
       "      <td>1183</td>\n",
       "      <td>1016</td>\n",
       "      <td>411</td>\n",
       "      <td>42</td>\n",
       "      <td>82</td>\n",
       "      <td>1922</td>\n",
       "      <td>704</td>\n",
       "      <td>12669</td>\n",
       "      <td>4875</td>\n",
       "      <td>600</td>\n",
       "      <td>1250</td>\n",
       "      <td>83</td>\n",
       "      <td>85</td>\n",
       "      <td>16.8</td>\n",
       "      <td>20</td>\n",
       "      <td>10368</td>\n",
       "      <td>66</td>\n",
       "      <td>1</td>\n",
       "    </tr>\n",
       "    <tr>\n",
       "      <th>University of Maryland at Baltimore County</th>\n",
       "      <td>No</td>\n",
       "      <td>4269</td>\n",
       "      <td>2594</td>\n",
       "      <td>985</td>\n",
       "      <td>27</td>\n",
       "      <td>57</td>\n",
       "      <td>6476</td>\n",
       "      <td>2592</td>\n",
       "      <td>8594</td>\n",
       "      <td>4408</td>\n",
       "      <td>494</td>\n",
       "      <td>2768</td>\n",
       "      <td>82</td>\n",
       "      <td>88</td>\n",
       "      <td>18.4</td>\n",
       "      <td>6</td>\n",
       "      <td>7618</td>\n",
       "      <td>55</td>\n",
       "      <td>0</td>\n",
       "    </tr>\n",
       "    <tr>\n",
       "      <th>Taylor University</th>\n",
       "      <td>Yes</td>\n",
       "      <td>1769</td>\n",
       "      <td>1092</td>\n",
       "      <td>437</td>\n",
       "      <td>41</td>\n",
       "      <td>80</td>\n",
       "      <td>1757</td>\n",
       "      <td>81</td>\n",
       "      <td>10965</td>\n",
       "      <td>4000</td>\n",
       "      <td>450</td>\n",
       "      <td>1250</td>\n",
       "      <td>60</td>\n",
       "      <td>61</td>\n",
       "      <td>14.2</td>\n",
       "      <td>32</td>\n",
       "      <td>8294</td>\n",
       "      <td>98</td>\n",
       "      <td>1</td>\n",
       "    </tr>\n",
       "    <tr>\n",
       "      <th>Nazareth College of Rochester</th>\n",
       "      <td>Yes</td>\n",
       "      <td>947</td>\n",
       "      <td>798</td>\n",
       "      <td>266</td>\n",
       "      <td>36</td>\n",
       "      <td>68</td>\n",
       "      <td>1274</td>\n",
       "      <td>471</td>\n",
       "      <td>10850</td>\n",
       "      <td>5150</td>\n",
       "      <td>550</td>\n",
       "      <td>800</td>\n",
       "      <td>77</td>\n",
       "      <td>93</td>\n",
       "      <td>13.6</td>\n",
       "      <td>24</td>\n",
       "      <td>8797</td>\n",
       "      <td>61</td>\n",
       "      <td>1</td>\n",
       "    </tr>\n",
       "    <tr>\n",
       "      <th>Blackburn College</th>\n",
       "      <td>Yes</td>\n",
       "      <td>500</td>\n",
       "      <td>336</td>\n",
       "      <td>156</td>\n",
       "      <td>25</td>\n",
       "      <td>55</td>\n",
       "      <td>421</td>\n",
       "      <td>27</td>\n",
       "      <td>6500</td>\n",
       "      <td>2700</td>\n",
       "      <td>500</td>\n",
       "      <td>1000</td>\n",
       "      <td>76</td>\n",
       "      <td>76</td>\n",
       "      <td>14.3</td>\n",
       "      <td>53</td>\n",
       "      <td>8377</td>\n",
       "      <td>51</td>\n",
       "      <td>1</td>\n",
       "    </tr>\n",
       "  </tbody>\n",
       "</table>\n",
       "</div>"
      ],
      "text/plain": [
       "                                           Private  Apps  Accept  Enroll  \\\n",
       "Marquette University                           Yes  5152    4600    1685   \n",
       "Marymount Manhattan College                    Yes   695     535     239   \n",
       "Seattle Pacific University                     Yes  1183    1016     411   \n",
       "University of Maryland at Baltimore County      No  4269    2594     985   \n",
       "Taylor University                              Yes  1769    1092     437   \n",
       "Nazareth College of Rochester                  Yes   947     798     266   \n",
       "Blackburn College                              Yes   500     336     156   \n",
       "\n",
       "                                            Top10perc  Top25perc  F.Undergrad  \\\n",
       "Marquette University                               36         71         7016   \n",
       "Marymount Manhattan College                        21         30          988   \n",
       "Seattle Pacific University                         42         82         1922   \n",
       "University of Maryland at Baltimore County         27         57         6476   \n",
       "Taylor University                                  41         80         1757   \n",
       "Nazareth College of Rochester                      36         68         1274   \n",
       "Blackburn College                                  25         55          421   \n",
       "\n",
       "                                            P.Undergrad  Outstate  Room.Board  \\\n",
       "Marquette University                                804     11610        4760   \n",
       "Marymount Manhattan College                         785     10200        7000   \n",
       "Seattle Pacific University                          704     12669        4875   \n",
       "University of Maryland at Baltimore County         2592      8594        4408   \n",
       "Taylor University                                    81     10965        4000   \n",
       "Nazareth College of Rochester                       471     10850        5150   \n",
       "Blackburn College                                    27      6500        2700   \n",
       "\n",
       "                                            Books  Personal  PhD  Terminal  \\\n",
       "Marquette University                          600      1950   86        94   \n",
       "Marymount Manhattan College                   350      1100   63        76   \n",
       "Seattle Pacific University                    600      1250   83        85   \n",
       "University of Maryland at Baltimore County    494      2768   82        88   \n",
       "Taylor University                             450      1250   60        61   \n",
       "Nazareth College of Rochester                 550       800   77        93   \n",
       "Blackburn College                             500      1000   76        76   \n",
       "\n",
       "                                            S.F.Ratio  perc.alumni  Expend  \\\n",
       "Marquette University                             13.5           25    9982   \n",
       "Marymount Manhattan College                      11.7           20   10622   \n",
       "Seattle Pacific University                       16.8           20   10368   \n",
       "University of Maryland at Baltimore County       18.4            6    7618   \n",
       "Taylor University                                14.2           32    8294   \n",
       "Nazareth College of Rochester                    13.6           24    8797   \n",
       "Blackburn College                                14.3           53    8377   \n",
       "\n",
       "                                            Grad.Rate  Cluster  \n",
       "Marquette University                               77        1  \n",
       "Marymount Manhattan College                        68        1  \n",
       "Seattle Pacific University                         66        1  \n",
       "University of Maryland at Baltimore County         55        0  \n",
       "Taylor University                                  98        1  \n",
       "Nazareth College of Rochester                      61        1  \n",
       "Blackburn College                                  51        1  "
      ]
     },
     "execution_count": 20,
     "metadata": {},
     "output_type": "execute_result"
    }
   ],
   "source": [
    "df.sample(7)"
   ]
  },
  {
   "cell_type": "code",
   "execution_count": 21,
   "metadata": {},
   "outputs": [
    {
     "data": {
      "text/plain": [
       "array([0, 0, 0, 0, 0, 0, 0, 0, 0, 0, 0, 0, 0, 0, 0, 0, 0, 0, 0, 0, 1, 1,\n",
       "       0, 1, 0, 0, 0, 1, 0, 0, 0, 0, 0, 0, 0, 0, 0, 0, 0, 1, 0, 0, 0, 0,\n",
       "       0, 0, 0, 0, 0, 0, 0, 0, 0, 0, 0, 0, 0, 0, 0, 1, 0, 1, 0, 0, 0, 0,\n",
       "       0, 0, 0, 1, 1, 0, 0, 0, 0, 0, 0, 0, 1, 1, 0, 0, 0, 0, 0, 0, 0, 1,\n",
       "       0, 0, 0, 0, 0, 0, 0, 0, 0, 0, 0, 0, 0, 0, 0, 0, 0, 0, 0, 0, 0, 0,\n",
       "       0, 0, 0, 0, 0, 0, 0, 0, 1, 0, 0, 0, 0, 0, 0, 0, 0, 0, 0, 0, 0, 0,\n",
       "       0, 0, 0, 0, 0, 0, 0, 0, 0, 1, 0, 0, 1, 0, 0, 0, 0, 0, 0, 0, 0, 0,\n",
       "       0, 0, 0, 0, 1, 0, 0, 0, 0, 0, 0, 0, 0, 0, 0, 0, 0, 0, 0, 0, 1, 0,\n",
       "       1, 0, 0, 0, 0, 0, 0, 0, 0, 0, 0, 0, 0, 0, 0, 1, 0, 0, 0, 0, 0, 0,\n",
       "       0, 0, 0, 0, 0, 1, 0, 0, 0, 0, 0, 0, 0, 0, 0, 0, 0, 0, 0, 0, 0, 1,\n",
       "       0, 1, 1, 0, 0, 0, 0, 0, 0, 0, 0, 0, 0, 0, 0, 0, 0, 0, 0, 0, 0, 0,\n",
       "       0, 0, 0, 0, 0, 0, 0, 0, 1, 0, 0, 0, 0, 0, 0, 1, 0, 0, 0, 0, 0, 0,\n",
       "       0, 0, 0, 0, 0, 1, 0, 0, 0, 0, 1, 0, 0, 1, 0, 1, 0, 0, 0, 0, 1, 0,\n",
       "       0, 0, 1, 0, 0, 0, 0, 0, 0, 0, 0, 0, 0, 0, 0, 0, 0, 0, 0, 0, 0, 0,\n",
       "       0, 0, 0, 0, 0, 0, 0, 0, 0, 0, 0, 0, 0, 0, 0, 0, 1, 0, 0, 0, 0, 0,\n",
       "       0, 0, 0, 0, 0, 0, 0, 0, 0, 0, 0, 0, 0, 0, 0, 0, 0, 0, 0, 0, 0, 0,\n",
       "       0, 0, 1, 0, 0, 0, 0, 0, 0, 0, 0, 0, 0, 1, 1, 0, 0, 0, 0, 0, 0, 0,\n",
       "       0, 0, 0, 0, 0, 0, 0, 0, 0, 0, 0, 0, 0, 0, 0, 0, 0, 0, 0, 0, 0, 0,\n",
       "       0, 0, 0, 0, 0, 0, 0, 0, 0, 0, 0, 1, 0, 0, 0, 0, 1, 0, 0, 0, 0, 0,\n",
       "       1, 1, 1, 0, 0, 0, 1, 0, 0, 0, 0, 0, 0, 0, 1, 0, 0, 0, 1, 0, 0, 0,\n",
       "       0, 0, 0, 0, 0, 1, 0, 0, 0, 0, 0, 0, 0, 0, 0, 0, 0, 0, 0, 1, 0, 1,\n",
       "       0, 0, 0, 0, 0, 0, 0, 0, 0, 0, 0, 0, 0, 0, 0, 0, 0, 0, 0, 0, 0, 1,\n",
       "       0, 0, 0, 0, 0, 0, 0, 0, 0, 0, 0, 0, 0, 0, 0, 0, 0, 0, 0, 0, 0, 0,\n",
       "       0, 0, 0, 0, 1, 0, 0, 0, 0, 0, 0, 0, 0, 0, 0, 0, 0, 0, 0, 0, 0, 0,\n",
       "       0, 0, 0, 0, 0, 0, 0, 0, 1, 0, 0, 0, 0, 0, 0, 0, 0, 0, 0, 0, 0, 0,\n",
       "       0, 0, 0, 0, 0, 0, 0, 0, 0, 0, 1, 1, 1, 1, 0, 0, 0, 0, 0, 0, 0, 0,\n",
       "       0, 0, 0, 0, 1, 0, 0, 0, 0, 1, 0, 0, 0, 0, 0, 0, 0, 0, 0, 0, 0, 0,\n",
       "       0, 0, 0, 1, 0, 0, 0, 0, 0, 0, 0, 1, 1, 1, 0, 1, 1, 1, 0, 0, 1, 0,\n",
       "       0, 0, 0, 1, 1, 0, 1, 1, 1, 0, 1, 0, 1, 0, 0, 0, 0, 1, 1, 0, 1, 1,\n",
       "       0, 0, 1, 0, 1, 0, 0, 0, 0, 1, 0, 1, 0, 1, 1, 0, 0, 0, 0, 1, 0, 0,\n",
       "       1, 1, 1, 1, 1, 0, 0, 1, 0, 1, 0, 0, 0, 0, 0, 1, 1, 1, 0, 0, 0, 0,\n",
       "       0, 1, 0, 1, 0, 0, 0, 0, 0, 1, 1, 1, 1, 0, 0, 0, 0, 0, 1, 1, 0, 0,\n",
       "       0, 0, 0, 0, 1, 0, 1, 1, 0, 1, 0, 0, 0, 0, 0, 0, 1, 0, 0, 0, 0, 0,\n",
       "       0, 1, 1, 0, 0, 0, 0, 0, 0, 0, 0, 0, 0, 0, 0, 0, 0, 1, 0, 0, 0, 0,\n",
       "       0, 0, 0, 0, 0, 0, 0, 0, 0, 0, 0, 0, 0, 0, 0, 0, 0, 0, 0, 0, 0, 0,\n",
       "       0, 0, 0, 0, 0, 1, 0])"
      ]
     },
     "execution_count": 21,
     "metadata": {},
     "output_type": "execute_result"
    }
   ],
   "source": [
    "kmeans.labels_"
   ]
  },
  {
   "cell_type": "markdown",
   "metadata": {},
   "source": [
    "** Creating a confusion matrix and classification report to see how well the Kmeans clustering worked without being given any labels.**"
   ]
  },
  {
   "cell_type": "code",
   "execution_count": 22,
   "metadata": {},
   "outputs": [
    {
     "name": "stdout",
     "output_type": "stream",
     "text": [
      "[[138  74]\n",
      " [531  34]]\n",
      "             precision    recall  f1-score   support\n",
      "\n",
      "          0       0.21      0.65      0.31       212\n",
      "          1       0.31      0.06      0.10       565\n",
      "\n",
      "avg / total       0.29      0.22      0.16       777\n",
      "\n"
     ]
    }
   ],
   "source": [
    "from sklearn.metrics import confusion_matrix, classification_report\n",
    "\n",
    "print(confusion_matrix(df['Cluster'], kmeans.labels_))\n",
    "print(classification_report(df['Cluster'], kmeans.labels_))"
   ]
  },
  {
   "cell_type": "code",
   "execution_count": null,
   "metadata": {},
   "outputs": [],
   "source": []
  }
 ],
 "metadata": {
  "kernelspec": {
   "display_name": "Python 3",
   "language": "python",
   "name": "python3"
  },
  "language_info": {
   "codemirror_mode": {
    "name": "ipython",
    "version": 3
   },
   "file_extension": ".py",
   "mimetype": "text/x-python",
   "name": "python",
   "nbconvert_exporter": "python",
   "pygments_lexer": "ipython3",
   "version": "3.6.3"
  }
 },
 "nbformat": 4,
 "nbformat_minor": 1
}
