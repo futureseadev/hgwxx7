{
 "cells": [
  {
   "cell_type": "markdown",
   "metadata": {},
   "source": [
    "# Text Classification using Sci-Kit Learn"
   ]
  },
  {
   "cell_type": "markdown",
   "metadata": {},
   "source": [
    "### Consumer Complaint Database\n",
    "\n",
    "The csv contains complaints data.gov has received about financial products and services. \n",
    "\n",
    "Details about the dataset - \n",
    "\n",
    "    0\t- \"consumer\" <br/>\n",
    "    1\t- \"finance\" <br/>\n",
    "    2\t- \"complaint\" <br/>\n",
    "    3\t- \"bank account\" <br/>\n",
    "    4\t- \"bank service\" <br/>\n",
    "    5\t- \"credit card\" <br/>\n",
    "    6\t- \"credit report\" <br/>\n",
    "    7\t- \"debt collection\" <br/>\n",
    "    8\t- \"money transfer\" <br/>\n",
    "    9\t- \"mortgage\" <br/>\n",
    "    10\t- \"student loan\" <br/>\n",
    "    11\t- \"loan\" <br/>"
   ]
  },
  {
   "cell_type": "markdown",
   "metadata": {},
   "source": [
    "##### data url\n",
    "\n",
    "https://catalog.data.gov/dataset/consumer-complaint-database\n",
    "\n",
    "\n",
    "##### metadata\n",
    "\n",
    "https://catalog.data.gov/harvest/object/f88b9cb6-5465-428b-8aa9-0f971eb5538f\n"
   ]
  },
  {
   "cell_type": "code",
   "execution_count": null,
   "metadata": {},
   "outputs": [],
   "source": []
  },
  {
   "cell_type": "markdown",
   "metadata": {},
   "source": [
    "### Problem \n",
    "\n",
    "The problem is supervised text classification problem, and our goal is to investigate which supervised machine learning methods are best suited to solve it.\n",
    "\n",
    "Given a new complaint comes in, we want to assign it to one of 12 categories. The classifier makes the assumption that each new complaint is assigned to one and only one category. This is multi-class text classification problem. I can’t wait to see what we can achieve!\n"
   ]
  },
  {
   "cell_type": "markdown",
   "metadata": {},
   "source": [
    "#### Input: \n",
    "\n",
    "Consumer_complaint_narrative\n",
    "\n",
    "#### Output:\n",
    "\n",
    "Product\n"
   ]
  },
  {
   "cell_type": "code",
   "execution_count": 37,
   "metadata": {},
   "outputs": [],
   "source": [
    "# load libraries\n",
    "\n",
    "import os\n",
    "import gc\n",
    "import numpy as np\n",
    "import pandas as pd\n",
    "\n",
    "import matplotlib.pyplot as plt\n",
    "%matplotlib inline\n",
    "\n",
    "from sklearn.feature_selection import chi2\n",
    "from sklearn.feature_extraction.text import TfidfVectorizer, TfidfTransformer, CountVectorizer\n",
    "from sklearn.model_selection import train_test_split\n",
    "from sklearn.naive_bayes import MultinomialNB\n"
   ]
  },
  {
   "cell_type": "code",
   "execution_count": 2,
   "metadata": {},
   "outputs": [],
   "source": [
    "# helper to load dataframe and display \n",
    "# how to call this function\n",
    "# df, col_types, cat_cols = load_dataframe(f_name)\n",
    "\n",
    "def load_dataframe(f_name):\n",
    "    '''\n",
    "    helper f() to load dataframe\n",
    "    display basic details\n",
    "       \n",
    "    '''\n",
    "    # load dataframe\n",
    "    df = pd.read_csv(f_name, sep=',', index_col=None, skiprows=None, chunksize=None, \n",
    "                 low_memory=False, encoding='utf-8', keep_default_na=True, \n",
    "                 na_values='', na_filter=True, nrows=None, engine='c')\n",
    "    \n",
    "    # number of columns\n",
    "    n = len(df.columns)\n",
    "    \n",
    "    # display all columns\n",
    "    pd.options.display.max_columns = n\n",
    "    \n",
    "    # columns\n",
    "    columns = list(df.columns)\n",
    "    \n",
    "    # categorical columns\n",
    "    cat_cols = df.select_dtypes(include=['object'])\n",
    "    cat_cols = list(cat_cols)\n",
    "    \n",
    "    # column types\n",
    "    col_types = []\n",
    "    for i in range(n):\n",
    "        if df.dtypes[i] not in col_types:\n",
    "            col_types.append(df.dtypes[i])\n",
    "\n",
    "    print(\"Basic dataframe details!!\")\n",
    "    \n",
    "    print(\"Dataframe dimensions\")\n",
    "    print(\"\")\n",
    "    \n",
    "    print(\"Shape of dataframe: \", df.shape)\n",
    "    print(\"\")\n",
    "    \n",
    "    print(\"Number of rows: \", len(df))\n",
    "    print(\"\")\n",
    "    \n",
    "    print(\"Number of columns: \", len(df.columns))\n",
    "    print(\"\")\n",
    "    \n",
    "    print(\"Is dataframe empty: \", df.empty)\n",
    "    print(\"\")\n",
    "    \n",
    "    print(\"Describe\")\n",
    "    print(df.describe())\n",
    "    print(\"\")\n",
    "    \n",
    "    print(\"Describe (including categoricals)\")\n",
    "    print(df.describe(include='all'))\n",
    "    print(\"\")\n",
    "    \n",
    "    print(\"Info\")\n",
    "    print(df.info())\n",
    "    print(\"\")\n",
    "    \n",
    "    print(\"Null check\")\n",
    "    print(df.isnull().sum())\n",
    "    print(\"\")\n",
    "    \n",
    "    print(\"Columns\")\n",
    "    print(columns)\n",
    "    print(\"\")\n",
    "    \n",
    "    print(\"Dataframe data types\")\n",
    "    print(df.dtypes)\n",
    "    print(\"\")\n",
    "    \n",
    "    print(\"Column types\")\n",
    "    print(col_types)\n",
    "    print(\"\")\n",
    "    \n",
    "    print(\"Categorical Columns\")\n",
    "    print(cat_cols)\n",
    "    print(\"\")\n",
    "    \n",
    "    print(\"Sample data\")\n",
    "    print(df.sample(5))\n",
    "    print(\"\")\n",
    "    \n",
    "    return df, col_types, cat_cols"
   ]
  },
  {
   "cell_type": "code",
   "execution_count": 3,
   "metadata": {},
   "outputs": [],
   "source": [
    "# correlation plot\n",
    "\n",
    "def corr_heatmap(df):\n",
    "    # asusming you have a dataframe df\n",
    "    correlations = df.corr()\n",
    "\n",
    "    # Generate a mask for the upper triangle\n",
    "    mask = np.zeros_like(correlations, dtype=np.bool)\n",
    "    # array([[False, False],\n",
    "    #       [False, False]])\n",
    "    \n",
    "    mask[np.triu_indices_from(mask)] = True\n",
    "    # array([[ True,  True],\n",
    "    #       [False,  True]])\n",
    "    \n",
    "    # Set up the matplotlib figure\n",
    "    f, ax = plt.subplots(figsize=(11, 7))\n",
    "    \n",
    "    # Generate a custom diverging colormap\n",
    "    cmap = sns.diverging_palette(220, 10, as_cmap=True)\n",
    "    \n",
    "    # Draw the heatmap with the mask and correct aspect ratio\n",
    "    sns.heatmap(correlations, mask=mask, cmap=cmap, vmax=.3, center=0,\n",
    "                square=True, linewidths=.5, cbar_kws={\"shrink\": .5})\n",
    "    plt.show()"
   ]
  },
  {
   "cell_type": "code",
   "execution_count": 4,
   "metadata": {},
   "outputs": [],
   "source": [
    "# helper to treat missing values\n",
    "\n",
    "# Create table for missing data analysis\n",
    "def draw_missing_data_table(df):\n",
    "    total = df.isnull().sum().sort_values(ascending=False)\n",
    "    percent = (df.isnull().sum()/df.isnull().count()).sort_values(ascending=False)\n",
    "    missing_data = pd.concat([total, percent], axis=1, keys=['Total', 'Percent'])\n",
    "    return missing_data"
   ]
  },
  {
   "cell_type": "code",
   "execution_count": 5,
   "metadata": {},
   "outputs": [],
   "source": [
    "# Plot learning curve\n",
    "def plot_learning_curve(estimator, title, X, y, ylim=None, cv=None,\n",
    "                        n_jobs=1, train_sizes=np.linspace(.1, 1.0, 5)):\n",
    "    plt.figure()\n",
    "    plt.title(title)\n",
    "    if ylim is not None:\n",
    "        plt.ylim(*ylim)\n",
    "    plt.xlabel(\"Training examples\")\n",
    "    plt.ylabel(\"Score\")\n",
    "    train_sizes, train_scores, test_scores = learning_curve(\n",
    "        estimator, X, y, cv=cv, n_jobs=n_jobs, train_sizes=train_sizes)\n",
    "    train_scores_mean = np.mean(train_scores, axis=1)\n",
    "    train_scores_std = np.std(train_scores, axis=1)\n",
    "    test_scores_mean = np.mean(test_scores, axis=1)\n",
    "    test_scores_std = np.std(test_scores, axis=1)\n",
    "    plt.grid()\n",
    "\n",
    "    plt.fill_between(train_sizes, train_scores_mean - train_scores_std,\n",
    "                     train_scores_mean + train_scores_std, alpha=0.1,\n",
    "                     color=\"r\")\n",
    "    plt.fill_between(train_sizes, test_scores_mean - test_scores_std,\n",
    "                     test_scores_mean + test_scores_std, alpha=0.1, color=\"g\")\n",
    "    plt.plot(train_sizes, train_scores_mean, 'o-', color=\"r\",\n",
    "             label=\"Training score\")\n",
    "    plt.plot(train_sizes, test_scores_mean, 'o-', color=\"g\",\n",
    "             label=\"Validation score\")\n",
    "\n",
    "    plt.legend(loc=\"best\")\n",
    "    return plt"
   ]
  },
  {
   "cell_type": "code",
   "execution_count": 6,
   "metadata": {},
   "outputs": [],
   "source": [
    "# Plot validation curve\n",
    "def plot_validation_curve(estimator, title, X, y, param_name, param_range, ylim=None, cv=None,\n",
    "                        n_jobs=1, train_sizes=np.linspace(.1, 1.0, 5)):\n",
    "    train_scores, test_scores = validation_curve(estimator, X, y, param_name, param_range, cv)\n",
    "    train_mean = np.mean(train_scores, axis=1)\n",
    "    train_std = np.std(train_scores, axis=1)\n",
    "    test_mean = np.mean(test_scores, axis=1)\n",
    "    test_std = np.std(test_scores, axis=1)\n",
    "    plt.plot(param_range, train_mean, color='r', marker='o', markersize=5, label='Training score')\n",
    "    plt.fill_between(param_range, train_mean + train_std, train_mean - train_std, alpha=0.15, color='r')\n",
    "    plt.plot(param_range, test_mean, color='g', linestyle='--', marker='s', markersize=5, label='Validation score')\n",
    "    plt.fill_between(param_range, test_mean + test_std, test_mean - test_std, alpha=0.15, color='g')\n",
    "    plt.grid() \n",
    "    plt.xscale('log')\n",
    "    plt.legend(loc='best') \n",
    "    plt.xlabel('Parameter') \n",
    "    plt.ylabel('Score') \n",
    "    plt.ylim(ylim)"
   ]
  },
  {
   "cell_type": "markdown",
   "metadata": {},
   "source": [
    "---"
   ]
  },
  {
   "cell_type": "code",
   "execution_count": 7,
   "metadata": {},
   "outputs": [],
   "source": [
    "# file details\n",
    "\n",
    "f_directory = 'C:\\\\Users\\\\praveen\\\\Downloads\\\\'\n",
    "f_name = 'Consumer_Complaints.csv'\n",
    "\n",
    "# change directory\n",
    "os.chdir(f_directory)\n",
    "\n",
    "# check whether file is present in current directory\n",
    "if not f_name in os.listdir():\n",
    "    sys.exit()"
   ]
  },
  {
   "cell_type": "code",
   "execution_count": 8,
   "metadata": {
    "scrolled": false
   },
   "outputs": [
    {
     "name": "stdout",
     "output_type": "stream",
     "text": [
      "Basic dataframe details!!\n",
      "Dataframe dimensions\n",
      "\n",
      "Shape of dataframe:  (1110575, 18)\n",
      "\n",
      "Number of rows:  1110575\n",
      "\n",
      "Number of columns:  18\n",
      "\n",
      "Is dataframe empty:  False\n",
      "\n",
      "Describe\n",
      "       Complaint ID\n",
      "count  1.110575e+06\n",
      "mean   1.746641e+06\n",
      "std    9.072512e+05\n",
      "min    1.000000e+00\n",
      "25%    9.735945e+05\n",
      "50%    1.876426e+06\n",
      "75%    2.593322e+06\n",
      "max    3.006706e+06\n",
      "\n",
      "Describe (including categoricals)\n",
      "       Date received   Product       Sub-product  \\\n",
      "count        1110575   1110575            875406   \n",
      "unique          2464        18                76   \n",
      "top       09/08/2017  Mortgage  Credit reporting   \n",
      "freq            3553    262949            143569   \n",
      "mean             NaN       NaN               NaN   \n",
      "std              NaN       NaN               NaN   \n",
      "min              NaN       NaN               NaN   \n",
      "25%              NaN       NaN               NaN   \n",
      "50%              NaN       NaN               NaN   \n",
      "75%              NaN       NaN               NaN   \n",
      "max              NaN       NaN               NaN   \n",
      "\n",
      "                                           Issue       Sub-issue  \\\n",
      "count                                    1110575          602172   \n",
      "unique                                       166             218   \n",
      "top     Loan modification,collection,foreclosure  Account status   \n",
      "freq                                      112313           37057   \n",
      "mean                                         NaN             NaN   \n",
      "std                                          NaN             NaN   \n",
      "min                                          NaN             NaN   \n",
      "25%                                          NaN             NaN   \n",
      "50%                                          NaN             NaN   \n",
      "75%                                          NaN             NaN   \n",
      "max                                          NaN             NaN   \n",
      "\n",
      "                             Consumer complaint narrative  \\\n",
      "count                                              316420   \n",
      "unique                                             304555   \n",
      "top     There are many mistakes appear in my report wi...   \n",
      "freq                                                  530   \n",
      "mean                                                  NaN   \n",
      "std                                                   NaN   \n",
      "min                                                   NaN   \n",
      "25%                                                   NaN   \n",
      "50%                                                   NaN   \n",
      "75%                                                   NaN   \n",
      "max                                                   NaN   \n",
      "\n",
      "                                  Company public response        Company  \\\n",
      "count                                              361909        1110575   \n",
      "unique                                                 10           4962   \n",
      "top     Company has responded to the consumer and the ...  EQUIFAX, INC.   \n",
      "freq                                               236523          93105   \n",
      "mean                                                  NaN            NaN   \n",
      "std                                                   NaN            NaN   \n",
      "min                                                   NaN            NaN   \n",
      "25%                                                   NaN            NaN   \n",
      "50%                                                   NaN            NaN   \n",
      "75%                                                   NaN            NaN   \n",
      "max                                                   NaN            NaN   \n",
      "\n",
      "          State ZIP code            Tags Consumer consent provided?  \\\n",
      "count   1096444  1026404          152532                     560892   \n",
      "unique       63    25566               3                          4   \n",
      "top          CA    300XX  Older American           Consent provided   \n",
      "freq     154479     5416           71056                     316420   \n",
      "mean        NaN      NaN             NaN                        NaN   \n",
      "std         NaN      NaN             NaN                        NaN   \n",
      "min         NaN      NaN             NaN                        NaN   \n",
      "25%         NaN      NaN             NaN                        NaN   \n",
      "50%         NaN      NaN             NaN                        NaN   \n",
      "75%         NaN      NaN             NaN                        NaN   \n",
      "max         NaN      NaN             NaN                        NaN   \n",
      "\n",
      "       Submitted via Date sent to company Company response to consumer  \\\n",
      "count        1110575              1110575                      1110570   \n",
      "unique             6                 2413                            8   \n",
      "top              Web           09/08/2017      Closed with explanation   \n",
      "freq          803081                 3387                       856891   \n",
      "mean             NaN                  NaN                          NaN   \n",
      "std              NaN                  NaN                          NaN   \n",
      "min              NaN                  NaN                          NaN   \n",
      "25%              NaN                  NaN                          NaN   \n",
      "50%              NaN                  NaN                          NaN   \n",
      "75%              NaN                  NaN                          NaN   \n",
      "max              NaN                  NaN                          NaN   \n",
      "\n",
      "       Timely response? Consumer disputed?  Complaint ID  \n",
      "count           1110575             768543  1.110575e+06  \n",
      "unique                2                  2           NaN  \n",
      "top                 Yes                 No           NaN  \n",
      "freq            1081220             620165           NaN  \n",
      "mean                NaN                NaN  1.746641e+06  \n",
      "std                 NaN                NaN  9.072512e+05  \n",
      "min                 NaN                NaN  1.000000e+00  \n",
      "25%                 NaN                NaN  9.735945e+05  \n",
      "50%                 NaN                NaN  1.876426e+06  \n",
      "75%                 NaN                NaN  2.593322e+06  \n",
      "max                 NaN                NaN  3.006706e+06  \n",
      "\n",
      "Info\n",
      "<class 'pandas.core.frame.DataFrame'>\n",
      "RangeIndex: 1110575 entries, 0 to 1110574\n",
      "Data columns (total 18 columns):\n",
      "Date received                   1110575 non-null object\n",
      "Product                         1110575 non-null object\n",
      "Sub-product                     875406 non-null object\n",
      "Issue                           1110575 non-null object\n",
      "Sub-issue                       602172 non-null object\n",
      "Consumer complaint narrative    316420 non-null object\n",
      "Company public response         361909 non-null object\n",
      "Company                         1110575 non-null object\n",
      "State                           1096444 non-null object\n",
      "ZIP code                        1026404 non-null object\n",
      "Tags                            152532 non-null object\n",
      "Consumer consent provided?      560892 non-null object\n",
      "Submitted via                   1110575 non-null object\n",
      "Date sent to company            1110575 non-null object\n",
      "Company response to consumer    1110570 non-null object\n",
      "Timely response?                1110575 non-null object\n",
      "Consumer disputed?              768543 non-null object\n",
      "Complaint ID                    1110575 non-null int64\n",
      "dtypes: int64(1), object(17)\n",
      "memory usage: 152.5+ MB\n",
      "None\n",
      "\n",
      "Null check\n",
      "Date received                        0\n",
      "Product                              0\n",
      "Sub-product                     235169\n",
      "Issue                                0\n",
      "Sub-issue                       508403\n",
      "Consumer complaint narrative    794155\n",
      "Company public response         748666\n",
      "Company                              0\n",
      "State                            14131\n",
      "ZIP code                         84171\n",
      "Tags                            958043\n",
      "Consumer consent provided?      549683\n",
      "Submitted via                        0\n",
      "Date sent to company                 0\n",
      "Company response to consumer         5\n",
      "Timely response?                     0\n",
      "Consumer disputed?              342032\n",
      "Complaint ID                         0\n",
      "dtype: int64\n",
      "\n",
      "Columns\n",
      "['Date received', 'Product', 'Sub-product', 'Issue', 'Sub-issue', 'Consumer complaint narrative', 'Company public response', 'Company', 'State', 'ZIP code', 'Tags', 'Consumer consent provided?', 'Submitted via', 'Date sent to company', 'Company response to consumer', 'Timely response?', 'Consumer disputed?', 'Complaint ID']\n",
      "\n",
      "Dataframe data types\n",
      "Date received                   object\n",
      "Product                         object\n",
      "Sub-product                     object\n",
      "Issue                           object\n",
      "Sub-issue                       object\n",
      "Consumer complaint narrative    object\n",
      "Company public response         object\n",
      "Company                         object\n",
      "State                           object\n",
      "ZIP code                        object\n",
      "Tags                            object\n",
      "Consumer consent provided?      object\n",
      "Submitted via                   object\n",
      "Date sent to company            object\n",
      "Company response to consumer    object\n",
      "Timely response?                object\n",
      "Consumer disputed?              object\n",
      "Complaint ID                     int64\n",
      "dtype: object\n",
      "\n",
      "Column types\n",
      "[dtype('O'), dtype('int64')]\n",
      "\n",
      "Categorical Columns\n",
      "['Date received', 'Product', 'Sub-product', 'Issue', 'Sub-issue', 'Consumer complaint narrative', 'Company public response', 'Company', 'State', 'ZIP code', 'Tags', 'Consumer consent provided?', 'Submitted via', 'Date sent to company', 'Company response to consumer', 'Timely response?', 'Consumer disputed?']\n",
      "\n",
      "Sample data\n"
     ]
    },
    {
     "name": "stdout",
     "output_type": "stream",
     "text": [
      "        Date received                  Product  \\\n",
      "473830     11/27/2015         Credit reporting   \n",
      "339313     10/08/2014          Debt collection   \n",
      "410375     09/28/2012                 Mortgage   \n",
      "1048646    03/25/2016              Credit card   \n",
      "46386      03/22/2012  Bank account or service   \n",
      "\n",
      "                                    Sub-product  \\\n",
      "473830                                      NaN   \n",
      "339313                              Credit card   \n",
      "410375   Conventional adjustable mortgage (ARM)   \n",
      "1048646                                     NaN   \n",
      "46386                          Checking account   \n",
      "\n",
      "                                            Issue  \\\n",
      "473830     Incorrect information on credit report   \n",
      "339313                      Communication tactics   \n",
      "410375   Loan servicing, payments, escrow account   \n",
      "1048646                                  Late fee   \n",
      "46386                    Deposits and withdrawals   \n",
      "\n",
      "                                       Sub-issue Consumer complaint narrative  \\\n",
      "473830                             Account terms                          NaN   \n",
      "339313   Called after sent written cease of comm                          NaN   \n",
      "410375                                       NaN                          NaN   \n",
      "1048646                                      NaN                          NaN   \n",
      "46386                                        NaN                          NaN   \n",
      "\n",
      "                                   Company public response  \\\n",
      "473830                                                 NaN   \n",
      "339313                                                 NaN   \n",
      "410375                                                 NaN   \n",
      "1048646  Company has responded to the consumer and the ...   \n",
      "46386                                                  NaN   \n",
      "\n",
      "                                       Company State ZIP code Tags  \\\n",
      "473830                           EQUIFAX, INC.    PR    00926  NaN   \n",
      "339313               ENCORE CAPITAL GROUP INC.    CA    92808  NaN   \n",
      "410375                    JPMORGAN CHASE & CO.    NH    03062  NaN   \n",
      "1048646                           U.S. BANCORP    CA    958XX  NaN   \n",
      "46386    BANK OF AMERICA, NATIONAL ASSOCIATION    CA    96141  NaN   \n",
      "\n",
      "        Consumer consent provided? Submitted via Date sent to company  \\\n",
      "473830        Consent not provided           Web           11/27/2015   \n",
      "339313                         NaN         Phone           10/15/2014   \n",
      "410375                         NaN           Web           10/01/2012   \n",
      "1048646       Consent not provided           Web           03/26/2016   \n",
      "46386                          NaN   Postal mail           03/23/2012   \n",
      "\n",
      "        Company response to consumer Timely response? Consumer disputed?  \\\n",
      "473830       Closed with explanation              Yes                 No   \n",
      "339313       Closed with explanation              Yes                 No   \n",
      "410375   Closed with monetary relief              Yes                Yes   \n",
      "1048646      Closed with explanation              Yes                 No   \n",
      "46386          Closed without relief              Yes                 No   \n",
      "\n",
      "         Complaint ID  \n",
      "473830        1674176  \n",
      "339313        1063520  \n",
      "410375         163933  \n",
      "1048646       1849229  \n",
      "46386           39895  \n",
      "\n"
     ]
    }
   ],
   "source": [
    "# load dataframe\n",
    "\n",
    "df, col_types, cat_cols = load_dataframe(f_name)"
   ]
  },
  {
   "cell_type": "code",
   "execution_count": 9,
   "metadata": {},
   "outputs": [
    {
     "data": {
      "text/html": [
       "<div>\n",
       "<style scoped>\n",
       "    .dataframe tbody tr th:only-of-type {\n",
       "        vertical-align: middle;\n",
       "    }\n",
       "\n",
       "    .dataframe tbody tr th {\n",
       "        vertical-align: top;\n",
       "    }\n",
       "\n",
       "    .dataframe thead th {\n",
       "        text-align: right;\n",
       "    }\n",
       "</style>\n",
       "<table border=\"1\" class=\"dataframe\">\n",
       "  <thead>\n",
       "    <tr style=\"text-align: right;\">\n",
       "      <th></th>\n",
       "      <th>Total</th>\n",
       "      <th>Percent</th>\n",
       "    </tr>\n",
       "  </thead>\n",
       "  <tbody>\n",
       "    <tr>\n",
       "      <th>Tags</th>\n",
       "      <td>958043</td>\n",
       "      <td>0.862655</td>\n",
       "    </tr>\n",
       "    <tr>\n",
       "      <th>Consumer complaint narrative</th>\n",
       "      <td>794155</td>\n",
       "      <td>0.715085</td>\n",
       "    </tr>\n",
       "    <tr>\n",
       "      <th>Company public response</th>\n",
       "      <td>748666</td>\n",
       "      <td>0.674125</td>\n",
       "    </tr>\n",
       "    <tr>\n",
       "      <th>Consumer consent provided?</th>\n",
       "      <td>549683</td>\n",
       "      <td>0.494954</td>\n",
       "    </tr>\n",
       "    <tr>\n",
       "      <th>Sub-issue</th>\n",
       "      <td>508403</td>\n",
       "      <td>0.457784</td>\n",
       "    </tr>\n",
       "    <tr>\n",
       "      <th>Consumer disputed?</th>\n",
       "      <td>342032</td>\n",
       "      <td>0.307977</td>\n",
       "    </tr>\n",
       "    <tr>\n",
       "      <th>Sub-product</th>\n",
       "      <td>235169</td>\n",
       "      <td>0.211754</td>\n",
       "    </tr>\n",
       "    <tr>\n",
       "      <th>ZIP code</th>\n",
       "      <td>84171</td>\n",
       "      <td>0.075790</td>\n",
       "    </tr>\n",
       "    <tr>\n",
       "      <th>State</th>\n",
       "      <td>14131</td>\n",
       "      <td>0.012724</td>\n",
       "    </tr>\n",
       "    <tr>\n",
       "      <th>Company response to consumer</th>\n",
       "      <td>5</td>\n",
       "      <td>0.000005</td>\n",
       "    </tr>\n",
       "    <tr>\n",
       "      <th>Product</th>\n",
       "      <td>0</td>\n",
       "      <td>0.000000</td>\n",
       "    </tr>\n",
       "    <tr>\n",
       "      <th>Issue</th>\n",
       "      <td>0</td>\n",
       "      <td>0.000000</td>\n",
       "    </tr>\n",
       "    <tr>\n",
       "      <th>Complaint ID</th>\n",
       "      <td>0</td>\n",
       "      <td>0.000000</td>\n",
       "    </tr>\n",
       "    <tr>\n",
       "      <th>Company</th>\n",
       "      <td>0</td>\n",
       "      <td>0.000000</td>\n",
       "    </tr>\n",
       "    <tr>\n",
       "      <th>Submitted via</th>\n",
       "      <td>0</td>\n",
       "      <td>0.000000</td>\n",
       "    </tr>\n",
       "    <tr>\n",
       "      <th>Date sent to company</th>\n",
       "      <td>0</td>\n",
       "      <td>0.000000</td>\n",
       "    </tr>\n",
       "    <tr>\n",
       "      <th>Timely response?</th>\n",
       "      <td>0</td>\n",
       "      <td>0.000000</td>\n",
       "    </tr>\n",
       "    <tr>\n",
       "      <th>Date received</th>\n",
       "      <td>0</td>\n",
       "      <td>0.000000</td>\n",
       "    </tr>\n",
       "  </tbody>\n",
       "</table>\n",
       "</div>"
      ],
      "text/plain": [
       "                               Total   Percent\n",
       "Tags                          958043  0.862655\n",
       "Consumer complaint narrative  794155  0.715085\n",
       "Company public response       748666  0.674125\n",
       "Consumer consent provided?    549683  0.494954\n",
       "Sub-issue                     508403  0.457784\n",
       "Consumer disputed?            342032  0.307977\n",
       "Sub-product                   235169  0.211754\n",
       "ZIP code                       84171  0.075790\n",
       "State                          14131  0.012724\n",
       "Company response to consumer       5  0.000005\n",
       "Product                            0  0.000000\n",
       "Issue                              0  0.000000\n",
       "Complaint ID                       0  0.000000\n",
       "Company                            0  0.000000\n",
       "Submitted via                      0  0.000000\n",
       "Date sent to company               0  0.000000\n",
       "Timely response?                   0  0.000000\n",
       "Date received                      0  0.000000"
      ]
     },
     "execution_count": 9,
     "metadata": {},
     "output_type": "execute_result"
    }
   ],
   "source": [
    "# missing values\n",
    "draw_missing_data_table(df)"
   ]
  },
  {
   "cell_type": "code",
   "execution_count": 10,
   "metadata": {},
   "outputs": [
    {
     "data": {
      "text/plain": [
       "144"
      ]
     },
     "execution_count": 10,
     "metadata": {},
     "output_type": "execute_result"
    }
   ],
   "source": [
    "gc.collect()"
   ]
  },
  {
   "cell_type": "code",
   "execution_count": 11,
   "metadata": {},
   "outputs": [],
   "source": [
    "# for this problem, we need only two columns\n",
    "# Consumer complaint narrative and Product\n",
    "\n",
    "req_col = ['Consumer complaint narrative', 'Product']\n",
    "\n",
    "df = df[req_col]"
   ]
  },
  {
   "cell_type": "code",
   "execution_count": 12,
   "metadata": {},
   "outputs": [
    {
     "data": {
      "text/html": [
       "<div>\n",
       "<style scoped>\n",
       "    .dataframe tbody tr th:only-of-type {\n",
       "        vertical-align: middle;\n",
       "    }\n",
       "\n",
       "    .dataframe tbody tr th {\n",
       "        vertical-align: top;\n",
       "    }\n",
       "\n",
       "    .dataframe thead th {\n",
       "        text-align: right;\n",
       "    }\n",
       "</style>\n",
       "<table border=\"1\" class=\"dataframe\">\n",
       "  <thead>\n",
       "    <tr style=\"text-align: right;\">\n",
       "      <th></th>\n",
       "      <th>Total</th>\n",
       "      <th>Percent</th>\n",
       "    </tr>\n",
       "  </thead>\n",
       "  <tbody>\n",
       "    <tr>\n",
       "      <th>Consumer complaint narrative</th>\n",
       "      <td>794155</td>\n",
       "      <td>0.715085</td>\n",
       "    </tr>\n",
       "    <tr>\n",
       "      <th>Product</th>\n",
       "      <td>0</td>\n",
       "      <td>0.000000</td>\n",
       "    </tr>\n",
       "  </tbody>\n",
       "</table>\n",
       "</div>"
      ],
      "text/plain": [
       "                               Total   Percent\n",
       "Consumer complaint narrative  794155  0.715085\n",
       "Product                            0  0.000000"
      ]
     },
     "execution_count": 12,
     "metadata": {},
     "output_type": "execute_result"
    }
   ],
   "source": [
    "# missing values\n",
    "draw_missing_data_table(df)"
   ]
  },
  {
   "cell_type": "code",
   "execution_count": 13,
   "metadata": {},
   "outputs": [
    {
     "data": {
      "text/html": [
       "<div>\n",
       "<style scoped>\n",
       "    .dataframe tbody tr th:only-of-type {\n",
       "        vertical-align: middle;\n",
       "    }\n",
       "\n",
       "    .dataframe tbody tr th {\n",
       "        vertical-align: top;\n",
       "    }\n",
       "\n",
       "    .dataframe thead th {\n",
       "        text-align: right;\n",
       "    }\n",
       "</style>\n",
       "<table border=\"1\" class=\"dataframe\">\n",
       "  <thead>\n",
       "    <tr style=\"text-align: right;\">\n",
       "      <th></th>\n",
       "      <th>Consumer complaint narrative</th>\n",
       "      <th>Product</th>\n",
       "    </tr>\n",
       "  </thead>\n",
       "  <tbody>\n",
       "    <tr>\n",
       "      <th>258583</th>\n",
       "      <td>NaN</td>\n",
       "      <td>Mortgage</td>\n",
       "    </tr>\n",
       "    <tr>\n",
       "      <th>229473</th>\n",
       "      <td>NaN</td>\n",
       "      <td>Checking or savings account</td>\n",
       "    </tr>\n",
       "    <tr>\n",
       "      <th>1026396</th>\n",
       "      <td>I have attempted over the past week to set up ...</td>\n",
       "      <td>Student loan</td>\n",
       "    </tr>\n",
       "  </tbody>\n",
       "</table>\n",
       "</div>"
      ],
      "text/plain": [
       "                              Consumer complaint narrative  \\\n",
       "258583                                                 NaN   \n",
       "229473                                                 NaN   \n",
       "1026396  I have attempted over the past week to set up ...   \n",
       "\n",
       "                             Product  \n",
       "258583                      Mortgage  \n",
       "229473   Checking or savings account  \n",
       "1026396                 Student loan  "
      ]
     },
     "execution_count": 13,
     "metadata": {},
     "output_type": "execute_result"
    }
   ],
   "source": [
    "df.sample(3)"
   ]
  },
  {
   "cell_type": "code",
   "execution_count": 14,
   "metadata": {},
   "outputs": [],
   "source": [
    "# selecting only columns without missing values\n",
    "df = df[pd.notnull(df['Consumer complaint narrative'])]"
   ]
  },
  {
   "cell_type": "code",
   "execution_count": 15,
   "metadata": {},
   "outputs": [
    {
     "data": {
      "text/html": [
       "<div>\n",
       "<style scoped>\n",
       "    .dataframe tbody tr th:only-of-type {\n",
       "        vertical-align: middle;\n",
       "    }\n",
       "\n",
       "    .dataframe tbody tr th {\n",
       "        vertical-align: top;\n",
       "    }\n",
       "\n",
       "    .dataframe thead th {\n",
       "        text-align: right;\n",
       "    }\n",
       "</style>\n",
       "<table border=\"1\" class=\"dataframe\">\n",
       "  <thead>\n",
       "    <tr style=\"text-align: right;\">\n",
       "      <th></th>\n",
       "      <th>Total</th>\n",
       "      <th>Percent</th>\n",
       "    </tr>\n",
       "  </thead>\n",
       "  <tbody>\n",
       "    <tr>\n",
       "      <th>Product</th>\n",
       "      <td>0</td>\n",
       "      <td>0.0</td>\n",
       "    </tr>\n",
       "    <tr>\n",
       "      <th>Consumer complaint narrative</th>\n",
       "      <td>0</td>\n",
       "      <td>0.0</td>\n",
       "    </tr>\n",
       "  </tbody>\n",
       "</table>\n",
       "</div>"
      ],
      "text/plain": [
       "                              Total  Percent\n",
       "Product                           0      0.0\n",
       "Consumer complaint narrative      0      0.0"
      ]
     },
     "execution_count": 15,
     "metadata": {},
     "output_type": "execute_result"
    }
   ],
   "source": [
    "# missing values\n",
    "draw_missing_data_table(df)"
   ]
  },
  {
   "cell_type": "code",
   "execution_count": 16,
   "metadata": {},
   "outputs": [
    {
     "data": {
      "text/html": [
       "<div>\n",
       "<style scoped>\n",
       "    .dataframe tbody tr th:only-of-type {\n",
       "        vertical-align: middle;\n",
       "    }\n",
       "\n",
       "    .dataframe tbody tr th {\n",
       "        vertical-align: top;\n",
       "    }\n",
       "\n",
       "    .dataframe thead th {\n",
       "        text-align: right;\n",
       "    }\n",
       "</style>\n",
       "<table border=\"1\" class=\"dataframe\">\n",
       "  <thead>\n",
       "    <tr style=\"text-align: right;\">\n",
       "      <th></th>\n",
       "      <th>Consumer complaint narrative</th>\n",
       "      <th>Product</th>\n",
       "      <th>Category_id</th>\n",
       "    </tr>\n",
       "  </thead>\n",
       "  <tbody>\n",
       "    <tr>\n",
       "      <th>950746</th>\n",
       "      <td>I have tried numerous times to dispute a bill ...</td>\n",
       "      <td>Credit reporting, credit repair services, or o...</td>\n",
       "      <td>10</td>\n",
       "    </tr>\n",
       "    <tr>\n",
       "      <th>364777</th>\n",
       "      <td>I am trying to cancel my XXXX credit cards wit...</td>\n",
       "      <td>Credit card</td>\n",
       "      <td>3</td>\n",
       "    </tr>\n",
       "    <tr>\n",
       "      <th>933038</th>\n",
       "      <td>This debt was paid in FULL over seven years ag...</td>\n",
       "      <td>Debt collection</td>\n",
       "      <td>1</td>\n",
       "    </tr>\n",
       "    <tr>\n",
       "      <th>950176</th>\n",
       "      <td>i was foreclosed on in XX/XX/XXXX. my house wa...</td>\n",
       "      <td>Mortgage</td>\n",
       "      <td>2</td>\n",
       "    </tr>\n",
       "  </tbody>\n",
       "</table>\n",
       "</div>"
      ],
      "text/plain": [
       "                             Consumer complaint narrative  \\\n",
       "950746  I have tried numerous times to dispute a bill ...   \n",
       "364777  I am trying to cancel my XXXX credit cards wit...   \n",
       "933038  This debt was paid in FULL over seven years ag...   \n",
       "950176  i was foreclosed on in XX/XX/XXXX. my house wa...   \n",
       "\n",
       "                                                  Product  Category_id  \n",
       "950746  Credit reporting, credit repair services, or o...           10  \n",
       "364777                                        Credit card            3  \n",
       "933038                                    Debt collection            1  \n",
       "950176                                           Mortgage            2  "
      ]
     },
     "execution_count": 16,
     "metadata": {},
     "output_type": "execute_result"
    }
   ],
   "source": [
    "# encode values in Product column\n",
    "df['Category_id'] = df['Product'].factorize()[0]\n",
    "\n",
    "df.sample(4)"
   ]
  },
  {
   "cell_type": "code",
   "execution_count": 17,
   "metadata": {},
   "outputs": [
    {
     "data": {
      "text/html": [
       "<div>\n",
       "<style scoped>\n",
       "    .dataframe tbody tr th:only-of-type {\n",
       "        vertical-align: middle;\n",
       "    }\n",
       "\n",
       "    .dataframe tbody tr th {\n",
       "        vertical-align: top;\n",
       "    }\n",
       "\n",
       "    .dataframe thead th {\n",
       "        text-align: right;\n",
       "    }\n",
       "</style>\n",
       "<table border=\"1\" class=\"dataframe\">\n",
       "  <thead>\n",
       "    <tr style=\"text-align: right;\">\n",
       "      <th></th>\n",
       "      <th>Product</th>\n",
       "      <th>Category_id</th>\n",
       "    </tr>\n",
       "  </thead>\n",
       "  <tbody>\n",
       "    <tr>\n",
       "      <th>5</th>\n",
       "      <td>Credit reporting</td>\n",
       "      <td>0</td>\n",
       "    </tr>\n",
       "    <tr>\n",
       "      <th>10</th>\n",
       "      <td>Debt collection</td>\n",
       "      <td>1</td>\n",
       "    </tr>\n",
       "    <tr>\n",
       "      <th>21</th>\n",
       "      <td>Mortgage</td>\n",
       "      <td>2</td>\n",
       "    </tr>\n",
       "    <tr>\n",
       "      <th>30</th>\n",
       "      <td>Credit card</td>\n",
       "      <td>3</td>\n",
       "    </tr>\n",
       "    <tr>\n",
       "      <th>87</th>\n",
       "      <td>Vehicle loan or lease</td>\n",
       "      <td>4</td>\n",
       "    </tr>\n",
       "    <tr>\n",
       "      <th>124</th>\n",
       "      <td>Bank account or service</td>\n",
       "      <td>5</td>\n",
       "    </tr>\n",
       "    <tr>\n",
       "      <th>134</th>\n",
       "      <td>Money transfers</td>\n",
       "      <td>6</td>\n",
       "    </tr>\n",
       "    <tr>\n",
       "      <th>189</th>\n",
       "      <td>Student loan</td>\n",
       "      <td>7</td>\n",
       "    </tr>\n",
       "    <tr>\n",
       "      <th>214</th>\n",
       "      <td>Consumer Loan</td>\n",
       "      <td>8</td>\n",
       "    </tr>\n",
       "    <tr>\n",
       "      <th>226</th>\n",
       "      <td>Payday loan, title loan, or personal loan</td>\n",
       "      <td>9</td>\n",
       "    </tr>\n",
       "    <tr>\n",
       "      <th>231</th>\n",
       "      <td>Credit reporting, credit repair services, or o...</td>\n",
       "      <td>10</td>\n",
       "    </tr>\n",
       "    <tr>\n",
       "      <th>399</th>\n",
       "      <td>Other financial service</td>\n",
       "      <td>11</td>\n",
       "    </tr>\n",
       "    <tr>\n",
       "      <th>429</th>\n",
       "      <td>Payday loan</td>\n",
       "      <td>12</td>\n",
       "    </tr>\n",
       "    <tr>\n",
       "      <th>783</th>\n",
       "      <td>Prepaid card</td>\n",
       "      <td>13</td>\n",
       "    </tr>\n",
       "    <tr>\n",
       "      <th>939</th>\n",
       "      <td>Credit card or prepaid card</td>\n",
       "      <td>14</td>\n",
       "    </tr>\n",
       "    <tr>\n",
       "      <th>1151</th>\n",
       "      <td>Money transfer, virtual currency, or money ser...</td>\n",
       "      <td>15</td>\n",
       "    </tr>\n",
       "    <tr>\n",
       "      <th>3000</th>\n",
       "      <td>Checking or savings account</td>\n",
       "      <td>16</td>\n",
       "    </tr>\n",
       "    <tr>\n",
       "      <th>11227</th>\n",
       "      <td>Virtual currency</td>\n",
       "      <td>17</td>\n",
       "    </tr>\n",
       "  </tbody>\n",
       "</table>\n",
       "</div>"
      ],
      "text/plain": [
       "                                                 Product  Category_id\n",
       "5                                       Credit reporting            0\n",
       "10                                       Debt collection            1\n",
       "21                                              Mortgage            2\n",
       "30                                           Credit card            3\n",
       "87                                 Vehicle loan or lease            4\n",
       "124                              Bank account or service            5\n",
       "134                                      Money transfers            6\n",
       "189                                         Student loan            7\n",
       "214                                        Consumer Loan            8\n",
       "226            Payday loan, title loan, or personal loan            9\n",
       "231    Credit reporting, credit repair services, or o...           10\n",
       "399                              Other financial service           11\n",
       "429                                          Payday loan           12\n",
       "783                                         Prepaid card           13\n",
       "939                          Credit card or prepaid card           14\n",
       "1151   Money transfer, virtual currency, or money ser...           15\n",
       "3000                         Checking or savings account           16\n",
       "11227                                   Virtual currency           17"
      ]
     },
     "execution_count": 17,
     "metadata": {},
     "output_type": "execute_result"
    }
   ],
   "source": [
    "# category tf-idf\n",
    "category_id_df = df[['Product', 'Category_id']].drop_duplicates().sort_values('Category_id')\n",
    "category_id_df"
   ]
  },
  {
   "cell_type": "code",
   "execution_count": 18,
   "metadata": {},
   "outputs": [
    {
     "data": {
      "text/plain": [
       "{'Bank account or service': 5,\n",
       " 'Checking or savings account': 16,\n",
       " 'Consumer Loan': 8,\n",
       " 'Credit card': 3,\n",
       " 'Credit card or prepaid card': 14,\n",
       " 'Credit reporting': 0,\n",
       " 'Credit reporting, credit repair services, or other personal consumer reports': 10,\n",
       " 'Debt collection': 1,\n",
       " 'Money transfer, virtual currency, or money service': 15,\n",
       " 'Money transfers': 6,\n",
       " 'Mortgage': 2,\n",
       " 'Other financial service': 11,\n",
       " 'Payday loan': 12,\n",
       " 'Payday loan, title loan, or personal loan': 9,\n",
       " 'Prepaid card': 13,\n",
       " 'Student loan': 7,\n",
       " 'Vehicle loan or lease': 4,\n",
       " 'Virtual currency': 17}"
      ]
     },
     "execution_count": 18,
     "metadata": {},
     "output_type": "execute_result"
    }
   ],
   "source": [
    "# map product -> categories\n",
    "category_to_id = dict(category_id_df.values)\n",
    "category_to_id"
   ]
  },
  {
   "cell_type": "code",
   "execution_count": 19,
   "metadata": {},
   "outputs": [
    {
     "data": {
      "text/plain": [
       "{0: 'Credit reporting',\n",
       " 1: 'Debt collection',\n",
       " 2: 'Mortgage',\n",
       " 3: 'Credit card',\n",
       " 4: 'Vehicle loan or lease',\n",
       " 5: 'Bank account or service',\n",
       " 6: 'Money transfers',\n",
       " 7: 'Student loan',\n",
       " 8: 'Consumer Loan',\n",
       " 9: 'Payday loan, title loan, or personal loan',\n",
       " 10: 'Credit reporting, credit repair services, or other personal consumer reports',\n",
       " 11: 'Other financial service',\n",
       " 12: 'Payday loan',\n",
       " 13: 'Prepaid card',\n",
       " 14: 'Credit card or prepaid card',\n",
       " 15: 'Money transfer, virtual currency, or money service',\n",
       " 16: 'Checking or savings account',\n",
       " 17: 'Virtual currency'}"
      ]
     },
     "execution_count": 19,
     "metadata": {},
     "output_type": "execute_result"
    }
   ],
   "source": [
    "id_to_category = dict(category_id_df[['Category_id', 'Product']].values)\n",
    "id_to_category"
   ]
  },
  {
   "cell_type": "code",
   "execution_count": 20,
   "metadata": {},
   "outputs": [
    {
     "data": {
      "text/html": [
       "<div>\n",
       "<style scoped>\n",
       "    .dataframe tbody tr th:only-of-type {\n",
       "        vertical-align: middle;\n",
       "    }\n",
       "\n",
       "    .dataframe tbody tr th {\n",
       "        vertical-align: top;\n",
       "    }\n",
       "\n",
       "    .dataframe thead th {\n",
       "        text-align: right;\n",
       "    }\n",
       "</style>\n",
       "<table border=\"1\" class=\"dataframe\">\n",
       "  <thead>\n",
       "    <tr style=\"text-align: right;\">\n",
       "      <th></th>\n",
       "      <th>Consumer complaint narrative</th>\n",
       "      <th>Product</th>\n",
       "      <th>Category_id</th>\n",
       "    </tr>\n",
       "  </thead>\n",
       "  <tbody>\n",
       "    <tr>\n",
       "      <th>5</th>\n",
       "      <td>An account on my credit report has a mistaken ...</td>\n",
       "      <td>Credit reporting</td>\n",
       "      <td>0</td>\n",
       "    </tr>\n",
       "    <tr>\n",
       "      <th>10</th>\n",
       "      <td>This company refuses to provide me verificatio...</td>\n",
       "      <td>Debt collection</td>\n",
       "      <td>1</td>\n",
       "    </tr>\n",
       "    <tr>\n",
       "      <th>21</th>\n",
       "      <td>Started the refinance of home mortgage process...</td>\n",
       "      <td>Mortgage</td>\n",
       "      <td>2</td>\n",
       "    </tr>\n",
       "    <tr>\n",
       "      <th>22</th>\n",
       "      <td>In XXXX, I and my ex-husband applied for a ref...</td>\n",
       "      <td>Mortgage</td>\n",
       "      <td>2</td>\n",
       "    </tr>\n",
       "    <tr>\n",
       "      <th>23</th>\n",
       "      <td>I have disputed several accounts on my credit ...</td>\n",
       "      <td>Credit reporting</td>\n",
       "      <td>0</td>\n",
       "    </tr>\n",
       "  </tbody>\n",
       "</table>\n",
       "</div>"
      ],
      "text/plain": [
       "                         Consumer complaint narrative           Product  \\\n",
       "5   An account on my credit report has a mistaken ...  Credit reporting   \n",
       "10  This company refuses to provide me verificatio...   Debt collection   \n",
       "21  Started the refinance of home mortgage process...          Mortgage   \n",
       "22  In XXXX, I and my ex-husband applied for a ref...          Mortgage   \n",
       "23  I have disputed several accounts on my credit ...  Credit reporting   \n",
       "\n",
       "    Category_id  \n",
       "5             0  \n",
       "10            1  \n",
       "21            2  \n",
       "22            2  \n",
       "23            0  "
      ]
     },
     "execution_count": 20,
     "metadata": {},
     "output_type": "execute_result"
    }
   ],
   "source": [
    "df.head()"
   ]
  },
  {
   "cell_type": "code",
   "execution_count": 21,
   "metadata": {},
   "outputs": [
    {
     "data": {
      "image/png": "[encoded data removed]",
      "text/plain": [
       "<Figure size 576x432 with 1 Axes>"
      ]
     },
     "metadata": {},
     "output_type": "display_data"
    }
   ],
   "source": [
    "# full data\n",
    "fig = plt.figure(figsize=(8,6))\n",
    "df.groupby('Product')['Consumer complaint narrative'].count().plot.bar(ylim=0)\n",
    "plt.show()"
   ]
  },
  {
   "cell_type": "code",
   "execution_count": 22,
   "metadata": {},
   "outputs": [
    {
     "data": {
      "text/plain": [
       "(316420, 3)"
      ]
     },
     "execution_count": 22,
     "metadata": {},
     "output_type": "execute_result"
    }
   ],
   "source": [
    "df.shape"
   ]
  },
  {
   "cell_type": "code",
   "execution_count": 23,
   "metadata": {},
   "outputs": [
    {
     "data": {
      "text/plain": [
       "(1000, 3)"
      ]
     },
     "execution_count": 23,
     "metadata": {},
     "output_type": "execute_result"
    }
   ],
   "source": [
    "# For learning purpose, we'll use a random sample of 1000 rows\n",
    "\n",
    "df = df.sample(1000)\n",
    "df.shape"
   ]
  },
  {
   "cell_type": "code",
   "execution_count": 24,
   "metadata": {},
   "outputs": [
    {
     "data": {
      "image/png": "[encoded data removed]",
      "text/plain": [
       "<Figure size 576x432 with 1 Axes>"
      ]
     },
     "metadata": {},
     "output_type": "display_data"
    }
   ],
   "source": [
    "fig = plt.figure(figsize=(8,6))\n",
    "df.groupby('Product')['Consumer complaint narrative'].count().plot.bar(ylim=0)\n",
    "plt.show()"
   ]
  },
  {
   "cell_type": "markdown",
   "metadata": {},
   "source": [
    "### Multi-Class Classifier: Features and Design\n",
    "\n",
    "1. To train supervised classifiers, we first transformed the “Consumer complaint narrative” into a vector of numbers. We explored vector representations such as TF-IDF weighted vectors.\n",
    "\n",
    "2. After having this vector representations of the text we can train supervised classifiers to train unseen “Consumer complaint narrative” and predict the “product” on which they fall."
   ]
  },
  {
   "cell_type": "code",
   "execution_count": 25,
   "metadata": {},
   "outputs": [
    {
     "data": {
      "text/plain": [
       "TfidfVectorizer(analyzer='word', binary=False, decode_error='strict',\n",
       "        dtype=<class 'numpy.int64'>, encoding='latin-1', input='content',\n",
       "        lowercase=True, max_df=1.0, max_features=None, min_df=5,\n",
       "        ngram_range=(1, 2), norm='l2', preprocessor=None, smooth_idf=True,\n",
       "        stop_words='english', strip_accents=None, sublinear_tf=True,\n",
       "        token_pattern='(?u)\\\\b\\\\w\\\\w+\\\\b', tokenizer=None, use_idf=True,\n",
       "        vocabulary=None)"
      ]
     },
     "execution_count": 25,
     "metadata": {},
     "output_type": "execute_result"
    }
   ],
   "source": [
    "# tf-idf\n",
    "tfidf = TfidfVectorizer(sublinear_tf=True, min_df=5, norm='l2', \n",
    "                        encoding='latin-1', ngram_range=(1, 2), stop_words='english')\n",
    "\n",
    "tfidf"
   ]
  },
  {
   "cell_type": "code",
   "execution_count": 26,
   "metadata": {},
   "outputs": [
    {
     "data": {
      "text/plain": [
       "(1000, 2972)"
      ]
     },
     "execution_count": 26,
     "metadata": {},
     "output_type": "execute_result"
    }
   ],
   "source": [
    "features = tfidf.fit_transform(df['Consumer complaint narrative']).toarray()\n",
    "features.shape"
   ]
  },
  {
   "cell_type": "code",
   "execution_count": 27,
   "metadata": {},
   "outputs": [
    {
     "data": {
      "text/plain": [
       "(1000,)"
      ]
     },
     "execution_count": 27,
     "metadata": {},
     "output_type": "execute_result"
    }
   ],
   "source": [
    "labels = df['Category_id']\n",
    "labels.shape"
   ]
  },
  {
   "cell_type": "markdown",
   "metadata": {},
   "source": [
    "### Correlation between words in features\n"
   ]
  },
  {
   "cell_type": "code",
   "execution_count": 28,
   "metadata": {
    "scrolled": false
   },
   "outputs": [
    {
     "name": "stdout",
     "output_type": "stream",
     "text": [
      "# 'Bank account or service':\n",
      "  . Most correlated unigrams:\n",
      ". checking\n",
      ". paypal\n",
      "  . Most correlated bigrams:\n",
      ". debit card\n",
      ". checking account\n",
      "# 'Checking or savings account':\n",
      "  . Most correlated unigrams:\n",
      ". checking\n",
      ". overdraft\n",
      "  . Most correlated bigrams:\n",
      ". savings account\n",
      ". checking account\n",
      "# 'Consumer Loan':\n",
      "  . Most correlated unigrams:\n",
      ". vehicle\n",
      ". lease\n",
      "  . Most correlated bigrams:\n",
      ". pay monthly\n",
      ". loan company\n",
      "# 'Credit card':\n",
      "  . Most correlated unigrams:\n",
      ". macy\n",
      ". card\n",
      "  . Most correlated bigrams:\n",
      ". charged late\n",
      ". credit card\n",
      "# 'Credit card or prepaid card':\n",
      "  . Most correlated unigrams:\n",
      ". card\n",
      ". clerk\n",
      "  . Most correlated bigrams:\n",
      ". pay account\n",
      ". balance transfer\n",
      "# 'Credit reporting':\n",
      "  . Most correlated unigrams:\n",
      ". experian\n",
      ". equifax\n",
      "  . Most correlated bigrams:\n",
      ". negative information\n",
      ". verify accounts\n",
      "# 'Credit reporting, credit repair services, or other personal consumer reports':\n",
      "  . Most correlated unigrams:\n",
      ". mistakes\n",
      ". inquiries\n",
      "  . Most correlated bigrams:\n",
      ". data breach\n",
      ". report xx\n",
      "# 'Debt collection':\n",
      "  . Most correlated unigrams:\n",
      ". collection\n",
      ". debt\n",
      "  . Most correlated bigrams:\n",
      ". collection agency\n",
      ". portfolio recovery\n",
      "# 'Money transfer, virtual currency, or money service':\n",
      "  . Most correlated unigrams:\n",
      ". wallet\n",
      ". coinbase\n",
      "  . Most correlated bigrams:\n",
      ". access account\n",
      ". account money\n",
      "# 'Money transfers':\n",
      "  . Most correlated unigrams:\n",
      ". requirements\n",
      ". paypal\n",
      "  . Most correlated bigrams:\n",
      ". money told\n",
      ". representative stated\n",
      "# 'Mortgage':\n",
      "  . Most correlated unigrams:\n",
      ". modification\n",
      ". mortgage\n",
      "  . Most correlated bigrams:\n",
      ". mortgage company\n",
      ". loan modification\n",
      "# 'Other financial service':\n",
      "  . Most correlated unigrams:\n",
      ". text\n",
      ". repair\n",
      "  . Most correlated bigrams:\n",
      ". called number\n",
      ". phone numbers\n",
      "# 'Payday loan':\n",
      "  . Most correlated unigrams:\n",
      ". served\n",
      ". arrested\n",
      "  . Most correlated bigrams:\n",
      ". report received\n",
      ". place employment\n",
      "# 'Payday loan, title loan, or personal loan':\n",
      "  . Most correlated unigrams:\n",
      ". light\n",
      ". rate\n",
      "  . Most correlated bigrams:\n",
      ". credit account\n",
      ". clearly shows\n",
      "# 'Prepaid card':\n",
      "  . Most correlated unigrams:\n",
      ". gas\n",
      ". withdraw\n",
      "  . Most correlated bigrams:\n",
      ". day called\n",
      ". balance account\n",
      "# 'Student loan':\n",
      "  . Most correlated unigrams:\n",
      ". loans\n",
      ". navient\n",
      "  . Most correlated bigrams:\n",
      ". loan forgiveness\n",
      ". student loans\n",
      "# 'Vehicle loan or lease':\n",
      "  . Most correlated unigrams:\n",
      ". car\n",
      ". vehicle\n",
      "  . Most correlated bigrams:\n",
      ". 20 00\n",
      ". xxxx car\n",
      "# 'Virtual currency':\n",
      "  . Most correlated unigrams:\n",
      ". employees\n",
      ". zero\n",
      "  . Most correlated bigrams:\n",
      ". end xxxx\n",
      ". ending xxxx\n"
     ]
    }
   ],
   "source": [
    "N = 2\n",
    "for Product, category_id in sorted(category_to_id.items()):\n",
    "    features_chi2 = chi2(features, labels==category_id)\n",
    "    indices = np.argsort(features_chi2[0])\n",
    "    feature_names = np.array(tfidf.get_feature_names())[indices]\n",
    "    unigrams = [v for v in feature_names if len(v.split(' ')) == 1]\n",
    "    bigrams = [v for v in feature_names if len(v.split(' ')) == 2]\n",
    "    print(\"# '{}':\".format(Product))\n",
    "    print(\"  . Most correlated unigrams:\\n. {}\".format('\\n. '.join(unigrams[-N:])))\n",
    "    print(\"  . Most correlated bigrams:\\n. {}\".format('\\n. '.join(bigrams[-N:])))"
   ]
  },
  {
   "cell_type": "code",
   "execution_count": 29,
   "metadata": {},
   "outputs": [
    {
     "data": {
      "text/plain": [
       "3709"
      ]
     },
     "execution_count": 29,
     "metadata": {},
     "output_type": "execute_result"
    }
   ],
   "source": [
    "gc.collect()"
   ]
  },
  {
   "cell_type": "markdown",
   "metadata": {},
   "source": [
    "### Modeling"
   ]
  },
  {
   "cell_type": "code",
   "execution_count": 31,
   "metadata": {},
   "outputs": [
    {
     "data": {
      "text/plain": [
       "(750,)"
      ]
     },
     "execution_count": 31,
     "metadata": {},
     "output_type": "execute_result"
    }
   ],
   "source": [
    "X_train, X_test, y_train, y_test = train_test_split(df['Consumer complaint narrative'], df['Product'], random_state = 0)\n",
    "X_train.shape"
   ]
  },
  {
   "cell_type": "code",
   "execution_count": 32,
   "metadata": {},
   "outputs": [
    {
     "data": {
      "text/plain": [
       "CountVectorizer(analyzer='word', binary=False, decode_error='strict',\n",
       "        dtype=<class 'numpy.int64'>, encoding='utf-8', input='content',\n",
       "        lowercase=True, max_df=1.0, max_features=None, min_df=1,\n",
       "        ngram_range=(1, 1), preprocessor=None, stop_words=None,\n",
       "        strip_accents=None, token_pattern='(?u)\\\\b\\\\w\\\\w+\\\\b',\n",
       "        tokenizer=None, vocabulary=None)"
      ]
     },
     "execution_count": 32,
     "metadata": {},
     "output_type": "execute_result"
    }
   ],
   "source": [
    "count_vect = CountVectorizer()\n",
    "count_vect"
   ]
  },
  {
   "cell_type": "code",
   "execution_count": 33,
   "metadata": {},
   "outputs": [
    {
     "data": {
      "text/plain": [
       "<750x6309 sparse matrix of type '<class 'numpy.int64'>'\n",
       "\twith 65010 stored elements in Compressed Sparse Row format>"
      ]
     },
     "execution_count": 33,
     "metadata": {},
     "output_type": "execute_result"
    }
   ],
   "source": [
    "X_train_counts = count_vect.fit_transform(X_train)\n",
    "X_train_counts"
   ]
  },
  {
   "cell_type": "code",
   "execution_count": 38,
   "metadata": {},
   "outputs": [
    {
     "data": {
      "text/plain": [
       "TfidfTransformer(norm='l2', smooth_idf=True, sublinear_tf=False, use_idf=True)"
      ]
     },
     "execution_count": 38,
     "metadata": {},
     "output_type": "execute_result"
    }
   ],
   "source": [
    "tfidf_transformer = TfidfTransformer()\n",
    "tfidf_transformer"
   ]
  },
  {
   "cell_type": "code",
   "execution_count": 39,
   "metadata": {},
   "outputs": [
    {
     "data": {
      "text/plain": [
       "<750x6309 sparse matrix of type '<class 'numpy.float64'>'\n",
       "\twith 65010 stored elements in Compressed Sparse Row format>"
      ]
     },
     "execution_count": 39,
     "metadata": {},
     "output_type": "execute_result"
    }
   ],
   "source": [
    "X_train_tfidf = tfidf_transformer.fit_transform(X_train_counts)\n",
    "X_train_tfidf"
   ]
  },
  {
   "cell_type": "code",
   "execution_count": 40,
   "metadata": {},
   "outputs": [
    {
     "data": {
      "text/plain": [
       "MultinomialNB(alpha=1.0, class_prior=None, fit_prior=True)"
      ]
     },
     "execution_count": 40,
     "metadata": {},
     "output_type": "execute_result"
    }
   ],
   "source": [
    "clf = MultinomialNB().fit(X_train_tfidf, y_train)\n",
    "clf"
   ]
  },
  {
   "cell_type": "code",
   "execution_count": 41,
   "metadata": {},
   "outputs": [
    {
     "name": "stdout",
     "output_type": "stream",
     "text": [
      "['Debt collection']\n"
     ]
    }
   ],
   "source": [
    "# sample prediction\n",
    "print(clf.predict(count_vect.transform([\"This company refuses to provide me verification and validation of debt per my right under the FDCPA. I do not believe this debt is mine.\"])))"
   ]
  },
  {
   "cell_type": "code",
   "execution_count": null,
   "metadata": {},
   "outputs": [],
   "source": []
  }
 ],
 "metadata": {
  "kernelspec": {
   "display_name": "Python 3",
   "language": "python",
   "name": "python3"
  },
  "language_info": {
   "codemirror_mode": {
    "name": "ipython",
    "version": 3
   },
   "file_extension": ".py",
   "mimetype": "text/x-python",
   "name": "python",
   "nbconvert_exporter": "python",
   "pygments_lexer": "ipython3",
   "version": "3.6.4"
  }
 },
 "nbformat": 4,
 "nbformat_minor": 2
}
