{
 "cells": [
  {
   "cell_type": "markdown",
   "metadata": {},
   "source": [
    "# Generic Helpers!!"
   ]
  },
  {
   "cell_type": "code",
   "execution_count": 1,
   "metadata": {},
   "outputs": [],
   "source": [
    "# load libraries\n",
    "\n",
    "import os\n",
    "import gc\n",
    "import re\n",
    "import sys\n",
    "import json\n",
    "import pickle\n",
    "import numpy as np\n",
    "import pandas as pd\n",
    "\n",
    "import seaborn as sns\n",
    "import matplotlib.pyplot as plt\n",
    "import matplotlib.font_manager\n",
    "\n",
    "%matplotlib inline"
   ]
  },
  {
   "cell_type": "code",
   "execution_count": 2,
   "metadata": {},
   "outputs": [],
   "source": [
    "import warnings\n",
    "\n",
    "warnings.filterwarnings('ignore')"
   ]
  },
  {
   "cell_type": "code",
   "execution_count": 3,
   "metadata": {},
   "outputs": [],
   "source": [
    "# statsmodels\n",
    "from statsmodels.api import OLS"
   ]
  },
  {
   "cell_type": "code",
   "execution_count": 4,
   "metadata": {},
   "outputs": [
    {
     "name": "stderr",
     "output_type": "stream",
     "text": [
      "c:\\py37\\lib\\site-packages\\sklearn\\ensemble\\weight_boosting.py:29: DeprecationWarning: numpy.core.umath_tests is an internal NumPy module and should not be imported. It will be removed in a future NumPy release.\n",
      "  from numpy.core.umath_tests import inner1d\n"
     ]
    }
   ],
   "source": [
    "# sklearn \n",
    "\n",
    "# preprocessing\n",
    "from sklearn.preprocessing import scale, StandardScaler, MinMaxScaler, MultiLabelBinarizer, RobustScaler\n",
    "from sklearn.preprocessing import Imputer, LabelEncoder, MaxAbsScaler, Normalizer, OneHotEncoder, PolynomialFeatures\n",
    "\n",
    "# model selection\n",
    "from sklearn.model_selection import train_test_split, GridSearchCV\n",
    "from sklearn.model_selection import cross_validate, cross_val_predict, cross_val_score\n",
    "from sklearn.model_selection import KFold, BaseCrossValidator, GroupKFold, GroupShuffleSplit\n",
    "from sklearn.model_selection import RepeatedKFold, RepeatedStratifiedKFold, TimeSeriesSplit\n",
    "from sklearn.model_selection import ShuffleSplit, StratifiedKFold, StratifiedShuffleSplit\n",
    "\n",
    "# decomposition\n",
    "from sklearn.decomposition import PCA, FactorAnalysis, FastICA, KernelPCA, SparsePCA\n",
    "\n",
    "# discriminant analysis\n",
    "from sklearn.discriminant_analysis import LinearDiscriminantAnalysis, QuadraticDiscriminantAnalysis\n",
    "\n",
    "# dummy \n",
    "from sklearn.dummy import DummyRegressor, DummyRegressor\n",
    "\n",
    "# metrics \n",
    "from sklearn.metrics import get_scorer, make_scorer\n",
    "\n",
    "# regression metrics\n",
    "from sklearn.metrics import mean_absolute_error, mean_squared_error, mean_squared_log_error, r2_score\n",
    "\n",
    "# classification metrics\n",
    "from sklearn.metrics import accuracy_score, auc, classification_report, confusion_matrix, f1_score\n",
    "from sklearn.metrics import log_loss, precision_score, recall_score, roc_auc_score, roc_curve, zero_one_loss\n",
    "\n",
    "# cluster\n",
    "from sklearn.metrics import completeness_score, homogeneity_score, consensus_score\n",
    "\n",
    "# pairwise metrics\n",
    "from sklearn.metrics import pairwise\n",
    "\n",
    "# feature extraction\n",
    "from sklearn.feature_extraction import DictVectorizer\n",
    "from sklearn.feature_extraction.text import CountVectorizer, HashingVectorizer, TfidfTransformer, TfidfVectorizer\n",
    "\n",
    "# feature selection\n",
    "from sklearn.feature_selection import chi2, f_classif, SelectPercentile, SelectFromModel, SelectKBest, RFE, RFECV\n",
    "\n",
    "# linear models\n",
    "from sklearn.linear_model import ARDRegression, BayesianRidge, ElasticNet, ElasticNetCV\n",
    "from sklearn.linear_model import Lars, LarsCV, Lasso, LassoCV, LassoLarsCV\n",
    "from sklearn.linear_model import LinearRegression, PassiveAggressiveRegressor\n",
    "from sklearn.linear_model import RANSACRegressor, Ridge, RidgeCV, SGDRegressor, TheilSenRegressor\n",
    "\n",
    "# linear model classifiers\n",
    "from sklearn.linear_model import LogisticRegression, PassiveAggressiveClassifier, RidgeClassifier, RidgeClassifierCV\n",
    "\n",
    "# naive bayes\n",
    "from sklearn.naive_bayes import BernoulliNB, GaussianNB, MultinomialNB\n",
    "\n",
    "# covariance estimators\n",
    "# cross_decomposition\n",
    "# datasets\n",
    "# samples generator\n",
    "\n",
    "# tree\n",
    "from sklearn.tree import DecisionTreeRegressor, ExtraTreeRegressor\n",
    "from sklearn.tree import DecisionTreeClassifier, ExtraTreeClassifier\n",
    "\n",
    "# ensemble\n",
    "from sklearn.ensemble import BaseEnsemble, RandomForestRegressor, RandomForestClassifier\n",
    "from sklearn.ensemble import AdaBoostRegressor, BaggingRegressor, ExtraTreesRegressor, GradientBoostingRegressor\n",
    "from sklearn.ensemble import AdaBoostClassifier, BaggingClassifier, ExtraTreesClassifier, GradientBoostingClassifier\n",
    "\n",
    "# cluster\n",
    "from sklearn.cluster import KMeans, MeanShift, MiniBatchKMeans\n",
    "from sklearn.cluster import AffinityPropagation, AgglomerativeClustering, Birch, FeatureAgglomeration\n",
    "from sklearn.cluster import SpectralBiclustering, SpectralClustering, SpectralCoclustering\n",
    "\n",
    "# neighbors\n",
    "from sklearn.neighbors import KNeighborsClassifier, NearestNeighbors, NearestCentroid\n",
    "from sklearn.neighbors import BallTree, KDTree, RadiusNeighborsClassifier\n",
    "\n",
    "# neighbors regressor\n",
    "from sklearn.neighbors import KNeighborsRegressor, RadiusNeighborsRegressor\n",
    "\n",
    "# SVM\n",
    "from sklearn.svm import SVR, LinearSVR, NuSVR\n",
    "from sklearn.svm import SVC, LinearSVC, NuSVC, OneClassSVM\n",
    "\n",
    "# manifold\n",
    "from sklearn.manifold import TSNE\n",
    "\n",
    "# pipeline\n",
    "from sklearn.pipeline import Pipeline, make_pipeline, make_union, FeatureUnion\n",
    "\n",
    "# multi class\n",
    "from sklearn.multiclass import OneVsOneClassifier, OneVsRestClassifier, OutputCodeClassifier\n",
    "\n",
    "# multi output\n",
    "from sklearn.multioutput import MultiOutputRegressor, MultiOutputClassifier, MultiOutputEstimator\n",
    "\n",
    "# neural nets\n",
    "from sklearn.neural_network import MLPClassifier as mlpc\n",
    "from sklearn.neural_network import MLPRegressor as mlpr\n",
    "\n",
    "#from sklearn.metrics import "
   ]
  },
  {
   "cell_type": "code",
   "execution_count": 5,
   "metadata": {},
   "outputs": [],
   "source": [
    "# xgboost\n",
    "\n",
    "# from xgboost import XGBClassifier"
   ]
  },
  {
   "cell_type": "code",
   "execution_count": 6,
   "metadata": {},
   "outputs": [],
   "source": [
    "# nltk\n",
    "# from nltk.corpus import stopwords\n",
    "# from nltk import word_tokenize as wt\n",
    "# from nltk.classify import SklearnClassifier\n",
    "# from nltk.classify import NaiveBayesClassifier\n",
    "# from nltk.classify import SklearnClassifier\n",
    "\n",
    "# from wordcloud import WordCloud, STOPWORDS"
   ]
  },
  {
   "cell_type": "code",
   "execution_count": null,
   "metadata": {},
   "outputs": [],
   "source": []
  },
  {
   "cell_type": "markdown",
   "metadata": {},
   "source": [
    "### Configs"
   ]
  },
  {
   "cell_type": "code",
   "execution_count": 7,
   "metadata": {},
   "outputs": [],
   "source": [
    "# file details\n",
    "\n",
    "f_directory = 'C:\\\\Py37\\\\py37\\\\visualizer'\n",
    "f_name = 'restaurant-and-market-health-inspections.csv'"
   ]
  },
  {
   "cell_type": "code",
   "execution_count": 8,
   "metadata": {},
   "outputs": [],
   "source": [
    "# use all cores\n",
    "n_jobs = -1\n",
    "\n",
    "# category columns\n",
    "cat_cols = []\n",
    "\n",
    "# numerical columns\n",
    "num_cols = []\n",
    "\n"
   ]
  },
  {
   "cell_type": "code",
   "execution_count": null,
   "metadata": {},
   "outputs": [],
   "source": []
  },
  {
   "cell_type": "code",
   "execution_count": null,
   "metadata": {},
   "outputs": [],
   "source": []
  },
  {
   "cell_type": "code",
   "execution_count": null,
   "metadata": {},
   "outputs": [],
   "source": []
  },
  {
   "cell_type": "markdown",
   "metadata": {},
   "source": [
    "### Navigating to file location"
   ]
  },
  {
   "cell_type": "code",
   "execution_count": 9,
   "metadata": {},
   "outputs": [
    {
     "data": {
      "text/plain": [
       "['.ipynb_checkpoints',\n",
       " 'deep',\n",
       " 'deep-learning-master',\n",
       " 'ds_python_generic_1.ipynb',\n",
       " 'la_restaurants',\n",
       " 'ml_python_gridsearchcv_1.ipynb',\n",
       " 'python_stack_.ipynb',\n",
       " 'Untitled.ipynb',\n",
       " 'visualizer']"
      ]
     },
     "execution_count": 9,
     "metadata": {},
     "output_type": "execute_result"
    }
   ],
   "source": [
    "os.listdir()"
   ]
  },
  {
   "cell_type": "code",
   "execution_count": 10,
   "metadata": {},
   "outputs": [
    {
     "data": {
      "text/plain": [
       "'C:\\\\py37\\\\py37'"
      ]
     },
     "execution_count": 10,
     "metadata": {},
     "output_type": "execute_result"
    }
   ],
   "source": [
    "os.getcwd()"
   ]
  },
  {
   "cell_type": "code",
   "execution_count": 11,
   "metadata": {},
   "outputs": [],
   "source": [
    "os.chdir(f_directory)"
   ]
  },
  {
   "cell_type": "code",
   "execution_count": 12,
   "metadata": {},
   "outputs": [],
   "source": [
    "# check whether file is present in current directory\n",
    "if not f_name in os.listdir():\n",
    "    sys.exit()"
   ]
  },
  {
   "cell_type": "markdown",
   "metadata": {},
   "source": [
    "##### if file not present in current directory\n",
    "\n",
    "'''\n",
    "An exception has occurred, use %tb to see the full traceback.\n",
    "\n",
    "SystemExit\n",
    "\n",
    "\n",
    "c:\\py37\\lib\\site-packages\\IPython\\core\\interactiveshell.py:2969: UserWarning: To exit: use 'exit', 'quit', or Ctrl-D.\n",
    "  warn(\"To exit: use 'exit', 'quit', or Ctrl-D.\", stacklevel=1)\n",
    "'''"
   ]
  },
  {
   "cell_type": "markdown",
   "metadata": {},
   "source": [
    "## Reading data"
   ]
  },
  {
   "cell_type": "markdown",
   "metadata": {},
   "source": [
    "#### Options while reading data\n",
    "\n",
    "##### json, html, clipboard, excel, hdf, feather, parquet, msgpack, stata, sas, pickle, sql, gbq\n",
    "\n",
    "pd.read_csv(f_name)\n",
    "\n",
    "##### read directly from database using SQL\n",
    "pd.io.sql.read_sql(sql, conn, chunksize=CHUNK_SIZE)\n",
    "\n",
    "##### read from a url\n",
    "pd.read_csv(url, delim_whitespace=True, names=names)\n",
    "\n",
    "1. header=None => first row will be treated as row \n",
    "2. index_col=None or index_col=\"Id\"\n",
    "3. sep=',' | '\\t' | '\\n'\n",
    "4. names=<list of column names>\n",
    "5. na_values = \" ?\" | ' ' | '--' | 'NA'\n",
    "    add new nan values in addition to keep_default_na\n",
    "6. nrows=1000\n",
    "7. low_memory=False\n",
    "8. prefix='c' <adds a prefix to cols>\n",
    "9. mangle_dupe_cols=True\n",
    "10. specify true_values and false_values\n",
    "11. skipinitialspace \n",
    "12. skiprows\n",
    "13. skipfooter\n",
    "14. na_filter=False can improve the performance of reading a large file\n",
    "15. encoding\n",
    "16. chunksize\n",
    "17. delimiter is not required if sep is specified\n",
    "18. engine = c or python\n",
    "19. \n",
    "    "
   ]
  },
  {
   "cell_type": "code",
   "execution_count": 13,
   "metadata": {},
   "outputs": [],
   "source": [
    "# load dataframe\n",
    "df = pd.read_csv(f_name, sep=',', index_col=None, skiprows=None, low_memory=False, encoding='utf-8',\n",
    "                keep_default_na=True, na_values='', na_filter=True, nrows=None, engine='c', chunksize=None)"
   ]
  },
  {
   "cell_type": "code",
   "execution_count": 14,
   "metadata": {},
   "outputs": [
    {
     "data": {
      "text/plain": [
       "58872"
      ]
     },
     "execution_count": 14,
     "metadata": {},
     "output_type": "execute_result"
    }
   ],
   "source": [
    "len(df)"
   ]
  },
  {
   "cell_type": "code",
   "execution_count": 15,
   "metadata": {},
   "outputs": [
    {
     "data": {
      "text/plain": [
       "False"
      ]
     },
     "execution_count": 15,
     "metadata": {},
     "output_type": "execute_result"
    }
   ],
   "source": [
    "# is empty check\n",
    "df.empty"
   ]
  },
  {
   "cell_type": "code",
   "execution_count": 16,
   "metadata": {},
   "outputs": [
    {
     "data": {
      "text/plain": [
       "serial_number            0\n",
       "activity_date            0\n",
       "facility_name            0\n",
       "score                    0\n",
       "grade                    0\n",
       "service_code             0\n",
       "service_description      0\n",
       "employee_id              0\n",
       "facility_address         0\n",
       "facility_city            0\n",
       "facility_id              0\n",
       "facility_state           0\n",
       "facility_zip             0\n",
       "owner_id                 0\n",
       "owner_name               0\n",
       "pe_description           0\n",
       "program_element_pe       0\n",
       "program_name           132\n",
       "program_status           0\n",
       "record_id                0\n",
       "dtype: int64"
      ]
     },
     "execution_count": 16,
     "metadata": {},
     "output_type": "execute_result"
    }
   ],
   "source": [
    "df.isnull().sum()"
   ]
  },
  {
   "cell_type": "markdown",
   "metadata": {},
   "source": [
    "### Missing values - Features"
   ]
  },
  {
   "cell_type": "code",
   "execution_count": 17,
   "metadata": {},
   "outputs": [
    {
     "data": {
      "text/plain": [
       "Text(0.5,1,'Missing Values per Feature')"
      ]
     },
     "execution_count": 17,
     "metadata": {},
     "output_type": "execute_result"
    },
    {
     "data": {
      "image/png": "[encoded data removed]",
      "text/plain": [
       "<Figure size 936x504 with 1 Axes>"
      ]
     },
     "metadata": {},
     "output_type": "display_data"
    }
   ],
   "source": [
    "#the amount of missing values per feature\n",
    "sns.set(rc={'figure.figsize':(13,7)})\n",
    "df.isnull().sum().plot(kind='bar')\n",
    "plt.ylabel('Number of missing values')\n",
    "plt.title('Missing Values per Feature')"
   ]
  },
  {
   "cell_type": "code",
   "execution_count": 18,
   "metadata": {},
   "outputs": [
    {
     "data": {
      "text/plain": [
       "58872"
      ]
     },
     "execution_count": 18,
     "metadata": {},
     "output_type": "execute_result"
    }
   ],
   "source": [
    "len(df)"
   ]
  },
  {
   "cell_type": "code",
   "execution_count": 19,
   "metadata": {},
   "outputs": [
    {
     "data": {
      "text/plain": [
       "20"
      ]
     },
     "execution_count": 19,
     "metadata": {},
     "output_type": "execute_result"
    }
   ],
   "source": [
    "n = len(df.columns)\n",
    "n"
   ]
  },
  {
   "cell_type": "code",
   "execution_count": 20,
   "metadata": {},
   "outputs": [],
   "source": [
    "# display all columns\n",
    "pd.options.display.max_columns = n\n"
   ]
  },
  {
   "cell_type": "code",
   "execution_count": 21,
   "metadata": {},
   "outputs": [
    {
     "data": {
      "text/html": [
       "<div>\n",
       "<style scoped>\n",
       "    .dataframe tbody tr th:only-of-type {\n",
       "        vertical-align: middle;\n",
       "    }\n",
       "\n",
       "    .dataframe tbody tr th {\n",
       "        vertical-align: top;\n",
       "    }\n",
       "\n",
       "    .dataframe thead th {\n",
       "        text-align: right;\n",
       "    }\n",
       "</style>\n",
       "<table border=\"1\" class=\"dataframe\">\n",
       "  <thead>\n",
       "    <tr style=\"text-align: right;\">\n",
       "      <th></th>\n",
       "      <th>serial_number</th>\n",
       "      <th>activity_date</th>\n",
       "      <th>facility_name</th>\n",
       "      <th>score</th>\n",
       "      <th>grade</th>\n",
       "      <th>service_code</th>\n",
       "      <th>service_description</th>\n",
       "      <th>employee_id</th>\n",
       "      <th>facility_address</th>\n",
       "      <th>facility_city</th>\n",
       "      <th>facility_id</th>\n",
       "      <th>facility_state</th>\n",
       "      <th>facility_zip</th>\n",
       "      <th>owner_id</th>\n",
       "      <th>owner_name</th>\n",
       "      <th>pe_description</th>\n",
       "      <th>program_element_pe</th>\n",
       "      <th>program_name</th>\n",
       "      <th>program_status</th>\n",
       "      <th>record_id</th>\n",
       "    </tr>\n",
       "  </thead>\n",
       "  <tbody>\n",
       "    <tr>\n",
       "      <th>22340</th>\n",
       "      <td>DA0XQIFMK</td>\n",
       "      <td>2016-12-07T00:00:00</td>\n",
       "      <td>EL FLORIDITA</td>\n",
       "      <td>95</td>\n",
       "      <td>A</td>\n",
       "      <td>1</td>\n",
       "      <td>ROUTINE INSPECTION</td>\n",
       "      <td>EE0000709</td>\n",
       "      <td>1253 N VINE ST</td>\n",
       "      <td>LOS ANGELES</td>\n",
       "      <td>FA0013107</td>\n",
       "      <td>CA</td>\n",
       "      <td>90038</td>\n",
       "      <td>OW0006536</td>\n",
       "      <td>ARMANDO CASTRO &amp; GREGORIO ESPINOSA</td>\n",
       "      <td>RESTAURANT (61-150) SEATS HIGH RISK</td>\n",
       "      <td>1638</td>\n",
       "      <td>EL FLORIDITA</td>\n",
       "      <td>ACTIVE</td>\n",
       "      <td>PR0011029</td>\n",
       "    </tr>\n",
       "    <tr>\n",
       "      <th>40402</th>\n",
       "      <td>DAEUJM8KU</td>\n",
       "      <td>2016-02-25T00:00:00</td>\n",
       "      <td>PURPLE EAST</td>\n",
       "      <td>90</td>\n",
       "      <td>A</td>\n",
       "      <td>1</td>\n",
       "      <td>ROUTINE INSPECTION</td>\n",
       "      <td>EE0000338</td>\n",
       "      <td>11668 W PICO BLVD</td>\n",
       "      <td>LOS ANGELES</td>\n",
       "      <td>FA0202915</td>\n",
       "      <td>CA</td>\n",
       "      <td>90064</td>\n",
       "      <td>OW0208192</td>\n",
       "      <td>ZONGWANG LI</td>\n",
       "      <td>RESTAURANT (31-60) SEATS HIGH RISK</td>\n",
       "      <td>1635</td>\n",
       "      <td>PURPLE EAST</td>\n",
       "      <td>INACTIVE</td>\n",
       "      <td>PR0175216</td>\n",
       "    </tr>\n",
       "    <tr>\n",
       "      <th>52801</th>\n",
       "      <td>DAJMEIXMQ</td>\n",
       "      <td>2015-07-29T00:00:00</td>\n",
       "      <td>EL SUPER</td>\n",
       "      <td>86</td>\n",
       "      <td>B</td>\n",
       "      <td>1</td>\n",
       "      <td>ROUTINE INSPECTION</td>\n",
       "      <td>EE0001025</td>\n",
       "      <td>1100 W SLAUSON AVE</td>\n",
       "      <td>LOS ANGELES</td>\n",
       "      <td>FA0012653</td>\n",
       "      <td>CA</td>\n",
       "      <td>90044</td>\n",
       "      <td>OW0004937</td>\n",
       "      <td>BODEGA LATINA CORPORATION</td>\n",
       "      <td>FOOD MKT RETAIL (25-1,999 SF) HIGH RISK</td>\n",
       "      <td>1612</td>\n",
       "      <td>EL SUPER (MEAT DEPT.)</td>\n",
       "      <td>ACTIVE</td>\n",
       "      <td>PR0045636</td>\n",
       "    </tr>\n",
       "    <tr>\n",
       "      <th>43925</th>\n",
       "      <td>DAHICC0JG</td>\n",
       "      <td>2016-01-06T00:00:00</td>\n",
       "      <td>HERBS &amp; VITAMINS</td>\n",
       "      <td>94</td>\n",
       "      <td>A</td>\n",
       "      <td>1</td>\n",
       "      <td>ROUTINE INSPECTION</td>\n",
       "      <td>EE0000828</td>\n",
       "      <td>5918 SANTA MONICA BLVD</td>\n",
       "      <td>LOS ANGELES</td>\n",
       "      <td>FA0063379</td>\n",
       "      <td>CA</td>\n",
       "      <td>90038</td>\n",
       "      <td>OW0015384</td>\n",
       "      <td>HERNANDEZ, ARACELI</td>\n",
       "      <td>FOOD MKT RETAIL (25-1,999 SF) LOW RISK</td>\n",
       "      <td>1610</td>\n",
       "      <td>HERBS &amp; VITAMINS</td>\n",
       "      <td>ACTIVE</td>\n",
       "      <td>PR0028313</td>\n",
       "    </tr>\n",
       "    <tr>\n",
       "      <th>33913</th>\n",
       "      <td>DAOTZPRBY</td>\n",
       "      <td>2016-06-01T00:00:00</td>\n",
       "      <td>DOO PAN BAKERY</td>\n",
       "      <td>80</td>\n",
       "      <td>B</td>\n",
       "      <td>1</td>\n",
       "      <td>ROUTINE INSPECTION</td>\n",
       "      <td>EE0000884</td>\n",
       "      <td>3030 W OLYMPIC BLVD STE #113</td>\n",
       "      <td>LOS ANGELES</td>\n",
       "      <td>FA0019713</td>\n",
       "      <td>CA</td>\n",
       "      <td>90006</td>\n",
       "      <td>OW0019475</td>\n",
       "      <td>KIM, SOO HYUN</td>\n",
       "      <td>RESTAURANT (0-30) SEATS MODERATE RISK</td>\n",
       "      <td>1631</td>\n",
       "      <td>DOO PAN BAKERY</td>\n",
       "      <td>ACTIVE</td>\n",
       "      <td>PR0040707</td>\n",
       "    </tr>\n",
       "    <tr>\n",
       "      <th>12492</th>\n",
       "      <td>DAR8NHIKX</td>\n",
       "      <td>2017-05-18T00:00:00</td>\n",
       "      <td>7-ELEVEN</td>\n",
       "      <td>91</td>\n",
       "      <td>A</td>\n",
       "      <td>1</td>\n",
       "      <td>ROUTINE INSPECTION</td>\n",
       "      <td>EE0000006</td>\n",
       "      <td>4343 W SLAUSON AVE</td>\n",
       "      <td>LOS ANGELES</td>\n",
       "      <td>FA0056806</td>\n",
       "      <td>CA</td>\n",
       "      <td>90043</td>\n",
       "      <td>OW0025630</td>\n",
       "      <td>NAT, GURSHARAN P</td>\n",
       "      <td>FOOD MKT RETAIL (25-1,999 SF) MODERATE RISK</td>\n",
       "      <td>1611</td>\n",
       "      <td>7-ELEVEN</td>\n",
       "      <td>ACTIVE</td>\n",
       "      <td>PR0003605</td>\n",
       "    </tr>\n",
       "    <tr>\n",
       "      <th>3820</th>\n",
       "      <td>DAB3ANQ31</td>\n",
       "      <td>2017-10-20T00:00:00</td>\n",
       "      <td>GUERRA ENRIQUE</td>\n",
       "      <td>91</td>\n",
       "      <td>A</td>\n",
       "      <td>1</td>\n",
       "      <td>ROUTINE INSPECTION</td>\n",
       "      <td>EE0001026</td>\n",
       "      <td>4701 S BROADWAY</td>\n",
       "      <td>LOS ANGELES</td>\n",
       "      <td>FA0026196</td>\n",
       "      <td>CA</td>\n",
       "      <td>90037</td>\n",
       "      <td>OW0014227</td>\n",
       "      <td>GUERRA JUAN JOSE</td>\n",
       "      <td>RESTAURANT (0-30) SEATS HIGH RISK</td>\n",
       "      <td>1632</td>\n",
       "      <td>GUERRA ENRIQUE</td>\n",
       "      <td>ACTIVE</td>\n",
       "      <td>PR0015373</td>\n",
       "    </tr>\n",
       "  </tbody>\n",
       "</table>\n",
       "</div>"
      ],
      "text/plain": [
       "      serial_number        activity_date     facility_name  score grade  \\\n",
       "22340     DA0XQIFMK  2016-12-07T00:00:00      EL FLORIDITA     95     A   \n",
       "40402     DAEUJM8KU  2016-02-25T00:00:00       PURPLE EAST     90     A   \n",
       "52801     DAJMEIXMQ  2015-07-29T00:00:00          EL SUPER     86     B   \n",
       "43925     DAHICC0JG  2016-01-06T00:00:00  HERBS & VITAMINS     94     A   \n",
       "33913     DAOTZPRBY  2016-06-01T00:00:00    DOO PAN BAKERY     80     B   \n",
       "12492     DAR8NHIKX  2017-05-18T00:00:00          7-ELEVEN     91     A   \n",
       "3820      DAB3ANQ31  2017-10-20T00:00:00    GUERRA ENRIQUE     91     A   \n",
       "\n",
       "       service_code service_description employee_id  \\\n",
       "22340             1  ROUTINE INSPECTION   EE0000709   \n",
       "40402             1  ROUTINE INSPECTION   EE0000338   \n",
       "52801             1  ROUTINE INSPECTION   EE0001025   \n",
       "43925             1  ROUTINE INSPECTION   EE0000828   \n",
       "33913             1  ROUTINE INSPECTION   EE0000884   \n",
       "12492             1  ROUTINE INSPECTION   EE0000006   \n",
       "3820              1  ROUTINE INSPECTION   EE0001026   \n",
       "\n",
       "                   facility_address facility_city facility_id facility_state  \\\n",
       "22340                1253 N VINE ST   LOS ANGELES   FA0013107             CA   \n",
       "40402             11668 W PICO BLVD   LOS ANGELES   FA0202915             CA   \n",
       "52801            1100 W SLAUSON AVE   LOS ANGELES   FA0012653             CA   \n",
       "43925        5918 SANTA MONICA BLVD   LOS ANGELES   FA0063379             CA   \n",
       "33913  3030 W OLYMPIC BLVD STE #113   LOS ANGELES   FA0019713             CA   \n",
       "12492            4343 W SLAUSON AVE   LOS ANGELES   FA0056806             CA   \n",
       "3820                4701 S BROADWAY   LOS ANGELES   FA0026196             CA   \n",
       "\n",
       "      facility_zip   owner_id                          owner_name  \\\n",
       "22340        90038  OW0006536  ARMANDO CASTRO & GREGORIO ESPINOSA   \n",
       "40402        90064  OW0208192                         ZONGWANG LI   \n",
       "52801        90044  OW0004937           BODEGA LATINA CORPORATION   \n",
       "43925        90038  OW0015384                  HERNANDEZ, ARACELI   \n",
       "33913        90006  OW0019475                       KIM, SOO HYUN   \n",
       "12492        90043  OW0025630                    NAT, GURSHARAN P   \n",
       "3820         90037  OW0014227                    GUERRA JUAN JOSE   \n",
       "\n",
       "                                    pe_description  program_element_pe  \\\n",
       "22340          RESTAURANT (61-150) SEATS HIGH RISK                1638   \n",
       "40402           RESTAURANT (31-60) SEATS HIGH RISK                1635   \n",
       "52801      FOOD MKT RETAIL (25-1,999 SF) HIGH RISK                1612   \n",
       "43925       FOOD MKT RETAIL (25-1,999 SF) LOW RISK                1610   \n",
       "33913        RESTAURANT (0-30) SEATS MODERATE RISK                1631   \n",
       "12492  FOOD MKT RETAIL (25-1,999 SF) MODERATE RISK                1611   \n",
       "3820             RESTAURANT (0-30) SEATS HIGH RISK                1632   \n",
       "\n",
       "                program_name program_status  record_id  \n",
       "22340           EL FLORIDITA         ACTIVE  PR0011029  \n",
       "40402            PURPLE EAST       INACTIVE  PR0175216  \n",
       "52801  EL SUPER (MEAT DEPT.)         ACTIVE  PR0045636  \n",
       "43925       HERBS & VITAMINS         ACTIVE  PR0028313  \n",
       "33913         DOO PAN BAKERY         ACTIVE  PR0040707  \n",
       "12492               7-ELEVEN         ACTIVE  PR0003605  \n",
       "3820          GUERRA ENRIQUE         ACTIVE  PR0015373  "
      ]
     },
     "execution_count": 21,
     "metadata": {},
     "output_type": "execute_result"
    }
   ],
   "source": [
    "df.sample(7).head(7)"
   ]
  },
  {
   "cell_type": "code",
   "execution_count": 22,
   "metadata": {},
   "outputs": [
    {
     "name": "stdout",
     "output_type": "stream",
     "text": [
      "<class 'pandas.core.frame.DataFrame'>\n",
      "RangeIndex: 58872 entries, 0 to 58871\n",
      "Data columns (total 20 columns):\n",
      "serial_number          58872 non-null object\n",
      "activity_date          58872 non-null object\n",
      "facility_name          58872 non-null object\n",
      "score                  58872 non-null int64\n",
      "grade                  58872 non-null object\n",
      "service_code           58872 non-null int64\n",
      "service_description    58872 non-null object\n",
      "employee_id            58872 non-null object\n",
      "facility_address       58872 non-null object\n",
      "facility_city          58872 non-null object\n",
      "facility_id            58872 non-null object\n",
      "facility_state         58872 non-null object\n",
      "facility_zip           58872 non-null object\n",
      "owner_id               58872 non-null object\n",
      "owner_name             58872 non-null object\n",
      "pe_description         58872 non-null object\n",
      "program_element_pe     58872 non-null int64\n",
      "program_name           58740 non-null object\n",
      "program_status         58872 non-null object\n",
      "record_id              58872 non-null object\n",
      "dtypes: int64(3), object(17)\n",
      "memory usage: 5.2+ MB\n"
     ]
    }
   ],
   "source": [
    "df.info()"
   ]
  },
  {
   "cell_type": "code",
   "execution_count": 23,
   "metadata": {},
   "outputs": [
    {
     "data": {
      "text/plain": [
       "serial_number          object\n",
       "activity_date          object\n",
       "facility_name          object\n",
       "score                   int64\n",
       "grade                  object\n",
       "service_code            int64\n",
       "service_description    object\n",
       "employee_id            object\n",
       "facility_address       object\n",
       "facility_city          object\n",
       "facility_id            object\n",
       "facility_state         object\n",
       "facility_zip           object\n",
       "owner_id               object\n",
       "owner_name             object\n",
       "pe_description         object\n",
       "program_element_pe      int64\n",
       "program_name           object\n",
       "program_status         object\n",
       "record_id              object\n",
       "dtype: object"
      ]
     },
     "execution_count": 23,
     "metadata": {},
     "output_type": "execute_result"
    }
   ],
   "source": [
    "df.dtypes"
   ]
  },
  {
   "cell_type": "code",
   "execution_count": 24,
   "metadata": {},
   "outputs": [
    {
     "data": {
      "text/html": [
       "<div>\n",
       "<style scoped>\n",
       "    .dataframe tbody tr th:only-of-type {\n",
       "        vertical-align: middle;\n",
       "    }\n",
       "\n",
       "    .dataframe tbody tr th {\n",
       "        vertical-align: top;\n",
       "    }\n",
       "\n",
       "    .dataframe thead th {\n",
       "        text-align: right;\n",
       "    }\n",
       "</style>\n",
       "<table border=\"1\" class=\"dataframe\">\n",
       "  <thead>\n",
       "    <tr style=\"text-align: right;\">\n",
       "      <th></th>\n",
       "      <th>score</th>\n",
       "      <th>service_code</th>\n",
       "      <th>program_element_pe</th>\n",
       "    </tr>\n",
       "  </thead>\n",
       "  <tbody>\n",
       "    <tr>\n",
       "      <th>count</th>\n",
       "      <td>58872.000000</td>\n",
       "      <td>58872.000000</td>\n",
       "      <td>58872.000000</td>\n",
       "    </tr>\n",
       "    <tr>\n",
       "      <th>mean</th>\n",
       "      <td>93.307922</td>\n",
       "      <td>7.733252</td>\n",
       "      <td>1629.489282</td>\n",
       "    </tr>\n",
       "    <tr>\n",
       "      <th>std</th>\n",
       "      <td>3.996712</td>\n",
       "      <td>51.458809</td>\n",
       "      <td>9.397450</td>\n",
       "    </tr>\n",
       "    <tr>\n",
       "      <th>min</th>\n",
       "      <td>64.000000</td>\n",
       "      <td>1.000000</td>\n",
       "      <td>1610.000000</td>\n",
       "    </tr>\n",
       "    <tr>\n",
       "      <th>25%</th>\n",
       "      <td>91.000000</td>\n",
       "      <td>1.000000</td>\n",
       "      <td>1631.000000</td>\n",
       "    </tr>\n",
       "    <tr>\n",
       "      <th>50%</th>\n",
       "      <td>94.000000</td>\n",
       "      <td>1.000000</td>\n",
       "      <td>1632.000000</td>\n",
       "    </tr>\n",
       "    <tr>\n",
       "      <th>75%</th>\n",
       "      <td>96.000000</td>\n",
       "      <td>1.000000</td>\n",
       "      <td>1635.000000</td>\n",
       "    </tr>\n",
       "    <tr>\n",
       "      <th>max</th>\n",
       "      <td>100.000000</td>\n",
       "      <td>401.000000</td>\n",
       "      <td>1641.000000</td>\n",
       "    </tr>\n",
       "  </tbody>\n",
       "</table>\n",
       "</div>"
      ],
      "text/plain": [
       "              score  service_code  program_element_pe\n",
       "count  58872.000000  58872.000000        58872.000000\n",
       "mean      93.307922      7.733252         1629.489282\n",
       "std        3.996712     51.458809            9.397450\n",
       "min       64.000000      1.000000         1610.000000\n",
       "25%       91.000000      1.000000         1631.000000\n",
       "50%       94.000000      1.000000         1632.000000\n",
       "75%       96.000000      1.000000         1635.000000\n",
       "max      100.000000    401.000000         1641.000000"
      ]
     },
     "execution_count": 24,
     "metadata": {},
     "output_type": "execute_result"
    }
   ],
   "source": [
    "df.describe()"
   ]
  },
  {
   "cell_type": "code",
   "execution_count": 25,
   "metadata": {},
   "outputs": [
    {
     "data": {
      "text/html": [
       "<div>\n",
       "<style scoped>\n",
       "    .dataframe tbody tr th:only-of-type {\n",
       "        vertical-align: middle;\n",
       "    }\n",
       "\n",
       "    .dataframe tbody tr th {\n",
       "        vertical-align: top;\n",
       "    }\n",
       "\n",
       "    .dataframe thead th {\n",
       "        text-align: right;\n",
       "    }\n",
       "</style>\n",
       "<table border=\"1\" class=\"dataframe\">\n",
       "  <thead>\n",
       "    <tr style=\"text-align: right;\">\n",
       "      <th></th>\n",
       "      <th>serial_number</th>\n",
       "      <th>activity_date</th>\n",
       "      <th>facility_name</th>\n",
       "      <th>score</th>\n",
       "      <th>grade</th>\n",
       "      <th>service_code</th>\n",
       "      <th>service_description</th>\n",
       "      <th>employee_id</th>\n",
       "      <th>facility_address</th>\n",
       "      <th>facility_city</th>\n",
       "      <th>facility_id</th>\n",
       "      <th>facility_state</th>\n",
       "      <th>facility_zip</th>\n",
       "      <th>owner_id</th>\n",
       "      <th>owner_name</th>\n",
       "      <th>pe_description</th>\n",
       "      <th>program_element_pe</th>\n",
       "      <th>program_name</th>\n",
       "      <th>program_status</th>\n",
       "      <th>record_id</th>\n",
       "    </tr>\n",
       "  </thead>\n",
       "  <tbody>\n",
       "    <tr>\n",
       "      <th>count</th>\n",
       "      <td>58872</td>\n",
       "      <td>58872</td>\n",
       "      <td>58872</td>\n",
       "      <td>58872.000000</td>\n",
       "      <td>58872</td>\n",
       "      <td>58872.000000</td>\n",
       "      <td>58872</td>\n",
       "      <td>58872</td>\n",
       "      <td>58872</td>\n",
       "      <td>58872</td>\n",
       "      <td>58872</td>\n",
       "      <td>58872</td>\n",
       "      <td>58872</td>\n",
       "      <td>58872</td>\n",
       "      <td>58872</td>\n",
       "      <td>58872</td>\n",
       "      <td>58872.000000</td>\n",
       "      <td>58740</td>\n",
       "      <td>58872</td>\n",
       "      <td>58872</td>\n",
       "    </tr>\n",
       "    <tr>\n",
       "      <th>unique</th>\n",
       "      <td>58872</td>\n",
       "      <td>767</td>\n",
       "      <td>11681</td>\n",
       "      <td>NaN</td>\n",
       "      <td>4</td>\n",
       "      <td>NaN</td>\n",
       "      <td>2</td>\n",
       "      <td>129</td>\n",
       "      <td>11537</td>\n",
       "      <td>1</td>\n",
       "      <td>13093</td>\n",
       "      <td>1</td>\n",
       "      <td>952</td>\n",
       "      <td>11389</td>\n",
       "      <td>11165</td>\n",
       "      <td>18</td>\n",
       "      <td>NaN</td>\n",
       "      <td>12446</td>\n",
       "      <td>2</td>\n",
       "      <td>14066</td>\n",
       "    </tr>\n",
       "    <tr>\n",
       "      <th>top</th>\n",
       "      <td>DATXVYVUK</td>\n",
       "      <td>2016-03-07T00:00:00</td>\n",
       "      <td>DODGER STADIUM</td>\n",
       "      <td>NaN</td>\n",
       "      <td>A</td>\n",
       "      <td>NaN</td>\n",
       "      <td>ROUTINE INSPECTION</td>\n",
       "      <td>EE0000721</td>\n",
       "      <td>1000 VIN SCULLY AVE</td>\n",
       "      <td>LOS ANGELES</td>\n",
       "      <td>FA0019271</td>\n",
       "      <td>CA</td>\n",
       "      <td>90012</td>\n",
       "      <td>OW0029458</td>\n",
       "      <td>RALPHS GROCERY COMPANY</td>\n",
       "      <td>RESTAURANT (0-30) SEATS HIGH RISK</td>\n",
       "      <td>NaN</td>\n",
       "      <td>SUBWAY</td>\n",
       "      <td>ACTIVE</td>\n",
       "      <td>PR0018889</td>\n",
       "    </tr>\n",
       "    <tr>\n",
       "      <th>freq</th>\n",
       "      <td>1</td>\n",
       "      <td>182</td>\n",
       "      <td>380</td>\n",
       "      <td>NaN</td>\n",
       "      <td>54904</td>\n",
       "      <td>NaN</td>\n",
       "      <td>57881</td>\n",
       "      <td>4313</td>\n",
       "      <td>383</td>\n",
       "      <td>58872</td>\n",
       "      <td>380</td>\n",
       "      <td>58872</td>\n",
       "      <td>2266</td>\n",
       "      <td>557</td>\n",
       "      <td>557</td>\n",
       "      <td>13735</td>\n",
       "      <td>NaN</td>\n",
       "      <td>154</td>\n",
       "      <td>52040</td>\n",
       "      <td>10</td>\n",
       "    </tr>\n",
       "    <tr>\n",
       "      <th>mean</th>\n",
       "      <td>NaN</td>\n",
       "      <td>NaN</td>\n",
       "      <td>NaN</td>\n",
       "      <td>93.307922</td>\n",
       "      <td>NaN</td>\n",
       "      <td>7.733252</td>\n",
       "      <td>NaN</td>\n",
       "      <td>NaN</td>\n",
       "      <td>NaN</td>\n",
       "      <td>NaN</td>\n",
       "      <td>NaN</td>\n",
       "      <td>NaN</td>\n",
       "      <td>NaN</td>\n",
       "      <td>NaN</td>\n",
       "      <td>NaN</td>\n",
       "      <td>NaN</td>\n",
       "      <td>1629.489282</td>\n",
       "      <td>NaN</td>\n",
       "      <td>NaN</td>\n",
       "      <td>NaN</td>\n",
       "    </tr>\n",
       "    <tr>\n",
       "      <th>std</th>\n",
       "      <td>NaN</td>\n",
       "      <td>NaN</td>\n",
       "      <td>NaN</td>\n",
       "      <td>3.996712</td>\n",
       "      <td>NaN</td>\n",
       "      <td>51.458809</td>\n",
       "      <td>NaN</td>\n",
       "      <td>NaN</td>\n",
       "      <td>NaN</td>\n",
       "      <td>NaN</td>\n",
       "      <td>NaN</td>\n",
       "      <td>NaN</td>\n",
       "      <td>NaN</td>\n",
       "      <td>NaN</td>\n",
       "      <td>NaN</td>\n",
       "      <td>NaN</td>\n",
       "      <td>9.397450</td>\n",
       "      <td>NaN</td>\n",
       "      <td>NaN</td>\n",
       "      <td>NaN</td>\n",
       "    </tr>\n",
       "    <tr>\n",
       "      <th>min</th>\n",
       "      <td>NaN</td>\n",
       "      <td>NaN</td>\n",
       "      <td>NaN</td>\n",
       "      <td>64.000000</td>\n",
       "      <td>NaN</td>\n",
       "      <td>1.000000</td>\n",
       "      <td>NaN</td>\n",
       "      <td>NaN</td>\n",
       "      <td>NaN</td>\n",
       "      <td>NaN</td>\n",
       "      <td>NaN</td>\n",
       "      <td>NaN</td>\n",
       "      <td>NaN</td>\n",
       "      <td>NaN</td>\n",
       "      <td>NaN</td>\n",
       "      <td>NaN</td>\n",
       "      <td>1610.000000</td>\n",
       "      <td>NaN</td>\n",
       "      <td>NaN</td>\n",
       "      <td>NaN</td>\n",
       "    </tr>\n",
       "    <tr>\n",
       "      <th>25%</th>\n",
       "      <td>NaN</td>\n",
       "      <td>NaN</td>\n",
       "      <td>NaN</td>\n",
       "      <td>91.000000</td>\n",
       "      <td>NaN</td>\n",
       "      <td>1.000000</td>\n",
       "      <td>NaN</td>\n",
       "      <td>NaN</td>\n",
       "      <td>NaN</td>\n",
       "      <td>NaN</td>\n",
       "      <td>NaN</td>\n",
       "      <td>NaN</td>\n",
       "      <td>NaN</td>\n",
       "      <td>NaN</td>\n",
       "      <td>NaN</td>\n",
       "      <td>NaN</td>\n",
       "      <td>1631.000000</td>\n",
       "      <td>NaN</td>\n",
       "      <td>NaN</td>\n",
       "      <td>NaN</td>\n",
       "    </tr>\n",
       "    <tr>\n",
       "      <th>50%</th>\n",
       "      <td>NaN</td>\n",
       "      <td>NaN</td>\n",
       "      <td>NaN</td>\n",
       "      <td>94.000000</td>\n",
       "      <td>NaN</td>\n",
       "      <td>1.000000</td>\n",
       "      <td>NaN</td>\n",
       "      <td>NaN</td>\n",
       "      <td>NaN</td>\n",
       "      <td>NaN</td>\n",
       "      <td>NaN</td>\n",
       "      <td>NaN</td>\n",
       "      <td>NaN</td>\n",
       "      <td>NaN</td>\n",
       "      <td>NaN</td>\n",
       "      <td>NaN</td>\n",
       "      <td>1632.000000</td>\n",
       "      <td>NaN</td>\n",
       "      <td>NaN</td>\n",
       "      <td>NaN</td>\n",
       "    </tr>\n",
       "    <tr>\n",
       "      <th>75%</th>\n",
       "      <td>NaN</td>\n",
       "      <td>NaN</td>\n",
       "      <td>NaN</td>\n",
       "      <td>96.000000</td>\n",
       "      <td>NaN</td>\n",
       "      <td>1.000000</td>\n",
       "      <td>NaN</td>\n",
       "      <td>NaN</td>\n",
       "      <td>NaN</td>\n",
       "      <td>NaN</td>\n",
       "      <td>NaN</td>\n",
       "      <td>NaN</td>\n",
       "      <td>NaN</td>\n",
       "      <td>NaN</td>\n",
       "      <td>NaN</td>\n",
       "      <td>NaN</td>\n",
       "      <td>1635.000000</td>\n",
       "      <td>NaN</td>\n",
       "      <td>NaN</td>\n",
       "      <td>NaN</td>\n",
       "    </tr>\n",
       "    <tr>\n",
       "      <th>max</th>\n",
       "      <td>NaN</td>\n",
       "      <td>NaN</td>\n",
       "      <td>NaN</td>\n",
       "      <td>100.000000</td>\n",
       "      <td>NaN</td>\n",
       "      <td>401.000000</td>\n",
       "      <td>NaN</td>\n",
       "      <td>NaN</td>\n",
       "      <td>NaN</td>\n",
       "      <td>NaN</td>\n",
       "      <td>NaN</td>\n",
       "      <td>NaN</td>\n",
       "      <td>NaN</td>\n",
       "      <td>NaN</td>\n",
       "      <td>NaN</td>\n",
       "      <td>NaN</td>\n",
       "      <td>1641.000000</td>\n",
       "      <td>NaN</td>\n",
       "      <td>NaN</td>\n",
       "      <td>NaN</td>\n",
       "    </tr>\n",
       "  </tbody>\n",
       "</table>\n",
       "</div>"
      ],
      "text/plain": [
       "       serial_number        activity_date   facility_name         score  \\\n",
       "count          58872                58872           58872  58872.000000   \n",
       "unique         58872                  767           11681           NaN   \n",
       "top        DATXVYVUK  2016-03-07T00:00:00  DODGER STADIUM           NaN   \n",
       "freq               1                  182             380           NaN   \n",
       "mean             NaN                  NaN             NaN     93.307922   \n",
       "std              NaN                  NaN             NaN      3.996712   \n",
       "min              NaN                  NaN             NaN     64.000000   \n",
       "25%              NaN                  NaN             NaN     91.000000   \n",
       "50%              NaN                  NaN             NaN     94.000000   \n",
       "75%              NaN                  NaN             NaN     96.000000   \n",
       "max              NaN                  NaN             NaN    100.000000   \n",
       "\n",
       "        grade  service_code service_description employee_id  \\\n",
       "count   58872  58872.000000               58872       58872   \n",
       "unique      4           NaN                   2         129   \n",
       "top         A           NaN  ROUTINE INSPECTION   EE0000721   \n",
       "freq    54904           NaN               57881        4313   \n",
       "mean      NaN      7.733252                 NaN         NaN   \n",
       "std       NaN     51.458809                 NaN         NaN   \n",
       "min       NaN      1.000000                 NaN         NaN   \n",
       "25%       NaN      1.000000                 NaN         NaN   \n",
       "50%       NaN      1.000000                 NaN         NaN   \n",
       "75%       NaN      1.000000                 NaN         NaN   \n",
       "max       NaN    401.000000                 NaN         NaN   \n",
       "\n",
       "           facility_address facility_city facility_id facility_state  \\\n",
       "count                 58872         58872       58872          58872   \n",
       "unique                11537             1       13093              1   \n",
       "top     1000 VIN SCULLY AVE   LOS ANGELES   FA0019271             CA   \n",
       "freq                    383         58872         380          58872   \n",
       "mean                    NaN           NaN         NaN            NaN   \n",
       "std                     NaN           NaN         NaN            NaN   \n",
       "min                     NaN           NaN         NaN            NaN   \n",
       "25%                     NaN           NaN         NaN            NaN   \n",
       "50%                     NaN           NaN         NaN            NaN   \n",
       "75%                     NaN           NaN         NaN            NaN   \n",
       "max                     NaN           NaN         NaN            NaN   \n",
       "\n",
       "       facility_zip   owner_id              owner_name  \\\n",
       "count         58872      58872                   58872   \n",
       "unique          952      11389                   11165   \n",
       "top           90012  OW0029458  RALPHS GROCERY COMPANY   \n",
       "freq           2266        557                     557   \n",
       "mean            NaN        NaN                     NaN   \n",
       "std             NaN        NaN                     NaN   \n",
       "min             NaN        NaN                     NaN   \n",
       "25%             NaN        NaN                     NaN   \n",
       "50%             NaN        NaN                     NaN   \n",
       "75%             NaN        NaN                     NaN   \n",
       "max             NaN        NaN                     NaN   \n",
       "\n",
       "                           pe_description  program_element_pe program_name  \\\n",
       "count                               58872        58872.000000        58740   \n",
       "unique                                 18                 NaN        12446   \n",
       "top     RESTAURANT (0-30) SEATS HIGH RISK                 NaN       SUBWAY   \n",
       "freq                                13735                 NaN          154   \n",
       "mean                                  NaN         1629.489282          NaN   \n",
       "std                                   NaN            9.397450          NaN   \n",
       "min                                   NaN         1610.000000          NaN   \n",
       "25%                                   NaN         1631.000000          NaN   \n",
       "50%                                   NaN         1632.000000          NaN   \n",
       "75%                                   NaN         1635.000000          NaN   \n",
       "max                                   NaN         1641.000000          NaN   \n",
       "\n",
       "       program_status  record_id  \n",
       "count           58872      58872  \n",
       "unique              2      14066  \n",
       "top            ACTIVE  PR0018889  \n",
       "freq            52040         10  \n",
       "mean              NaN        NaN  \n",
       "std               NaN        NaN  \n",
       "min               NaN        NaN  \n",
       "25%               NaN        NaN  \n",
       "50%               NaN        NaN  \n",
       "75%               NaN        NaN  \n",
       "max               NaN        NaN  "
      ]
     },
     "execution_count": 25,
     "metadata": {},
     "output_type": "execute_result"
    }
   ],
   "source": [
    "df.describe(include='all')"
   ]
  },
  {
   "cell_type": "code",
   "execution_count": 26,
   "metadata": {},
   "outputs": [
    {
     "data": {
      "text/plain": [
       "['serial_number',\n",
       " 'activity_date',\n",
       " 'facility_name',\n",
       " 'score',\n",
       " 'grade',\n",
       " 'service_code',\n",
       " 'service_description',\n",
       " 'employee_id',\n",
       " 'facility_address',\n",
       " 'facility_city',\n",
       " 'facility_id',\n",
       " 'facility_state',\n",
       " 'facility_zip',\n",
       " 'owner_id',\n",
       " 'owner_name',\n",
       " 'pe_description',\n",
       " 'program_element_pe',\n",
       " 'program_name',\n",
       " 'program_status',\n",
       " 'record_id']"
      ]
     },
     "execution_count": 26,
     "metadata": {},
     "output_type": "execute_result"
    }
   ],
   "source": [
    "columns = list(df.columns)\n",
    "columns"
   ]
  },
  {
   "cell_type": "markdown",
   "metadata": {},
   "source": [
    "### Get columns by type"
   ]
  },
  {
   "cell_type": "code",
   "execution_count": 27,
   "metadata": {},
   "outputs": [],
   "source": [
    "# can be date, bool, int, float, object types"
   ]
  },
  {
   "cell_type": "code",
   "execution_count": 28,
   "metadata": {
    "scrolled": false
   },
   "outputs": [],
   "source": [
    "cat_cols = df.select_dtypes(include=['object'])"
   ]
  },
  {
   "cell_type": "code",
   "execution_count": 29,
   "metadata": {},
   "outputs": [
    {
     "data": {
      "text/plain": [
       "['serial_number',\n",
       " 'activity_date',\n",
       " 'facility_name',\n",
       " 'grade',\n",
       " 'service_description',\n",
       " 'employee_id',\n",
       " 'facility_address',\n",
       " 'facility_city',\n",
       " 'facility_id',\n",
       " 'facility_state',\n",
       " 'facility_zip',\n",
       " 'owner_id',\n",
       " 'owner_name',\n",
       " 'pe_description',\n",
       " 'program_name',\n",
       " 'program_status',\n",
       " 'record_id']"
      ]
     },
     "execution_count": 29,
     "metadata": {},
     "output_type": "execute_result"
    }
   ],
   "source": [
    "cat_cols = list(cat_cols)\n",
    "cat_cols"
   ]
  },
  {
   "cell_type": "code",
   "execution_count": 30,
   "metadata": {},
   "outputs": [
    {
     "data": {
      "text/plain": [
       "Series([], dtype: object)"
      ]
     },
     "execution_count": 30,
     "metadata": {},
     "output_type": "execute_result"
    }
   ],
   "source": [
    "df.select_dtypes(include=['category']).dtypes"
   ]
  },
  {
   "cell_type": "code",
   "execution_count": 31,
   "metadata": {},
   "outputs": [
    {
     "data": {
      "text/plain": [
       "Series([], dtype: object)"
      ]
     },
     "execution_count": 31,
     "metadata": {},
     "output_type": "execute_result"
    }
   ],
   "source": [
    "# float\n",
    "df.select_dtypes(include=['float']).dtypes"
   ]
  },
  {
   "cell_type": "code",
   "execution_count": 32,
   "metadata": {},
   "outputs": [
    {
     "data": {
      "text/plain": [
       "score                 int64\n",
       "service_code          int64\n",
       "program_element_pe    int64\n",
       "dtype: object"
      ]
     },
     "execution_count": 32,
     "metadata": {},
     "output_type": "execute_result"
    }
   ],
   "source": [
    "df.select_dtypes(include=['int64']).dtypes"
   ]
  },
  {
   "cell_type": "markdown",
   "metadata": {},
   "source": [
    "### Convert numeric columns which are of object type"
   ]
  },
  {
   "cell_type": "code",
   "execution_count": 33,
   "metadata": {},
   "outputs": [],
   "source": [
    "# if there are any columns which has numeric data\n",
    "# but of category as object, then identify those and\n",
    "# convert them to numeric using pd.to_numeric()"
   ]
  },
  {
   "cell_type": "code",
   "execution_count": 34,
   "metadata": {},
   "outputs": [
    {
     "data": {
      "text/plain": [
       "Index(['score', 'service_code', 'program_element_pe'], dtype='object')"
      ]
     },
     "execution_count": 34,
     "metadata": {},
     "output_type": "execute_result"
    }
   ],
   "source": [
    "num_cols = df._get_numeric_data().columns\n",
    "num_cols"
   ]
  },
  {
   "cell_type": "code",
   "execution_count": 35,
   "metadata": {},
   "outputs": [
    {
     "data": {
      "text/plain": [
       "['score', 'service_code', 'program_element_pe']"
      ]
     },
     "execution_count": 35,
     "metadata": {},
     "output_type": "execute_result"
    }
   ],
   "source": [
    "num_cols = list(num_cols)\n",
    "num_cols"
   ]
  },
  {
   "cell_type": "code",
   "execution_count": 36,
   "metadata": {},
   "outputs": [],
   "source": [
    "df[num_cols] = df[num_cols].apply(pd.to_numeric)"
   ]
  },
  {
   "cell_type": "code",
   "execution_count": 37,
   "metadata": {},
   "outputs": [
    {
     "data": {
      "text/plain": [
       "score                 int64\n",
       "service_code          int64\n",
       "program_element_pe    int64\n",
       "dtype: object"
      ]
     },
     "execution_count": 37,
     "metadata": {},
     "output_type": "execute_result"
    }
   ],
   "source": [
    "df[num_cols].dtypes"
   ]
  },
  {
   "cell_type": "code",
   "execution_count": 38,
   "metadata": {},
   "outputs": [
    {
     "data": {
      "text/plain": [
       "188"
      ]
     },
     "execution_count": 38,
     "metadata": {},
     "output_type": "execute_result"
    }
   ],
   "source": [
    "gc.collect()"
   ]
  },
  {
   "cell_type": "markdown",
   "metadata": {},
   "source": [
    "### Correlation Plot"
   ]
  },
  {
   "cell_type": "code",
   "execution_count": 39,
   "metadata": {},
   "outputs": [
    {
     "data": {
      "text/plain": [
       "<matplotlib.axes._subplots.AxesSubplot at 0x15514030>"
      ]
     },
     "execution_count": 39,
     "metadata": {},
     "output_type": "execute_result"
    },
    {
     "data": {
      "image/png": "[encoded data removed]",
      "text/plain": [
       "<Figure size 1224x936 with 2 Axes>"
      ]
     },
     "metadata": {},
     "output_type": "display_data"
    }
   ],
   "source": [
    "# asusming you have a dataframe df\n",
    "correlations = df.corr()\n",
    "\n",
    "# Generate a mask for the upper triangle\n",
    "mask = np.zeros_like(correlations, dtype=np.bool)\n",
    "# array([[False, False],\n",
    "#       [False, False]])\n",
    "\n",
    "mask[np.triu_indices_from(mask)] = True\n",
    "# array([[ True,  True],\n",
    "#       [False,  True]])\n",
    "\n",
    "# Set up the matplotlib figure\n",
    "f, ax = plt.subplots(figsize=(17, 13))\n",
    "\n",
    "# Generate a custom diverging colormap\n",
    "cmap = sns.diverging_palette(220, 10, as_cmap=True)\n",
    "\n",
    "# Draw the heatmap with the mask and correct aspect ratio\n",
    "sns.heatmap(correlations, mask=mask, cmap=cmap, vmax=.3, center=0,\n",
    "            square=True, linewidths=.5, cbar_kws={\"shrink\": .5})"
   ]
  },
  {
   "cell_type": "markdown",
   "metadata": {},
   "source": [
    "### Categoricals"
   ]
  },
  {
   "cell_type": "code",
   "execution_count": 40,
   "metadata": {},
   "outputs": [
    {
     "data": {
      "text/plain": [
       "(array([0, 0, 0, ..., 0, 0, 0], dtype=int32),\n",
       " Index(['A', 'B', 'C', ' '], dtype='object'))"
      ]
     },
     "execution_count": 40,
     "metadata": {},
     "output_type": "execute_result"
    }
   ],
   "source": [
    "pd.factorize(df['grade'])"
   ]
  },
  {
   "cell_type": "code",
   "execution_count": 41,
   "metadata": {},
   "outputs": [
    {
     "data": {
      "text/plain": [
       "[serial_number, activity_date, facility_name, score, grade, ..., pe_description, program_element_pe, program_name, program_status, record_id]\n",
       "Length: 20\n",
       "Categories (20, object): [activity_date, employee_id, facility_address, facility_city, ..., score, serial_number, service_code, service_description]"
      ]
     },
     "execution_count": 41,
     "metadata": {},
     "output_type": "execute_result"
    }
   ],
   "source": [
    "pd.Categorical(df)"
   ]
  },
  {
   "cell_type": "markdown",
   "metadata": {},
   "source": [
    "### Configure Features & Target"
   ]
  },
  {
   "cell_type": "code",
   "execution_count": 42,
   "metadata": {},
   "outputs": [
    {
     "data": {
      "text/plain": [
       "(['serial_number',\n",
       "  'activity_date',\n",
       "  'facility_name',\n",
       "  'score',\n",
       "  'service_code',\n",
       "  'service_description',\n",
       "  'employee_id',\n",
       "  'facility_address',\n",
       "  'facility_city',\n",
       "  'facility_id',\n",
       "  'facility_state',\n",
       "  'facility_zip',\n",
       "  'owner_id',\n",
       "  'owner_name',\n",
       "  'pe_description',\n",
       "  'program_element_pe',\n",
       "  'program_name',\n",
       "  'program_status',\n",
       "  'record_id'],\n",
       " 'grade')"
      ]
     },
     "execution_count": 42,
     "metadata": {},
     "output_type": "execute_result"
    }
   ],
   "source": [
    "target = 'grade'\n",
    "\n",
    "features = list(df.columns)\n",
    "features.remove(target)\n",
    "\n",
    "features, target"
   ]
  },
  {
   "cell_type": "code",
   "execution_count": 43,
   "metadata": {},
   "outputs": [
    {
     "data": {
      "text/plain": [
       "False"
      ]
     },
     "execution_count": 43,
     "metadata": {},
     "output_type": "execute_result"
    }
   ],
   "source": [
    "target in features"
   ]
  },
  {
   "cell_type": "code",
   "execution_count": 44,
   "metadata": {},
   "outputs": [
    {
     "data": {
      "text/plain": [
       "0"
      ]
     },
     "execution_count": 44,
     "metadata": {},
     "output_type": "execute_result"
    }
   ],
   "source": [
    "gc.collect()"
   ]
  },
  {
   "cell_type": "code",
   "execution_count": null,
   "metadata": {},
   "outputs": [],
   "source": []
  },
  {
   "cell_type": "code",
   "execution_count": null,
   "metadata": {},
   "outputs": [],
   "source": []
  },
  {
   "cell_type": "code",
   "execution_count": null,
   "metadata": {},
   "outputs": [],
   "source": []
  },
  {
   "cell_type": "code",
   "execution_count": null,
   "metadata": {},
   "outputs": [],
   "source": []
  },
  {
   "cell_type": "code",
   "execution_count": null,
   "metadata": {},
   "outputs": [],
   "source": []
  },
  {
   "cell_type": "code",
   "execution_count": null,
   "metadata": {},
   "outputs": [],
   "source": []
  },
  {
   "cell_type": "code",
   "execution_count": null,
   "metadata": {},
   "outputs": [],
   "source": []
  },
  {
   "cell_type": "code",
   "execution_count": null,
   "metadata": {},
   "outputs": [],
   "source": []
  },
  {
   "cell_type": "markdown",
   "metadata": {},
   "source": [
    "### Univariate Analysis"
   ]
  },
  {
   "cell_type": "code",
   "execution_count": 45,
   "metadata": {},
   "outputs": [],
   "source": [
    "# helper function for numerical columns distribution\n",
    "def uni_num_analysis(col, df):\n",
    "    ''' distribution of numerical columns '''\n",
    "    sns.set(rc={'figure.figsize':(11,5)})\n",
    "    plt.hist(df[col], bins=100)\n",
    "    plt.xlabel(col)\n",
    "    plt.ylabel('Distribution')\n",
    "    plt.title(col)\n"
   ]
  },
  {
   "cell_type": "code",
   "execution_count": 46,
   "metadata": {},
   "outputs": [
    {
     "name": "stdout",
     "output_type": "stream",
     "text": [
      "score\n"
     ]
    },
    {
     "data": {
      "image/png": "[encoded data removed]",
      "text/plain": [
       "<Figure size 792x360 with 1 Axes>"
      ]
     },
     "metadata": {},
     "output_type": "display_data"
    },
    {
     "name": "stdout",
     "output_type": "stream",
     "text": [
      "service_code\n"
     ]
    },
    {
     "data": {
      "image/png": "[encoded data removed]",
      "text/plain": [
       "<Figure size 792x360 with 1 Axes>"
      ]
     },
     "metadata": {},
     "output_type": "display_data"
    },
    {
     "name": "stdout",
     "output_type": "stream",
     "text": [
      "program_element_pe\n"
     ]
    },
    {
     "data": {
      "image/png": "[encoded data removed]",
      "text/plain": [
       "<Figure size 792x360 with 1 Axes>"
      ]
     },
     "metadata": {},
     "output_type": "display_data"
    }
   ],
   "source": [
    "for col in num_cols:\n",
    "    print(col)\n",
    "    uni_num_analysis(col, df)\n",
    "    plt.show()"
   ]
  },
  {
   "cell_type": "code",
   "execution_count": 48,
   "metadata": {},
   "outputs": [
    {
     "data": {
      "text/plain": [
       "<matplotlib.axes._subplots.AxesSubplot at 0x1432bbf0>"
      ]
     },
     "execution_count": 48,
     "metadata": {},
     "output_type": "execute_result"
    },
    {
     "data": {
      "image/png": "[encoded data removed]",
      "text/plain": [
       "<Figure size 648x648 with 1 Axes>"
      ]
     },
     "metadata": {},
     "output_type": "display_data"
    }
   ],
   "source": [
    "sns.set(rc={'figure.figsize':(9,9)})\n",
    "plt.title('Distribution of Scores')\n",
    "sns.countplot(x='score', data=df)"
   ]
  },
  {
   "cell_type": "code",
   "execution_count": 50,
   "metadata": {
    "scrolled": false
   },
   "outputs": [
    {
     "data": {
      "text/plain": [
       "<matplotlib.axes._subplots.AxesSubplot at 0x180102b0>"
      ]
     },
     "execution_count": 50,
     "metadata": {},
     "output_type": "execute_result"
    },
    {
     "data": {
      "image/png": "[encoded data removed]",
      "text/plain": [
       "<Figure size 432x432 with 1 Axes>"
      ]
     },
     "metadata": {},
     "output_type": "display_data"
    }
   ],
   "source": [
    "sns.set(rc={'figure.figsize':(6,6)})\n",
    "plt.title('Distribution of Scores')\n",
    "sns.countplot(x='grade', data=df)"
   ]
  },
  {
   "cell_type": "code",
   "execution_count": 47,
   "metadata": {},
   "outputs": [
    {
     "data": {
      "image/png": "[encoded data removed]",
      "text/plain": [
       "<Figure size 936x504 with 1 Axes>"
      ]
     },
     "metadata": {},
     "output_type": "display_data"
    }
   ],
   "source": [
    "sns.set(rc={'figure.figsize':(13,7)})\n",
    "sns.boxplot(x='grade', y='score', data=df)\n",
    "plt.title('Grade vs Score Distribution')"
   ]
  },
  {
   "cell_type": "code",
   "execution_count": 58,
   "metadata": {},
   "outputs": [
    {
     "data": {
      "image/png": "[encoded data removed]",
      "text/plain": [
       "<Figure size 1008x1008 with 3 Axes>"
      ]
     },
     "metadata": {},
     "output_type": "display_data"
    }
   ],
   "source": [
    "fig = plt.figure(figsize=(14, 14))\n",
    "ax1 = plt.subplot2grid((2, 2), (0, 0))\n",
    "ax1 = plt.xticks(rotation=45)\n",
    "ax1 = sns.countplot(df['program_status'])\n",
    "ax1 = plt.title(\"Program Status\")\n",
    "\n",
    "\n",
    "ax2 = plt.subplot2grid((2, 2), (0, 1))\n",
    "ax2 = plt.xticks(rotation=45)\n",
    "ax2 = sns.countplot(df['grade'])\n",
    "ax2 = plt.title(\"Grade\")\n",
    "\n",
    "\n",
    "ax3 = plt.subplot2grid((2, 2), (1, 0), colspan=2)\n",
    "ax3 = plt.xticks(rotation=45)\n",
    "ax3 = sns.countplot(df['score'])\n",
    "ax3 = plt.title(\"Score\")"
   ]
  },
  {
   "cell_type": "code",
   "execution_count": 54,
   "metadata": {},
   "outputs": [
    {
     "data": {
      "text/plain": [
       "array(['ACTIVE', 'INACTIVE'], dtype=object)"
      ]
     },
     "execution_count": 54,
     "metadata": {},
     "output_type": "execute_result"
    }
   ],
   "source": [
    "df['program_status'].unique()"
   ]
  },
  {
   "cell_type": "code",
   "execution_count": 55,
   "metadata": {},
   "outputs": [
    {
     "data": {
      "text/plain": [
       "array([ 95,  92,  93,  94,  96,  91,  97,  98,  90, 100,  81,  85,  89,\n",
       "        82,  84,  86,  99,  80,  83,  78,  68,  73,  87,  75,  72,  88,\n",
       "        77,  76,  74,  70,  71,  66,  79,  64,  65,  67], dtype=int64)"
      ]
     },
     "execution_count": 55,
     "metadata": {},
     "output_type": "execute_result"
    }
   ],
   "source": [
    "df['score'].unique()"
   ]
  },
  {
   "cell_type": "code",
   "execution_count": 56,
   "metadata": {},
   "outputs": [
    {
     "data": {
      "text/plain": [
       "array(['A', 'B', 'C', ' '], dtype=object)"
      ]
     },
     "execution_count": 56,
     "metadata": {},
     "output_type": "execute_result"
    }
   ],
   "source": [
    "df['grade'].unique()"
   ]
  },
  {
   "cell_type": "code",
   "execution_count": 59,
   "metadata": {},
   "outputs": [
    {
     "data": {
      "text/plain": [
       "array([[<matplotlib.axes._subplots.AxesSubplot object at 0x0471BF90>,\n",
       "        <matplotlib.axes._subplots.AxesSubplot object at 0x047BE970>],\n",
       "       [<matplotlib.axes._subplots.AxesSubplot object at 0x047D6DF0>,\n",
       "        <matplotlib.axes._subplots.AxesSubplot object at 0x047F9170>]],\n",
       "      dtype=object)"
      ]
     },
     "execution_count": 59,
     "metadata": {},
     "output_type": "execute_result"
    },
    {
     "data": {
      "image/png": "[encoded data removed]",
      "text/plain": [
       "<Figure size 432x432 with 4 Axes>"
      ]
     },
     "metadata": {},
     "output_type": "display_data"
    }
   ],
   "source": [
    "df.hist()"
   ]
  },
  {
   "cell_type": "code",
   "execution_count": null,
   "metadata": {},
   "outputs": [],
   "source": []
  }
 ],
 "metadata": {
  "kernelspec": {
   "display_name": "Python 3",
   "language": "python",
   "name": "python3"
  },
  "language_info": {
   "codemirror_mode": {
    "name": "ipython",
    "version": 3
   },
   "file_extension": ".py",
   "mimetype": "text/x-python",
   "name": "python",
   "nbconvert_exporter": "python",
   "pygments_lexer": "ipython3",
   "version": "3.7.0"
  }
 },
 "nbformat": 4,
 "nbformat_minor": 2
}
