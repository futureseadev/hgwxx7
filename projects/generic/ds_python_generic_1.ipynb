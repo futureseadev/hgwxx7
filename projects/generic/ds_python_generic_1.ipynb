{
 "cells": [
  {
   "cell_type": "markdown",
   "metadata": {},
   "source": [
    "# Generic Helpers!!"
   ]
  },
  {
   "cell_type": "code",
   "execution_count": 1,
   "metadata": {},
   "outputs": [],
   "source": [
    "# load libraries\n",
    "\n",
    "import os\n",
    "import gc\n",
    "import re\n",
    "import sys\n",
    "import json\n",
    "import math\n",
    "import pickle                # serializer\n",
    "import urllib                # for url stuff\n",
    "import datetime\n",
    "import numpy as np           # numerical python\n",
    "import pandas as pd          # pandas\n",
    "\n",
    "import seaborn as sns\n",
    "import matplotlib.pyplot as plt\n",
    "import matplotlib.font_manager\n",
    "\n",
    "%matplotlib inline"
   ]
  },
  {
   "cell_type": "code",
   "execution_count": 2,
   "metadata": {},
   "outputs": [],
   "source": [
    "import warnings\n",
    "\n",
    "warnings.filterwarnings('ignore')"
   ]
  },
  {
   "cell_type": "code",
   "execution_count": 3,
   "metadata": {},
   "outputs": [],
   "source": [
    "# subprocess\n",
    "from subprocess import check_output\n"
   ]
  },
  {
   "cell_type": "code",
   "execution_count": 4,
   "metadata": {},
   "outputs": [],
   "source": [
    "# statsmodels\n",
    "from statsmodels.api import OLS"
   ]
  },
  {
   "cell_type": "code",
   "execution_count": 5,
   "metadata": {},
   "outputs": [],
   "source": [
    "# scipy\n",
    "import scipy.stats as st"
   ]
  },
  {
   "cell_type": "code",
   "execution_count": 6,
   "metadata": {},
   "outputs": [
    {
     "name": "stderr",
     "output_type": "stream",
     "text": [
      "c:\\py37\\lib\\site-packages\\sklearn\\ensemble\\weight_boosting.py:29: DeprecationWarning: numpy.core.umath_tests is an internal NumPy module and should not be imported. It will be removed in a future NumPy release.\n",
      "  from numpy.core.umath_tests import inner1d\n"
     ]
    }
   ],
   "source": [
    "# sklearn \n",
    "\n",
    "# preprocessing\n",
    "from sklearn.preprocessing import scale, StandardScaler, MinMaxScaler, MultiLabelBinarizer, RobustScaler\n",
    "from sklearn.preprocessing import Imputer, LabelEncoder, MaxAbsScaler, Normalizer, OneHotEncoder, PolynomialFeatures\n",
    "\n",
    "# model selection\n",
    "from sklearn.model_selection import train_test_split, GridSearchCV\n",
    "from sklearn.model_selection import cross_validate, cross_val_predict, cross_val_score\n",
    "from sklearn.model_selection import KFold, BaseCrossValidator, GroupKFold, GroupShuffleSplit\n",
    "from sklearn.model_selection import RepeatedKFold, RepeatedStratifiedKFold, TimeSeriesSplit\n",
    "from sklearn.model_selection import ShuffleSplit, StratifiedKFold, StratifiedShuffleSplit\n",
    "\n",
    "# decomposition\n",
    "from sklearn.decomposition import PCA, FactorAnalysis, FastICA, KernelPCA, SparsePCA\n",
    "\n",
    "# discriminant analysis\n",
    "from sklearn.discriminant_analysis import LinearDiscriminantAnalysis, QuadraticDiscriminantAnalysis\n",
    "\n",
    "# dummy \n",
    "from sklearn.dummy import DummyRegressor, DummyRegressor\n",
    "\n",
    "# metrics \n",
    "from sklearn.metrics import get_scorer, make_scorer\n",
    "\n",
    "# regression metrics\n",
    "from sklearn.metrics import mean_absolute_error, mean_squared_error, mean_squared_log_error, r2_score\n",
    "\n",
    "# classification metrics\n",
    "from sklearn.metrics import accuracy_score, auc, classification_report, confusion_matrix, f1_score\n",
    "from sklearn.metrics import log_loss, precision_score, recall_score, roc_auc_score, roc_curve, zero_one_loss\n",
    "\n",
    "# cluster\n",
    "from sklearn.metrics import completeness_score, homogeneity_score, consensus_score\n",
    "\n",
    "# pairwise metrics\n",
    "from sklearn.metrics import pairwise\n",
    "\n",
    "# feature extraction\n",
    "from sklearn.feature_extraction import DictVectorizer\n",
    "from sklearn.feature_extraction.text import CountVectorizer, HashingVectorizer, TfidfTransformer, TfidfVectorizer\n",
    "\n",
    "# feature selection\n",
    "from sklearn.feature_selection import chi2, f_classif, SelectPercentile, SelectFromModel, SelectKBest, RFE, RFECV\n",
    "\n",
    "# linear models\n",
    "from sklearn.linear_model import ARDRegression, BayesianRidge, ElasticNet, ElasticNetCV\n",
    "from sklearn.linear_model import Lars, LarsCV, Lasso, LassoCV, LassoLarsCV\n",
    "from sklearn.linear_model import LinearRegression, PassiveAggressiveRegressor\n",
    "from sklearn.linear_model import RANSACRegressor, Ridge, RidgeCV, SGDRegressor, TheilSenRegressor\n",
    "\n",
    "# linear model classifiers\n",
    "from sklearn.linear_model import LogisticRegression, PassiveAggressiveClassifier, RidgeClassifier, RidgeClassifierCV\n",
    "\n",
    "# naive bayes\n",
    "from sklearn.naive_bayes import BernoulliNB, GaussianNB, MultinomialNB\n",
    "\n",
    "# covariance estimators\n",
    "# cross_decomposition\n",
    "# datasets\n",
    "# samples generator\n",
    "\n",
    "# tree\n",
    "from sklearn.tree import DecisionTreeRegressor, ExtraTreeRegressor\n",
    "from sklearn.tree import DecisionTreeClassifier, ExtraTreeClassifier\n",
    "\n",
    "# ensemble\n",
    "from sklearn.ensemble import BaseEnsemble, RandomForestRegressor, RandomForestClassifier\n",
    "from sklearn.ensemble import AdaBoostRegressor, BaggingRegressor, ExtraTreesRegressor, GradientBoostingRegressor\n",
    "from sklearn.ensemble import AdaBoostClassifier, BaggingClassifier, ExtraTreesClassifier, GradientBoostingClassifier\n",
    "\n",
    "# cluster\n",
    "from sklearn.cluster import KMeans, MeanShift, MiniBatchKMeans\n",
    "from sklearn.cluster import AffinityPropagation, AgglomerativeClustering, Birch, FeatureAgglomeration\n",
    "from sklearn.cluster import SpectralBiclustering, SpectralClustering, SpectralCoclustering\n",
    "\n",
    "# neighbors\n",
    "from sklearn.neighbors import KNeighborsClassifier, NearestNeighbors, NearestCentroid\n",
    "from sklearn.neighbors import BallTree, KDTree, RadiusNeighborsClassifier\n",
    "\n",
    "# neighbors regressor\n",
    "from sklearn.neighbors import KNeighborsRegressor, RadiusNeighborsRegressor\n",
    "\n",
    "# SVM\n",
    "from sklearn.svm import SVR, LinearSVR, NuSVR\n",
    "from sklearn.svm import SVC, LinearSVC, NuSVC, OneClassSVM\n",
    "\n",
    "# manifold\n",
    "from sklearn.manifold import TSNE\n",
    "\n",
    "# pipeline\n",
    "from sklearn.pipeline import Pipeline, make_pipeline, make_union, FeatureUnion\n",
    "\n",
    "# multi class\n",
    "from sklearn.multiclass import OneVsOneClassifier, OneVsRestClassifier, OutputCodeClassifier\n",
    "\n",
    "# multi output\n",
    "from sklearn.multioutput import MultiOutputRegressor, MultiOutputClassifier, MultiOutputEstimator\n",
    "\n",
    "# neural nets\n",
    "from sklearn.neural_network import MLPClassifier as mlpc\n",
    "from sklearn.neural_network import MLPRegressor as mlpr\n",
    "\n",
    "#from sklearn.metrics import "
   ]
  },
  {
   "cell_type": "code",
   "execution_count": 7,
   "metadata": {},
   "outputs": [],
   "source": [
    "# xgboost\n",
    "\n",
    "# from xgboost import XGBClassifier"
   ]
  },
  {
   "cell_type": "code",
   "execution_count": 8,
   "metadata": {},
   "outputs": [],
   "source": [
    "# nltk\n",
    "# from nltk.corpus import stopwords\n",
    "# from nltk import word_tokenize as wt\n",
    "# from nltk.classify import SklearnClassifier\n",
    "# from nltk.classify import NaiveBayesClassifier\n",
    "# from nltk.classify import SklearnClassifier\n",
    "\n",
    "# from wordcloud import WordCloud, STOPWORDS"
   ]
  },
  {
   "cell_type": "code",
   "execution_count": null,
   "metadata": {},
   "outputs": [],
   "source": []
  },
  {
   "cell_type": "markdown",
   "metadata": {},
   "source": [
    "### Configs"
   ]
  },
  {
   "cell_type": "code",
   "execution_count": 9,
   "metadata": {},
   "outputs": [],
   "source": [
    "# file details\n",
    "\n",
    "f_directory = 'C:\\\\Py37\\\\py37\\\\visualizer'\n",
    "f_name = 'restaurant-and-market-health-inspections.csv'"
   ]
  },
  {
   "cell_type": "code",
   "execution_count": 10,
   "metadata": {},
   "outputs": [],
   "source": [
    "# use all cores\n",
    "n_jobs = -1\n",
    "\n",
    "# category columns\n",
    "cat_cols = []\n",
    "\n",
    "# numerical columns\n",
    "num_cols = []\n",
    "\n",
    "# define sample and random state\n",
    "n_sample = 20\n",
    "random_state = 43\n",
    "\n",
    "# seed\n",
    "seed = 7\n"
   ]
  },
  {
   "cell_type": "code",
   "execution_count": null,
   "metadata": {},
   "outputs": [],
   "source": []
  },
  {
   "cell_type": "code",
   "execution_count": null,
   "metadata": {},
   "outputs": [],
   "source": []
  },
  {
   "cell_type": "code",
   "execution_count": null,
   "metadata": {},
   "outputs": [],
   "source": []
  },
  {
   "cell_type": "markdown",
   "metadata": {},
   "source": [
    "### Navigating to file location"
   ]
  },
  {
   "cell_type": "code",
   "execution_count": 11,
   "metadata": {},
   "outputs": [
    {
     "data": {
      "text/plain": [
       "['.ipynb_checkpoints',\n",
       " 'deep',\n",
       " 'deep-learning-master',\n",
       " 'ds_python_generic_1.ipynb',\n",
       " 'la_restaurants',\n",
       " 'ml_python_gridsearchcv_1.ipynb',\n",
       " 'python_stack_.ipynb',\n",
       " 'Untitled.ipynb',\n",
       " 'visualizer']"
      ]
     },
     "execution_count": 11,
     "metadata": {},
     "output_type": "execute_result"
    }
   ],
   "source": [
    "os.listdir()"
   ]
  },
  {
   "cell_type": "code",
   "execution_count": 12,
   "metadata": {},
   "outputs": [
    {
     "data": {
      "text/plain": [
       "'C:\\\\py37\\\\py37'"
      ]
     },
     "execution_count": 12,
     "metadata": {},
     "output_type": "execute_result"
    }
   ],
   "source": [
    "os.getcwd()"
   ]
  },
  {
   "cell_type": "code",
   "execution_count": 13,
   "metadata": {},
   "outputs": [],
   "source": [
    "os.chdir(f_directory)"
   ]
  },
  {
   "cell_type": "code",
   "execution_count": 14,
   "metadata": {},
   "outputs": [],
   "source": [
    "# check whether file is present in current directory\n",
    "if not f_name in os.listdir():\n",
    "    sys.exit()"
   ]
  },
  {
   "cell_type": "markdown",
   "metadata": {},
   "source": [
    "##### if file not present in current directory\n",
    "\n",
    "'''\n",
    "An exception has occurred, use %tb to see the full traceback.\n",
    "\n",
    "SystemExit\n",
    "\n",
    "\n",
    "c:\\py37\\lib\\site-packages\\IPython\\core\\interactiveshell.py:2969: UserWarning: To exit: use 'exit', 'quit', or Ctrl-D.\n",
    "  warn(\"To exit: use 'exit', 'quit', or Ctrl-D.\", stacklevel=1)\n",
    "'''"
   ]
  },
  {
   "cell_type": "markdown",
   "metadata": {},
   "source": [
    "## Reading data"
   ]
  },
  {
   "cell_type": "markdown",
   "metadata": {},
   "source": [
    "#### Options while reading data\n",
    "\n",
    "##### json, html, clipboard, excel, hdf, feather, parquet, msgpack, stata, sas, pickle, sql, gbq\n",
    "\n",
    "pd.read_csv(f_name)\n",
    "\n",
    "##### read directly from database using SQL\n",
    "pd.io.sql.read_sql(sql, conn, chunksize=CHUNK_SIZE)\n",
    "\n",
    "##### read from a url\n",
    "pd.read_csv(url, delim_whitespace=True, names=names)\n",
    "\n",
    "1. header=None => first row will be treated as row \n",
    "2. index_col=None or index_col=\"Id\"\n",
    "3. sep=',' | '\\t' | '\\n'\n",
    "4. names=<list of column names>\n",
    "5. na_values = \" ?\" | ' ' | '--' | 'NA'\n",
    "    add new nan values in addition to keep_default_na\n",
    "6. nrows=1000\n",
    "7. low_memory=False\n",
    "8. prefix='c' <adds a prefix to cols>\n",
    "9. mangle_dupe_cols=True\n",
    "10. specify true_values and false_values\n",
    "11. skipinitialspace \n",
    "12. skiprows\n",
    "13. skipfooter\n",
    "14. na_filter=False can improve the performance of reading a large file\n",
    "15. encoding\n",
    "16. chunksize\n",
    "17. delimiter is not required if sep is specified\n",
    "18. engine = c or python\n",
    "19. \n",
    "    "
   ]
  },
  {
   "cell_type": "code",
   "execution_count": 15,
   "metadata": {},
   "outputs": [],
   "source": [
    "# load dataframe\n",
    "df = pd.read_csv(f_name, sep=',', index_col=None, skiprows=None, low_memory=False, encoding='utf-8',\n",
    "                keep_default_na=True, na_values='', na_filter=True, nrows=None, engine='c', chunksize=None)"
   ]
  },
  {
   "cell_type": "code",
   "execution_count": 16,
   "metadata": {},
   "outputs": [
    {
     "data": {
      "text/plain": [
       "58872"
      ]
     },
     "execution_count": 16,
     "metadata": {},
     "output_type": "execute_result"
    }
   ],
   "source": [
    "len(df)"
   ]
  },
  {
   "cell_type": "code",
   "execution_count": 17,
   "metadata": {},
   "outputs": [
    {
     "data": {
      "text/plain": [
       "False"
      ]
     },
     "execution_count": 17,
     "metadata": {},
     "output_type": "execute_result"
    }
   ],
   "source": [
    "# is empty check\n",
    "df.empty"
   ]
  },
  {
   "cell_type": "code",
   "execution_count": 18,
   "metadata": {},
   "outputs": [
    {
     "data": {
      "text/plain": [
       "serial_number            0\n",
       "activity_date            0\n",
       "facility_name            0\n",
       "score                    0\n",
       "grade                    0\n",
       "service_code             0\n",
       "service_description      0\n",
       "employee_id              0\n",
       "facility_address         0\n",
       "facility_city            0\n",
       "facility_id              0\n",
       "facility_state           0\n",
       "facility_zip             0\n",
       "owner_id                 0\n",
       "owner_name               0\n",
       "pe_description           0\n",
       "program_element_pe       0\n",
       "program_name           132\n",
       "program_status           0\n",
       "record_id                0\n",
       "dtype: int64"
      ]
     },
     "execution_count": 18,
     "metadata": {},
     "output_type": "execute_result"
    }
   ],
   "source": [
    "df.isnull().sum()"
   ]
  },
  {
   "cell_type": "markdown",
   "metadata": {},
   "source": [
    "### Missing values - Features"
   ]
  },
  {
   "cell_type": "code",
   "execution_count": 19,
   "metadata": {},
   "outputs": [
    {
     "data": {
      "text/plain": [
       "Text(0.5,1,'Missing Values per Feature')"
      ]
     },
     "execution_count": 19,
     "metadata": {},
     "output_type": "execute_result"
    },
    {
     "data": {
      "image/png": "[encoded data removed]",
      "text/plain": [
       "<Figure size 936x504 with 1 Axes>"
      ]
     },
     "metadata": {},
     "output_type": "display_data"
    }
   ],
   "source": [
    "#the amount of missing values per feature\n",
    "sns.set(rc={'figure.figsize':(13,7)})\n",
    "df.isnull().sum().plot(kind='bar')\n",
    "plt.ylabel('Number of missing values')\n",
    "plt.title('Missing Values per Feature')"
   ]
  },
  {
   "cell_type": "code",
   "execution_count": 20,
   "metadata": {},
   "outputs": [
    {
     "data": {
      "text/plain": [
       "58872"
      ]
     },
     "execution_count": 20,
     "metadata": {},
     "output_type": "execute_result"
    }
   ],
   "source": [
    "len(df)"
   ]
  },
  {
   "cell_type": "code",
   "execution_count": 21,
   "metadata": {},
   "outputs": [
    {
     "data": {
      "text/plain": [
       "20"
      ]
     },
     "execution_count": 21,
     "metadata": {},
     "output_type": "execute_result"
    }
   ],
   "source": [
    "n = len(df.columns)\n",
    "n"
   ]
  },
  {
   "cell_type": "code",
   "execution_count": 22,
   "metadata": {},
   "outputs": [],
   "source": [
    "# display all columns\n",
    "pd.options.display.max_columns = n\n"
   ]
  },
  {
   "cell_type": "code",
   "execution_count": 23,
   "metadata": {},
   "outputs": [
    {
     "data": {
      "text/html": [
       "<div>\n",
       "<style scoped>\n",
       "    .dataframe tbody tr th:only-of-type {\n",
       "        vertical-align: middle;\n",
       "    }\n",
       "\n",
       "    .dataframe tbody tr th {\n",
       "        vertical-align: top;\n",
       "    }\n",
       "\n",
       "    .dataframe thead th {\n",
       "        text-align: right;\n",
       "    }\n",
       "</style>\n",
       "<table border=\"1\" class=\"dataframe\">\n",
       "  <thead>\n",
       "    <tr style=\"text-align: right;\">\n",
       "      <th></th>\n",
       "      <th>serial_number</th>\n",
       "      <th>activity_date</th>\n",
       "      <th>facility_name</th>\n",
       "      <th>score</th>\n",
       "      <th>grade</th>\n",
       "      <th>service_code</th>\n",
       "      <th>service_description</th>\n",
       "      <th>employee_id</th>\n",
       "      <th>facility_address</th>\n",
       "      <th>facility_city</th>\n",
       "      <th>facility_id</th>\n",
       "      <th>facility_state</th>\n",
       "      <th>facility_zip</th>\n",
       "      <th>owner_id</th>\n",
       "      <th>owner_name</th>\n",
       "      <th>pe_description</th>\n",
       "      <th>program_element_pe</th>\n",
       "      <th>program_name</th>\n",
       "      <th>program_status</th>\n",
       "      <th>record_id</th>\n",
       "    </tr>\n",
       "  </thead>\n",
       "  <tbody>\n",
       "    <tr>\n",
       "      <th>40523</th>\n",
       "      <td>DAG2MDZVM</td>\n",
       "      <td>2016-02-24T00:00:00</td>\n",
       "      <td>SUPERIOR WAREHOUSE</td>\n",
       "      <td>93</td>\n",
       "      <td>A</td>\n",
       "      <td>1</td>\n",
       "      <td>ROUTINE INSPECTION</td>\n",
       "      <td>EE0000923</td>\n",
       "      <td>133 W AVENUE 45</td>\n",
       "      <td>LOS ANGELES</td>\n",
       "      <td>FA0050387</td>\n",
       "      <td>CA</td>\n",
       "      <td>90065</td>\n",
       "      <td>OW0034460</td>\n",
       "      <td>SUPER CENTER CONCEPTS, INC</td>\n",
       "      <td>FOOD MKT RETAIL (25-1,999 SF) HIGH RISK</td>\n",
       "      <td>1612</td>\n",
       "      <td>SUPERIOR WAREHOUSE MEAT DEPT</td>\n",
       "      <td>ACTIVE</td>\n",
       "      <td>PR0006472</td>\n",
       "    </tr>\n",
       "    <tr>\n",
       "      <th>7143</th>\n",
       "      <td>DAWUORI8P</td>\n",
       "      <td>2017-08-22T00:00:00</td>\n",
       "      <td>BENITORA</td>\n",
       "      <td>95</td>\n",
       "      <td>A</td>\n",
       "      <td>1</td>\n",
       "      <td>ROUTINE INSPECTION</td>\n",
       "      <td>EE0000684</td>\n",
       "      <td>2002 SAWTELLE BLVD</td>\n",
       "      <td>LOS ANGELES</td>\n",
       "      <td>FA0166877</td>\n",
       "      <td>CA</td>\n",
       "      <td>90025</td>\n",
       "      <td>OW0129965</td>\n",
       "      <td>NATSUKI, INC.</td>\n",
       "      <td>RESTAURANT (31-60) SEATS HIGH RISK</td>\n",
       "      <td>1635</td>\n",
       "      <td>BENITORA</td>\n",
       "      <td>INACTIVE</td>\n",
       "      <td>PR0157211</td>\n",
       "    </tr>\n",
       "    <tr>\n",
       "      <th>42902</th>\n",
       "      <td>DA1K6MJUW</td>\n",
       "      <td>2016-01-20T00:00:00</td>\n",
       "      <td>EXPRESION OAXAQUENA MARKET</td>\n",
       "      <td>92</td>\n",
       "      <td>A</td>\n",
       "      <td>1</td>\n",
       "      <td>ROUTINE INSPECTION</td>\n",
       "      <td>EE0000531</td>\n",
       "      <td>3259 W 8TH ST</td>\n",
       "      <td>LOS ANGELES</td>\n",
       "      <td>FA0022443</td>\n",
       "      <td>CA</td>\n",
       "      <td>90004</td>\n",
       "      <td>OW0012887</td>\n",
       "      <td>GARCOA. ZEFERONO</td>\n",
       "      <td>FOOD MKT RETAIL (25-1,999 SF) HIGH RISK</td>\n",
       "      <td>1612</td>\n",
       "      <td>EXPRESION OAXAQUENA MARKET</td>\n",
       "      <td>ACTIVE</td>\n",
       "      <td>PR0045423</td>\n",
       "    </tr>\n",
       "    <tr>\n",
       "      <th>25084</th>\n",
       "      <td>DABY7OQKX</td>\n",
       "      <td>2016-10-19T00:00:00</td>\n",
       "      <td>RESTAURANTE TIERRA CALIENTE</td>\n",
       "      <td>92</td>\n",
       "      <td>A</td>\n",
       "      <td>1</td>\n",
       "      <td>ROUTINE INSPECTION</td>\n",
       "      <td>EE0000923</td>\n",
       "      <td>1217 CYPRESS AVE</td>\n",
       "      <td>LOS ANGELES</td>\n",
       "      <td>FA0170264</td>\n",
       "      <td>CA</td>\n",
       "      <td>90065</td>\n",
       "      <td>OW0178076</td>\n",
       "      <td>LAURA PIEDRA PINEDA</td>\n",
       "      <td>RESTAURANT (0-30) SEATS HIGH RISK</td>\n",
       "      <td>1632</td>\n",
       "      <td>RESTURANTE TIERRA CALIENTE</td>\n",
       "      <td>ACTIVE</td>\n",
       "      <td>PR0160727</td>\n",
       "    </tr>\n",
       "    <tr>\n",
       "      <th>48688</th>\n",
       "      <td>DA8ABLGWT</td>\n",
       "      <td>2015-10-13T00:00:00</td>\n",
       "      <td>MAMA JOAN'S SOUL FOOD</td>\n",
       "      <td>90</td>\n",
       "      <td>A</td>\n",
       "      <td>1</td>\n",
       "      <td>ROUTINE INSPECTION</td>\n",
       "      <td>EE0000955</td>\n",
       "      <td>5496 W CENTINELA AVE</td>\n",
       "      <td>LOS ANGELES</td>\n",
       "      <td>FA0137942</td>\n",
       "      <td>CA</td>\n",
       "      <td>90045</td>\n",
       "      <td>OW0101314</td>\n",
       "      <td>MARTIN, JOAN ALISA</td>\n",
       "      <td>RESTAURANT (31-60) SEATS HIGH RISK</td>\n",
       "      <td>1635</td>\n",
       "      <td>MAMA JOAN'S SOUL FOOD</td>\n",
       "      <td>ACTIVE</td>\n",
       "      <td>PR0122150</td>\n",
       "    </tr>\n",
       "    <tr>\n",
       "      <th>40455</th>\n",
       "      <td>DA2HZUULM</td>\n",
       "      <td>2016-02-25T00:00:00</td>\n",
       "      <td>THE GLENDON BAR AND KITCHEN</td>\n",
       "      <td>90</td>\n",
       "      <td>A</td>\n",
       "      <td>1</td>\n",
       "      <td>ROUTINE INSPECTION</td>\n",
       "      <td>EE0000911</td>\n",
       "      <td>1071 S GLENDON AVE</td>\n",
       "      <td>LOS ANGELES</td>\n",
       "      <td>FA0072279</td>\n",
       "      <td>CA</td>\n",
       "      <td>90024</td>\n",
       "      <td>OW0013346</td>\n",
       "      <td>GLENDON CONCEPTS, LLC</td>\n",
       "      <td>RESTAURANT (61-150) SEATS HIGH RISK</td>\n",
       "      <td>1638</td>\n",
       "      <td>THE GLENDON BAR AND KITCHEN</td>\n",
       "      <td>INACTIVE</td>\n",
       "      <td>PR0040023</td>\n",
       "    </tr>\n",
       "    <tr>\n",
       "      <th>58525</th>\n",
       "      <td>DA86DUD0Y</td>\n",
       "      <td>2018-01-05T00:00:00</td>\n",
       "      <td>BLUE BOTTLE COFFEE</td>\n",
       "      <td>98</td>\n",
       "      <td>A</td>\n",
       "      <td>1</td>\n",
       "      <td>ROUTINE INSPECTION</td>\n",
       "      <td>EE0000846</td>\n",
       "      <td>2066 HILHURST AVE</td>\n",
       "      <td>LOS ANGELES</td>\n",
       "      <td>FA0247752</td>\n",
       "      <td>CA</td>\n",
       "      <td>90027</td>\n",
       "      <td>OW0128216</td>\n",
       "      <td>BLUE BOTTLE COFFEE INC</td>\n",
       "      <td>RESTAURANT (0-30) SEATS LOW RISK</td>\n",
       "      <td>1630</td>\n",
       "      <td>BLUE BOTTLE COFFEE</td>\n",
       "      <td>ACTIVE</td>\n",
       "      <td>PR0196385</td>\n",
       "    </tr>\n",
       "  </tbody>\n",
       "</table>\n",
       "</div>"
      ],
      "text/plain": [
       "      serial_number        activity_date                facility_name  score  \\\n",
       "40523     DAG2MDZVM  2016-02-24T00:00:00           SUPERIOR WAREHOUSE     93   \n",
       "7143      DAWUORI8P  2017-08-22T00:00:00                     BENITORA     95   \n",
       "42902     DA1K6MJUW  2016-01-20T00:00:00   EXPRESION OAXAQUENA MARKET     92   \n",
       "25084     DABY7OQKX  2016-10-19T00:00:00  RESTAURANTE TIERRA CALIENTE     92   \n",
       "48688     DA8ABLGWT  2015-10-13T00:00:00        MAMA JOAN'S SOUL FOOD     90   \n",
       "40455     DA2HZUULM  2016-02-25T00:00:00  THE GLENDON BAR AND KITCHEN     90   \n",
       "58525     DA86DUD0Y  2018-01-05T00:00:00           BLUE BOTTLE COFFEE     98   \n",
       "\n",
       "      grade  service_code service_description employee_id  \\\n",
       "40523     A             1  ROUTINE INSPECTION   EE0000923   \n",
       "7143      A             1  ROUTINE INSPECTION   EE0000684   \n",
       "42902     A             1  ROUTINE INSPECTION   EE0000531   \n",
       "25084     A             1  ROUTINE INSPECTION   EE0000923   \n",
       "48688     A             1  ROUTINE INSPECTION   EE0000955   \n",
       "40455     A             1  ROUTINE INSPECTION   EE0000911   \n",
       "58525     A             1  ROUTINE INSPECTION   EE0000846   \n",
       "\n",
       "           facility_address facility_city facility_id facility_state  \\\n",
       "40523       133 W AVENUE 45   LOS ANGELES   FA0050387             CA   \n",
       "7143     2002 SAWTELLE BLVD   LOS ANGELES   FA0166877             CA   \n",
       "42902         3259 W 8TH ST   LOS ANGELES   FA0022443             CA   \n",
       "25084      1217 CYPRESS AVE   LOS ANGELES   FA0170264             CA   \n",
       "48688  5496 W CENTINELA AVE   LOS ANGELES   FA0137942             CA   \n",
       "40455    1071 S GLENDON AVE   LOS ANGELES   FA0072279             CA   \n",
       "58525     2066 HILHURST AVE   LOS ANGELES   FA0247752             CA   \n",
       "\n",
       "      facility_zip   owner_id                  owner_name  \\\n",
       "40523        90065  OW0034460  SUPER CENTER CONCEPTS, INC   \n",
       "7143         90025  OW0129965               NATSUKI, INC.   \n",
       "42902        90004  OW0012887            GARCOA. ZEFERONO   \n",
       "25084        90065  OW0178076         LAURA PIEDRA PINEDA   \n",
       "48688        90045  OW0101314          MARTIN, JOAN ALISA   \n",
       "40455        90024  OW0013346       GLENDON CONCEPTS, LLC   \n",
       "58525        90027  OW0128216      BLUE BOTTLE COFFEE INC   \n",
       "\n",
       "                                pe_description  program_element_pe  \\\n",
       "40523  FOOD MKT RETAIL (25-1,999 SF) HIGH RISK                1612   \n",
       "7143        RESTAURANT (31-60) SEATS HIGH RISK                1635   \n",
       "42902  FOOD MKT RETAIL (25-1,999 SF) HIGH RISK                1612   \n",
       "25084        RESTAURANT (0-30) SEATS HIGH RISK                1632   \n",
       "48688       RESTAURANT (31-60) SEATS HIGH RISK                1635   \n",
       "40455      RESTAURANT (61-150) SEATS HIGH RISK                1638   \n",
       "58525         RESTAURANT (0-30) SEATS LOW RISK                1630   \n",
       "\n",
       "                       program_name program_status  record_id  \n",
       "40523  SUPERIOR WAREHOUSE MEAT DEPT         ACTIVE  PR0006472  \n",
       "7143                       BENITORA       INACTIVE  PR0157211  \n",
       "42902    EXPRESION OAXAQUENA MARKET         ACTIVE  PR0045423  \n",
       "25084    RESTURANTE TIERRA CALIENTE         ACTIVE  PR0160727  \n",
       "48688         MAMA JOAN'S SOUL FOOD         ACTIVE  PR0122150  \n",
       "40455   THE GLENDON BAR AND KITCHEN       INACTIVE  PR0040023  \n",
       "58525            BLUE BOTTLE COFFEE         ACTIVE  PR0196385  "
      ]
     },
     "execution_count": 23,
     "metadata": {},
     "output_type": "execute_result"
    }
   ],
   "source": [
    "df.sample(7).head(7)"
   ]
  },
  {
   "cell_type": "code",
   "execution_count": 24,
   "metadata": {},
   "outputs": [
    {
     "name": "stdout",
     "output_type": "stream",
     "text": [
      "<class 'pandas.core.frame.DataFrame'>\n",
      "RangeIndex: 58872 entries, 0 to 58871\n",
      "Data columns (total 20 columns):\n",
      "serial_number          58872 non-null object\n",
      "activity_date          58872 non-null object\n",
      "facility_name          58872 non-null object\n",
      "score                  58872 non-null int64\n",
      "grade                  58872 non-null object\n",
      "service_code           58872 non-null int64\n",
      "service_description    58872 non-null object\n",
      "employee_id            58872 non-null object\n",
      "facility_address       58872 non-null object\n",
      "facility_city          58872 non-null object\n",
      "facility_id            58872 non-null object\n",
      "facility_state         58872 non-null object\n",
      "facility_zip           58872 non-null object\n",
      "owner_id               58872 non-null object\n",
      "owner_name             58872 non-null object\n",
      "pe_description         58872 non-null object\n",
      "program_element_pe     58872 non-null int64\n",
      "program_name           58740 non-null object\n",
      "program_status         58872 non-null object\n",
      "record_id              58872 non-null object\n",
      "dtypes: int64(3), object(17)\n",
      "memory usage: 5.2+ MB\n"
     ]
    }
   ],
   "source": [
    "df.info()"
   ]
  },
  {
   "cell_type": "code",
   "execution_count": 25,
   "metadata": {},
   "outputs": [
    {
     "data": {
      "text/plain": [
       "serial_number          object\n",
       "activity_date          object\n",
       "facility_name          object\n",
       "score                   int64\n",
       "grade                  object\n",
       "service_code            int64\n",
       "service_description    object\n",
       "employee_id            object\n",
       "facility_address       object\n",
       "facility_city          object\n",
       "facility_id            object\n",
       "facility_state         object\n",
       "facility_zip           object\n",
       "owner_id               object\n",
       "owner_name             object\n",
       "pe_description         object\n",
       "program_element_pe      int64\n",
       "program_name           object\n",
       "program_status         object\n",
       "record_id              object\n",
       "dtype: object"
      ]
     },
     "execution_count": 25,
     "metadata": {},
     "output_type": "execute_result"
    }
   ],
   "source": [
    "df.dtypes"
   ]
  },
  {
   "cell_type": "code",
   "execution_count": 26,
   "metadata": {},
   "outputs": [
    {
     "data": {
      "text/html": [
       "<div>\n",
       "<style scoped>\n",
       "    .dataframe tbody tr th:only-of-type {\n",
       "        vertical-align: middle;\n",
       "    }\n",
       "\n",
       "    .dataframe tbody tr th {\n",
       "        vertical-align: top;\n",
       "    }\n",
       "\n",
       "    .dataframe thead th {\n",
       "        text-align: right;\n",
       "    }\n",
       "</style>\n",
       "<table border=\"1\" class=\"dataframe\">\n",
       "  <thead>\n",
       "    <tr style=\"text-align: right;\">\n",
       "      <th></th>\n",
       "      <th>score</th>\n",
       "      <th>service_code</th>\n",
       "      <th>program_element_pe</th>\n",
       "    </tr>\n",
       "  </thead>\n",
       "  <tbody>\n",
       "    <tr>\n",
       "      <th>count</th>\n",
       "      <td>58872.000000</td>\n",
       "      <td>58872.000000</td>\n",
       "      <td>58872.000000</td>\n",
       "    </tr>\n",
       "    <tr>\n",
       "      <th>mean</th>\n",
       "      <td>93.307922</td>\n",
       "      <td>7.733252</td>\n",
       "      <td>1629.489282</td>\n",
       "    </tr>\n",
       "    <tr>\n",
       "      <th>std</th>\n",
       "      <td>3.996712</td>\n",
       "      <td>51.458809</td>\n",
       "      <td>9.397450</td>\n",
       "    </tr>\n",
       "    <tr>\n",
       "      <th>min</th>\n",
       "      <td>64.000000</td>\n",
       "      <td>1.000000</td>\n",
       "      <td>1610.000000</td>\n",
       "    </tr>\n",
       "    <tr>\n",
       "      <th>25%</th>\n",
       "      <td>91.000000</td>\n",
       "      <td>1.000000</td>\n",
       "      <td>1631.000000</td>\n",
       "    </tr>\n",
       "    <tr>\n",
       "      <th>50%</th>\n",
       "      <td>94.000000</td>\n",
       "      <td>1.000000</td>\n",
       "      <td>1632.000000</td>\n",
       "    </tr>\n",
       "    <tr>\n",
       "      <th>75%</th>\n",
       "      <td>96.000000</td>\n",
       "      <td>1.000000</td>\n",
       "      <td>1635.000000</td>\n",
       "    </tr>\n",
       "    <tr>\n",
       "      <th>max</th>\n",
       "      <td>100.000000</td>\n",
       "      <td>401.000000</td>\n",
       "      <td>1641.000000</td>\n",
       "    </tr>\n",
       "  </tbody>\n",
       "</table>\n",
       "</div>"
      ],
      "text/plain": [
       "              score  service_code  program_element_pe\n",
       "count  58872.000000  58872.000000        58872.000000\n",
       "mean      93.307922      7.733252         1629.489282\n",
       "std        3.996712     51.458809            9.397450\n",
       "min       64.000000      1.000000         1610.000000\n",
       "25%       91.000000      1.000000         1631.000000\n",
       "50%       94.000000      1.000000         1632.000000\n",
       "75%       96.000000      1.000000         1635.000000\n",
       "max      100.000000    401.000000         1641.000000"
      ]
     },
     "execution_count": 26,
     "metadata": {},
     "output_type": "execute_result"
    }
   ],
   "source": [
    "df.describe()"
   ]
  },
  {
   "cell_type": "code",
   "execution_count": 27,
   "metadata": {},
   "outputs": [
    {
     "data": {
      "text/html": [
       "<div>\n",
       "<style scoped>\n",
       "    .dataframe tbody tr th:only-of-type {\n",
       "        vertical-align: middle;\n",
       "    }\n",
       "\n",
       "    .dataframe tbody tr th {\n",
       "        vertical-align: top;\n",
       "    }\n",
       "\n",
       "    .dataframe thead th {\n",
       "        text-align: right;\n",
       "    }\n",
       "</style>\n",
       "<table border=\"1\" class=\"dataframe\">\n",
       "  <thead>\n",
       "    <tr style=\"text-align: right;\">\n",
       "      <th></th>\n",
       "      <th>serial_number</th>\n",
       "      <th>activity_date</th>\n",
       "      <th>facility_name</th>\n",
       "      <th>score</th>\n",
       "      <th>grade</th>\n",
       "      <th>service_code</th>\n",
       "      <th>service_description</th>\n",
       "      <th>employee_id</th>\n",
       "      <th>facility_address</th>\n",
       "      <th>facility_city</th>\n",
       "      <th>facility_id</th>\n",
       "      <th>facility_state</th>\n",
       "      <th>facility_zip</th>\n",
       "      <th>owner_id</th>\n",
       "      <th>owner_name</th>\n",
       "      <th>pe_description</th>\n",
       "      <th>program_element_pe</th>\n",
       "      <th>program_name</th>\n",
       "      <th>program_status</th>\n",
       "      <th>record_id</th>\n",
       "    </tr>\n",
       "  </thead>\n",
       "  <tbody>\n",
       "    <tr>\n",
       "      <th>count</th>\n",
       "      <td>58872</td>\n",
       "      <td>58872</td>\n",
       "      <td>58872</td>\n",
       "      <td>58872.000000</td>\n",
       "      <td>58872</td>\n",
       "      <td>58872.000000</td>\n",
       "      <td>58872</td>\n",
       "      <td>58872</td>\n",
       "      <td>58872</td>\n",
       "      <td>58872</td>\n",
       "      <td>58872</td>\n",
       "      <td>58872</td>\n",
       "      <td>58872</td>\n",
       "      <td>58872</td>\n",
       "      <td>58872</td>\n",
       "      <td>58872</td>\n",
       "      <td>58872.000000</td>\n",
       "      <td>58740</td>\n",
       "      <td>58872</td>\n",
       "      <td>58872</td>\n",
       "    </tr>\n",
       "    <tr>\n",
       "      <th>unique</th>\n",
       "      <td>58872</td>\n",
       "      <td>767</td>\n",
       "      <td>11681</td>\n",
       "      <td>NaN</td>\n",
       "      <td>4</td>\n",
       "      <td>NaN</td>\n",
       "      <td>2</td>\n",
       "      <td>129</td>\n",
       "      <td>11537</td>\n",
       "      <td>1</td>\n",
       "      <td>13093</td>\n",
       "      <td>1</td>\n",
       "      <td>952</td>\n",
       "      <td>11389</td>\n",
       "      <td>11165</td>\n",
       "      <td>18</td>\n",
       "      <td>NaN</td>\n",
       "      <td>12446</td>\n",
       "      <td>2</td>\n",
       "      <td>14066</td>\n",
       "    </tr>\n",
       "    <tr>\n",
       "      <th>top</th>\n",
       "      <td>DARPY0PUY</td>\n",
       "      <td>2016-03-07T00:00:00</td>\n",
       "      <td>DODGER STADIUM</td>\n",
       "      <td>NaN</td>\n",
       "      <td>A</td>\n",
       "      <td>NaN</td>\n",
       "      <td>ROUTINE INSPECTION</td>\n",
       "      <td>EE0000721</td>\n",
       "      <td>1000 VIN SCULLY AVE</td>\n",
       "      <td>LOS ANGELES</td>\n",
       "      <td>FA0019271</td>\n",
       "      <td>CA</td>\n",
       "      <td>90012</td>\n",
       "      <td>OW0029458</td>\n",
       "      <td>RALPHS GROCERY COMPANY</td>\n",
       "      <td>RESTAURANT (0-30) SEATS HIGH RISK</td>\n",
       "      <td>NaN</td>\n",
       "      <td>SUBWAY</td>\n",
       "      <td>ACTIVE</td>\n",
       "      <td>PR0009104</td>\n",
       "    </tr>\n",
       "    <tr>\n",
       "      <th>freq</th>\n",
       "      <td>1</td>\n",
       "      <td>182</td>\n",
       "      <td>380</td>\n",
       "      <td>NaN</td>\n",
       "      <td>54904</td>\n",
       "      <td>NaN</td>\n",
       "      <td>57881</td>\n",
       "      <td>4313</td>\n",
       "      <td>383</td>\n",
       "      <td>58872</td>\n",
       "      <td>380</td>\n",
       "      <td>58872</td>\n",
       "      <td>2266</td>\n",
       "      <td>557</td>\n",
       "      <td>557</td>\n",
       "      <td>13735</td>\n",
       "      <td>NaN</td>\n",
       "      <td>154</td>\n",
       "      <td>52040</td>\n",
       "      <td>10</td>\n",
       "    </tr>\n",
       "    <tr>\n",
       "      <th>mean</th>\n",
       "      <td>NaN</td>\n",
       "      <td>NaN</td>\n",
       "      <td>NaN</td>\n",
       "      <td>93.307922</td>\n",
       "      <td>NaN</td>\n",
       "      <td>7.733252</td>\n",
       "      <td>NaN</td>\n",
       "      <td>NaN</td>\n",
       "      <td>NaN</td>\n",
       "      <td>NaN</td>\n",
       "      <td>NaN</td>\n",
       "      <td>NaN</td>\n",
       "      <td>NaN</td>\n",
       "      <td>NaN</td>\n",
       "      <td>NaN</td>\n",
       "      <td>NaN</td>\n",
       "      <td>1629.489282</td>\n",
       "      <td>NaN</td>\n",
       "      <td>NaN</td>\n",
       "      <td>NaN</td>\n",
       "    </tr>\n",
       "    <tr>\n",
       "      <th>std</th>\n",
       "      <td>NaN</td>\n",
       "      <td>NaN</td>\n",
       "      <td>NaN</td>\n",
       "      <td>3.996712</td>\n",
       "      <td>NaN</td>\n",
       "      <td>51.458809</td>\n",
       "      <td>NaN</td>\n",
       "      <td>NaN</td>\n",
       "      <td>NaN</td>\n",
       "      <td>NaN</td>\n",
       "      <td>NaN</td>\n",
       "      <td>NaN</td>\n",
       "      <td>NaN</td>\n",
       "      <td>NaN</td>\n",
       "      <td>NaN</td>\n",
       "      <td>NaN</td>\n",
       "      <td>9.397450</td>\n",
       "      <td>NaN</td>\n",
       "      <td>NaN</td>\n",
       "      <td>NaN</td>\n",
       "    </tr>\n",
       "    <tr>\n",
       "      <th>min</th>\n",
       "      <td>NaN</td>\n",
       "      <td>NaN</td>\n",
       "      <td>NaN</td>\n",
       "      <td>64.000000</td>\n",
       "      <td>NaN</td>\n",
       "      <td>1.000000</td>\n",
       "      <td>NaN</td>\n",
       "      <td>NaN</td>\n",
       "      <td>NaN</td>\n",
       "      <td>NaN</td>\n",
       "      <td>NaN</td>\n",
       "      <td>NaN</td>\n",
       "      <td>NaN</td>\n",
       "      <td>NaN</td>\n",
       "      <td>NaN</td>\n",
       "      <td>NaN</td>\n",
       "      <td>1610.000000</td>\n",
       "      <td>NaN</td>\n",
       "      <td>NaN</td>\n",
       "      <td>NaN</td>\n",
       "    </tr>\n",
       "    <tr>\n",
       "      <th>25%</th>\n",
       "      <td>NaN</td>\n",
       "      <td>NaN</td>\n",
       "      <td>NaN</td>\n",
       "      <td>91.000000</td>\n",
       "      <td>NaN</td>\n",
       "      <td>1.000000</td>\n",
       "      <td>NaN</td>\n",
       "      <td>NaN</td>\n",
       "      <td>NaN</td>\n",
       "      <td>NaN</td>\n",
       "      <td>NaN</td>\n",
       "      <td>NaN</td>\n",
       "      <td>NaN</td>\n",
       "      <td>NaN</td>\n",
       "      <td>NaN</td>\n",
       "      <td>NaN</td>\n",
       "      <td>1631.000000</td>\n",
       "      <td>NaN</td>\n",
       "      <td>NaN</td>\n",
       "      <td>NaN</td>\n",
       "    </tr>\n",
       "    <tr>\n",
       "      <th>50%</th>\n",
       "      <td>NaN</td>\n",
       "      <td>NaN</td>\n",
       "      <td>NaN</td>\n",
       "      <td>94.000000</td>\n",
       "      <td>NaN</td>\n",
       "      <td>1.000000</td>\n",
       "      <td>NaN</td>\n",
       "      <td>NaN</td>\n",
       "      <td>NaN</td>\n",
       "      <td>NaN</td>\n",
       "      <td>NaN</td>\n",
       "      <td>NaN</td>\n",
       "      <td>NaN</td>\n",
       "      <td>NaN</td>\n",
       "      <td>NaN</td>\n",
       "      <td>NaN</td>\n",
       "      <td>1632.000000</td>\n",
       "      <td>NaN</td>\n",
       "      <td>NaN</td>\n",
       "      <td>NaN</td>\n",
       "    </tr>\n",
       "    <tr>\n",
       "      <th>75%</th>\n",
       "      <td>NaN</td>\n",
       "      <td>NaN</td>\n",
       "      <td>NaN</td>\n",
       "      <td>96.000000</td>\n",
       "      <td>NaN</td>\n",
       "      <td>1.000000</td>\n",
       "      <td>NaN</td>\n",
       "      <td>NaN</td>\n",
       "      <td>NaN</td>\n",
       "      <td>NaN</td>\n",
       "      <td>NaN</td>\n",
       "      <td>NaN</td>\n",
       "      <td>NaN</td>\n",
       "      <td>NaN</td>\n",
       "      <td>NaN</td>\n",
       "      <td>NaN</td>\n",
       "      <td>1635.000000</td>\n",
       "      <td>NaN</td>\n",
       "      <td>NaN</td>\n",
       "      <td>NaN</td>\n",
       "    </tr>\n",
       "    <tr>\n",
       "      <th>max</th>\n",
       "      <td>NaN</td>\n",
       "      <td>NaN</td>\n",
       "      <td>NaN</td>\n",
       "      <td>100.000000</td>\n",
       "      <td>NaN</td>\n",
       "      <td>401.000000</td>\n",
       "      <td>NaN</td>\n",
       "      <td>NaN</td>\n",
       "      <td>NaN</td>\n",
       "      <td>NaN</td>\n",
       "      <td>NaN</td>\n",
       "      <td>NaN</td>\n",
       "      <td>NaN</td>\n",
       "      <td>NaN</td>\n",
       "      <td>NaN</td>\n",
       "      <td>NaN</td>\n",
       "      <td>1641.000000</td>\n",
       "      <td>NaN</td>\n",
       "      <td>NaN</td>\n",
       "      <td>NaN</td>\n",
       "    </tr>\n",
       "  </tbody>\n",
       "</table>\n",
       "</div>"
      ],
      "text/plain": [
       "       serial_number        activity_date   facility_name         score  \\\n",
       "count          58872                58872           58872  58872.000000   \n",
       "unique         58872                  767           11681           NaN   \n",
       "top        DARPY0PUY  2016-03-07T00:00:00  DODGER STADIUM           NaN   \n",
       "freq               1                  182             380           NaN   \n",
       "mean             NaN                  NaN             NaN     93.307922   \n",
       "std              NaN                  NaN             NaN      3.996712   \n",
       "min              NaN                  NaN             NaN     64.000000   \n",
       "25%              NaN                  NaN             NaN     91.000000   \n",
       "50%              NaN                  NaN             NaN     94.000000   \n",
       "75%              NaN                  NaN             NaN     96.000000   \n",
       "max              NaN                  NaN             NaN    100.000000   \n",
       "\n",
       "        grade  service_code service_description employee_id  \\\n",
       "count   58872  58872.000000               58872       58872   \n",
       "unique      4           NaN                   2         129   \n",
       "top         A           NaN  ROUTINE INSPECTION   EE0000721   \n",
       "freq    54904           NaN               57881        4313   \n",
       "mean      NaN      7.733252                 NaN         NaN   \n",
       "std       NaN     51.458809                 NaN         NaN   \n",
       "min       NaN      1.000000                 NaN         NaN   \n",
       "25%       NaN      1.000000                 NaN         NaN   \n",
       "50%       NaN      1.000000                 NaN         NaN   \n",
       "75%       NaN      1.000000                 NaN         NaN   \n",
       "max       NaN    401.000000                 NaN         NaN   \n",
       "\n",
       "           facility_address facility_city facility_id facility_state  \\\n",
       "count                 58872         58872       58872          58872   \n",
       "unique                11537             1       13093              1   \n",
       "top     1000 VIN SCULLY AVE   LOS ANGELES   FA0019271             CA   \n",
       "freq                    383         58872         380          58872   \n",
       "mean                    NaN           NaN         NaN            NaN   \n",
       "std                     NaN           NaN         NaN            NaN   \n",
       "min                     NaN           NaN         NaN            NaN   \n",
       "25%                     NaN           NaN         NaN            NaN   \n",
       "50%                     NaN           NaN         NaN            NaN   \n",
       "75%                     NaN           NaN         NaN            NaN   \n",
       "max                     NaN           NaN         NaN            NaN   \n",
       "\n",
       "       facility_zip   owner_id              owner_name  \\\n",
       "count         58872      58872                   58872   \n",
       "unique          952      11389                   11165   \n",
       "top           90012  OW0029458  RALPHS GROCERY COMPANY   \n",
       "freq           2266        557                     557   \n",
       "mean            NaN        NaN                     NaN   \n",
       "std             NaN        NaN                     NaN   \n",
       "min             NaN        NaN                     NaN   \n",
       "25%             NaN        NaN                     NaN   \n",
       "50%             NaN        NaN                     NaN   \n",
       "75%             NaN        NaN                     NaN   \n",
       "max             NaN        NaN                     NaN   \n",
       "\n",
       "                           pe_description  program_element_pe program_name  \\\n",
       "count                               58872        58872.000000        58740   \n",
       "unique                                 18                 NaN        12446   \n",
       "top     RESTAURANT (0-30) SEATS HIGH RISK                 NaN       SUBWAY   \n",
       "freq                                13735                 NaN          154   \n",
       "mean                                  NaN         1629.489282          NaN   \n",
       "std                                   NaN            9.397450          NaN   \n",
       "min                                   NaN         1610.000000          NaN   \n",
       "25%                                   NaN         1631.000000          NaN   \n",
       "50%                                   NaN         1632.000000          NaN   \n",
       "75%                                   NaN         1635.000000          NaN   \n",
       "max                                   NaN         1641.000000          NaN   \n",
       "\n",
       "       program_status  record_id  \n",
       "count           58872      58872  \n",
       "unique              2      14066  \n",
       "top            ACTIVE  PR0009104  \n",
       "freq            52040         10  \n",
       "mean              NaN        NaN  \n",
       "std               NaN        NaN  \n",
       "min               NaN        NaN  \n",
       "25%               NaN        NaN  \n",
       "50%               NaN        NaN  \n",
       "75%               NaN        NaN  \n",
       "max               NaN        NaN  "
      ]
     },
     "execution_count": 27,
     "metadata": {},
     "output_type": "execute_result"
    }
   ],
   "source": [
    "df.describe(include='all')"
   ]
  },
  {
   "cell_type": "code",
   "execution_count": 28,
   "metadata": {},
   "outputs": [
    {
     "data": {
      "text/plain": [
       "['serial_number',\n",
       " 'activity_date',\n",
       " 'facility_name',\n",
       " 'score',\n",
       " 'grade',\n",
       " 'service_code',\n",
       " 'service_description',\n",
       " 'employee_id',\n",
       " 'facility_address',\n",
       " 'facility_city',\n",
       " 'facility_id',\n",
       " 'facility_state',\n",
       " 'facility_zip',\n",
       " 'owner_id',\n",
       " 'owner_name',\n",
       " 'pe_description',\n",
       " 'program_element_pe',\n",
       " 'program_name',\n",
       " 'program_status',\n",
       " 'record_id']"
      ]
     },
     "execution_count": 28,
     "metadata": {},
     "output_type": "execute_result"
    }
   ],
   "source": [
    "columns = list(df.columns)\n",
    "columns"
   ]
  },
  {
   "cell_type": "markdown",
   "metadata": {},
   "source": [
    "### Get columns by type"
   ]
  },
  {
   "cell_type": "code",
   "execution_count": 29,
   "metadata": {},
   "outputs": [],
   "source": [
    "# can be date, bool, int, float, object types"
   ]
  },
  {
   "cell_type": "code",
   "execution_count": 30,
   "metadata": {
    "scrolled": false
   },
   "outputs": [],
   "source": [
    "cat_cols = df.select_dtypes(include=['object'])"
   ]
  },
  {
   "cell_type": "code",
   "execution_count": 31,
   "metadata": {},
   "outputs": [
    {
     "data": {
      "text/plain": [
       "['serial_number',\n",
       " 'activity_date',\n",
       " 'facility_name',\n",
       " 'grade',\n",
       " 'service_description',\n",
       " 'employee_id',\n",
       " 'facility_address',\n",
       " 'facility_city',\n",
       " 'facility_id',\n",
       " 'facility_state',\n",
       " 'facility_zip',\n",
       " 'owner_id',\n",
       " 'owner_name',\n",
       " 'pe_description',\n",
       " 'program_name',\n",
       " 'program_status',\n",
       " 'record_id']"
      ]
     },
     "execution_count": 31,
     "metadata": {},
     "output_type": "execute_result"
    }
   ],
   "source": [
    "cat_cols = list(cat_cols)\n",
    "cat_cols"
   ]
  },
  {
   "cell_type": "code",
   "execution_count": 32,
   "metadata": {},
   "outputs": [
    {
     "data": {
      "text/plain": [
       "Series([], dtype: object)"
      ]
     },
     "execution_count": 32,
     "metadata": {},
     "output_type": "execute_result"
    }
   ],
   "source": [
    "df.select_dtypes(include=['category']).dtypes"
   ]
  },
  {
   "cell_type": "code",
   "execution_count": 33,
   "metadata": {},
   "outputs": [
    {
     "data": {
      "text/plain": [
       "Series([], dtype: object)"
      ]
     },
     "execution_count": 33,
     "metadata": {},
     "output_type": "execute_result"
    }
   ],
   "source": [
    "# float\n",
    "df.select_dtypes(include=['float']).dtypes"
   ]
  },
  {
   "cell_type": "code",
   "execution_count": 34,
   "metadata": {},
   "outputs": [
    {
     "data": {
      "text/plain": [
       "score                 int64\n",
       "service_code          int64\n",
       "program_element_pe    int64\n",
       "dtype: object"
      ]
     },
     "execution_count": 34,
     "metadata": {},
     "output_type": "execute_result"
    }
   ],
   "source": [
    "df.select_dtypes(include=['int64']).dtypes"
   ]
  },
  {
   "cell_type": "markdown",
   "metadata": {},
   "source": [
    "### Convert numeric columns which are of object type"
   ]
  },
  {
   "cell_type": "code",
   "execution_count": 35,
   "metadata": {},
   "outputs": [],
   "source": [
    "# if there are any columns which has numeric data\n",
    "# but of category as object, then identify those and\n",
    "# convert them to numeric using pd.to_numeric()"
   ]
  },
  {
   "cell_type": "code",
   "execution_count": 36,
   "metadata": {},
   "outputs": [
    {
     "data": {
      "text/plain": [
       "Index(['score', 'service_code', 'program_element_pe'], dtype='object')"
      ]
     },
     "execution_count": 36,
     "metadata": {},
     "output_type": "execute_result"
    }
   ],
   "source": [
    "num_cols = df._get_numeric_data().columns\n",
    "num_cols"
   ]
  },
  {
   "cell_type": "code",
   "execution_count": 37,
   "metadata": {},
   "outputs": [
    {
     "data": {
      "text/plain": [
       "['score', 'service_code', 'program_element_pe']"
      ]
     },
     "execution_count": 37,
     "metadata": {},
     "output_type": "execute_result"
    }
   ],
   "source": [
    "num_cols = list(num_cols)\n",
    "num_cols"
   ]
  },
  {
   "cell_type": "code",
   "execution_count": 38,
   "metadata": {},
   "outputs": [],
   "source": [
    "df[num_cols] = df[num_cols].apply(pd.to_numeric)"
   ]
  },
  {
   "cell_type": "code",
   "execution_count": 39,
   "metadata": {},
   "outputs": [
    {
     "data": {
      "text/plain": [
       "score                 int64\n",
       "service_code          int64\n",
       "program_element_pe    int64\n",
       "dtype: object"
      ]
     },
     "execution_count": 39,
     "metadata": {},
     "output_type": "execute_result"
    }
   ],
   "source": [
    "df[num_cols].dtypes"
   ]
  },
  {
   "cell_type": "code",
   "execution_count": 40,
   "metadata": {},
   "outputs": [
    {
     "data": {
      "text/plain": [
       "198"
      ]
     },
     "execution_count": 40,
     "metadata": {},
     "output_type": "execute_result"
    }
   ],
   "source": [
    "gc.collect()"
   ]
  },
  {
   "cell_type": "markdown",
   "metadata": {},
   "source": [
    "### Date columns "
   ]
  },
  {
   "cell_type": "code",
   "execution_count": 41,
   "metadata": {},
   "outputs": [],
   "source": [
    "# df[\"Date\"] = pd.to_datetime(df[\"Date\"], dayfirst=True)"
   ]
  },
  {
   "cell_type": "markdown",
   "metadata": {},
   "source": [
    "### Correlation Plot"
   ]
  },
  {
   "cell_type": "code",
   "execution_count": 42,
   "metadata": {},
   "outputs": [
    {
     "data": {
      "text/plain": [
       "<matplotlib.axes._subplots.AxesSubplot at 0x15042810>"
      ]
     },
     "execution_count": 42,
     "metadata": {},
     "output_type": "execute_result"
    },
    {
     "data": {
      "image/png": "[encoded data removed]",
      "text/plain": [
       "<Figure size 1224x936 with 2 Axes>"
      ]
     },
     "metadata": {},
     "output_type": "display_data"
    }
   ],
   "source": [
    "# asusming you have a dataframe df\n",
    "correlations = df.corr()\n",
    "\n",
    "# Generate a mask for the upper triangle\n",
    "mask = np.zeros_like(correlations, dtype=np.bool)\n",
    "# array([[False, False],\n",
    "#       [False, False]])\n",
    "\n",
    "mask[np.triu_indices_from(mask)] = True\n",
    "# array([[ True,  True],\n",
    "#       [False,  True]])\n",
    "\n",
    "# Set up the matplotlib figure\n",
    "f, ax = plt.subplots(figsize=(17, 13))\n",
    "\n",
    "# Generate a custom diverging colormap\n",
    "cmap = sns.diverging_palette(220, 10, as_cmap=True)\n",
    "\n",
    "# Draw the heatmap with the mask and correct aspect ratio\n",
    "sns.heatmap(correlations, mask=mask, cmap=cmap, vmax=.3, center=0,\n",
    "            square=True, linewidths=.5, cbar_kws={\"shrink\": .5})"
   ]
  },
  {
   "cell_type": "markdown",
   "metadata": {},
   "source": [
    "### Categoricals"
   ]
  },
  {
   "cell_type": "code",
   "execution_count": 43,
   "metadata": {},
   "outputs": [
    {
     "data": {
      "text/plain": [
       "(array([0, 0, 0, ..., 0, 0, 0], dtype=int32),\n",
       " Index(['A', 'B', 'C', ' '], dtype='object'))"
      ]
     },
     "execution_count": 43,
     "metadata": {},
     "output_type": "execute_result"
    }
   ],
   "source": [
    "pd.factorize(df['grade'])"
   ]
  },
  {
   "cell_type": "code",
   "execution_count": 44,
   "metadata": {},
   "outputs": [
    {
     "data": {
      "text/plain": [
       "[serial_number, activity_date, facility_name, score, grade, ..., pe_description, program_element_pe, program_name, program_status, record_id]\n",
       "Length: 20\n",
       "Categories (20, object): [activity_date, employee_id, facility_address, facility_city, ..., score, serial_number, service_code, service_description]"
      ]
     },
     "execution_count": 44,
     "metadata": {},
     "output_type": "execute_result"
    }
   ],
   "source": [
    "pd.Categorical(df)"
   ]
  },
  {
   "cell_type": "markdown",
   "metadata": {},
   "source": [
    "### Configure Features & Target"
   ]
  },
  {
   "cell_type": "code",
   "execution_count": 45,
   "metadata": {},
   "outputs": [
    {
     "data": {
      "text/plain": [
       "(['serial_number',\n",
       "  'activity_date',\n",
       "  'facility_name',\n",
       "  'score',\n",
       "  'service_code',\n",
       "  'service_description',\n",
       "  'employee_id',\n",
       "  'facility_address',\n",
       "  'facility_city',\n",
       "  'facility_id',\n",
       "  'facility_state',\n",
       "  'facility_zip',\n",
       "  'owner_id',\n",
       "  'owner_name',\n",
       "  'pe_description',\n",
       "  'program_element_pe',\n",
       "  'program_name',\n",
       "  'program_status',\n",
       "  'record_id'],\n",
       " 'grade')"
      ]
     },
     "execution_count": 45,
     "metadata": {},
     "output_type": "execute_result"
    }
   ],
   "source": [
    "target = 'grade'\n",
    "\n",
    "features = list(df.columns)\n",
    "features.remove(target)\n",
    "\n",
    "features, target"
   ]
  },
  {
   "cell_type": "code",
   "execution_count": 46,
   "metadata": {},
   "outputs": [
    {
     "data": {
      "text/plain": [
       "False"
      ]
     },
     "execution_count": 46,
     "metadata": {},
     "output_type": "execute_result"
    }
   ],
   "source": [
    "target in features"
   ]
  },
  {
   "cell_type": "code",
   "execution_count": 47,
   "metadata": {},
   "outputs": [
    {
     "data": {
      "text/plain": [
       "0"
      ]
     },
     "execution_count": 47,
     "metadata": {},
     "output_type": "execute_result"
    }
   ],
   "source": [
    "gc.collect()"
   ]
  },
  {
   "cell_type": "markdown",
   "metadata": {},
   "source": [
    "### Missing values"
   ]
  },
  {
   "cell_type": "markdown",
   "metadata": {},
   "source": [
    "#### Imputer"
   ]
  },
  {
   "cell_type": "code",
   "execution_count": 48,
   "metadata": {},
   "outputs": [
    {
     "data": {
      "text/plain": [
       "array([['23.56'],\n",
       "       ['53.45'],\n",
       "       ['NaN'],\n",
       "       ['44.44'],\n",
       "       ['77.78'],\n",
       "       ['NaN'],\n",
       "       ['234.44'],\n",
       "       ['11.33'],\n",
       "       ['79.87']], dtype='<U32')"
      ]
     },
     "execution_count": 48,
     "metadata": {},
     "output_type": "execute_result"
    }
   ],
   "source": [
    "# sample -> using Imputer\n",
    "X = np.array([[23.56],[53.45],['NaN'],[44.44],[77.78],['NaN'],[234.44],[11.33],[79.87]])\n",
    "X"
   ]
  },
  {
   "cell_type": "code",
   "execution_count": 49,
   "metadata": {},
   "outputs": [
    {
     "data": {
      "text/plain": [
       "array([[ 23.56      ],\n",
       "       [ 53.45      ],\n",
       "       [ 74.98142857],\n",
       "       [ 44.44      ],\n",
       "       [ 77.78      ],\n",
       "       [ 74.98142857],\n",
       "       [234.44      ],\n",
       "       [ 11.33      ],\n",
       "       [ 79.87      ]])"
      ]
     },
     "execution_count": 49,
     "metadata": {},
     "output_type": "execute_result"
    }
   ],
   "source": [
    "# fill missing values with mean\n",
    "imp = Imputer(missing_values='NaN', strategy='mean', axis=0)\n",
    "X = imp.fit_transform(X)\n",
    "X"
   ]
  },
  {
   "cell_type": "markdown",
   "metadata": {},
   "source": [
    "#### Replace missing values"
   ]
  },
  {
   "cell_type": "code",
   "execution_count": 50,
   "metadata": {},
   "outputs": [
    {
     "data": {
      "text/plain": [
       "serial_number          False\n",
       "activity_date          False\n",
       "facility_name          False\n",
       "score                  False\n",
       "grade                  False\n",
       "service_code           False\n",
       "service_description    False\n",
       "employee_id            False\n",
       "facility_address       False\n",
       "facility_city          False\n",
       "facility_id            False\n",
       "facility_state         False\n",
       "facility_zip           False\n",
       "owner_id               False\n",
       "owner_name             False\n",
       "pe_description         False\n",
       "program_element_pe     False\n",
       "program_name            True\n",
       "program_status         False\n",
       "record_id              False\n",
       "dtype: bool"
      ]
     },
     "execution_count": 50,
     "metadata": {},
     "output_type": "execute_result"
    }
   ],
   "source": [
    "# load dataframe\n",
    "df = pd.read_csv(f_name, sep=',', index_col=None, skiprows=None, low_memory=False, encoding='utf-8',\n",
    "                keep_default_na=True, na_values='', na_filter=True, nrows=None, engine='c', chunksize=None)\n",
    "\n",
    "df.isna().any()"
   ]
  },
  {
   "cell_type": "code",
   "execution_count": 51,
   "metadata": {},
   "outputs": [
    {
     "data": {
      "text/plain": [
       "serial_number          False\n",
       "activity_date          False\n",
       "facility_name          False\n",
       "score                  False\n",
       "grade                  False\n",
       "service_code           False\n",
       "service_description    False\n",
       "employee_id            False\n",
       "facility_address       False\n",
       "facility_city          False\n",
       "facility_id            False\n",
       "facility_state         False\n",
       "facility_zip           False\n",
       "owner_id               False\n",
       "owner_name             False\n",
       "pe_description         False\n",
       "program_element_pe     False\n",
       "program_name            True\n",
       "program_status         False\n",
       "record_id              False\n",
       "dtype: bool"
      ]
     },
     "execution_count": 51,
     "metadata": {},
     "output_type": "execute_result"
    }
   ],
   "source": [
    "# mark zero values as missing or NaN\n",
    "df = df.replace(0, np.NaN)\n",
    "df.isna().any()"
   ]
  },
  {
   "cell_type": "markdown",
   "metadata": {},
   "source": [
    "#### Drop rows with missing values"
   ]
  },
  {
   "cell_type": "code",
   "execution_count": 52,
   "metadata": {},
   "outputs": [
    {
     "data": {
      "text/plain": [
       "serial_number            0\n",
       "activity_date            0\n",
       "facility_name            0\n",
       "score                    0\n",
       "grade                    0\n",
       "service_code             0\n",
       "service_description      0\n",
       "employee_id              0\n",
       "facility_address         0\n",
       "facility_city            0\n",
       "facility_id              0\n",
       "facility_state           0\n",
       "facility_zip             0\n",
       "owner_id                 0\n",
       "owner_name               0\n",
       "pe_description           0\n",
       "program_element_pe       0\n",
       "program_name           132\n",
       "program_status           0\n",
       "record_id                0\n",
       "dtype: int64"
      ]
     },
     "execution_count": 52,
     "metadata": {},
     "output_type": "execute_result"
    }
   ],
   "source": [
    "# load dataframe\n",
    "df = pd.read_csv(f_name, sep=',', index_col=None, skiprows=None, low_memory=False, encoding='utf-8',\n",
    "                keep_default_na=True, na_values='', na_filter=True, nrows=None, engine='c', chunksize=None)\n",
    "\n",
    "df.isnull().sum()"
   ]
  },
  {
   "cell_type": "code",
   "execution_count": 53,
   "metadata": {},
   "outputs": [
    {
     "data": {
      "text/plain": [
       "58872"
      ]
     },
     "execution_count": 53,
     "metadata": {},
     "output_type": "execute_result"
    }
   ],
   "source": [
    "# length of dataframe before drop\n",
    "len(df)"
   ]
  },
  {
   "cell_type": "code",
   "execution_count": 54,
   "metadata": {},
   "outputs": [
    {
     "data": {
      "text/plain": [
       "serial_number          False\n",
       "activity_date          False\n",
       "facility_name          False\n",
       "score                  False\n",
       "grade                  False\n",
       "service_code           False\n",
       "service_description    False\n",
       "employee_id            False\n",
       "facility_address       False\n",
       "facility_city          False\n",
       "facility_id            False\n",
       "facility_state         False\n",
       "facility_zip           False\n",
       "owner_id               False\n",
       "owner_name             False\n",
       "pe_description         False\n",
       "program_element_pe     False\n",
       "program_name           False\n",
       "program_status         False\n",
       "record_id              False\n",
       "dtype: bool"
      ]
     },
     "execution_count": 54,
     "metadata": {},
     "output_type": "execute_result"
    }
   ],
   "source": [
    "# drop rows with missing values\n",
    "df.dropna(inplace=True)\n",
    "df.isna().any()"
   ]
  },
  {
   "cell_type": "code",
   "execution_count": 55,
   "metadata": {},
   "outputs": [
    {
     "data": {
      "text/plain": [
       "58740"
      ]
     },
     "execution_count": 55,
     "metadata": {},
     "output_type": "execute_result"
    }
   ],
   "source": [
    "len(df)"
   ]
  },
  {
   "cell_type": "markdown",
   "metadata": {},
   "source": [
    "### Dict Vectorizer"
   ]
  },
  {
   "cell_type": "code",
   "execution_count": 56,
   "metadata": {},
   "outputs": [
    {
     "data": {
      "text/plain": [
       "DictVectorizer(dtype=<class 'numpy.float64'>, separator='=', sort=True,\n",
       "        sparse=True)"
      ]
     },
     "execution_count": 56,
     "metadata": {},
     "output_type": "execute_result"
    }
   ],
   "source": [
    "v = DictVectorizer()\n",
    "v"
   ]
  },
  {
   "cell_type": "code",
   "execution_count": 57,
   "metadata": {},
   "outputs": [
    {
     "data": {
      "text/plain": [
       "[{'height': 1, 'length': 0, 'width': 1},\n",
       " {'height': 2, 'length': 1, 'width': 0},\n",
       " {'height': 1, 'length': 3, 'width': 2}]"
      ]
     },
     "execution_count": 57,
     "metadata": {},
     "output_type": "execute_result"
    }
   ],
   "source": [
    "D = [{'height': 1, 'length': 0, 'width': 1},   # obs.2\n",
    " {'height': 2, 'length': 1, 'width': 0},   # obs.1\n",
    " {'height': 1, 'length': 3, 'width': 2}]   # obs.3\n",
    "D"
   ]
  },
  {
   "cell_type": "code",
   "execution_count": 58,
   "metadata": {},
   "outputs": [
    {
     "data": {
      "text/plain": [
       "<3x3 sparse matrix of type '<class 'numpy.float64'>'\n",
       "\twith 7 stored elements in Compressed Sparse Row format>"
      ]
     },
     "execution_count": 58,
     "metadata": {},
     "output_type": "execute_result"
    }
   ],
   "source": [
    "X = v.fit_transform(D)\n",
    "X"
   ]
  },
  {
   "cell_type": "code",
   "execution_count": 59,
   "metadata": {},
   "outputs": [
    {
     "data": {
      "text/plain": [
       "SelectKBest(k=2, score_func=<function chi2 at 0x140E6CD8>)"
      ]
     },
     "execution_count": 59,
     "metadata": {},
     "output_type": "execute_result"
    }
   ],
   "source": [
    "support = SelectKBest(chi2, k=2)\n",
    "support"
   ]
  },
  {
   "cell_type": "code",
   "execution_count": 60,
   "metadata": {},
   "outputs": [
    {
     "data": {
      "text/plain": [
       "SelectKBest(k=2, score_func=<function chi2 at 0x140E6CD8>)"
      ]
     },
     "execution_count": 60,
     "metadata": {},
     "output_type": "execute_result"
    }
   ],
   "source": [
    "support.fit(X, np.zeros(3))"
   ]
  },
  {
   "cell_type": "code",
   "execution_count": 61,
   "metadata": {},
   "outputs": [
    {
     "data": {
      "text/plain": [
       "['height', 'length', 'width']"
      ]
     },
     "execution_count": 61,
     "metadata": {},
     "output_type": "execute_result"
    }
   ],
   "source": [
    "v.get_feature_names()"
   ]
  },
  {
   "cell_type": "code",
   "execution_count": 62,
   "metadata": {},
   "outputs": [
    {
     "data": {
      "text/plain": [
       "DictVectorizer(dtype=<class 'numpy.float64'>, separator='=', sort=True,\n",
       "        sparse=True)"
      ]
     },
     "execution_count": 62,
     "metadata": {},
     "output_type": "execute_result"
    }
   ],
   "source": [
    "v.restrict(support.get_support())"
   ]
  },
  {
   "cell_type": "code",
   "execution_count": 63,
   "metadata": {},
   "outputs": [
    {
     "data": {
      "text/plain": [
       "DictVectorizer(dtype=Ellipsis, separator='=', sort=True, sparse=True)"
      ]
     },
     "execution_count": 63,
     "metadata": {},
     "output_type": "execute_result"
    }
   ],
   "source": [
    "DictVectorizer(dtype=..., separator='=', sort=True, sparse=True)"
   ]
  },
  {
   "cell_type": "code",
   "execution_count": 64,
   "metadata": {},
   "outputs": [
    {
     "data": {
      "text/plain": [
       "['length', 'width']"
      ]
     },
     "execution_count": 64,
     "metadata": {},
     "output_type": "execute_result"
    }
   ],
   "source": [
    "v.get_feature_names()"
   ]
  },
  {
   "cell_type": "markdown",
   "metadata": {},
   "source": [
    "### Univariate Analysis"
   ]
  },
  {
   "cell_type": "code",
   "execution_count": 65,
   "metadata": {},
   "outputs": [],
   "source": [
    "# helper function for numerical columns distribution\n",
    "def uni_num_analysis(col, df):\n",
    "    ''' distribution of numerical columns '''\n",
    "    sns.set(rc={'figure.figsize':(11,5)})\n",
    "    plt.hist(df[col], bins=100)\n",
    "    plt.xlabel(col)\n",
    "    plt.ylabel('Distribution')\n",
    "    plt.title(col)\n"
   ]
  },
  {
   "cell_type": "code",
   "execution_count": 66,
   "metadata": {},
   "outputs": [
    {
     "name": "stdout",
     "output_type": "stream",
     "text": [
      "score\n"
     ]
    },
    {
     "data": {
      "image/png": "[encoded data removed]",
      "text/plain": [
       "<Figure size 792x360 with 1 Axes>"
      ]
     },
     "metadata": {},
     "output_type": "display_data"
    },
    {
     "name": "stdout",
     "output_type": "stream",
     "text": [
      "service_code\n"
     ]
    },
    {
     "data": {
      "image/png": "[encoded data removed]",
      "text/plain": [
       "<Figure size 792x360 with 1 Axes>"
      ]
     },
     "metadata": {},
     "output_type": "display_data"
    },
    {
     "name": "stdout",
     "output_type": "stream",
     "text": [
      "program_element_pe\n"
     ]
    },
    {
     "data": {
      "image/png": "[encoded data removed]",
      "text/plain": [
       "<Figure size 792x360 with 1 Axes>"
      ]
     },
     "metadata": {},
     "output_type": "display_data"
    }
   ],
   "source": [
    "for col in num_cols:\n",
    "    print(col)\n",
    "    uni_num_analysis(col, df)\n",
    "    plt.show()"
   ]
  },
  {
   "cell_type": "code",
   "execution_count": 67,
   "metadata": {},
   "outputs": [
    {
     "data": {
      "text/plain": [
       "<matplotlib.axes._subplots.AxesSubplot at 0x1865bdd0>"
      ]
     },
     "execution_count": 67,
     "metadata": {},
     "output_type": "execute_result"
    },
    {
     "data": {
      "image/png": "[encoded data removed]",
      "text/plain": [
       "<Figure size 648x648 with 1 Axes>"
      ]
     },
     "metadata": {},
     "output_type": "display_data"
    }
   ],
   "source": [
    "sns.set(rc={'figure.figsize':(9,9)})\n",
    "plt.title('Distribution of Scores')\n",
    "sns.countplot(x='score', data=df)"
   ]
  },
  {
   "cell_type": "code",
   "execution_count": 68,
   "metadata": {
    "scrolled": false
   },
   "outputs": [
    {
     "data": {
      "text/plain": [
       "<matplotlib.axes._subplots.AxesSubplot at 0x14e9d4b0>"
      ]
     },
     "execution_count": 68,
     "metadata": {},
     "output_type": "execute_result"
    },
    {
     "data": {
      "image/png": "[encoded data removed]",
      "text/plain": [
       "<Figure size 432x432 with 1 Axes>"
      ]
     },
     "metadata": {},
     "output_type": "display_data"
    }
   ],
   "source": [
    "sns.set(rc={'figure.figsize':(6,6)})\n",
    "plt.title('Distribution of Scores')\n",
    "sns.countplot(x='grade', data=df)"
   ]
  },
  {
   "cell_type": "code",
   "execution_count": 69,
   "metadata": {},
   "outputs": [
    {
     "data": {
      "text/plain": [
       "Text(0.5,1,'Grade vs Score Distribution')"
      ]
     },
     "execution_count": 69,
     "metadata": {},
     "output_type": "execute_result"
    },
    {
     "data": {
      "image/png": "[encoded data removed]",
      "text/plain": [
       "<Figure size 936x504 with 1 Axes>"
      ]
     },
     "metadata": {},
     "output_type": "display_data"
    }
   ],
   "source": [
    "sns.set(rc={'figure.figsize':(13,7)})\n",
    "sns.boxplot(x='grade', y='score', data=df)\n",
    "plt.title('Grade vs Score Distribution')"
   ]
  },
  {
   "cell_type": "code",
   "execution_count": 70,
   "metadata": {},
   "outputs": [
    {
     "data": {
      "image/png": "[encoded data removed]",
      "text/plain": [
       "<Figure size 1008x1008 with 3 Axes>"
      ]
     },
     "metadata": {},
     "output_type": "display_data"
    }
   ],
   "source": [
    "fig = plt.figure(figsize=(14, 14))\n",
    "ax1 = plt.subplot2grid((2, 2), (0, 0))\n",
    "ax1 = plt.xticks(rotation=45)\n",
    "ax1 = sns.countplot(df['program_status'])\n",
    "ax1 = plt.title(\"Program Status\")\n",
    "\n",
    "\n",
    "ax2 = plt.subplot2grid((2, 2), (0, 1))\n",
    "ax2 = plt.xticks(rotation=45)\n",
    "ax2 = sns.countplot(df['grade'])\n",
    "ax2 = plt.title(\"Grade\")\n",
    "\n",
    "\n",
    "ax3 = plt.subplot2grid((2, 2), (1, 0), colspan=2)\n",
    "ax3 = plt.xticks(rotation=45)\n",
    "ax3 = sns.countplot(df['score'])\n",
    "ax3 = plt.title(\"Score\")"
   ]
  },
  {
   "cell_type": "code",
   "execution_count": 71,
   "metadata": {},
   "outputs": [
    {
     "data": {
      "text/plain": [
       "array(['ACTIVE', 'INACTIVE'], dtype=object)"
      ]
     },
     "execution_count": 71,
     "metadata": {},
     "output_type": "execute_result"
    }
   ],
   "source": [
    "df['program_status'].unique()"
   ]
  },
  {
   "cell_type": "code",
   "execution_count": 72,
   "metadata": {},
   "outputs": [
    {
     "data": {
      "text/plain": [
       "array([ 95,  92,  93,  94,  96,  91,  97,  98,  90, 100,  81,  85,  89,\n",
       "        82,  84,  86,  99,  80,  83,  78,  68,  73,  87,  75,  72,  88,\n",
       "        77,  76,  74,  70,  71,  66,  79,  64,  65,  67], dtype=int64)"
      ]
     },
     "execution_count": 72,
     "metadata": {},
     "output_type": "execute_result"
    }
   ],
   "source": [
    "df['score'].unique()"
   ]
  },
  {
   "cell_type": "code",
   "execution_count": 73,
   "metadata": {},
   "outputs": [
    {
     "data": {
      "text/plain": [
       "array(['A', 'B', 'C', ' '], dtype=object)"
      ]
     },
     "execution_count": 73,
     "metadata": {},
     "output_type": "execute_result"
    }
   ],
   "source": [
    "df['grade'].unique()"
   ]
  },
  {
   "cell_type": "code",
   "execution_count": 74,
   "metadata": {},
   "outputs": [
    {
     "data": {
      "text/plain": [
       "array([[<matplotlib.axes._subplots.AxesSubplot object at 0x16C6EF70>,\n",
       "        <matplotlib.axes._subplots.AxesSubplot object at 0x187107B0>],\n",
       "       [<matplotlib.axes._subplots.AxesSubplot object at 0x18670650>,\n",
       "        <matplotlib.axes._subplots.AxesSubplot object at 0x1865BB10>]],\n",
       "      dtype=object)"
      ]
     },
     "execution_count": 74,
     "metadata": {},
     "output_type": "execute_result"
    },
    {
     "data": {
      "image/png": "[encoded data removed]",
      "text/plain": [
       "<Figure size 936x504 with 4 Axes>"
      ]
     },
     "metadata": {},
     "output_type": "display_data"
    }
   ],
   "source": [
    "df.hist()"
   ]
  },
  {
   "cell_type": "markdown",
   "metadata": {},
   "source": [
    "#### Regplot \n",
    "\n",
    "##### to find if there is a linear or quadratic relation between two variables"
   ]
  },
  {
   "cell_type": "code",
   "execution_count": 75,
   "metadata": {},
   "outputs": [
    {
     "data": {
      "text/plain": [
       "matrix([[ 1,  1],\n",
       "        [ 2,  3],\n",
       "        [ 2,  4],\n",
       "        [ 3,  6],\n",
       "        [ 3,  9],\n",
       "        [ 4, 12],\n",
       "        [ 4, 15],\n",
       "        [ 5, 19],\n",
       "        [ 5, 25],\n",
       "        [ 5, 36],\n",
       "        [ 6, 41],\n",
       "        [ 6, 49],\n",
       "        [ 7, 54]])"
      ]
     },
     "execution_count": 75,
     "metadata": {},
     "output_type": "execute_result"
    }
   ],
   "source": [
    "s = np.matrix([[1,1],[2,3],[2,4],[3,6],[3,9],[4,12],[4,15],[5,19],[5,25],[5,36],[6,41],[6,49],[7,54]])\n",
    "s"
   ]
  },
  {
   "cell_type": "code",
   "execution_count": 76,
   "metadata": {},
   "outputs": [],
   "source": [
    "df = pd.DataFrame(s)"
   ]
  },
  {
   "cell_type": "code",
   "execution_count": 77,
   "metadata": {},
   "outputs": [
    {
     "data": {
      "text/plain": [
       "<matplotlib.axes._subplots.AxesSubplot at 0x1499db50>"
      ]
     },
     "execution_count": 77,
     "metadata": {},
     "output_type": "execute_result"
    },
    {
     "data": {
      "image/png": "[encoded data removed]",
      "text/plain": [
       "<Figure size 936x504 with 1 Axes>"
      ]
     },
     "metadata": {},
     "output_type": "display_data"
    }
   ],
   "source": [
    "sns.regplot(df[0], df[1])"
   ]
  },
  {
   "cell_type": "code",
   "execution_count": 78,
   "metadata": {},
   "outputs": [
    {
     "data": {
      "text/plain": [
       "<matplotlib.axes._subplots.AxesSubplot at 0x14899430>"
      ]
     },
     "execution_count": 78,
     "metadata": {},
     "output_type": "execute_result"
    },
    {
     "data": {
      "image/png": "[encoded data removed]",
      "text/plain": [
       "<Figure size 936x504 with 1 Axes>"
      ]
     },
     "metadata": {},
     "output_type": "display_data"
    }
   ],
   "source": [
    "# change order to 2\n",
    "sns.regplot(df[0], df[1], order=2)"
   ]
  },
  {
   "cell_type": "markdown",
   "metadata": {},
   "source": [
    "### Standardize using StandardScaler"
   ]
  },
  {
   "cell_type": "code",
   "execution_count": 79,
   "metadata": {},
   "outputs": [],
   "source": [
    "# load dataframe\n",
    "df = pd.read_csv(f_name, sep=',', index_col=None, skiprows=None, low_memory=False, encoding='utf-8',\n",
    "                keep_default_na=True, na_values='', na_filter=True, nrows=None, engine='c', chunksize=None)"
   ]
  },
  {
   "cell_type": "code",
   "execution_count": 80,
   "metadata": {},
   "outputs": [
    {
     "data": {
      "text/plain": [
       "(58872, 3)"
      ]
     },
     "execution_count": 80,
     "metadata": {},
     "output_type": "execute_result"
    }
   ],
   "source": [
    "X = df[num_cols].values\n",
    "X.shape"
   ]
  },
  {
   "cell_type": "code",
   "execution_count": 81,
   "metadata": {},
   "outputs": [
    {
     "data": {
      "text/plain": [
       "array([[  95,    1, 1631],\n",
       "       [  92,    1, 1631],\n",
       "       [  93,    1, 1630],\n",
       "       ...,\n",
       "       [  96,    1, 1635],\n",
       "       [  97,    1, 1632],\n",
       "       [  94,    1, 1632]], dtype=int64)"
      ]
     },
     "execution_count": 81,
     "metadata": {},
     "output_type": "execute_result"
    }
   ],
   "source": [
    "X"
   ]
  },
  {
   "cell_type": "code",
   "execution_count": 82,
   "metadata": {},
   "outputs": [
    {
     "data": {
      "text/plain": [
       "array([[ 0.42337106, -0.13084852,  0.16075968],\n",
       "       [-0.32725237, -0.13084852,  0.16075968],\n",
       "       [-0.07704456, -0.13084852,  0.05434693],\n",
       "       ...,\n",
       "       [ 0.67357887, -0.13084852,  0.5864107 ],\n",
       "       [ 0.92378668, -0.13084852,  0.26717243],\n",
       "       [ 0.17316325, -0.13084852,  0.26717243]])"
      ]
     },
     "execution_count": 82,
     "metadata": {},
     "output_type": "execute_result"
    }
   ],
   "source": [
    "X_std = StandardScaler().fit_transform(X)\n",
    "X_std"
   ]
  },
  {
   "cell_type": "markdown",
   "metadata": {},
   "source": [
    "### PCA"
   ]
  },
  {
   "cell_type": "code",
   "execution_count": 83,
   "metadata": {},
   "outputs": [],
   "source": [
    "from sklearn.datasets import make_blobs"
   ]
  },
  {
   "cell_type": "code",
   "execution_count": 84,
   "metadata": {},
   "outputs": [
    {
     "data": {
      "text/plain": [
       "((20, 10), (20,))"
      ]
     },
     "execution_count": 84,
     "metadata": {},
     "output_type": "execute_result"
    }
   ],
   "source": [
    "# generates the data with 10 features\n",
    "X,y = make_blobs(n_samples=n_sample, n_features=10, random_state=random_state)\n",
    "\n",
    "X.shape, y.shape"
   ]
  },
  {
   "cell_type": "code",
   "execution_count": 85,
   "metadata": {},
   "outputs": [
    {
     "data": {
      "text/plain": [
       "array([-3.26470205,  6.60988187, -5.37422134, -8.57494616,  6.35563411,\n",
       "       -5.80185634, -1.80327927, -3.86645493, -6.87514384,  7.45030471])"
      ]
     },
     "execution_count": 85,
     "metadata": {},
     "output_type": "execute_result"
    }
   ],
   "source": [
    "X[0]"
   ]
  },
  {
   "cell_type": "code",
   "execution_count": 86,
   "metadata": {},
   "outputs": [
    {
     "data": {
      "text/plain": [
       "PCA(copy=True, iterated_power='auto', n_components=3, random_state=None,\n",
       "  svd_solver='auto', tol=0.0, whiten=False)"
      ]
     },
     "execution_count": 86,
     "metadata": {},
     "output_type": "execute_result"
    }
   ],
   "source": [
    "# define PCA estimator with the number of reduced components\n",
    "pca = PCA(n_components=3)\n",
    "pca"
   ]
  },
  {
   "cell_type": "code",
   "execution_count": 87,
   "metadata": {},
   "outputs": [
    {
     "data": {
      "text/plain": [
       "PCA(copy=True, iterated_power='auto', n_components=3, random_state=None,\n",
       "  svd_solver='auto', tol=0.0, whiten=False)"
      ]
     },
     "execution_count": 87,
     "metadata": {},
     "output_type": "execute_result"
    }
   ],
   "source": [
    "# fit the data into the PCA estimator\n",
    "pca.fit(X)"
   ]
  },
  {
   "cell_type": "code",
   "execution_count": 88,
   "metadata": {},
   "outputs": [
    {
     "data": {
      "text/plain": [
       "(array([176.16152385,  74.58057124,   2.12655612]),\n",
       " array([0.68291594, 0.2891225 , 0.00824391]))"
      ]
     },
     "execution_count": 88,
     "metadata": {},
     "output_type": "execute_result"
    }
   ],
   "source": [
    "pca.explained_variance_, pca.explained_variance_ratio_"
   ]
  },
  {
   "cell_type": "code",
   "execution_count": 89,
   "metadata": {},
   "outputs": [
    {
     "data": {
      "text/plain": [
       "array([ 0.44019821,  0.18838999,  0.17149291,  0.55361027, -0.11232345,\n",
       "        0.1201006 , -0.33272753,  0.34282349,  0.1924678 , -0.37751885])"
      ]
     },
     "execution_count": 89,
     "metadata": {},
     "output_type": "execute_result"
    }
   ],
   "source": [
    "# first PCA component\n",
    "first_pca = pca.components_[0]\n",
    "first_pca"
   ]
  },
  {
   "cell_type": "code",
   "execution_count": 90,
   "metadata": {},
   "outputs": [],
   "source": [
    "# transform the fitted data to apply dimensionality reduction\n",
    "pca_reduced = pca.transform(X)"
   ]
  },
  {
   "cell_type": "code",
   "execution_count": 91,
   "metadata": {},
   "outputs": [
    {
     "data": {
      "text/plain": [
       "(20, 3)"
      ]
     },
     "execution_count": 91,
     "metadata": {},
     "output_type": "execute_result"
    }
   ],
   "source": [
    "# view the reduced dimensions\n",
    "pca_reduced.shape"
   ]
  },
  {
   "cell_type": "code",
   "execution_count": 92,
   "metadata": {},
   "outputs": [
    {
     "data": {
      "text/plain": [
       "array([-9.41660165, -9.13476198, -0.0479423 ])"
      ]
     },
     "execution_count": 92,
     "metadata": {},
     "output_type": "execute_result"
    }
   ],
   "source": [
    "pca_reduced[0]"
   ]
  },
  {
   "cell_type": "markdown",
   "metadata": {},
   "source": [
    "##### output: number of features reduced from 10 to 3"
   ]
  },
  {
   "cell_type": "code",
   "execution_count": null,
   "metadata": {},
   "outputs": [],
   "source": []
  }
 ],
 "metadata": {
  "kernelspec": {
   "display_name": "Python 3",
   "language": "python",
   "name": "python3"
  },
  "language_info": {
   "codemirror_mode": {
    "name": "ipython",
    "version": 3
   },
   "file_extension": ".py",
   "mimetype": "text/x-python",
   "name": "python",
   "nbconvert_exporter": "python",
   "pygments_lexer": "ipython3",
   "version": "3.7.0"
  }
 },
 "nbformat": 4,
 "nbformat_minor": 2
}
