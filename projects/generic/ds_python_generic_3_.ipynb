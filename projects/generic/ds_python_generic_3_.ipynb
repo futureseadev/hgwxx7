{
 "cells": [
  {
   "cell_type": "markdown",
   "metadata": {},
   "source": [
    "# Generic Helpers!!"
   ]
  },
  {
   "cell_type": "code",
   "execution_count": 1,
   "metadata": {},
   "outputs": [
    {
     "name": "stdout",
     "output_type": "stream",
     "text": [
      "Automatically created module for IPython interactive environment\n"
     ]
    }
   ],
   "source": [
    "print(__doc__)"
   ]
  },
  {
   "cell_type": "code",
   "execution_count": 2,
   "metadata": {},
   "outputs": [],
   "source": [
    "from __future__ import print_function"
   ]
  },
  {
   "cell_type": "code",
   "execution_count": 3,
   "metadata": {},
   "outputs": [],
   "source": [
    "# load libraries\n",
    "\n",
    "import os\n",
    "import gc\n",
    "import re\n",
    "import sys\n",
    "import json\n",
    "import math\n",
    "import pickle                # serializer\n",
    "import urllib                # for url stuff\n",
    "import datetime\n",
    "import numpy as np           # numerical python\n",
    "import pandas as pd          # pandas\n",
    "\n",
    "import seaborn as sns\n",
    "import matplotlib.pyplot as plt\n",
    "import matplotlib.font_manager\n",
    "from matplotlib.colors import Normalize\n",
    "\n",
    "%matplotlib inline"
   ]
  },
  {
   "cell_type": "code",
   "execution_count": 4,
   "metadata": {},
   "outputs": [],
   "source": [
    "import warnings\n",
    "\n",
    "# warnings.filterwarnings('ignore')"
   ]
  },
  {
   "cell_type": "code",
   "execution_count": 5,
   "metadata": {},
   "outputs": [],
   "source": [
    "# subprocess\n",
    "from subprocess import check_output\n"
   ]
  },
  {
   "cell_type": "code",
   "execution_count": 6,
   "metadata": {},
   "outputs": [],
   "source": [
    "# itertools\n",
    "from itertools import cycle\n"
   ]
  },
  {
   "cell_type": "code",
   "execution_count": 7,
   "metadata": {},
   "outputs": [
    {
     "name": "stderr",
     "output_type": "stream",
     "text": [
      "E:\\Python\\Anaconda\\lib\\site-packages\\statsmodels\\compat\\pandas.py:56: FutureWarning: The pandas.core.datetools module is deprecated and will be removed in a future version. Please use the pandas.tseries module instead.\n",
      "  from pandas.core import datetools\n"
     ]
    }
   ],
   "source": [
    "# statsmodels\n",
    "from statsmodels.api import OLS\n"
   ]
  },
  {
   "cell_type": "code",
   "execution_count": 8,
   "metadata": {},
   "outputs": [],
   "source": [
    "# scipy\n",
    "import scipy.stats as st\n",
    "from scipy import interp\n",
    "from scipy.special import stdtr\n",
    "from scipy.stats import linregress, ttest_ind, ttest_ind_from_stats\n"
   ]
  },
  {
   "cell_type": "code",
   "execution_count": 9,
   "metadata": {},
   "outputs": [],
   "source": [
    "# sklearn \n",
    "\n",
    "from sklearn import datasets\n",
    "from sklearn.datasets import make_blobs, load_iris\n",
    "\n",
    "# preprocessing\n",
    "from sklearn.preprocessing import label_binarize, scale, Normalizer\n",
    "from sklearn.preprocessing import StandardScaler, MinMaxScaler, MultiLabelBinarizer, RobustScaler\n",
    "from sklearn.preprocessing import Imputer, LabelEncoder, MaxAbsScaler, OneHotEncoder, PolynomialFeatures\n",
    "\n",
    "# model selection\n",
    "from sklearn.model_selection import train_test_split, GridSearchCV\n",
    "from sklearn.model_selection import cross_validate, cross_val_predict, cross_val_score\n",
    "from sklearn.model_selection import KFold, BaseCrossValidator, GroupKFold, GroupShuffleSplit\n",
    "from sklearn.model_selection import RepeatedKFold, RepeatedStratifiedKFold, TimeSeriesSplit\n",
    "from sklearn.model_selection import ShuffleSplit, StratifiedKFold, StratifiedShuffleSplit\n",
    "\n",
    "# decomposition\n",
    "from sklearn.decomposition import PCA, FactorAnalysis, FastICA, KernelPCA, SparsePCA\n",
    "\n",
    "# discriminant analysis\n",
    "from sklearn.discriminant_analysis import LinearDiscriminantAnalysis, QuadraticDiscriminantAnalysis\n",
    "\n",
    "# calibration\n",
    "from sklearn.calibration import calibration_curve, CalibratedClassifierCV\n",
    "\n",
    "# dummy \n",
    "from sklearn.dummy import DummyRegressor, DummyRegressor\n",
    "\n",
    "# metrics \n",
    "from sklearn.metrics import get_scorer, make_scorer\n",
    "\n",
    "# regression metrics\n",
    "from sklearn.metrics import mean_absolute_error, mean_squared_error, mean_squared_log_error, r2_score\n",
    "\n",
    "# classification metrics\n",
    "from sklearn.metrics import accuracy_score, auc, classification_report, confusion_matrix, f1_score\n",
    "from sklearn.metrics import log_loss, precision_score, recall_score, roc_auc_score, roc_curve, zero_one_loss\n",
    "from sklearn.metrics import brier_score_loss\n",
    "\n",
    "# cluster\n",
    "from sklearn.metrics import completeness_score, homogeneity_score, consensus_score\n",
    "\n",
    "# pairwise metrics\n",
    "from sklearn.metrics import pairwise\n",
    "\n",
    "# feature extraction\n",
    "from sklearn.feature_extraction import DictVectorizer\n",
    "from sklearn.feature_extraction.text import CountVectorizer, HashingVectorizer, TfidfTransformer, TfidfVectorizer\n",
    "\n",
    "# feature selection\n",
    "from sklearn.feature_selection import chi2, f_classif, SelectPercentile, SelectFromModel, SelectKBest, RFE, RFECV\n",
    "\n",
    "# linear models\n",
    "from sklearn.linear_model import ARDRegression, BayesianRidge, ElasticNet, ElasticNetCV\n",
    "from sklearn.linear_model import Lars, LarsCV, Lasso, LassoCV, LassoLarsCV\n",
    "from sklearn.linear_model import LinearRegression, PassiveAggressiveRegressor\n",
    "from sklearn.linear_model import RANSACRegressor, Ridge, RidgeCV, SGDRegressor, TheilSenRegressor\n",
    "\n",
    "# linear model classifiers\n",
    "from sklearn.linear_model import LogisticRegression, PassiveAggressiveClassifier, RidgeClassifier, RidgeClassifierCV\n",
    "\n",
    "# naive bayes\n",
    "from sklearn.naive_bayes import BernoulliNB, GaussianNB, MultinomialNB\n",
    "\n",
    "# covariance estimators\n",
    "# cross_decomposition\n",
    "# datasets\n",
    "# samples generator\n",
    "\n",
    "# tree\n",
    "from sklearn.tree import DecisionTreeRegressor, ExtraTreeRegressor\n",
    "from sklearn.tree import DecisionTreeClassifier, ExtraTreeClassifier\n",
    "\n",
    "# ensemble\n",
    "from sklearn.ensemble import BaseEnsemble, RandomForestRegressor, RandomForestClassifier\n",
    "from sklearn.ensemble import AdaBoostRegressor, BaggingRegressor, ExtraTreesRegressor, GradientBoostingRegressor\n",
    "from sklearn.ensemble import AdaBoostClassifier, BaggingClassifier, ExtraTreesClassifier, GradientBoostingClassifier\n",
    "\n",
    "# cluster\n",
    "from sklearn.cluster import KMeans, MeanShift, MiniBatchKMeans\n",
    "from sklearn.cluster import AffinityPropagation, AgglomerativeClustering, Birch, FeatureAgglomeration\n",
    "from sklearn.cluster import SpectralBiclustering, SpectralClustering, SpectralCoclustering\n",
    "\n",
    "# neighbors\n",
    "from sklearn.neighbors import KNeighborsClassifier, NearestNeighbors, NearestCentroid\n",
    "from sklearn.neighbors import BallTree, KDTree, RadiusNeighborsClassifier\n",
    "\n",
    "# neighbors regressor\n",
    "from sklearn.neighbors import KNeighborsRegressor, RadiusNeighborsRegressor\n",
    "\n",
    "# SVM\n",
    "from sklearn.svm import SVR, LinearSVR, NuSVR\n",
    "from sklearn.svm import SVC, LinearSVC, NuSVC, OneClassSVM\n",
    "\n",
    "# manifold\n",
    "from sklearn.manifold import TSNE\n",
    "\n",
    "# pipeline\n",
    "from sklearn.pipeline import Pipeline, make_pipeline, make_union, FeatureUnion\n",
    "\n",
    "# multi class\n",
    "from sklearn.multiclass import OneVsOneClassifier, OneVsRestClassifier, OutputCodeClassifier\n",
    "\n",
    "# multi output\n",
    "from sklearn.multioutput import MultiOutputRegressor, MultiOutputClassifier, MultiOutputEstimator\n",
    "\n",
    "# neural nets\n",
    "from sklearn.neural_network import MLPClassifier as mlpc\n",
    "from sklearn.neural_network import MLPRegressor as mlpr\n",
    "\n",
    "#from sklearn.metrics import "
   ]
  },
  {
   "cell_type": "code",
   "execution_count": 10,
   "metadata": {},
   "outputs": [],
   "source": [
    "# xgboost\n",
    "from xgboost import XGBModel, XGBRegressor, XGBClassifier, Booster, DMatrix\n"
   ]
  },
  {
   "cell_type": "code",
   "execution_count": 11,
   "metadata": {},
   "outputs": [],
   "source": [
    "# !pip install wordcloud"
   ]
  },
  {
   "cell_type": "code",
   "execution_count": 12,
   "metadata": {},
   "outputs": [],
   "source": [
    "# nltk, wordcloud\n",
    "from nltk.corpus import stopwords\n",
    "from nltk import word_tokenize as wt\n",
    "from nltk.classify import ClassifierI, SklearnClassifier, NaiveBayesClassifier, PositiveNaiveBayesClassifier\n",
    "from nltk.classify import DecisionTreeClassifier, MaxentClassifier, MultiClassifierI, WekaClassifier\n",
    "from nltk.classify import ConditionalExponentialClassifier, RTEFeatureExtractor, BinaryMaxentFeatureEncoding\n",
    "\n",
    "from nltk.cluster import Dendrogram, EMClusterer, GAAClusterer, KMeansClusterer, VectorSpaceClusterer\n",
    "\n",
    "from wordcloud import WordCloud, STOPWORDS"
   ]
  },
  {
   "cell_type": "markdown",
   "metadata": {},
   "source": [
    "## Configs"
   ]
  },
  {
   "cell_type": "code",
   "execution_count": 13,
   "metadata": {},
   "outputs": [],
   "source": [
    "# file details\n",
    "\n",
    "# f_directory = 'C:\\\\Py37\\\\py37\\\\visualizer'\n",
    "f_directory = 'C:\\\\Users\\\\praveen\\\\Downloads\\\\'\n",
    "f_name = 'restaurant-and-market-health-inspections.csv'"
   ]
  },
  {
   "cell_type": "code",
   "execution_count": 14,
   "metadata": {},
   "outputs": [],
   "source": [
    "# use all cores\n",
    "n_jobs = -1\n",
    "\n",
    "# category columns\n",
    "cat_cols = []\n",
    "\n",
    "# numerical columns\n",
    "num_cols = []\n",
    "\n",
    "# define sample and random state\n",
    "n_sample = 20\n",
    "random_state = 43\n",
    "\n",
    "# seed\n",
    "seed = 7\n",
    "\n",
    "# number of random trials\n",
    "n_trials = 20\n",
    "\n",
    "# test size\n",
    "test_size = 0.25\n"
   ]
  },
  {
   "cell_type": "markdown",
   "metadata": {},
   "source": [
    "#### Navigating to file location"
   ]
  },
  {
   "cell_type": "code",
   "execution_count": 15,
   "metadata": {},
   "outputs": [
    {
     "data": {
      "text/plain": [
       "['.ipynb_checkpoints',\n",
       " 'desktop.ini',\n",
       " 'ds_python_generic_3.ipynb',\n",
       " 'ds_python_generic_7.ipynb',\n",
       " 'Photos',\n",
       " 'Photos(1).zip',\n",
       " 'Photos.zip',\n",
       " 'restaurant-and-market-health-inspections.csv',\n",
       " '~$Resume.docx']"
      ]
     },
     "execution_count": 15,
     "metadata": {},
     "output_type": "execute_result"
    }
   ],
   "source": [
    "# list files in directory\n",
    "os.listdir()"
   ]
  },
  {
   "cell_type": "code",
   "execution_count": 16,
   "metadata": {},
   "outputs": [
    {
     "data": {
      "text/plain": [
       "'C:\\\\Users\\\\praveen\\\\Downloads'"
      ]
     },
     "execution_count": 16,
     "metadata": {},
     "output_type": "execute_result"
    }
   ],
   "source": [
    "# get current working directory\n",
    "os.getcwd()"
   ]
  },
  {
   "cell_type": "code",
   "execution_count": 17,
   "metadata": {},
   "outputs": [],
   "source": [
    "# change directory\n",
    "os.chdir(f_directory)"
   ]
  },
  {
   "cell_type": "code",
   "execution_count": 18,
   "metadata": {},
   "outputs": [],
   "source": [
    "# check whether file is present in current directory\n",
    "if not f_name in os.listdir():\n",
    "    sys.exit()"
   ]
  },
  {
   "cell_type": "markdown",
   "metadata": {},
   "source": [
    "##### if file not present in current directory\n",
    "\n",
    "'''\n",
    "An exception has occurred, use %tb to see the full traceback. <br/>\n",
    "\n",
    "SystemExit <br/>\n",
    "\n",
    "\n",
    "c:\\py37\\lib\\site-packages\\IPython\\core\\interactiveshell.py:2969: UserWarning: To exit: use 'exit', 'quit', or Ctrl-D. <br/>\n",
    "  warn(\"To exit: use 'exit', 'quit', or Ctrl-D.\", stacklevel=1)\n",
    "'''"
   ]
  },
  {
   "cell_type": "markdown",
   "metadata": {},
   "source": [
    "## Reading data"
   ]
  },
  {
   "cell_type": "markdown",
   "metadata": {},
   "source": [
    "#### Options while reading data\n",
    "\n",
    "##### json, html, clipboard, excel, hdf, feather, parquet, msgpack, stata, sas, pickle, sql, gbq\n",
    "\n",
    "pd.read_csv(f_name)\n",
    "\n",
    "##### read directly from database using SQL\n",
    "pd.io.sql.read_sql(sql, conn, chunksize=CHUNK_SIZE)\n",
    "\n",
    "##### read from a url\n",
    "pd.read_csv(url, delim_whitespace=True, names=names)\n",
    "\n",
    "1. header=None => first row will be treated as row <br/>\n",
    "2. index_col=None or index_col=\"Id\" <br/>\n",
    "3. sep=',' | '\\t' | '\\n' <br/>\n",
    "4. names=<list of column names> <br/>\n",
    "5. na_values = \" ?\" | ' ' | '--' | 'NA' <br/>\n",
    "    add new nan values in addition to keep_default_na <br/>\n",
    "6. nrows=1000 <br/> \n",
    "7. low_memory=False <br/>\n",
    "8. prefix='c' <adds a prefix to cols> <br/>\n",
    "9. mangle_dupe_cols=True <br/>\n",
    "10. specify true_values and false_values <br/>\n",
    "11. skipinitialspace <br/>\n",
    "12. skiprows <br/>\n",
    "13. skipfooter <br/>\n",
    "14. na_filter=False can improve the performance of reading a large file <br/>\n",
    "15. encoding <br/>\n",
    "16. chunksize <br/>\n",
    "17. delimiter is not required if sep is specified <br/>\n",
    "18. engine = c or python <br/>\n",
    "19. \n",
    "    "
   ]
  },
  {
   "cell_type": "code",
   "execution_count": 19,
   "metadata": {},
   "outputs": [],
   "source": [
    "# load dataframe\n",
    "df = pd.read_csv(f_name, sep=',', index_col=None, skiprows=None, chunksize=None, \n",
    "                 low_memory=False, encoding='utf-8', keep_default_na=True, \n",
    "                 na_values='', na_filter=True, nrows=None, engine='c')"
   ]
  },
  {
   "cell_type": "code",
   "execution_count": 20,
   "metadata": {},
   "outputs": [
    {
     "data": {
      "text/plain": [
       "58872"
      ]
     },
     "execution_count": 20,
     "metadata": {},
     "output_type": "execute_result"
    }
   ],
   "source": [
    "# row count\n",
    "len(df)"
   ]
  },
  {
   "cell_type": "code",
   "execution_count": 21,
   "metadata": {},
   "outputs": [
    {
     "data": {
      "text/plain": [
       "False"
      ]
     },
     "execution_count": 21,
     "metadata": {},
     "output_type": "execute_result"
    }
   ],
   "source": [
    "# empty check\n",
    "df.empty"
   ]
  },
  {
   "cell_type": "code",
   "execution_count": 22,
   "metadata": {},
   "outputs": [
    {
     "data": {
      "text/plain": [
       "serial_number            0\n",
       "activity_date            0\n",
       "facility_name            0\n",
       "score                    0\n",
       "grade                    0\n",
       "service_code             0\n",
       "service_description      0\n",
       "employee_id              0\n",
       "facility_address         0\n",
       "facility_city            0\n",
       "facility_id              0\n",
       "facility_state           0\n",
       "facility_zip             0\n",
       "owner_id                 0\n",
       "owner_name               0\n",
       "pe_description           0\n",
       "program_element_pe       0\n",
       "program_name           132\n",
       "program_status           0\n",
       "record_id                0\n",
       "dtype: int64"
      ]
     },
     "execution_count": 22,
     "metadata": {},
     "output_type": "execute_result"
    }
   ],
   "source": [
    "# columns with null values\n",
    "df.isnull().sum()"
   ]
  },
  {
   "cell_type": "markdown",
   "metadata": {},
   "source": [
    "### treating missing values "
   ]
  },
  {
   "cell_type": "code",
   "execution_count": 23,
   "metadata": {},
   "outputs": [
    {
     "data": {
      "text/plain": [
       "Text(0.5,1,'Missing Values per Feature')"
      ]
     },
     "execution_count": 23,
     "metadata": {},
     "output_type": "execute_result"
    },
    {
     "data": {
      "image/png": "[encoded data removed]",
      "text/plain": [
       "<Figure size 936x504 with 1 Axes>"
      ]
     },
     "metadata": {},
     "output_type": "display_data"
    }
   ],
   "source": [
    "#the amount of missing values per feature\n",
    "sns.set(rc={'figure.figsize':(13,7)})\n",
    "df.isnull().sum().plot(kind='bar')\n",
    "plt.ylabel('Number of missing values')\n",
    "plt.title('Missing Values per Feature')"
   ]
  },
  {
   "cell_type": "code",
   "execution_count": 24,
   "metadata": {},
   "outputs": [
    {
     "data": {
      "text/plain": [
       "20"
      ]
     },
     "execution_count": 24,
     "metadata": {},
     "output_type": "execute_result"
    }
   ],
   "source": [
    "# columns count\n",
    "n = len(df.columns)\n",
    "n"
   ]
  },
  {
   "cell_type": "code",
   "execution_count": 25,
   "metadata": {},
   "outputs": [],
   "source": [
    "# display all columns\n",
    "pd.options.display.max_columns = n\n"
   ]
  },
  {
   "cell_type": "code",
   "execution_count": 26,
   "metadata": {},
   "outputs": [
    {
     "data": {
      "text/html": [
       "<div>\n",
       "<style scoped>\n",
       "    .dataframe tbody tr th:only-of-type {\n",
       "        vertical-align: middle;\n",
       "    }\n",
       "\n",
       "    .dataframe tbody tr th {\n",
       "        vertical-align: top;\n",
       "    }\n",
       "\n",
       "    .dataframe thead th {\n",
       "        text-align: right;\n",
       "    }\n",
       "</style>\n",
       "<table border=\"1\" class=\"dataframe\">\n",
       "  <thead>\n",
       "    <tr style=\"text-align: right;\">\n",
       "      <th></th>\n",
       "      <th>serial_number</th>\n",
       "      <th>activity_date</th>\n",
       "      <th>facility_name</th>\n",
       "      <th>score</th>\n",
       "      <th>grade</th>\n",
       "      <th>service_code</th>\n",
       "      <th>service_description</th>\n",
       "      <th>employee_id</th>\n",
       "      <th>facility_address</th>\n",
       "      <th>facility_city</th>\n",
       "      <th>facility_id</th>\n",
       "      <th>facility_state</th>\n",
       "      <th>facility_zip</th>\n",
       "      <th>owner_id</th>\n",
       "      <th>owner_name</th>\n",
       "      <th>pe_description</th>\n",
       "      <th>program_element_pe</th>\n",
       "      <th>program_name</th>\n",
       "      <th>program_status</th>\n",
       "      <th>record_id</th>\n",
       "    </tr>\n",
       "  </thead>\n",
       "  <tbody>\n",
       "    <tr>\n",
       "      <th>58447</th>\n",
       "      <td>DAIUCEIQK</td>\n",
       "      <td>2018-01-09T00:00:00</td>\n",
       "      <td>OLEEGO</td>\n",
       "      <td>93</td>\n",
       "      <td>A</td>\n",
       "      <td>1</td>\n",
       "      <td>ROUTINE INSPECTION</td>\n",
       "      <td>EE0000360</td>\n",
       "      <td>639 N BROADWAY # G</td>\n",
       "      <td>LOS ANGELES</td>\n",
       "      <td>FA0178307</td>\n",
       "      <td>CA</td>\n",
       "      <td>90012</td>\n",
       "      <td>OW0184081</td>\n",
       "      <td>PARK'S BBQ EXPRESS INC.</td>\n",
       "      <td>RESTAURANT (0-30) SEATS HIGH RISK</td>\n",
       "      <td>1632</td>\n",
       "      <td>OLEEGO</td>\n",
       "      <td>ACTIVE</td>\n",
       "      <td>PR0171430</td>\n",
       "    </tr>\n",
       "    <tr>\n",
       "      <th>21322</th>\n",
       "      <td>DA7UVAB40</td>\n",
       "      <td>2016-12-21T00:00:00</td>\n",
       "      <td>THE COFFEE TABLE EAGLE ROCK</td>\n",
       "      <td>93</td>\n",
       "      <td>A</td>\n",
       "      <td>1</td>\n",
       "      <td>ROUTINE INSPECTION</td>\n",
       "      <td>EE0000746</td>\n",
       "      <td>1958 COLORADO BLVD</td>\n",
       "      <td>LOS ANGELES</td>\n",
       "      <td>FA0072168</td>\n",
       "      <td>CA</td>\n",
       "      <td>90041</td>\n",
       "      <td>OW0008455</td>\n",
       "      <td>COFFEE TABLE INC</td>\n",
       "      <td>RESTAURANT (61-150) SEATS HIGH RISK</td>\n",
       "      <td>1638</td>\n",
       "      <td>THE COFFEE TABLE EAGLE ROCK</td>\n",
       "      <td>INACTIVE</td>\n",
       "      <td>PR0046391</td>\n",
       "    </tr>\n",
       "    <tr>\n",
       "      <th>44431</th>\n",
       "      <td>DAQX0VR0V</td>\n",
       "      <td>2015-12-24T00:00:00</td>\n",
       "      <td>BUU DIEN FRENCH SANDWICHES</td>\n",
       "      <td>95</td>\n",
       "      <td>A</td>\n",
       "      <td>1</td>\n",
       "      <td>ROUTINE INSPECTION</td>\n",
       "      <td>EE0000360</td>\n",
       "      <td>642 N BROADWAY STE #5</td>\n",
       "      <td>LOS ANGELES</td>\n",
       "      <td>FA0011484</td>\n",
       "      <td>CA</td>\n",
       "      <td>90012</td>\n",
       "      <td>OW0028398</td>\n",
       "      <td>PHAM, VY</td>\n",
       "      <td>RESTAURANT (0-30) SEATS MODERATE RISK</td>\n",
       "      <td>1631</td>\n",
       "      <td>BUU DIEN FRENCH SANDWICHES</td>\n",
       "      <td>ACTIVE</td>\n",
       "      <td>PR0008428</td>\n",
       "    </tr>\n",
       "    <tr>\n",
       "      <th>57772</th>\n",
       "      <td>DA04L0ZJ1</td>\n",
       "      <td>2018-01-18T00:00:00</td>\n",
       "      <td>GOLDEN FOREST MONGOLIAN BBQ</td>\n",
       "      <td>94</td>\n",
       "      <td>A</td>\n",
       "      <td>1</td>\n",
       "      <td>ROUTINE INSPECTION</td>\n",
       "      <td>EE0000746</td>\n",
       "      <td>7315 N FIGUEROA ST # 102</td>\n",
       "      <td>LOS ANGELES</td>\n",
       "      <td>FA0167462</td>\n",
       "      <td>CA</td>\n",
       "      <td>90041</td>\n",
       "      <td>OW0130501</td>\n",
       "      <td>GOLDEN FOREST MONGOLIAN BBQ</td>\n",
       "      <td>RESTAURANT (0-30) SEATS HIGH RISK</td>\n",
       "      <td>1632</td>\n",
       "      <td>GOLDEN FOREST MONGOLIAN BBQ</td>\n",
       "      <td>ACTIVE</td>\n",
       "      <td>PR0157830</td>\n",
       "    </tr>\n",
       "    <tr>\n",
       "      <th>43972</th>\n",
       "      <td>DAEYGR5TF</td>\n",
       "      <td>2016-01-05T00:00:00</td>\n",
       "      <td>BEST MARKET</td>\n",
       "      <td>96</td>\n",
       "      <td>A</td>\n",
       "      <td>1</td>\n",
       "      <td>ROUTINE INSPECTION</td>\n",
       "      <td>EE0000874</td>\n",
       "      <td>4275 S HOOVER ST</td>\n",
       "      <td>LOS ANGELES</td>\n",
       "      <td>FA0178531</td>\n",
       "      <td>CA</td>\n",
       "      <td>90037</td>\n",
       "      <td>OW0184263</td>\n",
       "      <td>SANDEEP SINGH</td>\n",
       "      <td>FOOD MKT RETAIL (25-1,999 SF) HIGH RISK</td>\n",
       "      <td>1612</td>\n",
       "      <td>BEST MARKET</td>\n",
       "      <td>ACTIVE</td>\n",
       "      <td>PR0171981</td>\n",
       "    </tr>\n",
       "  </tbody>\n",
       "</table>\n",
       "</div>"
      ],
      "text/plain": [
       "      serial_number        activity_date                facility_name  score  \\\n",
       "58447     DAIUCEIQK  2018-01-09T00:00:00                       OLEEGO     93   \n",
       "21322     DA7UVAB40  2016-12-21T00:00:00  THE COFFEE TABLE EAGLE ROCK     93   \n",
       "44431     DAQX0VR0V  2015-12-24T00:00:00   BUU DIEN FRENCH SANDWICHES     95   \n",
       "57772     DA04L0ZJ1  2018-01-18T00:00:00  GOLDEN FOREST MONGOLIAN BBQ     94   \n",
       "43972     DAEYGR5TF  2016-01-05T00:00:00                  BEST MARKET     96   \n",
       "\n",
       "      grade  service_code service_description employee_id  \\\n",
       "58447     A             1  ROUTINE INSPECTION   EE0000360   \n",
       "21322     A             1  ROUTINE INSPECTION   EE0000746   \n",
       "44431     A             1  ROUTINE INSPECTION   EE0000360   \n",
       "57772     A             1  ROUTINE INSPECTION   EE0000746   \n",
       "43972     A             1  ROUTINE INSPECTION   EE0000874   \n",
       "\n",
       "               facility_address facility_city facility_id facility_state  \\\n",
       "58447        639 N BROADWAY # G   LOS ANGELES   FA0178307             CA   \n",
       "21322        1958 COLORADO BLVD   LOS ANGELES   FA0072168             CA   \n",
       "44431     642 N BROADWAY STE #5   LOS ANGELES   FA0011484             CA   \n",
       "57772  7315 N FIGUEROA ST # 102   LOS ANGELES   FA0167462             CA   \n",
       "43972          4275 S HOOVER ST   LOS ANGELES   FA0178531             CA   \n",
       "\n",
       "      facility_zip   owner_id                   owner_name  \\\n",
       "58447        90012  OW0184081      PARK'S BBQ EXPRESS INC.   \n",
       "21322        90041  OW0008455             COFFEE TABLE INC   \n",
       "44431        90012  OW0028398                     PHAM, VY   \n",
       "57772        90041  OW0130501  GOLDEN FOREST MONGOLIAN BBQ   \n",
       "43972        90037  OW0184263                SANDEEP SINGH   \n",
       "\n",
       "                                pe_description  program_element_pe  \\\n",
       "58447        RESTAURANT (0-30) SEATS HIGH RISK                1632   \n",
       "21322      RESTAURANT (61-150) SEATS HIGH RISK                1638   \n",
       "44431    RESTAURANT (0-30) SEATS MODERATE RISK                1631   \n",
       "57772        RESTAURANT (0-30) SEATS HIGH RISK                1632   \n",
       "43972  FOOD MKT RETAIL (25-1,999 SF) HIGH RISK                1612   \n",
       "\n",
       "                      program_name program_status  record_id  \n",
       "58447                       OLEEGO         ACTIVE  PR0171430  \n",
       "21322  THE COFFEE TABLE EAGLE ROCK       INACTIVE  PR0046391  \n",
       "44431   BUU DIEN FRENCH SANDWICHES         ACTIVE  PR0008428  \n",
       "57772  GOLDEN FOREST MONGOLIAN BBQ         ACTIVE  PR0157830  \n",
       "43972                  BEST MARKET         ACTIVE  PR0171981  "
      ]
     },
     "execution_count": 26,
     "metadata": {},
     "output_type": "execute_result"
    }
   ],
   "source": [
    "# pandas sample() and head()\n",
    "df.sample(7).head()"
   ]
  },
  {
   "cell_type": "code",
   "execution_count": 27,
   "metadata": {},
   "outputs": [
    {
     "name": "stdout",
     "output_type": "stream",
     "text": [
      "<class 'pandas.core.frame.DataFrame'>\n",
      "RangeIndex: 58872 entries, 0 to 58871\n",
      "Data columns (total 20 columns):\n",
      "serial_number          58872 non-null object\n",
      "activity_date          58872 non-null object\n",
      "facility_name          58872 non-null object\n",
      "score                  58872 non-null int64\n",
      "grade                  58872 non-null object\n",
      "service_code           58872 non-null int64\n",
      "service_description    58872 non-null object\n",
      "employee_id            58872 non-null object\n",
      "facility_address       58872 non-null object\n",
      "facility_city          58872 non-null object\n",
      "facility_id            58872 non-null object\n",
      "facility_state         58872 non-null object\n",
      "facility_zip           58872 non-null object\n",
      "owner_id               58872 non-null object\n",
      "owner_name             58872 non-null object\n",
      "pe_description         58872 non-null object\n",
      "program_element_pe     58872 non-null int64\n",
      "program_name           58740 non-null object\n",
      "program_status         58872 non-null object\n",
      "record_id              58872 non-null object\n",
      "dtypes: int64(3), object(17)\n",
      "memory usage: 9.0+ MB\n"
     ]
    }
   ],
   "source": [
    "# info()\n",
    "df.info()"
   ]
  },
  {
   "cell_type": "code",
   "execution_count": 28,
   "metadata": {},
   "outputs": [
    {
     "data": {
      "text/plain": [
       "serial_number          object\n",
       "activity_date          object\n",
       "facility_name          object\n",
       "score                   int64\n",
       "grade                  object\n",
       "service_code            int64\n",
       "service_description    object\n",
       "employee_id            object\n",
       "facility_address       object\n",
       "facility_city          object\n",
       "facility_id            object\n",
       "facility_state         object\n",
       "facility_zip           object\n",
       "owner_id               object\n",
       "owner_name             object\n",
       "pe_description         object\n",
       "program_element_pe      int64\n",
       "program_name           object\n",
       "program_status         object\n",
       "record_id              object\n",
       "dtype: object"
      ]
     },
     "execution_count": 28,
     "metadata": {},
     "output_type": "execute_result"
    }
   ],
   "source": [
    "# datatypes => bool, object, date, int, float\n",
    "df.dtypes"
   ]
  },
  {
   "cell_type": "code",
   "execution_count": 29,
   "metadata": {},
   "outputs": [
    {
     "data": {
      "text/html": [
       "<div>\n",
       "<style scoped>\n",
       "    .dataframe tbody tr th:only-of-type {\n",
       "        vertical-align: middle;\n",
       "    }\n",
       "\n",
       "    .dataframe tbody tr th {\n",
       "        vertical-align: top;\n",
       "    }\n",
       "\n",
       "    .dataframe thead th {\n",
       "        text-align: right;\n",
       "    }\n",
       "</style>\n",
       "<table border=\"1\" class=\"dataframe\">\n",
       "  <thead>\n",
       "    <tr style=\"text-align: right;\">\n",
       "      <th></th>\n",
       "      <th>score</th>\n",
       "      <th>service_code</th>\n",
       "      <th>program_element_pe</th>\n",
       "    </tr>\n",
       "  </thead>\n",
       "  <tbody>\n",
       "    <tr>\n",
       "      <th>count</th>\n",
       "      <td>58872.000000</td>\n",
       "      <td>58872.000000</td>\n",
       "      <td>58872.000000</td>\n",
       "    </tr>\n",
       "    <tr>\n",
       "      <th>mean</th>\n",
       "      <td>93.307922</td>\n",
       "      <td>7.733252</td>\n",
       "      <td>1629.489282</td>\n",
       "    </tr>\n",
       "    <tr>\n",
       "      <th>std</th>\n",
       "      <td>3.996712</td>\n",
       "      <td>51.458809</td>\n",
       "      <td>9.397450</td>\n",
       "    </tr>\n",
       "    <tr>\n",
       "      <th>min</th>\n",
       "      <td>64.000000</td>\n",
       "      <td>1.000000</td>\n",
       "      <td>1610.000000</td>\n",
       "    </tr>\n",
       "    <tr>\n",
       "      <th>25%</th>\n",
       "      <td>91.000000</td>\n",
       "      <td>1.000000</td>\n",
       "      <td>1631.000000</td>\n",
       "    </tr>\n",
       "    <tr>\n",
       "      <th>50%</th>\n",
       "      <td>94.000000</td>\n",
       "      <td>1.000000</td>\n",
       "      <td>1632.000000</td>\n",
       "    </tr>\n",
       "    <tr>\n",
       "      <th>75%</th>\n",
       "      <td>96.000000</td>\n",
       "      <td>1.000000</td>\n",
       "      <td>1635.000000</td>\n",
       "    </tr>\n",
       "    <tr>\n",
       "      <th>max</th>\n",
       "      <td>100.000000</td>\n",
       "      <td>401.000000</td>\n",
       "      <td>1641.000000</td>\n",
       "    </tr>\n",
       "  </tbody>\n",
       "</table>\n",
       "</div>"
      ],
      "text/plain": [
       "              score  service_code  program_element_pe\n",
       "count  58872.000000  58872.000000        58872.000000\n",
       "mean      93.307922      7.733252         1629.489282\n",
       "std        3.996712     51.458809            9.397450\n",
       "min       64.000000      1.000000         1610.000000\n",
       "25%       91.000000      1.000000         1631.000000\n",
       "50%       94.000000      1.000000         1632.000000\n",
       "75%       96.000000      1.000000         1635.000000\n",
       "max      100.000000    401.000000         1641.000000"
      ]
     },
     "execution_count": 29,
     "metadata": {},
     "output_type": "execute_result"
    }
   ],
   "source": [
    "# describe dataframe => only numeric columns by default\n",
    "df.describe()"
   ]
  },
  {
   "cell_type": "code",
   "execution_count": 30,
   "metadata": {},
   "outputs": [
    {
     "data": {
      "text/html": [
       "<div>\n",
       "<style scoped>\n",
       "    .dataframe tbody tr th:only-of-type {\n",
       "        vertical-align: middle;\n",
       "    }\n",
       "\n",
       "    .dataframe tbody tr th {\n",
       "        vertical-align: top;\n",
       "    }\n",
       "\n",
       "    .dataframe thead th {\n",
       "        text-align: right;\n",
       "    }\n",
       "</style>\n",
       "<table border=\"1\" class=\"dataframe\">\n",
       "  <thead>\n",
       "    <tr style=\"text-align: right;\">\n",
       "      <th></th>\n",
       "      <th>serial_number</th>\n",
       "      <th>activity_date</th>\n",
       "      <th>facility_name</th>\n",
       "      <th>score</th>\n",
       "      <th>grade</th>\n",
       "      <th>service_code</th>\n",
       "      <th>service_description</th>\n",
       "      <th>employee_id</th>\n",
       "      <th>facility_address</th>\n",
       "      <th>facility_city</th>\n",
       "      <th>facility_id</th>\n",
       "      <th>facility_state</th>\n",
       "      <th>facility_zip</th>\n",
       "      <th>owner_id</th>\n",
       "      <th>owner_name</th>\n",
       "      <th>pe_description</th>\n",
       "      <th>program_element_pe</th>\n",
       "      <th>program_name</th>\n",
       "      <th>program_status</th>\n",
       "      <th>record_id</th>\n",
       "    </tr>\n",
       "  </thead>\n",
       "  <tbody>\n",
       "    <tr>\n",
       "      <th>count</th>\n",
       "      <td>58872</td>\n",
       "      <td>58872</td>\n",
       "      <td>58872</td>\n",
       "      <td>58872.000000</td>\n",
       "      <td>58872</td>\n",
       "      <td>58872.000000</td>\n",
       "      <td>58872</td>\n",
       "      <td>58872</td>\n",
       "      <td>58872</td>\n",
       "      <td>58872</td>\n",
       "      <td>58872</td>\n",
       "      <td>58872</td>\n",
       "      <td>58872</td>\n",
       "      <td>58872</td>\n",
       "      <td>58872</td>\n",
       "      <td>58872</td>\n",
       "      <td>58872.000000</td>\n",
       "      <td>58740</td>\n",
       "      <td>58872</td>\n",
       "      <td>58872</td>\n",
       "    </tr>\n",
       "    <tr>\n",
       "      <th>unique</th>\n",
       "      <td>58872</td>\n",
       "      <td>767</td>\n",
       "      <td>11681</td>\n",
       "      <td>NaN</td>\n",
       "      <td>4</td>\n",
       "      <td>NaN</td>\n",
       "      <td>2</td>\n",
       "      <td>129</td>\n",
       "      <td>11537</td>\n",
       "      <td>1</td>\n",
       "      <td>13093</td>\n",
       "      <td>1</td>\n",
       "      <td>952</td>\n",
       "      <td>11389</td>\n",
       "      <td>11165</td>\n",
       "      <td>18</td>\n",
       "      <td>NaN</td>\n",
       "      <td>12446</td>\n",
       "      <td>2</td>\n",
       "      <td>14066</td>\n",
       "    </tr>\n",
       "    <tr>\n",
       "      <th>top</th>\n",
       "      <td>DAZONKSXC</td>\n",
       "      <td>2016-03-07T00:00:00</td>\n",
       "      <td>DODGER STADIUM</td>\n",
       "      <td>NaN</td>\n",
       "      <td>A</td>\n",
       "      <td>NaN</td>\n",
       "      <td>ROUTINE INSPECTION</td>\n",
       "      <td>EE0000721</td>\n",
       "      <td>1000 VIN SCULLY AVE</td>\n",
       "      <td>LOS ANGELES</td>\n",
       "      <td>FA0019271</td>\n",
       "      <td>CA</td>\n",
       "      <td>90012</td>\n",
       "      <td>OW0029458</td>\n",
       "      <td>RALPHS GROCERY COMPANY</td>\n",
       "      <td>RESTAURANT (0-30) SEATS HIGH RISK</td>\n",
       "      <td>NaN</td>\n",
       "      <td>SUBWAY</td>\n",
       "      <td>ACTIVE</td>\n",
       "      <td>PR0164507</td>\n",
       "    </tr>\n",
       "    <tr>\n",
       "      <th>freq</th>\n",
       "      <td>1</td>\n",
       "      <td>182</td>\n",
       "      <td>380</td>\n",
       "      <td>NaN</td>\n",
       "      <td>54904</td>\n",
       "      <td>NaN</td>\n",
       "      <td>57881</td>\n",
       "      <td>4313</td>\n",
       "      <td>383</td>\n",
       "      <td>58872</td>\n",
       "      <td>380</td>\n",
       "      <td>58872</td>\n",
       "      <td>2266</td>\n",
       "      <td>557</td>\n",
       "      <td>557</td>\n",
       "      <td>13735</td>\n",
       "      <td>NaN</td>\n",
       "      <td>154</td>\n",
       "      <td>52040</td>\n",
       "      <td>10</td>\n",
       "    </tr>\n",
       "    <tr>\n",
       "      <th>mean</th>\n",
       "      <td>NaN</td>\n",
       "      <td>NaN</td>\n",
       "      <td>NaN</td>\n",
       "      <td>93.307922</td>\n",
       "      <td>NaN</td>\n",
       "      <td>7.733252</td>\n",
       "      <td>NaN</td>\n",
       "      <td>NaN</td>\n",
       "      <td>NaN</td>\n",
       "      <td>NaN</td>\n",
       "      <td>NaN</td>\n",
       "      <td>NaN</td>\n",
       "      <td>NaN</td>\n",
       "      <td>NaN</td>\n",
       "      <td>NaN</td>\n",
       "      <td>NaN</td>\n",
       "      <td>1629.489282</td>\n",
       "      <td>NaN</td>\n",
       "      <td>NaN</td>\n",
       "      <td>NaN</td>\n",
       "    </tr>\n",
       "    <tr>\n",
       "      <th>std</th>\n",
       "      <td>NaN</td>\n",
       "      <td>NaN</td>\n",
       "      <td>NaN</td>\n",
       "      <td>3.996712</td>\n",
       "      <td>NaN</td>\n",
       "      <td>51.458809</td>\n",
       "      <td>NaN</td>\n",
       "      <td>NaN</td>\n",
       "      <td>NaN</td>\n",
       "      <td>NaN</td>\n",
       "      <td>NaN</td>\n",
       "      <td>NaN</td>\n",
       "      <td>NaN</td>\n",
       "      <td>NaN</td>\n",
       "      <td>NaN</td>\n",
       "      <td>NaN</td>\n",
       "      <td>9.397450</td>\n",
       "      <td>NaN</td>\n",
       "      <td>NaN</td>\n",
       "      <td>NaN</td>\n",
       "    </tr>\n",
       "    <tr>\n",
       "      <th>min</th>\n",
       "      <td>NaN</td>\n",
       "      <td>NaN</td>\n",
       "      <td>NaN</td>\n",
       "      <td>64.000000</td>\n",
       "      <td>NaN</td>\n",
       "      <td>1.000000</td>\n",
       "      <td>NaN</td>\n",
       "      <td>NaN</td>\n",
       "      <td>NaN</td>\n",
       "      <td>NaN</td>\n",
       "      <td>NaN</td>\n",
       "      <td>NaN</td>\n",
       "      <td>NaN</td>\n",
       "      <td>NaN</td>\n",
       "      <td>NaN</td>\n",
       "      <td>NaN</td>\n",
       "      <td>1610.000000</td>\n",
       "      <td>NaN</td>\n",
       "      <td>NaN</td>\n",
       "      <td>NaN</td>\n",
       "    </tr>\n",
       "    <tr>\n",
       "      <th>25%</th>\n",
       "      <td>NaN</td>\n",
       "      <td>NaN</td>\n",
       "      <td>NaN</td>\n",
       "      <td>91.000000</td>\n",
       "      <td>NaN</td>\n",
       "      <td>1.000000</td>\n",
       "      <td>NaN</td>\n",
       "      <td>NaN</td>\n",
       "      <td>NaN</td>\n",
       "      <td>NaN</td>\n",
       "      <td>NaN</td>\n",
       "      <td>NaN</td>\n",
       "      <td>NaN</td>\n",
       "      <td>NaN</td>\n",
       "      <td>NaN</td>\n",
       "      <td>NaN</td>\n",
       "      <td>1631.000000</td>\n",
       "      <td>NaN</td>\n",
       "      <td>NaN</td>\n",
       "      <td>NaN</td>\n",
       "    </tr>\n",
       "    <tr>\n",
       "      <th>50%</th>\n",
       "      <td>NaN</td>\n",
       "      <td>NaN</td>\n",
       "      <td>NaN</td>\n",
       "      <td>94.000000</td>\n",
       "      <td>NaN</td>\n",
       "      <td>1.000000</td>\n",
       "      <td>NaN</td>\n",
       "      <td>NaN</td>\n",
       "      <td>NaN</td>\n",
       "      <td>NaN</td>\n",
       "      <td>NaN</td>\n",
       "      <td>NaN</td>\n",
       "      <td>NaN</td>\n",
       "      <td>NaN</td>\n",
       "      <td>NaN</td>\n",
       "      <td>NaN</td>\n",
       "      <td>1632.000000</td>\n",
       "      <td>NaN</td>\n",
       "      <td>NaN</td>\n",
       "      <td>NaN</td>\n",
       "    </tr>\n",
       "    <tr>\n",
       "      <th>75%</th>\n",
       "      <td>NaN</td>\n",
       "      <td>NaN</td>\n",
       "      <td>NaN</td>\n",
       "      <td>96.000000</td>\n",
       "      <td>NaN</td>\n",
       "      <td>1.000000</td>\n",
       "      <td>NaN</td>\n",
       "      <td>NaN</td>\n",
       "      <td>NaN</td>\n",
       "      <td>NaN</td>\n",
       "      <td>NaN</td>\n",
       "      <td>NaN</td>\n",
       "      <td>NaN</td>\n",
       "      <td>NaN</td>\n",
       "      <td>NaN</td>\n",
       "      <td>NaN</td>\n",
       "      <td>1635.000000</td>\n",
       "      <td>NaN</td>\n",
       "      <td>NaN</td>\n",
       "      <td>NaN</td>\n",
       "    </tr>\n",
       "    <tr>\n",
       "      <th>max</th>\n",
       "      <td>NaN</td>\n",
       "      <td>NaN</td>\n",
       "      <td>NaN</td>\n",
       "      <td>100.000000</td>\n",
       "      <td>NaN</td>\n",
       "      <td>401.000000</td>\n",
       "      <td>NaN</td>\n",
       "      <td>NaN</td>\n",
       "      <td>NaN</td>\n",
       "      <td>NaN</td>\n",
       "      <td>NaN</td>\n",
       "      <td>NaN</td>\n",
       "      <td>NaN</td>\n",
       "      <td>NaN</td>\n",
       "      <td>NaN</td>\n",
       "      <td>NaN</td>\n",
       "      <td>1641.000000</td>\n",
       "      <td>NaN</td>\n",
       "      <td>NaN</td>\n",
       "      <td>NaN</td>\n",
       "    </tr>\n",
       "  </tbody>\n",
       "</table>\n",
       "</div>"
      ],
      "text/plain": [
       "       serial_number        activity_date   facility_name         score  \\\n",
       "count          58872                58872           58872  58872.000000   \n",
       "unique         58872                  767           11681           NaN   \n",
       "top        DAZONKSXC  2016-03-07T00:00:00  DODGER STADIUM           NaN   \n",
       "freq               1                  182             380           NaN   \n",
       "mean             NaN                  NaN             NaN     93.307922   \n",
       "std              NaN                  NaN             NaN      3.996712   \n",
       "min              NaN                  NaN             NaN     64.000000   \n",
       "25%              NaN                  NaN             NaN     91.000000   \n",
       "50%              NaN                  NaN             NaN     94.000000   \n",
       "75%              NaN                  NaN             NaN     96.000000   \n",
       "max              NaN                  NaN             NaN    100.000000   \n",
       "\n",
       "        grade  service_code service_description employee_id  \\\n",
       "count   58872  58872.000000               58872       58872   \n",
       "unique      4           NaN                   2         129   \n",
       "top         A           NaN  ROUTINE INSPECTION   EE0000721   \n",
       "freq    54904           NaN               57881        4313   \n",
       "mean      NaN      7.733252                 NaN         NaN   \n",
       "std       NaN     51.458809                 NaN         NaN   \n",
       "min       NaN      1.000000                 NaN         NaN   \n",
       "25%       NaN      1.000000                 NaN         NaN   \n",
       "50%       NaN      1.000000                 NaN         NaN   \n",
       "75%       NaN      1.000000                 NaN         NaN   \n",
       "max       NaN    401.000000                 NaN         NaN   \n",
       "\n",
       "           facility_address facility_city facility_id facility_state  \\\n",
       "count                 58872         58872       58872          58872   \n",
       "unique                11537             1       13093              1   \n",
       "top     1000 VIN SCULLY AVE   LOS ANGELES   FA0019271             CA   \n",
       "freq                    383         58872         380          58872   \n",
       "mean                    NaN           NaN         NaN            NaN   \n",
       "std                     NaN           NaN         NaN            NaN   \n",
       "min                     NaN           NaN         NaN            NaN   \n",
       "25%                     NaN           NaN         NaN            NaN   \n",
       "50%                     NaN           NaN         NaN            NaN   \n",
       "75%                     NaN           NaN         NaN            NaN   \n",
       "max                     NaN           NaN         NaN            NaN   \n",
       "\n",
       "       facility_zip   owner_id              owner_name  \\\n",
       "count         58872      58872                   58872   \n",
       "unique          952      11389                   11165   \n",
       "top           90012  OW0029458  RALPHS GROCERY COMPANY   \n",
       "freq           2266        557                     557   \n",
       "mean            NaN        NaN                     NaN   \n",
       "std             NaN        NaN                     NaN   \n",
       "min             NaN        NaN                     NaN   \n",
       "25%             NaN        NaN                     NaN   \n",
       "50%             NaN        NaN                     NaN   \n",
       "75%             NaN        NaN                     NaN   \n",
       "max             NaN        NaN                     NaN   \n",
       "\n",
       "                           pe_description  program_element_pe program_name  \\\n",
       "count                               58872        58872.000000        58740   \n",
       "unique                                 18                 NaN        12446   \n",
       "top     RESTAURANT (0-30) SEATS HIGH RISK                 NaN       SUBWAY   \n",
       "freq                                13735                 NaN          154   \n",
       "mean                                  NaN         1629.489282          NaN   \n",
       "std                                   NaN            9.397450          NaN   \n",
       "min                                   NaN         1610.000000          NaN   \n",
       "25%                                   NaN         1631.000000          NaN   \n",
       "50%                                   NaN         1632.000000          NaN   \n",
       "75%                                   NaN         1635.000000          NaN   \n",
       "max                                   NaN         1641.000000          NaN   \n",
       "\n",
       "       program_status  record_id  \n",
       "count           58872      58872  \n",
       "unique              2      14066  \n",
       "top            ACTIVE  PR0164507  \n",
       "freq            52040         10  \n",
       "mean              NaN        NaN  \n",
       "std               NaN        NaN  \n",
       "min               NaN        NaN  \n",
       "25%               NaN        NaN  \n",
       "50%               NaN        NaN  \n",
       "75%               NaN        NaN  \n",
       "max               NaN        NaN  "
      ]
     },
     "execution_count": 30,
     "metadata": {},
     "output_type": "execute_result"
    }
   ],
   "source": [
    "# describe dataframe => include all for categorical columns\n",
    "df.describe(include='all')"
   ]
  },
  {
   "cell_type": "code",
   "execution_count": 31,
   "metadata": {},
   "outputs": [
    {
     "data": {
      "text/plain": [
       "['serial_number',\n",
       " 'activity_date',\n",
       " 'facility_name',\n",
       " 'score',\n",
       " 'grade',\n",
       " 'service_code',\n",
       " 'service_description',\n",
       " 'employee_id',\n",
       " 'facility_address',\n",
       " 'facility_city',\n",
       " 'facility_id',\n",
       " 'facility_state',\n",
       " 'facility_zip',\n",
       " 'owner_id',\n",
       " 'owner_name',\n",
       " 'pe_description',\n",
       " 'program_element_pe',\n",
       " 'program_name',\n",
       " 'program_status',\n",
       " 'record_id']"
      ]
     },
     "execution_count": 31,
     "metadata": {},
     "output_type": "execute_result"
    }
   ],
   "source": [
    "# save column names \n",
    "columns = list(df.columns)\n",
    "columns"
   ]
  },
  {
   "cell_type": "markdown",
   "metadata": {},
   "source": [
    "#### Get columns by type"
   ]
  },
  {
   "cell_type": "code",
   "execution_count": 32,
   "metadata": {},
   "outputs": [],
   "source": [
    "# can be date, bool, int, float, object types"
   ]
  },
  {
   "cell_type": "code",
   "execution_count": 33,
   "metadata": {},
   "outputs": [
    {
     "data": {
      "text/plain": [
       "['serial_number',\n",
       " 'activity_date',\n",
       " 'facility_name',\n",
       " 'grade',\n",
       " 'service_description',\n",
       " 'employee_id',\n",
       " 'facility_address',\n",
       " 'facility_city',\n",
       " 'facility_id',\n",
       " 'facility_state',\n",
       " 'facility_zip',\n",
       " 'owner_id',\n",
       " 'owner_name',\n",
       " 'pe_description',\n",
       " 'program_name',\n",
       " 'program_status',\n",
       " 'record_id']"
      ]
     },
     "execution_count": 33,
     "metadata": {},
     "output_type": "execute_result"
    }
   ],
   "source": [
    "# categorical columns\n",
    "cat_cols = df.select_dtypes(include=['object'])\n",
    "cat_cols = list(cat_cols)\n",
    "cat_cols"
   ]
  },
  {
   "cell_type": "code",
   "execution_count": 34,
   "metadata": {},
   "outputs": [
    {
     "data": {
      "text/plain": [
       "Series([], dtype: object)"
      ]
     },
     "execution_count": 34,
     "metadata": {},
     "output_type": "execute_result"
    }
   ],
   "source": [
    "# check for other categories or datatypes\n",
    "df.select_dtypes(include=['category']).dtypes"
   ]
  },
  {
   "cell_type": "code",
   "execution_count": 35,
   "metadata": {},
   "outputs": [
    {
     "data": {
      "text/plain": [
       "Series([], dtype: object)"
      ]
     },
     "execution_count": 35,
     "metadata": {},
     "output_type": "execute_result"
    }
   ],
   "source": [
    "# float\n",
    "df.select_dtypes(include=['float']).dtypes"
   ]
  },
  {
   "cell_type": "code",
   "execution_count": 36,
   "metadata": {},
   "outputs": [
    {
     "data": {
      "text/plain": [
       "score                 int64\n",
       "service_code          int64\n",
       "program_element_pe    int64\n",
       "dtype: object"
      ]
     },
     "execution_count": 36,
     "metadata": {},
     "output_type": "execute_result"
    }
   ],
   "source": [
    "# int\n",
    "df.select_dtypes(include=['int64']).dtypes"
   ]
  },
  {
   "cell_type": "markdown",
   "metadata": {},
   "source": [
    "### Convert numeric columns which are of object type"
   ]
  },
  {
   "cell_type": "code",
   "execution_count": 37,
   "metadata": {},
   "outputs": [],
   "source": [
    "# if there are any columns which has numeric data\n",
    "# but of category as object, then identify those and\n",
    "# convert them to numeric using pd.to_numeric()"
   ]
  },
  {
   "cell_type": "code",
   "execution_count": 38,
   "metadata": {},
   "outputs": [
    {
     "data": {
      "text/plain": [
       "Index(['score', 'service_code', 'program_element_pe'], dtype='object')"
      ]
     },
     "execution_count": 38,
     "metadata": {},
     "output_type": "execute_result"
    }
   ],
   "source": [
    "num_cols = df._get_numeric_data().columns\n",
    "num_cols"
   ]
  },
  {
   "cell_type": "code",
   "execution_count": 39,
   "metadata": {},
   "outputs": [
    {
     "data": {
      "text/plain": [
       "['score', 'service_code', 'program_element_pe']"
      ]
     },
     "execution_count": 39,
     "metadata": {},
     "output_type": "execute_result"
    }
   ],
   "source": [
    "num_cols = list(num_cols)\n",
    "num_cols"
   ]
  },
  {
   "cell_type": "code",
   "execution_count": 40,
   "metadata": {},
   "outputs": [],
   "source": [
    "# pandas to numeric!!\n",
    "df[num_cols] = df[num_cols].apply(pd.to_numeric)"
   ]
  },
  {
   "cell_type": "code",
   "execution_count": 41,
   "metadata": {},
   "outputs": [
    {
     "data": {
      "text/plain": [
       "score                 int64\n",
       "service_code          int64\n",
       "program_element_pe    int64\n",
       "dtype: object"
      ]
     },
     "execution_count": 41,
     "metadata": {},
     "output_type": "execute_result"
    }
   ],
   "source": [
    "df[num_cols].dtypes"
   ]
  },
  {
   "cell_type": "code",
   "execution_count": 42,
   "metadata": {},
   "outputs": [
    {
     "data": {
      "text/plain": [
       "176"
      ]
     },
     "execution_count": 42,
     "metadata": {},
     "output_type": "execute_result"
    }
   ],
   "source": [
    "gc.collect()"
   ]
  },
  {
   "cell_type": "markdown",
   "metadata": {},
   "source": [
    "#### Date columns "
   ]
  },
  {
   "cell_type": "code",
   "execution_count": 43,
   "metadata": {},
   "outputs": [],
   "source": [
    "# df[\"Date\"] = pd.to_datetime(df[\"Date\"], dayfirst=True)"
   ]
  },
  {
   "cell_type": "markdown",
   "metadata": {},
   "source": [
    "### Correlation Plot"
   ]
  },
  {
   "cell_type": "code",
   "execution_count": 44,
   "metadata": {},
   "outputs": [
    {
     "data": {
      "text/plain": [
       "<matplotlib.axes._subplots.AxesSubplot at 0x2324ce63358>"
      ]
     },
     "execution_count": 44,
     "metadata": {},
     "output_type": "execute_result"
    },
    {
     "data": {
      "image/png": "[encoded data removed]",
      "text/plain": [
       "<Figure size 792x504 with 2 Axes>"
      ]
     },
     "metadata": {},
     "output_type": "display_data"
    }
   ],
   "source": [
    "# asusming you have a dataframe df\n",
    "correlations = df.corr()\n",
    "\n",
    "# Generate a mask for the upper triangle\n",
    "mask = np.zeros_like(correlations, dtype=np.bool)\n",
    "# array([[False, False],\n",
    "#       [False, False]])\n",
    "\n",
    "mask[np.triu_indices_from(mask)] = True\n",
    "# array([[ True,  True],\n",
    "#       [False,  True]])\n",
    "\n",
    "# Set up the matplotlib figure\n",
    "f, ax = plt.subplots(figsize=(11, 7))\n",
    "\n",
    "# Generate a custom diverging colormap\n",
    "cmap = sns.diverging_palette(220, 10, as_cmap=True)\n",
    "\n",
    "# Draw the heatmap with the mask and correct aspect ratio\n",
    "sns.heatmap(correlations, mask=mask, cmap=cmap, vmax=.3, center=0,\n",
    "            square=True, linewidths=.5, cbar_kws={\"shrink\": .5})"
   ]
  },
  {
   "cell_type": "markdown",
   "metadata": {},
   "source": [
    "### Categoricals"
   ]
  },
  {
   "cell_type": "code",
   "execution_count": 45,
   "metadata": {},
   "outputs": [
    {
     "data": {
      "text/plain": [
       "(array([0, 0, 0, ..., 0, 0, 0], dtype=int64),\n",
       " Index(['A', 'B', 'C', ' '], dtype='object'))"
      ]
     },
     "execution_count": 45,
     "metadata": {},
     "output_type": "execute_result"
    }
   ],
   "source": [
    "# factorize categorical variables\n",
    "pd.factorize(df['grade'])"
   ]
  },
  {
   "cell_type": "code",
   "execution_count": 46,
   "metadata": {},
   "outputs": [
    {
     "data": {
      "text/plain": [
       "[serial_number, activity_date, facility_name, score, grade, ..., pe_description, program_element_pe, program_name, program_status, record_id]\n",
       "Length: 20\n",
       "Categories (20, object): [activity_date, employee_id, facility_address, facility_city, ..., score, serial_number, service_code, service_description]"
      ]
     },
     "execution_count": 46,
     "metadata": {},
     "output_type": "execute_result"
    }
   ],
   "source": [
    "pd.Categorical(df)"
   ]
  },
  {
   "cell_type": "markdown",
   "metadata": {},
   "source": [
    "### Configure Features & Target"
   ]
  },
  {
   "cell_type": "code",
   "execution_count": 47,
   "metadata": {},
   "outputs": [
    {
     "data": {
      "text/plain": [
       "(['serial_number',\n",
       "  'activity_date',\n",
       "  'facility_name',\n",
       "  'score',\n",
       "  'service_code',\n",
       "  'service_description',\n",
       "  'employee_id',\n",
       "  'facility_address',\n",
       "  'facility_city',\n",
       "  'facility_id',\n",
       "  'facility_state',\n",
       "  'facility_zip',\n",
       "  'owner_id',\n",
       "  'owner_name',\n",
       "  'pe_description',\n",
       "  'program_element_pe',\n",
       "  'program_name',\n",
       "  'program_status',\n",
       "  'record_id'],\n",
       " 'grade')"
      ]
     },
     "execution_count": 47,
     "metadata": {},
     "output_type": "execute_result"
    }
   ],
   "source": [
    "# define target / identified target as grade\n",
    "target = 'grade'\n",
    "\n",
    "# independent variables\n",
    "features = list(df.columns)\n",
    "features.remove(target)\n",
    "\n",
    "features, target"
   ]
  },
  {
   "cell_type": "code",
   "execution_count": 48,
   "metadata": {},
   "outputs": [
    {
     "data": {
      "text/plain": [
       "False"
      ]
     },
     "execution_count": 48,
     "metadata": {},
     "output_type": "execute_result"
    }
   ],
   "source": [
    "# check if dependent variable is\n",
    "# present in list of features\n",
    "target in features"
   ]
  },
  {
   "cell_type": "code",
   "execution_count": 49,
   "metadata": {},
   "outputs": [
    {
     "data": {
      "text/plain": [
       "0"
      ]
     },
     "execution_count": 49,
     "metadata": {},
     "output_type": "execute_result"
    }
   ],
   "source": [
    "gc.collect()"
   ]
  },
  {
   "cell_type": "markdown",
   "metadata": {},
   "source": [
    "### Imputer\n",
    "\n",
    "#### missing values"
   ]
  },
  {
   "cell_type": "code",
   "execution_count": 50,
   "metadata": {},
   "outputs": [
    {
     "data": {
      "text/plain": [
       "array([['23.56'],\n",
       "       ['53.45'],\n",
       "       ['NaN'],\n",
       "       ['44.44'],\n",
       "       ['77.78'],\n",
       "       ['NaN'],\n",
       "       ['234.44'],\n",
       "       ['11.33'],\n",
       "       ['79.87']], dtype='<U32')"
      ]
     },
     "execution_count": 50,
     "metadata": {},
     "output_type": "execute_result"
    }
   ],
   "source": [
    "# sample -> using Imputer\n",
    "X = np.array([[23.56],[53.45],['NaN'],[44.44],[77.78],['NaN'],[234.44],[11.33],[79.87]])\n",
    "X"
   ]
  },
  {
   "cell_type": "code",
   "execution_count": 51,
   "metadata": {},
   "outputs": [
    {
     "data": {
      "text/plain": [
       "array([[ 23.56      ],\n",
       "       [ 53.45      ],\n",
       "       [ 74.98142857],\n",
       "       [ 44.44      ],\n",
       "       [ 77.78      ],\n",
       "       [ 74.98142857],\n",
       "       [234.44      ],\n",
       "       [ 11.33      ],\n",
       "       [ 79.87      ]])"
      ]
     },
     "execution_count": 51,
     "metadata": {},
     "output_type": "execute_result"
    }
   ],
   "source": [
    "# fill missing values with mean\n",
    "imp = Imputer(missing_values='NaN', strategy='mean', axis=0)\n",
    "X = imp.fit_transform(X)\n",
    "X"
   ]
  },
  {
   "cell_type": "markdown",
   "metadata": {},
   "source": [
    "#### Replace missing values"
   ]
  },
  {
   "cell_type": "code",
   "execution_count": 52,
   "metadata": {},
   "outputs": [
    {
     "data": {
      "text/plain": [
       "serial_number          False\n",
       "activity_date          False\n",
       "facility_name          False\n",
       "score                  False\n",
       "grade                  False\n",
       "service_code           False\n",
       "service_description    False\n",
       "employee_id            False\n",
       "facility_address       False\n",
       "facility_city          False\n",
       "facility_id            False\n",
       "facility_state         False\n",
       "facility_zip           False\n",
       "owner_id               False\n",
       "owner_name             False\n",
       "pe_description         False\n",
       "program_element_pe     False\n",
       "program_name            True\n",
       "program_status         False\n",
       "record_id              False\n",
       "dtype: bool"
      ]
     },
     "execution_count": 52,
     "metadata": {},
     "output_type": "execute_result"
    }
   ],
   "source": [
    "# load dataframe\n",
    "df = pd.read_csv(f_name, sep=',', index_col=None, skiprows=None, low_memory=False, encoding='utf-8',\n",
    "                keep_default_na=True, na_values='', na_filter=True, nrows=None, engine='c', chunksize=None)\n",
    "\n",
    "df.isna().any()"
   ]
  },
  {
   "cell_type": "code",
   "execution_count": 53,
   "metadata": {},
   "outputs": [
    {
     "data": {
      "text/plain": [
       "serial_number          False\n",
       "activity_date          False\n",
       "facility_name          False\n",
       "score                  False\n",
       "grade                  False\n",
       "service_code           False\n",
       "service_description    False\n",
       "employee_id            False\n",
       "facility_address       False\n",
       "facility_city          False\n",
       "facility_id            False\n",
       "facility_state         False\n",
       "facility_zip           False\n",
       "owner_id               False\n",
       "owner_name             False\n",
       "pe_description         False\n",
       "program_element_pe     False\n",
       "program_name            True\n",
       "program_status         False\n",
       "record_id              False\n",
       "dtype: bool"
      ]
     },
     "execution_count": 53,
     "metadata": {},
     "output_type": "execute_result"
    }
   ],
   "source": [
    "# mark zero values as missing or NaN\n",
    "df = df.replace(0, np.NaN)\n",
    "df.isna().any()"
   ]
  },
  {
   "cell_type": "markdown",
   "metadata": {},
   "source": [
    "#### Drop rows with missing values"
   ]
  },
  {
   "cell_type": "code",
   "execution_count": 54,
   "metadata": {},
   "outputs": [
    {
     "data": {
      "text/plain": [
       "serial_number            0\n",
       "activity_date            0\n",
       "facility_name            0\n",
       "score                    0\n",
       "grade                    0\n",
       "service_code             0\n",
       "service_description      0\n",
       "employee_id              0\n",
       "facility_address         0\n",
       "facility_city            0\n",
       "facility_id              0\n",
       "facility_state           0\n",
       "facility_zip             0\n",
       "owner_id                 0\n",
       "owner_name               0\n",
       "pe_description           0\n",
       "program_element_pe       0\n",
       "program_name           132\n",
       "program_status           0\n",
       "record_id                0\n",
       "dtype: int64"
      ]
     },
     "execution_count": 54,
     "metadata": {},
     "output_type": "execute_result"
    }
   ],
   "source": [
    "# load dataframe\n",
    "df = pd.read_csv(f_name, sep=',', index_col=None, skiprows=None, low_memory=False, encoding='utf-8',\n",
    "                keep_default_na=True, na_values='', na_filter=True, nrows=None, engine='c', chunksize=None)\n",
    "\n",
    "df.isnull().sum()"
   ]
  },
  {
   "cell_type": "code",
   "execution_count": 55,
   "metadata": {},
   "outputs": [
    {
     "data": {
      "text/plain": [
       "58872"
      ]
     },
     "execution_count": 55,
     "metadata": {},
     "output_type": "execute_result"
    }
   ],
   "source": [
    "# length of dataframe before drop\n",
    "len(df)"
   ]
  },
  {
   "cell_type": "code",
   "execution_count": 56,
   "metadata": {},
   "outputs": [
    {
     "data": {
      "text/plain": [
       "serial_number          False\n",
       "activity_date          False\n",
       "facility_name          False\n",
       "score                  False\n",
       "grade                  False\n",
       "service_code           False\n",
       "service_description    False\n",
       "employee_id            False\n",
       "facility_address       False\n",
       "facility_city          False\n",
       "facility_id            False\n",
       "facility_state         False\n",
       "facility_zip           False\n",
       "owner_id               False\n",
       "owner_name             False\n",
       "pe_description         False\n",
       "program_element_pe     False\n",
       "program_name           False\n",
       "program_status         False\n",
       "record_id              False\n",
       "dtype: bool"
      ]
     },
     "execution_count": 56,
     "metadata": {},
     "output_type": "execute_result"
    }
   ],
   "source": [
    "# drop rows with missing values\n",
    "df.dropna(inplace=True)\n",
    "df.isna().any()"
   ]
  },
  {
   "cell_type": "code",
   "execution_count": 57,
   "metadata": {},
   "outputs": [
    {
     "data": {
      "text/plain": [
       "58740"
      ]
     },
     "execution_count": 57,
     "metadata": {},
     "output_type": "execute_result"
    }
   ],
   "source": [
    "len(df)"
   ]
  },
  {
   "cell_type": "code",
   "execution_count": 58,
   "metadata": {
    "scrolled": false
   },
   "outputs": [
    {
     "data": {
      "text/plain": [
       "array([[<matplotlib.axes._subplots.AxesSubplot object at 0x000002324CF948D0>,\n",
       "        <matplotlib.axes._subplots.AxesSubplot object at 0x000002324DE358D0>],\n",
       "       [<matplotlib.axes._subplots.AxesSubplot object at 0x000002324CFB1390>,\n",
       "        <matplotlib.axes._subplots.AxesSubplot object at 0x000002324DA8AE10>]],\n",
       "      dtype=object)"
      ]
     },
     "execution_count": 58,
     "metadata": {},
     "output_type": "execute_result"
    },
    {
     "data": {
      "image/png": "[encoded data removed]",
      "text/plain": [
       "<Figure size 936x504 with 4 Axes>"
      ]
     },
     "metadata": {},
     "output_type": "display_data"
    }
   ],
   "source": [
    "# distribution histogram\n",
    "df.hist()"
   ]
  },
  {
   "cell_type": "markdown",
   "metadata": {},
   "source": [
    "### Outliers"
   ]
  },
  {
   "cell_type": "code",
   "execution_count": 59,
   "metadata": {},
   "outputs": [],
   "source": [
    "arr = [10, 386, 479, 627, 20, 523, 482, 483, 542, 699, 535, 617, 577, \n",
    "           471, 615, 583, 441, 562, 563, 527, 453, 530, 433, 541, 585, 704, \n",
    "           443, 569, 430, 637, 331, 511, 552, 496, 484, 566, 554, 472, 335, \n",
    "           440, 579, 341, 545, 615, 548, 604, 439, 556, 442, 461, 624, 611, \n",
    "           444, 578, 405, 487, 490, 496, 398, 512, 422, 455, 449, 432, 607, \n",
    "           679, 434, 597, 639, 565, 415, 486, 668, 414, 665, 763, 557, 304, \n",
    "           404, 454, 689, 610, 483, 441, 657, 590, 492, 476, 437, 483, 529, 363, 711, 543]"
   ]
  },
  {
   "cell_type": "code",
   "execution_count": 60,
   "metadata": {},
   "outputs": [
    {
     "data": {
      "text/plain": [
       "(94,)"
      ]
     },
     "execution_count": 60,
     "metadata": {},
     "output_type": "execute_result"
    }
   ],
   "source": [
    "# numpy array\n",
    "elements = np.array(arr)\n",
    "elements.shape"
   ]
  },
  {
   "cell_type": "code",
   "execution_count": 61,
   "metadata": {},
   "outputs": [
    {
     "data": {
      "text/plain": [
       "509.531914893617"
      ]
     },
     "execution_count": 61,
     "metadata": {},
     "output_type": "execute_result"
    }
   ],
   "source": [
    "mean = np.mean(elements, axis=0)\n",
    "mean"
   ]
  },
  {
   "cell_type": "code",
   "execution_count": 62,
   "metadata": {},
   "outputs": [
    {
     "data": {
      "text/plain": [
       "118.51857760182034"
      ]
     },
     "execution_count": 62,
     "metadata": {},
     "output_type": "execute_result"
    }
   ],
   "source": [
    "sd = np.std(elements, axis=0)\n",
    "sd"
   ]
  },
  {
   "cell_type": "code",
   "execution_count": 63,
   "metadata": {},
   "outputs": [],
   "source": [
    "# selecting only values which are within\n",
    "# two standard deviations\n",
    "final_list = [x for x in arr if (x > mean - 2 * sd)]\n",
    "final_list = [x for x in final_list if (x < mean + 2 * sd)]"
   ]
  },
  {
   "cell_type": "code",
   "execution_count": 64,
   "metadata": {},
   "outputs": [
    {
     "data": {
      "text/plain": [
       "(91,)"
      ]
     },
     "execution_count": 64,
     "metadata": {},
     "output_type": "execute_result"
    }
   ],
   "source": [
    "elements = np.array(final_list)\n",
    "elements.shape"
   ]
  },
  {
   "cell_type": "code",
   "execution_count": 65,
   "metadata": {},
   "outputs": [
    {
     "data": {
      "text/plain": [
       "[10, 763, 20]"
      ]
     },
     "execution_count": 65,
     "metadata": {},
     "output_type": "execute_result"
    }
   ],
   "source": [
    "list(set(arr) - set(final_list))"
   ]
  },
  {
   "cell_type": "code",
   "execution_count": 66,
   "metadata": {},
   "outputs": [],
   "source": [
    "# 3 outliers has been removed (10, 20 and 763)\n",
    "# As an astute commenter on CrossValidated put it: \n",
    "# \"Sometimes outliers are bad data, and should be excluded, such as typos. \n",
    "# Sometimes they are Wayne Gretzky or Michael Jordan, and should be kept.\" \n",
    "# Domain knowledge and practical wisdom are the only ways to tell the difference."
   ]
  },
  {
   "cell_type": "markdown",
   "metadata": {},
   "source": [
    "### Univariate Analysis"
   ]
  },
  {
   "cell_type": "code",
   "execution_count": 67,
   "metadata": {},
   "outputs": [],
   "source": [
    "# helper function for numerical columns distribution\n",
    "def uni_num_analysis(col, df):\n",
    "    ''' distribution of numerical columns '''\n",
    "    sns.set(rc={'figure.figsize':(11,5)})\n",
    "    plt.hist(df[col], bins=100)\n",
    "    plt.xlabel(col)\n",
    "    plt.ylabel('Distribution')\n",
    "    plt.title(col)\n"
   ]
  },
  {
   "cell_type": "code",
   "execution_count": 68,
   "metadata": {},
   "outputs": [
    {
     "name": "stdout",
     "output_type": "stream",
     "text": [
      "score\n"
     ]
    },
    {
     "data": {
      "image/png": "[encoded data removed]",
      "text/plain": [
       "<Figure size 792x360 with 1 Axes>"
      ]
     },
     "metadata": {},
     "output_type": "display_data"
    },
    {
     "name": "stdout",
     "output_type": "stream",
     "text": [
      "service_code\n"
     ]
    },
    {
     "data": {
      "image/png": "[encoded data removed]",
      "text/plain": [
       "<Figure size 792x360 with 1 Axes>"
      ]
     },
     "metadata": {},
     "output_type": "display_data"
    },
    {
     "name": "stdout",
     "output_type": "stream",
     "text": [
      "program_element_pe\n"
     ]
    },
    {
     "data": {
      "image/png": "[encoded data removed]",
      "text/plain": [
       "<Figure size 792x360 with 1 Axes>"
      ]
     },
     "metadata": {},
     "output_type": "display_data"
    }
   ],
   "source": [
    "for col in num_cols:\n",
    "    print(col)\n",
    "    uni_num_analysis(col, df)\n",
    "    plt.show()"
   ]
  },
  {
   "cell_type": "code",
   "execution_count": 69,
   "metadata": {},
   "outputs": [
    {
     "data": {
      "text/plain": [
       "<matplotlib.axes._subplots.AxesSubplot at 0x2324d580d68>"
      ]
     },
     "execution_count": 69,
     "metadata": {},
     "output_type": "execute_result"
    },
    {
     "data": {
      "image/png": "[encoded data removed]",
      "text/plain": [
       "<Figure size 648x648 with 1 Axes>"
      ]
     },
     "metadata": {},
     "output_type": "display_data"
    }
   ],
   "source": [
    "# seaborn count plot\n",
    "sns.set(rc={'figure.figsize':(9,9)})\n",
    "plt.title('Distribution of Scores')\n",
    "sns.countplot(x='score', data=df)"
   ]
  },
  {
   "cell_type": "code",
   "execution_count": 70,
   "metadata": {},
   "outputs": [
    {
     "data": {
      "text/plain": [
       "<matplotlib.axes._subplots.AxesSubplot at 0x2324d7e5da0>"
      ]
     },
     "execution_count": 70,
     "metadata": {},
     "output_type": "execute_result"
    },
    {
     "data": {
      "image/png": "[encoded data removed]",
      "text/plain": [
       "<Figure size 432x432 with 1 Axes>"
      ]
     },
     "metadata": {},
     "output_type": "display_data"
    }
   ],
   "source": [
    "# seaborn countplot\n",
    "sns.set(rc={'figure.figsize':(6,6)})\n",
    "plt.title('Distribution of Scores')\n",
    "sns.countplot(x='grade', data=df)"
   ]
  },
  {
   "cell_type": "code",
   "execution_count": 71,
   "metadata": {},
   "outputs": [
    {
     "data": {
      "text/plain": [
       "Text(0.5,1,'Grade vs Score Distribution')"
      ]
     },
     "execution_count": 71,
     "metadata": {},
     "output_type": "execute_result"
    },
    {
     "data": {
      "image/png": "[encoded data removed]",
      "text/plain": [
       "<Figure size 936x504 with 1 Axes>"
      ]
     },
     "metadata": {},
     "output_type": "display_data"
    }
   ],
   "source": [
    "# seaborn boxplot\n",
    "sns.set(rc={'figure.figsize':(13,7)})\n",
    "sns.boxplot(x='grade', y='score', data=df)\n",
    "plt.title('Grade vs Score Distribution')"
   ]
  },
  {
   "cell_type": "code",
   "execution_count": 72,
   "metadata": {
    "scrolled": true
   },
   "outputs": [
    {
     "data": {
      "image/png": "[encoded data removed]",
      "text/plain": [
       "<Figure size 1008x1008 with 3 Axes>"
      ]
     },
     "metadata": {},
     "output_type": "display_data"
    }
   ],
   "source": [
    "# subplots \n",
    "fig = plt.figure(figsize=(14, 14))\n",
    "ax1 = plt.subplot2grid((2, 2), (0, 0))\n",
    "ax1 = plt.xticks(rotation=45)\n",
    "ax1 = sns.countplot(df['program_status'])\n",
    "ax1 = plt.title(\"Program Status\")\n",
    "\n",
    "\n",
    "ax2 = plt.subplot2grid((2, 2), (0, 1))\n",
    "ax2 = plt.xticks(rotation=45)\n",
    "ax2 = sns.countplot(df['grade'])\n",
    "ax2 = plt.title(\"Grade\")\n",
    "\n",
    "\n",
    "ax3 = plt.subplot2grid((2, 2), (1, 0), colspan=2)\n",
    "ax3 = plt.xticks(rotation=45)\n",
    "ax3 = sns.countplot(df['score'])\n",
    "ax3 = plt.title(\"Score\")"
   ]
  },
  {
   "cell_type": "code",
   "execution_count": 73,
   "metadata": {},
   "outputs": [
    {
     "data": {
      "text/plain": [
       "array(['ACTIVE', 'INACTIVE'], dtype=object)"
      ]
     },
     "execution_count": 73,
     "metadata": {},
     "output_type": "execute_result"
    }
   ],
   "source": [
    "# descriptive analysis\n",
    "\n",
    "df['program_status'].unique()\n"
   ]
  },
  {
   "cell_type": "code",
   "execution_count": 74,
   "metadata": {},
   "outputs": [
    {
     "data": {
      "text/plain": [
       "array([ 95,  92,  93,  94,  96,  91,  97,  98,  90, 100,  81,  85,  89,\n",
       "        82,  84,  86,  99,  80,  83,  78,  68,  73,  87,  75,  72,  88,\n",
       "        77,  76,  74,  70,  71,  66,  79,  64,  65,  67], dtype=int64)"
      ]
     },
     "execution_count": 74,
     "metadata": {},
     "output_type": "execute_result"
    }
   ],
   "source": [
    "df['score'].unique()"
   ]
  },
  {
   "cell_type": "code",
   "execution_count": 75,
   "metadata": {},
   "outputs": [
    {
     "data": {
      "text/plain": [
       "array(['A', 'B', 'C', ' '], dtype=object)"
      ]
     },
     "execution_count": 75,
     "metadata": {},
     "output_type": "execute_result"
    }
   ],
   "source": [
    "df['grade'].unique()"
   ]
  },
  {
   "cell_type": "code",
   "execution_count": 76,
   "metadata": {},
   "outputs": [],
   "source": [
    "# alternately, look for df.mean()\n",
    "# df.skew(), df.kurtosis() for normal distributions\n"
   ]
  },
  {
   "cell_type": "markdown",
   "metadata": {},
   "source": [
    "#### Regplot \n",
    "\n",
    "##### to find if there is a linear or quadratic relation between two variables"
   ]
  },
  {
   "cell_type": "code",
   "execution_count": 77,
   "metadata": {},
   "outputs": [
    {
     "data": {
      "text/plain": [
       "matrix([[ 1,  1],\n",
       "        [ 2,  3],\n",
       "        [ 2,  4],\n",
       "        [ 3,  6],\n",
       "        [ 3,  9],\n",
       "        [ 4, 12],\n",
       "        [ 4, 15],\n",
       "        [ 5, 19],\n",
       "        [ 5, 25],\n",
       "        [ 5, 36],\n",
       "        [ 6, 41],\n",
       "        [ 6, 49],\n",
       "        [ 7, 54]])"
      ]
     },
     "execution_count": 77,
     "metadata": {},
     "output_type": "execute_result"
    }
   ],
   "source": [
    "s = np.matrix([[1,1],[2,3],[2,4],[3,6],[3,9],[4,12],[4,15],[5,19],[5,25],[5,36],[6,41],[6,49],[7,54]])\n",
    "s"
   ]
  },
  {
   "cell_type": "code",
   "execution_count": 78,
   "metadata": {},
   "outputs": [],
   "source": [
    "df = pd.DataFrame(s)"
   ]
  },
  {
   "cell_type": "code",
   "execution_count": 79,
   "metadata": {},
   "outputs": [
    {
     "data": {
      "text/plain": [
       "<matplotlib.axes._subplots.AxesSubplot at 0x2324c668860>"
      ]
     },
     "execution_count": 79,
     "metadata": {},
     "output_type": "execute_result"
    },
    {
     "data": {
      "image/png": "[encoded data removed]",
      "text/plain": [
       "<Figure size 936x504 with 1 Axes>"
      ]
     },
     "metadata": {},
     "output_type": "display_data"
    }
   ],
   "source": [
    "sns.regplot(df[0], df[1])"
   ]
  },
  {
   "cell_type": "code",
   "execution_count": 80,
   "metadata": {},
   "outputs": [
    {
     "data": {
      "text/plain": [
       "<matplotlib.axes._subplots.AxesSubplot at 0x2324cc76748>"
      ]
     },
     "execution_count": 80,
     "metadata": {},
     "output_type": "execute_result"
    },
    {
     "data": {
      "image/png": "[encoded data removed]",
      "text/plain": [
       "<Figure size 936x504 with 1 Axes>"
      ]
     },
     "metadata": {},
     "output_type": "display_data"
    }
   ],
   "source": [
    "# change order to 2\n",
    "sns.regplot(df[0], df[1], order=2)"
   ]
  },
  {
   "cell_type": "code",
   "execution_count": 81,
   "metadata": {},
   "outputs": [
    {
     "data": {
      "text/plain": [
       "0     4.076923\n",
       "1    21.076923\n",
       "dtype: float64"
      ]
     },
     "execution_count": 81,
     "metadata": {},
     "output_type": "execute_result"
    }
   ],
   "source": [
    "# mean\n",
    "df.mean()"
   ]
  },
  {
   "cell_type": "code",
   "execution_count": 82,
   "metadata": {},
   "outputs": [
    {
     "data": {
      "text/html": [
       "<div>\n",
       "<style scoped>\n",
       "    .dataframe tbody tr th:only-of-type {\n",
       "        vertical-align: middle;\n",
       "    }\n",
       "\n",
       "    .dataframe tbody tr th {\n",
       "        vertical-align: top;\n",
       "    }\n",
       "\n",
       "    .dataframe thead th {\n",
       "        text-align: right;\n",
       "    }\n",
       "</style>\n",
       "<table border=\"1\" class=\"dataframe\">\n",
       "  <thead>\n",
       "    <tr style=\"text-align: right;\">\n",
       "      <th></th>\n",
       "      <th>0</th>\n",
       "    </tr>\n",
       "  </thead>\n",
       "  <tbody>\n",
       "    <tr>\n",
       "      <th>0</th>\n",
       "      <td>-1.055876</td>\n",
       "    </tr>\n",
       "    <tr>\n",
       "      <th>1</th>\n",
       "      <td>-0.248406</td>\n",
       "    </tr>\n",
       "    <tr>\n",
       "      <th>2</th>\n",
       "      <td>1.101662</td>\n",
       "    </tr>\n",
       "    <tr>\n",
       "      <th>3</th>\n",
       "      <td>-1.495446</td>\n",
       "    </tr>\n",
       "    <tr>\n",
       "      <th>4</th>\n",
       "      <td>0.953904</td>\n",
       "    </tr>\n",
       "  </tbody>\n",
       "</table>\n",
       "</div>"
      ],
      "text/plain": [
       "          0\n",
       "0 -1.055876\n",
       "1 -0.248406\n",
       "2  1.101662\n",
       "3 -1.495446\n",
       "4  0.953904"
      ]
     },
     "execution_count": 82,
     "metadata": {},
     "output_type": "execute_result"
    }
   ],
   "source": [
    "# numpy normal distribution\n",
    "normal = pd.DataFrame(np.random.normal(size=5))\n",
    "normal"
   ]
  },
  {
   "cell_type": "code",
   "execution_count": 83,
   "metadata": {},
   "outputs": [
    {
     "data": {
      "text/plain": [
       "<matplotlib.collections.LineCollection at 0x2324de6fdd8>"
      ]
     },
     "execution_count": 83,
     "metadata": {},
     "output_type": "execute_result"
    },
    {
     "data": {
      "image/png": "[encoded data removed]",
      "text/plain": [
       "<Figure size 936x504 with 1 Axes>"
      ]
     },
     "metadata": {},
     "output_type": "display_data"
    }
   ],
   "source": [
    "normal.plot(kind='density')\n",
    "plt.vlines(normal.mean(), ymin=0, ymax=0.7)"
   ]
  },
  {
   "cell_type": "markdown",
   "metadata": {},
   "source": [
    "#### line representing the mean!"
   ]
  },
  {
   "cell_type": "code",
   "execution_count": 84,
   "metadata": {},
   "outputs": [
    {
     "data": {
      "text/plain": [
       "<matplotlib.axes._subplots.AxesSubplot at 0x2324df63e80>"
      ]
     },
     "execution_count": 84,
     "metadata": {},
     "output_type": "execute_result"
    },
    {
     "data": {
      "image/png": "[encoded data removed]",
      "text/plain": [
       "<Figure size 936x504 with 1 Axes>"
      ]
     },
     "metadata": {},
     "output_type": "display_data"
    }
   ],
   "source": [
    "normal.plot(kind='density')"
   ]
  },
  {
   "cell_type": "code",
   "execution_count": 85,
   "metadata": {},
   "outputs": [
    {
     "data": {
      "text/plain": [
       "0    0.028289\n",
       "dtype: float64"
      ]
     },
     "execution_count": 85,
     "metadata": {},
     "output_type": "execute_result"
    }
   ],
   "source": [
    "# skew\n",
    "normal.skew()"
   ]
  },
  {
   "cell_type": "code",
   "execution_count": 86,
   "metadata": {},
   "outputs": [
    {
     "data": {
      "text/plain": [
       "0   -2.640261\n",
       "dtype: float64"
      ]
     },
     "execution_count": 86,
     "metadata": {},
     "output_type": "execute_result"
    }
   ],
   "source": [
    "# kurtosis\n",
    "normal.kurtosis()"
   ]
  },
  {
   "cell_type": "markdown",
   "metadata": {},
   "source": [
    "### Standardize using StandardScaler"
   ]
  },
  {
   "cell_type": "code",
   "execution_count": 87,
   "metadata": {},
   "outputs": [],
   "source": [
    "# load dataframe\n",
    "df = pd.read_csv(f_name, sep=',', index_col=None, skiprows=None, low_memory=False, \n",
    "                 encoding='utf-8', keep_default_na=True, na_values='', na_filter=True,\n",
    "                 nrows=None, engine='c', chunksize=None)"
   ]
  },
  {
   "cell_type": "code",
   "execution_count": 88,
   "metadata": {},
   "outputs": [
    {
     "data": {
      "text/plain": [
       "(58872, 3)"
      ]
     },
     "execution_count": 88,
     "metadata": {},
     "output_type": "execute_result"
    }
   ],
   "source": [
    "X = df[num_cols].values\n",
    "X.shape"
   ]
  },
  {
   "cell_type": "code",
   "execution_count": 89,
   "metadata": {},
   "outputs": [
    {
     "data": {
      "text/plain": [
       "array([[  95,    1, 1631],\n",
       "       [  92,    1, 1631],\n",
       "       [  93,    1, 1630],\n",
       "       ...,\n",
       "       [  96,    1, 1635],\n",
       "       [  97,    1, 1632],\n",
       "       [  94,    1, 1632]], dtype=int64)"
      ]
     },
     "execution_count": 89,
     "metadata": {},
     "output_type": "execute_result"
    }
   ],
   "source": [
    "X"
   ]
  },
  {
   "cell_type": "code",
   "execution_count": 90,
   "metadata": {},
   "outputs": [
    {
     "name": "stderr",
     "output_type": "stream",
     "text": [
      "E:\\Python\\Anaconda\\lib\\site-packages\\sklearn\\utils\\validation.py:475: DataConversionWarning: Data with input dtype int64 was converted to float64 by StandardScaler.\n",
      "  warnings.warn(msg, DataConversionWarning)\n"
     ]
    },
    {
     "data": {
      "text/plain": [
       "array([[ 0.42337106, -0.13084852,  0.16075968],\n",
       "       [-0.32725237, -0.13084852,  0.16075968],\n",
       "       [-0.07704456, -0.13084852,  0.05434693],\n",
       "       ...,\n",
       "       [ 0.67357887, -0.13084852,  0.5864107 ],\n",
       "       [ 0.92378668, -0.13084852,  0.26717243],\n",
       "       [ 0.17316325, -0.13084852,  0.26717243]])"
      ]
     },
     "execution_count": 90,
     "metadata": {},
     "output_type": "execute_result"
    }
   ],
   "source": [
    "X_std = StandardScaler().fit_transform(X)\n",
    "X_std"
   ]
  },
  {
   "cell_type": "markdown",
   "metadata": {},
   "source": [
    "### PCA"
   ]
  },
  {
   "cell_type": "code",
   "execution_count": 91,
   "metadata": {},
   "outputs": [
    {
     "data": {
      "text/plain": [
       "((20, 10), (20,))"
      ]
     },
     "execution_count": 91,
     "metadata": {},
     "output_type": "execute_result"
    }
   ],
   "source": [
    "# generates the data with 10 features\n",
    "X,y = make_blobs(n_samples=n_sample, n_features=10, random_state=random_state)\n",
    "\n",
    "X.shape, y.shape"
   ]
  },
  {
   "cell_type": "code",
   "execution_count": 92,
   "metadata": {},
   "outputs": [
    {
     "data": {
      "text/plain": [
       "array([-3.26470205,  6.60988187, -5.37422134, -8.57494616,  6.35563411,\n",
       "       -5.80185634, -1.80327927, -3.86645493, -6.87514384,  7.45030471])"
      ]
     },
     "execution_count": 92,
     "metadata": {},
     "output_type": "execute_result"
    }
   ],
   "source": [
    "X[0]"
   ]
  },
  {
   "cell_type": "code",
   "execution_count": 93,
   "metadata": {},
   "outputs": [
    {
     "data": {
      "text/plain": [
       "PCA(copy=True, iterated_power='auto', n_components=3, random_state=None,\n",
       "  svd_solver='auto', tol=0.0, whiten=False)"
      ]
     },
     "execution_count": 93,
     "metadata": {},
     "output_type": "execute_result"
    }
   ],
   "source": [
    "# define PCA estimator with the number of reduced components\n",
    "pca = PCA(n_components=3)\n",
    "pca"
   ]
  },
  {
   "cell_type": "code",
   "execution_count": 94,
   "metadata": {},
   "outputs": [
    {
     "data": {
      "text/plain": [
       "PCA(copy=True, iterated_power='auto', n_components=3, random_state=None,\n",
       "  svd_solver='auto', tol=0.0, whiten=False)"
      ]
     },
     "execution_count": 94,
     "metadata": {},
     "output_type": "execute_result"
    }
   ],
   "source": [
    "# fit the data into the PCA estimator\n",
    "pca.fit(X)"
   ]
  },
  {
   "cell_type": "code",
   "execution_count": 95,
   "metadata": {},
   "outputs": [
    {
     "data": {
      "text/plain": [
       "(array([176.16152385,  74.58057124,   2.12655612]),\n",
       " array([0.68291594, 0.2891225 , 0.00824391]))"
      ]
     },
     "execution_count": 95,
     "metadata": {},
     "output_type": "execute_result"
    }
   ],
   "source": [
    "pca.explained_variance_, pca.explained_variance_ratio_"
   ]
  },
  {
   "cell_type": "code",
   "execution_count": 96,
   "metadata": {},
   "outputs": [
    {
     "data": {
      "text/plain": [
       "array([ 0.44019821,  0.18838999,  0.17149291,  0.55361027, -0.11232345,\n",
       "        0.1201006 , -0.33272753,  0.34282349,  0.1924678 , -0.37751885])"
      ]
     },
     "execution_count": 96,
     "metadata": {},
     "output_type": "execute_result"
    }
   ],
   "source": [
    "# first PCA component\n",
    "first_pca = pca.components_[0]\n",
    "first_pca"
   ]
  },
  {
   "cell_type": "code",
   "execution_count": 97,
   "metadata": {},
   "outputs": [],
   "source": [
    "# transform the fitted data to apply dimensionality reduction\n",
    "pca_reduced = pca.transform(X)"
   ]
  },
  {
   "cell_type": "code",
   "execution_count": 98,
   "metadata": {},
   "outputs": [],
   "source": [
    "# transform the fitted data to apply dimensionality reduction\n",
    "pca_reduced = pca.transform(X)"
   ]
  },
  {
   "cell_type": "code",
   "execution_count": 99,
   "metadata": {},
   "outputs": [
    {
     "data": {
      "text/plain": [
       "(20, 3)"
      ]
     },
     "execution_count": 99,
     "metadata": {},
     "output_type": "execute_result"
    }
   ],
   "source": [
    "# view the reduced dimensions\n",
    "pca_reduced.shape"
   ]
  },
  {
   "cell_type": "code",
   "execution_count": 100,
   "metadata": {},
   "outputs": [
    {
     "data": {
      "text/plain": [
       "array([-9.41660165, -9.13476198, -0.0479423 ])"
      ]
     },
     "execution_count": 100,
     "metadata": {},
     "output_type": "execute_result"
    }
   ],
   "source": [
    "pca_reduced[0]"
   ]
  },
  {
   "cell_type": "markdown",
   "metadata": {},
   "source": [
    "##### output: number of features reduced from 10 to 3"
   ]
  },
  {
   "cell_type": "markdown",
   "metadata": {},
   "source": [
    "### Linregress"
   ]
  },
  {
   "cell_type": "code",
   "execution_count": 101,
   "metadata": {},
   "outputs": [
    {
     "data": {
      "text/plain": [
       "(150, 4)"
      ]
     },
     "execution_count": 101,
     "metadata": {},
     "output_type": "execute_result"
    }
   ],
   "source": [
    "# Load the dataset\n",
    "iris = load_iris()\n",
    "X_iris = iris.data\n",
    "y_iris = iris.target\n",
    "\n",
    "# load dataframe\n",
    "X_df = pd.DataFrame(X_iris)\n",
    "X_df.shape"
   ]
  },
  {
   "cell_type": "code",
   "execution_count": 102,
   "metadata": {},
   "outputs": [
    {
     "data": {
      "text/plain": [
       "<matplotlib.collections.PathCollection at 0x2324c66b828>"
      ]
     },
     "execution_count": 102,
     "metadata": {},
     "output_type": "execute_result"
    },
    {
     "data": {
      "image/png": "[encoded data removed]",
      "text/plain": [
       "<Figure size 936x504 with 1 Axes>"
      ]
     },
     "metadata": {},
     "output_type": "display_data"
    }
   ],
   "source": [
    "plt.scatter(X_df[0], X_df[1])\n",
    "plt.scatter(X_df[0], X_df[2])\n",
    "plt.scatter(X_df[0], X_df[3])\n",
    "plt.scatter(X_df[1], X_df[2])\n",
    "plt.scatter(X_df[1], X_df[3])\n",
    "plt.scatter(X_df[2], X_df[3])"
   ]
  },
  {
   "cell_type": "code",
   "execution_count": 103,
   "metadata": {},
   "outputs": [
    {
     "data": {
      "text/plain": [
       "LinregressResult(slope=-0.057268233797164836, intercept=3.3886373794881, rvalue=-0.10936924995064938, pvalue=0.18276521527136969, stderr=0.042783331776956604)"
      ]
     },
     "execution_count": 103,
     "metadata": {},
     "output_type": "execute_result"
    },
    {
     "data": {
      "image/png": "[encoded data removed]",
      "text/plain": [
       "<Figure size 936x504 with 1 Axes>"
      ]
     },
     "metadata": {},
     "output_type": "display_data"
    }
   ],
   "source": [
    "# sample linregress details\n",
    "plt.scatter(X_df[0], X_df[1])\n",
    "linregress(X_df[0], X_df[1])"
   ]
  },
  {
   "cell_type": "code",
   "execution_count": 104,
   "metadata": {},
   "outputs": [
    {
     "data": {
      "text/plain": [
       "2338"
      ]
     },
     "execution_count": 104,
     "metadata": {},
     "output_type": "execute_result"
    }
   ],
   "source": [
    "gc.collect()"
   ]
  },
  {
   "cell_type": "markdown",
   "metadata": {},
   "source": [
    "## Hyperparamter tuning!!"
   ]
  },
  {
   "cell_type": "code",
   "execution_count": 105,
   "metadata": {},
   "outputs": [],
   "source": [
    "# Utility function to move the midpoint of a colormap to be around\n",
    "# the values of interest.\n",
    "\n",
    "class MidpointNormalize(Normalize):\n",
    "    def __init__(self, vmin=None, vmax=None, midpoint=None, clip=False):\n",
    "        self.midpoint = midpoint\n",
    "        Normalize.__init__(self, vmin, vmax, clip)\n",
    "\n",
    "    def __call__(self, value, clip=None):\n",
    "        x, y = [self.vmin, self.midpoint, self.vmax], [0, 0.5, 1]\n",
    "        return np.ma.masked_array(np.interp(value, x, y))"
   ]
  },
  {
   "cell_type": "code",
   "execution_count": 106,
   "metadata": {},
   "outputs": [
    {
     "data": {
      "text/plain": [
       "((150, 4), (150,))"
      ]
     },
     "execution_count": 106,
     "metadata": {},
     "output_type": "execute_result"
    }
   ],
   "source": [
    "# #############################################################################\n",
    "# Load and prepare data set\n",
    "#\n",
    "# dataset for grid search\n",
    "\n",
    "iris = load_iris()\n",
    "X = iris.data\n",
    "y = iris.target\n",
    "\n",
    "X.shape, y.shape"
   ]
  },
  {
   "cell_type": "code",
   "execution_count": 107,
   "metadata": {},
   "outputs": [
    {
     "data": {
      "text/plain": [
       "((100, 2), (100,))"
      ]
     },
     "execution_count": 107,
     "metadata": {},
     "output_type": "execute_result"
    }
   ],
   "source": [
    "# Dataset for decision function visualization: we only keep the first two\n",
    "# features in X and sub-sample the dataset to keep only 2 classes and\n",
    "# make it a binary classification problem.\n",
    "\n",
    "X_2d = X[:, :2]\n",
    "X_2d = X_2d[y > 0]\n",
    "y_2d = y[y > 0]\n",
    "y_2d -= 1\n",
    "\n",
    "X_2d.shape, y_2d.shape"
   ]
  },
  {
   "cell_type": "code",
   "execution_count": 108,
   "metadata": {},
   "outputs": [
    {
     "data": {
      "text/plain": [
       "array([[ 1.11900931,  0.99068792],\n",
       "       [ 0.20924564,  0.99068792],\n",
       "       [ 0.96738203,  0.68864892],\n",
       "       [-1.15539985, -1.72766308],\n",
       "       [ 0.36087292, -0.21746808]])"
      ]
     },
     "execution_count": 108,
     "metadata": {},
     "output_type": "execute_result"
    }
   ],
   "source": [
    "# It is usually a good idea to scale the data for SVM training.\n",
    "# We are cheating a bit in this example in scaling all of the data,\n",
    "# instead of fitting the transformation on the training set and\n",
    "# just applying it on the test set.\n",
    "\n",
    "scaler = StandardScaler()\n",
    "X = scaler.fit_transform(X)\n",
    "X_2d = scaler.fit_transform(X_2d)\n",
    "\n",
    "# view sample\n",
    "X_2d[0:5]"
   ]
  },
  {
   "cell_type": "code",
   "execution_count": 109,
   "metadata": {},
   "outputs": [
    {
     "name": "stdout",
     "output_type": "stream",
     "text": [
      "Wall time: 4.34 s\n",
      "The best parameters are {'C': 1.0, 'gamma': 0.1} with a score of 0.97\n"
     ]
    }
   ],
   "source": [
    "# #############################################################################\n",
    "# Train classifiers\n",
    "#\n",
    "# For an initial search, a logarithmic grid with basis\n",
    "# 10 is often helpful. Using a basis of 2, a finer\n",
    "# tuning can be achieved but at a much higher cost.\n",
    "\n",
    "C_range = np.logspace(-2, 10, 13)\n",
    "gamma_range = np.logspace(-9, 3, 13)\n",
    "param_grid = dict(gamma=gamma_range, C=C_range)\n",
    "\n",
    "cv = StratifiedShuffleSplit(n_splits=5, test_size=0.2, random_state=42)\n",
    "grid = GridSearchCV(SVC(), param_grid=param_grid, cv=cv)\n",
    "%time grid.fit(X, y)\n",
    "\n",
    "print(\"The best parameters are %s with a score of %0.2f\"\n",
    "      % (grid.best_params_, grid.best_score_))"
   ]
  },
  {
   "cell_type": "code",
   "execution_count": 110,
   "metadata": {},
   "outputs": [],
   "source": [
    "# Now we need to fit a classifier for all parameters in the 2d version\n",
    "# (we use a smaller set of parameters here because it takes a while to train)\n",
    "\n",
    "C_2d_range = [1e-2, 1, 1e2]\n",
    "gamma_2d_range = [1e-1, 1, 1e1]\n",
    "classifiers = []\n",
    "for C in C_2d_range:\n",
    "    for gamma in gamma_2d_range:\n",
    "        clf = SVC(C=C, gamma=gamma)\n",
    "        clf.fit(X_2d, y_2d)\n",
    "        classifiers.append((C, gamma, clf))"
   ]
  },
  {
   "cell_type": "code",
   "execution_count": 111,
   "metadata": {},
   "outputs": [
    {
     "data": {
      "image/png": "[encoded data removed]",
      "text/plain": [
       "<Figure size 576x432 with 9 Axes>"
      ]
     },
     "metadata": {},
     "output_type": "display_data"
    }
   ],
   "source": [
    "# #############################################################################\n",
    "# Visualization\n",
    "#\n",
    "# draw visualization of parameter effects\n",
    "\n",
    "plt.figure(figsize=(8, 6))\n",
    "xx, yy = np.meshgrid(np.linspace(-3, 3, 200), np.linspace(-3, 3, 200))\n",
    "for (k, (C, gamma, clf)) in enumerate(classifiers):\n",
    "    # evaluate decision function in a grid\n",
    "    Z = clf.decision_function(np.c_[xx.ravel(), yy.ravel()])\n",
    "    Z = Z.reshape(xx.shape)\n",
    "\n",
    "    # visualize decision function for these parameters\n",
    "    plt.subplot(len(C_2d_range), len(gamma_2d_range), k + 1)\n",
    "    plt.title(\"gamma=10^%d, C=10^%d\" % (np.log10(gamma), np.log10(C)),\n",
    "              size='medium')\n",
    "\n",
    "    # visualize parameter's effect on decision function\n",
    "    plt.pcolormesh(xx, yy, -Z, cmap=plt.cm.RdBu)\n",
    "    plt.scatter(X_2d[:, 0], X_2d[:, 1], c=y_2d, cmap=plt.cm.RdBu_r,\n",
    "                edgecolors='k')\n",
    "    plt.xticks(())\n",
    "    plt.yticks(())\n",
    "    plt.axis('tight')\n",
    "\n",
    "scores = grid.cv_results_['mean_test_score'].reshape(len(C_range),\n",
    "                                                     len(gamma_range))"
   ]
  },
  {
   "cell_type": "code",
   "execution_count": 112,
   "metadata": {},
   "outputs": [
    {
     "data": {
      "image/png": "[encoded data removed]",
      "text/plain": [
       "<Figure size 576x432 with 2 Axes>"
      ]
     },
     "metadata": {},
     "output_type": "display_data"
    }
   ],
   "source": [
    "# Draw heatmap of the validation accuracy as a function of gamma and C\n",
    "#\n",
    "# The score are encoded as colors with the hot colormap which varies from dark\n",
    "# red to bright yellow. As the most interesting scores are all located in the\n",
    "# 0.92 to 0.97 range we use a custom normalizer to set the mid-point to 0.92 so\n",
    "# as to make it easier to visualize the small variations of score values in the\n",
    "# interesting range while not brutally collapsing all the low score values to\n",
    "# the same color.\n",
    "\n",
    "plt.figure(figsize=(8, 6))\n",
    "plt.subplots_adjust(left=.2, right=0.95, bottom=0.15, top=0.95)\n",
    "plt.imshow(scores, interpolation='nearest', cmap=plt.cm.hot,\n",
    "           norm=MidpointNormalize(vmin=0.2, midpoint=0.92))\n",
    "plt.xlabel('gamma')\n",
    "plt.ylabel('C')\n",
    "plt.colorbar()\n",
    "plt.xticks(np.arange(len(gamma_range)), gamma_range, rotation=45)\n",
    "plt.yticks(np.arange(len(C_range)), C_range)\n",
    "plt.title('Validation accuracy')\n",
    "plt.show()"
   ]
  },
  {
   "cell_type": "markdown",
   "metadata": {},
   "source": [
    "## GridSearchCV"
   ]
  },
  {
   "cell_type": "code",
   "execution_count": 113,
   "metadata": {},
   "outputs": [],
   "source": [
    "# X and y\n",
    "X = np.array([[1,1],[1,1],[2,4],[2,8],[3,9],[3,27],[4,16],[4,64],[5,25],[5,125],\n",
    "              [6,36],[6,216],[7,49],[7,343],[8,64],[8,512],[9,81],[9,729],[10,100],[10,1000]])\n",
    "y = np.array([0,1,0,1,0,1,0,1,0,1,0,1,0,1,0,1,0,1,0,1,])"
   ]
  },
  {
   "cell_type": "code",
   "execution_count": 114,
   "metadata": {},
   "outputs": [],
   "source": [
    "# helper function\n",
    "def svc_param_selection(X, y, nfolds):\n",
    "    '''param grid with GridSearchCV'''\n",
    "    kernels = ['linear','poly'] #,'rbf']\n",
    "    Cs = [0.001, 0.01, 0.1, 1, 10]\n",
    "    gammas = [0.001, 0.01, 0.1, 1]\n",
    "    param_grid = {'C': Cs, 'gamma' : gammas}\n",
    "    for kernel in kernels:\n",
    "        grid_search = GridSearchCV(SVC(kernel=kernel), param_grid, cv=nfolds)\n",
    "        grid_search.fit(X, y)\n",
    "        grid_search.best_params_\n",
    "        # print(grid_search)\n",
    "    return grid_search, grid_search.best_params_"
   ]
  },
  {
   "cell_type": "code",
   "execution_count": 115,
   "metadata": {},
   "outputs": [
    {
     "name": "stdout",
     "output_type": "stream",
     "text": [
      "Wall time: 49.1 s\n"
     ]
    },
    {
     "data": {
      "text/plain": [
       "(GridSearchCV(cv=2, error_score='raise',\n",
       "        estimator=SVC(C=1.0, cache_size=200, class_weight=None, coef0=0.0,\n",
       "   decision_function_shape='ovr', degree=3, gamma='auto', kernel='poly',\n",
       "   max_iter=-1, probability=False, random_state=None, shrinking=True,\n",
       "   tol=0.001, verbose=False),\n",
       "        fit_params=None, iid=True, n_jobs=1,\n",
       "        param_grid={'C': [0.001, 0.01, 0.1, 1, 10], 'gamma': [0.001, 0.01, 0.1, 1]},\n",
       "        pre_dispatch='2*n_jobs', refit=True, return_train_score='warn',\n",
       "        scoring=None, verbose=0), {'C': 1, 'gamma': 1})"
      ]
     },
     "execution_count": 115,
     "metadata": {},
     "output_type": "execute_result"
    }
   ],
   "source": [
    "# cross-validation 2,3,4 etc.\n",
    "%time svc_param_selection(X, y, 2)"
   ]
  },
  {
   "cell_type": "code",
   "execution_count": 116,
   "metadata": {},
   "outputs": [],
   "source": [
    "# %time svc_param_selection(X, y, 3)\n",
    "# around 3-4 mins approx. on 4-core, 4GB RAM"
   ]
  },
  {
   "cell_type": "code",
   "execution_count": 117,
   "metadata": {},
   "outputs": [],
   "source": [
    "# %time svc_param_selection(X, y, 4)\n",
    "# around 15 mins approx. on 4-core, 4GB RAM"
   ]
  },
  {
   "cell_type": "code",
   "execution_count": 118,
   "metadata": {},
   "outputs": [
    {
     "data": {
      "text/plain": [
       "15624"
      ]
     },
     "execution_count": 118,
     "metadata": {},
     "output_type": "execute_result"
    }
   ],
   "source": [
    "gc.collect()"
   ]
  },
  {
   "cell_type": "markdown",
   "metadata": {},
   "source": [
    "## Cross Validation & Calibration"
   ]
  },
  {
   "cell_type": "code",
   "execution_count": 119,
   "metadata": {},
   "outputs": [],
   "source": [
    "# data params\n",
    "url = \"https://raw.githubusercontent.com/jbrownlee/Datasets/master/housing.data\"\n",
    "names = ['CRIM', 'ZN', 'INDUS', 'CHAS', 'NOX', 'RM', 'AGE', 'DIS', 'RAD', 'TAX', \n",
    "         'PTRATIO', 'B', 'LSTAT', 'MEDV']"
   ]
  },
  {
   "cell_type": "code",
   "execution_count": 120,
   "metadata": {},
   "outputs": [],
   "source": [
    "# load dataframe from url\n",
    "df = pd.read_csv(url, delim_whitespace=True, names=names)"
   ]
  },
  {
   "cell_type": "code",
   "execution_count": 121,
   "metadata": {},
   "outputs": [
    {
     "data": {
      "text/html": [
       "<div>\n",
       "<style scoped>\n",
       "    .dataframe tbody tr th:only-of-type {\n",
       "        vertical-align: middle;\n",
       "    }\n",
       "\n",
       "    .dataframe tbody tr th {\n",
       "        vertical-align: top;\n",
       "    }\n",
       "\n",
       "    .dataframe thead th {\n",
       "        text-align: right;\n",
       "    }\n",
       "</style>\n",
       "<table border=\"1\" class=\"dataframe\">\n",
       "  <thead>\n",
       "    <tr style=\"text-align: right;\">\n",
       "      <th></th>\n",
       "      <th>CRIM</th>\n",
       "      <th>ZN</th>\n",
       "      <th>INDUS</th>\n",
       "      <th>CHAS</th>\n",
       "      <th>NOX</th>\n",
       "      <th>RM</th>\n",
       "      <th>AGE</th>\n",
       "      <th>DIS</th>\n",
       "      <th>RAD</th>\n",
       "      <th>TAX</th>\n",
       "      <th>PTRATIO</th>\n",
       "      <th>B</th>\n",
       "      <th>LSTAT</th>\n",
       "      <th>MEDV</th>\n",
       "    </tr>\n",
       "  </thead>\n",
       "  <tbody>\n",
       "    <tr>\n",
       "      <th>0</th>\n",
       "      <td>0.00632</td>\n",
       "      <td>18.0</td>\n",
       "      <td>2.31</td>\n",
       "      <td>0</td>\n",
       "      <td>0.538</td>\n",
       "      <td>6.575</td>\n",
       "      <td>65.2</td>\n",
       "      <td>4.0900</td>\n",
       "      <td>1</td>\n",
       "      <td>296.0</td>\n",
       "      <td>15.3</td>\n",
       "      <td>396.90</td>\n",
       "      <td>4.98</td>\n",
       "      <td>24.0</td>\n",
       "    </tr>\n",
       "    <tr>\n",
       "      <th>1</th>\n",
       "      <td>0.02731</td>\n",
       "      <td>0.0</td>\n",
       "      <td>7.07</td>\n",
       "      <td>0</td>\n",
       "      <td>0.469</td>\n",
       "      <td>6.421</td>\n",
       "      <td>78.9</td>\n",
       "      <td>4.9671</td>\n",
       "      <td>2</td>\n",
       "      <td>242.0</td>\n",
       "      <td>17.8</td>\n",
       "      <td>396.90</td>\n",
       "      <td>9.14</td>\n",
       "      <td>21.6</td>\n",
       "    </tr>\n",
       "    <tr>\n",
       "      <th>2</th>\n",
       "      <td>0.02729</td>\n",
       "      <td>0.0</td>\n",
       "      <td>7.07</td>\n",
       "      <td>0</td>\n",
       "      <td>0.469</td>\n",
       "      <td>7.185</td>\n",
       "      <td>61.1</td>\n",
       "      <td>4.9671</td>\n",
       "      <td>2</td>\n",
       "      <td>242.0</td>\n",
       "      <td>17.8</td>\n",
       "      <td>392.83</td>\n",
       "      <td>4.03</td>\n",
       "      <td>34.7</td>\n",
       "    </tr>\n",
       "    <tr>\n",
       "      <th>3</th>\n",
       "      <td>0.03237</td>\n",
       "      <td>0.0</td>\n",
       "      <td>2.18</td>\n",
       "      <td>0</td>\n",
       "      <td>0.458</td>\n",
       "      <td>6.998</td>\n",
       "      <td>45.8</td>\n",
       "      <td>6.0622</td>\n",
       "      <td>3</td>\n",
       "      <td>222.0</td>\n",
       "      <td>18.7</td>\n",
       "      <td>394.63</td>\n",
       "      <td>2.94</td>\n",
       "      <td>33.4</td>\n",
       "    </tr>\n",
       "    <tr>\n",
       "      <th>4</th>\n",
       "      <td>0.06905</td>\n",
       "      <td>0.0</td>\n",
       "      <td>2.18</td>\n",
       "      <td>0</td>\n",
       "      <td>0.458</td>\n",
       "      <td>7.147</td>\n",
       "      <td>54.2</td>\n",
       "      <td>6.0622</td>\n",
       "      <td>3</td>\n",
       "      <td>222.0</td>\n",
       "      <td>18.7</td>\n",
       "      <td>396.90</td>\n",
       "      <td>5.33</td>\n",
       "      <td>36.2</td>\n",
       "    </tr>\n",
       "  </tbody>\n",
       "</table>\n",
       "</div>"
      ],
      "text/plain": [
       "      CRIM    ZN  INDUS  CHAS    NOX     RM   AGE     DIS  RAD    TAX  \\\n",
       "0  0.00632  18.0   2.31     0  0.538  6.575  65.2  4.0900    1  296.0   \n",
       "1  0.02731   0.0   7.07     0  0.469  6.421  78.9  4.9671    2  242.0   \n",
       "2  0.02729   0.0   7.07     0  0.469  7.185  61.1  4.9671    2  242.0   \n",
       "3  0.03237   0.0   2.18     0  0.458  6.998  45.8  6.0622    3  222.0   \n",
       "4  0.06905   0.0   2.18     0  0.458  7.147  54.2  6.0622    3  222.0   \n",
       "\n",
       "   PTRATIO       B  LSTAT  MEDV  \n",
       "0     15.3  396.90   4.98  24.0  \n",
       "1     17.8  396.90   9.14  21.6  \n",
       "2     17.8  392.83   4.03  34.7  \n",
       "3     18.7  394.63   2.94  33.4  \n",
       "4     18.7  396.90   5.33  36.2  "
      ]
     },
     "execution_count": 121,
     "metadata": {},
     "output_type": "execute_result"
    }
   ],
   "source": [
    "df.head()"
   ]
  },
  {
   "cell_type": "code",
   "execution_count": 122,
   "metadata": {},
   "outputs": [
    {
     "data": {
      "text/plain": [
       "CRIM       float64\n",
       "ZN         float64\n",
       "INDUS      float64\n",
       "CHAS         int64\n",
       "NOX        float64\n",
       "RM         float64\n",
       "AGE        float64\n",
       "DIS        float64\n",
       "RAD          int64\n",
       "TAX        float64\n",
       "PTRATIO    float64\n",
       "B          float64\n",
       "LSTAT      float64\n",
       "MEDV       float64\n",
       "dtype: object"
      ]
     },
     "execution_count": 122,
     "metadata": {},
     "output_type": "execute_result"
    }
   ],
   "source": [
    "df.dtypes"
   ]
  },
  {
   "cell_type": "code",
   "execution_count": 123,
   "metadata": {},
   "outputs": [],
   "source": [
    "array = df.values\n",
    "\n",
    "X = array[:,0:13]\n",
    "y = array[:,13]"
   ]
  },
  {
   "cell_type": "code",
   "execution_count": 124,
   "metadata": {},
   "outputs": [
    {
     "data": {
      "text/plain": [
       "KFold(n_splits=10, random_state=7, shuffle=False)"
      ]
     },
     "execution_count": 124,
     "metadata": {},
     "output_type": "execute_result"
    }
   ],
   "source": [
    "kfold = KFold(n_splits=10, random_state=seed)\n",
    "kfold"
   ]
  },
  {
   "cell_type": "code",
   "execution_count": 125,
   "metadata": {},
   "outputs": [
    {
     "data": {
      "text/plain": [
       "LinearRegression(copy_X=True, fit_intercept=True, n_jobs=1, normalize=False)"
      ]
     },
     "execution_count": 125,
     "metadata": {},
     "output_type": "execute_result"
    }
   ],
   "source": [
    "model = LinearRegression()\n",
    "model"
   ]
  },
  {
   "cell_type": "code",
   "execution_count": 126,
   "metadata": {},
   "outputs": [],
   "source": [
    "scores = ['neg_mean_absolute_error', 'neg_mean_squared_error', 'r2']"
   ]
  },
  {
   "cell_type": "code",
   "execution_count": 127,
   "metadata": {},
   "outputs": [
    {
     "name": "stdout",
     "output_type": "stream",
     "text": [
      "[neg_mean_absolute_error] Mean = -4.004946635323983, SD = 2.083599268709537\n",
      "\n",
      "[neg_mean_squared_error] Mean = -34.70525594452485, SD = 45.57399920030886\n",
      "\n",
      "[r2] Mean = 0.20252899006056846, SD = 0.5952960169512226\n",
      "\n"
     ]
    }
   ],
   "source": [
    "for score in scores:\n",
    "    results = cross_val_score(model, X, y, cv=kfold, scoring=score)\n",
    "    print(\"[{0}] Mean = {1}, SD = {2}\\n\".format(score, results.mean(), results.std()))"
   ]
  },
  {
   "cell_type": "code",
   "execution_count": 128,
   "metadata": {},
   "outputs": [
    {
     "data": {
      "text/plain": [
       "((100000, 20), (100000,))"
      ]
     },
     "execution_count": 128,
     "metadata": {},
     "output_type": "execute_result"
    }
   ],
   "source": [
    "# Create dataset of classification task with many redundant and few informative features\n",
    "X, y = datasets.make_classification(n_samples=100000, n_features=20, \n",
    "                                    n_informative=2, n_redundant=10, random_state=43)\n",
    "X.shape, y.shape"
   ]
  },
  {
   "cell_type": "code",
   "execution_count": 129,
   "metadata": {},
   "outputs": [],
   "source": [
    "X_train, X_test, y_train, y_test = train_test_split(X, y, test_size=0.99, random_state=43)"
   ]
  },
  {
   "cell_type": "code",
   "execution_count": 130,
   "metadata": {},
   "outputs": [],
   "source": [
    "# helper calibration curve\n",
    "\n",
    "def plot_calibration_curve(est, name, fig_index):\n",
    "    \"\"\"Plot calibration curve for est w/o and with calibration. \"\"\"\n",
    "    # Calibrated with isotonic calibration\n",
    "    isotonic = CalibratedClassifierCV(est, cv=2, method='isotonic')\n",
    "    print(\"Isotonic: \", isotonic)\n",
    "\n",
    "    # Calibrated with sigmoid calibration\n",
    "    sigmoid = CalibratedClassifierCV(est, cv=2, method='sigmoid')\n",
    "    print(\"Sigmoid: \", sigmoid)\n",
    "\n",
    "    # Logistic regression with no calibration as baseline\n",
    "    lr = LogisticRegression(C=1., solver='lbfgs')\n",
    "    print(\"Logistic Regression Model: \", lr)\n",
    "\n",
    "    fig = plt.figure(fig_index, figsize=(10, 10))\n",
    "    ax1 = plt.subplot2grid((3, 1), (0, 0), rowspan=2)\n",
    "    ax2 = plt.subplot2grid((3, 1), (2, 0))\n",
    "\n",
    "    ax1.plot([0, 1], [0, 1], \"k:\", label=\"Perfectly calibrated\")\n",
    "    for clf, name in [(lr, 'Logistic'),\n",
    "                      (est, name),\n",
    "                      (isotonic, name + ' + Isotonic'),\n",
    "                      (sigmoid, name + ' + Sigmoid')]:\n",
    "        clf.fit(X_train, y_train)\n",
    "        y_pred = clf.predict(X_test)\n",
    "        if hasattr(clf, \"predict_proba\"):\n",
    "            prob_pos = clf.predict_proba(X_test)[:, 1]\n",
    "        else:  # use decision function\n",
    "            prob_pos = clf.decision_function(X_test)\n",
    "            prob_pos = (prob_pos - prob_pos.min()) / (prob_pos.max() - prob_pos.min())\n",
    "\n",
    "        clf_score = brier_score_loss(y_test, prob_pos, pos_label=y.max())\n",
    "        print(\"%s:\" % name)\n",
    "        print(\"\\tBrier: %1.3f\" % (clf_score))\n",
    "        print(\"\\tPrecision: %1.3f\" % precision_score(y_test, y_pred))\n",
    "        print(\"\\tRecall: %1.3f\" % recall_score(y_test, y_pred))\n",
    "        print(\"\\tF1: %1.3f\\n\" % f1_score(y_test, y_pred))\n",
    "\n",
    "        fraction_of_positives, mean_predicted_value = calibration_curve(y_test, prob_pos, n_bins=25)\n",
    "\n",
    "        ax1.plot(mean_predicted_value, fraction_of_positives, \"s-\", label=\"%s (%1.3f)\" % (name, clf_score))\n",
    "\n",
    "        ax2.hist(prob_pos, range=(0, 1), bins=10, label=name, histtype=\"step\", lw=2)\n",
    "\n",
    "    ax1.set_ylabel(\"Fraction of positives\")\n",
    "    ax1.set_ylim([-0.05, 1.05])\n",
    "    ax1.legend(loc=\"lower right\")\n",
    "    ax1.set_title('Calibration plots  (reliability curve)')\n",
    "\n",
    "    ax2.set_xlabel(\"Mean predicted value\")\n",
    "    ax2.set_ylabel(\"Count\")\n",
    "    ax2.legend(loc=\"upper center\", ncol=2)\n",
    "\n",
    "    plt.tight_layout()\n"
   ]
  },
  {
   "cell_type": "code",
   "execution_count": 131,
   "metadata": {},
   "outputs": [
    {
     "name": "stdout",
     "output_type": "stream",
     "text": [
      "Isotonic:  CalibratedClassifierCV(base_estimator=GaussianNB(priors=None), cv=2,\n",
      "            method='isotonic')\n",
      "Sigmoid:  CalibratedClassifierCV(base_estimator=GaussianNB(priors=None), cv=2,\n",
      "            method='sigmoid')\n",
      "Logistic Regression Model:  LogisticRegression(C=1.0, class_weight=None, dual=False, fit_intercept=True,\n",
      "          intercept_scaling=1, max_iter=100, multi_class='ovr', n_jobs=1,\n",
      "          penalty='l2', random_state=None, solver='lbfgs', tol=0.0001,\n",
      "          verbose=0, warm_start=False)\n",
      "Logistic:\n",
      "\tBrier: 0.074\n",
      "\tPrecision: 0.916\n",
      "\tRecall: 0.876\n",
      "\tF1: 0.895\n",
      "\n",
      "Naive Bayes:\n",
      "\tBrier: 0.110\n",
      "\tPrecision: 0.849\n",
      "\tRecall: 0.911\n",
      "\tF1: 0.879\n",
      "\n",
      "Naive Bayes + Isotonic:\n",
      "\tBrier: 0.081\n",
      "\tPrecision: 0.922\n",
      "\tRecall: 0.863\n",
      "\tF1: 0.892\n",
      "\n",
      "Naive Bayes + Sigmoid:\n",
      "\tBrier: 0.100\n",
      "\tPrecision: 0.856\n",
      "\tRecall: 0.906\n",
      "\tF1: 0.880\n",
      "\n"
     ]
    },
    {
     "data": {
      "image/png": "[encoded data removed]",
      "text/plain": [
       "<Figure size 720x720 with 2 Axes>"
      ]
     },
     "metadata": {},
     "output_type": "display_data"
    }
   ],
   "source": [
    "# Plot calibration curve for Gaussian Naive Bayes\n",
    "plot_calibration_curve(GaussianNB(), \"Naive Bayes\", 1)"
   ]
  },
  {
   "cell_type": "code",
   "execution_count": 132,
   "metadata": {},
   "outputs": [
    {
     "name": "stdout",
     "output_type": "stream",
     "text": [
      "Isotonic:  CalibratedClassifierCV(base_estimator=LinearSVC(C=1.0, class_weight=None, dual=True, fit_intercept=True,\n",
      "     intercept_scaling=1, loss='squared_hinge', max_iter=1000,\n",
      "     multi_class='ovr', penalty='l2', random_state=None, tol=0.0001,\n",
      "     verbose=0),\n",
      "            cv=2, method='isotonic')\n",
      "Sigmoid:  CalibratedClassifierCV(base_estimator=LinearSVC(C=1.0, class_weight=None, dual=True, fit_intercept=True,\n",
      "     intercept_scaling=1, loss='squared_hinge', max_iter=1000,\n",
      "     multi_class='ovr', penalty='l2', random_state=None, tol=0.0001,\n",
      "     verbose=0),\n",
      "            cv=2, method='sigmoid')\n",
      "Logistic Regression Model:  LogisticRegression(C=1.0, class_weight=None, dual=False, fit_intercept=True,\n",
      "          intercept_scaling=1, max_iter=100, multi_class='ovr', n_jobs=1,\n",
      "          penalty='l2', random_state=None, solver='lbfgs', tol=0.0001,\n",
      "          verbose=0, warm_start=False)\n",
      "Logistic:\n",
      "\tBrier: 0.074\n",
      "\tPrecision: 0.916\n",
      "\tRecall: 0.876\n",
      "\tF1: 0.895\n",
      "\n",
      "SVC:\n",
      "\tBrier: 0.166\n",
      "\tPrecision: 0.916\n",
      "\tRecall: 0.877\n",
      "\tF1: 0.896\n",
      "\n",
      "SVC + Isotonic:\n",
      "\tBrier: 0.075\n",
      "\tPrecision: 0.917\n",
      "\tRecall: 0.874\n",
      "\tF1: 0.895\n",
      "\n",
      "SVC + Sigmoid:\n",
      "\tBrier: 0.074\n",
      "\tPrecision: 0.916\n",
      "\tRecall: 0.877\n",
      "\tF1: 0.896\n",
      "\n"
     ]
    },
    {
     "data": {
      "image/png": "[encoded data removed]",
      "text/plain": [
       "<Figure size 720x720 with 2 Axes>"
      ]
     },
     "metadata": {},
     "output_type": "display_data"
    }
   ],
   "source": [
    "# Plot calibration curve for Linear SVC\n",
    "plot_calibration_curve(LinearSVC(), \"SVC\", 2)"
   ]
  },
  {
   "cell_type": "markdown",
   "metadata": {},
   "source": [
    "### Dict Vectorizer\n",
    "\n",
    "##### Transforms lists of feature-value mappings to vectors\n"
   ]
  },
  {
   "cell_type": "code",
   "execution_count": 133,
   "metadata": {},
   "outputs": [
    {
     "data": {
      "text/plain": [
       "DictVectorizer(dtype=<class 'numpy.float64'>, separator='=', sort=True,\n",
       "        sparse=True)"
      ]
     },
     "execution_count": 133,
     "metadata": {},
     "output_type": "execute_result"
    }
   ],
   "source": [
    "# initialize\n",
    "v = DictVectorizer()\n",
    "v"
   ]
  },
  {
   "cell_type": "code",
   "execution_count": 134,
   "metadata": {},
   "outputs": [
    {
     "data": {
      "text/plain": [
       "[{'height': 1, 'length': 0, 'width': 1},\n",
       " {'height': 2, 'length': 1, 'width': 0},\n",
       " {'height': 1, 'length': 3, 'width': 2}]"
      ]
     },
     "execution_count": 134,
     "metadata": {},
     "output_type": "execute_result"
    }
   ],
   "source": [
    "d = [{'height': 1, 'length': 0, 'width': 1},   # obs.2\n",
    " {'height': 2, 'length': 1, 'width': 0},   # obs.1\n",
    " {'height': 1, 'length': 3, 'width': 2}]   # obs.3\n",
    "d"
   ]
  },
  {
   "cell_type": "code",
   "execution_count": 135,
   "metadata": {},
   "outputs": [
    {
     "data": {
      "text/plain": [
       "(<3x3 sparse matrix of type '<class 'numpy.float64'>'\n",
       " \twith 7 stored elements in Compressed Sparse Row format>, (3, 3))"
      ]
     },
     "execution_count": 135,
     "metadata": {},
     "output_type": "execute_result"
    }
   ],
   "source": [
    "X = v.fit_transform(d)\n",
    "X, X.shape"
   ]
  },
  {
   "cell_type": "code",
   "execution_count": 136,
   "metadata": {},
   "outputs": [
    {
     "data": {
      "text/plain": [
       "SelectKBest(k=2, score_func=<function chi2 at 0x000002324B4650D0>)"
      ]
     },
     "execution_count": 136,
     "metadata": {},
     "output_type": "execute_result"
    }
   ],
   "source": [
    "# select k best features\n",
    "support = SelectKBest(chi2, k=2)\n",
    "support"
   ]
  },
  {
   "cell_type": "code",
   "execution_count": 137,
   "metadata": {},
   "outputs": [
    {
     "data": {
      "text/plain": [
       "SelectKBest(k=2, score_func=<function chi2 at 0x000002324B4650D0>)"
      ]
     },
     "execution_count": 137,
     "metadata": {},
     "output_type": "execute_result"
    }
   ],
   "source": [
    "support.fit(X, np.zeros(3))"
   ]
  },
  {
   "cell_type": "code",
   "execution_count": 138,
   "metadata": {},
   "outputs": [
    {
     "data": {
      "text/plain": [
       "['height', 'length', 'width']"
      ]
     },
     "execution_count": 138,
     "metadata": {},
     "output_type": "execute_result"
    }
   ],
   "source": [
    "v.get_feature_names()"
   ]
  },
  {
   "cell_type": "code",
   "execution_count": 139,
   "metadata": {},
   "outputs": [
    {
     "data": {
      "text/plain": [
       "DictVectorizer(dtype=<class 'numpy.float64'>, separator='=', sort=True,\n",
       "        sparse=True)"
      ]
     },
     "execution_count": 139,
     "metadata": {},
     "output_type": "execute_result"
    }
   ],
   "source": [
    "v.restrict(support.get_support())"
   ]
  },
  {
   "cell_type": "code",
   "execution_count": 140,
   "metadata": {},
   "outputs": [
    {
     "data": {
      "text/plain": [
       "DictVectorizer(dtype=Ellipsis, separator='=', sort=True, sparse=True)"
      ]
     },
     "execution_count": 140,
     "metadata": {},
     "output_type": "execute_result"
    }
   ],
   "source": [
    "DictVectorizer(dtype=..., separator='=', sort=True, sparse=True)"
   ]
  },
  {
   "cell_type": "code",
   "execution_count": 141,
   "metadata": {},
   "outputs": [
    {
     "data": {
      "text/plain": [
       "['length', 'width']"
      ]
     },
     "execution_count": 141,
     "metadata": {},
     "output_type": "execute_result"
    }
   ],
   "source": [
    "v.get_feature_names()"
   ]
  },
  {
   "cell_type": "markdown",
   "metadata": {},
   "source": [
    "## KNN"
   ]
  },
  {
   "cell_type": "code",
   "execution_count": 142,
   "metadata": {},
   "outputs": [
    {
     "data": {
      "text/plain": [
       "(400, 2)"
      ]
     },
     "execution_count": 142,
     "metadata": {},
     "output_type": "execute_result"
    }
   ],
   "source": [
    "features = np.array([[19,19000],[35,20000],[26,43000],[27,57000],[19,76000],[27,58000],[27,84000],[32, 150000],[25,33000],[35,65000],[26,80000],[26,52000],[20,86000],[32,18000],[18,82000],[29,80000],[47,25000],[45,26000],[46,28000],[48,29000],[45,22000],[47,49000],[48,41000],[45,22000],[46,23000],[47,20000],[49,28000],[47,30000],[29,43000],[31,18000],[31,74000],[27, 137000],[21,16000],[28,44000],[27,90000],[35,27000],[33,28000],[30,49000],[26,72000],[27,31000],[27,17000],[33,51000],[35, 108000],[30,15000],[28,84000],[23,20000],[25,79000],[27,54000],[30, 135000],[31,89000],[24,32000],[18,44000],[29,83000],[35,23000],[27,58000],[24,55000],[23,48000],[28,79000],[22,18000],[32, 117000],[27,20000],[25,87000],[23,66000],[32, 120000],[59,83000],[24,58000],[24,19000],[23,82000],[22,63000],[31,68000],[25,80000],[24,27000],[20,23000],[33, 113000],[32,18000],[34, 112000],[18,52000],[22,27000],[28,87000],[26,17000],[30,80000],[39,42000],[20,49000],[35,88000],[30,62000],[31, 118000],[24,55000],[28,85000],[26,81000],[35,50000],[22,81000],[30, 116000],[26,15000],[29,28000],[29,83000],[35,44000],[35,25000],[28, 123000],[35,73000],[28,37000],[27,88000],[28,59000],[32,86000],[33, 149000],[19,21000],[21,72000],[26,35000],[27,89000],[26,86000],[38,80000],[39,71000],[37,71000],[38,61000],[37,55000],[42,80000],[40,57000],[35,75000],[36,52000],[40,59000],[41,59000],[36,75000],[37,72000],[40,75000],[35,53000],[41,51000],[39,61000],[42,65000],[26,32000],[30,17000],[26,84000],[31,58000],[33,31000],[30,87000],[21,68000],[28,55000],[23,63000],[20,82000],[30, 107000],[28,59000],[19,25000],[19,85000],[18,68000],[35,59000],[30,89000],[34,25000],[24,89000],[27,96000],[41,30000],[29,61000],[20,74000],[26,15000],[41,45000],[31,76000],[36,50000],[40,47000],[31,15000],[46,59000],[29,75000],[26,30000],[32, 135000],[32, 100000],[25,90000],[37,33000],[35,38000],[33,69000],[18,86000],[22,55000],[35,71000],[29, 148000],[29,47000],[21,88000],[34, 115000],[26, 118000],[34,43000],[34,72000],[23,28000],[35,47000],[25,22000],[24,23000],[31,34000],[26,16000],[31,71000],[32, 117000],[33,43000],[33,60000],[31,66000],[20,82000],[33,41000],[35,72000],[28,32000],[24,84000],[19,26000],[29,43000],[19,70000],[28,89000],[34,43000],[30,79000],[20,36000],[26,80000],[35,22000],[35,39000],[49,74000],[39, 134000],[41,71000],[58, 101000],[47,47000],[55, 130000],[52, 114000],[40, 142000],[46,22000],[48,96000],[52, 150000],[59,42000],[35,58000],[47,43000],[60, 108000],[49,65000],[40,78000],[46,96000],[59, 143000],[41,80000],[35,91000],[37, 144000],[60, 102000],[35,60000],[37,53000],[36, 126000],[56, 133000],[40,72000],[42,80000],[35, 147000],[39,42000],[40, 107000],[49,86000],[38, 112000],[46,79000],[40,57000],[37,80000],[46,82000],[53, 143000],[42, 149000],[38,59000],[50,88000],[56, 104000],[41,72000],[51, 146000],[35,50000],[57, 122000],[41,52000],[35,97000],[44,39000],[37,52000],[48, 134000],[37, 146000],[50,44000],[52,90000],[41,72000],[40,57000],[58,95000],[45, 131000],[35,77000],[36, 144000],[55, 125000],[35,72000],[48,90000],[42, 108000],[40,75000],[37,74000],[47, 144000],[40,61000],[43, 133000],[59,76000],[60,42000],[39, 106000],[57,26000],[57,74000],[38,71000],[49,88000],[52,38000],[50,36000],[59,88000],[35,61000],[37,70000],[52,21000],[48, 141000],[37,93000],[37,62000],[48, 138000],[41,79000],[37,78000],[39, 134000],[49,89000],[55,39000],[37,77000],[35,57000],[36,63000],[42,73000],[43, 112000],[45,79000],[46, 117000],[58,38000],[48,74000],[37, 137000],[37,79000],[40,60000],[42,54000],[51, 134000],[47, 113000],[36, 125000],[38,50000],[42,70000],[39,96000],[38,50000],[49, 141000],[39,79000],[39,75000],[54, 104000],[35,55000],[45,32000],[36,60000],[52, 138000],[53,82000],[41,52000],[48,30000],[48, 131000],[41,60000],[41,72000],[42,75000],[36, 118000],[47, 107000],[38,51000],[48, 119000],[42,65000],[40,65000],[57,60000],[36,54000],[58, 144000],[35,79000],[38,55000],[39, 122000],[53, 104000],[35,75000],[38,65000],[47,51000],[47, 105000],[41,63000],[53,72000],[54, 108000],[39,77000],[38,61000],[38, 113000],[37,75000],[42,90000],[37,57000],[36,99000],[60,34000],[54,70000],[41,72000],[40,71000],[42,54000],[43, 129000],[53,34000],[47,50000],[42,79000],[42, 104000],[59,29000],[58,47000],[46,88000],[38,71000],[54,26000],[60,46000],[60,83000],[39,73000],[59, 130000],[37,80000],[46,32000],[46,74000],[42,53000],[41,87000],[58,23000],[42,64000],[48,33000],[44, 139000],[49,28000],[57,33000],[56,60000],[49,39000],[39,71000],[47,34000],[48,35000],[48,33000],[47,23000],[45,45000],[60,42000],[39,59000],[46,41000],[51,23000],[50,20000],[36,33000],[49,36000]])\n",
    "features.shape"
   ]
  },
  {
   "cell_type": "code",
   "execution_count": 143,
   "metadata": {},
   "outputs": [
    {
     "data": {
      "text/plain": [
       "(400,)"
      ]
     },
     "execution_count": 143,
     "metadata": {},
     "output_type": "execute_result"
    }
   ],
   "source": [
    "target = np.array([0, 0, 0, 0, 0, 0, 0, 1, 0, 0, 0, 0, 0, 0, 0, 0, 1, 1, 1, 1, 1, 1,\n",
    "       1, 1, 1, 1, 1, 1, 0, 0, 0, 1, 0, 0, 0, 0, 0, 0, 0, 0, 0, 0, 0, 0,\n",
    "       0, 0, 0, 0, 1, 0, 0, 0, 0, 0, 0, 0, 0, 0, 0, 0, 0, 0, 0, 1, 0, 0,\n",
    "       0, 0, 0, 0, 0, 0, 0, 0, 0, 1, 0, 0, 0, 0, 0, 0, 0, 0, 0, 1, 0, 0,\n",
    "       0, 0, 0, 0, 0, 0, 0, 0, 0, 1, 0, 0, 0, 0, 0, 1, 0, 0, 0, 0, 0, 0,\n",
    "       0, 0, 0, 0, 0, 0, 0, 0, 0, 0, 0, 0, 0, 0, 0, 0, 0, 0, 0, 0, 0, 0,\n",
    "       0, 0, 0, 0, 0, 1, 0, 0, 0, 0, 0, 0, 0, 0, 1, 0, 0, 0, 0, 0, 0, 0,\n",
    "       0, 0, 0, 0, 0, 1, 1, 0, 0, 0, 0, 0, 0, 0, 1, 0, 0, 0, 0, 0, 0, 0,\n",
    "       0, 0, 0, 0, 0, 0, 1, 0, 0, 0, 0, 0, 0, 0, 0, 0, 0, 0, 0, 0, 0, 0,\n",
    "       0, 0, 0, 0, 1, 0, 1, 0, 1, 0, 1, 0, 1, 1, 0, 0, 0, 1, 0, 0, 0, 1,\n",
    "       0, 1, 1, 1, 0, 0, 1, 1, 0, 1, 1, 0, 1, 1, 0, 1, 0, 0, 0, 1, 1, 0,\n",
    "       1, 1, 0, 1, 0, 1, 0, 1, 0, 0, 1, 1, 0, 1, 0, 0, 1, 1, 0, 1, 1, 0,\n",
    "       1, 1, 0, 0, 1, 0, 0, 1, 1, 1, 1, 1, 0, 1, 1, 1, 1, 0, 1, 1, 0, 1,\n",
    "       0, 1, 0, 1, 1, 1, 1, 0, 0, 0, 1, 1, 0, 1, 1, 1, 1, 1, 0, 0, 0, 1,\n",
    "       1, 0, 0, 1, 0, 1, 0, 1, 1, 0, 1, 0, 1, 1, 0, 1, 1, 0, 0, 0, 1, 1,\n",
    "       0, 1, 0, 0, 1, 0, 1, 0, 0, 1, 1, 0, 0, 1, 1, 0, 1, 1, 0, 0, 1, 0,\n",
    "       1, 0, 1, 1, 1, 0, 1, 0, 1, 1, 1, 0, 1, 1, 1, 1, 0, 1, 1, 1, 0, 1,\n",
    "       0, 1, 0, 0, 1, 1, 0, 1, 1, 1, 1, 1, 1, 0, 1, 1, 1, 1, 1, 1, 0, 1,\n",
    "       1, 1, 0, 1])\n",
    "\n",
    "target.shape"
   ]
  },
  {
   "cell_type": "markdown",
   "metadata": {},
   "source": [
    "#### Test Train Split "
   ]
  },
  {
   "cell_type": "code",
   "execution_count": 144,
   "metadata": {},
   "outputs": [],
   "source": [
    "# Train Test Split 75:25\n",
    "# using model_selection\n",
    "\n",
    "X_train, X_test, y_train, y_test = train_test_split(features, target, test_size=test_size,\n",
    "                                random_state=random_state)\n"
   ]
  },
  {
   "cell_type": "code",
   "execution_count": 145,
   "metadata": {},
   "outputs": [
    {
     "data": {
      "text/plain": [
       "((300, 2), (300,))"
      ]
     },
     "execution_count": 145,
     "metadata": {},
     "output_type": "execute_result"
    }
   ],
   "source": [
    "X_train.shape, y_train.shape"
   ]
  },
  {
   "cell_type": "code",
   "execution_count": 146,
   "metadata": {},
   "outputs": [
    {
     "data": {
      "text/plain": [
       "((100, 2), (100,))"
      ]
     },
     "execution_count": 146,
     "metadata": {},
     "output_type": "execute_result"
    }
   ],
   "source": [
    "X_test.shape, y_test.shape"
   ]
  },
  {
   "cell_type": "markdown",
   "metadata": {},
   "source": [
    "#### Standard Scaler"
   ]
  },
  {
   "cell_type": "code",
   "execution_count": 147,
   "metadata": {},
   "outputs": [
    {
     "name": "stderr",
     "output_type": "stream",
     "text": [
      "E:\\Python\\Anaconda\\lib\\site-packages\\sklearn\\utils\\validation.py:475: DataConversionWarning: Data with input dtype int32 was converted to float64 by StandardScaler.\n",
      "  warnings.warn(msg, DataConversionWarning)\n"
     ]
    }
   ],
   "source": [
    "sc = StandardScaler()\n",
    "X_train = sc.fit_transform(X_train)\n",
    "X_test = sc.fit_transform(X_test)"
   ]
  },
  {
   "cell_type": "code",
   "execution_count": 148,
   "metadata": {},
   "outputs": [
    {
     "data": {
      "text/plain": [
       "(300, 2)"
      ]
     },
     "execution_count": 148,
     "metadata": {},
     "output_type": "execute_result"
    }
   ],
   "source": [
    "X_train.shape"
   ]
  },
  {
   "cell_type": "code",
   "execution_count": 149,
   "metadata": {},
   "outputs": [
    {
     "data": {
      "text/plain": [
       "(100, 2)"
      ]
     },
     "execution_count": 149,
     "metadata": {},
     "output_type": "execute_result"
    }
   ],
   "source": [
    "X_test.shape"
   ]
  },
  {
   "cell_type": "code",
   "execution_count": 150,
   "metadata": {},
   "outputs": [],
   "source": [
    "# Create Model using K-NN, Assume k = 3, 5 etc. \n",
    "# logically k should be odd\n",
    "# by default KNN uses minkowski metric\n",
    "\n",
    "\n",
    "# choosing ideal value for k\n",
    "# try for different values 3, 5, 7 etc.\n",
    "# selecting 1 for k can cause overfitting\n",
    "# choose a value where model test score remains intact\n",
    "\n",
    "# p = 0 - pure Minkowski\n",
    "# p = 1 - Manhattan\n",
    "# p = 2 - Euclidean"
   ]
  },
  {
   "cell_type": "markdown",
   "metadata": {},
   "source": [
    "#### Modeling"
   ]
  },
  {
   "cell_type": "code",
   "execution_count": 151,
   "metadata": {},
   "outputs": [
    {
     "data": {
      "text/plain": [
       "KNeighborsClassifier(algorithm='auto', leaf_size=30, metric='minkowski',\n",
       "           metric_params=None, n_jobs=1, n_neighbors=3, p=2,\n",
       "           weights='uniform')"
      ]
     },
     "execution_count": 151,
     "metadata": {},
     "output_type": "execute_result"
    }
   ],
   "source": [
    "#Using Euclidean Dist\n",
    "model = KNeighborsClassifier(n_neighbors=3, p=2, metric='minkowski') \n",
    "model"
   ]
  },
  {
   "cell_type": "code",
   "execution_count": 152,
   "metadata": {},
   "outputs": [
    {
     "data": {
      "text/plain": [
       "KNeighborsClassifier(algorithm='auto', leaf_size=30, metric='minkowski',\n",
       "           metric_params=None, n_jobs=1, n_neighbors=3, p=2,\n",
       "           weights='uniform')"
      ]
     },
     "execution_count": 152,
     "metadata": {},
     "output_type": "execute_result"
    }
   ],
   "source": [
    "# fit x and y train data\n",
    "model.fit(X_train, y_train)"
   ]
  },
  {
   "cell_type": "code",
   "execution_count": 153,
   "metadata": {},
   "outputs": [
    {
     "data": {
      "text/plain": [
       "(100,)"
      ]
     },
     "execution_count": 153,
     "metadata": {},
     "output_type": "execute_result"
    }
   ],
   "source": [
    "# predict\n",
    "y_pred = model.predict(X_test)\n",
    "y_pred.shape"
   ]
  },
  {
   "cell_type": "code",
   "execution_count": 154,
   "metadata": {},
   "outputs": [
    {
     "data": {
      "text/plain": [
       "array([0, 1, 1, 0, 1, 0, 1, 0, 1, 0, 0, 0, 0, 0, 1, 1, 0, 1, 1, 0, 0, 1,\n",
       "       1, 0, 1, 0, 0, 1, 0, 1, 0, 1, 0, 1, 0, 0, 1, 1, 0, 1, 0, 1, 0, 1,\n",
       "       0, 0, 0, 1, 0, 0, 0, 1, 1, 1, 1, 1, 0, 0, 1, 0, 0, 0, 1, 0, 0, 0,\n",
       "       0, 0, 0, 0, 1, 0, 1, 0, 0, 0, 0, 1, 0, 0, 0, 0, 1, 0, 0, 0, 1, 0,\n",
       "       1, 0, 0, 0, 1, 1, 0, 0, 0, 1, 0, 1])"
      ]
     },
     "execution_count": 154,
     "metadata": {},
     "output_type": "execute_result"
    }
   ],
   "source": [
    "y_pred"
   ]
  },
  {
   "cell_type": "code",
   "execution_count": 155,
   "metadata": {},
   "outputs": [
    {
     "data": {
      "text/plain": [
       "array([0, 1, 1, 0, 1, 1, 1, 0, 1, 0, 0, 0, 0, 0, 1, 1, 0, 1, 1, 0, 1, 0,\n",
       "       1, 0, 1, 0, 0, 1, 0, 0, 0, 0, 0, 1, 0, 0, 1, 0, 1, 1, 0, 1, 0, 0,\n",
       "       0, 0, 0, 1, 0, 0, 0, 0, 1, 1, 1, 1, 0, 0, 1, 1, 0, 0, 1, 0, 0, 0,\n",
       "       0, 0, 0, 0, 1, 0, 0, 0, 0, 0, 0, 1, 1, 0, 0, 0, 1, 0, 0, 0, 0, 0,\n",
       "       1, 0, 0, 0, 1, 1, 1, 0, 0, 1, 0, 1])"
      ]
     },
     "execution_count": 155,
     "metadata": {},
     "output_type": "execute_result"
    }
   ],
   "source": [
    "y_test"
   ]
  },
  {
   "cell_type": "code",
   "execution_count": 156,
   "metadata": {},
   "outputs": [
    {
     "data": {
      "text/plain": [
       "array([[55,  8],\n",
       "       [ 6, 31]], dtype=int64)"
      ]
     },
     "execution_count": 156,
     "metadata": {},
     "output_type": "execute_result"
    }
   ],
   "source": [
    "confusion_matrix(y_test, y_pred)"
   ]
  },
  {
   "cell_type": "code",
   "execution_count": 157,
   "metadata": {},
   "outputs": [
    {
     "data": {
      "text/plain": [
       "0.7948717948717948"
      ]
     },
     "execution_count": 157,
     "metadata": {},
     "output_type": "execute_result"
    }
   ],
   "source": [
    "precision_score(y_test, y_pred)"
   ]
  },
  {
   "cell_type": "code",
   "execution_count": 158,
   "metadata": {},
   "outputs": [
    {
     "data": {
      "text/plain": [
       "0.8378378378378378"
      ]
     },
     "execution_count": 158,
     "metadata": {},
     "output_type": "execute_result"
    }
   ],
   "source": [
    "recall_score(y_test, y_pred)"
   ]
  },
  {
   "cell_type": "code",
   "execution_count": 159,
   "metadata": {},
   "outputs": [
    {
     "data": {
      "text/plain": [
       "1"
      ]
     },
     "execution_count": 159,
     "metadata": {},
     "output_type": "execute_result"
    }
   ],
   "source": [
    "# no. of classes\n",
    "n_classes = target.reshape(-1,1).shape[1]\n",
    "n_classes"
   ]
  },
  {
   "cell_type": "code",
   "execution_count": 160,
   "metadata": {},
   "outputs": [
    {
     "data": {
      "text/plain": [
       "((100, 1), (100, 1))"
      ]
     },
     "execution_count": 160,
     "metadata": {},
     "output_type": "execute_result"
    }
   ],
   "source": [
    "# Compute ROC curve and ROC area for each class\n",
    "fpr = dict()\n",
    "tpr = dict()\n",
    "roc_auc = dict()\n",
    "\n",
    "y_test = y_test.reshape(-1,1)\n",
    "y_pred = y_pred.reshape(-1,1)\n",
    "\n",
    "y_test.shape, y_pred.shape"
   ]
  },
  {
   "cell_type": "code",
   "execution_count": 161,
   "metadata": {},
   "outputs": [
    {
     "data": {
      "text/plain": [
       "(array([0, 1, 1, 0, 1, 1, 1, 0, 1, 0, 0, 0, 0, 0, 1, 1, 0, 1, 1, 0, 1, 0,\n",
       "        1, 0, 1, 0, 0, 1, 0, 0, 0, 0, 0, 1, 0, 0, 1, 0, 1, 1, 0, 1, 0, 0,\n",
       "        0, 0, 0, 1, 0, 0, 0, 0, 1, 1, 1, 1, 0, 0, 1, 1, 0, 0, 1, 0, 0, 0,\n",
       "        0, 0, 0, 0, 1, 0, 0, 0, 0, 0, 0, 1, 1, 0, 0, 0, 1, 0, 0, 0, 0, 0,\n",
       "        1, 0, 0, 0, 1, 1, 1, 0, 0, 1, 0, 1]),\n",
       " array([0, 1, 1, 0, 1, 0, 1, 0, 1, 0, 0, 0, 0, 0, 1, 1, 0, 1, 1, 0, 0, 1,\n",
       "        1, 0, 1, 0, 0, 1, 0, 1, 0, 1, 0, 1, 0, 0, 1, 1, 0, 1, 0, 1, 0, 1,\n",
       "        0, 0, 0, 1, 0, 0, 0, 1, 1, 1, 1, 1, 0, 0, 1, 0, 0, 0, 1, 0, 0, 0,\n",
       "        0, 0, 0, 0, 1, 0, 1, 0, 0, 0, 0, 1, 0, 0, 0, 0, 1, 0, 0, 0, 1, 0,\n",
       "        1, 0, 0, 0, 1, 1, 0, 0, 0, 1, 0, 1]))"
      ]
     },
     "execution_count": 161,
     "metadata": {},
     "output_type": "execute_result"
    }
   ],
   "source": [
    "y_test[:,0], y_pred[:,0]"
   ]
  },
  {
   "cell_type": "code",
   "execution_count": 162,
   "metadata": {},
   "outputs": [],
   "source": [
    "for i in range(2):\n",
    "    fpr[i], tpr[i], _ = roc_curve(y_test[:, 0], y_pred[:, 0])\n",
    "    roc_auc[i] = auc(fpr[i], tpr[i])\n",
    "\n",
    "# Compute micro-average ROC curve and ROC area\n",
    "fpr[\"micro\"], tpr[\"micro\"], _ = roc_curve(y_test.ravel(), y_pred.ravel())\n",
    "roc_auc[\"micro\"] = auc(fpr[\"micro\"], tpr[\"micro\"])"
   ]
  },
  {
   "cell_type": "code",
   "execution_count": 163,
   "metadata": {},
   "outputs": [
    {
     "data": {
      "text/plain": [
       "({0: array([0.        , 0.12698413, 1.        ]),\n",
       "  1: array([0.        , 0.12698413, 1.        ]),\n",
       "  'micro': array([0.        , 0.12698413, 1.        ])},)"
      ]
     },
     "execution_count": 163,
     "metadata": {},
     "output_type": "execute_result"
    }
   ],
   "source": [
    "fpr, "
   ]
  },
  {
   "cell_type": "code",
   "execution_count": 164,
   "metadata": {},
   "outputs": [
    {
     "data": {
      "text/plain": [
       "({0: array([0.        , 0.83783784, 1.        ]),\n",
       "  1: array([0.        , 0.83783784, 1.        ]),\n",
       "  'micro': array([0.        , 0.83783784, 1.        ])},)"
      ]
     },
     "execution_count": 164,
     "metadata": {},
     "output_type": "execute_result"
    }
   ],
   "source": [
    "tpr, "
   ]
  },
  {
   "cell_type": "code",
   "execution_count": 165,
   "metadata": {},
   "outputs": [
    {
     "data": {
      "text/plain": [
       "{0: 0.8554268554268554, 1: 0.8554268554268554, 'micro': 0.8554268554268554}"
      ]
     },
     "execution_count": 165,
     "metadata": {},
     "output_type": "execute_result"
    }
   ],
   "source": [
    "roc_auc"
   ]
  },
  {
   "cell_type": "code",
   "execution_count": 166,
   "metadata": {},
   "outputs": [
    {
     "data": {
      "text/plain": [
       "<matplotlib.legend.Legend at 0x2324ca8be48>"
      ]
     },
     "execution_count": 166,
     "metadata": {},
     "output_type": "execute_result"
    },
    {
     "data": {
      "image/png": "[encoded data removed]",
      "text/plain": [
       "<Figure size 936x504 with 1 Axes>"
      ]
     },
     "metadata": {},
     "output_type": "display_data"
    }
   ],
   "source": [
    "plt.figure()\n",
    "lw = 2\n",
    "plt.plot(fpr['micro'], tpr['micro'], color='darkorange', \n",
    "        lw=lw, label='ROC curve (area = %0.2f)' % roc_auc[0])\n",
    "plt.plot([0, 1], [0, 1], color='navy', lw=lw, linestyle='--')\n",
    "plt.xlim([0.0, 1.0])\n",
    "plt.ylim([0.0, 1.05])\n",
    "plt.xlabel('False Positive Rate')\n",
    "plt.ylabel('True Positive Rate')\n",
    "plt.title('Receiver operating characteristic example')\n",
    "plt.legend(loc=\"lower right\")"
   ]
  },
  {
   "cell_type": "code",
   "execution_count": null,
   "metadata": {},
   "outputs": [],
   "source": []
  }
 ],
 "metadata": {
  "kernelspec": {
   "display_name": "Python 3",
   "language": "python",
   "name": "python3"
  },
  "language_info": {
   "codemirror_mode": {
    "name": "ipython",
    "version": 3
   },
   "file_extension": ".py",
   "mimetype": "text/x-python",
   "name": "python",
   "nbconvert_exporter": "python",
   "pygments_lexer": "ipython3",
   "version": "3.6.4"
  }
 },
 "nbformat": 4,
 "nbformat_minor": 2
}
