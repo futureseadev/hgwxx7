{
 "cells": [
  {
   "cell_type": "code",
   "execution_count": 1,
   "metadata": {},
   "outputs": [
    {
     "name": "stderr",
     "output_type": "stream",
     "text": [
      "E:\\Python\\Anaconda\\lib\\site-packages\\gensim\\utils.py:1209: UserWarning: detected Windows; aliasing chunkize to chunkize_serial\n",
      "  warnings.warn(\"detected Windows; aliasing chunkize to chunkize_serial\")\n"
     ]
    }
   ],
   "source": [
    "import nltk\n",
    "import gensim\n",
    "import pandas as pd\n",
    "from gensim import corpora, models, similarities\n",
    "from gensim.models.word2vec import Word2Vec"
   ]
  },
  {
   "cell_type": "code",
   "execution_count": 2,
   "metadata": {},
   "outputs": [],
   "source": [
    "df = pd.read_csv('ml_python_gensim_word2vec_1.csv', sep=',', names=['Q','A'])"
   ]
  },
  {
   "cell_type": "code",
   "execution_count": 3,
   "metadata": {},
   "outputs": [
    {
     "data": {
      "text/html": [
       "<div>\n",
       "<style scoped>\n",
       "    .dataframe tbody tr th:only-of-type {\n",
       "        vertical-align: middle;\n",
       "    }\n",
       "\n",
       "    .dataframe tbody tr th {\n",
       "        vertical-align: top;\n",
       "    }\n",
       "\n",
       "    .dataframe thead th {\n",
       "        text-align: right;\n",
       "    }\n",
       "</style>\n",
       "<table border=\"1\" class=\"dataframe\">\n",
       "  <thead>\n",
       "    <tr style=\"text-align: right;\">\n",
       "      <th></th>\n",
       "      <th>Q</th>\n",
       "      <th>A</th>\n",
       "    </tr>\n",
       "  </thead>\n",
       "  <tbody>\n",
       "    <tr>\n",
       "      <th>0</th>\n",
       "      <td>What is your name?</td>\n",
       "      <td>Praveen</td>\n",
       "    </tr>\n",
       "    <tr>\n",
       "      <th>1</th>\n",
       "      <td>What is what is?</td>\n",
       "      <td>I don't know</td>\n",
       "    </tr>\n",
       "    <tr>\n",
       "      <th>2</th>\n",
       "      <td>Where are you?</td>\n",
       "      <td>No idea</td>\n",
       "    </tr>\n",
       "    <tr>\n",
       "      <th>3</th>\n",
       "      <td>Who are you?</td>\n",
       "      <td>myself</td>\n",
       "    </tr>\n",
       "    <tr>\n",
       "      <th>4</th>\n",
       "      <td>What is the capital of India?</td>\n",
       "      <td>New Delhi</td>\n",
       "    </tr>\n",
       "  </tbody>\n",
       "</table>\n",
       "</div>"
      ],
      "text/plain": [
       "                               Q              A\n",
       "0             What is your name?        Praveen\n",
       "1               What is what is?   I don't know\n",
       "2                 Where are you?        No idea\n",
       "3                   Who are you?         myself\n",
       "4  What is the capital of India?      New Delhi"
      ]
     },
     "execution_count": 3,
     "metadata": {},
     "output_type": "execute_result"
    }
   ],
   "source": [
    "df.head()"
   ]
  },
  {
   "cell_type": "code",
   "execution_count": 4,
   "metadata": {},
   "outputs": [],
   "source": [
    "x = df['Q'].values.tolist()\n",
    "y = df['A'].values.tolist()"
   ]
  },
  {
   "cell_type": "code",
   "execution_count": 5,
   "metadata": {},
   "outputs": [
    {
     "data": {
      "text/plain": [
       "(['What is your name?',\n",
       "  'What is what is?',\n",
       "  'Where are you?',\n",
       "  'Who are you?',\n",
       "  'What is the capital of India?',\n",
       "  'What is the capital of Kerala?',\n",
       "  'Where is Google located?',\n",
       "  'Which country is California in?',\n",
       "  'How can you sleep for 24 hours?',\n",
       "  'What can cause fever?',\n",
       "  'Where is Taj Mahal?',\n",
       "  'Which continent is India in?',\n",
       "  'Are India and USA friends?',\n",
       "  \"Why India and USA aren't friends?\",\n",
       "  'Why do you use Twitter?',\n",
       "  'Does D.Trump tweet?',\n",
       "  'How often D.Trump tweets?',\n",
       "  'Who is D.Trump?',\n",
       "  'What is POTUS?',\n",
       "  'Who is the POTRoI?',\n",
       "  'Who is the PMOTRoI?'],\n",
       " [' Praveen',\n",
       "  \" I don't know\",\n",
       "  ' No idea',\n",
       "  ' myself',\n",
       "  ' New Delhi',\n",
       "  ' Thiruvananthapuram',\n",
       "  ' California',\n",
       "  ' USA',\n",
       "  ' just do it',\n",
       "  ' virus',\n",
       "  ' India',\n",
       "  ' Asia',\n",
       "  ' No',\n",
       "  ' D.Trump',\n",
       "  ' to tweet',\n",
       "  ' Yes',\n",
       "  ' 3600 times per hour',\n",
       "  ' POTUS',\n",
       "  ' President of USA',\n",
       "  ' Ramnath Kovind',\n",
       "  ' Narendra Modi'])"
      ]
     },
     "execution_count": 5,
     "metadata": {},
     "output_type": "execute_result"
    }
   ],
   "source": [
    "x, y"
   ]
  },
  {
   "cell_type": "code",
   "execution_count": 6,
   "metadata": {},
   "outputs": [],
   "source": [
    "corpus = x+y"
   ]
  },
  {
   "cell_type": "code",
   "execution_count": 7,
   "metadata": {},
   "outputs": [
    {
     "data": {
      "text/plain": [
       "['What is your name?',\n",
       " 'What is what is?',\n",
       " 'Where are you?',\n",
       " 'Who are you?',\n",
       " 'What is the capital of India?',\n",
       " 'What is the capital of Kerala?',\n",
       " 'Where is Google located?',\n",
       " 'Which country is California in?',\n",
       " 'How can you sleep for 24 hours?',\n",
       " 'What can cause fever?',\n",
       " 'Where is Taj Mahal?',\n",
       " 'Which continent is India in?',\n",
       " 'Are India and USA friends?',\n",
       " \"Why India and USA aren't friends?\",\n",
       " 'Why do you use Twitter?',\n",
       " 'Does D.Trump tweet?',\n",
       " 'How often D.Trump tweets?',\n",
       " 'Who is D.Trump?',\n",
       " 'What is POTUS?',\n",
       " 'Who is the POTRoI?',\n",
       " 'Who is the PMOTRoI?',\n",
       " ' Praveen',\n",
       " \" I don't know\",\n",
       " ' No idea',\n",
       " ' myself',\n",
       " ' New Delhi',\n",
       " ' Thiruvananthapuram',\n",
       " ' California',\n",
       " ' USA',\n",
       " ' just do it',\n",
       " ' virus',\n",
       " ' India',\n",
       " ' Asia',\n",
       " ' No',\n",
       " ' D.Trump',\n",
       " ' to tweet',\n",
       " ' Yes',\n",
       " ' 3600 times per hour',\n",
       " ' POTUS',\n",
       " ' President of USA',\n",
       " ' Ramnath Kovind',\n",
       " ' Narendra Modi']"
      ]
     },
     "execution_count": 7,
     "metadata": {},
     "output_type": "execute_result"
    }
   ],
   "source": [
    "corpus"
   ]
  },
  {
   "cell_type": "code",
   "execution_count": 8,
   "metadata": {},
   "outputs": [],
   "source": [
    "token_corpus = [nltk.word_tokenize(item) for item in corpus]"
   ]
  },
  {
   "cell_type": "code",
   "execution_count": 9,
   "metadata": {},
   "outputs": [
    {
     "data": {
      "text/plain": [
       "[['What', 'is', 'your', 'name', '?'],\n",
       " ['What', 'is', 'what', 'is', '?'],\n",
       " ['Where', 'are', 'you', '?'],\n",
       " ['Who', 'are', 'you', '?'],\n",
       " ['What', 'is', 'the', 'capital', 'of', 'India', '?'],\n",
       " ['What', 'is', 'the', 'capital', 'of', 'Kerala', '?'],\n",
       " ['Where', 'is', 'Google', 'located', '?'],\n",
       " ['Which', 'country', 'is', 'California', 'in', '?'],\n",
       " ['How', 'can', 'you', 'sleep', 'for', '24', 'hours', '?'],\n",
       " ['What', 'can', 'cause', 'fever', '?'],\n",
       " ['Where', 'is', 'Taj', 'Mahal', '?'],\n",
       " ['Which', 'continent', 'is', 'India', 'in', '?'],\n",
       " ['Are', 'India', 'and', 'USA', 'friends', '?'],\n",
       " ['Why', 'India', 'and', 'USA', 'are', \"n't\", 'friends', '?'],\n",
       " ['Why', 'do', 'you', 'use', 'Twitter', '?'],\n",
       " ['Does', 'D.Trump', 'tweet', '?'],\n",
       " ['How', 'often', 'D.Trump', 'tweets', '?'],\n",
       " ['Who', 'is', 'D.Trump', '?'],\n",
       " ['What', 'is', 'POTUS', '?'],\n",
       " ['Who', 'is', 'the', 'POTRoI', '?'],\n",
       " ['Who', 'is', 'the', 'PMOTRoI', '?'],\n",
       " ['Praveen'],\n",
       " ['I', 'do', \"n't\", 'know'],\n",
       " ['No', 'idea'],\n",
       " ['myself'],\n",
       " ['New', 'Delhi'],\n",
       " ['Thiruvananthapuram'],\n",
       " ['California'],\n",
       " ['USA'],\n",
       " ['just', 'do', 'it'],\n",
       " ['virus'],\n",
       " ['India'],\n",
       " ['Asia'],\n",
       " ['No'],\n",
       " ['D.Trump'],\n",
       " ['to', 'tweet'],\n",
       " ['Yes'],\n",
       " ['3600', 'times', 'per', 'hour'],\n",
       " ['POTUS'],\n",
       " ['President', 'of', 'USA'],\n",
       " ['Ramnath', 'Kovind'],\n",
       " ['Narendra', 'Modi']]"
      ]
     },
     "execution_count": 9,
     "metadata": {},
     "output_type": "execute_result"
    }
   ],
   "source": [
    "token_corpus"
   ]
  },
  {
   "cell_type": "code",
   "execution_count": 10,
   "metadata": {},
   "outputs": [],
   "source": [
    "model = Word2Vec(token_corpus, min_count=1, size=32)"
   ]
  },
  {
   "cell_type": "code",
   "execution_count": 11,
   "metadata": {},
   "outputs": [
    {
     "data": {
      "text/plain": [
       "<gensim.models.word2vec.Word2Vec at 0x1ccb4460b00>"
      ]
     },
     "execution_count": 11,
     "metadata": {},
     "output_type": "execute_result"
    }
   ],
   "source": [
    "model"
   ]
  },
  {
   "cell_type": "code",
   "execution_count": 12,
   "metadata": {},
   "outputs": [
    {
     "name": "stderr",
     "output_type": "stream",
     "text": [
      "E:\\Python\\Anaconda\\lib\\site-packages\\gensim\\matutils.py:737: FutureWarning: Conversion of the second argument of issubdtype from `int` to `np.signedinteger` is deprecated. In future, it will be treated as `np.int32 == np.dtype(int).type`.\n",
      "  if np.issubdtype(vec.dtype, np.int):\n"
     ]
    },
    {
     "data": {
      "text/plain": [
       "[('your', 0.4109407663345337),\n",
       " ('tweets', 0.2877351641654968),\n",
       " ('California', 0.2823611795902252),\n",
       " ('it', 0.26165565848350525),\n",
       " ('POTUS', 0.24175289273262024),\n",
       " ('name', 0.23059064149856567),\n",
       " ('sleep', 0.20544427633285522),\n",
       " ('Are', 0.19866225123405457),\n",
       " ('virus', 0.18842434883117676),\n",
       " ('Does', 0.1861933022737503)]"
      ]
     },
     "execution_count": 12,
     "metadata": {},
     "output_type": "execute_result"
    }
   ],
   "source": [
    "model.wv.most_similar('India')"
   ]
  },
  {
   "cell_type": "code",
   "execution_count": 13,
   "metadata": {},
   "outputs": [
    {
     "data": {
      "text/plain": [
       "array([ 8.3821556e-03, -7.1999570e-03,  2.1792217e-03,  1.4163295e-02,\n",
       "        1.4046605e-02,  1.4854041e-02,  7.9494398e-03, -3.9128149e-03,\n",
       "       -1.6265860e-03,  1.0257769e-02, -3.3074110e-03, -2.2899570e-05,\n",
       "        4.1190595e-03,  1.3275896e-02, -3.2965057e-03, -5.5281667e-04,\n",
       "        8.6328136e-03, -3.9110461e-04, -9.2874374e-03, -4.2907875e-03,\n",
       "       -5.8251363e-03, -2.8132687e-03, -1.1207057e-03,  5.1502087e-03,\n",
       "       -2.2818588e-03,  3.8840475e-03, -9.6824802e-03, -2.3472512e-03,\n",
       "       -6.9402982e-03, -8.8317171e-03, -6.0916166e-03, -1.6043542e-03],\n",
       "      dtype=float32)"
      ]
     },
     "execution_count": 13,
     "metadata": {},
     "output_type": "execute_result"
    }
   ],
   "source": [
    "model.wv.__getitem__('India')"
   ]
  },
  {
   "cell_type": "code",
   "execution_count": 14,
   "metadata": {},
   "outputs": [
    {
     "name": "stderr",
     "output_type": "stream",
     "text": [
      "E:\\Python\\Anaconda\\lib\\site-packages\\gensim\\matutils.py:737: FutureWarning: Conversion of the second argument of issubdtype from `int` to `np.signedinteger` is deprecated. In future, it will be treated as `np.int32 == np.dtype(int).type`.\n",
      "  if np.issubdtype(vec.dtype, np.int):\n"
     ]
    },
    {
     "data": {
      "text/plain": [
       "[('24', 0.4943622648715973),\n",
       " ('Thiruvananthapuram', 0.3750942051410675),\n",
       " ('New', 0.32947319746017456),\n",
       " ('Where', 0.3042767643928528),\n",
       " ('for', 0.3036697506904602),\n",
       " ('Which', 0.28144019842147827),\n",
       " ('Narendra', 0.2677990198135376),\n",
       " ('Praveen', 0.2518717646598816),\n",
       " ('Kovind', 0.24141506850719452),\n",
       " ('Google', 0.2102402001619339)]"
      ]
     },
     "execution_count": 14,
     "metadata": {},
     "output_type": "execute_result"
    }
   ],
   "source": [
    "model.wv.most_similar('D.Trump')"
   ]
  },
  {
   "cell_type": "code",
   "execution_count": 15,
   "metadata": {},
   "outputs": [
    {
     "name": "stderr",
     "output_type": "stream",
     "text": [
      "E:\\Python\\Anaconda\\lib\\site-packages\\gensim\\matutils.py:737: FutureWarning: Conversion of the second argument of issubdtype from `int` to `np.signedinteger` is deprecated. In future, it will be treated as `np.int32 == np.dtype(int).type`.\n",
      "  if np.issubdtype(vec.dtype, np.int):\n"
     ]
    },
    {
     "data": {
      "text/plain": [
       "[('I', 0.4039703607559204),\n",
       " ('cause', 0.3523123264312744),\n",
       " ('use', 0.3289279341697693),\n",
       " ('country', 0.24876171350479126),\n",
       " ('India', 0.24175286293029785),\n",
       " ('3600', 0.2395780086517334),\n",
       " ('Kovind', 0.22236350178718567),\n",
       " ('your', 0.19877927005290985),\n",
       " ('to', 0.18623191118240356),\n",
       " ('is', 0.18550258874893188)]"
      ]
     },
     "execution_count": 15,
     "metadata": {},
     "output_type": "execute_result"
    }
   ],
   "source": [
    "model.wv.most_similar('POTUS')"
   ]
  }
 ],
 "metadata": {
  "kernelspec": {
   "display_name": "Python 3",
   "language": "python",
   "name": "python3"
  },
  "language_info": {
   "codemirror_mode": {
    "name": "ipython",
    "version": 3
   },
   "file_extension": ".py",
   "mimetype": "text/x-python",
   "name": "python",
   "nbconvert_exporter": "python",
   "pygments_lexer": "ipython3",
   "version": "3.6.4"
  }
 },
 "nbformat": 4,
 "nbformat_minor": 2
}
