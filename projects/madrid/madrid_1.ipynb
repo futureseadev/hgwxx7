{
  "cells": [
    {
      "metadata": {
        "_uuid": "8f2839f25d086af736a60e9eeb907d3b93b6e0e5",
        "_cell_guid": "b1076dfc-b9ad-4769-8c92-a6c4dae69d19",
        "trusted": true,
        "collapsed": true
      },
      "cell_type": "code",
      "source": "# This Python 3 environment comes with many helpful analytics libraries installed\n# It is defined by the kaggle/python docker image: https://github.com/kaggle/docker-python\n# For example, here's several helpful packages to load in \n\nimport numpy as np # linear algebra\nimport pandas as pd # data processing, CSV file I/O (e.g. pd.read_csv)\n\n# Input data files are available in the \"../input/\" directory.\n# For example, running this (by clicking run or pressing Shift+Enter) will list the files in the input directory\n\nimport os\nprint(os.listdir(\"../input\"))\n\n# Any results you write to the current directory are saved as output.",
      "execution_count": null,
      "outputs": []
    },
    {
      "metadata": {
        "_cell_guid": "79c7e3d0-c299-4dcb-8224-4455121ee9b0",
        "_uuid": "d629ff2d2480ee46fbb7e2d37f6b5fab8052498a",
        "trusted": true,
        "collapsed": true
      },
      "cell_type": "code",
      "source": "data = pd.read_csv('../input/stations.csv')",
      "execution_count": null,
      "outputs": []
    },
    {
      "metadata": {
        "trusted": true,
        "_uuid": "59c3ad0a321e15d08793de1a3460cd4238eaa59d",
        "collapsed": true
      },
      "cell_type": "code",
      "source": "data.head()",
      "execution_count": null,
      "outputs": []
    },
    {
      "metadata": {
        "trusted": true,
        "_uuid": "38988a1ee5f9c30e7ee9734a2edd2f0c96c4cd66",
        "collapsed": true
      },
      "cell_type": "code",
      "source": "data.describe()",
      "execution_count": null,
      "outputs": []
    },
    {
      "metadata": {
        "trusted": true,
        "_uuid": "80ab3c2120d65e5b2702232e521f4388d73cb710",
        "collapsed": true
      },
      "cell_type": "code",
      "source": "data.shape",
      "execution_count": null,
      "outputs": []
    },
    {
      "metadata": {
        "trusted": true,
        "_uuid": "8d96aca3e10936513ef013124921f17a862275d7",
        "collapsed": true
      },
      "cell_type": "code",
      "source": "import matplotlib.pyplot as plt\nfrom mpl_toolkits.basemap import Basemap",
      "execution_count": null,
      "outputs": []
    },
    {
      "metadata": {
        "trusted": true,
        "collapsed": true,
        "_uuid": "62e4c1134799acce1a1c8447eec7f4162f2ae70c"
      },
      "cell_type": "code",
      "source": "%matplotlib inline",
      "execution_count": null,
      "outputs": []
    },
    {
      "metadata": {
        "trusted": true,
        "_uuid": "75aa7410b89d731468ac08fe95baf3c84ba642d7",
        "collapsed": true
      },
      "cell_type": "code",
      "source": "plt.scatter(data['lon'], data['elevation'])\nplt.scatter(data['lat'], data['elevation'])",
      "execution_count": null,
      "outputs": []
    },
    {
      "metadata": {
        "trusted": true,
        "collapsed": true,
        "_uuid": "7d8432f6404c2d9d02da3e5f41894159b37a3cf8"
      },
      "cell_type": "code",
      "source": "lats = list(data['lat'])\nlons = list(data['lon'])",
      "execution_count": null,
      "outputs": []
    },
    {
      "metadata": {
        "trusted": true,
        "_uuid": "04b054e91b1baafa482072a7a0438564a2ccdc77",
        "collapsed": true
      },
      "cell_type": "code",
      "source": "lats, lons",
      "execution_count": null,
      "outputs": []
    },
    {
      "metadata": {
        "trusted": true,
        "_uuid": "69d23b3bb04c52a7c2c37f2571f1f1a0ffcb5f24",
        "collapsed": true
      },
      "cell_type": "code",
      "source": "# How much to zoom from coordinates (in degrees)\nzoom_scale = 0\n\n# Setup the bounding box for the zoom and bounds of the map\nbbox = [np.min(lats)-zoom_scale,np.max(lats)+zoom_scale,\\\n        np.min(lons)-zoom_scale,np.max(lons)+zoom_scale]",
      "execution_count": null,
      "outputs": []
    },
    {
      "metadata": {
        "trusted": true,
        "_uuid": "1c32b7011d888dbb280491d7bda90f25a232cb8d",
        "collapsed": true
      },
      "cell_type": "code",
      "source": "bbox",
      "execution_count": null,
      "outputs": []
    },
    {
      "metadata": {
        "trusted": true,
        "collapsed": true,
        "_uuid": "b3125e2d84f80e635233b6f9c58b50d9fd0f7a18"
      },
      "cell_type": "code",
      "source": "# bbox = map(lambda x: x * 1.5, bbox)\n# bbox = list(bbox)",
      "execution_count": null,
      "outputs": []
    },
    {
      "metadata": {
        "trusted": true,
        "collapsed": true,
        "_uuid": "9b0411721b99949cadad7ea18484f7a1ea58e45d"
      },
      "cell_type": "code",
      "source": "from matplotlib.patches import Polygon\nfrom matplotlib.collections import PatchCollection\nfrom matplotlib.colors import Normalize",
      "execution_count": null,
      "outputs": []
    },
    {
      "metadata": {
        "trusted": true,
        "_uuid": "f88b04bcac920665662c89a22482bbfdb1a84266",
        "collapsed": true
      },
      "cell_type": "code",
      "source": "plt.figure(figsize=(20,13))\n# Define the projection, scale, the corners of the map, and the resolution.\nm = Basemap(projection='merc',llcrnrlat=bbox[0],urcrnrlat=bbox[1],\n            llcrnrlon=bbox[2],urcrnrlon=bbox[3],lat_ts=10,resolution='l')\n\n# Draw coastlines and fill continents and water with color\nm.drawcoastlines()\nm.fillcontinents(color='peru',lake_color='dodgerblue')\n\n# draw parallels, meridians, and color boundaries\nm.drawparallels(np.arange(bbox[0],bbox[1],(bbox[1]-bbox[0])/5),labels=[1,0,0,0])\nm.drawmeridians(np.arange(bbox[2],bbox[3],(bbox[3]-bbox[2])/5),labels=[0,0,0,1],rotation=45)\nm.drawmapboundary(fill_color='dodgerblue')\n\n# build and plot coordinates onto map\nx,y = m(lons,lats)\nm.plot(x,y,'r*',markersize=5)\nplt.title(\"Madrid Air Quality Station Distribution\")\nplt.show()",
      "execution_count": null,
      "outputs": []
    },
    {
      "metadata": {
        "trusted": true,
        "_uuid": "6aceda4bba3b8401bcf1bff4993b7d257167b4c6",
        "collapsed": true
      },
      "cell_type": "code",
      "source": "with pd.HDFStore('../input/madrid.h5') as hdfs:\n    df = hdfs['master']",
      "execution_count": null,
      "outputs": []
    },
    {
      "metadata": {
        "trusted": true,
        "_uuid": "1aaab920437a7faf217309f2cad04ff67cdcfd75",
        "collapsed": true
      },
      "cell_type": "code",
      "source": "df.shape",
      "execution_count": null,
      "outputs": []
    },
    {
      "metadata": {
        "trusted": true,
        "_uuid": "a32d214fc339a0646bf886c09437ed2fb9e01073",
        "collapsed": true
      },
      "cell_type": "code",
      "source": "df.describe()",
      "execution_count": null,
      "outputs": []
    },
    {
      "metadata": {
        "trusted": true,
        "_uuid": "48317b5a97a1254a0355197606a6f97c74af11da",
        "collapsed": true
      },
      "cell_type": "code",
      "source": "with pd.HDFStore('../input/madrid.h5') as hdfs:\n    for k in hdfs.keys():\n        print('{}: {}'.format(k, ', '.join(hdfs[k].columns)))",
      "execution_count": null,
      "outputs": []
    },
    {
      "metadata": {
        "trusted": true,
        "_uuid": "7ccf2b9c7fe4f33f92ff13ed41594eb0b549dcef",
        "collapsed": true
      },
      "cell_type": "code",
      "source": "with pd.HDFStore('../input/madrid.h5') as hdfs:\n    test = hdfs['28079057']",
      "execution_count": null,
      "outputs": []
    },
    {
      "metadata": {
        "trusted": true,
        "_uuid": "f1defe66fddffdccf8102fef31b13e18e2e899bf",
        "collapsed": true
      },
      "cell_type": "code",
      "source": "type(test)",
      "execution_count": null,
      "outputs": []
    },
    {
      "metadata": {
        "trusted": true,
        "_uuid": "b915f040dfd03b335f031668c27f440e11df0a69",
        "scrolled": true,
        "collapsed": true
      },
      "cell_type": "code",
      "source": "test.shape, test.describe()",
      "execution_count": null,
      "outputs": []
    },
    {
      "metadata": {
        "trusted": true,
        "_uuid": "baa94a0c896639fe246b60fa64633a6d518a9ffe",
        "collapsed": true
      },
      "cell_type": "code",
      "source": "test.rolling(window=24).mean().plot(figsize=(20, 7), alpha=0.8)",
      "execution_count": null,
      "outputs": []
    },
    {
      "metadata": {
        "trusted": true,
        "_uuid": "b782e62c9e0a6ef2ca2675571da9d3e935bfa78e",
        "collapsed": true
      },
      "cell_type": "code",
      "source": "partials = list()\n\nwith pd.HDFStore('../input/madrid.h5') as hdfs:\n    stations = [k[1:] for k in hdfs.keys() if k != '/master']\n    for station in stations:\n        df = hdfs[station]\n        df['station'] = station\n        partials.append(df)\n            \ndf = pd.concat(partials, sort=False).sort_index()\n\ndf.info()",
      "execution_count": null,
      "outputs": []
    },
    {
      "metadata": {
        "trusted": true,
        "_uuid": "474dcaf0ee0cdbaf16b2ce0c71afe2e9cf04c32a",
        "collapsed": true
      },
      "cell_type": "code",
      "source": "df.describe()",
      "execution_count": null,
      "outputs": []
    },
    {
      "metadata": {
        "trusted": true,
        "_uuid": "60be146df86b9d4494c24b4fa0c7f2885a6ea5f2",
        "collapsed": true
      },
      "cell_type": "code",
      "source": "df.head()",
      "execution_count": null,
      "outputs": []
    },
    {
      "metadata": {
        "trusted": true,
        "_uuid": "9c466c8bd3c8ead5ba3c9e7ba6f9d482f746bd2c",
        "collapsed": true
      },
      "cell_type": "code",
      "source": "df.columns",
      "execution_count": null,
      "outputs": []
    },
    {
      "metadata": {
        "trusted": true,
        "_uuid": "d9e8f5f500eec9b7a6bb096c0b28e021ad3763c5",
        "scrolled": true,
        "collapsed": true
      },
      "cell_type": "code",
      "source": "df.index",
      "execution_count": null,
      "outputs": []
    },
    {
      "metadata": {
        "trusted": true,
        "_uuid": "b5c788f24009b480acc241833bff066712c60d04",
        "collapsed": true
      },
      "cell_type": "code",
      "source": "# df['date'] = df.index.tolist()",
      "execution_count": null,
      "outputs": []
    },
    {
      "metadata": {
        "trusted": true,
        "_uuid": "71eb5936169c605376d9caf49110ff729458de48",
        "collapsed": true
      },
      "cell_type": "code",
      "source": "df.rolling(window=44).mean().plot(figsize=(20, 7), alpha=0.8)",
      "execution_count": null,
      "outputs": []
    },
    {
      "metadata": {
        "trusted": true,
        "_uuid": "33a01621ff0671320412faad8beb12432616b2d8",
        "collapsed": true
      },
      "cell_type": "code",
      "source": "with pd.HDFStore('../input/madrid.h5') as hdfs:\n    for k in hdfs.keys():\n        name = k.replace('/','')\n        tmp = hdfs[name]\n        tmp.rolling(window=44).mean().plot(figsize=(23,11), alpha=0.85)",
      "execution_count": null,
      "outputs": []
    },
    {
      "metadata": {
        "trusted": true,
        "collapsed": true,
        "_uuid": "ae83e5686c1a9b6ee060ff38ca101f02edcc1f9e"
      },
      "cell_type": "code",
      "source": "",
      "execution_count": null,
      "outputs": []
    }
  ],
  "metadata": {
    "kernelspec": {
      "display_name": "Python 3",
      "language": "python",
      "name": "python3"
    },
    "language_info": {
      "name": "python",
      "version": "3.6.6",
      "mimetype": "text/x-python",
      "codemirror_mode": {
        "name": "ipython",
        "version": 3
      },
      "pygments_lexer": "ipython3",
      "nbconvert_exporter": "python",
      "file_extension": ".py"
    }
  },
  "nbformat": 4,
  "nbformat_minor": 1
}