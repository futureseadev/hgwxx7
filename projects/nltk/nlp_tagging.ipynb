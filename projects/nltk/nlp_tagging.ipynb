{
  "cells": [
    {
      "metadata": {
        "_cell_guid": "a29d5a38-30a0-433b-931d-bda76a14fbc4",
        "_uuid": "27929d194304f789073410e17f00e4f7600cddb2"
      },
      "cell_type": "markdown",
      "source": "# Categorizing and tagging words   \n\n** Several method : **\n* Pretrained : POS-Tagging\n* Create your own tagger : NGram Tagging, Perceptron, ...\n\n** Evaluation performances **\n\nDefine a baseline with : \n* default tagger\n* most common word\n\n** Several tags : **\n\n| Tag | Meaning | English Examples |\n| ------------- |:----------------:|:----------------:|\n| ADJ | adjective | new, good, high, special, big, local |\n| ADP | adposition  | on, of, at, with, by, into, under |\n| ADV  | adverb | really, already, still, early, now |\n| CONJ  | conjunction |  and, or, but, if, while, although  |\n|  DET | determiner, article  | the, a, some, most, every, no, which  |\n| NOUN | noun | noun year, home, costs, time, Africa   |\n| NUM |numeral | twenty-four, fourth, 1991, 14:24  |\n| PRT  |particle  |  at, on, out, over per, that, up, with   |\n| PRON | pronoun |   he, their, her, its, my, I, us  |\n| VERB | verb |  is, say, told, given, playing, would  |\n| \".\" | punctuation | \" . , ; !\"  |\n|X | other  | ersatz, esprit, dunno, gr8, univeristy  |\n"
    },
    {
      "metadata": {
        "_cell_guid": "c35baa4d-51ac-42d2-81c0-ad2153f9fda8",
        "_uuid": "4fbc9b8b2cec0313da9868701ccc9b72ad466bfb"
      },
      "cell_type": "markdown",
      "source": "Load package"
    },
    {
      "metadata": {
        "collapsed": true,
        "_cell_guid": "d1b3ba6b-8d17-4b0c-8aed-1d3dddac5905",
        "_uuid": "c1e2b715c39e02762f537fa17dd49967704d37dc",
        "trusted": true
      },
      "cell_type": "code",
      "source": "# This Python 3 environment comes with many helpful analytics libraries installed\n# It is defined by the kaggle/python docker image: https://github.com/kaggle/docker-python\n# For example, here's several helpful packages to load in \n\nimport numpy as np # linear algebra\nimport pandas as pd # data processing, CSV file I/O (e.g. pd.read_csv)\n\n# Input data files are available in the \"../input/\" directory.\n# For example, running this (by clicking run or pressing Shift+Enter) will list the files in the input directory\n\nfrom subprocess import check_output\n\n\nimport nltk\nfrom nltk.corpus import brown\nfrom nltk import word_tokenize, pos_tag\n",
      "execution_count": 1,
      "outputs": []
    },
    {
      "metadata": {
        "_cell_guid": "656d6df3-ae21-4f53-830b-59b9623418ac",
        "_uuid": "57f6be1f613ed08305e830fa9ea42409366d4ef4"
      },
      "cell_type": "markdown",
      "source": "Load your text"
    },
    {
      "metadata": {
        "_cell_guid": "cc2ba4a5-c6a0-4684-a033-e578926dcbbf",
        "_uuid": "f5ca82438444f019eb50976ed529eec9d9cf5146",
        "trusted": true
      },
      "cell_type": "code",
      "source": "text = 'I do not like green eggs and ham, I do not like them Sam I am!'\ntokens = word_tokenize(text)\nprint(\"My text : \", text)\nprint(\"My tokens : \", tokens)",
      "execution_count": 2,
      "outputs": [
        {
          "output_type": "stream",
          "text": "My text :  I do not like green eggs and ham, I do not like them Sam I am!\nMy tokens :  ['I', 'do', 'not', 'like', 'green', 'eggs', 'and', 'ham', ',', 'I', 'do', 'not', 'like', 'them', 'Sam', 'I', 'am', '!']\n",
          "name": "stdout"
        }
      ]
    },
    {
      "metadata": {
        "_cell_guid": "464a8b57-f8bd-4576-88c7-8676fb77f579",
        "_uuid": "6788d07a44ae588f6e2ad4e67665b9b7b9176c20"
      },
      "cell_type": "markdown",
      "source": "Load the data we will be using : Brown Corpus"
    },
    {
      "metadata": {
        "collapsed": true,
        "_cell_guid": "270e4ed6-7e60-46cf-937a-62f26227981f",
        "_uuid": "df155b54984e0851b743b72a7e25036f9ecd0eac",
        "trusted": true
      },
      "cell_type": "code",
      "source": "brown_tagged_sents = brown.tagged_sents(categories='news')\nbrown_sents = brown.sents(categories='news')",
      "execution_count": 3,
      "outputs": []
    },
    {
      "metadata": {
        "_cell_guid": "334a189e-70b1-4d85-bd74-5ca7fafc54e8",
        "_uuid": "f5d2dc43b71e23822b140c46021743ad1a541f64"
      },
      "cell_type": "markdown",
      "source": "## I/ Automatic tag\n\n### Method 1 : Define a default tag, according to the most common tag in Brown Corpus"
    },
    {
      "metadata": {
        "_cell_guid": "cee8812a-4c98-4ee4-9976-891fdf2e2fe1",
        "_uuid": "49377f3b7b528ca7dce2fad9b0f543025137b44f",
        "trusted": true
      },
      "cell_type": "code",
      "source": "\"\"\"\nSearch the max tag in Brown Corpus\n\"\"\"\ntags = [tag for (word, tag) in brown.tagged_words(categories='news')]\nprint(\"Most common tag is : \", nltk.FreqDist(tags).max())\n\n\"\"\"\nNow we can create a tagger that tags everything as NN\n\"\"\"\n# Default Tagging\ndefault_tagger = nltk.DefaultTagger('NN')\nprint(\"\\nCheck results : \", default_tagger.tag(tokens))\n\n# Performances : \nprint(\"\\nPerformance with default tagger : \", default_tagger.evaluate(brown_tagged_sents))",
      "execution_count": 4,
      "outputs": [
        {
          "output_type": "stream",
          "text": "Most common tag is :  NN\n\nCheck results :  [('I', 'NN'), ('do', 'NN'), ('not', 'NN'), ('like', 'NN'), ('green', 'NN'), ('eggs', 'NN'), ('and', 'NN'), ('ham', 'NN'), (',', 'NN'), ('I', 'NN'), ('do', 'NN'), ('not', 'NN'), ('like', 'NN'), ('them', 'NN'), ('Sam', 'NN'), ('I', 'NN'), ('am', 'NN'), ('!', 'NN')]\n\nPerformance with default tagger :  0.13089484257215028\n",
          "name": "stdout"
        }
      ]
    },
    {
      "metadata": {
        "collapsed": true,
        "_cell_guid": "da97a781-4220-41ff-afb3-1c2ae5beea9b",
        "_uuid": "c3479920302e22c3ac10501dfece4ea5c3558658"
      },
      "cell_type": "markdown",
      "source": "### Method 2 : POS-Tagger\n\nIt's a pretrained model, based on Perceptron."
    },
    {
      "metadata": {
        "_cell_guid": "9db6b726-b076-4230-9172-2b334fa376ee",
        "_uuid": "7f48bf0857850db88f279ef1a2e394f885b886e7",
        "trusted": true
      },
      "cell_type": "code",
      "source": "from nltk import word_tokenize, pos_tag\n\n# Pos-Tagging\npos_tagger = nltk.pos_tag(tokens)\nprint(\"With POS_TAG : \", pos_tagger)",
      "execution_count": 5,
      "outputs": [
        {
          "output_type": "stream",
          "text": "With POS_TAG :  [('I', 'PRP'), ('do', 'VBP'), ('not', 'RB'), ('like', 'IN'), ('green', 'JJ'), ('eggs', 'NNS'), ('and', 'CC'), ('ham', 'NN'), (',', ','), ('I', 'PRP'), ('do', 'VBP'), ('not', 'RB'), ('like', 'VB'), ('them', 'PRP'), ('Sam', 'NNP'), ('I', 'PRP'), ('am', 'VBP'), ('!', '.')]\n",
          "name": "stdout"
        }
      ]
    },
    {
      "metadata": {
        "_cell_guid": "72383efb-9a92-49a4-9d9c-c168cbbf264c",
        "_uuid": "684cebd3e2be18cd0d2e86f6837d197b0da907ea"
      },
      "cell_type": "markdown",
      "source": "### Method 3 : RegexTag\n\nThe regular expression tagger assigns tags to tokens on the basis of matching patterns. For instance, we might guess that any word ending in ed is the past participle of a verb, and any word ending with 's is a possessive noun. We can express these as a list of regular expressions:"
    },
    {
      "metadata": {
        "_uuid": "9a21750e48937f2992e83874bedcce9082c03d5b",
        "trusted": true
      },
      "cell_type": "code",
      "source": "text = 'all your base are belong to us all of your base base base'\ntype(text)",
      "execution_count": 6,
      "outputs": [
        {
          "output_type": "execute_result",
          "execution_count": 6,
          "data": {
            "text/plain": "str"
          },
          "metadata": {}
        }
      ]
    },
    {
      "metadata": {
        "_cell_guid": "afd2bb09-c20d-403a-978f-f1875488a2d5",
        "_uuid": "51d45b51b3bfe63caa73a8d70db7cb10ce282139",
        "trusted": true
      },
      "cell_type": "code",
      "source": "\"\"\"\nDefine your pattern\n\"\"\"\npatterns = [\n    (r'.*ing$', 'VBG'),               # gerunds\n    (r'.*ed$', 'VBD'),                # simple past\n    (r'.*es$', 'VBZ'),                # 3rd singular present\n    (r'.*ould$', 'MD'),               # modals\n    (r'.*\\'s$', 'NN$'),               # possessive nouns\n    (r'.*s$', 'NNS'),                 # plural nouns\n    (r'^-?[0-9]+(.[0-9]+)?$', 'CD'),  # cardinal numbers\n    (r'(The|the|A|a|An|an)$', 'AT'),   # articles \n    (r'.*able$', 'JJ'),                # adjectives \n    (r'.*ness$', 'NN'),                # nouns formed from adjectives\n    (r'.*ly$', 'RB'),                  # adverbs\n    (r'(He|he|She|she|It|it|I|me|Me|You|you)$', 'PRP'), # pronouns\n    (r'(His|his|Her|her|Its|its)$', 'PRP$'),    # possesive\n    (r'(my|Your|your|Yours|yours)$', 'PRP$'),   # possesive\n    (r'(on|On|in|In|at|At|since|Since)$', 'IN'),# time prepopsitions\n    (r'(for|For|ago|Ago|before|Before)$', 'IN'),# time prepopsitions\n    (r'(till|Till|until|Until)$', 'IN'),        # time prepopsitions\n    (r'(by|By|beside|Beside)$', 'IN'),          # space prepopsitions\n    (r'(under|Under|below|Below)$', 'IN'),      # space prepopsitions\n    (r'(over|Over|above|Above)$', 'IN'),        # space prepopsitions\n    (r'(across|Across|through|Through)$', 'IN'),# space prepopsitions\n    (r'(into|Into|towards|Towards)$', 'IN'),    # space prepopsitions\n    (r'(onto|Onto|from|From)$', 'IN'),          # space prepopsitions    \n    (r'\\.$','.'), (r'\\,$',','), (r'\\?$','?'),    # fullstop, comma, Qmark\n    (r'\\($','('), (r'\\)$',')'),             # round brackets\n    (r'\\[$','['), (r'\\]$',']'),             # square brackets\n    (r'(Sam)$', 'NAM'),\n    # WARNING : Put the default value in the end\n    (r'.*', 'NN')                      # nouns (default)\n    ]\n\n\"\"\"\nConstruct tager\n\"\"\"\nregexp_tagger = nltk.RegexpTagger(patterns)\n\n# We use the sentence : brown_sents[3]\nprint(regexp_tagger.tag(brown_sents[3]))\nprint(regexp_tagger.evaluate(brown_tagged_sents))\n\n# We use our sentence :\nprint(regexp_tagger.tag(tokens))\nprint(regexp_tagger.evaluate(brown_tagged_sents))",
      "execution_count": 7,
      "outputs": [
        {
          "output_type": "stream",
          "text": "[('``', 'NN'), ('Only', 'RB'), ('a', 'AT'), ('relative', 'NN'), ('handful', 'NN'), ('of', 'NN'), ('such', 'NN'), ('reports', 'NNS'), ('was', 'NNS'), ('received', 'VBD'), (\"''\", 'NN'), (',', ','), ('the', 'AT'), ('jury', 'NN'), ('said', 'NN'), (',', ','), ('``', 'NN'), ('considering', 'VBG'), ('the', 'AT'), ('widespread', 'NN'), ('interest', 'NN'), ('in', 'IN'), ('the', 'AT'), ('election', 'NN'), (',', ','), ('the', 'AT'), ('number', 'NN'), ('of', 'NN'), ('voters', 'NNS'), ('and', 'NN'), ('the', 'AT'), ('size', 'NN'), ('of', 'NN'), ('this', 'NNS'), ('city', 'NN'), (\"''\", 'NN'), ('.', '.')]\n0.4461085585854367\n[('I', 'PRP'), ('do', 'NN'), ('not', 'NN'), ('like', 'NN'), ('green', 'NN'), ('eggs', 'NNS'), ('and', 'NN'), ('ham', 'NN'), (',', ','), ('I', 'PRP'), ('do', 'NN'), ('not', 'NN'), ('like', 'NN'), ('them', 'NN'), ('Sam', 'NAM'), ('I', 'PRP'), ('am', 'NN'), ('!', 'NN')]\n0.4461085585854367\n",
          "name": "stdout"
        }
      ]
    },
    {
      "metadata": {
        "_cell_guid": "12237af2-28c3-4991-bd67-3899d99ff837",
        "_uuid": "3d52fc9530819df2640352a8f4e3bbde0d4544d5"
      },
      "cell_type": "markdown",
      "source": "## II/ Train your own tagger\n\n### Method 1 : NGram Tagging\n\nThe NgramTagger class uses a tagged training corpus to determine which part-of-speech tag is most likely for each context. Here we see a special case of an n-gram tagger, namely a bigram tagger. First we train it, then use it to tag untagged sentences:\n\n#### Unigram\n\nUnigram taggers are based on a simple statistical algorithm: for each token, assign the tag that is most likely for that particular token. For example, it will assign the tag JJ to any occurrence of the word frequent, since frequent is used as an adjective (e.g. a frequent word) more often than it is used as a verb (e.g. I frequent this cafe). A unigram tagger behaves just like a lookup tagger .\n\nA unigram tagger behaves just like a lookup tagger, except there is a more convenient technique for setting it up, called training. In the following code sample, we train a unigram tagger, use it to tag a sentence, then evaluate.\n\nWe train a UnigramTagger by specifying tagged sentence data as a parameter when we initialize the tagger. The training process involves inspecting the tag of each word and storing the most likely tag for any word in a dictionary, stored inside the tagger"
    },
    {
      "metadata": {
        "_cell_guid": "1cb2f1c8-0786-4c7c-9e34-e4d149d49586",
        "_uuid": "ce0005efc81bac4262aff974ec335bb516cec948",
        "trusted": true
      },
      "cell_type": "code",
      "source": "\"\"\"\nUniGram-Tagging\n\"\"\"\nfrom nltk.corpus import brown\n\n# Training\nunigram_tagger = nltk.UnigramTagger(brown_tagged_sents)\n\n# Tag our text\nunigram_tagger.tag(tokens)\n\n# Evaluate \nunigram_tagger.evaluate(brown_tagged_sents)",
      "execution_count": 8,
      "outputs": [
        {
          "output_type": "execute_result",
          "execution_count": 8,
          "data": {
            "text/plain": "0.9349006503968017"
          },
          "metadata": {}
        }
      ]
    },
    {
      "metadata": {
        "_uuid": "8a0190483b810e3692f2d49207f92105a70d5e89"
      },
      "cell_type": "markdown",
      "source": "achieves an accuracy of 93.5% -  This number is actually unreasonably high\n"
    },
    {
      "metadata": {
        "_cell_guid": "7750f3cf-d594-4230-b83d-00787e9a023f",
        "_uuid": "bb5dfde8297208b58020080cf8da696f54648716",
        "trusted": true
      },
      "cell_type": "code",
      "source": "\"\"\"\nTrain your own Unigram \n\"\"\"\n# Create a train and test set\nsize = int(len(brown_tagged_sents) * 0.9)\ntrain_sents = brown_tagged_sents[:size]\ntest_sents = brown_tagged_sents[size:]\n\n# Training : \nunigram_tagger = nltk.UnigramTagger(train_sents)\n\n# Evaluate\nprint (\"Evaluation 1gram on train set \", unigram_tagger.evaluate(train_sents))\nprint (\"Evaluation 1gram on test set \", unigram_tagger.evaluate(test_sents))",
      "execution_count": 9,
      "outputs": [
        {
          "output_type": "stream",
          "text": "Evaluation 1gram on train set  0.9353630649241612\nEvaluation 1gram on test set  0.8121200039868434\n",
          "name": "stdout"
        }
      ]
    },
    {
      "metadata": {
        "_cell_guid": "0a7e8c8d-9368-47a7-ac3c-9863aec07be6",
        "_uuid": "d959fd85c451f7a53e95f9d8f070bc59a5b2c588"
      },
      "cell_type": "markdown",
      "source": "#### Method 2 : Bigram"
    },
    {
      "metadata": {
        "_cell_guid": "d1ba743c-1bc3-4b71-8011-5b0acdaef6fc",
        "_uuid": "907fc7b7a45ed6abee245dbcbe2d95b3c49f419b",
        "trusted": true
      },
      "cell_type": "code",
      "source": "\"\"\"\nBiGram-Tagging\n\"\"\"\n# Training the bigram tagger on a train set\nbigram_tagger = nltk.BigramTagger(brown_tagged_sents)\n\n# Tag our text\nbigram_tagger.tag(tokens)\n\n# Evaluate \nbigram_tagger.evaluate(brown_tagged_sents)",
      "execution_count": 10,
      "outputs": [
        {
          "output_type": "execute_result",
          "execution_count": 10,
          "data": {
            "text/plain": "0.7892972929967977"
          },
          "metadata": {}
        }
      ]
    },
    {
      "metadata": {
        "_cell_guid": "795a4b40-2f82-481a-9e5e-e67603c99e8c",
        "_uuid": "c4a929ace89b265c91b935b9480ee653020fd145",
        "trusted": true
      },
      "cell_type": "code",
      "source": "\"\"\"\nTrain your own Bigram \n\"\"\"\n# Create a train and test set\nsize = int(len(brown_tagged_sents) * 0.9)\ntrain_sents = brown_tagged_sents[:size]\ntest_sents = brown_tagged_sents[size:]\n\n# Training the bigram tagger on a train set\nbigram_tagger = nltk.BigramTagger(train_sents)\n\n# Evaluate\nprint (\"Evaluation 2gram on train set \", bigram_tagger.evaluate(train_sents))\nprint (\"Evaluation 2gram on test set \", bigram_tagger.evaluate(test_sents))",
      "execution_count": 11,
      "outputs": [
        {
          "output_type": "stream",
          "text": "Evaluation 2gram on train set  0.7884137382485832\nEvaluation 2gram on test set  0.10206319146815508\n",
          "name": "stdout"
        }
      ]
    },
    {
      "metadata": {
        "_uuid": "fd02b3c34109a7050cfb658c1d2eded52db77593"
      },
      "cell_type": "markdown",
      "source": "Notice that the bigram tagger manages to tag every word in a sentence it saw during training, but does badly on an unseen sentence. As soon as it encounters a new word (i.e., 13.5), it is unable to assign a tag. It cannot tag the following word (i.e., million) even if it was seen during training, simply because it never saw it during training with a None tag on the previous word. Consequently, the tagger fails to tag the rest of the sentence. Its overall accuracy score is very low.\n\nNotice that the bigram tagger manages to tag every word in a sentence it saw during training, but does badly on an unseen sentence. As soon as it encounters a new word (i.e., 13.5), it is unable to assign a tag. It cannot tag the following word (i.e., million) even if it was seen during training, simply because it never saw it during training with a None tag on the previous word. Consequently, the tagger fails to tag the rest of the sentence. Its overall accuracy score is very low"
    },
    {
      "metadata": {
        "_uuid": "32be89e9d400e2a92f1ba38c04e83561cb9b61d3",
        "trusted": true
      },
      "cell_type": "code",
      "source": "\"\"\"\nTriGram-Tagging\n\"\"\"\n# Training the bigram tagger on a train set\nTrigram_tagger = nltk.TrigramTagger(brown_tagged_sents)\n\n# Tag our text\nTrigram_tagger.tag(tokens)\n\n# Evaluate \nTrigram_tagger.evaluate(brown_tagged_sents)",
      "execution_count": 12,
      "outputs": [
        {
          "output_type": "execute_result",
          "execution_count": 12,
          "data": {
            "text/plain": "0.8198679316586113"
          },
          "metadata": {}
        }
      ]
    },
    {
      "metadata": {
        "_uuid": "3c61f87ef6756850bcbeb5974cca1493bbb8694d",
        "trusted": true
      },
      "cell_type": "code",
      "source": "\"\"\"\nTrain your own Trigram \n\"\"\"\n# Create a train and test set\nsize = int(len(brown_tagged_sents) * 0.9)\ntrain_sents = brown_tagged_sents[:size]\ntest_sents = brown_tagged_sents[size:]\n\n# Training the bigram tagger on a train set\nTrigram_tagger = nltk.TrigramTagger(train_sents)\n\n# Evaluate\nprint (\"Evaluation 3gram on train set \", Trigram_tagger.evaluate(train_sents))\nprint (\"Evaluation 3gram on test set \", Trigram_tagger.evaluate(test_sents))",
      "execution_count": 13,
      "outputs": [
        {
          "output_type": "stream",
          "text": "Evaluation 3gram on train set  0.8216104550325339\nEvaluation 3gram on test set  0.0626931127279976\n",
          "name": "stdout"
        }
      ]
    },
    {
      "metadata": {
        "collapsed": true,
        "_cell_guid": "405ed4e6-508d-4cb1-8ec1-7a5d0cbba4b0",
        "_uuid": "8a9c1335aa9dec07f5bb7ba679ecff760ef27e74"
      },
      "cell_type": "markdown",
      "source": "\n\n** Combining tagger **\n\nOne way to address the trade-off between accuracy and coverage is to use the more accurate algorithms when we can, but to fall back on algorithms with wider coverage when necessary. For example, we could combine the results of a bigram tagger, a unigram tagger, and a default tagger, as follows:\n\n* Try tagging the token with the bigram tagger.\n* If the bigram tagger is unable to find a tag for the token, try the unigram tagger.\n* If the unigram tagger is also unable to find a tag, use a default tagger."
    },
    {
      "metadata": {
        "_cell_guid": "bbb8892d-f58a-4b69-9e5e-d2bb7846faaf",
        "_uuid": "ced74c081c41b0f6349bc10ada12efa1b16ff8b2",
        "trusted": true
      },
      "cell_type": "code",
      "source": "\"\"\"\nMix Default, Unigram and Bigram\n\"\"\"\nt0 = nltk.DefaultTagger('NN')\nt1 = nltk.UnigramTagger(train_sents, backoff=t0)\nt2 = nltk.BigramTagger(train_sents, backoff=t1)\n\nprint (\"Evaluation mix default/1G/2G on train set \", t2.evaluate(train_sents))\nprint (\"Evaluation mix default/1G/2G on test set \", t2.evaluate(test_sents))\n\n\"\"\"\nCombine Default, Unigram and Bigram\n\"\"\"\nt0 = nltk.DefaultTagger('NN')\nt1 = nltk.UnigramTagger(train_sents, backoff=t0)\nt2 = nltk.BigramTagger(train_sents, backoff=t1)\nt3 = nltk.TrigramTagger(train_sents, backoff=t2)\nprint (\"\\nEvaluation mix default/1G/2G/3G on train set \", t3.evaluate(train_sents))\nprint (\"Evaluation mix default/1G/2G/3G on test set \", t3.evaluate(test_sents))\n",
      "execution_count": 14,
      "outputs": [
        {
          "output_type": "stream",
          "text": "Evaluation mix default/1G/2G on train set  0.9736193811380784\nEvaluation mix default/1G/2G on test set  0.8452108043456593\n\nEvaluation mix default/1G/2G/3G on train set  0.9829321372941086\nEvaluation mix default/1G/2G/3G on test set  0.843317053722715\n",
          "name": "stdout"
        }
      ]
    },
    {
      "metadata": {
        "_uuid": "f3619d69b388fbfd5e636456a00f31873391e565"
      },
      "cell_type": "markdown",
      "source": "### Method 2 : Perceptron tagger"
    },
    {
      "metadata": {
        "_uuid": "9169654e102ecbcc4fc6f1d7dfab3028e25f3e95",
        "trusted": true
      },
      "cell_type": "code",
      "source": "# Create a train and test set\nsize = int(len(brown_tagged_sents) * 0.9)\ntrain_sents = brown_tagged_sents[:size]\ntest_sents = brown_tagged_sents[size:]\n\n# Train the model \nfrom nltk.tag.perceptron import PerceptronTagger\npct_tag = PerceptronTagger(load=False)\npct_tag.train(train_sents)\n\n# Check the performance \nprint (\"Evaluation Own PerceptronTagger on train set \", pct_tag.evaluate(train_sents))\nprint (\"Evaluation Own PerceptronTagger on test set \", pct_tag.evaluate(test_sents))",
      "execution_count": 15,
      "outputs": [
        {
          "output_type": "stream",
          "text": "Evaluation Own PerceptronTagger on train set  0.9930181946730593\nEvaluation Own PerceptronTagger on test set  0.9246486594239012\n",
          "name": "stdout"
        }
      ]
    },
    {
      "metadata": {
        "_cell_guid": "d026546c-6ded-4437-979b-e17b1c999533",
        "_uuid": "fb9c709a8a1afc8fa865ff4a0f6b26a573681085"
      },
      "cell_type": "markdown",
      "source": "# Annex : \n\n## I/ Make some statistics with tags"
    },
    {
      "metadata": {
        "_cell_guid": "80ef889b-9649-4a10-8570-e8740db00dd3",
        "_uuid": "9deb6b3e0f1ccbe8c61c4fd071def97bd3966256",
        "trusted": true
      },
      "cell_type": "code",
      "source": "\"\"\" \nwhich of these tags are the most common in the news category of the Brown corpus ? \n\"\"\"\nfrom nltk.corpus import brown\nbrown_news_tagged = brown.tagged_words(categories='news', tagset='universal')\ntag_fd = nltk.FreqDist(tag for (word, tag) in brown_news_tagged)\nprint(\"List of most common tags in Brown corpus : \\n\", tag_fd.most_common())\ntag_fd.plot(cumulative=True)\n\n\"\"\"\nRechercher des tags specifiques \"\"\"\ndef find_tags(tag_prefix, tokens):\n    return [tokens for tokens, pos in pos_tag(tokens) if pos == tag_prefix]\nmytag = find_tags(\"NNP\", tokens)\nprint(\"Les tags sont : \", mytag)",
      "execution_count": 16,
      "outputs": [
        {
          "output_type": "stream",
          "text": "List of most common tags in Brown corpus : \n [('NOUN', 30654), ('VERB', 14399), ('ADP', 12355), ('.', 11928), ('DET', 11389), ('ADJ', 6706), ('ADV', 3349), ('CONJ', 2717), ('PRON', 2535), ('PRT', 2264), ('NUM', 2166), ('X', 92)]\n",
          "name": "stdout"
        },
        {
          "output_type": "display_data",
          "data": {
            "text/plain": "<matplotlib.figure.Figure at 0x7f1b5c5bac88>",
            "image/png": "[encoded data removed]"
          },
          "metadata": {}
        },
        {
          "output_type": "stream",
          "text": "Les tags sont :  ['Sam']\n",
          "name": "stdout"
        }
      ]
    },
    {
      "metadata": {
        "_cell_guid": "78362674-fdd9-45dc-87f4-80c7debe9bb6",
        "_uuid": "53c2edbea4b7688ac857a43547e7405a22cf007f"
      },
      "cell_type": "markdown",
      "source": "## II/ Other langages"
    },
    {
      "metadata": {
        "_cell_guid": "d634a424-a781-4707-b6c4-2bbf435b89a5",
        "_uuid": "96e300d8d10ee0f30c7aa71b1e3156b19eced0f6",
        "trusted": true
      },
      "cell_type": "code",
      "source": "print(\"Modern Chinese \", nltk.corpus.sinica_treebank.tagged_words())\nprint(\"Indian : \" , nltk.corpus.indian.tagged_words())\nprint(\"Portuguese : \", nltk.corpus.mac_morpho.tagged_words())\nprint(\"Brasil : \", nltk.corpus.conll2002.tagged_words())\nprint(\"Catalan : \", nltk.corpus.cess_cat.tagged_words())",
      "execution_count": 17,
      "outputs": [
        {
          "output_type": "stream",
          "text": "Modern Chinese  [('一', 'Neu'), ('友情', 'Nad'), ('嘉珍', 'Nba'), ...]\nIndian :  [('মহিষের', 'NN'), ('সন্তান', 'NN'), (':', 'SYM'), ...]\nPortuguese :  [('Jersei', 'N'), ('atinge', 'V'), ('média', 'N'), ...]\nBrasil :  [('Sao', 'NC'), ('Paulo', 'VMI'), ('(', 'Fpa'), ...]\nCatalan :  [('El', 'da0ms0'), ('Tribunal_Suprem', 'np0000o'), ...]\n",
          "name": "stdout"
        }
      ]
    },
    {
      "metadata": {
        "_cell_guid": "4b82599d-fb8e-4cc2-bec6-4e188812261f",
        "_uuid": "05c33bd72c671151096e2a5571346da73bfdbd08"
      },
      "cell_type": "markdown",
      "source": "** Tagging unknown words **\n\nOur approach to tagging unknown words still uses backoff to a regular-expression tagger or a default tagger. These are unable to make use of context. Thus, if our tagger encountered the word blog, not seen during training, it would assign it the same tag, regardless of whether this word appeared in the context the blog or to blog.\n\n"
    },
    {
      "metadata": {
        "collapsed": true,
        "_cell_guid": "8edecba8-a254-4319-9f86-85f51c71308c",
        "_uuid": "5c4f7beb8230c861d23cd73b31a1b9025d07ae94"
      },
      "cell_type": "markdown",
      "source": "** Store your tagger **"
    },
    {
      "metadata": {
        "_cell_guid": "e19f5c49-b1fd-44f9-90c6-2de2ab3720b1",
        "_uuid": "2585d4263eb751b1b1e1209cea39bd392e29c251",
        "trusted": true
      },
      "cell_type": "code",
      "source": "\"\"\" STORE TAGGERS \"\"\"\n# save our tagger t2 \nfrom pickle import dump\noutput = open('t2.pkl', 'wb')\ndump(t2, output, -1)\noutput.close()\n\n# we can load our saved tagger\nfrom pickle import load\ninput = open('t2.pkl', 'rb')\ntagger = load(input)\ninput.close()\n\n# Check \ntext = \"\"\"The board's action shows what free enterprise is up against in our complex maze of regulatory laws .\"\"\"\ntokens = text.split()\ntagger.tag(tokens)",
      "execution_count": 22,
      "outputs": [
        {
          "output_type": "execute_result",
          "execution_count": 22,
          "data": {
            "text/plain": "[('The', 'AT'),\n (\"board's\", 'NN$'),\n ('action', 'NN'),\n ('shows', 'NNS'),\n ('what', 'WDT'),\n ('free', 'JJ'),\n ('enterprise', 'NN'),\n ('is', 'BEZ'),\n ('up', 'RP'),\n ('against', 'IN'),\n ('in', 'IN'),\n ('our', 'PP$'),\n ('complex', 'JJ'),\n ('maze', 'NN'),\n ('of', 'IN'),\n ('regulatory', 'NN'),\n ('laws', 'NNS'),\n ('.', '.')]"
          },
          "metadata": {}
        }
      ]
    },
    {
      "metadata": {
        "_cell_guid": "e6222c21-f3de-4abe-91fc-454789dd6306",
        "_uuid": "75491fcb3a5a17ccd037dc2e47582a5f5895cf19"
      },
      "cell_type": "markdown",
      "source": "# Topic Modelling\n\nSource : https://www.analyticsvidhya.com/blog/2016/08/beginners-guide-to-topic-modeling-in-python/\n\n# Chunking with NLTK\nSource : https://pythonprogramming.net/chunking-nltk-tutorial/?completed=/part-of-speech-tagging-nltk-tutorial/\n\n\n # Final pipeline Preprocessing\n Source : https://nlpforhackers.io/building-a-nlp-pipeline-in-nltk/\n \n"
    }
  ],
  "metadata": {
    "kernelspec": {
      "display_name": "Python 3",
      "language": "python",
      "name": "python3"
    },
    "language_info": {
      "name": "python",
      "version": "3.6.3",
      "mimetype": "text/x-python",
      "codemirror_mode": {
        "name": "ipython",
        "version": 3
      },
      "pygments_lexer": "ipython3",
      "nbconvert_exporter": "python",
      "file_extension": ".py"
    }
  },
  "nbformat": 4,
  "nbformat_minor": 1
}