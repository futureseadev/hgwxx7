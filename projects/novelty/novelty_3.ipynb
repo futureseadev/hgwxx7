{
 "cells": [
  {
   "cell_type": "markdown",
   "metadata": {},
   "source": [
    "## novelty\n",
    "\n",
    "#### steps\n",
    "\n",
    "1. study the data\n",
    "    - commonality check\n",
    "    - add/update stopwords\n",
    "2. import required libraries\n",
    "3. tokenize the lines\n",
    "4. flatten the list\n",
    "5. Word2Vec modeling (set no. of dimensions)\n",
    "6. model.wv.__getitem__(word)[0]]\n",
    "7. outlier values can be detected easily\n",
    "---"
   ]
  },
  {
   "cell_type": "code",
   "execution_count": 1,
   "metadata": {},
   "outputs": [
    {
     "name": "stderr",
     "output_type": "stream",
     "text": [
      "E:\\Python\\Anaconda\\lib\\site-packages\\gensim\\utils.py:1209: UserWarning: detected Windows; aliasing chunkize to chunkize_serial\n",
      "  warnings.warn(\"detected Windows; aliasing chunkize to chunkize_serial\")\n"
     ]
    }
   ],
   "source": [
    "# load libraries\n",
    "\n",
    "import numpy as np\n",
    "from gensim.models.word2vec import Word2Vec\n",
    "from sklearn.svm import OneClassSVM\n",
    "\n",
    "import matplotlib.pyplot as plt\n",
    "%matplotlib inline"
   ]
  },
  {
   "cell_type": "code",
   "execution_count": 2,
   "metadata": {},
   "outputs": [],
   "source": [
    "# reading the log file\n",
    "error_list = []\n",
    "\n",
    "with open('sample.log', 'r') as f:\n",
    "    for line in f:\n",
    "        error_list.append(line.replace('\\n',''))"
   ]
  },
  {
   "cell_type": "code",
   "execution_count": 3,
   "metadata": {},
   "outputs": [
    {
     "data": {
      "text/plain": [
       "['normal abc-123-222',\n",
       " 'user has been authenticated - continue',\n",
       " 'normal abc-123-223',\n",
       " 'user has been authenticated - continue',\n",
       " 'normal abc-123-224']"
      ]
     },
     "execution_count": 3,
     "metadata": {},
     "output_type": "execute_result"
    }
   ],
   "source": [
    "# sample check\n",
    "error_list[:5]"
   ]
  },
  {
   "cell_type": "code",
   "execution_count": 4,
   "metadata": {},
   "outputs": [],
   "source": [
    "# remove stopwords; use nltk or prepare a list of stopwords\n",
    "# here '-', 'has', 'been' etc. can be removed!\n",
    "\n",
    "stopwords = ['-', 'has', 'been']\n",
    "\n",
    "error_list = []\n",
    "\n",
    "with open('sample.log', 'r') as f:\n",
    "    for line in f:\n",
    "        for sw in stopwords:\n",
    "            line = line.replace(sw,'')\n",
    "        error_list.append(line.replace('\\n',''))"
   ]
  },
  {
   "cell_type": "code",
   "execution_count": 5,
   "metadata": {},
   "outputs": [
    {
     "data": {
      "text/plain": [
       "['normal abc123222',\n",
       " 'user   authenticated  continue',\n",
       " 'normal abc123223',\n",
       " 'user   authenticated  continue',\n",
       " 'normal abc123224']"
      ]
     },
     "execution_count": 5,
     "metadata": {},
     "output_type": "execute_result"
    }
   ],
   "source": [
    "error_list[:5]"
   ]
  },
  {
   "cell_type": "code",
   "execution_count": 6,
   "metadata": {},
   "outputs": [],
   "source": [
    "# import tokenizer or split using Python\n",
    "from nltk import word_tokenize as wt"
   ]
  },
  {
   "cell_type": "code",
   "execution_count": 7,
   "metadata": {},
   "outputs": [
    {
     "data": {
      "text/plain": [
       "[['normal', 'abc123222'],\n",
       " ['user', 'authenticated', 'continue'],\n",
       " ['normal', 'abc123223'],\n",
       " ['user', 'authenticated', 'continue'],\n",
       " ['normal', 'abc123224'],\n",
       " ['user', 'authenticated', 'continue'],\n",
       " ['normal', 'abc123225'],\n",
       " ['user', 'authenticated', 'continue'],\n",
       " ['normal', 'abc123226'],\n",
       " ['user', 'authenticated', 'continue']]"
      ]
     },
     "execution_count": 7,
     "metadata": {},
     "output_type": "execute_result"
    }
   ],
   "source": [
    "tokens = [wt(word) for word in error_list]\n",
    "tokens[:10]"
   ]
  },
  {
   "cell_type": "code",
   "execution_count": 8,
   "metadata": {},
   "outputs": [],
   "source": [
    "# removing duplicates from the list of words \n",
    "flat_tokens = [item for sublist in tokens for item in sublist]"
   ]
  },
  {
   "cell_type": "code",
   "execution_count": 9,
   "metadata": {},
   "outputs": [
    {
     "data": {
      "text/plain": [
       "['abc123225',\n",
       " 'abc123233',\n",
       " 'abc123224',\n",
       " 'abc123222',\n",
       " 'def123224',\n",
       " 'continue',\n",
       " 'abc123235',\n",
       " 'user',\n",
       " 'abc123234',\n",
       " 'abnormal',\n",
       " 'def123221',\n",
       " 'authenticated',\n",
       " 'abc123227',\n",
       " 'normal',\n",
       " 'abc123226',\n",
       " 'abc123232',\n",
       " 'error',\n",
       " 'abc123236',\n",
       " 'abc123223',\n",
       " 'abc123237',\n",
       " 'def123256']"
      ]
     },
     "execution_count": 9,
     "metadata": {},
     "output_type": "execute_result"
    }
   ],
   "source": [
    "flat_tokens = list(set(flat_tokens))\n",
    "flat_tokens = [word for word in flat_tokens if word not in stopwords]\n",
    "flat_tokens"
   ]
  },
  {
   "cell_type": "code",
   "execution_count": 10,
   "metadata": {},
   "outputs": [
    {
     "data": {
      "text/plain": [
       "<gensim.models.word2vec.Word2Vec at 0x13e3e302588>"
      ]
     },
     "execution_count": 10,
     "metadata": {},
     "output_type": "execute_result"
    }
   ],
   "source": [
    "# building the W2V model\n",
    "model = Word2Vec(tokens, min_count=1, size=1)\n",
    "model"
   ]
  },
  {
   "cell_type": "code",
   "execution_count": 11,
   "metadata": {},
   "outputs": [],
   "source": [
    "# preparing the training data\n",
    "\n",
    "train = []\n",
    "\n",
    "for word in flat_tokens:\n",
    "    train.append([word, model.wv.__getitem__(word)[0]])"
   ]
  },
  {
   "cell_type": "code",
   "execution_count": 12,
   "metadata": {},
   "outputs": [
    {
     "data": {
      "text/plain": [
       "[['abc123225', 0.13382563],\n",
       " ['abc123233', 0.063248985],\n",
       " ['abc123224', 0.4479755],\n",
       " ['abc123222', 0.07106219],\n",
       " ['def123224', 0.91472024],\n",
       " ['continue', 0.62603045],\n",
       " ['abc123235', 0.46992135],\n",
       " ['user', 0.5984304],\n",
       " ['abc123234', 0.13310286],\n",
       " ['abnormal', 2.6557949],\n",
       " ['def123221', 2.14216],\n",
       " ['authenticated', 0.71153855],\n",
       " ['abc123227', 0.46044984],\n",
       " ['normal', 1.8947587],\n",
       " ['abc123226', 0.30117008],\n",
       " ['abc123232', 0.2307637],\n",
       " ['error', 2.4710228],\n",
       " ['abc123236', 0.24889427],\n",
       " ['abc123223', 0.08246646],\n",
       " ['abc123237', 0.35918424],\n",
       " ['def123256', -0.23639652]]"
      ]
     },
     "execution_count": 12,
     "metadata": {},
     "output_type": "execute_result"
    }
   ],
   "source": [
    "train"
   ]
  },
  {
   "cell_type": "code",
   "execution_count": 13,
   "metadata": {},
   "outputs": [
    {
     "data": {
      "text/plain": [
       "[['abnormal', 2.6557949], ['def123221', 2.14216], ['error', 2.4710228]]"
      ]
     },
     "execution_count": 13,
     "metadata": {},
     "output_type": "execute_result"
    }
   ],
   "source": [
    "# outliers - as we can see from the above \n",
    "# few values are less than 2; \n",
    "[x for x in train if x[1] > 2]"
   ]
  },
  {
   "cell_type": "code",
   "execution_count": 14,
   "metadata": {},
   "outputs": [],
   "source": [
    "# we can prepare training and test datasets appropriately\n",
    "# and conduct further modeling with additional data, if required\n",
    "# can be used to calculate precision, recall, auc etc."
   ]
  },
  {
   "cell_type": "markdown",
   "metadata": {},
   "source": [
    "#### retraining "
   ]
  },
  {
   "cell_type": "code",
   "execution_count": 15,
   "metadata": {},
   "outputs": [
    {
     "data": {
      "text/plain": [
       "<gensim.models.word2vec.Word2Vec at 0x13e3f10eac8>"
      ]
     },
     "execution_count": 15,
     "metadata": {},
     "output_type": "execute_result"
    }
   ],
   "source": [
    "# building the W2V model\n",
    "# size (100) => number of dimensions of the embedding\n",
    "# min_count (5) => words with an occurrence less than this count will be ignored\n",
    "# window (5) => maximum distance between a target word and words around the target word\n",
    "# workers (3) => number of threads to use while training\n",
    "model = Word2Vec(tokens, min_count=1, size=1, window=1)\n",
    "model"
   ]
  },
  {
   "cell_type": "code",
   "execution_count": 16,
   "metadata": {},
   "outputs": [],
   "source": [
    "# preparing the training data\n",
    "train = []\n",
    "\n",
    "for word in flat_tokens:\n",
    "    train.append([word, model.wv.__getitem__(word)[0]])"
   ]
  },
  {
   "cell_type": "code",
   "execution_count": 17,
   "metadata": {},
   "outputs": [
    {
     "data": {
      "text/plain": [
       "[['abc123225', -0.02716694],\n",
       " ['abc123233', 0.08637203],\n",
       " ['abc123224', 0.39668235],\n",
       " ['abc123222', 0.13047819],\n",
       " ['def123224', 0.9008598],\n",
       " ['continue', 0.615411],\n",
       " ['abc123235', 0.42098936],\n",
       " ['user', 0.575515],\n",
       " ['abc123234', 0.15301408],\n",
       " ['abnormal', 2.3441765],\n",
       " ['def123221', 1.9316148],\n",
       " ['authenticated', 0.707954],\n",
       " ['abc123227', 0.4160377],\n",
       " ['normal', 1.907468],\n",
       " ['abc123226', 0.19146249],\n",
       " ['abc123232', 0.18989928],\n",
       " ['error', 2.4708848],\n",
       " ['abc123236', 0.18698314],\n",
       " ['abc123223', 0.013917897],\n",
       " ['abc123237', 0.328511],\n",
       " ['def123256', -0.21214862]]"
      ]
     },
     "execution_count": 17,
     "metadata": {},
     "output_type": "execute_result"
    }
   ],
   "source": [
    "train"
   ]
  },
  {
   "cell_type": "code",
   "execution_count": 18,
   "metadata": {},
   "outputs": [
    {
     "data": {
      "text/plain": [
       "[['abnormal', 2.3441765], ['error', 2.4708848]]"
      ]
     },
     "execution_count": 18,
     "metadata": {},
     "output_type": "execute_result"
    }
   ],
   "source": [
    "[x for x in train if x[1] > 2]"
   ]
  },
  {
   "cell_type": "code",
   "execution_count": null,
   "metadata": {},
   "outputs": [],
   "source": []
  }
 ],
 "metadata": {
  "kernelspec": {
   "display_name": "Python 3",
   "language": "python",
   "name": "python3"
  },
  "language_info": {
   "codemirror_mode": {
    "name": "ipython",
    "version": 3
   },
   "file_extension": ".py",
   "mimetype": "text/x-python",
   "name": "python",
   "nbconvert_exporter": "python",
   "pygments_lexer": "ipython3",
   "version": "3.6.4"
  }
 },
 "nbformat": 4,
 "nbformat_minor": 2
}
