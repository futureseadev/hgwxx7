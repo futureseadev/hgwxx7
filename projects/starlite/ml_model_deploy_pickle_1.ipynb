{
 "cells": [
  {
   "cell_type": "markdown",
   "metadata": {},
   "source": [
    "# XOR Model | Pickle"
   ]
  },
  {
   "cell_type": "code",
   "execution_count": 1,
   "metadata": {},
   "outputs": [],
   "source": [
    "import numpy as np\n",
    "import sklearn\n",
    "import pickle\n",
    "import os\n",
    "from sklearn.neural_network import MLPClassifier as mlpc"
   ]
  },
  {
   "cell_type": "code",
   "execution_count": 2,
   "metadata": {},
   "outputs": [
    {
     "data": {
      "text/plain": [
       "['.ipynb_checkpoints',\n",
       " 'cache',\n",
       " 'ml_book',\n",
       " 'ml_model_deploy_pickle_1.ipynb',\n",
       " 'old',\n",
       " 'XOR_model.pkl']"
      ]
     },
     "execution_count": 2,
     "metadata": {},
     "output_type": "execute_result"
    }
   ],
   "source": [
    "os.getcwd()\n",
    "os.listdir()"
   ]
  },
  {
   "cell_type": "code",
   "execution_count": 3,
   "metadata": {},
   "outputs": [],
   "source": [
    "xs = np.array([0,0,0,1,1,0,1,1]).reshape(4,2)\n",
    "ys = np.array([0,1,1,0]).reshape(4,)"
   ]
  },
  {
   "cell_type": "code",
   "execution_count": 4,
   "metadata": {},
   "outputs": [
    {
     "data": {
      "text/plain": [
       "MLPClassifier(activation='relu', alpha=0.0001, batch_size='auto', beta_1=0.9,\n",
       "       beta_2=0.999, early_stopping=False, epsilon=1e-08,\n",
       "       hidden_layer_sizes=(4, 2), learning_rate='constant',\n",
       "       learning_rate_init=0.001, max_iter=10000, momentum=0.9,\n",
       "       nesterovs_momentum=True, power_t=0.5, random_state=None,\n",
       "       shuffle=True, solver='adam', tol=0.0001, validation_fraction=0.1,\n",
       "       verbose=False, warm_start=False)"
      ]
     },
     "execution_count": 4,
     "metadata": {},
     "output_type": "execute_result"
    }
   ],
   "source": [
    "mdl = mlpc(activation='relu', max_iter=10000, hidden_layer_sizes=(4,2))\n",
    "mdl.fit(xs, ys)"
   ]
  },
  {
   "cell_type": "code",
   "execution_count": 5,
   "metadata": {},
   "outputs": [],
   "source": [
    "filename = 'XOR_model.pkl'"
   ]
  },
  {
   "cell_type": "code",
   "execution_count": 6,
   "metadata": {},
   "outputs": [],
   "source": [
    "pickle.dump(mdl, open(filename, 'wb'))"
   ]
  },
  {
   "cell_type": "code",
   "execution_count": 7,
   "metadata": {},
   "outputs": [
    {
     "data": {
      "text/plain": [
       "['.ipynb_checkpoints',\n",
       " 'cache',\n",
       " 'ml_book',\n",
       " 'ml_model_deploy_pickle_1.ipynb',\n",
       " 'old',\n",
       " 'XOR_model.pkl']"
      ]
     },
     "execution_count": 7,
     "metadata": {},
     "output_type": "execute_result"
    }
   ],
   "source": [
    "os.listdir()"
   ]
  },
  {
   "cell_type": "markdown",
   "metadata": {},
   "source": [
    "#### 'XOR_model.pkl' \n",
    "\n",
    "Model has been saved into a 'pkl' file."
   ]
  },
  {
   "cell_type": "code",
   "execution_count": 8,
   "metadata": {},
   "outputs": [
    {
     "name": "stdout",
     "output_type": "stream",
     "text": [
      "\n",
      "Please wait a moment while I gather a list of all available modules...\n",
      "\n"
     ]
    },
    {
     "name": "stderr",
     "output_type": "stream",
     "text": [
      "E:\\Python\\Anaconda\\lib\\site-packages\\IPython\\kernel\\__init__.py:13: ShimWarning: The `IPython.kernel` package has been deprecated since IPython 4.0.You should import from ipykernel or jupyter_client instead.\n",
      "  \"You should import from ipykernel or jupyter_client instead.\", ShimWarning)\n",
      "WARNING: AstropyDeprecationWarning: The astropy.vo.samp module has now been moved to astropy.samp [astropy.vo.samp]\n",
      "E:\\Python\\Anaconda\\lib\\site-packages\\h5py\\__init__.py:36: FutureWarning: Conversion of the second argument of issubdtype from `float` to `np.floating` is deprecated. In future, it will be treated as `np.float64 == np.dtype(float).type`.\n",
      "  from ._conv import register_converters as _register_converters\n",
      "E:\\Python\\Anaconda\\lib\\site-packages\\odo\\backends\\pandas.py:102: FutureWarning: pandas.tslib is deprecated and will be removed in a future version.\n",
      "You can access NaTType as type(pandas.NaT)\n",
      "  @convert.register((pd.Timestamp, pd.Timedelta), (pd.tslib.NaTType, type(None)))\n",
      "E:\\Python\\Anaconda\\lib\\site-packages\\nltk\\twitter\\__init__.py:20: UserWarning: The twython library has not been installed. Some functionality from the twitter package will not be available.\n",
      "  warnings.warn(\"The twython library has not been installed. \"\n",
      "E:\\Python\\Anaconda\\lib\\site-packages\\skimage\\viewer\\utils\\core.py:10: UserWarning: Recommended matplotlib backend is `Agg` for full skimage.viewer functionality.\n",
      "  warn(\"Recommended matplotlib backend is `Agg` for full \"\n",
      "E:\\Python\\Anaconda\\lib\\site-packages\\qtawesome\\iconic_font.py:268: UserWarning: You need to have a running QApplication to use QtAwesome!\n",
      "  warnings.warn(\"You need to have a running \"\n",
      "E:\\Python\\Anaconda\\lib\\site-packages\\statsmodels\\compat\\pandas.py:56: FutureWarning: The pandas.core.datetools module is deprecated and will be removed in a future version. Please use the pandas.tseries module instead.\n",
      "  from pandas.core import datetools\n"
     ]
    },
    {
     "name": "stdout",
     "output_type": "stream",
     "text": [
      "Crypto              cProfile            mistune             spyder\n",
      "Cython              calendar            mkl                 spyder_breakpoints\n",
      "IPython             certifi             mmap                spyder_io_dcm\n",
      "OpenSSL             cffi                mmapfile            spyder_io_hdf5\n",
      "PIL                 cgi                 mmsystem            spyder_profiler\n",
      "PyQt5               cgitb               modulefinder        spyder_pylint\n",
      "__future__          chardet             mpmath              sqlalchemy\n",
      "_ast                chunk               msgpack             sqlite3\n",
      "_asyncio            click               msilib              sre_compile\n",
      "_bisect             cloudpickle         msvcrt              sre_constants\n",
      "_blake2             clyent              multipledispatch    sre_parse\n",
      "_bootlocale         cmath               multiprocessing     ssl\n",
      "_bz2                cmd                 navigator_updater   sspi\n",
      "_cffi_backend       code                nbconvert           sspicon\n",
      "_codecs             codecs              nbformat            stat\n",
      "_codecs_cn          codeop              netbios             statistics\n",
      "_codecs_hk          collections         netrc               statsmodels\n",
      "_codecs_iso2022     colorama            networkx            storemagic\n",
      "_codecs_jp          colorsys            nltk                string\n",
      "_codecs_kr          commctrl            nntplib             stringprep\n",
      "_codecs_tw          compileall          nose                struct\n",
      "_collections        comtypes            notebook            subprocess\n",
      "_collections_abc    concurrent          nt                  sunau\n",
      "_compat_pickle      conda               ntpath              symbol\n",
      "_compression        conda_build         ntsecuritycon       sympy\n",
      "_csv                conda_env           nturl2path          sympyprinting\n",
      "_ctypes             conda_verify        numba               symtable\n",
      "_ctypes_test        configparser        numbers             sys\n",
      "_datetime           contextlib          numexpr             sysconfig\n",
      "_decimal            contextlib2         numpy               tables\n",
      "_dummy_thread       copy                numpydoc            tabnanny\n",
      "_elementtree        copyreg             oauthlib            tarfile\n",
      "_findvs             crypt               odbc                tblib\n",
      "_functools          cryptography        odo                 telnetlib\n",
      "_hashlib            csv                 olefile             tempfile\n",
      "_heapq              ctypes              opcode              terminado\n",
      "_imp                curl                openpyxl            test\n",
      "_io                 curses              operator            test_path\n",
      "_json               cwp                 optparse            test_pycosat\n",
      "_locale             cycler              os                  testpath\n",
      "_lsprof             cython              packaging           tests\n",
      "_lzma               cythonmagic         pandas              textwrap\n",
      "_markupbase         cytoolz             pandocfilters       this\n",
      "_md5                dask                parser              threading\n",
      "_msi                datashape           parso               time\n",
      "_multibytecodec     datetime            partd               timeit\n",
      "_multiprocessing    dateutil            path                timer\n",
      "_nsis               dbi                 pathlib             tkinter\n",
      "_opcode             dbm                 pathlib2            tlz\n",
      "_operator           dde                 patsy               token\n",
      "_osx_support        decimal             pdb                 tokenize\n",
      "_overlapped         decorator           pep8                toolz\n",
      "_pickle             difflib             perfmon             tornado\n",
      "_pydecimal          dis                 pickle              trace\n",
      "_pyio               distributed         pickleshare         traceback\n",
      "_pytest             distutils           pickletools         tracemalloc\n",
      "_random             doctest             pip                 traitlets\n",
      "_sha1               docutils            pipes               tty\n",
      "_sha256             dummy_threading     pkg_resources       turtle\n",
      "_sha3               easy_install        pkginfo             turtledemo\n",
      "_sha512             email               pkgutil             tweepy\n",
      "_signal             encodings           platform            types\n",
      "_sitebuiltins       ensurepip           plistlib            typing\n",
      "_socket             entrypoints         pluggy              unicodecsv\n",
      "_sqlite3            enum                ply                 unicodedata\n",
      "_sre                errno               poplib              unittest\n",
      "_ssl                et_xmlfile          posixpath           urllib\n",
      "_stat               examples            pprint              urllib3\n",
      "_string             fastcache           profile             uu\n",
      "_strptime           faulthandler        prompt_toolkit      uuid\n",
      "_struct             filecmp             pstats              venv\n",
      "_symtable           fileinput           psutil              warnings\n",
      "_system_path        filelock            pty                 wave\n",
      "_testbuffer         flask               py                  wcwidth\n",
      "_testcapi           flask_cors          py_compile          weakref\n",
      "_testconsole        fnmatch             pyclbr              webbrowser\n",
      "_testimportmultiple formatter           pycodestyle         webencodings\n",
      "_testmultiphase     fractions           pycosat             werkzeug\n",
      "_thread             ftplib              pycparser           wheel\n",
      "_threading_local    functools           pycurl              widgetsnbextension\n",
      "_tkinter            gc                  pydoc               win2kras\n",
      "_tracemalloc        genericpath         pydoc_data          win32api\n",
      "_warnings           getopt              pydotplus           win32clipboard\n",
      "_weakref            getpass             pyexpat             win32com\n",
      "_weakrefset         gettext             pyflakes            win32con\n",
      "_win32sysloader     gevent              pygments            win32console\n",
      "_winapi             glob                pylab               win32cred\n",
      "_winxptheme         glob2               pylint              win32crypt\n",
      "_yaml               graphviz            pyodbc              win32cryptcon\n",
      "abc                 greenlet            pyparsing           win32event\n",
      "adodbapi            gzip                pytest              win32evtlog\n",
      "afxres              h5py                pythoncom           win32evtlogutil\n",
      "aifc                hashlib             pytz                win32file\n",
      "alabaster           heapdict            pywin               win32gui\n",
      "anaconda_navigator  heapq               pywin32_testutil    win32gui_struct\n",
      "anaconda_project    hmac                pywintypes          win32help\n",
      "antigravity         html                pywt                win32inet\n",
      "argparse            html5lib            pyximport           win32inetcon\n",
      "array               http                qtawesome           win32job\n",
      "asn1crypto          idlelib             qtconsole           win32lz\n",
      "ast                 idna                qtpy                win32net\n",
      "astroid             imageio             queue               win32netcon\n",
      "astropy             imagesize           quopri              win32pdh\n",
      "asynchat            imaplib             random              win32pdhquery\n",
      "asyncio             imghdr              rasutil             win32pdhutil\n",
      "asyncore            imp                 re                  win32pipe\n",
      "atexit              importlib           regcheck            win32print\n",
      "attr                inspect             regutil             win32process\n",
      "audioop             io                  reprlib             win32profile\n",
      "autoreload          ipaddress           requests            win32ras\n",
      "babel               ipykernel           requests_oauthlib   win32rcparser\n",
      "backports           ipykernel_launcher  rlcompleter         win32security\n",
      "base64              ipython_genutils    rmagic              win32service\n",
      "bdb                 ipywidgets          rope                win32serviceutil\n",
      "binascii            isapi               ruamel_yaml         win32timezone\n",
      "binhex              isort               run                 win32trace\n",
      "binstar_client      itertools           runpy               win32traceutil\n"
     ]
    },
    {
     "name": "stdout",
     "output_type": "stream",
     "text": [
      "bisect              itsdangerous        sched               win32transaction\n",
      "bitarray            jdcal               scipy               win32ts\n",
      "bkcharts            jedi                scripts             win32ui\n",
      "blaze               jinja2              seaborn             win32uiole\n",
      "bleach              json                secrets             win32verstamp\n",
      "bokeh               jsonschema          select              win32wnet\n",
      "boto                jupyter             selectors           win_inet_pton\n",
      "bottleneck          jupyter_client      send2trash          win_unicode_console\n",
      "brain_attrs         jupyter_console     servicemanager      wincertstore\n",
      "brain_builtin_inference jupyter_core        setuptools          winerror\n",
      "brain_collections   jupyterlab          shelve              winioctlcon\n",
      "brain_curses        jupyterlab_launcher shlex               winnt\n",
      "brain_dateutil      keyword             shutil              winperf\n",
      "brain_fstrings      kiwisolver          signal              winpty\n",
      "brain_functools     lazy_object_proxy   simplegeneric       winreg\n",
      "brain_gi            lib2to3             singledispatch      winsound\n",
      "brain_hashlib       linecache           singledispatch_helpers winxpgui\n",
      "brain_io            llvmlite            sip                 winxptheme\n",
      "brain_mechanize     locale              sipconfig           wrapt\n",
      "brain_multiprocessing locket              sipdistutils        wsgiref\n",
      "brain_namedtuple_enum logging             site                xdrlib\n",
      "brain_nose          lxml                six                 xlrd\n",
      "brain_numpy         lzma                skimage             xlsxwriter\n",
      "brain_pkg_resources macpath             sklearn             xlwings\n",
      "brain_pytest        macurl2path         smtpd               xlwt\n",
      "brain_qt            mahotas             smtplib             xml\n",
      "brain_re            mailbox             sndhdr              xmlrpc\n",
      "brain_six           mailcap             snowballstemmer     xxsubtype\n",
      "brain_ssl           markupsafe          socket              yaml\n",
      "brain_subprocess    marshal             socketserver        zict\n",
      "brain_threading     math                socks               zipapp\n",
      "brain_typing        matplotlib          sockshandler        zipfile\n",
      "brain_uuid          mccabe              sortedcollections   zipimport\n",
      "bs4                 menuinst            sortedcontainers    zlib\n",
      "builtins            mglearn             sphinx              zmq\n",
      "bz2                 mimetypes           sphinxcontrib       \n",
      "\n",
      "Enter any module name to get more help.  Or, type \"modules spam\" to search\n",
      "for modules whose name or summary contain the string \"spam\".\n",
      "\n"
     ]
    }
   ],
   "source": [
    "help('modules')"
   ]
  },
  {
   "cell_type": "code",
   "execution_count": 9,
   "metadata": {},
   "outputs": [],
   "source": [
    "from flask import Flask, jsonify, request"
   ]
  },
  {
   "cell_type": "code",
   "execution_count": 10,
   "metadata": {},
   "outputs": [],
   "source": [
    "def xor_predictor(a, b):\n",
    "    output = {'XOR': 0}\n",
    "    x_input = np.array([a,b]).reshape(1,2)\n",
    "    m1 = pickle.load(open(filename, 'rb'))\n",
    "    output['XOR'] = int(m1.predict(x_input)[0])\n",
    "    return output"
   ]
  },
  {
   "cell_type": "markdown",
   "metadata": {},
   "source": [
    "#### builtins.TypeError TypeError: Object of type 'int32' is not JSON serializable\n",
    "\n",
    "To avoid this error - use int(m1.predict(x_input)[0])"
   ]
  },
  {
   "cell_type": "code",
   "execution_count": 11,
   "metadata": {},
   "outputs": [],
   "source": [
    "app = Flask(__name__)"
   ]
  },
  {
   "cell_type": "code",
   "execution_count": 12,
   "metadata": {},
   "outputs": [],
   "source": [
    "@app.route(\"/\")\n",
    "def index():\n",
    "    return \"XOR Predictor!!\""
   ]
  },
  {
   "cell_type": "code",
   "execution_count": 13,
   "metadata": {},
   "outputs": [],
   "source": [
    "@app.route(\"/XOR\", methods=['GET'])\n",
    "def cal_xor_predictor():\n",
    "    body = request.get_data()\n",
    "    header = request.headers\n",
    "    \n",
    "    try:\n",
    "        num1 = int(request.args['x1'])\n",
    "        num2 = int(request.args['x2'])\n",
    "        if (num1 != None) and (num2 != None) and ((num1 == 0) or (num1 == 1)) and ((num2 == 0) or (num2 == 1)):\n",
    "            res = xor_predictor(num1, num2)\n",
    "        else:\n",
    "            res = {\n",
    "                'success': False,\n",
    "                'message': 'invalid inputs; 0 or 1 expected'\n",
    "            }\n",
    "    except:\n",
    "        res = {\n",
    "            'success': False,\n",
    "            'message': 'Unknown error'\n",
    "        }\n",
    "        \n",
    "    return jsonify(res)"
   ]
  },
  {
   "cell_type": "code",
   "execution_count": 14,
   "metadata": {},
   "outputs": [
    {
     "name": "stderr",
     "output_type": "stream",
     "text": [
      " * Restarting with stat\n"
     ]
    },
    {
     "ename": "SystemExit",
     "evalue": "1",
     "output_type": "error",
     "traceback": [
      "An exception has occurred, use %tb to see the full traceback.\n",
      "\u001b[1;31mSystemExit\u001b[0m\u001b[1;31m:\u001b[0m 1\n"
     ]
    },
    {
     "name": "stderr",
     "output_type": "stream",
     "text": [
      "E:\\Python\\Anaconda\\lib\\site-packages\\IPython\\core\\interactiveshell.py:2918: UserWarning: To exit: use 'exit', 'quit', or Ctrl-D.\n",
      "  warn(\"To exit: use 'exit', 'quit', or Ctrl-D.\", stacklevel=1)\n"
     ]
    }
   ],
   "source": [
    "if __name__ == \"__main__\":\n",
    "    app.run(debug=True, port=8808)"
   ]
  },
  {
   "cell_type": "code",
   "execution_count": null,
   "metadata": {},
   "outputs": [],
   "source": []
  }
 ],
 "metadata": {
  "kernelspec": {
   "display_name": "Python 3",
   "language": "python",
   "name": "python3"
  },
  "language_info": {
   "codemirror_mode": {
    "name": "ipython",
    "version": 3
   },
   "file_extension": ".py",
   "mimetype": "text/x-python",
   "name": "python",
   "nbconvert_exporter": "python",
   "pygments_lexer": "ipython3",
   "version": "3.6.4"
  }
 },
 "nbformat": 4,
 "nbformat_minor": 2
}
