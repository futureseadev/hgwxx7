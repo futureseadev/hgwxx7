{
 "cells": [
  {
   "cell_type": "markdown",
   "metadata": {},
   "source": [
    "### Problem statement\n",
    "\n",
    "    - Which store has the farthest distance to its nearest neighboring store?\n",
    "    - What % of stores are within 1km, 3km and 5km of another store?\n",
    "    - Which store has the most other stores within 10km?"
   ]
  },
  {
   "cell_type": "code",
   "execution_count": 41,
   "metadata": {},
   "outputs": [],
   "source": [
    "# load libraries\n",
    "import numpy as np\n",
    "import pandas as pd\n",
    "import seaborn as sns\n",
    "import matplotlib.pyplot as plt\n",
    "\n",
    "%matplotlib inline"
   ]
  },
  {
   "cell_type": "code",
   "execution_count": 2,
   "metadata": {},
   "outputs": [],
   "source": [
    "# load data\n",
    "df = pd.read_csv('store_locations.csv')"
   ]
  },
  {
   "cell_type": "code",
   "execution_count": 3,
   "metadata": {},
   "outputs": [
    {
     "data": {
      "text/html": [
       "<div>\n",
       "<style scoped>\n",
       "    .dataframe tbody tr th:only-of-type {\n",
       "        vertical-align: middle;\n",
       "    }\n",
       "\n",
       "    .dataframe tbody tr th {\n",
       "        vertical-align: top;\n",
       "    }\n",
       "\n",
       "    .dataframe thead th {\n",
       "        text-align: right;\n",
       "    }\n",
       "</style>\n",
       "<table border=\"1\" class=\"dataframe\">\n",
       "  <thead>\n",
       "    <tr style=\"text-align: right;\">\n",
       "      <th></th>\n",
       "      <th>Store</th>\n",
       "      <th>lon</th>\n",
       "      <th>lat</th>\n",
       "    </tr>\n",
       "  </thead>\n",
       "  <tbody>\n",
       "    <tr>\n",
       "      <th>150</th>\n",
       "      <td>2826</td>\n",
       "      <td>-0.125540</td>\n",
       "      <td>51.5182</td>\n",
       "    </tr>\n",
       "    <tr>\n",
       "      <th>187</th>\n",
       "      <td>551</td>\n",
       "      <td>-0.035699</td>\n",
       "      <td>51.3064</td>\n",
       "    </tr>\n",
       "    <tr>\n",
       "      <th>199</th>\n",
       "      <td>1662</td>\n",
       "      <td>-0.718167</td>\n",
       "      <td>52.0512</td>\n",
       "    </tr>\n",
       "    <tr>\n",
       "      <th>19</th>\n",
       "      <td>369</td>\n",
       "      <td>-7.641880</td>\n",
       "      <td>54.4021</td>\n",
       "    </tr>\n",
       "    <tr>\n",
       "      <th>80</th>\n",
       "      <td>1992</td>\n",
       "      <td>-5.751290</td>\n",
       "      <td>56.4580</td>\n",
       "    </tr>\n",
       "  </tbody>\n",
       "</table>\n",
       "</div>"
      ],
      "text/plain": [
       "     Store       lon      lat\n",
       "150   2826 -0.125540  51.5182\n",
       "187    551 -0.035699  51.3064\n",
       "199   1662 -0.718167  52.0512\n",
       "19     369 -7.641880  54.4021\n",
       "80    1992 -5.751290  56.4580"
      ]
     },
     "execution_count": 3,
     "metadata": {},
     "output_type": "execute_result"
    }
   ],
   "source": [
    "# sample\n",
    "df.sample(5)"
   ]
  },
  {
   "cell_type": "code",
   "execution_count": 4,
   "metadata": {},
   "outputs": [
    {
     "data": {
      "text/html": [
       "<div>\n",
       "<style scoped>\n",
       "    .dataframe tbody tr th:only-of-type {\n",
       "        vertical-align: middle;\n",
       "    }\n",
       "\n",
       "    .dataframe tbody tr th {\n",
       "        vertical-align: top;\n",
       "    }\n",
       "\n",
       "    .dataframe thead th {\n",
       "        text-align: right;\n",
       "    }\n",
       "</style>\n",
       "<table border=\"1\" class=\"dataframe\">\n",
       "  <thead>\n",
       "    <tr style=\"text-align: right;\">\n",
       "      <th></th>\n",
       "      <th>Store</th>\n",
       "      <th>lon</th>\n",
       "      <th>lat</th>\n",
       "    </tr>\n",
       "  </thead>\n",
       "  <tbody>\n",
       "    <tr>\n",
       "      <th>count</th>\n",
       "      <td>300.000000</td>\n",
       "      <td>300.000000</td>\n",
       "      <td>300.000000</td>\n",
       "    </tr>\n",
       "    <tr>\n",
       "      <th>mean</th>\n",
       "      <td>1394.860000</td>\n",
       "      <td>-2.124941</td>\n",
       "      <td>53.008898</td>\n",
       "    </tr>\n",
       "    <tr>\n",
       "      <th>std</th>\n",
       "      <td>872.449717</td>\n",
       "      <td>1.952026</td>\n",
       "      <td>1.916977</td>\n",
       "    </tr>\n",
       "    <tr>\n",
       "      <th>min</th>\n",
       "      <td>6.000000</td>\n",
       "      <td>-7.879090</td>\n",
       "      <td>49.955600</td>\n",
       "    </tr>\n",
       "    <tr>\n",
       "      <th>25%</th>\n",
       "      <td>612.000000</td>\n",
       "      <td>-3.293575</td>\n",
       "      <td>51.494975</td>\n",
       "    </tr>\n",
       "    <tr>\n",
       "      <th>50%</th>\n",
       "      <td>1308.000000</td>\n",
       "      <td>-1.971740</td>\n",
       "      <td>52.454400</td>\n",
       "    </tr>\n",
       "    <tr>\n",
       "      <th>75%</th>\n",
       "      <td>2120.000000</td>\n",
       "      <td>-0.332130</td>\n",
       "      <td>54.080725</td>\n",
       "    </tr>\n",
       "    <tr>\n",
       "      <th>max</th>\n",
       "      <td>2940.000000</td>\n",
       "      <td>1.301920</td>\n",
       "      <td>57.908400</td>\n",
       "    </tr>\n",
       "  </tbody>\n",
       "</table>\n",
       "</div>"
      ],
      "text/plain": [
       "             Store         lon         lat\n",
       "count   300.000000  300.000000  300.000000\n",
       "mean   1394.860000   -2.124941   53.008898\n",
       "std     872.449717    1.952026    1.916977\n",
       "min       6.000000   -7.879090   49.955600\n",
       "25%     612.000000   -3.293575   51.494975\n",
       "50%    1308.000000   -1.971740   52.454400\n",
       "75%    2120.000000   -0.332130   54.080725\n",
       "max    2940.000000    1.301920   57.908400"
      ]
     },
     "execution_count": 4,
     "metadata": {},
     "output_type": "execute_result"
    }
   ],
   "source": [
    "# describe\n",
    "df.describe()"
   ]
  },
  {
   "cell_type": "code",
   "execution_count": 5,
   "metadata": {},
   "outputs": [
    {
     "name": "stdout",
     "output_type": "stream",
     "text": [
      "{'lat': 39.7612992, 'lon': -86.1519681}\n"
     ]
    }
   ],
   "source": [
    "# sample solution - finding nearest latitude-longitude \n",
    "\n",
    "from math import cos, asin, sqrt\n",
    "\n",
    "def distance(lat1, lon1, lat2, lon2):\n",
    "    p = 0.017453292519943295\n",
    "    a = 0.5 - cos((lat2-lat1)*p)/2 + cos(lat1*p)*cos(lat2*p) * (1-cos((lon2-lon1)*p)) / 2\n",
    "    return 12742 * asin(sqrt(a))\n",
    "\n",
    "def closest(data, v):\n",
    "    return min(data, key=lambda p: distance(v['lat'],v['lon'],p['lat'],p['lon']))\n",
    "\n",
    "tempDataList = [{'lat': 39.7612992, 'lon': -86.1519681}, \n",
    "                {'lat': 39.762241,  'lon': -86.158436 }, \n",
    "                {'lat': 39.7622292, 'lon': -86.1578917}]\n",
    "\n",
    "v = {'lat': 39.7622290, 'lon': -86.1519750}\n",
    "print(closest(tempDataList, v))"
   ]
  },
  {
   "cell_type": "code",
   "execution_count": 6,
   "metadata": {},
   "outputs": [],
   "source": [
    "# adding point column to df\n",
    "df['point'] = [(x, y) for x,y in zip(df['lat'], df['lon'])]"
   ]
  },
  {
   "cell_type": "code",
   "execution_count": 39,
   "metadata": {},
   "outputs": [
    {
     "data": {
      "text/html": [
       "<div>\n",
       "<style scoped>\n",
       "    .dataframe tbody tr th:only-of-type {\n",
       "        vertical-align: middle;\n",
       "    }\n",
       "\n",
       "    .dataframe tbody tr th {\n",
       "        vertical-align: top;\n",
       "    }\n",
       "\n",
       "    .dataframe thead th {\n",
       "        text-align: right;\n",
       "    }\n",
       "</style>\n",
       "<table border=\"1\" class=\"dataframe\">\n",
       "  <thead>\n",
       "    <tr style=\"text-align: right;\">\n",
       "      <th></th>\n",
       "      <th>Store</th>\n",
       "      <th>lon</th>\n",
       "      <th>lat</th>\n",
       "      <th>point</th>\n",
       "    </tr>\n",
       "  </thead>\n",
       "  <tbody>\n",
       "    <tr>\n",
       "      <th>293</th>\n",
       "      <td>2565</td>\n",
       "      <td>-2.892610</td>\n",
       "      <td>52.8970</td>\n",
       "      <td>(52.897, -2.89261)</td>\n",
       "    </tr>\n",
       "    <tr>\n",
       "      <th>294</th>\n",
       "      <td>1230</td>\n",
       "      <td>-3.866800</td>\n",
       "      <td>57.5185</td>\n",
       "      <td>(57.5185, -3.8668)</td>\n",
       "    </tr>\n",
       "    <tr>\n",
       "      <th>295</th>\n",
       "      <td>1089</td>\n",
       "      <td>-0.287350</td>\n",
       "      <td>51.5607</td>\n",
       "      <td>(51.5607, -0.28735)</td>\n",
       "    </tr>\n",
       "    <tr>\n",
       "      <th>296</th>\n",
       "      <td>538</td>\n",
       "      <td>0.861843</td>\n",
       "      <td>51.8544</td>\n",
       "      <td>(51.8544, 0.861843)</td>\n",
       "    </tr>\n",
       "    <tr>\n",
       "      <th>297</th>\n",
       "      <td>973</td>\n",
       "      <td>-4.254070</td>\n",
       "      <td>55.8459</td>\n",
       "      <td>(55.8459, -4.25407)</td>\n",
       "    </tr>\n",
       "    <tr>\n",
       "      <th>298</th>\n",
       "      <td>1066</td>\n",
       "      <td>-0.617720</td>\n",
       "      <td>51.1864</td>\n",
       "      <td>(51.1864, -0.6177199999999999)</td>\n",
       "    </tr>\n",
       "    <tr>\n",
       "      <th>299</th>\n",
       "      <td>2203</td>\n",
       "      <td>-0.133300</td>\n",
       "      <td>51.1167</td>\n",
       "      <td>(51.1167, -0.1333)</td>\n",
       "    </tr>\n",
       "  </tbody>\n",
       "</table>\n",
       "</div>"
      ],
      "text/plain": [
       "     Store       lon      lat                           point\n",
       "293   2565 -2.892610  52.8970              (52.897, -2.89261)\n",
       "294   1230 -3.866800  57.5185              (57.5185, -3.8668)\n",
       "295   1089 -0.287350  51.5607             (51.5607, -0.28735)\n",
       "296    538  0.861843  51.8544             (51.8544, 0.861843)\n",
       "297    973 -4.254070  55.8459             (55.8459, -4.25407)\n",
       "298   1066 -0.617720  51.1864  (51.1864, -0.6177199999999999)\n",
       "299   2203 -0.133300  51.1167              (51.1167, -0.1333)"
      ]
     },
     "execution_count": 39,
     "metadata": {},
     "output_type": "execute_result"
    }
   ],
   "source": [
    "df.tail(7)"
   ]
  },
  {
   "cell_type": "code",
   "execution_count": 8,
   "metadata": {},
   "outputs": [],
   "source": [
    "from scipy.spatial.distance import cdist"
   ]
  },
  {
   "cell_type": "code",
   "execution_count": 13,
   "metadata": {},
   "outputs": [],
   "source": [
    "def closest_point(point, points):\n",
    "    \"\"\" Find closest point from a list of points. \"\"\"\n",
    "    return points[cdist([point], points).argmin()]\n",
    "\n",
    "def match_value(df, col1, x, col2):\n",
    "    \"\"\" Match value x from col1 row to value in col2. \"\"\"\n",
    "    return df[df[col1] == x][col2].values[0]\n"
   ]
  },
  {
   "cell_type": "code",
   "execution_count": 36,
   "metadata": {},
   "outputs": [
    {
     "data": {
      "text/plain": [
       "[(51.2797, -0.836673),\n",
       " (55.8214, -4.08744),\n",
       " (51.3476, -0.799592),\n",
       " (51.4664, -2.6021799999999997),\n",
       " (53.5689, -2.42275)]"
      ]
     },
     "execution_count": 36,
     "metadata": {},
     "output_type": "execute_result"
    }
   ],
   "source": [
    "tl = list(df['point'])\n",
    "tl[:5]"
   ]
  },
  {
   "cell_type": "code",
   "execution_count": 46,
   "metadata": {},
   "outputs": [],
   "source": [
    "# using knn\n",
    "\n",
    "from sklearn.neighbors import NearestNeighbors\n",
    "\n",
    "def distance(p1, p2):\n",
    "    \"\"\"\n",
    "    Calculate the great circle distance between two points\n",
    "    on the earth (specified in decimal degrees)\n",
    "    \"\"\"\n",
    "    lon1, lat1 = p1\n",
    "    lon2, lat2 = p2\n",
    "    # convert decimal degrees to radians\n",
    "    lon1, lat1, lon2, lat2 = map(np.radians, [lon1, lat1, lon2, lat2])\n",
    "    # haversine formula\n",
    "    dlon = lon2 - lon1\n",
    "    dlat = lat2 - lat1\n",
    "    a = np.sin(dlat/2)**2 + np.cos(lat1) * np.cos(lat2) * np.sin(dlon/2)**2\n",
    "    c = 2 * np.arcsin(np.sqrt(a))\n",
    "    km = 6367 * c\n",
    "    return km\n",
    "\n",
    "points = tl\n",
    "\n",
    "nbrs = NearestNeighbors(n_neighbors=2, metric=distance).fit(points)\n",
    "\n",
    "distances, indices = nbrs.kneighbors(points)\n",
    "\n",
    "result = distances[:, 1]"
   ]
  },
  {
   "cell_type": "code",
   "execution_count": 47,
   "metadata": {},
   "outputs": [
    {
     "data": {
      "text/plain": [
       "300"
      ]
     },
     "execution_count": 47,
     "metadata": {},
     "output_type": "execute_result"
    }
   ],
   "source": [
    "len(result)"
   ]
  },
  {
   "cell_type": "code",
   "execution_count": 48,
   "metadata": {},
   "outputs": [
    {
     "data": {
      "text/plain": [
       "array([  8.59656755,   6.1049544 ,   8.59656755,   2.43362356,\n",
       "         4.47198077,   5.48712867,   2.89998426,  17.52605129,\n",
       "         2.6684596 ,   7.93533518,   2.31342682,  20.93197162,\n",
       "         3.27043196,   1.45798444,  17.52605129,  50.24568219,\n",
       "        31.66771248,  10.78946304,   1.48620414,  26.83390248,\n",
       "        39.83600758,   7.44481885,  22.35199435,  15.33237904,\n",
       "        11.07917243,  14.76446136,  13.28009768,  14.63925675,\n",
       "        21.28456305,   7.77873533,   4.82121392,  44.53777362,\n",
       "        22.36417796,  43.02586313,   4.50080855,  18.70944083,\n",
       "         4.64084257,  43.3661976 ,   4.01026994,  36.09520344,\n",
       "         3.62270254,  24.73676751,   1.98076628,   7.46031905,\n",
       "         1.48620414,   3.40594056,  69.34099116,  42.18862094,\n",
       "        12.88940191,  40.07025531,  30.09809845,  29.40559247,\n",
       "         5.14404015,  10.78946304,   9.88272321,  11.26323347,\n",
       "        45.54666684,  44.77682794,   4.04616361,  17.56663102,\n",
       "         5.14404015,  11.55644564,  10.14200074,  21.96815115,\n",
       "         4.29902059,  32.91833332,  12.08053562,  66.09052943,\n",
       "        31.29280712,  36.01684563,   5.21030394,  38.77418005,\n",
       "        17.0311297 ,  61.97134431,   7.42097927,  23.43863885,\n",
       "        13.50821039,   5.25663609,  14.63925675,   4.01026994,\n",
       "        15.59248358,  52.20496043,   9.26481327,  10.41327429,\n",
       "         4.08275239,   3.35109343,   5.0267256 ,  59.12186876,\n",
       "        26.46946015,  26.37721153,  12.78939081,  26.24068083,\n",
       "        12.06652023,   4.31828068,  26.40339613,  29.40559247,\n",
       "        26.37721153,   2.31342682,   5.25663609,  12.88940191,\n",
       "        59.12714711,  81.10794804,   5.7566345 ,   1.64373033,\n",
       "        20.09980369,   0.33188126,   2.89998426,  17.0311297 ,\n",
       "        70.87565048,  12.42269405,  18.55938418,  12.55911139,\n",
       "        29.98048746,  25.37179742,  11.26323347,   3.27043196,\n",
       "        44.71457633,   3.68762739,  27.62474265,  12.78939081,\n",
       "         1.98076628,  35.43511341,  29.50607034,  21.80291694,\n",
       "        23.40567885,   2.45854817,  20.70192015,  21.5918519 ,\n",
       "        21.61999899,   3.43269672,  27.86982811,  45.86561181,\n",
       "         8.93983219,   7.09084498,  20.09980369,   4.95578842,\n",
       "        26.40339613,  15.31557947,  12.06652023,  50.46247214,\n",
       "         4.47198077,   3.81498151,   1.38974007,   6.07232403,\n",
       "         4.89511681,  10.26117999,  11.95474372,  33.74890558,\n",
       "         3.67608779,  49.73825119,   0.60822153,   0.27925693,\n",
       "         6.1049544 ,  12.8737048 ,   2.30331112,   3.62270254,\n",
       "         6.27017303,  35.43511341,   3.54427478,   9.52543501,\n",
       "         4.19922044,  21.28456305,   4.50080855,  18.36098436,\n",
       "        65.87033589,   3.81498151,  21.32136226,   5.62180194,\n",
       "         5.63170859,  40.9341308 ,  31.62956925,  24.8235921 ,\n",
       "         6.82228609,  22.26045656,  10.41327429,   0.60822153,\n",
       "         7.09084498,  13.39213405,   8.69667506,   2.30331112,\n",
       "        57.23316323,  52.20496043,  20.32483246,  31.49053889,\n",
       "         3.04929079,  14.18975655,  10.63241885,   4.31828068,\n",
       "         3.7296827 ,   3.78128045,   4.99589526,   0.33188126,\n",
       "        56.06978304,  13.15745852,  18.06460774,  30.09809845,\n",
       "         4.64084257,   6.07176625,   8.93983219,   7.2529724 ,\n",
       "        65.87033589,  42.33578129,  39.79703011,   9.01182477,\n",
       "         0.27925693,  37.7664051 ,  26.83390248,  13.15745852,\n",
       "        36.68427349,   7.93533518,  10.35523601,   7.79657324,\n",
       "        20.80244764,  16.25357639,  23.51804179,   3.40594056,\n",
       "       130.43257311,   2.6684596 ,   0.88510981,  15.59248358,\n",
       "        38.77418005,   6.07176625,  11.18629556,  18.55938418,\n",
       "         2.30115744,  25.37179742,   2.18161577,   1.64373033,\n",
       "        27.92685928,   2.45854817,   3.04929079,  15.33237904,\n",
       "         4.82121392,   3.68762739,  14.67375579,   7.44481885,\n",
       "         9.84821521,   9.84821521,  21.043604  ,  17.96607488,\n",
       "         3.7296827 ,  22.34499748,  12.33293139,  55.47221578,\n",
       "         3.73047172,   4.95578842,   5.70951715,  11.64080544,\n",
       "         9.2981745 ,  11.55644564,  19.4666603 ,  10.14200074,\n",
       "        22.34499748,  13.85905277,   5.70951715,   4.29902059,\n",
       "        25.21740356,  12.55911139,  46.2984289 ,  20.93197162,\n",
       "        29.0479578 ,  97.00645915,  18.70944083,  26.46946015,\n",
       "        46.2984289 ,   1.45798444,   0.90910887,  11.93457257,\n",
       "        26.24068083,   9.01182477,   6.82228609,   1.38974007,\n",
       "         6.55297907,  29.98794755,   3.73047172,  43.63029126,\n",
       "        46.51006562,   7.43126617,  44.01694904,  24.40463211,\n",
       "         4.19922044,  35.45906527,   6.3041189 ,  11.14007796,\n",
       "         6.39548038,  16.72219093,  21.32136226,   5.62180194,\n",
       "        13.39213405,   9.2981745 ,   5.40592525,  62.41148017,\n",
       "         7.42097927,  14.76446136,  31.29280712,   4.04616361,\n",
       "         5.7566345 ,   3.67608779,  12.33293139,  11.14007796])"
      ]
     },
     "execution_count": 48,
     "metadata": {},
     "output_type": "execute_result"
    }
   ],
   "source": [
    "result"
   ]
  },
  {
   "cell_type": "code",
   "execution_count": 57,
   "metadata": {},
   "outputs": [
    {
     "data": {
      "text/plain": [
       "[[51.2797, -0.836673],\n",
       " [55.8214, -4.08744],\n",
       " [51.3476, -0.799592],\n",
       " [51.4664, -2.6021799999999997],\n",
       " [53.5689, -2.42275]]"
      ]
     },
     "execution_count": 57,
     "metadata": {},
     "output_type": "execute_result"
    }
   ],
   "source": [
    "tl = list(df['point'].values)\n",
    "tl[:5]\n",
    "\n",
    "tlx = []\n",
    "for x in tl:\n",
    "    tlx.append([x[0],x[1]])\n",
    "\n",
    "tlx[:5]"
   ]
  },
  {
   "cell_type": "code",
   "execution_count": 59,
   "metadata": {},
   "outputs": [
    {
     "data": {
      "text/plain": [
       "[51.3476, -0.799592]"
      ]
     },
     "execution_count": 59,
     "metadata": {},
     "output_type": "execute_result"
    }
   ],
   "source": [
    "# simple approach\n",
    "\n",
    "fl = []\n",
    "\n",
    "# closest node\n",
    "def closest_node(node, nodes):\n",
    "    closest_index = cdist([node], nodes).argmin()\n",
    "    return nodes[closest_index]\n",
    "\n",
    "closest_node(tlx[0], tlx[1:])"
   ]
  },
  {
   "cell_type": "code",
   "execution_count": null,
   "metadata": {},
   "outputs": [],
   "source": []
  }
 ],
 "metadata": {
  "kernelspec": {
   "display_name": "Python 3",
   "language": "python",
   "name": "python3"
  },
  "language_info": {
   "codemirror_mode": {
    "name": "ipython",
    "version": 3
   },
   "file_extension": ".py",
   "mimetype": "text/x-python",
   "name": "python",
   "nbconvert_exporter": "python",
   "pygments_lexer": "ipython3",
   "version": "3.6.3"
  }
 },
 "nbformat": 4,
 "nbformat_minor": 2
}
