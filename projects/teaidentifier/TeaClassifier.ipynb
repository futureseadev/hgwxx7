{
  "nbformat": 4,
  "nbformat_minor": 0,
  "metadata": {
    "colab": {
      "name": "TeaClassifier.ipynb",
      "version": "0.3.2",
      "provenance": [],
      "collapsed_sections": [],
      "include_colab_link": true
    },
    "kernelspec": {
      "name": "python3",
      "display_name": "Python 3"
    },
    "accelerator": "GPU"
  },
  "cells": [
    {
      "cell_type": "markdown",
      "metadata": {
        "id": "view-in-github",
        "colab_type": "text"
      },
      "source": [
        "<a href=\"https://colab.research.google.com/github/praveentn/hgwxx7/blob/master/projects/teaidentifier/TeaClassifier.ipynb\" target=\"_parent\"><img src=\"https://colab.research.google.com/assets/colab-badge.svg\" alt=\"Open In Colab\"/></a>"
      ]
    },
    {
      "cell_type": "code",
      "metadata": {
        "id": "JJpRVoG67qAS",
        "colab_type": "code",
        "outputId": "46d7b7ed-eb48-42c0-d055-d959f1491358",
        "colab": {
          "base_uri": "https://localhost:8080/",
          "height": 165
        }
      },
      "source": [
        "# mount google drive & set working directory\n",
        "# requires auth (click on url & copy token into text box when prompted)\n",
        "from google.colab import drive\n",
        "drive.mount(\"/content/gdrive\")\n",
        "\n",
        "import os\n",
        "print(os.getcwd())\n",
        "\n",
        "os.chdir('/content/gdrive/My Drive/Colab Notebooks/TeaClassifier')\n",
        "!pwd"
      ],
      "execution_count": 1,
      "outputs": [
        {
          "output_type": "stream",
          "text": [
            "Go to this URL in a browser: https://accounts.google.com/o/oauth2/auth?client_id=947318989803-6bn6qk8qdgf4n4g3pfee6491hc0brc4i.apps.googleusercontent.com&redirect_uri=urn%3Aietf%3Awg%3Aoauth%3A2.0%3Aoob&scope=email%20https%3A%2F%2Fwww.googleapis.com%2Fauth%2Fdocs.test%20https%3A%2F%2Fwww.googleapis.com%2Fauth%2Fdrive%20https%3A%2F%2Fwww.googleapis.com%2Fauth%2Fdrive.photos.readonly%20https%3A%2F%2Fwww.googleapis.com%2Fauth%2Fpeopleapi.readonly&response_type=code\n",
            "\n",
            "Enter your authorization code:\n",
            "··········\n",
            "Mounted at /content/gdrive\n",
            "/content\n",
            "/content/gdrive/My Drive/Colab Notebooks/TeaClassifier\n"
          ],
          "name": "stdout"
        }
      ]
    },
    {
      "cell_type": "code",
      "metadata": {
        "id": "eeI5k5yj7zzQ",
        "colab_type": "code",
        "outputId": "595c6623-33d6-4984-ae72-e3be8fb70eb0",
        "colab": {
          "base_uri": "https://localhost:8080/",
          "height": 35
        }
      },
      "source": [
        "# _URL = 'https://drive.google.com/uc?export=download&id=16rqDFLO__WySSQGlAht0FEj2uJZg4M9M'\n",
        "\n",
        "# path_to_zip = tf.keras.utils.get_file('input.zip',\n",
        "#                                       origin=_URL,\n",
        "#                                       extract=True)\n",
        "\n",
        "# working directory\n",
        "main_dir = os.getcwd()\n",
        "print(\"Working directory: \", main_dir)\n"
      ],
      "execution_count": 2,
      "outputs": [
        {
          "output_type": "stream",
          "text": [
            "Working directory:  /content/gdrive/My Drive/Colab Notebooks/TeaClassifier\n"
          ],
          "name": "stdout"
        }
      ]
    },
    {
      "cell_type": "code",
      "metadata": {
        "id": "053t9MzCDfVE",
        "colab_type": "code",
        "colab": {}
      },
      "source": [
        "# This Python 3 environment comes with many helpful analytics libraries installed\n",
        "# It is defined by the kaggle/python docker image: https://github.com/kaggle/docker-python\n",
        "# For example, here's several helpful packages to load in \n",
        "\n",
        "import numpy as np # linear algebra\n",
        "import pandas as pd # data processing, CSV file I/O (e.g. pd.read_csv)\n",
        "import cv2\n",
        "import matplotlib.pyplot as plt\n",
        "import tensorflow as tf\n",
        "from tensorflow.keras.models import Sequential\n",
        "from tensorflow.keras.layers import Dense, Flatten, Dropout, Activation, Conv2D, MaxPooling2D\n"
      ],
      "execution_count": 0,
      "outputs": []
    },
    {
      "cell_type": "code",
      "metadata": {
        "id": "BsUcdx2XHDaT",
        "colab_type": "code",
        "outputId": "21f6161f-81fa-405e-a8ae-b3dfa716d0e5",
        "colab": {
          "base_uri": "https://localhost:8080/",
          "height": 35
        }
      },
      "source": [
        "'''Setting up the env'''\n",
        "  \n",
        "train_dir = main_dir + '/raw_images/train/'\n",
        "test_dir = main_dir + '/raw_images/test1/'\n",
        "\n",
        "print(train_dir, ', ', test_dir)"
      ],
      "execution_count": 16,
      "outputs": [
        {
          "output_type": "stream",
          "text": [
            "/content/gdrive/My Drive/Colab Notebooks/TeaClassifier/raw_images/train/ ,  /content/gdrive/My Drive/Colab Notebooks/TeaClassifier/raw_images/test1/\n"
          ],
          "name": "stdout"
        }
      ]
    },
    {
      "cell_type": "code",
      "metadata": {
        "id": "do66eBj1HAw_",
        "colab_type": "code",
        "outputId": "2a30d38c-ca85-4bd8-d084-82132bb1022f",
        "colab": {
          "base_uri": "https://localhost:8080/",
          "height": 305
        }
      },
      "source": [
        "path = train_dir\n",
        "print(path)\n",
        "\n",
        "for p in os.listdir(path):\n",
        "    print(p)\n",
        "    category = p.split(\".\")[0]\n",
        "    try:\n",
        "        img_array = cv2.imread(os.path.join(path, p),cv2.IMREAD_GRAYSCALE)\n",
        "        new_img_array = cv2.resize(img_array, dsize=(80, 80))\n",
        "        plt.imshow(new_img_array,cmap=\"gray\")\n",
        "    except Exception as e:\n",
        "        print(str(e))\n",
        "    break"
      ],
      "execution_count": 17,
      "outputs": [
        {
          "output_type": "stream",
          "text": [
            "/content/gdrive/My Drive/Colab Notebooks/TeaClassifier/raw_images/train/\n",
            "tea.train.1 (495).jpg\n"
          ],
          "name": "stdout"
        },
        {
          "output_type": "display_data",
          "data": {
            "image/png": "[encoded data removed]",
            "text/plain": [
              "<Figure size 432x288 with 1 Axes>"
            ]
          },
          "metadata": {
            "tags": []
          }
        }
      ]
    },
    {
      "cell_type": "code",
      "metadata": {
        "id": "FFfTXoPMHAzv",
        "colab_type": "code",
        "colab": {}
      },
      "source": [
        "X = []\n",
        "y = []\n",
        "convert = lambda category : int(category == 'tea')\n",
        "def create_test_data(path):\n",
        "    for p in os.listdir(path):\n",
        "        category = p.split(\".\")[0]\n",
        "        category = convert(category)\n",
        "        img_array = cv2.imread(os.path.join(path,p),cv2.IMREAD_GRAYSCALE)\n",
        "        new_img_array = cv2.resize(img_array, dsize=(80, 80))\n",
        "        X.append(new_img_array)\n",
        "        y.append(category)"
      ],
      "execution_count": 0,
      "outputs": []
    },
    {
      "cell_type": "code",
      "metadata": {
        "id": "Ef-b262rHA2c",
        "colab_type": "code",
        "colab": {}
      },
      "source": [
        "create_test_data(path)\n",
        "X = np.array(X).reshape(-1, 80,80,1)\n",
        "y = np.array(y)\n"
      ],
      "execution_count": 0,
      "outputs": []
    },
    {
      "cell_type": "code",
      "metadata": {
        "id": "W_HSryNrHA4p",
        "colab_type": "code",
        "colab": {}
      },
      "source": [
        "#Normalize data\n",
        "X = X/255.0"
      ],
      "execution_count": 0,
      "outputs": []
    },
    {
      "cell_type": "code",
      "metadata": {
        "id": "68hHYNWVWKsd",
        "colab_type": "code",
        "colab": {}
      },
      "source": [
        "model = Sequential()\n",
        "# Adds a densely-connected layer with 64 units to the model:\n",
        "model.add(Conv2D(64,(3,3), activation = 'relu', input_shape = X.shape[1:]))\n",
        "model.add(MaxPooling2D(pool_size = (2,2)))\n",
        "# Add another:\n",
        "model.add(Conv2D(64,(3,3), activation = 'relu'))\n",
        "model.add(MaxPooling2D(pool_size = (2,2)))\n",
        "\n",
        "model.add(Flatten())\n",
        "model.add(Dense(64, activation='relu'))\n",
        "# Add a softmax layer with 10 output units:\n",
        "model.add(Dense(1, activation='sigmoid'))\n",
        "\n",
        "model.compile(optimizer=\"adam\",\n",
        "              loss='binary_crossentropy',\n",
        "              metrics=['accuracy'])"
      ],
      "execution_count": 0,
      "outputs": []
    },
    {
      "cell_type": "code",
      "metadata": {
        "id": "0zs351dwWKvJ",
        "colab_type": "code",
        "colab": {
          "base_uri": "https://localhost:8080/",
          "height": 417
        },
        "outputId": "c5b1db2f-9a31-40c1-b977-3d36da6cebdf"
      },
      "source": [
        "model.fit(X, y, epochs=10, batch_size=32, validation_split=0.2)\n"
      ],
      "execution_count": 22,
      "outputs": [
        {
          "output_type": "stream",
          "text": [
            "Train on 1009 samples, validate on 253 samples\n",
            "Epoch 1/10\n",
            "1009/1009 [==============================] - 1s 573us/sample - loss: 0.2625 - acc: 0.9316 - val_loss: 0.2187 - val_acc: 0.9486\n",
            "Epoch 2/10\n",
            "1009/1009 [==============================] - 0s 374us/sample - loss: 0.2000 - acc: 0.9534 - val_loss: 0.2344 - val_acc: 0.9486\n",
            "Epoch 3/10\n",
            "1009/1009 [==============================] - 0s 365us/sample - loss: 0.2080 - acc: 0.9534 - val_loss: 0.2018 - val_acc: 0.9486\n",
            "Epoch 4/10\n",
            "1009/1009 [==============================] - 0s 378us/sample - loss: 0.1770 - acc: 0.9534 - val_loss: 0.1859 - val_acc: 0.9486\n",
            "Epoch 5/10\n",
            "1009/1009 [==============================] - 0s 369us/sample - loss: 0.1595 - acc: 0.9534 - val_loss: 0.2056 - val_acc: 0.9486\n",
            "Epoch 6/10\n",
            "1009/1009 [==============================] - 0s 372us/sample - loss: 0.1648 - acc: 0.9534 - val_loss: 0.1864 - val_acc: 0.9486\n",
            "Epoch 7/10\n",
            "1009/1009 [==============================] - 0s 381us/sample - loss: 0.1565 - acc: 0.9534 - val_loss: 0.1885 - val_acc: 0.9486\n",
            "Epoch 8/10\n",
            "1009/1009 [==============================] - 0s 363us/sample - loss: 0.1248 - acc: 0.9534 - val_loss: 0.2019 - val_acc: 0.9486\n",
            "Epoch 9/10\n",
            "1009/1009 [==============================] - 0s 368us/sample - loss: 0.0956 - acc: 0.9534 - val_loss: 0.2010 - val_acc: 0.9486\n",
            "Epoch 10/10\n",
            "1009/1009 [==============================] - 0s 370us/sample - loss: 0.0761 - acc: 0.9534 - val_loss: 0.2020 - val_acc: 0.9486\n"
          ],
          "name": "stdout"
        },
        {
          "output_type": "execute_result",
          "data": {
            "text/plain": [
              "<tensorflow.python.keras.callbacks.History at 0x7fcfe810e128>"
            ]
          },
          "metadata": {
            "tags": []
          },
          "execution_count": 22
        }
      ]
    },
    {
      "cell_type": "code",
      "metadata": {
        "id": "dzncYLGlWKxt",
        "colab_type": "code",
        "colab": {}
      },
      "source": [
        "path = test_dir\n",
        "#os.listdir(path)\n",
        "\n",
        "X_test = []\n",
        "id_line = []\n",
        "def create_test1_data(path):\n",
        "    for p in os.listdir(path):\n",
        "        id_line.append(p.split(\".\")[0])\n",
        "        img_array = cv2.imread(os.path.join(path,p),cv2.IMREAD_GRAYSCALE)\n",
        "        new_img_array = cv2.resize(img_array, dsize=(80, 80))\n",
        "        X_test.append(new_img_array)\n",
        "create_test1_data(path)\n",
        "X_test = np.array(X_test).reshape(-1,80,80,1)\n",
        "X_test = X_test/255"
      ],
      "execution_count": 0,
      "outputs": []
    },
    {
      "cell_type": "code",
      "metadata": {
        "id": "pbSHwHu3WK0T",
        "colab_type": "code",
        "colab": {}
      },
      "source": [
        "predictions = model.predict(X_test)\n"
      ],
      "execution_count": 0,
      "outputs": []
    },
    {
      "cell_type": "code",
      "metadata": {
        "id": "Azi7kqEHWK2y",
        "colab_type": "code",
        "colab": {}
      },
      "source": [
        "predicted_val = [int(round(p[0])) for p in predictions]\n"
      ],
      "execution_count": 0,
      "outputs": []
    },
    {
      "cell_type": "code",
      "metadata": {
        "id": "bcYCiDtGWeAJ",
        "colab_type": "code",
        "colab": {}
      },
      "source": [
        "submission_df = pd.DataFrame({'id':id_line, 'label':predicted_val})\n",
        "submission_df.to_csv(\"submission.csv\", index=False)\n"
      ],
      "execution_count": 0,
      "outputs": []
    },
    {
      "cell_type": "code",
      "metadata": {
        "id": "r_mhyJqsWeCo",
        "colab_type": "code",
        "colab": {}
      },
      "source": [
        ""
      ],
      "execution_count": 0,
      "outputs": []
    },
    {
      "cell_type": "code",
      "metadata": {
        "id": "hrakNkUaWeFH",
        "colab_type": "code",
        "colab": {}
      },
      "source": [
        ""
      ],
      "execution_count": 0,
      "outputs": []
    }
  ]
}