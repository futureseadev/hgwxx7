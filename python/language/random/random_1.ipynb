{
 "cells": [
  {
   "cell_type": "code",
   "execution_count": 1,
   "metadata": {},
   "outputs": [],
   "source": [
    "import random"
   ]
  },
  {
   "cell_type": "code",
   "execution_count": 2,
   "metadata": {},
   "outputs": [
    {
     "name": "stdout",
     "output_type": "stream",
     "text": [
      "c\n"
     ]
    }
   ],
   "source": [
    "# list foo\n",
    "foo = ['a', 'b', 'c', 'd', 'e']\n",
    "\n",
    "# option 1\n",
    "print(random.choice(foo))"
   ]
  },
  {
   "cell_type": "code",
   "execution_count": 3,
   "metadata": {},
   "outputs": [
    {
     "name": "stdout",
     "output_type": "stream",
     "text": [
      "horse\n"
     ]
    }
   ],
   "source": [
    "# secure random\n",
    "\n",
    "foo = ['battery', 'correct', 'horse', 'staple']\n",
    "\n",
    "# option 2\n",
    "secure_random = random.SystemRandom()\n",
    "\n",
    "print(secure_random.choice(foo))"
   ]
  },
  {
   "cell_type": "code",
   "execution_count": 4,
   "metadata": {},
   "outputs": [
    {
     "name": "stdout",
     "output_type": "stream",
     "text": [
      "battery\n"
     ]
    }
   ],
   "source": [
    "# option 3\n",
    "from random import randrange\n",
    "\n",
    "random_index = randrange(len(foo))\n",
    "print(foo[random_index])"
   ]
  },
  {
   "cell_type": "code",
   "execution_count": 5,
   "metadata": {},
   "outputs": [
    {
     "name": "stdout",
     "output_type": "stream",
     "text": [
      "e\n"
     ]
    }
   ],
   "source": [
    "# option 4\n",
    "import secrets\n",
    "\n",
    "foo = ['a', 'b', 'c', 'd', 'e']\n",
    "print(secrets.choice(foo))"
   ]
  },
  {
   "cell_type": "code",
   "execution_count": 6,
   "metadata": {},
   "outputs": [
    {
     "data": {
      "text/plain": [
       "['e', 'b']"
      ]
     },
     "execution_count": 6,
     "metadata": {},
     "output_type": "execute_result"
    }
   ],
   "source": [
    "# option 5\n",
    "foo = ['a', 'b', 'c', 'd', 'e']\n",
    "number_of_samples = 2\n",
    "\n",
    "random_items = random.choices(population=foo, k=number_of_samples)\n",
    "random_items"
   ]
  },
  {
   "cell_type": "code",
   "execution_count": null,
   "metadata": {},
   "outputs": [],
   "source": []
  }
 ],
 "metadata": {
  "kernelspec": {
   "display_name": "Python 3",
   "language": "python",
   "name": "python3"
  },
  "language_info": {
   "codemirror_mode": {
    "name": "ipython",
    "version": 3
   },
   "file_extension": ".py",
   "mimetype": "text/x-python",
   "name": "python",
   "nbconvert_exporter": "python",
   "pygments_lexer": "ipython3",
   "version": "3.6.3"
  }
 },
 "nbformat": 4,
 "nbformat_minor": 2
}
