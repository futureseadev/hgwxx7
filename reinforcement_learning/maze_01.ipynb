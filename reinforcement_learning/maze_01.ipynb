{
  "nbformat": 4,
  "nbformat_minor": 0,
  "metadata": {
    "colab": {
      "name": "Maze_01.ipynb",
      "version": "0.3.2",
      "provenance": [],
      "collapsed_sections": [],
      "include_colab_link": true
    },
    "kernelspec": {
      "name": "python3",
      "display_name": "Python 3"
    },
    "accelerator": "GPU"
  },
  "cells": [
    {
      "cell_type": "markdown",
      "metadata": {
        "id": "view-in-github",
        "colab_type": "text"
      },
      "source": [
        "<a href=\"https://colab.research.google.com/github/praveentn/hgwxx7/blob/master/reinforcement_learning/maze_01.ipynb\" target=\"_parent\"><img src=\"https://colab.research.google.com/assets/colab-badge.svg\" alt=\"Open In Colab\"/></a>"
      ]
    },
    {
      "cell_type": "code",
      "metadata": {
        "id": "JJpRVoG67qAS",
        "colab_type": "code",
        "outputId": "ced405ba-60b8-41dd-dc7b-77d3b455a2bc",
        "colab": {
          "base_uri": "https://localhost:8080/",
          "height": 165
        }
      },
      "source": [
        "# mount google drive & set working directory\n",
        "# requires auth (click on url & copy token into text box when prompted)\n",
        "from google.colab import drive\n",
        "drive.mount(\"/content/gdrive\")\n",
        "\n",
        "import os\n",
        "print(os.getcwd())\n",
        "\n",
        "os.chdir('/content/gdrive/My Drive/Colab Notebooks/Reinforcement-Learning-Maze-master')\n",
        "!pwd"
      ],
      "execution_count": 1,
      "outputs": [
        {
          "output_type": "stream",
          "text": [
            "Go to this URL in a browser: https://accounts.google.com/o/oauth2/auth?client_id=947318989803-6bn6qk8qdgf4n4g3pfee6491hc0brc4i.apps.googleusercontent.com&redirect_uri=urn%3Aietf%3Awg%3Aoauth%3A2.0%3Aoob&scope=email%20https%3A%2F%2Fwww.googleapis.com%2Fauth%2Fdocs.test%20https%3A%2F%2Fwww.googleapis.com%2Fauth%2Fdrive%20https%3A%2F%2Fwww.googleapis.com%2Fauth%2Fdrive.photos.readonly%20https%3A%2F%2Fwww.googleapis.com%2Fauth%2Fpeopleapi.readonly&response_type=code\n",
            "\n",
            "Enter your authorization code:\n",
            "··········\n",
            "Mounted at /content/gdrive\n",
            "/content\n",
            "/content/gdrive/My Drive/Colab Notebooks/Reinforcement-Learning-Maze-master\n"
          ],
          "name": "stdout"
        }
      ]
    },
    {
      "cell_type": "code",
      "metadata": {
        "id": "eeI5k5yj7zzQ",
        "colab_type": "code",
        "outputId": "16951fc1-1029-45a6-ed4b-1e8217e88bd4",
        "colab": {
          "base_uri": "https://localhost:8080/",
          "height": 35
        }
      },
      "source": [
        "# _URL = 'https://drive.google.com/uc?export=download&id=16rqDFLO__WySSQGlAht0FEj2uJZg4M9M'\n",
        "\n",
        "# path_to_zip = tf.keras.utils.get_file('input.zip',\n",
        "#                                       origin=_URL,\n",
        "#                                       extract=True)\n",
        "\n",
        "# working directory\n",
        "main_dir = os.getcwd()\n",
        "print(\"Working directory: \", main_dir)\n"
      ],
      "execution_count": 2,
      "outputs": [
        {
          "output_type": "stream",
          "text": [
            "Working directory:  /content/gdrive/My Drive/Colab Notebooks/Reinforcement-Learning-Maze-master\n"
          ],
          "name": "stdout"
        }
      ]
    },
    {
      "cell_type": "code",
      "metadata": {
        "id": "r_mhyJqsWeCo",
        "colab_type": "code",
        "colab": {}
      },
      "source": [
        "import matplotlib.pyplot as plt\n",
        "%matplotlib inline\n",
        "\n",
        "from environment import Maze\n",
        "from models import *\n",
        "\n",
        "logging.basicConfig(level=logging.INFO,\n",
        "                    format=\"%(levelname)s: %(asctime)s: %(message)s\",\n",
        "                    datefmt=\"%H:%M:%S\")\n",
        "\n",
        "maze = np.array([\n",
        "    [0, 1, 0, 0, 0, 0, 0, 0],\n",
        "    [0, 1, 0, 1, 0, 1, 0, 0],\n",
        "    [0, 0, 0, 1, 1, 0, 1, 0],\n",
        "    [0, 1, 0, 1, 0, 0, 0, 0],\n",
        "    [1, 0, 0, 1, 0, 1, 0, 0],\n",
        "    [0, 0, 0, 1, 0, 1, 1, 1],\n",
        "    [0, 1, 1, 0, 0, 0, 0, 0],\n",
        "    [0, 0, 0, 0, 0, 1, 0, 0]\n",
        "])  # 0 = free, 1 = occupied\n",
        "\n",
        "game = Maze(maze)"
      ],
      "execution_count": 0,
      "outputs": []
    },
    {
      "cell_type": "code",
      "metadata": {
        "id": "hrakNkUaWeFH",
        "colab_type": "code",
        "colab": {
          "base_uri": "https://localhost:8080/",
          "height": 1000
        },
        "outputId": "70277860-7e32-4c50-9d1f-cef17c34868b"
      },
      "source": [
        "if 0:  # only show the maze\n",
        "    game.render(\"moves\")\n",
        "    game.reset()\n",
        "\n",
        "if 0:  # play using random model\n",
        "    model = RandomModel(game)\n",
        "    model.train()\n",
        "\n",
        "if 0:  # train using tabular Q-learning\n",
        "    model = QTableModel(game, name=\"QTableModel\")\n",
        "    h, w, _, _ = model.train(discount=0.90, exploration_rate=0.10, learning_rate=0.10, episodes=200)\n",
        "\n",
        "if 0:  # train using tabular Q-learning and an eligibility trace (aka TD-lamba)\n",
        "    model = QTableTraceModel(game)\n",
        "    h, w, _, _ = model.train(discount=0.90, exploration_rate=0.10, learning_rate=0.10, episodes=200)\n",
        "\n",
        "if 0:  # train using tabular SARSA learning\n",
        "    model = SarsaTableModel(game)\n",
        "    h, w, _, _ = model.train(discount=0.90, exploration_rate=0.10, learning_rate=0.10, episodes=200)\n",
        "\n",
        "if 1:  # train using tabular SARSA learning and an eligibility trace\n",
        "    game.render(\"training\")  # shows all moves and the q table; nice but slow.\n",
        "    model = SarsaTableTraceModel(game)\n",
        "    h, w, _, _ = model.train(discount=0.90, exploration_rate=0.10, learning_rate=0.10, episodes=200)\n",
        "\n",
        "if 0:  # train using a neural network with experience replay (also saves the resulting model)\n",
        "    model = QReplayNetworkModel(game)\n",
        "    h, w, _, _ = model.train(discount=0.80, exploration_rate=0.10, episodes=maze.size * 10, max_memory=maze.size * 4)"
      ],
      "execution_count": 14,
      "outputs": [
        {
          "output_type": "stream",
          "text": [
            "/usr/local/lib/python3.6/dist-packages/matplotlib/figure.py:2369: UserWarning: This figure includes Axes that are not compatible with tight_layout, so results might be incorrect.\n",
            "  warnings.warn(\"This figure includes Axes that are not compatible \"\n"
          ],
          "name": "stderr"
        },
        {
          "output_type": "display_data",
          "data": {
            "image/png": "[encoded data removed]",
            "text/plain": [
              "<Figure size 432x288 with 1 Axes>"
            ]
          },
          "metadata": {
            "tags": []
          }
        },
        {
          "output_type": "display_data",
          "data": {
            "image/png": "[encoded data removed]",
            "text/plain": [
              "<Figure size 432x288 with 1 Axes>"
            ]
          },
          "metadata": {
            "tags": []
          }
        },
        {
          "output_type": "stream",
          "text": [
            "INFO: 17:03:42: episode: 1/200 | status: win  | e: 0.10000\n",
            "INFO: 17:03:44: episode: 2/200 | status: win  | e: 0.09950\n",
            "INFO: 17:03:58: episode: 3/200 | status: lose | e: 0.09900\n",
            "INFO: 17:04:02: episode: 4/200 | status: win  | e: 0.09851\n",
            "INFO: 17:04:14: episode: 5/200 | status: lose | e: 0.09801\n",
            "INFO: 17:04:15: won: 10 | lost: 34 | win rate: 0.22727\n",
            "INFO: 17:04:17: episode: 6/200 | status: win  | e: 0.09752\n",
            "INFO: 17:04:30: episode: 7/200 | status: win  | e: 0.09704\n",
            "INFO: 17:04:32: episode: 8/200 | status: win  | e: 0.09655\n",
            "INFO: 17:04:44: episode: 9/200 | status: lose | e: 0.09607\n",
            "INFO: 17:04:57: episode: 10/200 | status: lose | e: 0.09559\n",
            "INFO: 17:04:58: won: 14 | lost: 30 | win rate: 0.31818\n",
            "INFO: 17:05:14: episode: 11/200 | status: lose | e: 0.09511\n",
            "INFO: 17:05:32: episode: 12/200 | status: lose | e: 0.09464\n",
            "INFO: 17:05:38: episode: 13/200 | status: win  | e: 0.09416\n",
            "INFO: 17:05:58: episode: 14/200 | status: lose | e: 0.09369\n",
            "INFO: 17:05:59: episode: 15/200 | status: win  | e: 0.09322\n",
            "INFO: 17:05:59: won: 16 | lost: 28 | win rate: 0.36364\n",
            "INFO: 17:06:00: episode: 16/200 | status: win  | e: 0.09276\n",
            "INFO: 17:06:12: episode: 17/200 | status: lose | e: 0.09229\n",
            "INFO: 17:06:13: episode: 18/200 | status: win  | e: 0.09183\n",
            "INFO: 17:06:28: episode: 19/200 | status: lose | e: 0.09137\n",
            "INFO: 17:06:30: episode: 20/200 | status: win  | e: 0.09092\n",
            "INFO: 17:06:30: won: 16 | lost: 28 | win rate: 0.36364\n",
            "INFO: 17:06:32: episode: 21/200 | status: win  | e: 0.09046\n",
            "INFO: 17:06:37: episode: 22/200 | status: win  | e: 0.09001\n",
            "INFO: 17:06:39: episode: 23/200 | status: win  | e: 0.08956\n",
            "INFO: 17:06:46: episode: 24/200 | status: win  | e: 0.08911\n",
            "INFO: 17:06:49: episode: 25/200 | status: win  | e: 0.08867\n",
            "INFO: 17:06:49: won: 30 | lost: 14 | win rate: 0.68182\n",
            "INFO: 17:06:54: episode: 26/200 | status: win  | e: 0.08822\n",
            "INFO: 17:06:54: episode: 27/200 | status: win  | e: 0.08778\n",
            "INFO: 17:06:54: episode: 28/200 | status: win  | e: 0.08734\n",
            "INFO: 17:06:59: episode: 29/200 | status: win  | e: 0.08691\n",
            "INFO: 17:07:00: episode: 30/200 | status: win  | e: 0.08647\n",
            "INFO: 17:07:00: won: 33 | lost: 11 | win rate: 0.75000\n",
            "INFO: 17:07:01: episode: 31/200 | status: win  | e: 0.08604\n",
            "INFO: 17:07:04: episode: 32/200 | status: win  | e: 0.08561\n",
            "INFO: 17:07:05: episode: 33/200 | status: win  | e: 0.08518\n",
            "INFO: 17:07:07: episode: 34/200 | status: win  | e: 0.08475\n",
            "INFO: 17:07:09: episode: 35/200 | status: win  | e: 0.08433\n",
            "INFO: 17:07:09: won: 33 | lost: 11 | win rate: 0.75000\n",
            "INFO: 17:07:11: episode: 36/200 | status: win  | e: 0.08391\n",
            "INFO: 17:07:13: episode: 37/200 | status: win  | e: 0.08349\n",
            "INFO: 17:07:13: episode: 38/200 | status: win  | e: 0.08307\n",
            "INFO: 17:07:18: episode: 39/200 | status: win  | e: 0.08266\n",
            "INFO: 17:07:21: episode: 40/200 | status: win  | e: 0.08224\n",
            "INFO: 17:07:21: won: 35 | lost: 9 | win rate: 0.79545\n",
            "INFO: 17:07:26: episode: 41/200 | status: win  | e: 0.08183\n",
            "INFO: 17:07:28: episode: 42/200 | status: win  | e: 0.08142\n",
            "INFO: 17:07:30: episode: 43/200 | status: win  | e: 0.08102\n",
            "INFO: 17:07:33: episode: 44/200 | status: win  | e: 0.08061\n",
            "INFO: 17:07:37: episode: 45/200 | status: win  | e: 0.08021\n",
            "INFO: 17:07:37: won: 38 | lost: 6 | win rate: 0.86364\n",
            "INFO: 17:07:38: episode: 46/200 | status: win  | e: 0.07981\n",
            "INFO: 17:07:40: episode: 47/200 | status: win  | e: 0.07941\n",
            "INFO: 17:07:42: episode: 48/200 | status: win  | e: 0.07901\n",
            "INFO: 17:07:49: episode: 49/200 | status: win  | e: 0.07862\n",
            "INFO: 17:07:51: episode: 50/200 | status: win  | e: 0.07822\n",
            "INFO: 17:07:51: won: 41 | lost: 3 | win rate: 0.93182\n",
            "INFO: 17:07:52: episode: 51/200 | status: win  | e: 0.07783\n",
            "INFO: 17:07:55: episode: 52/200 | status: win  | e: 0.07744\n",
            "INFO: 17:07:57: episode: 53/200 | status: win  | e: 0.07705\n",
            "INFO: 17:08:01: episode: 54/200 | status: win  | e: 0.07667\n",
            "INFO: 17:08:05: episode: 55/200 | status: win  | e: 0.07629\n",
            "INFO: 17:08:06: won: 41 | lost: 3 | win rate: 0.93182\n",
            "INFO: 17:08:06: episode: 56/200 | status: win  | e: 0.07590\n",
            "INFO: 17:08:08: episode: 57/200 | status: win  | e: 0.07553\n",
            "INFO: 17:08:10: episode: 58/200 | status: win  | e: 0.07515\n",
            "INFO: 17:08:13: episode: 59/200 | status: win  | e: 0.07477\n",
            "INFO: 17:08:15: episode: 60/200 | status: win  | e: 0.07440\n",
            "INFO: 17:08:15: won: 41 | lost: 3 | win rate: 0.93182\n",
            "INFO: 17:08:19: episode: 61/200 | status: win  | e: 0.07403\n",
            "INFO: 17:08:20: episode: 62/200 | status: win  | e: 0.07366\n",
            "INFO: 17:08:24: episode: 63/200 | status: win  | e: 0.07329\n",
            "INFO: 17:08:28: episode: 64/200 | status: win  | e: 0.07292\n",
            "INFO: 17:08:30: episode: 65/200 | status: win  | e: 0.07256\n",
            "INFO: 17:08:31: won: 41 | lost: 3 | win rate: 0.93182\n",
            "INFO: 17:08:35: episode: 66/200 | status: win  | e: 0.07219\n",
            "INFO: 17:08:39: episode: 67/200 | status: win  | e: 0.07183\n",
            "INFO: 17:08:42: episode: 68/200 | status: win  | e: 0.07147\n",
            "INFO: 17:08:46: episode: 69/200 | status: win  | e: 0.07112\n",
            "INFO: 17:08:49: episode: 70/200 | status: win  | e: 0.07076\n",
            "INFO: 17:08:49: won: 43 | lost: 1 | win rate: 0.97727\n",
            "INFO: 17:08:51: episode: 71/200 | status: win  | e: 0.07041\n",
            "INFO: 17:08:52: episode: 72/200 | status: win  | e: 0.07005\n",
            "INFO: 17:08:52: episode: 73/200 | status: win  | e: 0.06970\n",
            "INFO: 17:08:57: episode: 74/200 | status: win  | e: 0.06936\n",
            "INFO: 17:09:00: episode: 75/200 | status: win  | e: 0.06901\n",
            "INFO: 17:09:00: won: 44 | lost: 0 | win rate: 1.00000\n",
            "INFO: 17:09:00: episode: 76/200 | status: win  | e: 0.06866\n",
            "INFO: 17:09:02: episode: 77/200 | status: win  | e: 0.06832\n",
            "INFO: 17:09:05: episode: 78/200 | status: win  | e: 0.06798\n",
            "INFO: 17:09:07: episode: 79/200 | status: win  | e: 0.06764\n",
            "INFO: 17:09:09: episode: 80/200 | status: win  | e: 0.06730\n",
            "INFO: 17:09:10: won: 44 | lost: 0 | win rate: 1.00000\n",
            "INFO: 17:09:11: episode: 81/200 | status: win  | e: 0.06696\n",
            "INFO: 17:09:14: episode: 82/200 | status: win  | e: 0.06663\n",
            "INFO: 17:09:19: episode: 83/200 | status: win  | e: 0.06630\n",
            "INFO: 17:09:19: episode: 84/200 | status: win  | e: 0.06597\n",
            "INFO: 17:09:22: episode: 85/200 | status: win  | e: 0.06564\n",
            "INFO: 17:09:22: won: 44 | lost: 0 | win rate: 1.00000\n",
            "INFO: 17:09:25: episode: 86/200 | status: win  | e: 0.06531\n",
            "INFO: 17:09:30: episode: 87/200 | status: win  | e: 0.06498\n",
            "INFO: 17:09:30: episode: 88/200 | status: win  | e: 0.06466\n",
            "INFO: 17:09:34: episode: 89/200 | status: win  | e: 0.06433\n",
            "INFO: 17:09:35: episode: 90/200 | status: win  | e: 0.06401\n",
            "INFO: 17:09:35: won: 44 | lost: 0 | win rate: 1.00000\n",
            "INFO: 17:09:37: episode: 91/200 | status: win  | e: 0.06369\n",
            "INFO: 17:09:39: episode: 92/200 | status: win  | e: 0.06337\n",
            "INFO: 17:09:44: episode: 93/200 | status: win  | e: 0.06306\n",
            "INFO: 17:09:47: episode: 94/200 | status: win  | e: 0.06274\n",
            "INFO: 17:09:47: episode: 95/200 | status: win  | e: 0.06243\n",
            "INFO: 17:09:47: won: 44 | lost: 0 | win rate: 1.00000\n",
            "INFO: 17:09:49: episode: 96/200 | status: win  | e: 0.06211\n",
            "INFO: 17:09:51: episode: 97/200 | status: win  | e: 0.06180\n",
            "INFO: 17:09:52: episode: 98/200 | status: win  | e: 0.06149\n",
            "INFO: 17:09:54: episode: 99/200 | status: win  | e: 0.06119\n",
            "INFO: 17:09:59: episode: 100/200 | status: win  | e: 0.06088\n",
            "INFO: 17:09:59: won: 44 | lost: 0 | win rate: 1.00000\n",
            "INFO: 17:10:02: episode: 101/200 | status: win  | e: 0.06058\n",
            "INFO: 17:10:05: episode: 102/200 | status: win  | e: 0.06027\n",
            "INFO: 17:10:10: episode: 103/200 | status: win  | e: 0.05997\n",
            "INFO: 17:10:14: episode: 104/200 | status: win  | e: 0.05967\n",
            "INFO: 17:10:15: episode: 105/200 | status: win  | e: 0.05937\n",
            "INFO: 17:10:15: won: 44 | lost: 0 | win rate: 1.00000\n",
            "INFO: 17:10:16: episode: 106/200 | status: win  | e: 0.05908\n",
            "INFO: 17:10:22: episode: 107/200 | status: win  | e: 0.05878\n",
            "INFO: 17:10:23: episode: 108/200 | status: win  | e: 0.05849\n",
            "INFO: 17:10:26: episode: 109/200 | status: win  | e: 0.05820\n",
            "INFO: 17:10:26: episode: 110/200 | status: win  | e: 0.05790\n",
            "INFO: 17:10:26: won: 44 | lost: 0 | win rate: 1.00000\n",
            "INFO: 17:10:30: episode: 111/200 | status: win  | e: 0.05762\n",
            "INFO: 17:10:35: episode: 112/200 | status: win  | e: 0.05733\n",
            "INFO: 17:10:40: episode: 113/200 | status: win  | e: 0.05704\n",
            "INFO: 17:10:43: episode: 114/200 | status: win  | e: 0.05676\n",
            "INFO: 17:10:46: episode: 115/200 | status: win  | e: 0.05647\n",
            "INFO: 17:10:46: won: 44 | lost: 0 | win rate: 1.00000\n",
            "INFO: 17:10:51: episode: 116/200 | status: win  | e: 0.05619\n",
            "INFO: 17:10:54: episode: 117/200 | status: win  | e: 0.05591\n",
            "INFO: 17:10:55: episode: 118/200 | status: win  | e: 0.05563\n",
            "INFO: 17:10:59: episode: 119/200 | status: win  | e: 0.05535\n",
            "INFO: 17:11:01: episode: 120/200 | status: win  | e: 0.05507\n",
            "INFO: 17:11:01: won: 44 | lost: 0 | win rate: 1.00000\n",
            "INFO: 17:11:06: episode: 121/200 | status: win  | e: 0.05480\n",
            "INFO: 17:11:09: episode: 122/200 | status: win  | e: 0.05452\n",
            "INFO: 17:11:13: episode: 123/200 | status: win  | e: 0.05425\n",
            "INFO: 17:11:15: episode: 124/200 | status: win  | e: 0.05398\n",
            "INFO: 17:11:17: episode: 125/200 | status: win  | e: 0.05371\n",
            "INFO: 17:11:18: won: 44 | lost: 0 | win rate: 1.00000\n",
            "INFO: 17:11:20: episode: 126/200 | status: win  | e: 0.05344\n",
            "INFO: 17:11:21: episode: 127/200 | status: win  | e: 0.05318\n",
            "INFO: 17:11:22: episode: 128/200 | status: win  | e: 0.05291\n",
            "INFO: 17:11:26: episode: 129/200 | status: win  | e: 0.05264\n",
            "INFO: 17:11:32: episode: 130/200 | status: win  | e: 0.05238\n",
            "INFO: 17:11:32: won: 44 | lost: 0 | win rate: 1.00000\n",
            "INFO: 17:11:35: episode: 131/200 | status: win  | e: 0.05212\n",
            "INFO: 17:11:39: episode: 132/200 | status: win  | e: 0.05186\n",
            "INFO: 17:11:39: episode: 133/200 | status: win  | e: 0.05160\n",
            "INFO: 17:11:41: episode: 134/200 | status: win  | e: 0.05134\n",
            "INFO: 17:11:46: episode: 135/200 | status: win  | e: 0.05108\n",
            "INFO: 17:11:46: won: 44 | lost: 0 | win rate: 1.00000\n",
            "INFO: 17:11:48: episode: 136/200 | status: win  | e: 0.05083\n",
            "INFO: 17:11:53: episode: 137/200 | status: win  | e: 0.05058\n",
            "INFO: 17:11:55: episode: 138/200 | status: win  | e: 0.05032\n",
            "INFO: 17:12:00: episode: 139/200 | status: win  | e: 0.05007\n",
            "INFO: 17:12:02: episode: 140/200 | status: win  | e: 0.04982\n",
            "INFO: 17:12:02: won: 44 | lost: 0 | win rate: 1.00000\n",
            "INFO: 17:12:06: episode: 141/200 | status: win  | e: 0.04957\n",
            "INFO: 17:12:07: episode: 142/200 | status: win  | e: 0.04932\n",
            "INFO: 17:12:10: episode: 143/200 | status: win  | e: 0.04908\n",
            "INFO: 17:12:10: episode: 144/200 | status: win  | e: 0.04883\n",
            "INFO: 17:12:14: episode: 145/200 | status: win  | e: 0.04859\n",
            "INFO: 17:12:14: won: 44 | lost: 0 | win rate: 1.00000\n",
            "INFO: 17:12:16: episode: 146/200 | status: win  | e: 0.04834\n",
            "INFO: 17:12:17: episode: 147/200 | status: win  | e: 0.04810\n",
            "INFO: 17:12:18: episode: 148/200 | status: win  | e: 0.04786\n",
            "INFO: 17:12:24: episode: 149/200 | status: win  | e: 0.04762\n",
            "INFO: 17:12:28: episode: 150/200 | status: win  | e: 0.04738\n",
            "INFO: 17:12:28: won: 44 | lost: 0 | win rate: 1.00000\n",
            "INFO: 17:12:30: episode: 151/200 | status: win  | e: 0.04715\n",
            "INFO: 17:12:34: episode: 152/200 | status: win  | e: 0.04691\n",
            "INFO: 17:12:39: episode: 153/200 | status: win  | e: 0.04668\n",
            "INFO: 17:12:41: episode: 154/200 | status: win  | e: 0.04644\n",
            "INFO: 17:12:44: episode: 155/200 | status: win  | e: 0.04621\n",
            "INFO: 17:12:44: won: 44 | lost: 0 | win rate: 1.00000\n",
            "INFO: 17:12:48: episode: 156/200 | status: win  | e: 0.04598\n",
            "INFO: 17:12:54: episode: 157/200 | status: win  | e: 0.04575\n",
            "INFO: 17:12:58: episode: 158/200 | status: win  | e: 0.04552\n",
            "INFO: 17:13:03: episode: 159/200 | status: win  | e: 0.04529\n",
            "INFO: 17:13:08: episode: 160/200 | status: win  | e: 0.04507\n",
            "INFO: 17:13:09: won: 44 | lost: 0 | win rate: 1.00000\n",
            "INFO: 17:13:12: episode: 161/200 | status: win  | e: 0.04484\n",
            "INFO: 17:13:14: episode: 162/200 | status: win  | e: 0.04462\n",
            "INFO: 17:13:17: episode: 163/200 | status: win  | e: 0.04440\n",
            "INFO: 17:13:19: episode: 164/200 | status: win  | e: 0.04417\n",
            "INFO: 17:13:21: episode: 165/200 | status: win  | e: 0.04395\n",
            "INFO: 17:13:21: won: 44 | lost: 0 | win rate: 1.00000\n",
            "INFO: 17:13:24: episode: 166/200 | status: win  | e: 0.04373\n",
            "INFO: 17:13:28: episode: 167/200 | status: win  | e: 0.04351\n",
            "INFO: 17:13:33: episode: 168/200 | status: win  | e: 0.04330\n",
            "INFO: 17:13:39: episode: 169/200 | status: win  | e: 0.04308\n",
            "INFO: 17:13:42: episode: 170/200 | status: win  | e: 0.04286\n",
            "INFO: 17:13:42: won: 44 | lost: 0 | win rate: 1.00000\n",
            "INFO: 17:13:43: episode: 171/200 | status: win  | e: 0.04265\n",
            "INFO: 17:13:47: episode: 172/200 | status: win  | e: 0.04244\n",
            "INFO: 17:13:50: episode: 173/200 | status: win  | e: 0.04223\n",
            "INFO: 17:13:56: episode: 174/200 | status: win  | e: 0.04201\n",
            "INFO: 17:13:59: episode: 175/200 | status: win  | e: 0.04180\n",
            "INFO: 17:13:59: won: 44 | lost: 0 | win rate: 1.00000\n",
            "INFO: 17:14:03: episode: 176/200 | status: win  | e: 0.04159\n",
            "INFO: 17:14:07: episode: 177/200 | status: win  | e: 0.04139\n",
            "INFO: 17:14:07: episode: 178/200 | status: win  | e: 0.04118\n",
            "INFO: 17:14:09: episode: 179/200 | status: win  | e: 0.04097\n",
            "INFO: 17:14:13: episode: 180/200 | status: win  | e: 0.04077\n",
            "INFO: 17:14:13: won: 44 | lost: 0 | win rate: 1.00000\n",
            "INFO: 17:14:15: episode: 181/200 | status: win  | e: 0.04057\n",
            "INFO: 17:14:19: episode: 182/200 | status: win  | e: 0.04036\n",
            "INFO: 17:14:25: episode: 183/200 | status: win  | e: 0.04016\n",
            "INFO: 17:14:28: episode: 184/200 | status: win  | e: 0.03996\n",
            "INFO: 17:14:34: episode: 185/200 | status: win  | e: 0.03976\n",
            "INFO: 17:14:34: won: 44 | lost: 0 | win rate: 1.00000\n",
            "INFO: 17:14:35: episode: 186/200 | status: win  | e: 0.03956\n",
            "INFO: 17:14:36: episode: 187/200 | status: win  | e: 0.03936\n",
            "INFO: 17:14:42: episode: 188/200 | status: win  | e: 0.03917\n",
            "INFO: 17:14:45: episode: 189/200 | status: win  | e: 0.03897\n",
            "INFO: 17:14:48: episode: 190/200 | status: win  | e: 0.03878\n",
            "INFO: 17:14:48: won: 44 | lost: 0 | win rate: 1.00000\n",
            "INFO: 17:14:54: episode: 191/200 | status: win  | e: 0.03858\n",
            "INFO: 17:14:56: episode: 192/200 | status: win  | e: 0.03839\n",
            "INFO: 17:15:01: episode: 193/200 | status: win  | e: 0.03820\n",
            "INFO: 17:15:03: episode: 194/200 | status: win  | e: 0.03801\n",
            "INFO: 17:15:05: episode: 195/200 | status: win  | e: 0.03782\n",
            "INFO: 17:15:05: won: 44 | lost: 0 | win rate: 1.00000\n",
            "INFO: 17:15:12: episode: 196/200 | status: win  | e: 0.03763\n",
            "INFO: 17:15:15: episode: 197/200 | status: win  | e: 0.03744\n",
            "INFO: 17:15:21: episode: 198/200 | status: win  | e: 0.03725\n",
            "INFO: 17:15:25: episode: 199/200 | status: win  | e: 0.03707\n",
            "INFO: 17:15:29: episode: 200/200 | status: win  | e: 0.03688\n",
            "INFO: 17:15:29: won: 44 | lost: 0 | win rate: 1.00000\n",
            "INFO: 17:15:29: episodes: 200 | time spent: 0:11:52.201878\n"
          ],
          "name": "stderr"
        }
      ]
    },
    {
      "cell_type": "code",
      "metadata": {
        "id": "nEFAXkWhw_If",
        "colab_type": "code",
        "colab": {
          "base_uri": "https://localhost:8080/",
          "height": 334
        },
        "outputId": "55ff09c0-0190-439f-87ba-53c61479b7c2"
      },
      "source": [
        "try:\n",
        "    h  # force a NameError exception if h does not exist (and thus don't try to show win rate and cumulative reward)\n",
        "    fig, (ax1, ax2) = plt.subplots(2, 1, tight_layout=True)\n",
        "    fig.canvas.set_window_title(model.name)\n",
        "    ax1.plot(*zip(*w))\n",
        "    ax1.set_xlabel(\"episode\")\n",
        "    ax1.set_ylabel(\"win rate\")\n",
        "    ax2.plot(h)\n",
        "    ax2.set_xlabel(\"episode\")\n",
        "    ax2.set_ylabel(\"cumulative reward\")\n",
        "    plt.show()\n",
        "except NameError:\n",
        "    pass"
      ],
      "execution_count": 15,
      "outputs": [
        {
          "output_type": "stream",
          "text": [
            "/usr/local/lib/python3.6/dist-packages/matplotlib/figure.py:2369: UserWarning: This figure includes Axes that are not compatible with tight_layout, so results might be incorrect.\n",
            "  warnings.warn(\"This figure includes Axes that are not compatible \"\n"
          ],
          "name": "stderr"
        },
        {
          "output_type": "display_data",
          "data": {
            "image/png": "[encoded data removed]",
            "text/plain": [
              "<Figure size 432x288 with 2 Axes>"
            ]
          },
          "metadata": {
            "tags": []
          }
        }
      ]
    },
    {
      "cell_type": "code",
      "metadata": {
        "id": "2ubhEe1bxC19",
        "colab_type": "code",
        "colab": {}
      },
      "source": [
        "if 0:  # load a previously trained model\n",
        "    model = QReplayNetworkModel(game, load=True)\n",
        "\n",
        "if 0:  # compare learning speed (cumulative rewards and win rate) of several models in a diagram\n",
        "    rhist = list()\n",
        "    whist = list()\n",
        "    names = list()\n",
        "\n",
        "    models = [0, 1, 2, 3, 4]\n",
        "\n",
        "    for model_id in models:\n",
        "        logging.disable(logging.WARNING)\n",
        "        if model_id == 0:\n",
        "            model = QTableModel(game, name=\"QTableModel\")\n",
        "        elif model_id == 1:\n",
        "            model = SarsaTableModel(game, name=\"SarsaTableModel\")\n",
        "        elif model_id == 2:\n",
        "            model = QTableTraceModel(game, name=\"QTableTraceModel\")\n",
        "        elif model_id == 3:\n",
        "            model = SarsaTableTraceModel(game, name=\"SarsaTableTraceModel\")\n",
        "        elif model_id == 4:\n",
        "            model = QReplayNetworkModel(game, name=\"QReplayNetworkModel\")\n",
        "\n",
        "        r, w, _, _ = model.train(discount=0.90, exploration_rate=0.10, exploration_decay=0.999, learning_rate=0.10,\n",
        "                                 episodes=300)\n",
        "        rhist.append(r)\n",
        "        whist.append(w)\n",
        "        names.append(model.name)\n",
        "\n",
        "    f, (rhist_ax, whist_ax) = plt.subplots(2, len(models), sharex=\"row\", sharey=\"row\", tight_layout=True)\n",
        "\n",
        "    for i in range(len(rhist)):\n",
        "        rhist_ax[i].set_title(names[i])\n",
        "        rhist_ax[i].set_ylabel(\"cumulative reward\")\n",
        "        rhist_ax[i].plot(rhist[i])\n",
        "\n",
        "    for i in range(len(whist)):\n",
        "        whist_ax[i].set_xlabel(\"episode\")\n",
        "        whist_ax[i].set_ylabel(\"win rate\")\n",
        "        whist_ax[i].plot(*zip(*(whist[i])))\n",
        "\n",
        "    plt.show()\n"
      ],
      "execution_count": 0,
      "outputs": []
    },
    {
      "cell_type": "code",
      "metadata": {
        "id": "JmsbpSyNxGcJ",
        "colab_type": "code",
        "colab": {}
      },
      "source": [
        "if 0:  # run a number of training episodes and plot the training time and episodes needed in histograms (time consuming)\n",
        "    runs = 10\n",
        "\n",
        "    epi = list()\n",
        "    nme = list()\n",
        "    sec = list()\n",
        "\n",
        "    models = [0, 1, 2, 3, 4]\n",
        "\n",
        "    for model_id in models:\n",
        "        episodes = list()\n",
        "        seconds = list()\n",
        "\n",
        "        logging.disable(logging.WARNING)\n",
        "        for r in range(runs):\n",
        "            if model_id == 0:\n",
        "                model = QTableModel(game, name=\"QTableModel\")\n",
        "            elif model_id == 1:\n",
        "                model = SarsaTableModel(game, name=\"SarsaTableModel\")\n",
        "            elif model_id == 2:\n",
        "                model = QTableTraceModel(game, name=\"QTableTraceModel\")\n",
        "            elif model_id == 3:\n",
        "                model = SarsaTableTraceModel(game, name=\"SarsaTableTraceModel\")\n",
        "            elif model_id == 4:\n",
        "                model = QReplayNetworkModel(game, name=\"QReplayNetworkModel\")\n",
        "\n",
        "            _, _, e, s = model.train(stop_at_convergence=True, discount=0.90, exploration_rate=0.10,\n",
        "                                     exploration_decay=0.999, learning_rate=0.10, episodes=1000)\n",
        "\n",
        "            print(e, s)\n",
        "\n",
        "            episodes.append(e)\n",
        "            seconds.append(s.seconds)\n",
        "\n",
        "        logging.disable(logging.NOTSET)\n",
        "        logging.info(\"model: {} | trained {} times | average no of episodes: {}| average training time {}\"\n",
        "                     .format(model.name, runs, np.average(episodes), np.sum(seconds) / len(seconds)))\n",
        "\n",
        "        epi.append(episodes)\n",
        "        sec.append(seconds)\n",
        "        nme.append(model.name)\n",
        "\n",
        "    f, (epi_ax, sec_ax) = plt.subplots(2, len(models), sharex=\"row\", sharey=\"row\", tight_layout=True)\n",
        "\n",
        "    for i in range(len(epi)):\n",
        "        epi_ax[i].set_title(nme[i])\n",
        "        epi_ax[i].set_xlabel(\"training episodes\")\n",
        "        epi_ax[i].hist(epi[i], edgecolor=\"black\")\n",
        "\n",
        "    for i in range(len(sec)):\n",
        "        sec_ax[i].set_xlabel(\"seconds per episode\")\n",
        "        sec_ax[i].hist(sec[i], edgecolor=\"black\")\n",
        "\n",
        "    plt.show()"
      ],
      "execution_count": 0,
      "outputs": []
    },
    {
      "cell_type": "code",
      "metadata": {
        "id": "S8GAZZ8DxKfc",
        "colab_type": "code",
        "colab": {}
      },
      "source": [
        "game.render(\"moves\")\n",
        "game.play(model, start_cell=(0, 0))\n",
        "# game.play(model, start_cell=(2, 5))\n",
        "# game.play(model, start_cell=(4, 1))\n",
        "\n",
        "plt.show()  # must be placed here else the image disappears immediately at the end of the program"
      ],
      "execution_count": 0,
      "outputs": []
    },
    {
      "cell_type": "code",
      "metadata": {
        "id": "V51DaaBoxMmP",
        "colab_type": "code",
        "colab": {}
      },
      "source": [
        "maze = np.array([\n",
        "    [0, 0, 1, 2, 1, 0, 0, 0],\n",
        "    [0, 0, 1, 2, 1, 0, 0, 0],\n",
        "    [1, 1, 1, 2, 1, 1, 1, 1],\n",
        "    [2, 2, 2, 2, 2, 2, 2, 2],\n",
        "    [1, 1, 1, 2, 1, 1, 1, 1],\n",
        "    [0, 0, 1, 2, 1, 0, 0, 0],\n",
        "    [0, 0, 1, 2, 1, 0, 0, 0],\n",
        "    [0, 0, 1, 2, 1, 0, 0, 0]\n",
        "])  # 0 = free, 1 = occupied\n",
        "\n",
        "game = Maze(maze)"
      ],
      "execution_count": 0,
      "outputs": []
    },
    {
      "cell_type": "code",
      "metadata": {
        "id": "G0IwkHOC02AN",
        "colab_type": "code",
        "colab": {}
      },
      "source": [
        ""
      ],
      "execution_count": 0,
      "outputs": []
    }
  ]
}