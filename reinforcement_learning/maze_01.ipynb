{
  "nbformat": 4,
  "nbformat_minor": 0,
  "metadata": {
    "colab": {
      "name": "Maze_01.ipynb",
      "version": "0.3.2",
      "provenance": [],
      "collapsed_sections": [],
      "include_colab_link": true
    },
    "kernelspec": {
      "name": "python3",
      "display_name": "Python 3"
    },
    "accelerator": "GPU"
  },
  "cells": [
    {
      "cell_type": "markdown",
      "metadata": {
        "id": "view-in-github",
        "colab_type": "text"
      },
      "source": [
        "<a href=\"https://colab.research.google.com/github/praveentn/hgwxx7/blob/master/reinforcement_learning/maze_01.ipynb\" target=\"_parent\"><img src=\"https://colab.research.google.com/assets/colab-badge.svg\" alt=\"Open In Colab\"/></a>"
      ]
    },
    {
      "cell_type": "code",
      "metadata": {
        "id": "JJpRVoG67qAS",
        "colab_type": "code",
        "outputId": "ced405ba-60b8-41dd-dc7b-77d3b455a2bc",
        "colab": {
          "base_uri": "https://localhost:8080/",
          "height": 165
        }
      },
      "source": [
        "# mount google drive & set working directory\n",
        "# requires auth (click on url & copy token into text box when prompted)\n",
        "from google.colab import drive\n",
        "drive.mount(\"/content/gdrive\")\n",
        "\n",
        "import os\n",
        "print(os.getcwd())\n",
        "\n",
        "os.chdir('/content/gdrive/My Drive/Colab Notebooks/Reinforcement-Learning-Maze-master')\n",
        "!pwd"
      ],
      "execution_count": 1,
      "outputs": [
        {
          "output_type": "stream",
          "text": [
            "Go to this URL in a browser: https://accounts.google.com/o/oauth2/auth?client_id=947318989803-6bn6qk8qdgf4n4g3pfee6491hc0brc4i.apps.googleusercontent.com&redirect_uri=urn%3Aietf%3Awg%3Aoauth%3A2.0%3Aoob&scope=email%20https%3A%2F%2Fwww.googleapis.com%2Fauth%2Fdocs.test%20https%3A%2F%2Fwww.googleapis.com%2Fauth%2Fdrive%20https%3A%2F%2Fwww.googleapis.com%2Fauth%2Fdrive.photos.readonly%20https%3A%2F%2Fwww.googleapis.com%2Fauth%2Fpeopleapi.readonly&response_type=code\n",
            "\n",
            "Enter your authorization code:\n",
            "··········\n",
            "Mounted at /content/gdrive\n",
            "/content\n",
            "/content/gdrive/My Drive/Colab Notebooks/Reinforcement-Learning-Maze-master\n"
          ],
          "name": "stdout"
        }
      ]
    },
    {
      "cell_type": "code",
      "metadata": {
        "id": "eeI5k5yj7zzQ",
        "colab_type": "code",
        "outputId": "16951fc1-1029-45a6-ed4b-1e8217e88bd4",
        "colab": {
          "base_uri": "https://localhost:8080/",
          "height": 35
        }
      },
      "source": [
        "# _URL = 'https://drive.google.com/uc?export=download&id=16rqDFLO__WySSQGlAht0FEj2uJZg4M9M'\n",
        "\n",
        "# path_to_zip = tf.keras.utils.get_file('input.zip',\n",
        "#                                       origin=_URL,\n",
        "#                                       extract=True)\n",
        "\n",
        "# working directory\n",
        "main_dir = os.getcwd()\n",
        "print(\"Working directory: \", main_dir)\n"
      ],
      "execution_count": 2,
      "outputs": [
        {
          "output_type": "stream",
          "text": [
            "Working directory:  /content/gdrive/My Drive/Colab Notebooks/Reinforcement-Learning-Maze-master\n"
          ],
          "name": "stdout"
        }
      ]
    },
    {
      "cell_type": "code",
      "metadata": {
        "id": "r_mhyJqsWeCo",
        "colab_type": "code",
        "colab": {}
      },
      "source": [
        "import matplotlib.pyplot as plt\n",
        "%matplotlib inline\n",
        "\n",
        "from environment import Maze\n",
        "from models import *\n",
        "\n",
        "logging.basicConfig(level=logging.INFO,\n",
        "                    format=\"%(levelname)s: %(asctime)s: %(message)s\",\n",
        "                    datefmt=\"%H:%M:%S\")\n",
        "\n",
        "maze = np.array([\n",
        "    [0, 1, 0, 0, 0, 0, 0, 0],\n",
        "    [0, 1, 0, 1, 0, 1, 0, 0],\n",
        "    [0, 0, 0, 1, 1, 0, 1, 0],\n",
        "    [0, 1, 0, 1, 0, 0, 0, 0],\n",
        "    [1, 0, 0, 1, 0, 1, 0, 0],\n",
        "    [0, 0, 0, 1, 0, 1, 1, 1],\n",
        "    [0, 1, 1, 0, 0, 0, 0, 0],\n",
        "    [0, 0, 0, 0, 0, 1, 0, 0]\n",
        "])  # 0 = free, 1 = occupied\n",
        "\n",
        "game = Maze(maze)"
      ],
      "execution_count": 0,
      "outputs": []
    },
    {
      "cell_type": "code",
      "metadata": {
        "id": "hrakNkUaWeFH",
        "colab_type": "code",
        "colab": {
          "base_uri": "https://localhost:8080/",
          "height": 650
        },
        "outputId": "70277860-7e32-4c50-9d1f-cef17c34868b"
      },
      "source": [
        "if 0:  # only show the maze\n",
        "    game.render(\"moves\")\n",
        "    game.reset()\n",
        "\n",
        "if 0:  # play using random model\n",
        "    model = RandomModel(game)\n",
        "    model.train()\n",
        "\n",
        "if 0:  # train using tabular Q-learning\n",
        "    model = QTableModel(game, name=\"QTableModel\")\n",
        "    h, w, _, _ = model.train(discount=0.90, exploration_rate=0.10, learning_rate=0.10, episodes=200)\n",
        "\n",
        "if 0:  # train using tabular Q-learning and an eligibility trace (aka TD-lamba)\n",
        "    model = QTableTraceModel(game)\n",
        "    h, w, _, _ = model.train(discount=0.90, exploration_rate=0.10, learning_rate=0.10, episodes=200)\n",
        "\n",
        "if 0:  # train using tabular SARSA learning\n",
        "    model = SarsaTableModel(game)\n",
        "    h, w, _, _ = model.train(discount=0.90, exploration_rate=0.10, learning_rate=0.10, episodes=200)\n",
        "\n",
        "if 1:  # train using tabular SARSA learning and an eligibility trace\n",
        "    game.render(\"training\")  # shows all moves and the q table; nice but slow.\n",
        "    model = SarsaTableTraceModel(game)\n",
        "    h, w, _, _ = model.train(discount=0.90, exploration_rate=0.10, learning_rate=0.10, episodes=200)\n",
        "\n",
        "if 0:  # train using a neural network with experience replay (also saves the resulting model)\n",
        "    model = QReplayNetworkModel(game)\n",
        "    h, w, _, _ = model.train(discount=0.80, exploration_rate=0.10, episodes=maze.size * 10, max_memory=maze.size * 4)"
      ],
      "execution_count": 0,
      "outputs": [
        {
          "output_type": "stream",
          "text": [
            "/usr/local/lib/python3.6/dist-packages/matplotlib/figure.py:2369: UserWarning: This figure includes Axes that are not compatible with tight_layout, so results might be incorrect.\n",
            "  warnings.warn(\"This figure includes Axes that are not compatible \"\n"
          ],
          "name": "stderr"
        },
        {
          "output_type": "display_data",
          "data": {
            "image/png": "[encoded data removed]",
            "text/plain": [
              "<Figure size 432x288 with 1 Axes>"
            ]
          },
          "metadata": {
            "tags": []
          }
        },
        {
          "output_type": "display_data",
          "data": {
            "image/png": "[encoded data removed]",
            "text/plain": [
              "<Figure size 432x288 with 1 Axes>"
            ]
          },
          "metadata": {
            "tags": []
          }
        },
        {
          "output_type": "stream",
          "text": [
            "INFO: 17:03:42: episode: 1/200 | status: win  | e: 0.10000\n",
            "INFO: 17:03:44: episode: 2/200 | status: win  | e: 0.09950\n",
            "INFO: 17:03:58: episode: 3/200 | status: lose | e: 0.09900\n",
            "INFO: 17:04:02: episode: 4/200 | status: win  | e: 0.09851\n",
            "INFO: 17:04:14: episode: 5/200 | status: lose | e: 0.09801\n",
            "INFO: 17:04:15: won: 10 | lost: 34 | win rate: 0.22727\n",
            "INFO: 17:04:17: episode: 6/200 | status: win  | e: 0.09752\n",
            "INFO: 17:04:30: episode: 7/200 | status: win  | e: 0.09704\n",
            "INFO: 17:04:32: episode: 8/200 | status: win  | e: 0.09655\n",
            "INFO: 17:04:44: episode: 9/200 | status: lose | e: 0.09607\n",
            "INFO: 17:04:57: episode: 10/200 | status: lose | e: 0.09559\n",
            "INFO: 17:04:58: won: 14 | lost: 30 | win rate: 0.31818\n"
          ],
          "name": "stderr"
        }
      ]
    },
    {
      "cell_type": "code",
      "metadata": {
        "id": "nEFAXkWhw_If",
        "colab_type": "code",
        "colab": {}
      },
      "source": [
        "try:\n",
        "    h  # force a NameError exception if h does not exist (and thus don't try to show win rate and cumulative reward)\n",
        "    fig, (ax1, ax2) = plt.subplots(2, 1, tight_layout=True)\n",
        "    fig.canvas.set_window_title(model.name)\n",
        "    ax1.plot(*zip(*w))\n",
        "    ax1.set_xlabel(\"episode\")\n",
        "    ax1.set_ylabel(\"win rate\")\n",
        "    ax2.plot(h)\n",
        "    ax2.set_xlabel(\"episode\")\n",
        "    ax2.set_ylabel(\"cumulative reward\")\n",
        "    plt.show()\n",
        "except NameError:\n",
        "    pass"
      ],
      "execution_count": 0,
      "outputs": []
    },
    {
      "cell_type": "code",
      "metadata": {
        "id": "2ubhEe1bxC19",
        "colab_type": "code",
        "colab": {}
      },
      "source": [
        "if 0:  # load a previously trained model\n",
        "    model = QReplayNetworkModel(game, load=True)\n",
        "\n",
        "if 0:  # compare learning speed (cumulative rewards and win rate) of several models in a diagram\n",
        "    rhist = list()\n",
        "    whist = list()\n",
        "    names = list()\n",
        "\n",
        "    models = [0, 1, 2, 3, 4]\n",
        "\n",
        "    for model_id in models:\n",
        "        logging.disable(logging.WARNING)\n",
        "        if model_id == 0:\n",
        "            model = QTableModel(game, name=\"QTableModel\")\n",
        "        elif model_id == 1:\n",
        "            model = SarsaTableModel(game, name=\"SarsaTableModel\")\n",
        "        elif model_id == 2:\n",
        "            model = QTableTraceModel(game, name=\"QTableTraceModel\")\n",
        "        elif model_id == 3:\n",
        "            model = SarsaTableTraceModel(game, name=\"SarsaTableTraceModel\")\n",
        "        elif model_id == 4:\n",
        "            model = QReplayNetworkModel(game, name=\"QReplayNetworkModel\")\n",
        "\n",
        "        r, w, _, _ = model.train(discount=0.90, exploration_rate=0.10, exploration_decay=0.999, learning_rate=0.10,\n",
        "                                 episodes=300)\n",
        "        rhist.append(r)\n",
        "        whist.append(w)\n",
        "        names.append(model.name)\n",
        "\n",
        "    f, (rhist_ax, whist_ax) = plt.subplots(2, len(models), sharex=\"row\", sharey=\"row\", tight_layout=True)\n",
        "\n",
        "    for i in range(len(rhist)):\n",
        "        rhist_ax[i].set_title(names[i])\n",
        "        rhist_ax[i].set_ylabel(\"cumulative reward\")\n",
        "        rhist_ax[i].plot(rhist[i])\n",
        "\n",
        "    for i in range(len(whist)):\n",
        "        whist_ax[i].set_xlabel(\"episode\")\n",
        "        whist_ax[i].set_ylabel(\"win rate\")\n",
        "        whist_ax[i].plot(*zip(*(whist[i])))\n",
        "\n",
        "    plt.show()\n"
      ],
      "execution_count": 0,
      "outputs": []
    },
    {
      "cell_type": "code",
      "metadata": {
        "id": "JmsbpSyNxGcJ",
        "colab_type": "code",
        "colab": {}
      },
      "source": [
        "if 0:  # run a number of training episodes and plot the training time and episodes needed in histograms (time consuming)\n",
        "    runs = 10\n",
        "\n",
        "    epi = list()\n",
        "    nme = list()\n",
        "    sec = list()\n",
        "\n",
        "    models = [0, 1, 2, 3, 4]\n",
        "\n",
        "    for model_id in models:\n",
        "        episodes = list()\n",
        "        seconds = list()\n",
        "\n",
        "        logging.disable(logging.WARNING)\n",
        "        for r in range(runs):\n",
        "            if model_id == 0:\n",
        "                model = QTableModel(game, name=\"QTableModel\")\n",
        "            elif model_id == 1:\n",
        "                model = SarsaTableModel(game, name=\"SarsaTableModel\")\n",
        "            elif model_id == 2:\n",
        "                model = QTableTraceModel(game, name=\"QTableTraceModel\")\n",
        "            elif model_id == 3:\n",
        "                model = SarsaTableTraceModel(game, name=\"SarsaTableTraceModel\")\n",
        "            elif model_id == 4:\n",
        "                model = QReplayNetworkModel(game, name=\"QReplayNetworkModel\")\n",
        "\n",
        "            _, _, e, s = model.train(stop_at_convergence=True, discount=0.90, exploration_rate=0.10,\n",
        "                                     exploration_decay=0.999, learning_rate=0.10, episodes=1000)\n",
        "\n",
        "            print(e, s)\n",
        "\n",
        "            episodes.append(e)\n",
        "            seconds.append(s.seconds)\n",
        "\n",
        "        logging.disable(logging.NOTSET)\n",
        "        logging.info(\"model: {} | trained {} times | average no of episodes: {}| average training time {}\"\n",
        "                     .format(model.name, runs, np.average(episodes), np.sum(seconds) / len(seconds)))\n",
        "\n",
        "        epi.append(episodes)\n",
        "        sec.append(seconds)\n",
        "        nme.append(model.name)\n",
        "\n",
        "    f, (epi_ax, sec_ax) = plt.subplots(2, len(models), sharex=\"row\", sharey=\"row\", tight_layout=True)\n",
        "\n",
        "    for i in range(len(epi)):\n",
        "        epi_ax[i].set_title(nme[i])\n",
        "        epi_ax[i].set_xlabel(\"training episodes\")\n",
        "        epi_ax[i].hist(epi[i], edgecolor=\"black\")\n",
        "\n",
        "    for i in range(len(sec)):\n",
        "        sec_ax[i].set_xlabel(\"seconds per episode\")\n",
        "        sec_ax[i].hist(sec[i], edgecolor=\"black\")\n",
        "\n",
        "    plt.show()"
      ],
      "execution_count": 0,
      "outputs": []
    },
    {
      "cell_type": "code",
      "metadata": {
        "id": "S8GAZZ8DxKfc",
        "colab_type": "code",
        "colab": {}
      },
      "source": [
        "game.render(\"moves\")\n",
        "game.play(model, start_cell=(0, 0))\n",
        "# game.play(model, start_cell=(2, 5))\n",
        "# game.play(model, start_cell=(4, 1))\n",
        "\n",
        "plt.show()  # must be placed here else the image disappears immediately at the end of the program"
      ],
      "execution_count": 0,
      "outputs": []
    },
    {
      "cell_type": "code",
      "metadata": {
        "id": "V51DaaBoxMmP",
        "colab_type": "code",
        "colab": {}
      },
      "source": [
        "maze = np.array([\n",
        "    [0, 0, 1, 2, 1, 0, 0, 0],\n",
        "    [0, 0, 1, 2, 1, 0, 0, 0],\n",
        "    [1, 1, 1, 2, 1, 1, 1, 1],\n",
        "    [2, 2, 2, 2, 2, 2, 2, 2],\n",
        "    [1, 1, 1, 2, 1, 1, 1, 1],\n",
        "    [0, 0, 1, 2, 1, 0, 0, 0],\n",
        "    [0, 0, 1, 2, 1, 0, 0, 0],\n",
        "    [0, 0, 1, 2, 1, 0, 0, 0]\n",
        "])  # 0 = free, 1 = occupied\n",
        "\n",
        "game = Maze(maze)"
      ],
      "execution_count": 0,
      "outputs": []
    },
    {
      "cell_type": "code",
      "metadata": {
        "id": "G0IwkHOC02AN",
        "colab_type": "code",
        "colab": {}
      },
      "source": [
        ""
      ],
      "execution_count": 0,
      "outputs": []
    }
  ]
}